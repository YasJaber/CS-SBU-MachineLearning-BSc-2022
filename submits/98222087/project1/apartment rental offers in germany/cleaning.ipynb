{
 "cells": [
  {
   "cell_type": "code",
   "execution_count": 20,
   "metadata": {},
   "outputs": [],
   "source": [
    "import  numpy as np\n",
    "import pandas as pd\n",
    "import matplotlib.pyplot as plt\n",
    "import seaborn as sns\n",
    "from scipy import stats\n",
    "import time\n",
    "\n",
    "%matplotlib inline\n",
    "sns.set_style(\"dark\")\n",
    "sns.set(rc={'figure.figsize':(12,8)})\n",
    "pd.set_option('display.max_columns', None)\n",
    "\n",
    "import warnings\n",
    "warnings.filterwarnings('ignore')"
   ]
  },
  {
   "cell_type": "code",
   "execution_count": 21,
   "metadata": {},
   "outputs": [
    {
     "data": {
      "text/html": [
       "<div>\n",
       "<style scoped>\n",
       "    .dataframe tbody tr th:only-of-type {\n",
       "        vertical-align: middle;\n",
       "    }\n",
       "\n",
       "    .dataframe tbody tr th {\n",
       "        vertical-align: top;\n",
       "    }\n",
       "\n",
       "    .dataframe thead th {\n",
       "        text-align: right;\n",
       "    }\n",
       "</style>\n",
       "<table border=\"1\" class=\"dataframe\">\n",
       "  <thead>\n",
       "    <tr style=\"text-align: right;\">\n",
       "      <th></th>\n",
       "      <th>regio1</th>\n",
       "      <th>serviceCharge</th>\n",
       "      <th>heatingType</th>\n",
       "      <th>telekomTvOffer</th>\n",
       "      <th>telekomHybridUploadSpeed</th>\n",
       "      <th>newlyConst</th>\n",
       "      <th>balcony</th>\n",
       "      <th>picturecount</th>\n",
       "      <th>pricetrend</th>\n",
       "      <th>telekomUploadSpeed</th>\n",
       "      <th>totalRent</th>\n",
       "      <th>yearConstructed</th>\n",
       "      <th>scoutId</th>\n",
       "      <th>noParkSpaces</th>\n",
       "      <th>firingTypes</th>\n",
       "      <th>hasKitchen</th>\n",
       "      <th>geo_bln</th>\n",
       "      <th>cellar</th>\n",
       "      <th>yearConstructedRange</th>\n",
       "      <th>baseRent</th>\n",
       "      <th>houseNumber</th>\n",
       "      <th>livingSpace</th>\n",
       "      <th>geo_krs</th>\n",
       "      <th>condition</th>\n",
       "      <th>interiorQual</th>\n",
       "      <th>petsAllowed</th>\n",
       "      <th>street</th>\n",
       "      <th>streetPlain</th>\n",
       "      <th>lift</th>\n",
       "      <th>baseRentRange</th>\n",
       "      <th>typeOfFlat</th>\n",
       "      <th>geo_plz</th>\n",
       "      <th>noRooms</th>\n",
       "      <th>thermalChar</th>\n",
       "      <th>floor</th>\n",
       "      <th>numberOfFloors</th>\n",
       "      <th>noRoomsRange</th>\n",
       "      <th>garden</th>\n",
       "      <th>livingSpaceRange</th>\n",
       "      <th>regio2</th>\n",
       "      <th>regio3</th>\n",
       "      <th>description</th>\n",
       "      <th>facilities</th>\n",
       "      <th>heatingCosts</th>\n",
       "      <th>energyEfficiencyClass</th>\n",
       "      <th>lastRefurbish</th>\n",
       "      <th>electricityBasePrice</th>\n",
       "      <th>electricityKwhPrice</th>\n",
       "      <th>date</th>\n",
       "    </tr>\n",
       "  </thead>\n",
       "  <tbody>\n",
       "    <tr>\n",
       "      <th>0</th>\n",
       "      <td>Nordrhein_Westfalen</td>\n",
       "      <td>245.0</td>\n",
       "      <td>central_heating</td>\n",
       "      <td>ONE_YEAR_FREE</td>\n",
       "      <td>NaN</td>\n",
       "      <td>False</td>\n",
       "      <td>False</td>\n",
       "      <td>6</td>\n",
       "      <td>4.62</td>\n",
       "      <td>10.0</td>\n",
       "      <td>840.0</td>\n",
       "      <td>1965.0</td>\n",
       "      <td>96107057</td>\n",
       "      <td>1.0</td>\n",
       "      <td>oil</td>\n",
       "      <td>False</td>\n",
       "      <td>Nordrhein_Westfalen</td>\n",
       "      <td>True</td>\n",
       "      <td>2.0</td>\n",
       "      <td>595.0</td>\n",
       "      <td>244</td>\n",
       "      <td>86.0</td>\n",
       "      <td>Dortmund</td>\n",
       "      <td>well_kept</td>\n",
       "      <td>normal</td>\n",
       "      <td>NaN</td>\n",
       "      <td>Sch&amp;uuml;ruferstra&amp;szlig;e</td>\n",
       "      <td>Schüruferstraße</td>\n",
       "      <td>False</td>\n",
       "      <td>4</td>\n",
       "      <td>ground_floor</td>\n",
       "      <td>44269</td>\n",
       "      <td>4.0</td>\n",
       "      <td>181.4</td>\n",
       "      <td>1.0</td>\n",
       "      <td>3.0</td>\n",
       "      <td>4</td>\n",
       "      <td>True</td>\n",
       "      <td>4</td>\n",
       "      <td>Dortmund</td>\n",
       "      <td>Schüren</td>\n",
       "      <td>Die ebenerdig zu erreichende Erdgeschosswohnun...</td>\n",
       "      <td>Die Wohnung ist mit Laminat ausgelegt. Das Bad...</td>\n",
       "      <td>NaN</td>\n",
       "      <td>NaN</td>\n",
       "      <td>NaN</td>\n",
       "      <td>NaN</td>\n",
       "      <td>NaN</td>\n",
       "      <td>May19</td>\n",
       "    </tr>\n",
       "  </tbody>\n",
       "</table>\n",
       "</div>"
      ],
      "text/plain": [
       "                regio1  serviceCharge      heatingType telekomTvOffer  \\\n",
       "0  Nordrhein_Westfalen          245.0  central_heating  ONE_YEAR_FREE   \n",
       "\n",
       "   telekomHybridUploadSpeed  newlyConst  balcony  picturecount  pricetrend  \\\n",
       "0                       NaN       False    False             6        4.62   \n",
       "\n",
       "   telekomUploadSpeed  totalRent  yearConstructed   scoutId  noParkSpaces  \\\n",
       "0                10.0      840.0           1965.0  96107057           1.0   \n",
       "\n",
       "  firingTypes  hasKitchen              geo_bln  cellar  yearConstructedRange  \\\n",
       "0         oil       False  Nordrhein_Westfalen    True                   2.0   \n",
       "\n",
       "   baseRent houseNumber  livingSpace   geo_krs  condition interiorQual  \\\n",
       "0     595.0         244         86.0  Dortmund  well_kept       normal   \n",
       "\n",
       "  petsAllowed                      street      streetPlain   lift  \\\n",
       "0         NaN  Sch&uuml;ruferstra&szlig;e  Schüruferstraße  False   \n",
       "\n",
       "   baseRentRange    typeOfFlat  geo_plz  noRooms  thermalChar  floor  \\\n",
       "0              4  ground_floor    44269      4.0        181.4    1.0   \n",
       "\n",
       "   numberOfFloors  noRoomsRange  garden  livingSpaceRange    regio2   regio3  \\\n",
       "0             3.0             4    True                 4  Dortmund  Schüren   \n",
       "\n",
       "                                         description  \\\n",
       "0  Die ebenerdig zu erreichende Erdgeschosswohnun...   \n",
       "\n",
       "                                          facilities  heatingCosts  \\\n",
       "0  Die Wohnung ist mit Laminat ausgelegt. Das Bad...           NaN   \n",
       "\n",
       "  energyEfficiencyClass  lastRefurbish  electricityBasePrice  \\\n",
       "0                   NaN            NaN                   NaN   \n",
       "\n",
       "   electricityKwhPrice   date  \n",
       "0                  NaN  May19  "
      ]
     },
     "execution_count": 21,
     "metadata": {},
     "output_type": "execute_result"
    }
   ],
   "source": [
    "df = pd.read_csv(\"data/immo_data.csv\")\n",
    "df.head(1)"
   ]
  },
  {
   "cell_type": "code",
   "execution_count": 34,
   "metadata": {},
   "outputs": [],
   "source": [
    "df_dask_copy = df.copy(deep=True)\n",
    "df_multiprocess = df.copy(deep=True)"
   ]
  },
  {
   "cell_type": "code",
   "execution_count": 4,
   "metadata": {},
   "outputs": [
    {
     "name": "stdout",
     "output_type": "stream",
     "text": [
      "<class 'pandas.core.frame.DataFrame'>\n",
      "RangeIndex: 268850 entries, 0 to 268849\n",
      "Data columns (total 49 columns):\n",
      " #   Column                    Non-Null Count   Dtype  \n",
      "---  ------                    --------------   -----  \n",
      " 0   regio1                    268850 non-null  object \n",
      " 1   serviceCharge             261941 non-null  float64\n",
      " 2   heatingType               223994 non-null  object \n",
      " 3   telekomTvOffer            236231 non-null  object \n",
      " 4   telekomHybridUploadSpeed  45020 non-null   float64\n",
      " 5   newlyConst                268850 non-null  bool   \n",
      " 6   balcony                   268850 non-null  bool   \n",
      " 7   picturecount              268850 non-null  int64  \n",
      " 8   pricetrend                267018 non-null  float64\n",
      " 9   telekomUploadSpeed        235492 non-null  float64\n",
      " 10  totalRent                 228333 non-null  float64\n",
      " 11  yearConstructed           211805 non-null  float64\n",
      " 12  scoutId                   268850 non-null  int64  \n",
      " 13  noParkSpaces              93052 non-null   float64\n",
      " 14  firingTypes               211886 non-null  object \n",
      " 15  hasKitchen                268850 non-null  bool   \n",
      " 16  geo_bln                   268850 non-null  object \n",
      " 17  cellar                    268850 non-null  bool   \n",
      " 18  yearConstructedRange      211805 non-null  float64\n",
      " 19  baseRent                  268850 non-null  float64\n",
      " 20  houseNumber               197832 non-null  object \n",
      " 21  livingSpace               268850 non-null  float64\n",
      " 22  geo_krs                   268850 non-null  object \n",
      " 23  condition                 200361 non-null  object \n",
      " 24  interiorQual              156185 non-null  object \n",
      " 25  petsAllowed               154277 non-null  object \n",
      " 26  street                    268850 non-null  object \n",
      " 27  streetPlain               197837 non-null  object \n",
      " 28  lift                      268850 non-null  bool   \n",
      " 29  baseRentRange             268850 non-null  int64  \n",
      " 30  typeOfFlat                232236 non-null  object \n",
      " 31  geo_plz                   268850 non-null  int64  \n",
      " 32  noRooms                   268850 non-null  float64\n",
      " 33  thermalChar               162344 non-null  float64\n",
      " 34  floor                     217541 non-null  float64\n",
      " 35  numberOfFloors            171118 non-null  float64\n",
      " 36  noRoomsRange              268850 non-null  int64  \n",
      " 37  garden                    268850 non-null  bool   \n",
      " 38  livingSpaceRange          268850 non-null  int64  \n",
      " 39  regio2                    268850 non-null  object \n",
      " 40  regio3                    268850 non-null  object \n",
      " 41  description               249103 non-null  object \n",
      " 42  facilities                215926 non-null  object \n",
      " 43  heatingCosts              85518 non-null   float64\n",
      " 44  energyEfficiencyClass     77787 non-null   object \n",
      " 45  lastRefurbish             80711 non-null   float64\n",
      " 46  electricityBasePrice      46846 non-null   float64\n",
      " 47  electricityKwhPrice       46846 non-null   float64\n",
      " 48  date                      268850 non-null  object \n",
      "dtypes: bool(6), float64(18), int64(6), object(19)\n",
      "memory usage: 89.7+ MB\n"
     ]
    }
   ],
   "source": [
    "df.info()"
   ]
  },
  {
   "cell_type": "code",
   "execution_count": 8,
   "metadata": {},
   "outputs": [
    {
     "data": {
      "text/plain": [
       "regio1                       0.000000\n",
       "serviceCharge                2.569834\n",
       "heatingType                 16.684397\n",
       "telekomTvOffer              12.132788\n",
       "telekomHybridUploadSpeed    83.254603\n",
       "newlyConst                   0.000000\n",
       "balcony                      0.000000\n",
       "picturecount                 0.000000\n",
       "pricetrend                   0.681421\n",
       "telekomUploadSpeed          12.407662\n",
       "totalRent                   15.070485\n",
       "yearConstructed             21.218151\n",
       "scoutId                      0.000000\n",
       "noParkSpaces                65.388879\n",
       "firingTypes                 21.188023\n",
       "hasKitchen                   0.000000\n",
       "geo_bln                      0.000000\n",
       "cellar                       0.000000\n",
       "yearConstructedRange        21.218151\n",
       "baseRent                     0.000000\n",
       "houseNumber                 26.415473\n",
       "livingSpace                  0.000000\n",
       "geo_krs                      0.000000\n",
       "condition                   25.474800\n",
       "interiorQual                41.906267\n",
       "petsAllowed                 42.615957\n",
       "street                       0.000000\n",
       "streetPlain                 26.413614\n",
       "lift                         0.000000\n",
       "baseRentRange                0.000000\n",
       "typeOfFlat                  13.618747\n",
       "geo_plz                      0.000000\n",
       "noRooms                      0.000000\n",
       "thermalChar                 39.615399\n",
       "floor                       19.084620\n",
       "numberOfFloors              36.351869\n",
       "noRoomsRange                 0.000000\n",
       "garden                       0.000000\n",
       "livingSpaceRange             0.000000\n",
       "regio2                       0.000000\n",
       "regio3                       0.000000\n",
       "description                  7.344988\n",
       "facilities                  19.685326\n",
       "heatingCosts                68.191185\n",
       "energyEfficiencyClass       71.066766\n",
       "lastRefurbish               69.979171\n",
       "electricityBasePrice        82.575414\n",
       "electricityKwhPrice         82.575414\n",
       "date                         0.000000\n",
       "dtype: float64"
      ]
     },
     "execution_count": 8,
     "metadata": {},
     "output_type": "execute_result"
    }
   ],
   "source": [
    "(df.isna().sum() / len(df)) * 100"
   ]
  },
  {
   "cell_type": "code",
   "execution_count": 140,
   "metadata": {},
   "outputs": [
    {
     "data": {
      "text/html": [
       "<div>\n",
       "<style scoped>\n",
       "    .dataframe tbody tr th:only-of-type {\n",
       "        vertical-align: middle;\n",
       "    }\n",
       "\n",
       "    .dataframe tbody tr th {\n",
       "        vertical-align: top;\n",
       "    }\n",
       "\n",
       "    .dataframe thead th {\n",
       "        text-align: right;\n",
       "    }\n",
       "</style>\n",
       "<table border=\"1\" class=\"dataframe\">\n",
       "  <thead>\n",
       "    <tr style=\"text-align: right;\">\n",
       "      <th></th>\n",
       "      <th>regio1</th>\n",
       "      <th>heatingType</th>\n",
       "      <th>telekomTvOffer</th>\n",
       "      <th>firingTypes</th>\n",
       "      <th>geo_bln</th>\n",
       "      <th>houseNumber</th>\n",
       "      <th>geo_krs</th>\n",
       "      <th>condition</th>\n",
       "      <th>interiorQual</th>\n",
       "      <th>petsAllowed</th>\n",
       "      <th>street</th>\n",
       "      <th>streetPlain</th>\n",
       "      <th>typeOfFlat</th>\n",
       "      <th>regio2</th>\n",
       "      <th>regio3</th>\n",
       "      <th>description</th>\n",
       "      <th>facilities</th>\n",
       "      <th>energyEfficiencyClass</th>\n",
       "      <th>date</th>\n",
       "    </tr>\n",
       "  </thead>\n",
       "  <tbody>\n",
       "    <tr>\n",
       "      <th>count</th>\n",
       "      <td>268850</td>\n",
       "      <td>223994</td>\n",
       "      <td>236231</td>\n",
       "      <td>211886</td>\n",
       "      <td>268850</td>\n",
       "      <td>197832</td>\n",
       "      <td>268850</td>\n",
       "      <td>200361</td>\n",
       "      <td>156185</td>\n",
       "      <td>154277</td>\n",
       "      <td>268850</td>\n",
       "      <td>197837</td>\n",
       "      <td>232236</td>\n",
       "      <td>268850</td>\n",
       "      <td>268850</td>\n",
       "      <td>249103</td>\n",
       "      <td>215926</td>\n",
       "      <td>77787</td>\n",
       "      <td>268850</td>\n",
       "    </tr>\n",
       "    <tr>\n",
       "      <th>unique</th>\n",
       "      <td>16</td>\n",
       "      <td>13</td>\n",
       "      <td>3</td>\n",
       "      <td>132</td>\n",
       "      <td>16</td>\n",
       "      <td>5510</td>\n",
       "      <td>419</td>\n",
       "      <td>10</td>\n",
       "      <td>4</td>\n",
       "      <td>3</td>\n",
       "      <td>52373</td>\n",
       "      <td>54490</td>\n",
       "      <td>10</td>\n",
       "      <td>419</td>\n",
       "      <td>8684</td>\n",
       "      <td>212621</td>\n",
       "      <td>189526</td>\n",
       "      <td>10</td>\n",
       "      <td>4</td>\n",
       "    </tr>\n",
       "    <tr>\n",
       "      <th>top</th>\n",
       "      <td>Nordrhein_Westfalen</td>\n",
       "      <td>central_heating</td>\n",
       "      <td>ONE_YEAR_FREE</td>\n",
       "      <td>gas</td>\n",
       "      <td>Nordrhein_Westfalen</td>\n",
       "      <td>1</td>\n",
       "      <td>Leipzig</td>\n",
       "      <td>well_kept</td>\n",
       "      <td>normal</td>\n",
       "      <td>negotiable</td>\n",
       "      <td>no_information</td>\n",
       "      <td>Hauptstraße</td>\n",
       "      <td>apartment</td>\n",
       "      <td>Leipzig</td>\n",
       "      <td>Innenstadt</td>\n",
       "      <td>+ MEIN GUENTZ - Quartier der Generationen\\r\\n+ bis 2020 ...</td>\n",
       "      <td>Laminat</td>\n",
       "      <td>C</td>\n",
       "      <td>Feb20</td>\n",
       "    </tr>\n",
       "    <tr>\n",
       "      <th>freq</th>\n",
       "      <td>62863</td>\n",
       "      <td>128977</td>\n",
       "      <td>227632</td>\n",
       "      <td>110899</td>\n",
       "      <td>62863</td>\n",
       "      <td>7173</td>\n",
       "      <td>13723</td>\n",
       "      <td>66591</td>\n",
       "      <td>81826</td>\n",
       "      <td>91970</td>\n",
       "      <td>71013</td>\n",
       "      <td>911</td>\n",
       "      <td>131522</td>\n",
       "      <td>13723</td>\n",
       "      <td>4751</td>\n",
       "      <td>216</td>\n",
       "      <td>207</td>\n",
       "      <td>14613</td>\n",
       "      <td>79276</td>\n",
       "    </tr>\n",
       "  </tbody>\n",
       "</table>\n",
       "</div>"
      ],
      "text/plain": [
       "                     regio1      heatingType telekomTvOffer firingTypes  \\\n",
       "count                268850           223994         236231      211886   \n",
       "unique                   16               13              3         132   \n",
       "top     Nordrhein_Westfalen  central_heating  ONE_YEAR_FREE         gas   \n",
       "freq                  62863           128977         227632      110899   \n",
       "\n",
       "                    geo_bln houseNumber  geo_krs  condition interiorQual  \\\n",
       "count                268850      197832   268850     200361       156185   \n",
       "unique                   16        5510      419         10            4   \n",
       "top     Nordrhein_Westfalen           1  Leipzig  well_kept       normal   \n",
       "freq                  62863        7173    13723      66591        81826   \n",
       "\n",
       "       petsAllowed          street  streetPlain typeOfFlat   regio2  \\\n",
       "count       154277          268850       197837     232236   268850   \n",
       "unique           3           52373        54490         10      419   \n",
       "top     negotiable  no_information  Hauptstraße  apartment  Leipzig   \n",
       "freq         91970           71013          911     131522    13723   \n",
       "\n",
       "            regio3  \\\n",
       "count       268850   \n",
       "unique        8684   \n",
       "top     Innenstadt   \n",
       "freq          4751   \n",
       "\n",
       "                                                        description  \\\n",
       "count                                                        249103   \n",
       "unique                                                       212621   \n",
       "top     + MEIN GUENTZ - Quartier der Generationen\\r\\n+ bis 2020 ...   \n",
       "freq                                                            216   \n",
       "\n",
       "       facilities energyEfficiencyClass    date  \n",
       "count      215926                 77787  268850  \n",
       "unique     189526                    10       4  \n",
       "top       Laminat                     C   Feb20  \n",
       "freq          207                 14613   79276  "
      ]
     },
     "execution_count": 140,
     "metadata": {},
     "output_type": "execute_result"
    }
   ],
   "source": [
    "df.describe(include='object')"
   ]
  },
  {
   "cell_type": "code",
   "execution_count": 68,
   "metadata": {},
   "outputs": [
    {
     "name": "stdout",
     "output_type": "stream",
     "text": [
      "True\n",
      "True\n"
     ]
    }
   ],
   "source": [
    "print(df['geo_krs'].equals(df['regio2'])) # we will drop geo_krs\n",
    "print(df['geo_bln'].equals(df['regio1'])) # we will drop geo_bln"
   ]
  },
  {
   "cell_type": "code",
   "execution_count": 95,
   "metadata": {},
   "outputs": [
    {
     "data": {
      "text/html": [
       "<div>\n",
       "<style scoped>\n",
       "    .dataframe tbody tr th:only-of-type {\n",
       "        vertical-align: middle;\n",
       "    }\n",
       "\n",
       "    .dataframe tbody tr th {\n",
       "        vertical-align: top;\n",
       "    }\n",
       "\n",
       "    .dataframe thead th {\n",
       "        text-align: right;\n",
       "    }\n",
       "</style>\n",
       "<table border=\"1\" class=\"dataframe\">\n",
       "  <thead>\n",
       "    <tr style=\"text-align: right;\">\n",
       "      <th></th>\n",
       "      <th>streetPlain</th>\n",
       "      <th>street</th>\n",
       "    </tr>\n",
       "  </thead>\n",
       "  <tbody>\n",
       "    <tr>\n",
       "      <th>0</th>\n",
       "      <td>Schüruferstraße</td>\n",
       "      <td>Sch&amp;uuml;ruferstra&amp;szlig;e</td>\n",
       "    </tr>\n",
       "    <tr>\n",
       "      <th>1</th>\n",
       "      <td>NaN</td>\n",
       "      <td>no_information</td>\n",
       "    </tr>\n",
       "    <tr>\n",
       "      <th>2</th>\n",
       "      <td>Turnerweg</td>\n",
       "      <td>Turnerweg</td>\n",
       "    </tr>\n",
       "    <tr>\n",
       "      <th>3</th>\n",
       "      <td>Glück-Auf-Straße</td>\n",
       "      <td>Gl&amp;uuml;ck-Auf-Stra&amp;szlig;e</td>\n",
       "    </tr>\n",
       "    <tr>\n",
       "      <th>4</th>\n",
       "      <td>Hermann-Henrich-Meier-Allee</td>\n",
       "      <td>Hermann-Henrich-Meier-Allee</td>\n",
       "    </tr>\n",
       "    <tr>\n",
       "      <th>...</th>\n",
       "      <td>...</td>\n",
       "      <td>...</td>\n",
       "    </tr>\n",
       "    <tr>\n",
       "      <th>268845</th>\n",
       "      <td>NaN</td>\n",
       "      <td>no_information</td>\n",
       "    </tr>\n",
       "    <tr>\n",
       "      <th>268846</th>\n",
       "      <td>NaN</td>\n",
       "      <td>no_information</td>\n",
       "    </tr>\n",
       "    <tr>\n",
       "      <th>268847</th>\n",
       "      <td>Emsbachstrasse</td>\n",
       "      <td>Emsbachstrasse</td>\n",
       "    </tr>\n",
       "    <tr>\n",
       "      <th>268848</th>\n",
       "      <td>Idastraße</td>\n",
       "      <td>Idastra&amp;szlig;e</td>\n",
       "    </tr>\n",
       "    <tr>\n",
       "      <th>268849</th>\n",
       "      <td>Robert-Dißmann-Str.</td>\n",
       "      <td>Robert-Di&amp;szlig;mann-Str.</td>\n",
       "    </tr>\n",
       "  </tbody>\n",
       "</table>\n",
       "<p>268850 rows × 2 columns</p>\n",
       "</div>"
      ],
      "text/plain": [
       "                        streetPlain                       street\n",
       "0                   Schüruferstraße   Sch&uuml;ruferstra&szlig;e\n",
       "1                               NaN               no_information\n",
       "2                         Turnerweg                    Turnerweg\n",
       "3                  Glück-Auf-Straße  Gl&uuml;ck-Auf-Stra&szlig;e\n",
       "4       Hermann-Henrich-Meier-Allee  Hermann-Henrich-Meier-Allee\n",
       "...                             ...                          ...\n",
       "268845                          NaN               no_information\n",
       "268846                          NaN               no_information\n",
       "268847               Emsbachstrasse               Emsbachstrasse\n",
       "268848                    Idastraße              Idastra&szlig;e\n",
       "268849          Robert-Dißmann-Str.    Robert-Di&szlig;mann-Str.\n",
       "\n",
       "[268850 rows x 2 columns]"
      ]
     },
     "execution_count": 95,
     "metadata": {},
     "output_type": "execute_result"
    }
   ],
   "source": [
    "df[['streetPlain', 'street']] # we will drop street"
   ]
  },
  {
   "cell_type": "code",
   "execution_count": 132,
   "metadata": {},
   "outputs": [
    {
     "data": {
      "text/plain": [
       "Text(0, 0.5, 'Count')"
      ]
     },
     "execution_count": 132,
     "metadata": {},
     "output_type": "execute_result"
    },
    {
     "data": {
      "image/png": "[encoded data removed]",
      "text/plain": [
       "<Figure size 900x468 with 2 Axes>"
      ]
     },
     "metadata": {},
     "output_type": "display_data"
    }
   ],
   "source": [
    "fig, (ax1, ax2) = plt.subplots(nrows=1, ncols=2, sharey=False)\n",
    "fig.set_size_inches(12.5, 6.5)\n",
    "fig.suptitle('Number of rooms in two different feature histogram', fontsize=16)\n",
    "\n",
    "df['noRooms'].hist(ax=ax1)\n",
    "ax1.set_xlabel(\"Number of rooms\")\n",
    "ax1.set_ylabel(\"Count\")\n",
    "\n",
    "df['noRoomsRange'].hist(ax=ax2)\n",
    "ax2.set_xlabel(\"Number of rooms bindded in to 5 cats\")\n",
    "ax2.set_ylabel(\"Count\")\n",
    "\n",
    "# we will drop noRooms and noRooms bigger than 10 because it seems that there \n",
    "# are most likely outliers because of their price range"
   ]
  },
  {
   "cell_type": "code",
   "execution_count": 188,
   "metadata": {},
   "outputs": [
    {
     "name": "stdout",
     "output_type": "stream",
     "text": [
      "0.00020829458806025664\n"
     ]
    },
    {
     "data": {
      "text/plain": [
       "<AxesSubplot:>"
      ]
     },
     "execution_count": 188,
     "metadata": {},
     "output_type": "execute_result"
    },
    {
     "data": {
      "image/png": "[encoded data removed]",
      "text/plain": [
       "<Figure size 864x576 with 1 Axes>"
      ]
     },
     "metadata": {},
     "output_type": "display_data"
    }
   ],
   "source": [
    "print(len(df.loc[df['noRooms'] > 10, 'noRooms']) / len(df))\n",
    "df.loc[df['noRooms']< 10, 'noRooms'].hist()"
   ]
  },
  {
   "cell_type": "code",
   "execution_count": 146,
   "metadata": {},
   "outputs": [
    {
     "data": {
      "text/plain": [
       "Text(0, 0.5, 'Count')"
      ]
     },
     "execution_count": 146,
     "metadata": {},
     "output_type": "execute_result"
    },
    {
     "data": {
      "image/png": "[encoded data removed]",
      "text/plain": [
       "<Figure size 900x468 with 2 Axes>"
      ]
     },
     "metadata": {},
     "output_type": "display_data"
    }
   ],
   "source": [
    "fig, (ax1, ax2) = plt.subplots(nrows=1, ncols=2, sharey=False)\n",
    "fig.set_size_inches(12.5, 6.5)\n",
    "fig.suptitle('Living space area in two different feature histogram', fontsize=16)\n",
    "\n",
    "df['livingSpace'].hist(ax=ax1)\n",
    "ax1.set_xlabel(\"Living space area\")\n",
    "ax1.set_ylabel(\"Count\")\n",
    "\n",
    "df['livingSpaceRange'].hist(ax=ax2)\n",
    "ax2.set_xlabel(\"Living space range bindded in to 7 cats\")\n",
    "ax2.set_ylabel(\"Count\")\n",
    "\n",
    "# we will drop livingSpace"
   ]
  },
  {
   "cell_type": "code",
   "execution_count": 144,
   "metadata": {},
   "outputs": [
    {
     "name": "stdout",
     "output_type": "stream",
     "text": [
      "0.6654268179282128\n",
      "18.0\n"
     ]
    },
    {
     "data": {
      "image/png": "[encoded data removed]",
      "text/plain": [
       "<Figure size 864x576 with 1 Axes>"
      ]
     },
     "metadata": {},
     "output_type": "display_data"
    }
   ],
   "source": [
    "print(len(df.loc[(df['livingSpace'] > 250) | (df['livingSpace'] < 18), 'livingSpace']) / len(df) * 100)\n",
    "df.loc[df['livingSpace']< 250, 'livingSpace'].hist()\n",
    "print(df.loc[df['livingSpace']< 250, 'livingSpace'].quantile(0.005))\n",
    "\n",
    "# we will drop living space bigger than 250 and less than 18."
   ]
  },
  {
   "cell_type": "code",
   "execution_count": 159,
   "metadata": {},
   "outputs": [
    {
     "data": {
      "text/plain": [
       "Text(0, 0.5, 'Count')"
      ]
     },
     "execution_count": 159,
     "metadata": {},
     "output_type": "execute_result"
    },
    {
     "data": {
      "image/png": "[encoded data removed]",
      "text/plain": [
       "<Figure size 900x468 with 2 Axes>"
      ]
     },
     "metadata": {},
     "output_type": "display_data"
    }
   ],
   "source": [
    "fig, (ax1, ax2) = plt.subplots(nrows=1, ncols=2, sharey=False)\n",
    "fig.set_size_inches(12.5, 6.5)\n",
    "fig.suptitle('Base rent price in two different feature histogram', fontsize=16)\n",
    "\n",
    "df['baseRent'].hist(ax=ax1)\n",
    "ax1.set_xlabel(\"Base rent price\")\n",
    "ax1.set_ylabel(\"Count\")\n",
    "\n",
    "df['baseRentRange'].hist(ax=ax2)\n",
    "ax2.set_xlabel(\"Base rent price range bindded in to 9 cats\")\n",
    "ax2.set_ylabel(\"Count\")\n",
    "\n",
    "# we will drop base rent"
   ]
  },
  {
   "cell_type": "code",
   "execution_count": 193,
   "metadata": {},
   "outputs": [
    {
     "name": "stdout",
     "output_type": "stream",
     "text": [
      "0.004950716012646457\n"
     ]
    },
    {
     "data": {
      "text/plain": [
       "<AxesSubplot:>"
      ]
     },
     "execution_count": 193,
     "metadata": {},
     "output_type": "execute_result"
    },
    {
     "data": {
      "image/png": "[encoded data removed]",
      "text/plain": [
       "<Figure size 864x576 with 1 Axes>"
      ]
     },
     "metadata": {},
     "output_type": "display_data"
    }
   ],
   "source": [
    "print(len(df.loc[df['baseRent'] > 3000, 'baseRent']) / len(df))\n",
    "df.loc[df['baseRent'] < 3000, 'baseRent'].hist()\n",
    "\n",
    "# we will drop instances with base rent bigger than 3000"
   ]
  },
  {
   "cell_type": "code",
   "execution_count": 169,
   "metadata": {},
   "outputs": [
    {
     "data": {
      "text/html": [
       "<div>\n",
       "<style scoped>\n",
       "    .dataframe tbody tr th:only-of-type {\n",
       "        vertical-align: middle;\n",
       "    }\n",
       "\n",
       "    .dataframe tbody tr th {\n",
       "        vertical-align: top;\n",
       "    }\n",
       "\n",
       "    .dataframe thead th {\n",
       "        text-align: right;\n",
       "    }\n",
       "</style>\n",
       "<table border=\"1\" class=\"dataframe\">\n",
       "  <thead>\n",
       "    <tr style=\"text-align: right;\">\n",
       "      <th></th>\n",
       "      <th>energyEfficiencyClass</th>\n",
       "      <th>thermalChar</th>\n",
       "    </tr>\n",
       "  </thead>\n",
       "  <tbody>\n",
       "    <tr>\n",
       "      <th>268845</th>\n",
       "      <td>NaN</td>\n",
       "      <td>NaN</td>\n",
       "    </tr>\n",
       "    <tr>\n",
       "      <th>268846</th>\n",
       "      <td>NaN</td>\n",
       "      <td>NaN</td>\n",
       "    </tr>\n",
       "    <tr>\n",
       "      <th>268847</th>\n",
       "      <td>NaN</td>\n",
       "      <td>160.750000</td>\n",
       "    </tr>\n",
       "    <tr>\n",
       "      <th>268848</th>\n",
       "      <td>NO_INFORMATION</td>\n",
       "      <td>24.703125</td>\n",
       "    </tr>\n",
       "    <tr>\n",
       "      <th>268849</th>\n",
       "      <td>NaN</td>\n",
       "      <td>NaN</td>\n",
       "    </tr>\n",
       "  </tbody>\n",
       "</table>\n",
       "</div>"
      ],
      "text/plain": [
       "       energyEfficiencyClass  thermalChar\n",
       "268845                   NaN          NaN\n",
       "268846                   NaN          NaN\n",
       "268847                   NaN   160.750000\n",
       "268848        NO_INFORMATION    24.703125\n",
       "268849                   NaN          NaN"
      ]
     },
     "execution_count": 169,
     "metadata": {},
     "output_type": "execute_result"
    }
   ],
   "source": [
    "df.loc[((df['energyEfficiencyClass'].isna()) | (df['energyEfficiencyClass'] == 'NO_INFORMATION')), ['energyEfficiencyClass', 'thermalChar']].tail()"
   ]
  },
  {
   "cell_type": "code",
   "execution_count": 194,
   "metadata": {},
   "outputs": [
    {
     "name": "stdout",
     "output_type": "stream",
     "text": [
      "0.001870931746326948\n"
     ]
    },
    {
     "data": {
      "text/plain": [
       "<AxesSubplot:>"
      ]
     },
     "execution_count": 194,
     "metadata": {},
     "output_type": "execute_result"
    },
    {
     "data": {
      "image/png": "[encoded data removed]",
      "text/plain": [
       "<Figure size 864x576 with 1 Axes>"
      ]
     },
     "metadata": {},
     "output_type": "display_data"
    }
   ],
   "source": [
    "print(len(df.loc[df['thermalChar'] > 350, 'thermalChar']) / len(df))\n",
    "df.loc[df['thermalChar'] < 350, 'thermalChar'].hist()\n",
    "\n",
    "# we will drop energyEfficiencyClass because it is based on thermalChar and has extra null values.\n",
    "# we will drop thermalChar bigger than 350."
   ]
  },
  {
   "cell_type": "code",
   "execution_count": 63,
   "metadata": {},
   "outputs": [
    {
     "data": {
      "text/plain": [
       "17"
      ]
     },
     "execution_count": 63,
     "metadata": {},
     "output_type": "execute_result"
    }
   ],
   "source": [
    "len(df.loc[(df['lastRefurbish'] > 2021) | (df['lastRefurbish'] < 1950)])\n",
    "\n",
    "#should be drop"
   ]
  },
  {
   "cell_type": "code",
   "execution_count": 225,
   "metadata": {},
   "outputs": [
    {
     "name": "stdout",
     "output_type": "stream",
     "text": [
      "1000.0     1\n",
      "1005.0     1\n",
      "1007.0     1\n",
      "1027.0     1\n",
      "1036.0     1\n",
      "          ..\n",
      "2021.0    15\n",
      "2022.0     2\n",
      "2026.0     3\n",
      "2029.0     1\n",
      "2090.0     1\n",
      "Name: yearConstructed, Length: 465, dtype: int64\n"
     ]
    },
    {
     "data": {
      "text/plain": [
       "<AxesSubplot:>"
      ]
     },
     "execution_count": 225,
     "metadata": {},
     "output_type": "execute_result"
    },
    {
     "data": {
      "image/png": "[encoded data removed]",
      "text/plain": [
       "<Figure size 864x576 with 1 Axes>"
      ]
     },
     "metadata": {},
     "output_type": "display_data"
    }
   ],
   "source": [
    "print(df['yearConstructed'].value_counts().sort_index())\n",
    "df.loc[((df['yearConstructed'] > 1850) & (df['yearConstructed'] < 2022)), 'yearConstructed'].hist()"
   ]
  },
  {
   "cell_type": "code",
   "execution_count": 226,
   "metadata": {},
   "outputs": [
    {
     "data": {
      "text/html": [
       "<div>\n",
       "<style scoped>\n",
       "    .dataframe tbody tr th:only-of-type {\n",
       "        vertical-align: middle;\n",
       "    }\n",
       "\n",
       "    .dataframe tbody tr th {\n",
       "        vertical-align: top;\n",
       "    }\n",
       "\n",
       "    .dataframe thead th {\n",
       "        text-align: right;\n",
       "    }\n",
       "</style>\n",
       "<table border=\"1\" class=\"dataframe\">\n",
       "  <thead>\n",
       "    <tr style=\"text-align: right;\">\n",
       "      <th></th>\n",
       "      <th>regio1</th>\n",
       "      <th>serviceCharge</th>\n",
       "      <th>heatingType</th>\n",
       "      <th>telekomTvOffer</th>\n",
       "      <th>telekomHybridUploadSpeed</th>\n",
       "      <th>newlyConst</th>\n",
       "      <th>balcony</th>\n",
       "      <th>picturecount</th>\n",
       "      <th>pricetrend</th>\n",
       "      <th>telekomUploadSpeed</th>\n",
       "      <th>totalRent</th>\n",
       "      <th>yearConstructed</th>\n",
       "      <th>scoutId</th>\n",
       "      <th>noParkSpaces</th>\n",
       "      <th>firingTypes</th>\n",
       "      <th>hasKitchen</th>\n",
       "      <th>geo_bln</th>\n",
       "      <th>cellar</th>\n",
       "      <th>yearConstructedRange</th>\n",
       "      <th>baseRent</th>\n",
       "      <th>houseNumber</th>\n",
       "      <th>livingSpace</th>\n",
       "      <th>geo_krs</th>\n",
       "      <th>condition</th>\n",
       "      <th>interiorQual</th>\n",
       "      <th>petsAllowed</th>\n",
       "      <th>street</th>\n",
       "      <th>streetPlain</th>\n",
       "      <th>lift</th>\n",
       "      <th>baseRentRange</th>\n",
       "      <th>typeOfFlat</th>\n",
       "      <th>geo_plz</th>\n",
       "      <th>noRooms</th>\n",
       "      <th>thermalChar</th>\n",
       "      <th>floor</th>\n",
       "      <th>numberOfFloors</th>\n",
       "      <th>noRoomsRange</th>\n",
       "      <th>garden</th>\n",
       "      <th>livingSpaceRange</th>\n",
       "      <th>regio2</th>\n",
       "      <th>regio3</th>\n",
       "      <th>description</th>\n",
       "      <th>facilities</th>\n",
       "      <th>heatingCosts</th>\n",
       "      <th>energyEfficiencyClass</th>\n",
       "      <th>lastRefurbish</th>\n",
       "      <th>electricityBasePrice</th>\n",
       "      <th>electricityKwhPrice</th>\n",
       "      <th>date</th>\n",
       "    </tr>\n",
       "  </thead>\n",
       "  <tbody>\n",
       "  </tbody>\n",
       "</table>\n",
       "</div>"
      ],
      "text/plain": [
       "Empty DataFrame\n",
       "Columns: [regio1, serviceCharge, heatingType, telekomTvOffer, telekomHybridUploadSpeed, newlyConst, balcony, picturecount, pricetrend, telekomUploadSpeed, totalRent, yearConstructed, scoutId, noParkSpaces, firingTypes, hasKitchen, geo_bln, cellar, yearConstructedRange, baseRent, houseNumber, livingSpace, geo_krs, condition, interiorQual, petsAllowed, street, streetPlain, lift, baseRentRange, typeOfFlat, geo_plz, noRooms, thermalChar, floor, numberOfFloors, noRoomsRange, garden, livingSpaceRange, regio2, regio3, description, facilities, heatingCosts, energyEfficiencyClass, lastRefurbish, electricityBasePrice, electricityKwhPrice, date]\n",
       "Index: []"
      ]
     },
     "execution_count": 226,
     "metadata": {},
     "output_type": "execute_result"
    }
   ],
   "source": [
    "df.loc[df['yearConstructed'] > df['lastRefurbish']]"
   ]
  },
  {
   "cell_type": "code",
   "execution_count": 227,
   "metadata": {},
   "outputs": [
    {
     "data": {
      "text/plain": [
       "ONE_YEAR_FREE    227632\n",
       "NONE               4957\n",
       "ON_DEMAND          3642\n",
       "Name: telekomTvOffer, dtype: int64"
      ]
     },
     "execution_count": 227,
     "metadata": {},
     "output_type": "execute_result"
    }
   ],
   "source": [
    "df['telekomTvOffer'].value_counts()"
   ]
  },
  {
   "cell_type": "code",
   "execution_count": 228,
   "metadata": {},
   "outputs": [
    {
     "data": {
      "text/plain": [
       "10.0    45020\n",
       "Name: telekomHybridUploadSpeed, dtype: int64"
      ]
     },
     "execution_count": 228,
     "metadata": {},
     "output_type": "execute_result"
    }
   ],
   "source": [
    "df['telekomHybridUploadSpeed'].value_counts() #shold be drop"
   ]
  },
  {
   "cell_type": "code",
   "execution_count": 231,
   "metadata": {},
   "outputs": [
    {
     "name": "stdout",
     "output_type": "stream",
     "text": [
      "0.0025888041658917614\n"
     ]
    },
    {
     "data": {
      "text/plain": [
       "<AxesSubplot:>"
      ]
     },
     "execution_count": 231,
     "metadata": {},
     "output_type": "execute_result"
    },
    {
     "data": {
      "image/png": "[encoded data removed]",
      "text/plain": [
       "<Figure size 864x576 with 1 Axes>"
      ]
     },
     "metadata": {},
     "output_type": "display_data"
    }
   ],
   "source": [
    "print(len(df.loc[df['picturecount'] > 40, 'picturecount']) / len(df))\n",
    "df.loc[df['picturecount'] < 40, 'picturecount'].hist()"
   ]
  },
  {
   "cell_type": "code",
   "execution_count": 234,
   "metadata": {},
   "outputs": [
    {
     "data": {
      "text/plain": [
       "True"
      ]
     },
     "execution_count": 234,
     "metadata": {},
     "output_type": "execute_result"
    }
   ],
   "source": [
    "df['scoutId'].is_unique # set index to this column"
   ]
  },
  {
   "cell_type": "code",
   "execution_count": 249,
   "metadata": {},
   "outputs": [
    {
     "name": "stdout",
     "output_type": "stream",
     "text": [
      "0.3250883392226148\n"
     ]
    },
    {
     "data": {
      "text/plain": [
       "<AxesSubplot:>"
      ]
     },
     "execution_count": 249,
     "metadata": {},
     "output_type": "execute_result"
    },
    {
     "data": {
      "image/png": "[encoded data removed]",
      "text/plain": [
       "<Figure size 864x576 with 1 Axes>"
      ]
     },
     "metadata": {},
     "output_type": "display_data"
    }
   ],
   "source": [
    "print(len(df.loc[df['noParkSpaces'] > 4]) / len(df) * 100)\n",
    "df.loc[df['noParkSpaces']  < 5, 'noParkSpaces'].hist()"
   ]
  },
  {
   "cell_type": "code",
   "execution_count": 250,
   "metadata": {},
   "outputs": [
    {
     "data": {
      "text/plain": [
       "['oil', 'gas', NaN, 'district_heating', 'gas:electricity', ..., 'geothermal:solar_heating:gas', 'electricity:wood_chips', 'electricity:coal', 'solar_heating:bio_energy', 'district_heating:hydro_energy']\n",
       "Length: 133\n",
       "Categories (132, object): ['bio_energy', 'coal', 'coal_coke', 'combined_heat_and_power_bio_energy', ..., 'steam_district_heating', 'wind_energy', 'wood', 'wood_chips']"
      ]
     },
     "execution_count": 250,
     "metadata": {},
     "output_type": "execute_result"
    }
   ],
   "source": [
    "df['firingTypes'].unique()"
   ]
  },
  {
   "cell_type": "code",
   "execution_count": 253,
   "metadata": {},
   "outputs": [
    {
     "data": {
      "text/plain": [
       "0.8257541379951646"
      ]
     },
     "execution_count": 253,
     "metadata": {},
     "output_type": "execute_result"
    }
   ],
   "source": [
    "print((df['electricityBasePrice'].isna().sum()) / len(df))\n",
    "print((df['electricityKwhPrice'].isna().sum()) / len(df))\n",
    "\n",
    "\n",
    " # too many null values, can't fill them with an appropriate value, they will be drop"
   ]
  },
  {
   "cell_type": "code",
   "execution_count": 310,
   "metadata": {},
   "outputs": [
    {
     "data": {
      "text/plain": [
       "central_heating                   127109\n",
       "district_heating                   24565\n",
       "gas_heating                        19643\n",
       "self_contained_central_heating     18728\n",
       "floor_heating                      17291\n",
       "oil_heating                         4979\n",
       "heat_pump                           2692\n",
       "combined_heat_and_power_plant       1952\n",
       "night_storage_heater                1328\n",
       "wood_pellet_heating                  944\n",
       "electric_heating                     893\n",
       "stove_heating                        329\n",
       "solar_heating                        165\n",
       "Name: heatingType, dtype: int64"
      ]
     },
     "execution_count": 310,
     "metadata": {},
     "output_type": "execute_result"
    }
   ],
   "source": [
    "df['heatingType'].value_counts()"
   ]
  },
  {
   "cell_type": "code",
   "execution_count": 311,
   "metadata": {},
   "outputs": [
    {
     "data": {
      "text/plain": [
       "ONE_YEAR_FREE    224243\n",
       "NONE               4862\n",
       "ON_DEMAND          3572\n",
       "Name: telekomTvOffer, dtype: int64"
      ]
     },
     "execution_count": 311,
     "metadata": {},
     "output_type": "execute_result"
    }
   ],
   "source": [
    "df['telekomTvOffer'].value_counts()"
   ]
  },
  {
   "cell_type": "code",
   "execution_count": 313,
   "metadata": {},
   "outputs": [
    {
     "data": {
      "text/html": [
       "<div>\n",
       "<style scoped>\n",
       "    .dataframe tbody tr th:only-of-type {\n",
       "        vertical-align: middle;\n",
       "    }\n",
       "\n",
       "    .dataframe tbody tr th {\n",
       "        vertical-align: top;\n",
       "    }\n",
       "\n",
       "    .dataframe thead th {\n",
       "        text-align: right;\n",
       "    }\n",
       "</style>\n",
       "<table border=\"1\" class=\"dataframe\">\n",
       "  <thead>\n",
       "    <tr style=\"text-align: right;\">\n",
       "      <th></th>\n",
       "      <th>telekomTvOffer</th>\n",
       "      <th>telekomHybridUploadSpeed</th>\n",
       "      <th>telekomUploadSpeed</th>\n",
       "    </tr>\n",
       "  </thead>\n",
       "  <tbody>\n",
       "    <tr>\n",
       "      <th>4</th>\n",
       "      <td>NaN</td>\n",
       "      <td>NaN</td>\n",
       "      <td>NaN</td>\n",
       "    </tr>\n",
       "    <tr>\n",
       "      <th>40</th>\n",
       "      <td>NaN</td>\n",
       "      <td>NaN</td>\n",
       "      <td>NaN</td>\n",
       "    </tr>\n",
       "    <tr>\n",
       "      <th>45</th>\n",
       "      <td>NaN</td>\n",
       "      <td>NaN</td>\n",
       "      <td>NaN</td>\n",
       "    </tr>\n",
       "    <tr>\n",
       "      <th>46</th>\n",
       "      <td>NaN</td>\n",
       "      <td>NaN</td>\n",
       "      <td>NaN</td>\n",
       "    </tr>\n",
       "    <tr>\n",
       "      <th>48</th>\n",
       "      <td>NaN</td>\n",
       "      <td>NaN</td>\n",
       "      <td>NaN</td>\n",
       "    </tr>\n",
       "    <tr>\n",
       "      <th>...</th>\n",
       "      <td>...</td>\n",
       "      <td>...</td>\n",
       "      <td>...</td>\n",
       "    </tr>\n",
       "    <tr>\n",
       "      <th>268822</th>\n",
       "      <td>NaN</td>\n",
       "      <td>NaN</td>\n",
       "      <td>NaN</td>\n",
       "    </tr>\n",
       "    <tr>\n",
       "      <th>268838</th>\n",
       "      <td>NaN</td>\n",
       "      <td>NaN</td>\n",
       "      <td>NaN</td>\n",
       "    </tr>\n",
       "    <tr>\n",
       "      <th>268846</th>\n",
       "      <td>NaN</td>\n",
       "      <td>NaN</td>\n",
       "      <td>NaN</td>\n",
       "    </tr>\n",
       "    <tr>\n",
       "      <th>268848</th>\n",
       "      <td>NaN</td>\n",
       "      <td>NaN</td>\n",
       "      <td>NaN</td>\n",
       "    </tr>\n",
       "    <tr>\n",
       "      <th>268849</th>\n",
       "      <td>NaN</td>\n",
       "      <td>NaN</td>\n",
       "      <td>NaN</td>\n",
       "    </tr>\n",
       "  </tbody>\n",
       "</table>\n",
       "<p>32619 rows × 3 columns</p>\n",
       "</div>"
      ],
      "text/plain": [
       "       telekomTvOffer  telekomHybridUploadSpeed  telekomUploadSpeed\n",
       "4                 NaN                       NaN                 NaN\n",
       "40                NaN                       NaN                 NaN\n",
       "45                NaN                       NaN                 NaN\n",
       "46                NaN                       NaN                 NaN\n",
       "48                NaN                       NaN                 NaN\n",
       "...               ...                       ...                 ...\n",
       "268822            NaN                       NaN                 NaN\n",
       "268838            NaN                       NaN                 NaN\n",
       "268846            NaN                       NaN                 NaN\n",
       "268848            NaN                       NaN                 NaN\n",
       "268849            NaN                       NaN                 NaN\n",
       "\n",
       "[32619 rows x 3 columns]"
      ]
     },
     "execution_count": 313,
     "metadata": {},
     "output_type": "execute_result"
    }
   ],
   "source": [
    "df.loc[df['telekomTvOffer'].isna(), ['telekomTvOffer', 'telekomHybridUploadSpeed', 'telekomUploadSpeed']]"
   ]
  },
  {
   "cell_type": "code",
   "execution_count": 319,
   "metadata": {},
   "outputs": [
    {
     "data": {
      "text/html": [
       "<div>\n",
       "<style scoped>\n",
       "    .dataframe tbody tr th:only-of-type {\n",
       "        vertical-align: middle;\n",
       "    }\n",
       "\n",
       "    .dataframe tbody tr th {\n",
       "        vertical-align: top;\n",
       "    }\n",
       "\n",
       "    .dataframe thead th {\n",
       "        text-align: right;\n",
       "    }\n",
       "</style>\n",
       "<table border=\"1\" class=\"dataframe\">\n",
       "  <thead>\n",
       "    <tr style=\"text-align: right;\">\n",
       "      <th></th>\n",
       "      <th>telekomTvOffer</th>\n",
       "      <th>telekomHybridUploadSpeed</th>\n",
       "      <th>telekomUploadSpeed</th>\n",
       "    </tr>\n",
       "  </thead>\n",
       "  <tbody>\n",
       "    <tr>\n",
       "      <th>5</th>\n",
       "      <td>NONE</td>\n",
       "      <td>NaN</td>\n",
       "      <td>2.4</td>\n",
       "    </tr>\n",
       "    <tr>\n",
       "      <th>12</th>\n",
       "      <td>NONE</td>\n",
       "      <td>NaN</td>\n",
       "      <td>2.4</td>\n",
       "    </tr>\n",
       "    <tr>\n",
       "      <th>66</th>\n",
       "      <td>NONE</td>\n",
       "      <td>NaN</td>\n",
       "      <td>2.4</td>\n",
       "    </tr>\n",
       "    <tr>\n",
       "      <th>78</th>\n",
       "      <td>NONE</td>\n",
       "      <td>NaN</td>\n",
       "      <td>2.4</td>\n",
       "    </tr>\n",
       "    <tr>\n",
       "      <th>108</th>\n",
       "      <td>NONE</td>\n",
       "      <td>NaN</td>\n",
       "      <td>2.4</td>\n",
       "    </tr>\n",
       "    <tr>\n",
       "      <th>...</th>\n",
       "      <td>...</td>\n",
       "      <td>...</td>\n",
       "      <td>...</td>\n",
       "    </tr>\n",
       "    <tr>\n",
       "      <th>268511</th>\n",
       "      <td>NONE</td>\n",
       "      <td>NaN</td>\n",
       "      <td>2.4</td>\n",
       "    </tr>\n",
       "    <tr>\n",
       "      <th>268527</th>\n",
       "      <td>NONE</td>\n",
       "      <td>NaN</td>\n",
       "      <td>2.4</td>\n",
       "    </tr>\n",
       "    <tr>\n",
       "      <th>268603</th>\n",
       "      <td>NONE</td>\n",
       "      <td>NaN</td>\n",
       "      <td>2.4</td>\n",
       "    </tr>\n",
       "    <tr>\n",
       "      <th>268627</th>\n",
       "      <td>NONE</td>\n",
       "      <td>NaN</td>\n",
       "      <td>2.4</td>\n",
       "    </tr>\n",
       "    <tr>\n",
       "      <th>268702</th>\n",
       "      <td>NONE</td>\n",
       "      <td>NaN</td>\n",
       "      <td>2.4</td>\n",
       "    </tr>\n",
       "  </tbody>\n",
       "</table>\n",
       "<p>4957 rows × 3 columns</p>\n",
       "</div>"
      ],
      "text/plain": [
       "       telekomTvOffer  telekomHybridUploadSpeed  telekomUploadSpeed\n",
       "5                NONE                       NaN                 2.4\n",
       "12               NONE                       NaN                 2.4\n",
       "66               NONE                       NaN                 2.4\n",
       "78               NONE                       NaN                 2.4\n",
       "108              NONE                       NaN                 2.4\n",
       "...               ...                       ...                 ...\n",
       "268511           NONE                       NaN                 2.4\n",
       "268527           NONE                       NaN                 2.4\n",
       "268603           NONE                       NaN                 2.4\n",
       "268627           NONE                       NaN                 2.4\n",
       "268702           NONE                       NaN                 2.4\n",
       "\n",
       "[4957 rows x 3 columns]"
      ]
     },
     "execution_count": 319,
     "metadata": {},
     "output_type": "execute_result"
    }
   ],
   "source": [
    "df.loc[df['telekomTvOffer'] == \"NONE\", ['telekomTvOffer', 'telekomHybridUploadSpeed', 'telekomUploadSpeed']]"
   ]
  },
  {
   "cell_type": "code",
   "execution_count": 324,
   "metadata": {},
   "outputs": [
    {
     "data": {
      "text/plain": [
       "0.6814208666542682"
      ]
     },
     "execution_count": 324,
     "metadata": {},
     "output_type": "execute_result"
    }
   ],
   "source": [
    "len(df.loc[df['pricetrend'].isna()]) / len(df)  * 100#instances with null values will be drop, just  0.6% of the whole data"
   ]
  },
  {
   "cell_type": "code",
   "execution_count": 328,
   "metadata": {},
   "outputs": [
    {
     "data": {
      "text/plain": [
       "40.0     158296\n",
       "2.4       42858\n",
       "10.0      32889\n",
       "5.0        1036\n",
       "1.0         209\n",
       "100.0       141\n",
       "4.0          63\n",
       "Name: telekomUploadSpeed, dtype: int64"
      ]
     },
     "execution_count": 328,
     "metadata": {},
     "output_type": "execute_result"
    }
   ],
   "source": [
    "df['telekomUploadSpeed'].value_counts()"
   ]
  },
  {
   "cell_type": "code",
   "execution_count": 329,
   "metadata": {},
   "outputs": [
    {
     "data": {
      "text/plain": [
       "1.0       78814\n",
       "2.0        8955\n",
       "0.0        3855\n",
       "3.0         417\n",
       "4.0         137\n",
       "          ...  \n",
       "37.0          1\n",
       "73.0          1\n",
       "310.0         1\n",
       "2241.0        1\n",
       "58.0          1\n",
       "Name: noParkSpaces, Length: 71, dtype: int64"
      ]
     },
     "execution_count": 329,
     "metadata": {},
     "output_type": "execute_result"
    }
   ],
   "source": [
    "df['noParkSpaces'].value_counts()"
   ]
  },
  {
   "cell_type": "code",
   "execution_count": 333,
   "metadata": {},
   "outputs": [
    {
     "data": {
      "text/html": [
       "<div>\n",
       "<style scoped>\n",
       "    .dataframe tbody tr th:only-of-type {\n",
       "        vertical-align: middle;\n",
       "    }\n",
       "\n",
       "    .dataframe tbody tr th {\n",
       "        vertical-align: top;\n",
       "    }\n",
       "\n",
       "    .dataframe thead th {\n",
       "        text-align: right;\n",
       "    }\n",
       "</style>\n",
       "<table border=\"1\" class=\"dataframe\">\n",
       "  <thead>\n",
       "    <tr style=\"text-align: right;\">\n",
       "      <th></th>\n",
       "      <th>regio1</th>\n",
       "      <th>serviceCharge</th>\n",
       "      <th>heatingType</th>\n",
       "      <th>telekomTvOffer</th>\n",
       "      <th>telekomHybridUploadSpeed</th>\n",
       "      <th>newlyConst</th>\n",
       "      <th>balcony</th>\n",
       "      <th>picturecount</th>\n",
       "      <th>pricetrend</th>\n",
       "      <th>telekomUploadSpeed</th>\n",
       "      <th>totalRent</th>\n",
       "      <th>yearConstructed</th>\n",
       "      <th>scoutId</th>\n",
       "      <th>noParkSpaces</th>\n",
       "      <th>firingTypes</th>\n",
       "      <th>hasKitchen</th>\n",
       "      <th>geo_bln</th>\n",
       "      <th>cellar</th>\n",
       "      <th>yearConstructedRange</th>\n",
       "      <th>baseRent</th>\n",
       "      <th>houseNumber</th>\n",
       "      <th>livingSpace</th>\n",
       "      <th>geo_krs</th>\n",
       "      <th>condition</th>\n",
       "      <th>interiorQual</th>\n",
       "      <th>petsAllowed</th>\n",
       "      <th>street</th>\n",
       "      <th>streetPlain</th>\n",
       "      <th>lift</th>\n",
       "      <th>baseRentRange</th>\n",
       "      <th>typeOfFlat</th>\n",
       "      <th>geo_plz</th>\n",
       "      <th>noRooms</th>\n",
       "      <th>thermalChar</th>\n",
       "      <th>floor</th>\n",
       "      <th>numberOfFloors</th>\n",
       "      <th>noRoomsRange</th>\n",
       "      <th>garden</th>\n",
       "      <th>livingSpaceRange</th>\n",
       "      <th>regio2</th>\n",
       "      <th>regio3</th>\n",
       "      <th>description</th>\n",
       "      <th>facilities</th>\n",
       "      <th>heatingCosts</th>\n",
       "      <th>energyEfficiencyClass</th>\n",
       "      <th>lastRefurbish</th>\n",
       "      <th>electricityBasePrice</th>\n",
       "      <th>electricityKwhPrice</th>\n",
       "      <th>date</th>\n",
       "    </tr>\n",
       "  </thead>\n",
       "  <tbody>\n",
       "    <tr>\n",
       "      <th>2</th>\n",
       "      <td>Sachsen</td>\n",
       "      <td>255.0</td>\n",
       "      <td>floor_heating</td>\n",
       "      <td>ONE_YEAR_FREE</td>\n",
       "      <td>10.0</td>\n",
       "      <td>True</td>\n",
       "      <td>True</td>\n",
       "      <td>8</td>\n",
       "      <td>2.72</td>\n",
       "      <td>2.4</td>\n",
       "      <td>1300.0</td>\n",
       "      <td>2019.0</td>\n",
       "      <td>113147523</td>\n",
       "      <td>1.0</td>\n",
       "      <td>NaN</td>\n",
       "      <td>False</td>\n",
       "      <td>Sachsen</td>\n",
       "      <td>True</td>\n",
       "      <td>9.0</td>\n",
       "      <td>965.0</td>\n",
       "      <td>4</td>\n",
       "      <td>83.8</td>\n",
       "      <td>Dresden</td>\n",
       "      <td>first_time_use</td>\n",
       "      <td>sophisticated</td>\n",
       "      <td>NaN</td>\n",
       "      <td>Turnerweg</td>\n",
       "      <td>Turnerweg</td>\n",
       "      <td>True</td>\n",
       "      <td>6</td>\n",
       "      <td>apartment</td>\n",
       "      <td>1097</td>\n",
       "      <td>3.0</td>\n",
       "      <td>NaN</td>\n",
       "      <td>3.0</td>\n",
       "      <td>4.0</td>\n",
       "      <td>3</td>\n",
       "      <td>False</td>\n",
       "      <td>4</td>\n",
       "      <td>Dresden</td>\n",
       "      <td>Äußere_Neustadt_Antonstadt</td>\n",
       "      <td>Der Neubau entsteht im Herzen der Dresdner Neustadt.\\nDa...</td>\n",
       "      <td>* 9 m² Balkon\\n* Bad mit bodengleicher Dusche, Badewanne...</td>\n",
       "      <td>NaN</td>\n",
       "      <td>NaN</td>\n",
       "      <td>NaN</td>\n",
       "      <td>NaN</td>\n",
       "      <td>NaN</td>\n",
       "      <td>Oct19</td>\n",
       "    </tr>\n",
       "    <tr>\n",
       "      <th>6</th>\n",
       "      <td>Sachsen</td>\n",
       "      <td>70.0</td>\n",
       "      <td>self_contained_central_heating</td>\n",
       "      <td>ONE_YEAR_FREE</td>\n",
       "      <td>10.0</td>\n",
       "      <td>False</td>\n",
       "      <td>False</td>\n",
       "      <td>9</td>\n",
       "      <td>1.01</td>\n",
       "      <td>2.4</td>\n",
       "      <td>380.0</td>\n",
       "      <td>NaN</td>\n",
       "      <td>114391930</td>\n",
       "      <td>NaN</td>\n",
       "      <td>NaN</td>\n",
       "      <td>False</td>\n",
       "      <td>Sachsen</td>\n",
       "      <td>True</td>\n",
       "      <td>NaN</td>\n",
       "      <td>310.0</td>\n",
       "      <td>14</td>\n",
       "      <td>62.0</td>\n",
       "      <td>Mittelsachsen_Kreis</td>\n",
       "      <td>fully_renovated</td>\n",
       "      <td>NaN</td>\n",
       "      <td>NaN</td>\n",
       "      <td>Am Bahnhof</td>\n",
       "      <td>Am_Bahnhof</td>\n",
       "      <td>False</td>\n",
       "      <td>2</td>\n",
       "      <td>NaN</td>\n",
       "      <td>9599</td>\n",
       "      <td>2.0</td>\n",
       "      <td>NaN</td>\n",
       "      <td>1.0</td>\n",
       "      <td>4.0</td>\n",
       "      <td>2</td>\n",
       "      <td>True</td>\n",
       "      <td>3</td>\n",
       "      <td>Mittelsachsen_Kreis</td>\n",
       "      <td>Freiberg</td>\n",
       "      <td>Am Bahnhof 14 in Freiberg\\nHeizkosten und Warmwasseraufb...</td>\n",
       "      <td>NaN</td>\n",
       "      <td>NaN</td>\n",
       "      <td>NaN</td>\n",
       "      <td>NaN</td>\n",
       "      <td>NaN</td>\n",
       "      <td>NaN</td>\n",
       "      <td>Feb20</td>\n",
       "    </tr>\n",
       "  </tbody>\n",
       "</table>\n",
       "</div>"
      ],
      "text/plain": [
       "    regio1  serviceCharge                     heatingType telekomTvOffer  \\\n",
       "2  Sachsen          255.0                   floor_heating  ONE_YEAR_FREE   \n",
       "6  Sachsen           70.0  self_contained_central_heating  ONE_YEAR_FREE   \n",
       "\n",
       "   telekomHybridUploadSpeed  newlyConst  balcony  picturecount  pricetrend  \\\n",
       "2                      10.0        True     True             8        2.72   \n",
       "6                      10.0       False    False             9        1.01   \n",
       "\n",
       "   telekomUploadSpeed  totalRent  yearConstructed    scoutId  noParkSpaces  \\\n",
       "2                 2.4     1300.0           2019.0  113147523           1.0   \n",
       "6                 2.4      380.0              NaN  114391930           NaN   \n",
       "\n",
       "  firingTypes  hasKitchen  geo_bln  cellar  yearConstructedRange  baseRent  \\\n",
       "2         NaN       False  Sachsen    True                   9.0     965.0   \n",
       "6         NaN       False  Sachsen    True                   NaN     310.0   \n",
       "\n",
       "  houseNumber  livingSpace              geo_krs        condition  \\\n",
       "2           4         83.8              Dresden   first_time_use   \n",
       "6          14         62.0  Mittelsachsen_Kreis  fully_renovated   \n",
       "\n",
       "    interiorQual petsAllowed      street streetPlain   lift  baseRentRange  \\\n",
       "2  sophisticated         NaN   Turnerweg   Turnerweg   True              6   \n",
       "6            NaN         NaN  Am Bahnhof  Am_Bahnhof  False              2   \n",
       "\n",
       "  typeOfFlat  geo_plz  noRooms  thermalChar  floor  numberOfFloors  \\\n",
       "2  apartment     1097      3.0          NaN    3.0             4.0   \n",
       "6        NaN     9599      2.0          NaN    1.0             4.0   \n",
       "\n",
       "   noRoomsRange  garden  livingSpaceRange               regio2  \\\n",
       "2             3   False                 4              Dresden   \n",
       "6             2    True                 3  Mittelsachsen_Kreis   \n",
       "\n",
       "                       regio3  \\\n",
       "2  Äußere_Neustadt_Antonstadt   \n",
       "6                    Freiberg   \n",
       "\n",
       "                                                   description  \\\n",
       "2  Der Neubau entsteht im Herzen der Dresdner Neustadt.\\nDa...   \n",
       "6  Am Bahnhof 14 in Freiberg\\nHeizkosten und Warmwasseraufb...   \n",
       "\n",
       "                                                    facilities  heatingCosts  \\\n",
       "2  * 9 m² Balkon\\n* Bad mit bodengleicher Dusche, Badewanne...           NaN   \n",
       "6                                                          NaN           NaN   \n",
       "\n",
       "  energyEfficiencyClass  lastRefurbish  electricityBasePrice  \\\n",
       "2                   NaN            NaN                   NaN   \n",
       "6                   NaN            NaN                   NaN   \n",
       "\n",
       "   electricityKwhPrice   date  \n",
       "2                  NaN  Oct19  \n",
       "6                  NaN  Feb20  "
      ]
     },
     "execution_count": 333,
     "metadata": {},
     "output_type": "execute_result"
    }
   ],
   "source": [
    "df.loc[df['firingTypes'].isna()].head(2) # fill null values with most frequent value"
   ]
  },
  {
   "cell_type": "code",
   "execution_count": 22,
   "metadata": {},
   "outputs": [
    {
     "data": {
      "text/plain": [
       "normal           81156\n",
       "sophisticated    63648\n",
       "luxury            6871\n",
       "simple            1918\n",
       "Name: interiorQual, dtype: int64"
      ]
     },
     "execution_count": 22,
     "metadata": {},
     "output_type": "execute_result"
    }
   ],
   "source": [
    "df['interiorQual'].value_counts()"
   ]
  },
  {
   "cell_type": "code",
   "execution_count": 23,
   "metadata": {},
   "outputs": [
    {
     "data": {
      "text/plain": [
       "negotiable    90671\n",
       "no            51309\n",
       "yes           10120\n",
       "Name: petsAllowed, dtype: int64"
      ]
     },
     "execution_count": 23,
     "metadata": {},
     "output_type": "execute_result"
    }
   ],
   "source": [
    "df['petsAllowed'].value_counts()"
   ]
  },
  {
   "cell_type": "code",
   "execution_count": 50,
   "metadata": {},
   "outputs": [
    {
     "data": {
      "text/plain": [
       "<AxesSubplot:>"
      ]
     },
     "execution_count": 50,
     "metadata": {},
     "output_type": "execute_result"
    },
    {
     "data": {
      "image/png": "[encoded data removed]",
      "text/plain": [
       "<Figure size 864x576 with 1 Axes>"
      ]
     },
     "metadata": {},
     "output_type": "display_data"
    }
   ],
   "source": [
    "df.loc[df['floor'] < 10, 'floor'].hist() #instances with -1 or bigger than 10 floor will be drop"
   ]
  },
  {
   "cell_type": "code",
   "execution_count": 60,
   "metadata": {},
   "outputs": [
    {
     "data": {
      "text/plain": [
       "<AxesSubplot:>"
      ]
     },
     "execution_count": 60,
     "metadata": {},
     "output_type": "execute_result"
    },
    {
     "data": {
      "image/png": "[encoded data removed]",
      "text/plain": [
       "<Figure size 864x576 with 1 Axes>"
      ]
     },
     "metadata": {},
     "output_type": "display_data"
    }
   ],
   "source": [
    "df.loc[df['numberOfFloors'] < 13, 'numberOfFloors'].hist()"
   ]
  },
  {
   "cell_type": "code",
   "execution_count": 61,
   "metadata": {},
   "outputs": [
    {
     "data": {
      "text/plain": [
       "0.0       1355\n",
       "1.0       8280\n",
       "2.0      36621\n",
       "3.0      49969\n",
       "4.0      39340\n",
       "5.0      19532\n",
       "6.0       6144\n",
       "7.0       2493\n",
       "8.0       1123\n",
       "9.0        509\n",
       "10.0       566\n",
       "11.0       923\n",
       "12.0       166\n",
       "13.0       114\n",
       "14.0       168\n",
       "15.0        74\n",
       "16.0       104\n",
       "17.0        59\n",
       "18.0        45\n",
       "19.0        32\n",
       "20.0        30\n",
       "21.0        17\n",
       "22.0        12\n",
       "23.0        18\n",
       "24.0         4\n",
       "25.0         2\n",
       "26.0         5\n",
       "27.0         2\n",
       "29.0         1\n",
       "30.0         2\n",
       "31.0         5\n",
       "32.0         1\n",
       "34.0         2\n",
       "36.0         1\n",
       "40.0        10\n",
       "42.0         1\n",
       "43.0         2\n",
       "54.0         1\n",
       "90.0         1\n",
       "92.0         1\n",
       "99.0         2\n",
       "200.0        1\n",
       "252.0        1\n",
       "301.0        1\n",
       "370.0        1\n",
       "378.0        1\n",
       "400.0        1\n",
       "410.0        1\n",
       "594.0        1\n",
       "600.0        1\n",
       "730.0        1\n",
       "800.0        2\n",
       "999.0        3\n",
       "Name: numberOfFloors, dtype: int64"
      ]
     },
     "execution_count": 61,
     "metadata": {},
     "output_type": "execute_result"
    }
   ],
   "source": [
    "df['numberOfFloors'].value_counts().sort_index(ascending=True) \n",
    "\n",
    "#instances with number of floors 0 and bigger than 12 will be drop"
   ]
  },
  {
   "cell_type": "code",
   "execution_count": 108,
   "metadata": {},
   "outputs": [
    {
     "data": {
      "text/plain": [
       "<AxesSubplot:>"
      ]
     },
     "execution_count": 108,
     "metadata": {},
     "output_type": "execute_result"
    },
    {
     "data": {
      "image/png": "[encoded data removed]",
      "text/plain": [
       "<Figure size 864x576 with 1 Axes>"
      ]
     },
     "metadata": {},
     "output_type": "display_data"
    }
   ],
   "source": [
    "df.loc[df['totalRent'] < 3300, 'totalRent'].hist()"
   ]
  },
  {
   "cell_type": "code",
   "execution_count": 116,
   "metadata": {},
   "outputs": [
    {
     "data": {
      "text/plain": [
       "285.187"
      ]
     },
     "execution_count": 116,
     "metadata": {},
     "output_type": "execute_result"
    }
   ],
   "source": [
    "df.loc[df['totalRent'] < 3300, 'totalRent'].quantile(0.025) \n",
    "\n",
    "#total rents with less than 250 or bigger than 3300 will be drop"
   ]
  },
  {
   "cell_type": "code",
   "execution_count": 121,
   "metadata": {},
   "outputs": [
    {
     "data": {
      "text/plain": [
       "<AxesSubplot:>"
      ]
     },
     "execution_count": 121,
     "metadata": {},
     "output_type": "execute_result"
    },
    {
     "data": {
      "image/png": "[encoded data removed]",
      "text/plain": [
       "<Figure size 864x576 with 1 Axes>"
      ]
     },
     "metadata": {},
     "output_type": "display_data"
    }
   ],
   "source": [
    "df['pricetrend'].hist()"
   ]
  },
  {
   "cell_type": "code",
   "execution_count": null,
   "metadata": {},
   "outputs": [],
   "source": []
  },
  {
   "cell_type": "code",
   "execution_count": 35,
   "metadata": {},
   "outputs": [],
   "source": [
    "import math\n",
    "\n",
    "def data_cleaner(df):\n",
    "    '''\n",
    "    Drops irrational instances, columns, and duplicates, fills missing values\n",
    "    Arguments:\n",
    "        df is a n-by-d pandas data frame\n",
    "    Returns:\n",
    "        the final dataframe \n",
    "    '''\n",
    "\n",
    "    pre_size_df = df.shape\n",
    "      \n",
    "    df.drop(df.loc[df['noRooms'] > 10].index, inplace=True, axis=0)\n",
    "    df.drop(df.loc[df['noParkSpaces'] > 4].index, inplace=True, axis=0)\n",
    "    df.drop(df.loc[df['thermalChar'] > 350].index, inplace=True, axis=0)\n",
    "    df.drop(df.loc[df['baseRent'] > 3000].index, inplace=True, axis=0)\n",
    "    df.drop(df.loc[df['livingSpace'] > 250].index, inplace=True, axis=0)\n",
    "    df.drop(df.loc[((df['livingSpace'] < 18) |\n",
    "                    (df['livingSpace'] > 250))].index, inplace=True, axis=0)\n",
    "    df.drop(df.loc[(df['lastRefurbish'] > 2021) |\n",
    "            (df['lastRefurbish'] < 1950)].index, inplace=True, axis=0)\n",
    "    df.drop(df.loc[(df['floor'] > 10) |\n",
    "            (df['floor'] < 0)].index, inplace=True, axis=0)\n",
    "    df.drop(df.loc[(df['numberOfFloors'] > 12) |\n",
    "            (df['numberOfFloors'] < 1)].index, inplace=True, axis=0)\n",
    "    df.drop(df.loc[((df['yearConstructed'] < 1850) |\n",
    "                    (df['yearConstructed'] > 2022))].index, inplace=True, axis=0)\n",
    "    df.drop(df.loc[df['picturecount'] > 40].index, inplace=True, axis=0)\n",
    "        \n",
    "    df['baseRent'].fillna(0, inplace=True)\n",
    "    df['heatingCosts'].fillna(0, inplace=True)\n",
    "    df['serviceCharge'].fillna(0, inplace=True)\n",
    "    df['totalRent'].fillna(df['baseRent'] + df['serviceCharge'] + df['heatingCosts'], \n",
    "                           inplace=True) #based on the data documentation\n",
    "    df['heatingType'].fillna(value='no_heating', inplace=True)\n",
    "    df['telekomTvOffer'].fillna(value='NO_INFO', inplace=True)\n",
    "    df['telekomUploadSpeed'].fillna(value=0, inplace=True)\n",
    "    df['noParkSpaces'].fillna(value=0, inplace=True)\n",
    "    df['firingTypes'].fillna(value=df['firingTypes'].value_counts().index[0], inplace=True)\n",
    "    df['petsAllowed'].fillna(value=df['petsAllowed'].value_counts().index[0], inplace=True)\n",
    "    df['typeOfFlat'].fillna(value=df['typeOfFlat'].value_counts().index[0], inplace=True)\n",
    "    df['thermalChar'].fillna(value=df['thermalChar'].mean(), inplace=True)\n",
    "    df['numberOfFloors'].fillna(value=df['numberOfFloors'].mean().round(0), inplace=True)\n",
    "    df['floor'].fillna(value=df['floor'].mean().round(0), inplace=True)\n",
    "    df['pricetrend'].fillna(value=df['pricetrend'].mean(), inplace=True)\n",
    "    df['condition'].fillna('other', inplace=True)\n",
    "    df['yearConstructed'].fillna(df.groupby('condition')['yearConstructed'].\\\n",
    "                                 transform('mean').round(0), inplace=True)\n",
    "    df['interiorQual'].fillna('other', inplace=True)\n",
    "    df['streetPlain'].fillna('other', inplace=True)\n",
    "    df['description'].fillna('other', inplace=True)\n",
    "    df['facilities'].fillna('other', inplace=True)\n",
    "\n",
    "    df['has_refurbished'] = df['lastRefurbish'].apply(lambda x: False if math.isnan(x) else True)\n",
    "    \n",
    "\n",
    "    df.drop(df.loc[df['telekomTvOffer'].isna()].index, inplace=True, axis=0)\n",
    "    df.drop(df.loc[df['totalRent'].isna()].index, inplace=True, axis=0)        \n",
    "    df.drop(df.loc[((df['totalRent'] < 250) | (df['totalRent'] > 3300))].index,\n",
    "            inplace=True, axis=0)\n",
    "\n",
    "    df['floor_division'] = df['floor'] / df['numberOfFloors'] \n",
    "    df['meter_price'] = df['baseRent'] / df['livingSpace']\n",
    "\n",
    "    drop_cols = [\"houseNumber\", \"geo_krs\", \"geo_bln\", \"street\",\n",
    "                 \"noRooms\", \"livingSpace\", \"baseRent\",\n",
    "                 \"energyEfficiencyClass\", \"yearConstructedRange\",\n",
    "                 \"telekomHybridUploadSpeed\", \"date\",\n",
    "                 \"electricityBasePrice\", \"electricityKwhPrice\",\n",
    "                 \"serviceCharge\", \"heatingCosts\", \"lastRefurbish\"]\n",
    "\n",
    "    df.drop(drop_cols, inplace=True, axis=1)\n",
    "\n",
    "    df.drop_duplicates(keep='first', inplace=True)\n",
    "\n",
    "    print(\"Shape dataframe before drop section: \", pre_size_df)\n",
    "    print(\"Shape dataframe after drop section: \", df.shape)\n",
    "    print(f\"{pre_size_df[0] - df.shape[0]} instances were droped. \\\n",
    "          ({((pre_size_df[0] - df.shape[0]) / pre_size_df[0]) * 100 } % of the whole dataset.) \\\n",
    "          {len(drop_cols)} columns were droped, and 2 were added.\")\n",
    "\n",
    "    df.set_index('scoutId', inplace=True)\n",
    "\n",
    "    return df"
   ]
  },
  {
   "cell_type": "code",
   "execution_count": 36,
   "metadata": {},
   "outputs": [
    {
     "name": "stdout",
     "output_type": "stream",
     "text": [
      "Shape dataframe before drop section:  (268850, 49)\n",
      "Shape dataframe after drop section:  (256502, 36)\n",
      "12348 instances were droped.           (4.592895666728659 % of the whole dataset.)           16 columns were droped, and 2 were added.\n",
      "time:  3.1143739223480225\n"
     ]
    },
    {
     "data": {
      "text/plain": [
       "regio1                0.0\n",
       "heatingType           0.0\n",
       "telekomTvOffer        0.0\n",
       "newlyConst            0.0\n",
       "balcony               0.0\n",
       "picturecount          0.0\n",
       "pricetrend            0.0\n",
       "telekomUploadSpeed    0.0\n",
       "totalRent             0.0\n",
       "yearConstructed       0.0\n",
       "noParkSpaces          0.0\n",
       "firingTypes           0.0\n",
       "hasKitchen            0.0\n",
       "cellar                0.0\n",
       "condition             0.0\n",
       "interiorQual          0.0\n",
       "petsAllowed           0.0\n",
       "streetPlain           0.0\n",
       "lift                  0.0\n",
       "baseRentRange         0.0\n",
       "typeOfFlat            0.0\n",
       "geo_plz               0.0\n",
       "thermalChar           0.0\n",
       "floor                 0.0\n",
       "numberOfFloors        0.0\n",
       "noRoomsRange          0.0\n",
       "garden                0.0\n",
       "livingSpaceRange      0.0\n",
       "regio2                0.0\n",
       "regio3                0.0\n",
       "description           0.0\n",
       "facilities            0.0\n",
       "has_refurbished       0.0\n",
       "floor_division        0.0\n",
       "meter_price           0.0\n",
       "dtype: float64"
      ]
     },
     "execution_count": 36,
     "metadata": {},
     "output_type": "execute_result"
    }
   ],
   "source": [
    "time_start = time.time()\n",
    "df = data_cleaner(df)\n",
    "print(\"time: \", time.time() - time_start)\n",
    "(df.isna().sum() / len(df)) * 100"
   ]
  },
  {
   "cell_type": "code",
   "execution_count": 163,
   "metadata": {},
   "outputs": [
    {
     "data": {
      "text/html": [
       "<div>\n",
       "<style scoped>\n",
       "    .dataframe tbody tr th:only-of-type {\n",
       "        vertical-align: middle;\n",
       "    }\n",
       "\n",
       "    .dataframe tbody tr th {\n",
       "        vertical-align: top;\n",
       "    }\n",
       "\n",
       "    .dataframe thead th {\n",
       "        text-align: right;\n",
       "    }\n",
       "</style>\n",
       "<table border=\"1\" class=\"dataframe\">\n",
       "  <thead>\n",
       "    <tr style=\"text-align: right;\">\n",
       "      <th></th>\n",
       "      <th>regio1</th>\n",
       "      <th>heatingType</th>\n",
       "      <th>telekomTvOffer</th>\n",
       "      <th>newlyConst</th>\n",
       "      <th>balcony</th>\n",
       "      <th>picturecount</th>\n",
       "      <th>pricetrend</th>\n",
       "      <th>telekomUploadSpeed</th>\n",
       "      <th>totalRent</th>\n",
       "      <th>yearConstructed</th>\n",
       "      <th>noParkSpaces</th>\n",
       "      <th>firingTypes</th>\n",
       "      <th>hasKitchen</th>\n",
       "      <th>cellar</th>\n",
       "      <th>condition</th>\n",
       "      <th>interiorQual</th>\n",
       "      <th>petsAllowed</th>\n",
       "      <th>streetPlain</th>\n",
       "      <th>lift</th>\n",
       "      <th>baseRentRange</th>\n",
       "      <th>typeOfFlat</th>\n",
       "      <th>geo_plz</th>\n",
       "      <th>thermalChar</th>\n",
       "      <th>floor</th>\n",
       "      <th>numberOfFloors</th>\n",
       "      <th>noRoomsRange</th>\n",
       "      <th>garden</th>\n",
       "      <th>livingSpaceRange</th>\n",
       "      <th>regio2</th>\n",
       "      <th>regio3</th>\n",
       "      <th>description</th>\n",
       "      <th>facilities</th>\n",
       "      <th>has_refurbished</th>\n",
       "    </tr>\n",
       "    <tr>\n",
       "      <th>scoutId</th>\n",
       "      <th></th>\n",
       "      <th></th>\n",
       "      <th></th>\n",
       "      <th></th>\n",
       "      <th></th>\n",
       "      <th></th>\n",
       "      <th></th>\n",
       "      <th></th>\n",
       "      <th></th>\n",
       "      <th></th>\n",
       "      <th></th>\n",
       "      <th></th>\n",
       "      <th></th>\n",
       "      <th></th>\n",
       "      <th></th>\n",
       "      <th></th>\n",
       "      <th></th>\n",
       "      <th></th>\n",
       "      <th></th>\n",
       "      <th></th>\n",
       "      <th></th>\n",
       "      <th></th>\n",
       "      <th></th>\n",
       "      <th></th>\n",
       "      <th></th>\n",
       "      <th></th>\n",
       "      <th></th>\n",
       "      <th></th>\n",
       "      <th></th>\n",
       "      <th></th>\n",
       "      <th></th>\n",
       "      <th></th>\n",
       "      <th></th>\n",
       "    </tr>\n",
       "  </thead>\n",
       "  <tbody>\n",
       "    <tr>\n",
       "      <th>109376536</th>\n",
       "      <td>Sachsen</td>\n",
       "      <td>district_heating</td>\n",
       "      <td>ONE_YEAR_FREE</td>\n",
       "      <td>False</td>\n",
       "      <td>True</td>\n",
       "      <td>4</td>\n",
       "      <td>2.19</td>\n",
       "      <td>2.4</td>\n",
       "      <td>290.1</td>\n",
       "      <td>1984.0</td>\n",
       "      <td>0.0</td>\n",
       "      <td>district_heating</td>\n",
       "      <td>False</td>\n",
       "      <td>False</td>\n",
       "      <td>negotiable</td>\n",
       "      <td>other</td>\n",
       "      <td>negotiable</td>\n",
       "      <td>Wendel-Roskopf-Str.</td>\n",
       "      <td>False</td>\n",
       "      <td>1</td>\n",
       "      <td>apartment</td>\n",
       "      <td>2828</td>\n",
       "      <td>125.000000</td>\n",
       "      <td>5.0</td>\n",
       "      <td>3.0</td>\n",
       "      <td>3</td>\n",
       "      <td>False</td>\n",
       "      <td>3</td>\n",
       "      <td>Görlitz</td>\n",
       "      <td>Königshufen</td>\n",
       "      <td>Der Stadtteil Königshufen befindet sich im Nor...</td>\n",
       "      <td>Diese Wohnung wird komplett renoviert und nach...</td>\n",
       "      <td>False</td>\n",
       "    </tr>\n",
       "    <tr>\n",
       "      <th>113724699</th>\n",
       "      <td>Sachsen</td>\n",
       "      <td>gas_heating</td>\n",
       "      <td>ONE_YEAR_FREE</td>\n",
       "      <td>False</td>\n",
       "      <td>True</td>\n",
       "      <td>5</td>\n",
       "      <td>-0.20</td>\n",
       "      <td>40.0</td>\n",
       "      <td>345.0</td>\n",
       "      <td>1920.0</td>\n",
       "      <td>0.0</td>\n",
       "      <td>gas</td>\n",
       "      <td>False</td>\n",
       "      <td>True</td>\n",
       "      <td>well_kept</td>\n",
       "      <td>other</td>\n",
       "      <td>negotiable</td>\n",
       "      <td>Orthstraße</td>\n",
       "      <td>False</td>\n",
       "      <td>1</td>\n",
       "      <td>roof_storey</td>\n",
       "      <td>9131</td>\n",
       "      <td>113.222305</td>\n",
       "      <td>4.0</td>\n",
       "      <td>3.0</td>\n",
       "      <td>2</td>\n",
       "      <td>True</td>\n",
       "      <td>2</td>\n",
       "      <td>Chemnitz</td>\n",
       "      <td>Hilbersdorf</td>\n",
       "      <td>Die Wohnung liegt im 4. Obergeschoss eines wun...</td>\n",
       "      <td>großer sonniger Süd-West Balkon\\ngeräumiger Fl...</td>\n",
       "      <td>True</td>\n",
       "    </tr>\n",
       "    <tr>\n",
       "      <th>113150359</th>\n",
       "      <td>Mecklenburg_Vorpommern</td>\n",
       "      <td>no_heating</td>\n",
       "      <td>ONE_YEAR_FREE</td>\n",
       "      <td>False</td>\n",
       "      <td>False</td>\n",
       "      <td>8</td>\n",
       "      <td>2.76</td>\n",
       "      <td>10.0</td>\n",
       "      <td>570.0</td>\n",
       "      <td>1957.0</td>\n",
       "      <td>0.0</td>\n",
       "      <td>gas</td>\n",
       "      <td>False</td>\n",
       "      <td>True</td>\n",
       "      <td>modernized</td>\n",
       "      <td>other</td>\n",
       "      <td>negotiable</td>\n",
       "      <td>Elisabethstraße</td>\n",
       "      <td>False</td>\n",
       "      <td>2</td>\n",
       "      <td>roof_storey</td>\n",
       "      <td>17235</td>\n",
       "      <td>132.000000</td>\n",
       "      <td>2.0</td>\n",
       "      <td>3.0</td>\n",
       "      <td>3</td>\n",
       "      <td>False</td>\n",
       "      <td>3</td>\n",
       "      <td>Mecklenburg_Strelitz_Kreis</td>\n",
       "      <td>Neustrelitz</td>\n",
       "      <td>Es handelt sich um eine große 3 - Zimmer Dachg...</td>\n",
       "      <td>Für einen Aufpreis von 65 € lassen wir in der ...</td>\n",
       "      <td>False</td>\n",
       "    </tr>\n",
       "  </tbody>\n",
       "</table>\n",
       "</div>"
      ],
      "text/plain": [
       "                           regio1       heatingType telekomTvOffer  \\\n",
       "scoutId                                                              \n",
       "109376536                 Sachsen  district_heating  ONE_YEAR_FREE   \n",
       "113724699                 Sachsen       gas_heating  ONE_YEAR_FREE   \n",
       "113150359  Mecklenburg_Vorpommern        no_heating  ONE_YEAR_FREE   \n",
       "\n",
       "           newlyConst  balcony  picturecount  pricetrend  telekomUploadSpeed  \\\n",
       "scoutId                                                                        \n",
       "109376536       False     True             4        2.19                 2.4   \n",
       "113724699       False     True             5       -0.20                40.0   \n",
       "113150359       False    False             8        2.76                10.0   \n",
       "\n",
       "           totalRent  yearConstructed  noParkSpaces       firingTypes  \\\n",
       "scoutId                                                                 \n",
       "109376536      290.1           1984.0           0.0  district_heating   \n",
       "113724699      345.0           1920.0           0.0               gas   \n",
       "113150359      570.0           1957.0           0.0               gas   \n",
       "\n",
       "           hasKitchen  cellar   condition interiorQual petsAllowed  \\\n",
       "scoutId                                                              \n",
       "109376536       False   False  negotiable        other  negotiable   \n",
       "113724699       False    True   well_kept        other  negotiable   \n",
       "113150359       False    True  modernized        other  negotiable   \n",
       "\n",
       "                   streetPlain   lift  baseRentRange   typeOfFlat  geo_plz  \\\n",
       "scoutId                                                                      \n",
       "109376536  Wendel-Roskopf-Str.  False              1    apartment     2828   \n",
       "113724699           Orthstraße  False              1  roof_storey     9131   \n",
       "113150359      Elisabethstraße  False              2  roof_storey    17235   \n",
       "\n",
       "           thermalChar  floor  numberOfFloors  noRoomsRange  garden  \\\n",
       "scoutId                                                               \n",
       "109376536   125.000000    5.0             3.0             3   False   \n",
       "113724699   113.222305    4.0             3.0             2    True   \n",
       "113150359   132.000000    2.0             3.0             3   False   \n",
       "\n",
       "           livingSpaceRange                      regio2       regio3  \\\n",
       "scoutId                                                                \n",
       "109376536                 3                     Görlitz  Königshufen   \n",
       "113724699                 2                    Chemnitz  Hilbersdorf   \n",
       "113150359                 3  Mecklenburg_Strelitz_Kreis  Neustrelitz   \n",
       "\n",
       "                                                 description  \\\n",
       "scoutId                                                        \n",
       "109376536  Der Stadtteil Königshufen befindet sich im Nor...   \n",
       "113724699  Die Wohnung liegt im 4. Obergeschoss eines wun...   \n",
       "113150359  Es handelt sich um eine große 3 - Zimmer Dachg...   \n",
       "\n",
       "                                                  facilities  has_refurbished  \n",
       "scoutId                                                                        \n",
       "109376536  Diese Wohnung wird komplett renoviert und nach...            False  \n",
       "113724699  großer sonniger Süd-West Balkon\\ngeräumiger Fl...             True  \n",
       "113150359  Für einen Aufpreis von 65 € lassen wir in der ...            False  "
      ]
     },
     "execution_count": 163,
     "metadata": {},
     "output_type": "execute_result"
    }
   ],
   "source": [
    "df.loc[df.duplicated()].head(3) \n",
    "\n",
    "# added drop duplicate values to data cleaner function."
   ]
  },
  {
   "cell_type": "code",
   "execution_count": 178,
   "metadata": {},
   "outputs": [
    {
     "name": "stdout",
     "output_type": "stream",
     "text": [
      "<class 'pandas.core.frame.DataFrame'>\n",
      "Int64Index: 256224 entries, 96107057 to 110938302\n",
      "Data columns (total 35 columns):\n",
      " #   Column              Non-Null Count   Dtype  \n",
      "---  ------              --------------   -----  \n",
      " 0   regio1              256224 non-null  object \n",
      " 1   heatingType         256224 non-null  object \n",
      " 2   telekomTvOffer      256224 non-null  object \n",
      " 3   newlyConst          256224 non-null  bool   \n",
      " 4   balcony             256224 non-null  bool   \n",
      " 5   picturecount        256224 non-null  int64  \n",
      " 6   pricetrend          256224 non-null  float64\n",
      " 7   telekomUploadSpeed  256224 non-null  float64\n",
      " 8   totalRent           256224 non-null  float64\n",
      " 9   yearConstructed     256224 non-null  float64\n",
      " 10  noParkSpaces        256224 non-null  float64\n",
      " 11  firingTypes         256224 non-null  object \n",
      " 12  hasKitchen          256224 non-null  bool   \n",
      " 13  cellar              256224 non-null  bool   \n",
      " 14  condition           256224 non-null  object \n",
      " 15  interiorQual        256224 non-null  object \n",
      " 16  petsAllowed         256224 non-null  object \n",
      " 17  streetPlain         256224 non-null  object \n",
      " 18  lift                256224 non-null  bool   \n",
      " 19  baseRentRange       256224 non-null  int64  \n",
      " 20  typeOfFlat          256224 non-null  object \n",
      " 21  geo_plz             256224 non-null  int64  \n",
      " 22  thermalChar         256224 non-null  float64\n",
      " 23  floor               256224 non-null  float64\n",
      " 24  numberOfFloors      256224 non-null  float64\n",
      " 25  noRoomsRange        256224 non-null  int64  \n",
      " 26  garden              256224 non-null  bool   \n",
      " 27  livingSpaceRange    256224 non-null  int64  \n",
      " 28  regio2              256224 non-null  object \n",
      " 29  regio3              256224 non-null  object \n",
      " 30  description         256224 non-null  object \n",
      " 31  facilities          256224 non-null  object \n",
      " 32  has_refurbished     256224 non-null  bool   \n",
      " 33  floor_division      256224 non-null  float64\n",
      " 34  meter_price         256224 non-null  float64\n",
      "dtypes: bool(7), float64(10), int64(5), object(13)\n",
      "memory usage: 58.4+ MB\n"
     ]
    }
   ],
   "source": [
    "df.info()"
   ]
  },
  {
   "cell_type": "code",
   "execution_count": 12,
   "metadata": {},
   "outputs": [
    {
     "name": "stdout",
     "output_type": "stream",
     "text": [
      "0.02897120888241604\n"
     ]
    },
    {
     "data": {
      "text/plain": [
       "<AxesSubplot:>"
      ]
     },
     "execution_count": 12,
     "metadata": {},
     "output_type": "execute_result"
    },
    {
     "data": {
      "image/png": "[encoded data removed]",
      "text/plain": [
       "<Figure size 864x576 with 1 Axes>"
      ]
     },
     "metadata": {},
     "output_type": "display_data"
    }
   ],
   "source": [
    "print(len(df.loc[df['floor_division'] > 3.5, 'floor_division']) / len(df) * 100)\n",
    "df.loc[df['floor_division'] < 3.6, 'floor_division'].hist()"
   ]
  },
  {
   "cell_type": "code",
   "execution_count": 17,
   "metadata": {},
   "outputs": [
    {
     "name": "stdout",
     "output_type": "stream",
     "text": [
      "0.33434341061599054\n"
     ]
    },
    {
     "data": {
      "text/plain": [
       "<AxesSubplot:>"
      ]
     },
     "execution_count": 17,
     "metadata": {},
     "output_type": "execute_result"
    },
    {
     "data": {
      "image/png": "[encoded data removed]",
      "text/plain": [
       "<Figure size 864x576 with 1 Axes>"
      ]
     },
     "metadata": {},
     "output_type": "display_data"
    }
   ],
   "source": [
    "print(len(df.loc[df['meter_price'] > 33, 'meter_price']) / len(df) * 100)\n",
    "df.loc[df['meter_price'] < 33, 'meter_price'].hist()"
   ]
  },
  {
   "cell_type": "code",
   "execution_count": 18,
   "metadata": {},
   "outputs": [],
   "source": [
    "df.drop(df.loc[df['floor_division'] > 3.5].index, inplace=True)\n",
    "df.drop(df.loc[df['meter_price'] > 33].index, inplace=True)"
   ]
  },
  {
   "cell_type": "code",
   "execution_count": 19,
   "metadata": {},
   "outputs": [],
   "source": [
    "df.to_csv(\"data/cleaned.csv\")"
   ]
  },
  {
   "cell_type": "code",
   "execution_count": null,
   "metadata": {},
   "outputs": [],
   "source": []
  },
  {
   "cell_type": "markdown",
   "metadata": {},
   "source": [
    "## Multiprocessing"
   ]
  },
  {
   "cell_type": "code",
   "execution_count": 6,
   "metadata": {},
   "outputs": [],
   "source": [
    "from multiprocessing import Pool\n",
    "import cleaner\n",
    "\n",
    "\n",
    "if __name__ == \"__main__\":\n",
    "    times = []\n",
    "    for n_procs in range(2, 20):\n",
    "        splits = np.array_split(df_multiprocess, n_procs)\n",
    "        time_start = time.time()\n",
    "        with Pool(n_procs) as p:\n",
    "            final_df = pd.concat(p.map(cleaner.data_cleaner, splits))\n",
    "        times.append(time.time() - time_start)"
   ]
  },
  {
   "cell_type": "code",
   "execution_count": 19,
   "metadata": {},
   "outputs": [
    {
     "data": {
      "image/png": "[encoded data removed]",
      "text/plain": [
       "<Figure size 864x576 with 1 Axes>"
      ]
     },
     "metadata": {},
     "output_type": "display_data"
    }
   ],
   "source": [
    "plt.plot(range(2, 20), times)\n",
    "plt.xticks(range(2, 20))\n",
    "axis = plt.gca()\n",
    "axis.set_xlabel(\"Number of processes\")\n",
    "axis.set_ylabel(\"Time\")\n",
    "plt.title(\"Consumed time in multiprocessing based on number of processes\")\n",
    "plt.show()"
   ]
  },
  {
   "cell_type": "code",
   "execution_count": 22,
   "metadata": {},
   "outputs": [
    {
     "data": {
      "text/plain": [
       "3.428617238998413"
      ]
     },
     "execution_count": 22,
     "metadata": {},
     "output_type": "execute_result"
    }
   ],
   "source": [
    "min(times)"
   ]
  },
  {
   "cell_type": "markdown",
   "metadata": {},
   "source": [
    "## Dask"
   ]
  },
  {
   "cell_type": "code",
   "execution_count": 23,
   "metadata": {},
   "outputs": [],
   "source": [
    "import dask\n",
    "import dask.dataframe as dd"
   ]
  },
  {
   "cell_type": "code",
   "execution_count": 43,
   "metadata": {},
   "outputs": [
    {
     "name": "stdout",
     "output_type": "stream",
     "text": [
      "Shape dataframe before drop section:  (134425, 49)\n",
      "Shape dataframe after drop section:  (128084, 36)\n",
      "6341 instances were droped.           (4.717128510321741 % of the whole dataset.)           16 columns were droped, and 2 were added.\n",
      "Shape dataframe before drop section:  (134425, 49)\n",
      "Shape dataframe after drop section:  (128418, 36)\n",
      "6007 instances were droped.           (4.468662823135578 % of the whole dataset.)           16 columns were droped, and 2 were added.\n",
      "Shape dataframe before drop section:  (89617, 49)\n",
      "Shape dataframe after drop section:  (85361, 36)\n",
      "4256 instances were droped.           (4.749098943280851 % of the whole dataset.)           16 columns were droped, and 2 were added.\n",
      "Shape dataframe before drop section:  (89617, 49)\n",
      "Shape dataframe after drop section:  (85462, 36)\n",
      "4155 instances were droped.           (4.63639711215506 % of the whole dataset.)           16 columns were droped, and 2 were added.\n",
      "Shape dataframe before drop section:  (89616, 49)\n",
      "Shape dataframe after drop section:  (85679, 36)\n",
      "3937 instances were droped.           (4.39318871630066 % of the whole dataset.)           16 columns were droped, and 2 were added.\n",
      "Shape dataframe before drop section:  (67211, 49)\n",
      "Shape dataframe after drop section:  (64259, 36)\n",
      "2952 instances were droped.           (4.392138191665055 % of the whole dataset.)           16 columns were droped, and 2 were added.\n",
      "Shape dataframe before drop section:  (67213, 49)\n",
      "Shape dataframe after drop section:  (64069, 36)\n",
      "3144 instances were droped.           (4.677666522845283 % of the whole dataset.)           16 columns were droped, and 2 were added.\n",
      "Shape dataframe before drop section:  (67213, 49)\n",
      "Shape dataframe after drop section:  (64016, 36)\n",
      "3197 instances were droped.           (4.756520316010296 % of the whole dataset.)           16 columns were droped, and 2 were added.\n",
      "Shape dataframe before drop section:  (67213, 49)\n",
      "Shape dataframe after drop section:  (64158, 36)\n",
      "3055 instances were droped.           (4.54525166262479 % of the whole dataset.)           16 columns were droped, and 2 were added.\n",
      "Shape dataframe before drop section: Shape dataframe before drop section:   (53770, 49)\n",
      "Shape dataframe after drop section:  (51383, 36)\n",
      "2387 instances were droped.           (4.43927840803422 % of the whole dataset.)           16 columns were droped, and 2 were added.\n",
      "(53770, 49)\n",
      "Shape dataframe after drop section:  (51264, 36)\n",
      "2506 instances were droped.           (4.660591407848242 % of the whole dataset.)           16 columns were droped, and 2 were added.\n",
      "Shape dataframe before drop section:  Shape dataframe before drop section: (53770, 49)\n",
      "Shape dataframe after drop section:  (51419, 36)\n",
      "2351 instances were droped.           (4.372326576157709 % of the whole dataset.)           16 columns were droped, and 2 were added. (53770, 49)\n",
      "Shape dataframe after drop section:  (51183, 36)\n",
      "2587 instances were droped.           (4.811233029570392 % of the whole dataset.)           16 columns were droped, and 2 were added.\n",
      "\n",
      "Shape dataframe before drop section:  (53770, 49)\n",
      "Shape dataframe after drop section:  (51253, 36)\n",
      "2517 instances were droped.           (4.6810489120327325 % of the whole dataset.)           16 columns were droped, and 2 were added.\n",
      "Shape dataframe before drop section:  (44809, 49)\n",
      "Shape dataframe after drop section:  (42739, 36)\n",
      "2070 instances were droped.           (4.61960766810239 % of the whole dataset.)           16 columns were droped, and 2 were added.\n",
      "Shape dataframe before drop section:  (44809, 49)\n",
      "Shape dataframe after drop section:  (42701, 36)\n",
      "2108 instances were droped.           (4.704412060077217 % of the whole dataset.)           16 columns were droped, and 2 were added.\n",
      "Shape dataframe before drop section:  (44805, 49)\n",
      "Shape dataframe after drop section:  (42863, 36)\n",
      "1942 instances were droped.           (4.334337685526169 % of the whole dataset.)           16 columns were droped, and 2 were added.\n",
      "Shape dataframe before drop section:  Shape dataframe before drop section: (44809, 49)\n",
      " Shape dataframe after drop section: (44809, 49)\n",
      "Shape dataframe after drop section:  (42724, 36) (42814, 36)\n",
      "1995 instances were droped.           (4.452230578678391 % of the whole dataset.)           16 columns were droped, and 2 were added.\n",
      "\n",
      "2085 instances were droped.           (4.6530830859871894 % of the whole dataset.)           16 columns were droped, and 2 were added.\n",
      "Shape dataframe before drop section:  (44809, 49)\n",
      "Shape dataframe after drop section:  (42661, 36)\n",
      "2148 instances were droped.           (4.79367984110335 % of the whole dataset.)           16 columns were droped, and 2 were added.\n",
      "Shape dataframe before drop section: Shape dataframe before drop section:  (38408, 49)\n",
      "Shape dataframe after drop section:  (36625, 36)\n",
      "1783 instances were droped.           (4.642262028744012 % of the whole dataset.)           16 columns were droped, and 2 were added.\n",
      " (38408, 49)\n",
      "Shape dataframe after drop section:  (36607, 36)\n",
      "1801 instances were droped.           (4.689127265153093 % of the whole dataset.)           16 columns were droped, and 2 were added.\n",
      "Shape dataframe before drop section: Shape dataframe before drop section:  (38408, 49)\n",
      "Shape dataframe after drop section:  (36671, 36)\n",
      "1737 instances were droped.           (4.522495313476359 % of the whole dataset.)           16 columns were droped, and 2 were added.\n",
      " (38408, 49)\n",
      "Shape dataframe after drop section:  (36602, 36)\n",
      "1806 instances were droped.           (4.702145386377838 % of the whole dataset.)           16 columns were droped, and 2 were added.\n",
      "Shape dataframe before drop section:  (38408, 49)\n",
      "Shape dataframe after drop section:  (36569, 36)\n",
      "1839 instances were droped.           (4.788064986461154 % of the whole dataset.)           16 columns were droped, and 2 were added.\n",
      "Shape dataframe before drop section:  (38408, 49)\n",
      "Shape dataframe after drop section:  (36697, 36)\n",
      "1711 instances were droped.           (4.454801083107686 % of the whole dataset.)           16 columns were droped, and 2 were added.\n",
      "Shape dataframe before drop section:  (38402, 49)\n",
      "Shape dataframe after drop section:  (36731, 36)\n",
      "1671 instances were droped.           (4.351335867923545 % of the whole dataset.)           16 columns were droped, and 2 were added.\n",
      "Shape dataframe before drop section:  (33607, 49)\n",
      "Shape dataframe after drop section:  (32031, 36)\n",
      "1576 instances were droped.           (4.6894992114738 % of the whole dataset.)           16 columns were droped, and 2 were added.\n",
      "Shape dataframe before drop section:  (33601, 49)\n",
      "Shape dataframe after drop section:  (32147, 36)\n",
      "1454 instances were droped.           (4.327252165114134 % of the whole dataset.)           16 columns were droped, and 2 were added.\n",
      "Shape dataframe before drop section:  Shape dataframe before drop section:  (33607, 49)\n",
      "Shape dataframe after drop section:  (32138, 36)\n",
      "1469 instances were droped.           (4.371113160948612 % of the whole dataset.)           16 columns were droped, and 2 were added.\n",
      "(33607, 49)\n",
      "Shape dataframe after drop section:  (32021, 36)\n",
      "1586 instances were droped.           (4.7192549171303595 % of the whole dataset.)           16 columns were droped, and 2 were added.\n",
      "Shape dataframe before drop section:  (33607, 49)\n",
      "Shape dataframe after drop section:  (32109, 36)\n",
      "1498 instances were droped.           (4.457404707352635 % of the whole dataset.)           16 columns were droped, and 2 were added.\n",
      "Shape dataframe before drop section: Shape dataframe before drop section:  (33607, 49)\n",
      " Shape dataframe after drop section:  (31947, 36)\n",
      "1660 instances were droped.           (4.939447138988902 % of the whole dataset.)           16 columns were droped, and 2 were added.\n",
      "(33607, 49)\n",
      "Shape dataframe after drop section:  (32039, 36)\n",
      "1568 instances were droped.           (4.665694646948553 % of the whole dataset.)           16 columns were droped, and 2 were added.\n",
      "Shape dataframe before drop section:  (33607, 49)\n",
      "Shape dataframe after drop section:  (32070, 36)\n",
      "1537 instances were droped.           (4.573451959413218 % of the whole dataset.)           16 columns were droped, and 2 were added.\n",
      "Shape dataframe before drop section:  (29873, 49)\n",
      "Shape dataframe after drop section:  (28556, 36)\n",
      "1317 instances were droped.           (4.408663341478928 % of the whole dataset.)           16 columns were droped, and 2 were added.\n",
      "Shape dataframe before drop section:  (29873, 49)\n",
      "Shape dataframe after drop section:  (28494, 36)\n",
      "1379 instances were droped.           (4.616208616476417 % of the whole dataset.)           16 columns were droped, and 2 were added.\n",
      "Shape dataframe before drop section:  (29873, 49)\n",
      "Shape dataframe after drop section:  (28486, 36)\n",
      "1387 instances were droped.           (4.642988651959964 % of the whole dataset.)           16 columns were droped, and 2 were added.\n",
      "Shape dataframe before drop section:  (29873, 49)\n",
      "Shape dataframe after drop section:  (28453, 36)\n",
      "1420 instances were droped.           (4.753456298329596 % of the whole dataset.)           16 columns were droped, and 2 were added.\n",
      "Shape dataframe before drop section:  (29873, 49)\n",
      "Shape dataframe after drop section:  (28576, 36)\n",
      "1297 instances were droped.           (4.34171325277006 % of the whole dataset.)           16 columns were droped, and 2 were added.\n",
      "Shape dataframe before drop section:  (29873, 49)\n",
      "Shape dataframe after drop section:  (28416, 36)\n",
      "1457 instances were droped.           (4.877313962441001 % of the whole dataset.)           16 columns were droped, and 2 were added.\n",
      "Shape dataframe before drop section:  (29873, 49)\n",
      "Shape dataframe after drop section:  (28482, 36)\n",
      "1391 instances were droped.           (4.656378669701737 % of the whole dataset.)           16 columns were droped, and 2 were added.\n",
      "Shape dataframe before drop section:  (29873, 49)\n",
      "Shape dataframe after drop section:  (28496, 36)\n",
      "1377 instances were droped.           (4.60951360760553 % of the whole dataset.)           16 columns were droped, and 2 were added.\n",
      "Shape dataframe before drop section:  (29866, 49)\n",
      "Shape dataframe after drop section:  (28543, 36)\n",
      "1323 instances were droped.           (4.429786379160249 % of the whole dataset.)           16 columns were droped, and 2 were added.\n",
      "Shape dataframe before drop section:  (26885, 49)\n",
      "Shape dataframe after drop section:  (25616, 36)\n",
      "1269 instances were droped.           (4.72010414729403 % of the whole dataset.)           16 columns were droped, and 2 were added.\n",
      "Shape dataframe before drop section: Shape dataframe before drop section:  (26885, 49) \n",
      "Shape dataframe after drop section:  (25687, 36)\n",
      "1198 instances were droped.           (4.456016366003348 % of the whole dataset.)           16 columns were droped, and 2 were added.\n",
      "(26885, 49)\n",
      "Shape dataframe after drop section:  (25652, 36)\n",
      "1233 instances were droped.           (4.586200483541008 % of the whole dataset.)           16 columns were droped, and 2 were added.\n",
      "Shape dataframe before drop section:  (26885, 49)\n",
      "Shape dataframe after drop section:  (25696, 36)\n",
      "1189 instances were droped.           (4.4225404500650916 % of the whole dataset.)           16 columns were droped, and 2 were added.\n",
      "Shape dataframe before drop section:  (26885, 49)\n",
      "Shape dataframe after drop section:  (25602, 36)\n",
      "1283 instances were droped.           (4.772177794309094 % of the whole dataset.)           16 columns were droped, and 2 were added.\n",
      "Shape dataframe before drop section:  (26885, 49)\n",
      "Shape dataframe after drop section:  (25581, 36)\n",
      "1304 instances were droped.           (4.850288264831691 % of the whole dataset.)           16 columns were droped, and 2 were added.\n",
      "Shape dataframe before drop section:  (26885, 49)\n",
      "Shape dataframe after drop section:  (25601, 36)\n",
      "1284 instances were droped.           (4.775897340524456 % of the whole dataset.)           16 columns were droped, and 2 were added.\n",
      "Shape dataframe before drop section:  (26885, 49)\n",
      "Shape dataframe after drop section:  (25648, 36)\n",
      "1237 instances were droped.           (4.601078668402455 % of the whole dataset.)           16 columns were droped, and 2 were added.\n",
      "Shape dataframe before drop section:  (26885, 49)\n",
      "Shape dataframe after drop section:  (25691, 36)\n",
      "1194 instances were droped.           (4.441138181141901 % of the whole dataset.)           16 columns were droped, and 2 were added.\n",
      "Shape dataframe before drop section:  (26885, 49)\n",
      "Shape dataframe after drop section:  (25728, 36)\n",
      "1157 instances were droped.           (4.303514971173517 % of the whole dataset.)           16 columns were droped, and 2 were added.\n",
      "Shape dataframe before drop section:  (24441, 49)\n",
      "Shape dataframe after drop section:  (23262, 36)\n",
      "1179 instances were droped.           (4.823861544126673 % of the whole dataset.)           16 columns were droped, and 2 were added.\n",
      "Shape dataframe before drop section:  (24441, 49)\n",
      "Shape dataframe after drop section:  (23272, 36)\n",
      "1169 instances were droped.           (4.782946687942392 % of the whole dataset.)           16 columns were droped, and 2 were added.\n",
      "Shape dataframe before drop section:  (24441, 49)\n",
      "Shape dataframe after drop section:  (23326, 36)\n",
      "1115 instances were droped.           (4.562006464547277 % of the whole dataset.)           16 columns were droped, and 2 were added.\n",
      "Shape dataframe before drop section:  (24441, 49)\n",
      "Shape dataframe after drop section:  (23245, 36)\n",
      "1196 instances were droped.           (4.893416799639949 % of the whole dataset.)           16 columns were droped, and 2 were added.\n",
      "Shape dataframe before drop section: Shape dataframe before drop section:  (24441, 49)\n",
      "Shape dataframe after drop section:  (23391, 36)\n",
      "1050 instances were droped.           (4.296059899349454 % of the whole dataset.)           16 columns were droped, and 2 were added.\n",
      " (24441, 49)\n",
      "Shape dataframe after drop section:  (23352, 36)\n",
      "1089 instances were droped.           (4.455627838468148 % of the whole dataset.)           16 columns were droped, and 2 were added.\n",
      "Shape dataframe before drop section:  (24441, 49)\n",
      "Shape dataframe after drop section:  (23265, 36)\n",
      "1176 instances were droped.           (4.811587087271389 % of the whole dataset.)           16 columns were droped, and 2 were added.\n",
      "Shape dataframe before drop section:  (24441, 49)\n",
      "Shape dataframe after drop section:  (23299, 36)\n",
      "1142 instances were droped.           (4.672476576244835 % of the whole dataset.)           16 columns were droped, and 2 were added.\n",
      "Shape dataframe before drop section:  (24441, 49)\n",
      "Shape dataframe after drop section:  (23334, 36)\n",
      "1107 instances were droped.           (4.529274579599853 % of the whole dataset.)           16 columns were droped, and 2 were added.\n",
      "Shape dataframe before drop section:  (24441, 49)Shape dataframe before drop section:  \n",
      "Shape dataframe after drop section:  (23417, 36)\n",
      "1024 instances were droped.           (4.189681273270325 % of the whole dataset.)           16 columns were droped, and 2 were added.\n",
      "(24440, 49)\n",
      "Shape dataframe after drop section:  (23339, 36)\n",
      "1101 instances were droped.           (4.504909983633388 % of the whole dataset.)           16 columns were droped, and 2 were added.\n",
      "Shape dataframe before drop section:  (22405, 49)\n",
      "Shape dataframe after drop section:  (21313, 36)\n",
      "1092 instances were droped.           (4.873912073197947 % of the whole dataset.)           16 columns were droped, and 2 were added.\n",
      "Shape dataframe before drop section:  (22405, 49)\n",
      "Shape dataframe after drop section:  (21393, 36)\n",
      "1012 instances were droped.           (4.51684891765231 % of the whole dataset.)           16 columns were droped, and 2 were added.\n",
      "Shape dataframe before drop section:  (22405, 49)\n",
      "Shape dataframe after drop section:  (21375, 36)\n",
      "1030 instances were droped.           (4.597188127650078 % of the whole dataset.)           16 columns were droped, and 2 were added.\n",
      "Shape dataframe before drop section:  (22405, 49)\n",
      "Shape dataframe after drop section: Shape dataframe before drop section:   (22405, 49)\n",
      "Shape dataframe after drop section:  (21369, 36)\n",
      "1036 instances were droped.           (4.623967864316001 % of the whole dataset.)           16 columns were droped, and 2 were added.\n",
      "(21293, 36)\n",
      "1112 instances were droped.           (4.963177862084356 % of the whole dataset.)           16 columns were droped, and 2 were added.\n",
      "Shape dataframe before drop section:  (22405, 49)\n",
      "Shape dataframe after drop section:  (21347, 36)\n",
      "1058 instances were droped.           (4.722160232091051 % of the whole dataset.)           16 columns were droped, and 2 were added.\n",
      "Shape dataframe before drop section:  (22405, 49)\n",
      "Shape dataframe after drop section:  (21389, 36)\n",
      "1016 instances were droped.           (4.534702075429592 % of the whole dataset.)           16 columns were droped, and 2 were added.\n",
      "Shape dataframe before drop section:  (22405, 49)\n",
      "Shape dataframe after drop section:  (21350, 36)\n",
      "1055 instances were droped.           (4.70877036375809 % of the whole dataset.)           16 columns were droped, and 2 were added.\n",
      "Shape dataframe before drop section:  (22405, 49)\n",
      "Shape dataframe after drop section:  (21420, 36)\n",
      "985 instances were droped.           (4.396340102655658 % of the whole dataset.)           16 columns were droped, and 2 were added.\n",
      "Shape dataframe before drop section:  (22405, 49)\n",
      "Shape dataframe after drop section:  (21395, 36)\n",
      "1010 instances were droped.           (4.507922338763668 % of the whole dataset.)           16 columns were droped, and 2 were added.\n",
      "Shape dataframe before drop section:  (22405, 49)\n",
      "Shape dataframe after drop section:  (21488, 36)\n",
      "917 instances were droped.           (4.0928364204418655 % of the whole dataset.)           16 columns were droped, and 2 were added.\n",
      "Shape dataframe before drop section:  (22395, 49)\n",
      "Shape dataframe after drop section:  (21370, 36)\n",
      "1025 instances were droped.           (4.576914489841482 % of the whole dataset.)           16 columns were droped, and 2 were added.\n",
      "Shape dataframe before drop section:  (20681, 49)\n",
      "Shape dataframe after drop section:  (19725, 36)\n",
      "956 instances were droped.           (4.622600454523475 % of the whole dataset.)           16 columns were droped, and 2 were added.\n",
      "Shape dataframe before drop section: Shape dataframe before drop section: Shape dataframe before drop section:  (20681, 49)\n",
      "Shape dataframe after drop section:  (19658, 36)\n",
      "1023 instances were droped.           (4.946569314830037 % of the whole dataset.)           16 columns were droped, and 2 were added.\n",
      "  (20681, 49)(20681, 49)\n",
      "\n",
      "Shape dataframe after drop section:  (19761, 36)\n",
      "920 instances were droped.           (4.448527634060249 % of the whole dataset.)           16 columns were droped, and 2 were added.\n",
      "Shape dataframe after drop section:  (19678, 36)\n",
      "1003 instances were droped.           (4.849862192350467 % of the whole dataset.)           16 columns were droped, and 2 were added.\n",
      "Shape dataframe before drop section: Shape dataframe before drop section:  (20681, 49)\n",
      "Shape dataframe after drop section:  (19730, 36)\n",
      "951 instances were droped.           (4.598423673903583 % of the whole dataset.)           16 columns were droped, and 2 were added.\n",
      " (20681, 49)\n",
      "Shape dataframe after drop section:  (19694, 36)\n",
      "987 instances were droped.           (4.77249649436681 % of the whole dataset.)           16 columns were droped, and 2 were added.\n",
      "Shape dataframe before drop section:  (20681, 49)\n",
      "Shape dataframe after drop section:  (19746, 36)\n",
      "935 instances were droped.           (4.521057975919927 % of the whole dataset.)           16 columns were droped, and 2 were added.\n",
      "Shape dataframe before drop section:  (20681, 49)\n",
      "Shape dataframe after drop section:  (19652, 36)\n",
      "1029 instances were droped.           (4.975581451573909 % of the whole dataset.)           16 columns were droped, and 2 were added.\n",
      "Shape dataframe before drop section:  (20681, 49)\n",
      "Shape dataframe after drop section:  (19766, 36)\n",
      "915 instances were droped.           (4.424350853440355 % of the whole dataset.)           16 columns were droped, and 2 were added.\n",
      "Shape dataframe before drop section:  (20681, 49)\n",
      "Shape dataframe after drop section:  (19761, 36)\n",
      "920 instances were droped.           (4.448527634060249 % of the whole dataset.)           16 columns were droped, and 2 were added.\n",
      "Shape dataframe before drop section:  (20681, 49)\n",
      "Shape dataframe after drop section:  (19788, 36)\n",
      "893 instances were droped.           (4.317973018712829 % of the whole dataset.)           16 columns were droped, and 2 were added.\n",
      "Shape dataframe before drop section:  Shape dataframe before drop section:  (20678, 49)\n",
      "Shape dataframe after drop section:  (19747, 36)\n",
      "931 instances were droped.           (4.502369668246446 % of the whole dataset.)           16 columns were droped, and 2 were added.\n",
      "(20681, 49)\n",
      "Shape dataframe after drop section:  (19796, 36)\n",
      "885 instances were droped.           (4.2792901697209995 % of the whole dataset.)           16 columns were droped, and 2 were added.\n",
      "Shape dataframe before drop section:  (19204, 49)\n",
      "Shape dataframe after drop section:  (18358, 36)\n",
      "846 instances were droped.           (4.405332222453655 % of the whole dataset.)           16 columns were droped, and 2 were added.\n",
      "Shape dataframe before drop section:  (19204, 49)\n",
      "Shape dataframe after drop section:  (18309, 36)\n",
      "895 instances were droped.           (4.660487398458654 % of the whole dataset.)           16 columns were droped, and 2 were added.\n",
      "Shape dataframe before drop section:  (19204, 49)\n",
      "Shape dataframe after drop section:  (18316, 36)\n",
      "888 instances were droped.           (4.624036659029369 % of the whole dataset.)           16 columns were droped, and 2 were added.\n",
      "Shape dataframe before drop section:  (19204, 49)\n",
      "Shape dataframe after drop section:  (18261, 36)\n",
      "943 instances were droped.           (4.910435325973755 % of the whole dataset.)           16 columns were droped, and 2 were added.\n",
      "Shape dataframe before drop section:  (19204, 49)\n",
      "Shape dataframe after drop section:  (18308, 36)\n",
      "896 instances were droped.           (4.665694646948553 % of the whole dataset.)           16 columns were droped, and 2 were added.\n",
      "Shape dataframe before drop section:  (19204, 49)\n",
      "Shape dataframe after drop section:  (18244, 36)\n",
      "960 instances were droped.           (4.998958550302021 % of the whole dataset.)           16 columns were droped, and 2 were added.\n",
      "Shape dataframe before drop section:  (19204, 49)\n",
      "Shape dataframe after drop section:  (18268, 36)\n",
      "936 instances were droped.           (4.87398458654447 % of the whole dataset.)           16 columns were droped, and 2 were added.\n",
      "Shape dataframe before drop section:  (19204, 49)\n",
      "Shape dataframe after drop section:  (18339, 36)\n",
      "865 instances were droped.           (4.504269943761717 % of the whole dataset.)           16 columns were droped, and 2 were added.\n",
      "Shape dataframe before drop section:  (19204, 49)\n",
      "Shape dataframe after drop section:  (18304, 36)\n",
      "900 instances were droped.           (4.686523640908144 % of the whole dataset.)           16 columns were droped, and 2 were added.\n",
      "Shape dataframe before drop section:  (19204, 49)\n",
      "Shape dataframe after drop section:  (18367, 36)\n",
      "837 instances were droped.           (4.358466986044574 % of the whole dataset.)           16 columns were droped, and 2 were added.\n",
      "Shape dataframe before drop section:  (19204, 49)\n",
      "Shape dataframe after drop section:  (18354, 36)\n",
      "850 instances were droped.           (4.426161216413247 % of the whole dataset.)           16 columns were droped, and 2 were added.\n",
      "Shape dataframe before drop section: Shape dataframe before drop section:   (19204, 49)\n",
      "Shape dataframe after drop section:  (18343, 36)\n",
      "861 instances were droped.           (4.483440949802125 % of the whole dataset.)           16 columns were droped, and 2 were added.\n",
      "(19204, 49)\n",
      "Shape dataframe after drop section:  (18397, 36)\n",
      "807 instances were droped.           (4.202249531347635 % of the whole dataset.)           16 columns were droped, and 2 were added.\n",
      "Shape dataframe before drop section:  (19198, 49)\n",
      "Shape dataframe after drop section:  (18334, 36)\n",
      "864 instances were droped.           (4.500468798833212 % of the whole dataset.)           16 columns were droped, and 2 were added.\n",
      "Shape dataframe before drop section:  (17924, 49)\n",
      "Shape dataframe after drop section:  (17076, 36)\n",
      "848 instances were droped.           (4.731086810979692 % of the whole dataset.)           16 columns were droped, and 2 were added.\n",
      "Shape dataframe before drop section: Shape dataframe before drop section:   (17924, 49)\n",
      "Shape dataframe after drop section:  (17066, 36)\n",
      "858 instances were droped.           (4.786877929033698 % of the whole dataset.)           16 columns were droped, and 2 were added.\n",
      "(17924, 49)\n",
      "Shape dataframe after drop section:  (17100, 36)\n",
      "824 instances were droped.           (4.597188127650078 % of the whole dataset.)           16 columns were droped, and 2 were added.\n",
      "Shape dataframe before drop section:  (17924, 49)\n",
      "Shape dataframe after drop section:  (17044, 36)\n",
      "880 instances were droped.           (4.90961838875251 % of the whole dataset.)           16 columns were droped, and 2 were added.\n",
      "Shape dataframe before drop section:  (17924, 49)\n",
      "Shape dataframe after drop section:  (17043, 36)\n",
      "881 instances were droped.           (4.915197500557912 % of the whole dataset.)           16 columns were droped, and 2 were added.\n",
      "Shape dataframe before drop section:  (17924, 49)\n",
      "Shape dataframe after drop section:  (17099, 36)\n",
      "825 instances were droped.           (4.602767239455479 % of the whole dataset.)           16 columns were droped, and 2 were added.\n",
      "Shape dataframe before drop section:  (17924, 49)\n",
      "Shape dataframe after drop section:  (17124, 36)\n",
      "800 instances were droped.           (4.463289444320464 % of the whole dataset.)           16 columns were droped, and 2 were added.\n",
      "Shape dataframe before drop section:  (17924, 49)\n",
      "Shape dataframe after drop section:  (17087, 36)\n",
      "837 instances were droped.           (4.669716581120285 % of the whole dataset.)           16 columns were droped, and 2 were added.\n",
      "Shape dataframe before drop section:  (17924, 49)\n",
      "Shape dataframe after drop section:  (17138, 36)\n",
      "786 instances were droped.           (4.385181879044856 % of the whole dataset.)           16 columns were droped, and 2 were added.\n",
      "Shape dataframe before drop section:  (17924, 49)\n",
      "Shape dataframe after drop section:  (17174, 36)\n",
      "750 instances were droped.           (4.184333854050435 % of the whole dataset.)           16 columns were droped, and 2 were added.\n",
      "Shape dataframe before drop section:  (17924, 49)\n",
      "Shape dataframe after drop section:  (17123, 36)\n",
      "801 instances were droped.           (4.468868556125865 % of the whole dataset.)           16 columns were droped, and 2 were added.\n",
      "Shape dataframe before drop section:  (17924, 49)\n",
      "Shape dataframe after drop section:  (17123, 36)\n",
      "801 instances were droped.           (4.468868556125865 % of the whole dataset.)           16 columns were droped, and 2 were added.\n",
      "Shape dataframe before drop section:  (17924, 49)\n",
      "Shape dataframe after drop section:  (17067, 36)\n",
      "857 instances were droped.           (4.781298817228297 % of the whole dataset.)           16 columns were droped, and 2 were added.\n",
      "Shape dataframe before drop section:  (17914, 49)\n",
      "Shape dataframe after drop section: Shape dataframe before drop section:  (17116, 36)\n",
      " 798 instances were droped.           (4.454616501060623 % of the whole dataset.)           16 columns were droped, and 2 were added.\n",
      "(17924, 49)\n",
      "Shape dataframe after drop section:  (17122, 36)\n",
      "802 instances were droped.           (4.4744476679312655 % of the whole dataset.)           16 columns were droped, and 2 were added.\n",
      "Shape dataframe before drop section:  (16804, 49)\n",
      "Shape dataframe after drop section:  (15971, 36)\n",
      "833 instances were droped.           (4.957153058795525 % of the whole dataset.)           16 columns were droped, and 2 were added.\n",
      "Shape dataframe before drop section:  (16804, 49)\n",
      "Shape dataframe after drop section:  (16014, 36)\n",
      "790 instances were droped.           (4.701261604379909 % of the whole dataset.)           16 columns were droped, and 2 were added.\n",
      "Shape dataframe before drop section:  (16804, 49)\n",
      "Shape dataframe after drop section:  (16020, 36)\n",
      "784 instances were droped.           (4.665555820042847 % of the whole dataset.)           16 columns were droped, and 2 were added.\n",
      "Shape dataframe before drop section:  (16804, 49)\n",
      "Shape dataframe after drop section:  (16012, 36)\n",
      "792 instances were droped.           (4.713163532492263 % of the whole dataset.)           16 columns were droped, and 2 were added.\n",
      "Shape dataframe before drop section:  (16804, 49)\n",
      "Shape dataframe after drop section:  (15962, 36)\n",
      "842 instances were droped.           (5.010711735301119 % of the whole dataset.)           16 columns were droped, and 2 were added.\n",
      "Shape dataframe before drop section:  (16804, 49)\n",
      "Shape dataframe after drop section:  (16057, 36)\n",
      "747 instances were droped.           (4.445370149964294 % of the whole dataset.)           16 columns were droped, and 2 were added.\n",
      "Shape dataframe before drop section:  (16804, 49)\n",
      "Shape dataframe after drop section:  (16069, 36)\n",
      "735 instances were droped.           (4.373958581290169 % of the whole dataset.)           16 columns were droped, and 2 were added.\n",
      "Shape dataframe before drop section:  (16804, 49)\n",
      "Shape dataframe after drop section:  (15986, 36)\n",
      "818 instances were droped.           (4.867888597952868 % of the whole dataset.)           16 columns were droped, and 2 were added.\n",
      "Shape dataframe before drop section:  (16804, 49)\n",
      "Shape dataframe after drop section:  (15997, 36)\n",
      "807 instances were droped.           (4.80242799333492 % of the whole dataset.)           16 columns were droped, and 2 were added.\n",
      "Shape dataframe before drop section:  (16804, 49)\n",
      "Shape dataframe after drop section:  (16025, 36)\n",
      "779 instances were droped.           (4.635800999761962 % of the whole dataset.)           16 columns were droped, and 2 were added.\n",
      "Shape dataframe before drop section:  (16804, 49)\n",
      "Shape dataframe after drop section:  (16071, 36)\n",
      "733 instances were droped.           (4.362056653177815 % of the whole dataset.)           16 columns were droped, and 2 were added.\n",
      "Shape dataframe before drop section: Shape dataframe before drop section:  (16804, 49)\n",
      "Shape dataframe after drop section:  (16068, 36)\n",
      "736 instances were droped.           (4.379909545346346 % of the whole dataset.)           16 columns were droped, and 2 were added.\n",
      " (16804, 49)\n",
      "Shape dataframe after drop section:  (16048, 36)\n",
      "756 instances were droped.           (4.498928826469888 % of the whole dataset.)           16 columns were droped, and 2 were added.\n",
      "Shape dataframe before drop section:  (16804, 49)\n",
      "Shape dataframe after drop section:  (16062, 36)\n",
      "742 instances were droped.           (4.415615329683408 % of the whole dataset.)           16 columns were droped, and 2 were added.\n",
      "Shape dataframe before drop section:  (16804, 49)\n",
      "Shape dataframe after drop section:  (16096, 36)\n",
      "708 instances were droped.           (4.213282551773387 % of the whole dataset.)           16 columns were droped, and 2 were added.\n",
      "Shape dataframe before drop section:  (16790, 49)\n",
      "Shape dataframe after drop section:  (16044, 36)\n",
      "746 instances were droped.           (4.443120905300774 % of the whole dataset.)           16 columns were droped, and 2 were added.\n",
      "Shape dataframe before drop section:  (15815, 49)\n",
      "Shape dataframe after drop section:  (15027, 36)\n",
      "788 instances were droped.           (4.982611444830857 % of the whole dataset.)           16 columns were droped, and 2 were added.\n",
      "Shape dataframe before drop section:  Shape dataframe before drop section:  (15815, 49)\n",
      "Shape dataframe after drop section:  (15017, 36)\n",
      "798 instances were droped.           (5.045842554536832 % of the whole dataset.)           16 columns were droped, and 2 were added.\n",
      "(15815, 49)\n",
      "Shape dataframe after drop section:  (15129, 36)\n",
      "686 instances were droped.           (4.337654125829908 % of the whole dataset.)           16 columns were droped, and 2 were added.\n",
      "Shape dataframe before drop section:  (15815, 49)\n",
      "Shape dataframe after drop section:  (15089, 36)\n",
      "726 instances were droped.           (4.59057856465381 % of the whole dataset.)           16 columns were droped, and 2 were added.\n",
      "Shape dataframe before drop section:  (15815, 49)\n",
      "Shape dataframe after drop section:  (15047, 36)\n",
      "768 instances were droped.           (4.856149225418906 % of the whole dataset.)           16 columns were droped, and 2 were added.\n",
      "Shape dataframe before drop section:  (15815, 49)\n",
      "Shape dataframe after drop section:  (15090, 36)\n",
      "725 instances were droped.           (4.5842554536832125 % of the whole dataset.)           16 columns were droped, and 2 were added.\n",
      "Shape dataframe before drop section:  (15815, 49)\n",
      "Shape dataframe after drop section:  (15089, 36)\n",
      "726 instances were droped.           (4.59057856465381 % of the whole dataset.)           16 columns were droped, and 2 were added.\n",
      "Shape dataframe before drop section:  (15815, 49)\n",
      "Shape dataframe after drop section:  (15059, 36)\n",
      "756 instances were droped.           (4.780271893771736 % of the whole dataset.)           16 columns were droped, and 2 were added.\n",
      "Shape dataframe before drop section:  (15815, 49)\n",
      "Shape dataframe after drop section:  (15073, 36)\n",
      "742 instances were droped.           (4.69174834018337 % of the whole dataset.)           16 columns were droped, and 2 were added.\n",
      "Shape dataframe before drop section:  (15815, 49)\n",
      "Shape dataframe after drop section:  (15073, 36)Shape dataframe before drop section: \n",
      " (15815, 49)\n",
      "Shape dataframe after drop section:  (15089, 36)\n",
      "726 instances were droped.           (4.59057856465381 % of the whole dataset.)           16 columns were droped, and 2 were added.\n",
      "742 instances were droped.           (4.69174834018337 % of the whole dataset.)           16 columns were droped, and 2 were added.\n",
      "Shape dataframe before drop section:  (15815, 49)\n",
      "Shape dataframe after drop section:  (15135, 36)\n",
      "680 instances were droped.           (4.299715460006323 % of the whole dataset.)           16 columns were droped, and 2 were added.\n",
      "Shape dataframe before drop section:  (15815, 49)\n",
      "Shape dataframe after drop section:  (15119, 36)\n",
      "696 instances were droped.           (4.400885235535883 % of the whole dataset.)           16 columns were droped, and 2 were added.\n",
      "Shape dataframe before drop section:  (15815, 49)\n",
      "Shape dataframe after drop section:  (15141, 36)\n",
      "674 instances were droped.           (4.2617767941827385 % of the whole dataset.)           16 columns were droped, and 2 were added.\n",
      "Shape dataframe before drop section:  (15815, 49)\n",
      "Shape dataframe after drop section:  (15087, 36)\n",
      "728 instances were droped.           (4.603224786595004 % of the whole dataset.)           16 columns were droped, and 2 were added.\n",
      "Shape dataframe before drop section:  (15815, 49)\n",
      "Shape dataframe after drop section:  (15124, 36)\n",
      "691 instances were droped.           (4.369269680682896 % of the whole dataset.)           16 columns were droped, and 2 were added.\n",
      "Shape dataframe before drop section:  (15810, 49)\n",
      "Shape dataframe after drop section:  (15114, 36)\n",
      "696 instances were droped.           (4.402277039848197 % of the whole dataset.)           16 columns were droped, and 2 were added.\n",
      "Shape dataframe before drop section:  (14937, 49)\n",
      "Shape dataframe after drop section:  (14218, 36)\n",
      "719 instances were droped.           (4.813550244359644 % of the whole dataset.)           16 columns were droped, and 2 were added.\n",
      "Shape dataframe before drop section:  (14937, 49)\n",
      "Shape dataframe after drop section:  (14246, 36)\n",
      "691 instances were droped.           (4.6260962710048865 % of the whole dataset.)           16 columns were droped, and 2 were added.\n",
      "Shape dataframe before drop section:  (14937, 49)\n",
      "Shape dataframe after drop section:  (14208, 36)\n",
      "729 instances were droped.           (4.880498091986342 % of the whole dataset.)           16 columns were droped, and 2 were added.\n",
      "Shape dataframe before drop section:  (14937, 49)\n",
      "Shape dataframe after drop section:  (14208, 36)\n",
      "729 instances were droped.           (4.880498091986342 % of the whole dataset.)           16 columns were droped, and 2 were added.\n",
      "Shape dataframe before drop section:  (14937, 49)\n",
      "Shape dataframe after drop section:  (14217, 36)\n",
      "720 instances were droped.           (4.820245029122313 % of the whole dataset.)           16 columns were droped, and 2 were added.\n",
      "Shape dataframe before drop section:  (14937, 49)\n",
      "Shape dataframe after drop section:  (14200, 36)\n",
      "737 instances were droped.           (4.934056370087702 % of the whole dataset.)           16 columns were droped, and 2 were added.\n",
      "Shape dataframe before drop section:  (14937, 49)\n",
      "Shape dataframe after drop section:  (14278, 36)\n",
      "659 instances were droped.           (4.411863158599451 % of the whole dataset.)           16 columns were droped, and 2 were added.\n",
      "Shape dataframe before drop section:  (14937, 49)\n",
      "Shape dataframe after drop section:  (14287, 36)\n",
      "650 instances were droped.           (4.351610095735422 % of the whole dataset.)           16 columns were droped, and 2 were added.\n",
      "Shape dataframe before drop section:  (14937, 49)\n",
      "Shape dataframe after drop section:  (14254, 36)\n",
      "683 instances were droped.           (4.572537992903528 % of the whole dataset.)           16 columns were droped, and 2 were added.\n",
      "Shape dataframe before drop section:  (14937, 49)\n",
      "Shape dataframe after drop section:  (14230, 36)\n",
      "707 instances were droped.           (4.733212827207605 % of the whole dataset.)           16 columns were droped, and 2 were added.\n",
      "Shape dataframe before drop section:  (14937, 49)\n",
      "Shape dataframe after drop section:  (14209, 36)\n",
      "728 instances were droped.           (4.873803307223673 % of the whole dataset.)           16 columns were droped, and 2 were added.\n",
      "Shape dataframe before drop section:  (14937, 49)\n",
      "Shape dataframe after drop section:  (14278, 36)\n",
      "659 instances were droped.           (4.411863158599451 % of the whole dataset.)           16 columns were droped, and 2 were added.\n",
      "Shape dataframe before drop section:  (14937, 49)\n",
      "Shape dataframe after drop section:  (14295, 36)\n",
      "642 instances were droped.           (4.298051817634063 % of the whole dataset.)           16 columns were droped, and 2 were added.\n",
      "Shape dataframe before drop section:  Shape dataframe before drop section: (14937, 49) (14937, 49)\n",
      "Shape dataframe after drop section:  (14259, 36)\n",
      "678 instances were droped.           (4.539064069090179 % of the whole dataset.)           16 columns were droped, and 2 were added.\n",
      "\n",
      "Shape dataframe before drop section:  (14937, 49)\n",
      "Shape dataframe after drop section:  (14318, 36)\n",
      "619 instances were droped.           (4.144071768092656 % of the whole dataset.)           16 columns were droped, and 2 were added.\n",
      "Shape dataframe after drop section:  (14262, 36)\n",
      "675 instances were droped.           (4.518979714802169 % of the whole dataset.)           16 columns were droped, and 2 were added.\n",
      "Shape dataframe before drop section:  (14937, 49)\n",
      "Shape dataframe after drop section:  (14279, 36)\n",
      "658 instances were droped.           (4.405168373836781 % of the whole dataset.)           16 columns were droped, and 2 were added.\n",
      "Shape dataframe before drop section:  (14921, 49)\n",
      "Shape dataframe after drop section:  (14256, 36)\n",
      "665 instances were droped.           (4.456805844112325 % of the whole dataset.)           16 columns were droped, and 2 were added.\n",
      "Shape dataframe before drop section:  (14150, 49)\n",
      "Shape dataframe after drop section:  (13521, 36)\n",
      "629 instances were droped.           (4.445229681978798 % of the whole dataset.)           16 columns were droped, and 2 were added.\n",
      "Shape dataframe before drop section:  (14150, 49)\n",
      "Shape dataframe after drop section:  (13450, 36)\n",
      "700 instances were droped.           (4.946996466431095 % of the whole dataset.)           16 columns were droped, and 2 were added.\n",
      "Shape dataframe before drop section: Shape dataframe before drop section:  (14150, 49)\n",
      "Shape dataframe after drop section:  (13538, 36)\n",
      "612 instances were droped.           (4.325088339222615 % of the whole dataset.)           16 columns were droped, and 2 were added.\n",
      " (14150, 49)\n",
      "Shape dataframe after drop section:  (13465, 36)\n",
      "685 instances were droped.           (4.840989399293286 % of the whole dataset.)           16 columns were droped, and 2 were added.\n",
      "Shape dataframe before drop section:  (14150, 49)\n",
      "Shape dataframe after drop section:  (13452, 36)\n",
      "698 instances were droped.           (4.932862190812721 % of the whole dataset.)           16 columns were droped, and 2 were added.\n",
      "Shape dataframe before drop section: Shape dataframe before drop section:   (14150, 49)(14150, 49)\n",
      "\n",
      "Shape dataframe after drop section:  (13497, 36)\n",
      "653 instances were droped.           (4.614840989399293 % of the whole dataset.)           16 columns were droped, and 2 were added.\n",
      "Shape dataframe after drop section:  (13451, 36)\n",
      "699 instances were droped.           (4.939929328621908 % of the whole dataset.)           16 columns were droped, and 2 were added.\n",
      "Shape dataframe before drop section:  (14150, 49)\n",
      "Shape dataframe after drop section:  (13465, 36)\n",
      "685 instances were droped.           (4.840989399293286 % of the whole dataset.)           16 columns were droped, and 2 were added.\n",
      "Shape dataframe before drop section:  (14150, 49)\n",
      "Shape dataframe after drop section:  (13500, 36)\n",
      "650 instances were droped.           (4.593639575971731 % of the whole dataset.)           16 columns were droped, and 2 were added.\n",
      "Shape dataframe before drop section:  (14150, 49)\n",
      "Shape dataframe after drop section:  (13495, 36)\n",
      "655 instances were droped.           (4.628975265017668 % of the whole dataset.)           16 columns were droped, and 2 were added.\n",
      "Shape dataframe before drop section:  (14150, 49)\n",
      "Shape dataframe after drop section:  (13527, 36)\n",
      "623 instances were droped.           (4.402826855123674 % of the whole dataset.)           16 columns were droped, and 2 were added.\n",
      "Shape dataframe before drop section:  (14150, 49)\n",
      "Shape dataframe before drop section:  (14150, 49)\n",
      "Shape dataframe after drop section:  (13484, 36)\n",
      "666 instances were droped.           (4.7067137809187285 % of the whole dataset.)           16 columns were droped, and 2 were added.\n",
      "Shape dataframe after drop section:  (13533, 36)\n",
      "617 instances were droped.           (4.360424028268551 % of the whole dataset.)           16 columns were droped, and 2 were added.\n",
      "Shape dataframe before drop section:  (14150, 49)\n",
      "Shape dataframe after drop section:  (13477, 36)\n",
      "673 instances were droped.           (4.756183745583039 % of the whole dataset.)           16 columns were droped, and 2 were added.\n",
      "Shape dataframe before drop section:  (14150, 49)\n",
      "Shape dataframe after drop section:  (13534, 36)\n",
      "616 instances were droped.           (4.353356890459364 % of the whole dataset.)           16 columns were droped, and 2 were added.\n",
      "Shape dataframe before drop section:  (14150, 49)\n",
      "Shape dataframe after drop section:  (13529, 36)\n",
      "621 instances were droped.           (4.3886925795053005 % of the whole dataset.)           16 columns were droped, and 2 were added.\n",
      "Shape dataframe before drop section:  (14150, 49)\n",
      "Shape dataframe after drop section:  (13540, 36)\n",
      "610 instances were droped.           (4.31095406360424 % of the whole dataset.)           16 columns were droped, and 2 were added.\n",
      "Shape dataframe before drop section:  (14150, 49)\n",
      "Shape dataframe after drop section:  (13519, 36)\n",
      "631 instances were droped.           (4.459363957597173 % of the whole dataset.)           16 columns were droped, and 2 were added.\n",
      "Shape dataframe before drop section:  (14150, 49)\n",
      "Shape dataframe after drop section:  (13525, 36)\n",
      "625 instances were droped.           (4.41696113074205 % of the whole dataset.)           16 columns were droped, and 2 were added.\n"
     ]
    }
   ],
   "source": [
    "times_dask = []\n",
    "for npart in range(2, 20):\n",
    "    dask_df = dd.from_pandas(df_dask_copy, npartitions=npart)\n",
    "    time_start = time.time()\n",
    "    dask_df = dask_df.map_partitions(cleaner.data_cleaner, meta=df).compute()\n",
    "    times_dask.append(time.time() - time_start)"
   ]
  },
  {
   "cell_type": "code",
   "execution_count": 44,
   "metadata": {},
   "outputs": [
    {
     "data": {
      "image/png": "[encoded data removed]",
      "text/plain": [
       "<Figure size 864x576 with 1 Axes>"
      ]
     },
     "metadata": {},
     "output_type": "display_data"
    }
   ],
   "source": [
    "plt.plot(range(2, 20), times_dask)\n",
    "plt.xticks(range(2, 20))\n",
    "axis = plt.gca()\n",
    "axis.set_xlabel(\"Number of partitions\")\n",
    "axis.set_ylabel(\"Time\")\n",
    "plt.title(\"Consumed time for preprocessing using Dask based on number of partitions\")\n",
    "plt.show()"
   ]
  },
  {
   "cell_type": "code",
   "execution_count": 45,
   "metadata": {},
   "outputs": [
    {
     "data": {
      "text/plain": [
       "3.393486738204956"
      ]
     },
     "execution_count": 45,
     "metadata": {},
     "output_type": "execute_result"
    }
   ],
   "source": [
    "min(times_dask)"
   ]
  },
  {
   "cell_type": "code",
   "execution_count": null,
   "metadata": {},
   "outputs": [],
   "source": []
  }
 ],
 "metadata": {
  "interpreter": {
   "hash": "8b03d4cd05d71d535371b426da57de743181e37d8974a9636efe6e78873daaed"
  },
  "kernelspec": {
   "display_name": "Python 3.9.6 64-bit",
   "language": "python",
   "name": "python3"
  },
  "language_info": {
   "codemirror_mode": {
    "name": "ipython",
    "version": 3
   },
   "file_extension": ".py",
   "mimetype": "text/x-python",
   "name": "python",
   "nbconvert_exporter": "python",
   "pygments_lexer": "ipython3",
   "version": "3.9.6"
  },
  "orig_nbformat": 4
 },
 "nbformat": 4,
 "nbformat_minor": 2
}
