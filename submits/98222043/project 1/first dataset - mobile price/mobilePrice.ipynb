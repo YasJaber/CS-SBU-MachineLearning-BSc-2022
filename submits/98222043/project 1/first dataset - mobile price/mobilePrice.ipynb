{
  "nbformat": 4,
  "nbformat_minor": 0,
  "metadata": {
    "colab": {
      "name": "mobilePrice.ipynb",
      "provenance": [],
      "collapsed_sections": []
    },
    "kernelspec": {
      "name": "python3",
      "display_name": "Python 3"
    },
    "language_info": {
      "name": "python"
    }
  },
  "cells": [
    {
      "cell_type": "code",
      "execution_count": 1,
      "metadata": {
        "colab": {
          "base_uri": "https://localhost:8080/"
        },
        "id": "VganlOhYXDW_",
        "outputId": "a6a5f5e5-7bd6-4c3e-8e4c-3f1b046a84fb"
      },
      "outputs": [
        {
          "output_type": "stream",
          "name": "stdout",
          "text": [
            "Requirement already satisfied: kaggle in /usr/local/lib/python3.7/dist-packages (1.5.12)\n",
            "Requirement already satisfied: tqdm in /usr/local/lib/python3.7/dist-packages (from kaggle) (4.63.0)\n",
            "Requirement already satisfied: urllib3 in /usr/local/lib/python3.7/dist-packages (from kaggle) (1.24.3)\n",
            "Requirement already satisfied: certifi in /usr/local/lib/python3.7/dist-packages (from kaggle) (2021.10.8)\n",
            "Requirement already satisfied: python-slugify in /usr/local/lib/python3.7/dist-packages (from kaggle) (6.1.1)\n",
            "Requirement already satisfied: requests in /usr/local/lib/python3.7/dist-packages (from kaggle) (2.23.0)\n",
            "Requirement already satisfied: six>=1.10 in /usr/local/lib/python3.7/dist-packages (from kaggle) (1.15.0)\n",
            "Requirement already satisfied: python-dateutil in /usr/local/lib/python3.7/dist-packages (from kaggle) (2.8.2)\n",
            "Requirement already satisfied: text-unidecode>=1.3 in /usr/local/lib/python3.7/dist-packages (from python-slugify->kaggle) (1.3)\n",
            "Requirement already satisfied: chardet<4,>=3.0.2 in /usr/local/lib/python3.7/dist-packages (from requests->kaggle) (3.0.4)\n",
            "Requirement already satisfied: idna<3,>=2.5 in /usr/local/lib/python3.7/dist-packages (from requests->kaggle) (2.10)\n"
          ]
        }
      ],
      "source": [
        "!pip install kaggle"
      ]
    },
    {
      "cell_type": "code",
      "source": [
        "from google.colab import files\n",
        "files.upload()"
      ],
      "metadata": {
        "colab": {
          "base_uri": "https://localhost:8080/",
          "resources": {
            "http://localhost:8080/nbextensions/google.colab/files.js": {
              "data": "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",
              "ok": true,
              "headers": [
                [
                  "content-type",
                  "application/javascript"
                ]
              ],
              "status": 200,
              "status_text": "OK"
            }
          },
          "height": 91
        },
        "id": "wm3WjNsIYEEy",
        "outputId": "c3cfd035-cdc4-4861-96fc-ff886f51b253"
      },
      "execution_count": 2,
      "outputs": [
        {
          "output_type": "display_data",
          "data": {
            "text/plain": [
              "<IPython.core.display.HTML object>"
            ],
            "text/html": [
              "\n",
              "     <input type=\"file\" id=\"files-f52084b8-ace2-4aaa-86d7-bdd53cc07419\" name=\"files[]\" multiple disabled\n",
              "        style=\"border:none\" />\n",
              "     <output id=\"result-f52084b8-ace2-4aaa-86d7-bdd53cc07419\">\n",
              "      Upload widget is only available when the cell has been executed in the\n",
              "      current browser session. Please rerun this cell to enable.\n",
              "      </output>\n",
              "      <script src=\"/nbextensions/google.colab/files.js\"></script> "
            ]
          },
          "metadata": {}
        },
        {
          "output_type": "stream",
          "name": "stdout",
          "text": [
            "Saving kaggle.json to kaggle.json\n"
          ]
        },
        {
          "output_type": "execute_result",
          "data": {
            "text/plain": [
              "{'kaggle.json': b'{\"username\":\"saraa1z\",\"key\":\"c15ae290af9ccd1301d4eb84408fd746\"}'}"
            ]
          },
          "metadata": {},
          "execution_count": 2
        }
      ]
    },
    {
      "cell_type": "code",
      "source": [
        "!mkdir -p ~/.kaggle\n",
        "!cp kaggle.json ~/.kaggle/\n",
        "!chmod 600 ~/.kaggle/kaggle.json"
      ],
      "metadata": {
        "id": "V2xH6L8UYwvk"
      },
      "execution_count": 3,
      "outputs": []
    },
    {
      "cell_type": "code",
      "source": [
        "!kaggle datasets download -d iabhishekofficial/mobile-price-classification"
      ],
      "metadata": {
        "id": "87vu1EiaY6do",
        "colab": {
          "base_uri": "https://localhost:8080/"
        },
        "outputId": "c1b39c9a-addf-482c-c683-d7987d3dd123"
      },
      "execution_count": 4,
      "outputs": [
        {
          "output_type": "stream",
          "name": "stdout",
          "text": [
            "Downloading mobile-price-classification.zip to /content\n",
            "\r  0% 0.00/70.6k [00:00<?, ?B/s]\n",
            "\r100% 70.6k/70.6k [00:00<00:00, 46.8MB/s]\n"
          ]
        }
      ]
    },
    {
      "cell_type": "code",
      "source": [
        "!ls"
      ],
      "metadata": {
        "id": "b87L-kZiZCNc",
        "colab": {
          "base_uri": "https://localhost:8080/"
        },
        "outputId": "e95586db-95b4-4472-9688-e139e6bd107e"
      },
      "execution_count": 5,
      "outputs": [
        {
          "output_type": "stream",
          "name": "stdout",
          "text": [
            "kaggle.json  mobile-price-classification.zip  sample_data\n"
          ]
        }
      ]
    },
    {
      "cell_type": "code",
      "source": [
        "import pandas as pd\n",
        "import numpy as np\n",
        "import matplotlib.pyplot as plt\n",
        "import seaborn as sns\n",
        "import time\n",
        "%matplotlib inline"
      ],
      "metadata": {
        "id": "Q_pkU07w3WPD"
      },
      "execution_count": 6,
      "outputs": []
    },
    {
      "cell_type": "code",
      "source": [
        "import zipfile\n",
        "zip_ref = zipfile.ZipFile('mobile-price-classification.zip', 'r')\n",
        "zip_ref.extractall('files')\n",
        "zip_ref.close()\n",
        "df=pd.read_csv('/content/files/train.csv')\n",
        "test=pd.read_csv('/content/files/test.csv')"
      ],
      "metadata": {
        "id": "6rJJe3itZKAu"
      },
      "execution_count": 7,
      "outputs": []
    },
    {
      "cell_type": "code",
      "source": [
        "df.head()"
      ],
      "metadata": {
        "id": "zi3DK60oZ4Tx",
        "colab": {
          "base_uri": "https://localhost:8080/",
          "height": 299
        },
        "outputId": "b329cb87-cc62-4d67-8980-19a0b33b49cf"
      },
      "execution_count": 8,
      "outputs": [
        {
          "output_type": "execute_result",
          "data": {
            "text/plain": [
              "   battery_power  blue  clock_speed  dual_sim  fc  four_g  int_memory  m_dep  \\\n",
              "0            842     0          2.2         0   1       0           7    0.6   \n",
              "1           1021     1          0.5         1   0       1          53    0.7   \n",
              "2            563     1          0.5         1   2       1          41    0.9   \n",
              "3            615     1          2.5         0   0       0          10    0.8   \n",
              "4           1821     1          1.2         0  13       1          44    0.6   \n",
              "\n",
              "   mobile_wt  n_cores  ...  px_height  px_width   ram  sc_h  sc_w  talk_time  \\\n",
              "0        188        2  ...         20       756  2549     9     7         19   \n",
              "1        136        3  ...        905      1988  2631    17     3          7   \n",
              "2        145        5  ...       1263      1716  2603    11     2          9   \n",
              "3        131        6  ...       1216      1786  2769    16     8         11   \n",
              "4        141        2  ...       1208      1212  1411     8     2         15   \n",
              "\n",
              "   three_g  touch_screen  wifi  price_range  \n",
              "0        0             0     1            1  \n",
              "1        1             1     0            2  \n",
              "2        1             1     0            2  \n",
              "3        1             0     0            2  \n",
              "4        1             1     0            1  \n",
              "\n",
              "[5 rows x 21 columns]"
            ],
            "text/html": [
              "\n",
              "  <div id=\"df-c1431f90-065e-4200-87c6-be807a2c5e8f\">\n",
              "    <div class=\"colab-df-container\">\n",
              "      <div>\n",
              "<style scoped>\n",
              "    .dataframe tbody tr th:only-of-type {\n",
              "        vertical-align: middle;\n",
              "    }\n",
              "\n",
              "    .dataframe tbody tr th {\n",
              "        vertical-align: top;\n",
              "    }\n",
              "\n",
              "    .dataframe thead th {\n",
              "        text-align: right;\n",
              "    }\n",
              "</style>\n",
              "<table border=\"1\" class=\"dataframe\">\n",
              "  <thead>\n",
              "    <tr style=\"text-align: right;\">\n",
              "      <th></th>\n",
              "      <th>battery_power</th>\n",
              "      <th>blue</th>\n",
              "      <th>clock_speed</th>\n",
              "      <th>dual_sim</th>\n",
              "      <th>fc</th>\n",
              "      <th>four_g</th>\n",
              "      <th>int_memory</th>\n",
              "      <th>m_dep</th>\n",
              "      <th>mobile_wt</th>\n",
              "      <th>n_cores</th>\n",
              "      <th>...</th>\n",
              "      <th>px_height</th>\n",
              "      <th>px_width</th>\n",
              "      <th>ram</th>\n",
              "      <th>sc_h</th>\n",
              "      <th>sc_w</th>\n",
              "      <th>talk_time</th>\n",
              "      <th>three_g</th>\n",
              "      <th>touch_screen</th>\n",
              "      <th>wifi</th>\n",
              "      <th>price_range</th>\n",
              "    </tr>\n",
              "  </thead>\n",
              "  <tbody>\n",
              "    <tr>\n",
              "      <th>0</th>\n",
              "      <td>842</td>\n",
              "      <td>0</td>\n",
              "      <td>2.2</td>\n",
              "      <td>0</td>\n",
              "      <td>1</td>\n",
              "      <td>0</td>\n",
              "      <td>7</td>\n",
              "      <td>0.6</td>\n",
              "      <td>188</td>\n",
              "      <td>2</td>\n",
              "      <td>...</td>\n",
              "      <td>20</td>\n",
              "      <td>756</td>\n",
              "      <td>2549</td>\n",
              "      <td>9</td>\n",
              "      <td>7</td>\n",
              "      <td>19</td>\n",
              "      <td>0</td>\n",
              "      <td>0</td>\n",
              "      <td>1</td>\n",
              "      <td>1</td>\n",
              "    </tr>\n",
              "    <tr>\n",
              "      <th>1</th>\n",
              "      <td>1021</td>\n",
              "      <td>1</td>\n",
              "      <td>0.5</td>\n",
              "      <td>1</td>\n",
              "      <td>0</td>\n",
              "      <td>1</td>\n",
              "      <td>53</td>\n",
              "      <td>0.7</td>\n",
              "      <td>136</td>\n",
              "      <td>3</td>\n",
              "      <td>...</td>\n",
              "      <td>905</td>\n",
              "      <td>1988</td>\n",
              "      <td>2631</td>\n",
              "      <td>17</td>\n",
              "      <td>3</td>\n",
              "      <td>7</td>\n",
              "      <td>1</td>\n",
              "      <td>1</td>\n",
              "      <td>0</td>\n",
              "      <td>2</td>\n",
              "    </tr>\n",
              "    <tr>\n",
              "      <th>2</th>\n",
              "      <td>563</td>\n",
              "      <td>1</td>\n",
              "      <td>0.5</td>\n",
              "      <td>1</td>\n",
              "      <td>2</td>\n",
              "      <td>1</td>\n",
              "      <td>41</td>\n",
              "      <td>0.9</td>\n",
              "      <td>145</td>\n",
              "      <td>5</td>\n",
              "      <td>...</td>\n",
              "      <td>1263</td>\n",
              "      <td>1716</td>\n",
              "      <td>2603</td>\n",
              "      <td>11</td>\n",
              "      <td>2</td>\n",
              "      <td>9</td>\n",
              "      <td>1</td>\n",
              "      <td>1</td>\n",
              "      <td>0</td>\n",
              "      <td>2</td>\n",
              "    </tr>\n",
              "    <tr>\n",
              "      <th>3</th>\n",
              "      <td>615</td>\n",
              "      <td>1</td>\n",
              "      <td>2.5</td>\n",
              "      <td>0</td>\n",
              "      <td>0</td>\n",
              "      <td>0</td>\n",
              "      <td>10</td>\n",
              "      <td>0.8</td>\n",
              "      <td>131</td>\n",
              "      <td>6</td>\n",
              "      <td>...</td>\n",
              "      <td>1216</td>\n",
              "      <td>1786</td>\n",
              "      <td>2769</td>\n",
              "      <td>16</td>\n",
              "      <td>8</td>\n",
              "      <td>11</td>\n",
              "      <td>1</td>\n",
              "      <td>0</td>\n",
              "      <td>0</td>\n",
              "      <td>2</td>\n",
              "    </tr>\n",
              "    <tr>\n",
              "      <th>4</th>\n",
              "      <td>1821</td>\n",
              "      <td>1</td>\n",
              "      <td>1.2</td>\n",
              "      <td>0</td>\n",
              "      <td>13</td>\n",
              "      <td>1</td>\n",
              "      <td>44</td>\n",
              "      <td>0.6</td>\n",
              "      <td>141</td>\n",
              "      <td>2</td>\n",
              "      <td>...</td>\n",
              "      <td>1208</td>\n",
              "      <td>1212</td>\n",
              "      <td>1411</td>\n",
              "      <td>8</td>\n",
              "      <td>2</td>\n",
              "      <td>15</td>\n",
              "      <td>1</td>\n",
              "      <td>1</td>\n",
              "      <td>0</td>\n",
              "      <td>1</td>\n",
              "    </tr>\n",
              "  </tbody>\n",
              "</table>\n",
              "<p>5 rows × 21 columns</p>\n",
              "</div>\n",
              "      <button class=\"colab-df-convert\" onclick=\"convertToInteractive('df-c1431f90-065e-4200-87c6-be807a2c5e8f')\"\n",
              "              title=\"Convert this dataframe to an interactive table.\"\n",
              "              style=\"display:none;\">\n",
              "        \n",
              "  <svg xmlns=\"http://www.w3.org/2000/svg\" height=\"24px\"viewBox=\"0 0 24 24\"\n",
              "       width=\"24px\">\n",
              "    <path d=\"M0 0h24v24H0V0z\" fill=\"none\"/>\n",
              "    <path d=\"M18.56 5.44l.94 2.06.94-2.06 2.06-.94-2.06-.94-.94-2.06-.94 2.06-2.06.94zm-11 1L8.5 8.5l.94-2.06 2.06-.94-2.06-.94L8.5 2.5l-.94 2.06-2.06.94zm10 10l.94 2.06.94-2.06 2.06-.94-2.06-.94-.94-2.06-.94 2.06-2.06.94z\"/><path d=\"M17.41 7.96l-1.37-1.37c-.4-.4-.92-.59-1.43-.59-.52 0-1.04.2-1.43.59L10.3 9.45l-7.72 7.72c-.78.78-.78 2.05 0 2.83L4 21.41c.39.39.9.59 1.41.59.51 0 1.02-.2 1.41-.59l7.78-7.78 2.81-2.81c.8-.78.8-2.07 0-2.86zM5.41 20L4 18.59l7.72-7.72 1.47 1.35L5.41 20z\"/>\n",
              "  </svg>\n",
              "      </button>\n",
              "      \n",
              "  <style>\n",
              "    .colab-df-container {\n",
              "      display:flex;\n",
              "      flex-wrap:wrap;\n",
              "      gap: 12px;\n",
              "    }\n",
              "\n",
              "    .colab-df-convert {\n",
              "      background-color: #E8F0FE;\n",
              "      border: none;\n",
              "      border-radius: 50%;\n",
              "      cursor: pointer;\n",
              "      display: none;\n",
              "      fill: #1967D2;\n",
              "      height: 32px;\n",
              "      padding: 0 0 0 0;\n",
              "      width: 32px;\n",
              "    }\n",
              "\n",
              "    .colab-df-convert:hover {\n",
              "      background-color: #E2EBFA;\n",
              "      box-shadow: 0px 1px 2px rgba(60, 64, 67, 0.3), 0px 1px 3px 1px rgba(60, 64, 67, 0.15);\n",
              "      fill: #174EA6;\n",
              "    }\n",
              "\n",
              "    [theme=dark] .colab-df-convert {\n",
              "      background-color: #3B4455;\n",
              "      fill: #D2E3FC;\n",
              "    }\n",
              "\n",
              "    [theme=dark] .colab-df-convert:hover {\n",
              "      background-color: #434B5C;\n",
              "      box-shadow: 0px 1px 3px 1px rgba(0, 0, 0, 0.15);\n",
              "      filter: drop-shadow(0px 1px 2px rgba(0, 0, 0, 0.3));\n",
              "      fill: #FFFFFF;\n",
              "    }\n",
              "  </style>\n",
              "\n",
              "      <script>\n",
              "        const buttonEl =\n",
              "          document.querySelector('#df-c1431f90-065e-4200-87c6-be807a2c5e8f button.colab-df-convert');\n",
              "        buttonEl.style.display =\n",
              "          google.colab.kernel.accessAllowed ? 'block' : 'none';\n",
              "\n",
              "        async function convertToInteractive(key) {\n",
              "          const element = document.querySelector('#df-c1431f90-065e-4200-87c6-be807a2c5e8f');\n",
              "          const dataTable =\n",
              "            await google.colab.kernel.invokeFunction('convertToInteractive',\n",
              "                                                     [key], {});\n",
              "          if (!dataTable) return;\n",
              "\n",
              "          const docLinkHtml = 'Like what you see? Visit the ' +\n",
              "            '<a target=\"_blank\" href=https://colab.research.google.com/notebooks/data_table.ipynb>data table notebook</a>'\n",
              "            + ' to learn more about interactive tables.';\n",
              "          element.innerHTML = '';\n",
              "          dataTable['output_type'] = 'display_data';\n",
              "          await google.colab.output.renderOutput(dataTable, element);\n",
              "          const docLink = document.createElement('div');\n",
              "          docLink.innerHTML = docLinkHtml;\n",
              "          element.appendChild(docLink);\n",
              "        }\n",
              "      </script>\n",
              "    </div>\n",
              "  </div>\n",
              "  "
            ]
          },
          "metadata": {},
          "execution_count": 8
        }
      ]
    },
    {
      "cell_type": "code",
      "source": [
        "df.shape"
      ],
      "metadata": {
        "id": "kh8PDTKbz3dO",
        "colab": {
          "base_uri": "https://localhost:8080/"
        },
        "outputId": "f5b1c487-eca0-4779-b470-9c6b4b69db1f"
      },
      "execution_count": 9,
      "outputs": [
        {
          "output_type": "execute_result",
          "data": {
            "text/plain": [
              "(2000, 21)"
            ]
          },
          "metadata": {},
          "execution_count": 9
        }
      ]
    },
    {
      "cell_type": "code",
      "source": [
        "df.info()"
      ],
      "metadata": {
        "colab": {
          "base_uri": "https://localhost:8080/"
        },
        "id": "X91pLAZdO4iE",
        "outputId": "6d2b7e8c-421b-41ae-95b9-f1c5d00227db"
      },
      "execution_count": 10,
      "outputs": [
        {
          "output_type": "stream",
          "name": "stdout",
          "text": [
            "<class 'pandas.core.frame.DataFrame'>\n",
            "RangeIndex: 2000 entries, 0 to 1999\n",
            "Data columns (total 21 columns):\n",
            " #   Column         Non-Null Count  Dtype  \n",
            "---  ------         --------------  -----  \n",
            " 0   battery_power  2000 non-null   int64  \n",
            " 1   blue           2000 non-null   int64  \n",
            " 2   clock_speed    2000 non-null   float64\n",
            " 3   dual_sim       2000 non-null   int64  \n",
            " 4   fc             2000 non-null   int64  \n",
            " 5   four_g         2000 non-null   int64  \n",
            " 6   int_memory     2000 non-null   int64  \n",
            " 7   m_dep          2000 non-null   float64\n",
            " 8   mobile_wt      2000 non-null   int64  \n",
            " 9   n_cores        2000 non-null   int64  \n",
            " 10  pc             2000 non-null   int64  \n",
            " 11  px_height      2000 non-null   int64  \n",
            " 12  px_width       2000 non-null   int64  \n",
            " 13  ram            2000 non-null   int64  \n",
            " 14  sc_h           2000 non-null   int64  \n",
            " 15  sc_w           2000 non-null   int64  \n",
            " 16  talk_time      2000 non-null   int64  \n",
            " 17  three_g        2000 non-null   int64  \n",
            " 18  touch_screen   2000 non-null   int64  \n",
            " 19  wifi           2000 non-null   int64  \n",
            " 20  price_range    2000 non-null   int64  \n",
            "dtypes: float64(2), int64(19)\n",
            "memory usage: 328.2 KB\n"
          ]
        }
      ]
    },
    {
      "cell_type": "code",
      "source": [
        "test.head()"
      ],
      "metadata": {
        "id": "POfngayizt1m",
        "colab": {
          "base_uri": "https://localhost:8080/",
          "height": 299
        },
        "outputId": "9230f5a7-c910-4c01-c69f-66d85a3a2080"
      },
      "execution_count": 11,
      "outputs": [
        {
          "output_type": "execute_result",
          "data": {
            "text/plain": [
              "   id  battery_power  blue  clock_speed  dual_sim  fc  four_g  int_memory  \\\n",
              "0   1           1043     1          1.8         1  14       0           5   \n",
              "1   2            841     1          0.5         1   4       1          61   \n",
              "2   3           1807     1          2.8         0   1       0          27   \n",
              "3   4           1546     0          0.5         1  18       1          25   \n",
              "4   5           1434     0          1.4         0  11       1          49   \n",
              "\n",
              "   m_dep  mobile_wt  ...  pc  px_height  px_width   ram  sc_h  sc_w  \\\n",
              "0    0.1        193  ...  16        226      1412  3476    12     7   \n",
              "1    0.8        191  ...  12        746       857  3895     6     0   \n",
              "2    0.9        186  ...   4       1270      1366  2396    17    10   \n",
              "3    0.5         96  ...  20        295      1752  3893    10     0   \n",
              "4    0.5        108  ...  18        749       810  1773    15     8   \n",
              "\n",
              "   talk_time  three_g  touch_screen  wifi  \n",
              "0          2        0             1     0  \n",
              "1          7        1             0     0  \n",
              "2         10        0             1     1  \n",
              "3          7        1             1     0  \n",
              "4          7        1             0     1  \n",
              "\n",
              "[5 rows x 21 columns]"
            ],
            "text/html": [
              "\n",
              "  <div id=\"df-6d9f50ab-51fb-4dad-a2bf-f7386f3df48d\">\n",
              "    <div class=\"colab-df-container\">\n",
              "      <div>\n",
              "<style scoped>\n",
              "    .dataframe tbody tr th:only-of-type {\n",
              "        vertical-align: middle;\n",
              "    }\n",
              "\n",
              "    .dataframe tbody tr th {\n",
              "        vertical-align: top;\n",
              "    }\n",
              "\n",
              "    .dataframe thead th {\n",
              "        text-align: right;\n",
              "    }\n",
              "</style>\n",
              "<table border=\"1\" class=\"dataframe\">\n",
              "  <thead>\n",
              "    <tr style=\"text-align: right;\">\n",
              "      <th></th>\n",
              "      <th>id</th>\n",
              "      <th>battery_power</th>\n",
              "      <th>blue</th>\n",
              "      <th>clock_speed</th>\n",
              "      <th>dual_sim</th>\n",
              "      <th>fc</th>\n",
              "      <th>four_g</th>\n",
              "      <th>int_memory</th>\n",
              "      <th>m_dep</th>\n",
              "      <th>mobile_wt</th>\n",
              "      <th>...</th>\n",
              "      <th>pc</th>\n",
              "      <th>px_height</th>\n",
              "      <th>px_width</th>\n",
              "      <th>ram</th>\n",
              "      <th>sc_h</th>\n",
              "      <th>sc_w</th>\n",
              "      <th>talk_time</th>\n",
              "      <th>three_g</th>\n",
              "      <th>touch_screen</th>\n",
              "      <th>wifi</th>\n",
              "    </tr>\n",
              "  </thead>\n",
              "  <tbody>\n",
              "    <tr>\n",
              "      <th>0</th>\n",
              "      <td>1</td>\n",
              "      <td>1043</td>\n",
              "      <td>1</td>\n",
              "      <td>1.8</td>\n",
              "      <td>1</td>\n",
              "      <td>14</td>\n",
              "      <td>0</td>\n",
              "      <td>5</td>\n",
              "      <td>0.1</td>\n",
              "      <td>193</td>\n",
              "      <td>...</td>\n",
              "      <td>16</td>\n",
              "      <td>226</td>\n",
              "      <td>1412</td>\n",
              "      <td>3476</td>\n",
              "      <td>12</td>\n",
              "      <td>7</td>\n",
              "      <td>2</td>\n",
              "      <td>0</td>\n",
              "      <td>1</td>\n",
              "      <td>0</td>\n",
              "    </tr>\n",
              "    <tr>\n",
              "      <th>1</th>\n",
              "      <td>2</td>\n",
              "      <td>841</td>\n",
              "      <td>1</td>\n",
              "      <td>0.5</td>\n",
              "      <td>1</td>\n",
              "      <td>4</td>\n",
              "      <td>1</td>\n",
              "      <td>61</td>\n",
              "      <td>0.8</td>\n",
              "      <td>191</td>\n",
              "      <td>...</td>\n",
              "      <td>12</td>\n",
              "      <td>746</td>\n",
              "      <td>857</td>\n",
              "      <td>3895</td>\n",
              "      <td>6</td>\n",
              "      <td>0</td>\n",
              "      <td>7</td>\n",
              "      <td>1</td>\n",
              "      <td>0</td>\n",
              "      <td>0</td>\n",
              "    </tr>\n",
              "    <tr>\n",
              "      <th>2</th>\n",
              "      <td>3</td>\n",
              "      <td>1807</td>\n",
              "      <td>1</td>\n",
              "      <td>2.8</td>\n",
              "      <td>0</td>\n",
              "      <td>1</td>\n",
              "      <td>0</td>\n",
              "      <td>27</td>\n",
              "      <td>0.9</td>\n",
              "      <td>186</td>\n",
              "      <td>...</td>\n",
              "      <td>4</td>\n",
              "      <td>1270</td>\n",
              "      <td>1366</td>\n",
              "      <td>2396</td>\n",
              "      <td>17</td>\n",
              "      <td>10</td>\n",
              "      <td>10</td>\n",
              "      <td>0</td>\n",
              "      <td>1</td>\n",
              "      <td>1</td>\n",
              "    </tr>\n",
              "    <tr>\n",
              "      <th>3</th>\n",
              "      <td>4</td>\n",
              "      <td>1546</td>\n",
              "      <td>0</td>\n",
              "      <td>0.5</td>\n",
              "      <td>1</td>\n",
              "      <td>18</td>\n",
              "      <td>1</td>\n",
              "      <td>25</td>\n",
              "      <td>0.5</td>\n",
              "      <td>96</td>\n",
              "      <td>...</td>\n",
              "      <td>20</td>\n",
              "      <td>295</td>\n",
              "      <td>1752</td>\n",
              "      <td>3893</td>\n",
              "      <td>10</td>\n",
              "      <td>0</td>\n",
              "      <td>7</td>\n",
              "      <td>1</td>\n",
              "      <td>1</td>\n",
              "      <td>0</td>\n",
              "    </tr>\n",
              "    <tr>\n",
              "      <th>4</th>\n",
              "      <td>5</td>\n",
              "      <td>1434</td>\n",
              "      <td>0</td>\n",
              "      <td>1.4</td>\n",
              "      <td>0</td>\n",
              "      <td>11</td>\n",
              "      <td>1</td>\n",
              "      <td>49</td>\n",
              "      <td>0.5</td>\n",
              "      <td>108</td>\n",
              "      <td>...</td>\n",
              "      <td>18</td>\n",
              "      <td>749</td>\n",
              "      <td>810</td>\n",
              "      <td>1773</td>\n",
              "      <td>15</td>\n",
              "      <td>8</td>\n",
              "      <td>7</td>\n",
              "      <td>1</td>\n",
              "      <td>0</td>\n",
              "      <td>1</td>\n",
              "    </tr>\n",
              "  </tbody>\n",
              "</table>\n",
              "<p>5 rows × 21 columns</p>\n",
              "</div>\n",
              "      <button class=\"colab-df-convert\" onclick=\"convertToInteractive('df-6d9f50ab-51fb-4dad-a2bf-f7386f3df48d')\"\n",
              "              title=\"Convert this dataframe to an interactive table.\"\n",
              "              style=\"display:none;\">\n",
              "        \n",
              "  <svg xmlns=\"http://www.w3.org/2000/svg\" height=\"24px\"viewBox=\"0 0 24 24\"\n",
              "       width=\"24px\">\n",
              "    <path d=\"M0 0h24v24H0V0z\" fill=\"none\"/>\n",
              "    <path d=\"M18.56 5.44l.94 2.06.94-2.06 2.06-.94-2.06-.94-.94-2.06-.94 2.06-2.06.94zm-11 1L8.5 8.5l.94-2.06 2.06-.94-2.06-.94L8.5 2.5l-.94 2.06-2.06.94zm10 10l.94 2.06.94-2.06 2.06-.94-2.06-.94-.94-2.06-.94 2.06-2.06.94z\"/><path d=\"M17.41 7.96l-1.37-1.37c-.4-.4-.92-.59-1.43-.59-.52 0-1.04.2-1.43.59L10.3 9.45l-7.72 7.72c-.78.78-.78 2.05 0 2.83L4 21.41c.39.39.9.59 1.41.59.51 0 1.02-.2 1.41-.59l7.78-7.78 2.81-2.81c.8-.78.8-2.07 0-2.86zM5.41 20L4 18.59l7.72-7.72 1.47 1.35L5.41 20z\"/>\n",
              "  </svg>\n",
              "      </button>\n",
              "      \n",
              "  <style>\n",
              "    .colab-df-container {\n",
              "      display:flex;\n",
              "      flex-wrap:wrap;\n",
              "      gap: 12px;\n",
              "    }\n",
              "\n",
              "    .colab-df-convert {\n",
              "      background-color: #E8F0FE;\n",
              "      border: none;\n",
              "      border-radius: 50%;\n",
              "      cursor: pointer;\n",
              "      display: none;\n",
              "      fill: #1967D2;\n",
              "      height: 32px;\n",
              "      padding: 0 0 0 0;\n",
              "      width: 32px;\n",
              "    }\n",
              "\n",
              "    .colab-df-convert:hover {\n",
              "      background-color: #E2EBFA;\n",
              "      box-shadow: 0px 1px 2px rgba(60, 64, 67, 0.3), 0px 1px 3px 1px rgba(60, 64, 67, 0.15);\n",
              "      fill: #174EA6;\n",
              "    }\n",
              "\n",
              "    [theme=dark] .colab-df-convert {\n",
              "      background-color: #3B4455;\n",
              "      fill: #D2E3FC;\n",
              "    }\n",
              "\n",
              "    [theme=dark] .colab-df-convert:hover {\n",
              "      background-color: #434B5C;\n",
              "      box-shadow: 0px 1px 3px 1px rgba(0, 0, 0, 0.15);\n",
              "      filter: drop-shadow(0px 1px 2px rgba(0, 0, 0, 0.3));\n",
              "      fill: #FFFFFF;\n",
              "    }\n",
              "  </style>\n",
              "\n",
              "      <script>\n",
              "        const buttonEl =\n",
              "          document.querySelector('#df-6d9f50ab-51fb-4dad-a2bf-f7386f3df48d button.colab-df-convert');\n",
              "        buttonEl.style.display =\n",
              "          google.colab.kernel.accessAllowed ? 'block' : 'none';\n",
              "\n",
              "        async function convertToInteractive(key) {\n",
              "          const element = document.querySelector('#df-6d9f50ab-51fb-4dad-a2bf-f7386f3df48d');\n",
              "          const dataTable =\n",
              "            await google.colab.kernel.invokeFunction('convertToInteractive',\n",
              "                                                     [key], {});\n",
              "          if (!dataTable) return;\n",
              "\n",
              "          const docLinkHtml = 'Like what you see? Visit the ' +\n",
              "            '<a target=\"_blank\" href=https://colab.research.google.com/notebooks/data_table.ipynb>data table notebook</a>'\n",
              "            + ' to learn more about interactive tables.';\n",
              "          element.innerHTML = '';\n",
              "          dataTable['output_type'] = 'display_data';\n",
              "          await google.colab.output.renderOutput(dataTable, element);\n",
              "          const docLink = document.createElement('div');\n",
              "          docLink.innerHTML = docLinkHtml;\n",
              "          element.appendChild(docLink);\n",
              "        }\n",
              "      </script>\n",
              "    </div>\n",
              "  </div>\n",
              "  "
            ]
          },
          "metadata": {},
          "execution_count": 11
        }
      ]
    },
    {
      "cell_type": "code",
      "source": [
        "test.shape"
      ],
      "metadata": {
        "id": "ofC4CNZb0Ovj",
        "colab": {
          "base_uri": "https://localhost:8080/"
        },
        "outputId": "70875a41-fb16-4fb9-bff7-1623dad31f16"
      },
      "execution_count": 12,
      "outputs": [
        {
          "output_type": "execute_result",
          "data": {
            "text/plain": [
              "(1000, 21)"
            ]
          },
          "metadata": {},
          "execution_count": 12
        }
      ]
    },
    {
      "cell_type": "code",
      "source": [
        "TMPdf = df.copy()"
      ],
      "metadata": {
        "id": "qCWDw5w8kee9"
      },
      "execution_count": 13,
      "outputs": []
    },
    {
      "cell_type": "markdown",
      "source": [
        "# TASK 1\n",
        "\n",
        "checking for missing values and Outliers"
      ],
      "metadata": {
        "id": "H_rU93iySkvv"
      }
    },
    {
      "cell_type": "code",
      "source": [
        "start = time.time()\n",
        "df.isnull().sum()\n",
        "print('run time : ' , (time.time() - start)) "
      ],
      "metadata": {
        "id": "2vo7uKcJxfM0",
        "colab": {
          "base_uri": "https://localhost:8080/"
        },
        "outputId": "761eae82-2f83-4d1d-f9f2-cfa40e97687e"
      },
      "execution_count": 14,
      "outputs": [
        {
          "output_type": "stream",
          "name": "stdout",
          "text": [
            "run time :  0.0027959346771240234\n"
          ]
        }
      ]
    },
    {
      "cell_type": "code",
      "source": [
        "# check outliers using IQR\n",
        "start = time.time()\n",
        "Q1 = df.quantile(0.25)\n",
        "Q3 = df.quantile(0.75)\n",
        "IQR = Q3 - Q1\n",
        "print(IQR)\n",
        "print('run time : ' , (time.time() - start)) "
      ],
      "metadata": {
        "id": "y5KrHN1Vx2Uu",
        "colab": {
          "base_uri": "https://localhost:8080/"
        },
        "outputId": "69941342-3172-45a3-bdf5-26e38d9e9341"
      },
      "execution_count": 15,
      "outputs": [
        {
          "output_type": "stream",
          "name": "stdout",
          "text": [
            "battery_power     763.50\n",
            "blue                1.00\n",
            "clock_speed         1.50\n",
            "dual_sim            1.00\n",
            "fc                  6.00\n",
            "four_g              1.00\n",
            "int_memory         32.00\n",
            "m_dep               0.60\n",
            "mobile_wt          61.00\n",
            "n_cores             4.00\n",
            "pc                 10.00\n",
            "px_height         664.50\n",
            "px_width          758.25\n",
            "ram              1857.00\n",
            "sc_h                7.00\n",
            "sc_w                7.00\n",
            "talk_time          10.00\n",
            "three_g             0.00\n",
            "touch_screen        1.00\n",
            "wifi                1.00\n",
            "price_range         1.50\n",
            "dtype: float64\n",
            "run time :  0.015508413314819336\n"
          ]
        }
      ]
    },
    {
      "cell_type": "code",
      "source": [
        "res = (df < (Q1 - 1.5 * IQR)) | (df > (Q3 + 1.5 * IQR))\n",
        "res"
      ],
      "metadata": {
        "id": "2dUwgh0y_cmQ",
        "colab": {
          "base_uri": "https://localhost:8080/",
          "height": 488
        },
        "outputId": "16ca3171-fdbd-431f-8053-d34bdf53556d"
      },
      "execution_count": 16,
      "outputs": [
        {
          "output_type": "execute_result",
          "data": {
            "text/plain": [
              "      battery_power   blue  clock_speed  dual_sim     fc  four_g  int_memory  \\\n",
              "0             False  False        False     False  False   False       False   \n",
              "1             False  False        False     False  False   False       False   \n",
              "2             False  False        False     False  False   False       False   \n",
              "3             False  False        False     False  False   False       False   \n",
              "4             False  False        False     False  False   False       False   \n",
              "...             ...    ...          ...       ...    ...     ...         ...   \n",
              "1995          False  False        False     False  False   False       False   \n",
              "1996          False  False        False     False  False   False       False   \n",
              "1997          False  False        False     False  False   False       False   \n",
              "1998          False  False        False     False  False   False       False   \n",
              "1999          False  False        False     False  False   False       False   \n",
              "\n",
              "      m_dep  mobile_wt  n_cores  ...  px_height  px_width    ram   sc_h  \\\n",
              "0     False      False    False  ...      False     False  False  False   \n",
              "1     False      False    False  ...      False     False  False  False   \n",
              "2     False      False    False  ...      False     False  False  False   \n",
              "3     False      False    False  ...      False     False  False  False   \n",
              "4     False      False    False  ...      False     False  False  False   \n",
              "...     ...        ...      ...  ...        ...       ...    ...    ...   \n",
              "1995  False      False    False  ...      False     False  False  False   \n",
              "1996  False      False    False  ...      False     False  False  False   \n",
              "1997  False      False    False  ...      False     False  False  False   \n",
              "1998  False      False    False  ...      False     False  False  False   \n",
              "1999  False      False    False  ...      False     False  False  False   \n",
              "\n",
              "       sc_w  talk_time  three_g  touch_screen   wifi  price_range  \n",
              "0     False      False     True         False  False        False  \n",
              "1     False      False    False         False  False        False  \n",
              "2     False      False    False         False  False        False  \n",
              "3     False      False    False         False  False        False  \n",
              "4     False      False    False         False  False        False  \n",
              "...     ...        ...      ...           ...    ...          ...  \n",
              "1995  False      False    False         False  False        False  \n",
              "1996  False      False    False         False  False        False  \n",
              "1997  False      False    False         False  False        False  \n",
              "1998  False      False    False         False  False        False  \n",
              "1999  False      False    False         False  False        False  \n",
              "\n",
              "[2000 rows x 21 columns]"
            ],
            "text/html": [
              "\n",
              "  <div id=\"df-c28f4a11-f699-49c8-a4d7-24d2a5a23832\">\n",
              "    <div class=\"colab-df-container\">\n",
              "      <div>\n",
              "<style scoped>\n",
              "    .dataframe tbody tr th:only-of-type {\n",
              "        vertical-align: middle;\n",
              "    }\n",
              "\n",
              "    .dataframe tbody tr th {\n",
              "        vertical-align: top;\n",
              "    }\n",
              "\n",
              "    .dataframe thead th {\n",
              "        text-align: right;\n",
              "    }\n",
              "</style>\n",
              "<table border=\"1\" class=\"dataframe\">\n",
              "  <thead>\n",
              "    <tr style=\"text-align: right;\">\n",
              "      <th></th>\n",
              "      <th>battery_power</th>\n",
              "      <th>blue</th>\n",
              "      <th>clock_speed</th>\n",
              "      <th>dual_sim</th>\n",
              "      <th>fc</th>\n",
              "      <th>four_g</th>\n",
              "      <th>int_memory</th>\n",
              "      <th>m_dep</th>\n",
              "      <th>mobile_wt</th>\n",
              "      <th>n_cores</th>\n",
              "      <th>...</th>\n",
              "      <th>px_height</th>\n",
              "      <th>px_width</th>\n",
              "      <th>ram</th>\n",
              "      <th>sc_h</th>\n",
              "      <th>sc_w</th>\n",
              "      <th>talk_time</th>\n",
              "      <th>three_g</th>\n",
              "      <th>touch_screen</th>\n",
              "      <th>wifi</th>\n",
              "      <th>price_range</th>\n",
              "    </tr>\n",
              "  </thead>\n",
              "  <tbody>\n",
              "    <tr>\n",
              "      <th>0</th>\n",
              "      <td>False</td>\n",
              "      <td>False</td>\n",
              "      <td>False</td>\n",
              "      <td>False</td>\n",
              "      <td>False</td>\n",
              "      <td>False</td>\n",
              "      <td>False</td>\n",
              "      <td>False</td>\n",
              "      <td>False</td>\n",
              "      <td>False</td>\n",
              "      <td>...</td>\n",
              "      <td>False</td>\n",
              "      <td>False</td>\n",
              "      <td>False</td>\n",
              "      <td>False</td>\n",
              "      <td>False</td>\n",
              "      <td>False</td>\n",
              "      <td>True</td>\n",
              "      <td>False</td>\n",
              "      <td>False</td>\n",
              "      <td>False</td>\n",
              "    </tr>\n",
              "    <tr>\n",
              "      <th>1</th>\n",
              "      <td>False</td>\n",
              "      <td>False</td>\n",
              "      <td>False</td>\n",
              "      <td>False</td>\n",
              "      <td>False</td>\n",
              "      <td>False</td>\n",
              "      <td>False</td>\n",
              "      <td>False</td>\n",
              "      <td>False</td>\n",
              "      <td>False</td>\n",
              "      <td>...</td>\n",
              "      <td>False</td>\n",
              "      <td>False</td>\n",
              "      <td>False</td>\n",
              "      <td>False</td>\n",
              "      <td>False</td>\n",
              "      <td>False</td>\n",
              "      <td>False</td>\n",
              "      <td>False</td>\n",
              "      <td>False</td>\n",
              "      <td>False</td>\n",
              "    </tr>\n",
              "    <tr>\n",
              "      <th>2</th>\n",
              "      <td>False</td>\n",
              "      <td>False</td>\n",
              "      <td>False</td>\n",
              "      <td>False</td>\n",
              "      <td>False</td>\n",
              "      <td>False</td>\n",
              "      <td>False</td>\n",
              "      <td>False</td>\n",
              "      <td>False</td>\n",
              "      <td>False</td>\n",
              "      <td>...</td>\n",
              "      <td>False</td>\n",
              "      <td>False</td>\n",
              "      <td>False</td>\n",
              "      <td>False</td>\n",
              "      <td>False</td>\n",
              "      <td>False</td>\n",
              "      <td>False</td>\n",
              "      <td>False</td>\n",
              "      <td>False</td>\n",
              "      <td>False</td>\n",
              "    </tr>\n",
              "    <tr>\n",
              "      <th>3</th>\n",
              "      <td>False</td>\n",
              "      <td>False</td>\n",
              "      <td>False</td>\n",
              "      <td>False</td>\n",
              "      <td>False</td>\n",
              "      <td>False</td>\n",
              "      <td>False</td>\n",
              "      <td>False</td>\n",
              "      <td>False</td>\n",
              "      <td>False</td>\n",
              "      <td>...</td>\n",
              "      <td>False</td>\n",
              "      <td>False</td>\n",
              "      <td>False</td>\n",
              "      <td>False</td>\n",
              "      <td>False</td>\n",
              "      <td>False</td>\n",
              "      <td>False</td>\n",
              "      <td>False</td>\n",
              "      <td>False</td>\n",
              "      <td>False</td>\n",
              "    </tr>\n",
              "    <tr>\n",
              "      <th>4</th>\n",
              "      <td>False</td>\n",
              "      <td>False</td>\n",
              "      <td>False</td>\n",
              "      <td>False</td>\n",
              "      <td>False</td>\n",
              "      <td>False</td>\n",
              "      <td>False</td>\n",
              "      <td>False</td>\n",
              "      <td>False</td>\n",
              "      <td>False</td>\n",
              "      <td>...</td>\n",
              "      <td>False</td>\n",
              "      <td>False</td>\n",
              "      <td>False</td>\n",
              "      <td>False</td>\n",
              "      <td>False</td>\n",
              "      <td>False</td>\n",
              "      <td>False</td>\n",
              "      <td>False</td>\n",
              "      <td>False</td>\n",
              "      <td>False</td>\n",
              "    </tr>\n",
              "    <tr>\n",
              "      <th>...</th>\n",
              "      <td>...</td>\n",
              "      <td>...</td>\n",
              "      <td>...</td>\n",
              "      <td>...</td>\n",
              "      <td>...</td>\n",
              "      <td>...</td>\n",
              "      <td>...</td>\n",
              "      <td>...</td>\n",
              "      <td>...</td>\n",
              "      <td>...</td>\n",
              "      <td>...</td>\n",
              "      <td>...</td>\n",
              "      <td>...</td>\n",
              "      <td>...</td>\n",
              "      <td>...</td>\n",
              "      <td>...</td>\n",
              "      <td>...</td>\n",
              "      <td>...</td>\n",
              "      <td>...</td>\n",
              "      <td>...</td>\n",
              "      <td>...</td>\n",
              "    </tr>\n",
              "    <tr>\n",
              "      <th>1995</th>\n",
              "      <td>False</td>\n",
              "      <td>False</td>\n",
              "      <td>False</td>\n",
              "      <td>False</td>\n",
              "      <td>False</td>\n",
              "      <td>False</td>\n",
              "      <td>False</td>\n",
              "      <td>False</td>\n",
              "      <td>False</td>\n",
              "      <td>False</td>\n",
              "      <td>...</td>\n",
              "      <td>False</td>\n",
              "      <td>False</td>\n",
              "      <td>False</td>\n",
              "      <td>False</td>\n",
              "      <td>False</td>\n",
              "      <td>False</td>\n",
              "      <td>False</td>\n",
              "      <td>False</td>\n",
              "      <td>False</td>\n",
              "      <td>False</td>\n",
              "    </tr>\n",
              "    <tr>\n",
              "      <th>1996</th>\n",
              "      <td>False</td>\n",
              "      <td>False</td>\n",
              "      <td>False</td>\n",
              "      <td>False</td>\n",
              "      <td>False</td>\n",
              "      <td>False</td>\n",
              "      <td>False</td>\n",
              "      <td>False</td>\n",
              "      <td>False</td>\n",
              "      <td>False</td>\n",
              "      <td>...</td>\n",
              "      <td>False</td>\n",
              "      <td>False</td>\n",
              "      <td>False</td>\n",
              "      <td>False</td>\n",
              "      <td>False</td>\n",
              "      <td>False</td>\n",
              "      <td>False</td>\n",
              "      <td>False</td>\n",
              "      <td>False</td>\n",
              "      <td>False</td>\n",
              "    </tr>\n",
              "    <tr>\n",
              "      <th>1997</th>\n",
              "      <td>False</td>\n",
              "      <td>False</td>\n",
              "      <td>False</td>\n",
              "      <td>False</td>\n",
              "      <td>False</td>\n",
              "      <td>False</td>\n",
              "      <td>False</td>\n",
              "      <td>False</td>\n",
              "      <td>False</td>\n",
              "      <td>False</td>\n",
              "      <td>...</td>\n",
              "      <td>False</td>\n",
              "      <td>False</td>\n",
              "      <td>False</td>\n",
              "      <td>False</td>\n",
              "      <td>False</td>\n",
              "      <td>False</td>\n",
              "      <td>False</td>\n",
              "      <td>False</td>\n",
              "      <td>False</td>\n",
              "      <td>False</td>\n",
              "    </tr>\n",
              "    <tr>\n",
              "      <th>1998</th>\n",
              "      <td>False</td>\n",
              "      <td>False</td>\n",
              "      <td>False</td>\n",
              "      <td>False</td>\n",
              "      <td>False</td>\n",
              "      <td>False</td>\n",
              "      <td>False</td>\n",
              "      <td>False</td>\n",
              "      <td>False</td>\n",
              "      <td>False</td>\n",
              "      <td>...</td>\n",
              "      <td>False</td>\n",
              "      <td>False</td>\n",
              "      <td>False</td>\n",
              "      <td>False</td>\n",
              "      <td>False</td>\n",
              "      <td>False</td>\n",
              "      <td>False</td>\n",
              "      <td>False</td>\n",
              "      <td>False</td>\n",
              "      <td>False</td>\n",
              "    </tr>\n",
              "    <tr>\n",
              "      <th>1999</th>\n",
              "      <td>False</td>\n",
              "      <td>False</td>\n",
              "      <td>False</td>\n",
              "      <td>False</td>\n",
              "      <td>False</td>\n",
              "      <td>False</td>\n",
              "      <td>False</td>\n",
              "      <td>False</td>\n",
              "      <td>False</td>\n",
              "      <td>False</td>\n",
              "      <td>...</td>\n",
              "      <td>False</td>\n",
              "      <td>False</td>\n",
              "      <td>False</td>\n",
              "      <td>False</td>\n",
              "      <td>False</td>\n",
              "      <td>False</td>\n",
              "      <td>False</td>\n",
              "      <td>False</td>\n",
              "      <td>False</td>\n",
              "      <td>False</td>\n",
              "    </tr>\n",
              "  </tbody>\n",
              "</table>\n",
              "<p>2000 rows × 21 columns</p>\n",
              "</div>\n",
              "      <button class=\"colab-df-convert\" onclick=\"convertToInteractive('df-c28f4a11-f699-49c8-a4d7-24d2a5a23832')\"\n",
              "              title=\"Convert this dataframe to an interactive table.\"\n",
              "              style=\"display:none;\">\n",
              "        \n",
              "  <svg xmlns=\"http://www.w3.org/2000/svg\" height=\"24px\"viewBox=\"0 0 24 24\"\n",
              "       width=\"24px\">\n",
              "    <path d=\"M0 0h24v24H0V0z\" fill=\"none\"/>\n",
              "    <path d=\"M18.56 5.44l.94 2.06.94-2.06 2.06-.94-2.06-.94-.94-2.06-.94 2.06-2.06.94zm-11 1L8.5 8.5l.94-2.06 2.06-.94-2.06-.94L8.5 2.5l-.94 2.06-2.06.94zm10 10l.94 2.06.94-2.06 2.06-.94-2.06-.94-.94-2.06-.94 2.06-2.06.94z\"/><path d=\"M17.41 7.96l-1.37-1.37c-.4-.4-.92-.59-1.43-.59-.52 0-1.04.2-1.43.59L10.3 9.45l-7.72 7.72c-.78.78-.78 2.05 0 2.83L4 21.41c.39.39.9.59 1.41.59.51 0 1.02-.2 1.41-.59l7.78-7.78 2.81-2.81c.8-.78.8-2.07 0-2.86zM5.41 20L4 18.59l7.72-7.72 1.47 1.35L5.41 20z\"/>\n",
              "  </svg>\n",
              "      </button>\n",
              "      \n",
              "  <style>\n",
              "    .colab-df-container {\n",
              "      display:flex;\n",
              "      flex-wrap:wrap;\n",
              "      gap: 12px;\n",
              "    }\n",
              "\n",
              "    .colab-df-convert {\n",
              "      background-color: #E8F0FE;\n",
              "      border: none;\n",
              "      border-radius: 50%;\n",
              "      cursor: pointer;\n",
              "      display: none;\n",
              "      fill: #1967D2;\n",
              "      height: 32px;\n",
              "      padding: 0 0 0 0;\n",
              "      width: 32px;\n",
              "    }\n",
              "\n",
              "    .colab-df-convert:hover {\n",
              "      background-color: #E2EBFA;\n",
              "      box-shadow: 0px 1px 2px rgba(60, 64, 67, 0.3), 0px 1px 3px 1px rgba(60, 64, 67, 0.15);\n",
              "      fill: #174EA6;\n",
              "    }\n",
              "\n",
              "    [theme=dark] .colab-df-convert {\n",
              "      background-color: #3B4455;\n",
              "      fill: #D2E3FC;\n",
              "    }\n",
              "\n",
              "    [theme=dark] .colab-df-convert:hover {\n",
              "      background-color: #434B5C;\n",
              "      box-shadow: 0px 1px 3px 1px rgba(0, 0, 0, 0.15);\n",
              "      filter: drop-shadow(0px 1px 2px rgba(0, 0, 0, 0.3));\n",
              "      fill: #FFFFFF;\n",
              "    }\n",
              "  </style>\n",
              "\n",
              "      <script>\n",
              "        const buttonEl =\n",
              "          document.querySelector('#df-c28f4a11-f699-49c8-a4d7-24d2a5a23832 button.colab-df-convert');\n",
              "        buttonEl.style.display =\n",
              "          google.colab.kernel.accessAllowed ? 'block' : 'none';\n",
              "\n",
              "        async function convertToInteractive(key) {\n",
              "          const element = document.querySelector('#df-c28f4a11-f699-49c8-a4d7-24d2a5a23832');\n",
              "          const dataTable =\n",
              "            await google.colab.kernel.invokeFunction('convertToInteractive',\n",
              "                                                     [key], {});\n",
              "          if (!dataTable) return;\n",
              "\n",
              "          const docLinkHtml = 'Like what you see? Visit the ' +\n",
              "            '<a target=\"_blank\" href=https://colab.research.google.com/notebooks/data_table.ipynb>data table notebook</a>'\n",
              "            + ' to learn more about interactive tables.';\n",
              "          element.innerHTML = '';\n",
              "          dataTable['output_type'] = 'display_data';\n",
              "          await google.colab.output.renderOutput(dataTable, element);\n",
              "          const docLink = document.createElement('div');\n",
              "          docLink.innerHTML = docLinkHtml;\n",
              "          element.appendChild(docLink);\n",
              "        }\n",
              "      </script>\n",
              "    </div>\n",
              "  </div>\n",
              "  "
            ]
          },
          "metadata": {},
          "execution_count": 16
        }
      ]
    },
    {
      "cell_type": "code",
      "source": [
        "res.value_counts()"
      ],
      "metadata": {
        "id": "2TZ_9ab__vc9",
        "colab": {
          "base_uri": "https://localhost:8080/"
        },
        "outputId": "a9496ac4-9d15-4b5e-a35e-bee18897dbd6"
      },
      "execution_count": 17,
      "outputs": [
        {
          "output_type": "execute_result",
          "data": {
            "text/plain": [
              "battery_power  blue   clock_speed  dual_sim  fc     four_g  int_memory  m_dep  mobile_wt  n_cores  pc     px_height  px_width  ram    sc_h   sc_w   talk_time  three_g  touch_screen  wifi   price_range\n",
              "False          False  False        False     False  False   False       False  False      False    False  False      False     False  False  False  False      False    False         False  False          1506\n",
              "                                                                                                                                                               True     False         False  False           474\n",
              "                                             True   False   False       False  False      False    False  False      False     False  False  False  False      False    False         False  False            15\n",
              "                                                                                                                                                               True     False         False  False             3\n",
              "                                             False  False   False       False  False      False    False  True       False     False  False  False  False      False    False         False  False             2\n",
              "dtype: int64"
            ]
          },
          "metadata": {},
          "execution_count": 17
        }
      ]
    },
    {
      "cell_type": "markdown",
      "source": [
        "# TASK 2 \n",
        "\n",
        "Exploratory Data Analysis "
      ],
      "metadata": {
        "id": "AcDpaC75Bs6N"
      }
    },
    {
      "cell_type": "code",
      "source": [
        "df.describe()"
      ],
      "metadata": {
        "id": "4qEq_MmAB8O8",
        "colab": {
          "base_uri": "https://localhost:8080/",
          "height": 393
        },
        "outputId": "4ed3e258-e782-4a75-ebb4-38c5941cd651"
      },
      "execution_count": 18,
      "outputs": [
        {
          "output_type": "execute_result",
          "data": {
            "text/plain": [
              "       battery_power       blue  clock_speed     dual_sim           fc  \\\n",
              "count    2000.000000  2000.0000  2000.000000  2000.000000  2000.000000   \n",
              "mean     1238.518500     0.4950     1.522250     0.509500     4.309500   \n",
              "std       439.418206     0.5001     0.816004     0.500035     4.341444   \n",
              "min       501.000000     0.0000     0.500000     0.000000     0.000000   \n",
              "25%       851.750000     0.0000     0.700000     0.000000     1.000000   \n",
              "50%      1226.000000     0.0000     1.500000     1.000000     3.000000   \n",
              "75%      1615.250000     1.0000     2.200000     1.000000     7.000000   \n",
              "max      1998.000000     1.0000     3.000000     1.000000    19.000000   \n",
              "\n",
              "            four_g   int_memory        m_dep    mobile_wt      n_cores  ...  \\\n",
              "count  2000.000000  2000.000000  2000.000000  2000.000000  2000.000000  ...   \n",
              "mean      0.521500    32.046500     0.501750   140.249000     4.520500  ...   \n",
              "std       0.499662    18.145715     0.288416    35.399655     2.287837  ...   \n",
              "min       0.000000     2.000000     0.100000    80.000000     1.000000  ...   \n",
              "25%       0.000000    16.000000     0.200000   109.000000     3.000000  ...   \n",
              "50%       1.000000    32.000000     0.500000   141.000000     4.000000  ...   \n",
              "75%       1.000000    48.000000     0.800000   170.000000     7.000000  ...   \n",
              "max       1.000000    64.000000     1.000000   200.000000     8.000000  ...   \n",
              "\n",
              "         px_height     px_width          ram         sc_h         sc_w  \\\n",
              "count  2000.000000  2000.000000  2000.000000  2000.000000  2000.000000   \n",
              "mean    645.108000  1251.515500  2124.213000    12.306500     5.767000   \n",
              "std     443.780811   432.199447  1084.732044     4.213245     4.356398   \n",
              "min       0.000000   500.000000   256.000000     5.000000     0.000000   \n",
              "25%     282.750000   874.750000  1207.500000     9.000000     2.000000   \n",
              "50%     564.000000  1247.000000  2146.500000    12.000000     5.000000   \n",
              "75%     947.250000  1633.000000  3064.500000    16.000000     9.000000   \n",
              "max    1960.000000  1998.000000  3998.000000    19.000000    18.000000   \n",
              "\n",
              "         talk_time      three_g  touch_screen         wifi  price_range  \n",
              "count  2000.000000  2000.000000   2000.000000  2000.000000  2000.000000  \n",
              "mean     11.011000     0.761500      0.503000     0.507000     1.500000  \n",
              "std       5.463955     0.426273      0.500116     0.500076     1.118314  \n",
              "min       2.000000     0.000000      0.000000     0.000000     0.000000  \n",
              "25%       6.000000     1.000000      0.000000     0.000000     0.750000  \n",
              "50%      11.000000     1.000000      1.000000     1.000000     1.500000  \n",
              "75%      16.000000     1.000000      1.000000     1.000000     2.250000  \n",
              "max      20.000000     1.000000      1.000000     1.000000     3.000000  \n",
              "\n",
              "[8 rows x 21 columns]"
            ],
            "text/html": [
              "\n",
              "  <div id=\"df-0ffa4b6a-e18e-4a23-8092-a9aa1ec5b22d\">\n",
              "    <div class=\"colab-df-container\">\n",
              "      <div>\n",
              "<style scoped>\n",
              "    .dataframe tbody tr th:only-of-type {\n",
              "        vertical-align: middle;\n",
              "    }\n",
              "\n",
              "    .dataframe tbody tr th {\n",
              "        vertical-align: top;\n",
              "    }\n",
              "\n",
              "    .dataframe thead th {\n",
              "        text-align: right;\n",
              "    }\n",
              "</style>\n",
              "<table border=\"1\" class=\"dataframe\">\n",
              "  <thead>\n",
              "    <tr style=\"text-align: right;\">\n",
              "      <th></th>\n",
              "      <th>battery_power</th>\n",
              "      <th>blue</th>\n",
              "      <th>clock_speed</th>\n",
              "      <th>dual_sim</th>\n",
              "      <th>fc</th>\n",
              "      <th>four_g</th>\n",
              "      <th>int_memory</th>\n",
              "      <th>m_dep</th>\n",
              "      <th>mobile_wt</th>\n",
              "      <th>n_cores</th>\n",
              "      <th>...</th>\n",
              "      <th>px_height</th>\n",
              "      <th>px_width</th>\n",
              "      <th>ram</th>\n",
              "      <th>sc_h</th>\n",
              "      <th>sc_w</th>\n",
              "      <th>talk_time</th>\n",
              "      <th>three_g</th>\n",
              "      <th>touch_screen</th>\n",
              "      <th>wifi</th>\n",
              "      <th>price_range</th>\n",
              "    </tr>\n",
              "  </thead>\n",
              "  <tbody>\n",
              "    <tr>\n",
              "      <th>count</th>\n",
              "      <td>2000.000000</td>\n",
              "      <td>2000.0000</td>\n",
              "      <td>2000.000000</td>\n",
              "      <td>2000.000000</td>\n",
              "      <td>2000.000000</td>\n",
              "      <td>2000.000000</td>\n",
              "      <td>2000.000000</td>\n",
              "      <td>2000.000000</td>\n",
              "      <td>2000.000000</td>\n",
              "      <td>2000.000000</td>\n",
              "      <td>...</td>\n",
              "      <td>2000.000000</td>\n",
              "      <td>2000.000000</td>\n",
              "      <td>2000.000000</td>\n",
              "      <td>2000.000000</td>\n",
              "      <td>2000.000000</td>\n",
              "      <td>2000.000000</td>\n",
              "      <td>2000.000000</td>\n",
              "      <td>2000.000000</td>\n",
              "      <td>2000.000000</td>\n",
              "      <td>2000.000000</td>\n",
              "    </tr>\n",
              "    <tr>\n",
              "      <th>mean</th>\n",
              "      <td>1238.518500</td>\n",
              "      <td>0.4950</td>\n",
              "      <td>1.522250</td>\n",
              "      <td>0.509500</td>\n",
              "      <td>4.309500</td>\n",
              "      <td>0.521500</td>\n",
              "      <td>32.046500</td>\n",
              "      <td>0.501750</td>\n",
              "      <td>140.249000</td>\n",
              "      <td>4.520500</td>\n",
              "      <td>...</td>\n",
              "      <td>645.108000</td>\n",
              "      <td>1251.515500</td>\n",
              "      <td>2124.213000</td>\n",
              "      <td>12.306500</td>\n",
              "      <td>5.767000</td>\n",
              "      <td>11.011000</td>\n",
              "      <td>0.761500</td>\n",
              "      <td>0.503000</td>\n",
              "      <td>0.507000</td>\n",
              "      <td>1.500000</td>\n",
              "    </tr>\n",
              "    <tr>\n",
              "      <th>std</th>\n",
              "      <td>439.418206</td>\n",
              "      <td>0.5001</td>\n",
              "      <td>0.816004</td>\n",
              "      <td>0.500035</td>\n",
              "      <td>4.341444</td>\n",
              "      <td>0.499662</td>\n",
              "      <td>18.145715</td>\n",
              "      <td>0.288416</td>\n",
              "      <td>35.399655</td>\n",
              "      <td>2.287837</td>\n",
              "      <td>...</td>\n",
              "      <td>443.780811</td>\n",
              "      <td>432.199447</td>\n",
              "      <td>1084.732044</td>\n",
              "      <td>4.213245</td>\n",
              "      <td>4.356398</td>\n",
              "      <td>5.463955</td>\n",
              "      <td>0.426273</td>\n",
              "      <td>0.500116</td>\n",
              "      <td>0.500076</td>\n",
              "      <td>1.118314</td>\n",
              "    </tr>\n",
              "    <tr>\n",
              "      <th>min</th>\n",
              "      <td>501.000000</td>\n",
              "      <td>0.0000</td>\n",
              "      <td>0.500000</td>\n",
              "      <td>0.000000</td>\n",
              "      <td>0.000000</td>\n",
              "      <td>0.000000</td>\n",
              "      <td>2.000000</td>\n",
              "      <td>0.100000</td>\n",
              "      <td>80.000000</td>\n",
              "      <td>1.000000</td>\n",
              "      <td>...</td>\n",
              "      <td>0.000000</td>\n",
              "      <td>500.000000</td>\n",
              "      <td>256.000000</td>\n",
              "      <td>5.000000</td>\n",
              "      <td>0.000000</td>\n",
              "      <td>2.000000</td>\n",
              "      <td>0.000000</td>\n",
              "      <td>0.000000</td>\n",
              "      <td>0.000000</td>\n",
              "      <td>0.000000</td>\n",
              "    </tr>\n",
              "    <tr>\n",
              "      <th>25%</th>\n",
              "      <td>851.750000</td>\n",
              "      <td>0.0000</td>\n",
              "      <td>0.700000</td>\n",
              "      <td>0.000000</td>\n",
              "      <td>1.000000</td>\n",
              "      <td>0.000000</td>\n",
              "      <td>16.000000</td>\n",
              "      <td>0.200000</td>\n",
              "      <td>109.000000</td>\n",
              "      <td>3.000000</td>\n",
              "      <td>...</td>\n",
              "      <td>282.750000</td>\n",
              "      <td>874.750000</td>\n",
              "      <td>1207.500000</td>\n",
              "      <td>9.000000</td>\n",
              "      <td>2.000000</td>\n",
              "      <td>6.000000</td>\n",
              "      <td>1.000000</td>\n",
              "      <td>0.000000</td>\n",
              "      <td>0.000000</td>\n",
              "      <td>0.750000</td>\n",
              "    </tr>\n",
              "    <tr>\n",
              "      <th>50%</th>\n",
              "      <td>1226.000000</td>\n",
              "      <td>0.0000</td>\n",
              "      <td>1.500000</td>\n",
              "      <td>1.000000</td>\n",
              "      <td>3.000000</td>\n",
              "      <td>1.000000</td>\n",
              "      <td>32.000000</td>\n",
              "      <td>0.500000</td>\n",
              "      <td>141.000000</td>\n",
              "      <td>4.000000</td>\n",
              "      <td>...</td>\n",
              "      <td>564.000000</td>\n",
              "      <td>1247.000000</td>\n",
              "      <td>2146.500000</td>\n",
              "      <td>12.000000</td>\n",
              "      <td>5.000000</td>\n",
              "      <td>11.000000</td>\n",
              "      <td>1.000000</td>\n",
              "      <td>1.000000</td>\n",
              "      <td>1.000000</td>\n",
              "      <td>1.500000</td>\n",
              "    </tr>\n",
              "    <tr>\n",
              "      <th>75%</th>\n",
              "      <td>1615.250000</td>\n",
              "      <td>1.0000</td>\n",
              "      <td>2.200000</td>\n",
              "      <td>1.000000</td>\n",
              "      <td>7.000000</td>\n",
              "      <td>1.000000</td>\n",
              "      <td>48.000000</td>\n",
              "      <td>0.800000</td>\n",
              "      <td>170.000000</td>\n",
              "      <td>7.000000</td>\n",
              "      <td>...</td>\n",
              "      <td>947.250000</td>\n",
              "      <td>1633.000000</td>\n",
              "      <td>3064.500000</td>\n",
              "      <td>16.000000</td>\n",
              "      <td>9.000000</td>\n",
              "      <td>16.000000</td>\n",
              "      <td>1.000000</td>\n",
              "      <td>1.000000</td>\n",
              "      <td>1.000000</td>\n",
              "      <td>2.250000</td>\n",
              "    </tr>\n",
              "    <tr>\n",
              "      <th>max</th>\n",
              "      <td>1998.000000</td>\n",
              "      <td>1.0000</td>\n",
              "      <td>3.000000</td>\n",
              "      <td>1.000000</td>\n",
              "      <td>19.000000</td>\n",
              "      <td>1.000000</td>\n",
              "      <td>64.000000</td>\n",
              "      <td>1.000000</td>\n",
              "      <td>200.000000</td>\n",
              "      <td>8.000000</td>\n",
              "      <td>...</td>\n",
              "      <td>1960.000000</td>\n",
              "      <td>1998.000000</td>\n",
              "      <td>3998.000000</td>\n",
              "      <td>19.000000</td>\n",
              "      <td>18.000000</td>\n",
              "      <td>20.000000</td>\n",
              "      <td>1.000000</td>\n",
              "      <td>1.000000</td>\n",
              "      <td>1.000000</td>\n",
              "      <td>3.000000</td>\n",
              "    </tr>\n",
              "  </tbody>\n",
              "</table>\n",
              "<p>8 rows × 21 columns</p>\n",
              "</div>\n",
              "      <button class=\"colab-df-convert\" onclick=\"convertToInteractive('df-0ffa4b6a-e18e-4a23-8092-a9aa1ec5b22d')\"\n",
              "              title=\"Convert this dataframe to an interactive table.\"\n",
              "              style=\"display:none;\">\n",
              "        \n",
              "  <svg xmlns=\"http://www.w3.org/2000/svg\" height=\"24px\"viewBox=\"0 0 24 24\"\n",
              "       width=\"24px\">\n",
              "    <path d=\"M0 0h24v24H0V0z\" fill=\"none\"/>\n",
              "    <path d=\"M18.56 5.44l.94 2.06.94-2.06 2.06-.94-2.06-.94-.94-2.06-.94 2.06-2.06.94zm-11 1L8.5 8.5l.94-2.06 2.06-.94-2.06-.94L8.5 2.5l-.94 2.06-2.06.94zm10 10l.94 2.06.94-2.06 2.06-.94-2.06-.94-.94-2.06-.94 2.06-2.06.94z\"/><path d=\"M17.41 7.96l-1.37-1.37c-.4-.4-.92-.59-1.43-.59-.52 0-1.04.2-1.43.59L10.3 9.45l-7.72 7.72c-.78.78-.78 2.05 0 2.83L4 21.41c.39.39.9.59 1.41.59.51 0 1.02-.2 1.41-.59l7.78-7.78 2.81-2.81c.8-.78.8-2.07 0-2.86zM5.41 20L4 18.59l7.72-7.72 1.47 1.35L5.41 20z\"/>\n",
              "  </svg>\n",
              "      </button>\n",
              "      \n",
              "  <style>\n",
              "    .colab-df-container {\n",
              "      display:flex;\n",
              "      flex-wrap:wrap;\n",
              "      gap: 12px;\n",
              "    }\n",
              "\n",
              "    .colab-df-convert {\n",
              "      background-color: #E8F0FE;\n",
              "      border: none;\n",
              "      border-radius: 50%;\n",
              "      cursor: pointer;\n",
              "      display: none;\n",
              "      fill: #1967D2;\n",
              "      height: 32px;\n",
              "      padding: 0 0 0 0;\n",
              "      width: 32px;\n",
              "    }\n",
              "\n",
              "    .colab-df-convert:hover {\n",
              "      background-color: #E2EBFA;\n",
              "      box-shadow: 0px 1px 2px rgba(60, 64, 67, 0.3), 0px 1px 3px 1px rgba(60, 64, 67, 0.15);\n",
              "      fill: #174EA6;\n",
              "    }\n",
              "\n",
              "    [theme=dark] .colab-df-convert {\n",
              "      background-color: #3B4455;\n",
              "      fill: #D2E3FC;\n",
              "    }\n",
              "\n",
              "    [theme=dark] .colab-df-convert:hover {\n",
              "      background-color: #434B5C;\n",
              "      box-shadow: 0px 1px 3px 1px rgba(0, 0, 0, 0.15);\n",
              "      filter: drop-shadow(0px 1px 2px rgba(0, 0, 0, 0.3));\n",
              "      fill: #FFFFFF;\n",
              "    }\n",
              "  </style>\n",
              "\n",
              "      <script>\n",
              "        const buttonEl =\n",
              "          document.querySelector('#df-0ffa4b6a-e18e-4a23-8092-a9aa1ec5b22d button.colab-df-convert');\n",
              "        buttonEl.style.display =\n",
              "          google.colab.kernel.accessAllowed ? 'block' : 'none';\n",
              "\n",
              "        async function convertToInteractive(key) {\n",
              "          const element = document.querySelector('#df-0ffa4b6a-e18e-4a23-8092-a9aa1ec5b22d');\n",
              "          const dataTable =\n",
              "            await google.colab.kernel.invokeFunction('convertToInteractive',\n",
              "                                                     [key], {});\n",
              "          if (!dataTable) return;\n",
              "\n",
              "          const docLinkHtml = 'Like what you see? Visit the ' +\n",
              "            '<a target=\"_blank\" href=https://colab.research.google.com/notebooks/data_table.ipynb>data table notebook</a>'\n",
              "            + ' to learn more about interactive tables.';\n",
              "          element.innerHTML = '';\n",
              "          dataTable['output_type'] = 'display_data';\n",
              "          await google.colab.output.renderOutput(dataTable, element);\n",
              "          const docLink = document.createElement('div');\n",
              "          docLink.innerHTML = docLinkHtml;\n",
              "          element.appendChild(docLink);\n",
              "        }\n",
              "      </script>\n",
              "    </div>\n",
              "  </div>\n",
              "  "
            ]
          },
          "metadata": {},
          "execution_count": 18
        }
      ]
    },
    {
      "cell_type": "code",
      "source": [
        "df.dtypes"
      ],
      "metadata": {
        "id": "n0grIgprL0Ib",
        "colab": {
          "base_uri": "https://localhost:8080/"
        },
        "outputId": "8953bfa3-a7ba-46c1-d82d-2abc50be9618"
      },
      "execution_count": 19,
      "outputs": [
        {
          "output_type": "execute_result",
          "data": {
            "text/plain": [
              "battery_power      int64\n",
              "blue               int64\n",
              "clock_speed      float64\n",
              "dual_sim           int64\n",
              "fc                 int64\n",
              "four_g             int64\n",
              "int_memory         int64\n",
              "m_dep            float64\n",
              "mobile_wt          int64\n",
              "n_cores            int64\n",
              "pc                 int64\n",
              "px_height          int64\n",
              "px_width           int64\n",
              "ram                int64\n",
              "sc_h               int64\n",
              "sc_w               int64\n",
              "talk_time          int64\n",
              "three_g            int64\n",
              "touch_screen       int64\n",
              "wifi               int64\n",
              "price_range        int64\n",
              "dtype: object"
            ]
          },
          "metadata": {},
          "execution_count": 19
        }
      ]
    },
    {
      "cell_type": "code",
      "source": [
        "#plot relationship between some features and price\n",
        "sns.pointplot(data=df, x=\"price_range\", y=\"battery_power\")\n",
        "plt.show()"
      ],
      "metadata": {
        "id": "24jZt4i_PcOU",
        "colab": {
          "base_uri": "https://localhost:8080/",
          "height": 280
        },
        "outputId": "4c2f09eb-0073-4843-b7e7-8a5624ad6396"
      },
      "execution_count": 20,
      "outputs": [
        {
          "output_type": "display_data",
          "data": {
            "text/plain": [
              "<Figure size 432x288 with 1 Axes>"
            ],
            "image/png": "[encoded data removed]"
          },
          "metadata": {
            "needs_background": "light"
          }
        }
      ]
    },
    {
      "cell_type": "code",
      "source": [
        "sns.pointplot(data=df, x=\"price_range\", y=\"ram\" , color = 'red')\n",
        "plt.show()"
      ],
      "metadata": {
        "id": "f0Grgjw1hvDh",
        "colab": {
          "base_uri": "https://localhost:8080/",
          "height": 280
        },
        "outputId": "5d3ae709-2b19-46ca-cd00-4fbf1f7dda83"
      },
      "execution_count": 21,
      "outputs": [
        {
          "output_type": "display_data",
          "data": {
            "text/plain": [
              "<Figure size 432x288 with 1 Axes>"
            ],
            "image/png": "[encoded data removed]"
          },
          "metadata": {
            "needs_background": "light"
          }
        }
      ]
    },
    {
      "cell_type": "code",
      "source": [
        "sns.pointplot(data=df, x=\"price_range\", y=\"mobile_wt\" , color = 'purple')\n",
        "plt.show()"
      ],
      "metadata": {
        "id": "P7TFCsu2pN6C",
        "colab": {
          "base_uri": "https://localhost:8080/",
          "height": 280
        },
        "outputId": "e0a5485c-d8d1-44d0-cc9f-a2ffebc964eb"
      },
      "execution_count": 22,
      "outputs": [
        {
          "output_type": "display_data",
          "data": {
            "text/plain": [
              "<Figure size 432x288 with 1 Axes>"
            ],
            "image/png": "[encoded data removed]"
          },
          "metadata": {
            "needs_background": "light"
          }
        }
      ]
    },
    {
      "cell_type": "code",
      "source": [
        "sns.pointplot(data=df, x=\"price_range\", y=\"int_memory\" , color = 'yellow')\n",
        "plt.show()"
      ],
      "metadata": {
        "id": "WeK6HAfOprZO",
        "colab": {
          "base_uri": "https://localhost:8080/",
          "height": 280
        },
        "outputId": "066b6513-8af1-4e6d-d0ea-0e2ac063b649"
      },
      "execution_count": 23,
      "outputs": [
        {
          "output_type": "display_data",
          "data": {
            "text/plain": [
              "<Figure size 432x288 with 1 Axes>"
            ],
            "image/png": "[encoded data removed]"
          },
          "metadata": {
            "needs_background": "light"
          }
        }
      ]
    },
    {
      "cell_type": "code",
      "source": [
        "#plot categorical columns\n",
        "color = sns.color_palette(\"crest\")\n",
        "df.price_range.value_counts().plot.pie(colors = color , autopct='%.2f%%')\n",
        "plt.show()"
      ],
      "metadata": {
        "id": "ldJn87HwqBrC",
        "colab": {
          "base_uri": "https://localhost:8080/",
          "height": 248
        },
        "outputId": "8db35224-6256-4b99-b359-ec034bc5245a"
      },
      "execution_count": 24,
      "outputs": [
        {
          "output_type": "display_data",
          "data": {
            "text/plain": [
              "<Figure size 432x288 with 1 Axes>"
            ],
            "image/png": "[encoded data removed]"
          },
          "metadata": {}
        }
      ]
    },
    {
      "cell_type": "code",
      "source": [
        "color = sns.color_palette(\"rocket_r\")\n",
        "df.blue.value_counts().plot.pie(colors = color , autopct='%.2f%%')\n",
        "plt.show()"
      ],
      "metadata": {
        "id": "7QxIrhZQwZTr",
        "colab": {
          "base_uri": "https://localhost:8080/",
          "height": 248
        },
        "outputId": "79926214-958f-4b18-d05a-797d379a8d55"
      },
      "execution_count": 25,
      "outputs": [
        {
          "output_type": "display_data",
          "data": {
            "text/plain": [
              "<Figure size 432x288 with 1 Axes>"
            ],
            "image/png": "[encoded data removed]"
          },
          "metadata": {}
        }
      ]
    },
    {
      "cell_type": "code",
      "source": [
        "color = sns.color_palette(\"crest\")\n",
        "df.dual_sim.value_counts().plot.pie(colors = color , autopct='%.2f%%')\n",
        "plt.show()"
      ],
      "metadata": {
        "id": "etCnw_LaxSUs",
        "colab": {
          "base_uri": "https://localhost:8080/",
          "height": 248
        },
        "outputId": "81a44fe2-4a19-4e47-cf61-b5afd59fdc38"
      },
      "execution_count": 26,
      "outputs": [
        {
          "output_type": "display_data",
          "data": {
            "text/plain": [
              "<Figure size 432x288 with 1 Axes>"
            ],
            "image/png": "[encoded data removed]"
          },
          "metadata": {}
        }
      ]
    },
    {
      "cell_type": "code",
      "source": [
        "color = sns.color_palette(\"rocket_r\")\n",
        "df.three_g.value_counts().plot.pie(colors = color , autopct='%.2f%%')\n",
        "plt.show()"
      ],
      "metadata": {
        "id": "ze7oA0wd_Vr-",
        "colab": {
          "base_uri": "https://localhost:8080/",
          "height": 248
        },
        "outputId": "9d35b8ad-b0c7-4aa4-e39d-55e60272a029"
      },
      "execution_count": 27,
      "outputs": [
        {
          "output_type": "display_data",
          "data": {
            "text/plain": [
              "<Figure size 432x288 with 1 Axes>"
            ],
            "image/png": "[encoded data removed]"
          },
          "metadata": {}
        }
      ]
    },
    {
      "cell_type": "code",
      "source": [
        "color = sns.color_palette(\"crest\")\n",
        "df.four_g.value_counts().plot.pie(colors = color , autopct='%.2f%%')\n",
        "plt.show()"
      ],
      "metadata": {
        "id": "9kvQyFbr_bzC",
        "colab": {
          "base_uri": "https://localhost:8080/",
          "height": 248
        },
        "outputId": "cf72fcb9-c07b-48b3-896d-f2d2eeb6807c"
      },
      "execution_count": 28,
      "outputs": [
        {
          "output_type": "display_data",
          "data": {
            "text/plain": [
              "<Figure size 432x288 with 1 Axes>"
            ],
            "image/png": "[encoded data removed]"
          },
          "metadata": {}
        }
      ]
    },
    {
      "cell_type": "code",
      "source": [
        "color = sns.color_palette(\"rocket_r\")\n",
        "df.touch_screen.value_counts().plot.pie(colors = color , autopct='%.2f%%')\n",
        "plt.show()"
      ],
      "metadata": {
        "id": "dGrMX_Xy_h6g",
        "colab": {
          "base_uri": "https://localhost:8080/",
          "height": 248
        },
        "outputId": "6e0f811c-b69a-4264-80b8-a9c32c90bd2a"
      },
      "execution_count": 29,
      "outputs": [
        {
          "output_type": "display_data",
          "data": {
            "text/plain": [
              "<Figure size 432x288 with 1 Axes>"
            ],
            "image/png": "[encoded data removed]"
          },
          "metadata": {}
        }
      ]
    },
    {
      "cell_type": "code",
      "source": [
        "color = sns.color_palette(\"crest\")\n",
        "df.n_cores.value_counts().plot.pie(colors = color , autopct='%.2f%%')\n",
        "plt.show()"
      ],
      "metadata": {
        "colab": {
          "base_uri": "https://localhost:8080/",
          "height": 248
        },
        "id": "4KuPH1qAuunV",
        "outputId": "e470be5a-654d-4839-9f4a-a9fc61ff4163"
      },
      "execution_count": 30,
      "outputs": [
        {
          "output_type": "display_data",
          "data": {
            "text/plain": [
              "<Figure size 432x288 with 1 Axes>"
            ],
            "image/png": "[encoded data removed]"
          },
          "metadata": {}
        }
      ]
    },
    {
      "cell_type": "code",
      "source": [
        "#plot features corelation using corelation matrix\n",
        "#corr = df.corr()\n",
        "#sns.heatmap(corr, cmap=\"YlGnBu\", linewidths=.5)\n",
        "#plt.show()\n",
        "\n",
        "sns.set_theme(style=\"white\")\n",
        "rs = np.random.RandomState(20)\n",
        "corr = df.corr()\n",
        "\n",
        "mask = np.triu(np.ones_like(corr, dtype=bool))\n",
        "f, ax = plt.subplots(figsize=(11, 9))\n",
        "cmap = sns.diverging_palette(230, 20, as_cmap=True)\n",
        "sns.heatmap(corr, mask=mask, cmap=cmap, vmax= .3, vmin = -.3 , center= 0 , square=True, linewidths=.5, cbar_kws={\"shrink\": .5})\n",
        "plt.show()"
      ],
      "metadata": {
        "id": "8jGSKvje_qAh",
        "colab": {
          "base_uri": "https://localhost:8080/",
          "height": 582
        },
        "outputId": "fddc9cde-236e-4044-af2a-5b08403d5de5"
      },
      "execution_count": 31,
      "outputs": [
        {
          "output_type": "display_data",
          "data": {
            "text/plain": [
              "<Figure size 792x648 with 2 Axes>"
            ],
            "image/png": "[encoded data removed]"
          },
          "metadata": {}
        }
      ]
    },
    {
      "cell_type": "code",
      "source": [
        "s= corr['price_range'].sort_values(ascending=False)"
      ],
      "metadata": {
        "id": "I1IenG5G7YE3"
      },
      "execution_count": 32,
      "outputs": []
    },
    {
      "cell_type": "code",
      "source": [
        "s.drop(s.index[0])"
      ],
      "metadata": {
        "colab": {
          "base_uri": "https://localhost:8080/"
        },
        "id": "yrBy_DhL-1gw",
        "outputId": "b315c015-bee8-441a-a97b-36771e410eee"
      },
      "execution_count": 33,
      "outputs": [
        {
          "output_type": "execute_result",
          "data": {
            "text/plain": [
              "ram              0.917046\n",
              "battery_power    0.200723\n",
              "px_width         0.165818\n",
              "px_height        0.148858\n",
              "int_memory       0.044435\n",
              "sc_w             0.038711\n",
              "pc               0.033599\n",
              "three_g          0.023611\n",
              "sc_h             0.022986\n",
              "fc               0.021998\n",
              "talk_time        0.021859\n",
              "blue             0.020573\n",
              "wifi             0.018785\n",
              "dual_sim         0.017444\n",
              "four_g           0.014772\n",
              "n_cores          0.004399\n",
              "m_dep            0.000853\n",
              "clock_speed     -0.006606\n",
              "mobile_wt       -0.030302\n",
              "touch_screen    -0.030411\n",
              "Name: price_range, dtype: float64"
            ]
          },
          "metadata": {},
          "execution_count": 33
        }
      ]
    },
    {
      "cell_type": "markdown",
      "source": [
        "# TASK 3\n",
        "\n",
        "hypothesis tests"
      ],
      "metadata": {
        "id": "tuh49rXt_t4Y"
      }
    },
    {
      "cell_type": "code",
      "source": [
        "from scipy import stats"
      ],
      "metadata": {
        "id": "9PrWG8itkvIh"
      },
      "execution_count": 34,
      "outputs": []
    },
    {
      "cell_type": "code",
      "source": [
        "#q1 : touchscreen effects on battery power (using 2samples Ttest)\n",
        "touchScreen = df[df.touch_screen == 1]\n",
        "notTouchScreen = df[df.touch_screen == 0]"
      ],
      "metadata": {
        "id": "HDgv98it_-Wc"
      },
      "execution_count": 35,
      "outputs": []
    },
    {
      "cell_type": "code",
      "source": [
        "alpha = 0.05 \n",
        "tstat,p_value = stats.ttest_ind(touchScreen.battery_power , notTouchScreen.battery_power,equal_var = False )\n",
        "\n",
        "print('t stat : {} , p_value : {}'.format(tstat,p_value))\n",
        "if p_value<= alpha:\n",
        "    print(\"reject null hypothesis\")\n",
        "else:\n",
        "    print(\"accept null hypothesis\")"
      ],
      "metadata": {
        "colab": {
          "base_uri": "https://localhost:8080/"
        },
        "id": "3uD4mjo0no7q",
        "outputId": "d7d1c875-abcf-406a-d23c-9b992d510442"
      },
      "execution_count": 36,
      "outputs": [
        {
          "output_type": "stream",
          "name": "stdout",
          "text": [
            "t stat : -0.4700693156051378 , p_value : 0.6383568070887617\n",
            "accept null hypothesis\n"
          ]
        }
      ]
    },
    {
      "cell_type": "code",
      "source": [
        "# q2 : n_cores not affect on battery power (using ANOVA)\n",
        "df.n_cores.unique()"
      ],
      "metadata": {
        "colab": {
          "base_uri": "https://localhost:8080/"
        },
        "id": "T4w4o16mqlNK",
        "outputId": "aa454e9c-70a5-4249-836d-c87cc42ca34f"
      },
      "execution_count": 37,
      "outputs": [
        {
          "output_type": "execute_result",
          "data": {
            "text/plain": [
              "array([2, 3, 5, 6, 1, 8, 4, 7])"
            ]
          },
          "metadata": {},
          "execution_count": 37
        }
      ]
    },
    {
      "cell_type": "code",
      "source": [
        "n1 = df[df.n_cores==1]\n",
        "n2 = df[df.n_cores==2]\n",
        "n3 = df[df.n_cores==3]\n",
        "n4 = df[df.n_cores==4]\n",
        "n5 = df[df.n_cores==5]\n",
        "n6 = df[df.n_cores==6]\n",
        "n7 = df[df.n_cores==7]\n",
        "n8 = df[df.n_cores==8]"
      ],
      "metadata": {
        "id": "P26MCFwirdhS"
      },
      "execution_count": 38,
      "outputs": []
    },
    {
      "cell_type": "code",
      "source": [
        "alpha = 0.05 \n",
        "fstat,p_value = stats.f_oneway(n1.battery_power , n2.battery_power , n3.battery_power , n4.battery_power , n5.battery_power , n6.battery_power , n7.battery_power , n8.battery_power )\n",
        "\n",
        "print('f stat : {} , p_value : {}'.format(fstat,p_value))\n",
        "if p_value<= alpha:\n",
        "    print(\"reject null hypothesis\")\n",
        "else:\n",
        "    print(\"accept null hypothesis\")"
      ],
      "metadata": {
        "colab": {
          "base_uri": "https://localhost:8080/"
        },
        "id": "mbCqOydxrY_X",
        "outputId": "127caedf-eb23-49f0-afc8-3d94a8a86746"
      },
      "execution_count": 39,
      "outputs": [
        {
          "output_type": "stream",
          "name": "stdout",
          "text": [
            "f stat : 1.0090319220482968 , p_value : 0.42270358537750213\n",
            "accept null hypothesis\n"
          ]
        }
      ]
    },
    {
      "cell_type": "code",
      "source": [
        "#q3 : wifi can affect price range(using Chi square)"
      ],
      "metadata": {
        "id": "QSxaZeJWl2j4"
      },
      "execution_count": 40,
      "outputs": []
    },
    {
      "cell_type": "code",
      "source": [
        "from scipy.stats import chi2_contingency\n",
        "alpha = 0.1\n",
        "chiS = pd.crosstab(df['wifi'],df['price_range'])\n",
        "stat,pvalue,dof,expected_R = chi2_contingency(chiS)\n",
        "print(\"pvalue : \",pvalue)\n",
        "\n",
        "if pvalue <= alpha:\n",
        "    print(\"reject null hypothesis\")\n",
        "else:\n",
        "    print(\"accept null hypothesis\")"
      ],
      "metadata": {
        "colab": {
          "base_uri": "https://localhost:8080/"
        },
        "id": "0lORideW1Lku",
        "outputId": "46d68bf4-5aec-422e-e9b0-e51c124d0c59"
      },
      "execution_count": 41,
      "outputs": [
        {
          "output_type": "stream",
          "name": "stdout",
          "text": [
            "pvalue :  0.8359905195342198\n",
            "accept null hypothesis\n"
          ]
        }
      ]
    },
    {
      "cell_type": "code",
      "source": [
        "#q4 : mobiles have ram = 2000 on average(using 1sample Ttest)"
      ],
      "metadata": {
        "id": "-P026PHC3Lps"
      },
      "execution_count": 42,
      "outputs": []
    },
    {
      "cell_type": "code",
      "source": [
        "alpha = 0.05 \n",
        "tstat,p_value = stats.ttest_1samp(df['ram'],popmean = 2000 )\n",
        "print('t stat : {} , p_value : {}'.format(tstat,p_value))\n",
        "if p_value<= alpha:\n",
        "    print(\"reject null hypothesis\")\n",
        "else:\n",
        "    print(\"accept null hypothesis\")"
      ],
      "metadata": {
        "colab": {
          "base_uri": "https://localhost:8080/"
        },
        "id": "6x4-acHO3x5o",
        "outputId": "4af19696-ae1d-44a8-9ae2-90d71598e0ea"
      },
      "execution_count": 43,
      "outputs": [
        {
          "output_type": "stream",
          "name": "stdout",
          "text": [
            "t stat : 5.121056639293959 , p_value : 3.330034014107128e-07\n",
            "reject null hypothesis\n"
          ]
        }
      ]
    },
    {
      "cell_type": "code",
      "source": [
        "#q5 : dual_sim doesn't effect on talk time (using 2samples Ttest)\n",
        "dual_sim = df[df.dual_sim == 1]\n",
        "notdual_sim = df[df.dual_sim == 0]"
      ],
      "metadata": {
        "id": "-b35PD-a4DOs"
      },
      "execution_count": 44,
      "outputs": []
    },
    {
      "cell_type": "code",
      "source": [
        "alpha = 0.05 \n",
        "tstat,p_value = stats.ttest_ind(dual_sim.talk_time , notdual_sim.talk_time ,equal_var = True )\n",
        "\n",
        "print('t stat : {} , p_value : {}'.format(tstat,p_value))\n",
        "if p_value<= alpha:\n",
        "    print(\"reject null hypothesis\")\n",
        "else:\n",
        "    print(\"accept null hypothesis\")"
      ],
      "metadata": {
        "colab": {
          "base_uri": "https://localhost:8080/"
        },
        "id": "X8PZY0so57DY",
        "outputId": "1f55cfae-0dd4-4fba-e6a2-2d42eb602cb2"
      },
      "execution_count": 45,
      "outputs": [
        {
          "output_type": "stream",
          "name": "stdout",
          "text": [
            "t stat : -1.7626880814916899 , p_value : 0.07810597736080419\n",
            "accept null hypothesis\n"
          ]
        }
      ]
    },
    {
      "cell_type": "markdown",
      "source": [
        "# TASK 4\n",
        "\n",
        "model training"
      ],
      "metadata": {
        "id": "qb2rrXVRDgLG"
      }
    },
    {
      "cell_type": "code",
      "source": [
        "X=df.drop(['price_range'], axis=1)\n",
        "y=df['price_range']"
      ],
      "metadata": {
        "id": "cQPOF0fFvsJQ"
      },
      "execution_count": 46,
      "outputs": []
    },
    {
      "cell_type": "code",
      "source": [
        "#TASK8\n",
        "from sklearn.model_selection import train_test_split\n",
        "X_train,X_test,y_train,y_test=train_test_split(X,y,test_size=0.2,random_state=50,stratify=y)\n",
        "y_train"
      ],
      "metadata": {
        "id": "Fxr0_RXox6Sl",
        "colab": {
          "base_uri": "https://localhost:8080/"
        },
        "outputId": "020b409e-2f56-429b-fb4b-0692cd41c355"
      },
      "execution_count": 47,
      "outputs": [
        {
          "output_type": "execute_result",
          "data": {
            "text/plain": [
              "132     2\n",
              "1020    3\n",
              "868     0\n",
              "1640    2\n",
              "263     0\n",
              "       ..\n",
              "651     2\n",
              "619     2\n",
              "276     3\n",
              "788     2\n",
              "336     3\n",
              "Name: price_range, Length: 1600, dtype: int64"
            ]
          },
          "metadata": {},
          "execution_count": 47
        }
      ]
    },
    {
      "cell_type": "code",
      "source": [
        "from sklearn.feature_selection import mutual_info_classif\n",
        "res = mutual_info_classif(X_train, y_train, random_state=0)\n",
        "res"
      ],
      "metadata": {
        "id": "H1RhrWcAyRU3",
        "colab": {
          "base_uri": "https://localhost:8080/"
        },
        "outputId": "4cc206dc-1661-406f-d9ec-ea322afcefb1"
      },
      "execution_count": 48,
      "outputs": [
        {
          "output_type": "execute_result",
          "data": {
            "text/plain": [
              "array([0.05192272, 0.00858015, 0.        , 0.00849807, 0.00433109,\n",
              "       0.        , 0.01306148, 0.        , 0.02966002, 0.00388993,\n",
              "       0.        , 0.03116544, 0.01484668, 0.83047248, 0.        ,\n",
              "       0.        , 0.        , 0.00560511, 0.        , 0.        ])"
            ]
          },
          "metadata": {},
          "execution_count": 48
        }
      ]
    },
    {
      "cell_type": "code",
      "source": [
        "res = pd.Series(res)\n",
        "res.index = X_train.columns\n",
        "res.sort_values()"
      ],
      "metadata": {
        "id": "llu6pet6Ca5N",
        "colab": {
          "base_uri": "https://localhost:8080/"
        },
        "outputId": "665118e8-8b76-4d5e-873c-5eb03169e912"
      },
      "execution_count": 49,
      "outputs": [
        {
          "output_type": "execute_result",
          "data": {
            "text/plain": [
              "wifi             0.000000\n",
              "talk_time        0.000000\n",
              "clock_speed      0.000000\n",
              "sc_w             0.000000\n",
              "sc_h             0.000000\n",
              "four_g           0.000000\n",
              "pc               0.000000\n",
              "m_dep            0.000000\n",
              "touch_screen     0.000000\n",
              "n_cores          0.003890\n",
              "fc               0.004331\n",
              "three_g          0.005605\n",
              "dual_sim         0.008498\n",
              "blue             0.008580\n",
              "int_memory       0.013061\n",
              "px_width         0.014847\n",
              "mobile_wt        0.029660\n",
              "px_height        0.031165\n",
              "battery_power    0.051923\n",
              "ram              0.830472\n",
              "dtype: float64"
            ]
          },
          "metadata": {},
          "execution_count": 49
        }
      ]
    },
    {
      "cell_type": "code",
      "source": [
        "selected_features1=[]\n",
        "selected_features2=[]\n",
        "selected_features3=[]\n",
        "for index, value in res.items():\n",
        "    if value>0:\n",
        "        selected_features1.append(index)\n",
        "\n",
        "for index, value in res.items():\n",
        "    if value>0.005:\n",
        "        selected_features2.append(index)\n",
        "\n",
        "for index, value in res.items():\n",
        "    if value>0.02:\n",
        "        selected_features3.append(index)        "
      ],
      "metadata": {
        "id": "rRvK3AMXCqyD"
      },
      "execution_count": 50,
      "outputs": []
    },
    {
      "cell_type": "code",
      "source": [
        "X_train1= X_train[selected_features1]\n",
        "X_test1= X_test[selected_features1]\n",
        "X_train1.head()"
      ],
      "metadata": {
        "id": "HkmBNMlcEGtv",
        "colab": {
          "base_uri": "https://localhost:8080/",
          "height": 270
        },
        "outputId": "25f6e927-18e5-462f-fe71-9984fb7124f6"
      },
      "execution_count": 51,
      "outputs": [
        {
          "output_type": "execute_result",
          "data": {
            "text/plain": [
              "      battery_power  blue  dual_sim  fc  int_memory  mobile_wt  n_cores  \\\n",
              "132             645     0         0   1          41        197        7   \n",
              "1020           1119     0         1   0          23        164        4   \n",
              "868             981     1         1   0           2        136        3   \n",
              "1640           1269     1         1  16          41        180        8   \n",
              "263             767     0         0   4          28        175        4   \n",
              "\n",
              "      px_height  px_width   ram  three_g  \n",
              "132         327       580  2962        1  \n",
              "1020        821       915  3520        1  \n",
              "868          75       688  1539        0  \n",
              "1640        406      1036  2341        0  \n",
              "263         344      1517   527        0  "
            ],
            "text/html": [
              "\n",
              "  <div id=\"df-0a5b8769-2101-4efa-9cbd-6fc639336954\">\n",
              "    <div class=\"colab-df-container\">\n",
              "      <div>\n",
              "<style scoped>\n",
              "    .dataframe tbody tr th:only-of-type {\n",
              "        vertical-align: middle;\n",
              "    }\n",
              "\n",
              "    .dataframe tbody tr th {\n",
              "        vertical-align: top;\n",
              "    }\n",
              "\n",
              "    .dataframe thead th {\n",
              "        text-align: right;\n",
              "    }\n",
              "</style>\n",
              "<table border=\"1\" class=\"dataframe\">\n",
              "  <thead>\n",
              "    <tr style=\"text-align: right;\">\n",
              "      <th></th>\n",
              "      <th>battery_power</th>\n",
              "      <th>blue</th>\n",
              "      <th>dual_sim</th>\n",
              "      <th>fc</th>\n",
              "      <th>int_memory</th>\n",
              "      <th>mobile_wt</th>\n",
              "      <th>n_cores</th>\n",
              "      <th>px_height</th>\n",
              "      <th>px_width</th>\n",
              "      <th>ram</th>\n",
              "      <th>three_g</th>\n",
              "    </tr>\n",
              "  </thead>\n",
              "  <tbody>\n",
              "    <tr>\n",
              "      <th>132</th>\n",
              "      <td>645</td>\n",
              "      <td>0</td>\n",
              "      <td>0</td>\n",
              "      <td>1</td>\n",
              "      <td>41</td>\n",
              "      <td>197</td>\n",
              "      <td>7</td>\n",
              "      <td>327</td>\n",
              "      <td>580</td>\n",
              "      <td>2962</td>\n",
              "      <td>1</td>\n",
              "    </tr>\n",
              "    <tr>\n",
              "      <th>1020</th>\n",
              "      <td>1119</td>\n",
              "      <td>0</td>\n",
              "      <td>1</td>\n",
              "      <td>0</td>\n",
              "      <td>23</td>\n",
              "      <td>164</td>\n",
              "      <td>4</td>\n",
              "      <td>821</td>\n",
              "      <td>915</td>\n",
              "      <td>3520</td>\n",
              "      <td>1</td>\n",
              "    </tr>\n",
              "    <tr>\n",
              "      <th>868</th>\n",
              "      <td>981</td>\n",
              "      <td>1</td>\n",
              "      <td>1</td>\n",
              "      <td>0</td>\n",
              "      <td>2</td>\n",
              "      <td>136</td>\n",
              "      <td>3</td>\n",
              "      <td>75</td>\n",
              "      <td>688</td>\n",
              "      <td>1539</td>\n",
              "      <td>0</td>\n",
              "    </tr>\n",
              "    <tr>\n",
              "      <th>1640</th>\n",
              "      <td>1269</td>\n",
              "      <td>1</td>\n",
              "      <td>1</td>\n",
              "      <td>16</td>\n",
              "      <td>41</td>\n",
              "      <td>180</td>\n",
              "      <td>8</td>\n",
              "      <td>406</td>\n",
              "      <td>1036</td>\n",
              "      <td>2341</td>\n",
              "      <td>0</td>\n",
              "    </tr>\n",
              "    <tr>\n",
              "      <th>263</th>\n",
              "      <td>767</td>\n",
              "      <td>0</td>\n",
              "      <td>0</td>\n",
              "      <td>4</td>\n",
              "      <td>28</td>\n",
              "      <td>175</td>\n",
              "      <td>4</td>\n",
              "      <td>344</td>\n",
              "      <td>1517</td>\n",
              "      <td>527</td>\n",
              "      <td>0</td>\n",
              "    </tr>\n",
              "  </tbody>\n",
              "</table>\n",
              "</div>\n",
              "      <button class=\"colab-df-convert\" onclick=\"convertToInteractive('df-0a5b8769-2101-4efa-9cbd-6fc639336954')\"\n",
              "              title=\"Convert this dataframe to an interactive table.\"\n",
              "              style=\"display:none;\">\n",
              "        \n",
              "  <svg xmlns=\"http://www.w3.org/2000/svg\" height=\"24px\"viewBox=\"0 0 24 24\"\n",
              "       width=\"24px\">\n",
              "    <path d=\"M0 0h24v24H0V0z\" fill=\"none\"/>\n",
              "    <path d=\"M18.56 5.44l.94 2.06.94-2.06 2.06-.94-2.06-.94-.94-2.06-.94 2.06-2.06.94zm-11 1L8.5 8.5l.94-2.06 2.06-.94-2.06-.94L8.5 2.5l-.94 2.06-2.06.94zm10 10l.94 2.06.94-2.06 2.06-.94-2.06-.94-.94-2.06-.94 2.06-2.06.94z\"/><path d=\"M17.41 7.96l-1.37-1.37c-.4-.4-.92-.59-1.43-.59-.52 0-1.04.2-1.43.59L10.3 9.45l-7.72 7.72c-.78.78-.78 2.05 0 2.83L4 21.41c.39.39.9.59 1.41.59.51 0 1.02-.2 1.41-.59l7.78-7.78 2.81-2.81c.8-.78.8-2.07 0-2.86zM5.41 20L4 18.59l7.72-7.72 1.47 1.35L5.41 20z\"/>\n",
              "  </svg>\n",
              "      </button>\n",
              "      \n",
              "  <style>\n",
              "    .colab-df-container {\n",
              "      display:flex;\n",
              "      flex-wrap:wrap;\n",
              "      gap: 12px;\n",
              "    }\n",
              "\n",
              "    .colab-df-convert {\n",
              "      background-color: #E8F0FE;\n",
              "      border: none;\n",
              "      border-radius: 50%;\n",
              "      cursor: pointer;\n",
              "      display: none;\n",
              "      fill: #1967D2;\n",
              "      height: 32px;\n",
              "      padding: 0 0 0 0;\n",
              "      width: 32px;\n",
              "    }\n",
              "\n",
              "    .colab-df-convert:hover {\n",
              "      background-color: #E2EBFA;\n",
              "      box-shadow: 0px 1px 2px rgba(60, 64, 67, 0.3), 0px 1px 3px 1px rgba(60, 64, 67, 0.15);\n",
              "      fill: #174EA6;\n",
              "    }\n",
              "\n",
              "    [theme=dark] .colab-df-convert {\n",
              "      background-color: #3B4455;\n",
              "      fill: #D2E3FC;\n",
              "    }\n",
              "\n",
              "    [theme=dark] .colab-df-convert:hover {\n",
              "      background-color: #434B5C;\n",
              "      box-shadow: 0px 1px 3px 1px rgba(0, 0, 0, 0.15);\n",
              "      filter: drop-shadow(0px 1px 2px rgba(0, 0, 0, 0.3));\n",
              "      fill: #FFFFFF;\n",
              "    }\n",
              "  </style>\n",
              "\n",
              "      <script>\n",
              "        const buttonEl =\n",
              "          document.querySelector('#df-0a5b8769-2101-4efa-9cbd-6fc639336954 button.colab-df-convert');\n",
              "        buttonEl.style.display =\n",
              "          google.colab.kernel.accessAllowed ? 'block' : 'none';\n",
              "\n",
              "        async function convertToInteractive(key) {\n",
              "          const element = document.querySelector('#df-0a5b8769-2101-4efa-9cbd-6fc639336954');\n",
              "          const dataTable =\n",
              "            await google.colab.kernel.invokeFunction('convertToInteractive',\n",
              "                                                     [key], {});\n",
              "          if (!dataTable) return;\n",
              "\n",
              "          const docLinkHtml = 'Like what you see? Visit the ' +\n",
              "            '<a target=\"_blank\" href=https://colab.research.google.com/notebooks/data_table.ipynb>data table notebook</a>'\n",
              "            + ' to learn more about interactive tables.';\n",
              "          element.innerHTML = '';\n",
              "          dataTable['output_type'] = 'display_data';\n",
              "          await google.colab.output.renderOutput(dataTable, element);\n",
              "          const docLink = document.createElement('div');\n",
              "          docLink.innerHTML = docLinkHtml;\n",
              "          element.appendChild(docLink);\n",
              "        }\n",
              "      </script>\n",
              "    </div>\n",
              "  </div>\n",
              "  "
            ]
          },
          "metadata": {},
          "execution_count": 51
        }
      ]
    },
    {
      "cell_type": "code",
      "source": [
        "X_train2= X_train[selected_features2]\n",
        "X_test2= X_test[selected_features2]\n",
        "\n",
        "X_train2.head()"
      ],
      "metadata": {
        "id": "RSXER5mcEV98",
        "colab": {
          "base_uri": "https://localhost:8080/",
          "height": 270
        },
        "outputId": "3b54bb19-8f7f-4b1a-f156-e4290d085ebf"
      },
      "execution_count": 52,
      "outputs": [
        {
          "output_type": "execute_result",
          "data": {
            "text/plain": [
              "      battery_power  blue  dual_sim  int_memory  mobile_wt  px_height  \\\n",
              "132             645     0         0          41        197        327   \n",
              "1020           1119     0         1          23        164        821   \n",
              "868             981     1         1           2        136         75   \n",
              "1640           1269     1         1          41        180        406   \n",
              "263             767     0         0          28        175        344   \n",
              "\n",
              "      px_width   ram  three_g  \n",
              "132        580  2962        1  \n",
              "1020       915  3520        1  \n",
              "868        688  1539        0  \n",
              "1640      1036  2341        0  \n",
              "263       1517   527        0  "
            ],
            "text/html": [
              "\n",
              "  <div id=\"df-4c466ad2-8969-465a-9ece-e0a7b58e8354\">\n",
              "    <div class=\"colab-df-container\">\n",
              "      <div>\n",
              "<style scoped>\n",
              "    .dataframe tbody tr th:only-of-type {\n",
              "        vertical-align: middle;\n",
              "    }\n",
              "\n",
              "    .dataframe tbody tr th {\n",
              "        vertical-align: top;\n",
              "    }\n",
              "\n",
              "    .dataframe thead th {\n",
              "        text-align: right;\n",
              "    }\n",
              "</style>\n",
              "<table border=\"1\" class=\"dataframe\">\n",
              "  <thead>\n",
              "    <tr style=\"text-align: right;\">\n",
              "      <th></th>\n",
              "      <th>battery_power</th>\n",
              "      <th>blue</th>\n",
              "      <th>dual_sim</th>\n",
              "      <th>int_memory</th>\n",
              "      <th>mobile_wt</th>\n",
              "      <th>px_height</th>\n",
              "      <th>px_width</th>\n",
              "      <th>ram</th>\n",
              "      <th>three_g</th>\n",
              "    </tr>\n",
              "  </thead>\n",
              "  <tbody>\n",
              "    <tr>\n",
              "      <th>132</th>\n",
              "      <td>645</td>\n",
              "      <td>0</td>\n",
              "      <td>0</td>\n",
              "      <td>41</td>\n",
              "      <td>197</td>\n",
              "      <td>327</td>\n",
              "      <td>580</td>\n",
              "      <td>2962</td>\n",
              "      <td>1</td>\n",
              "    </tr>\n",
              "    <tr>\n",
              "      <th>1020</th>\n",
              "      <td>1119</td>\n",
              "      <td>0</td>\n",
              "      <td>1</td>\n",
              "      <td>23</td>\n",
              "      <td>164</td>\n",
              "      <td>821</td>\n",
              "      <td>915</td>\n",
              "      <td>3520</td>\n",
              "      <td>1</td>\n",
              "    </tr>\n",
              "    <tr>\n",
              "      <th>868</th>\n",
              "      <td>981</td>\n",
              "      <td>1</td>\n",
              "      <td>1</td>\n",
              "      <td>2</td>\n",
              "      <td>136</td>\n",
              "      <td>75</td>\n",
              "      <td>688</td>\n",
              "      <td>1539</td>\n",
              "      <td>0</td>\n",
              "    </tr>\n",
              "    <tr>\n",
              "      <th>1640</th>\n",
              "      <td>1269</td>\n",
              "      <td>1</td>\n",
              "      <td>1</td>\n",
              "      <td>41</td>\n",
              "      <td>180</td>\n",
              "      <td>406</td>\n",
              "      <td>1036</td>\n",
              "      <td>2341</td>\n",
              "      <td>0</td>\n",
              "    </tr>\n",
              "    <tr>\n",
              "      <th>263</th>\n",
              "      <td>767</td>\n",
              "      <td>0</td>\n",
              "      <td>0</td>\n",
              "      <td>28</td>\n",
              "      <td>175</td>\n",
              "      <td>344</td>\n",
              "      <td>1517</td>\n",
              "      <td>527</td>\n",
              "      <td>0</td>\n",
              "    </tr>\n",
              "  </tbody>\n",
              "</table>\n",
              "</div>\n",
              "      <button class=\"colab-df-convert\" onclick=\"convertToInteractive('df-4c466ad2-8969-465a-9ece-e0a7b58e8354')\"\n",
              "              title=\"Convert this dataframe to an interactive table.\"\n",
              "              style=\"display:none;\">\n",
              "        \n",
              "  <svg xmlns=\"http://www.w3.org/2000/svg\" height=\"24px\"viewBox=\"0 0 24 24\"\n",
              "       width=\"24px\">\n",
              "    <path d=\"M0 0h24v24H0V0z\" fill=\"none\"/>\n",
              "    <path d=\"M18.56 5.44l.94 2.06.94-2.06 2.06-.94-2.06-.94-.94-2.06-.94 2.06-2.06.94zm-11 1L8.5 8.5l.94-2.06 2.06-.94-2.06-.94L8.5 2.5l-.94 2.06-2.06.94zm10 10l.94 2.06.94-2.06 2.06-.94-2.06-.94-.94-2.06-.94 2.06-2.06.94z\"/><path d=\"M17.41 7.96l-1.37-1.37c-.4-.4-.92-.59-1.43-.59-.52 0-1.04.2-1.43.59L10.3 9.45l-7.72 7.72c-.78.78-.78 2.05 0 2.83L4 21.41c.39.39.9.59 1.41.59.51 0 1.02-.2 1.41-.59l7.78-7.78 2.81-2.81c.8-.78.8-2.07 0-2.86zM5.41 20L4 18.59l7.72-7.72 1.47 1.35L5.41 20z\"/>\n",
              "  </svg>\n",
              "      </button>\n",
              "      \n",
              "  <style>\n",
              "    .colab-df-container {\n",
              "      display:flex;\n",
              "      flex-wrap:wrap;\n",
              "      gap: 12px;\n",
              "    }\n",
              "\n",
              "    .colab-df-convert {\n",
              "      background-color: #E8F0FE;\n",
              "      border: none;\n",
              "      border-radius: 50%;\n",
              "      cursor: pointer;\n",
              "      display: none;\n",
              "      fill: #1967D2;\n",
              "      height: 32px;\n",
              "      padding: 0 0 0 0;\n",
              "      width: 32px;\n",
              "    }\n",
              "\n",
              "    .colab-df-convert:hover {\n",
              "      background-color: #E2EBFA;\n",
              "      box-shadow: 0px 1px 2px rgba(60, 64, 67, 0.3), 0px 1px 3px 1px rgba(60, 64, 67, 0.15);\n",
              "      fill: #174EA6;\n",
              "    }\n",
              "\n",
              "    [theme=dark] .colab-df-convert {\n",
              "      background-color: #3B4455;\n",
              "      fill: #D2E3FC;\n",
              "    }\n",
              "\n",
              "    [theme=dark] .colab-df-convert:hover {\n",
              "      background-color: #434B5C;\n",
              "      box-shadow: 0px 1px 3px 1px rgba(0, 0, 0, 0.15);\n",
              "      filter: drop-shadow(0px 1px 2px rgba(0, 0, 0, 0.3));\n",
              "      fill: #FFFFFF;\n",
              "    }\n",
              "  </style>\n",
              "\n",
              "      <script>\n",
              "        const buttonEl =\n",
              "          document.querySelector('#df-4c466ad2-8969-465a-9ece-e0a7b58e8354 button.colab-df-convert');\n",
              "        buttonEl.style.display =\n",
              "          google.colab.kernel.accessAllowed ? 'block' : 'none';\n",
              "\n",
              "        async function convertToInteractive(key) {\n",
              "          const element = document.querySelector('#df-4c466ad2-8969-465a-9ece-e0a7b58e8354');\n",
              "          const dataTable =\n",
              "            await google.colab.kernel.invokeFunction('convertToInteractive',\n",
              "                                                     [key], {});\n",
              "          if (!dataTable) return;\n",
              "\n",
              "          const docLinkHtml = 'Like what you see? Visit the ' +\n",
              "            '<a target=\"_blank\" href=https://colab.research.google.com/notebooks/data_table.ipynb>data table notebook</a>'\n",
              "            + ' to learn more about interactive tables.';\n",
              "          element.innerHTML = '';\n",
              "          dataTable['output_type'] = 'display_data';\n",
              "          await google.colab.output.renderOutput(dataTable, element);\n",
              "          const docLink = document.createElement('div');\n",
              "          docLink.innerHTML = docLinkHtml;\n",
              "          element.appendChild(docLink);\n",
              "        }\n",
              "      </script>\n",
              "    </div>\n",
              "  </div>\n",
              "  "
            ]
          },
          "metadata": {},
          "execution_count": 52
        }
      ]
    },
    {
      "cell_type": "code",
      "source": [
        "X_train3= X_train[selected_features3]\n",
        "X_test3= X_test[selected_features3]\n",
        "\n",
        "X_train3.head()"
      ],
      "metadata": {
        "id": "1xja6ek_EWWp",
        "colab": {
          "base_uri": "https://localhost:8080/",
          "height": 206
        },
        "outputId": "90773274-b884-44be-b612-a82e965671a7"
      },
      "execution_count": 53,
      "outputs": [
        {
          "output_type": "execute_result",
          "data": {
            "text/plain": [
              "      battery_power  mobile_wt  px_height   ram\n",
              "132             645        197        327  2962\n",
              "1020           1119        164        821  3520\n",
              "868             981        136         75  1539\n",
              "1640           1269        180        406  2341\n",
              "263             767        175        344   527"
            ],
            "text/html": [
              "\n",
              "  <div id=\"df-f8b67f1f-7ab3-4816-a4df-35c7a39d25de\">\n",
              "    <div class=\"colab-df-container\">\n",
              "      <div>\n",
              "<style scoped>\n",
              "    .dataframe tbody tr th:only-of-type {\n",
              "        vertical-align: middle;\n",
              "    }\n",
              "\n",
              "    .dataframe tbody tr th {\n",
              "        vertical-align: top;\n",
              "    }\n",
              "\n",
              "    .dataframe thead th {\n",
              "        text-align: right;\n",
              "    }\n",
              "</style>\n",
              "<table border=\"1\" class=\"dataframe\">\n",
              "  <thead>\n",
              "    <tr style=\"text-align: right;\">\n",
              "      <th></th>\n",
              "      <th>battery_power</th>\n",
              "      <th>mobile_wt</th>\n",
              "      <th>px_height</th>\n",
              "      <th>ram</th>\n",
              "    </tr>\n",
              "  </thead>\n",
              "  <tbody>\n",
              "    <tr>\n",
              "      <th>132</th>\n",
              "      <td>645</td>\n",
              "      <td>197</td>\n",
              "      <td>327</td>\n",
              "      <td>2962</td>\n",
              "    </tr>\n",
              "    <tr>\n",
              "      <th>1020</th>\n",
              "      <td>1119</td>\n",
              "      <td>164</td>\n",
              "      <td>821</td>\n",
              "      <td>3520</td>\n",
              "    </tr>\n",
              "    <tr>\n",
              "      <th>868</th>\n",
              "      <td>981</td>\n",
              "      <td>136</td>\n",
              "      <td>75</td>\n",
              "      <td>1539</td>\n",
              "    </tr>\n",
              "    <tr>\n",
              "      <th>1640</th>\n",
              "      <td>1269</td>\n",
              "      <td>180</td>\n",
              "      <td>406</td>\n",
              "      <td>2341</td>\n",
              "    </tr>\n",
              "    <tr>\n",
              "      <th>263</th>\n",
              "      <td>767</td>\n",
              "      <td>175</td>\n",
              "      <td>344</td>\n",
              "      <td>527</td>\n",
              "    </tr>\n",
              "  </tbody>\n",
              "</table>\n",
              "</div>\n",
              "      <button class=\"colab-df-convert\" onclick=\"convertToInteractive('df-f8b67f1f-7ab3-4816-a4df-35c7a39d25de')\"\n",
              "              title=\"Convert this dataframe to an interactive table.\"\n",
              "              style=\"display:none;\">\n",
              "        \n",
              "  <svg xmlns=\"http://www.w3.org/2000/svg\" height=\"24px\"viewBox=\"0 0 24 24\"\n",
              "       width=\"24px\">\n",
              "    <path d=\"M0 0h24v24H0V0z\" fill=\"none\"/>\n",
              "    <path d=\"M18.56 5.44l.94 2.06.94-2.06 2.06-.94-2.06-.94-.94-2.06-.94 2.06-2.06.94zm-11 1L8.5 8.5l.94-2.06 2.06-.94-2.06-.94L8.5 2.5l-.94 2.06-2.06.94zm10 10l.94 2.06.94-2.06 2.06-.94-2.06-.94-.94-2.06-.94 2.06-2.06.94z\"/><path d=\"M17.41 7.96l-1.37-1.37c-.4-.4-.92-.59-1.43-.59-.52 0-1.04.2-1.43.59L10.3 9.45l-7.72 7.72c-.78.78-.78 2.05 0 2.83L4 21.41c.39.39.9.59 1.41.59.51 0 1.02-.2 1.41-.59l7.78-7.78 2.81-2.81c.8-.78.8-2.07 0-2.86zM5.41 20L4 18.59l7.72-7.72 1.47 1.35L5.41 20z\"/>\n",
              "  </svg>\n",
              "      </button>\n",
              "      \n",
              "  <style>\n",
              "    .colab-df-container {\n",
              "      display:flex;\n",
              "      flex-wrap:wrap;\n",
              "      gap: 12px;\n",
              "    }\n",
              "\n",
              "    .colab-df-convert {\n",
              "      background-color: #E8F0FE;\n",
              "      border: none;\n",
              "      border-radius: 50%;\n",
              "      cursor: pointer;\n",
              "      display: none;\n",
              "      fill: #1967D2;\n",
              "      height: 32px;\n",
              "      padding: 0 0 0 0;\n",
              "      width: 32px;\n",
              "    }\n",
              "\n",
              "    .colab-df-convert:hover {\n",
              "      background-color: #E2EBFA;\n",
              "      box-shadow: 0px 1px 2px rgba(60, 64, 67, 0.3), 0px 1px 3px 1px rgba(60, 64, 67, 0.15);\n",
              "      fill: #174EA6;\n",
              "    }\n",
              "\n",
              "    [theme=dark] .colab-df-convert {\n",
              "      background-color: #3B4455;\n",
              "      fill: #D2E3FC;\n",
              "    }\n",
              "\n",
              "    [theme=dark] .colab-df-convert:hover {\n",
              "      background-color: #434B5C;\n",
              "      box-shadow: 0px 1px 3px 1px rgba(0, 0, 0, 0.15);\n",
              "      filter: drop-shadow(0px 1px 2px rgba(0, 0, 0, 0.3));\n",
              "      fill: #FFFFFF;\n",
              "    }\n",
              "  </style>\n",
              "\n",
              "      <script>\n",
              "        const buttonEl =\n",
              "          document.querySelector('#df-f8b67f1f-7ab3-4816-a4df-35c7a39d25de button.colab-df-convert');\n",
              "        buttonEl.style.display =\n",
              "          google.colab.kernel.accessAllowed ? 'block' : 'none';\n",
              "\n",
              "        async function convertToInteractive(key) {\n",
              "          const element = document.querySelector('#df-f8b67f1f-7ab3-4816-a4df-35c7a39d25de');\n",
              "          const dataTable =\n",
              "            await google.colab.kernel.invokeFunction('convertToInteractive',\n",
              "                                                     [key], {});\n",
              "          if (!dataTable) return;\n",
              "\n",
              "          const docLinkHtml = 'Like what you see? Visit the ' +\n",
              "            '<a target=\"_blank\" href=https://colab.research.google.com/notebooks/data_table.ipynb>data table notebook</a>'\n",
              "            + ' to learn more about interactive tables.';\n",
              "          element.innerHTML = '';\n",
              "          dataTable['output_type'] = 'display_data';\n",
              "          await google.colab.output.renderOutput(dataTable, element);\n",
              "          const docLink = document.createElement('div');\n",
              "          docLink.innerHTML = docLinkHtml;\n",
              "          element.appendChild(docLink);\n",
              "        }\n",
              "      </script>\n",
              "    </div>\n",
              "  </div>\n",
              "  "
            ]
          },
          "metadata": {},
          "execution_count": 53
        }
      ]
    },
    {
      "cell_type": "markdown",
      "source": [
        "**Logistic regression**\n",
        "\n",
        "logistic regression has OVA stategy"
      ],
      "metadata": {
        "id": "hg5FbZ7iARuW"
      }
    },
    {
      "cell_type": "code",
      "source": [
        "#logisticRegression\n",
        "from sklearn.linear_model import LogisticRegression\n",
        "from sklearn.metrics import accuracy_score,confusion_matrix,classification_report\n",
        "LR_model = LogisticRegression()\n",
        "LR_model.fit(X_train,y_train)\n",
        "\n",
        "y_pred = LR_model.predict(X_test)\n",
        "confusion_m = confusion_matrix(y_test, y_pred)\n",
        "sns.heatmap(confusion_m,annot=True,cmap=\"RdYlGn\")\n",
        "\n",
        "print(\"Accuracy:\",accuracy_score(y_test, y_pred))"
      ],
      "metadata": {
        "id": "umtH-tmH6IjR",
        "colab": {
          "base_uri": "https://localhost:8080/",
          "height": 452
        },
        "outputId": "27423297-e8fa-4ccb-91cc-ada66fd079d5"
      },
      "execution_count": 54,
      "outputs": [
        {
          "output_type": "stream",
          "name": "stderr",
          "text": [
            "/usr/local/lib/python3.7/dist-packages/sklearn/linear_model/_logistic.py:818: ConvergenceWarning: lbfgs failed to converge (status=1):\n",
            "STOP: TOTAL NO. of ITERATIONS REACHED LIMIT.\n",
            "\n",
            "Increase the number of iterations (max_iter) or scale the data as shown in:\n",
            "    https://scikit-learn.org/stable/modules/preprocessing.html\n",
            "Please also refer to the documentation for alternative solver options:\n",
            "    https://scikit-learn.org/stable/modules/linear_model.html#logistic-regression\n",
            "  extra_warning_msg=_LOGISTIC_SOLVER_CONVERGENCE_MSG,\n"
          ]
        },
        {
          "output_type": "stream",
          "name": "stdout",
          "text": [
            "Accuracy: 0.6525\n"
          ]
        },
        {
          "output_type": "display_data",
          "data": {
            "text/plain": [
              "<Figure size 432x288 with 2 Axes>"
            ],
            "image/png": "[encoded data removed]"
          },
          "metadata": {}
        }
      ]
    },
    {
      "cell_type": "code",
      "source": [
        "LR_modell = LogisticRegression(random_state= 20 , max_iter=200)\n",
        "LR_modell.fit(X_train,y_train)\n",
        "y_pred = LR_modell.predict(X_test)\n",
        "\n",
        "confusion_m = confusion_matrix(y_test, y_pred)\n",
        "sns.heatmap(confusion_m,annot=True,cmap=\"RdYlGn\")\n",
        "\n",
        "print(\"Accuracy:\",accuracy_score(y_test, y_pred))"
      ],
      "metadata": {
        "id": "NAvdN2MdBf-A",
        "colab": {
          "base_uri": "https://localhost:8080/",
          "height": 448
        },
        "outputId": "42ddb1e6-9b60-4f99-f1c0-1c45a95607b4"
      },
      "execution_count": 55,
      "outputs": [
        {
          "output_type": "stream",
          "name": "stderr",
          "text": [
            "/usr/local/lib/python3.7/dist-packages/sklearn/linear_model/_logistic.py:818: ConvergenceWarning: lbfgs failed to converge (status=1):\n",
            "STOP: TOTAL NO. of ITERATIONS REACHED LIMIT.\n",
            "\n",
            "Increase the number of iterations (max_iter) or scale the data as shown in:\n",
            "    https://scikit-learn.org/stable/modules/preprocessing.html\n",
            "Please also refer to the documentation for alternative solver options:\n",
            "    https://scikit-learn.org/stable/modules/linear_model.html#logistic-regression\n",
            "  extra_warning_msg=_LOGISTIC_SOLVER_CONVERGENCE_MSG,\n"
          ]
        },
        {
          "output_type": "stream",
          "name": "stdout",
          "text": [
            "Accuracy: 0.695\n"
          ]
        },
        {
          "output_type": "display_data",
          "data": {
            "text/plain": [
              "<Figure size 432x288 with 2 Axes>"
            ],
            "image/png": "[encoded data removed]"
          },
          "metadata": {}
        }
      ]
    },
    {
      "cell_type": "code",
      "source": [
        "LR_modelll = LogisticRegression(random_state= 50 , max_iter=2000)\n",
        "LR_modelll.fit(X_train,y_train)\n",
        "y_pred = LR_modelll.predict(X_test)\n",
        "\n",
        "confusion_m = confusion_matrix(y_test, y_pred)\n",
        "sns.heatmap(confusion_m,annot=True,cmap=\"RdYlGn\")\n",
        "\n",
        "print(\"Accuracy:\",accuracy_score(y_test, y_pred))"
      ],
      "metadata": {
        "id": "1TJRoIRxJpHC",
        "colab": {
          "base_uri": "https://localhost:8080/",
          "height": 448
        },
        "outputId": "db6bce72-b7fe-4c43-f439-e9b56274ff5b"
      },
      "execution_count": 56,
      "outputs": [
        {
          "output_type": "stream",
          "name": "stderr",
          "text": [
            "/usr/local/lib/python3.7/dist-packages/sklearn/linear_model/_logistic.py:818: ConvergenceWarning: lbfgs failed to converge (status=1):\n",
            "STOP: TOTAL NO. of ITERATIONS REACHED LIMIT.\n",
            "\n",
            "Increase the number of iterations (max_iter) or scale the data as shown in:\n",
            "    https://scikit-learn.org/stable/modules/preprocessing.html\n",
            "Please also refer to the documentation for alternative solver options:\n",
            "    https://scikit-learn.org/stable/modules/linear_model.html#logistic-regression\n",
            "  extra_warning_msg=_LOGISTIC_SOLVER_CONVERGENCE_MSG,\n"
          ]
        },
        {
          "output_type": "stream",
          "name": "stdout",
          "text": [
            "Accuracy: 0.7675\n"
          ]
        },
        {
          "output_type": "display_data",
          "data": {
            "text/plain": [
              "<Figure size 432x288 with 2 Axes>"
            ],
            "image/png": "[encoded data removed]"
          },
          "metadata": {}
        }
      ]
    },
    {
      "cell_type": "code",
      "source": [
        "LR_modelll.fit(X_train1,y_train)\n",
        "y_pred = LR_modelll.predict(X_test1)\n",
        "\n",
        "confusion_m = confusion_matrix(y_test, y_pred)\n",
        "sns.heatmap(confusion_m,annot=True,cmap=\"RdYlGn\")\n",
        "print(\"Accuracy:\",accuracy_score(y_test, y_pred))"
      ],
      "metadata": {
        "id": "EB9TmS_yCpfe",
        "colab": {
          "base_uri": "https://localhost:8080/",
          "height": 448
        },
        "outputId": "07359327-cbaa-4aaa-cd0b-addfd9805f9a"
      },
      "execution_count": 57,
      "outputs": [
        {
          "output_type": "stream",
          "name": "stderr",
          "text": [
            "/usr/local/lib/python3.7/dist-packages/sklearn/linear_model/_logistic.py:818: ConvergenceWarning: lbfgs failed to converge (status=1):\n",
            "STOP: TOTAL NO. of ITERATIONS REACHED LIMIT.\n",
            "\n",
            "Increase the number of iterations (max_iter) or scale the data as shown in:\n",
            "    https://scikit-learn.org/stable/modules/preprocessing.html\n",
            "Please also refer to the documentation for alternative solver options:\n",
            "    https://scikit-learn.org/stable/modules/linear_model.html#logistic-regression\n",
            "  extra_warning_msg=_LOGISTIC_SOLVER_CONVERGENCE_MSG,\n"
          ]
        },
        {
          "output_type": "stream",
          "name": "stdout",
          "text": [
            "Accuracy: 0.7075\n"
          ]
        },
        {
          "output_type": "display_data",
          "data": {
            "text/plain": [
              "<Figure size 432x288 with 2 Axes>"
            ],
            "image/png": "[encoded data removed]"
          },
          "metadata": {}
        }
      ]
    },
    {
      "cell_type": "code",
      "source": [
        "LR_modelll.fit(X_train2,y_train)\n",
        "y_pred = LR_modelll.predict(X_test2)\n",
        "\n",
        "confusion_m = confusion_matrix(y_test, y_pred)\n",
        "sns.heatmap(confusion_m,annot=True,cmap=\"RdYlGn\")\n",
        "print(\"Accuracy:\",accuracy_score(y_test, y_pred))"
      ],
      "metadata": {
        "id": "-K-gdRqR9CWW",
        "colab": {
          "base_uri": "https://localhost:8080/",
          "height": 448
        },
        "outputId": "932c5a53-ec41-4cf3-fdab-18ca85b5cb66"
      },
      "execution_count": 58,
      "outputs": [
        {
          "output_type": "stream",
          "name": "stderr",
          "text": [
            "/usr/local/lib/python3.7/dist-packages/sklearn/linear_model/_logistic.py:818: ConvergenceWarning: lbfgs failed to converge (status=1):\n",
            "STOP: TOTAL NO. of ITERATIONS REACHED LIMIT.\n",
            "\n",
            "Increase the number of iterations (max_iter) or scale the data as shown in:\n",
            "    https://scikit-learn.org/stable/modules/preprocessing.html\n",
            "Please also refer to the documentation for alternative solver options:\n",
            "    https://scikit-learn.org/stable/modules/linear_model.html#logistic-regression\n",
            "  extra_warning_msg=_LOGISTIC_SOLVER_CONVERGENCE_MSG,\n"
          ]
        },
        {
          "output_type": "stream",
          "name": "stdout",
          "text": [
            "Accuracy: 0.7275\n"
          ]
        },
        {
          "output_type": "display_data",
          "data": {
            "text/plain": [
              "<Figure size 432x288 with 2 Axes>"
            ],
            "image/png": "[encoded data removed]"
          },
          "metadata": {}
        }
      ]
    },
    {
      "cell_type": "code",
      "source": [
        "LR_modelll.fit(X_train3,y_train)\n",
        "y_pred = LR_modelll.predict(X_test3)\n",
        "\n",
        "confusion_m = confusion_matrix(y_test, y_pred)\n",
        "sns.heatmap(confusion_m,annot=True,cmap=\"RdYlGn\")\n",
        "print(\"Accuracy:\",accuracy_score(y_test, y_pred))"
      ],
      "metadata": {
        "id": "1x0GZ5dcGUIh",
        "colab": {
          "base_uri": "https://localhost:8080/",
          "height": 286
        },
        "outputId": "994d7a57-bc2c-46fb-8bf8-517a5263da08"
      },
      "execution_count": 59,
      "outputs": [
        {
          "output_type": "stream",
          "name": "stdout",
          "text": [
            "Accuracy: 0.9225\n"
          ]
        },
        {
          "output_type": "display_data",
          "data": {
            "text/plain": [
              "<Figure size 432x288 with 2 Axes>"
            ],
            "image/png": "[encoded data removed]"
          },
          "metadata": {}
        }
      ]
    },
    {
      "cell_type": "markdown",
      "source": [
        "**Naive bayes**\n",
        "\n",
        "Naive bayes has OVA stategy"
      ],
      "metadata": {
        "id": "G6hIVZvTAWeM"
      }
    },
    {
      "cell_type": "code",
      "source": [
        "from sklearn.naive_bayes import GaussianNB\n",
        "NB_model = GaussianNB()\n",
        "NB_model.fit(X_train, y_train)\n",
        "y_pred = NB_model.predict(X_test)\n",
        "\n",
        "confusion_m = confusion_matrix(y_test, y_pred)\n",
        "sns.heatmap(confusion_m,annot=True,cmap=\"RdYlGn\")\n",
        "print (\"Accuracy of Naive Bayes Classifier is: \", accuracy_score(y_test,y_pred)) "
      ],
      "metadata": {
        "id": "2yoL7Wx5AaiH",
        "colab": {
          "base_uri": "https://localhost:8080/",
          "height": 286
        },
        "outputId": "eb856249-0f49-4f34-dfc3-84a7cc8f5535"
      },
      "execution_count": 60,
      "outputs": [
        {
          "output_type": "stream",
          "name": "stdout",
          "text": [
            "Accuracy of Naive Bayes Classifier is:  0.8225\n"
          ]
        },
        {
          "output_type": "display_data",
          "data": {
            "text/plain": [
              "<Figure size 432x288 with 2 Axes>"
            ],
            "image/png": "[encoded data removed]"
          },
          "metadata": {}
        }
      ]
    },
    {
      "cell_type": "code",
      "source": [
        "NB_model.fit(X_train1, y_train)\n",
        "y_pred = NB_model.predict(X_test1)\n",
        "\n",
        "confusion_m = confusion_matrix(y_test, y_pred)\n",
        "sns.heatmap(confusion_m,annot=True,cmap=\"RdYlGn\")\n",
        "print (\"Accuracy of Naive Bayes Classifier is: \", accuracy_score(y_test,y_pred)) "
      ],
      "metadata": {
        "id": "6-v0V5Q5KhoS",
        "colab": {
          "base_uri": "https://localhost:8080/",
          "height": 286
        },
        "outputId": "b18fd58c-9570-4bd5-953a-622ae255045a"
      },
      "execution_count": 61,
      "outputs": [
        {
          "output_type": "stream",
          "name": "stdout",
          "text": [
            "Accuracy of Naive Bayes Classifier is:  0.81\n"
          ]
        },
        {
          "output_type": "display_data",
          "data": {
            "text/plain": [
              "<Figure size 432x288 with 2 Axes>"
            ],
            "image/png": "[encoded data removed]"
          },
          "metadata": {}
        }
      ]
    },
    {
      "cell_type": "code",
      "source": [
        "NB_model.fit(X_train2, y_train)\n",
        "y_pred = NB_model.predict(X_test2)\n",
        "\n",
        "confusion_m = confusion_matrix(y_test, y_pred)\n",
        "sns.heatmap(confusion_m,annot=True,cmap=\"RdYlGn\")\n",
        "print (\"Accuracy of Naive Bayes Classifier is: \", accuracy_score(y_test,y_pred)) "
      ],
      "metadata": {
        "id": "MKI9zeKjCexT",
        "colab": {
          "base_uri": "https://localhost:8080/",
          "height": 286
        },
        "outputId": "1ea5a653-15d9-405d-c85b-018dcff34451"
      },
      "execution_count": 62,
      "outputs": [
        {
          "output_type": "stream",
          "name": "stdout",
          "text": [
            "Accuracy of Naive Bayes Classifier is:  0.8025\n"
          ]
        },
        {
          "output_type": "display_data",
          "data": {
            "text/plain": [
              "<Figure size 432x288 with 2 Axes>"
            ],
            "image/png": "[encoded data removed]"
          },
          "metadata": {}
        }
      ]
    },
    {
      "cell_type": "markdown",
      "source": [
        "**Random forest**\n",
        "\n",
        "Random forest has OVA stategy"
      ],
      "metadata": {
        "id": "XzT3HzVuCtLb"
      }
    },
    {
      "cell_type": "code",
      "source": [
        "from sklearn.ensemble import RandomForestClassifier\n",
        "RF_model= RandomForestClassifier(n_estimators = 20, random_state = 0)\n",
        "RF_model.fit(X_train, y_train)\n",
        "y_pred = RF_model.predict(X_test)\n",
        "\n",
        "\n",
        "confusion_m = confusion_matrix(y_test, y_pred)\n",
        "sns.heatmap(confusion_m,annot=True,cmap=\"RdYlGn\")\n",
        "print (\"Accuracy of random forest model is: \", accuracy_score(y_test,y_pred))"
      ],
      "metadata": {
        "id": "4qP4-n6VDjJW",
        "colab": {
          "base_uri": "https://localhost:8080/",
          "height": 286
        },
        "outputId": "a944c5f6-7312-45ed-c01f-6d6a719f3693"
      },
      "execution_count": 63,
      "outputs": [
        {
          "output_type": "stream",
          "name": "stdout",
          "text": [
            "Accuracy of random forest model is:  0.8775\n"
          ]
        },
        {
          "output_type": "display_data",
          "data": {
            "text/plain": [
              "<Figure size 432x288 with 2 Axes>"
            ],
            "image/png": "[encoded data removed]"
          },
          "metadata": {}
        }
      ]
    },
    {
      "cell_type": "code",
      "source": [
        "RF_model= RandomForestClassifier(n_estimators = 100, random_state = 0)\n",
        "RF_model.fit(X_train, y_train)\n",
        "y_pred = RF_model.predict(X_test)\n",
        "\n",
        "\n",
        "confusion_m = confusion_matrix(y_test, y_pred)\n",
        "sns.heatmap(confusion_m,annot=True,cmap=\"RdYlGn\")\n",
        "print (\"Accuracy of random forest model is: \", accuracy_score(y_test,y_pred))"
      ],
      "metadata": {
        "id": "lP-zWKoODjUV",
        "colab": {
          "base_uri": "https://localhost:8080/",
          "height": 286
        },
        "outputId": "246d99d6-908c-4e9a-cc46-9e00dc108f76"
      },
      "execution_count": 64,
      "outputs": [
        {
          "output_type": "stream",
          "name": "stdout",
          "text": [
            "Accuracy of random forest model is:  0.885\n"
          ]
        },
        {
          "output_type": "display_data",
          "data": {
            "text/plain": [
              "<Figure size 432x288 with 2 Axes>"
            ],
            "image/png": "[encoded data removed]"
          },
          "metadata": {}
        }
      ]
    },
    {
      "cell_type": "code",
      "source": [
        "RF_model= RandomForestClassifier(n_estimators = 100, random_state = 0)\n",
        "RF_model.fit(X_train1, y_train)\n",
        "y_pred = RF_model.predict(X_test1)\n",
        "\n",
        "\n",
        "confusion_m = confusion_matrix(y_test, y_pred)\n",
        "sns.heatmap(confusion_m,annot=True,cmap=\"RdYlGn\")\n",
        "print (\"Accuracy of random forest model is: \", accuracy_score(y_test,y_pred))"
      ],
      "metadata": {
        "id": "L11Gpx4AEY3c",
        "colab": {
          "base_uri": "https://localhost:8080/",
          "height": 286
        },
        "outputId": "fbf25b65-f6ef-40a6-df01-01314fecb432"
      },
      "execution_count": 65,
      "outputs": [
        {
          "output_type": "stream",
          "name": "stdout",
          "text": [
            "Accuracy of random forest model is:  0.9175\n"
          ]
        },
        {
          "output_type": "display_data",
          "data": {
            "text/plain": [
              "<Figure size 432x288 with 2 Axes>"
            ],
            "image/png": "[encoded data removed]"
          },
          "metadata": {}
        }
      ]
    },
    {
      "cell_type": "code",
      "source": [
        "RF_model= RandomForestClassifier(n_estimators = 100, random_state = 10)\n",
        "RF_model.fit(X_train2, y_train)\n",
        "y_pred = RF_model.predict(X_test2)\n",
        "\n",
        "\n",
        "confusion_m = confusion_matrix(y_test, y_pred)\n",
        "sns.heatmap(confusion_m,annot=True,cmap=\"RdYlGn\")\n",
        "print (\"Accuracy of random forest model is: \", accuracy_score(y_test,y_pred))"
      ],
      "metadata": {
        "id": "1mP2FoagEfZE",
        "colab": {
          "base_uri": "https://localhost:8080/",
          "height": 286
        },
        "outputId": "9c0af8ac-aee3-4b92-b93e-9d1f2ee3bbfb"
      },
      "execution_count": 66,
      "outputs": [
        {
          "output_type": "stream",
          "name": "stdout",
          "text": [
            "Accuracy of random forest model is:  0.9275\n"
          ]
        },
        {
          "output_type": "display_data",
          "data": {
            "text/plain": [
              "<Figure size 432x288 with 2 Axes>"
            ],
            "image/png": "[encoded data removed]"
          },
          "metadata": {}
        }
      ]
    },
    {
      "cell_type": "code",
      "source": [
        "RF_model= RandomForestClassifier(n_estimators = 100, random_state = 10)\n",
        "RF_model.fit(X_train3, y_train)\n",
        "y_pred = RF_model.predict(X_test3)\n",
        "\n",
        "\n",
        "confusion_m = confusion_matrix(y_test, y_pred)\n",
        "sns.heatmap(confusion_m,annot=True,cmap=\"RdYlGn\")\n",
        "print (\"Accuracy of random forest model is: \", accuracy_score(y_test,y_pred))"
      ],
      "metadata": {
        "id": "doczpobXFWf9",
        "colab": {
          "base_uri": "https://localhost:8080/",
          "height": 286
        },
        "outputId": "440a1dd5-b186-4542-d81a-cebdc1eb65e6"
      },
      "execution_count": 67,
      "outputs": [
        {
          "output_type": "stream",
          "name": "stdout",
          "text": [
            "Accuracy of random forest model is:  0.8775\n"
          ]
        },
        {
          "output_type": "display_data",
          "data": {
            "text/plain": [
              "<Figure size 432x288 with 2 Axes>"
            ],
            "image/png": "[encoded data removed]"
          },
          "metadata": {}
        }
      ]
    },
    {
      "cell_type": "markdown",
      "source": [
        "# TASK 5\n",
        "\n",
        "define the performance by confusion matrix"
      ],
      "metadata": {
        "id": "bClRXsgFEYF0"
      }
    },
    {
      "cell_type": "markdown",
      "source": [
        " برای تمامی مدل ها رسم شد confusion matrix\n",
        "\n",
        " نتیجه ای که از ماتریس های رسم شده مشخص است این است که مدل ها معمولا برای کلاس 3 کمترین کارایی و برای کلاس 1 و 4 بیشترین کارایی را دارند\n",
        "\n",
        "یکی از دلایل کارایی کمتر مدل ها روی کلاس 3 این است که برخی داده های این کلاس طبق نمودار های رسم شده از حالت صعودی یا نزولی دیگر کلاس ها خارج میشود و این باعث خطا در مدل میشود."
      ],
      "metadata": {
        "id": "oxVL1AcDL0Zu"
      }
    },
    {
      "cell_type": "markdown",
      "source": [
        "نمونه های شکستگی داده ها در کلاس 3\n",
        "\n",
        "![index2.png](data:image/png;base64,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)![index1.png](data:image/png;base64,iVBORw0KGgoAAAANSUhEUgAAAYYAAAEHCAYAAACqbOGYAAAABHNCSVQICAgIfAhkiAAAAAlwSFlzAAALEgAACxIB0t1+/AAAADh0RVh0U29mdHdhcmUAbWF0cGxvdGxpYiB2ZXJzaW9uMy4yLjIsIGh0dHA6Ly9tYXRwbG90bGliLm9yZy+WH4yJAAAgAElEQVR4nO3deXhU5dnH8e9Nwg6ySNiFIAIuoAgB17IIIgUR2YJYEStKrXXpa1v11VZrta3Wvq2t1ip1oeIWVkVURKSAC4hhBwFB2RcDsu9L7vePGWKGJiQDmTmZ5Pe5rrmY85w5Mz9Hwp1znuc8j7k7IiIix5QJOoCIiBQvKgwiIhJBhUFERCKoMIiISAQVBhERiZAcdIBTVatWLU9NTQ06hohIQpkzZ85Wd0/Ja1/CF4bU1FQyMzODjiEiklDMbE1++3QpSUREIqgwiIhIBBUGERGJoMIgIiIRVBhERCSCCoOIiERQYRARkQgJfx+DiJy8kd1GsmP1DqqnVmfw5MFBx5FiQoVBpBTbsXoH21ZsCzqGFDO6lCQiIhFUGEREJIIKg4iIRFBhEBGRCCoMIiISIaaFwcxeMrMsM1ucx75fmJmbWa1cbZ3MbL6ZLTGz6bHMJiIieYv1GcMIoPvxjWZ2BtANWJurrTrwLHCNu58HDIhxNhERyUNMC4O7zwDyGiT9V+BewHO1XQ+Mc/e14WOzYplNRETyFvc+BjPrDWxw9wXH7WoO1DCzaWY2x8xuPMF7DDOzTDPL3LJlS0zzioiUNnG989nMKgEPELqMlFeWtkAXoCIw08xmuftXx7/Q3YcDwwHS0tL8+P0iInLy4j0lRlOgCbDAzAAaAnPNrD2wHvjO3fcCe81sBnAB8F+FQUREYieul5LcfZG713b3VHdPJVQM2rj7ZuBt4HIzSw6fWVwELI1nPhERif1w1TeAmUALM1tvZkPze627LwUmAQuB2cAL7v5fw1xFRCS2Ynopyd0HFbA/9bjtJ4EnY5lJREROTHc+i4hIBBUGERGJoMIgIiIRVBhERCSCCoOIiERQYRARkQgqDCIiEkGFQUREIqgwiIhIBBUGERGJoMIgIiIRVBhERCSCCoOIiERQYRARkQgqDCIiEkGFQUREIqgwiIhIBBUGERGJoMIgIiIRVBhERCRCTAuDmb1kZllmtjiPfb8wMzezWse1tzOzI2bWP5bZREQkb7E+YxgBdD++0czOALoBa49rTwKeACbHOJeIiOQjpoXB3WcA2/LY9VfgXsCPa78TGAtkxTKXiIjkL+59DGbWG9jg7guOa28A9AH+WYj3GGZmmWaWuWXLlhglFREpneJaGMysEvAA8FAeu58C7nP37ILex92Hu3uau6elpKQUdUyRUuHAjgMc3HUQgMN7D5N9pMAfPSkl4n3G0BRoAiwws9VAQ2CumdUF0oA3w+39gWfN7No45xMpFTKfz+QvDf7C3m/3ArB7426ebvY0G+dsDDiZFAdxLQzuvsjda7t7qrunAuuBNu6+2d2b5GofA9zu7m/FM59IafDVxK9497Z3ObzvcET7jtU7ePWqV9mbtTegZFJcxHq46hvATKCFma03s6Gx/DwRKdgnf/wk3337v9vPnH/NiWMaKY6SY/nm7j6ogP2p+bTfFIs8QRnZbSQ7Vu+gemp1Bk8eHHQcKcWOHj7Kus/WnfA1a6avgQfjFEiKpZgWBgnZsXoH21bkNWpXToYK7ck7sOMAGP89UDyXpLJJccsjxZMKgyQcFdroHd53mM+f/pxPH//0hEUBoFnPZvEJJcWWCoNICZZ9JJv5I+Yz7eFp7N64u+ADDOq3qx/7YFKsaRI9kRLI3Vk6fin/bPVP3rn1nZyikFwxmcvuv4z0cenUaFojjwNh3I/GhS45SamlMwaREmbNjDVMuW8K62etz2mzMsaFQy+k48MdOa3BaQCc3ftsnkp9il3rdlGtcTVqnlWTVR+tYtuKbYwfPJ7r3r4OK2NB/WdIgHTGIFJCfLvwW17v+TojOo6IKArn9D2H25fcTq/hvXKKAoSKRXKF0O+GSeWS6P9mf6o1rgaE7nWY/uj0+P4HSLGhMwaRBLdjzQ6mPTSNBSMXRHQsN+7QmK5PdKXhxQ0L9T6ValVi4LiBvHTZSxw5cITpv51O/bb1aX518xgll+JKZwwiCWrf1n18cM8HPNP8GRa88n1RqN2qNte/ez1Dpg0pdFE4pl6bevR8rmfO9rgbxvHdiu+KMrYkAJ0xiCSYQ3sPMeupWXz2p89yJsEDqNa4Gp0f7Uyr61tRJunkf+drPaQ1G7/YyBf/+IKDOw+S0SeDW2bdQrkq5YoiviQAFQaRBHH08FHmvTiP6Y9MZ8/mPTntFU+vSIdfdyDtp2kkly+aH+mr/nIVm+dvZt2n69iyZAsThk6g35v9MFNndGmgwiBSzLk7X475kqkPTo24sa9spbJcfM/FXPrLS6lQrUKRfmZSuSTSx6TzfJvn2bNpD0tGLaF+u/pc+stLi/RzpHhSYRApxlZNXcWU+6awMfP76bDLJJehza1t6PCbDlStVzVmn12lbhXSx6YzouMIsg9nM+W+KdS9sC5ndjkzZp8pxYM6n0WKoU3zNvHqVa/ySpdXIorCeenncfuXt9Pz2Z4xLQrHnHHJGfzw7z8EwLOdMQPHsGPNjph/rgRLZwwixcj2b7Yz9ddTWfzG4oj2Jlc0oesTXamfFv/pKtr+pC0bZm9g/svz2f/dfkb1HcWPP/kxZSuWjXsWiQ8VBpFiYG/WXmY8NoPM5zLJPvz9Ept1L6xL18e7cuaVZwbW8Wtm9Hy2J1mLstiYuZFNczfx7k/fpffLvdUZXUKpMIgE6ODug8z8y0xm/nkmh/YcymmvcWYNOj/WmZYDWxaLaSmSKySTPjad4W2Hs2/rPhb8ewEN2jeg3e3tgo4mMaDCIBKAo4eOMmf4HKb/bjr7tuzLaa+UUomOD3Wk7bC2JJUrXusiVGtUjf6j+jOy60g825l09yTqXFCHRpc1CjqaFDF1PovEkWc7i95YxD/O+Qfv3/l+TlEoV6UcHX/bkbu+vov2d7QvdkXhmCadm9D1T12B0JTeo/uPLtx03pJQdMYgEgfuzjcffsOU+6ewed7mnPYyZcuQdlsaHX7dgcq1KweYsPAuuecSNmVuYvGbi9mzeQ+jB4xmyH+GFNtiJtFTYRCJsQ1fbOCj+z9i1dRVEe2trm9F50c7U+PMPNZFKMbMjF4v9CJrSRZZi7JY99k6Jv3PJHr+o2fBB0tCiOmlJDN7ycyyzGxxHvt+YWZuZrXC2z8ys4VmtsjMPjOzC2KZTSTWvlvxHaPTR/NC+xciikLTq5oybO4w+r7WN+GKwjHlKpdj4PiBVKgeuuM689lM5o+YH3AqKSqx7mMYAXQ/vtHMzgC6AWtzNa8COrp7K+BRYHiMs4nExO5Nu5n404k8e+6zfDn6y5z2+mn1ufGjG7lh0g3Uu7BegAmLRs2mNen7el8ID5qaeNvEiJvxJHHFtDC4+wwgr1Xb/wrcS67Z4939M3ffHt6cBUQ3X7BIwA7uOsjU30zl6bOeZs5zc8g+ErofoWazmvQf1Z9bZt9CkyuaBJyyaDX7YTM6PdIJgKMHj5LRN4O9W/YGG0pOWdz7GMysN7DB3Rec4OaYocD7J3iPYcAwgEaNNFROgnXk4BEy/5nJjMdmsP+7/TntVepWoePDHblw6IUklS25HbMdHuzApsxNLJ+wnF3rdjH2urHc8MENlEnWoMdEFdf/c2ZWCXgAeOgEr+lMqDDcl99r3H24u6e5e1pKSkrRBxUphOyj2SwYuYBnWjzDB//zQU5RKFe1HJ0f68ydK+8k7ba0El0UILRE6LWvXMvpzU8HwhP//e+UgFPJqYj3GUNToAlw7GyhITDXzNq7+2YzOx94Afihu2vZKCmW3J2V769kyv1TyFqUldOeVC6Jdj9rxw8e+AGValUKMGH8VahWgYHjB/LCRS9waM8hZv55JvXT6tNyYMugo8lJiGthcPdFQO1j22a2Gkhz961m1ggYBwx296/imUuksNbPWs+U+6awZsaa7xsNLhh8AZ1+14nqjasHli1oKeem0HtEb0b3Hw3AhJsnkHJuCnVa1Qk4mUQr1sNV3wBmAi3MbL2ZDT3Byx8CTgeeNbP5ZpYZy2wi0di6bCsZfTN48ZIXI4pCs57NuG3+bVz772tLdVE45tx+53LZ/ZcBcHjfYTL6ZLB/+/4CjpLiJqZnDO4+qID9qbme3wLcEss8ItHatWEX0x+ZzrwX5+HZOYPoaHhxQ7o+0ZXGHRoHmK54uuKxK9g8dzNfT/6a7V9vZ/wN4xn0zqBiMRmgFI6GDYjkYf/2/Uy5fwpPn/U0c/81N6co1Dq7Funj0rn5s5tVFPJRJqkMfV/vS/XU0BnUivdWMO2RacGGkqhoSgyRXI4cOMLsZ2bz8R8+5sD2AzntVetXpdMjnWh9U2sNwyyESqdXYuD4gbx4yYscOXCEGb+bQf229WlxTYugo0kh6G+4CKGhp/NensfTzZ7mw199mFMUKlSvQJfHu3Dnijtpc0sbFYUo1G1dl17/6pWzPX7weLYu3xpgIimsQv8tN7O7C9MmkkjcnWVvL+O5859jws0T2LV+FwBJ5ZO49FeXctfXd3H5fZdTtpKWsTwZ599wPu3vag+E7gzP6JPBwd0HA04lBYnm158hebTdVEQ5ROJu7Sdrefnyl8m4NoMtX24BQjdrtb65NXeuuJMr/3QlFWtWDDhl4uv25245/TFbl27l7R+/jbsXcJQEqcA+BjMbBFwPNDGzCbl2VSXveZBEirWsxVl89MBHfPVO5O0yLXq3oMsfupByru6mL0pJZZPoP6o/w9sMZ/fG3Swdu5RP//Qpl993edDRJB+F6Xz+DNgE1AL+L1f7bmBhLEKJxMLOtTuZ9vA0FryyIGLoaaPLG9Hl8S5aojKGqtSpQvrYdF7u8DLZh7OZ+sBU6rWpR9MrmwYdTfJQYGFw9zXAGjN7Edjo7itiH0uk6Oz7bh+f/PETZj8zm6MHj+a0p5yXQpc/dqH51c05wYSOUkQaXtyQHs/0YOJPJuLZztjrxnJr5q3UaJKYa1KUZNEMVz0DeN7MUoE5wAzgY3fX6hxSLB3ed5hZf5vFp098ysGd33d4nnbGaXT+XWfOH3w+ZZI0yiie2g5ry4YvNjDvhXns37afUX1HcfOnN6tzv5gpdGFw94cBzKwicCvwK+ApoGRPHSkJJ/tINvNemsf0R6ZHLFRfsWZFLn/gctr/rD3JFXQLT1B6PNODrIVZbJi9gc3zNzPxtolc++9rddZWjBT6p8PMfg1cBlQB5gG/BD6OUa4Sw93xoxqBEQ/uzrLxy/jogY/4bvn3k/MmV0zm4p9fzGX3XpazFKUEJ7l8Mulj03m+zfPs27KPhSMXUr9dfS6686Kgo0lYNL829QWOAO8C04GZ7q4BySew+M3FzHhsBtu/CS1Mt3PtTr569yua92wecLLEdPTQUZZPWM7+baFJ2XIX3NXTVjPl/ils+HxDTpslGRcOvZBOD3eiav2qcc8r+Tut4WkMGD2AV7q8gh91Jt8zmbqt69L4B5pmpDiI5lJSGzM7jdBZw5XAcDPLcneNOcvD53//nEl3T4poO3rwKG9c/QZ9X+9Lq0GtAkqWmDbM3kBG3wx2b/j+0tD2b7Yz+ZeT2fLlFla+vzLi9ef0O4crfn8FtVrUindUKaTUjql0+3M3PvifD8g+ks3o/qMZNncYpzU4LehopV40l5JaAj8AOgJpwDp0KSlPB3Yc4KP//Sjf/ZPunkSzHs1IrpCMlbHvH7rGmqe9WXt5tfurEXMXHTPz/2ZGbDfu2JiuT3Sl4UVaMjwRXHT3RWz8YiOLXl/E3qy9jO4/miHThpBcXn1AQYrm23+c0EikvwNfuPvh2ERKfMvfWc7hffl/Pfu27OOJ6k/kvdOILBbHFY789p3McfH4LMpwau9pxpqP1+RZFHKrc34dujzehbO6n6UCG4VjM6Ae+zPezIxe/+pF1pIsvl3wLetnrWfS3ZO4+rmrA8kjIdFcSjrh/ykzG+vu/U49UuI7sOPE/4idkIeunavDOjpDZw7VkMeTMHjy4KAjULZSWQaOG8jwtOEc2H6AOc/PoX67+rQZ2iboaKVWUZ6vnVmE75XQ6pxf8FKGTa9qSrkq5fBsz/OBk+8+93za43AcxbBeWRmjTFndj5DIapxZg36v9+O1Hq+Bw3u3v0edVnVo0L5B0NFKpaIsDMXwn4xgNO7QmDoX1OHbBd/muf/Mrmdyw6Qb4pyqaLgfV0TiUKSWjl/KJ3/4JN9MzXo0I6msbqdJdGd1P4srHruCqQ9O5eiho4zqN4phc4ZRuXbloKOVOurhiQEzI31MOiOvHMmO1Tsi9tVuWZtrX7k2oGSnzuz7/oB4STk3heVvLc+ZATW3pHJJdPhNh7hlkdi6/H8vZ2PmRpaNX8au9bsYnT6aG6fcqHUw4qwov231+OVS86ya/HTxT7l6+NWUq1oOgMp1K3Nr5q1Uracx9dEoW6ksN350I817NY/4W1ambBl+NOlHutxQgpgZ1464llpnh4YZr5m+hg/v/TDgVKVPVIXBzCqaWX5r892Xx+tfMrMsM1ucx75fmJmbWa3wtpnZ381spZktNLOE73kqV7kcbW9tS5W6VQAoX7W8huGdpCp1qzBowiDuXnU3VRuECmv11Oo06dwk4GRS1MqfVp6B4wfm/EI166+zWPT6ooBTlS7RrODWC5gPTApvt869PoO7T87jsBFA9zze6wygG7A2V/MPgWbhxzDgn4XNJqVH9cbVNfqoFKh1di36vNInZ3vCLRPYvGBzgIlKl2jOGH4LtAd2AIRnVT3hr2vuPoO8F/P5K3AvkR3WvYFXPGQWUN3M6kWRT0RKkLOvPZsfPPgDAI7sP0JGn4yc6VAktqIpDIfdfedxbVGPRDKz3sAGd19w3K4GhO6mPmZ9uC2v9xhmZplmlrlly393SIpIydDpkU6c1f0sAHas2sG4H40j+2h2wKlKvmgKwxIzux5IMrNmZvY0odXdCs3MKgEPAA9Fc9zx3H24u6e5e1pKipZhFCmpyiSVoe9rfalxZmgxn5WTVjLt4WnBhioFoikMdwLnAQeBN4BdwM+j/LymhC4/LTCz1UBDYK6Z1QU2EFoM6JiG4TYRKcUq1qxI+rh0kiuGBm58/PuPWfbWsoBTlWyFLgzuvs/dH3T3duHf1h9096jmfnD3Re5e291T3T2V0OWiNu6+GZgA3BgenXQxsNPdN0Xz/iJSMtW9oC7XvHhNzvb4G8ezddnWABOVbAWOnTSzdzhBX4K7X5PfPjN7A+gE1DKz9cDD7v5iPi9/D+gBrAT2AT8uKJuIlB6tBrVi4xcbmfXXWRzafYiMPhnc8vktlD+tfNDRSpzCDKr/88m+ubsPKmB/aq7nDvzsZD9LREq+K/90JZvnbWb1tNVsXbaVt256i/Qx6XG9E780KPBSkrtPP9EjHiFFRADKJJehf0Z/TmsYWsxn2fhlfPJ4/vNoyckpsDCY2ajwn4vCdyQfeywys4Wxjygi8r3KtSuTPjadpHKhiROn/noqKyetLOAoiUZhLiXdHf5TK2eISLHQoH0Dejzbg3dueQccxl4/lmGZw3KGtQZlZLfQxJnVU6sXi7UuTlZhLiVtCv+5htBQ1QuA84GD4TYRkbhrM7QNbX/SFoAD2w+Q0TfjhCsnxsOO1TvYtmLbf82qnGiimSvpFmA20BfoD8wys5tjFUxEpCDd/9adhheH1vf+dsG3vHPrO6E1Q+SURHOD26+AC939JncfArQljxlVRUTiJbl8MgPGDKByndBiPoteX8Tnf/s84FSJL5rC8B2wO9f27nCbiEhgTmtwGgNGD8hZzGfyLyezetrqYEMluMKMSrrHzO4hdOPZ52b2WzN7GJgFfBXrgCIiBWn8g8Z0+0s3APyoMzp9NLvW7wo4VeIqzBlD1fDja+Atvr8L+m1gVYxyiYhEpf0d7Tl/8PkA7Nuyj1H9RnHk4JGAUyWmAoeruvsjubfNrEq4fU+sQomIRMvMuPq5q8lalMXm+ZvZMHsD793xHtf8K99ZeyQf0YxKamlm84AlhKbgnmNm58UumohIdMpWKsvA8QOpWLMiAPNemMec4XMCTpV4oul8Hg7c4+6N3b0x8AvgX7GJJSJycqqnVqffm/1y5k967473WD9rfcCpEks0haGyu//n2Ia7TwMqF3kiEZFT1PTKplzxhysAyD6czaj+o9jzra5+F1Y0heEbM/uNmaWGH78GvolVMBGRU3HZvZdxTr9zANi9YTejB4zm6OGjAadKDNEUhpuBFGBs+FELrZkgIsWUmdH75d6knBta/nftx2uZ/MvJAadKDNEUhqaElt4sA5QDugAzYhFKRKQolK9anoHjB+Ys5jP777NZ+KomhS5INIXhNeAlQnMlXR1+9IpFKBGRonJ689PpM7JPzvY7t77DpnlaNfhEoikMW9z9HXdf5e5rjj1ilkxEpIi0uKYFHR7qAMCRA0cY1XcU+77bF3Cq4iuawvCwmb1gZoPMrO+xR8ySiYgUoU4Pd6JZj2ZAaHrscdePI/todsCpiqdoCsOPgdZAd0KXkHqhxXtEJEFYGaPPq32o0TS0mM/Xk79m6q+nBpyqeIqmMLRz9zR3H+LuPw4/Trgeg5m9ZGZZZrY4V9uj4aVB55vZZDOrH26vZmbvmNkCM1tiZhrxJCJFqmKNilz31nWUrVQWgE8f/5Qvx34ZcKriJ5rC8JmZnRvl+48gdIaR25Pufr67twYmAg+F238GfOnuFwCdgP8zs3JRfp6IyAnVblmba176fv6kt296my1fbgkwUfETTWG4GJhvZsvDv/EvMrMTjvty9xnAtuPacs+FW5nvZ2t1oKqZGVAlfJymRhSRItdyYEsu+cUlABzac4iMPhkc2Hkg4FTFR4Gzq+Zy/G/+J83Mfg/cCOwEOoebnwEmABsJTfM90N3z7Bkys2HAMIBGjRoVVSwRKUW6Pt6VzfM2s2rqKr776jveuvEtBo4fmDPHUmlW6DOG3ENUT3W4qrs/6O5nELo34o5w81XAfKA+oU7uZ8zstHyOHx7u70hLSUk5mQgiUsqVSS5Dvzf7Ua1RNQCWT1jOjN/rnl2I7lJSLLwG9As//zEwzkNWEloE6OzAkolIiVc5pTLp49JJKp8EwLSHp7HivRUBpwpe3AuDmTXLtdkbWBZ+vpbQNBuYWR2gBZqkT0RirH7b+lz9XHjkvcO4H41j28ptJz6ohItpYTCzN4CZQAszW29mQ4HHzWxxuOO6G3B3+OWPApea2SLgI+A+d98ay3wiIgCtb2pN2k/TADiw4wAZfTM4tPdQwKmCE03nc9TcfVAezS/m89qNhAqFiEjcdX+qO98u+JZ1n60ja1EWE4ZOoN8b/QgNlCxdgu5jEBEpFpLKJTFg9ACq1K0CwJKMJcz666yAUwVDhSEOqqdWp2azmlRPrR50FBE5gar1qzJgzADKJIf+afzw3g9Z9Z9VAaeKv5heSpKQwZMHBx1BRAqp0WWNuOqpq3j/jvfxo86Y9DEMmzMsZ1hraaAzBhGR47S7vR0XDLkAgH1b9zGq3yiOHCg9EzGoMIiIHMfM6PnPntRrUw+AjZkbeff2d3H3Ao4sGVQYRETyULZiWdLHpVOpViUA5r88nznPzwk4VXyoMIiI5KN64+r0e7NfzvxJ79/1Putmrgs4VeypMEjC0Sgviaczu5xJl8e7AJB9OJtR/Uaxe9PugFPFlkYlScLRKC+Jt0t/eSmbMjexZNQS9mzaw+gBoxkydQhJ5ZKCjhYTOmMQESmAmXHNi9dQu2VtANZ9uo4P7vkg4FSxo8IgIlII5aqUI31cOuWrlQfgi398wfx/zw84VWyoMIiIFNLpzU6n76t9c7bfve1dNs3dFGCi2FBhEBGJQvOrm9Pxtx0BOHLgCBl9Mti3dV/AqYqWCoOISJQ6/qYjzXs1B2Dn2p2MuW4M2UfyXIk4IakwiIhEycoYfUb2oWazmgCs+mgV/77i3+xatwsITaOxa/2uICOeEhUGEZGTUKFaBQaOH0jZSmUBWPvx2pz5lA5sP8CzLZ9l/efrg4x40lQYREROUu3zalO1ftU89x3ceZAx6Yl5iUmFQUTkJG1esPmE60PvXLuTlZNWxjFR0VBhEBE5SdtW5F8Ucl5zgsJRXKkwiIicpGPLgJ5I5TqV45CkaMW0MJjZS2aWZWaLc7U9amYLzWy+mU02s/q59nUKty8xs+mxzCYicqrOuPQMapxZI9/95auVp8U1LeKYqGjE+oxhBND9uLYn3f18d28NTAQeAjCz6sCzwDXufh4wIMbZREROiZUxer3Qi+QK/z0fqZUxrn7uaspVLhdAslMT08Lg7jOAbce15R7cWxk4tiTS9cA4d18bfl1WLLOJiBSFJp2bcPNnN3Ne+nkQWraBspXKMuQ/Q2h5Xctgw52kQPoYzOz3ZrYO+BHhMwagOVDDzKaZ2Rwzu/EExw8zs0wzy9yyZUs8IouI5KvehfXon9GfmmeFbnir2qAqjTs0DjjVyQukMLj7g+5+BvAacEe4ORloC/QErgJ+Y2bN8zl+uLunuXtaSkpKXDKLiJQWQY9Keg3oF36+HvjA3fe6+1ZgBnBBYMlEREqpuBcGM2uWa7M3sCz8/G3gcjNLNrNKwEXA0njnExEp7WK6tKeZvQF0AmqZ2XrgYaCHmbUAsoE1wG0A7r7UzCYBC8P7XnD3xXm+sYiIxExMC4O7D8qj+cUTvP5J4MnYJRIRkYIE3ccgIiLFjAqDiIhEUGEQEZEIKgwiIhJBhUFERCKoMIiISAQVBhERiaDCICIiEVQYREQkggqDiIhEUGEQEZEIKgwiIhJBhUFERCKoMIiISAQVBhERiaDCICIiEVQYREQkggqDiIhEUGEQEZEIKgwiIhIhpoXBzF4ysywzW5yr7VEzW2hm881sspnVP+6YdmZ2xMz6xzKbiIjkLdZnDCOA7se1Penu57t7a2Ai8NCxHWaWBDwBTI5xLhERyUdMC4O7zwC2Hde2K9dmZcBzbd8JjAWyYplLRETylxzEh5rZ74EbgZ1A53BbA6BPeJTyCDgAAAYOSURBVLtdAccPA4YBNGrUKKZZRURKm0A6n939QXc/A3gNuCPc/BRwn7tnF+L44e6e5u5pKSkpsYwqIlLqBHLGkMtrwHvAw0Aa8KaZAdQCepjZEXd/K8B8IiKlTtwLg5k1c/cV4c3ewDIAd2+S6zUjgIkqCiIi8RfTwmBmbwCdgFpmtp7QmUEPM2sBZANrgNtimUFERKIT08Lg7oPyaH6xEMfdVPRpRESkMHTns4iIRFBhEBGRCCoMIiISQYVBREQiqDCIiEgEFQYREYmgwiAiIhFUGEREJIIKg4iIRFBhEBGRCEHPrioiUmJUT60e8WeiUmEQESkigycPDjpCkdClJBERiaDCICIiEVQYREQkggqDiIhEUGEQEZEIKgwiIhJBhUFERCKYuwed4ZSY2RZgTdA5CqEWsDXoECWIvs+io++yaCXK99nY3VPy2pHwhSFRmFmmu6cFnaOk0PdZdPRdFq2S8H3qUpKIiERQYRARkQgqDPEzPOgAJYy+z6Kj77JoJfz3qT4GERGJoDMGERGJoMIgIiIRVBhizMy6m9lyM1tpZvcHnSfRmdlLZpZlZouDzpLozOwMM/uPmX1pZkvM7O6gMyUyM6tgZrPNbEH4+3wk6EwnS30MMWRmScBXwJXAeuALYJC7fxlosARmZh2APcAr7t4y6DyJzMzqAfXcfa6ZVQXmANfq7+fJMTMDKrv7HjMrC3wC3O3uswKOFjWdMcRWe2Clu3/j7oeAN4HeAWdKaO4+A9gWdI6SwN03ufvc8PPdwFKgQbCpEpeH7Alvlg0/EvI3bxWG2GoArMu1vR794EkxZGapwIXA58EmSWxmlmRm84Es4EN3T8jvU4VBpJQzsyrAWODn7r4r6DyJzN2PuntroCHQ3swS8nKnCkNsbQDOyLXdMNwmUiyEr4WPBV5z93FB5ykp3H0H8B+ge9BZToYKQ2x9ATQzsyZmVg64DpgQcCYRIKez9EVgqbv/Jeg8ic7MUsysevh5RUKDTpYFm+rkqDDEkLsfAe4APiDUsTfK3ZcEmyqxmdkbwEyghZmtN7OhQWdKYJcBg4ErzGx++NEj6FAJrB7wHzNbSOiXwg/dfWLAmU6KhquKiEgEnTGIiEgEFQYREYmgwiAiIhFUGEREJIIKg4iIRFBhEBGRCCoMIscxs9+ZWdegc4gERfcxiORiZknufjRG750cvulRpFjTGYOUGmaWambLzOw1M1tqZmPMrJKZrTazJ8xsLjDAzEaYWf/wMe3M7LPw4iuzzaxqeAbNJ83sCzNbaGY/OcFndjKzj81sAvBluO0tM5sTXsxlWK7X7jGz34c/a5aZ1Qm3Nw1vLzKzx8xsT65jfpUrR8IuDCPFiwqDlDYtgGfd/RxgF3B7uP07d2/j7m8ee2F4fqsMQoutXAB0BfYDQ4Gd7t4OaAfcamZNTvCZbcLv0Ty8fbO7twXSgLvM7PRwe2VgVvizZgC3htv/BvzN3VsRmrr9WL5uQDNC6360BtqGFzISOSUqDFLarHP3T8PPXwUuDz/PyOO1LYBN7v4FgLvvCl8K6gbcGJ53/3PgdEL/QOdntruvyrV9l5ktAGYRmn332LGHgGNz68wBUsPPLwFGh5+/nut9uoUf84C5wNkF5BAplOSgA4jE2fGdase290bxHgbc6e4fFPL1Oe9tZp0InXlc4u77zGwaUCG8+7B/3+l3lIJ/Pg34o7s/X9jgIoWhMwYpbRqZ2SXh59cTWpc3P8uBembWDiDcv5BMaLbcn4bXMsDMmptZ5UJ+fjVge7gonA1cXIhjZgH9ws+vy9X+AXBzeKEdzKyBmdUuZA6RfKkwSGmzHPiZmS0FagD/zO+F4XW6BwJPhy/9fEjot/sXCHUkzzWzxcDzFP7sexKQHP78xwn9o1+QnwP3hKdzPgvYGc43mdClpZlmtggYA1QtZA6RfGm4qpQa4XWNJ7p7Qi23aGaVgP3u7mZ2HTDI3XsHnUtKLvUxiBR/bYFnwiuu7QBuDjiPlHA6YxApAmbWChh5XPNBd78oiDwip0KFQUREIqjzWUREIqgwiIhIBBUGERGJoMIgIiIR/h9nfaX17OHSEQAAAABJRU5ErkJggg==)"
      ],
      "metadata": {
        "id": "-6Wsz-g8T-YE"
      }
    },
    {
      "cell_type": "markdown",
      "source": [
        "# TASK 6 \n",
        "\n",
        "check data balance and solution for imbalanced data"
      ],
      "metadata": {
        "id": "-__kN4-ULq54"
      }
    },
    {
      "cell_type": "markdown",
      "source": [
        "بله\n",
        "\n",
        " داده ها متوازن هستند با توجه به اینکه بررسی کردیم و با نمودار دیدیم که از هر 4 \n",
        "کلاس به مقدار مساوی رکورد موجود میباشد\n",
        "\n",
        "\n",
        "![index.png](data:image/png;base64,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)"
      ],
      "metadata": {
        "id": "y2rs1YfJLvyJ"
      }
    },
    {
      "cell_type": "markdown",
      "source": [
        "solution for imbalanced data\n",
        "\n"
      ],
      "metadata": {
        "id": "YQqmp9jtNbSL"
      }
    },
    {
      "cell_type": "markdown",
      "source": [
        "1- Random Oversampling نمونه برداری بیش نمونه گیری \n",
        "\n",
        " شامل انتخاب نمونه های تصادفی از کلاس اقلیت با جایگزینی و تکمیل داده های آموزش با چندین نسخه از این نمونه است ، از این رو این امکان وجود دارد که یک نمونه واحد چندین بار انتخاب شود. در وافع در این روش نمونه ای اقلیت تکثیر می شوند تا تعداد \n",
        " نمونه ها بیشتر شود\n",
        "\n",
        "2-  Random Undersampling نمونه برداری کم نمونه گیری\n",
        "\n",
        "این روش  برعکس نمونه برداری روش قبلی  است. این روش به دنبال انتخاب و حذف نمونه ها از کلاس اکثریت به طور تصادفی است ، در نتیجه تعداد مثال ها را در کلاس اکثریت در داده ها کاهش می دهد\n",
        "\n",
        "3- SMOTE (Synthetic Minority Oversampling Technique) \n",
        "\n",
        "این روش زیر مجموعه ی روش بیش نمونه گیری است به این صورت که با استفاده از الگوریتم نزدیکترین همسایه برای ایجاد داده های مصنوعی کار می کند\n",
        "\n",
        "(k-nearest neighbor algorithm)\n",
        "\n",
        " مراحل\n",
        "\n",
        "بردار ویژگی و نزدیکترین همسایه آن را شناسایی میکند\n",
        "\n",
        "فاصله بین دو نقطه نمونه را محاسبه میکند\n",
        "\n",
        "فاصله را با یک عدد تصادفی بین 0 و 1 ضرب میکند\n",
        "\n",
        "یک نقطه جدید در پاره خط در فاصله محاسبه شده شناسایی میکند\n",
        "\n",
        "فرآیند را برای بردارهای مشخصه تکرار میکند"
      ],
      "metadata": {
        "id": "iTRNf1WFT4Lz"
      }
    },
    {
      "cell_type": "markdown",
      "source": [
        "# TASK 7\n",
        "\n",
        "Scaling"
      ],
      "metadata": {
        "id": "hxB7_szKMRlt"
      }
    },
    {
      "cell_type": "code",
      "source": [
        "from sklearn.preprocessing import MinMaxScaler,StandardScaler\n",
        "std = StandardScaler()\n",
        "X=df.drop(['price_range'], axis=1)\n",
        "y=df['price_range']\n",
        "X_train,X_test,y_train,y_test=train_test_split(X,y,test_size=0.2,random_state=50,stratify=y)\n",
        "X_std_train = std.fit_transform(X_train)\n",
        "X_std_train = pd.DataFrame(X_std_train, columns = X_train.columns)\n",
        "\n",
        "X_std_test = std.transform(X_test)\n",
        "X_std_test = pd.DataFrame(X_std_test, columns = X_test.columns)\n"
      ],
      "metadata": {
        "id": "4KZMw4CyWfwh"
      },
      "execution_count": 68,
      "outputs": []
    },
    {
      "cell_type": "code",
      "source": [
        "LR_modelll.fit(X_std_train,y_train)\n",
        "y_pred = LR_modelll.predict(X_std_test)\n",
        "\n",
        "confusion_m = confusion_matrix(y_test, y_pred)\n",
        "sns.heatmap(confusion_m,annot=True,cmap=\"RdYlGn\")\n",
        "print(\"Accuracy:\",accuracy_score(y_test, y_pred))"
      ],
      "metadata": {
        "id": "ixPmRujzXA8-",
        "colab": {
          "base_uri": "https://localhost:8080/",
          "height": 286
        },
        "outputId": "5449c00b-3137-4460-8366-65e2c42db1cb"
      },
      "execution_count": 69,
      "outputs": [
        {
          "output_type": "stream",
          "name": "stdout",
          "text": [
            "Accuracy: 0.9675\n"
          ]
        },
        {
          "output_type": "display_data",
          "data": {
            "text/plain": [
              "<Figure size 432x288 with 2 Axes>"
            ],
            "image/png": "[encoded data removed]"
          },
          "metadata": {}
        }
      ]
    },
    {
      "cell_type": "code",
      "source": [
        "RF_model.fit(X_std_train, y_train)\n",
        "y_pred = RF_model.predict(X_std_test)\n",
        "\n",
        "confusion_m = confusion_matrix(y_test, y_pred)\n",
        "sns.heatmap(confusion_m,annot=True,cmap=\"RdYlGn\")\n",
        "print (\"Accuracy: \", accuracy_score(y_test,y_pred)) "
      ],
      "metadata": {
        "id": "IMSl-s2DZBLi",
        "colab": {
          "base_uri": "https://localhost:8080/",
          "height": 286
        },
        "outputId": "ab7f5abe-2521-4ee2-a1a0-185d73820806"
      },
      "execution_count": 70,
      "outputs": [
        {
          "output_type": "stream",
          "name": "stdout",
          "text": [
            "Accuracy:  0.8775\n"
          ]
        },
        {
          "output_type": "display_data",
          "data": {
            "text/plain": [
              "<Figure size 432x288 with 2 Axes>"
            ],
            "image/png": "[encoded data removed]"
          },
          "metadata": {}
        }
      ]
    },
    {
      "cell_type": "code",
      "source": [
        "mms = MinMaxScaler()\n",
        "X_mms_train = mms.fit_transform(X_train)\n",
        "X_mms_train = pd.DataFrame(X_mms_train, columns = X_train.columns)\n",
        "\n",
        "X_mms_test = mms.transform(X_test)\n",
        "X_mms_test = pd.DataFrame(X_mms_test, columns = X_test.columns)"
      ],
      "metadata": {
        "id": "lzIt0aa3dJlM"
      },
      "execution_count": 71,
      "outputs": []
    },
    {
      "cell_type": "code",
      "source": [
        "LR_modelll.fit(X_mms_train,y_train)\n",
        "y_pred = LR_modelll.predict(X_mms_test)\n",
        "\n",
        "confusion_m = confusion_matrix(y_test, y_pred)\n",
        "sns.heatmap(confusion_m,annot=True,cmap=\"RdYlGn\")\n",
        "print(\"Accuracy:\",accuracy_score(y_test, y_pred))"
      ],
      "metadata": {
        "id": "SgUM0xsehQnm",
        "colab": {
          "base_uri": "https://localhost:8080/",
          "height": 286
        },
        "outputId": "85170ebf-44e5-4327-c5a9-f8ddddda6306"
      },
      "execution_count": 72,
      "outputs": [
        {
          "output_type": "stream",
          "name": "stdout",
          "text": [
            "Accuracy: 0.935\n"
          ]
        },
        {
          "output_type": "display_data",
          "data": {
            "text/plain": [
              "<Figure size 432x288 with 2 Axes>"
            ],
            "image/png": "[encoded data removed]"
          },
          "metadata": {}
        }
      ]
    },
    {
      "cell_type": "code",
      "source": [
        "RF_model.fit(X_mms_train, y_train)\n",
        "y_pred = RF_model.predict(X_mms_test)\n",
        "\n",
        "confusion_m = confusion_matrix(y_test, y_pred)\n",
        "sns.heatmap(confusion_m,annot=True,cmap=\"RdYlGn\")\n",
        "print (\"Accuracy: \", accuracy_score(y_test,y_pred)) "
      ],
      "metadata": {
        "id": "lCfWl4f_hVLK",
        "colab": {
          "base_uri": "https://localhost:8080/",
          "height": 286
        },
        "outputId": "eeb8ab9c-1a57-4c22-97f6-f78d20887ce9"
      },
      "execution_count": 73,
      "outputs": [
        {
          "output_type": "stream",
          "name": "stdout",
          "text": [
            "Accuracy:  0.875\n"
          ]
        },
        {
          "output_type": "display_data",
          "data": {
            "text/plain": [
              "<Figure size 432x288 with 2 Axes>"
            ],
            "image/png": "[encoded data removed]"
          },
          "metadata": {}
        }
      ]
    },
    {
      "cell_type": "code",
      "source": [
        "X_mms_train"
      ],
      "metadata": {
        "id": "_me5hlVhhdWU",
        "colab": {
          "base_uri": "https://localhost:8080/",
          "height": 488
        },
        "outputId": "75dc71c0-9e54-4163-87f9-a1e3bb942633"
      },
      "execution_count": 74,
      "outputs": [
        {
          "output_type": "execute_result",
          "data": {
            "text/plain": [
              "      battery_power  blue  clock_speed  dual_sim        fc  four_g  \\\n",
              "0          0.095588   0.0         0.00       0.0  0.052632     0.0   \n",
              "1          0.412433   0.0         0.00       1.0  0.000000     1.0   \n",
              "2          0.320187   1.0         0.56       1.0  0.000000     0.0   \n",
              "3          0.512701   1.0         0.92       1.0  0.842105     0.0   \n",
              "4          0.177139   0.0         0.40       0.0  0.210526     0.0   \n",
              "...             ...   ...          ...       ...       ...     ...   \n",
              "1595       0.842246   1.0         0.80       0.0  0.526316     1.0   \n",
              "1596       0.064171   0.0         0.72       1.0  0.368421     0.0   \n",
              "1597       0.775401   0.0         0.00       0.0  0.000000     1.0   \n",
              "1598       0.667781   0.0         0.24       0.0  0.631579     1.0   \n",
              "1599       0.052139   1.0         0.28       1.0  0.000000     0.0   \n",
              "\n",
              "      int_memory     m_dep  mobile_wt   n_cores    pc  px_height  px_width  \\\n",
              "0       0.629032  1.000000   0.975000  0.857143  0.50   0.166837  0.053440   \n",
              "1       0.338710  0.333333   0.700000  0.428571  0.05   0.418878  0.277221   \n",
              "2       0.000000  0.000000   0.466667  0.285714  0.35   0.038265  0.125585   \n",
              "3       0.629032  1.000000   0.833333  1.000000  0.85   0.207143  0.358049   \n",
              "4       0.419355  0.666667   0.791667  0.428571  0.50   0.175510  0.679359   \n",
              "...          ...       ...        ...       ...   ...        ...       ...   \n",
              "1595    0.209677  0.222222   0.225000  1.000000  0.55   0.562755  0.577154   \n",
              "1596    0.306452  0.666667   0.966667  0.142857  0.50   0.346939  0.449566   \n",
              "1597    0.951613  0.777778   0.383333  0.428571  0.65   0.016327  0.674015   \n",
              "1598    0.000000  0.111111   0.891667  0.000000  0.75   0.101020  0.371409   \n",
              "1599    0.725806  0.888889   0.091667  0.285714  0.05   0.554082  0.564462   \n",
              "\n",
              "           ram      sc_h      sc_w  talk_time  three_g  touch_screen  wifi  \n",
              "0     0.723529  0.500000  0.500000   0.111111      1.0           1.0   1.0  \n",
              "1     0.872727  0.142857  0.222222   0.277778      1.0           0.0   0.0  \n",
              "2     0.343048  1.000000  0.666667   0.944444      0.0           0.0   0.0  \n",
              "3     0.557487  0.357143  0.500000   0.777778      0.0           0.0   1.0  \n",
              "4     0.072460  0.357143  0.000000   0.722222      0.0           1.0   0.0  \n",
              "...        ...       ...       ...        ...      ...           ...   ...  \n",
              "1595  0.515241  0.214286  0.166667   0.500000      1.0           1.0   0.0  \n",
              "1596  0.812032  0.214286  0.222222   0.277778      1.0           0.0   1.0  \n",
              "1597  0.936898  0.285714  0.277778   0.611111      1.0           1.0   1.0  \n",
              "1598  0.596524  0.571429  0.666667   0.777778      1.0           1.0   1.0  \n",
              "1599  0.854278  0.714286  0.055556   0.500000      1.0           1.0   0.0  \n",
              "\n",
              "[1600 rows x 20 columns]"
            ],
            "text/html": [
              "\n",
              "  <div id=\"df-a671d55d-3cb4-4510-aede-b5f17b59f849\">\n",
              "    <div class=\"colab-df-container\">\n",
              "      <div>\n",
              "<style scoped>\n",
              "    .dataframe tbody tr th:only-of-type {\n",
              "        vertical-align: middle;\n",
              "    }\n",
              "\n",
              "    .dataframe tbody tr th {\n",
              "        vertical-align: top;\n",
              "    }\n",
              "\n",
              "    .dataframe thead th {\n",
              "        text-align: right;\n",
              "    }\n",
              "</style>\n",
              "<table border=\"1\" class=\"dataframe\">\n",
              "  <thead>\n",
              "    <tr style=\"text-align: right;\">\n",
              "      <th></th>\n",
              "      <th>battery_power</th>\n",
              "      <th>blue</th>\n",
              "      <th>clock_speed</th>\n",
              "      <th>dual_sim</th>\n",
              "      <th>fc</th>\n",
              "      <th>four_g</th>\n",
              "      <th>int_memory</th>\n",
              "      <th>m_dep</th>\n",
              "      <th>mobile_wt</th>\n",
              "      <th>n_cores</th>\n",
              "      <th>pc</th>\n",
              "      <th>px_height</th>\n",
              "      <th>px_width</th>\n",
              "      <th>ram</th>\n",
              "      <th>sc_h</th>\n",
              "      <th>sc_w</th>\n",
              "      <th>talk_time</th>\n",
              "      <th>three_g</th>\n",
              "      <th>touch_screen</th>\n",
              "      <th>wifi</th>\n",
              "    </tr>\n",
              "  </thead>\n",
              "  <tbody>\n",
              "    <tr>\n",
              "      <th>0</th>\n",
              "      <td>0.095588</td>\n",
              "      <td>0.0</td>\n",
              "      <td>0.00</td>\n",
              "      <td>0.0</td>\n",
              "      <td>0.052632</td>\n",
              "      <td>0.0</td>\n",
              "      <td>0.629032</td>\n",
              "      <td>1.000000</td>\n",
              "      <td>0.975000</td>\n",
              "      <td>0.857143</td>\n",
              "      <td>0.50</td>\n",
              "      <td>0.166837</td>\n",
              "      <td>0.053440</td>\n",
              "      <td>0.723529</td>\n",
              "      <td>0.500000</td>\n",
              "      <td>0.500000</td>\n",
              "      <td>0.111111</td>\n",
              "      <td>1.0</td>\n",
              "      <td>1.0</td>\n",
              "      <td>1.0</td>\n",
              "    </tr>\n",
              "    <tr>\n",
              "      <th>1</th>\n",
              "      <td>0.412433</td>\n",
              "      <td>0.0</td>\n",
              "      <td>0.00</td>\n",
              "      <td>1.0</td>\n",
              "      <td>0.000000</td>\n",
              "      <td>1.0</td>\n",
              "      <td>0.338710</td>\n",
              "      <td>0.333333</td>\n",
              "      <td>0.700000</td>\n",
              "      <td>0.428571</td>\n",
              "      <td>0.05</td>\n",
              "      <td>0.418878</td>\n",
              "      <td>0.277221</td>\n",
              "      <td>0.872727</td>\n",
              "      <td>0.142857</td>\n",
              "      <td>0.222222</td>\n",
              "      <td>0.277778</td>\n",
              "      <td>1.0</td>\n",
              "      <td>0.0</td>\n",
              "      <td>0.0</td>\n",
              "    </tr>\n",
              "    <tr>\n",
              "      <th>2</th>\n",
              "      <td>0.320187</td>\n",
              "      <td>1.0</td>\n",
              "      <td>0.56</td>\n",
              "      <td>1.0</td>\n",
              "      <td>0.000000</td>\n",
              "      <td>0.0</td>\n",
              "      <td>0.000000</td>\n",
              "      <td>0.000000</td>\n",
              "      <td>0.466667</td>\n",
              "      <td>0.285714</td>\n",
              "      <td>0.35</td>\n",
              "      <td>0.038265</td>\n",
              "      <td>0.125585</td>\n",
              "      <td>0.343048</td>\n",
              "      <td>1.000000</td>\n",
              "      <td>0.666667</td>\n",
              "      <td>0.944444</td>\n",
              "      <td>0.0</td>\n",
              "      <td>0.0</td>\n",
              "      <td>0.0</td>\n",
              "    </tr>\n",
              "    <tr>\n",
              "      <th>3</th>\n",
              "      <td>0.512701</td>\n",
              "      <td>1.0</td>\n",
              "      <td>0.92</td>\n",
              "      <td>1.0</td>\n",
              "      <td>0.842105</td>\n",
              "      <td>0.0</td>\n",
              "      <td>0.629032</td>\n",
              "      <td>1.000000</td>\n",
              "      <td>0.833333</td>\n",
              "      <td>1.000000</td>\n",
              "      <td>0.85</td>\n",
              "      <td>0.207143</td>\n",
              "      <td>0.358049</td>\n",
              "      <td>0.557487</td>\n",
              "      <td>0.357143</td>\n",
              "      <td>0.500000</td>\n",
              "      <td>0.777778</td>\n",
              "      <td>0.0</td>\n",
              "      <td>0.0</td>\n",
              "      <td>1.0</td>\n",
              "    </tr>\n",
              "    <tr>\n",
              "      <th>4</th>\n",
              "      <td>0.177139</td>\n",
              "      <td>0.0</td>\n",
              "      <td>0.40</td>\n",
              "      <td>0.0</td>\n",
              "      <td>0.210526</td>\n",
              "      <td>0.0</td>\n",
              "      <td>0.419355</td>\n",
              "      <td>0.666667</td>\n",
              "      <td>0.791667</td>\n",
              "      <td>0.428571</td>\n",
              "      <td>0.50</td>\n",
              "      <td>0.175510</td>\n",
              "      <td>0.679359</td>\n",
              "      <td>0.072460</td>\n",
              "      <td>0.357143</td>\n",
              "      <td>0.000000</td>\n",
              "      <td>0.722222</td>\n",
              "      <td>0.0</td>\n",
              "      <td>1.0</td>\n",
              "      <td>0.0</td>\n",
              "    </tr>\n",
              "    <tr>\n",
              "      <th>...</th>\n",
              "      <td>...</td>\n",
              "      <td>...</td>\n",
              "      <td>...</td>\n",
              "      <td>...</td>\n",
              "      <td>...</td>\n",
              "      <td>...</td>\n",
              "      <td>...</td>\n",
              "      <td>...</td>\n",
              "      <td>...</td>\n",
              "      <td>...</td>\n",
              "      <td>...</td>\n",
              "      <td>...</td>\n",
              "      <td>...</td>\n",
              "      <td>...</td>\n",
              "      <td>...</td>\n",
              "      <td>...</td>\n",
              "      <td>...</td>\n",
              "      <td>...</td>\n",
              "      <td>...</td>\n",
              "      <td>...</td>\n",
              "    </tr>\n",
              "    <tr>\n",
              "      <th>1595</th>\n",
              "      <td>0.842246</td>\n",
              "      <td>1.0</td>\n",
              "      <td>0.80</td>\n",
              "      <td>0.0</td>\n",
              "      <td>0.526316</td>\n",
              "      <td>1.0</td>\n",
              "      <td>0.209677</td>\n",
              "      <td>0.222222</td>\n",
              "      <td>0.225000</td>\n",
              "      <td>1.000000</td>\n",
              "      <td>0.55</td>\n",
              "      <td>0.562755</td>\n",
              "      <td>0.577154</td>\n",
              "      <td>0.515241</td>\n",
              "      <td>0.214286</td>\n",
              "      <td>0.166667</td>\n",
              "      <td>0.500000</td>\n",
              "      <td>1.0</td>\n",
              "      <td>1.0</td>\n",
              "      <td>0.0</td>\n",
              "    </tr>\n",
              "    <tr>\n",
              "      <th>1596</th>\n",
              "      <td>0.064171</td>\n",
              "      <td>0.0</td>\n",
              "      <td>0.72</td>\n",
              "      <td>1.0</td>\n",
              "      <td>0.368421</td>\n",
              "      <td>0.0</td>\n",
              "      <td>0.306452</td>\n",
              "      <td>0.666667</td>\n",
              "      <td>0.966667</td>\n",
              "      <td>0.142857</td>\n",
              "      <td>0.50</td>\n",
              "      <td>0.346939</td>\n",
              "      <td>0.449566</td>\n",
              "      <td>0.812032</td>\n",
              "      <td>0.214286</td>\n",
              "      <td>0.222222</td>\n",
              "      <td>0.277778</td>\n",
              "      <td>1.0</td>\n",
              "      <td>0.0</td>\n",
              "      <td>1.0</td>\n",
              "    </tr>\n",
              "    <tr>\n",
              "      <th>1597</th>\n",
              "      <td>0.775401</td>\n",
              "      <td>0.0</td>\n",
              "      <td>0.00</td>\n",
              "      <td>0.0</td>\n",
              "      <td>0.000000</td>\n",
              "      <td>1.0</td>\n",
              "      <td>0.951613</td>\n",
              "      <td>0.777778</td>\n",
              "      <td>0.383333</td>\n",
              "      <td>0.428571</td>\n",
              "      <td>0.65</td>\n",
              "      <td>0.016327</td>\n",
              "      <td>0.674015</td>\n",
              "      <td>0.936898</td>\n",
              "      <td>0.285714</td>\n",
              "      <td>0.277778</td>\n",
              "      <td>0.611111</td>\n",
              "      <td>1.0</td>\n",
              "      <td>1.0</td>\n",
              "      <td>1.0</td>\n",
              "    </tr>\n",
              "    <tr>\n",
              "      <th>1598</th>\n",
              "      <td>0.667781</td>\n",
              "      <td>0.0</td>\n",
              "      <td>0.24</td>\n",
              "      <td>0.0</td>\n",
              "      <td>0.631579</td>\n",
              "      <td>1.0</td>\n",
              "      <td>0.000000</td>\n",
              "      <td>0.111111</td>\n",
              "      <td>0.891667</td>\n",
              "      <td>0.000000</td>\n",
              "      <td>0.75</td>\n",
              "      <td>0.101020</td>\n",
              "      <td>0.371409</td>\n",
              "      <td>0.596524</td>\n",
              "      <td>0.571429</td>\n",
              "      <td>0.666667</td>\n",
              "      <td>0.777778</td>\n",
              "      <td>1.0</td>\n",
              "      <td>1.0</td>\n",
              "      <td>1.0</td>\n",
              "    </tr>\n",
              "    <tr>\n",
              "      <th>1599</th>\n",
              "      <td>0.052139</td>\n",
              "      <td>1.0</td>\n",
              "      <td>0.28</td>\n",
              "      <td>1.0</td>\n",
              "      <td>0.000000</td>\n",
              "      <td>0.0</td>\n",
              "      <td>0.725806</td>\n",
              "      <td>0.888889</td>\n",
              "      <td>0.091667</td>\n",
              "      <td>0.285714</td>\n",
              "      <td>0.05</td>\n",
              "      <td>0.554082</td>\n",
              "      <td>0.564462</td>\n",
              "      <td>0.854278</td>\n",
              "      <td>0.714286</td>\n",
              "      <td>0.055556</td>\n",
              "      <td>0.500000</td>\n",
              "      <td>1.0</td>\n",
              "      <td>1.0</td>\n",
              "      <td>0.0</td>\n",
              "    </tr>\n",
              "  </tbody>\n",
              "</table>\n",
              "<p>1600 rows × 20 columns</p>\n",
              "</div>\n",
              "      <button class=\"colab-df-convert\" onclick=\"convertToInteractive('df-a671d55d-3cb4-4510-aede-b5f17b59f849')\"\n",
              "              title=\"Convert this dataframe to an interactive table.\"\n",
              "              style=\"display:none;\">\n",
              "        \n",
              "  <svg xmlns=\"http://www.w3.org/2000/svg\" height=\"24px\"viewBox=\"0 0 24 24\"\n",
              "       width=\"24px\">\n",
              "    <path d=\"M0 0h24v24H0V0z\" fill=\"none\"/>\n",
              "    <path d=\"M18.56 5.44l.94 2.06.94-2.06 2.06-.94-2.06-.94-.94-2.06-.94 2.06-2.06.94zm-11 1L8.5 8.5l.94-2.06 2.06-.94-2.06-.94L8.5 2.5l-.94 2.06-2.06.94zm10 10l.94 2.06.94-2.06 2.06-.94-2.06-.94-.94-2.06-.94 2.06-2.06.94z\"/><path d=\"M17.41 7.96l-1.37-1.37c-.4-.4-.92-.59-1.43-.59-.52 0-1.04.2-1.43.59L10.3 9.45l-7.72 7.72c-.78.78-.78 2.05 0 2.83L4 21.41c.39.39.9.59 1.41.59.51 0 1.02-.2 1.41-.59l7.78-7.78 2.81-2.81c.8-.78.8-2.07 0-2.86zM5.41 20L4 18.59l7.72-7.72 1.47 1.35L5.41 20z\"/>\n",
              "  </svg>\n",
              "      </button>\n",
              "      \n",
              "  <style>\n",
              "    .colab-df-container {\n",
              "      display:flex;\n",
              "      flex-wrap:wrap;\n",
              "      gap: 12px;\n",
              "    }\n",
              "\n",
              "    .colab-df-convert {\n",
              "      background-color: #E8F0FE;\n",
              "      border: none;\n",
              "      border-radius: 50%;\n",
              "      cursor: pointer;\n",
              "      display: none;\n",
              "      fill: #1967D2;\n",
              "      height: 32px;\n",
              "      padding: 0 0 0 0;\n",
              "      width: 32px;\n",
              "    }\n",
              "\n",
              "    .colab-df-convert:hover {\n",
              "      background-color: #E2EBFA;\n",
              "      box-shadow: 0px 1px 2px rgba(60, 64, 67, 0.3), 0px 1px 3px 1px rgba(60, 64, 67, 0.15);\n",
              "      fill: #174EA6;\n",
              "    }\n",
              "\n",
              "    [theme=dark] .colab-df-convert {\n",
              "      background-color: #3B4455;\n",
              "      fill: #D2E3FC;\n",
              "    }\n",
              "\n",
              "    [theme=dark] .colab-df-convert:hover {\n",
              "      background-color: #434B5C;\n",
              "      box-shadow: 0px 1px 3px 1px rgba(0, 0, 0, 0.15);\n",
              "      filter: drop-shadow(0px 1px 2px rgba(0, 0, 0, 0.3));\n",
              "      fill: #FFFFFF;\n",
              "    }\n",
              "  </style>\n",
              "\n",
              "      <script>\n",
              "        const buttonEl =\n",
              "          document.querySelector('#df-a671d55d-3cb4-4510-aede-b5f17b59f849 button.colab-df-convert');\n",
              "        buttonEl.style.display =\n",
              "          google.colab.kernel.accessAllowed ? 'block' : 'none';\n",
              "\n",
              "        async function convertToInteractive(key) {\n",
              "          const element = document.querySelector('#df-a671d55d-3cb4-4510-aede-b5f17b59f849');\n",
              "          const dataTable =\n",
              "            await google.colab.kernel.invokeFunction('convertToInteractive',\n",
              "                                                     [key], {});\n",
              "          if (!dataTable) return;\n",
              "\n",
              "          const docLinkHtml = 'Like what you see? Visit the ' +\n",
              "            '<a target=\"_blank\" href=https://colab.research.google.com/notebooks/data_table.ipynb>data table notebook</a>'\n",
              "            + ' to learn more about interactive tables.';\n",
              "          element.innerHTML = '';\n",
              "          dataTable['output_type'] = 'display_data';\n",
              "          await google.colab.output.renderOutput(dataTable, element);\n",
              "          const docLink = document.createElement('div');\n",
              "          docLink.innerHTML = docLinkHtml;\n",
              "          element.appendChild(docLink);\n",
              "        }\n",
              "      </script>\n",
              "    </div>\n",
              "  </div>\n",
              "  "
            ]
          },
          "metadata": {},
          "execution_count": 74
        }
      ]
    },
    {
      "cell_type": "code",
      "source": [
        "X_mms_train"
      ],
      "metadata": {
        "id": "IQIcb5UCCRm5",
        "colab": {
          "base_uri": "https://localhost:8080/",
          "height": 488
        },
        "outputId": "729e78c3-e98f-4e68-e9fb-472b9c345347"
      },
      "execution_count": 75,
      "outputs": [
        {
          "output_type": "execute_result",
          "data": {
            "text/plain": [
              "      battery_power  blue  clock_speed  dual_sim        fc  four_g  \\\n",
              "0          0.095588   0.0         0.00       0.0  0.052632     0.0   \n",
              "1          0.412433   0.0         0.00       1.0  0.000000     1.0   \n",
              "2          0.320187   1.0         0.56       1.0  0.000000     0.0   \n",
              "3          0.512701   1.0         0.92       1.0  0.842105     0.0   \n",
              "4          0.177139   0.0         0.40       0.0  0.210526     0.0   \n",
              "...             ...   ...          ...       ...       ...     ...   \n",
              "1595       0.842246   1.0         0.80       0.0  0.526316     1.0   \n",
              "1596       0.064171   0.0         0.72       1.0  0.368421     0.0   \n",
              "1597       0.775401   0.0         0.00       0.0  0.000000     1.0   \n",
              "1598       0.667781   0.0         0.24       0.0  0.631579     1.0   \n",
              "1599       0.052139   1.0         0.28       1.0  0.000000     0.0   \n",
              "\n",
              "      int_memory     m_dep  mobile_wt   n_cores    pc  px_height  px_width  \\\n",
              "0       0.629032  1.000000   0.975000  0.857143  0.50   0.166837  0.053440   \n",
              "1       0.338710  0.333333   0.700000  0.428571  0.05   0.418878  0.277221   \n",
              "2       0.000000  0.000000   0.466667  0.285714  0.35   0.038265  0.125585   \n",
              "3       0.629032  1.000000   0.833333  1.000000  0.85   0.207143  0.358049   \n",
              "4       0.419355  0.666667   0.791667  0.428571  0.50   0.175510  0.679359   \n",
              "...          ...       ...        ...       ...   ...        ...       ...   \n",
              "1595    0.209677  0.222222   0.225000  1.000000  0.55   0.562755  0.577154   \n",
              "1596    0.306452  0.666667   0.966667  0.142857  0.50   0.346939  0.449566   \n",
              "1597    0.951613  0.777778   0.383333  0.428571  0.65   0.016327  0.674015   \n",
              "1598    0.000000  0.111111   0.891667  0.000000  0.75   0.101020  0.371409   \n",
              "1599    0.725806  0.888889   0.091667  0.285714  0.05   0.554082  0.564462   \n",
              "\n",
              "           ram      sc_h      sc_w  talk_time  three_g  touch_screen  wifi  \n",
              "0     0.723529  0.500000  0.500000   0.111111      1.0           1.0   1.0  \n",
              "1     0.872727  0.142857  0.222222   0.277778      1.0           0.0   0.0  \n",
              "2     0.343048  1.000000  0.666667   0.944444      0.0           0.0   0.0  \n",
              "3     0.557487  0.357143  0.500000   0.777778      0.0           0.0   1.0  \n",
              "4     0.072460  0.357143  0.000000   0.722222      0.0           1.0   0.0  \n",
              "...        ...       ...       ...        ...      ...           ...   ...  \n",
              "1595  0.515241  0.214286  0.166667   0.500000      1.0           1.0   0.0  \n",
              "1596  0.812032  0.214286  0.222222   0.277778      1.0           0.0   1.0  \n",
              "1597  0.936898  0.285714  0.277778   0.611111      1.0           1.0   1.0  \n",
              "1598  0.596524  0.571429  0.666667   0.777778      1.0           1.0   1.0  \n",
              "1599  0.854278  0.714286  0.055556   0.500000      1.0           1.0   0.0  \n",
              "\n",
              "[1600 rows x 20 columns]"
            ],
            "text/html": [
              "\n",
              "  <div id=\"df-fdb2baef-4def-407e-a6c6-232452eaa24f\">\n",
              "    <div class=\"colab-df-container\">\n",
              "      <div>\n",
              "<style scoped>\n",
              "    .dataframe tbody tr th:only-of-type {\n",
              "        vertical-align: middle;\n",
              "    }\n",
              "\n",
              "    .dataframe tbody tr th {\n",
              "        vertical-align: top;\n",
              "    }\n",
              "\n",
              "    .dataframe thead th {\n",
              "        text-align: right;\n",
              "    }\n",
              "</style>\n",
              "<table border=\"1\" class=\"dataframe\">\n",
              "  <thead>\n",
              "    <tr style=\"text-align: right;\">\n",
              "      <th></th>\n",
              "      <th>battery_power</th>\n",
              "      <th>blue</th>\n",
              "      <th>clock_speed</th>\n",
              "      <th>dual_sim</th>\n",
              "      <th>fc</th>\n",
              "      <th>four_g</th>\n",
              "      <th>int_memory</th>\n",
              "      <th>m_dep</th>\n",
              "      <th>mobile_wt</th>\n",
              "      <th>n_cores</th>\n",
              "      <th>pc</th>\n",
              "      <th>px_height</th>\n",
              "      <th>px_width</th>\n",
              "      <th>ram</th>\n",
              "      <th>sc_h</th>\n",
              "      <th>sc_w</th>\n",
              "      <th>talk_time</th>\n",
              "      <th>three_g</th>\n",
              "      <th>touch_screen</th>\n",
              "      <th>wifi</th>\n",
              "    </tr>\n",
              "  </thead>\n",
              "  <tbody>\n",
              "    <tr>\n",
              "      <th>0</th>\n",
              "      <td>0.095588</td>\n",
              "      <td>0.0</td>\n",
              "      <td>0.00</td>\n",
              "      <td>0.0</td>\n",
              "      <td>0.052632</td>\n",
              "      <td>0.0</td>\n",
              "      <td>0.629032</td>\n",
              "      <td>1.000000</td>\n",
              "      <td>0.975000</td>\n",
              "      <td>0.857143</td>\n",
              "      <td>0.50</td>\n",
              "      <td>0.166837</td>\n",
              "      <td>0.053440</td>\n",
              "      <td>0.723529</td>\n",
              "      <td>0.500000</td>\n",
              "      <td>0.500000</td>\n",
              "      <td>0.111111</td>\n",
              "      <td>1.0</td>\n",
              "      <td>1.0</td>\n",
              "      <td>1.0</td>\n",
              "    </tr>\n",
              "    <tr>\n",
              "      <th>1</th>\n",
              "      <td>0.412433</td>\n",
              "      <td>0.0</td>\n",
              "      <td>0.00</td>\n",
              "      <td>1.0</td>\n",
              "      <td>0.000000</td>\n",
              "      <td>1.0</td>\n",
              "      <td>0.338710</td>\n",
              "      <td>0.333333</td>\n",
              "      <td>0.700000</td>\n",
              "      <td>0.428571</td>\n",
              "      <td>0.05</td>\n",
              "      <td>0.418878</td>\n",
              "      <td>0.277221</td>\n",
              "      <td>0.872727</td>\n",
              "      <td>0.142857</td>\n",
              "      <td>0.222222</td>\n",
              "      <td>0.277778</td>\n",
              "      <td>1.0</td>\n",
              "      <td>0.0</td>\n",
              "      <td>0.0</td>\n",
              "    </tr>\n",
              "    <tr>\n",
              "      <th>2</th>\n",
              "      <td>0.320187</td>\n",
              "      <td>1.0</td>\n",
              "      <td>0.56</td>\n",
              "      <td>1.0</td>\n",
              "      <td>0.000000</td>\n",
              "      <td>0.0</td>\n",
              "      <td>0.000000</td>\n",
              "      <td>0.000000</td>\n",
              "      <td>0.466667</td>\n",
              "      <td>0.285714</td>\n",
              "      <td>0.35</td>\n",
              "      <td>0.038265</td>\n",
              "      <td>0.125585</td>\n",
              "      <td>0.343048</td>\n",
              "      <td>1.000000</td>\n",
              "      <td>0.666667</td>\n",
              "      <td>0.944444</td>\n",
              "      <td>0.0</td>\n",
              "      <td>0.0</td>\n",
              "      <td>0.0</td>\n",
              "    </tr>\n",
              "    <tr>\n",
              "      <th>3</th>\n",
              "      <td>0.512701</td>\n",
              "      <td>1.0</td>\n",
              "      <td>0.92</td>\n",
              "      <td>1.0</td>\n",
              "      <td>0.842105</td>\n",
              "      <td>0.0</td>\n",
              "      <td>0.629032</td>\n",
              "      <td>1.000000</td>\n",
              "      <td>0.833333</td>\n",
              "      <td>1.000000</td>\n",
              "      <td>0.85</td>\n",
              "      <td>0.207143</td>\n",
              "      <td>0.358049</td>\n",
              "      <td>0.557487</td>\n",
              "      <td>0.357143</td>\n",
              "      <td>0.500000</td>\n",
              "      <td>0.777778</td>\n",
              "      <td>0.0</td>\n",
              "      <td>0.0</td>\n",
              "      <td>1.0</td>\n",
              "    </tr>\n",
              "    <tr>\n",
              "      <th>4</th>\n",
              "      <td>0.177139</td>\n",
              "      <td>0.0</td>\n",
              "      <td>0.40</td>\n",
              "      <td>0.0</td>\n",
              "      <td>0.210526</td>\n",
              "      <td>0.0</td>\n",
              "      <td>0.419355</td>\n",
              "      <td>0.666667</td>\n",
              "      <td>0.791667</td>\n",
              "      <td>0.428571</td>\n",
              "      <td>0.50</td>\n",
              "      <td>0.175510</td>\n",
              "      <td>0.679359</td>\n",
              "      <td>0.072460</td>\n",
              "      <td>0.357143</td>\n",
              "      <td>0.000000</td>\n",
              "      <td>0.722222</td>\n",
              "      <td>0.0</td>\n",
              "      <td>1.0</td>\n",
              "      <td>0.0</td>\n",
              "    </tr>\n",
              "    <tr>\n",
              "      <th>...</th>\n",
              "      <td>...</td>\n",
              "      <td>...</td>\n",
              "      <td>...</td>\n",
              "      <td>...</td>\n",
              "      <td>...</td>\n",
              "      <td>...</td>\n",
              "      <td>...</td>\n",
              "      <td>...</td>\n",
              "      <td>...</td>\n",
              "      <td>...</td>\n",
              "      <td>...</td>\n",
              "      <td>...</td>\n",
              "      <td>...</td>\n",
              "      <td>...</td>\n",
              "      <td>...</td>\n",
              "      <td>...</td>\n",
              "      <td>...</td>\n",
              "      <td>...</td>\n",
              "      <td>...</td>\n",
              "      <td>...</td>\n",
              "    </tr>\n",
              "    <tr>\n",
              "      <th>1595</th>\n",
              "      <td>0.842246</td>\n",
              "      <td>1.0</td>\n",
              "      <td>0.80</td>\n",
              "      <td>0.0</td>\n",
              "      <td>0.526316</td>\n",
              "      <td>1.0</td>\n",
              "      <td>0.209677</td>\n",
              "      <td>0.222222</td>\n",
              "      <td>0.225000</td>\n",
              "      <td>1.000000</td>\n",
              "      <td>0.55</td>\n",
              "      <td>0.562755</td>\n",
              "      <td>0.577154</td>\n",
              "      <td>0.515241</td>\n",
              "      <td>0.214286</td>\n",
              "      <td>0.166667</td>\n",
              "      <td>0.500000</td>\n",
              "      <td>1.0</td>\n",
              "      <td>1.0</td>\n",
              "      <td>0.0</td>\n",
              "    </tr>\n",
              "    <tr>\n",
              "      <th>1596</th>\n",
              "      <td>0.064171</td>\n",
              "      <td>0.0</td>\n",
              "      <td>0.72</td>\n",
              "      <td>1.0</td>\n",
              "      <td>0.368421</td>\n",
              "      <td>0.0</td>\n",
              "      <td>0.306452</td>\n",
              "      <td>0.666667</td>\n",
              "      <td>0.966667</td>\n",
              "      <td>0.142857</td>\n",
              "      <td>0.50</td>\n",
              "      <td>0.346939</td>\n",
              "      <td>0.449566</td>\n",
              "      <td>0.812032</td>\n",
              "      <td>0.214286</td>\n",
              "      <td>0.222222</td>\n",
              "      <td>0.277778</td>\n",
              "      <td>1.0</td>\n",
              "      <td>0.0</td>\n",
              "      <td>1.0</td>\n",
              "    </tr>\n",
              "    <tr>\n",
              "      <th>1597</th>\n",
              "      <td>0.775401</td>\n",
              "      <td>0.0</td>\n",
              "      <td>0.00</td>\n",
              "      <td>0.0</td>\n",
              "      <td>0.000000</td>\n",
              "      <td>1.0</td>\n",
              "      <td>0.951613</td>\n",
              "      <td>0.777778</td>\n",
              "      <td>0.383333</td>\n",
              "      <td>0.428571</td>\n",
              "      <td>0.65</td>\n",
              "      <td>0.016327</td>\n",
              "      <td>0.674015</td>\n",
              "      <td>0.936898</td>\n",
              "      <td>0.285714</td>\n",
              "      <td>0.277778</td>\n",
              "      <td>0.611111</td>\n",
              "      <td>1.0</td>\n",
              "      <td>1.0</td>\n",
              "      <td>1.0</td>\n",
              "    </tr>\n",
              "    <tr>\n",
              "      <th>1598</th>\n",
              "      <td>0.667781</td>\n",
              "      <td>0.0</td>\n",
              "      <td>0.24</td>\n",
              "      <td>0.0</td>\n",
              "      <td>0.631579</td>\n",
              "      <td>1.0</td>\n",
              "      <td>0.000000</td>\n",
              "      <td>0.111111</td>\n",
              "      <td>0.891667</td>\n",
              "      <td>0.000000</td>\n",
              "      <td>0.75</td>\n",
              "      <td>0.101020</td>\n",
              "      <td>0.371409</td>\n",
              "      <td>0.596524</td>\n",
              "      <td>0.571429</td>\n",
              "      <td>0.666667</td>\n",
              "      <td>0.777778</td>\n",
              "      <td>1.0</td>\n",
              "      <td>1.0</td>\n",
              "      <td>1.0</td>\n",
              "    </tr>\n",
              "    <tr>\n",
              "      <th>1599</th>\n",
              "      <td>0.052139</td>\n",
              "      <td>1.0</td>\n",
              "      <td>0.28</td>\n",
              "      <td>1.0</td>\n",
              "      <td>0.000000</td>\n",
              "      <td>0.0</td>\n",
              "      <td>0.725806</td>\n",
              "      <td>0.888889</td>\n",
              "      <td>0.091667</td>\n",
              "      <td>0.285714</td>\n",
              "      <td>0.05</td>\n",
              "      <td>0.554082</td>\n",
              "      <td>0.564462</td>\n",
              "      <td>0.854278</td>\n",
              "      <td>0.714286</td>\n",
              "      <td>0.055556</td>\n",
              "      <td>0.500000</td>\n",
              "      <td>1.0</td>\n",
              "      <td>1.0</td>\n",
              "      <td>0.0</td>\n",
              "    </tr>\n",
              "  </tbody>\n",
              "</table>\n",
              "<p>1600 rows × 20 columns</p>\n",
              "</div>\n",
              "      <button class=\"colab-df-convert\" onclick=\"convertToInteractive('df-fdb2baef-4def-407e-a6c6-232452eaa24f')\"\n",
              "              title=\"Convert this dataframe to an interactive table.\"\n",
              "              style=\"display:none;\">\n",
              "        \n",
              "  <svg xmlns=\"http://www.w3.org/2000/svg\" height=\"24px\"viewBox=\"0 0 24 24\"\n",
              "       width=\"24px\">\n",
              "    <path d=\"M0 0h24v24H0V0z\" fill=\"none\"/>\n",
              "    <path d=\"M18.56 5.44l.94 2.06.94-2.06 2.06-.94-2.06-.94-.94-2.06-.94 2.06-2.06.94zm-11 1L8.5 8.5l.94-2.06 2.06-.94-2.06-.94L8.5 2.5l-.94 2.06-2.06.94zm10 10l.94 2.06.94-2.06 2.06-.94-2.06-.94-.94-2.06-.94 2.06-2.06.94z\"/><path d=\"M17.41 7.96l-1.37-1.37c-.4-.4-.92-.59-1.43-.59-.52 0-1.04.2-1.43.59L10.3 9.45l-7.72 7.72c-.78.78-.78 2.05 0 2.83L4 21.41c.39.39.9.59 1.41.59.51 0 1.02-.2 1.41-.59l7.78-7.78 2.81-2.81c.8-.78.8-2.07 0-2.86zM5.41 20L4 18.59l7.72-7.72 1.47 1.35L5.41 20z\"/>\n",
              "  </svg>\n",
              "      </button>\n",
              "      \n",
              "  <style>\n",
              "    .colab-df-container {\n",
              "      display:flex;\n",
              "      flex-wrap:wrap;\n",
              "      gap: 12px;\n",
              "    }\n",
              "\n",
              "    .colab-df-convert {\n",
              "      background-color: #E8F0FE;\n",
              "      border: none;\n",
              "      border-radius: 50%;\n",
              "      cursor: pointer;\n",
              "      display: none;\n",
              "      fill: #1967D2;\n",
              "      height: 32px;\n",
              "      padding: 0 0 0 0;\n",
              "      width: 32px;\n",
              "    }\n",
              "\n",
              "    .colab-df-convert:hover {\n",
              "      background-color: #E2EBFA;\n",
              "      box-shadow: 0px 1px 2px rgba(60, 64, 67, 0.3), 0px 1px 3px 1px rgba(60, 64, 67, 0.15);\n",
              "      fill: #174EA6;\n",
              "    }\n",
              "\n",
              "    [theme=dark] .colab-df-convert {\n",
              "      background-color: #3B4455;\n",
              "      fill: #D2E3FC;\n",
              "    }\n",
              "\n",
              "    [theme=dark] .colab-df-convert:hover {\n",
              "      background-color: #434B5C;\n",
              "      box-shadow: 0px 1px 3px 1px rgba(0, 0, 0, 0.15);\n",
              "      filter: drop-shadow(0px 1px 2px rgba(0, 0, 0, 0.3));\n",
              "      fill: #FFFFFF;\n",
              "    }\n",
              "  </style>\n",
              "\n",
              "      <script>\n",
              "        const buttonEl =\n",
              "          document.querySelector('#df-fdb2baef-4def-407e-a6c6-232452eaa24f button.colab-df-convert');\n",
              "        buttonEl.style.display =\n",
              "          google.colab.kernel.accessAllowed ? 'block' : 'none';\n",
              "\n",
              "        async function convertToInteractive(key) {\n",
              "          const element = document.querySelector('#df-fdb2baef-4def-407e-a6c6-232452eaa24f');\n",
              "          const dataTable =\n",
              "            await google.colab.kernel.invokeFunction('convertToInteractive',\n",
              "                                                     [key], {});\n",
              "          if (!dataTable) return;\n",
              "\n",
              "          const docLinkHtml = 'Like what you see? Visit the ' +\n",
              "            '<a target=\"_blank\" href=https://colab.research.google.com/notebooks/data_table.ipynb>data table notebook</a>'\n",
              "            + ' to learn more about interactive tables.';\n",
              "          element.innerHTML = '';\n",
              "          dataTable['output_type'] = 'display_data';\n",
              "          await google.colab.output.renderOutput(dataTable, element);\n",
              "          const docLink = document.createElement('div');\n",
              "          docLink.innerHTML = docLinkHtml;\n",
              "          element.appendChild(docLink);\n",
              "        }\n",
              "      </script>\n",
              "    </div>\n",
              "  </div>\n",
              "  "
            ]
          },
          "metadata": {},
          "execution_count": 75
        }
      ]
    },
    {
      "cell_type": "markdown",
      "source": [
        "# TASK 9\n",
        "Feature extraction using PCA"
      ],
      "metadata": {
        "id": "oi65FqtjWGVv"
      }
    },
    {
      "cell_type": "code",
      "source": [
        "from sklearn.decomposition import PCA\n",
        "pca = PCA(n_components = 0.75)\n",
        "pca.fit(X_std_train)\n",
        "train_reduced1 = pca.transform(X_std_train)\n",
        "test_reduced1 = pca.transform(X_std_test)\n",
        "print('Original Dimensions: ',X_std_train.shape)  \n",
        "print('Reduced Dimensions: ',train_reduced1.shape) "
      ],
      "metadata": {
        "id": "04IQVQYKCUQq",
        "colab": {
          "base_uri": "https://localhost:8080/"
        },
        "outputId": "038f1046-71b6-4d9d-b549-471cff4102c3"
      },
      "execution_count": 76,
      "outputs": [
        {
          "output_type": "stream",
          "name": "stdout",
          "text": [
            "Original Dimensions:  (1600, 20)\n",
            "Reduced Dimensions:  (1600, 13)\n"
          ]
        }
      ]
    },
    {
      "cell_type": "code",
      "source": [
        "LR_modelll.fit(train_reduced1,y_train)\n",
        "y_pred = LR_modelll.predict(test_reduced1)\n",
        "\n",
        "confusion_m = confusion_matrix(y_test, y_pred)\n",
        "sns.heatmap(confusion_m,annot=True,cmap=\"RdYlGn\")\n",
        "print(\"Accuracy:\",accuracy_score(y_test, y_pred))"
      ],
      "metadata": {
        "colab": {
          "base_uri": "https://localhost:8080/",
          "height": 286
        },
        "id": "Th2HLkZqwplp",
        "outputId": "8477a25c-a3a1-4863-ecb7-6e4cb10068de"
      },
      "execution_count": 77,
      "outputs": [
        {
          "output_type": "stream",
          "name": "stdout",
          "text": [
            "Accuracy: 0.605\n"
          ]
        },
        {
          "output_type": "display_data",
          "data": {
            "text/plain": [
              "<Figure size 432x288 with 2 Axes>"
            ],
            "image/png": "[encoded data removed]"
          },
          "metadata": {}
        }
      ]
    },
    {
      "cell_type": "code",
      "source": [
        "pca = PCA(n_components = 0.8)\n",
        "pca.fit(X_std_train)\n",
        "train_reduced2 = pca.transform(X_std_train)\n",
        "test_reduced2 = pca.transform(X_std_test)\n",
        "print('Original Dimensions: ',X_std_train.shape)  \n",
        "print('Reduced Dimensions: ',train_reduced2.shape) "
      ],
      "metadata": {
        "colab": {
          "base_uri": "https://localhost:8080/"
        },
        "id": "DLlCierInO2j",
        "outputId": "de62b346-7465-4332-da12-44e3bf437bc5"
      },
      "execution_count": 78,
      "outputs": [
        {
          "output_type": "stream",
          "name": "stdout",
          "text": [
            "Original Dimensions:  (1600, 20)\n",
            "Reduced Dimensions:  (1600, 14)\n"
          ]
        }
      ]
    },
    {
      "cell_type": "code",
      "source": [
        "LR_modelll.fit(train_reduced2,y_train)\n",
        "y_pred = LR_modelll.predict(test_reduced2)\n",
        "\n",
        "confusion_m = confusion_matrix(y_test, y_pred)\n",
        "sns.heatmap(confusion_m,annot=True,cmap=\"RdYlGn\")\n",
        "print(\"Accuracy:\",accuracy_score(y_test, y_pred))"
      ],
      "metadata": {
        "colab": {
          "base_uri": "https://localhost:8080/",
          "height": 286
        },
        "id": "4zNbKFtVxKsK",
        "outputId": "5ab234b4-964e-430e-e96d-7bcd6a81018b"
      },
      "execution_count": 79,
      "outputs": [
        {
          "output_type": "stream",
          "name": "stdout",
          "text": [
            "Accuracy: 0.7075\n"
          ]
        },
        {
          "output_type": "display_data",
          "data": {
            "text/plain": [
              "<Figure size 432x288 with 2 Axes>"
            ],
            "image/png": "[encoded data removed]"
          },
          "metadata": {}
        }
      ]
    },
    {
      "cell_type": "code",
      "source": [
        "pca = PCA(n_components = 0.9)\n",
        "pca.fit(X_std_train)\n",
        "train_reduced3 = pca.transform(X_std_train)\n",
        "test_reduced3 = pca.transform(X_std_test)\n",
        "print('Original Dimensions: ',X_std_train.shape)  \n",
        "print('Reduced Dimensions: ',train_reduced3.shape) "
      ],
      "metadata": {
        "colab": {
          "base_uri": "https://localhost:8080/"
        },
        "id": "1Z_KXa8SnRR1",
        "outputId": "cc9c60e7-e6b1-4bba-f082-2a152c7c2247"
      },
      "execution_count": 80,
      "outputs": [
        {
          "output_type": "stream",
          "name": "stdout",
          "text": [
            "Original Dimensions:  (1600, 20)\n",
            "Reduced Dimensions:  (1600, 16)\n"
          ]
        }
      ]
    },
    {
      "cell_type": "code",
      "source": [
        "LR_modelll.fit(train_reduced3,y_train)\n",
        "y_pred = LR_modelll.predict(test_reduced3)\n",
        "\n",
        "confusion_m = confusion_matrix(y_test, y_pred)\n",
        "sns.heatmap(confusion_m,annot=True,cmap=\"RdYlGn\")\n",
        "print(\"Accuracy:\",accuracy_score(y_test, y_pred))"
      ],
      "metadata": {
        "colab": {
          "base_uri": "https://localhost:8080/",
          "height": 286
        },
        "id": "gKiWw40ExP2S",
        "outputId": "fb760334-31ff-4d86-cfb7-142c1ec95586"
      },
      "execution_count": 81,
      "outputs": [
        {
          "output_type": "stream",
          "name": "stdout",
          "text": [
            "Accuracy: 0.9525\n"
          ]
        },
        {
          "output_type": "display_data",
          "data": {
            "text/plain": [
              "<Figure size 432x288 with 2 Axes>"
            ],
            "image/png": "[encoded data removed]"
          },
          "metadata": {}
        }
      ]
    },
    {
      "cell_type": "code",
      "source": [
        "pca = PCA(n_components = 0.95)\n",
        "pca.fit(X_std_train)\n",
        "train_reduced4 = pca.transform(X_std_train)\n",
        "test_reduced4 = pca.transform(X_std_test)\n",
        "print('Original Dimensions: ',X_std_train.shape)  \n",
        "print('Reduced Dimensions: ',train_reduced4.shape) "
      ],
      "metadata": {
        "colab": {
          "base_uri": "https://localhost:8080/"
        },
        "id": "YkvPpp2anWaX",
        "outputId": "7024246c-0d64-4f38-8f2d-450adc0da750"
      },
      "execution_count": 82,
      "outputs": [
        {
          "output_type": "stream",
          "name": "stdout",
          "text": [
            "Original Dimensions:  (1600, 20)\n",
            "Reduced Dimensions:  (1600, 18)\n"
          ]
        }
      ]
    },
    {
      "cell_type": "code",
      "source": [
        "LR_modelll.fit(train_reduced4,y_train)\n",
        "y_pred = LR_modelll.predict(test_reduced4)\n",
        "\n",
        "confusion_m = confusion_matrix(y_test, y_pred)\n",
        "sns.heatmap(confusion_m,annot=True,cmap=\"RdYlGn\")\n",
        "print(\"Accuracy:\",accuracy_score(y_test, y_pred))"
      ],
      "metadata": {
        "colab": {
          "base_uri": "https://localhost:8080/",
          "height": 286
        },
        "id": "JUzLfmnsxZC2",
        "outputId": "68cee1b7-8ac4-4fc6-c989-0285947e0186"
      },
      "execution_count": 83,
      "outputs": [
        {
          "output_type": "stream",
          "name": "stdout",
          "text": [
            "Accuracy: 0.96\n"
          ]
        },
        {
          "output_type": "display_data",
          "data": {
            "text/plain": [
              "<Figure size 432x288 with 2 Axes>"
            ],
            "image/png": "[encoded data removed]"
          },
          "metadata": {}
        }
      ]
    },
    {
      "cell_type": "code",
      "source": [
        "pca = PCA(n_components = 0.99)\n",
        "pca.fit(X_std_train)\n",
        "train_reduced5 = pca.transform(X_std_train)\n",
        "test_reduced5 = pca.transform(X_std_test)\n",
        "print('Original Dimensions: ',X_std_train.shape)  \n",
        "print('Reduced Dimensions: ',train_reduced5.shape) "
      ],
      "metadata": {
        "colab": {
          "base_uri": "https://localhost:8080/"
        },
        "id": "-LkY6QSFnY9T",
        "outputId": "28d2c5e1-c813-4c5c-e4c1-58056837783a"
      },
      "execution_count": 84,
      "outputs": [
        {
          "output_type": "stream",
          "name": "stdout",
          "text": [
            "Original Dimensions:  (1600, 20)\n",
            "Reduced Dimensions:  (1600, 20)\n"
          ]
        }
      ]
    },
    {
      "cell_type": "code",
      "source": [
        "LR_modelll.fit(train_reduced5,y_train)\n",
        "y_pred = LR_modelll.predict(test_reduced5)\n",
        "\n",
        "confusion_m = confusion_matrix(y_test, y_pred)\n",
        "sns.heatmap(confusion_m,annot=True,cmap=\"RdYlGn\")\n",
        "print(\"Accuracy:\",accuracy_score(y_test, y_pred))"
      ],
      "metadata": {
        "colab": {
          "base_uri": "https://localhost:8080/",
          "height": 286
        },
        "id": "KCRrsaAXvvgt",
        "outputId": "db9c931d-cb8f-4623-8d13-8819a6e5fca8"
      },
      "execution_count": 85,
      "outputs": [
        {
          "output_type": "stream",
          "name": "stdout",
          "text": [
            "Accuracy: 0.9675\n"
          ]
        },
        {
          "output_type": "display_data",
          "data": {
            "text/plain": [
              "<Figure size 432x288 with 2 Axes>"
            ],
            "image/png": "[encoded data removed]"
          },
          "metadata": {}
        }
      ]
    },
    {
      "cell_type": "markdown",
      "source": [
        "دلیل استفاده از pca  \n",
        "در مواری که ابعاد دیتاست بسیار بزرگ است و تعداد فیچر ها بالا است باعث پیچیده شدن مدل ها میشود و در نتیجه دچار حجم بالای محاسبات و قابل فهم نبودن نتایج برای \n",
        "کاربر خواهیم شد\n",
        "\n",
        "در این حالت کاهش ابعاد راه حل ما خواهد بود\n",
        "\n",
        " این روش داده‌های ما را از فضای اصلی که فیچر‌ها ممکن است با هم کورولیشن داشته باشند به فضای جدیدی میبرد که در فضای جدید فیچرها باهم کورولیشنی ندارند \n",
        "در این دیتاست دیدیم که کاهش ابعاد تاثیر افزایشی زیادی روی دقت مدل نداشت وبه دقتی بالاتر از در حالت اسکیل شده دست نیافتیم "
      ],
      "metadata": {
        "id": "Mw0ZL_TMnvEb"
      }
    },
    {
      "cell_type": "markdown",
      "source": [
        "# TASK 10\n",
        "\n",
        "combine classes"
      ],
      "metadata": {
        "id": "XHcgpOek9hEc"
      }
    },
    {
      "cell_type": "code",
      "source": [
        "combined_df = df.copy()\n",
        "combined_df['price_range'] = df['price_range'].replace([1,2,3],5)\n",
        "combined_df"
      ],
      "metadata": {
        "colab": {
          "base_uri": "https://localhost:8080/",
          "height": 488
        },
        "id": "c9Nir4V69ncI",
        "outputId": "c1fdb6f3-7d2c-4474-ecce-f258fb7d24c4"
      },
      "execution_count": 86,
      "outputs": [
        {
          "output_type": "execute_result",
          "data": {
            "text/plain": [
              "      battery_power  blue  clock_speed  dual_sim  fc  four_g  int_memory  \\\n",
              "0               842     0          2.2         0   1       0           7   \n",
              "1              1021     1          0.5         1   0       1          53   \n",
              "2               563     1          0.5         1   2       1          41   \n",
              "3               615     1          2.5         0   0       0          10   \n",
              "4              1821     1          1.2         0  13       1          44   \n",
              "...             ...   ...          ...       ...  ..     ...         ...   \n",
              "1995            794     1          0.5         1   0       1           2   \n",
              "1996           1965     1          2.6         1   0       0          39   \n",
              "1997           1911     0          0.9         1   1       1          36   \n",
              "1998           1512     0          0.9         0   4       1          46   \n",
              "1999            510     1          2.0         1   5       1          45   \n",
              "\n",
              "      m_dep  mobile_wt  n_cores  ...  px_height  px_width   ram  sc_h  sc_w  \\\n",
              "0       0.6        188        2  ...         20       756  2549     9     7   \n",
              "1       0.7        136        3  ...        905      1988  2631    17     3   \n",
              "2       0.9        145        5  ...       1263      1716  2603    11     2   \n",
              "3       0.8        131        6  ...       1216      1786  2769    16     8   \n",
              "4       0.6        141        2  ...       1208      1212  1411     8     2   \n",
              "...     ...        ...      ...  ...        ...       ...   ...   ...   ...   \n",
              "1995    0.8        106        6  ...       1222      1890   668    13     4   \n",
              "1996    0.2        187        4  ...        915      1965  2032    11    10   \n",
              "1997    0.7        108        8  ...        868      1632  3057     9     1   \n",
              "1998    0.1        145        5  ...        336       670   869    18    10   \n",
              "1999    0.9        168        6  ...        483       754  3919    19     4   \n",
              "\n",
              "      talk_time  three_g  touch_screen  wifi  price_range  \n",
              "0            19        0             0     1            5  \n",
              "1             7        1             1     0            5  \n",
              "2             9        1             1     0            5  \n",
              "3            11        1             0     0            5  \n",
              "4            15        1             1     0            5  \n",
              "...         ...      ...           ...   ...          ...  \n",
              "1995         19        1             1     0            0  \n",
              "1996         16        1             1     1            5  \n",
              "1997          5        1             1     0            5  \n",
              "1998         19        1             1     1            0  \n",
              "1999          2        1             1     1            5  \n",
              "\n",
              "[2000 rows x 21 columns]"
            ],
            "text/html": [
              "\n",
              "  <div id=\"df-712a1b3d-5b1d-4265-b2ad-b2c8699869ee\">\n",
              "    <div class=\"colab-df-container\">\n",
              "      <div>\n",
              "<style scoped>\n",
              "    .dataframe tbody tr th:only-of-type {\n",
              "        vertical-align: middle;\n",
              "    }\n",
              "\n",
              "    .dataframe tbody tr th {\n",
              "        vertical-align: top;\n",
              "    }\n",
              "\n",
              "    .dataframe thead th {\n",
              "        text-align: right;\n",
              "    }\n",
              "</style>\n",
              "<table border=\"1\" class=\"dataframe\">\n",
              "  <thead>\n",
              "    <tr style=\"text-align: right;\">\n",
              "      <th></th>\n",
              "      <th>battery_power</th>\n",
              "      <th>blue</th>\n",
              "      <th>clock_speed</th>\n",
              "      <th>dual_sim</th>\n",
              "      <th>fc</th>\n",
              "      <th>four_g</th>\n",
              "      <th>int_memory</th>\n",
              "      <th>m_dep</th>\n",
              "      <th>mobile_wt</th>\n",
              "      <th>n_cores</th>\n",
              "      <th>...</th>\n",
              "      <th>px_height</th>\n",
              "      <th>px_width</th>\n",
              "      <th>ram</th>\n",
              "      <th>sc_h</th>\n",
              "      <th>sc_w</th>\n",
              "      <th>talk_time</th>\n",
              "      <th>three_g</th>\n",
              "      <th>touch_screen</th>\n",
              "      <th>wifi</th>\n",
              "      <th>price_range</th>\n",
              "    </tr>\n",
              "  </thead>\n",
              "  <tbody>\n",
              "    <tr>\n",
              "      <th>0</th>\n",
              "      <td>842</td>\n",
              "      <td>0</td>\n",
              "      <td>2.2</td>\n",
              "      <td>0</td>\n",
              "      <td>1</td>\n",
              "      <td>0</td>\n",
              "      <td>7</td>\n",
              "      <td>0.6</td>\n",
              "      <td>188</td>\n",
              "      <td>2</td>\n",
              "      <td>...</td>\n",
              "      <td>20</td>\n",
              "      <td>756</td>\n",
              "      <td>2549</td>\n",
              "      <td>9</td>\n",
              "      <td>7</td>\n",
              "      <td>19</td>\n",
              "      <td>0</td>\n",
              "      <td>0</td>\n",
              "      <td>1</td>\n",
              "      <td>5</td>\n",
              "    </tr>\n",
              "    <tr>\n",
              "      <th>1</th>\n",
              "      <td>1021</td>\n",
              "      <td>1</td>\n",
              "      <td>0.5</td>\n",
              "      <td>1</td>\n",
              "      <td>0</td>\n",
              "      <td>1</td>\n",
              "      <td>53</td>\n",
              "      <td>0.7</td>\n",
              "      <td>136</td>\n",
              "      <td>3</td>\n",
              "      <td>...</td>\n",
              "      <td>905</td>\n",
              "      <td>1988</td>\n",
              "      <td>2631</td>\n",
              "      <td>17</td>\n",
              "      <td>3</td>\n",
              "      <td>7</td>\n",
              "      <td>1</td>\n",
              "      <td>1</td>\n",
              "      <td>0</td>\n",
              "      <td>5</td>\n",
              "    </tr>\n",
              "    <tr>\n",
              "      <th>2</th>\n",
              "      <td>563</td>\n",
              "      <td>1</td>\n",
              "      <td>0.5</td>\n",
              "      <td>1</td>\n",
              "      <td>2</td>\n",
              "      <td>1</td>\n",
              "      <td>41</td>\n",
              "      <td>0.9</td>\n",
              "      <td>145</td>\n",
              "      <td>5</td>\n",
              "      <td>...</td>\n",
              "      <td>1263</td>\n",
              "      <td>1716</td>\n",
              "      <td>2603</td>\n",
              "      <td>11</td>\n",
              "      <td>2</td>\n",
              "      <td>9</td>\n",
              "      <td>1</td>\n",
              "      <td>1</td>\n",
              "      <td>0</td>\n",
              "      <td>5</td>\n",
              "    </tr>\n",
              "    <tr>\n",
              "      <th>3</th>\n",
              "      <td>615</td>\n",
              "      <td>1</td>\n",
              "      <td>2.5</td>\n",
              "      <td>0</td>\n",
              "      <td>0</td>\n",
              "      <td>0</td>\n",
              "      <td>10</td>\n",
              "      <td>0.8</td>\n",
              "      <td>131</td>\n",
              "      <td>6</td>\n",
              "      <td>...</td>\n",
              "      <td>1216</td>\n",
              "      <td>1786</td>\n",
              "      <td>2769</td>\n",
              "      <td>16</td>\n",
              "      <td>8</td>\n",
              "      <td>11</td>\n",
              "      <td>1</td>\n",
              "      <td>0</td>\n",
              "      <td>0</td>\n",
              "      <td>5</td>\n",
              "    </tr>\n",
              "    <tr>\n",
              "      <th>4</th>\n",
              "      <td>1821</td>\n",
              "      <td>1</td>\n",
              "      <td>1.2</td>\n",
              "      <td>0</td>\n",
              "      <td>13</td>\n",
              "      <td>1</td>\n",
              "      <td>44</td>\n",
              "      <td>0.6</td>\n",
              "      <td>141</td>\n",
              "      <td>2</td>\n",
              "      <td>...</td>\n",
              "      <td>1208</td>\n",
              "      <td>1212</td>\n",
              "      <td>1411</td>\n",
              "      <td>8</td>\n",
              "      <td>2</td>\n",
              "      <td>15</td>\n",
              "      <td>1</td>\n",
              "      <td>1</td>\n",
              "      <td>0</td>\n",
              "      <td>5</td>\n",
              "    </tr>\n",
              "    <tr>\n",
              "      <th>...</th>\n",
              "      <td>...</td>\n",
              "      <td>...</td>\n",
              "      <td>...</td>\n",
              "      <td>...</td>\n",
              "      <td>...</td>\n",
              "      <td>...</td>\n",
              "      <td>...</td>\n",
              "      <td>...</td>\n",
              "      <td>...</td>\n",
              "      <td>...</td>\n",
              "      <td>...</td>\n",
              "      <td>...</td>\n",
              "      <td>...</td>\n",
              "      <td>...</td>\n",
              "      <td>...</td>\n",
              "      <td>...</td>\n",
              "      <td>...</td>\n",
              "      <td>...</td>\n",
              "      <td>...</td>\n",
              "      <td>...</td>\n",
              "      <td>...</td>\n",
              "    </tr>\n",
              "    <tr>\n",
              "      <th>1995</th>\n",
              "      <td>794</td>\n",
              "      <td>1</td>\n",
              "      <td>0.5</td>\n",
              "      <td>1</td>\n",
              "      <td>0</td>\n",
              "      <td>1</td>\n",
              "      <td>2</td>\n",
              "      <td>0.8</td>\n",
              "      <td>106</td>\n",
              "      <td>6</td>\n",
              "      <td>...</td>\n",
              "      <td>1222</td>\n",
              "      <td>1890</td>\n",
              "      <td>668</td>\n",
              "      <td>13</td>\n",
              "      <td>4</td>\n",
              "      <td>19</td>\n",
              "      <td>1</td>\n",
              "      <td>1</td>\n",
              "      <td>0</td>\n",
              "      <td>0</td>\n",
              "    </tr>\n",
              "    <tr>\n",
              "      <th>1996</th>\n",
              "      <td>1965</td>\n",
              "      <td>1</td>\n",
              "      <td>2.6</td>\n",
              "      <td>1</td>\n",
              "      <td>0</td>\n",
              "      <td>0</td>\n",
              "      <td>39</td>\n",
              "      <td>0.2</td>\n",
              "      <td>187</td>\n",
              "      <td>4</td>\n",
              "      <td>...</td>\n",
              "      <td>915</td>\n",
              "      <td>1965</td>\n",
              "      <td>2032</td>\n",
              "      <td>11</td>\n",
              "      <td>10</td>\n",
              "      <td>16</td>\n",
              "      <td>1</td>\n",
              "      <td>1</td>\n",
              "      <td>1</td>\n",
              "      <td>5</td>\n",
              "    </tr>\n",
              "    <tr>\n",
              "      <th>1997</th>\n",
              "      <td>1911</td>\n",
              "      <td>0</td>\n",
              "      <td>0.9</td>\n",
              "      <td>1</td>\n",
              "      <td>1</td>\n",
              "      <td>1</td>\n",
              "      <td>36</td>\n",
              "      <td>0.7</td>\n",
              "      <td>108</td>\n",
              "      <td>8</td>\n",
              "      <td>...</td>\n",
              "      <td>868</td>\n",
              "      <td>1632</td>\n",
              "      <td>3057</td>\n",
              "      <td>9</td>\n",
              "      <td>1</td>\n",
              "      <td>5</td>\n",
              "      <td>1</td>\n",
              "      <td>1</td>\n",
              "      <td>0</td>\n",
              "      <td>5</td>\n",
              "    </tr>\n",
              "    <tr>\n",
              "      <th>1998</th>\n",
              "      <td>1512</td>\n",
              "      <td>0</td>\n",
              "      <td>0.9</td>\n",
              "      <td>0</td>\n",
              "      <td>4</td>\n",
              "      <td>1</td>\n",
              "      <td>46</td>\n",
              "      <td>0.1</td>\n",
              "      <td>145</td>\n",
              "      <td>5</td>\n",
              "      <td>...</td>\n",
              "      <td>336</td>\n",
              "      <td>670</td>\n",
              "      <td>869</td>\n",
              "      <td>18</td>\n",
              "      <td>10</td>\n",
              "      <td>19</td>\n",
              "      <td>1</td>\n",
              "      <td>1</td>\n",
              "      <td>1</td>\n",
              "      <td>0</td>\n",
              "    </tr>\n",
              "    <tr>\n",
              "      <th>1999</th>\n",
              "      <td>510</td>\n",
              "      <td>1</td>\n",
              "      <td>2.0</td>\n",
              "      <td>1</td>\n",
              "      <td>5</td>\n",
              "      <td>1</td>\n",
              "      <td>45</td>\n",
              "      <td>0.9</td>\n",
              "      <td>168</td>\n",
              "      <td>6</td>\n",
              "      <td>...</td>\n",
              "      <td>483</td>\n",
              "      <td>754</td>\n",
              "      <td>3919</td>\n",
              "      <td>19</td>\n",
              "      <td>4</td>\n",
              "      <td>2</td>\n",
              "      <td>1</td>\n",
              "      <td>1</td>\n",
              "      <td>1</td>\n",
              "      <td>5</td>\n",
              "    </tr>\n",
              "  </tbody>\n",
              "</table>\n",
              "<p>2000 rows × 21 columns</p>\n",
              "</div>\n",
              "      <button class=\"colab-df-convert\" onclick=\"convertToInteractive('df-712a1b3d-5b1d-4265-b2ad-b2c8699869ee')\"\n",
              "              title=\"Convert this dataframe to an interactive table.\"\n",
              "              style=\"display:none;\">\n",
              "        \n",
              "  <svg xmlns=\"http://www.w3.org/2000/svg\" height=\"24px\"viewBox=\"0 0 24 24\"\n",
              "       width=\"24px\">\n",
              "    <path d=\"M0 0h24v24H0V0z\" fill=\"none\"/>\n",
              "    <path d=\"M18.56 5.44l.94 2.06.94-2.06 2.06-.94-2.06-.94-.94-2.06-.94 2.06-2.06.94zm-11 1L8.5 8.5l.94-2.06 2.06-.94-2.06-.94L8.5 2.5l-.94 2.06-2.06.94zm10 10l.94 2.06.94-2.06 2.06-.94-2.06-.94-.94-2.06-.94 2.06-2.06.94z\"/><path d=\"M17.41 7.96l-1.37-1.37c-.4-.4-.92-.59-1.43-.59-.52 0-1.04.2-1.43.59L10.3 9.45l-7.72 7.72c-.78.78-.78 2.05 0 2.83L4 21.41c.39.39.9.59 1.41.59.51 0 1.02-.2 1.41-.59l7.78-7.78 2.81-2.81c.8-.78.8-2.07 0-2.86zM5.41 20L4 18.59l7.72-7.72 1.47 1.35L5.41 20z\"/>\n",
              "  </svg>\n",
              "      </button>\n",
              "      \n",
              "  <style>\n",
              "    .colab-df-container {\n",
              "      display:flex;\n",
              "      flex-wrap:wrap;\n",
              "      gap: 12px;\n",
              "    }\n",
              "\n",
              "    .colab-df-convert {\n",
              "      background-color: #E8F0FE;\n",
              "      border: none;\n",
              "      border-radius: 50%;\n",
              "      cursor: pointer;\n",
              "      display: none;\n",
              "      fill: #1967D2;\n",
              "      height: 32px;\n",
              "      padding: 0 0 0 0;\n",
              "      width: 32px;\n",
              "    }\n",
              "\n",
              "    .colab-df-convert:hover {\n",
              "      background-color: #E2EBFA;\n",
              "      box-shadow: 0px 1px 2px rgba(60, 64, 67, 0.3), 0px 1px 3px 1px rgba(60, 64, 67, 0.15);\n",
              "      fill: #174EA6;\n",
              "    }\n",
              "\n",
              "    [theme=dark] .colab-df-convert {\n",
              "      background-color: #3B4455;\n",
              "      fill: #D2E3FC;\n",
              "    }\n",
              "\n",
              "    [theme=dark] .colab-df-convert:hover {\n",
              "      background-color: #434B5C;\n",
              "      box-shadow: 0px 1px 3px 1px rgba(0, 0, 0, 0.15);\n",
              "      filter: drop-shadow(0px 1px 2px rgba(0, 0, 0, 0.3));\n",
              "      fill: #FFFFFF;\n",
              "    }\n",
              "  </style>\n",
              "\n",
              "      <script>\n",
              "        const buttonEl =\n",
              "          document.querySelector('#df-712a1b3d-5b1d-4265-b2ad-b2c8699869ee button.colab-df-convert');\n",
              "        buttonEl.style.display =\n",
              "          google.colab.kernel.accessAllowed ? 'block' : 'none';\n",
              "\n",
              "        async function convertToInteractive(key) {\n",
              "          const element = document.querySelector('#df-712a1b3d-5b1d-4265-b2ad-b2c8699869ee');\n",
              "          const dataTable =\n",
              "            await google.colab.kernel.invokeFunction('convertToInteractive',\n",
              "                                                     [key], {});\n",
              "          if (!dataTable) return;\n",
              "\n",
              "          const docLinkHtml = 'Like what you see? Visit the ' +\n",
              "            '<a target=\"_blank\" href=https://colab.research.google.com/notebooks/data_table.ipynb>data table notebook</a>'\n",
              "            + ' to learn more about interactive tables.';\n",
              "          element.innerHTML = '';\n",
              "          dataTable['output_type'] = 'display_data';\n",
              "          await google.colab.output.renderOutput(dataTable, element);\n",
              "          const docLink = document.createElement('div');\n",
              "          docLink.innerHTML = docLinkHtml;\n",
              "          element.appendChild(docLink);\n",
              "        }\n",
              "      </script>\n",
              "    </div>\n",
              "  </div>\n",
              "  "
            ]
          },
          "metadata": {},
          "execution_count": 86
        }
      ]
    },
    {
      "cell_type": "code",
      "source": [
        "com_X=combined_df.drop(['price_range'], axis=1)\n",
        "com_y=combined_df['price_range']\n",
        "cX_train,cX_test,cy_train,cy_test=train_test_split(com_X,com_y,test_size=0.2,random_state=50,stratify=y)\n",
        "cX_train"
      ],
      "metadata": {
        "colab": {
          "base_uri": "https://localhost:8080/",
          "height": 488
        },
        "id": "-hhw3SFN90pT",
        "outputId": "aa18bb5c-8477-49d9-dde0-46450644f92d"
      },
      "execution_count": 87,
      "outputs": [
        {
          "output_type": "execute_result",
          "data": {
            "text/plain": [
              "      battery_power  blue  clock_speed  dual_sim  fc  four_g  int_memory  \\\n",
              "132             645     0          0.5         0   1       0          41   \n",
              "1020           1119     0          0.5         1   0       1          23   \n",
              "868             981     1          1.9         1   0       0           2   \n",
              "1640           1269     1          2.8         1  16       0          41   \n",
              "263             767     0          1.5         0   4       0          28   \n",
              "...             ...   ...          ...       ...  ..     ...         ...   \n",
              "651            1762     1          2.5         0  10       1          15   \n",
              "619             598     0          2.3         1   7       0          21   \n",
              "276            1662     0          0.5         0   0       1          61   \n",
              "788            1501     0          1.1         0  12       1           2   \n",
              "336             580     1          1.2         1   0       0          47   \n",
              "\n",
              "      m_dep  mobile_wt  n_cores  pc  px_height  px_width   ram  sc_h  sc_w  \\\n",
              "132     1.0        197        7  10        327       580  2962    12     9   \n",
              "1020    0.4        164        4   1        821       915  3520     7     4   \n",
              "868     0.1        136        3   7         75       688  1539    19    12   \n",
              "1640    1.0        180        8  17        406      1036  2341    10     9   \n",
              "263     0.7        175        4  10        344      1517   527    10     0   \n",
              "...     ...        ...      ...  ..        ...       ...   ...   ...   ...   \n",
              "651     0.3        107        8  11       1103      1364  2183     8     3   \n",
              "619     0.7        196        2  10        680      1173  3293     8     4   \n",
              "276     0.8        126        4  13         32      1509  3760     9     5   \n",
              "788     0.2        187        1  15        198      1056  2487    13    12   \n",
              "336     0.9         91        3   1       1086      1345  3451    15     1   \n",
              "\n",
              "      talk_time  three_g  touch_screen  wifi  \n",
              "132           4        1             1     1  \n",
              "1020          7        1             0     0  \n",
              "868          19        0             0     0  \n",
              "1640         16        0             0     1  \n",
              "263          15        0             1     0  \n",
              "...         ...      ...           ...   ...  \n",
              "651          11        1             1     0  \n",
              "619           7        1             0     1  \n",
              "276          13        1             1     1  \n",
              "788          16        1             1     1  \n",
              "336          11        1             1     0  \n",
              "\n",
              "[1600 rows x 20 columns]"
            ],
            "text/html": [
              "\n",
              "  <div id=\"df-c60d5719-b1a9-4602-aa37-753a04d2f7ac\">\n",
              "    <div class=\"colab-df-container\">\n",
              "      <div>\n",
              "<style scoped>\n",
              "    .dataframe tbody tr th:only-of-type {\n",
              "        vertical-align: middle;\n",
              "    }\n",
              "\n",
              "    .dataframe tbody tr th {\n",
              "        vertical-align: top;\n",
              "    }\n",
              "\n",
              "    .dataframe thead th {\n",
              "        text-align: right;\n",
              "    }\n",
              "</style>\n",
              "<table border=\"1\" class=\"dataframe\">\n",
              "  <thead>\n",
              "    <tr style=\"text-align: right;\">\n",
              "      <th></th>\n",
              "      <th>battery_power</th>\n",
              "      <th>blue</th>\n",
              "      <th>clock_speed</th>\n",
              "      <th>dual_sim</th>\n",
              "      <th>fc</th>\n",
              "      <th>four_g</th>\n",
              "      <th>int_memory</th>\n",
              "      <th>m_dep</th>\n",
              "      <th>mobile_wt</th>\n",
              "      <th>n_cores</th>\n",
              "      <th>pc</th>\n",
              "      <th>px_height</th>\n",
              "      <th>px_width</th>\n",
              "      <th>ram</th>\n",
              "      <th>sc_h</th>\n",
              "      <th>sc_w</th>\n",
              "      <th>talk_time</th>\n",
              "      <th>three_g</th>\n",
              "      <th>touch_screen</th>\n",
              "      <th>wifi</th>\n",
              "    </tr>\n",
              "  </thead>\n",
              "  <tbody>\n",
              "    <tr>\n",
              "      <th>132</th>\n",
              "      <td>645</td>\n",
              "      <td>0</td>\n",
              "      <td>0.5</td>\n",
              "      <td>0</td>\n",
              "      <td>1</td>\n",
              "      <td>0</td>\n",
              "      <td>41</td>\n",
              "      <td>1.0</td>\n",
              "      <td>197</td>\n",
              "      <td>7</td>\n",
              "      <td>10</td>\n",
              "      <td>327</td>\n",
              "      <td>580</td>\n",
              "      <td>2962</td>\n",
              "      <td>12</td>\n",
              "      <td>9</td>\n",
              "      <td>4</td>\n",
              "      <td>1</td>\n",
              "      <td>1</td>\n",
              "      <td>1</td>\n",
              "    </tr>\n",
              "    <tr>\n",
              "      <th>1020</th>\n",
              "      <td>1119</td>\n",
              "      <td>0</td>\n",
              "      <td>0.5</td>\n",
              "      <td>1</td>\n",
              "      <td>0</td>\n",
              "      <td>1</td>\n",
              "      <td>23</td>\n",
              "      <td>0.4</td>\n",
              "      <td>164</td>\n",
              "      <td>4</td>\n",
              "      <td>1</td>\n",
              "      <td>821</td>\n",
              "      <td>915</td>\n",
              "      <td>3520</td>\n",
              "      <td>7</td>\n",
              "      <td>4</td>\n",
              "      <td>7</td>\n",
              "      <td>1</td>\n",
              "      <td>0</td>\n",
              "      <td>0</td>\n",
              "    </tr>\n",
              "    <tr>\n",
              "      <th>868</th>\n",
              "      <td>981</td>\n",
              "      <td>1</td>\n",
              "      <td>1.9</td>\n",
              "      <td>1</td>\n",
              "      <td>0</td>\n",
              "      <td>0</td>\n",
              "      <td>2</td>\n",
              "      <td>0.1</td>\n",
              "      <td>136</td>\n",
              "      <td>3</td>\n",
              "      <td>7</td>\n",
              "      <td>75</td>\n",
              "      <td>688</td>\n",
              "      <td>1539</td>\n",
              "      <td>19</td>\n",
              "      <td>12</td>\n",
              "      <td>19</td>\n",
              "      <td>0</td>\n",
              "      <td>0</td>\n",
              "      <td>0</td>\n",
              "    </tr>\n",
              "    <tr>\n",
              "      <th>1640</th>\n",
              "      <td>1269</td>\n",
              "      <td>1</td>\n",
              "      <td>2.8</td>\n",
              "      <td>1</td>\n",
              "      <td>16</td>\n",
              "      <td>0</td>\n",
              "      <td>41</td>\n",
              "      <td>1.0</td>\n",
              "      <td>180</td>\n",
              "      <td>8</td>\n",
              "      <td>17</td>\n",
              "      <td>406</td>\n",
              "      <td>1036</td>\n",
              "      <td>2341</td>\n",
              "      <td>10</td>\n",
              "      <td>9</td>\n",
              "      <td>16</td>\n",
              "      <td>0</td>\n",
              "      <td>0</td>\n",
              "      <td>1</td>\n",
              "    </tr>\n",
              "    <tr>\n",
              "      <th>263</th>\n",
              "      <td>767</td>\n",
              "      <td>0</td>\n",
              "      <td>1.5</td>\n",
              "      <td>0</td>\n",
              "      <td>4</td>\n",
              "      <td>0</td>\n",
              "      <td>28</td>\n",
              "      <td>0.7</td>\n",
              "      <td>175</td>\n",
              "      <td>4</td>\n",
              "      <td>10</td>\n",
              "      <td>344</td>\n",
              "      <td>1517</td>\n",
              "      <td>527</td>\n",
              "      <td>10</td>\n",
              "      <td>0</td>\n",
              "      <td>15</td>\n",
              "      <td>0</td>\n",
              "      <td>1</td>\n",
              "      <td>0</td>\n",
              "    </tr>\n",
              "    <tr>\n",
              "      <th>...</th>\n",
              "      <td>...</td>\n",
              "      <td>...</td>\n",
              "      <td>...</td>\n",
              "      <td>...</td>\n",
              "      <td>...</td>\n",
              "      <td>...</td>\n",
              "      <td>...</td>\n",
              "      <td>...</td>\n",
              "      <td>...</td>\n",
              "      <td>...</td>\n",
              "      <td>...</td>\n",
              "      <td>...</td>\n",
              "      <td>...</td>\n",
              "      <td>...</td>\n",
              "      <td>...</td>\n",
              "      <td>...</td>\n",
              "      <td>...</td>\n",
              "      <td>...</td>\n",
              "      <td>...</td>\n",
              "      <td>...</td>\n",
              "    </tr>\n",
              "    <tr>\n",
              "      <th>651</th>\n",
              "      <td>1762</td>\n",
              "      <td>1</td>\n",
              "      <td>2.5</td>\n",
              "      <td>0</td>\n",
              "      <td>10</td>\n",
              "      <td>1</td>\n",
              "      <td>15</td>\n",
              "      <td>0.3</td>\n",
              "      <td>107</td>\n",
              "      <td>8</td>\n",
              "      <td>11</td>\n",
              "      <td>1103</td>\n",
              "      <td>1364</td>\n",
              "      <td>2183</td>\n",
              "      <td>8</td>\n",
              "      <td>3</td>\n",
              "      <td>11</td>\n",
              "      <td>1</td>\n",
              "      <td>1</td>\n",
              "      <td>0</td>\n",
              "    </tr>\n",
              "    <tr>\n",
              "      <th>619</th>\n",
              "      <td>598</td>\n",
              "      <td>0</td>\n",
              "      <td>2.3</td>\n",
              "      <td>1</td>\n",
              "      <td>7</td>\n",
              "      <td>0</td>\n",
              "      <td>21</td>\n",
              "      <td>0.7</td>\n",
              "      <td>196</td>\n",
              "      <td>2</td>\n",
              "      <td>10</td>\n",
              "      <td>680</td>\n",
              "      <td>1173</td>\n",
              "      <td>3293</td>\n",
              "      <td>8</td>\n",
              "      <td>4</td>\n",
              "      <td>7</td>\n",
              "      <td>1</td>\n",
              "      <td>0</td>\n",
              "      <td>1</td>\n",
              "    </tr>\n",
              "    <tr>\n",
              "      <th>276</th>\n",
              "      <td>1662</td>\n",
              "      <td>0</td>\n",
              "      <td>0.5</td>\n",
              "      <td>0</td>\n",
              "      <td>0</td>\n",
              "      <td>1</td>\n",
              "      <td>61</td>\n",
              "      <td>0.8</td>\n",
              "      <td>126</td>\n",
              "      <td>4</td>\n",
              "      <td>13</td>\n",
              "      <td>32</td>\n",
              "      <td>1509</td>\n",
              "      <td>3760</td>\n",
              "      <td>9</td>\n",
              "      <td>5</td>\n",
              "      <td>13</td>\n",
              "      <td>1</td>\n",
              "      <td>1</td>\n",
              "      <td>1</td>\n",
              "    </tr>\n",
              "    <tr>\n",
              "      <th>788</th>\n",
              "      <td>1501</td>\n",
              "      <td>0</td>\n",
              "      <td>1.1</td>\n",
              "      <td>0</td>\n",
              "      <td>12</td>\n",
              "      <td>1</td>\n",
              "      <td>2</td>\n",
              "      <td>0.2</td>\n",
              "      <td>187</td>\n",
              "      <td>1</td>\n",
              "      <td>15</td>\n",
              "      <td>198</td>\n",
              "      <td>1056</td>\n",
              "      <td>2487</td>\n",
              "      <td>13</td>\n",
              "      <td>12</td>\n",
              "      <td>16</td>\n",
              "      <td>1</td>\n",
              "      <td>1</td>\n",
              "      <td>1</td>\n",
              "    </tr>\n",
              "    <tr>\n",
              "      <th>336</th>\n",
              "      <td>580</td>\n",
              "      <td>1</td>\n",
              "      <td>1.2</td>\n",
              "      <td>1</td>\n",
              "      <td>0</td>\n",
              "      <td>0</td>\n",
              "      <td>47</td>\n",
              "      <td>0.9</td>\n",
              "      <td>91</td>\n",
              "      <td>3</td>\n",
              "      <td>1</td>\n",
              "      <td>1086</td>\n",
              "      <td>1345</td>\n",
              "      <td>3451</td>\n",
              "      <td>15</td>\n",
              "      <td>1</td>\n",
              "      <td>11</td>\n",
              "      <td>1</td>\n",
              "      <td>1</td>\n",
              "      <td>0</td>\n",
              "    </tr>\n",
              "  </tbody>\n",
              "</table>\n",
              "<p>1600 rows × 20 columns</p>\n",
              "</div>\n",
              "      <button class=\"colab-df-convert\" onclick=\"convertToInteractive('df-c60d5719-b1a9-4602-aa37-753a04d2f7ac')\"\n",
              "              title=\"Convert this dataframe to an interactive table.\"\n",
              "              style=\"display:none;\">\n",
              "        \n",
              "  <svg xmlns=\"http://www.w3.org/2000/svg\" height=\"24px\"viewBox=\"0 0 24 24\"\n",
              "       width=\"24px\">\n",
              "    <path d=\"M0 0h24v24H0V0z\" fill=\"none\"/>\n",
              "    <path d=\"M18.56 5.44l.94 2.06.94-2.06 2.06-.94-2.06-.94-.94-2.06-.94 2.06-2.06.94zm-11 1L8.5 8.5l.94-2.06 2.06-.94-2.06-.94L8.5 2.5l-.94 2.06-2.06.94zm10 10l.94 2.06.94-2.06 2.06-.94-2.06-.94-.94-2.06-.94 2.06-2.06.94z\"/><path d=\"M17.41 7.96l-1.37-1.37c-.4-.4-.92-.59-1.43-.59-.52 0-1.04.2-1.43.59L10.3 9.45l-7.72 7.72c-.78.78-.78 2.05 0 2.83L4 21.41c.39.39.9.59 1.41.59.51 0 1.02-.2 1.41-.59l7.78-7.78 2.81-2.81c.8-.78.8-2.07 0-2.86zM5.41 20L4 18.59l7.72-7.72 1.47 1.35L5.41 20z\"/>\n",
              "  </svg>\n",
              "      </button>\n",
              "      \n",
              "  <style>\n",
              "    .colab-df-container {\n",
              "      display:flex;\n",
              "      flex-wrap:wrap;\n",
              "      gap: 12px;\n",
              "    }\n",
              "\n",
              "    .colab-df-convert {\n",
              "      background-color: #E8F0FE;\n",
              "      border: none;\n",
              "      border-radius: 50%;\n",
              "      cursor: pointer;\n",
              "      display: none;\n",
              "      fill: #1967D2;\n",
              "      height: 32px;\n",
              "      padding: 0 0 0 0;\n",
              "      width: 32px;\n",
              "    }\n",
              "\n",
              "    .colab-df-convert:hover {\n",
              "      background-color: #E2EBFA;\n",
              "      box-shadow: 0px 1px 2px rgba(60, 64, 67, 0.3), 0px 1px 3px 1px rgba(60, 64, 67, 0.15);\n",
              "      fill: #174EA6;\n",
              "    }\n",
              "\n",
              "    [theme=dark] .colab-df-convert {\n",
              "      background-color: #3B4455;\n",
              "      fill: #D2E3FC;\n",
              "    }\n",
              "\n",
              "    [theme=dark] .colab-df-convert:hover {\n",
              "      background-color: #434B5C;\n",
              "      box-shadow: 0px 1px 3px 1px rgba(0, 0, 0, 0.15);\n",
              "      filter: drop-shadow(0px 1px 2px rgba(0, 0, 0, 0.3));\n",
              "      fill: #FFFFFF;\n",
              "    }\n",
              "  </style>\n",
              "\n",
              "      <script>\n",
              "        const buttonEl =\n",
              "          document.querySelector('#df-c60d5719-b1a9-4602-aa37-753a04d2f7ac button.colab-df-convert');\n",
              "        buttonEl.style.display =\n",
              "          google.colab.kernel.accessAllowed ? 'block' : 'none';\n",
              "\n",
              "        async function convertToInteractive(key) {\n",
              "          const element = document.querySelector('#df-c60d5719-b1a9-4602-aa37-753a04d2f7ac');\n",
              "          const dataTable =\n",
              "            await google.colab.kernel.invokeFunction('convertToInteractive',\n",
              "                                                     [key], {});\n",
              "          if (!dataTable) return;\n",
              "\n",
              "          const docLinkHtml = 'Like what you see? Visit the ' +\n",
              "            '<a target=\"_blank\" href=https://colab.research.google.com/notebooks/data_table.ipynb>data table notebook</a>'\n",
              "            + ' to learn more about interactive tables.';\n",
              "          element.innerHTML = '';\n",
              "          dataTable['output_type'] = 'display_data';\n",
              "          await google.colab.output.renderOutput(dataTable, element);\n",
              "          const docLink = document.createElement('div');\n",
              "          docLink.innerHTML = docLinkHtml;\n",
              "          element.appendChild(docLink);\n",
              "        }\n",
              "      </script>\n",
              "    </div>\n",
              "  </div>\n",
              "  "
            ]
          },
          "metadata": {},
          "execution_count": 87
        }
      ]
    },
    {
      "cell_type": "code",
      "source": [
        "LR_modelll.fit(cX_train,cy_train)\n",
        "cy_pred = LR_modelll.predict(cX_test)\n",
        "\n",
        "confusion_m = confusion_matrix(cy_test, cy_pred)\n",
        "sns.heatmap(confusion_m,annot=True,cmap=\"RdYlGn\")\n",
        "print(\"Accuracy:\",accuracy_score(cy_test, cy_pred))"
      ],
      "metadata": {
        "colab": {
          "base_uri": "https://localhost:8080/",
          "height": 448
        },
        "id": "k1AB_fJxBS1B",
        "outputId": "4aab510c-8d5b-4954-b923-ab1154069434"
      },
      "execution_count": 88,
      "outputs": [
        {
          "output_type": "stream",
          "name": "stderr",
          "text": [
            "/usr/local/lib/python3.7/dist-packages/sklearn/linear_model/_logistic.py:818: ConvergenceWarning: lbfgs failed to converge (status=1):\n",
            "STOP: TOTAL NO. of ITERATIONS REACHED LIMIT.\n",
            "\n",
            "Increase the number of iterations (max_iter) or scale the data as shown in:\n",
            "    https://scikit-learn.org/stable/modules/preprocessing.html\n",
            "Please also refer to the documentation for alternative solver options:\n",
            "    https://scikit-learn.org/stable/modules/linear_model.html#logistic-regression\n",
            "  extra_warning_msg=_LOGISTIC_SOLVER_CONVERGENCE_MSG,\n"
          ]
        },
        {
          "output_type": "stream",
          "name": "stdout",
          "text": [
            "Accuracy: 0.9525\n"
          ]
        },
        {
          "output_type": "display_data",
          "data": {
            "text/plain": [
              "<Figure size 432x288 with 2 Axes>"
            ],
            "image/png": "[encoded data removed]"
          },
          "metadata": {}
        }
      ]
    },
    {
      "cell_type": "code",
      "source": [
        "NB_model.fit(cX_train,cy_train)\n",
        "cy_pred = NB_model.predict(cX_test)\n",
        "\n",
        "confusion_m = confusion_matrix(cy_test, cy_pred)\n",
        "sns.heatmap(confusion_m,annot=True,cmap=\"RdYlGn\")\n",
        "print (\"Accuracy of Naive Bayes Classifier is: \", accuracy_score(cy_test,cy_pred)) "
      ],
      "metadata": {
        "colab": {
          "base_uri": "https://localhost:8080/",
          "height": 286
        },
        "id": "1pTD_UHWBlnp",
        "outputId": "48dd17da-f48a-478e-d007-4fa39dd399b3"
      },
      "execution_count": 89,
      "outputs": [
        {
          "output_type": "stream",
          "name": "stdout",
          "text": [
            "Accuracy of Naive Bayes Classifier is:  0.9575\n"
          ]
        },
        {
          "output_type": "display_data",
          "data": {
            "text/plain": [
              "<Figure size 432x288 with 2 Axes>"
            ],
            "image/png": "[encoded data removed]"
          },
          "metadata": {}
        }
      ]
    },
    {
      "cell_type": "code",
      "source": [
        "from collections import Counter\n",
        "from imblearn.over_sampling import SMOTE\n",
        "from imblearn.pipeline import make_pipeline\n",
        "from imblearn.under_sampling import RandomUnderSampler\n",
        "\n",
        "print(Counter(com_y))\n",
        "\n",
        "sampler = make_pipeline( RandomUnderSampler(random_state=0, sampling_strategy={0: 100}), SMOTE(random_state=0))\n",
        "X_resampled, y_resampled = sampler.fit_resample(com_X, com_y)\n",
        "print(Counter(y_resampled))\n",
        "print(Counter(X_resampled))\n",
        "print(y_resampled.shape)\n",
        "print(X_resampled.shape)"
      ],
      "metadata": {
        "colab": {
          "base_uri": "https://localhost:8080/"
        },
        "id": "cW9vhlqGNmMW",
        "outputId": "f4bfa356-5f64-4396-9158-6334b58eb920"
      },
      "execution_count": 90,
      "outputs": [
        {
          "output_type": "stream",
          "name": "stdout",
          "text": [
            "Counter({5: 1500, 0: 500})\n",
            "Counter({0: 1500, 5: 1500})\n",
            "Counter({'battery_power': 1, 'blue': 1, 'clock_speed': 1, 'dual_sim': 1, 'fc': 1, 'four_g': 1, 'int_memory': 1, 'm_dep': 1, 'mobile_wt': 1, 'n_cores': 1, 'pc': 1, 'px_height': 1, 'px_width': 1, 'ram': 1, 'sc_h': 1, 'sc_w': 1, 'talk_time': 1, 'three_g': 1, 'touch_screen': 1, 'wifi': 1})\n",
            "(3000,)\n",
            "(3000, 20)\n"
          ]
        }
      ]
    },
    {
      "cell_type": "code",
      "source": [
        "Xr_train,Xr_test,yr_train,yr_test=train_test_split(X_resampled,y_resampled,test_size=0.2,random_state=50,stratify=y_resampled)"
      ],
      "metadata": {
        "id": "rNM7RUy9ceAu"
      },
      "execution_count": 91,
      "outputs": []
    },
    {
      "cell_type": "code",
      "source": [
        "LR_modelll.fit(Xr_train,yr_train)\n",
        "yr_pred = LR_modelll.predict(Xr_test)\n",
        "\n",
        "confusion_m = confusion_matrix(yr_test, yr_pred)\n",
        "sns.heatmap(confusion_m,annot=True,cmap=\"RdYlGn\")\n",
        "print(\"Accuracy:\",accuracy_score(yr_test, yr_pred))"
      ],
      "metadata": {
        "id": "BlT2NFkBQwSn",
        "colab": {
          "base_uri": "https://localhost:8080/",
          "height": 448
        },
        "outputId": "2b09b0e1-cc59-4d01-ad18-ae3b9c7ffc19"
      },
      "execution_count": 92,
      "outputs": [
        {
          "output_type": "stream",
          "name": "stderr",
          "text": [
            "/usr/local/lib/python3.7/dist-packages/sklearn/linear_model/_logistic.py:818: ConvergenceWarning: lbfgs failed to converge (status=1):\n",
            "STOP: TOTAL NO. of ITERATIONS REACHED LIMIT.\n",
            "\n",
            "Increase the number of iterations (max_iter) or scale the data as shown in:\n",
            "    https://scikit-learn.org/stable/modules/preprocessing.html\n",
            "Please also refer to the documentation for alternative solver options:\n",
            "    https://scikit-learn.org/stable/modules/linear_model.html#logistic-regression\n",
            "  extra_warning_msg=_LOGISTIC_SOLVER_CONVERGENCE_MSG,\n"
          ]
        },
        {
          "output_type": "stream",
          "name": "stdout",
          "text": [
            "Accuracy: 0.9633333333333334\n"
          ]
        },
        {
          "output_type": "display_data",
          "data": {
            "text/plain": [
              "<Figure size 432x288 with 2 Axes>"
            ],
            "image/png": "[encoded data removed]"
          },
          "metadata": {}
        }
      ]
    },
    {
      "cell_type": "code",
      "source": [
        "NB_model.fit(Xr_train,yr_train)\n",
        "yr_pred = NB_model.predict(Xr_test)\n",
        "\n",
        "confusion_m = confusion_matrix(yr_test, yr_pred)\n",
        "sns.heatmap(confusion_m,annot=True,cmap=\"RdYlGn\")\n",
        "print (\"Accuracy of Naive Bayes Classifier is: \", accuracy_score(yr_test,yr_pred)) "
      ],
      "metadata": {
        "id": "Y62n8YG2dKQ2",
        "colab": {
          "base_uri": "https://localhost:8080/",
          "height": 286
        },
        "outputId": "79ecd9a1-c35a-46cd-9a6f-7b942d28eaf1"
      },
      "execution_count": 93,
      "outputs": [
        {
          "output_type": "stream",
          "name": "stdout",
          "text": [
            "Accuracy of Naive Bayes Classifier is:  0.9616666666666667\n"
          ]
        },
        {
          "output_type": "display_data",
          "data": {
            "text/plain": [
              "<Figure size 432x288 with 2 Axes>"
            ],
            "image/png": "[encoded data removed]"
          },
          "metadata": {}
        }
      ]
    },
    {
      "cell_type": "markdown",
      "source": [
        "# extra"
      ],
      "metadata": {
        "id": "ViljLMqzlHyZ"
      }
    },
    {
      "cell_type": "code",
      "source": [
        "!python -m pip install \"dask[complete]\""
      ],
      "metadata": {
        "colab": {
          "base_uri": "https://localhost:8080/"
        },
        "id": "XWEzSrt6lNhF",
        "outputId": "1f96ed95-a5a6-41db-fc79-e9dab4be2b38"
      },
      "execution_count": 94,
      "outputs": [
        {
          "output_type": "stream",
          "name": "stdout",
          "text": [
            "Requirement already satisfied: dask[complete] in /usr/local/lib/python3.7/dist-packages (2.12.0)\n",
            "Requirement already satisfied: cloudpickle>=0.2.1 in /usr/local/lib/python3.7/dist-packages (from dask[complete]) (1.3.0)\n",
            "Collecting distributed>=2.0\n",
            "  Downloading distributed-2022.2.0-py3-none-any.whl (837 kB)\n",
            "\u001b[K     |████████████████████████████████| 837 kB 5.4 MB/s \n",
            "\u001b[?25hRequirement already satisfied: PyYaml in /usr/local/lib/python3.7/dist-packages (from dask[complete]) (3.13)\n",
            "Requirement already satisfied: toolz>=0.7.3 in /usr/local/lib/python3.7/dist-packages (from dask[complete]) (0.11.2)\n",
            "Requirement already satisfied: numpy>=1.13.0 in /usr/local/lib/python3.7/dist-packages (from dask[complete]) (1.21.5)\n",
            "Collecting partd>=0.3.10\n",
            "  Downloading partd-1.2.0-py3-none-any.whl (19 kB)\n",
            "Collecting fsspec>=0.6.0\n",
            "  Downloading fsspec-2022.3.0-py3-none-any.whl (136 kB)\n",
            "\u001b[K     |████████████████████████████████| 136 kB 33.0 MB/s \n",
            "\u001b[?25hRequirement already satisfied: pandas>=0.23.0 in /usr/local/lib/python3.7/dist-packages (from dask[complete]) (1.3.5)\n",
            "Requirement already satisfied: bokeh>=1.0.0 in /usr/local/lib/python3.7/dist-packages (from dask[complete]) (2.3.3)\n",
            "Requirement already satisfied: Jinja2>=2.9 in /usr/local/lib/python3.7/dist-packages (from bokeh>=1.0.0->dask[complete]) (2.11.3)\n",
            "Requirement already satisfied: tornado>=5.1 in /usr/local/lib/python3.7/dist-packages (from bokeh>=1.0.0->dask[complete]) (5.1.1)\n",
            "Requirement already satisfied: python-dateutil>=2.1 in /usr/local/lib/python3.7/dist-packages (from bokeh>=1.0.0->dask[complete]) (2.8.2)\n",
            "Requirement already satisfied: typing-extensions>=3.7.4 in /usr/local/lib/python3.7/dist-packages (from bokeh>=1.0.0->dask[complete]) (3.10.0.2)\n",
            "Requirement already satisfied: pillow>=7.1.0 in /usr/local/lib/python3.7/dist-packages (from bokeh>=1.0.0->dask[complete]) (7.1.2)\n",
            "Requirement already satisfied: packaging>=16.8 in /usr/local/lib/python3.7/dist-packages (from bokeh>=1.0.0->dask[complete]) (21.3)\n",
            "Requirement already satisfied: click>=6.6 in /usr/local/lib/python3.7/dist-packages (from distributed>=2.0->dask[complete]) (7.1.2)\n",
            "Requirement already satisfied: msgpack>=0.6.0 in /usr/local/lib/python3.7/dist-packages (from distributed>=2.0->dask[complete]) (1.0.3)\n",
            "Requirement already satisfied: psutil>=5.0 in /usr/local/lib/python3.7/dist-packages (from distributed>=2.0->dask[complete]) (5.4.8)\n",
            "Requirement already satisfied: zict>=0.1.3 in /usr/local/lib/python3.7/dist-packages (from distributed>=2.0->dask[complete]) (2.1.0)\n",
            "Requirement already satisfied: setuptools in /usr/local/lib/python3.7/dist-packages (from distributed>=2.0->dask[complete]) (57.4.0)\n",
            "Collecting distributed>=2.0\n",
            "  Downloading distributed-2022.1.1-py3-none-any.whl (830 kB)\n",
            "\u001b[K     |████████████████████████████████| 830 kB 36.9 MB/s \n",
            "\u001b[?25hRequirement already satisfied: sortedcontainers!=2.0.0,!=2.0.1 in /usr/local/lib/python3.7/dist-packages (from distributed>=2.0->dask[complete]) (2.4.0)\n",
            "  Downloading distributed-2022.1.0-py3-none-any.whl (822 kB)\n",
            "\u001b[K     |████████████████████████████████| 822 kB 17.9 MB/s \n",
            "\u001b[?25hRequirement already satisfied: tblib>=1.6.0 in /usr/local/lib/python3.7/dist-packages (from distributed>=2.0->dask[complete]) (1.7.0)\n",
            "  Downloading distributed-2021.12.0-py3-none-any.whl (802 kB)\n",
            "\u001b[K     |████████████████████████████████| 802 kB 44.0 MB/s \n",
            "\u001b[?25h  Downloading distributed-2021.11.2-py3-none-any.whl (802 kB)\n",
            "\u001b[K     |████████████████████████████████| 802 kB 38.0 MB/s \n",
            "\u001b[?25h  Downloading distributed-2021.11.1-py3-none-any.whl (793 kB)\n",
            "\u001b[K     |████████████████████████████████| 793 kB 42.2 MB/s \n",
            "\u001b[?25h  Downloading distributed-2021.11.0-py3-none-any.whl (793 kB)\n",
            "\u001b[K     |████████████████████████████████| 793 kB 42.2 MB/s \n",
            "\u001b[?25h  Downloading distributed-2021.10.0-py3-none-any.whl (791 kB)\n",
            "\u001b[K     |████████████████████████████████| 791 kB 45.0 MB/s \n",
            "\u001b[?25h  Downloading distributed-2021.9.1-py3-none-any.whl (786 kB)\n",
            "\u001b[K     |████████████████████████████████| 786 kB 42.2 MB/s \n",
            "\u001b[?25hCollecting cloudpickle>=0.2.1\n",
            "  Downloading cloudpickle-2.0.0-py3-none-any.whl (25 kB)\n",
            "Collecting distributed>=2.0\n",
            "  Downloading distributed-2021.9.0-py3-none-any.whl (779 kB)\n",
            "\u001b[K     |████████████████████████████████| 779 kB 43.0 MB/s \n",
            "\u001b[?25h  Downloading distributed-2021.8.1-py3-none-any.whl (778 kB)\n",
            "\u001b[K     |████████████████████████████████| 778 kB 44.1 MB/s \n",
            "\u001b[?25h  Downloading distributed-2021.8.0-py3-none-any.whl (776 kB)\n",
            "\u001b[K     |████████████████████████████████| 776 kB 38.3 MB/s \n",
            "\u001b[?25h  Downloading distributed-2021.7.2-py3-none-any.whl (769 kB)\n",
            "\u001b[K     |████████████████████████████████| 769 kB 53.3 MB/s \n",
            "\u001b[?25h  Downloading distributed-2021.7.1-py3-none-any.whl (766 kB)\n",
            "\u001b[K     |████████████████████████████████| 766 kB 48.4 MB/s \n",
            "\u001b[?25h  Downloading distributed-2021.7.0-py3-none-any.whl (1.0 MB)\n",
            "\u001b[K     |████████████████████████████████| 1.0 MB 50.9 MB/s \n",
            "\u001b[?25h  Downloading distributed-2021.6.2-py3-none-any.whl (722 kB)\n",
            "\u001b[K     |████████████████████████████████| 722 kB 58.6 MB/s \n",
            "\u001b[?25h  Downloading distributed-2021.6.1-py3-none-any.whl (722 kB)\n",
            "\u001b[K     |████████████████████████████████| 722 kB 50.9 MB/s \n",
            "\u001b[?25h  Downloading distributed-2021.6.0-py3-none-any.whl (715 kB)\n",
            "\u001b[K     |████████████████████████████████| 715 kB 44.7 MB/s \n",
            "\u001b[?25h  Downloading distributed-2021.5.1-py3-none-any.whl (705 kB)\n",
            "\u001b[K     |████████████████████████████████| 705 kB 22.0 MB/s \n",
            "\u001b[?25h  Downloading distributed-2021.5.0-py3-none-any.whl (699 kB)\n",
            "\u001b[K     |████████████████████████████████| 699 kB 13.9 MB/s \n",
            "\u001b[?25h  Downloading distributed-2021.4.1-py3-none-any.whl (696 kB)\n",
            "\u001b[K     |████████████████████████████████| 696 kB 54.4 MB/s \n",
            "\u001b[?25h  Downloading distributed-2021.4.0-py3-none-any.whl (684 kB)\n",
            "\u001b[K     |████████████████████████████████| 684 kB 55.0 MB/s \n",
            "\u001b[?25h  Downloading distributed-2021.3.1-py3-none-any.whl (679 kB)\n",
            "\u001b[K     |████████████████████████████████| 679 kB 49.4 MB/s \n",
            "\u001b[?25h  Downloading distributed-2021.3.0-py3-none-any.whl (675 kB)\n",
            "\u001b[K     |████████████████████████████████| 675 kB 55.2 MB/s \n",
            "\u001b[?25h  Downloading distributed-2021.2.0-py3-none-any.whl (675 kB)\n",
            "\u001b[K     |████████████████████████████████| 675 kB 31.1 MB/s \n",
            "\u001b[?25h  Downloading distributed-2021.1.1-py3-none-any.whl (672 kB)\n",
            "\u001b[K     |████████████████████████████████| 672 kB 37.9 MB/s \n",
            "\u001b[?25h  Downloading distributed-2021.1.0-py3-none-any.whl (671 kB)\n",
            "\u001b[K     |████████████████████████████████| 671 kB 46.9 MB/s \n",
            "\u001b[?25h  Downloading distributed-2020.12.0-py3-none-any.whl (669 kB)\n",
            "\u001b[K     |████████████████████████████████| 669 kB 57.1 MB/s \n",
            "\u001b[?25h  Downloading distributed-2.30.1-py3-none-any.whl (656 kB)\n",
            "\u001b[K     |████████████████████████████████| 656 kB 48.2 MB/s \n",
            "\u001b[?25hRequirement already satisfied: MarkupSafe>=0.23 in /usr/local/lib/python3.7/dist-packages (from Jinja2>=2.9->bokeh>=1.0.0->dask[complete]) (2.0.1)\n",
            "Requirement already satisfied: pyparsing!=3.0.5,>=2.0.2 in /usr/local/lib/python3.7/dist-packages (from packaging>=16.8->bokeh>=1.0.0->dask[complete]) (3.0.7)\n",
            "Requirement already satisfied: pytz>=2017.3 in /usr/local/lib/python3.7/dist-packages (from pandas>=0.23.0->dask[complete]) (2018.9)\n",
            "Collecting locket\n",
            "  Downloading locket-0.2.1-py2.py3-none-any.whl (4.1 kB)\n",
            "Requirement already satisfied: six>=1.5 in /usr/local/lib/python3.7/dist-packages (from python-dateutil>=2.1->bokeh>=1.0.0->dask[complete]) (1.15.0)\n",
            "Requirement already satisfied: heapdict in /usr/local/lib/python3.7/dist-packages (from zict>=0.1.3->distributed>=2.0->dask[complete]) (1.0.1)\n",
            "Installing collected packages: locket, cloudpickle, partd, fsspec, distributed\n",
            "  Attempting uninstall: cloudpickle\n",
            "    Found existing installation: cloudpickle 1.3.0\n",
            "    Uninstalling cloudpickle-1.3.0:\n",
            "      Successfully uninstalled cloudpickle-1.3.0\n",
            "  Attempting uninstall: distributed\n",
            "    Found existing installation: distributed 1.25.3\n",
            "    Uninstalling distributed-1.25.3:\n",
            "      Successfully uninstalled distributed-1.25.3\n",
            "\u001b[31mERROR: pip's dependency resolver does not currently take into account all the packages that are installed. This behaviour is the source of the following dependency conflicts.\n",
            "gym 0.17.3 requires cloudpickle<1.7.0,>=1.2.0, but you have cloudpickle 2.0.0 which is incompatible.\u001b[0m\n",
            "Successfully installed cloudpickle-2.0.0 distributed-2.30.1 fsspec-2022.3.0 locket-0.2.1 partd-1.2.0\n"
          ]
        }
      ]
    },
    {
      "cell_type": "code",
      "source": [
        "import dask\n",
        "import dask.dataframe as dd"
      ],
      "metadata": {
        "id": "zz1NAuc4lUvY"
      },
      "execution_count": 95,
      "outputs": []
    },
    {
      "cell_type": "code",
      "source": [
        "ddf = dd.from_pandas(TMPdf, npartitions=2)"
      ],
      "metadata": {
        "id": "vQZeMOy7lUzu"
      },
      "execution_count": 96,
      "outputs": []
    },
    {
      "cell_type": "code",
      "source": [
        "ddf.partitions[0]"
      ],
      "metadata": {
        "colab": {
          "base_uri": "https://localhost:8080/",
          "height": 198
        },
        "id": "5XnTMqcOlaHU",
        "outputId": "7b23aadd-7c21-4c2f-8f82-96ca576e7b5b"
      },
      "execution_count": 97,
      "outputs": [
        {
          "output_type": "execute_result",
          "data": {
            "text/plain": [
              "Dask DataFrame Structure:\n",
              "              battery_power   blue clock_speed dual_sim     fc four_g int_memory    m_dep mobile_wt n_cores     pc px_height px_width    ram   sc_h   sc_w talk_time three_g touch_screen   wifi price_range\n",
              "npartitions=1                                                                                                                                                                                               \n",
              "0                     int64  int64     float64    int64  int64  int64      int64  float64     int64   int64  int64     int64    int64  int64  int64  int64     int64   int64        int64  int64       int64\n",
              "1000                    ...    ...         ...      ...    ...    ...        ...      ...       ...     ...    ...       ...      ...    ...    ...    ...       ...     ...          ...    ...         ...\n",
              "Dask Name: blocks, 3 tasks"
            ],
            "text/html": [
              "<div><strong>Dask DataFrame Structure:</strong></div>\n",
              "<div>\n",
              "<style scoped>\n",
              "    .dataframe tbody tr th:only-of-type {\n",
              "        vertical-align: middle;\n",
              "    }\n",
              "\n",
              "    .dataframe tbody tr th {\n",
              "        vertical-align: top;\n",
              "    }\n",
              "\n",
              "    .dataframe thead th {\n",
              "        text-align: right;\n",
              "    }\n",
              "</style>\n",
              "<table border=\"1\" class=\"dataframe\">\n",
              "  <thead>\n",
              "    <tr style=\"text-align: right;\">\n",
              "      <th></th>\n",
              "      <th>battery_power</th>\n",
              "      <th>blue</th>\n",
              "      <th>clock_speed</th>\n",
              "      <th>dual_sim</th>\n",
              "      <th>fc</th>\n",
              "      <th>four_g</th>\n",
              "      <th>int_memory</th>\n",
              "      <th>m_dep</th>\n",
              "      <th>mobile_wt</th>\n",
              "      <th>n_cores</th>\n",
              "      <th>pc</th>\n",
              "      <th>px_height</th>\n",
              "      <th>px_width</th>\n",
              "      <th>ram</th>\n",
              "      <th>sc_h</th>\n",
              "      <th>sc_w</th>\n",
              "      <th>talk_time</th>\n",
              "      <th>three_g</th>\n",
              "      <th>touch_screen</th>\n",
              "      <th>wifi</th>\n",
              "      <th>price_range</th>\n",
              "    </tr>\n",
              "    <tr>\n",
              "      <th>npartitions=1</th>\n",
              "      <th></th>\n",
              "      <th></th>\n",
              "      <th></th>\n",
              "      <th></th>\n",
              "      <th></th>\n",
              "      <th></th>\n",
              "      <th></th>\n",
              "      <th></th>\n",
              "      <th></th>\n",
              "      <th></th>\n",
              "      <th></th>\n",
              "      <th></th>\n",
              "      <th></th>\n",
              "      <th></th>\n",
              "      <th></th>\n",
              "      <th></th>\n",
              "      <th></th>\n",
              "      <th></th>\n",
              "      <th></th>\n",
              "      <th></th>\n",
              "      <th></th>\n",
              "    </tr>\n",
              "  </thead>\n",
              "  <tbody>\n",
              "    <tr>\n",
              "      <th>0</th>\n",
              "      <td>int64</td>\n",
              "      <td>int64</td>\n",
              "      <td>float64</td>\n",
              "      <td>int64</td>\n",
              "      <td>int64</td>\n",
              "      <td>int64</td>\n",
              "      <td>int64</td>\n",
              "      <td>float64</td>\n",
              "      <td>int64</td>\n",
              "      <td>int64</td>\n",
              "      <td>int64</td>\n",
              "      <td>int64</td>\n",
              "      <td>int64</td>\n",
              "      <td>int64</td>\n",
              "      <td>int64</td>\n",
              "      <td>int64</td>\n",
              "      <td>int64</td>\n",
              "      <td>int64</td>\n",
              "      <td>int64</td>\n",
              "      <td>int64</td>\n",
              "      <td>int64</td>\n",
              "    </tr>\n",
              "    <tr>\n",
              "      <th>1000</th>\n",
              "      <td>...</td>\n",
              "      <td>...</td>\n",
              "      <td>...</td>\n",
              "      <td>...</td>\n",
              "      <td>...</td>\n",
              "      <td>...</td>\n",
              "      <td>...</td>\n",
              "      <td>...</td>\n",
              "      <td>...</td>\n",
              "      <td>...</td>\n",
              "      <td>...</td>\n",
              "      <td>...</td>\n",
              "      <td>...</td>\n",
              "      <td>...</td>\n",
              "      <td>...</td>\n",
              "      <td>...</td>\n",
              "      <td>...</td>\n",
              "      <td>...</td>\n",
              "      <td>...</td>\n",
              "      <td>...</td>\n",
              "      <td>...</td>\n",
              "    </tr>\n",
              "  </tbody>\n",
              "</table>\n",
              "</div>\n",
              "<div>Dask Name: blocks, 3 tasks</div>"
            ]
          },
          "metadata": {},
          "execution_count": 97
        }
      ]
    },
    {
      "cell_type": "code",
      "source": [
        "start = time.time()\n",
        "ddf.isnull().sum()\n",
        "print('run time : ' , (time.time() - start)) "
      ],
      "metadata": {
        "colab": {
          "base_uri": "https://localhost:8080/"
        },
        "id": "BhxW91w-lGra",
        "outputId": "0663c32a-6402-4bd2-dfd0-ca2b8460a5b5"
      },
      "execution_count": 98,
      "outputs": [
        {
          "output_type": "stream",
          "name": "stdout",
          "text": [
            "run time :  0.022936344146728516\n"
          ]
        }
      ]
    },
    {
      "cell_type": "code",
      "source": [
        "# check outliers using IQR\n",
        "start = time.time()\n",
        "Q1 = ddf.quantile(0.25)\n",
        "Q3 = ddf.quantile(0.75)\n",
        "IQR = Q3 - Q1\n",
        "#print(IQR)\n",
        "print('run time : ' , (time.time() - start)) "
      ],
      "metadata": {
        "colab": {
          "base_uri": "https://localhost:8080/"
        },
        "id": "BRcGUY9-uX2b",
        "outputId": "fe806241-bcf8-4edd-8f24-e111b2ccdd76"
      },
      "execution_count": 99,
      "outputs": [
        {
          "output_type": "stream",
          "name": "stdout",
          "text": [
            "run time :  0.10558271408081055\n"
          ]
        }
      ]
    }
  ]
}