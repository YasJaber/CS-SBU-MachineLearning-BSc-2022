{
  "nbformat": 4,
  "nbformat_minor": 0,
  "metadata": {
    "colab": {
      "name": "MobilePriceQ2.ipynb",
      "provenance": [],
      "collapsed_sections": []
    },
    "kernelspec": {
      "name": "python3",
      "display_name": "Python 3"
    },
    "language_info": {
      "name": "python"
    }
  },
  "cells": [
    {
      "cell_type": "code",
      "execution_count": 1,
      "metadata": {
        "id": "uDbAHmRXs43h"
      },
      "outputs": [],
      "source": [
        "import numpy as np\n",
        "import pandas as pd\n",
        "import seaborn as sns\n",
        "from matplotlib import pyplot as plt\n",
        "from sklearn.preprocessing import StandardScaler\n",
        "from sklearn.model_selection import train_test_split\n",
        "from sklearn.linear_model import LinearRegression\n",
        "from sklearn.linear_model import LogisticRegression\n",
        "from scipy import stats\n",
        "from sklearn.decomposition import PCA\n",
        "from sklearn import metrics\n",
        "from sklearn.metrics import accuracy_score \n",
        "from sklearn.metrics import classification_report"
      ]
    },
    {
      "cell_type": "code",
      "source": [
        "df = pd.read_csv('train.csv')"
      ],
      "metadata": {
        "id": "gpTWPuEZuVXd"
      },
      "execution_count": null,
      "outputs": []
    },
    {
      "cell_type": "code",
      "source": [
        "def changeDataOfPrice(row):\n",
        "  priceRange = row[20]\n",
        "  if(priceRange == 0 or priceRange == 1):\n",
        "    return 0\n",
        "  else:\n",
        "    return 1"
      ],
      "metadata": {
        "id": "7oPyH4LluvkX"
      },
      "execution_count": null,
      "outputs": []
    },
    {
      "cell_type": "markdown",
      "source": [
        "make 2 classes"
      ],
      "metadata": {
        "id": "JPfi1sF9vaRl"
      }
    },
    {
      "cell_type": "code",
      "source": [
        "df['price_range'] = df.apply(changeDataOfPrice,axis='columns')\n",
        "df['price_range'].value_counts()"
      ],
      "metadata": {
        "colab": {
          "base_uri": "https://localhost:8080/"
        },
        "id": "8Pu_u3ecvQL-",
        "outputId": "3f9c5297-2aea-45e8-cb94-cf35531c7539"
      },
      "execution_count": null,
      "outputs": [
        {
          "output_type": "execute_result",
          "data": {
            "text/plain": [
              "0    1000\n",
              "1    1000\n",
              "Name: price_range, dtype: int64"
            ]
          },
          "metadata": {},
          "execution_count": 12
        }
      ]
    },
    {
      "cell_type": "markdown",
      "source": [
        "# Forward and backward selection"
      ],
      "metadata": {
        "id": "lK7SrKR3wBCj"
      }
    },
    {
      "cell_type": "code",
      "source": [
        "df_copy = df.copy()"
      ],
      "metadata": {
        "id": "UYIBQqIp5oV0"
      },
      "execution_count": null,
      "outputs": []
    },
    {
      "cell_type": "code",
      "source": [
        "y = df_copy.pop('price_range')\n",
        "X = df_copy"
      ],
      "metadata": {
        "id": "dTgrvPHA5p0D"
      },
      "execution_count": null,
      "outputs": []
    },
    {
      "cell_type": "code",
      "source": [
        "X_train, X_test, y_train, y_test = train_test_split(X, y, test_size=0.2, random_state=0)"
      ],
      "metadata": {
        "id": "RXa2DHGr5t6s"
      },
      "execution_count": null,
      "outputs": []
    },
    {
      "cell_type": "code",
      "source": [
        "print(X_train.shape)\n",
        "print(y_train.shape)\n",
        "print(X_test.shape)\n",
        "print(y_train.shape)"
      ],
      "metadata": {
        "colab": {
          "base_uri": "https://localhost:8080/"
        },
        "id": "nBJblZWe5xy8",
        "outputId": "86a5c7b3-4164-4d6c-c5c5-6f035309321a"
      },
      "execution_count": null,
      "outputs": [
        {
          "output_type": "stream",
          "name": "stdout",
          "text": [
            "(1600, 20)\n",
            "(1600,)\n",
            "(400, 20)\n",
            "(1600,)\n"
          ]
        }
      ]
    },
    {
      "cell_type": "markdown",
      "source": [
        "scale the data"
      ],
      "metadata": {
        "id": "sxyDv_DT56WD"
      }
    },
    {
      "cell_type": "code",
      "source": [
        "scaler_1 = StandardScaler()"
      ],
      "metadata": {
        "id": "3W0U31zQ5zrj"
      },
      "execution_count": null,
      "outputs": []
    },
    {
      "cell_type": "code",
      "source": [
        "fitter_1 = scaler_1.fit(X_train)"
      ],
      "metadata": {
        "id": "PYlCn9aY58RU"
      },
      "execution_count": null,
      "outputs": []
    },
    {
      "cell_type": "code",
      "source": [
        "X_train = fitter_1.transform(X_train)\n",
        "X_test = fitter_1.transform(X_test)"
      ],
      "metadata": {
        "id": "5p7nqEZK5_37"
      },
      "execution_count": null,
      "outputs": []
    },
    {
      "cell_type": "code",
      "source": [
        "X_train = pd.DataFrame(data=X_train, columns=X.columns)\n",
        "X_test = pd.DataFrame(data=X_test, columns=X.columns)"
      ],
      "metadata": {
        "id": "Gti1Y1_y6Clc"
      },
      "execution_count": null,
      "outputs": []
    },
    {
      "cell_type": "code",
      "source": [
        "def LR(X_train, y_train, X_test, y_test, v):\n",
        "    LR = LogisticRegression()\n",
        "    LR = LR.fit(X_train, y_train)\n",
        "    yhat = LR.predict(X_test)\n",
        "    acc = accuracy_score(y_test, yhat)\n",
        "    fpr, tpr, thresholds = metrics.roc_curve(y_test, yhat)\n",
        "    acc_auc = metrics.auc(fpr, tpr)  \n",
        "    if v == 1:\n",
        "        return (acc_auc)\n",
        "      #predict test data we need model\n",
        "    elif v == 2:\n",
        "        return LR\n",
        "    #all features ,pca\n",
        "    elif v == 3:\n",
        "      message = f\"Accuracy of sklearn's Logistic Regression Classifier with forward selectopn: {acc}, acc_auc: {acc_auc}\"\n",
        "      return (message, yhat)\n",
        "    elif v == 4 : \n",
        "      message = f\"Accuracy of sklearn's Logistic Regression Classifier with backward selectopn: {acc}, acc_auc: {acc_auc}\"\n",
        "      return (message, yhat)  "
      ],
      "metadata": {
        "id": "nji4VD6lxSCQ"
      },
      "execution_count": null,
      "outputs": []
    },
    {
      "cell_type": "markdown",
      "source": [
        "**forward** **selection**"
      ],
      "metadata": {
        "id": "LeHtE_Bw-G-B"
      }
    },
    {
      "cell_type": "code",
      "source": [
        "def forward(X_train, y_train, X_test, y_test, best_cols, all_cols):\n",
        "    init_acc_auc = 0.50\n",
        "    for col in all_cols:\n",
        "        best_cols.append(col)\n",
        "        X_train_f = pd.DataFrame(data=X_train, columns=best_cols)\n",
        "        X_test_f = pd.DataFrame(data=X_test, columns=best_cols)\n",
        "        acc_auc = LR(X_train_f, y_train, X_test_f, y_test, v=1)\n",
        "        if acc_auc > init_acc_auc:\n",
        "            init_acc_auc = acc_auc\n",
        "        else:\n",
        "            best_cols.pop()\n",
        "    return(f'result forward selection=> best columns: {best_cols} with auc: {init_acc_auc}', best_cols)"
      ],
      "metadata": {
        "id": "H5q_XJ6LwFZU"
      },
      "execution_count": null,
      "outputs": []
    },
    {
      "cell_type": "code",
      "source": [
        "best_cols, all_cols = [], X.columns.to_list()\n",
        "forward_col, best_cols_f = forward(X_train, y_train, X_test, y_test, best_cols, all_cols)\n",
        "print(forward_col)"
      ],
      "metadata": {
        "colab": {
          "base_uri": "https://localhost:8080/"
        },
        "id": "k5Xmhvxu-KxA",
        "outputId": "a668739f-d0ed-450c-a9ba-d469ff4caeae"
      },
      "execution_count": null,
      "outputs": [
        {
          "output_type": "stream",
          "name": "stdout",
          "text": [
            "result forward selection=> best columns: ['battery_power', 'blue', 'clock_speed', 'n_cores', 'px_width', 'ram'] with auc: 0.9725465090005272\n"
          ]
        }
      ]
    },
    {
      "cell_type": "code",
      "source": [
        "X_train_f = pd.DataFrame(data=X_train, columns=best_cols_f)\n",
        "X_test_f = pd.DataFrame(data=X_test, columns=best_cols_f)\n",
        "message, yhat = LR(X_train_f, y_train, X_test_f, y_test, 3)\n",
        "print(message)\n",
        "print(classification_report(y_test, yhat))"
      ],
      "metadata": {
        "colab": {
          "base_uri": "https://localhost:8080/"
        },
        "id": "ZsTnrd3K__EX",
        "outputId": "f20dab3c-687d-4c6e-f6d8-d8ca9129e495"
      },
      "execution_count": null,
      "outputs": [
        {
          "output_type": "stream",
          "name": "stdout",
          "text": [
            "Accuracy of sklearn's Logistic Regression Classifier with forward selectopn: 0.9725, acc_auc: 0.9725465090005272\n",
            "              precision    recall  f1-score   support\n",
            "\n",
            "           0       0.97      0.97      0.97       187\n",
            "           1       0.98      0.97      0.97       213\n",
            "\n",
            "    accuracy                           0.97       400\n",
            "   macro avg       0.97      0.97      0.97       400\n",
            "weighted avg       0.97      0.97      0.97       400\n",
            "\n"
          ]
        }
      ]
    },
    {
      "cell_type": "markdown",
      "source": [
        "**backward selection**"
      ],
      "metadata": {
        "id": "fufkk7ax_9Yv"
      }
    },
    {
      "cell_type": "code",
      "source": [
        "def backward(X_train, y_train, X_test, y_test, all_cols):\n",
        "    init_acc_auc = LR(X_train, y_train, X_test, y_test, 1)\n",
        "    for i in range(len(all_cols)-1):\n",
        "        col = all_cols.pop(0)\n",
        "        X_train_b = pd.DataFrame(data=X_train, columns=all_cols)\n",
        "        X_test_b = pd.DataFrame(data=X_test, columns=all_cols)\n",
        "        acc_auc = LR(X_train_b, y_train, X_test_b, y_test, 1)\n",
        "        if acc_auc > init_acc_auc:\n",
        "            init_acc_auc = acc_auc\n",
        "        else:\n",
        "            all_cols.append(col)\n",
        "    return(f'result backward selection=> best columns: {all_cols} with auc: {init_acc_auc}', all_cols)"
      ],
      "metadata": {
        "id": "jp89o035yVp_"
      },
      "execution_count": null,
      "outputs": []
    },
    {
      "cell_type": "code",
      "source": [
        "all_cols = X.columns.to_list()\n",
        "backward_col, best_cols_b = backward(X_train, y_train, X_test, y_test, all_cols)\n",
        "print(backward_col)"
      ],
      "metadata": {
        "colab": {
          "base_uri": "https://localhost:8080/"
        },
        "id": "j535486vxDnk",
        "outputId": "6c30edc2-9651-433c-b527-a86f2bb8788a"
      },
      "execution_count": null,
      "outputs": [
        {
          "output_type": "stream",
          "name": "stdout",
          "text": [
            "result backward selection=> best columns: ['wifi', 'battery_power', 'blue', 'clock_speed', 'dual_sim', 'fc', 'four_g', 'int_memory', 'm_dep', 'mobile_wt', 'n_cores', 'pc', 'px_height', 'px_width', 'ram', 'sc_h', 'sc_w', 'talk_time', 'three_g'] with auc: 0.986957394993849\n"
          ]
        }
      ]
    },
    {
      "cell_type": "code",
      "source": [
        "X_train_b = pd.DataFrame(data=X_train, columns=best_cols_b)\n",
        "X_test_b = pd.DataFrame(data=X_test, columns=best_cols_b)\n",
        "message, yhat = LR(X_train_b, y_train, X_test_b, y_test, 4)\n",
        "print(message)\n",
        "print(classification_report(y_test, yhat))"
      ],
      "metadata": {
        "colab": {
          "base_uri": "https://localhost:8080/"
        },
        "id": "6eywbW70yZZT",
        "outputId": "8072965e-ad07-460f-851e-016a307df9e1"
      },
      "execution_count": null,
      "outputs": [
        {
          "output_type": "stream",
          "name": "stdout",
          "text": [
            "Accuracy of sklearn's Logistic Regression Classifier with backward selectopn: 0.9875, acc_auc: 0.986957394993849\n",
            "              precision    recall  f1-score   support\n",
            "\n",
            "           0       0.99      0.98      0.99       187\n",
            "           1       0.98      1.00      0.99       213\n",
            "\n",
            "    accuracy                           0.99       400\n",
            "   macro avg       0.99      0.99      0.99       400\n",
            "weighted avg       0.99      0.99      0.99       400\n",
            "\n"
          ]
        }
      ]
    },
    {
      "cell_type": "markdown",
      "source": [
        "with out forward or backward selection"
      ],
      "metadata": {
        "id": "VRMF03phGAlZ"
      }
    },
    {
      "cell_type": "code",
      "source": [
        "x_train = df.drop('price_range',axis=1).values\n",
        "y_train = df['price_range'].values\n",
        "\n",
        "x_test = df.drop('price_range',axis=1).values\n",
        "y_test = df['price_range'].values\n",
        "\n",
        "model = LogisticRegression()\n",
        "model.fit(x_train,y_train)\n",
        "y_pred1= model.predict(x_test)\n",
        "\n",
        "print(model.score(x_test,y_test))\n",
        "print(classification_report(y_test, y_pred1))"
      ],
      "metadata": {
        "colab": {
          "base_uri": "https://localhost:8080/"
        },
        "id": "ewj5HkK5AFd3",
        "outputId": "31fa97fe-6c78-429c-bcb4-367d12106097"
      },
      "execution_count": null,
      "outputs": [
        {
          "output_type": "stream",
          "name": "stdout",
          "text": [
            "0.893\n",
            "              precision    recall  f1-score   support\n",
            "\n",
            "           0       0.91      0.88      0.89      1000\n",
            "           1       0.88      0.91      0.89      1000\n",
            "\n",
            "    accuracy                           0.89      2000\n",
            "   macro avg       0.89      0.89      0.89      2000\n",
            "weighted avg       0.89      0.89      0.89      2000\n",
            "\n"
          ]
        },
        {
          "output_type": "stream",
          "name": "stderr",
          "text": [
            "/usr/local/lib/python3.7/dist-packages/sklearn/linear_model/_logistic.py:818: ConvergenceWarning: lbfgs failed to converge (status=1):\n",
            "STOP: TOTAL NO. of ITERATIONS REACHED LIMIT.\n",
            "\n",
            "Increase the number of iterations (max_iter) or scale the data as shown in:\n",
            "    https://scikit-learn.org/stable/modules/preprocessing.html\n",
            "Please also refer to the documentation for alternative solver options:\n",
            "    https://scikit-learn.org/stable/modules/linear_model.html#logistic-regression\n",
            "  extra_warning_msg=_LOGISTIC_SOLVER_CONVERGENCE_MSG,\n"
          ]
        }
      ]
    },
    {
      "cell_type": "markdown",
      "source": [
        "# using PCA"
      ],
      "metadata": {
        "id": "QnWstsQpGcbr"
      }
    },
    {
      "cell_type": "code",
      "source": [
        "dfp  = pd.read_csv('train.csv')\n",
        "x = dfp.drop('price_range',axis=1).values\n",
        "y = dfp['price_range'].values\n",
        "print(x.shape)\n",
        "print(y.shape)"
      ],
      "metadata": {
        "colab": {
          "base_uri": "https://localhost:8080/"
        },
        "id": "m8_F5QXsHZNZ",
        "outputId": "b7e5b497-0d3f-4117-8952-b29f5ccb3c6f"
      },
      "execution_count": null,
      "outputs": [
        {
          "output_type": "stream",
          "name": "stdout",
          "text": [
            "(2000, 20)\n",
            "(2000,)\n"
          ]
        }
      ]
    },
    {
      "cell_type": "code",
      "source": [
        "  pca = PCA(6)\n",
        "  xPCA = pca.fit_transform(x)\n",
        "  print(xPCA.shape)\n",
        "\n",
        "  XPCA_train,XPCA_test,y_train,y_test = train_test_split(xPCA,y,test_size=0.2, random_state=30)\n",
        "  model = LogisticRegression()\n",
        "  model.fit(XPCA_train,y_train)\n",
        "  y_pred2= model.predict(XPCA_test)\n",
        "  print(\"score of the model is :\")\n",
        "  print(model.score(XPCA_test,y_test))\n",
        "  print(classification_report(y_test, y_pred2))\n"
      ],
      "metadata": {
        "colab": {
          "base_uri": "https://localhost:8080/"
        },
        "id": "wQKgt_PUGb2B",
        "outputId": "b73e0f1e-9938-4166-bfb8-64d6bba71366"
      },
      "execution_count": null,
      "outputs": [
        {
          "output_type": "stream",
          "name": "stdout",
          "text": [
            "(2000, 6)\n",
            "score of the model is :\n",
            "0.6325\n",
            "              precision    recall  f1-score   support\n",
            "\n",
            "           0       0.55      1.00      0.71        99\n",
            "           1       0.89      0.16      0.28        97\n",
            "           2       1.00      0.25      0.40        88\n",
            "           3       0.64      1.00      0.78       116\n",
            "\n",
            "    accuracy                           0.63       400\n",
            "   macro avg       0.77      0.60      0.54       400\n",
            "weighted avg       0.76      0.63      0.56       400\n",
            "\n"
          ]
        },
        {
          "output_type": "stream",
          "name": "stderr",
          "text": [
            "/usr/local/lib/python3.7/dist-packages/sklearn/linear_model/_logistic.py:818: ConvergenceWarning: lbfgs failed to converge (status=1):\n",
            "STOP: TOTAL NO. of ITERATIONS REACHED LIMIT.\n",
            "\n",
            "Increase the number of iterations (max_iter) or scale the data as shown in:\n",
            "    https://scikit-learn.org/stable/modules/preprocessing.html\n",
            "Please also refer to the documentation for alternative solver options:\n",
            "    https://scikit-learn.org/stable/modules/linear_model.html#logistic-regression\n",
            "  extra_warning_msg=_LOGISTIC_SOLVER_CONVERGENCE_MSG,\n"
          ]
        }
      ]
    },
    {
      "cell_type": "markdown",
      "source": [
        "# feature engineering"
      ],
      "metadata": {
        "id": "Cp2F1TsvIvm3"
      }
    },
    {
      "cell_type": "code",
      "source": [
        "dfp  = pd.read_csv('train.csv')\n",
        "x = dfp.drop('price_range',axis=1).values\n",
        "y = dfp['price_range'].values\n",
        "X_train,X_test,y_train,y_test = train_test_split(x,y,test_size=0.2, random_state=40)"
      ],
      "metadata": {
        "id": "k3nS7m0XI3Tv"
      },
      "execution_count": 3,
      "outputs": []
    },
    {
      "cell_type": "markdown",
      "source": [
        "**binning the battery power**"
      ],
      "metadata": {
        "id": "t3JCYL36PdlJ"
      }
    },
    {
      "cell_type": "code",
      "source": [
        "dfp.battery_power.describe()"
      ],
      "metadata": {
        "colab": {
          "base_uri": "https://localhost:8080/"
        },
        "id": "JAP4Hc3eNxw1",
        "outputId": "2bfc3592-f433-4784-f636-2cd551cf1063"
      },
      "execution_count": 4,
      "outputs": [
        {
          "output_type": "execute_result",
          "data": {
            "text/plain": [
              "count    2000.000000\n",
              "mean     1238.518500\n",
              "std       439.418206\n",
              "min       501.000000\n",
              "25%       851.750000\n",
              "50%      1226.000000\n",
              "75%      1615.250000\n",
              "max      1998.000000\n",
              "Name: battery_power, dtype: float64"
            ]
          },
          "metadata": {},
          "execution_count": 4
        }
      ]
    },
    {
      "cell_type": "code",
      "source": [
        "def binningBattery(x):\n",
        "    if x >= 1600:\n",
        "        return 0.9\n",
        "    elif 1200 <= x < 1600:\n",
        "        return 0.7\n",
        "    elif 800 <= x < 1200 :\n",
        "        return 0.5\n",
        "    else:\n",
        "        return 0.3"
      ],
      "metadata": {
        "id": "wqLQwG9uPLmD"
      },
      "execution_count": 5,
      "outputs": []
    },
    {
      "cell_type": "code",
      "source": [
        "dfp.battery_power = dfp.battery_power.apply(binningBattery)"
      ],
      "metadata": {
        "id": "ylUtKxNOM95N"
      },
      "execution_count": 6,
      "outputs": []
    },
    {
      "cell_type": "code",
      "source": [
        "dfp.battery_power.describe()"
      ],
      "metadata": {
        "colab": {
          "base_uri": "https://localhost:8080/"
        },
        "id": "8rF5FxTHOnl7",
        "outputId": "15794049-de0f-4450-b0f9-1101ca6c4527"
      },
      "execution_count": 7,
      "outputs": [
        {
          "output_type": "execute_result",
          "data": {
            "text/plain": [
              "count    2000.000000\n",
              "mean        0.613200\n",
              "std         0.218104\n",
              "min         0.300000\n",
              "25%         0.500000\n",
              "50%         0.700000\n",
              "75%         0.900000\n",
              "max         0.900000\n",
              "Name: battery_power, dtype: float64"
            ]
          },
          "metadata": {},
          "execution_count": 7
        }
      ]
    },
    {
      "cell_type": "markdown",
      "source": [
        "svm"
      ],
      "metadata": {
        "id": "jW9uugIb12W7"
      }
    },
    {
      "cell_type": "code",
      "source": [
        "from sklearn import svm\n",
        "y_t = np.array(dfp['price_range'])\n",
        "X_t = dfp\n",
        "X_t = dfp.drop(['price_range'],axis=1)\n",
        "X_t = np.array(X_t)\n",
        "X_train,X_test,Y_train,Y_test = train_test_split(X_t,y_t,test_size=.20,random_state=42)"
      ],
      "metadata": {
        "id": "mpdULboT31a6"
      },
      "execution_count": 14,
      "outputs": []
    },
    {
      "cell_type": "code",
      "source": [
        "clf = svm.SVC()\n",
        "clf.fit(X_train, Y_train)\n",
        "clf.predict(X_test)\n",
        "scoretrain = clf.score(X_train,Y_train)\n",
        "scoretest  = clf.score(X_test,Y_test)\n",
        "print(\"train score and test score\")\n",
        "print(scoretrain)\n",
        "print(scoretest)"
      ],
      "metadata": {
        "colab": {
          "base_uri": "https://localhost:8080/"
        },
        "id": "DHna03ZC3yvw",
        "outputId": "177768eb-3cdd-4dd5-e1eb-3acff7690162"
      },
      "execution_count": 17,
      "outputs": [
        {
          "output_type": "stream",
          "name": "stdout",
          "text": [
            "train score and test score\n",
            "0.806875\n",
            "0.805\n"
          ]
        }
      ]
    },
    {
      "cell_type": "markdown",
      "source": [
        "**one hot encoding**"
      ],
      "metadata": {
        "id": "l4SV1B-KPhgC"
      }
    },
    {
      "cell_type": "code",
      "source": [
        "dfp = pd.read_csv('train.csv')"
      ],
      "metadata": {
        "id": "L0fdaSjSaD1u"
      },
      "execution_count": 18,
      "outputs": []
    },
    {
      "cell_type": "code",
      "source": [
        "pd.set_option('display.max_columns',None)\n",
        "dfp.head(10)"
      ],
      "metadata": {
        "colab": {
          "base_uri": "https://localhost:8080/",
          "height": 427
        },
        "id": "l6zLpNDmPovx",
        "outputId": "d2e1207e-4c2e-4e14-e96b-7940c3370e6b"
      },
      "execution_count": 19,
      "outputs": [
        {
          "output_type": "execute_result",
          "data": {
            "text/plain": [
              "   battery_power  blue  clock_speed  dual_sim  fc  four_g  int_memory  m_dep  \\\n",
              "0            842     0          2.2         0   1       0           7    0.6   \n",
              "1           1021     1          0.5         1   0       1          53    0.7   \n",
              "2            563     1          0.5         1   2       1          41    0.9   \n",
              "3            615     1          2.5         0   0       0          10    0.8   \n",
              "4           1821     1          1.2         0  13       1          44    0.6   \n",
              "5           1859     0          0.5         1   3       0          22    0.7   \n",
              "6           1821     0          1.7         0   4       1          10    0.8   \n",
              "7           1954     0          0.5         1   0       0          24    0.8   \n",
              "8           1445     1          0.5         0   0       0          53    0.7   \n",
              "9            509     1          0.6         1   2       1           9    0.1   \n",
              "\n",
              "   mobile_wt  n_cores  pc  px_height  px_width   ram  sc_h  sc_w  talk_time  \\\n",
              "0        188        2   2         20       756  2549     9     7         19   \n",
              "1        136        3   6        905      1988  2631    17     3          7   \n",
              "2        145        5   6       1263      1716  2603    11     2          9   \n",
              "3        131        6   9       1216      1786  2769    16     8         11   \n",
              "4        141        2  14       1208      1212  1411     8     2         15   \n",
              "5        164        1   7       1004      1654  1067    17     1         10   \n",
              "6        139        8  10        381      1018  3220    13     8         18   \n",
              "7        187        4   0        512      1149   700    16     3          5   \n",
              "8        174        7  14        386       836  1099    17     1         20   \n",
              "9         93        5  15       1137      1224   513    19    10         12   \n",
              "\n",
              "   three_g  touch_screen  wifi  price_range  \n",
              "0        0             0     1            1  \n",
              "1        1             1     0            2  \n",
              "2        1             1     0            2  \n",
              "3        1             0     0            2  \n",
              "4        1             1     0            1  \n",
              "5        1             0     0            1  \n",
              "6        1             0     1            3  \n",
              "7        1             1     1            0  \n",
              "8        1             0     0            0  \n",
              "9        1             0     0            0  "
            ],
            "text/html": [
              "\n",
              "  <div id=\"df-08c96d8a-e643-4c31-a65f-46d937284adb\">\n",
              "    <div class=\"colab-df-container\">\n",
              "      <div>\n",
              "<style scoped>\n",
              "    .dataframe tbody tr th:only-of-type {\n",
              "        vertical-align: middle;\n",
              "    }\n",
              "\n",
              "    .dataframe tbody tr th {\n",
              "        vertical-align: top;\n",
              "    }\n",
              "\n",
              "    .dataframe thead th {\n",
              "        text-align: right;\n",
              "    }\n",
              "</style>\n",
              "<table border=\"1\" class=\"dataframe\">\n",
              "  <thead>\n",
              "    <tr style=\"text-align: right;\">\n",
              "      <th></th>\n",
              "      <th>battery_power</th>\n",
              "      <th>blue</th>\n",
              "      <th>clock_speed</th>\n",
              "      <th>dual_sim</th>\n",
              "      <th>fc</th>\n",
              "      <th>four_g</th>\n",
              "      <th>int_memory</th>\n",
              "      <th>m_dep</th>\n",
              "      <th>mobile_wt</th>\n",
              "      <th>n_cores</th>\n",
              "      <th>pc</th>\n",
              "      <th>px_height</th>\n",
              "      <th>px_width</th>\n",
              "      <th>ram</th>\n",
              "      <th>sc_h</th>\n",
              "      <th>sc_w</th>\n",
              "      <th>talk_time</th>\n",
              "      <th>three_g</th>\n",
              "      <th>touch_screen</th>\n",
              "      <th>wifi</th>\n",
              "      <th>price_range</th>\n",
              "    </tr>\n",
              "  </thead>\n",
              "  <tbody>\n",
              "    <tr>\n",
              "      <th>0</th>\n",
              "      <td>842</td>\n",
              "      <td>0</td>\n",
              "      <td>2.2</td>\n",
              "      <td>0</td>\n",
              "      <td>1</td>\n",
              "      <td>0</td>\n",
              "      <td>7</td>\n",
              "      <td>0.6</td>\n",
              "      <td>188</td>\n",
              "      <td>2</td>\n",
              "      <td>2</td>\n",
              "      <td>20</td>\n",
              "      <td>756</td>\n",
              "      <td>2549</td>\n",
              "      <td>9</td>\n",
              "      <td>7</td>\n",
              "      <td>19</td>\n",
              "      <td>0</td>\n",
              "      <td>0</td>\n",
              "      <td>1</td>\n",
              "      <td>1</td>\n",
              "    </tr>\n",
              "    <tr>\n",
              "      <th>1</th>\n",
              "      <td>1021</td>\n",
              "      <td>1</td>\n",
              "      <td>0.5</td>\n",
              "      <td>1</td>\n",
              "      <td>0</td>\n",
              "      <td>1</td>\n",
              "      <td>53</td>\n",
              "      <td>0.7</td>\n",
              "      <td>136</td>\n",
              "      <td>3</td>\n",
              "      <td>6</td>\n",
              "      <td>905</td>\n",
              "      <td>1988</td>\n",
              "      <td>2631</td>\n",
              "      <td>17</td>\n",
              "      <td>3</td>\n",
              "      <td>7</td>\n",
              "      <td>1</td>\n",
              "      <td>1</td>\n",
              "      <td>0</td>\n",
              "      <td>2</td>\n",
              "    </tr>\n",
              "    <tr>\n",
              "      <th>2</th>\n",
              "      <td>563</td>\n",
              "      <td>1</td>\n",
              "      <td>0.5</td>\n",
              "      <td>1</td>\n",
              "      <td>2</td>\n",
              "      <td>1</td>\n",
              "      <td>41</td>\n",
              "      <td>0.9</td>\n",
              "      <td>145</td>\n",
              "      <td>5</td>\n",
              "      <td>6</td>\n",
              "      <td>1263</td>\n",
              "      <td>1716</td>\n",
              "      <td>2603</td>\n",
              "      <td>11</td>\n",
              "      <td>2</td>\n",
              "      <td>9</td>\n",
              "      <td>1</td>\n",
              "      <td>1</td>\n",
              "      <td>0</td>\n",
              "      <td>2</td>\n",
              "    </tr>\n",
              "    <tr>\n",
              "      <th>3</th>\n",
              "      <td>615</td>\n",
              "      <td>1</td>\n",
              "      <td>2.5</td>\n",
              "      <td>0</td>\n",
              "      <td>0</td>\n",
              "      <td>0</td>\n",
              "      <td>10</td>\n",
              "      <td>0.8</td>\n",
              "      <td>131</td>\n",
              "      <td>6</td>\n",
              "      <td>9</td>\n",
              "      <td>1216</td>\n",
              "      <td>1786</td>\n",
              "      <td>2769</td>\n",
              "      <td>16</td>\n",
              "      <td>8</td>\n",
              "      <td>11</td>\n",
              "      <td>1</td>\n",
              "      <td>0</td>\n",
              "      <td>0</td>\n",
              "      <td>2</td>\n",
              "    </tr>\n",
              "    <tr>\n",
              "      <th>4</th>\n",
              "      <td>1821</td>\n",
              "      <td>1</td>\n",
              "      <td>1.2</td>\n",
              "      <td>0</td>\n",
              "      <td>13</td>\n",
              "      <td>1</td>\n",
              "      <td>44</td>\n",
              "      <td>0.6</td>\n",
              "      <td>141</td>\n",
              "      <td>2</td>\n",
              "      <td>14</td>\n",
              "      <td>1208</td>\n",
              "      <td>1212</td>\n",
              "      <td>1411</td>\n",
              "      <td>8</td>\n",
              "      <td>2</td>\n",
              "      <td>15</td>\n",
              "      <td>1</td>\n",
              "      <td>1</td>\n",
              "      <td>0</td>\n",
              "      <td>1</td>\n",
              "    </tr>\n",
              "    <tr>\n",
              "      <th>5</th>\n",
              "      <td>1859</td>\n",
              "      <td>0</td>\n",
              "      <td>0.5</td>\n",
              "      <td>1</td>\n",
              "      <td>3</td>\n",
              "      <td>0</td>\n",
              "      <td>22</td>\n",
              "      <td>0.7</td>\n",
              "      <td>164</td>\n",
              "      <td>1</td>\n",
              "      <td>7</td>\n",
              "      <td>1004</td>\n",
              "      <td>1654</td>\n",
              "      <td>1067</td>\n",
              "      <td>17</td>\n",
              "      <td>1</td>\n",
              "      <td>10</td>\n",
              "      <td>1</td>\n",
              "      <td>0</td>\n",
              "      <td>0</td>\n",
              "      <td>1</td>\n",
              "    </tr>\n",
              "    <tr>\n",
              "      <th>6</th>\n",
              "      <td>1821</td>\n",
              "      <td>0</td>\n",
              "      <td>1.7</td>\n",
              "      <td>0</td>\n",
              "      <td>4</td>\n",
              "      <td>1</td>\n",
              "      <td>10</td>\n",
              "      <td>0.8</td>\n",
              "      <td>139</td>\n",
              "      <td>8</td>\n",
              "      <td>10</td>\n",
              "      <td>381</td>\n",
              "      <td>1018</td>\n",
              "      <td>3220</td>\n",
              "      <td>13</td>\n",
              "      <td>8</td>\n",
              "      <td>18</td>\n",
              "      <td>1</td>\n",
              "      <td>0</td>\n",
              "      <td>1</td>\n",
              "      <td>3</td>\n",
              "    </tr>\n",
              "    <tr>\n",
              "      <th>7</th>\n",
              "      <td>1954</td>\n",
              "      <td>0</td>\n",
              "      <td>0.5</td>\n",
              "      <td>1</td>\n",
              "      <td>0</td>\n",
              "      <td>0</td>\n",
              "      <td>24</td>\n",
              "      <td>0.8</td>\n",
              "      <td>187</td>\n",
              "      <td>4</td>\n",
              "      <td>0</td>\n",
              "      <td>512</td>\n",
              "      <td>1149</td>\n",
              "      <td>700</td>\n",
              "      <td>16</td>\n",
              "      <td>3</td>\n",
              "      <td>5</td>\n",
              "      <td>1</td>\n",
              "      <td>1</td>\n",
              "      <td>1</td>\n",
              "      <td>0</td>\n",
              "    </tr>\n",
              "    <tr>\n",
              "      <th>8</th>\n",
              "      <td>1445</td>\n",
              "      <td>1</td>\n",
              "      <td>0.5</td>\n",
              "      <td>0</td>\n",
              "      <td>0</td>\n",
              "      <td>0</td>\n",
              "      <td>53</td>\n",
              "      <td>0.7</td>\n",
              "      <td>174</td>\n",
              "      <td>7</td>\n",
              "      <td>14</td>\n",
              "      <td>386</td>\n",
              "      <td>836</td>\n",
              "      <td>1099</td>\n",
              "      <td>17</td>\n",
              "      <td>1</td>\n",
              "      <td>20</td>\n",
              "      <td>1</td>\n",
              "      <td>0</td>\n",
              "      <td>0</td>\n",
              "      <td>0</td>\n",
              "    </tr>\n",
              "    <tr>\n",
              "      <th>9</th>\n",
              "      <td>509</td>\n",
              "      <td>1</td>\n",
              "      <td>0.6</td>\n",
              "      <td>1</td>\n",
              "      <td>2</td>\n",
              "      <td>1</td>\n",
              "      <td>9</td>\n",
              "      <td>0.1</td>\n",
              "      <td>93</td>\n",
              "      <td>5</td>\n",
              "      <td>15</td>\n",
              "      <td>1137</td>\n",
              "      <td>1224</td>\n",
              "      <td>513</td>\n",
              "      <td>19</td>\n",
              "      <td>10</td>\n",
              "      <td>12</td>\n",
              "      <td>1</td>\n",
              "      <td>0</td>\n",
              "      <td>0</td>\n",
              "      <td>0</td>\n",
              "    </tr>\n",
              "  </tbody>\n",
              "</table>\n",
              "</div>\n",
              "      <button class=\"colab-df-convert\" onclick=\"convertToInteractive('df-08c96d8a-e643-4c31-a65f-46d937284adb')\"\n",
              "              title=\"Convert this dataframe to an interactive table.\"\n",
              "              style=\"display:none;\">\n",
              "        \n",
              "  <svg xmlns=\"http://www.w3.org/2000/svg\" height=\"24px\"viewBox=\"0 0 24 24\"\n",
              "       width=\"24px\">\n",
              "    <path d=\"M0 0h24v24H0V0z\" fill=\"none\"/>\n",
              "    <path d=\"M18.56 5.44l.94 2.06.94-2.06 2.06-.94-2.06-.94-.94-2.06-.94 2.06-2.06.94zm-11 1L8.5 8.5l.94-2.06 2.06-.94-2.06-.94L8.5 2.5l-.94 2.06-2.06.94zm10 10l.94 2.06.94-2.06 2.06-.94-2.06-.94-.94-2.06-.94 2.06-2.06.94z\"/><path d=\"M17.41 7.96l-1.37-1.37c-.4-.4-.92-.59-1.43-.59-.52 0-1.04.2-1.43.59L10.3 9.45l-7.72 7.72c-.78.78-.78 2.05 0 2.83L4 21.41c.39.39.9.59 1.41.59.51 0 1.02-.2 1.41-.59l7.78-7.78 2.81-2.81c.8-.78.8-2.07 0-2.86zM5.41 20L4 18.59l7.72-7.72 1.47 1.35L5.41 20z\"/>\n",
              "  </svg>\n",
              "      </button>\n",
              "      \n",
              "  <style>\n",
              "    .colab-df-container {\n",
              "      display:flex;\n",
              "      flex-wrap:wrap;\n",
              "      gap: 12px;\n",
              "    }\n",
              "\n",
              "    .colab-df-convert {\n",
              "      background-color: #E8F0FE;\n",
              "      border: none;\n",
              "      border-radius: 50%;\n",
              "      cursor: pointer;\n",
              "      display: none;\n",
              "      fill: #1967D2;\n",
              "      height: 32px;\n",
              "      padding: 0 0 0 0;\n",
              "      width: 32px;\n",
              "    }\n",
              "\n",
              "    .colab-df-convert:hover {\n",
              "      background-color: #E2EBFA;\n",
              "      box-shadow: 0px 1px 2px rgba(60, 64, 67, 0.3), 0px 1px 3px 1px rgba(60, 64, 67, 0.15);\n",
              "      fill: #174EA6;\n",
              "    }\n",
              "\n",
              "    [theme=dark] .colab-df-convert {\n",
              "      background-color: #3B4455;\n",
              "      fill: #D2E3FC;\n",
              "    }\n",
              "\n",
              "    [theme=dark] .colab-df-convert:hover {\n",
              "      background-color: #434B5C;\n",
              "      box-shadow: 0px 1px 3px 1px rgba(0, 0, 0, 0.15);\n",
              "      filter: drop-shadow(0px 1px 2px rgba(0, 0, 0, 0.3));\n",
              "      fill: #FFFFFF;\n",
              "    }\n",
              "  </style>\n",
              "\n",
              "      <script>\n",
              "        const buttonEl =\n",
              "          document.querySelector('#df-08c96d8a-e643-4c31-a65f-46d937284adb button.colab-df-convert');\n",
              "        buttonEl.style.display =\n",
              "          google.colab.kernel.accessAllowed ? 'block' : 'none';\n",
              "\n",
              "        async function convertToInteractive(key) {\n",
              "          const element = document.querySelector('#df-08c96d8a-e643-4c31-a65f-46d937284adb');\n",
              "          const dataTable =\n",
              "            await google.colab.kernel.invokeFunction('convertToInteractive',\n",
              "                                                     [key], {});\n",
              "          if (!dataTable) return;\n",
              "\n",
              "          const docLinkHtml = 'Like what you see? Visit the ' +\n",
              "            '<a target=\"_blank\" href=https://colab.research.google.com/notebooks/data_table.ipynb>data table notebook</a>'\n",
              "            + ' to learn more about interactive tables.';\n",
              "          element.innerHTML = '';\n",
              "          dataTable['output_type'] = 'display_data';\n",
              "          await google.colab.output.renderOutput(dataTable, element);\n",
              "          const docLink = document.createElement('div');\n",
              "          docLink.innerHTML = docLinkHtml;\n",
              "          element.appendChild(docLink);\n",
              "        }\n",
              "      </script>\n",
              "    </div>\n",
              "  </div>\n",
              "  "
            ]
          },
          "metadata": {},
          "execution_count": 19
        }
      ]
    },
    {
      "cell_type": "code",
      "source": [
        "dfp.nunique()"
      ],
      "metadata": {
        "colab": {
          "base_uri": "https://localhost:8080/"
        },
        "id": "1otZMp1MRMjQ",
        "outputId": "02dbbe95-99fe-4eae-c2d1-f806ad6a8592"
      },
      "execution_count": 20,
      "outputs": [
        {
          "output_type": "execute_result",
          "data": {
            "text/plain": [
              "battery_power    1094\n",
              "blue                2\n",
              "clock_speed        26\n",
              "dual_sim            2\n",
              "fc                 20\n",
              "four_g              2\n",
              "int_memory         63\n",
              "m_dep              10\n",
              "mobile_wt         121\n",
              "n_cores             8\n",
              "pc                 21\n",
              "px_height        1137\n",
              "px_width         1109\n",
              "ram              1562\n",
              "sc_h               15\n",
              "sc_w               19\n",
              "talk_time          19\n",
              "three_g             2\n",
              "touch_screen        2\n",
              "wifi                2\n",
              "price_range         4\n",
              "dtype: int64"
            ]
          },
          "metadata": {},
          "execution_count": 20
        }
      ]
    },
    {
      "cell_type": "markdown",
      "source": [
        "svm"
      ],
      "metadata": {
        "id": "dAmYAfHY5mQH"
      }
    },
    {
      "cell_type": "code",
      "source": [
        "from sklearn import svm\n",
        "y_t = np.array(dfp['price_range'])\n",
        "X_t = dfp\n",
        "X_t = dfp.drop(['price_range'],axis=1)\n",
        "X_t = np.array(X_t)\n",
        "X_train,X_test,Y_train,Y_test = train_test_split(X_t,y_t,test_size=.20,random_state=42)\n",
        "\n",
        "clf = svm.SVC()\n",
        "clf.fit(X_train, Y_train)\n",
        "clf.predict(X_test)\n",
        "scoretrain = clf.score(X_train,Y_train)\n",
        "scoretest  = clf.score(X_test,Y_test)\n",
        "print(\"train score and test score\")\n",
        "print(scoretrain)\n",
        "print(scoretest)"
      ],
      "metadata": {
        "id": "lCRcEeemZV2R",
        "colab": {
          "base_uri": "https://localhost:8080/"
        },
        "outputId": "38d47fc0-905f-4886-d014-d6dc685c7b15"
      },
      "execution_count": 21,
      "outputs": [
        {
          "output_type": "stream",
          "name": "stdout",
          "text": [
            "train score and test score\n",
            "0.95375\n",
            "0.965\n"
          ]
        }
      ]
    },
    {
      "cell_type": "markdown",
      "source": [
        "**log transform**"
      ],
      "metadata": {
        "id": "NX0Oi-02XNva"
      }
    },
    {
      "cell_type": "code",
      "source": [
        "dfp = pd.read_csv('train.csv')"
      ],
      "metadata": {
        "id": "8khA23ZXbgz7"
      },
      "execution_count": 40,
      "outputs": []
    },
    {
      "cell_type": "code",
      "source": [
        "from plotly.subplots import make_subplots\n",
        "import plotly.graph_objects as go\n",
        "\n",
        "fig = make_subplots(rows=1, cols=2, subplot_titles=(\"Histogram of clock_speed before transformation\", \"Histogram of Sulphates After transformation\"))\n",
        "                    \n",
        "\n",
        "fig.append_trace(go.Histogram(x = dfp['clock_speed']), row = 1, col = 1)\n",
        "fig.append_trace(go.Histogram(x = 1/(np.log(dfp['clock_speed'])), nbinsx=40), row = 1, col = 2)\n",
        "fig.update_layout(height=600, width= np.inf, title_text=\"Distribution of clock_speed before and after 1/log(y) transformation\", showlegend=False, title_x = 0.5)\n",
        "fig.show()"
      ],
      "metadata": {
        "id": "PeTYzjpTXQIi",
        "colab": {
          "base_uri": "https://localhost:8080/",
          "height": 617
        },
        "outputId": "ed109309-6899-4319-e1d8-6db4fc921557"
      },
      "execution_count": 41,
      "outputs": [
        {
          "output_type": "display_data",
          "data": {
            "text/html": [
              "<html>\n",
              "<head><meta charset=\"utf-8\" /></head>\n",
              "<body>\n",
              "    <div>            <script src=\"https://cdnjs.cloudflare.com/ajax/libs/mathjax/2.7.5/MathJax.js?config=TeX-AMS-MML_SVG\"></script><script type=\"text/javascript\">if (window.MathJax) {MathJax.Hub.Config({SVG: {font: \"STIX-Web\"}});}</script>                <script type=\"text/javascript\">window.PlotlyConfig = {MathJaxConfig: 'local'};</script>\n",
              "        <script src=\"https://cdn.plot.ly/plotly-2.8.3.min.js\"></script>                <div id=\"2fa6ad9f-07fc-4339-99f5-fc18890fba76\" class=\"plotly-graph-div\" style=\"height:600px; width:infpx;\"></div>            <script type=\"text/javascript\">                                    window.PLOTLYENV=window.PLOTLYENV || {};                                    if (document.getElementById(\"2fa6ad9f-07fc-4339-99f5-fc18890fba76\")) {                    Plotly.newPlot(                        \"2fa6ad9f-07fc-4339-99f5-fc18890fba76\",                        [{\"x\":[2.2,0.5,0.5,2.5,1.2,0.5,1.7,0.5,0.5,0.6,2.9,2.2,2.8,2.1,0.5,1.0,0.5,0.9,0.5,0.5,1.1,2.1,2.6,2.8,1.2,1.4,1.6,0.5,1.6,0.5,0.5,0.5,0.9,2.2,2.7,1.3,2.3,1.6,2.0,0.5,2.9,2.3,0.5,1.0,2.8,2.9,1.1,1.8,2.6,2.1,3.0,1.4,1.5,1.9,0.5,2.1,2.7,1.3,0.5,1.4,3.0,2.3,1.2,2.0,2.6,1.9,0.5,1.4,1.1,1.5,0.5,2.4,1.0,1.2,2.9,0.6,2.8,1.6,2.5,1.0,0.6,2.9,0.9,0.8,2.9,2.4,2.0,2.9,0.5,1.1,2.0,2.0,2.3,2.5,1.7,1.0,2.3,0.5,2.5,0.5,0.5,1.1,0.5,2.8,2.4,0.7,1.9,2.4,2.0,1.5,1.8,2.3,1.4,1.1,0.5,2.3,1.4,2.6,1.3,0.5,1.6,2.4,0.5,1.1,2.0,2.8,2.4,2.3,0.9,1.4,2.0,2.5,0.5,2.9,1.1,0.5,2.5,0.5,2.4,2.6,0.5,1.8,2.5,2.2,2.1,1.4,1.8,2.4,3.0,1.6,0.5,2.2,2.1,1.0,2.9,2.3,2.3,0.5,2.8,0.5,0.7,1.5,0.9,0.9,2.1,1.4,1.7,2.4,0.6,2.8,0.6,3.0,1.2,0.5,0.5,1.7,0.5,1.3,0.8,2.2,2.7,2.4,0.8,2.6,1.2,2.1,0.5,2.6,0.5,1.4,1.4,1.3,0.5,2.4,0.6,2.1,2.5,1.9,0.5,0.6,0.5,2.4,1.3,0.9,2.3,0.5,0.5,1.5,1.1,0.5,1.8,2.6,2.2,1.7,1.0,0.5,1.2,0.9,0.5,1.1,1.6,0.5,2.1,0.5,2.8,1.4,2.4,2.9,1.9,1.8,0.5,1.8,1.0,1.0,1.7,1.8,1.4,2.5,0.5,0.5,2.2,2.7,0.5,1.9,2.8,1.0,0.8,1.0,2.5,1.3,2.5,0.5,2.7,1.1,2.7,1.5,1.4,0.5,1.8,1.6,0.5,2.7,0.5,1.5,2.6,1.6,0.5,1.1,1.6,2.3,0.6,2.1,0.8,0.5,1.0,2.9,0.5,2.8,0.8,0.5,2.8,1.5,1.2,2.7,2.1,1.9,1.9,2.4,1.3,0.5,2.1,1.7,1.9,0.5,1.6,2.0,2.6,1.0,0.5,0.5,1.7,1.1,0.9,0.5,0.9,2.0,2.2,0.5,2.0,1.8,1.5,1.4,0.5,1.2,2.8,0.7,0.7,0.9,0.8,2.1,1.7,0.5,2.3,2.1,2.1,2.1,1.5,0.5,0.5,0.5,0.5,2.3,2.0,1.0,1.3,0.8,1.2,2.3,1.4,2.3,1.8,2.4,2.9,2.7,2.1,1.3,2.8,0.6,1.0,0.5,3.0,2.8,1.7,0.5,2.1,2.9,2.1,2.0,0.9,2.3,0.8,0.5,0.7,1.5,2.6,1.7,1.6,2.9,1.4,0.5,2.9,1.1,1.5,1.7,2.4,2.6,0.6,1.3,1.5,2.2,2.7,0.5,1.7,3.0,1.9,1.8,1.4,0.5,0.5,1.4,1.7,2.4,2.3,1.1,1.6,0.5,2.5,1.7,2.5,2.0,1.9,2.7,0.5,1.2,2.2,0.5,2.0,2.4,1.5,0.9,1.9,2.8,0.8,1.3,2.1,2.8,2.0,0.8,2.1,0.9,0.5,2.2,0.7,2.5,2.3,2.8,2.2,1.3,1.3,0.9,3.0,0.5,2.8,0.5,2.3,0.5,0.5,2.8,2.0,2.1,2.3,1.8,0.7,1.4,0.9,1.8,2.7,2.0,2.5,2.3,0.5,1.7,0.5,0.9,1.3,0.9,2.1,1.4,1.2,0.5,2.3,1.7,0.5,1.5,2.4,1.6,0.5,1.6,2.9,0.5,0.5,2.8,2.5,0.5,0.9,1.2,0.5,2.1,0.5,2.2,2.7,0.7,1.3,0.5,1.5,3.0,0.9,2.5,1.8,1.1,2.7,2.8,2.0,2.8,2.4,1.6,0.5,0.5,1.7,1.3,0.5,2.5,0.8,2.2,1.4,0.6,2.0,0.5,2.2,2.3,1.3,2.5,2.3,0.5,2.4,0.7,1.3,2.4,1.4,1.8,0.5,1.1,1.7,0.5,0.5,1.4,0.5,0.5,0.6,0.9,2.6,0.8,2.6,0.5,1.6,1.9,2.4,2.4,2.2,0.5,0.5,1.2,0.6,1.9,0.5,1.9,0.5,0.6,1.1,0.8,2.1,2.0,2.9,2.3,1.6,2.2,1.2,2.1,1.9,2.4,1.3,0.5,0.5,0.5,2.8,0.5,1.2,1.3,2.8,0.7,0.8,0.9,0.5,0.5,1.0,0.5,2.3,1.1,2.0,1.0,1.0,0.5,2.9,0.6,2.6,2.3,2.7,0.5,1.4,1.0,0.7,1.4,0.5,2.8,2.7,0.5,0.6,1.0,2.2,2.3,2.9,0.8,2.0,2.3,0.5,1.5,2.0,1.5,1.5,2.6,0.9,1.9,2.1,1.6,0.6,0.5,1.8,2.7,1.8,2.3,2.7,0.5,0.7,1.3,1.5,2.3,2.2,1.1,0.5,0.7,1.8,1.1,2.1,1.2,2.9,0.7,0.5,0.5,0.5,0.5,0.5,0.8,2.5,0.5,1.9,1.3,0.5,2.7,0.5,2.0,2.6,2.5,1.7,1.6,0.5,1.5,2.1,1.4,1.1,0.6,2.0,3.0,0.5,1.2,0.5,0.5,2.2,0.5,1.8,0.5,1.7,1.0,1.6,0.5,2.6,2.5,0.5,0.6,1.8,2.3,2.7,0.6,0.8,2.5,0.5,0.5,2.7,0.5,2.9,0.5,2.7,2.6,1.1,1.5,1.4,2.0,1.3,0.5,0.9,2.9,2.1,1.3,1.5,0.5,2.5,2.9,1.2,2.2,2.8,0.7,0.8,1.0,1.6,1.3,1.4,1.3,1.6,2.4,1.0,2.0,2.3,0.5,0.5,0.5,0.5,1.9,1.7,0.6,1.6,2.8,0.6,2.1,0.5,1.4,0.8,0.5,2.5,2.4,1.9,1.0,2.9,1.2,1.2,2.8,2.8,2.1,2.1,0.5,2.4,2.4,2.9,1.6,2.6,2.5,2.7,0.7,0.5,1.3,2.9,1.6,1.7,2.8,0.5,1.8,2.3,2.1,0.9,0.5,2.2,0.5,2.0,0.5,0.8,1.9,2.4,1.1,1.1,0.5,0.6,2.5,2.2,3.0,2.1,1.8,0.7,1.1,2.8,1.4,1.1,1.9,2.9,0.5,1.4,0.9,1.6,2.2,2.6,2.1,0.7,2.1,0.9,1.0,2.2,1.7,0.5,1.6,2.5,1.3,1.4,1.3,2.7,0.5,0.6,1.3,1.5,0.5,0.7,0.9,0.5,0.9,0.5,2.7,2.0,1.0,1.0,0.6,0.5,0.5,0.5,2.2,0.6,0.5,0.5,1.6,1.3,1.6,0.6,0.5,0.5,1.5,1.6,1.7,2.0,1.8,0.5,2.0,2.4,1.8,1.5,2.3,0.6,2.3,1.1,1.1,0.8,1.3,2.8,2.5,0.5,2.0,0.5,2.4,0.5,1.2,1.4,2.8,2.9,0.7,1.9,2.8,2.8,1.6,0.5,0.7,0.8,0.6,2.9,0.6,1.7,2.1,2.7,2.3,2.7,2.8,0.5,1.3,1.3,0.5,2.9,1.7,1.0,0.6,0.5,2.3,0.7,2.3,1.6,0.5,2.7,0.5,0.5,1.7,2.5,2.7,1.5,2.0,1.2,3.0,1.7,1.7,0.5,2.8,0.7,2.9,1.8,0.6,0.5,1.8,0.5,2.0,2.0,2.6,1.3,2.2,0.8,1.5,1.9,1.7,2.2,2.4,2.4,0.5,2.8,1.8,0.5,0.7,0.8,1.2,0.9,2.6,1.6,0.5,2.1,1.6,2.8,1.1,0.5,1.4,0.5,1.3,0.5,1.4,2.1,1.6,0.7,1.5,2.3,2.1,2.5,0.5,2.9,0.5,2.8,0.9,1.9,0.5,1.7,2.0,0.5,3.0,1.6,1.2,0.9,0.7,0.5,0.5,0.5,2.5,0.6,2.5,2.3,2.8,0.6,1.3,0.5,0.7,3.0,2.5,0.5,0.5,2.6,1.6,1.3,0.5,1.3,1.6,0.5,0.5,1.9,3.0,0.8,2.6,0.6,0.6,0.5,2.3,0.5,1.0,1.3,2.2,0.7,2.6,1.4,1.8,1.7,0.5,2.8,0.5,0.5,2.7,0.5,0.5,0.5,2.6,0.5,2.5,2.5,1.5,0.7,1.4,2.5,0.5,1.2,1.4,1.4,1.7,2.5,1.7,2.8,0.5,0.5,2.1,2.8,2.8,2.8,1.1,2.1,1.2,2.1,1.7,0.7,1.7,1.9,0.9,0.7,0.7,0.5,0.5,1.0,3.0,2.5,0.7,2.5,0.5,0.5,0.5,0.5,0.5,0.5,2.6,2.5,0.7,1.0,2.3,2.4,0.8,1.1,0.8,0.8,0.5,2.5,2.6,2.8,1.1,1.1,0.5,2.6,0.5,0.5,1.5,0.6,0.8,2.6,2.5,1.5,2.5,2.0,0.5,0.8,0.5,1.5,0.5,0.7,1.3,1.8,2.5,2.6,2.4,2.3,2.3,0.6,1.9,0.5,2.1,1.3,0.5,1.8,1.6,2.2,2.9,2.2,1.3,2.1,2.1,2.1,1.9,0.6,0.6,0.5,1.2,1.9,0.7,1.8,1.8,2.5,1.5,3.0,0.6,1.7,2.4,0.5,1.3,3.0,1.2,2.4,2.6,1.0,1.9,1.5,1.5,1.3,2.4,1.0,1.1,2.0,2.2,0.8,0.5,0.8,2.8,2.7,1.4,1.2,2.0,1.3,2.9,1.8,0.7,1.4,0.5,1.6,2.0,0.5,2.2,2.2,2.0,1.5,2.1,0.5,0.5,1.8,1.5,1.9,2.8,2.2,0.5,2.7,0.5,2.3,0.7,0.5,2.2,0.5,1.8,2.8,2.8,1.8,2.8,1.9,0.7,2.4,2.0,2.7,0.5,2.5,1.9,1.6,1.8,0.7,0.5,1.7,1.6,2.5,0.9,0.5,1.8,0.7,0.5,1.4,0.5,2.1,2.0,0.5,1.6,2.6,0.5,2.5,2.5,1.7,1.0,2.7,0.5,2.0,2.6,0.5,0.5,0.5,2.5,0.9,1.6,0.8,2.3,1.6,1.2,2.8,1.6,2.5,0.5,0.5,2.8,1.7,1.8,0.5,2.5,1.0,0.6,0.5,0.5,0.5,1.6,1.4,0.5,2.3,1.8,2.2,1.8,1.5,1.0,0.8,0.6,2.9,1.8,0.7,1.6,2.7,1.5,1.4,2.4,0.7,0.6,1.6,1.4,0.5,1.2,2.0,1.8,1.8,1.3,2.8,0.5,2.8,1.2,0.6,1.0,0.5,1.5,2.8,1.9,1.4,0.6,1.5,0.6,2.6,2.6,1.7,2.3,0.8,1.7,1.3,2.3,2.6,0.7,1.1,0.5,0.5,0.6,2.6,1.1,0.5,2.3,2.3,0.5,1.9,0.5,0.9,0.7,1.2,2.3,1.9,2.8,1.3,1.8,2.9,2.9,0.5,3.0,2.5,1.5,1.3,0.5,0.5,0.6,0.5,0.8,0.6,0.5,2.8,1.3,1.2,0.9,1.6,2.4,0.5,2.5,1.2,1.3,1.3,2.3,1.6,0.5,0.7,1.5,2.2,0.5,0.5,1.9,0.8,0.8,2.3,0.5,0.5,1.7,2.8,2.3,1.4,1.9,2.0,2.6,0.5,2.9,2.9,2.2,2.8,0.5,1.9,0.5,1.6,1.1,0.5,0.5,1.9,2.5,0.5,2.1,1.6,2.4,1.5,1.1,0.7,0.5,0.5,0.5,1.5,0.5,0.5,0.5,2.3,1.5,0.5,2.3,1.9,0.5,0.5,2.1,2.7,1.4,0.5,1.9,2.1,0.5,2.7,1.3,2.1,1.4,2.4,2.5,1.4,2.1,2.8,1.0,1.7,0.7,2.0,2.2,0.5,2.5,2.9,2.8,2.0,2.2,0.9,2.9,0.5,2.5,2.5,0.5,1.4,2.7,2.5,0.9,0.5,0.5,2.1,2.8,0.5,1.5,2.1,0.9,0.5,0.9,0.5,0.5,2.3,0.8,1.7,2.6,1.2,0.9,0.6,2.2,2.0,2.1,1.9,1.0,2.6,1.1,1.0,2.7,2.3,2.0,1.5,2.1,2.3,0.6,0.5,2.3,1.2,0.5,1.3,1.2,0.8,1.9,0.5,0.5,2.0,3.0,0.5,2.9,1.0,0.5,0.7,0.5,0.5,0.7,1.4,1.8,1.5,2.5,2.8,1.6,0.6,1.5,2.3,2.4,0.5,2.6,1.9,1.4,2.2,3.0,1.6,0.5,2.4,2.3,1.0,2.5,0.5,1.0,2.8,2.2,2.0,2.3,1.3,0.5,1.9,1.8,0.6,0.8,3.0,0.7,0.7,1.0,0.5,0.5,1.8,0.5,2.2,0.5,0.5,1.6,1.3,0.9,0.7,1.9,1.2,0.6,1.4,1.2,0.5,2.9,0.5,2.3,1.9,2.2,0.7,0.5,1.5,2.9,2.0,2.4,1.6,0.7,0.5,1.9,1.8,2.7,1.5,1.7,0.5,2.6,1.9,2.4,1.7,2.0,2.4,0.6,2.6,0.5,2.0,1.1,0.5,0.5,0.6,2.2,0.6,3.0,0.5,2.8,2.9,0.5,2.1,1.2,1.6,2.2,0.8,1.9,0.5,1.7,0.8,2.3,2.7,2.3,1.2,1.6,2.8,2.7,0.5,0.8,0.8,1.1,1.4,1.1,2.7,1.5,3.0,2.7,0.5,2.9,2.6,1.2,2.3,0.5,2.9,1.7,0.8,2.8,0.5,0.5,2.6,2.0,2.8,2.8,0.5,2.0,1.7,1.0,0.5,0.5,2.5,1.8,2.9,0.6,2.8,2.0,2.1,3.0,0.5,2.9,1.3,1.5,1.3,0.5,2.5,1.8,0.5,2.9,0.5,0.5,1.0,1.5,1.6,3.0,1.5,1.9,1.2,2.8,2.7,0.7,1.0,1.7,0.5,0.5,2.8,2.0,0.5,1.6,2.8,1.9,1.9,1.6,0.5,0.5,0.5,0.5,0.6,2.2,1.1,2.1,0.9,1.8,0.5,2.1,2.9,1.4,2.7,1.4,2.1,0.5,0.5,0.5,1.0,0.5,0.5,1.4,2.8,0.8,1.9,2.7,0.8,0.6,2.4,0.9,2.3,2.6,2.0,0.5,2.7,1.4,2.8,1.1,1.1,3.0,0.5,2.1,0.8,0.5,2.6,1.9,0.9,1.8,0.5,1.4,1.9,1.6,0.5,0.8,0.5,1.1,2.3,0.9,0.5,1.3,0.5,1.3,1.7,2.3,1.9,0.5,0.6,0.7,1.3,1.7,0.5,1.2,2.0,2.5,2.3,1.6,0.5,0.6,2.7,1.6,1.0,1.4,2.5,3.0,2.2,1.3,1.5,2.9,0.7,1.3,2.4,0.5,0.5,0.7,0.5,1.0,0.5,0.9,0.5,0.5,2.2,2.8,1.9,0.7,2.8,0.5,1.1,1.5,1.7,1.9,0.8,2.2,2.3,0.5,1.8,1.4,0.5,2.1,2.6,2.0,0.5,0.9,1.6,0.5,1.7,1.5,2.4,0.5,0.7,2.4,1.5,1.5,0.6,1.8,2.1,2.1,2.2,1.7,1.6,0.8,1.4,1.5,2.2,1.2,1.3,0.6,0.9,0.6,1.5,0.8,1.8,0.5,1.0,0.5,2.9,0.6,1.0,1.2,0.6,2.5,1.8,0.5,2.9,1.1,2.6,0.7,2.8,1.4,2.5,1.9,2.7,0.6,2.8,0.5,2.6,2.3,0.5,1.0,1.7,1.5,2.9,0.6,2.9,0.9,1.6,1.2,0.5,1.8,1.6,1.2,2.1,2.7,1.7,0.9,2.3,2.1,2.4,2.3,2.8,2.9,0.5,2.7,1.8,2.1,1.0,0.5,0.9,0.5,1.9,1.4,1.5,1.4,1.6,0.8,0.8,2.4,1.4,0.5,1.9,1.2,1.2,1.2,2.5,1.0,2.1,2.7,1.0,2.4,0.5,2.5,1.0,2.1,1.6,0.5,0.5,0.7,2.4,1.6,1.3,0.9,1.6,2.0,1.7,0.6,2.7,0.6,0.5,2.5,0.5,2.2,2.5,2.9,0.5,2.9,1.2,0.5,1.4,0.9,1.6,2.8,1.5,2.5,2.7,2.1,0.5,0.6,2.6,1.0,2.0,0.6,0.5,1.9,0.7,1.4,1.2,2.9,1.0,1.3,1.8,1.1,0.8,3.0,0.5,0.8,0.5,1.1,2.2,1.2,1.0,2.6,1.6,1.8,2.2,2.1,0.9,1.0,2.9,2.8,2.4,2.0,2.9,0.5,2.2,0.5,2.6,0.9,0.9,2.0],\"type\":\"histogram\",\"xaxis\":\"x\",\"yaxis\":\"y\"},{\"nbinsx\":40,\"x\":[1.2682994037090303,-1.4426950408889634,-1.4426950408889634,1.0913566679372915,5.484814947747078,-1.4426950408889634,1.8845585360339894,-1.4426950408889634,-1.4426950408889634,-1.9576151889712174,0.939222236853531,1.2682994037090303,0.9712326548170112,1.3478227064641846,-1.4426950408889634,null,-1.4426950408889634,-9.491221581029905,-1.4426950408889634,-1.4426950408889634,10.492058687257062,1.3478227064641846,1.0465599393958973,0.9712326548170112,5.484814947747078,2.9720134119884616,2.127643145234443,-1.4426950408889634,2.127643145234443,-1.4426950408889634,-1.4426950408889634,-1.4426950408889634,-9.491221581029905,1.2682994037090303,1.006794074949662,3.8114946867084014,1.200611174093137,2.127643145234443,1.4426950408889634,-1.4426950408889634,0.939222236853531,1.200611174093137,-1.4426950408889634,null,0.9712326548170112,0.939222236853531,10.492058687257062,1.7012975280181366,1.0465599393958973,1.3478227064641846,0.9102392266268373,2.9720134119884616,2.4663034623764317,1.5579869835537792,-1.4426950408889634,1.3478227064641846,1.006794074949662,3.8114946867084014,-1.4426950408889634,2.9720134119884616,0.9102392266268373,1.200611174093137,5.484814947747078,1.4426950408889634,1.0465599393958973,1.5579869835537792,-1.4426950408889634,2.9720134119884616,10.492058687257062,2.4663034623764317,-1.4426950408889634,1.1422452422715805,null,5.484814947747078,0.939222236853531,-1.9576151889712174,0.9712326548170112,2.127643145234443,1.0913566679372915,null,-1.9576151889712174,0.939222236853531,-9.491221581029905,-4.481420117724551,0.939222236853531,1.1422452422715805,1.4426950408889634,0.939222236853531,-1.4426950408889634,10.492058687257062,1.4426950408889634,1.4426950408889634,1.200611174093137,1.0913566679372915,1.8845585360339894,null,1.200611174093137,-1.4426950408889634,1.0913566679372915,-1.4426950408889634,-1.4426950408889634,10.492058687257062,-1.4426950408889634,0.9712326548170112,1.1422452422715805,-2.8036732520571284,1.5579869835537792,1.1422452422715805,1.4426950408889634,2.4663034623764317,1.7012975280181366,1.200611174093137,2.9720134119884616,10.492058687257062,-1.4426950408889634,1.200611174093137,2.9720134119884616,1.0465599393958973,3.8114946867084014,-1.4426950408889634,2.127643145234443,1.1422452422715805,-1.4426950408889634,10.492058687257062,1.4426950408889634,0.9712326548170112,1.1422452422715805,1.200611174093137,-9.491221581029905,2.9720134119884616,1.4426950408889634,1.0913566679372915,-1.4426950408889634,0.939222236853531,10.492058687257062,-1.4426950408889634,1.0913566679372915,-1.4426950408889634,1.1422452422715805,1.0465599393958973,-1.4426950408889634,1.7012975280181366,1.0913566679372915,1.2682994037090303,1.3478227064641846,2.9720134119884616,1.7012975280181366,1.1422452422715805,0.9102392266268373,2.127643145234443,-1.4426950408889634,1.2682994037090303,1.3478227064641846,null,0.939222236853531,1.200611174093137,1.200611174093137,-1.4426950408889634,0.9712326548170112,-1.4426950408889634,-2.8036732520571284,2.4663034623764317,-9.491221581029905,-9.491221581029905,1.3478227064641846,2.9720134119884616,1.8845585360339894,1.1422452422715805,-1.9576151889712174,0.9712326548170112,-1.9576151889712174,0.9102392266268373,5.484814947747078,-1.4426950408889634,-1.4426950408889634,1.8845585360339894,-1.4426950408889634,3.8114946867084014,-4.481420117724551,1.2682994037090303,1.006794074949662,1.1422452422715805,-4.481420117724551,1.0465599393958973,5.484814947747078,1.3478227064641846,-1.4426950408889634,1.0465599393958973,-1.4426950408889634,2.9720134119884616,2.9720134119884616,3.8114946867084014,-1.4426950408889634,1.1422452422715805,-1.9576151889712174,1.3478227064641846,1.0913566679372915,1.5579869835537792,-1.4426950408889634,-1.9576151889712174,-1.4426950408889634,1.1422452422715805,3.8114946867084014,-9.491221581029905,1.200611174093137,-1.4426950408889634,-1.4426950408889634,2.4663034623764317,10.492058687257062,-1.4426950408889634,1.7012975280181366,1.0465599393958973,1.2682994037090303,1.8845585360339894,null,-1.4426950408889634,5.484814947747078,-9.491221581029905,-1.4426950408889634,10.492058687257062,2.127643145234443,-1.4426950408889634,1.3478227064641846,-1.4426950408889634,0.9712326548170112,2.9720134119884616,1.1422452422715805,0.939222236853531,1.5579869835537792,1.7012975280181366,-1.4426950408889634,1.7012975280181366,null,null,1.8845585360339894,1.7012975280181366,2.9720134119884616,1.0913566679372915,-1.4426950408889634,-1.4426950408889634,1.2682994037090303,1.006794074949662,-1.4426950408889634,1.5579869835537792,0.9712326548170112,null,-4.481420117724551,null,1.0913566679372915,3.8114946867084014,1.0913566679372915,-1.4426950408889634,1.006794074949662,10.492058687257062,1.006794074949662,2.4663034623764317,2.9720134119884616,-1.4426950408889634,1.7012975280181366,2.127643145234443,-1.4426950408889634,1.006794074949662,-1.4426950408889634,2.4663034623764317,1.0465599393958973,2.127643145234443,-1.4426950408889634,10.492058687257062,2.127643145234443,1.200611174093137,-1.9576151889712174,1.3478227064641846,-4.481420117724551,-1.4426950408889634,null,0.939222236853531,-1.4426950408889634,0.9712326548170112,-4.481420117724551,-1.4426950408889634,0.9712326548170112,2.4663034623764317,5.484814947747078,1.006794074949662,1.3478227064641846,1.5579869835537792,1.5579869835537792,1.1422452422715805,3.8114946867084014,-1.4426950408889634,1.3478227064641846,1.8845585360339894,1.5579869835537792,-1.4426950408889634,2.127643145234443,1.4426950408889634,1.0465599393958973,null,-1.4426950408889634,-1.4426950408889634,1.8845585360339894,10.492058687257062,-9.491221581029905,-1.4426950408889634,-9.491221581029905,1.4426950408889634,1.2682994037090303,-1.4426950408889634,1.4426950408889634,1.7012975280181366,2.4663034623764317,2.9720134119884616,-1.4426950408889634,5.484814947747078,0.9712326548170112,-2.8036732520571284,-2.8036732520571284,-9.491221581029905,-4.481420117724551,1.3478227064641846,1.8845585360339894,-1.4426950408889634,1.200611174093137,1.3478227064641846,1.3478227064641846,1.3478227064641846,2.4663034623764317,-1.4426950408889634,-1.4426950408889634,-1.4426950408889634,-1.4426950408889634,1.200611174093137,1.4426950408889634,null,3.8114946867084014,-4.481420117724551,5.484814947747078,1.200611174093137,2.9720134119884616,1.200611174093137,1.7012975280181366,1.1422452422715805,0.939222236853531,1.006794074949662,1.3478227064641846,3.8114946867084014,0.9712326548170112,-1.9576151889712174,null,-1.4426950408889634,0.9102392266268373,0.9712326548170112,1.8845585360339894,-1.4426950408889634,1.3478227064641846,0.939222236853531,1.3478227064641846,1.4426950408889634,-9.491221581029905,1.200611174093137,-4.481420117724551,-1.4426950408889634,-2.8036732520571284,2.4663034623764317,1.0465599393958973,1.8845585360339894,2.127643145234443,0.939222236853531,2.9720134119884616,-1.4426950408889634,0.939222236853531,10.492058687257062,2.4663034623764317,1.8845585360339894,1.1422452422715805,1.0465599393958973,-1.9576151889712174,3.8114946867084014,2.4663034623764317,1.2682994037090303,1.006794074949662,-1.4426950408889634,1.8845585360339894,0.9102392266268373,1.5579869835537792,1.7012975280181366,2.9720134119884616,-1.4426950408889634,-1.4426950408889634,2.9720134119884616,1.8845585360339894,1.1422452422715805,1.200611174093137,10.492058687257062,2.127643145234443,-1.4426950408889634,1.0913566679372915,1.8845585360339894,1.0913566679372915,1.4426950408889634,1.5579869835537792,1.006794074949662,-1.4426950408889634,5.484814947747078,1.2682994037090303,-1.4426950408889634,1.4426950408889634,1.1422452422715805,2.4663034623764317,-9.491221581029905,1.5579869835537792,0.9712326548170112,-4.481420117724551,3.8114946867084014,1.3478227064641846,0.9712326548170112,1.4426950408889634,-4.481420117724551,1.3478227064641846,-9.491221581029905,-1.4426950408889634,1.2682994037090303,-2.8036732520571284,1.0913566679372915,1.200611174093137,0.9712326548170112,1.2682994037090303,3.8114946867084014,3.8114946867084014,-9.491221581029905,0.9102392266268373,-1.4426950408889634,0.9712326548170112,-1.4426950408889634,1.200611174093137,-1.4426950408889634,-1.4426950408889634,0.9712326548170112,1.4426950408889634,1.3478227064641846,1.200611174093137,1.7012975280181366,-2.8036732520571284,2.9720134119884616,-9.491221581029905,1.7012975280181366,1.006794074949662,1.4426950408889634,1.0913566679372915,1.200611174093137,-1.4426950408889634,1.8845585360339894,-1.4426950408889634,-9.491221581029905,3.8114946867084014,-9.491221581029905,1.3478227064641846,2.9720134119884616,5.484814947747078,-1.4426950408889634,1.200611174093137,1.8845585360339894,-1.4426950408889634,2.4663034623764317,1.1422452422715805,2.127643145234443,-1.4426950408889634,2.127643145234443,0.939222236853531,-1.4426950408889634,-1.4426950408889634,0.9712326548170112,1.0913566679372915,-1.4426950408889634,-9.491221581029905,5.484814947747078,-1.4426950408889634,1.3478227064641846,-1.4426950408889634,1.2682994037090303,1.006794074949662,-2.8036732520571284,3.8114946867084014,-1.4426950408889634,2.4663034623764317,0.9102392266268373,-9.491221581029905,1.0913566679372915,1.7012975280181366,10.492058687257062,1.006794074949662,0.9712326548170112,1.4426950408889634,0.9712326548170112,1.1422452422715805,2.127643145234443,-1.4426950408889634,-1.4426950408889634,1.8845585360339894,3.8114946867084014,-1.4426950408889634,1.0913566679372915,-4.481420117724551,1.2682994037090303,2.9720134119884616,-1.9576151889712174,1.4426950408889634,-1.4426950408889634,1.2682994037090303,1.200611174093137,3.8114946867084014,1.0913566679372915,1.200611174093137,-1.4426950408889634,1.1422452422715805,-2.8036732520571284,3.8114946867084014,1.1422452422715805,2.9720134119884616,1.7012975280181366,-1.4426950408889634,10.492058687257062,1.8845585360339894,-1.4426950408889634,-1.4426950408889634,2.9720134119884616,-1.4426950408889634,-1.4426950408889634,-1.9576151889712174,-9.491221581029905,1.0465599393958973,-4.481420117724551,1.0465599393958973,-1.4426950408889634,2.127643145234443,1.5579869835537792,1.1422452422715805,1.1422452422715805,1.2682994037090303,-1.4426950408889634,-1.4426950408889634,5.484814947747078,-1.9576151889712174,1.5579869835537792,-1.4426950408889634,1.5579869835537792,-1.4426950408889634,-1.9576151889712174,10.492058687257062,-4.481420117724551,1.3478227064641846,1.4426950408889634,0.939222236853531,1.200611174093137,2.127643145234443,1.2682994037090303,5.484814947747078,1.3478227064641846,1.5579869835537792,1.1422452422715805,3.8114946867084014,-1.4426950408889634,-1.4426950408889634,-1.4426950408889634,0.9712326548170112,-1.4426950408889634,5.484814947747078,3.8114946867084014,0.9712326548170112,-2.8036732520571284,-4.481420117724551,-9.491221581029905,-1.4426950408889634,-1.4426950408889634,null,-1.4426950408889634,1.200611174093137,10.492058687257062,1.4426950408889634,null,null,-1.4426950408889634,0.939222236853531,-1.9576151889712174,1.0465599393958973,1.200611174093137,1.006794074949662,-1.4426950408889634,2.9720134119884616,null,-2.8036732520571284,2.9720134119884616,-1.4426950408889634,0.9712326548170112,1.006794074949662,-1.4426950408889634,-1.9576151889712174,null,1.2682994037090303,1.200611174093137,0.939222236853531,-4.481420117724551,1.4426950408889634,1.200611174093137,-1.4426950408889634,2.4663034623764317,1.4426950408889634,2.4663034623764317,2.4663034623764317,1.0465599393958973,-9.491221581029905,1.5579869835537792,1.3478227064641846,2.127643145234443,-1.9576151889712174,-1.4426950408889634,1.7012975280181366,1.006794074949662,1.7012975280181366,1.200611174093137,1.006794074949662,-1.4426950408889634,-2.8036732520571284,3.8114946867084014,2.4663034623764317,1.200611174093137,1.2682994037090303,10.492058687257062,-1.4426950408889634,-2.8036732520571284,1.7012975280181366,10.492058687257062,1.3478227064641846,5.484814947747078,0.939222236853531,-2.8036732520571284,-1.4426950408889634,-1.4426950408889634,-1.4426950408889634,-1.4426950408889634,-1.4426950408889634,-4.481420117724551,1.0913566679372915,-1.4426950408889634,1.5579869835537792,3.8114946867084014,-1.4426950408889634,1.006794074949662,-1.4426950408889634,1.4426950408889634,1.0465599393958973,1.0913566679372915,1.8845585360339894,2.127643145234443,-1.4426950408889634,2.4663034623764317,1.3478227064641846,2.9720134119884616,10.492058687257062,-1.9576151889712174,1.4426950408889634,0.9102392266268373,-1.4426950408889634,5.484814947747078,-1.4426950408889634,-1.4426950408889634,1.2682994037090303,-1.4426950408889634,1.7012975280181366,-1.4426950408889634,1.8845585360339894,null,2.127643145234443,-1.4426950408889634,1.0465599393958973,1.0913566679372915,-1.4426950408889634,-1.9576151889712174,1.7012975280181366,1.200611174093137,1.006794074949662,-1.9576151889712174,-4.481420117724551,1.0913566679372915,-1.4426950408889634,-1.4426950408889634,1.006794074949662,-1.4426950408889634,0.939222236853531,-1.4426950408889634,1.006794074949662,1.0465599393958973,10.492058687257062,2.4663034623764317,2.9720134119884616,1.4426950408889634,3.8114946867084014,-1.4426950408889634,-9.491221581029905,0.939222236853531,1.3478227064641846,3.8114946867084014,2.4663034623764317,-1.4426950408889634,1.0913566679372915,0.939222236853531,5.484814947747078,1.2682994037090303,0.9712326548170112,-2.8036732520571284,-4.481420117724551,null,2.127643145234443,3.8114946867084014,2.9720134119884616,3.8114946867084014,2.127643145234443,1.1422452422715805,null,1.4426950408889634,1.200611174093137,-1.4426950408889634,-1.4426950408889634,-1.4426950408889634,-1.4426950408889634,1.5579869835537792,1.8845585360339894,-1.9576151889712174,2.127643145234443,0.9712326548170112,-1.9576151889712174,1.3478227064641846,-1.4426950408889634,2.9720134119884616,-4.481420117724551,-1.4426950408889634,1.0913566679372915,1.1422452422715805,1.5579869835537792,null,0.939222236853531,5.484814947747078,5.484814947747078,0.9712326548170112,0.9712326548170112,1.3478227064641846,1.3478227064641846,-1.4426950408889634,1.1422452422715805,1.1422452422715805,0.939222236853531,2.127643145234443,1.0465599393958973,1.0913566679372915,1.006794074949662,-2.8036732520571284,-1.4426950408889634,3.8114946867084014,0.939222236853531,2.127643145234443,1.8845585360339894,0.9712326548170112,-1.4426950408889634,1.7012975280181366,1.200611174093137,1.3478227064641846,-9.491221581029905,-1.4426950408889634,1.2682994037090303,-1.4426950408889634,1.4426950408889634,-1.4426950408889634,-4.481420117724551,1.5579869835537792,1.1422452422715805,10.492058687257062,10.492058687257062,-1.4426950408889634,-1.9576151889712174,1.0913566679372915,1.2682994037090303,0.9102392266268373,1.3478227064641846,1.7012975280181366,-2.8036732520571284,10.492058687257062,0.9712326548170112,2.9720134119884616,10.492058687257062,1.5579869835537792,0.939222236853531,-1.4426950408889634,2.9720134119884616,-9.491221581029905,2.127643145234443,1.2682994037090303,1.0465599393958973,1.3478227064641846,-2.8036732520571284,1.3478227064641846,-9.491221581029905,null,1.2682994037090303,1.8845585360339894,-1.4426950408889634,2.127643145234443,1.0913566679372915,3.8114946867084014,2.9720134119884616,3.8114946867084014,1.006794074949662,-1.4426950408889634,-1.9576151889712174,3.8114946867084014,2.4663034623764317,-1.4426950408889634,-2.8036732520571284,-9.491221581029905,-1.4426950408889634,-9.491221581029905,-1.4426950408889634,1.006794074949662,1.4426950408889634,null,null,-1.9576151889712174,-1.4426950408889634,-1.4426950408889634,-1.4426950408889634,1.2682994037090303,-1.9576151889712174,-1.4426950408889634,-1.4426950408889634,2.127643145234443,3.8114946867084014,2.127643145234443,-1.9576151889712174,-1.4426950408889634,-1.4426950408889634,2.4663034623764317,2.127643145234443,1.8845585360339894,1.4426950408889634,1.7012975280181366,-1.4426950408889634,1.4426950408889634,1.1422452422715805,1.7012975280181366,2.4663034623764317,1.200611174093137,-1.9576151889712174,1.200611174093137,10.492058687257062,10.492058687257062,-4.481420117724551,3.8114946867084014,0.9712326548170112,1.0913566679372915,-1.4426950408889634,1.4426950408889634,-1.4426950408889634,1.1422452422715805,-1.4426950408889634,5.484814947747078,2.9720134119884616,0.9712326548170112,0.939222236853531,-2.8036732520571284,1.5579869835537792,0.9712326548170112,0.9712326548170112,2.127643145234443,-1.4426950408889634,-2.8036732520571284,-4.481420117724551,-1.9576151889712174,0.939222236853531,-1.9576151889712174,1.8845585360339894,1.3478227064641846,1.006794074949662,1.200611174093137,1.006794074949662,0.9712326548170112,-1.4426950408889634,3.8114946867084014,3.8114946867084014,-1.4426950408889634,0.939222236853531,1.8845585360339894,null,-1.9576151889712174,-1.4426950408889634,1.200611174093137,-2.8036732520571284,1.200611174093137,2.127643145234443,-1.4426950408889634,1.006794074949662,-1.4426950408889634,-1.4426950408889634,1.8845585360339894,1.0913566679372915,1.006794074949662,2.4663034623764317,1.4426950408889634,5.484814947747078,0.9102392266268373,1.8845585360339894,1.8845585360339894,-1.4426950408889634,0.9712326548170112,-2.8036732520571284,0.939222236853531,1.7012975280181366,-1.9576151889712174,-1.4426950408889634,1.7012975280181366,-1.4426950408889634,1.4426950408889634,1.4426950408889634,1.0465599393958973,3.8114946867084014,1.2682994037090303,-4.481420117724551,2.4663034623764317,1.5579869835537792,1.8845585360339894,1.2682994037090303,1.1422452422715805,1.1422452422715805,-1.4426950408889634,0.9712326548170112,1.7012975280181366,-1.4426950408889634,-2.8036732520571284,-4.481420117724551,5.484814947747078,-9.491221581029905,1.0465599393958973,2.127643145234443,-1.4426950408889634,1.3478227064641846,2.127643145234443,0.9712326548170112,10.492058687257062,-1.4426950408889634,2.9720134119884616,-1.4426950408889634,3.8114946867084014,-1.4426950408889634,2.9720134119884616,1.3478227064641846,2.127643145234443,-2.8036732520571284,2.4663034623764317,1.200611174093137,1.3478227064641846,1.0913566679372915,-1.4426950408889634,0.939222236853531,-1.4426950408889634,0.9712326548170112,-9.491221581029905,1.5579869835537792,-1.4426950408889634,1.8845585360339894,1.4426950408889634,-1.4426950408889634,0.9102392266268373,2.127643145234443,5.484814947747078,-9.491221581029905,-2.8036732520571284,-1.4426950408889634,-1.4426950408889634,-1.4426950408889634,1.0913566679372915,-1.9576151889712174,1.0913566679372915,1.200611174093137,0.9712326548170112,-1.9576151889712174,3.8114946867084014,-1.4426950408889634,-2.8036732520571284,0.9102392266268373,1.0913566679372915,-1.4426950408889634,-1.4426950408889634,1.0465599393958973,2.127643145234443,3.8114946867084014,-1.4426950408889634,3.8114946867084014,2.127643145234443,-1.4426950408889634,-1.4426950408889634,1.5579869835537792,0.9102392266268373,-4.481420117724551,1.0465599393958973,-1.9576151889712174,-1.9576151889712174,-1.4426950408889634,1.200611174093137,-1.4426950408889634,null,3.8114946867084014,1.2682994037090303,-2.8036732520571284,1.0465599393958973,2.9720134119884616,1.7012975280181366,1.8845585360339894,-1.4426950408889634,0.9712326548170112,-1.4426950408889634,-1.4426950408889634,1.006794074949662,-1.4426950408889634,-1.4426950408889634,-1.4426950408889634,1.0465599393958973,-1.4426950408889634,1.0913566679372915,1.0913566679372915,2.4663034623764317,-2.8036732520571284,2.9720134119884616,1.0913566679372915,-1.4426950408889634,5.484814947747078,2.9720134119884616,2.9720134119884616,1.8845585360339894,1.0913566679372915,1.8845585360339894,0.9712326548170112,-1.4426950408889634,-1.4426950408889634,1.3478227064641846,0.9712326548170112,0.9712326548170112,0.9712326548170112,10.492058687257062,1.3478227064641846,5.484814947747078,1.3478227064641846,1.8845585360339894,-2.8036732520571284,1.8845585360339894,1.5579869835537792,-9.491221581029905,-2.8036732520571284,-2.8036732520571284,-1.4426950408889634,-1.4426950408889634,null,0.9102392266268373,1.0913566679372915,-2.8036732520571284,1.0913566679372915,-1.4426950408889634,-1.4426950408889634,-1.4426950408889634,-1.4426950408889634,-1.4426950408889634,-1.4426950408889634,1.0465599393958973,1.0913566679372915,-2.8036732520571284,null,1.200611174093137,1.1422452422715805,-4.481420117724551,10.492058687257062,-4.481420117724551,-4.481420117724551,-1.4426950408889634,1.0913566679372915,1.0465599393958973,0.9712326548170112,10.492058687257062,10.492058687257062,-1.4426950408889634,1.0465599393958973,-1.4426950408889634,-1.4426950408889634,2.4663034623764317,-1.9576151889712174,-4.481420117724551,1.0465599393958973,1.0913566679372915,2.4663034623764317,1.0913566679372915,1.4426950408889634,-1.4426950408889634,-4.481420117724551,-1.4426950408889634,2.4663034623764317,-1.4426950408889634,-2.8036732520571284,3.8114946867084014,1.7012975280181366,1.0913566679372915,1.0465599393958973,1.1422452422715805,1.200611174093137,1.200611174093137,-1.9576151889712174,1.5579869835537792,-1.4426950408889634,1.3478227064641846,3.8114946867084014,-1.4426950408889634,1.7012975280181366,2.127643145234443,1.2682994037090303,0.939222236853531,1.2682994037090303,3.8114946867084014,1.3478227064641846,1.3478227064641846,1.3478227064641846,1.5579869835537792,-1.9576151889712174,-1.9576151889712174,-1.4426950408889634,5.484814947747078,1.5579869835537792,-2.8036732520571284,1.7012975280181366,1.7012975280181366,1.0913566679372915,2.4663034623764317,0.9102392266268373,-1.9576151889712174,1.8845585360339894,1.1422452422715805,-1.4426950408889634,3.8114946867084014,0.9102392266268373,5.484814947747078,1.1422452422715805,1.0465599393958973,null,1.5579869835537792,2.4663034623764317,2.4663034623764317,3.8114946867084014,1.1422452422715805,null,10.492058687257062,1.4426950408889634,1.2682994037090303,-4.481420117724551,-1.4426950408889634,-4.481420117724551,0.9712326548170112,1.006794074949662,2.9720134119884616,5.484814947747078,1.4426950408889634,3.8114946867084014,0.939222236853531,1.7012975280181366,-2.8036732520571284,2.9720134119884616,-1.4426950408889634,2.127643145234443,1.4426950408889634,-1.4426950408889634,1.2682994037090303,1.2682994037090303,1.4426950408889634,2.4663034623764317,1.3478227064641846,-1.4426950408889634,-1.4426950408889634,1.7012975280181366,2.4663034623764317,1.5579869835537792,0.9712326548170112,1.2682994037090303,-1.4426950408889634,1.006794074949662,-1.4426950408889634,1.200611174093137,-2.8036732520571284,-1.4426950408889634,1.2682994037090303,-1.4426950408889634,1.7012975280181366,0.9712326548170112,0.9712326548170112,1.7012975280181366,0.9712326548170112,1.5579869835537792,-2.8036732520571284,1.1422452422715805,1.4426950408889634,1.006794074949662,-1.4426950408889634,1.0913566679372915,1.5579869835537792,2.127643145234443,1.7012975280181366,-2.8036732520571284,-1.4426950408889634,1.8845585360339894,2.127643145234443,1.0913566679372915,-9.491221581029905,-1.4426950408889634,1.7012975280181366,-2.8036732520571284,-1.4426950408889634,2.9720134119884616,-1.4426950408889634,1.3478227064641846,1.4426950408889634,-1.4426950408889634,2.127643145234443,1.0465599393958973,-1.4426950408889634,1.0913566679372915,1.0913566679372915,1.8845585360339894,null,1.006794074949662,-1.4426950408889634,1.4426950408889634,1.0465599393958973,-1.4426950408889634,-1.4426950408889634,-1.4426950408889634,1.0913566679372915,-9.491221581029905,2.127643145234443,-4.481420117724551,1.200611174093137,2.127643145234443,5.484814947747078,0.9712326548170112,2.127643145234443,1.0913566679372915,-1.4426950408889634,-1.4426950408889634,0.9712326548170112,1.8845585360339894,1.7012975280181366,-1.4426950408889634,1.0913566679372915,null,-1.9576151889712174,-1.4426950408889634,-1.4426950408889634,-1.4426950408889634,2.127643145234443,2.9720134119884616,-1.4426950408889634,1.200611174093137,1.7012975280181366,1.2682994037090303,1.7012975280181366,2.4663034623764317,null,-4.481420117724551,-1.9576151889712174,0.939222236853531,1.7012975280181366,-2.8036732520571284,2.127643145234443,1.006794074949662,2.4663034623764317,2.9720134119884616,1.1422452422715805,-2.8036732520571284,-1.9576151889712174,2.127643145234443,2.9720134119884616,-1.4426950408889634,5.484814947747078,1.4426950408889634,1.7012975280181366,1.7012975280181366,3.8114946867084014,0.9712326548170112,-1.4426950408889634,0.9712326548170112,5.484814947747078,-1.9576151889712174,null,-1.4426950408889634,2.4663034623764317,0.9712326548170112,1.5579869835537792,2.9720134119884616,-1.9576151889712174,2.4663034623764317,-1.9576151889712174,1.0465599393958973,1.0465599393958973,1.8845585360339894,1.200611174093137,-4.481420117724551,1.8845585360339894,3.8114946867084014,1.200611174093137,1.0465599393958973,-2.8036732520571284,10.492058687257062,-1.4426950408889634,-1.4426950408889634,-1.9576151889712174,1.0465599393958973,10.492058687257062,-1.4426950408889634,1.200611174093137,1.200611174093137,-1.4426950408889634,1.5579869835537792,-1.4426950408889634,-9.491221581029905,-2.8036732520571284,5.484814947747078,1.200611174093137,1.5579869835537792,0.9712326548170112,3.8114946867084014,1.7012975280181366,0.939222236853531,0.939222236853531,-1.4426950408889634,0.9102392266268373,1.0913566679372915,2.4663034623764317,3.8114946867084014,-1.4426950408889634,-1.4426950408889634,-1.9576151889712174,-1.4426950408889634,-4.481420117724551,-1.9576151889712174,-1.4426950408889634,0.9712326548170112,3.8114946867084014,5.484814947747078,-9.491221581029905,2.127643145234443,1.1422452422715805,-1.4426950408889634,1.0913566679372915,5.484814947747078,3.8114946867084014,3.8114946867084014,1.200611174093137,2.127643145234443,-1.4426950408889634,-2.8036732520571284,2.4663034623764317,1.2682994037090303,-1.4426950408889634,-1.4426950408889634,1.5579869835537792,-4.481420117724551,-4.481420117724551,1.200611174093137,-1.4426950408889634,-1.4426950408889634,1.8845585360339894,0.9712326548170112,1.200611174093137,2.9720134119884616,1.5579869835537792,1.4426950408889634,1.0465599393958973,-1.4426950408889634,0.939222236853531,0.939222236853531,1.2682994037090303,0.9712326548170112,-1.4426950408889634,1.5579869835537792,-1.4426950408889634,2.127643145234443,10.492058687257062,-1.4426950408889634,-1.4426950408889634,1.5579869835537792,1.0913566679372915,-1.4426950408889634,1.3478227064641846,2.127643145234443,1.1422452422715805,2.4663034623764317,10.492058687257062,-2.8036732520571284,-1.4426950408889634,-1.4426950408889634,-1.4426950408889634,2.4663034623764317,-1.4426950408889634,-1.4426950408889634,-1.4426950408889634,1.200611174093137,2.4663034623764317,-1.4426950408889634,1.200611174093137,1.5579869835537792,-1.4426950408889634,-1.4426950408889634,1.3478227064641846,1.006794074949662,2.9720134119884616,-1.4426950408889634,1.5579869835537792,1.3478227064641846,-1.4426950408889634,1.006794074949662,3.8114946867084014,1.3478227064641846,2.9720134119884616,1.1422452422715805,1.0913566679372915,2.9720134119884616,1.3478227064641846,0.9712326548170112,null,1.8845585360339894,-2.8036732520571284,1.4426950408889634,1.2682994037090303,-1.4426950408889634,1.0913566679372915,0.939222236853531,0.9712326548170112,1.4426950408889634,1.2682994037090303,-9.491221581029905,0.939222236853531,-1.4426950408889634,1.0913566679372915,1.0913566679372915,-1.4426950408889634,2.9720134119884616,1.006794074949662,1.0913566679372915,-9.491221581029905,-1.4426950408889634,-1.4426950408889634,1.3478227064641846,0.9712326548170112,-1.4426950408889634,2.4663034623764317,1.3478227064641846,-9.491221581029905,-1.4426950408889634,-9.491221581029905,-1.4426950408889634,-1.4426950408889634,1.200611174093137,-4.481420117724551,1.8845585360339894,1.0465599393958973,5.484814947747078,-9.491221581029905,-1.9576151889712174,1.2682994037090303,1.4426950408889634,1.3478227064641846,1.5579869835537792,null,1.0465599393958973,10.492058687257062,null,1.006794074949662,1.200611174093137,1.4426950408889634,2.4663034623764317,1.3478227064641846,1.200611174093137,-1.9576151889712174,-1.4426950408889634,1.200611174093137,5.484814947747078,-1.4426950408889634,3.8114946867084014,5.484814947747078,-4.481420117724551,1.5579869835537792,-1.4426950408889634,-1.4426950408889634,1.4426950408889634,0.9102392266268373,-1.4426950408889634,0.939222236853531,null,-1.4426950408889634,-2.8036732520571284,-1.4426950408889634,-1.4426950408889634,-2.8036732520571284,2.9720134119884616,1.7012975280181366,2.4663034623764317,1.0913566679372915,0.9712326548170112,2.127643145234443,-1.9576151889712174,2.4663034623764317,1.200611174093137,1.1422452422715805,-1.4426950408889634,1.0465599393958973,1.5579869835537792,2.9720134119884616,1.2682994037090303,0.9102392266268373,2.127643145234443,-1.4426950408889634,1.1422452422715805,1.200611174093137,null,1.0913566679372915,-1.4426950408889634,null,0.9712326548170112,1.2682994037090303,1.4426950408889634,1.200611174093137,3.8114946867084014,-1.4426950408889634,1.5579869835537792,1.7012975280181366,-1.9576151889712174,-4.481420117724551,0.9102392266268373,-2.8036732520571284,-2.8036732520571284,null,-1.4426950408889634,-1.4426950408889634,1.7012975280181366,-1.4426950408889634,1.2682994037090303,-1.4426950408889634,-1.4426950408889634,2.127643145234443,3.8114946867084014,-9.491221581029905,-2.8036732520571284,1.5579869835537792,5.484814947747078,-1.9576151889712174,2.9720134119884616,5.484814947747078,-1.4426950408889634,0.939222236853531,-1.4426950408889634,1.200611174093137,1.5579869835537792,1.2682994037090303,-2.8036732520571284,-1.4426950408889634,2.4663034623764317,0.939222236853531,1.4426950408889634,1.1422452422715805,2.127643145234443,-2.8036732520571284,-1.4426950408889634,1.5579869835537792,1.7012975280181366,1.006794074949662,2.4663034623764317,1.8845585360339894,-1.4426950408889634,1.0465599393958973,1.5579869835537792,1.1422452422715805,1.8845585360339894,1.4426950408889634,1.1422452422715805,-1.9576151889712174,1.0465599393958973,-1.4426950408889634,1.4426950408889634,10.492058687257062,-1.4426950408889634,-1.4426950408889634,-1.9576151889712174,1.2682994037090303,-1.9576151889712174,0.9102392266268373,-1.4426950408889634,0.9712326548170112,0.939222236853531,-1.4426950408889634,1.3478227064641846,5.484814947747078,2.127643145234443,1.2682994037090303,-4.481420117724551,1.5579869835537792,-1.4426950408889634,1.8845585360339894,-4.481420117724551,1.200611174093137,1.006794074949662,1.200611174093137,5.484814947747078,2.127643145234443,0.9712326548170112,1.006794074949662,-1.4426950408889634,-4.481420117724551,-4.481420117724551,10.492058687257062,2.9720134119884616,10.492058687257062,1.006794074949662,2.4663034623764317,0.9102392266268373,1.006794074949662,-1.4426950408889634,0.939222236853531,1.0465599393958973,5.484814947747078,1.200611174093137,-1.4426950408889634,0.939222236853531,1.8845585360339894,-4.481420117724551,0.9712326548170112,-1.4426950408889634,-1.4426950408889634,1.0465599393958973,1.4426950408889634,0.9712326548170112,0.9712326548170112,-1.4426950408889634,1.4426950408889634,1.8845585360339894,null,-1.4426950408889634,-1.4426950408889634,1.0913566679372915,1.7012975280181366,0.939222236853531,-1.9576151889712174,0.9712326548170112,1.4426950408889634,1.3478227064641846,0.9102392266268373,-1.4426950408889634,0.939222236853531,3.8114946867084014,2.4663034623764317,3.8114946867084014,-1.4426950408889634,1.0913566679372915,1.7012975280181366,-1.4426950408889634,0.939222236853531,-1.4426950408889634,-1.4426950408889634,null,2.4663034623764317,2.127643145234443,0.9102392266268373,2.4663034623764317,1.5579869835537792,5.484814947747078,0.9712326548170112,1.006794074949662,-2.8036732520571284,null,1.8845585360339894,-1.4426950408889634,-1.4426950408889634,0.9712326548170112,1.4426950408889634,-1.4426950408889634,2.127643145234443,0.9712326548170112,1.5579869835537792,1.5579869835537792,2.127643145234443,-1.4426950408889634,-1.4426950408889634,-1.4426950408889634,-1.4426950408889634,-1.9576151889712174,1.2682994037090303,10.492058687257062,1.3478227064641846,-9.491221581029905,1.7012975280181366,-1.4426950408889634,1.3478227064641846,0.939222236853531,2.9720134119884616,1.006794074949662,2.9720134119884616,1.3478227064641846,-1.4426950408889634,-1.4426950408889634,-1.4426950408889634,null,-1.4426950408889634,-1.4426950408889634,2.9720134119884616,0.9712326548170112,-4.481420117724551,1.5579869835537792,1.006794074949662,-4.481420117724551,-1.9576151889712174,1.1422452422715805,-9.491221581029905,1.200611174093137,1.0465599393958973,1.4426950408889634,-1.4426950408889634,1.006794074949662,2.9720134119884616,0.9712326548170112,10.492058687257062,10.492058687257062,0.9102392266268373,-1.4426950408889634,1.3478227064641846,-4.481420117724551,-1.4426950408889634,1.0465599393958973,1.5579869835537792,-9.491221581029905,1.7012975280181366,-1.4426950408889634,2.9720134119884616,1.5579869835537792,2.127643145234443,-1.4426950408889634,-4.481420117724551,-1.4426950408889634,10.492058687257062,1.200611174093137,-9.491221581029905,-1.4426950408889634,3.8114946867084014,-1.4426950408889634,3.8114946867084014,1.8845585360339894,1.200611174093137,1.5579869835537792,-1.4426950408889634,-1.9576151889712174,-2.8036732520571284,3.8114946867084014,1.8845585360339894,-1.4426950408889634,5.484814947747078,1.4426950408889634,1.0913566679372915,1.200611174093137,2.127643145234443,-1.4426950408889634,-1.9576151889712174,1.006794074949662,2.127643145234443,null,2.9720134119884616,1.0913566679372915,0.9102392266268373,1.2682994037090303,3.8114946867084014,2.4663034623764317,0.939222236853531,-2.8036732520571284,3.8114946867084014,1.1422452422715805,-1.4426950408889634,-1.4426950408889634,-2.8036732520571284,-1.4426950408889634,null,-1.4426950408889634,-9.491221581029905,-1.4426950408889634,-1.4426950408889634,1.2682994037090303,0.9712326548170112,1.5579869835537792,-2.8036732520571284,0.9712326548170112,-1.4426950408889634,10.492058687257062,2.4663034623764317,1.8845585360339894,1.5579869835537792,-4.481420117724551,1.2682994037090303,1.200611174093137,-1.4426950408889634,1.7012975280181366,2.9720134119884616,-1.4426950408889634,1.3478227064641846,1.0465599393958973,1.4426950408889634,-1.4426950408889634,-9.491221581029905,2.127643145234443,-1.4426950408889634,1.8845585360339894,2.4663034623764317,1.1422452422715805,-1.4426950408889634,-2.8036732520571284,1.1422452422715805,2.4663034623764317,2.4663034623764317,-1.9576151889712174,1.7012975280181366,1.3478227064641846,1.3478227064641846,1.2682994037090303,1.8845585360339894,2.127643145234443,-4.481420117724551,2.9720134119884616,2.4663034623764317,1.2682994037090303,5.484814947747078,3.8114946867084014,-1.9576151889712174,-9.491221581029905,-1.9576151889712174,2.4663034623764317,-4.481420117724551,1.7012975280181366,-1.4426950408889634,null,-1.4426950408889634,0.939222236853531,-1.9576151889712174,null,5.484814947747078,-1.9576151889712174,1.0913566679372915,1.7012975280181366,-1.4426950408889634,0.939222236853531,10.492058687257062,1.0465599393958973,-2.8036732520571284,0.9712326548170112,2.9720134119884616,1.0913566679372915,1.5579869835537792,1.006794074949662,-1.9576151889712174,0.9712326548170112,-1.4426950408889634,1.0465599393958973,1.200611174093137,-1.4426950408889634,null,1.8845585360339894,2.4663034623764317,0.939222236853531,-1.9576151889712174,0.939222236853531,-9.491221581029905,2.127643145234443,5.484814947747078,-1.4426950408889634,1.7012975280181366,2.127643145234443,5.484814947747078,1.3478227064641846,1.006794074949662,1.8845585360339894,-9.491221581029905,1.200611174093137,1.3478227064641846,1.1422452422715805,1.200611174093137,0.9712326548170112,0.939222236853531,-1.4426950408889634,1.006794074949662,1.7012975280181366,1.3478227064641846,null,-1.4426950408889634,-9.491221581029905,-1.4426950408889634,1.5579869835537792,2.9720134119884616,2.4663034623764317,2.9720134119884616,2.127643145234443,-4.481420117724551,-4.481420117724551,1.1422452422715805,2.9720134119884616,-1.4426950408889634,1.5579869835537792,5.484814947747078,5.484814947747078,5.484814947747078,1.0913566679372915,null,1.3478227064641846,1.006794074949662,null,1.1422452422715805,-1.4426950408889634,1.0913566679372915,null,1.3478227064641846,2.127643145234443,-1.4426950408889634,-1.4426950408889634,-2.8036732520571284,1.1422452422715805,2.127643145234443,3.8114946867084014,-9.491221581029905,2.127643145234443,1.4426950408889634,1.8845585360339894,-1.9576151889712174,1.006794074949662,-1.9576151889712174,-1.4426950408889634,1.0913566679372915,-1.4426950408889634,1.2682994037090303,1.0913566679372915,0.939222236853531,-1.4426950408889634,0.939222236853531,5.484814947747078,-1.4426950408889634,2.9720134119884616,-9.491221581029905,2.127643145234443,0.9712326548170112,2.4663034623764317,1.0913566679372915,1.006794074949662,1.3478227064641846,-1.4426950408889634,-1.9576151889712174,1.0465599393958973,null,1.4426950408889634,-1.9576151889712174,-1.4426950408889634,1.5579869835537792,-2.8036732520571284,2.9720134119884616,5.484814947747078,0.939222236853531,null,3.8114946867084014,1.7012975280181366,10.492058687257062,-4.481420117724551,0.9102392266268373,-1.4426950408889634,-4.481420117724551,-1.4426950408889634,10.492058687257062,1.2682994037090303,5.484814947747078,null,1.0465599393958973,2.127643145234443,1.7012975280181366,1.2682994037090303,1.3478227064641846,-9.491221581029905,null,0.939222236853531,0.9712326548170112,1.1422452422715805,1.4426950408889634,0.939222236853531,-1.4426950408889634,1.2682994037090303,-1.4426950408889634,1.0465599393958973,-9.491221581029905,-9.491221581029905,1.4426950408889634],\"type\":\"histogram\",\"xaxis\":\"x2\",\"yaxis\":\"y2\"}],                        {\"template\":{\"data\":{\"bar\":[{\"error_x\":{\"color\":\"#2a3f5f\"},\"error_y\":{\"color\":\"#2a3f5f\"},\"marker\":{\"line\":{\"color\":\"#E5ECF6\",\"width\":0.5},\"pattern\":{\"fillmode\":\"overlay\",\"size\":10,\"solidity\":0.2}},\"type\":\"bar\"}],\"barpolar\":[{\"marker\":{\"line\":{\"color\":\"#E5ECF6\",\"width\":0.5},\"pattern\":{\"fillmode\":\"overlay\",\"size\":10,\"solidity\":0.2}},\"type\":\"barpolar\"}],\"carpet\":[{\"aaxis\":{\"endlinecolor\":\"#2a3f5f\",\"gridcolor\":\"white\",\"linecolor\":\"white\",\"minorgridcolor\":\"white\",\"startlinecolor\":\"#2a3f5f\"},\"baxis\":{\"endlinecolor\":\"#2a3f5f\",\"gridcolor\":\"white\",\"linecolor\":\"white\",\"minorgridcolor\":\"white\",\"startlinecolor\":\"#2a3f5f\"},\"type\":\"carpet\"}],\"choropleth\":[{\"colorbar\":{\"outlinewidth\":0,\"ticks\":\"\"},\"type\":\"choropleth\"}],\"contour\":[{\"colorbar\":{\"outlinewidth\":0,\"ticks\":\"\"},\"colorscale\":[[0.0,\"#0d0887\"],[0.1111111111111111,\"#46039f\"],[0.2222222222222222,\"#7201a8\"],[0.3333333333333333,\"#9c179e\"],[0.4444444444444444,\"#bd3786\"],[0.5555555555555556,\"#d8576b\"],[0.6666666666666666,\"#ed7953\"],[0.7777777777777778,\"#fb9f3a\"],[0.8888888888888888,\"#fdca26\"],[1.0,\"#f0f921\"]],\"type\":\"contour\"}],\"contourcarpet\":[{\"colorbar\":{\"outlinewidth\":0,\"ticks\":\"\"},\"type\":\"contourcarpet\"}],\"heatmap\":[{\"colorbar\":{\"outlinewidth\":0,\"ticks\":\"\"},\"colorscale\":[[0.0,\"#0d0887\"],[0.1111111111111111,\"#46039f\"],[0.2222222222222222,\"#7201a8\"],[0.3333333333333333,\"#9c179e\"],[0.4444444444444444,\"#bd3786\"],[0.5555555555555556,\"#d8576b\"],[0.6666666666666666,\"#ed7953\"],[0.7777777777777778,\"#fb9f3a\"],[0.8888888888888888,\"#fdca26\"],[1.0,\"#f0f921\"]],\"type\":\"heatmap\"}],\"heatmapgl\":[{\"colorbar\":{\"outlinewidth\":0,\"ticks\":\"\"},\"colorscale\":[[0.0,\"#0d0887\"],[0.1111111111111111,\"#46039f\"],[0.2222222222222222,\"#7201a8\"],[0.3333333333333333,\"#9c179e\"],[0.4444444444444444,\"#bd3786\"],[0.5555555555555556,\"#d8576b\"],[0.6666666666666666,\"#ed7953\"],[0.7777777777777778,\"#fb9f3a\"],[0.8888888888888888,\"#fdca26\"],[1.0,\"#f0f921\"]],\"type\":\"heatmapgl\"}],\"histogram\":[{\"marker\":{\"pattern\":{\"fillmode\":\"overlay\",\"size\":10,\"solidity\":0.2}},\"type\":\"histogram\"}],\"histogram2d\":[{\"colorbar\":{\"outlinewidth\":0,\"ticks\":\"\"},\"colorscale\":[[0.0,\"#0d0887\"],[0.1111111111111111,\"#46039f\"],[0.2222222222222222,\"#7201a8\"],[0.3333333333333333,\"#9c179e\"],[0.4444444444444444,\"#bd3786\"],[0.5555555555555556,\"#d8576b\"],[0.6666666666666666,\"#ed7953\"],[0.7777777777777778,\"#fb9f3a\"],[0.8888888888888888,\"#fdca26\"],[1.0,\"#f0f921\"]],\"type\":\"histogram2d\"}],\"histogram2dcontour\":[{\"colorbar\":{\"outlinewidth\":0,\"ticks\":\"\"},\"colorscale\":[[0.0,\"#0d0887\"],[0.1111111111111111,\"#46039f\"],[0.2222222222222222,\"#7201a8\"],[0.3333333333333333,\"#9c179e\"],[0.4444444444444444,\"#bd3786\"],[0.5555555555555556,\"#d8576b\"],[0.6666666666666666,\"#ed7953\"],[0.7777777777777778,\"#fb9f3a\"],[0.8888888888888888,\"#fdca26\"],[1.0,\"#f0f921\"]],\"type\":\"histogram2dcontour\"}],\"mesh3d\":[{\"colorbar\":{\"outlinewidth\":0,\"ticks\":\"\"},\"type\":\"mesh3d\"}],\"parcoords\":[{\"line\":{\"colorbar\":{\"outlinewidth\":0,\"ticks\":\"\"}},\"type\":\"parcoords\"}],\"pie\":[{\"automargin\":true,\"type\":\"pie\"}],\"scatter\":[{\"marker\":{\"colorbar\":{\"outlinewidth\":0,\"ticks\":\"\"}},\"type\":\"scatter\"}],\"scatter3d\":[{\"line\":{\"colorbar\":{\"outlinewidth\":0,\"ticks\":\"\"}},\"marker\":{\"colorbar\":{\"outlinewidth\":0,\"ticks\":\"\"}},\"type\":\"scatter3d\"}],\"scattercarpet\":[{\"marker\":{\"colorbar\":{\"outlinewidth\":0,\"ticks\":\"\"}},\"type\":\"scattercarpet\"}],\"scattergeo\":[{\"marker\":{\"colorbar\":{\"outlinewidth\":0,\"ticks\":\"\"}},\"type\":\"scattergeo\"}],\"scattergl\":[{\"marker\":{\"colorbar\":{\"outlinewidth\":0,\"ticks\":\"\"}},\"type\":\"scattergl\"}],\"scattermapbox\":[{\"marker\":{\"colorbar\":{\"outlinewidth\":0,\"ticks\":\"\"}},\"type\":\"scattermapbox\"}],\"scatterpolar\":[{\"marker\":{\"colorbar\":{\"outlinewidth\":0,\"ticks\":\"\"}},\"type\":\"scatterpolar\"}],\"scatterpolargl\":[{\"marker\":{\"colorbar\":{\"outlinewidth\":0,\"ticks\":\"\"}},\"type\":\"scatterpolargl\"}],\"scatterternary\":[{\"marker\":{\"colorbar\":{\"outlinewidth\":0,\"ticks\":\"\"}},\"type\":\"scatterternary\"}],\"surface\":[{\"colorbar\":{\"outlinewidth\":0,\"ticks\":\"\"},\"colorscale\":[[0.0,\"#0d0887\"],[0.1111111111111111,\"#46039f\"],[0.2222222222222222,\"#7201a8\"],[0.3333333333333333,\"#9c179e\"],[0.4444444444444444,\"#bd3786\"],[0.5555555555555556,\"#d8576b\"],[0.6666666666666666,\"#ed7953\"],[0.7777777777777778,\"#fb9f3a\"],[0.8888888888888888,\"#fdca26\"],[1.0,\"#f0f921\"]],\"type\":\"surface\"}],\"table\":[{\"cells\":{\"fill\":{\"color\":\"#EBF0F8\"},\"line\":{\"color\":\"white\"}},\"header\":{\"fill\":{\"color\":\"#C8D4E3\"},\"line\":{\"color\":\"white\"}},\"type\":\"table\"}]},\"layout\":{\"annotationdefaults\":{\"arrowcolor\":\"#2a3f5f\",\"arrowhead\":0,\"arrowwidth\":1},\"autotypenumbers\":\"strict\",\"coloraxis\":{\"colorbar\":{\"outlinewidth\":0,\"ticks\":\"\"}},\"colorscale\":{\"diverging\":[[0,\"#8e0152\"],[0.1,\"#c51b7d\"],[0.2,\"#de77ae\"],[0.3,\"#f1b6da\"],[0.4,\"#fde0ef\"],[0.5,\"#f7f7f7\"],[0.6,\"#e6f5d0\"],[0.7,\"#b8e186\"],[0.8,\"#7fbc41\"],[0.9,\"#4d9221\"],[1,\"#276419\"]],\"sequential\":[[0.0,\"#0d0887\"],[0.1111111111111111,\"#46039f\"],[0.2222222222222222,\"#7201a8\"],[0.3333333333333333,\"#9c179e\"],[0.4444444444444444,\"#bd3786\"],[0.5555555555555556,\"#d8576b\"],[0.6666666666666666,\"#ed7953\"],[0.7777777777777778,\"#fb9f3a\"],[0.8888888888888888,\"#fdca26\"],[1.0,\"#f0f921\"]],\"sequentialminus\":[[0.0,\"#0d0887\"],[0.1111111111111111,\"#46039f\"],[0.2222222222222222,\"#7201a8\"],[0.3333333333333333,\"#9c179e\"],[0.4444444444444444,\"#bd3786\"],[0.5555555555555556,\"#d8576b\"],[0.6666666666666666,\"#ed7953\"],[0.7777777777777778,\"#fb9f3a\"],[0.8888888888888888,\"#fdca26\"],[1.0,\"#f0f921\"]]},\"colorway\":[\"#636efa\",\"#EF553B\",\"#00cc96\",\"#ab63fa\",\"#FFA15A\",\"#19d3f3\",\"#FF6692\",\"#B6E880\",\"#FF97FF\",\"#FECB52\"],\"font\":{\"color\":\"#2a3f5f\"},\"geo\":{\"bgcolor\":\"white\",\"lakecolor\":\"white\",\"landcolor\":\"#E5ECF6\",\"showlakes\":true,\"showland\":true,\"subunitcolor\":\"white\"},\"hoverlabel\":{\"align\":\"left\"},\"hovermode\":\"closest\",\"mapbox\":{\"style\":\"light\"},\"paper_bgcolor\":\"white\",\"plot_bgcolor\":\"#E5ECF6\",\"polar\":{\"angularaxis\":{\"gridcolor\":\"white\",\"linecolor\":\"white\",\"ticks\":\"\"},\"bgcolor\":\"#E5ECF6\",\"radialaxis\":{\"gridcolor\":\"white\",\"linecolor\":\"white\",\"ticks\":\"\"}},\"scene\":{\"xaxis\":{\"backgroundcolor\":\"#E5ECF6\",\"gridcolor\":\"white\",\"gridwidth\":2,\"linecolor\":\"white\",\"showbackground\":true,\"ticks\":\"\",\"zerolinecolor\":\"white\"},\"yaxis\":{\"backgroundcolor\":\"#E5ECF6\",\"gridcolor\":\"white\",\"gridwidth\":2,\"linecolor\":\"white\",\"showbackground\":true,\"ticks\":\"\",\"zerolinecolor\":\"white\"},\"zaxis\":{\"backgroundcolor\":\"#E5ECF6\",\"gridcolor\":\"white\",\"gridwidth\":2,\"linecolor\":\"white\",\"showbackground\":true,\"ticks\":\"\",\"zerolinecolor\":\"white\"}},\"shapedefaults\":{\"line\":{\"color\":\"#2a3f5f\"}},\"ternary\":{\"aaxis\":{\"gridcolor\":\"white\",\"linecolor\":\"white\",\"ticks\":\"\"},\"baxis\":{\"gridcolor\":\"white\",\"linecolor\":\"white\",\"ticks\":\"\"},\"bgcolor\":\"#E5ECF6\",\"caxis\":{\"gridcolor\":\"white\",\"linecolor\":\"white\",\"ticks\":\"\"}},\"title\":{\"x\":0.05},\"xaxis\":{\"automargin\":true,\"gridcolor\":\"white\",\"linecolor\":\"white\",\"ticks\":\"\",\"title\":{\"standoff\":15},\"zerolinecolor\":\"white\",\"zerolinewidth\":2},\"yaxis\":{\"automargin\":true,\"gridcolor\":\"white\",\"linecolor\":\"white\",\"ticks\":\"\",\"title\":{\"standoff\":15},\"zerolinecolor\":\"white\",\"zerolinewidth\":2}}},\"xaxis\":{\"anchor\":\"y\",\"domain\":[0.0,0.45]},\"yaxis\":{\"anchor\":\"x\",\"domain\":[0.0,1.0]},\"xaxis2\":{\"anchor\":\"y2\",\"domain\":[0.55,1.0]},\"yaxis2\":{\"anchor\":\"x2\",\"domain\":[0.0,1.0]},\"annotations\":[{\"font\":{\"size\":16},\"showarrow\":false,\"text\":\"Histogram of clock_speed before transformation\",\"x\":0.225,\"xanchor\":\"center\",\"xref\":\"paper\",\"y\":1.0,\"yanchor\":\"bottom\",\"yref\":\"paper\"},{\"font\":{\"size\":16},\"showarrow\":false,\"text\":\"Histogram of Sulphates After transformation\",\"x\":0.775,\"xanchor\":\"center\",\"xref\":\"paper\",\"y\":1.0,\"yanchor\":\"bottom\",\"yref\":\"paper\"}],\"title\":{\"text\":\"Distribution of clock_speed before and after 1/log(y) transformation\",\"x\":0.5},\"height\":600,\"width\":null,\"showlegend\":false},                        {\"responsive\": true}                    ).then(function(){\n",
              "                            \n",
              "var gd = document.getElementById('2fa6ad9f-07fc-4339-99f5-fc18890fba76');\n",
              "var x = new MutationObserver(function (mutations, observer) {{\n",
              "        var display = window.getComputedStyle(gd).display;\n",
              "        if (!display || display === 'none') {{\n",
              "            console.log([gd, 'removed!']);\n",
              "            Plotly.purge(gd);\n",
              "            observer.disconnect();\n",
              "        }}\n",
              "}});\n",
              "\n",
              "// Listen for the removal of the full notebook cells\n",
              "var notebookContainer = gd.closest('#notebook-container');\n",
              "if (notebookContainer) {{\n",
              "    x.observe(notebookContainer, {childList: true});\n",
              "}}\n",
              "\n",
              "// Listen for the clearing of the current output cell\n",
              "var outputEl = gd.closest('.output');\n",
              "if (outputEl) {{\n",
              "    x.observe(outputEl, {childList: true});\n",
              "}}\n",
              "\n",
              "                        })                };                            </script>        </div>\n",
              "</body>\n",
              "</html>"
            ]
          },
          "metadata": {}
        }
      ]
    },
    {
      "cell_type": "code",
      "source": [
        "pt = PowerTransformer(method = 'box-cox')\n",
        "pt.fit(dfp['clock_speed'].values.reshape(-1, 1))\n",
        "dfp = pt.transform(dfp['clock_speed'].values.reshape(-1, 1))\n",
        "print(f\"Value of Lambda : {pt.lambdas_}\")"
      ],
      "metadata": {
        "colab": {
          "base_uri": "https://localhost:8080/"
        },
        "id": "6h0pOosY7NIN",
        "outputId": "ece4b24d-e57c-4ec7-9507-d9773c25fb66"
      },
      "execution_count": 43,
      "outputs": [
        {
          "output_type": "stream",
          "name": "stdout",
          "text": [
            "Value of Lambda : [0.42436989]\n"
          ]
        }
      ]
    },
    {
      "cell_type": "code",
      "source": [
        "from sklearn import svm\n",
        "y_t = np.array(dfp['price_range'])\n",
        "X_t = dfp\n",
        "X_t = dfp.drop(['price_range'],axis=1)\n",
        "X_t = np.array(X_t)\n",
        "X_train,X_test,Y_train,Y_test = train_test_split(X_t,y_t,test_size=.20,random_state=42)\n",
        "\n",
        "clf = svm.SVC()\n",
        "clf.fit(X_train, Y_train)\n",
        "clf.predict(X_test)\n",
        "scoretrain = clf.score(X_train,Y_train)\n",
        "scoretest  = clf.score(X_test,Y_test)\n",
        "print(\"train score and test score\")\n",
        "print(scoretrain)\n",
        "print(scoretest)"
      ],
      "metadata": {
        "colab": {
          "base_uri": "https://localhost:8080/"
        },
        "id": "kbBuKkBocuzi",
        "outputId": "b064fb8a-35cc-4b00-f86f-745bad0f2aa7"
      },
      "execution_count": 42,
      "outputs": [
        {
          "output_type": "stream",
          "name": "stdout",
          "text": [
            "train score and test score\n",
            "0.95375\n",
            "0.965\n"
          ]
        }
      ]
    },
    {
      "cell_type": "code",
      "source": [
        "dfp.clock_speed"
      ],
      "metadata": {
        "colab": {
          "base_uri": "https://localhost:8080/"
        },
        "id": "87-tn90aeGXo",
        "outputId": "a212616a-209d-42b0-eae9-b701177689d6"
      },
      "execution_count": 25,
      "outputs": [
        {
          "output_type": "execute_result",
          "data": {
            "text/plain": [
              "0       2.2\n",
              "1       0.5\n",
              "2       0.5\n",
              "3       2.5\n",
              "4       1.2\n",
              "       ... \n",
              "1995    0.5\n",
              "1996    2.6\n",
              "1997    0.9\n",
              "1998    0.9\n",
              "1999    2.0\n",
              "Name: clock_speed, Length: 2000, dtype: float64"
            ]
          },
          "metadata": {},
          "execution_count": 25
        }
      ]
    },
    {
      "cell_type": "markdown",
      "source": [
        "# **add new feature **"
      ],
      "metadata": {
        "id": "3OrwcnAfW11a"
      }
    },
    {
      "cell_type": "code",
      "source": [
        "dfp = pd.read_csv('train.csv')"
      ],
      "metadata": {
        "id": "mJxdEDny6M89"
      },
      "execution_count": 29,
      "outputs": []
    },
    {
      "cell_type": "code",
      "source": [
        "dfp.head()"
      ],
      "metadata": {
        "colab": {
          "base_uri": "https://localhost:8080/",
          "height": 270
        },
        "id": "bsyxuBvNjerx",
        "outputId": "04d00146-0543-4a68-a00b-0b61955509f8"
      },
      "execution_count": 30,
      "outputs": [
        {
          "output_type": "execute_result",
          "data": {
            "text/plain": [
              "   battery_power  blue  clock_speed  dual_sim  fc  four_g  int_memory  m_dep  \\\n",
              "0            842     0          2.2         0   1       0           7    0.6   \n",
              "1           1021     1          0.5         1   0       1          53    0.7   \n",
              "2            563     1          0.5         1   2       1          41    0.9   \n",
              "3            615     1          2.5         0   0       0          10    0.8   \n",
              "4           1821     1          1.2         0  13       1          44    0.6   \n",
              "\n",
              "   mobile_wt  n_cores  pc  px_height  px_width   ram  sc_h  sc_w  talk_time  \\\n",
              "0        188        2   2         20       756  2549     9     7         19   \n",
              "1        136        3   6        905      1988  2631    17     3          7   \n",
              "2        145        5   6       1263      1716  2603    11     2          9   \n",
              "3        131        6   9       1216      1786  2769    16     8         11   \n",
              "4        141        2  14       1208      1212  1411     8     2         15   \n",
              "\n",
              "   three_g  touch_screen  wifi  price_range  \n",
              "0        0             0     1            1  \n",
              "1        1             1     0            2  \n",
              "2        1             1     0            2  \n",
              "3        1             0     0            2  \n",
              "4        1             1     0            1  "
            ],
            "text/html": [
              "\n",
              "  <div id=\"df-77f93cb7-a350-4daf-ba75-86ae7603e62f\">\n",
              "    <div class=\"colab-df-container\">\n",
              "      <div>\n",
              "<style scoped>\n",
              "    .dataframe tbody tr th:only-of-type {\n",
              "        vertical-align: middle;\n",
              "    }\n",
              "\n",
              "    .dataframe tbody tr th {\n",
              "        vertical-align: top;\n",
              "    }\n",
              "\n",
              "    .dataframe thead th {\n",
              "        text-align: right;\n",
              "    }\n",
              "</style>\n",
              "<table border=\"1\" class=\"dataframe\">\n",
              "  <thead>\n",
              "    <tr style=\"text-align: right;\">\n",
              "      <th></th>\n",
              "      <th>battery_power</th>\n",
              "      <th>blue</th>\n",
              "      <th>clock_speed</th>\n",
              "      <th>dual_sim</th>\n",
              "      <th>fc</th>\n",
              "      <th>four_g</th>\n",
              "      <th>int_memory</th>\n",
              "      <th>m_dep</th>\n",
              "      <th>mobile_wt</th>\n",
              "      <th>n_cores</th>\n",
              "      <th>pc</th>\n",
              "      <th>px_height</th>\n",
              "      <th>px_width</th>\n",
              "      <th>ram</th>\n",
              "      <th>sc_h</th>\n",
              "      <th>sc_w</th>\n",
              "      <th>talk_time</th>\n",
              "      <th>three_g</th>\n",
              "      <th>touch_screen</th>\n",
              "      <th>wifi</th>\n",
              "      <th>price_range</th>\n",
              "    </tr>\n",
              "  </thead>\n",
              "  <tbody>\n",
              "    <tr>\n",
              "      <th>0</th>\n",
              "      <td>842</td>\n",
              "      <td>0</td>\n",
              "      <td>2.2</td>\n",
              "      <td>0</td>\n",
              "      <td>1</td>\n",
              "      <td>0</td>\n",
              "      <td>7</td>\n",
              "      <td>0.6</td>\n",
              "      <td>188</td>\n",
              "      <td>2</td>\n",
              "      <td>2</td>\n",
              "      <td>20</td>\n",
              "      <td>756</td>\n",
              "      <td>2549</td>\n",
              "      <td>9</td>\n",
              "      <td>7</td>\n",
              "      <td>19</td>\n",
              "      <td>0</td>\n",
              "      <td>0</td>\n",
              "      <td>1</td>\n",
              "      <td>1</td>\n",
              "    </tr>\n",
              "    <tr>\n",
              "      <th>1</th>\n",
              "      <td>1021</td>\n",
              "      <td>1</td>\n",
              "      <td>0.5</td>\n",
              "      <td>1</td>\n",
              "      <td>0</td>\n",
              "      <td>1</td>\n",
              "      <td>53</td>\n",
              "      <td>0.7</td>\n",
              "      <td>136</td>\n",
              "      <td>3</td>\n",
              "      <td>6</td>\n",
              "      <td>905</td>\n",
              "      <td>1988</td>\n",
              "      <td>2631</td>\n",
              "      <td>17</td>\n",
              "      <td>3</td>\n",
              "      <td>7</td>\n",
              "      <td>1</td>\n",
              "      <td>1</td>\n",
              "      <td>0</td>\n",
              "      <td>2</td>\n",
              "    </tr>\n",
              "    <tr>\n",
              "      <th>2</th>\n",
              "      <td>563</td>\n",
              "      <td>1</td>\n",
              "      <td>0.5</td>\n",
              "      <td>1</td>\n",
              "      <td>2</td>\n",
              "      <td>1</td>\n",
              "      <td>41</td>\n",
              "      <td>0.9</td>\n",
              "      <td>145</td>\n",
              "      <td>5</td>\n",
              "      <td>6</td>\n",
              "      <td>1263</td>\n",
              "      <td>1716</td>\n",
              "      <td>2603</td>\n",
              "      <td>11</td>\n",
              "      <td>2</td>\n",
              "      <td>9</td>\n",
              "      <td>1</td>\n",
              "      <td>1</td>\n",
              "      <td>0</td>\n",
              "      <td>2</td>\n",
              "    </tr>\n",
              "    <tr>\n",
              "      <th>3</th>\n",
              "      <td>615</td>\n",
              "      <td>1</td>\n",
              "      <td>2.5</td>\n",
              "      <td>0</td>\n",
              "      <td>0</td>\n",
              "      <td>0</td>\n",
              "      <td>10</td>\n",
              "      <td>0.8</td>\n",
              "      <td>131</td>\n",
              "      <td>6</td>\n",
              "      <td>9</td>\n",
              "      <td>1216</td>\n",
              "      <td>1786</td>\n",
              "      <td>2769</td>\n",
              "      <td>16</td>\n",
              "      <td>8</td>\n",
              "      <td>11</td>\n",
              "      <td>1</td>\n",
              "      <td>0</td>\n",
              "      <td>0</td>\n",
              "      <td>2</td>\n",
              "    </tr>\n",
              "    <tr>\n",
              "      <th>4</th>\n",
              "      <td>1821</td>\n",
              "      <td>1</td>\n",
              "      <td>1.2</td>\n",
              "      <td>0</td>\n",
              "      <td>13</td>\n",
              "      <td>1</td>\n",
              "      <td>44</td>\n",
              "      <td>0.6</td>\n",
              "      <td>141</td>\n",
              "      <td>2</td>\n",
              "      <td>14</td>\n",
              "      <td>1208</td>\n",
              "      <td>1212</td>\n",
              "      <td>1411</td>\n",
              "      <td>8</td>\n",
              "      <td>2</td>\n",
              "      <td>15</td>\n",
              "      <td>1</td>\n",
              "      <td>1</td>\n",
              "      <td>0</td>\n",
              "      <td>1</td>\n",
              "    </tr>\n",
              "  </tbody>\n",
              "</table>\n",
              "</div>\n",
              "      <button class=\"colab-df-convert\" onclick=\"convertToInteractive('df-77f93cb7-a350-4daf-ba75-86ae7603e62f')\"\n",
              "              title=\"Convert this dataframe to an interactive table.\"\n",
              "              style=\"display:none;\">\n",
              "        \n",
              "  <svg xmlns=\"http://www.w3.org/2000/svg\" height=\"24px\"viewBox=\"0 0 24 24\"\n",
              "       width=\"24px\">\n",
              "    <path d=\"M0 0h24v24H0V0z\" fill=\"none\"/>\n",
              "    <path d=\"M18.56 5.44l.94 2.06.94-2.06 2.06-.94-2.06-.94-.94-2.06-.94 2.06-2.06.94zm-11 1L8.5 8.5l.94-2.06 2.06-.94-2.06-.94L8.5 2.5l-.94 2.06-2.06.94zm10 10l.94 2.06.94-2.06 2.06-.94-2.06-.94-.94-2.06-.94 2.06-2.06.94z\"/><path d=\"M17.41 7.96l-1.37-1.37c-.4-.4-.92-.59-1.43-.59-.52 0-1.04.2-1.43.59L10.3 9.45l-7.72 7.72c-.78.78-.78 2.05 0 2.83L4 21.41c.39.39.9.59 1.41.59.51 0 1.02-.2 1.41-.59l7.78-7.78 2.81-2.81c.8-.78.8-2.07 0-2.86zM5.41 20L4 18.59l7.72-7.72 1.47 1.35L5.41 20z\"/>\n",
              "  </svg>\n",
              "      </button>\n",
              "      \n",
              "  <style>\n",
              "    .colab-df-container {\n",
              "      display:flex;\n",
              "      flex-wrap:wrap;\n",
              "      gap: 12px;\n",
              "    }\n",
              "\n",
              "    .colab-df-convert {\n",
              "      background-color: #E8F0FE;\n",
              "      border: none;\n",
              "      border-radius: 50%;\n",
              "      cursor: pointer;\n",
              "      display: none;\n",
              "      fill: #1967D2;\n",
              "      height: 32px;\n",
              "      padding: 0 0 0 0;\n",
              "      width: 32px;\n",
              "    }\n",
              "\n",
              "    .colab-df-convert:hover {\n",
              "      background-color: #E2EBFA;\n",
              "      box-shadow: 0px 1px 2px rgba(60, 64, 67, 0.3), 0px 1px 3px 1px rgba(60, 64, 67, 0.15);\n",
              "      fill: #174EA6;\n",
              "    }\n",
              "\n",
              "    [theme=dark] .colab-df-convert {\n",
              "      background-color: #3B4455;\n",
              "      fill: #D2E3FC;\n",
              "    }\n",
              "\n",
              "    [theme=dark] .colab-df-convert:hover {\n",
              "      background-color: #434B5C;\n",
              "      box-shadow: 0px 1px 3px 1px rgba(0, 0, 0, 0.15);\n",
              "      filter: drop-shadow(0px 1px 2px rgba(0, 0, 0, 0.3));\n",
              "      fill: #FFFFFF;\n",
              "    }\n",
              "  </style>\n",
              "\n",
              "      <script>\n",
              "        const buttonEl =\n",
              "          document.querySelector('#df-77f93cb7-a350-4daf-ba75-86ae7603e62f button.colab-df-convert');\n",
              "        buttonEl.style.display =\n",
              "          google.colab.kernel.accessAllowed ? 'block' : 'none';\n",
              "\n",
              "        async function convertToInteractive(key) {\n",
              "          const element = document.querySelector('#df-77f93cb7-a350-4daf-ba75-86ae7603e62f');\n",
              "          const dataTable =\n",
              "            await google.colab.kernel.invokeFunction('convertToInteractive',\n",
              "                                                     [key], {});\n",
              "          if (!dataTable) return;\n",
              "\n",
              "          const docLinkHtml = 'Like what you see? Visit the ' +\n",
              "            '<a target=\"_blank\" href=https://colab.research.google.com/notebooks/data_table.ipynb>data table notebook</a>'\n",
              "            + ' to learn more about interactive tables.';\n",
              "          element.innerHTML = '';\n",
              "          dataTable['output_type'] = 'display_data';\n",
              "          await google.colab.output.renderOutput(dataTable, element);\n",
              "          const docLink = document.createElement('div');\n",
              "          docLink.innerHTML = docLinkHtml;\n",
              "          element.appendChild(docLink);\n",
              "        }\n",
              "      </script>\n",
              "    </div>\n",
              "  </div>\n",
              "  "
            ]
          },
          "metadata": {},
          "execution_count": 30
        }
      ]
    },
    {
      "cell_type": "code",
      "source": [
        "dfp[\"Volume\"] = dfp['m_dep']*dfp['sc_h']*dfp['sc_w']"
      ],
      "metadata": {
        "id": "Wkce6RDU6W1t"
      },
      "execution_count": 31,
      "outputs": []
    },
    {
      "cell_type": "code",
      "source": [
        "dfp.describe()"
      ],
      "metadata": {
        "colab": {
          "base_uri": "https://localhost:8080/",
          "height": 364
        },
        "id": "SROEFEwz6YVd",
        "outputId": "833e76ef-637b-46aa-9681-3fecc74833e6"
      },
      "execution_count": 32,
      "outputs": [
        {
          "output_type": "execute_result",
          "data": {
            "text/plain": [
              "       battery_power       blue  clock_speed     dual_sim           fc  \\\n",
              "count    2000.000000  2000.0000  2000.000000  2000.000000  2000.000000   \n",
              "mean     1238.518500     0.4950     1.522250     0.509500     4.309500   \n",
              "std       439.418206     0.5001     0.816004     0.500035     4.341444   \n",
              "min       501.000000     0.0000     0.500000     0.000000     0.000000   \n",
              "25%       851.750000     0.0000     0.700000     0.000000     1.000000   \n",
              "50%      1226.000000     0.0000     1.500000     1.000000     3.000000   \n",
              "75%      1615.250000     1.0000     2.200000     1.000000     7.000000   \n",
              "max      1998.000000     1.0000     3.000000     1.000000    19.000000   \n",
              "\n",
              "            four_g   int_memory        m_dep    mobile_wt      n_cores  \\\n",
              "count  2000.000000  2000.000000  2000.000000  2000.000000  2000.000000   \n",
              "mean      0.521500    32.046500     0.501750   140.249000     4.520500   \n",
              "std       0.499662    18.145715     0.288416    35.399655     2.287837   \n",
              "min       0.000000     2.000000     0.100000    80.000000     1.000000   \n",
              "25%       0.000000    16.000000     0.200000   109.000000     3.000000   \n",
              "50%       1.000000    32.000000     0.500000   141.000000     4.000000   \n",
              "75%       1.000000    48.000000     0.800000   170.000000     7.000000   \n",
              "max       1.000000    64.000000     1.000000   200.000000     8.000000   \n",
              "\n",
              "                pc    px_height     px_width          ram         sc_h  \\\n",
              "count  2000.000000  2000.000000  2000.000000  2000.000000  2000.000000   \n",
              "mean      9.916500   645.108000  1251.515500  2124.213000    12.306500   \n",
              "std       6.064315   443.780811   432.199447  1084.732044     4.213245   \n",
              "min       0.000000     0.000000   500.000000   256.000000     5.000000   \n",
              "25%       5.000000   282.750000   874.750000  1207.500000     9.000000   \n",
              "50%      10.000000   564.000000  1247.000000  2146.500000    12.000000   \n",
              "75%      15.000000   947.250000  1633.000000  3064.500000    16.000000   \n",
              "max      20.000000  1960.000000  1998.000000  3998.000000    19.000000   \n",
              "\n",
              "              sc_w    talk_time      three_g  touch_screen         wifi  \\\n",
              "count  2000.000000  2000.000000  2000.000000   2000.000000  2000.000000   \n",
              "mean      5.767000    11.011000     0.761500      0.503000     0.507000   \n",
              "std       4.356398     5.463955     0.426273      0.500116     0.500076   \n",
              "min       0.000000     2.000000     0.000000      0.000000     0.000000   \n",
              "25%       2.000000     6.000000     1.000000      0.000000     0.000000   \n",
              "50%       5.000000    11.000000     1.000000      1.000000     1.000000   \n",
              "75%       9.000000    16.000000     1.000000      1.000000     1.000000   \n",
              "max      18.000000    20.000000     1.000000      1.000000     1.000000   \n",
              "\n",
              "       price_range       Volume  \n",
              "count  2000.000000  2000.000000  \n",
              "mean      1.500000    39.793850  \n",
              "std       1.118314    50.200476  \n",
              "min       0.000000     0.000000  \n",
              "25%       0.750000     6.375000  \n",
              "50%       1.500000    19.800000  \n",
              "75%       2.250000    54.000000  \n",
              "max       3.000000   342.000000  "
            ],
            "text/html": [
              "\n",
              "  <div id=\"df-e49f30a0-a8cb-422e-ae09-a0851bae42b3\">\n",
              "    <div class=\"colab-df-container\">\n",
              "      <div>\n",
              "<style scoped>\n",
              "    .dataframe tbody tr th:only-of-type {\n",
              "        vertical-align: middle;\n",
              "    }\n",
              "\n",
              "    .dataframe tbody tr th {\n",
              "        vertical-align: top;\n",
              "    }\n",
              "\n",
              "    .dataframe thead th {\n",
              "        text-align: right;\n",
              "    }\n",
              "</style>\n",
              "<table border=\"1\" class=\"dataframe\">\n",
              "  <thead>\n",
              "    <tr style=\"text-align: right;\">\n",
              "      <th></th>\n",
              "      <th>battery_power</th>\n",
              "      <th>blue</th>\n",
              "      <th>clock_speed</th>\n",
              "      <th>dual_sim</th>\n",
              "      <th>fc</th>\n",
              "      <th>four_g</th>\n",
              "      <th>int_memory</th>\n",
              "      <th>m_dep</th>\n",
              "      <th>mobile_wt</th>\n",
              "      <th>n_cores</th>\n",
              "      <th>pc</th>\n",
              "      <th>px_height</th>\n",
              "      <th>px_width</th>\n",
              "      <th>ram</th>\n",
              "      <th>sc_h</th>\n",
              "      <th>sc_w</th>\n",
              "      <th>talk_time</th>\n",
              "      <th>three_g</th>\n",
              "      <th>touch_screen</th>\n",
              "      <th>wifi</th>\n",
              "      <th>price_range</th>\n",
              "      <th>Volume</th>\n",
              "    </tr>\n",
              "  </thead>\n",
              "  <tbody>\n",
              "    <tr>\n",
              "      <th>count</th>\n",
              "      <td>2000.000000</td>\n",
              "      <td>2000.0000</td>\n",
              "      <td>2000.000000</td>\n",
              "      <td>2000.000000</td>\n",
              "      <td>2000.000000</td>\n",
              "      <td>2000.000000</td>\n",
              "      <td>2000.000000</td>\n",
              "      <td>2000.000000</td>\n",
              "      <td>2000.000000</td>\n",
              "      <td>2000.000000</td>\n",
              "      <td>2000.000000</td>\n",
              "      <td>2000.000000</td>\n",
              "      <td>2000.000000</td>\n",
              "      <td>2000.000000</td>\n",
              "      <td>2000.000000</td>\n",
              "      <td>2000.000000</td>\n",
              "      <td>2000.000000</td>\n",
              "      <td>2000.000000</td>\n",
              "      <td>2000.000000</td>\n",
              "      <td>2000.000000</td>\n",
              "      <td>2000.000000</td>\n",
              "      <td>2000.000000</td>\n",
              "    </tr>\n",
              "    <tr>\n",
              "      <th>mean</th>\n",
              "      <td>1238.518500</td>\n",
              "      <td>0.4950</td>\n",
              "      <td>1.522250</td>\n",
              "      <td>0.509500</td>\n",
              "      <td>4.309500</td>\n",
              "      <td>0.521500</td>\n",
              "      <td>32.046500</td>\n",
              "      <td>0.501750</td>\n",
              "      <td>140.249000</td>\n",
              "      <td>4.520500</td>\n",
              "      <td>9.916500</td>\n",
              "      <td>645.108000</td>\n",
              "      <td>1251.515500</td>\n",
              "      <td>2124.213000</td>\n",
              "      <td>12.306500</td>\n",
              "      <td>5.767000</td>\n",
              "      <td>11.011000</td>\n",
              "      <td>0.761500</td>\n",
              "      <td>0.503000</td>\n",
              "      <td>0.507000</td>\n",
              "      <td>1.500000</td>\n",
              "      <td>39.793850</td>\n",
              "    </tr>\n",
              "    <tr>\n",
              "      <th>std</th>\n",
              "      <td>439.418206</td>\n",
              "      <td>0.5001</td>\n",
              "      <td>0.816004</td>\n",
              "      <td>0.500035</td>\n",
              "      <td>4.341444</td>\n",
              "      <td>0.499662</td>\n",
              "      <td>18.145715</td>\n",
              "      <td>0.288416</td>\n",
              "      <td>35.399655</td>\n",
              "      <td>2.287837</td>\n",
              "      <td>6.064315</td>\n",
              "      <td>443.780811</td>\n",
              "      <td>432.199447</td>\n",
              "      <td>1084.732044</td>\n",
              "      <td>4.213245</td>\n",
              "      <td>4.356398</td>\n",
              "      <td>5.463955</td>\n",
              "      <td>0.426273</td>\n",
              "      <td>0.500116</td>\n",
              "      <td>0.500076</td>\n",
              "      <td>1.118314</td>\n",
              "      <td>50.200476</td>\n",
              "    </tr>\n",
              "    <tr>\n",
              "      <th>min</th>\n",
              "      <td>501.000000</td>\n",
              "      <td>0.0000</td>\n",
              "      <td>0.500000</td>\n",
              "      <td>0.000000</td>\n",
              "      <td>0.000000</td>\n",
              "      <td>0.000000</td>\n",
              "      <td>2.000000</td>\n",
              "      <td>0.100000</td>\n",
              "      <td>80.000000</td>\n",
              "      <td>1.000000</td>\n",
              "      <td>0.000000</td>\n",
              "      <td>0.000000</td>\n",
              "      <td>500.000000</td>\n",
              "      <td>256.000000</td>\n",
              "      <td>5.000000</td>\n",
              "      <td>0.000000</td>\n",
              "      <td>2.000000</td>\n",
              "      <td>0.000000</td>\n",
              "      <td>0.000000</td>\n",
              "      <td>0.000000</td>\n",
              "      <td>0.000000</td>\n",
              "      <td>0.000000</td>\n",
              "    </tr>\n",
              "    <tr>\n",
              "      <th>25%</th>\n",
              "      <td>851.750000</td>\n",
              "      <td>0.0000</td>\n",
              "      <td>0.700000</td>\n",
              "      <td>0.000000</td>\n",
              "      <td>1.000000</td>\n",
              "      <td>0.000000</td>\n",
              "      <td>16.000000</td>\n",
              "      <td>0.200000</td>\n",
              "      <td>109.000000</td>\n",
              "      <td>3.000000</td>\n",
              "      <td>5.000000</td>\n",
              "      <td>282.750000</td>\n",
              "      <td>874.750000</td>\n",
              "      <td>1207.500000</td>\n",
              "      <td>9.000000</td>\n",
              "      <td>2.000000</td>\n",
              "      <td>6.000000</td>\n",
              "      <td>1.000000</td>\n",
              "      <td>0.000000</td>\n",
              "      <td>0.000000</td>\n",
              "      <td>0.750000</td>\n",
              "      <td>6.375000</td>\n",
              "    </tr>\n",
              "    <tr>\n",
              "      <th>50%</th>\n",
              "      <td>1226.000000</td>\n",
              "      <td>0.0000</td>\n",
              "      <td>1.500000</td>\n",
              "      <td>1.000000</td>\n",
              "      <td>3.000000</td>\n",
              "      <td>1.000000</td>\n",
              "      <td>32.000000</td>\n",
              "      <td>0.500000</td>\n",
              "      <td>141.000000</td>\n",
              "      <td>4.000000</td>\n",
              "      <td>10.000000</td>\n",
              "      <td>564.000000</td>\n",
              "      <td>1247.000000</td>\n",
              "      <td>2146.500000</td>\n",
              "      <td>12.000000</td>\n",
              "      <td>5.000000</td>\n",
              "      <td>11.000000</td>\n",
              "      <td>1.000000</td>\n",
              "      <td>1.000000</td>\n",
              "      <td>1.000000</td>\n",
              "      <td>1.500000</td>\n",
              "      <td>19.800000</td>\n",
              "    </tr>\n",
              "    <tr>\n",
              "      <th>75%</th>\n",
              "      <td>1615.250000</td>\n",
              "      <td>1.0000</td>\n",
              "      <td>2.200000</td>\n",
              "      <td>1.000000</td>\n",
              "      <td>7.000000</td>\n",
              "      <td>1.000000</td>\n",
              "      <td>48.000000</td>\n",
              "      <td>0.800000</td>\n",
              "      <td>170.000000</td>\n",
              "      <td>7.000000</td>\n",
              "      <td>15.000000</td>\n",
              "      <td>947.250000</td>\n",
              "      <td>1633.000000</td>\n",
              "      <td>3064.500000</td>\n",
              "      <td>16.000000</td>\n",
              "      <td>9.000000</td>\n",
              "      <td>16.000000</td>\n",
              "      <td>1.000000</td>\n",
              "      <td>1.000000</td>\n",
              "      <td>1.000000</td>\n",
              "      <td>2.250000</td>\n",
              "      <td>54.000000</td>\n",
              "    </tr>\n",
              "    <tr>\n",
              "      <th>max</th>\n",
              "      <td>1998.000000</td>\n",
              "      <td>1.0000</td>\n",
              "      <td>3.000000</td>\n",
              "      <td>1.000000</td>\n",
              "      <td>19.000000</td>\n",
              "      <td>1.000000</td>\n",
              "      <td>64.000000</td>\n",
              "      <td>1.000000</td>\n",
              "      <td>200.000000</td>\n",
              "      <td>8.000000</td>\n",
              "      <td>20.000000</td>\n",
              "      <td>1960.000000</td>\n",
              "      <td>1998.000000</td>\n",
              "      <td>3998.000000</td>\n",
              "      <td>19.000000</td>\n",
              "      <td>18.000000</td>\n",
              "      <td>20.000000</td>\n",
              "      <td>1.000000</td>\n",
              "      <td>1.000000</td>\n",
              "      <td>1.000000</td>\n",
              "      <td>3.000000</td>\n",
              "      <td>342.000000</td>\n",
              "    </tr>\n",
              "  </tbody>\n",
              "</table>\n",
              "</div>\n",
              "      <button class=\"colab-df-convert\" onclick=\"convertToInteractive('df-e49f30a0-a8cb-422e-ae09-a0851bae42b3')\"\n",
              "              title=\"Convert this dataframe to an interactive table.\"\n",
              "              style=\"display:none;\">\n",
              "        \n",
              "  <svg xmlns=\"http://www.w3.org/2000/svg\" height=\"24px\"viewBox=\"0 0 24 24\"\n",
              "       width=\"24px\">\n",
              "    <path d=\"M0 0h24v24H0V0z\" fill=\"none\"/>\n",
              "    <path d=\"M18.56 5.44l.94 2.06.94-2.06 2.06-.94-2.06-.94-.94-2.06-.94 2.06-2.06.94zm-11 1L8.5 8.5l.94-2.06 2.06-.94-2.06-.94L8.5 2.5l-.94 2.06-2.06.94zm10 10l.94 2.06.94-2.06 2.06-.94-2.06-.94-.94-2.06-.94 2.06-2.06.94z\"/><path d=\"M17.41 7.96l-1.37-1.37c-.4-.4-.92-.59-1.43-.59-.52 0-1.04.2-1.43.59L10.3 9.45l-7.72 7.72c-.78.78-.78 2.05 0 2.83L4 21.41c.39.39.9.59 1.41.59.51 0 1.02-.2 1.41-.59l7.78-7.78 2.81-2.81c.8-.78.8-2.07 0-2.86zM5.41 20L4 18.59l7.72-7.72 1.47 1.35L5.41 20z\"/>\n",
              "  </svg>\n",
              "      </button>\n",
              "      \n",
              "  <style>\n",
              "    .colab-df-container {\n",
              "      display:flex;\n",
              "      flex-wrap:wrap;\n",
              "      gap: 12px;\n",
              "    }\n",
              "\n",
              "    .colab-df-convert {\n",
              "      background-color: #E8F0FE;\n",
              "      border: none;\n",
              "      border-radius: 50%;\n",
              "      cursor: pointer;\n",
              "      display: none;\n",
              "      fill: #1967D2;\n",
              "      height: 32px;\n",
              "      padding: 0 0 0 0;\n",
              "      width: 32px;\n",
              "    }\n",
              "\n",
              "    .colab-df-convert:hover {\n",
              "      background-color: #E2EBFA;\n",
              "      box-shadow: 0px 1px 2px rgba(60, 64, 67, 0.3), 0px 1px 3px 1px rgba(60, 64, 67, 0.15);\n",
              "      fill: #174EA6;\n",
              "    }\n",
              "\n",
              "    [theme=dark] .colab-df-convert {\n",
              "      background-color: #3B4455;\n",
              "      fill: #D2E3FC;\n",
              "    }\n",
              "\n",
              "    [theme=dark] .colab-df-convert:hover {\n",
              "      background-color: #434B5C;\n",
              "      box-shadow: 0px 1px 3px 1px rgba(0, 0, 0, 0.15);\n",
              "      filter: drop-shadow(0px 1px 2px rgba(0, 0, 0, 0.3));\n",
              "      fill: #FFFFFF;\n",
              "    }\n",
              "  </style>\n",
              "\n",
              "      <script>\n",
              "        const buttonEl =\n",
              "          document.querySelector('#df-e49f30a0-a8cb-422e-ae09-a0851bae42b3 button.colab-df-convert');\n",
              "        buttonEl.style.display =\n",
              "          google.colab.kernel.accessAllowed ? 'block' : 'none';\n",
              "\n",
              "        async function convertToInteractive(key) {\n",
              "          const element = document.querySelector('#df-e49f30a0-a8cb-422e-ae09-a0851bae42b3');\n",
              "          const dataTable =\n",
              "            await google.colab.kernel.invokeFunction('convertToInteractive',\n",
              "                                                     [key], {});\n",
              "          if (!dataTable) return;\n",
              "\n",
              "          const docLinkHtml = 'Like what you see? Visit the ' +\n",
              "            '<a target=\"_blank\" href=https://colab.research.google.com/notebooks/data_table.ipynb>data table notebook</a>'\n",
              "            + ' to learn more about interactive tables.';\n",
              "          element.innerHTML = '';\n",
              "          dataTable['output_type'] = 'display_data';\n",
              "          await google.colab.output.renderOutput(dataTable, element);\n",
              "          const docLink = document.createElement('div');\n",
              "          docLink.innerHTML = docLinkHtml;\n",
              "          element.appendChild(docLink);\n",
              "        }\n",
              "      </script>\n",
              "    </div>\n",
              "  </div>\n",
              "  "
            ]
          },
          "metadata": {},
          "execution_count": 32
        }
      ]
    },
    {
      "cell_type": "markdown",
      "source": [
        "svm"
      ],
      "metadata": {
        "id": "4IL4ZONJ50Hm"
      }
    },
    {
      "cell_type": "code",
      "source": [
        "from sklearn import svm\n",
        "y_t = np.array(dfp['price_range'])\n",
        "X_t = dfp\n",
        "X_t = dfp.drop(['price_range'],axis=1)\n",
        "X_t = np.array(X_t)\n",
        "X_train,X_test,Y_train,Y_test = train_test_split(X_t,y_t,test_size=.20,random_state=42)\n",
        "\n",
        "clf = svm.SVC()\n",
        "clf.fit(X_train, Y_train)\n",
        "clf.predict(X_test)\n",
        "scoretrain = clf.score(X_train,Y_train)\n",
        "scoretest  = clf.score(X_test,Y_test)\n",
        "print(\"train score and test score\")\n",
        "print(scoretrain)\n",
        "print(scoretest)"
      ],
      "metadata": {
        "colab": {
          "base_uri": "https://localhost:8080/"
        },
        "id": "PDent1xk5071",
        "outputId": "422096d6-2f3c-4a2b-858e-be29d83ae064"
      },
      "execution_count": 33,
      "outputs": [
        {
          "output_type": "stream",
          "name": "stdout",
          "text": [
            "train score and test score\n",
            "0.95375\n",
            "0.965\n"
          ]
        }
      ]
    },
    {
      "cell_type": "markdown",
      "source": [
        "# SVM OF ALL"
      ],
      "metadata": {
        "id": "nwe54_Sm6o9W"
      }
    },
    {
      "cell_type": "code",
      "source": [
        "dfp  = pd.read_csv('train.csv')"
      ],
      "metadata": {
        "id": "XSMDJqNlW3mz"
      },
      "execution_count": 50,
      "outputs": []
    },
    {
      "cell_type": "code",
      "source": [
        "from sklearn import svm\n",
        "y_t = np.array(dfp['price_range'])\n",
        "X_t = dfp\n",
        "X_t = dfp.drop(['price_range'],axis=1)\n",
        "X_t = np.array(X_t)\n",
        "X_train,X_test,Y_train,Y_test = train_test_split(X_t,y_t,test_size=.20,random_state=42)\n",
        "\n",
        "clf = svm.SVC()\n",
        "clf.fit(X_train, Y_train)\n",
        "clf.predict(X_test)\n",
        "scoretrain = clf.score(X_train,Y_train)\n",
        "scoretest  = clf.score(X_test,Y_test)\n",
        "print(\"train score and test score\")\n",
        "print(scoretrain)\n",
        "print(scoretest)"
      ],
      "metadata": {
        "colab": {
          "base_uri": "https://localhost:8080/"
        },
        "id": "pTYOmA7o76km",
        "outputId": "ce341246-c31f-4f0f-f97c-66eb3ea8266b"
      },
      "execution_count": 51,
      "outputs": [
        {
          "output_type": "stream",
          "name": "stdout",
          "text": [
            "train score and test score\n",
            "0.95375\n",
            "0.965\n"
          ]
        }
      ]
    }
  ]
}