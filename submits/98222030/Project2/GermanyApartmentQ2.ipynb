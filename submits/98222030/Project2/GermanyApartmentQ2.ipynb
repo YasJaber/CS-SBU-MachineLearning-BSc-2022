{
  "nbformat": 4,
  "nbformat_minor": 0,
  "metadata": {
    "colab": {
      "name": "GermanyApartmentQ2.ipynb",
      "provenance": [],
      "collapsed_sections": []
    },
    "kernelspec": {
      "name": "python3",
      "display_name": "Python 3"
    },
    "language_info": {
      "name": "python"
    }
  },
  "cells": [
    {
      "cell_type": "code",
      "execution_count": 1,
      "metadata": {
        "id": "g4zaHb5MKi8C"
      },
      "outputs": [],
      "source": [
        "!pip install -q kaggle"
      ]
    },
    {
      "cell_type": "code",
      "source": [
        "from google.colab import files\n",
        "files.upload()"
      ],
      "metadata": {
        "colab": {
          "resources": {
            "http://localhost:8080/nbextensions/google.colab/files.js": {
              "data": "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",
              "ok": true,
              "headers": [
                [
                  "content-type",
                  "application/javascript"
                ]
              ],
              "status": 200,
              "status_text": ""
            }
          },
          "base_uri": "https://localhost:8080/",
          "height": 91
        },
        "id": "cgOSJK0eKuX5",
        "outputId": "6391584e-e380-4fa1-dcd1-d2f824f5dfab"
      },
      "execution_count": 2,
      "outputs": [
        {
          "output_type": "display_data",
          "data": {
            "text/plain": [
              "<IPython.core.display.HTML object>"
            ],
            "text/html": [
              "\n",
              "     <input type=\"file\" id=\"files-0cc4745b-18bd-4011-83cc-c2707ce6f12b\" name=\"files[]\" multiple disabled\n",
              "        style=\"border:none\" />\n",
              "     <output id=\"result-0cc4745b-18bd-4011-83cc-c2707ce6f12b\">\n",
              "      Upload widget is only available when the cell has been executed in the\n",
              "      current browser session. Please rerun this cell to enable.\n",
              "      </output>\n",
              "      <script src=\"/nbextensions/google.colab/files.js\"></script> "
            ]
          },
          "metadata": {}
        },
        {
          "output_type": "stream",
          "name": "stdout",
          "text": [
            "Saving kaggle.json to kaggle.json\n"
          ]
        },
        {
          "output_type": "execute_result",
          "data": {
            "text/plain": [
              "{'kaggle.json': b'{\"username\":\"arshiahoseinmardy\",\"key\":\"299dc93fa503d8da727f0a8dad91b21f\"}'}"
            ]
          },
          "metadata": {},
          "execution_count": 2
        }
      ]
    },
    {
      "cell_type": "code",
      "source": [
        "#Make a directory named kaggle and copy the kaggle.json file there.\n",
        "!mkdir -p ~/.kaggle\n"
      ],
      "metadata": {
        "id": "ZaKsgQWgK0Lo"
      },
      "execution_count": 3,
      "outputs": []
    },
    {
      "cell_type": "code",
      "source": [
        "!cp kaggle.json ~/.kaggle/\n",
        "# change the permission of the file\n",
        "!chmod 600 ~/.kaggle/kaggle.json"
      ],
      "metadata": {
        "id": "_a4yOU6tK2D4"
      },
      "execution_count": 4,
      "outputs": []
    },
    {
      "cell_type": "code",
      "source": [
        "!kaggle datasets download -d corrieaar/apartment-rental-offers-in-germany"
      ],
      "metadata": {
        "colab": {
          "base_uri": "https://localhost:8080/"
        },
        "id": "TQ_LcTWuK4CR",
        "outputId": "6b08b65b-0987-4ed2-a9a3-7779aa32b99c"
      },
      "execution_count": 5,
      "outputs": [
        {
          "output_type": "stream",
          "name": "stdout",
          "text": [
            "Downloading apartment-rental-offers-in-germany.zip to /content\n",
            " 84% 78.0M/93.0M [00:01<00:00, 40.2MB/s]\n",
            "100% 93.0M/93.0M [00:01<00:00, 56.2MB/s]\n"
          ]
        }
      ]
    },
    {
      "cell_type": "code",
      "source": [
        "from zipfile import ZipFile\n",
        "file_name = 'apartment-rental-offers-in-germany.zip' #the file is your dataset exact name\n",
        "with ZipFile(file_name, 'r') as zip:\n",
        "  zip.extractall()\n",
        "  print('Done')"
      ],
      "metadata": {
        "colab": {
          "base_uri": "https://localhost:8080/"
        },
        "id": "gOvhlaMMK6sI",
        "outputId": "5837b54e-26e4-4214-8a48-592c8f9f19a2"
      },
      "execution_count": 6,
      "outputs": [
        {
          "output_type": "stream",
          "name": "stdout",
          "text": [
            "Done\n"
          ]
        }
      ]
    },
    {
      "cell_type": "code",
      "source": [
        "import pandas as pd\n",
        "import numpy as np\n",
        "import math\n",
        "import operator\n",
        "import matplotlib.pyplot as plt"
      ],
      "metadata": {
        "id": "n5FUTPpGK9sQ"
      },
      "execution_count": 7,
      "outputs": []
    },
    {
      "cell_type": "code",
      "source": [
        "df = pd.read_csv('immo_data.csv')"
      ],
      "metadata": {
        "id": "vhDIXIvjLB4v"
      },
      "execution_count": 8,
      "outputs": []
    },
    {
      "cell_type": "code",
      "source": [
        "df.head(10)"
      ],
      "metadata": {
        "colab": {
          "base_uri": "https://localhost:8080/",
          "height": 803
        },
        "id": "wZQME8s0LGSv",
        "outputId": "ca24ab56-df6d-491b-8f57-1339ef8177a2"
      },
      "execution_count": 9,
      "outputs": [
        {
          "output_type": "execute_result",
          "data": {
            "text/plain": [
              "                regio1  serviceCharge                     heatingType  \\\n",
              "0  Nordrhein_Westfalen         245.00                 central_heating   \n",
              "1      Rheinland_Pfalz         134.00  self_contained_central_heating   \n",
              "2              Sachsen         255.00                   floor_heating   \n",
              "3              Sachsen          58.15                district_heating   \n",
              "4               Bremen         138.00  self_contained_central_heating   \n",
              "5   Schleswig_Holstein         142.00                     gas_heating   \n",
              "6              Sachsen          70.00  self_contained_central_heating   \n",
              "7               Bremen          88.00                 central_heating   \n",
              "8    Baden_Württemberg         110.00                     oil_heating   \n",
              "9  Nordrhein_Westfalen          95.00  self_contained_central_heating   \n",
              "\n",
              "  telekomTvOffer  telekomHybridUploadSpeed  newlyConst  balcony  picturecount  \\\n",
              "0  ONE_YEAR_FREE                       NaN       False    False             6   \n",
              "1  ONE_YEAR_FREE                       NaN       False     True             8   \n",
              "2  ONE_YEAR_FREE                      10.0        True     True             8   \n",
              "3  ONE_YEAR_FREE                       NaN       False     True             9   \n",
              "4            NaN                       NaN       False     True            19   \n",
              "5           NONE                       NaN       False     True             5   \n",
              "6  ONE_YEAR_FREE                      10.0       False    False             9   \n",
              "7  ONE_YEAR_FREE                      10.0       False     True             5   \n",
              "8  ONE_YEAR_FREE                       NaN       False    False             5   \n",
              "9  ONE_YEAR_FREE                       NaN       False    False             7   \n",
              "\n",
              "   pricetrend  telekomUploadSpeed  ...                     regio2  \\\n",
              "0        4.62                10.0  ...                   Dortmund   \n",
              "1        3.47                10.0  ...          Rhein_Pfalz_Kreis   \n",
              "2        2.72                 2.4  ...                    Dresden   \n",
              "3        1.53                40.0  ...        Mittelsachsen_Kreis   \n",
              "4        2.46                 NaN  ...                     Bremen   \n",
              "5        4.48                 2.4  ...  Schleswig_Flensburg_Kreis   \n",
              "6        1.01                 2.4  ...        Mittelsachsen_Kreis   \n",
              "7        1.89                 2.4  ...                     Bremen   \n",
              "8        3.77                40.0  ...          Emmendingen_Kreis   \n",
              "9        1.92                40.0  ...              Gelsenkirchen   \n",
              "\n",
              "                       regio3  \\\n",
              "0                     Schüren   \n",
              "1              Böhl_Iggelheim   \n",
              "2  Äußere_Neustadt_Antonstadt   \n",
              "3                    Freiberg   \n",
              "4           Neu_Schwachhausen   \n",
              "5                   Struxdorf   \n",
              "6                    Freiberg   \n",
              "7                  St._Magnus   \n",
              "8                  Denzlingen   \n",
              "9               Bulmke_Hüllen   \n",
              "\n",
              "                                         description  \\\n",
              "0  Die ebenerdig zu erreichende Erdgeschosswohnun...   \n",
              "1  Alles neu macht der Mai – so kann es auch für ...   \n",
              "2  Der Neubau entsteht im Herzen der Dresdner Neu...   \n",
              "3  Abseits von Lärm und Abgasen in Ihre neue Wohn...   \n",
              "4  Es handelt sich hier um ein saniertes Mehrfami...   \n",
              "5                                                NaN   \n",
              "6  Am Bahnhof 14 in Freiberg\\nHeizkosten und Warm...   \n",
              "7  + Komfortabler Bodenbelag: Die Wohnung ist zus...   \n",
              "8  Diese ansprechende, lichtdurchflutete DG-Wohnu...   \n",
              "9  Sie sind auf der Suche nach einer gepflegten u...   \n",
              "\n",
              "                                          facilities heatingCosts  \\\n",
              "0  Die Wohnung ist mit Laminat ausgelegt. Das Bad...          NaN   \n",
              "1                                                NaN          NaN   \n",
              "2  * 9 m² Balkon\\n* Bad mit bodengleicher Dusche,...          NaN   \n",
              "3                                                NaN        87.23   \n",
              "4  Diese Wohnung wurde neu saniert und ist wie fo...          NaN   \n",
              "5  helle ebenerdige 2 Zi. Wohnung mit Terrasse, h...          NaN   \n",
              "6                                                NaN          NaN   \n",
              "7  Rollläden; Warmwasserbereiter; Kellerraum; Gas...        44.00   \n",
              "8                  Parkett, Einbauküche, kein Balkon          NaN   \n",
              "9  In Ihrem neuen Zuhause können Sie nach wenigen...          NaN   \n",
              "\n",
              "   energyEfficiencyClass lastRefurbish  electricityBasePrice  \\\n",
              "0                    NaN           NaN                   NaN   \n",
              "1                    NaN        2019.0                   NaN   \n",
              "2                    NaN           NaN                   NaN   \n",
              "3                    NaN           NaN                   NaN   \n",
              "4                    NaN           NaN                   NaN   \n",
              "5                    NaN           NaN                   NaN   \n",
              "6                    NaN           NaN                   NaN   \n",
              "7                      B           NaN                   NaN   \n",
              "8                      E           NaN                   NaN   \n",
              "9                    NaN           NaN                   NaN   \n",
              "\n",
              "   electricityKwhPrice   date  \n",
              "0                  NaN  May19  \n",
              "1                  NaN  May19  \n",
              "2                  NaN  Oct19  \n",
              "3                  NaN  May19  \n",
              "4                  NaN  Feb20  \n",
              "5                  NaN  Feb20  \n",
              "6                  NaN  Feb20  \n",
              "7                  NaN  Feb20  \n",
              "8                  NaN  Feb20  \n",
              "9                  NaN  Oct19  \n",
              "\n",
              "[10 rows x 49 columns]"
            ],
            "text/html": [
              "\n",
              "  <div id=\"df-13e5dd08-c702-4e0a-a03d-629bc51e2886\">\n",
              "    <div class=\"colab-df-container\">\n",
              "      <div>\n",
              "<style scoped>\n",
              "    .dataframe tbody tr th:only-of-type {\n",
              "        vertical-align: middle;\n",
              "    }\n",
              "\n",
              "    .dataframe tbody tr th {\n",
              "        vertical-align: top;\n",
              "    }\n",
              "\n",
              "    .dataframe thead th {\n",
              "        text-align: right;\n",
              "    }\n",
              "</style>\n",
              "<table border=\"1\" class=\"dataframe\">\n",
              "  <thead>\n",
              "    <tr style=\"text-align: right;\">\n",
              "      <th></th>\n",
              "      <th>regio1</th>\n",
              "      <th>serviceCharge</th>\n",
              "      <th>heatingType</th>\n",
              "      <th>telekomTvOffer</th>\n",
              "      <th>telekomHybridUploadSpeed</th>\n",
              "      <th>newlyConst</th>\n",
              "      <th>balcony</th>\n",
              "      <th>picturecount</th>\n",
              "      <th>pricetrend</th>\n",
              "      <th>telekomUploadSpeed</th>\n",
              "      <th>...</th>\n",
              "      <th>regio2</th>\n",
              "      <th>regio3</th>\n",
              "      <th>description</th>\n",
              "      <th>facilities</th>\n",
              "      <th>heatingCosts</th>\n",
              "      <th>energyEfficiencyClass</th>\n",
              "      <th>lastRefurbish</th>\n",
              "      <th>electricityBasePrice</th>\n",
              "      <th>electricityKwhPrice</th>\n",
              "      <th>date</th>\n",
              "    </tr>\n",
              "  </thead>\n",
              "  <tbody>\n",
              "    <tr>\n",
              "      <th>0</th>\n",
              "      <td>Nordrhein_Westfalen</td>\n",
              "      <td>245.00</td>\n",
              "      <td>central_heating</td>\n",
              "      <td>ONE_YEAR_FREE</td>\n",
              "      <td>NaN</td>\n",
              "      <td>False</td>\n",
              "      <td>False</td>\n",
              "      <td>6</td>\n",
              "      <td>4.62</td>\n",
              "      <td>10.0</td>\n",
              "      <td>...</td>\n",
              "      <td>Dortmund</td>\n",
              "      <td>Schüren</td>\n",
              "      <td>Die ebenerdig zu erreichende Erdgeschosswohnun...</td>\n",
              "      <td>Die Wohnung ist mit Laminat ausgelegt. Das Bad...</td>\n",
              "      <td>NaN</td>\n",
              "      <td>NaN</td>\n",
              "      <td>NaN</td>\n",
              "      <td>NaN</td>\n",
              "      <td>NaN</td>\n",
              "      <td>May19</td>\n",
              "    </tr>\n",
              "    <tr>\n",
              "      <th>1</th>\n",
              "      <td>Rheinland_Pfalz</td>\n",
              "      <td>134.00</td>\n",
              "      <td>self_contained_central_heating</td>\n",
              "      <td>ONE_YEAR_FREE</td>\n",
              "      <td>NaN</td>\n",
              "      <td>False</td>\n",
              "      <td>True</td>\n",
              "      <td>8</td>\n",
              "      <td>3.47</td>\n",
              "      <td>10.0</td>\n",
              "      <td>...</td>\n",
              "      <td>Rhein_Pfalz_Kreis</td>\n",
              "      <td>Böhl_Iggelheim</td>\n",
              "      <td>Alles neu macht der Mai – so kann es auch für ...</td>\n",
              "      <td>NaN</td>\n",
              "      <td>NaN</td>\n",
              "      <td>NaN</td>\n",
              "      <td>2019.0</td>\n",
              "      <td>NaN</td>\n",
              "      <td>NaN</td>\n",
              "      <td>May19</td>\n",
              "    </tr>\n",
              "    <tr>\n",
              "      <th>2</th>\n",
              "      <td>Sachsen</td>\n",
              "      <td>255.00</td>\n",
              "      <td>floor_heating</td>\n",
              "      <td>ONE_YEAR_FREE</td>\n",
              "      <td>10.0</td>\n",
              "      <td>True</td>\n",
              "      <td>True</td>\n",
              "      <td>8</td>\n",
              "      <td>2.72</td>\n",
              "      <td>2.4</td>\n",
              "      <td>...</td>\n",
              "      <td>Dresden</td>\n",
              "      <td>Äußere_Neustadt_Antonstadt</td>\n",
              "      <td>Der Neubau entsteht im Herzen der Dresdner Neu...</td>\n",
              "      <td>* 9 m² Balkon\\n* Bad mit bodengleicher Dusche,...</td>\n",
              "      <td>NaN</td>\n",
              "      <td>NaN</td>\n",
              "      <td>NaN</td>\n",
              "      <td>NaN</td>\n",
              "      <td>NaN</td>\n",
              "      <td>Oct19</td>\n",
              "    </tr>\n",
              "    <tr>\n",
              "      <th>3</th>\n",
              "      <td>Sachsen</td>\n",
              "      <td>58.15</td>\n",
              "      <td>district_heating</td>\n",
              "      <td>ONE_YEAR_FREE</td>\n",
              "      <td>NaN</td>\n",
              "      <td>False</td>\n",
              "      <td>True</td>\n",
              "      <td>9</td>\n",
              "      <td>1.53</td>\n",
              "      <td>40.0</td>\n",
              "      <td>...</td>\n",
              "      <td>Mittelsachsen_Kreis</td>\n",
              "      <td>Freiberg</td>\n",
              "      <td>Abseits von Lärm und Abgasen in Ihre neue Wohn...</td>\n",
              "      <td>NaN</td>\n",
              "      <td>87.23</td>\n",
              "      <td>NaN</td>\n",
              "      <td>NaN</td>\n",
              "      <td>NaN</td>\n",
              "      <td>NaN</td>\n",
              "      <td>May19</td>\n",
              "    </tr>\n",
              "    <tr>\n",
              "      <th>4</th>\n",
              "      <td>Bremen</td>\n",
              "      <td>138.00</td>\n",
              "      <td>self_contained_central_heating</td>\n",
              "      <td>NaN</td>\n",
              "      <td>NaN</td>\n",
              "      <td>False</td>\n",
              "      <td>True</td>\n",
              "      <td>19</td>\n",
              "      <td>2.46</td>\n",
              "      <td>NaN</td>\n",
              "      <td>...</td>\n",
              "      <td>Bremen</td>\n",
              "      <td>Neu_Schwachhausen</td>\n",
              "      <td>Es handelt sich hier um ein saniertes Mehrfami...</td>\n",
              "      <td>Diese Wohnung wurde neu saniert und ist wie fo...</td>\n",
              "      <td>NaN</td>\n",
              "      <td>NaN</td>\n",
              "      <td>NaN</td>\n",
              "      <td>NaN</td>\n",
              "      <td>NaN</td>\n",
              "      <td>Feb20</td>\n",
              "    </tr>\n",
              "    <tr>\n",
              "      <th>5</th>\n",
              "      <td>Schleswig_Holstein</td>\n",
              "      <td>142.00</td>\n",
              "      <td>gas_heating</td>\n",
              "      <td>NONE</td>\n",
              "      <td>NaN</td>\n",
              "      <td>False</td>\n",
              "      <td>True</td>\n",
              "      <td>5</td>\n",
              "      <td>4.48</td>\n",
              "      <td>2.4</td>\n",
              "      <td>...</td>\n",
              "      <td>Schleswig_Flensburg_Kreis</td>\n",
              "      <td>Struxdorf</td>\n",
              "      <td>NaN</td>\n",
              "      <td>helle ebenerdige 2 Zi. Wohnung mit Terrasse, h...</td>\n",
              "      <td>NaN</td>\n",
              "      <td>NaN</td>\n",
              "      <td>NaN</td>\n",
              "      <td>NaN</td>\n",
              "      <td>NaN</td>\n",
              "      <td>Feb20</td>\n",
              "    </tr>\n",
              "    <tr>\n",
              "      <th>6</th>\n",
              "      <td>Sachsen</td>\n",
              "      <td>70.00</td>\n",
              "      <td>self_contained_central_heating</td>\n",
              "      <td>ONE_YEAR_FREE</td>\n",
              "      <td>10.0</td>\n",
              "      <td>False</td>\n",
              "      <td>False</td>\n",
              "      <td>9</td>\n",
              "      <td>1.01</td>\n",
              "      <td>2.4</td>\n",
              "      <td>...</td>\n",
              "      <td>Mittelsachsen_Kreis</td>\n",
              "      <td>Freiberg</td>\n",
              "      <td>Am Bahnhof 14 in Freiberg\\nHeizkosten und Warm...</td>\n",
              "      <td>NaN</td>\n",
              "      <td>NaN</td>\n",
              "      <td>NaN</td>\n",
              "      <td>NaN</td>\n",
              "      <td>NaN</td>\n",
              "      <td>NaN</td>\n",
              "      <td>Feb20</td>\n",
              "    </tr>\n",
              "    <tr>\n",
              "      <th>7</th>\n",
              "      <td>Bremen</td>\n",
              "      <td>88.00</td>\n",
              "      <td>central_heating</td>\n",
              "      <td>ONE_YEAR_FREE</td>\n",
              "      <td>10.0</td>\n",
              "      <td>False</td>\n",
              "      <td>True</td>\n",
              "      <td>5</td>\n",
              "      <td>1.89</td>\n",
              "      <td>2.4</td>\n",
              "      <td>...</td>\n",
              "      <td>Bremen</td>\n",
              "      <td>St._Magnus</td>\n",
              "      <td>+ Komfortabler Bodenbelag: Die Wohnung ist zus...</td>\n",
              "      <td>Rollläden; Warmwasserbereiter; Kellerraum; Gas...</td>\n",
              "      <td>44.00</td>\n",
              "      <td>B</td>\n",
              "      <td>NaN</td>\n",
              "      <td>NaN</td>\n",
              "      <td>NaN</td>\n",
              "      <td>Feb20</td>\n",
              "    </tr>\n",
              "    <tr>\n",
              "      <th>8</th>\n",
              "      <td>Baden_Württemberg</td>\n",
              "      <td>110.00</td>\n",
              "      <td>oil_heating</td>\n",
              "      <td>ONE_YEAR_FREE</td>\n",
              "      <td>NaN</td>\n",
              "      <td>False</td>\n",
              "      <td>False</td>\n",
              "      <td>5</td>\n",
              "      <td>3.77</td>\n",
              "      <td>40.0</td>\n",
              "      <td>...</td>\n",
              "      <td>Emmendingen_Kreis</td>\n",
              "      <td>Denzlingen</td>\n",
              "      <td>Diese ansprechende, lichtdurchflutete DG-Wohnu...</td>\n",
              "      <td>Parkett, Einbauküche, kein Balkon</td>\n",
              "      <td>NaN</td>\n",
              "      <td>E</td>\n",
              "      <td>NaN</td>\n",
              "      <td>NaN</td>\n",
              "      <td>NaN</td>\n",
              "      <td>Feb20</td>\n",
              "    </tr>\n",
              "    <tr>\n",
              "      <th>9</th>\n",
              "      <td>Nordrhein_Westfalen</td>\n",
              "      <td>95.00</td>\n",
              "      <td>self_contained_central_heating</td>\n",
              "      <td>ONE_YEAR_FREE</td>\n",
              "      <td>NaN</td>\n",
              "      <td>False</td>\n",
              "      <td>False</td>\n",
              "      <td>7</td>\n",
              "      <td>1.92</td>\n",
              "      <td>40.0</td>\n",
              "      <td>...</td>\n",
              "      <td>Gelsenkirchen</td>\n",
              "      <td>Bulmke_Hüllen</td>\n",
              "      <td>Sie sind auf der Suche nach einer gepflegten u...</td>\n",
              "      <td>In Ihrem neuen Zuhause können Sie nach wenigen...</td>\n",
              "      <td>NaN</td>\n",
              "      <td>NaN</td>\n",
              "      <td>NaN</td>\n",
              "      <td>NaN</td>\n",
              "      <td>NaN</td>\n",
              "      <td>Oct19</td>\n",
              "    </tr>\n",
              "  </tbody>\n",
              "</table>\n",
              "<p>10 rows × 49 columns</p>\n",
              "</div>\n",
              "      <button class=\"colab-df-convert\" onclick=\"convertToInteractive('df-13e5dd08-c702-4e0a-a03d-629bc51e2886')\"\n",
              "              title=\"Convert this dataframe to an interactive table.\"\n",
              "              style=\"display:none;\">\n",
              "        \n",
              "  <svg xmlns=\"http://www.w3.org/2000/svg\" height=\"24px\"viewBox=\"0 0 24 24\"\n",
              "       width=\"24px\">\n",
              "    <path d=\"M0 0h24v24H0V0z\" fill=\"none\"/>\n",
              "    <path d=\"M18.56 5.44l.94 2.06.94-2.06 2.06-.94-2.06-.94-.94-2.06-.94 2.06-2.06.94zm-11 1L8.5 8.5l.94-2.06 2.06-.94-2.06-.94L8.5 2.5l-.94 2.06-2.06.94zm10 10l.94 2.06.94-2.06 2.06-.94-2.06-.94-.94-2.06-.94 2.06-2.06.94z\"/><path d=\"M17.41 7.96l-1.37-1.37c-.4-.4-.92-.59-1.43-.59-.52 0-1.04.2-1.43.59L10.3 9.45l-7.72 7.72c-.78.78-.78 2.05 0 2.83L4 21.41c.39.39.9.59 1.41.59.51 0 1.02-.2 1.41-.59l7.78-7.78 2.81-2.81c.8-.78.8-2.07 0-2.86zM5.41 20L4 18.59l7.72-7.72 1.47 1.35L5.41 20z\"/>\n",
              "  </svg>\n",
              "      </button>\n",
              "      \n",
              "  <style>\n",
              "    .colab-df-container {\n",
              "      display:flex;\n",
              "      flex-wrap:wrap;\n",
              "      gap: 12px;\n",
              "    }\n",
              "\n",
              "    .colab-df-convert {\n",
              "      background-color: #E8F0FE;\n",
              "      border: none;\n",
              "      border-radius: 50%;\n",
              "      cursor: pointer;\n",
              "      display: none;\n",
              "      fill: #1967D2;\n",
              "      height: 32px;\n",
              "      padding: 0 0 0 0;\n",
              "      width: 32px;\n",
              "    }\n",
              "\n",
              "    .colab-df-convert:hover {\n",
              "      background-color: #E2EBFA;\n",
              "      box-shadow: 0px 1px 2px rgba(60, 64, 67, 0.3), 0px 1px 3px 1px rgba(60, 64, 67, 0.15);\n",
              "      fill: #174EA6;\n",
              "    }\n",
              "\n",
              "    [theme=dark] .colab-df-convert {\n",
              "      background-color: #3B4455;\n",
              "      fill: #D2E3FC;\n",
              "    }\n",
              "\n",
              "    [theme=dark] .colab-df-convert:hover {\n",
              "      background-color: #434B5C;\n",
              "      box-shadow: 0px 1px 3px 1px rgba(0, 0, 0, 0.15);\n",
              "      filter: drop-shadow(0px 1px 2px rgba(0, 0, 0, 0.3));\n",
              "      fill: #FFFFFF;\n",
              "    }\n",
              "  </style>\n",
              "\n",
              "      <script>\n",
              "        const buttonEl =\n",
              "          document.querySelector('#df-13e5dd08-c702-4e0a-a03d-629bc51e2886 button.colab-df-convert');\n",
              "        buttonEl.style.display =\n",
              "          google.colab.kernel.accessAllowed ? 'block' : 'none';\n",
              "\n",
              "        async function convertToInteractive(key) {\n",
              "          const element = document.querySelector('#df-13e5dd08-c702-4e0a-a03d-629bc51e2886');\n",
              "          const dataTable =\n",
              "            await google.colab.kernel.invokeFunction('convertToInteractive',\n",
              "                                                     [key], {});\n",
              "          if (!dataTable) return;\n",
              "\n",
              "          const docLinkHtml = 'Like what you see? Visit the ' +\n",
              "            '<a target=\"_blank\" href=https://colab.research.google.com/notebooks/data_table.ipynb>data table notebook</a>'\n",
              "            + ' to learn more about interactive tables.';\n",
              "          element.innerHTML = '';\n",
              "          dataTable['output_type'] = 'display_data';\n",
              "          await google.colab.output.renderOutput(dataTable, element);\n",
              "          const docLink = document.createElement('div');\n",
              "          docLink.innerHTML = docLinkHtml;\n",
              "          element.appendChild(docLink);\n",
              "        }\n",
              "      </script>\n",
              "    </div>\n",
              "  </div>\n",
              "  "
            ]
          },
          "metadata": {},
          "execution_count": 9
        }
      ]
    },
    {
      "cell_type": "code",
      "source": [
        "df.info()"
      ],
      "metadata": {
        "colab": {
          "base_uri": "https://localhost:8080/"
        },
        "id": "DqOWdFAHLJRW",
        "outputId": "6f2ef5dc-44d4-4238-aebe-fd141fd0b004"
      },
      "execution_count": 10,
      "outputs": [
        {
          "output_type": "stream",
          "name": "stdout",
          "text": [
            "<class 'pandas.core.frame.DataFrame'>\n",
            "RangeIndex: 268850 entries, 0 to 268849\n",
            "Data columns (total 49 columns):\n",
            " #   Column                    Non-Null Count   Dtype  \n",
            "---  ------                    --------------   -----  \n",
            " 0   regio1                    268850 non-null  object \n",
            " 1   serviceCharge             261941 non-null  float64\n",
            " 2   heatingType               223994 non-null  object \n",
            " 3   telekomTvOffer            236231 non-null  object \n",
            " 4   telekomHybridUploadSpeed  45020 non-null   float64\n",
            " 5   newlyConst                268850 non-null  bool   \n",
            " 6   balcony                   268850 non-null  bool   \n",
            " 7   picturecount              268850 non-null  int64  \n",
            " 8   pricetrend                267018 non-null  float64\n",
            " 9   telekomUploadSpeed        235492 non-null  float64\n",
            " 10  totalRent                 228333 non-null  float64\n",
            " 11  yearConstructed           211805 non-null  float64\n",
            " 12  scoutId                   268850 non-null  int64  \n",
            " 13  noParkSpaces              93052 non-null   float64\n",
            " 14  firingTypes               211886 non-null  object \n",
            " 15  hasKitchen                268850 non-null  bool   \n",
            " 16  geo_bln                   268850 non-null  object \n",
            " 17  cellar                    268850 non-null  bool   \n",
            " 18  yearConstructedRange      211805 non-null  float64\n",
            " 19  baseRent                  268850 non-null  float64\n",
            " 20  houseNumber               197832 non-null  object \n",
            " 21  livingSpace               268850 non-null  float64\n",
            " 22  geo_krs                   268850 non-null  object \n",
            " 23  condition                 200361 non-null  object \n",
            " 24  interiorQual              156185 non-null  object \n",
            " 25  petsAllowed               154277 non-null  object \n",
            " 26  street                    268850 non-null  object \n",
            " 27  streetPlain               197837 non-null  object \n",
            " 28  lift                      268850 non-null  bool   \n",
            " 29  baseRentRange             268850 non-null  int64  \n",
            " 30  typeOfFlat                232236 non-null  object \n",
            " 31  geo_plz                   268850 non-null  int64  \n",
            " 32  noRooms                   268850 non-null  float64\n",
            " 33  thermalChar               162344 non-null  float64\n",
            " 34  floor                     217541 non-null  float64\n",
            " 35  numberOfFloors            171118 non-null  float64\n",
            " 36  noRoomsRange              268850 non-null  int64  \n",
            " 37  garden                    268850 non-null  bool   \n",
            " 38  livingSpaceRange          268850 non-null  int64  \n",
            " 39  regio2                    268850 non-null  object \n",
            " 40  regio3                    268850 non-null  object \n",
            " 41  description               249103 non-null  object \n",
            " 42  facilities                215926 non-null  object \n",
            " 43  heatingCosts              85518 non-null   float64\n",
            " 44  energyEfficiencyClass     77787 non-null   object \n",
            " 45  lastRefurbish             80711 non-null   float64\n",
            " 46  electricityBasePrice      46846 non-null   float64\n",
            " 47  electricityKwhPrice       46846 non-null   float64\n",
            " 48  date                      268850 non-null  object \n",
            "dtypes: bool(6), float64(18), int64(6), object(19)\n",
            "memory usage: 89.7+ MB\n"
          ]
        }
      ]
    },
    {
      "cell_type": "code",
      "source": [
        "df.describe()"
      ],
      "metadata": {
        "colab": {
          "base_uri": "https://localhost:8080/",
          "height": 394
        },
        "id": "4KGSjjo-MSdv",
        "outputId": "45438d67-16c8-44bd-e639-ece27036ff89"
      },
      "execution_count": 11,
      "outputs": [
        {
          "output_type": "execute_result",
          "data": {
            "text/plain": [
              "       serviceCharge  telekomHybridUploadSpeed   picturecount     pricetrend  \\\n",
              "count  261941.000000                   45020.0  268850.000000  267018.000000   \n",
              "mean      151.206113                      10.0       9.791958       3.389001   \n",
              "std       308.295790                       0.0       6.408399       1.964874   \n",
              "min         0.000000                      10.0       0.000000     -12.330000   \n",
              "25%        95.000000                      10.0       6.000000       2.000000   \n",
              "50%       135.000000                      10.0       9.000000       3.390000   \n",
              "75%       190.000000                      10.0      13.000000       4.570000   \n",
              "max    146118.000000                      10.0     121.000000      14.920000   \n",
              "\n",
              "       telekomUploadSpeed     totalRent  yearConstructed       scoutId  \\\n",
              "count       235492.000000  2.283330e+05    211805.000000  2.688500e+05   \n",
              "mean            28.804928  9.013315e+02      1966.400590  1.069697e+08   \n",
              "std             16.337151  3.323833e+04        46.992207  1.250093e+07   \n",
              "min              1.000000  0.000000e+00      1000.000000  2.887174e+07   \n",
              "25%             10.000000  4.698000e+02      1950.000000  1.066910e+08   \n",
              "50%             40.000000  6.500000e+02      1973.000000  1.111584e+08   \n",
              "75%             40.000000  9.850000e+02      1996.000000  1.137688e+08   \n",
              "max            100.000000  1.575154e+07      2090.000000  1.157117e+08   \n",
              "\n",
              "       noParkSpaces  yearConstructedRange  ...        noRooms    thermalChar  \\\n",
              "count  93052.000000         211805.000000  ...  268850.000000  162344.000000   \n",
              "mean       1.327634              3.714544  ...       2.641261     114.749533   \n",
              "std        8.361403              2.738134  ...       2.633440      61.653663   \n",
              "min        0.000000              1.000000  ...       1.000000       0.100000   \n",
              "25%        1.000000              1.000000  ...       2.000000      79.000000   \n",
              "50%        1.000000              3.000000  ...       3.000000     107.000000   \n",
              "75%        1.000000              5.000000  ...       3.000000     140.300000   \n",
              "max     2241.000000              9.000000  ...     999.990000    1996.000000   \n",
              "\n",
              "               floor  numberOfFloors   noRoomsRange  livingSpaceRange  \\\n",
              "count  217541.000000   171118.000000  268850.000000     268850.000000   \n",
              "mean        2.122405        3.572319       2.571542          3.070790   \n",
              "std         3.634934        6.375496       0.937594          1.407127   \n",
              "min        -1.000000        0.000000       1.000000          1.000000   \n",
              "25%         1.000000        2.000000       2.000000          2.000000   \n",
              "50%         2.000000        3.000000       3.000000          3.000000   \n",
              "75%         3.000000        4.000000       3.000000          4.000000   \n",
              "max       999.000000      999.000000       5.000000          7.000000   \n",
              "\n",
              "       heatingCosts  lastRefurbish  electricityBasePrice  electricityKwhPrice  \n",
              "count  85518.000000   80711.000000          46846.000000         46846.000000  \n",
              "mean      76.990866    2013.904536             89.113612             0.199769  \n",
              "std      147.716278      10.963125              5.395805             0.009667  \n",
              "min        0.000000    1015.000000             71.430000             0.170500  \n",
              "25%       54.000000    2012.000000             90.760000             0.191500  \n",
              "50%       70.000000    2017.000000             90.760000             0.198500  \n",
              "75%       90.000000    2019.000000             90.760000             0.205500  \n",
              "max    12613.000000    2919.000000             90.760000             0.227600  \n",
              "\n",
              "[8 rows x 24 columns]"
            ],
            "text/html": [
              "\n",
              "  <div id=\"df-38dc12a0-061c-43a6-9b27-dac529a3abad\">\n",
              "    <div class=\"colab-df-container\">\n",
              "      <div>\n",
              "<style scoped>\n",
              "    .dataframe tbody tr th:only-of-type {\n",
              "        vertical-align: middle;\n",
              "    }\n",
              "\n",
              "    .dataframe tbody tr th {\n",
              "        vertical-align: top;\n",
              "    }\n",
              "\n",
              "    .dataframe thead th {\n",
              "        text-align: right;\n",
              "    }\n",
              "</style>\n",
              "<table border=\"1\" class=\"dataframe\">\n",
              "  <thead>\n",
              "    <tr style=\"text-align: right;\">\n",
              "      <th></th>\n",
              "      <th>serviceCharge</th>\n",
              "      <th>telekomHybridUploadSpeed</th>\n",
              "      <th>picturecount</th>\n",
              "      <th>pricetrend</th>\n",
              "      <th>telekomUploadSpeed</th>\n",
              "      <th>totalRent</th>\n",
              "      <th>yearConstructed</th>\n",
              "      <th>scoutId</th>\n",
              "      <th>noParkSpaces</th>\n",
              "      <th>yearConstructedRange</th>\n",
              "      <th>...</th>\n",
              "      <th>noRooms</th>\n",
              "      <th>thermalChar</th>\n",
              "      <th>floor</th>\n",
              "      <th>numberOfFloors</th>\n",
              "      <th>noRoomsRange</th>\n",
              "      <th>livingSpaceRange</th>\n",
              "      <th>heatingCosts</th>\n",
              "      <th>lastRefurbish</th>\n",
              "      <th>electricityBasePrice</th>\n",
              "      <th>electricityKwhPrice</th>\n",
              "    </tr>\n",
              "  </thead>\n",
              "  <tbody>\n",
              "    <tr>\n",
              "      <th>count</th>\n",
              "      <td>261941.000000</td>\n",
              "      <td>45020.0</td>\n",
              "      <td>268850.000000</td>\n",
              "      <td>267018.000000</td>\n",
              "      <td>235492.000000</td>\n",
              "      <td>2.283330e+05</td>\n",
              "      <td>211805.000000</td>\n",
              "      <td>2.688500e+05</td>\n",
              "      <td>93052.000000</td>\n",
              "      <td>211805.000000</td>\n",
              "      <td>...</td>\n",
              "      <td>268850.000000</td>\n",
              "      <td>162344.000000</td>\n",
              "      <td>217541.000000</td>\n",
              "      <td>171118.000000</td>\n",
              "      <td>268850.000000</td>\n",
              "      <td>268850.000000</td>\n",
              "      <td>85518.000000</td>\n",
              "      <td>80711.000000</td>\n",
              "      <td>46846.000000</td>\n",
              "      <td>46846.000000</td>\n",
              "    </tr>\n",
              "    <tr>\n",
              "      <th>mean</th>\n",
              "      <td>151.206113</td>\n",
              "      <td>10.0</td>\n",
              "      <td>9.791958</td>\n",
              "      <td>3.389001</td>\n",
              "      <td>28.804928</td>\n",
              "      <td>9.013315e+02</td>\n",
              "      <td>1966.400590</td>\n",
              "      <td>1.069697e+08</td>\n",
              "      <td>1.327634</td>\n",
              "      <td>3.714544</td>\n",
              "      <td>...</td>\n",
              "      <td>2.641261</td>\n",
              "      <td>114.749533</td>\n",
              "      <td>2.122405</td>\n",
              "      <td>3.572319</td>\n",
              "      <td>2.571542</td>\n",
              "      <td>3.070790</td>\n",
              "      <td>76.990866</td>\n",
              "      <td>2013.904536</td>\n",
              "      <td>89.113612</td>\n",
              "      <td>0.199769</td>\n",
              "    </tr>\n",
              "    <tr>\n",
              "      <th>std</th>\n",
              "      <td>308.295790</td>\n",
              "      <td>0.0</td>\n",
              "      <td>6.408399</td>\n",
              "      <td>1.964874</td>\n",
              "      <td>16.337151</td>\n",
              "      <td>3.323833e+04</td>\n",
              "      <td>46.992207</td>\n",
              "      <td>1.250093e+07</td>\n",
              "      <td>8.361403</td>\n",
              "      <td>2.738134</td>\n",
              "      <td>...</td>\n",
              "      <td>2.633440</td>\n",
              "      <td>61.653663</td>\n",
              "      <td>3.634934</td>\n",
              "      <td>6.375496</td>\n",
              "      <td>0.937594</td>\n",
              "      <td>1.407127</td>\n",
              "      <td>147.716278</td>\n",
              "      <td>10.963125</td>\n",
              "      <td>5.395805</td>\n",
              "      <td>0.009667</td>\n",
              "    </tr>\n",
              "    <tr>\n",
              "      <th>min</th>\n",
              "      <td>0.000000</td>\n",
              "      <td>10.0</td>\n",
              "      <td>0.000000</td>\n",
              "      <td>-12.330000</td>\n",
              "      <td>1.000000</td>\n",
              "      <td>0.000000e+00</td>\n",
              "      <td>1000.000000</td>\n",
              "      <td>2.887174e+07</td>\n",
              "      <td>0.000000</td>\n",
              "      <td>1.000000</td>\n",
              "      <td>...</td>\n",
              "      <td>1.000000</td>\n",
              "      <td>0.100000</td>\n",
              "      <td>-1.000000</td>\n",
              "      <td>0.000000</td>\n",
              "      <td>1.000000</td>\n",
              "      <td>1.000000</td>\n",
              "      <td>0.000000</td>\n",
              "      <td>1015.000000</td>\n",
              "      <td>71.430000</td>\n",
              "      <td>0.170500</td>\n",
              "    </tr>\n",
              "    <tr>\n",
              "      <th>25%</th>\n",
              "      <td>95.000000</td>\n",
              "      <td>10.0</td>\n",
              "      <td>6.000000</td>\n",
              "      <td>2.000000</td>\n",
              "      <td>10.000000</td>\n",
              "      <td>4.698000e+02</td>\n",
              "      <td>1950.000000</td>\n",
              "      <td>1.066910e+08</td>\n",
              "      <td>1.000000</td>\n",
              "      <td>1.000000</td>\n",
              "      <td>...</td>\n",
              "      <td>2.000000</td>\n",
              "      <td>79.000000</td>\n",
              "      <td>1.000000</td>\n",
              "      <td>2.000000</td>\n",
              "      <td>2.000000</td>\n",
              "      <td>2.000000</td>\n",
              "      <td>54.000000</td>\n",
              "      <td>2012.000000</td>\n",
              "      <td>90.760000</td>\n",
              "      <td>0.191500</td>\n",
              "    </tr>\n",
              "    <tr>\n",
              "      <th>50%</th>\n",
              "      <td>135.000000</td>\n",
              "      <td>10.0</td>\n",
              "      <td>9.000000</td>\n",
              "      <td>3.390000</td>\n",
              "      <td>40.000000</td>\n",
              "      <td>6.500000e+02</td>\n",
              "      <td>1973.000000</td>\n",
              "      <td>1.111584e+08</td>\n",
              "      <td>1.000000</td>\n",
              "      <td>3.000000</td>\n",
              "      <td>...</td>\n",
              "      <td>3.000000</td>\n",
              "      <td>107.000000</td>\n",
              "      <td>2.000000</td>\n",
              "      <td>3.000000</td>\n",
              "      <td>3.000000</td>\n",
              "      <td>3.000000</td>\n",
              "      <td>70.000000</td>\n",
              "      <td>2017.000000</td>\n",
              "      <td>90.760000</td>\n",
              "      <td>0.198500</td>\n",
              "    </tr>\n",
              "    <tr>\n",
              "      <th>75%</th>\n",
              "      <td>190.000000</td>\n",
              "      <td>10.0</td>\n",
              "      <td>13.000000</td>\n",
              "      <td>4.570000</td>\n",
              "      <td>40.000000</td>\n",
              "      <td>9.850000e+02</td>\n",
              "      <td>1996.000000</td>\n",
              "      <td>1.137688e+08</td>\n",
              "      <td>1.000000</td>\n",
              "      <td>5.000000</td>\n",
              "      <td>...</td>\n",
              "      <td>3.000000</td>\n",
              "      <td>140.300000</td>\n",
              "      <td>3.000000</td>\n",
              "      <td>4.000000</td>\n",
              "      <td>3.000000</td>\n",
              "      <td>4.000000</td>\n",
              "      <td>90.000000</td>\n",
              "      <td>2019.000000</td>\n",
              "      <td>90.760000</td>\n",
              "      <td>0.205500</td>\n",
              "    </tr>\n",
              "    <tr>\n",
              "      <th>max</th>\n",
              "      <td>146118.000000</td>\n",
              "      <td>10.0</td>\n",
              "      <td>121.000000</td>\n",
              "      <td>14.920000</td>\n",
              "      <td>100.000000</td>\n",
              "      <td>1.575154e+07</td>\n",
              "      <td>2090.000000</td>\n",
              "      <td>1.157117e+08</td>\n",
              "      <td>2241.000000</td>\n",
              "      <td>9.000000</td>\n",
              "      <td>...</td>\n",
              "      <td>999.990000</td>\n",
              "      <td>1996.000000</td>\n",
              "      <td>999.000000</td>\n",
              "      <td>999.000000</td>\n",
              "      <td>5.000000</td>\n",
              "      <td>7.000000</td>\n",
              "      <td>12613.000000</td>\n",
              "      <td>2919.000000</td>\n",
              "      <td>90.760000</td>\n",
              "      <td>0.227600</td>\n",
              "    </tr>\n",
              "  </tbody>\n",
              "</table>\n",
              "<p>8 rows × 24 columns</p>\n",
              "</div>\n",
              "      <button class=\"colab-df-convert\" onclick=\"convertToInteractive('df-38dc12a0-061c-43a6-9b27-dac529a3abad')\"\n",
              "              title=\"Convert this dataframe to an interactive table.\"\n",
              "              style=\"display:none;\">\n",
              "        \n",
              "  <svg xmlns=\"http://www.w3.org/2000/svg\" height=\"24px\"viewBox=\"0 0 24 24\"\n",
              "       width=\"24px\">\n",
              "    <path d=\"M0 0h24v24H0V0z\" fill=\"none\"/>\n",
              "    <path d=\"M18.56 5.44l.94 2.06.94-2.06 2.06-.94-2.06-.94-.94-2.06-.94 2.06-2.06.94zm-11 1L8.5 8.5l.94-2.06 2.06-.94-2.06-.94L8.5 2.5l-.94 2.06-2.06.94zm10 10l.94 2.06.94-2.06 2.06-.94-2.06-.94-.94-2.06-.94 2.06-2.06.94z\"/><path d=\"M17.41 7.96l-1.37-1.37c-.4-.4-.92-.59-1.43-.59-.52 0-1.04.2-1.43.59L10.3 9.45l-7.72 7.72c-.78.78-.78 2.05 0 2.83L4 21.41c.39.39.9.59 1.41.59.51 0 1.02-.2 1.41-.59l7.78-7.78 2.81-2.81c.8-.78.8-2.07 0-2.86zM5.41 20L4 18.59l7.72-7.72 1.47 1.35L5.41 20z\"/>\n",
              "  </svg>\n",
              "      </button>\n",
              "      \n",
              "  <style>\n",
              "    .colab-df-container {\n",
              "      display:flex;\n",
              "      flex-wrap:wrap;\n",
              "      gap: 12px;\n",
              "    }\n",
              "\n",
              "    .colab-df-convert {\n",
              "      background-color: #E8F0FE;\n",
              "      border: none;\n",
              "      border-radius: 50%;\n",
              "      cursor: pointer;\n",
              "      display: none;\n",
              "      fill: #1967D2;\n",
              "      height: 32px;\n",
              "      padding: 0 0 0 0;\n",
              "      width: 32px;\n",
              "    }\n",
              "\n",
              "    .colab-df-convert:hover {\n",
              "      background-color: #E2EBFA;\n",
              "      box-shadow: 0px 1px 2px rgba(60, 64, 67, 0.3), 0px 1px 3px 1px rgba(60, 64, 67, 0.15);\n",
              "      fill: #174EA6;\n",
              "    }\n",
              "\n",
              "    [theme=dark] .colab-df-convert {\n",
              "      background-color: #3B4455;\n",
              "      fill: #D2E3FC;\n",
              "    }\n",
              "\n",
              "    [theme=dark] .colab-df-convert:hover {\n",
              "      background-color: #434B5C;\n",
              "      box-shadow: 0px 1px 3px 1px rgba(0, 0, 0, 0.15);\n",
              "      filter: drop-shadow(0px 1px 2px rgba(0, 0, 0, 0.3));\n",
              "      fill: #FFFFFF;\n",
              "    }\n",
              "  </style>\n",
              "\n",
              "      <script>\n",
              "        const buttonEl =\n",
              "          document.querySelector('#df-38dc12a0-061c-43a6-9b27-dac529a3abad button.colab-df-convert');\n",
              "        buttonEl.style.display =\n",
              "          google.colab.kernel.accessAllowed ? 'block' : 'none';\n",
              "\n",
              "        async function convertToInteractive(key) {\n",
              "          const element = document.querySelector('#df-38dc12a0-061c-43a6-9b27-dac529a3abad');\n",
              "          const dataTable =\n",
              "            await google.colab.kernel.invokeFunction('convertToInteractive',\n",
              "                                                     [key], {});\n",
              "          if (!dataTable) return;\n",
              "\n",
              "          const docLinkHtml = 'Like what you see? Visit the ' +\n",
              "            '<a target=\"_blank\" href=https://colab.research.google.com/notebooks/data_table.ipynb>data table notebook</a>'\n",
              "            + ' to learn more about interactive tables.';\n",
              "          element.innerHTML = '';\n",
              "          dataTable['output_type'] = 'display_data';\n",
              "          await google.colab.output.renderOutput(dataTable, element);\n",
              "          const docLink = document.createElement('div');\n",
              "          docLink.innerHTML = docLinkHtml;\n",
              "          element.appendChild(docLink);\n",
              "        }\n",
              "      </script>\n",
              "    </div>\n",
              "  </div>\n",
              "  "
            ]
          },
          "metadata": {},
          "execution_count": 11
        }
      ]
    },
    {
      "cell_type": "markdown",
      "source": [
        "**clean Data**"
      ],
      "metadata": {
        "id": "hdqxpEabMZEG"
      }
    },
    {
      "cell_type": "markdown",
      "source": [
        "remove not important features"
      ],
      "metadata": {
        "id": "CNjB5Nq7fnoN"
      }
    },
    {
      "cell_type": "code",
      "source": [
        "df = df.drop(columns=['scoutId','street','streetPlain','houseNumber','facilities','description'])"
      ],
      "metadata": {
        "id": "KxkXnveSMXUW"
      },
      "execution_count": 12,
      "outputs": []
    },
    {
      "cell_type": "code",
      "source": [
        "df.shape"
      ],
      "metadata": {
        "colab": {
          "base_uri": "https://localhost:8080/"
        },
        "id": "OWH8gfz0Mmp4",
        "outputId": "67a530c2-9e32-4d2e-ec81-701e2d268af3"
      },
      "execution_count": 13,
      "outputs": [
        {
          "output_type": "execute_result",
          "data": {
            "text/plain": [
              "(268850, 43)"
            ]
          },
          "metadata": {},
          "execution_count": 13
        }
      ]
    },
    {
      "cell_type": "markdown",
      "source": [
        "remove data with many null values\n"
      ],
      "metadata": {
        "id": "SelqcLg5fg6m"
      }
    },
    {
      "cell_type": "code",
      "source": [
        "df = df.drop(columns = df.columns[((df.isna().sum()/len(df))>0.55)])"
      ],
      "metadata": {
        "id": "pPBaYIGyNEV-"
      },
      "execution_count": 14,
      "outputs": []
    },
    {
      "cell_type": "code",
      "source": [
        "df.info()"
      ],
      "metadata": {
        "colab": {
          "base_uri": "https://localhost:8080/"
        },
        "id": "YVkrCeB7NF9m",
        "outputId": "8f46d5fb-38e7-461f-820e-10106297ee50"
      },
      "execution_count": 15,
      "outputs": [
        {
          "output_type": "stream",
          "name": "stdout",
          "text": [
            "<class 'pandas.core.frame.DataFrame'>\n",
            "RangeIndex: 268850 entries, 0 to 268849\n",
            "Data columns (total 36 columns):\n",
            " #   Column                Non-Null Count   Dtype  \n",
            "---  ------                --------------   -----  \n",
            " 0   regio1                268850 non-null  object \n",
            " 1   serviceCharge         261941 non-null  float64\n",
            " 2   heatingType           223994 non-null  object \n",
            " 3   telekomTvOffer        236231 non-null  object \n",
            " 4   newlyConst            268850 non-null  bool   \n",
            " 5   balcony               268850 non-null  bool   \n",
            " 6   picturecount          268850 non-null  int64  \n",
            " 7   pricetrend            267018 non-null  float64\n",
            " 8   telekomUploadSpeed    235492 non-null  float64\n",
            " 9   totalRent             228333 non-null  float64\n",
            " 10  yearConstructed       211805 non-null  float64\n",
            " 11  firingTypes           211886 non-null  object \n",
            " 12  hasKitchen            268850 non-null  bool   \n",
            " 13  geo_bln               268850 non-null  object \n",
            " 14  cellar                268850 non-null  bool   \n",
            " 15  yearConstructedRange  211805 non-null  float64\n",
            " 16  baseRent              268850 non-null  float64\n",
            " 17  livingSpace           268850 non-null  float64\n",
            " 18  geo_krs               268850 non-null  object \n",
            " 19  condition             200361 non-null  object \n",
            " 20  interiorQual          156185 non-null  object \n",
            " 21  petsAllowed           154277 non-null  object \n",
            " 22  lift                  268850 non-null  bool   \n",
            " 23  baseRentRange         268850 non-null  int64  \n",
            " 24  typeOfFlat            232236 non-null  object \n",
            " 25  geo_plz               268850 non-null  int64  \n",
            " 26  noRooms               268850 non-null  float64\n",
            " 27  thermalChar           162344 non-null  float64\n",
            " 28  floor                 217541 non-null  float64\n",
            " 29  numberOfFloors        171118 non-null  float64\n",
            " 30  noRoomsRange          268850 non-null  int64  \n",
            " 31  garden                268850 non-null  bool   \n",
            " 32  livingSpaceRange      268850 non-null  int64  \n",
            " 33  regio2                268850 non-null  object \n",
            " 34  regio3                268850 non-null  object \n",
            " 35  date                  268850 non-null  object \n",
            "dtypes: bool(6), float64(12), int64(5), object(13)\n",
            "memory usage: 63.1+ MB\n"
          ]
        }
      ]
    },
    {
      "cell_type": "markdown",
      "source": [
        "fill null values"
      ],
      "metadata": {
        "id": "l1YaLgClft88"
      }
    },
    {
      "cell_type": "code",
      "source": [
        "  for cols in df.columns:\n",
        "    if df[cols].dtype == 'int64' or df[cols].dtype == 'float64':\n",
        "      df[cols] = ((df[cols]-df[cols].mean()) / (df[cols].std()))"
      ],
      "metadata": {
        "id": "78u7mLkPNMFf"
      },
      "execution_count": 16,
      "outputs": []
    },
    {
      "cell_type": "code",
      "source": [
        "df.head()\n",
        "df.info()"
      ],
      "metadata": {
        "colab": {
          "base_uri": "https://localhost:8080/"
        },
        "id": "4E0e-RGSNWvu",
        "outputId": "f86eb6fb-0d42-4d0f-a9d9-b489e35506a2"
      },
      "execution_count": 17,
      "outputs": [
        {
          "output_type": "stream",
          "name": "stdout",
          "text": [
            "<class 'pandas.core.frame.DataFrame'>\n",
            "RangeIndex: 268850 entries, 0 to 268849\n",
            "Data columns (total 36 columns):\n",
            " #   Column                Non-Null Count   Dtype  \n",
            "---  ------                --------------   -----  \n",
            " 0   regio1                268850 non-null  object \n",
            " 1   serviceCharge         261941 non-null  float64\n",
            " 2   heatingType           223994 non-null  object \n",
            " 3   telekomTvOffer        236231 non-null  object \n",
            " 4   newlyConst            268850 non-null  bool   \n",
            " 5   balcony               268850 non-null  bool   \n",
            " 6   picturecount          268850 non-null  float64\n",
            " 7   pricetrend            267018 non-null  float64\n",
            " 8   telekomUploadSpeed    235492 non-null  float64\n",
            " 9   totalRent             228333 non-null  float64\n",
            " 10  yearConstructed       211805 non-null  float64\n",
            " 11  firingTypes           211886 non-null  object \n",
            " 12  hasKitchen            268850 non-null  bool   \n",
            " 13  geo_bln               268850 non-null  object \n",
            " 14  cellar                268850 non-null  bool   \n",
            " 15  yearConstructedRange  211805 non-null  float64\n",
            " 16  baseRent              268850 non-null  float64\n",
            " 17  livingSpace           268850 non-null  float64\n",
            " 18  geo_krs               268850 non-null  object \n",
            " 19  condition             200361 non-null  object \n",
            " 20  interiorQual          156185 non-null  object \n",
            " 21  petsAllowed           154277 non-null  object \n",
            " 22  lift                  268850 non-null  bool   \n",
            " 23  baseRentRange         268850 non-null  float64\n",
            " 24  typeOfFlat            232236 non-null  object \n",
            " 25  geo_plz               268850 non-null  float64\n",
            " 26  noRooms               268850 non-null  float64\n",
            " 27  thermalChar           162344 non-null  float64\n",
            " 28  floor                 217541 non-null  float64\n",
            " 29  numberOfFloors        171118 non-null  float64\n",
            " 30  noRoomsRange          268850 non-null  float64\n",
            " 31  garden                268850 non-null  bool   \n",
            " 32  livingSpaceRange      268850 non-null  float64\n",
            " 33  regio2                268850 non-null  object \n",
            " 34  regio3                268850 non-null  object \n",
            " 35  date                  268850 non-null  object \n",
            "dtypes: bool(6), float64(17), object(13)\n",
            "memory usage: 63.1+ MB\n"
          ]
        }
      ]
    },
    {
      "cell_type": "code",
      "source": [
        "\n",
        "for cols in df.columns:\n",
        "  if df[cols].dtype == 'int64' or df[cols].dtype == 'float64':\n",
        "    upperRange = df[cols].mean() + 3* df[cols].std()\n",
        "    lowerRange = df[cols].mean() - 3* df[cols].std()\n",
        "    \n",
        "    indexs = df[(df[cols]>upperRange) | (df[cols]<lowerRange)].index\n",
        "    df = df.drop(indexs)    \n"
      ],
      "metadata": {
        "id": "hQFDZ8FGNZyI"
      },
      "execution_count": 18,
      "outputs": []
    },
    {
      "cell_type": "code",
      "source": [
        "df.shape"
      ],
      "metadata": {
        "colab": {
          "base_uri": "https://localhost:8080/"
        },
        "id": "QIWZy59CYpc6",
        "outputId": "1b4cda9c-b747-45bf-b7a8-e63da545ebb5"
      },
      "execution_count": 19,
      "outputs": [
        {
          "output_type": "execute_result",
          "data": {
            "text/plain": [
              "(260474, 36)"
            ]
          },
          "metadata": {},
          "execution_count": 19
        }
      ]
    },
    {
      "cell_type": "code",
      "source": [
        "for cols in df.columns:\n",
        "  if df[cols].dtype == 'object' or df[cols].dtype == 'bool':\n",
        "    print('column :',cols)\n",
        "    print(df[cols].value_counts().head(1))"
      ],
      "metadata": {
        "colab": {
          "base_uri": "https://localhost:8080/"
        },
        "id": "7mexnxwBNfv2",
        "outputId": "01a51c46-c9f1-4060-cb0a-ed0f4dd3e485"
      },
      "execution_count": 20,
      "outputs": [
        {
          "output_type": "stream",
          "name": "stdout",
          "text": [
            "column : regio1\n",
            "Nordrhein_Westfalen    61352\n",
            "Name: regio1, dtype: int64\n",
            "column : heatingType\n",
            "central_heating    125067\n",
            "Name: heatingType, dtype: int64\n",
            "column : telekomTvOffer\n",
            "ONE_YEAR_FREE    220545\n",
            "Name: telekomTvOffer, dtype: int64\n",
            "column : newlyConst\n",
            "False    240076\n",
            "Name: newlyConst, dtype: int64\n",
            "column : balcony\n",
            "True    160388\n",
            "Name: balcony, dtype: int64\n",
            "column : firingTypes\n",
            "gas    107564\n",
            "Name: firingTypes, dtype: int64\n",
            "column : hasKitchen\n",
            "False    172551\n",
            "Name: hasKitchen, dtype: int64\n",
            "column : geo_bln\n",
            "Nordrhein_Westfalen    61352\n",
            "Name: geo_bln, dtype: int64\n",
            "column : cellar\n",
            "True    167319\n",
            "Name: cellar, dtype: int64\n",
            "column : geo_krs\n",
            "Leipzig    13439\n",
            "Name: geo_krs, dtype: int64\n",
            "column : condition\n",
            "well_kept    65017\n",
            "Name: condition, dtype: int64\n",
            "column : interiorQual\n",
            "normal    80080\n",
            "Name: interiorQual, dtype: int64\n",
            "column : petsAllowed\n",
            "negotiable    88854\n",
            "Name: petsAllowed, dtype: int64\n",
            "column : lift\n",
            "False    199883\n",
            "Name: lift, dtype: int64\n",
            "column : typeOfFlat\n",
            "apartment    127358\n",
            "Name: typeOfFlat, dtype: int64\n",
            "column : garden\n",
            "False    209651\n",
            "Name: garden, dtype: int64\n",
            "column : regio2\n",
            "Leipzig    13439\n",
            "Name: regio2, dtype: int64\n",
            "column : regio3\n",
            "Innenstadt    4605\n",
            "Name: regio3, dtype: int64\n",
            "column : date\n",
            "Feb20    77242\n",
            "Name: date, dtype: int64\n"
          ]
        }
      ]
    },
    {
      "cell_type": "code",
      "source": [
        "for cols in df.columns:\n",
        "  if df[cols].dtype == 'object' or df[cols].dtype == 'bool':\n",
        "    print('col : {} , value : {}'.format(cols,df[cols].value_counts().head(1).index[0]))\n",
        "    df[cols].fillna(df[cols].value_counts().head(1).index[0],inplace = True)"
      ],
      "metadata": {
        "colab": {
          "base_uri": "https://localhost:8080/"
        },
        "id": "0ZjlC_6QNmHN",
        "outputId": "d3ee7b91-633a-4154-d02d-29a354011455"
      },
      "execution_count": 21,
      "outputs": [
        {
          "output_type": "stream",
          "name": "stdout",
          "text": [
            "col : regio1 , value : Nordrhein_Westfalen\n",
            "col : heatingType , value : central_heating\n",
            "col : telekomTvOffer , value : ONE_YEAR_FREE\n",
            "col : newlyConst , value : False\n",
            "col : balcony , value : True\n",
            "col : firingTypes , value : gas\n",
            "col : hasKitchen , value : False\n",
            "col : geo_bln , value : Nordrhein_Westfalen\n",
            "col : cellar , value : True\n",
            "col : geo_krs , value : Leipzig\n",
            "col : condition , value : well_kept\n",
            "col : interiorQual , value : normal\n",
            "col : petsAllowed , value : negotiable\n",
            "col : lift , value : False\n",
            "col : typeOfFlat , value : apartment\n",
            "col : garden , value : False\n",
            "col : regio2 , value : Leipzig\n",
            "col : regio3 , value : Innenstadt\n",
            "col : date , value : Feb20\n"
          ]
        }
      ]
    },
    {
      "cell_type": "code",
      "source": [
        "df.info()"
      ],
      "metadata": {
        "colab": {
          "base_uri": "https://localhost:8080/"
        },
        "id": "5K2iO13DNnUd",
        "outputId": "5deec7f1-40a2-44a3-8d0f-c392dc4cf26a"
      },
      "execution_count": null,
      "outputs": [
        {
          "output_type": "stream",
          "name": "stdout",
          "text": [
            "<class 'pandas.core.frame.DataFrame'>\n",
            "Int64Index: 260474 entries, 0 to 268849\n",
            "Data columns (total 36 columns):\n",
            " #   Column                Non-Null Count   Dtype  \n",
            "---  ------                --------------   -----  \n",
            " 0   regio1                260474 non-null  object \n",
            " 1   serviceCharge         253774 non-null  float64\n",
            " 2   heatingType           260474 non-null  object \n",
            " 3   telekomTvOffer        260474 non-null  object \n",
            " 4   newlyConst            260474 non-null  bool   \n",
            " 5   balcony               260474 non-null  bool   \n",
            " 6   picturecount          260474 non-null  float64\n",
            " 7   pricetrend            258685 non-null  float64\n",
            " 8   telekomUploadSpeed    228216 non-null  float64\n",
            " 9   totalRent             221016 non-null  float64\n",
            " 10  yearConstructed       204597 non-null  float64\n",
            " 11  firingTypes           260474 non-null  object \n",
            " 12  hasKitchen            260474 non-null  bool   \n",
            " 13  geo_bln               260474 non-null  object \n",
            " 14  cellar                260474 non-null  bool   \n",
            " 15  yearConstructedRange  204597 non-null  float64\n",
            " 16  baseRent              260474 non-null  float64\n",
            " 17  livingSpace           260474 non-null  float64\n",
            " 18  geo_krs               260474 non-null  object \n",
            " 19  condition             260474 non-null  object \n",
            " 20  interiorQual          260474 non-null  object \n",
            " 21  petsAllowed           260474 non-null  object \n",
            " 22  lift                  260474 non-null  bool   \n",
            " 23  baseRentRange         260474 non-null  float64\n",
            " 24  typeOfFlat            260474 non-null  object \n",
            " 25  geo_plz               260474 non-null  float64\n",
            " 26  noRooms               260474 non-null  float64\n",
            " 27  thermalChar           157172 non-null  float64\n",
            " 28  floor                 210443 non-null  float64\n",
            " 29  numberOfFloors        165036 non-null  float64\n",
            " 30  noRoomsRange          260474 non-null  float64\n",
            " 31  garden                260474 non-null  bool   \n",
            " 32  livingSpaceRange      260474 non-null  float64\n",
            " 33  regio2                260474 non-null  object \n",
            " 34  regio3                260474 non-null  object \n",
            " 35  date                  260474 non-null  object \n",
            "dtypes: bool(6), float64(17), object(13)\n",
            "memory usage: 71.2+ MB\n"
          ]
        }
      ]
    },
    {
      "cell_type": "code",
      "source": [
        "for cols in df.columns:\n",
        "  if df[cols].dtype == 'object' or df[cols].dtype == 'bool':\n",
        "    print('cols: {} , \\n {}'.format(cols,df[cols].value_counts()))"
      ],
      "metadata": {
        "colab": {
          "base_uri": "https://localhost:8080/"
        },
        "id": "vD4hOglsNuxO",
        "outputId": "8c5ab383-bdf1-43b8-abb9-87b22205d2d5"
      },
      "execution_count": 22,
      "outputs": [
        {
          "output_type": "stream",
          "name": "stdout",
          "text": [
            "cols: regio1 , \n",
            " Nordrhein_Westfalen       61352\n",
            "Sachsen                   57095\n",
            "Bayern                    20881\n",
            "Sachsen_Anhalt            19812\n",
            "Hessen                    17272\n",
            "Niedersachsen             16204\n",
            "Baden_Württemberg         15586\n",
            "Thüringen                  8260\n",
            "Rheinland_Pfalz            8169\n",
            "Berlin                     8050\n",
            "Brandenburg                6798\n",
            "Mecklenburg_Vorpommern     6521\n",
            "Schleswig_Holstein         6505\n",
            "Hamburg                    3659\n",
            "Bremen                     2922\n",
            "Saarland                   1388\n",
            "Name: regio1, dtype: int64\n",
            "cols: heatingType , \n",
            " central_heating                   168877\n",
            "district_heating                   24022\n",
            "gas_heating                        19371\n",
            "self_contained_central_heating     18235\n",
            "floor_heating                      16928\n",
            "oil_heating                         4871\n",
            "heat_pump                           2670\n",
            "combined_heat_and_power_plant       1917\n",
            "night_storage_heater                1307\n",
            "wood_pellet_heating                  926\n",
            "electric_heating                     874\n",
            "stove_heating                        317\n",
            "solar_heating                        159\n",
            "Name: heatingType, dtype: int64\n",
            "cols: telekomTvOffer , \n",
            " ONE_YEAR_FREE    252093\n",
            "NONE               4823\n",
            "ON_DEMAND          3558\n",
            "Name: telekomTvOffer, dtype: int64\n",
            "cols: newlyConst , \n",
            " False    240076\n",
            "True      20398\n",
            "Name: newlyConst, dtype: int64\n",
            "cols: balcony , \n",
            " True     160388\n",
            "False    100086\n",
            "Name: balcony, dtype: int64\n",
            "cols: firingTypes , \n",
            " gas                                                                                                  162893\n",
            "district_heating                                                                                      47775\n",
            "oil                                                                                                   17516\n",
            "natural_gas_light                                                                                      9736\n",
            "electricity                                                                                            4693\n",
            "                                                                                                      ...  \n",
            "geothermal:solar_heating:pellet_heating:gas                                                               1\n",
            "gas:oil:electricity                                                                                       1\n",
            "district_heating:combined_heat_and_power_fossil_fuels:combined_heat_and_power_regenerative_energy         1\n",
            "pellet_heating:wood:wood_chips                                                                            1\n",
            "district_heating:hydro_energy                                                                             1\n",
            "Name: firingTypes, Length: 130, dtype: int64\n",
            "cols: hasKitchen , \n",
            " False    172551\n",
            "True      87923\n",
            "Name: hasKitchen, dtype: int64\n",
            "cols: geo_bln , \n",
            " Nordrhein_Westfalen       61352\n",
            "Sachsen                   57095\n",
            "Bayern                    20881\n",
            "Sachsen_Anhalt            19812\n",
            "Hessen                    17272\n",
            "Niedersachsen             16204\n",
            "Baden_Württemberg         15586\n",
            "Thüringen                  8260\n",
            "Rheinland_Pfalz            8169\n",
            "Berlin                     8050\n",
            "Brandenburg                6798\n",
            "Mecklenburg_Vorpommern     6521\n",
            "Schleswig_Holstein         6505\n",
            "Hamburg                    3659\n",
            "Bremen                     2922\n",
            "Saarland                   1388\n",
            "Name: geo_bln, dtype: int64\n",
            "cols: cellar , \n",
            " True     167319\n",
            "False     93155\n",
            "Name: cellar, dtype: int64\n",
            "cols: geo_krs , \n",
            " Leipzig                         13439\n",
            "Chemnitz                        12424\n",
            "Berlin                           8050\n",
            "Dresden                          7370\n",
            "Magdeburg                        4759\n",
            "                                ...  \n",
            "Schweinfurt_Kreis                  27\n",
            "Haßberge_Kreis                     22\n",
            "Freyung_Grafenau_Kreis             22\n",
            "Neustadt_a.d._Waldnaab_Kreis       16\n",
            "Kronach_Kreis                      12\n",
            "Name: geo_krs, Length: 419, dtype: int64\n",
            "cols: condition , \n",
            " well_kept                             131709\n",
            "refurbished                            26176\n",
            "fully_renovated                        25565\n",
            "first_time_use                         21070\n",
            "mint_condition                         20914\n",
            "modernized                             16626\n",
            "first_time_use_after_refurbishment     14896\n",
            "negotiable                              2187\n",
            "need_of_renovation                      1327\n",
            "ripe_for_demolition                        4\n",
            "Name: condition, dtype: int64\n",
            "cols: interiorQual , \n",
            " normal           189816\n",
            "sophisticated     61870\n",
            "luxury             6906\n",
            "simple             1882\n",
            "Name: interiorQual, dtype: int64\n",
            "cols: petsAllowed , \n",
            " negotiable    200179\n",
            "no             50291\n",
            "yes            10004\n",
            "Name: petsAllowed, dtype: int64\n",
            "cols: lift , \n",
            " False    199883\n",
            "True      60591\n",
            "Name: lift, dtype: int64\n",
            "cols: typeOfFlat , \n",
            " apartment              163042\n",
            "roof_storey             33822\n",
            "ground_floor            30725\n",
            "other                    9216\n",
            "maisonette               8750\n",
            "raised_ground_floor      5482\n",
            "penthouse                3340\n",
            "terraced_flat            3224\n",
            "half_basement            1982\n",
            "loft                      891\n",
            "Name: typeOfFlat, dtype: int64\n",
            "cols: garden , \n",
            " False    209651\n",
            "True      50823\n",
            "Name: garden, dtype: int64\n",
            "cols: regio2 , \n",
            " Leipzig                         13439\n",
            "Chemnitz                        12424\n",
            "Berlin                           8050\n",
            "Dresden                          7370\n",
            "Magdeburg                        4759\n",
            "                                ...  \n",
            "Schweinfurt_Kreis                  27\n",
            "Haßberge_Kreis                     22\n",
            "Freyung_Grafenau_Kreis             22\n",
            "Neustadt_a.d._Waldnaab_Kreis       16\n",
            "Kronach_Kreis                      12\n",
            "Name: regio2, Length: 419, dtype: int64\n",
            "cols: regio3 , \n",
            " Innenstadt        4605\n",
            "Stadtmitte        2643\n",
            "Altstadt          2245\n",
            "Sonnenberg        1897\n",
            "Kaßberg           1697\n",
            "                  ... \n",
            "Renchen              1\n",
            "Brunsbek             1\n",
            "Wendisch_Waren       1\n",
            "Wißmannsdorf         1\n",
            "Eberfing             1\n",
            "Name: regio3, Length: 8606, dtype: int64\n",
            "cols: date , \n",
            " Feb20    77242\n",
            "May19    73340\n",
            "Oct19    64966\n",
            "Sep18    44926\n",
            "Name: date, dtype: int64\n"
          ]
        }
      ]
    },
    {
      "cell_type": "code",
      "source": [
        "\n",
        "others = list(df['heatingType'].value_counts().tail(6).index)\n",
        "def edit_heating(x):\n",
        "    if x in others:\n",
        "        return 'other'\n",
        "    else:\n",
        "        return x\n",
        "\n",
        "df['heatingType_edit'] = df['heatingType'].apply(edit_heating)\n",
        "df = df.drop(columns = ['heatingType'])\n",
        "df['heatingType_edit'].value_counts()*100 / len(df)"
      ],
      "metadata": {
        "colab": {
          "base_uri": "https://localhost:8080/"
        },
        "id": "rNbwl9HXN_Ql",
        "outputId": "1b8e68ca-7a1e-4d46-be75-e6e671395566"
      },
      "execution_count": 23,
      "outputs": [
        {
          "output_type": "execute_result",
          "data": {
            "text/plain": [
              "central_heating                   64.834494\n",
              "district_heating                   9.222418\n",
              "gas_heating                        7.436827\n",
              "self_contained_central_heating     7.000699\n",
              "floor_heating                      6.498921\n",
              "other                              2.111535\n",
              "oil_heating                        1.870052\n",
              "heat_pump                          1.025054\n",
              "Name: heatingType_edit, dtype: float64"
            ]
          },
          "metadata": {},
          "execution_count": 23
        }
      ]
    },
    {
      "cell_type": "code",
      "source": [
        " \n",
        "others = list(df['condition'].value_counts().tail(6).index)\n",
        "def edit_condition(x):\n",
        "    if x in others:\n",
        "        return 'otherCon'\n",
        "    else:\n",
        "        return x\n",
        "\n",
        "df['condition_edit'] = df['condition'].apply(edit_condition)\n",
        "df = df.drop(columns = ['condition'])\n",
        "df['condition_edit'].value_counts()*100 / len(df)"
      ],
      "metadata": {
        "colab": {
          "base_uri": "https://localhost:8080/"
        },
        "id": "rCSNWRTGOTkF",
        "outputId": "a8559395-4828-49e3-82cb-0014a55641dd"
      },
      "execution_count": 24,
      "outputs": [
        {
          "output_type": "execute_result",
          "data": {
            "text/plain": [
              "well_kept          50.565124\n",
              "otherCon           21.481607\n",
              "refurbished        10.049372\n",
              "fully_renovated     9.814799\n",
              "first_time_use      8.089099\n",
              "Name: condition_edit, dtype: float64"
            ]
          },
          "metadata": {},
          "execution_count": 24
        }
      ]
    },
    {
      "cell_type": "code",
      "source": [
        " \n",
        " \n",
        "\n",
        "others = list(df['interiorQual'].value_counts().tail(2).index)\n",
        "def edit_interiorQual(x):\n",
        "    if x in others:\n",
        "        return 'otherCon'\n",
        "    else:\n",
        "        return x\n",
        "\n",
        "df['interiorQual_edit'] = df['interiorQual'].apply(edit_interiorQual)\n",
        "df = df.drop(columns = ['interiorQual'])\n",
        "df['interiorQual_edit'].value_counts()*100 / len(df)"
      ],
      "metadata": {
        "colab": {
          "base_uri": "https://localhost:8080/"
        },
        "id": "kU2qecPeOh1l",
        "outputId": "4a84a624-b3d2-4ce9-9b43-7f6c6b3cf98a"
      },
      "execution_count": 25,
      "outputs": [
        {
          "output_type": "execute_result",
          "data": {
            "text/plain": [
              "normal           72.873300\n",
              "sophisticated    23.752851\n",
              "otherCon          3.373849\n",
              "Name: interiorQual_edit, dtype: float64"
            ]
          },
          "metadata": {},
          "execution_count": 25
        }
      ]
    },
    {
      "cell_type": "code",
      "source": [
        "df.shape"
      ],
      "metadata": {
        "colab": {
          "base_uri": "https://localhost:8080/"
        },
        "id": "6MxMIiUYOkFO",
        "outputId": "2101e562-2707-48d8-a353-406fe5a0de96"
      },
      "execution_count": 26,
      "outputs": [
        {
          "output_type": "execute_result",
          "data": {
            "text/plain": [
              "(260474, 36)"
            ]
          },
          "metadata": {},
          "execution_count": 26
        }
      ]
    },
    {
      "cell_type": "code",
      "source": [
        "df = df.drop(columns=['geo_krs','firingTypes','regio2','regio3','geo_bln'])\n",
        "df.shape"
      ],
      "metadata": {
        "colab": {
          "base_uri": "https://localhost:8080/"
        },
        "id": "JcqpkosDah-w",
        "outputId": "44b58a88-02b9-43dd-b5a1-63b445883b66"
      },
      "execution_count": 27,
      "outputs": [
        {
          "output_type": "execute_result",
          "data": {
            "text/plain": [
              "(260474, 31)"
            ]
          },
          "metadata": {},
          "execution_count": 27
        }
      ]
    },
    {
      "cell_type": "code",
      "source": [
        "df.info()"
      ],
      "metadata": {
        "colab": {
          "base_uri": "https://localhost:8080/"
        },
        "id": "Jv5WPIgXatjH",
        "outputId": "8784a8ba-0628-43e4-fc2c-92ddef6e614b"
      },
      "execution_count": 28,
      "outputs": [
        {
          "output_type": "stream",
          "name": "stdout",
          "text": [
            "<class 'pandas.core.frame.DataFrame'>\n",
            "Int64Index: 260474 entries, 0 to 268849\n",
            "Data columns (total 31 columns):\n",
            " #   Column                Non-Null Count   Dtype  \n",
            "---  ------                --------------   -----  \n",
            " 0   regio1                260474 non-null  object \n",
            " 1   serviceCharge         253774 non-null  float64\n",
            " 2   telekomTvOffer        260474 non-null  object \n",
            " 3   newlyConst            260474 non-null  bool   \n",
            " 4   balcony               260474 non-null  bool   \n",
            " 5   picturecount          260474 non-null  float64\n",
            " 6   pricetrend            258685 non-null  float64\n",
            " 7   telekomUploadSpeed    228216 non-null  float64\n",
            " 8   totalRent             221016 non-null  float64\n",
            " 9   yearConstructed       204597 non-null  float64\n",
            " 10  hasKitchen            260474 non-null  bool   \n",
            " 11  cellar                260474 non-null  bool   \n",
            " 12  yearConstructedRange  204597 non-null  float64\n",
            " 13  baseRent              260474 non-null  float64\n",
            " 14  livingSpace           260474 non-null  float64\n",
            " 15  petsAllowed           260474 non-null  object \n",
            " 16  lift                  260474 non-null  bool   \n",
            " 17  baseRentRange         260474 non-null  float64\n",
            " 18  typeOfFlat            260474 non-null  object \n",
            " 19  geo_plz               260474 non-null  float64\n",
            " 20  noRooms               260474 non-null  float64\n",
            " 21  thermalChar           157172 non-null  float64\n",
            " 22  floor                 210443 non-null  float64\n",
            " 23  numberOfFloors        165036 non-null  float64\n",
            " 24  noRoomsRange          260474 non-null  float64\n",
            " 25  garden                260474 non-null  bool   \n",
            " 26  livingSpaceRange      260474 non-null  float64\n",
            " 27  date                  260474 non-null  object \n",
            " 28  heatingType_edit      260474 non-null  object \n",
            " 29  condition_edit        260474 non-null  object \n",
            " 30  interiorQual_edit     260474 non-null  object \n",
            "dtypes: bool(6), float64(17), object(8)\n",
            "memory usage: 61.2+ MB\n"
          ]
        }
      ]
    },
    {
      "cell_type": "code",
      "source": [
        "df.fillna(df._get_numeric_data().mean(),inplace = True)"
      ],
      "metadata": {
        "id": "tEs2jDAbjKNg"
      },
      "execution_count": 29,
      "outputs": []
    },
    {
      "cell_type": "markdown",
      "source": [
        "# impliment linear regression from scratch"
      ],
      "metadata": {
        "id": "S6Ch0Z_AOt2d"
      }
    },
    {
      "cell_type": "code",
      "source": [
        "import numpy as np\n",
        "import pandas as pd\n",
        "import matplotlib.pyplot as plt\n",
        "from sklearn.model_selection import train_test_split"
      ],
      "metadata": {
        "id": "wE8GFjK5jufQ"
      },
      "execution_count": 31,
      "outputs": []
    },
    {
      "cell_type": "code",
      "source": [
        "\n",
        "y = df['livingSpace'].values\n",
        "x = df[['serviceCharge','telekomUploadSpeed', 'heatingType_edit']].values"
      ],
      "metadata": {
        "id": "ApeTTECHO4kE"
      },
      "execution_count": 32,
      "outputs": []
    },
    {
      "cell_type": "code",
      "source": [
        "from sklearn.compose import ColumnTransformer\n",
        "from sklearn.preprocessing import OneHotEncoder\n",
        "ct = ColumnTransformer(transformers=[('encoder', OneHotEncoder(), [2])], remainder='passthrough')\n",
        "x = np.array(ct.fit_transform(x))"
      ],
      "metadata": {
        "id": "VW_KWXiujrw3"
      },
      "execution_count": 33,
      "outputs": []
    },
    {
      "cell_type": "code",
      "source": [
        "x"
      ],
      "metadata": {
        "colab": {
          "base_uri": "https://localhost:8080/"
        },
        "id": "teLA9GIokDJS",
        "outputId": "5d7057f2-5ca3-460b-86eb-e60746caacea"
      },
      "execution_count": null,
      "outputs": [
        {
          "output_type": "execute_result",
          "data": {
            "text/plain": [
              "array([[1.0, 0.0, 0.0, ..., 0.0, 0.3042334345139531, -1.1510530967445929],\n",
              "       [0.0, 0.0, 0.0, ..., 1.0, -0.0558104054162907,\n",
              "        -1.1510530967445929],\n",
              "       [0.0, 0.0, 1.0, ..., 0.0, 0.3366698164896508, -1.6162504825972575],\n",
              "       ...,\n",
              "       [1.0, 0.0, 0.0, ..., 0.0, 0.22314247957470904, 0.6852523737264511],\n",
              "       [0.0, 0.0, 0.0, ..., 0.0, 0.07717876068406963,\n",
              "        -0.0020226216010480616],\n",
              "       [1.0, 0.0, 0.0, ..., 0.0, 0.5312881083438367,\n",
              "        -0.0020226216010480616]], dtype=object)"
            ]
          },
          "metadata": {},
          "execution_count": 94
        }
      ]
    },
    {
      "cell_type": "code",
      "source": [
        "Xtrain, Xtest, Ytrain, Ytest = train_test_split( x, y, test_size = 0.2,random_state=42)"
      ],
      "metadata": {
        "id": "DSLi2Be1kgLf"
      },
      "execution_count": 34,
      "outputs": []
    },
    {
      "cell_type": "markdown",
      "source": [
        "**cost(MSE) and gradient function**"
      ],
      "metadata": {
        "id": "bkTLpV5akuXu"
      }
    },
    {
      "cell_type": "code",
      "source": [
        "def CostFunction(x,y,w,b):\n",
        "    cost = np.sum((((x.dot(w) + b) - y) ** 2) / (2*len(y)))\n",
        "    return cost\n",
        "\n",
        "def GradientDescent(x, y, w, b, learning_rate, epochs):\n",
        "    cost_list = [0] * epochs\n",
        "   \n",
        "    for epoch in range(epochs):\n",
        "        z = x.dot(w) + b\n",
        "        loss = z - y\n",
        "        \n",
        "        weight_gradient = x.T.dot(loss) / len(y)\n",
        "        bias_gradient = np.sum(loss) / len(y)\n",
        "        \n",
        "        w = w - learning_rate*weight_gradient\n",
        "        b = b - learning_rate*bias_gradient\n",
        "  \n",
        "        cost = CostFunction(x, y, w, b)\n",
        "        cost_list[epoch] = cost\n",
        "        \n",
        "        if (epoch%(epochs/10)==0):\n",
        "            print(\"Cost is:\",cost)\n",
        "        \n",
        "    return w, b, cost_list"
      ],
      "metadata": {
        "id": "oYuB0L94kra3"
      },
      "execution_count": null,
      "outputs": []
    },
    {
      "cell_type": "markdown",
      "source": [
        "calculating weights and biases"
      ],
      "metadata": {
        "id": "P7QA4fV-mF12"
      }
    },
    {
      "cell_type": "code",
      "source": [
        "w, b, c= GradientDescent(Xtrain, Ytrain, np.zeros(Xtrain.shape[1]), 0, 0.002,epochs=15000)"
      ],
      "metadata": {
        "colab": {
          "base_uri": "https://localhost:8080/"
        },
        "id": "kwJKANbxk0iG",
        "outputId": "a4eb8377-4284-46e8-9ce9-81169eff64dc"
      },
      "execution_count": null,
      "outputs": [
        {
          "output_type": "stream",
          "name": "stdout",
          "text": [
            "Cost is: 0.007492434892003986\n",
            "Cost is: 0.006193862518875356\n",
            "Cost is: 0.00540103789695031\n",
            "Cost is: 0.004893428307032534\n",
            "Cost is: 0.004564159702751817\n",
            "Cost is: 0.004348398772361988\n",
            "Cost is: 0.0042057540187628775\n",
            "Cost is: 0.0041106596095858835\n",
            "Cost is: 0.004046755148355248\n",
            "Cost is: 0.00400347706099062\n"
          ]
        }
      ]
    },
    {
      "cell_type": "code",
      "source": [
        "plt.plot(c)"
      ],
      "metadata": {
        "colab": {
          "base_uri": "https://localhost:8080/",
          "height": 282
        },
        "id": "Dg8nmLiVlRrO",
        "outputId": "71197782-31f9-42f4-859a-458ada75eb3a"
      },
      "execution_count": null,
      "outputs": [
        {
          "output_type": "execute_result",
          "data": {
            "text/plain": [
              "[<matplotlib.lines.Line2D at 0x7fd10a43fd90>]"
            ]
          },
          "metadata": {},
          "execution_count": 113
        },
        {
          "output_type": "display_data",
          "data": {
            "text/plain": [
              "<Figure size 432x288 with 1 Axes>"
            ],
            "image/png": "[encoded data removed]"
          },
          "metadata": {
            "needs_background": "light"
          }
        }
      ]
    },
    {
      "cell_type": "code",
      "source": [
        "def predict(X, w, b):\n",
        "    return X.dot(w) + b\n",
        "y_pred = predict(Xtest, w, b)"
      ],
      "metadata": {
        "id": "Rp6hEKdImVJW"
      },
      "execution_count": null,
      "outputs": []
    },
    {
      "cell_type": "markdown",
      "source": [
        "Calculating the r² accuracy of our model"
      ],
      "metadata": {
        "id": "I1GOhet_mZ-l"
      }
    },
    {
      "cell_type": "code",
      "source": [
        "def r2score(y_pred, y):\n",
        "    rss = np.sum((y_pred - y) ** 2)\n",
        "    tss = np.sum((y-y.mean()) ** 2)\n",
        "    \n",
        "    r2 = 1 - (rss / tss)\n",
        "    return r2\n",
        "r2score(y_pred, Ytest)"
      ],
      "metadata": {
        "colab": {
          "base_uri": "https://localhost:8080/"
        },
        "id": "GcZxIT2Pmaod",
        "outputId": "ec8fad0f-be77-4066-c8ce-d7b46412559d"
      },
      "execution_count": null,
      "outputs": [
        {
          "output_type": "execute_result",
          "data": {
            "text/plain": [
              "0.47018353181017936"
            ]
          },
          "metadata": {},
          "execution_count": 115
        }
      ]
    },
    {
      "cell_type": "markdown",
      "source": [
        "# with packages"
      ],
      "metadata": {
        "id": "qZCZsBeGYR90"
      }
    },
    {
      "cell_type": "code",
      "source": [
        "from sklearn.compose import ColumnTransformer\n",
        "from sklearn.preprocessing import OneHotEncoder\n",
        "from sklearn.linear_model import LinearRegression\n",
        "from sklearn.model_selection import train_test_split"
      ],
      "metadata": {
        "id": "T845tP8BZc3h"
      },
      "execution_count": null,
      "outputs": []
    },
    {
      "cell_type": "code",
      "source": [
        "dfPack = df\n",
        "yPack = dfPack['livingSpace'].values\n",
        "xPack = dfPack[['serviceCharge','telekomUploadSpeed', 'heatingType_edit']].values\n",
        "ct1 = ColumnTransformer(transformers=[('encoder', OneHotEncoder(), [2])], remainder='passthrough')\n",
        "xPack = np.array(ct1.fit_transform(xPack))\n",
        "xPack"
      ],
      "metadata": {
        "colab": {
          "base_uri": "https://localhost:8080/"
        },
        "id": "v_x_XMgvZHhr",
        "outputId": "12b2b17a-d9d8-4088-a32d-ea5e67560838"
      },
      "execution_count": null,
      "outputs": [
        {
          "output_type": "execute_result",
          "data": {
            "text/plain": [
              "array([[1.0, 0.0, 0.0, ..., 0.0, 0.3042334345139531, -1.1510530967445929],\n",
              "       [0.0, 0.0, 0.0, ..., 1.0, -0.0558104054162907,\n",
              "        -1.1510530967445929],\n",
              "       [0.0, 0.0, 1.0, ..., 0.0, 0.3366698164896508, -1.6162504825972575],\n",
              "       ...,\n",
              "       [1.0, 0.0, 0.0, ..., 0.0, 0.22314247957470904, 0.6852523737264511],\n",
              "       [0.0, 0.0, 0.0, ..., 0.0, 0.07717876068406963,\n",
              "        -0.0020226216010480616],\n",
              "       [1.0, 0.0, 0.0, ..., 0.0, 0.5312881083438367,\n",
              "        -0.0020226216010480616]], dtype=object)"
            ]
          },
          "metadata": {},
          "execution_count": 119
        }
      ]
    },
    {
      "cell_type": "code",
      "source": [
        "XtrainP, XtestP, YtrainP , YtestP = train_test_split( xPack, yPack, test_size = 0.2,random_state=42)\n",
        "lr=LinearRegression()\n",
        "lr.fit(XtrainP,YtrainP)\n",
        "lr.score(XtestP,YtestP)"
      ],
      "metadata": {
        "colab": {
          "base_uri": "https://localhost:8080/"
        },
        "id": "Humq2zEqZ3-q",
        "outputId": "ab664d2c-3f75-4935-93d9-1d51a9c0da61"
      },
      "execution_count": null,
      "outputs": [
        {
          "output_type": "execute_result",
          "data": {
            "text/plain": [
              "0.47907796437125305"
            ]
          },
          "metadata": {},
          "execution_count": 120
        }
      ]
    },
    {
      "cell_type": "markdown",
      "source": [
        "# use lasso and ridge"
      ],
      "metadata": {
        "id": "Wzh7Nv0-aMkI"
      }
    },
    {
      "cell_type": "code",
      "source": [
        "from sklearn.linear_model import Lasso\n",
        "from sklearn.linear_model import Ridge\n",
        "from sklearn import metrics\n"
      ],
      "metadata": {
        "id": "7TTUG2JLaFSp"
      },
      "execution_count": 41,
      "outputs": []
    },
    {
      "cell_type": "markdown",
      "source": [
        "**with same features**"
      ],
      "metadata": {
        "id": "-N8nSy00cA4g"
      }
    },
    {
      "cell_type": "code",
      "source": [
        "dfPack = df\n",
        "yPack = dfPack['livingSpace'].values\n",
        "xPack = dfPack[['serviceCharge','telekomUploadSpeed', 'heatingType_edit']].values\n",
        "ct1 = ColumnTransformer(transformers=[('encoder', OneHotEncoder(), [2])], remainder='passthrough')\n",
        "xPack = np.array(ct1.fit_transform(xPack))\n",
        "print(XtrainP.shape)\n",
        "print(YtrainP.shape)\n",
        "print(XtestP.shape)\n",
        "print(YtestP.shape)\n"
      ],
      "metadata": {
        "id": "cxKVd_Wbc4QX",
        "colab": {
          "base_uri": "https://localhost:8080/"
        },
        "outputId": "0009a4a0-cd06-49ad-8e49-3d81cf53a70c"
      },
      "execution_count": 97,
      "outputs": [
        {
          "output_type": "stream",
          "name": "stdout",
          "text": [
            "(208379, 2)\n",
            "(208379,)\n",
            "(52095, 2)\n",
            "(52095,)\n"
          ]
        }
      ]
    },
    {
      "cell_type": "code",
      "source": [
        "model_lasso = Lasso(alpha=0.1)\n",
        "\n",
        "\n",
        "model_lasso.fit(XtrainP, YtrainP)\n",
        "y_predL = model_lasso.predict(XtestP)\n",
        "print(model_lasso.coef_)\n",
        "print('lasso reggression score train:', model_lasso.score(XtrainP, YtrainP))\n",
        "print('lasso reggression R^2: test', metrics.r2_score(YtestP, y_predL))\n"
      ],
      "metadata": {
        "colab": {
          "base_uri": "https://localhost:8080/"
        },
        "id": "7qCIGsrCaFTp",
        "outputId": "1cd060f7-e67d-4737-8b3c-4d9db7ebc4af"
      },
      "execution_count": 98,
      "outputs": [
        {
          "output_type": "stream",
          "name": "stdout",
          "text": [
            "[ 0. -0.]\n",
            "lasso reggression score train: 0.0\n",
            "lasso reggression R^2: test -1.5827197756612676e-05\n"
          ]
        }
      ]
    },
    {
      "cell_type": "markdown",
      "source": [
        "# Ridge"
      ],
      "metadata": {
        "id": "kD43LT6pdBfW"
      }
    },
    {
      "cell_type": "code",
      "source": [
        "dfPack = df\n",
        "yPack = dfPack['livingSpace'].values\n",
        "xPack = dfPack[['serviceCharge','telekomUploadSpeed', 'heatingType_edit']].values\n",
        "ct1 = ColumnTransformer(transformers=[('encoder', OneHotEncoder(), [2])], remainder='passthrough')\n",
        "xPack = np.array(ct1.fit_transform(xPack))\n",
        "XtrainP, XtestP, YtrainP , YtestP = train_test_split( xPack, yPack, test_size = 0.2,random_state=42)\n",
        "print(XtrainP.shape)\n",
        "print(YtrainP.shape)\n",
        "print(XtestP.shape)\n",
        "print(YtestP.shape)"
      ],
      "metadata": {
        "colab": {
          "base_uri": "https://localhost:8080/"
        },
        "id": "li4SyuqTdYEH",
        "outputId": "8943fb4b-e81b-4ab4-d871-4540f2c44c19"
      },
      "execution_count": 78,
      "outputs": [
        {
          "output_type": "stream",
          "name": "stdout",
          "text": [
            "(208379, 10)\n",
            "(208379,)\n",
            "(52095, 10)\n",
            "(52095,)\n"
          ]
        }
      ]
    },
    {
      "cell_type": "code",
      "source": [
        "model_ridge = Ridge(alpha=1)\n",
        "model_ridge.fit(XtrainP, YtrainP)\n",
        "y_predR = model_ridge.predict(XtestP)\n",
        "print('ridge reggression score train:', model_ridge.score(XtrainP, YtrainP))\n",
        "print('ridge reggression R^2: test', metrics.r2_score(YtestP, y_predR))"
      ],
      "metadata": {
        "colab": {
          "base_uri": "https://localhost:8080/"
        },
        "id": "rhBN8ElEdCTo",
        "outputId": "daa93b9c-d72c-423f-f867-48a0d4d98b16"
      },
      "execution_count": 79,
      "outputs": [
        {
          "output_type": "stream",
          "name": "stdout",
          "text": [
            "ridge reggression score train: 0.4777821606487328\n",
            "ridge reggression R^2: test 0.47907799264585327\n"
          ]
        }
      ]
    },
    {
      "cell_type": "markdown",
      "source": [
        "# regression with Absolute Error"
      ],
      "metadata": {
        "id": "sEDA9a4abi54"
      }
    },
    {
      "cell_type": "code",
      "source": [
        "def CostFunctionAbsolute(x,y,w,b):\n",
        "    cost = (np.sum(abs(((x.dot(w) + b) - y))) / 2)\n",
        "    return cost\n",
        "\n",
        "def GradientDescentAbsolute(x, y, w, b, learning_rate, epochs):\n",
        "    cost_list = [0] * epochs\n",
        "   \n",
        "    for epoch in range(epochs):\n",
        "        z = x.dot(w) + b\n",
        "        loss = z - y\n",
        "        \n",
        "        weight_gradient = x.T.dot(loss) / len(y)\n",
        "        bias_gradient = np.sum(loss) / len(y)\n",
        "        \n",
        "        w = w - learning_rate*weight_gradient\n",
        "        b = b - learning_rate*bias_gradient\n",
        "  \n",
        "        cost = CostFunctionAbsolute(x, y, w, b)\n",
        "        cost_list[epoch] = cost\n",
        "        \n",
        "        if (epoch%(epochs/10)==0):\n",
        "            print(\"Cost is:\",cost)\n",
        "        \n",
        "    return w, b, cost_list"
      ],
      "metadata": {
        "id": "5ynAsLE5bjN-"
      },
      "execution_count": 35,
      "outputs": []
    },
    {
      "cell_type": "code",
      "source": [
        "w, b, c= GradientDescentAbsolute(Xtrain, Ytrain, np.zeros(Xtrain.shape[1]), 0, 0.005,epochs=5000)"
      ],
      "metadata": {
        "colab": {
          "base_uri": "https://localhost:8080/"
        },
        "id": "ML4ZaBt-giZu",
        "outputId": "79d18f41-eaa4-4ecf-fa5c-53dabc4eb1e4"
      },
      "execution_count": 36,
      "outputs": [
        {
          "output_type": "stream",
          "name": "stdout",
          "text": [
            "Cost is: 9338.40706595592\n",
            "Cost is: 8426.864014684174\n",
            "Cost is: 7890.748816498175\n",
            "Cost is: 7503.62815171316\n",
            "Cost is: 7224.801152980423\n",
            "Cost is: 7027.089647785274\n",
            "Cost is: 6888.216682672915\n",
            "Cost is: 6790.698324403044\n",
            "Cost is: 6722.12261382761\n",
            "Cost is: 6673.402590218215\n"
          ]
        }
      ]
    },
    {
      "cell_type": "code",
      "source": [
        "plt.plot(c)"
      ],
      "metadata": {
        "colab": {
          "base_uri": "https://localhost:8080/",
          "height": 282
        },
        "id": "lDctLbYdgr1L",
        "outputId": "66d4a665-219c-4762-af6e-634af336171b"
      },
      "execution_count": 37,
      "outputs": [
        {
          "output_type": "execute_result",
          "data": {
            "text/plain": [
              "[<matplotlib.lines.Line2D at 0x7f1943b97c90>]"
            ]
          },
          "metadata": {},
          "execution_count": 37
        },
        {
          "output_type": "display_data",
          "data": {
            "text/plain": [
              "<Figure size 432x288 with 1 Axes>"
            ],
            "image/png": "[encoded data removed]"
          },
          "metadata": {
            "needs_background": "light"
          }
        }
      ]
    },
    {
      "cell_type": "code",
      "source": [
        "def predict(X, w, b):\n",
        "    return X.dot(w) + b\n",
        "y_pred = predict(Xtest, w, b)"
      ],
      "metadata": {
        "id": "DjgDwkyegtMs"
      },
      "execution_count": 38,
      "outputs": []
    },
    {
      "cell_type": "code",
      "source": [
        "\n",
        "def r2score(y_pred, y):\n",
        "    rss = np.sum((y_pred - y) ** 2)\n",
        "    tss = np.sum((y-y.mean()) ** 2)\n",
        "    \n",
        "    r2 = 1 - (rss / tss)\n",
        "    return r2\n",
        "\n"
      ],
      "metadata": {
        "id": "KLYtObWogLdF"
      },
      "execution_count": 39,
      "outputs": []
    },
    {
      "cell_type": "code",
      "source": [
        "r2score(y_pred, Ytest)"
      ],
      "metadata": {
        "colab": {
          "base_uri": "https://localhost:8080/"
        },
        "id": "VHx6HvCpgyrs",
        "outputId": "0e5a0ccc-c320-4228-feb2-75cadda621b4"
      },
      "execution_count": 40,
      "outputs": [
        {
          "output_type": "execute_result",
          "data": {
            "text/plain": [
              "0.4626131908010461"
            ]
          },
          "metadata": {},
          "execution_count": 40
        }
      ]
    }
  ]
}