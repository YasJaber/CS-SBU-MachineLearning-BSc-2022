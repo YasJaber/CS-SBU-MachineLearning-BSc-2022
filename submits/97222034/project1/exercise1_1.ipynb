{
  "nbformat": 4,
  "nbformat_minor": 0,
  "metadata": {
    "colab": {
      "name": "exercise1.1.ipynb",
      "provenance": [],
      "collapsed_sections": []
    },
    "kernelspec": {
      "name": "python3",
      "display_name": "Python 3"
    },
    "language_info": {
      "name": "python"
    }
  },
  "cells": [
    {
      "cell_type": "code",
      "execution_count": 1,
      "metadata": {
        "colab": {
          "base_uri": "https://localhost:8080/"
        },
        "id": "h-Oc5xNdJg7b",
        "outputId": "691a969f-a0e5-4fd9-8c93-5a5a636fce7e"
      },
      "outputs": [
        {
          "output_type": "stream",
          "name": "stdout",
          "text": [
            "Requirement already satisfied: kaggle in /usr/local/lib/python3.7/dist-packages (1.5.12)\n",
            "Requirement already satisfied: requests in /usr/local/lib/python3.7/dist-packages (from kaggle) (2.23.0)\n",
            "Requirement already satisfied: python-dateutil in /usr/local/lib/python3.7/dist-packages (from kaggle) (2.8.2)\n",
            "Requirement already satisfied: urllib3 in /usr/local/lib/python3.7/dist-packages (from kaggle) (1.24.3)\n",
            "Requirement already satisfied: tqdm in /usr/local/lib/python3.7/dist-packages (from kaggle) (4.63.0)\n",
            "Requirement already satisfied: python-slugify in /usr/local/lib/python3.7/dist-packages (from kaggle) (6.1.1)\n",
            "Requirement already satisfied: six>=1.10 in /usr/local/lib/python3.7/dist-packages (from kaggle) (1.15.0)\n",
            "Requirement already satisfied: certifi in /usr/local/lib/python3.7/dist-packages (from kaggle) (2021.10.8)\n",
            "Requirement already satisfied: text-unidecode>=1.3 in /usr/local/lib/python3.7/dist-packages (from python-slugify->kaggle) (1.3)\n",
            "Requirement already satisfied: idna<3,>=2.5 in /usr/local/lib/python3.7/dist-packages (from requests->kaggle) (2.10)\n",
            "Requirement already satisfied: chardet<4,>=3.0.2 in /usr/local/lib/python3.7/dist-packages (from requests->kaggle) (3.0.4)\n"
          ]
        }
      ],
      "source": [
        "!pip install kaggle"
      ]
    },
    {
      "cell_type": "code",
      "source": [
        "from google.colab import files\n",
        "files.upload()"
      ],
      "metadata": {
        "colab": {
          "resources": {
            "http://localhost:8080/nbextensions/google.colab/files.js": {
              "data": "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",
              "ok": true,
              "headers": [
                [
                  "content-type",
                  "application/javascript"
                ]
              ],
              "status": 200,
              "status_text": ""
            }
          },
          "base_uri": "https://localhost:8080/",
          "height": 93
        },
        "id": "jPUPTiUqJm5m",
        "outputId": "a25f46db-a738-4d50-fa25-d3b9e60710ae"
      },
      "execution_count": 2,
      "outputs": [
        {
          "output_type": "display_data",
          "data": {
            "text/plain": [
              "<IPython.core.display.HTML object>"
            ],
            "text/html": [
              "\n",
              "     <input type=\"file\" id=\"files-203d9088-002a-4600-be15-843e645bcce9\" name=\"files[]\" multiple disabled\n",
              "        style=\"border:none\" />\n",
              "     <output id=\"result-203d9088-002a-4600-be15-843e645bcce9\">\n",
              "      Upload widget is only available when the cell has been executed in the\n",
              "      current browser session. Please rerun this cell to enable.\n",
              "      </output>\n",
              "      <script src=\"/nbextensions/google.colab/files.js\"></script> "
            ]
          },
          "metadata": {}
        },
        {
          "output_type": "stream",
          "name": "stdout",
          "text": [
            "Saving kaggle.json to kaggle.json\n"
          ]
        },
        {
          "output_type": "execute_result",
          "data": {
            "text/plain": [
              "{'kaggle.json': b'{\"username\":\"ghazaldanaei\",\"key\":\"168f147cb8a72fb72cd538f305669a79\"}'}"
            ]
          },
          "metadata": {},
          "execution_count": 2
        }
      ]
    },
    {
      "cell_type": "code",
      "source": [
        "!mkdir -p ~/.kaggle\n",
        "!cp kaggle.json ~/.kaggle/\n",
        "!chmod 600 ~/.kaggle/kaggle.json"
      ],
      "metadata": {
        "id": "iOiHwc2NJpJD"
      },
      "execution_count": 3,
      "outputs": []
    },
    {
      "cell_type": "code",
      "source": [
        "!kaggle datasets download -d iabhishekofficial/mobile-price-classification"
      ],
      "metadata": {
        "colab": {
          "base_uri": "https://localhost:8080/"
        },
        "id": "TF_aH8dBJrC2",
        "outputId": "19caeef0-0381-4de3-f05d-41b2cbef3694"
      },
      "execution_count": 4,
      "outputs": [
        {
          "output_type": "stream",
          "name": "stdout",
          "text": [
            "Downloading mobile-price-classification.zip to /content\n",
            "\r  0% 0.00/70.6k [00:00<?, ?B/s]\n",
            "\r100% 70.6k/70.6k [00:00<00:00, 39.9MB/s]\n"
          ]
        }
      ]
    },
    {
      "cell_type": "code",
      "source": [
        "!ls"
      ],
      "metadata": {
        "colab": {
          "base_uri": "https://localhost:8080/"
        },
        "id": "dykDoYQ4JsST",
        "outputId": "c6c1124f-7272-4535-e788-a17512aa8153"
      },
      "execution_count": 5,
      "outputs": [
        {
          "output_type": "stream",
          "name": "stdout",
          "text": [
            "kaggle.json  mobile-price-classification.zip  sample_data\n"
          ]
        }
      ]
    },
    {
      "cell_type": "code",
      "source": [
        "import zipfile\n",
        "zip_ref = zipfile.ZipFile('mobile-price-classification.zip', 'r')\n",
        "zip_ref.extractall('files')\n",
        "zip_ref.close()\n",
        "import pandas as pd\n",
        "train=pd.read_csv('/content/files/train.csv')\n",
        "test=pd.read_csv('/content/files/test.csv')"
      ],
      "metadata": {
        "id": "upr3ngFIJt4M"
      },
      "execution_count": 6,
      "outputs": []
    },
    {
      "cell_type": "markdown",
      "source": [
        "**There is no null data in dataset.but screen width(sc_w) which is in milimeters can't be 0.**"
      ],
      "metadata": {
        "id": "DqZ22hnj0hdx"
      }
    },
    {
      "cell_type": "code",
      "source": [
        "train.isna().sum()"
      ],
      "metadata": {
        "colab": {
          "base_uri": "https://localhost:8080/"
        },
        "id": "Hq7x0I--JukK",
        "outputId": "2b7144c8-2907-4a11-d832-c072aab29536"
      },
      "execution_count": 7,
      "outputs": [
        {
          "output_type": "execute_result",
          "data": {
            "text/plain": [
              "battery_power    0\n",
              "blue             0\n",
              "clock_speed      0\n",
              "dual_sim         0\n",
              "fc               0\n",
              "four_g           0\n",
              "int_memory       0\n",
              "m_dep            0\n",
              "mobile_wt        0\n",
              "n_cores          0\n",
              "pc               0\n",
              "px_height        0\n",
              "px_width         0\n",
              "ram              0\n",
              "sc_h             0\n",
              "sc_w             0\n",
              "talk_time        0\n",
              "three_g          0\n",
              "touch_screen     0\n",
              "wifi             0\n",
              "price_range      0\n",
              "dtype: int64"
            ]
          },
          "metadata": {},
          "execution_count": 7
        }
      ]
    },
    {
      "cell_type": "markdown",
      "source": [
        "***filling records having 0 as screen width and internal memory with the mean of the the columns.***"
      ],
      "metadata": {
        "id": "fpiPu4E1UYXP"
      }
    },
    {
      "cell_type": "code",
      "source": [
        "train[train['sc_w']==0] = train['sc_w'].mean()\n",
        "train[train['int_memory']==0] = train['int_memory'].mean()"
      ],
      "metadata": {
        "id": "pMaxBtq1KCms"
      },
      "execution_count": 8,
      "outputs": []
    },
    {
      "cell_type": "code",
      "source": [
        "pd.set_option('display.max_columns', None)\n",
        "train"
      ],
      "metadata": {
        "colab": {
          "base_uri": "https://localhost:8080/",
          "height": 487
        },
        "id": "0J6z2wzDKFsi",
        "outputId": "7ff5e6f4-a600-4eae-e27d-990c23f31d8f"
      },
      "execution_count": 9,
      "outputs": [
        {
          "output_type": "execute_result",
          "data": {
            "text/plain": [
              "      battery_power  blue  clock_speed  dual_sim    fc  four_g  int_memory  \\\n",
              "0             842.0   0.0          2.2       0.0   1.0     0.0         7.0   \n",
              "1            1021.0   1.0          0.5       1.0   0.0     1.0        53.0   \n",
              "2             563.0   1.0          0.5       1.0   2.0     1.0        41.0   \n",
              "3             615.0   1.0          2.5       0.0   0.0     0.0        10.0   \n",
              "4            1821.0   1.0          1.2       0.0  13.0     1.0        44.0   \n",
              "...             ...   ...          ...       ...   ...     ...         ...   \n",
              "1995          794.0   1.0          0.5       1.0   0.0     1.0         2.0   \n",
              "1996         1965.0   1.0          2.6       1.0   0.0     0.0        39.0   \n",
              "1997         1911.0   0.0          0.9       1.0   1.0     1.0        36.0   \n",
              "1998         1512.0   0.0          0.9       0.0   4.0     1.0        46.0   \n",
              "1999          510.0   1.0          2.0       1.0   5.0     1.0        45.0   \n",
              "\n",
              "      m_dep  mobile_wt  n_cores    pc  px_height  px_width     ram  sc_h  \\\n",
              "0       0.6      188.0      2.0   2.0       20.0     756.0  2549.0   9.0   \n",
              "1       0.7      136.0      3.0   6.0      905.0    1988.0  2631.0  17.0   \n",
              "2       0.9      145.0      5.0   6.0     1263.0    1716.0  2603.0  11.0   \n",
              "3       0.8      131.0      6.0   9.0     1216.0    1786.0  2769.0  16.0   \n",
              "4       0.6      141.0      2.0  14.0     1208.0    1212.0  1411.0   8.0   \n",
              "...     ...        ...      ...   ...        ...       ...     ...   ...   \n",
              "1995    0.8      106.0      6.0  14.0     1222.0    1890.0   668.0  13.0   \n",
              "1996    0.2      187.0      4.0   3.0      915.0    1965.0  2032.0  11.0   \n",
              "1997    0.7      108.0      8.0   3.0      868.0    1632.0  3057.0   9.0   \n",
              "1998    0.1      145.0      5.0   5.0      336.0     670.0   869.0  18.0   \n",
              "1999    0.9      168.0      6.0  16.0      483.0     754.0  3919.0  19.0   \n",
              "\n",
              "      sc_w  talk_time  three_g  touch_screen  wifi  price_range  \n",
              "0      7.0       19.0      0.0           0.0   1.0          1.0  \n",
              "1      3.0        7.0      1.0           1.0   0.0          2.0  \n",
              "2      2.0        9.0      1.0           1.0   0.0          2.0  \n",
              "3      8.0       11.0      1.0           0.0   0.0          2.0  \n",
              "4      2.0       15.0      1.0           1.0   0.0          1.0  \n",
              "...    ...        ...      ...           ...   ...          ...  \n",
              "1995   4.0       19.0      1.0           1.0   0.0          0.0  \n",
              "1996  10.0       16.0      1.0           1.0   1.0          2.0  \n",
              "1997   1.0        5.0      1.0           1.0   0.0          3.0  \n",
              "1998  10.0       19.0      1.0           1.0   1.0          0.0  \n",
              "1999   4.0        2.0      1.0           1.0   1.0          3.0  \n",
              "\n",
              "[2000 rows x 21 columns]"
            ],
            "text/html": [
              "\n",
              "  <div id=\"df-3ffa56b9-11df-48c5-8669-c9fe8cf13a29\">\n",
              "    <div class=\"colab-df-container\">\n",
              "      <div>\n",
              "<style scoped>\n",
              "    .dataframe tbody tr th:only-of-type {\n",
              "        vertical-align: middle;\n",
              "    }\n",
              "\n",
              "    .dataframe tbody tr th {\n",
              "        vertical-align: top;\n",
              "    }\n",
              "\n",
              "    .dataframe thead th {\n",
              "        text-align: right;\n",
              "    }\n",
              "</style>\n",
              "<table border=\"1\" class=\"dataframe\">\n",
              "  <thead>\n",
              "    <tr style=\"text-align: right;\">\n",
              "      <th></th>\n",
              "      <th>battery_power</th>\n",
              "      <th>blue</th>\n",
              "      <th>clock_speed</th>\n",
              "      <th>dual_sim</th>\n",
              "      <th>fc</th>\n",
              "      <th>four_g</th>\n",
              "      <th>int_memory</th>\n",
              "      <th>m_dep</th>\n",
              "      <th>mobile_wt</th>\n",
              "      <th>n_cores</th>\n",
              "      <th>pc</th>\n",
              "      <th>px_height</th>\n",
              "      <th>px_width</th>\n",
              "      <th>ram</th>\n",
              "      <th>sc_h</th>\n",
              "      <th>sc_w</th>\n",
              "      <th>talk_time</th>\n",
              "      <th>three_g</th>\n",
              "      <th>touch_screen</th>\n",
              "      <th>wifi</th>\n",
              "      <th>price_range</th>\n",
              "    </tr>\n",
              "  </thead>\n",
              "  <tbody>\n",
              "    <tr>\n",
              "      <th>0</th>\n",
              "      <td>842.0</td>\n",
              "      <td>0.0</td>\n",
              "      <td>2.2</td>\n",
              "      <td>0.0</td>\n",
              "      <td>1.0</td>\n",
              "      <td>0.0</td>\n",
              "      <td>7.0</td>\n",
              "      <td>0.6</td>\n",
              "      <td>188.0</td>\n",
              "      <td>2.0</td>\n",
              "      <td>2.0</td>\n",
              "      <td>20.0</td>\n",
              "      <td>756.0</td>\n",
              "      <td>2549.0</td>\n",
              "      <td>9.0</td>\n",
              "      <td>7.0</td>\n",
              "      <td>19.0</td>\n",
              "      <td>0.0</td>\n",
              "      <td>0.0</td>\n",
              "      <td>1.0</td>\n",
              "      <td>1.0</td>\n",
              "    </tr>\n",
              "    <tr>\n",
              "      <th>1</th>\n",
              "      <td>1021.0</td>\n",
              "      <td>1.0</td>\n",
              "      <td>0.5</td>\n",
              "      <td>1.0</td>\n",
              "      <td>0.0</td>\n",
              "      <td>1.0</td>\n",
              "      <td>53.0</td>\n",
              "      <td>0.7</td>\n",
              "      <td>136.0</td>\n",
              "      <td>3.0</td>\n",
              "      <td>6.0</td>\n",
              "      <td>905.0</td>\n",
              "      <td>1988.0</td>\n",
              "      <td>2631.0</td>\n",
              "      <td>17.0</td>\n",
              "      <td>3.0</td>\n",
              "      <td>7.0</td>\n",
              "      <td>1.0</td>\n",
              "      <td>1.0</td>\n",
              "      <td>0.0</td>\n",
              "      <td>2.0</td>\n",
              "    </tr>\n",
              "    <tr>\n",
              "      <th>2</th>\n",
              "      <td>563.0</td>\n",
              "      <td>1.0</td>\n",
              "      <td>0.5</td>\n",
              "      <td>1.0</td>\n",
              "      <td>2.0</td>\n",
              "      <td>1.0</td>\n",
              "      <td>41.0</td>\n",
              "      <td>0.9</td>\n",
              "      <td>145.0</td>\n",
              "      <td>5.0</td>\n",
              "      <td>6.0</td>\n",
              "      <td>1263.0</td>\n",
              "      <td>1716.0</td>\n",
              "      <td>2603.0</td>\n",
              "      <td>11.0</td>\n",
              "      <td>2.0</td>\n",
              "      <td>9.0</td>\n",
              "      <td>1.0</td>\n",
              "      <td>1.0</td>\n",
              "      <td>0.0</td>\n",
              "      <td>2.0</td>\n",
              "    </tr>\n",
              "    <tr>\n",
              "      <th>3</th>\n",
              "      <td>615.0</td>\n",
              "      <td>1.0</td>\n",
              "      <td>2.5</td>\n",
              "      <td>0.0</td>\n",
              "      <td>0.0</td>\n",
              "      <td>0.0</td>\n",
              "      <td>10.0</td>\n",
              "      <td>0.8</td>\n",
              "      <td>131.0</td>\n",
              "      <td>6.0</td>\n",
              "      <td>9.0</td>\n",
              "      <td>1216.0</td>\n",
              "      <td>1786.0</td>\n",
              "      <td>2769.0</td>\n",
              "      <td>16.0</td>\n",
              "      <td>8.0</td>\n",
              "      <td>11.0</td>\n",
              "      <td>1.0</td>\n",
              "      <td>0.0</td>\n",
              "      <td>0.0</td>\n",
              "      <td>2.0</td>\n",
              "    </tr>\n",
              "    <tr>\n",
              "      <th>4</th>\n",
              "      <td>1821.0</td>\n",
              "      <td>1.0</td>\n",
              "      <td>1.2</td>\n",
              "      <td>0.0</td>\n",
              "      <td>13.0</td>\n",
              "      <td>1.0</td>\n",
              "      <td>44.0</td>\n",
              "      <td>0.6</td>\n",
              "      <td>141.0</td>\n",
              "      <td>2.0</td>\n",
              "      <td>14.0</td>\n",
              "      <td>1208.0</td>\n",
              "      <td>1212.0</td>\n",
              "      <td>1411.0</td>\n",
              "      <td>8.0</td>\n",
              "      <td>2.0</td>\n",
              "      <td>15.0</td>\n",
              "      <td>1.0</td>\n",
              "      <td>1.0</td>\n",
              "      <td>0.0</td>\n",
              "      <td>1.0</td>\n",
              "    </tr>\n",
              "    <tr>\n",
              "      <th>...</th>\n",
              "      <td>...</td>\n",
              "      <td>...</td>\n",
              "      <td>...</td>\n",
              "      <td>...</td>\n",
              "      <td>...</td>\n",
              "      <td>...</td>\n",
              "      <td>...</td>\n",
              "      <td>...</td>\n",
              "      <td>...</td>\n",
              "      <td>...</td>\n",
              "      <td>...</td>\n",
              "      <td>...</td>\n",
              "      <td>...</td>\n",
              "      <td>...</td>\n",
              "      <td>...</td>\n",
              "      <td>...</td>\n",
              "      <td>...</td>\n",
              "      <td>...</td>\n",
              "      <td>...</td>\n",
              "      <td>...</td>\n",
              "      <td>...</td>\n",
              "    </tr>\n",
              "    <tr>\n",
              "      <th>1995</th>\n",
              "      <td>794.0</td>\n",
              "      <td>1.0</td>\n",
              "      <td>0.5</td>\n",
              "      <td>1.0</td>\n",
              "      <td>0.0</td>\n",
              "      <td>1.0</td>\n",
              "      <td>2.0</td>\n",
              "      <td>0.8</td>\n",
              "      <td>106.0</td>\n",
              "      <td>6.0</td>\n",
              "      <td>14.0</td>\n",
              "      <td>1222.0</td>\n",
              "      <td>1890.0</td>\n",
              "      <td>668.0</td>\n",
              "      <td>13.0</td>\n",
              "      <td>4.0</td>\n",
              "      <td>19.0</td>\n",
              "      <td>1.0</td>\n",
              "      <td>1.0</td>\n",
              "      <td>0.0</td>\n",
              "      <td>0.0</td>\n",
              "    </tr>\n",
              "    <tr>\n",
              "      <th>1996</th>\n",
              "      <td>1965.0</td>\n",
              "      <td>1.0</td>\n",
              "      <td>2.6</td>\n",
              "      <td>1.0</td>\n",
              "      <td>0.0</td>\n",
              "      <td>0.0</td>\n",
              "      <td>39.0</td>\n",
              "      <td>0.2</td>\n",
              "      <td>187.0</td>\n",
              "      <td>4.0</td>\n",
              "      <td>3.0</td>\n",
              "      <td>915.0</td>\n",
              "      <td>1965.0</td>\n",
              "      <td>2032.0</td>\n",
              "      <td>11.0</td>\n",
              "      <td>10.0</td>\n",
              "      <td>16.0</td>\n",
              "      <td>1.0</td>\n",
              "      <td>1.0</td>\n",
              "      <td>1.0</td>\n",
              "      <td>2.0</td>\n",
              "    </tr>\n",
              "    <tr>\n",
              "      <th>1997</th>\n",
              "      <td>1911.0</td>\n",
              "      <td>0.0</td>\n",
              "      <td>0.9</td>\n",
              "      <td>1.0</td>\n",
              "      <td>1.0</td>\n",
              "      <td>1.0</td>\n",
              "      <td>36.0</td>\n",
              "      <td>0.7</td>\n",
              "      <td>108.0</td>\n",
              "      <td>8.0</td>\n",
              "      <td>3.0</td>\n",
              "      <td>868.0</td>\n",
              "      <td>1632.0</td>\n",
              "      <td>3057.0</td>\n",
              "      <td>9.0</td>\n",
              "      <td>1.0</td>\n",
              "      <td>5.0</td>\n",
              "      <td>1.0</td>\n",
              "      <td>1.0</td>\n",
              "      <td>0.0</td>\n",
              "      <td>3.0</td>\n",
              "    </tr>\n",
              "    <tr>\n",
              "      <th>1998</th>\n",
              "      <td>1512.0</td>\n",
              "      <td>0.0</td>\n",
              "      <td>0.9</td>\n",
              "      <td>0.0</td>\n",
              "      <td>4.0</td>\n",
              "      <td>1.0</td>\n",
              "      <td>46.0</td>\n",
              "      <td>0.1</td>\n",
              "      <td>145.0</td>\n",
              "      <td>5.0</td>\n",
              "      <td>5.0</td>\n",
              "      <td>336.0</td>\n",
              "      <td>670.0</td>\n",
              "      <td>869.0</td>\n",
              "      <td>18.0</td>\n",
              "      <td>10.0</td>\n",
              "      <td>19.0</td>\n",
              "      <td>1.0</td>\n",
              "      <td>1.0</td>\n",
              "      <td>1.0</td>\n",
              "      <td>0.0</td>\n",
              "    </tr>\n",
              "    <tr>\n",
              "      <th>1999</th>\n",
              "      <td>510.0</td>\n",
              "      <td>1.0</td>\n",
              "      <td>2.0</td>\n",
              "      <td>1.0</td>\n",
              "      <td>5.0</td>\n",
              "      <td>1.0</td>\n",
              "      <td>45.0</td>\n",
              "      <td>0.9</td>\n",
              "      <td>168.0</td>\n",
              "      <td>6.0</td>\n",
              "      <td>16.0</td>\n",
              "      <td>483.0</td>\n",
              "      <td>754.0</td>\n",
              "      <td>3919.0</td>\n",
              "      <td>19.0</td>\n",
              "      <td>4.0</td>\n",
              "      <td>2.0</td>\n",
              "      <td>1.0</td>\n",
              "      <td>1.0</td>\n",
              "      <td>1.0</td>\n",
              "      <td>3.0</td>\n",
              "    </tr>\n",
              "  </tbody>\n",
              "</table>\n",
              "<p>2000 rows × 21 columns</p>\n",
              "</div>\n",
              "      <button class=\"colab-df-convert\" onclick=\"convertToInteractive('df-3ffa56b9-11df-48c5-8669-c9fe8cf13a29')\"\n",
              "              title=\"Convert this dataframe to an interactive table.\"\n",
              "              style=\"display:none;\">\n",
              "        \n",
              "  <svg xmlns=\"http://www.w3.org/2000/svg\" height=\"24px\"viewBox=\"0 0 24 24\"\n",
              "       width=\"24px\">\n",
              "    <path d=\"M0 0h24v24H0V0z\" fill=\"none\"/>\n",
              "    <path d=\"M18.56 5.44l.94 2.06.94-2.06 2.06-.94-2.06-.94-.94-2.06-.94 2.06-2.06.94zm-11 1L8.5 8.5l.94-2.06 2.06-.94-2.06-.94L8.5 2.5l-.94 2.06-2.06.94zm10 10l.94 2.06.94-2.06 2.06-.94-2.06-.94-.94-2.06-.94 2.06-2.06.94z\"/><path d=\"M17.41 7.96l-1.37-1.37c-.4-.4-.92-.59-1.43-.59-.52 0-1.04.2-1.43.59L10.3 9.45l-7.72 7.72c-.78.78-.78 2.05 0 2.83L4 21.41c.39.39.9.59 1.41.59.51 0 1.02-.2 1.41-.59l7.78-7.78 2.81-2.81c.8-.78.8-2.07 0-2.86zM5.41 20L4 18.59l7.72-7.72 1.47 1.35L5.41 20z\"/>\n",
              "  </svg>\n",
              "      </button>\n",
              "      \n",
              "  <style>\n",
              "    .colab-df-container {\n",
              "      display:flex;\n",
              "      flex-wrap:wrap;\n",
              "      gap: 12px;\n",
              "    }\n",
              "\n",
              "    .colab-df-convert {\n",
              "      background-color: #E8F0FE;\n",
              "      border: none;\n",
              "      border-radius: 50%;\n",
              "      cursor: pointer;\n",
              "      display: none;\n",
              "      fill: #1967D2;\n",
              "      height: 32px;\n",
              "      padding: 0 0 0 0;\n",
              "      width: 32px;\n",
              "    }\n",
              "\n",
              "    .colab-df-convert:hover {\n",
              "      background-color: #E2EBFA;\n",
              "      box-shadow: 0px 1px 2px rgba(60, 64, 67, 0.3), 0px 1px 3px 1px rgba(60, 64, 67, 0.15);\n",
              "      fill: #174EA6;\n",
              "    }\n",
              "\n",
              "    [theme=dark] .colab-df-convert {\n",
              "      background-color: #3B4455;\n",
              "      fill: #D2E3FC;\n",
              "    }\n",
              "\n",
              "    [theme=dark] .colab-df-convert:hover {\n",
              "      background-color: #434B5C;\n",
              "      box-shadow: 0px 1px 3px 1px rgba(0, 0, 0, 0.15);\n",
              "      filter: drop-shadow(0px 1px 2px rgba(0, 0, 0, 0.3));\n",
              "      fill: #FFFFFF;\n",
              "    }\n",
              "  </style>\n",
              "\n",
              "      <script>\n",
              "        const buttonEl =\n",
              "          document.querySelector('#df-3ffa56b9-11df-48c5-8669-c9fe8cf13a29 button.colab-df-convert');\n",
              "        buttonEl.style.display =\n",
              "          google.colab.kernel.accessAllowed ? 'block' : 'none';\n",
              "\n",
              "        async function convertToInteractive(key) {\n",
              "          const element = document.querySelector('#df-3ffa56b9-11df-48c5-8669-c9fe8cf13a29');\n",
              "          const dataTable =\n",
              "            await google.colab.kernel.invokeFunction('convertToInteractive',\n",
              "                                                     [key], {});\n",
              "          if (!dataTable) return;\n",
              "\n",
              "          const docLinkHtml = 'Like what you see? Visit the ' +\n",
              "            '<a target=\"_blank\" href=https://colab.research.google.com/notebooks/data_table.ipynb>data table notebook</a>'\n",
              "            + ' to learn more about interactive tables.';\n",
              "          element.innerHTML = '';\n",
              "          dataTable['output_type'] = 'display_data';\n",
              "          await google.colab.output.renderOutput(dataTable, element);\n",
              "          const docLink = document.createElement('div');\n",
              "          docLink.innerHTML = docLinkHtml;\n",
              "          element.appendChild(docLink);\n",
              "        }\n",
              "      </script>\n",
              "    </div>\n",
              "  </div>\n",
              "  "
            ]
          },
          "metadata": {},
          "execution_count": 9
        }
      ]
    },
    {
      "cell_type": "markdown",
      "source": [
        "**Removing outliers which are more than mean+3*std or less than mean-3*std.**"
      ],
      "metadata": {
        "id": "0XmtRv7_FbUc"
      }
    },
    {
      "cell_type": "code",
      "source": [
        "from scipy import stats\n",
        "import numpy as np\n",
        "df = train[(np.abs(stats.zscore(train['battery_power']))< 3)]\n",
        "df = df[(np.abs(stats.zscore(df[ 'clock_speed'])) < 3)]\n",
        "df = df[(np.abs(stats.zscore(df[ 'fc']))          < 3)]\n",
        "df = df[(np.abs(stats.zscore(df[ 'int_memory']))  < 3)]\n",
        "df = df[(np.abs(stats.zscore(df[ 'm_dep']))       < 3)]\n",
        "df = df[(np.abs(stats.zscore(df[ 'mobile_wt']))   < 3)]\n",
        "df = df[(np.abs(stats.zscore(df[ 'n_cores']))     < 3)]\n",
        "df = df[(np.abs(stats.zscore(df[ 'pc']))          < 3)]\n",
        "df = df[(np.abs(stats.zscore(df[ 'px_height']))   < 3)]\n",
        "df = df[(np.abs(stats.zscore(df[ 'px_width']))    < 3)]\n",
        "df = df[(np.abs(stats.zscore(df[ 'ram']))         < 3)]\n",
        "df = df[(np.abs(stats.zscore(df[ 'sc_h']))        < 3)]\n",
        "df = df[(np.abs(stats.zscore(df[ 'sc_w']))        < 3)]\n",
        "df = df[(np.abs(stats.zscore(df[ 'talk_time']))   < 3)]"
      ],
      "metadata": {
        "id": "zaBUfC-lFt6C"
      },
      "execution_count": 10,
      "outputs": []
    },
    {
      "cell_type": "markdown",
      "source": [
        "-----------------------------------------**Task 2**-----------------------------------------"
      ],
      "metadata": {
        "id": "5Ktcc3uqqUm6"
      }
    },
    {
      "cell_type": "code",
      "source": [
        "res = df.groupby('price_range').agg(num_cellphones_pricerange = ('price_range', 'count'))\n",
        "\n",
        "print(res)"
      ],
      "metadata": {
        "colab": {
          "base_uri": "https://localhost:8080/"
        },
        "id": "fxv9CbfUql8B",
        "outputId": "3d0ee5b9-9e5f-4204-acaf-9c850c1c6231"
      },
      "execution_count": 11,
      "outputs": [
        {
          "output_type": "stream",
          "name": "stdout",
          "text": [
            "             num_cellphones_pricerange\n",
            "price_range                           \n",
            "0.0                                447\n",
            "1.0                                447\n",
            "2.0                                453\n",
            "3.0                                455\n"
          ]
        }
      ]
    },
    {
      "cell_type": "code",
      "source": [
        "res.plot.pie(y='num_cellphones_pricerange', figsize=(5, 5))"
      ],
      "metadata": {
        "colab": {
          "base_uri": "https://localhost:8080/",
          "height": 321
        },
        "id": "fDnnf2421Ukv",
        "outputId": "850e6719-2391-4f2b-962a-2ea5b6165c72"
      },
      "execution_count": 12,
      "outputs": [
        {
          "output_type": "execute_result",
          "data": {
            "text/plain": [
              "<matplotlib.axes._subplots.AxesSubplot at 0x7f4c0ed9e690>"
            ]
          },
          "metadata": {},
          "execution_count": 12
        },
        {
          "output_type": "display_data",
          "data": {
            "text/plain": [
              "<Figure size 360x360 with 1 Axes>"
            ],
            "image/png": "[encoded data removed]"
          },
          "metadata": {}
        }
      ]
    },
    {
      "cell_type": "markdown",
      "source": [
        "**In the following we evaluate the mean amount of ram, regarding price_range**\n",
        "As it is evident from the bar chart, we can conclude that there's a corrolation between these parameters and as the ram increases,price range increases too. Mean of ram amount in different price range categories have a difference of 1000 megabytes."
      ],
      "metadata": {
        "id": "rQ7l3jOhjaWv"
      }
    },
    {
      "cell_type": "code",
      "source": [
        "df2 = df.pivot_table(values='ram', index='price_range', aggfunc='mean')\n",
        "df2"
      ],
      "metadata": {
        "colab": {
          "base_uri": "https://localhost:8080/",
          "height": 206
        },
        "id": "jdrrZWMmdaMX",
        "outputId": "98f0b919-260a-4d5c-9393-d3eba932c646"
      },
      "execution_count": 13,
      "outputs": [
        {
          "output_type": "execute_result",
          "data": {
            "text/plain": [
              "                     ram\n",
              "price_range             \n",
              "0.0           777.659955\n",
              "1.0          1695.847875\n",
              "2.0          2586.704194\n",
              "3.0          3448.881319"
            ],
            "text/html": [
              "\n",
              "  <div id=\"df-a1e0f337-e7c9-4115-b29b-07118b4e2619\">\n",
              "    <div class=\"colab-df-container\">\n",
              "      <div>\n",
              "<style scoped>\n",
              "    .dataframe tbody tr th:only-of-type {\n",
              "        vertical-align: middle;\n",
              "    }\n",
              "\n",
              "    .dataframe tbody tr th {\n",
              "        vertical-align: top;\n",
              "    }\n",
              "\n",
              "    .dataframe thead th {\n",
              "        text-align: right;\n",
              "    }\n",
              "</style>\n",
              "<table border=\"1\" class=\"dataframe\">\n",
              "  <thead>\n",
              "    <tr style=\"text-align: right;\">\n",
              "      <th></th>\n",
              "      <th>ram</th>\n",
              "    </tr>\n",
              "    <tr>\n",
              "      <th>price_range</th>\n",
              "      <th></th>\n",
              "    </tr>\n",
              "  </thead>\n",
              "  <tbody>\n",
              "    <tr>\n",
              "      <th>0.0</th>\n",
              "      <td>777.659955</td>\n",
              "    </tr>\n",
              "    <tr>\n",
              "      <th>1.0</th>\n",
              "      <td>1695.847875</td>\n",
              "    </tr>\n",
              "    <tr>\n",
              "      <th>2.0</th>\n",
              "      <td>2586.704194</td>\n",
              "    </tr>\n",
              "    <tr>\n",
              "      <th>3.0</th>\n",
              "      <td>3448.881319</td>\n",
              "    </tr>\n",
              "  </tbody>\n",
              "</table>\n",
              "</div>\n",
              "      <button class=\"colab-df-convert\" onclick=\"convertToInteractive('df-a1e0f337-e7c9-4115-b29b-07118b4e2619')\"\n",
              "              title=\"Convert this dataframe to an interactive table.\"\n",
              "              style=\"display:none;\">\n",
              "        \n",
              "  <svg xmlns=\"http://www.w3.org/2000/svg\" height=\"24px\"viewBox=\"0 0 24 24\"\n",
              "       width=\"24px\">\n",
              "    <path d=\"M0 0h24v24H0V0z\" fill=\"none\"/>\n",
              "    <path d=\"M18.56 5.44l.94 2.06.94-2.06 2.06-.94-2.06-.94-.94-2.06-.94 2.06-2.06.94zm-11 1L8.5 8.5l.94-2.06 2.06-.94-2.06-.94L8.5 2.5l-.94 2.06-2.06.94zm10 10l.94 2.06.94-2.06 2.06-.94-2.06-.94-.94-2.06-.94 2.06-2.06.94z\"/><path d=\"M17.41 7.96l-1.37-1.37c-.4-.4-.92-.59-1.43-.59-.52 0-1.04.2-1.43.59L10.3 9.45l-7.72 7.72c-.78.78-.78 2.05 0 2.83L4 21.41c.39.39.9.59 1.41.59.51 0 1.02-.2 1.41-.59l7.78-7.78 2.81-2.81c.8-.78.8-2.07 0-2.86zM5.41 20L4 18.59l7.72-7.72 1.47 1.35L5.41 20z\"/>\n",
              "  </svg>\n",
              "      </button>\n",
              "      \n",
              "  <style>\n",
              "    .colab-df-container {\n",
              "      display:flex;\n",
              "      flex-wrap:wrap;\n",
              "      gap: 12px;\n",
              "    }\n",
              "\n",
              "    .colab-df-convert {\n",
              "      background-color: #E8F0FE;\n",
              "      border: none;\n",
              "      border-radius: 50%;\n",
              "      cursor: pointer;\n",
              "      display: none;\n",
              "      fill: #1967D2;\n",
              "      height: 32px;\n",
              "      padding: 0 0 0 0;\n",
              "      width: 32px;\n",
              "    }\n",
              "\n",
              "    .colab-df-convert:hover {\n",
              "      background-color: #E2EBFA;\n",
              "      box-shadow: 0px 1px 2px rgba(60, 64, 67, 0.3), 0px 1px 3px 1px rgba(60, 64, 67, 0.15);\n",
              "      fill: #174EA6;\n",
              "    }\n",
              "\n",
              "    [theme=dark] .colab-df-convert {\n",
              "      background-color: #3B4455;\n",
              "      fill: #D2E3FC;\n",
              "    }\n",
              "\n",
              "    [theme=dark] .colab-df-convert:hover {\n",
              "      background-color: #434B5C;\n",
              "      box-shadow: 0px 1px 3px 1px rgba(0, 0, 0, 0.15);\n",
              "      filter: drop-shadow(0px 1px 2px rgba(0, 0, 0, 0.3));\n",
              "      fill: #FFFFFF;\n",
              "    }\n",
              "  </style>\n",
              "\n",
              "      <script>\n",
              "        const buttonEl =\n",
              "          document.querySelector('#df-a1e0f337-e7c9-4115-b29b-07118b4e2619 button.colab-df-convert');\n",
              "        buttonEl.style.display =\n",
              "          google.colab.kernel.accessAllowed ? 'block' : 'none';\n",
              "\n",
              "        async function convertToInteractive(key) {\n",
              "          const element = document.querySelector('#df-a1e0f337-e7c9-4115-b29b-07118b4e2619');\n",
              "          const dataTable =\n",
              "            await google.colab.kernel.invokeFunction('convertToInteractive',\n",
              "                                                     [key], {});\n",
              "          if (!dataTable) return;\n",
              "\n",
              "          const docLinkHtml = 'Like what you see? Visit the ' +\n",
              "            '<a target=\"_blank\" href=https://colab.research.google.com/notebooks/data_table.ipynb>data table notebook</a>'\n",
              "            + ' to learn more about interactive tables.';\n",
              "          element.innerHTML = '';\n",
              "          dataTable['output_type'] = 'display_data';\n",
              "          await google.colab.output.renderOutput(dataTable, element);\n",
              "          const docLink = document.createElement('div');\n",
              "          docLink.innerHTML = docLinkHtml;\n",
              "          element.appendChild(docLink);\n",
              "        }\n",
              "      </script>\n",
              "    </div>\n",
              "  </div>\n",
              "  "
            ]
          },
          "metadata": {},
          "execution_count": 13
        }
      ]
    },
    {
      "cell_type": "code",
      "source": [
        "import matplotlib.pyplot as plt\n",
        "df2.plot( y='ram', kind = 'bar')\n",
        "plt.show()"
      ],
      "metadata": {
        "colab": {
          "base_uri": "https://localhost:8080/",
          "height": 285
        },
        "id": "BZ_vCzIeixr5",
        "outputId": "866ad491-d63b-401e-926b-44950e81d5c1"
      },
      "execution_count": 14,
      "outputs": [
        {
          "output_type": "display_data",
          "data": {
            "text/plain": [
              "<Figure size 432x288 with 1 Axes>"
            ],
            "image/png": "[encoded data removed]"
          },
          "metadata": {
            "needs_background": "light"
          }
        }
      ]
    },
    {
      "cell_type": "markdown",
      "source": [
        "**In the following we evaluate having bluetooth , regarding price_range**. Obviosuly there is an uprising trend because  more cellphones with bluetooth can be found among expensive cellphones."
      ],
      "metadata": {
        "id": "p-2P_SnckN1U"
      }
    },
    {
      "cell_type": "code",
      "source": [
        "df2 = df.pivot_table(values='blue', index='price_range', aggfunc='sum')\n",
        "df2\n"
      ],
      "metadata": {
        "colab": {
          "base_uri": "https://localhost:8080/",
          "height": 206
        },
        "id": "M5no3pfmkMyM",
        "outputId": "cfdea468-1d40-405a-f885-f44195c319da"
      },
      "execution_count": 15,
      "outputs": [
        {
          "output_type": "execute_result",
          "data": {
            "text/plain": [
              "              blue\n",
              "price_range       \n",
              "0.0          221.0\n",
              "1.0          222.0\n",
              "2.0          223.0\n",
              "3.0          242.0"
            ],
            "text/html": [
              "\n",
              "  <div id=\"df-002e7404-b8c1-49fe-985c-12aa63c3e461\">\n",
              "    <div class=\"colab-df-container\">\n",
              "      <div>\n",
              "<style scoped>\n",
              "    .dataframe tbody tr th:only-of-type {\n",
              "        vertical-align: middle;\n",
              "    }\n",
              "\n",
              "    .dataframe tbody tr th {\n",
              "        vertical-align: top;\n",
              "    }\n",
              "\n",
              "    .dataframe thead th {\n",
              "        text-align: right;\n",
              "    }\n",
              "</style>\n",
              "<table border=\"1\" class=\"dataframe\">\n",
              "  <thead>\n",
              "    <tr style=\"text-align: right;\">\n",
              "      <th></th>\n",
              "      <th>blue</th>\n",
              "    </tr>\n",
              "    <tr>\n",
              "      <th>price_range</th>\n",
              "      <th></th>\n",
              "    </tr>\n",
              "  </thead>\n",
              "  <tbody>\n",
              "    <tr>\n",
              "      <th>0.0</th>\n",
              "      <td>221.0</td>\n",
              "    </tr>\n",
              "    <tr>\n",
              "      <th>1.0</th>\n",
              "      <td>222.0</td>\n",
              "    </tr>\n",
              "    <tr>\n",
              "      <th>2.0</th>\n",
              "      <td>223.0</td>\n",
              "    </tr>\n",
              "    <tr>\n",
              "      <th>3.0</th>\n",
              "      <td>242.0</td>\n",
              "    </tr>\n",
              "  </tbody>\n",
              "</table>\n",
              "</div>\n",
              "      <button class=\"colab-df-convert\" onclick=\"convertToInteractive('df-002e7404-b8c1-49fe-985c-12aa63c3e461')\"\n",
              "              title=\"Convert this dataframe to an interactive table.\"\n",
              "              style=\"display:none;\">\n",
              "        \n",
              "  <svg xmlns=\"http://www.w3.org/2000/svg\" height=\"24px\"viewBox=\"0 0 24 24\"\n",
              "       width=\"24px\">\n",
              "    <path d=\"M0 0h24v24H0V0z\" fill=\"none\"/>\n",
              "    <path d=\"M18.56 5.44l.94 2.06.94-2.06 2.06-.94-2.06-.94-.94-2.06-.94 2.06-2.06.94zm-11 1L8.5 8.5l.94-2.06 2.06-.94-2.06-.94L8.5 2.5l-.94 2.06-2.06.94zm10 10l.94 2.06.94-2.06 2.06-.94-2.06-.94-.94-2.06-.94 2.06-2.06.94z\"/><path d=\"M17.41 7.96l-1.37-1.37c-.4-.4-.92-.59-1.43-.59-.52 0-1.04.2-1.43.59L10.3 9.45l-7.72 7.72c-.78.78-.78 2.05 0 2.83L4 21.41c.39.39.9.59 1.41.59.51 0 1.02-.2 1.41-.59l7.78-7.78 2.81-2.81c.8-.78.8-2.07 0-2.86zM5.41 20L4 18.59l7.72-7.72 1.47 1.35L5.41 20z\"/>\n",
              "  </svg>\n",
              "      </button>\n",
              "      \n",
              "  <style>\n",
              "    .colab-df-container {\n",
              "      display:flex;\n",
              "      flex-wrap:wrap;\n",
              "      gap: 12px;\n",
              "    }\n",
              "\n",
              "    .colab-df-convert {\n",
              "      background-color: #E8F0FE;\n",
              "      border: none;\n",
              "      border-radius: 50%;\n",
              "      cursor: pointer;\n",
              "      display: none;\n",
              "      fill: #1967D2;\n",
              "      height: 32px;\n",
              "      padding: 0 0 0 0;\n",
              "      width: 32px;\n",
              "    }\n",
              "\n",
              "    .colab-df-convert:hover {\n",
              "      background-color: #E2EBFA;\n",
              "      box-shadow: 0px 1px 2px rgba(60, 64, 67, 0.3), 0px 1px 3px 1px rgba(60, 64, 67, 0.15);\n",
              "      fill: #174EA6;\n",
              "    }\n",
              "\n",
              "    [theme=dark] .colab-df-convert {\n",
              "      background-color: #3B4455;\n",
              "      fill: #D2E3FC;\n",
              "    }\n",
              "\n",
              "    [theme=dark] .colab-df-convert:hover {\n",
              "      background-color: #434B5C;\n",
              "      box-shadow: 0px 1px 3px 1px rgba(0, 0, 0, 0.15);\n",
              "      filter: drop-shadow(0px 1px 2px rgba(0, 0, 0, 0.3));\n",
              "      fill: #FFFFFF;\n",
              "    }\n",
              "  </style>\n",
              "\n",
              "      <script>\n",
              "        const buttonEl =\n",
              "          document.querySelector('#df-002e7404-b8c1-49fe-985c-12aa63c3e461 button.colab-df-convert');\n",
              "        buttonEl.style.display =\n",
              "          google.colab.kernel.accessAllowed ? 'block' : 'none';\n",
              "\n",
              "        async function convertToInteractive(key) {\n",
              "          const element = document.querySelector('#df-002e7404-b8c1-49fe-985c-12aa63c3e461');\n",
              "          const dataTable =\n",
              "            await google.colab.kernel.invokeFunction('convertToInteractive',\n",
              "                                                     [key], {});\n",
              "          if (!dataTable) return;\n",
              "\n",
              "          const docLinkHtml = 'Like what you see? Visit the ' +\n",
              "            '<a target=\"_blank\" href=https://colab.research.google.com/notebooks/data_table.ipynb>data table notebook</a>'\n",
              "            + ' to learn more about interactive tables.';\n",
              "          element.innerHTML = '';\n",
              "          dataTable['output_type'] = 'display_data';\n",
              "          await google.colab.output.renderOutput(dataTable, element);\n",
              "          const docLink = document.createElement('div');\n",
              "          docLink.innerHTML = docLinkHtml;\n",
              "          element.appendChild(docLink);\n",
              "        }\n",
              "      </script>\n",
              "    </div>\n",
              "  </div>\n",
              "  "
            ]
          },
          "metadata": {},
          "execution_count": 15
        }
      ]
    },
    {
      "cell_type": "code",
      "source": [
        "df2.plot( y='blue', kind = 'line')\n",
        "plt.show()"
      ],
      "metadata": {
        "colab": {
          "base_uri": "https://localhost:8080/",
          "height": 280
        },
        "id": "lH1GKyRBnh5a",
        "outputId": "a10b57cb-e94d-46c9-95e9-3197358b44e3"
      },
      "execution_count": 16,
      "outputs": [
        {
          "output_type": "display_data",
          "data": {
            "text/plain": [
              "<Figure size 432x288 with 1 Axes>"
            ],
            "image/png": "[encoded data removed]"
          },
          "metadata": {
            "needs_background": "light"
          }
        }
      ]
    },
    {
      "cell_type": "markdown",
      "source": [
        "**comparing number of cores among dataset**.\n",
        "Cellphones with 4 cores have the highest frequency."
      ],
      "metadata": {
        "id": "dKNRiPdCRpHI"
      }
    },
    {
      "cell_type": "code",
      "source": [
        "res = df.groupby('n_cores').agg(num_cellphones = ('n_cores', 'count'))\n",
        "\n",
        "print(res)"
      ],
      "metadata": {
        "colab": {
          "base_uri": "https://localhost:8080/"
        },
        "id": "Tbx2-a2UPLsE",
        "outputId": "25c31220-90c9-4f79-891a-5509689dca37"
      },
      "execution_count": 17,
      "outputs": [
        {
          "output_type": "stream",
          "name": "stdout",
          "text": [
            "         num_cellphones\n",
            "n_cores                \n",
            "1.0                 218\n",
            "2.0                 221\n",
            "3.0                 217\n",
            "4.0                 240\n",
            "5.0                 225\n",
            "6.0                 213\n",
            "7.0                 233\n",
            "8.0                 235\n"
          ]
        }
      ]
    },
    {
      "cell_type": "code",
      "source": [
        "# df_res = pd.DataFrame(res)\n",
        "# df_res"
      ],
      "metadata": {
        "id": "O1ukNXIfZfpa"
      },
      "execution_count": null,
      "outputs": []
    },
    {
      "cell_type": "code",
      "source": [
        "# zip_iterator = zip([1.0, 2.0, 3.0, 4.0, 5.0, 6.0, 7.0, 8.0], df_res['num_cellphones'])\n",
        "# dict1=dict(zip_iterator)\n",
        "# dict1"
      ],
      "metadata": {
        "id": "uCBHIjkQW2co"
      },
      "execution_count": null,
      "outputs": []
    },
    {
      "cell_type": "code",
      "source": [
        "# df_res[\"n_cores\"] = dict1.keys()\n",
        "# df_res[\"num_cellphones\"]=dict1.values"
      ],
      "metadata": {
        "id": "DjahY9_6a4Sy"
      },
      "execution_count": null,
      "outputs": []
    },
    {
      "cell_type": "code",
      "source": [
        "res.plot.pie(y='num_cellphones', figsize=(5, 5))"
      ],
      "metadata": {
        "colab": {
          "base_uri": "https://localhost:8080/",
          "height": 321
        },
        "id": "U2XAHHlgPM5s",
        "outputId": "d1eb6b72-7b53-481a-cb9b-ef1283401e95"
      },
      "execution_count": 18,
      "outputs": [
        {
          "output_type": "execute_result",
          "data": {
            "text/plain": [
              "<matplotlib.axes._subplots.AxesSubplot at 0x7f4c0e7a6550>"
            ]
          },
          "metadata": {},
          "execution_count": 18
        },
        {
          "output_type": "display_data",
          "data": {
            "text/plain": [
              "<Figure size 360x360 with 1 Axes>"
            ],
            "image/png": "[encoded data removed]"
          },
          "metadata": {}
        }
      ]
    },
    {
      "cell_type": "markdown",
      "source": [
        "**stronger battery powers are prevalent among higher price ranges**"
      ],
      "metadata": {
        "id": "tBgtOhRarc64"
      }
    },
    {
      "cell_type": "code",
      "source": [
        "import seaborn as sns\n",
        "plt.figure(figsize = (12,6))\n",
        "sns.barplot(x = 'price_range', y = 'battery_power', data=df)\n",
        "plt.show()"
      ],
      "metadata": {
        "colab": {
          "base_uri": "https://localhost:8080/",
          "height": 388
        },
        "id": "sn_eUVL4rUVD",
        "outputId": "4d3319a4-3f78-458a-8eb3-9c38057d36b7"
      },
      "execution_count": 19,
      "outputs": [
        {
          "output_type": "display_data",
          "data": {
            "text/plain": [
              "<Figure size 864x432 with 1 Axes>"
            ],
            "image/png": "[encoded data removed]"
          },
          "metadata": {
            "needs_background": "light"
          }
        }
      ]
    },
    {
      "cell_type": "markdown",
      "source": [
        "**there are more cellphones having 3g advantage and the numbers of them are roughly equal among different price ranges.**"
      ],
      "metadata": {
        "id": "v-QM9qDDsG7Y"
      }
    },
    {
      "cell_type": "code",
      "source": [
        "plt.figure(figsize = (12,6))\n",
        "sns.countplot(df['three_g'] , hue = df['price_range'] , palette = 'ocean')\n",
        "plt.show()"
      ],
      "metadata": {
        "colab": {
          "base_uri": "https://localhost:8080/",
          "height": 445
        },
        "id": "IyIPwxVvsEdW",
        "outputId": "b6f5304c-5895-4c1d-8306-e4cd3498add6"
      },
      "execution_count": 20,
      "outputs": [
        {
          "output_type": "stream",
          "name": "stderr",
          "text": [
            "/usr/local/lib/python3.7/dist-packages/seaborn/_decorators.py:43: FutureWarning: Pass the following variable as a keyword arg: x. From version 0.12, the only valid positional argument will be `data`, and passing other arguments without an explicit keyword will result in an error or misinterpretation.\n",
            "  FutureWarning\n"
          ]
        },
        {
          "output_type": "display_data",
          "data": {
            "text/plain": [
              "<Figure size 864x432 with 1 Axes>"
            ],
            "image/png": "[encoded data removed]"
          },
          "metadata": {
            "needs_background": "light"
          }
        }
      ]
    },
    {
      "cell_type": "markdown",
      "source": [
        "-----------------------------------------**Task 3**-----------------------------------------"
      ],
      "metadata": {
        "id": "4_o6c8mj-bcM"
      }
    },
    {
      "cell_type": "code",
      "source": [
        "from scipy import stats\n",
        "pop_mean=df[\"ram\"].mean()\n",
        "\n",
        "pop_mode=df[\"ram\"].mode()\n",
        "\n",
        "pop_median=df[\"ram\"].median()\n",
        "pop_std=df[\"ram\"].std()\n",
        "print(pop_median)\n",
        "\n",
        "print(pop_mean)\n",
        "\n",
        "print(pop_mode)\n",
        "print(pop_std)"
      ],
      "metadata": {
        "colab": {
          "base_uri": "https://localhost:8080/"
        },
        "id": "VUczPPzd-72E",
        "outputId": "63c0821b-ab8e-49fa-ea36-b4cbafa27cd9"
      },
      "execution_count": 21,
      "outputs": [
        {
          "output_type": "stream",
          "name": "stdout",
          "text": [
            "2174.0\n",
            "2134.6703662597115\n",
            "0    1464.0\n",
            "1    2227.0\n",
            "2    2610.0\n",
            "dtype: float64\n",
            "1086.6666563843203\n"
          ]
        }
      ]
    },
    {
      "cell_type": "markdown",
      "source": [
        "**log transform**"
      ],
      "metadata": {
        "id": "VUHi6u7wDnRm"
      }
    },
    {
      "cell_type": "code",
      "source": [
        "df['logram'] = np.log(df['ram'])\n",
        "pop_mean=df[\"logram\"].mean()\n",
        "\n",
        "pop_mode=df[\"logram\"].mode()\n",
        "\n",
        "pop_median=df[\"logram\"].median()\n",
        "pop_std=df[\"logram\"].std()\n",
        "print(pop_median)\n",
        "\n",
        "print(pop_mean)\n",
        "\n",
        "print(pop_mode)\n",
        "print(pop_std)"
      ],
      "metadata": {
        "colab": {
          "base_uri": "https://localhost:8080/"
        },
        "id": "iHrK2KnCDL3t",
        "outputId": "3360d04a-d49f-4c92-c5b4-82fad7ec5fcc"
      },
      "execution_count": 22,
      "outputs": [
        {
          "output_type": "stream",
          "name": "stdout",
          "text": [
            "7.684323961889607\n",
            "7.483044015342459\n",
            "0    7.288928\n",
            "1    7.708411\n",
            "2    7.867106\n",
            "dtype: float64\n",
            "0.6746951390236208\n"
          ]
        }
      ]
    },
    {
      "cell_type": "markdown",
      "source": [
        "**QUESTION 1**: null hypothesis: Mean of the ram among cellphones in higher price ranges is equal to population mean.\n",
        "H1 : Mean of ram among cellphones in higher price ranges is not equal to population mean\n",
        "\n",
        "\n",
        "\n",
        "\n"
      ],
      "metadata": {
        "id": "yAgzCaoaAihj"
      }
    },
    {
      "cell_type": "code",
      "source": [
        "price_range_three=df.loc[df['price_range'] == 3.0]\n",
        "price_range_three=price_range_three[['logram']]\n",
        "price_range_three_mean_of_ram=price_range_three.mean()\n",
        "price_range_three_mean_of_ram"
      ],
      "metadata": {
        "colab": {
          "base_uri": "https://localhost:8080/"
        },
        "id": "WzNjxGO9G3WT",
        "outputId": "055b29fa-ed65-4a96-f1e9-607b37bc692f"
      },
      "execution_count": 23,
      "outputs": [
        {
          "output_type": "execute_result",
          "data": {
            "text/plain": [
              "logram    8.138543\n",
              "dtype: float64"
            ]
          },
          "metadata": {},
          "execution_count": 23
        }
      ]
    },
    {
      "cell_type": "code",
      "source": [
        "import scipy as sp\n",
        "from scipy import stats\n",
        "_ , p=sp.stats.ttest_1samp(df[\"logram\"],  8.138543, axis=0, nan_policy='propagate')\n",
        "print(f\"p-value is {p}\")"
      ],
      "metadata": {
        "colab": {
          "base_uri": "https://localhost:8080/"
        },
        "id": "XVK4XAzND23H",
        "outputId": "d9dd5c6d-d231-4b8e-d775-d65b2eb1b103"
      },
      "execution_count": 24,
      "outputs": [
        {
          "output_type": "stream",
          "name": "stdout",
          "text": [
            "p-value is 2.361136521083648e-262\n"
          ]
        }
      ]
    },
    {
      "cell_type": "markdown",
      "source": [
        "**T test shows p-value<0.05 and it rejects our null hypothesis so H1 is true.**"
      ],
      "metadata": {
        "id": "W1dYnaOORY-v"
      }
    },
    {
      "cell_type": "markdown",
      "source": [
        "**QUESTION 2:chi-2**\n",
        "\n",
        "null hypothesis:there is no relation between dual-sim and four g .'\\\n",
        "H1             :there is a relation between dual-sim and four g. "
      ],
      "metadata": {
        "id": "-xuqNzvJUFew"
      }
    },
    {
      "cell_type": "code",
      "source": [
        "df['four_g'].std() \n"
      ],
      "metadata": {
        "colab": {
          "base_uri": "https://localhost:8080/"
        },
        "id": "CM5x_wPTfaXv",
        "outputId": "9f16a5c5-3c95-4aa7-84fa-740ef2c5efdf"
      },
      "execution_count": 25,
      "outputs": [
        {
          "output_type": "execute_result",
          "data": {
            "text/plain": [
              "0.4995420657986503"
            ]
          },
          "metadata": {},
          "execution_count": 25
        }
      ]
    },
    {
      "cell_type": "code",
      "source": [
        "df['dual_sim_normalized']=df['dual_sim']-df['dual_sim'].mean()/df['dual_sim'].std()\n",
        "df['four_g_normalized']=df['four_g']-df['four_g'].mean()/df['four_g'].std()"
      ],
      "metadata": {
        "id": "ZYpmLM1mgHlN"
      },
      "execution_count": 26,
      "outputs": []
    },
    {
      "cell_type": "code",
      "source": [
        "data_crosstab = pd.crosstab(df['dual_sim_normalized'], df['four_g_normalized'], margins = False)                          \n",
        "#contingency table                                                           \n",
        "print(data_crosstab)"
      ],
      "metadata": {
        "colab": {
          "base_uri": "https://localhost:8080/"
        },
        "id": "BQwhTGVXUEM5",
        "outputId": "214bd40e-d03c-4881-d00a-e5f385877117"
      },
      "execution_count": 27,
      "outputs": [
        {
          "output_type": "stream",
          "name": "stdout",
          "text": [
            "four_g_normalized    -1.049796  -0.049796\n",
            "dual_sim_normalized                      \n",
            "-1.00752                   421        473\n",
            "-0.00752                   436        472\n"
          ]
        }
      ]
    },
    {
      "cell_type": "code",
      "source": [
        "from scipy.stats import chi2_contingency\n",
        "\n",
        "# Get chi-square value , p-value, degrees of freedom, expected frequencies using the function chi2_contingency\n",
        "stat, p, dof, expected = chi2_contingency(data_crosstab)\n",
        "# select significance value\n",
        "alpha = 0.05\n",
        "# Determine whether to reject or keep your null hypothesis\n",
        "print('significance=%.3f, p=%.3f' % (alpha, p))\n",
        "if p <= alpha:\n",
        "    print('Variables are associated (reject H0)')\n",
        "else:\n",
        "    print('Variables are not associated(fail to reject H0)')"
      ],
      "metadata": {
        "colab": {
          "base_uri": "https://localhost:8080/"
        },
        "id": "086_KFfpWA5-",
        "outputId": "7f9c3f6b-38b8-4113-f9c3-fafd17c43708"
      },
      "execution_count": 28,
      "outputs": [
        {
          "output_type": "stream",
          "name": "stdout",
          "text": [
            "significance=0.050, p=0.729\n",
            "Variables are not associated(fail to reject H0)\n"
          ]
        }
      ]
    },
    {
      "cell_type": "markdown",
      "source": [
        "in conclusion since pvalue is more than 0.5, hypothesis 0(null hypothesis) is correct and there is no relation between two features."
      ],
      "metadata": {
        "id": "y_oTe_-7gtyE"
      }
    },
    {
      "cell_type": "markdown",
      "source": [
        "**QUESTION 3:pearson test**\n",
        "Is there any relation between internal memory and battery power   "
      ],
      "metadata": {
        "id": "OJDML6ALhWwn"
      }
    },
    {
      "cell_type": "code",
      "source": [
        "pop_mean=df[\"int_memory\"].mean()\n",
        "\n",
        "pop_mode=df[\"int_memory\"].mode()\n",
        "\n",
        "pop_median=df[\"int_memory\"].median()\n",
        "pop_std=df[\"int_memory\"].std()\n",
        "print(pop_median)\n",
        "\n",
        "print(pop_mean)\n",
        "\n",
        "print(pop_mode)\n",
        "print(pop_std)"
      ],
      "metadata": {
        "colab": {
          "base_uri": "https://localhost:8080/"
        },
        "id": "5_L6iYudndNo",
        "outputId": "aceae43f-1276-4518-ace3-924b0adcdb1a"
      },
      "execution_count": 29,
      "outputs": [
        {
          "output_type": "stream",
          "name": "stdout",
          "text": [
            "32.0\n",
            "32.165926748057714\n",
            "0    27.0\n",
            "dtype: float64\n",
            "18.089655611582504\n"
          ]
        }
      ]
    },
    {
      "cell_type": "code",
      "source": [
        "df['logmemory'] = np.log(df['int_memory'])\n",
        "df['logbattery'] = np.log(df['battery_power'])"
      ],
      "metadata": {
        "id": "UDiFUSe5pEj0"
      },
      "execution_count": 30,
      "outputs": []
    },
    {
      "cell_type": "code",
      "source": [
        "from scipy.stats.stats import pearsonr\n",
        "x=df[\"logmemory\"].to_numpy()\n",
        "\n",
        "y=df[\"logbattery\"].to_numpy()\n",
        "\n",
        "sp.stats.pearsonr(x, y)"
      ],
      "metadata": {
        "colab": {
          "base_uri": "https://localhost:8080/"
        },
        "id": "cxN4ZMMvhQKi",
        "outputId": "3603a777-a94e-424e-d995-efa60657bf38"
      },
      "execution_count": 31,
      "outputs": [
        {
          "output_type": "execute_result",
          "data": {
            "text/plain": [
              "(0.00041605522582533806, 0.9859186449511311)"
            ]
          },
          "metadata": {},
          "execution_count": 31
        }
      ]
    },
    {
      "cell_type": "markdown",
      "source": [
        "Pearson’s correlation coefficient is 0.0.00041605522582533806, so no correlation is observed."
      ],
      "metadata": {
        "id": "f40Dw_2Jpf1L"
      }
    },
    {
      "cell_type": "markdown",
      "source": [
        "**QUESTION 4**: null hypothesis: Mean of the talk time among cellphones in higher price ranges is equal to population mean.\n",
        "H1 : Mean of talk time among cellphones in higher price ranges is not equal to population mean"
      ],
      "metadata": {
        "id": "X46IDb5Fs7Rd"
      }
    },
    {
      "cell_type": "code",
      "source": [
        "pop_mean=df[\"talk_time\"].mean()\n",
        "\n",
        "pop_mode=df[\"talk_time\"].mode()\n",
        "\n",
        "pop_median=df[\"talk_time\"].median()\n",
        "pop_std=df[\"talk_time\"].std()\n",
        "print(pop_median)\n",
        "\n",
        "print(pop_mean)\n",
        "\n",
        "print(pop_mode)\n",
        "print(pop_std)"
      ],
      "metadata": {
        "colab": {
          "base_uri": "https://localhost:8080/"
        },
        "id": "0FTKIKugtwTd",
        "outputId": "b3958eeb-ae33-4a73-d1a4-5b7b56cd8d44"
      },
      "execution_count": 32,
      "outputs": [
        {
          "output_type": "stream",
          "name": "stdout",
          "text": [
            "11.0\n",
            "11.003884572697004\n",
            "0    7.0\n",
            "dtype: float64\n",
            "5.448408924130782\n"
          ]
        }
      ]
    },
    {
      "cell_type": "code",
      "source": [
        "df['logtalk_time'] = np.log(df['talk_time'])\n"
      ],
      "metadata": {
        "id": "8JDIxmxZuLjF"
      },
      "execution_count": 33,
      "outputs": []
    },
    {
      "cell_type": "code",
      "source": [
        "pop_mean=df[\"logtalk_time\"].mean()\n",
        "\n",
        "pop_mode=df[\"logtalk_time\"].mode()\n",
        "\n",
        "pop_median=df[\"logtalk_time\"].median()\n",
        "pop_std=df[\"logtalk_time\"].std()\n",
        "print(pop_median)\n",
        "\n",
        "print(pop_mean)\n",
        "\n",
        "print(pop_mode)\n",
        "print(pop_std)"
      ],
      "metadata": {
        "colab": {
          "base_uri": "https://localhost:8080/"
        },
        "id": "wyTQbtomuLtx",
        "outputId": "23c52c76-b6f3-4a7c-ac35-cdd54ce1521e"
      },
      "execution_count": 34,
      "outputs": [
        {
          "output_type": "stream",
          "name": "stdout",
          "text": [
            "2.3978952727983707\n",
            "2.2329900414628296\n",
            "0    1.94591\n",
            "dtype: float64\n",
            "0.631219477449356\n"
          ]
        }
      ]
    },
    {
      "cell_type": "code",
      "source": [
        "price_range_three=df.loc[df['price_range'] == 3.0]\n",
        "price_range_three=price_range_three[['logtalk_time']]\n",
        "price_range_three_mean_of_talk=price_range_three.mean()\n",
        "price_range_three_mean_of_talk"
      ],
      "metadata": {
        "colab": {
          "base_uri": "https://localhost:8080/"
        },
        "id": "9RIKJ_aKue9h",
        "outputId": "5c0e9c4c-8f1a-4bdd-b832-fd89f0231841"
      },
      "execution_count": 35,
      "outputs": [
        {
          "output_type": "execute_result",
          "data": {
            "text/plain": [
              "logtalk_time    2.240587\n",
              "dtype: float64"
            ]
          },
          "metadata": {},
          "execution_count": 35
        }
      ]
    },
    {
      "cell_type": "code",
      "source": [
        "_, p=sp.stats.ttest_1samp(df[\"logtalk_time\"],  2.240587, axis=0, nan_policy='propagate')\n",
        "print(f\"p-value is {p}\")"
      ],
      "metadata": {
        "colab": {
          "base_uri": "https://localhost:8080/"
        },
        "id": "12KZp4e6u0p8",
        "outputId": "536f2e31-ab99-421f-ea85-23ae1cd5e3b4"
      },
      "execution_count": 36,
      "outputs": [
        {
          "output_type": "stream",
          "name": "stdout",
          "text": [
            "p-value is 0.6094829957490455\n"
          ]
        }
      ]
    },
    {
      "cell_type": "markdown",
      "source": [
        "T test shows p-value>0.05 and it acceptes our null hypothesis so H0 is true."
      ],
      "metadata": {
        "id": "zxcQM_uovVrT"
      }
    },
    {
      "cell_type": "markdown",
      "source": [
        "**QUESTION 5**: null hypothesis: Mean of the number of cores among cellphones in higher price ranges is equal to population mean. H1 : Mean of number of cores among cellphones in higher price ranges is not equal to population mean"
      ],
      "metadata": {
        "id": "kWpj4bsEvgAB"
      }
    },
    {
      "cell_type": "code",
      "source": [
        "pop_mean=df[\"n_cores\"].mean()\n",
        "\n",
        "pop_mode=df[\"n_cores\"].mode()\n",
        "\n",
        "pop_median=df[\"n_cores\"].median()\n",
        "pop_std=df[\"n_cores\"].std()\n",
        "print(pop_median)\n",
        "\n",
        "print(pop_mean)\n",
        "\n",
        "print(pop_mode)\n",
        "print(pop_std)"
      ],
      "metadata": {
        "colab": {
          "base_uri": "https://localhost:8080/"
        },
        "outputId": "dfaa89f8-c29e-43d7-bd77-f0bd2a47558a",
        "id": "xH-BO_d-vtaR"
      },
      "execution_count": 37,
      "outputs": [
        {
          "output_type": "stream",
          "name": "stdout",
          "text": [
            "5.0\n",
            "4.5421753607103215\n",
            "0    4.0\n",
            "dtype: float64\n",
            "2.292746773924802\n"
          ]
        }
      ]
    },
    {
      "cell_type": "code",
      "source": [
        "df[\"logn_cores\"] = np.log(df[\"n_cores\"])"
      ],
      "metadata": {
        "id": "7HYaZRpYvunR"
      },
      "execution_count": 38,
      "outputs": []
    },
    {
      "cell_type": "code",
      "source": [
        "pop_mean=df[\"logn_cores\"].mean()\n",
        "\n",
        "pop_mode=df[\"logn_cores\"].mode()\n",
        "\n",
        "pop_median=df[\"logn_cores\"].median()\n",
        "pop_std=df[\"logn_cores\"].std()\n",
        "print(pop_median)\n",
        "\n",
        "print(pop_mean)\n",
        "\n",
        "print(pop_mode)\n",
        "print(pop_std)"
      ],
      "metadata": {
        "colab": {
          "base_uri": "https://localhost:8080/"
        },
        "outputId": "bd246776-d81a-43c7-9fbf-8a798e3a8fd0",
        "id": "oC91XjtTv0ZG"
      },
      "execution_count": 39,
      "outputs": [
        {
          "output_type": "stream",
          "name": "stdout",
          "text": [
            "1.6094379124341003\n",
            "1.3374745640851238\n",
            "0    1.386294\n",
            "dtype: float64\n",
            "0.6542457407576747\n"
          ]
        }
      ]
    },
    {
      "cell_type": "code",
      "source": [
        "price_range_three=df.loc[df['price_range'] == 3.0]\n",
        "price_range_three=price_range_three[['logn_cores']]\n",
        "price_range_three_mean_of_cores=price_range_three.mean()\n",
        "price_range_three_mean_of_cores"
      ],
      "metadata": {
        "colab": {
          "base_uri": "https://localhost:8080/"
        },
        "outputId": "dad6140d-1bfb-440c-cee6-369adbfc949b",
        "id": "qdXs3j7ov6dU"
      },
      "execution_count": 40,
      "outputs": [
        {
          "output_type": "execute_result",
          "data": {
            "text/plain": [
              "logn_cores    1.320555\n",
              "dtype: float64"
            ]
          },
          "metadata": {},
          "execution_count": 40
        }
      ]
    },
    {
      "cell_type": "code",
      "source": [
        "_, p=sp.stats.ttest_1samp(df[\"logn_cores\"],   1.320555, axis=0, nan_policy='propagate')\n",
        "print(f\"p-value is {p}\")"
      ],
      "metadata": {
        "colab": {
          "base_uri": "https://localhost:8080/"
        },
        "outputId": "0bd825de-dc4d-4c2c-cc66-b585b3367f82",
        "id": "N44htCUMv9D-"
      },
      "execution_count": 41,
      "outputs": [
        {
          "output_type": "stream",
          "name": "stdout",
          "text": [
            "p-value is 0.27243589344978975\n"
          ]
        }
      ]
    },
    {
      "cell_type": "markdown",
      "source": [
        "T test shows p-value>0.05 and it acceptes our null hypothesis so H0 is true."
      ],
      "metadata": {
        "id": "JfVIXKd5wXkb"
      }
    },
    {
      "cell_type": "markdown",
      "source": [
        "-----------------------------------------**Task 4 and Task 5**-----------------------------------------"
      ],
      "metadata": {
        "id": "-iyP9MDCpww3"
      }
    },
    {
      "cell_type": "code",
      "source": [
        "df"
      ],
      "metadata": {
        "colab": {
          "base_uri": "https://localhost:8080/",
          "height": 487
        },
        "id": "DKO97Nnx11fP",
        "outputId": "7ed13c37-540d-47ef-9230-0ae9933dbe75"
      },
      "execution_count": 42,
      "outputs": [
        {
          "output_type": "execute_result",
          "data": {
            "text/plain": [
              "      battery_power  blue  clock_speed  dual_sim    fc  four_g  int_memory  \\\n",
              "0             842.0   0.0          2.2       0.0   1.0     0.0         7.0   \n",
              "1            1021.0   1.0          0.5       1.0   0.0     1.0        53.0   \n",
              "2             563.0   1.0          0.5       1.0   2.0     1.0        41.0   \n",
              "3             615.0   1.0          2.5       0.0   0.0     0.0        10.0   \n",
              "4            1821.0   1.0          1.2       0.0  13.0     1.0        44.0   \n",
              "...             ...   ...          ...       ...   ...     ...         ...   \n",
              "1995          794.0   1.0          0.5       1.0   0.0     1.0         2.0   \n",
              "1996         1965.0   1.0          2.6       1.0   0.0     0.0        39.0   \n",
              "1997         1911.0   0.0          0.9       1.0   1.0     1.0        36.0   \n",
              "1998         1512.0   0.0          0.9       0.0   4.0     1.0        46.0   \n",
              "1999          510.0   1.0          2.0       1.0   5.0     1.0        45.0   \n",
              "\n",
              "      m_dep  mobile_wt  n_cores    pc  px_height  px_width     ram  sc_h  \\\n",
              "0       0.6      188.0      2.0   2.0       20.0     756.0  2549.0   9.0   \n",
              "1       0.7      136.0      3.0   6.0      905.0    1988.0  2631.0  17.0   \n",
              "2       0.9      145.0      5.0   6.0     1263.0    1716.0  2603.0  11.0   \n",
              "3       0.8      131.0      6.0   9.0     1216.0    1786.0  2769.0  16.0   \n",
              "4       0.6      141.0      2.0  14.0     1208.0    1212.0  1411.0   8.0   \n",
              "...     ...        ...      ...   ...        ...       ...     ...   ...   \n",
              "1995    0.8      106.0      6.0  14.0     1222.0    1890.0   668.0  13.0   \n",
              "1996    0.2      187.0      4.0   3.0      915.0    1965.0  2032.0  11.0   \n",
              "1997    0.7      108.0      8.0   3.0      868.0    1632.0  3057.0   9.0   \n",
              "1998    0.1      145.0      5.0   5.0      336.0     670.0   869.0  18.0   \n",
              "1999    0.9      168.0      6.0  16.0      483.0     754.0  3919.0  19.0   \n",
              "\n",
              "      sc_w  talk_time  three_g  touch_screen  wifi  price_range    logram  \\\n",
              "0      7.0       19.0      0.0           0.0   1.0          1.0  7.843456   \n",
              "1      3.0        7.0      1.0           1.0   0.0          2.0  7.875119   \n",
              "2      2.0        9.0      1.0           1.0   0.0          2.0  7.864420   \n",
              "3      8.0       11.0      1.0           0.0   0.0          2.0  7.926242   \n",
              "4      2.0       15.0      1.0           1.0   0.0          1.0  7.252054   \n",
              "...    ...        ...      ...           ...   ...          ...       ...   \n",
              "1995   4.0       19.0      1.0           1.0   0.0          0.0  6.504288   \n",
              "1996  10.0       16.0      1.0           1.0   1.0          2.0  7.616776   \n",
              "1997   1.0        5.0      1.0           1.0   0.0          3.0  8.025189   \n",
              "1998  10.0       19.0      1.0           1.0   1.0          0.0  6.767343   \n",
              "1999   4.0        2.0      1.0           1.0   1.0          3.0  8.273592   \n",
              "\n",
              "      dual_sim_normalized  four_g_normalized  logmemory  logbattery  \\\n",
              "0                -1.00752          -1.049796   1.945910    6.735780   \n",
              "1                -0.00752          -0.049796   3.970292    6.928538   \n",
              "2                -0.00752          -0.049796   3.713572    6.333280   \n",
              "3                -1.00752          -1.049796   2.302585    6.421622   \n",
              "4                -1.00752          -0.049796   3.784190    7.507141   \n",
              "...                   ...                ...        ...         ...   \n",
              "1995             -0.00752          -0.049796   0.693147    6.677083   \n",
              "1996             -0.00752          -1.049796   3.663562    7.583248   \n",
              "1997             -0.00752          -0.049796   3.583519    7.555382   \n",
              "1998             -1.00752          -0.049796   3.828641    7.321189   \n",
              "1999             -0.00752          -0.049796   3.806662    6.234411   \n",
              "\n",
              "      logtalk_time  logn_cores  \n",
              "0         2.944439    0.693147  \n",
              "1         1.945910    1.098612  \n",
              "2         2.197225    1.609438  \n",
              "3         2.397895    1.791759  \n",
              "4         2.708050    0.693147  \n",
              "...            ...         ...  \n",
              "1995      2.944439    1.791759  \n",
              "1996      2.772589    1.386294  \n",
              "1997      1.609438    2.079442  \n",
              "1998      2.944439    1.609438  \n",
              "1999      0.693147    1.791759  \n",
              "\n",
              "[1802 rows x 28 columns]"
            ],
            "text/html": [
              "\n",
              "  <div id=\"df-e088ee60-d545-4bc7-a9b6-93ba3d195629\">\n",
              "    <div class=\"colab-df-container\">\n",
              "      <div>\n",
              "<style scoped>\n",
              "    .dataframe tbody tr th:only-of-type {\n",
              "        vertical-align: middle;\n",
              "    }\n",
              "\n",
              "    .dataframe tbody tr th {\n",
              "        vertical-align: top;\n",
              "    }\n",
              "\n",
              "    .dataframe thead th {\n",
              "        text-align: right;\n",
              "    }\n",
              "</style>\n",
              "<table border=\"1\" class=\"dataframe\">\n",
              "  <thead>\n",
              "    <tr style=\"text-align: right;\">\n",
              "      <th></th>\n",
              "      <th>battery_power</th>\n",
              "      <th>blue</th>\n",
              "      <th>clock_speed</th>\n",
              "      <th>dual_sim</th>\n",
              "      <th>fc</th>\n",
              "      <th>four_g</th>\n",
              "      <th>int_memory</th>\n",
              "      <th>m_dep</th>\n",
              "      <th>mobile_wt</th>\n",
              "      <th>n_cores</th>\n",
              "      <th>pc</th>\n",
              "      <th>px_height</th>\n",
              "      <th>px_width</th>\n",
              "      <th>ram</th>\n",
              "      <th>sc_h</th>\n",
              "      <th>sc_w</th>\n",
              "      <th>talk_time</th>\n",
              "      <th>three_g</th>\n",
              "      <th>touch_screen</th>\n",
              "      <th>wifi</th>\n",
              "      <th>price_range</th>\n",
              "      <th>logram</th>\n",
              "      <th>dual_sim_normalized</th>\n",
              "      <th>four_g_normalized</th>\n",
              "      <th>logmemory</th>\n",
              "      <th>logbattery</th>\n",
              "      <th>logtalk_time</th>\n",
              "      <th>logn_cores</th>\n",
              "    </tr>\n",
              "  </thead>\n",
              "  <tbody>\n",
              "    <tr>\n",
              "      <th>0</th>\n",
              "      <td>842.0</td>\n",
              "      <td>0.0</td>\n",
              "      <td>2.2</td>\n",
              "      <td>0.0</td>\n",
              "      <td>1.0</td>\n",
              "      <td>0.0</td>\n",
              "      <td>7.0</td>\n",
              "      <td>0.6</td>\n",
              "      <td>188.0</td>\n",
              "      <td>2.0</td>\n",
              "      <td>2.0</td>\n",
              "      <td>20.0</td>\n",
              "      <td>756.0</td>\n",
              "      <td>2549.0</td>\n",
              "      <td>9.0</td>\n",
              "      <td>7.0</td>\n",
              "      <td>19.0</td>\n",
              "      <td>0.0</td>\n",
              "      <td>0.0</td>\n",
              "      <td>1.0</td>\n",
              "      <td>1.0</td>\n",
              "      <td>7.843456</td>\n",
              "      <td>-1.00752</td>\n",
              "      <td>-1.049796</td>\n",
              "      <td>1.945910</td>\n",
              "      <td>6.735780</td>\n",
              "      <td>2.944439</td>\n",
              "      <td>0.693147</td>\n",
              "    </tr>\n",
              "    <tr>\n",
              "      <th>1</th>\n",
              "      <td>1021.0</td>\n",
              "      <td>1.0</td>\n",
              "      <td>0.5</td>\n",
              "      <td>1.0</td>\n",
              "      <td>0.0</td>\n",
              "      <td>1.0</td>\n",
              "      <td>53.0</td>\n",
              "      <td>0.7</td>\n",
              "      <td>136.0</td>\n",
              "      <td>3.0</td>\n",
              "      <td>6.0</td>\n",
              "      <td>905.0</td>\n",
              "      <td>1988.0</td>\n",
              "      <td>2631.0</td>\n",
              "      <td>17.0</td>\n",
              "      <td>3.0</td>\n",
              "      <td>7.0</td>\n",
              "      <td>1.0</td>\n",
              "      <td>1.0</td>\n",
              "      <td>0.0</td>\n",
              "      <td>2.0</td>\n",
              "      <td>7.875119</td>\n",
              "      <td>-0.00752</td>\n",
              "      <td>-0.049796</td>\n",
              "      <td>3.970292</td>\n",
              "      <td>6.928538</td>\n",
              "      <td>1.945910</td>\n",
              "      <td>1.098612</td>\n",
              "    </tr>\n",
              "    <tr>\n",
              "      <th>2</th>\n",
              "      <td>563.0</td>\n",
              "      <td>1.0</td>\n",
              "      <td>0.5</td>\n",
              "      <td>1.0</td>\n",
              "      <td>2.0</td>\n",
              "      <td>1.0</td>\n",
              "      <td>41.0</td>\n",
              "      <td>0.9</td>\n",
              "      <td>145.0</td>\n",
              "      <td>5.0</td>\n",
              "      <td>6.0</td>\n",
              "      <td>1263.0</td>\n",
              "      <td>1716.0</td>\n",
              "      <td>2603.0</td>\n",
              "      <td>11.0</td>\n",
              "      <td>2.0</td>\n",
              "      <td>9.0</td>\n",
              "      <td>1.0</td>\n",
              "      <td>1.0</td>\n",
              "      <td>0.0</td>\n",
              "      <td>2.0</td>\n",
              "      <td>7.864420</td>\n",
              "      <td>-0.00752</td>\n",
              "      <td>-0.049796</td>\n",
              "      <td>3.713572</td>\n",
              "      <td>6.333280</td>\n",
              "      <td>2.197225</td>\n",
              "      <td>1.609438</td>\n",
              "    </tr>\n",
              "    <tr>\n",
              "      <th>3</th>\n",
              "      <td>615.0</td>\n",
              "      <td>1.0</td>\n",
              "      <td>2.5</td>\n",
              "      <td>0.0</td>\n",
              "      <td>0.0</td>\n",
              "      <td>0.0</td>\n",
              "      <td>10.0</td>\n",
              "      <td>0.8</td>\n",
              "      <td>131.0</td>\n",
              "      <td>6.0</td>\n",
              "      <td>9.0</td>\n",
              "      <td>1216.0</td>\n",
              "      <td>1786.0</td>\n",
              "      <td>2769.0</td>\n",
              "      <td>16.0</td>\n",
              "      <td>8.0</td>\n",
              "      <td>11.0</td>\n",
              "      <td>1.0</td>\n",
              "      <td>0.0</td>\n",
              "      <td>0.0</td>\n",
              "      <td>2.0</td>\n",
              "      <td>7.926242</td>\n",
              "      <td>-1.00752</td>\n",
              "      <td>-1.049796</td>\n",
              "      <td>2.302585</td>\n",
              "      <td>6.421622</td>\n",
              "      <td>2.397895</td>\n",
              "      <td>1.791759</td>\n",
              "    </tr>\n",
              "    <tr>\n",
              "      <th>4</th>\n",
              "      <td>1821.0</td>\n",
              "      <td>1.0</td>\n",
              "      <td>1.2</td>\n",
              "      <td>0.0</td>\n",
              "      <td>13.0</td>\n",
              "      <td>1.0</td>\n",
              "      <td>44.0</td>\n",
              "      <td>0.6</td>\n",
              "      <td>141.0</td>\n",
              "      <td>2.0</td>\n",
              "      <td>14.0</td>\n",
              "      <td>1208.0</td>\n",
              "      <td>1212.0</td>\n",
              "      <td>1411.0</td>\n",
              "      <td>8.0</td>\n",
              "      <td>2.0</td>\n",
              "      <td>15.0</td>\n",
              "      <td>1.0</td>\n",
              "      <td>1.0</td>\n",
              "      <td>0.0</td>\n",
              "      <td>1.0</td>\n",
              "      <td>7.252054</td>\n",
              "      <td>-1.00752</td>\n",
              "      <td>-0.049796</td>\n",
              "      <td>3.784190</td>\n",
              "      <td>7.507141</td>\n",
              "      <td>2.708050</td>\n",
              "      <td>0.693147</td>\n",
              "    </tr>\n",
              "    <tr>\n",
              "      <th>...</th>\n",
              "      <td>...</td>\n",
              "      <td>...</td>\n",
              "      <td>...</td>\n",
              "      <td>...</td>\n",
              "      <td>...</td>\n",
              "      <td>...</td>\n",
              "      <td>...</td>\n",
              "      <td>...</td>\n",
              "      <td>...</td>\n",
              "      <td>...</td>\n",
              "      <td>...</td>\n",
              "      <td>...</td>\n",
              "      <td>...</td>\n",
              "      <td>...</td>\n",
              "      <td>...</td>\n",
              "      <td>...</td>\n",
              "      <td>...</td>\n",
              "      <td>...</td>\n",
              "      <td>...</td>\n",
              "      <td>...</td>\n",
              "      <td>...</td>\n",
              "      <td>...</td>\n",
              "      <td>...</td>\n",
              "      <td>...</td>\n",
              "      <td>...</td>\n",
              "      <td>...</td>\n",
              "      <td>...</td>\n",
              "      <td>...</td>\n",
              "    </tr>\n",
              "    <tr>\n",
              "      <th>1995</th>\n",
              "      <td>794.0</td>\n",
              "      <td>1.0</td>\n",
              "      <td>0.5</td>\n",
              "      <td>1.0</td>\n",
              "      <td>0.0</td>\n",
              "      <td>1.0</td>\n",
              "      <td>2.0</td>\n",
              "      <td>0.8</td>\n",
              "      <td>106.0</td>\n",
              "      <td>6.0</td>\n",
              "      <td>14.0</td>\n",
              "      <td>1222.0</td>\n",
              "      <td>1890.0</td>\n",
              "      <td>668.0</td>\n",
              "      <td>13.0</td>\n",
              "      <td>4.0</td>\n",
              "      <td>19.0</td>\n",
              "      <td>1.0</td>\n",
              "      <td>1.0</td>\n",
              "      <td>0.0</td>\n",
              "      <td>0.0</td>\n",
              "      <td>6.504288</td>\n",
              "      <td>-0.00752</td>\n",
              "      <td>-0.049796</td>\n",
              "      <td>0.693147</td>\n",
              "      <td>6.677083</td>\n",
              "      <td>2.944439</td>\n",
              "      <td>1.791759</td>\n",
              "    </tr>\n",
              "    <tr>\n",
              "      <th>1996</th>\n",
              "      <td>1965.0</td>\n",
              "      <td>1.0</td>\n",
              "      <td>2.6</td>\n",
              "      <td>1.0</td>\n",
              "      <td>0.0</td>\n",
              "      <td>0.0</td>\n",
              "      <td>39.0</td>\n",
              "      <td>0.2</td>\n",
              "      <td>187.0</td>\n",
              "      <td>4.0</td>\n",
              "      <td>3.0</td>\n",
              "      <td>915.0</td>\n",
              "      <td>1965.0</td>\n",
              "      <td>2032.0</td>\n",
              "      <td>11.0</td>\n",
              "      <td>10.0</td>\n",
              "      <td>16.0</td>\n",
              "      <td>1.0</td>\n",
              "      <td>1.0</td>\n",
              "      <td>1.0</td>\n",
              "      <td>2.0</td>\n",
              "      <td>7.616776</td>\n",
              "      <td>-0.00752</td>\n",
              "      <td>-1.049796</td>\n",
              "      <td>3.663562</td>\n",
              "      <td>7.583248</td>\n",
              "      <td>2.772589</td>\n",
              "      <td>1.386294</td>\n",
              "    </tr>\n",
              "    <tr>\n",
              "      <th>1997</th>\n",
              "      <td>1911.0</td>\n",
              "      <td>0.0</td>\n",
              "      <td>0.9</td>\n",
              "      <td>1.0</td>\n",
              "      <td>1.0</td>\n",
              "      <td>1.0</td>\n",
              "      <td>36.0</td>\n",
              "      <td>0.7</td>\n",
              "      <td>108.0</td>\n",
              "      <td>8.0</td>\n",
              "      <td>3.0</td>\n",
              "      <td>868.0</td>\n",
              "      <td>1632.0</td>\n",
              "      <td>3057.0</td>\n",
              "      <td>9.0</td>\n",
              "      <td>1.0</td>\n",
              "      <td>5.0</td>\n",
              "      <td>1.0</td>\n",
              "      <td>1.0</td>\n",
              "      <td>0.0</td>\n",
              "      <td>3.0</td>\n",
              "      <td>8.025189</td>\n",
              "      <td>-0.00752</td>\n",
              "      <td>-0.049796</td>\n",
              "      <td>3.583519</td>\n",
              "      <td>7.555382</td>\n",
              "      <td>1.609438</td>\n",
              "      <td>2.079442</td>\n",
              "    </tr>\n",
              "    <tr>\n",
              "      <th>1998</th>\n",
              "      <td>1512.0</td>\n",
              "      <td>0.0</td>\n",
              "      <td>0.9</td>\n",
              "      <td>0.0</td>\n",
              "      <td>4.0</td>\n",
              "      <td>1.0</td>\n",
              "      <td>46.0</td>\n",
              "      <td>0.1</td>\n",
              "      <td>145.0</td>\n",
              "      <td>5.0</td>\n",
              "      <td>5.0</td>\n",
              "      <td>336.0</td>\n",
              "      <td>670.0</td>\n",
              "      <td>869.0</td>\n",
              "      <td>18.0</td>\n",
              "      <td>10.0</td>\n",
              "      <td>19.0</td>\n",
              "      <td>1.0</td>\n",
              "      <td>1.0</td>\n",
              "      <td>1.0</td>\n",
              "      <td>0.0</td>\n",
              "      <td>6.767343</td>\n",
              "      <td>-1.00752</td>\n",
              "      <td>-0.049796</td>\n",
              "      <td>3.828641</td>\n",
              "      <td>7.321189</td>\n",
              "      <td>2.944439</td>\n",
              "      <td>1.609438</td>\n",
              "    </tr>\n",
              "    <tr>\n",
              "      <th>1999</th>\n",
              "      <td>510.0</td>\n",
              "      <td>1.0</td>\n",
              "      <td>2.0</td>\n",
              "      <td>1.0</td>\n",
              "      <td>5.0</td>\n",
              "      <td>1.0</td>\n",
              "      <td>45.0</td>\n",
              "      <td>0.9</td>\n",
              "      <td>168.0</td>\n",
              "      <td>6.0</td>\n",
              "      <td>16.0</td>\n",
              "      <td>483.0</td>\n",
              "      <td>754.0</td>\n",
              "      <td>3919.0</td>\n",
              "      <td>19.0</td>\n",
              "      <td>4.0</td>\n",
              "      <td>2.0</td>\n",
              "      <td>1.0</td>\n",
              "      <td>1.0</td>\n",
              "      <td>1.0</td>\n",
              "      <td>3.0</td>\n",
              "      <td>8.273592</td>\n",
              "      <td>-0.00752</td>\n",
              "      <td>-0.049796</td>\n",
              "      <td>3.806662</td>\n",
              "      <td>6.234411</td>\n",
              "      <td>0.693147</td>\n",
              "      <td>1.791759</td>\n",
              "    </tr>\n",
              "  </tbody>\n",
              "</table>\n",
              "<p>1802 rows × 28 columns</p>\n",
              "</div>\n",
              "      <button class=\"colab-df-convert\" onclick=\"convertToInteractive('df-e088ee60-d545-4bc7-a9b6-93ba3d195629')\"\n",
              "              title=\"Convert this dataframe to an interactive table.\"\n",
              "              style=\"display:none;\">\n",
              "        \n",
              "  <svg xmlns=\"http://www.w3.org/2000/svg\" height=\"24px\"viewBox=\"0 0 24 24\"\n",
              "       width=\"24px\">\n",
              "    <path d=\"M0 0h24v24H0V0z\" fill=\"none\"/>\n",
              "    <path d=\"M18.56 5.44l.94 2.06.94-2.06 2.06-.94-2.06-.94-.94-2.06-.94 2.06-2.06.94zm-11 1L8.5 8.5l.94-2.06 2.06-.94-2.06-.94L8.5 2.5l-.94 2.06-2.06.94zm10 10l.94 2.06.94-2.06 2.06-.94-2.06-.94-.94-2.06-.94 2.06-2.06.94z\"/><path d=\"M17.41 7.96l-1.37-1.37c-.4-.4-.92-.59-1.43-.59-.52 0-1.04.2-1.43.59L10.3 9.45l-7.72 7.72c-.78.78-.78 2.05 0 2.83L4 21.41c.39.39.9.59 1.41.59.51 0 1.02-.2 1.41-.59l7.78-7.78 2.81-2.81c.8-.78.8-2.07 0-2.86zM5.41 20L4 18.59l7.72-7.72 1.47 1.35L5.41 20z\"/>\n",
              "  </svg>\n",
              "      </button>\n",
              "      \n",
              "  <style>\n",
              "    .colab-df-container {\n",
              "      display:flex;\n",
              "      flex-wrap:wrap;\n",
              "      gap: 12px;\n",
              "    }\n",
              "\n",
              "    .colab-df-convert {\n",
              "      background-color: #E8F0FE;\n",
              "      border: none;\n",
              "      border-radius: 50%;\n",
              "      cursor: pointer;\n",
              "      display: none;\n",
              "      fill: #1967D2;\n",
              "      height: 32px;\n",
              "      padding: 0 0 0 0;\n",
              "      width: 32px;\n",
              "    }\n",
              "\n",
              "    .colab-df-convert:hover {\n",
              "      background-color: #E2EBFA;\n",
              "      box-shadow: 0px 1px 2px rgba(60, 64, 67, 0.3), 0px 1px 3px 1px rgba(60, 64, 67, 0.15);\n",
              "      fill: #174EA6;\n",
              "    }\n",
              "\n",
              "    [theme=dark] .colab-df-convert {\n",
              "      background-color: #3B4455;\n",
              "      fill: #D2E3FC;\n",
              "    }\n",
              "\n",
              "    [theme=dark] .colab-df-convert:hover {\n",
              "      background-color: #434B5C;\n",
              "      box-shadow: 0px 1px 3px 1px rgba(0, 0, 0, 0.15);\n",
              "      filter: drop-shadow(0px 1px 2px rgba(0, 0, 0, 0.3));\n",
              "      fill: #FFFFFF;\n",
              "    }\n",
              "  </style>\n",
              "\n",
              "      <script>\n",
              "        const buttonEl =\n",
              "          document.querySelector('#df-e088ee60-d545-4bc7-a9b6-93ba3d195629 button.colab-df-convert');\n",
              "        buttonEl.style.display =\n",
              "          google.colab.kernel.accessAllowed ? 'block' : 'none';\n",
              "\n",
              "        async function convertToInteractive(key) {\n",
              "          const element = document.querySelector('#df-e088ee60-d545-4bc7-a9b6-93ba3d195629');\n",
              "          const dataTable =\n",
              "            await google.colab.kernel.invokeFunction('convertToInteractive',\n",
              "                                                     [key], {});\n",
              "          if (!dataTable) return;\n",
              "\n",
              "          const docLinkHtml = 'Like what you see? Visit the ' +\n",
              "            '<a target=\"_blank\" href=https://colab.research.google.com/notebooks/data_table.ipynb>data table notebook</a>'\n",
              "            + ' to learn more about interactive tables.';\n",
              "          element.innerHTML = '';\n",
              "          dataTable['output_type'] = 'display_data';\n",
              "          await google.colab.output.renderOutput(dataTable, element);\n",
              "          const docLink = document.createElement('div');\n",
              "          docLink.innerHTML = docLinkHtml;\n",
              "          element.appendChild(docLink);\n",
              "        }\n",
              "      </script>\n",
              "    </div>\n",
              "  </div>\n",
              "  "
            ]
          },
          "metadata": {},
          "execution_count": 42
        }
      ]
    },
    {
      "cell_type": "code",
      "source": [
        "df.drop([\"logram\",\t\"dual_sim_normalized\",\t\"dual_sim_normalized\",\t\"logmemory\",\t\"logbattery\",\t\"logtalk_time\",\t\"logn_cores\"], axis=1,  inplace=True)"
      ],
      "metadata": {
        "id": "8TxGQpVL2CPV"
      },
      "execution_count": 43,
      "outputs": []
    },
    {
      "cell_type": "code",
      "source": [
        "df.drop([\"four_g_normalized\"], axis=1,  inplace=True)"
      ],
      "metadata": {
        "id": "r4Xn-6Gvt3Af"
      },
      "execution_count": 44,
      "outputs": []
    },
    {
      "cell_type": "code",
      "source": [
        "x = df.iloc[:,0:-1]\n",
        "y = df.iloc[:,-1]\n",
        "x.shape,y.shape"
      ],
      "metadata": {
        "colab": {
          "base_uri": "https://localhost:8080/"
        },
        "id": "lzru2zXyp0rl",
        "outputId": "3eea5fda-8f3a-412f-c57f-0ddc570afc28"
      },
      "execution_count": 45,
      "outputs": [
        {
          "output_type": "execute_result",
          "data": {
            "text/plain": [
              "((1802, 20), (1802,))"
            ]
          },
          "metadata": {},
          "execution_count": 45
        }
      ]
    },
    {
      "cell_type": "code",
      "source": [
        "from sklearn.model_selection import train_test_split as split\n",
        "x_train,x_val,y_train,y_val = split(x,y, test_size = 0.1, stratify=y)\n",
        "x_train.shape,x_val.shape,y_train.shape,y_val.shape"
      ],
      "metadata": {
        "colab": {
          "base_uri": "https://localhost:8080/"
        },
        "id": "Qd0j4BQq4XPr",
        "outputId": "86bb49fd-ff0c-490a-9006-bd5fc1a89215"
      },
      "execution_count": 46,
      "outputs": [
        {
          "output_type": "execute_result",
          "data": {
            "text/plain": [
              "((1621, 20), (181, 20), (1621,), (181,))"
            ]
          },
          "metadata": {},
          "execution_count": 46
        }
      ]
    },
    {
      "cell_type": "code",
      "source": [
        "from sklearn.neighbors import KNeighborsClassifier"
      ],
      "metadata": {
        "id": "wDwF70ihrfEr"
      },
      "execution_count": 47,
      "outputs": []
    },
    {
      "cell_type": "code",
      "source": [
        "#kmeans\n",
        "from sklearn.cluster import KMeans\n",
        "kmeans = KMeans(n_clusters=4, random_state=0, algorithm='elkan').fit(x_train)\n",
        "y_predicted = kmeans.predict(x_val)\n",
        "y_predicted"
      ],
      "metadata": {
        "id": "K_6NrakTtG_n",
        "colab": {
          "base_uri": "https://localhost:8080/"
        },
        "outputId": "1fd17ddd-06cd-4a3c-c6ad-ca27f64e1ce5"
      },
      "execution_count": 48,
      "outputs": [
        {
          "output_type": "execute_result",
          "data": {
            "text/plain": [
              "array([1, 1, 1, 2, 1, 3, 1, 3, 2, 3, 1, 1, 1, 2, 3, 0, 0, 3, 0, 2, 3, 1,\n",
              "       2, 0, 1, 3, 3, 0, 3, 0, 3, 1, 2, 0, 0, 1, 2, 0, 3, 3, 1, 3, 1, 0,\n",
              "       1, 1, 0, 2, 3, 0, 3, 1, 0, 1, 0, 2, 2, 3, 2, 0, 1, 1, 1, 2, 2, 2,\n",
              "       0, 0, 0, 0, 0, 0, 3, 1, 0, 3, 0, 3, 0, 3, 1, 3, 1, 3, 3, 0, 1, 0,\n",
              "       2, 1, 0, 0, 3, 3, 1, 2, 3, 3, 2, 3, 1, 3, 1, 0, 0, 0, 1, 0, 1, 1,\n",
              "       2, 3, 1, 3, 2, 1, 3, 1, 1, 2, 0, 2, 2, 0, 1, 3, 3, 3, 1, 2, 2, 1,\n",
              "       1, 1, 3, 3, 0, 0, 2, 0, 2, 3, 0, 1, 1, 0, 1, 1, 0, 2, 0, 3, 1, 0,\n",
              "       1, 0, 2, 2, 1, 2, 0, 1, 1, 1, 3, 1, 0, 3, 0, 1, 1, 1, 1, 0, 1, 0,\n",
              "       0, 3, 0, 1, 3], dtype=int32)"
            ]
          },
          "metadata": {},
          "execution_count": 48
        }
      ]
    },
    {
      "cell_type": "code",
      "source": [
        "from sklearn.metrics import confusion_matrix\n",
        "confusion_matrix(y_val, y_predicted)"
      ],
      "metadata": {
        "colab": {
          "base_uri": "https://localhost:8080/"
        },
        "id": "IkLVUDIEuOAv",
        "outputId": "e3f9cd99-aaf6-451c-d3f1-91819922b99c"
      },
      "execution_count": 49,
      "outputs": [
        {
          "output_type": "execute_result",
          "data": {
            "text/plain": [
              "array([[ 0, 42,  1,  2],\n",
              "       [ 0, 16, 15, 14],\n",
              "       [11,  0, 11, 23],\n",
              "       [39,  0,  3,  4]])"
            ]
          },
          "metadata": {},
          "execution_count": 49
        }
      ]
    },
    {
      "cell_type": "code",
      "source": [
        "#kmeans\n",
        "from sklearn.cluster import KMeans\n",
        "kmeans = KMeans(n_clusters=4, random_state=0, algorithm='full').fit(x_train)\n",
        "y_predicted = kmeans.predict(x_val)\n",
        "y_predicted"
      ],
      "metadata": {
        "colab": {
          "base_uri": "https://localhost:8080/"
        },
        "id": "2Rg0-EHf4o3k",
        "outputId": "991caebc-6118-4fc0-aca3-a4c76c7096d9"
      },
      "execution_count": 50,
      "outputs": [
        {
          "output_type": "execute_result",
          "data": {
            "text/plain": [
              "array([1, 1, 1, 2, 1, 3, 1, 3, 2, 3, 1, 1, 1, 2, 3, 0, 0, 3, 0, 2, 3, 1,\n",
              "       2, 0, 1, 3, 3, 0, 3, 0, 3, 1, 2, 0, 0, 1, 2, 0, 3, 3, 1, 3, 1, 0,\n",
              "       1, 1, 0, 2, 3, 0, 3, 1, 0, 1, 0, 2, 2, 3, 2, 0, 1, 1, 1, 2, 2, 2,\n",
              "       0, 0, 0, 0, 0, 0, 3, 1, 0, 3, 0, 3, 0, 3, 1, 3, 1, 3, 3, 0, 1, 0,\n",
              "       2, 1, 0, 0, 3, 3, 1, 2, 3, 3, 2, 3, 1, 3, 1, 0, 0, 0, 1, 0, 1, 1,\n",
              "       2, 3, 1, 3, 2, 1, 3, 1, 1, 2, 0, 2, 2, 0, 1, 3, 3, 3, 1, 2, 2, 1,\n",
              "       1, 1, 3, 3, 0, 0, 2, 0, 2, 3, 0, 1, 1, 0, 1, 1, 0, 2, 0, 3, 1, 0,\n",
              "       1, 0, 2, 2, 1, 2, 0, 1, 1, 1, 3, 1, 0, 3, 0, 1, 1, 1, 1, 0, 1, 0,\n",
              "       0, 3, 0, 1, 3], dtype=int32)"
            ]
          },
          "metadata": {},
          "execution_count": 50
        }
      ]
    },
    {
      "cell_type": "code",
      "source": [
        "confusion_matrix(y_val, y_predicted)"
      ],
      "metadata": {
        "colab": {
          "base_uri": "https://localhost:8080/"
        },
        "id": "ScAtGrWzA4Q2",
        "outputId": "3c2648c3-1a8f-4691-ca79-2653b2cd0807"
      },
      "execution_count": 51,
      "outputs": [
        {
          "output_type": "execute_result",
          "data": {
            "text/plain": [
              "array([[ 0, 42,  1,  2],\n",
              "       [ 0, 16, 15, 14],\n",
              "       [11,  0, 11, 23],\n",
              "       [39,  0,  3,  4]])"
            ]
          },
          "metadata": {},
          "execution_count": 51
        }
      ]
    },
    {
      "cell_type": "code",
      "source": [
        "#kmeans\n",
        "from sklearn.cluster import KMeans\n",
        "kmeans = KMeans(n_clusters=4, random_state=0, algorithm='auto').fit(x_train)\n",
        "y_predicted = kmeans.predict(x_val)\n",
        "y_predicted"
      ],
      "metadata": {
        "colab": {
          "base_uri": "https://localhost:8080/"
        },
        "id": "zQufn5kq5-qD",
        "outputId": "65058dbe-40b6-4b45-ca47-e920b204a1d9"
      },
      "execution_count": 52,
      "outputs": [
        {
          "output_type": "execute_result",
          "data": {
            "text/plain": [
              "array([1, 1, 1, 2, 1, 3, 1, 3, 2, 3, 1, 1, 1, 2, 3, 0, 0, 3, 0, 2, 3, 1,\n",
              "       2, 0, 1, 3, 3, 0, 3, 0, 3, 1, 2, 0, 0, 1, 2, 0, 3, 3, 1, 3, 1, 0,\n",
              "       1, 1, 0, 2, 3, 0, 3, 1, 0, 1, 0, 2, 2, 3, 2, 0, 1, 1, 1, 2, 2, 2,\n",
              "       0, 0, 0, 0, 0, 0, 3, 1, 0, 3, 0, 3, 0, 3, 1, 3, 1, 3, 3, 0, 1, 0,\n",
              "       2, 1, 0, 0, 3, 3, 1, 2, 3, 3, 2, 3, 1, 3, 1, 0, 0, 0, 1, 0, 1, 1,\n",
              "       2, 3, 1, 3, 2, 1, 3, 1, 1, 2, 0, 2, 2, 0, 1, 3, 3, 3, 1, 2, 2, 1,\n",
              "       1, 1, 3, 3, 0, 0, 2, 0, 2, 3, 0, 1, 1, 0, 1, 1, 0, 2, 0, 3, 1, 0,\n",
              "       1, 0, 2, 2, 1, 2, 0, 1, 1, 1, 3, 1, 0, 3, 0, 1, 1, 1, 1, 0, 1, 0,\n",
              "       0, 3, 0, 1, 3], dtype=int32)"
            ]
          },
          "metadata": {},
          "execution_count": 52
        }
      ]
    },
    {
      "cell_type": "code",
      "source": [
        "confusion_matrix(y_val, y_predicted)"
      ],
      "metadata": {
        "colab": {
          "base_uri": "https://localhost:8080/"
        },
        "id": "AK8ex8dnA83L",
        "outputId": "da2776e1-9beb-44ff-fefa-df4cd7bcaa68"
      },
      "execution_count": 53,
      "outputs": [
        {
          "output_type": "execute_result",
          "data": {
            "text/plain": [
              "array([[ 0, 42,  1,  2],\n",
              "       [ 0, 16, 15, 14],\n",
              "       [11,  0, 11, 23],\n",
              "       [39,  0,  3,  4]])"
            ]
          },
          "metadata": {},
          "execution_count": 53
        }
      ]
    },
    {
      "cell_type": "code",
      "source": [
        "#decisionTree\n",
        "from sklearn.model_selection import cross_val_score\n",
        "from sklearn.tree import DecisionTreeClassifier\n",
        "clf = DecisionTreeClassifier(random_state=0, criterion='entropy', splitter='best', min_samples_split=3)\n",
        "cross_val_score(clf, x_train, y_train, cv=10)\n",
        "clf.fit(x_train, y_train)\n",
        "y_predicted = clf.predict(x_val)\n",
        "y_predicted"
      ],
      "metadata": {
        "colab": {
          "base_uri": "https://localhost:8080/"
        },
        "id": "PK09nfivu_qO",
        "outputId": "14c2e9cc-b116-4547-8291-934f03edfd68"
      },
      "execution_count": 54,
      "outputs": [
        {
          "output_type": "execute_result",
          "data": {
            "text/plain": [
              "array([0., 0., 0., 1., 0., 2., 0., 2., 3., 1., 1., 0., 1., 1., 2., 2., 2.,\n",
              "       1., 3., 1., 2., 1., 1., 2., 0., 2., 2., 3., 2., 3., 1., 0., 2., 3.,\n",
              "       2., 0., 1., 2., 1., 2., 0., 2., 0., 3., 0., 0., 3., 2., 1., 3., 2.,\n",
              "       0., 3., 0., 3., 1., 2., 0., 1., 3., 0., 0., 1., 2., 2., 2., 3., 3.,\n",
              "       3., 3., 3., 2., 2., 0., 3., 1., 3., 2., 3., 1., 0., 2., 0., 2., 2.,\n",
              "       3., 1., 3., 1., 0., 3., 2., 2., 2., 0., 1., 1., 2., 3., 2., 0., 1.,\n",
              "       0., 3., 3., 3., 1., 3., 0., 1., 1., 2., 0., 2., 1., 1., 1., 0., 1.,\n",
              "       3., 3., 0., 2., 3., 0., 2., 0., 2., 0., 3., 3., 1., 0., 0., 0., 2.,\n",
              "       3., 3., 1., 3., 1., 2., 2., 0., 0., 3., 0., 0., 3., 2., 3., 1., 0.,\n",
              "       3., 1., 2., 2., 1., 0., 1., 2., 0., 2., 0., 1., 0., 3., 2., 3., 1.,\n",
              "       0., 1., 0., 3., 0., 3., 3., 3., 3., 0., 2.])"
            ]
          },
          "metadata": {},
          "execution_count": 54
        }
      ]
    },
    {
      "cell_type": "code",
      "source": [
        "confusion_matrix(y_val, y_predicted)"
      ],
      "metadata": {
        "colab": {
          "base_uri": "https://localhost:8080/"
        },
        "id": "PHgTZreGA-mE",
        "outputId": "772f4c74-c34e-487d-e901-6bc6fce0cc48"
      },
      "execution_count": 55,
      "outputs": [
        {
          "output_type": "execute_result",
          "data": {
            "text/plain": [
              "array([[43,  2,  0,  0],\n",
              "       [ 5, 36,  4,  0],\n",
              "       [ 0,  2, 36,  7],\n",
              "       [ 0,  0,  7, 39]])"
            ]
          },
          "metadata": {},
          "execution_count": 55
        }
      ]
    },
    {
      "cell_type": "code",
      "source": [
        "#decisionTree\n",
        "from sklearn.model_selection import cross_val_score\n",
        "from sklearn.tree import DecisionTreeClassifier\n",
        "clf = DecisionTreeClassifier(random_state=0, criterion='gini', splitter='random')\n",
        "cross_val_score(clf, x_train, y_train, cv=10)\n",
        "clf.fit(x_train, y_train)\n",
        "y_predicted = clf.predict(x_val)\n",
        "y_predicted"
      ],
      "metadata": {
        "colab": {
          "base_uri": "https://localhost:8080/"
        },
        "id": "eao9zSFt7jn3",
        "outputId": "67eb4dd5-6ac9-43e5-e671-f91d3b42d16c"
      },
      "execution_count": 56,
      "outputs": [
        {
          "output_type": "execute_result",
          "data": {
            "text/plain": [
              "array([0., 0., 0., 1., 0., 2., 0., 2., 3., 1., 1., 0., 1., 2., 2., 2., 2.,\n",
              "       1., 2., 1., 3., 1., 1., 2., 1., 2., 1., 3., 3., 3., 1., 0., 2., 3.,\n",
              "       3., 1., 1., 3., 1., 2., 1., 2., 0., 2., 0., 0., 3., 2., 1., 3., 2.,\n",
              "       0., 3., 0., 3., 1., 2., 1., 1., 3., 0., 0., 0., 2., 1., 2., 3., 3.,\n",
              "       3., 3., 2., 2., 2., 0., 3., 1., 3., 2., 3., 1., 0., 1., 1., 2., 3.,\n",
              "       3., 0., 3., 2., 0., 3., 3., 2., 3., 0., 1., 1., 2., 3., 2., 0., 1.,\n",
              "       0., 3., 2., 3., 1., 3., 0., 0., 2., 2., 0., 3., 1., 1., 1., 0., 1.,\n",
              "       2., 3., 0., 2., 3., 0., 2., 1., 2., 0., 3., 2., 1., 0., 0., 0., 2.,\n",
              "       3., 3., 1., 3., 1., 2., 3., 0., 0., 3., 1., 0., 3., 2., 3., 1., 0.,\n",
              "       3., 2., 3., 2., 1., 0., 1., 3., 0., 1., 1., 1., 0., 2., 2., 3., 1.,\n",
              "       0., 1., 0., 3., 0., 3., 3., 2., 3., 0., 2.])"
            ]
          },
          "metadata": {},
          "execution_count": 56
        }
      ]
    },
    {
      "cell_type": "code",
      "source": [
        "confusion_matrix(y_val, y_predicted)"
      ],
      "metadata": {
        "colab": {
          "base_uri": "https://localhost:8080/"
        },
        "id": "kCunjQXtBEK0",
        "outputId": "9eebf837-cde4-4c56-ee73-f701d71f1329"
      },
      "execution_count": 57,
      "outputs": [
        {
          "output_type": "execute_result",
          "data": {
            "text/plain": [
              "array([[37,  8,  0,  0],\n",
              "       [ 6, 32,  7,  0],\n",
              "       [ 0,  5, 31,  9],\n",
              "       [ 0,  0,  6, 40]])"
            ]
          },
          "metadata": {},
          "execution_count": 57
        }
      ]
    },
    {
      "cell_type": "code",
      "source": [
        "#decisionTree\n",
        "from sklearn.model_selection import cross_val_score\n",
        "from sklearn.tree import DecisionTreeClassifier\n",
        "clf = DecisionTreeClassifier(random_state=0, criterion='entropy', splitter='best')\n",
        "cross_val_score(clf, x_train, y_train, cv=10)\n",
        "clf.fit(x_train, y_train)\n",
        "y_predicted = clf.predict(x_val)\n",
        "y_predicted"
      ],
      "metadata": {
        "colab": {
          "base_uri": "https://localhost:8080/"
        },
        "id": "kEyHr9Tk7jv-",
        "outputId": "7f495d2d-178b-47a5-c250-0968f304e9e2"
      },
      "execution_count": 58,
      "outputs": [
        {
          "output_type": "execute_result",
          "data": {
            "text/plain": [
              "array([0., 0., 0., 1., 0., 2., 0., 2., 3., 1., 1., 0., 1., 1., 2., 2., 2.,\n",
              "       1., 3., 1., 2., 1., 1., 2., 0., 2., 2., 3., 2., 3., 1., 0., 2., 3.,\n",
              "       2., 0., 1., 2., 1., 2., 0., 2., 0., 3., 0., 0., 3., 2., 1., 3., 2.,\n",
              "       0., 3., 0., 3., 1., 2., 0., 1., 3., 0., 0., 1., 2., 2., 2., 3., 3.,\n",
              "       3., 3., 3., 2., 2., 0., 3., 1., 3., 2., 3., 1., 0., 2., 0., 2., 2.,\n",
              "       3., 1., 3., 1., 0., 3., 2., 3., 2., 0., 2., 1., 2., 3., 2., 0., 1.,\n",
              "       0., 3., 3., 3., 1., 3., 0., 1., 1., 2., 0., 2., 1., 1., 1., 0., 1.,\n",
              "       3., 3., 0., 2., 3., 0., 2., 0., 2., 0., 3., 3., 1., 0., 0., 0., 2.,\n",
              "       3., 3., 1., 3., 1., 2., 2., 0., 0., 3., 0., 0., 3., 2., 3., 1., 0.,\n",
              "       3., 1., 3., 1., 1., 0., 1., 2., 0., 2., 0., 1., 0., 3., 2., 3., 1.,\n",
              "       0., 1., 0., 3., 0., 3., 3., 3., 3., 0., 2.])"
            ]
          },
          "metadata": {},
          "execution_count": 58
        }
      ]
    },
    {
      "cell_type": "code",
      "source": [
        "confusion_matrix(y_val, y_predicted)"
      ],
      "metadata": {
        "colab": {
          "base_uri": "https://localhost:8080/"
        },
        "id": "eAoDfPTuBHoa",
        "outputId": "d5951123-e90a-408b-fd9c-f17da0286b62"
      },
      "execution_count": 59,
      "outputs": [
        {
          "output_type": "execute_result",
          "data": {
            "text/plain": [
              "array([[43,  2,  0,  0],\n",
              "       [ 5, 36,  4,  0],\n",
              "       [ 0,  2, 34,  9],\n",
              "       [ 0,  0,  7, 39]])"
            ]
          },
          "metadata": {},
          "execution_count": 59
        }
      ]
    },
    {
      "cell_type": "code",
      "source": [
        "#random forst\n",
        "from sklearn.ensemble import RandomForestClassifier\n",
        "from sklearn.datasets import make_classification\n",
        "clf2 = RandomForestClassifier(criterion='entropy')\n",
        "clf2.fit(x_train, y_train)\n",
        "y_predicted = clf2.predict(x_val)\n",
        "y_predicted"
      ],
      "metadata": {
        "colab": {
          "base_uri": "https://localhost:8080/"
        },
        "id": "h7mSN5_3u_zj",
        "outputId": "b418582d-c639-446f-e997-b2488069d46d"
      },
      "execution_count": 60,
      "outputs": [
        {
          "output_type": "execute_result",
          "data": {
            "text/plain": [
              "array([0., 0., 0., 1., 0., 1., 0., 2., 2., 1., 1., 0., 1., 1., 2., 2., 2.,\n",
              "       1., 2., 1., 3., 1., 1., 2., 0., 2., 2., 3., 2., 3., 1., 0., 2., 3.,\n",
              "       2., 0., 1., 3., 1., 2., 1., 2., 0., 2., 0., 0., 3., 2., 1., 3., 2.,\n",
              "       0., 3., 0., 3., 1., 2., 1., 1., 3., 0., 0., 0., 2., 2., 2., 3., 3.,\n",
              "       3., 3., 2., 2., 2., 0., 3., 1., 3., 2., 3., 1., 0., 2., 0., 2., 3.,\n",
              "       3., 0., 3., 1., 0., 3., 2., 2., 2., 0., 1., 1., 2., 3., 2., 0., 1.,\n",
              "       0., 3., 3., 3., 0., 3., 0., 0., 1., 2., 0., 2., 1., 1., 1., 0., 1.,\n",
              "       2., 3., 0., 2., 3., 0., 2., 0., 2., 0., 3., 2., 1., 0., 0., 1., 2.,\n",
              "       3., 3., 1., 3., 1., 2., 3., 0., 0., 3., 0., 0., 2., 2., 3., 1., 0.,\n",
              "       3., 1., 2., 1., 1., 0., 1., 3., 0., 1., 0., 2., 0., 3., 2., 3., 1.,\n",
              "       0., 1., 0., 3., 0., 3., 3., 3., 3., 0., 2.])"
            ]
          },
          "metadata": {},
          "execution_count": 60
        }
      ]
    },
    {
      "cell_type": "code",
      "source": [
        "confusion_matrix(y_val, y_predicted)"
      ],
      "metadata": {
        "colab": {
          "base_uri": "https://localhost:8080/"
        },
        "id": "17zAYytyBKbL",
        "outputId": "e1ed3eda-ef09-4be1-9c81-26c540f5631a"
      },
      "execution_count": 61,
      "outputs": [
        {
          "output_type": "execute_result",
          "data": {
            "text/plain": [
              "array([[44,  1,  0,  0],\n",
              "       [ 5, 38,  2,  0],\n",
              "       [ 0,  2, 40,  3],\n",
              "       [ 0,  0,  5, 41]])"
            ]
          },
          "metadata": {},
          "execution_count": 61
        }
      ]
    },
    {
      "cell_type": "code",
      "source": [
        "#random forst\n",
        "from sklearn.ensemble import RandomForestClassifier\n",
        "from sklearn.datasets import make_classification\n",
        "clf2 = RandomForestClassifier(criterion='entropy', n_estimators=10)\n",
        "clf2.fit(x_train, y_train)\n",
        "y_predicted = clf2.predict(x_val)\n",
        "y_predicted"
      ],
      "metadata": {
        "colab": {
          "base_uri": "https://localhost:8080/"
        },
        "id": "2nFqyupZu_7Z",
        "outputId": "233bcb31-0e4b-4c0a-865b-2751f89a45d5"
      },
      "execution_count": 62,
      "outputs": [
        {
          "output_type": "execute_result",
          "data": {
            "text/plain": [
              "array([0., 0., 0., 1., 0., 1., 0., 2., 3., 1., 1., 0., 1., 1., 2., 2., 3.,\n",
              "       2., 2., 1., 3., 1., 1., 2., 0., 2., 2., 3., 2., 3., 2., 0., 1., 3.,\n",
              "       2., 0., 1., 3., 1., 2., 0., 2., 0., 3., 0., 0., 3., 2., 1., 3., 3.,\n",
              "       0., 2., 0., 3., 1., 2., 1., 1., 3., 0., 0., 0., 2., 3., 1., 3., 3.,\n",
              "       3., 3., 2., 2., 2., 0., 3., 1., 2., 2., 3., 1., 0., 2., 0., 2., 2.,\n",
              "       3., 0., 3., 1., 0., 3., 3., 2., 2., 0., 1., 1., 1., 3., 1., 0., 1.,\n",
              "       0., 3., 3., 3., 0., 3., 0., 0., 1., 1., 0., 3., 1., 1., 1., 0., 1.,\n",
              "       2., 3., 0., 2., 2., 0., 1., 0., 2., 0., 3., 2., 1., 0., 1., 1., 2.,\n",
              "       3., 3., 1., 3., 1., 2., 3., 0., 0., 3., 0., 0., 2., 2., 3., 2., 0.,\n",
              "       3., 1., 2., 1., 1., 0., 1., 2., 0., 1., 0., 1., 0., 1., 1., 3., 1.,\n",
              "       0., 0., 0., 3., 0., 3., 3., 3., 3., 0., 2.])"
            ]
          },
          "metadata": {},
          "execution_count": 62
        }
      ]
    },
    {
      "cell_type": "code",
      "source": [
        "confusion_matrix(y_val, y_predicted)"
      ],
      "metadata": {
        "colab": {
          "base_uri": "https://localhost:8080/"
        },
        "id": "5onhML8EBMts",
        "outputId": "c9a4cd0f-adc4-4d1f-cdb6-cc6a5b83f016"
      },
      "execution_count": 63,
      "outputs": [
        {
          "output_type": "execute_result",
          "data": {
            "text/plain": [
              "array([[44,  1,  0,  0],\n",
              "       [ 6, 36,  3,  0],\n",
              "       [ 0,  8, 32,  5],\n",
              "       [ 0,  1,  5, 40]])"
            ]
          },
          "metadata": {},
          "execution_count": 63
        }
      ]
    },
    {
      "cell_type": "code",
      "source": [
        "#random forst\n",
        "from sklearn.ensemble import RandomForestClassifier\n",
        "from sklearn.datasets import make_classification\n",
        "clf2 = RandomForestClassifier(criterion='gini', n_estimators=102)\n",
        "clf2.fit(x_train, y_train)\n",
        "y_predicted = clf2.predict(x_val)\n",
        "y_predicted"
      ],
      "metadata": {
        "colab": {
          "base_uri": "https://localhost:8080/"
        },
        "id": "UOt9xyl59K0V",
        "outputId": "c823f7f1-432e-4622-c0fc-2dc9dbd1f43a"
      },
      "execution_count": 64,
      "outputs": [
        {
          "output_type": "execute_result",
          "data": {
            "text/plain": [
              "array([0., 0., 0., 1., 0., 1., 0., 2., 2., 1., 1., 0., 1., 1., 2., 3., 2.,\n",
              "       1., 2., 2., 2., 1., 1., 2., 0., 2., 2., 3., 2., 3., 1., 0., 2., 3.,\n",
              "       2., 0., 1., 3., 1., 2., 1., 2., 0., 2., 0., 0., 3., 2., 1., 3., 2.,\n",
              "       0., 3., 0., 3., 1., 2., 1., 1., 3., 0., 0., 0., 2., 2., 2., 3., 3.,\n",
              "       3., 3., 2., 2., 2., 0., 3., 1., 3., 2., 3., 1., 0., 2., 0., 2., 3.,\n",
              "       3., 0., 3., 1., 0., 3., 3., 2., 2., 0., 1., 1., 2., 3., 1., 0., 1.,\n",
              "       0., 3., 3., 3., 0., 3., 0., 0., 2., 2., 0., 2., 1., 1., 1., 0., 1.,\n",
              "       2., 3., 0., 2., 3., 0., 2., 1., 2., 0., 3., 3., 1., 0., 0., 1., 2.,\n",
              "       3., 3., 1., 3., 1., 2., 3., 0., 0., 3., 0., 0., 2., 2., 3., 2., 0.,\n",
              "       3., 1., 2., 1., 1., 0., 1., 3., 0., 1., 1., 1., 0., 3., 2., 3., 1.,\n",
              "       0., 1., 0., 3., 0., 3., 3., 3., 3., 0., 2.])"
            ]
          },
          "metadata": {},
          "execution_count": 64
        }
      ]
    },
    {
      "cell_type": "code",
      "source": [
        "confusion_matrix(y_val, y_predicted)"
      ],
      "metadata": {
        "colab": {
          "base_uri": "https://localhost:8080/"
        },
        "id": "Yjr3VzUnBOck",
        "outputId": "640748db-2afb-4ebb-9ba8-a82865dfe72c"
      },
      "execution_count": 65,
      "outputs": [
        {
          "output_type": "execute_result",
          "data": {
            "text/plain": [
              "array([[42,  3,  0,  0],\n",
              "       [ 5, 37,  3,  0],\n",
              "       [ 0,  2, 41,  2],\n",
              "       [ 0,  0,  2, 44]])"
            ]
          },
          "metadata": {},
          "execution_count": 65
        }
      ]
    },
    {
      "cell_type": "markdown",
      "source": [
        "-----------------------------------------**Task 6**-----------------------------------------"
      ],
      "metadata": {
        "id": "XJ5wboEK_P6s"
      }
    },
    {
      "cell_type": "markdown",
      "source": [
        "**the data among 4 price range classes are quite balanced**"
      ],
      "metadata": {
        "id": "e7lmULSrMB-T"
      }
    },
    {
      "cell_type": "code",
      "source": [
        "res = df.groupby('price_range').agg(num_cellphones_pricerange = ('price_range', 'count'))\n",
        "\n",
        "print(res)"
      ],
      "metadata": {
        "colab": {
          "base_uri": "https://localhost:8080/"
        },
        "id": "F2F8iiPj_TBu",
        "outputId": "4b647e2a-97b9-4bea-931a-e705f09c5475"
      },
      "execution_count": 66,
      "outputs": [
        {
          "output_type": "stream",
          "name": "stdout",
          "text": [
            "             num_cellphones_pricerange\n",
            "price_range                           \n",
            "0.0                                447\n",
            "1.0                                447\n",
            "2.0                                453\n",
            "3.0                                455\n"
          ]
        }
      ]
    },
    {
      "cell_type": "code",
      "source": [
        "res.plot.pie(y='num_cellphones_pricerange', figsize=(5, 5))"
      ],
      "metadata": {
        "colab": {
          "base_uri": "https://localhost:8080/",
          "height": 321
        },
        "id": "DkcB0G9NL4bC",
        "outputId": "a2787d03-5c47-4eab-de9e-2eba2f884f43"
      },
      "execution_count": 67,
      "outputs": [
        {
          "output_type": "execute_result",
          "data": {
            "text/plain": [
              "<matplotlib.axes._subplots.AxesSubplot at 0x7f4c049d95d0>"
            ]
          },
          "metadata": {},
          "execution_count": 67
        },
        {
          "output_type": "display_data",
          "data": {
            "text/plain": [
              "<Figure size 360x360 with 1 Axes>"
            ],
            "image/png": "[encoded data removed]"
          },
          "metadata": {}
        }
      ]
    },
    {
      "cell_type": "markdown",
      "source": [
        "-----------------------------------------**Task 7**-----------------------------------------"
      ],
      "metadata": {
        "id": "h6gnePgnMWE9"
      }
    },
    {
      "cell_type": "code",
      "source": [
        "x = df.iloc[:,0:-1]\n",
        "y = df.iloc[:,-1]\n",
        "x.shape,y.shape"
      ],
      "metadata": {
        "colab": {
          "base_uri": "https://localhost:8080/"
        },
        "id": "_s79qC1dq-Gt",
        "outputId": "caf8af76-a118-4db7-85b9-c33ccfb1c0a3"
      },
      "execution_count": 107,
      "outputs": [
        {
          "output_type": "execute_result",
          "data": {
            "text/plain": [
              "((1802, 20), (1802,))"
            ]
          },
          "metadata": {},
          "execution_count": 107
        }
      ]
    },
    {
      "cell_type": "code",
      "source": [
        "from sklearn.model_selection import train_test_split as split\n",
        "x_train,x_val,y_train,y_val = split(x,y, test_size = 0.1, stratify=y)\n",
        "x_train.shape,x_val.shape,y_train.shape,y_val.shape"
      ],
      "metadata": {
        "colab": {
          "base_uri": "https://localhost:8080/"
        },
        "id": "EDiE680oqJpz",
        "outputId": "962ce3f0-600e-431f-8924-5932c32fee6c"
      },
      "execution_count": 108,
      "outputs": [
        {
          "output_type": "execute_result",
          "data": {
            "text/plain": [
              "((1621, 20), (181, 20), (1621,), (181,))"
            ]
          },
          "metadata": {},
          "execution_count": 108
        }
      ]
    },
    {
      "cell_type": "code",
      "source": [
        "#scaling\n",
        "from sklearn.preprocessing import StandardScaler\n",
        "trans = StandardScaler()\n",
        "x_train = trans.fit_transform(x_train)\n",
        "x_train = pd.DataFrame(x_train)\n",
        "\n",
        "\n",
        "x_val = trans.fit_transform(x_val)\n",
        "x_val = pd.DataFrame(x_val)"
      ],
      "metadata": {
        "id": "_8FcbDpzjpY3"
      },
      "execution_count": 110,
      "outputs": []
    },
    {
      "cell_type": "code",
      "source": [
        "#kmeans\n",
        "from sklearn.cluster import KMeans\n",
        "kmeans = KMeans(n_clusters=4, random_state=0, algorithm='elkan').fit(x_train)\n",
        "y_predicted = kmeans.predict(x_val)\n",
        "y_predicted"
      ],
      "metadata": {
        "colab": {
          "base_uri": "https://localhost:8080/"
        },
        "outputId": "efc6d669-5822-4100-93a1-dab57f284635",
        "id": "ebc3x1lqoTr3"
      },
      "execution_count": 111,
      "outputs": [
        {
          "output_type": "execute_result",
          "data": {
            "text/plain": [
              "array([1, 0, 2, 3, 3, 0, 0, 1, 3, 0, 2, 1, 0, 3, 0, 0, 2, 2, 3, 1, 2, 2,\n",
              "       3, 2, 2, 0, 3, 2, 0, 3, 1, 0, 1, 0, 1, 0, 2, 2, 2, 1, 0, 2, 1, 3,\n",
              "       2, 1, 1, 1, 3, 0, 1, 3, 3, 2, 1, 1, 0, 0, 0, 3, 2, 2, 0, 1, 2, 2,\n",
              "       2, 0, 3, 3, 0, 0, 3, 2, 0, 0, 0, 0, 0, 1, 0, 0, 0, 3, 2, 1, 2, 3,\n",
              "       3, 0, 2, 2, 2, 1, 3, 1, 1, 2, 2, 1, 1, 3, 3, 1, 0, 0, 0, 2, 0, 2,\n",
              "       0, 0, 3, 0, 0, 2, 0, 3, 0, 2, 3, 3, 2, 0, 0, 1, 0, 2, 1, 0, 3, 0,\n",
              "       3, 1, 3, 2, 3, 3, 0, 0, 1, 1, 1, 1, 3, 3, 2, 2, 1, 1, 3, 1, 0, 1,\n",
              "       0, 1, 1, 1, 3, 3, 2, 3, 0, 3, 2, 1, 0, 0, 2, 2, 1, 1, 1, 3, 0, 2,\n",
              "       0, 1, 1, 0, 1], dtype=int32)"
            ]
          },
          "metadata": {},
          "execution_count": 111
        }
      ]
    },
    {
      "cell_type": "code",
      "source": [
        "from sklearn.metrics import confusion_matrix\n",
        "confusion_matrix(y_val, y_predicted)"
      ],
      "metadata": {
        "colab": {
          "base_uri": "https://localhost:8080/"
        },
        "outputId": "ddec47c5-ca7e-407e-d1b6-51e14006da09",
        "id": "ZmPfkQsAoTr5"
      },
      "execution_count": 112,
      "outputs": [
        {
          "output_type": "execute_result",
          "data": {
            "text/plain": [
              "array([[16,  3, 14, 12],\n",
              "       [13, 12,  8, 12],\n",
              "       [17, 10, 11,  7],\n",
              "       [ 9, 20,  9,  8]])"
            ]
          },
          "metadata": {},
          "execution_count": 112
        }
      ]
    },
    {
      "cell_type": "code",
      "source": [
        "#kmeans\n",
        "from sklearn.cluster import KMeans\n",
        "kmeans = KMeans(n_clusters=4, random_state=0, algorithm='full').fit(x_train)\n",
        "y_predicted = kmeans.predict(x_val)\n",
        "y_predicted"
      ],
      "metadata": {
        "colab": {
          "base_uri": "https://localhost:8080/"
        },
        "outputId": "6805186b-53c1-4e1b-e476-2dd1e003c630",
        "id": "eCpeNsC6oTr7"
      },
      "execution_count": 113,
      "outputs": [
        {
          "output_type": "execute_result",
          "data": {
            "text/plain": [
              "array([1, 0, 2, 3, 3, 0, 0, 1, 3, 0, 2, 1, 0, 3, 0, 0, 2, 2, 3, 1, 2, 2,\n",
              "       3, 2, 2, 0, 3, 2, 0, 3, 1, 0, 1, 0, 1, 0, 2, 2, 2, 1, 0, 2, 1, 3,\n",
              "       2, 1, 1, 1, 3, 0, 1, 3, 3, 2, 1, 1, 0, 0, 0, 3, 2, 2, 0, 1, 2, 2,\n",
              "       2, 0, 3, 3, 0, 0, 3, 2, 0, 0, 0, 0, 0, 1, 0, 0, 0, 3, 2, 1, 2, 3,\n",
              "       3, 0, 2, 2, 2, 1, 3, 1, 1, 2, 2, 1, 1, 3, 3, 1, 0, 0, 0, 2, 0, 2,\n",
              "       0, 0, 3, 0, 0, 2, 0, 3, 0, 2, 3, 3, 2, 0, 0, 1, 0, 2, 1, 0, 3, 0,\n",
              "       3, 1, 3, 2, 3, 3, 0, 0, 1, 1, 1, 1, 3, 3, 2, 2, 1, 1, 3, 1, 0, 1,\n",
              "       0, 1, 1, 1, 3, 3, 2, 3, 0, 3, 2, 1, 0, 0, 2, 2, 1, 1, 1, 3, 0, 2,\n",
              "       0, 1, 1, 0, 1], dtype=int32)"
            ]
          },
          "metadata": {},
          "execution_count": 113
        }
      ]
    },
    {
      "cell_type": "code",
      "source": [
        "confusion_matrix(y_val, y_predicted)"
      ],
      "metadata": {
        "colab": {
          "base_uri": "https://localhost:8080/"
        },
        "outputId": "8da20ab8-c168-458e-ec1b-56785a3273dd",
        "id": "v5DqWllPoTsF"
      },
      "execution_count": 114,
      "outputs": [
        {
          "output_type": "execute_result",
          "data": {
            "text/plain": [
              "array([[16,  3, 14, 12],\n",
              "       [13, 12,  8, 12],\n",
              "       [17, 10, 11,  7],\n",
              "       [ 9, 20,  9,  8]])"
            ]
          },
          "metadata": {},
          "execution_count": 114
        }
      ]
    },
    {
      "cell_type": "code",
      "source": [
        "#kmeans\n",
        "from sklearn.cluster import KMeans\n",
        "kmeans = KMeans(n_clusters=4, random_state=0, algorithm='auto').fit(x_train)\n",
        "y_predicted = kmeans.predict(x_val)\n",
        "y_predicted"
      ],
      "metadata": {
        "colab": {
          "base_uri": "https://localhost:8080/"
        },
        "outputId": "b70d2c65-b87e-4494-935a-137fef522794",
        "id": "sWsVhV8ZoTsG"
      },
      "execution_count": 115,
      "outputs": [
        {
          "output_type": "execute_result",
          "data": {
            "text/plain": [
              "array([1, 0, 2, 3, 3, 0, 0, 1, 3, 0, 2, 1, 0, 3, 0, 0, 2, 2, 3, 1, 2, 2,\n",
              "       3, 2, 2, 0, 3, 2, 0, 3, 1, 0, 1, 0, 1, 0, 2, 2, 2, 1, 0, 2, 1, 3,\n",
              "       2, 1, 1, 1, 3, 0, 1, 3, 3, 2, 1, 1, 0, 0, 0, 3, 2, 2, 0, 1, 2, 2,\n",
              "       2, 0, 3, 3, 0, 0, 3, 2, 0, 0, 0, 0, 0, 1, 0, 0, 0, 3, 2, 1, 2, 3,\n",
              "       3, 0, 2, 2, 2, 1, 3, 1, 1, 2, 2, 1, 1, 3, 3, 1, 0, 0, 0, 2, 0, 2,\n",
              "       0, 0, 3, 0, 0, 2, 0, 3, 0, 2, 3, 3, 2, 0, 0, 1, 0, 2, 1, 0, 3, 0,\n",
              "       3, 1, 3, 2, 3, 3, 0, 0, 1, 1, 1, 1, 3, 3, 2, 2, 1, 1, 3, 1, 0, 1,\n",
              "       0, 1, 1, 1, 3, 3, 2, 3, 0, 3, 2, 1, 0, 0, 2, 2, 1, 1, 1, 3, 0, 2,\n",
              "       0, 1, 1, 0, 1], dtype=int32)"
            ]
          },
          "metadata": {},
          "execution_count": 115
        }
      ]
    },
    {
      "cell_type": "code",
      "source": [
        "confusion_matrix(y_val, y_predicted)"
      ],
      "metadata": {
        "colab": {
          "base_uri": "https://localhost:8080/"
        },
        "outputId": "76334d07-01dc-411a-d692-73de8a10c790",
        "id": "pqzo1rVJoTsH"
      },
      "execution_count": 116,
      "outputs": [
        {
          "output_type": "execute_result",
          "data": {
            "text/plain": [
              "array([[16,  3, 14, 12],\n",
              "       [13, 12,  8, 12],\n",
              "       [17, 10, 11,  7],\n",
              "       [ 9, 20,  9,  8]])"
            ]
          },
          "metadata": {},
          "execution_count": 116
        }
      ]
    },
    {
      "cell_type": "markdown",
      "source": [
        "**minmax scaler**"
      ],
      "metadata": {
        "id": "rfrVOocQx1CR"
      }
    },
    {
      "cell_type": "code",
      "source": [
        "x = df.iloc[:,0:-1]\n",
        "y = df.iloc[:,-1]\n",
        "x.shape,y.shape"
      ],
      "metadata": {
        "colab": {
          "base_uri": "https://localhost:8080/"
        },
        "outputId": "c1d39ff9-8f51-4d89-84f0-bd58936c73e9",
        "id": "B3ljiRnAxaBr"
      },
      "execution_count": 117,
      "outputs": [
        {
          "output_type": "execute_result",
          "data": {
            "text/plain": [
              "((1802, 20), (1802,))"
            ]
          },
          "metadata": {},
          "execution_count": 117
        }
      ]
    },
    {
      "cell_type": "code",
      "source": [
        "from sklearn.model_selection import train_test_split as split\n",
        "x_train,x_val,y_train,y_val = split(x,y, test_size = 0.1, stratify=y)\n",
        "x_train.shape,x_val.shape,y_train.shape,y_val.shape"
      ],
      "metadata": {
        "colab": {
          "base_uri": "https://localhost:8080/"
        },
        "outputId": "a3a65086-24ee-4be1-c205-f0d45c60a6d6",
        "id": "bi9SaNpOxaBt"
      },
      "execution_count": 118,
      "outputs": [
        {
          "output_type": "execute_result",
          "data": {
            "text/plain": [
              "((1621, 20), (181, 20), (1621,), (181,))"
            ]
          },
          "metadata": {},
          "execution_count": 118
        }
      ]
    },
    {
      "cell_type": "code",
      "source": [
        "#scaling\n",
        "from sklearn.preprocessing import StandardScaler\n",
        "trans = StandardScaler()\n",
        "x_train = trans.fit_transform(x_train)\n",
        "x_train = pd.DataFrame(x_train)\n",
        "\n",
        "\n",
        "x_val = trans.fit_transform(x_val)\n",
        "x_val = pd.DataFrame(x_val)"
      ],
      "metadata": {
        "id": "3ocT4sbglO5v"
      },
      "execution_count": 119,
      "outputs": []
    },
    {
      "cell_type": "code",
      "source": [
        "from sklearn.preprocessing import MinMaxScaler\n",
        "trans = MinMaxScaler()\n",
        "x_train = trans.fit_transform(x_train)\n",
        "\n",
        "trans = MinMaxScaler()\n",
        "x_val = trans.fit_transform(x_val)"
      ],
      "metadata": {
        "id": "X7ONtIkFlHU0"
      },
      "execution_count": 120,
      "outputs": []
    },
    {
      "cell_type": "code",
      "source": [
        "#decisionTree\n",
        "from sklearn.model_selection import cross_val_score\n",
        "from sklearn.tree import DecisionTreeClassifier\n",
        "clf = DecisionTreeClassifier(random_state=0, criterion='entropy', splitter='best', min_samples_split=3)\n",
        "cross_val_score(clf, x_train, y_train, cv=10)\n",
        "clf.fit(x_train, y_train)\n",
        "y_predicted = clf.predict(x_val)\n",
        "y_predicted"
      ],
      "metadata": {
        "colab": {
          "base_uri": "https://localhost:8080/"
        },
        "outputId": "84a7d621-b1cb-407d-bbab-34d4d586ca76",
        "id": "XbR7PNyNoTsI"
      },
      "execution_count": 121,
      "outputs": [
        {
          "output_type": "execute_result",
          "data": {
            "text/plain": [
              "array([2., 3., 3., 1., 3., 3., 2., 3., 0., 3., 3., 3., 3., 0., 3., 1., 0.,\n",
              "       3., 0., 3., 1., 3., 2., 3., 0., 1., 2., 1., 1., 2., 1., 3., 1., 0.,\n",
              "       0., 0., 2., 1., 1., 3., 3., 0., 1., 1., 0., 0., 1., 0., 1., 2., 0.,\n",
              "       3., 1., 2., 3., 1., 2., 3., 2., 1., 2., 1., 0., 2., 2., 3., 1., 3.,\n",
              "       1., 1., 0., 3., 2., 2., 3., 2., 2., 3., 0., 3., 2., 2., 0., 3., 2.,\n",
              "       3., 3., 1., 3., 2., 2., 0., 2., 2., 0., 0., 3., 3., 0., 3., 1., 1.,\n",
              "       1., 2., 2., 3., 1., 0., 1., 3., 1., 2., 3., 0., 1., 2., 1., 2., 0.,\n",
              "       0., 3., 3., 3., 0., 1., 1., 2., 0., 1., 1., 3., 1., 3., 3., 2., 0.,\n",
              "       2., 2., 1., 0., 2., 0., 2., 3., 2., 3., 0., 3., 1., 1., 2., 0., 0.,\n",
              "       3., 2., 2., 0., 0., 1., 2., 3., 0., 0., 1., 0., 0., 0., 0., 0., 1.,\n",
              "       1., 2., 3., 0., 1., 3., 2., 0., 2., 3., 0.])"
            ]
          },
          "metadata": {},
          "execution_count": 121
        }
      ]
    },
    {
      "cell_type": "code",
      "source": [
        "confusion_matrix(y_val, y_predicted)"
      ],
      "metadata": {
        "colab": {
          "base_uri": "https://localhost:8080/"
        },
        "outputId": "0d6344f6-51ec-4c72-9d37-d5672317c9d4",
        "id": "HEoe2IABoTsK"
      },
      "execution_count": 122,
      "outputs": [
        {
          "output_type": "execute_result",
          "data": {
            "text/plain": [
              "array([[42,  3,  0,  0],\n",
              "       [ 3, 34,  8,  0],\n",
              "       [ 0,  6, 30,  9],\n",
              "       [ 0,  0,  5, 41]])"
            ]
          },
          "metadata": {},
          "execution_count": 122
        }
      ]
    },
    {
      "cell_type": "code",
      "source": [
        "#decisionTree\n",
        "from sklearn.model_selection import cross_val_score\n",
        "from sklearn.tree import DecisionTreeClassifier\n",
        "clf = DecisionTreeClassifier(random_state=0, criterion='gini', splitter='random')\n",
        "cross_val_score(clf, x_train, y_train, cv=10)\n",
        "clf.fit(x_train, y_train)\n",
        "y_predicted = clf.predict(x_val)\n",
        "y_predicted"
      ],
      "metadata": {
        "colab": {
          "base_uri": "https://localhost:8080/"
        },
        "outputId": "a1f06663-b856-4857-e00b-ecc65fb8627f",
        "id": "Y7s59FDdoTsL"
      },
      "execution_count": 123,
      "outputs": [
        {
          "output_type": "execute_result",
          "data": {
            "text/plain": [
              "array([2., 3., 3., 0., 3., 3., 2., 2., 0., 2., 3., 3., 2., 0., 3., 1., 0.,\n",
              "       3., 0., 3., 0., 3., 1., 3., 0., 1., 2., 1., 1., 2., 0., 3., 1., 0.,\n",
              "       0., 0., 2., 1., 2., 3., 2., 0., 2., 1., 0., 0., 1., 0., 2., 2., 1.,\n",
              "       3., 2., 2., 3., 0., 3., 2., 2., 1., 1., 1., 0., 1., 2., 3., 1., 3.,\n",
              "       1., 1., 0., 3., 3., 2., 3., 3., 2., 3., 1., 2., 1., 2., 0., 3., 2.,\n",
              "       3., 3., 1., 2., 1., 2., 0., 2., 1., 0., 0., 3., 3., 0., 3., 1., 1.,\n",
              "       1., 2., 1., 2., 2., 0., 1., 2., 2., 2., 2., 0., 2., 2., 1., 1., 1.,\n",
              "       0., 2., 3., 3., 0., 1., 0., 2., 0., 1., 1., 3., 2., 2., 3., 2., 0.,\n",
              "       1., 3., 1., 0., 2., 0., 3., 3., 2., 3., 0., 3., 1., 1., 2., 0., 0.,\n",
              "       3., 2., 1., 0., 0., 1., 2., 3., 0., 0., 2., 0., 0., 0., 0., 0., 0.,\n",
              "       1., 1., 3., 0., 1., 2., 3., 0., 3., 3., 0.])"
            ]
          },
          "metadata": {},
          "execution_count": 123
        }
      ]
    },
    {
      "cell_type": "code",
      "source": [
        "confusion_matrix(y_val, y_predicted)"
      ],
      "metadata": {
        "colab": {
          "base_uri": "https://localhost:8080/"
        },
        "outputId": "ec65e73d-105d-4672-a5c8-7d4c08855289",
        "id": "28QsCPSUoTsM"
      },
      "execution_count": 124,
      "outputs": [
        {
          "output_type": "execute_result",
          "data": {
            "text/plain": [
              "array([[43,  2,  0,  0],\n",
              "       [ 5, 34,  6,  0],\n",
              "       [ 0,  6, 34,  5],\n",
              "       [ 0,  0,  7, 39]])"
            ]
          },
          "metadata": {},
          "execution_count": 124
        }
      ]
    },
    {
      "cell_type": "code",
      "source": [
        "#decisionTree\n",
        "from sklearn.model_selection import cross_val_score\n",
        "from sklearn.tree import DecisionTreeClassifier\n",
        "clf = DecisionTreeClassifier(random_state=0, criterion='entropy', splitter='best')\n",
        "cross_val_score(clf, x_train, y_train, cv=10)\n",
        "clf.fit(x_train, y_train)\n",
        "y_predicted = clf.predict(x_val)\n",
        "y_predicted"
      ],
      "metadata": {
        "colab": {
          "base_uri": "https://localhost:8080/"
        },
        "outputId": "cd1db799-5d06-45eb-dc10-01993cf937fb",
        "id": "u8tYXm9xoTsN"
      },
      "execution_count": 125,
      "outputs": [
        {
          "output_type": "execute_result",
          "data": {
            "text/plain": [
              "array([2., 3., 3., 1., 3., 3., 2., 3., 0., 3., 3., 3., 3., 0., 3., 1., 0.,\n",
              "       3., 0., 3., 1., 3., 2., 3., 0., 1., 2., 1., 1., 2., 1., 3., 1., 0.,\n",
              "       0., 0., 2., 1., 1., 3., 3., 0., 1., 1., 0., 0., 1., 0., 1., 2., 0.,\n",
              "       3., 1., 2., 3., 1., 2., 3., 2., 1., 2., 1., 0., 2., 2., 3., 1., 3.,\n",
              "       1., 1., 0., 3., 2., 2., 3., 2., 2., 3., 0., 3., 2., 2., 0., 3., 2.,\n",
              "       3., 3., 1., 3., 2., 2., 0., 2., 2., 0., 0., 3., 3., 0., 3., 1., 1.,\n",
              "       1., 2., 2., 3., 1., 0., 1., 3., 1., 2., 3., 0., 1., 2., 1., 2., 0.,\n",
              "       0., 3., 3., 3., 0., 1., 1., 2., 0., 1., 1., 3., 1., 3., 3., 2., 0.,\n",
              "       2., 2., 1., 0., 2., 0., 2., 3., 2., 3., 0., 3., 1., 1., 2., 0., 0.,\n",
              "       3., 2., 2., 0., 0., 1., 2., 3., 0., 0., 1., 0., 0., 0., 0., 0., 1.,\n",
              "       1., 2., 3., 0., 1., 3., 2., 0., 2., 3., 0.])"
            ]
          },
          "metadata": {},
          "execution_count": 125
        }
      ]
    },
    {
      "cell_type": "code",
      "source": [
        "confusion_matrix(y_val, y_predicted)"
      ],
      "metadata": {
        "colab": {
          "base_uri": "https://localhost:8080/"
        },
        "outputId": "541b8bbd-820b-4183-ace5-dcdced42d7a1",
        "id": "WF_4Ctg0oTsN"
      },
      "execution_count": 126,
      "outputs": [
        {
          "output_type": "execute_result",
          "data": {
            "text/plain": [
              "array([[42,  3,  0,  0],\n",
              "       [ 3, 34,  8,  0],\n",
              "       [ 0,  6, 30,  9],\n",
              "       [ 0,  0,  5, 41]])"
            ]
          },
          "metadata": {},
          "execution_count": 126
        }
      ]
    },
    {
      "cell_type": "markdown",
      "source": [
        "**RobustScaler**"
      ],
      "metadata": {
        "id": "i1rWzCrD1rvz"
      }
    },
    {
      "cell_type": "code",
      "source": [
        "x = df.iloc[:,0:-1]\n",
        "y = df.iloc[:,-1]\n",
        "x.shape,y.shape"
      ],
      "metadata": {
        "colab": {
          "base_uri": "https://localhost:8080/"
        },
        "id": "Pv6FExYG2Ua1",
        "outputId": "33cfb3cf-595b-4929-f98d-3e3ac4e49211"
      },
      "execution_count": 150,
      "outputs": [
        {
          "output_type": "execute_result",
          "data": {
            "text/plain": [
              "((1802, 20), (1802,))"
            ]
          },
          "metadata": {},
          "execution_count": 150
        }
      ]
    },
    {
      "cell_type": "code",
      "source": [
        "from sklearn.model_selection import train_test_split as split\n",
        "x_train,x_val,y_train,y_val = split(x,y, test_size = 0.1, stratify=y)\n",
        "x_train.shape,x_val.shape,y_train.shape,y_val.shape"
      ],
      "metadata": {
        "colab": {
          "base_uri": "https://localhost:8080/"
        },
        "id": "rJdDCYSU2JMy",
        "outputId": "b77ae042-6ec3-4183-c689-62b90fba0a76"
      },
      "execution_count": 151,
      "outputs": [
        {
          "output_type": "execute_result",
          "data": {
            "text/plain": [
              "((1621, 20), (181, 20), (1621,), (181,))"
            ]
          },
          "metadata": {},
          "execution_count": 151
        }
      ]
    },
    {
      "cell_type": "code",
      "source": [
        "#scaling\n",
        "from sklearn.preprocessing import StandardScaler\n",
        "trans = StandardScaler()\n",
        "x_train = trans.fit_transform(x_train)\n",
        "x_train = pd.DataFrame(x_train)\n",
        "\n",
        "\n",
        "x_val = trans.fit_transform(x_val)\n",
        "x_val = pd.DataFrame(x_val)"
      ],
      "metadata": {
        "id": "S5A1G2V0179v"
      },
      "execution_count": 152,
      "outputs": []
    },
    {
      "cell_type": "code",
      "source": [
        "from sklearn.preprocessing import RobustScaler\n",
        "trans = RobustScaler()\n",
        "x_train = trans.fit_transform(x_train)\n",
        "x_train = pd.DataFrame(x_train)\n",
        "\n",
        "x_val = trans.fit_transform(x_val)\n",
        "x_val = pd.DataFrame(x_val)"
      ],
      "metadata": {
        "id": "q_BRlhloyoyZ"
      },
      "execution_count": 153,
      "outputs": []
    },
    {
      "cell_type": "code",
      "source": [
        "#random forst\n",
        "from sklearn.ensemble import RandomForestClassifier\n",
        "from sklearn.datasets import make_classification\n",
        "clf2 = RandomForestClassifier(criterion='entropy')\n",
        "clf2.fit(x_train, y_train)\n",
        "y_predicted = clf2.predict(x_val)\n",
        "y_predicted"
      ],
      "metadata": {
        "colab": {
          "base_uri": "https://localhost:8080/"
        },
        "outputId": "7bfe8777-88e2-42a1-dd8e-367ac6a604a7",
        "id": "O0_SJ_SloTsN"
      },
      "execution_count": 154,
      "outputs": [
        {
          "output_type": "execute_result",
          "data": {
            "text/plain": [
              "array([0., 2., 3., 0., 3., 2., 2., 0., 2., 2., 2., 2., 0., 0., 0., 0., 1.,\n",
              "       2., 3., 3., 3., 2., 3., 3., 0., 1., 1., 1., 1., 2., 3., 0., 1., 0.,\n",
              "       1., 3., 1., 0., 0., 1., 2., 1., 3., 2., 1., 2., 2., 0., 0., 3., 2.,\n",
              "       0., 0., 0., 3., 1., 2., 2., 2., 3., 1., 0., 0., 2., 1., 0., 3., 1.,\n",
              "       2., 1., 1., 2., 2., 3., 2., 0., 0., 2., 3., 1., 0., 3., 0., 3., 0.,\n",
              "       3., 1., 0., 1., 0., 3., 0., 2., 3., 0., 1., 3., 3., 0., 3., 1., 0.,\n",
              "       3., 2., 3., 1., 3., 2., 1., 2., 1., 1., 2., 2., 3., 1., 2., 0., 3.,\n",
              "       3., 2., 2., 1., 1., 0., 1., 0., 2., 0., 0., 3., 0., 2., 2., 0., 0.,\n",
              "       2., 3., 1., 0., 0., 0., 1., 0., 3., 3., 1., 3., 3., 3., 2., 0., 2.,\n",
              "       1., 3., 2., 3., 2., 2., 2., 2., 3., 3., 2., 3., 3., 2., 2., 2., 3.,\n",
              "       0., 1., 0., 1., 1., 0., 1., 1., 0., 0., 3.])"
            ]
          },
          "metadata": {},
          "execution_count": 154
        }
      ]
    },
    {
      "cell_type": "code",
      "source": [
        "confusion_matrix(y_val, y_predicted)"
      ],
      "metadata": {
        "colab": {
          "base_uri": "https://localhost:8080/"
        },
        "outputId": "14751086-56d8-4cf0-99c2-2c20e2ccf6dc",
        "id": "UH0DJ4groTsO"
      },
      "execution_count": 155,
      "outputs": [
        {
          "output_type": "execute_result",
          "data": {
            "text/plain": [
              "array([[45,  0,  0,  0],\n",
              "       [ 4, 36,  5,  0],\n",
              "       [ 0,  3, 40,  2],\n",
              "       [ 0,  0,  3, 43]])"
            ]
          },
          "metadata": {},
          "execution_count": 155
        }
      ]
    },
    {
      "cell_type": "code",
      "source": [
        "clf2.score(x_val, y_val)"
      ],
      "metadata": {
        "colab": {
          "base_uri": "https://localhost:8080/"
        },
        "id": "iaf_FwJ9phV4",
        "outputId": "c51e33aa-89fb-475e-f18b-1db315ef9868"
      },
      "execution_count": 156,
      "outputs": [
        {
          "output_type": "execute_result",
          "data": {
            "text/plain": [
              "0.9060773480662984"
            ]
          },
          "metadata": {},
          "execution_count": 156
        }
      ]
    },
    {
      "cell_type": "code",
      "source": [
        "#random forst\n",
        "from sklearn.ensemble import RandomForestClassifier\n",
        "from sklearn.datasets import make_classification\n",
        "clf2 = RandomForestClassifier(criterion='entropy', n_estimators=10)\n",
        "clf2.fit(x_train, y_train)\n",
        "y_predicted = clf2.predict(x_val)\n",
        "y_predicted"
      ],
      "metadata": {
        "colab": {
          "base_uri": "https://localhost:8080/"
        },
        "outputId": "f9210cd6-867c-4315-d8cf-76f6f674f40a",
        "id": "g6zkEOzJoTsO"
      },
      "execution_count": 137,
      "outputs": [
        {
          "output_type": "execute_result",
          "data": {
            "text/plain": [
              "array([2., 3., 2., 0., 1., 3., 1., 3., 3., 2., 2., 1., 3., 0., 3., 1., 3.,\n",
              "       1., 2., 0., 3., 0., 3., 0., 1., 1., 0., 3., 2., 3., 1., 3., 3., 0.,\n",
              "       1., 3., 3., 0., 2., 3., 0., 3., 2., 1., 2., 0., 1., 1., 2., 0., 2.,\n",
              "       0., 3., 2., 0., 0., 2., 1., 3., 0., 3., 1., 1., 0., 3., 0., 2., 2.,\n",
              "       1., 2., 1., 3., 3., 0., 1., 2., 2., 0., 1., 0., 3., 0., 0., 0., 2.,\n",
              "       2., 3., 3., 1., 3., 1., 2., 1., 3., 1., 3., 0., 0., 0., 2., 1., 3.,\n",
              "       3., 0., 3., 1., 3., 3., 3., 2., 0., 0., 3., 1., 3., 2., 0., 0., 3.,\n",
              "       3., 0., 3., 2., 2., 1., 3., 3., 1., 3., 1., 2., 0., 0., 2., 0., 3.,\n",
              "       0., 2., 2., 0., 3., 0., 2., 0., 1., 2., 0., 3., 3., 1., 1., 3., 1.,\n",
              "       1., 1., 1., 1., 2., 0., 0., 2., 3., 2., 3., 1., 3., 2., 2., 2., 1.,\n",
              "       2., 0., 2., 2., 0., 0., 2., 0., 3., 2., 1.])"
            ]
          },
          "metadata": {},
          "execution_count": 137
        }
      ]
    },
    {
      "cell_type": "code",
      "source": [
        "confusion_matrix(y_val, y_predicted)"
      ],
      "metadata": {
        "colab": {
          "base_uri": "https://localhost:8080/"
        },
        "outputId": "1bf1c6b0-b1c4-4017-a888-531aa6b6ef5b",
        "id": "Rf39OBtboTsO"
      },
      "execution_count": 138,
      "outputs": [
        {
          "output_type": "execute_result",
          "data": {
            "text/plain": [
              "array([[41,  4,  0,  0],\n",
              "       [ 5, 30,  9,  1],\n",
              "       [ 0,  6, 29, 10],\n",
              "       [ 0,  0,  5, 41]])"
            ]
          },
          "metadata": {},
          "execution_count": 138
        }
      ]
    },
    {
      "cell_type": "code",
      "source": [
        "#random forst\n",
        "from sklearn.ensemble import RandomForestClassifier\n",
        "from sklearn.datasets import make_classification\n",
        "clf2 = RandomForestClassifier(criterion='gini', n_estimators=102)\n",
        "clf2.fit(x_train, y_train)\n",
        "y_predicted = clf2.predict(x_val)\n",
        "y_predicted"
      ],
      "metadata": {
        "colab": {
          "base_uri": "https://localhost:8080/"
        },
        "outputId": "b45481d6-917d-41cb-bcde-5b05046cf25d",
        "id": "9KXKh3XZoTsO"
      },
      "execution_count": 139,
      "outputs": [
        {
          "output_type": "execute_result",
          "data": {
            "text/plain": [
              "array([2., 3., 2., 0., 1., 3., 0., 3., 3., 2., 3., 1., 3., 0., 3., 1., 3.,\n",
              "       1., 2., 0., 3., 0., 3., 0., 1., 1., 0., 3., 2., 3., 1., 3., 3., 0.,\n",
              "       1., 3., 3., 0., 2., 3., 0., 3., 3., 1., 3., 0., 1., 1., 3., 0., 3.,\n",
              "       0., 3., 2., 0., 0., 2., 0., 3., 1., 3., 2., 1., 1., 3., 0., 2., 3.,\n",
              "       1., 2., 1., 3., 3., 1., 1., 2., 2., 1., 1., 0., 3., 0., 1., 0., 2.,\n",
              "       2., 3., 3., 1., 3., 1., 2., 1., 3., 1., 3., 0., 0., 0., 2., 1., 3.,\n",
              "       3., 0., 2., 1., 3., 3., 3., 3., 0., 0., 3., 1., 3., 2., 0., 0., 3.,\n",
              "       3., 0., 2., 2., 2., 1., 2., 1., 1., 3., 2., 2., 0., 1., 2., 0., 3.,\n",
              "       0., 1., 2., 0., 2., 0., 2., 1., 2., 3., 0., 3., 3., 1., 1., 3., 1.,\n",
              "       1., 1., 2., 1., 2., 1., 0., 2., 3., 2., 3., 1., 3., 2., 2., 3., 1.,\n",
              "       2., 0., 2., 2., 0., 0., 1., 0., 3., 2., 1.])"
            ]
          },
          "metadata": {},
          "execution_count": 139
        }
      ]
    },
    {
      "cell_type": "code",
      "source": [
        "confusion_matrix(y_val, y_predicted)"
      ],
      "metadata": {
        "colab": {
          "base_uri": "https://localhost:8080/"
        },
        "outputId": "3a69a63e-f33d-44f3-a53b-6c7aa45fc797",
        "id": "BkPQChXSoTsP"
      },
      "execution_count": 140,
      "outputs": [
        {
          "output_type": "execute_result",
          "data": {
            "text/plain": [
              "array([[39,  6,  0,  0],\n",
              "       [ 1, 33, 11,  0],\n",
              "       [ 0,  6, 28, 11],\n",
              "       [ 0,  0,  1, 45]])"
            ]
          },
          "metadata": {},
          "execution_count": 140
        }
      ]
    },
    {
      "cell_type": "markdown",
      "source": [
        "-----------------------------------------**Task 8**-----------------------------------------"
      ],
      "metadata": {
        "id": "SsiFKMCsKR2w"
      }
    },
    {
      "cell_type": "code",
      "source": [
        "x = df.iloc[:,0:-1]\n",
        "y = df.iloc[:,-1]\n",
        "x.shape,y.shape"
      ],
      "metadata": {
        "colab": {
          "base_uri": "https://localhost:8080/"
        },
        "outputId": "9f366d32-b464-489d-8ee1-6e46e2ab83ff",
        "id": "KLu8ClTXfrVD"
      },
      "execution_count": 141,
      "outputs": [
        {
          "output_type": "execute_result",
          "data": {
            "text/plain": [
              "((1802, 20), (1802,))"
            ]
          },
          "metadata": {},
          "execution_count": 141
        }
      ]
    },
    {
      "cell_type": "code",
      "source": [
        "from sklearn.model_selection import train_test_split as split\n",
        "x_train,x_val,y_train,y_val = split(x,y, test_size = 0.2, stratify=y)\n",
        "x_train.shape,x_val.shape,y_train.shape,y_val.shape"
      ],
      "metadata": {
        "colab": {
          "base_uri": "https://localhost:8080/"
        },
        "outputId": "b1dca329-7757-4460-ac9d-171edf35797d",
        "id": "I2QQ1jV_frVD"
      },
      "execution_count": 142,
      "outputs": [
        {
          "output_type": "execute_result",
          "data": {
            "text/plain": [
              "((1441, 20), (361, 20), (1441,), (361,))"
            ]
          },
          "metadata": {},
          "execution_count": 142
        }
      ]
    },
    {
      "cell_type": "code",
      "source": [
        "#scaling\n",
        "from sklearn.preprocessing import StandardScaler\n",
        "trans = StandardScaler()\n",
        "x_train = trans.fit_transform(x_train)\n",
        "x_train = pd.DataFrame(x_train)\n",
        "\n",
        "\n",
        "x_val = trans.fit_transform(x_val)\n",
        "x_val = pd.DataFrame(x_val)"
      ],
      "metadata": {
        "id": "PoGl7K1DfrVB"
      },
      "execution_count": 143,
      "outputs": []
    },
    {
      "cell_type": "code",
      "source": [
        "from sklearn.preprocessing import RobustScaler\n",
        "trans = RobustScaler()\n",
        "x_train = trans.fit_transform(x_train)\n",
        "x_train = pd.DataFrame(x_train)\n",
        "\n",
        "x_val = trans.fit_transform(x_val)\n",
        "x_val = pd.DataFrame(x_val)"
      ],
      "metadata": {
        "id": "f8xlMUNhfrVC"
      },
      "execution_count": 144,
      "outputs": []
    },
    {
      "cell_type": "code",
      "source": [
        "#random forst\n",
        "from sklearn.ensemble import RandomForestClassifier\n",
        "from sklearn.datasets import make_classification\n",
        "clf2 = RandomForestClassifier(criterion='entropy')\n",
        "clf2.fit(x_train, y_train)\n",
        "y_predicted = clf2.predict(x_val)\n",
        "y_predicted"
      ],
      "metadata": {
        "colab": {
          "base_uri": "https://localhost:8080/"
        },
        "outputId": "ffb6ea4c-4803-4e66-f130-3313eea14c4f",
        "id": "aqBZErZVfrVD"
      },
      "execution_count": 145,
      "outputs": [
        {
          "output_type": "execute_result",
          "data": {
            "text/plain": [
              "array([3., 2., 3., 1., 3., 2., 0., 1., 1., 0., 1., 3., 1., 2., 2., 0., 0.,\n",
              "       3., 0., 1., 3., 2., 0., 3., 3., 3., 2., 2., 3., 3., 3., 2., 0., 3.,\n",
              "       2., 0., 3., 3., 2., 1., 0., 0., 0., 3., 0., 0., 3., 3., 2., 2., 2.,\n",
              "       0., 3., 0., 0., 2., 1., 2., 3., 0., 0., 0., 0., 1., 2., 3., 1., 1.,\n",
              "       0., 0., 3., 2., 0., 1., 2., 3., 2., 0., 2., 3., 3., 1., 3., 0., 3.,\n",
              "       2., 2., 2., 1., 1., 0., 0., 3., 3., 0., 0., 1., 0., 3., 3., 0., 1.,\n",
              "       2., 0., 2., 3., 2., 3., 3., 2., 0., 3., 3., 0., 2., 1., 3., 1., 2.,\n",
              "       1., 1., 2., 0., 2., 0., 2., 1., 3., 0., 0., 0., 2., 1., 1., 1., 1.,\n",
              "       2., 2., 0., 3., 3., 2., 1., 3., 0., 2., 1., 2., 3., 0., 3., 1., 0.,\n",
              "       0., 0., 0., 1., 2., 2., 2., 3., 2., 0., 0., 3., 3., 1., 3., 0., 0.,\n",
              "       2., 0., 3., 3., 0., 1., 2., 1., 3., 2., 2., 3., 2., 1., 2., 0., 2.,\n",
              "       3., 2., 1., 1., 3., 3., 3., 2., 0., 2., 0., 3., 2., 3., 2., 0., 0.,\n",
              "       2., 2., 0., 2., 3., 0., 3., 3., 1., 1., 2., 2., 0., 3., 2., 1., 2.,\n",
              "       0., 3., 1., 1., 3., 1., 1., 3., 3., 2., 2., 1., 1., 3., 1., 0., 1.,\n",
              "       0., 0., 1., 3., 2., 1., 0., 1., 1., 3., 1., 2., 3., 3., 1., 0., 2.,\n",
              "       1., 3., 3., 2., 0., 3., 0., 1., 3., 0., 2., 2., 2., 0., 3., 1., 3.,\n",
              "       1., 1., 1., 3., 1., 1., 3., 0., 3., 1., 2., 3., 3., 0., 1., 2., 0.,\n",
              "       2., 2., 0., 0., 1., 0., 1., 3., 0., 2., 1., 1., 2., 0., 3., 3., 3.,\n",
              "       1., 2., 0., 1., 1., 1., 2., 0., 2., 2., 3., 2., 1., 1., 2., 0., 2.,\n",
              "       1., 0., 3., 2., 3., 3., 0., 3., 0., 3., 1., 0., 1., 1., 2., 0., 0.,\n",
              "       3., 3., 0., 3., 1., 3., 0., 1., 1., 2., 0., 1., 1., 2., 3., 0., 3.,\n",
              "       2., 3., 0., 0.])"
            ]
          },
          "metadata": {},
          "execution_count": 145
        }
      ]
    },
    {
      "cell_type": "code",
      "source": [
        "confusion_matrix(y_val, y_predicted)"
      ],
      "metadata": {
        "colab": {
          "base_uri": "https://localhost:8080/"
        },
        "outputId": "398232cf-3df0-4be9-f5c0-8050d03fcd52",
        "id": "RFexFKF5frVE"
      },
      "execution_count": 146,
      "outputs": [
        {
          "output_type": "execute_result",
          "data": {
            "text/plain": [
              "array([[85,  5,  0,  0],\n",
              "       [ 8, 70, 11,  0],\n",
              "       [ 0,  7, 76,  8],\n",
              "       [ 0,  0,  1, 90]])"
            ]
          },
          "metadata": {},
          "execution_count": 146
        }
      ]
    },
    {
      "cell_type": "code",
      "source": [
        "clf2.score(x_val, y_val)"
      ],
      "metadata": {
        "colab": {
          "base_uri": "https://localhost:8080/"
        },
        "id": "wtdCxShfok2i",
        "outputId": "aaafae67-4a8d-4f47-ab29-a0cc4861f593"
      },
      "execution_count": 149,
      "outputs": [
        {
          "output_type": "execute_result",
          "data": {
            "text/plain": [
              "0.889196675900277"
            ]
          },
          "metadata": {},
          "execution_count": 149
        }
      ]
    },
    {
      "cell_type": "markdown",
      "source": [
        "-----------------------------------------**Task 9**-----------------------------------------"
      ],
      "metadata": {
        "id": "etDZTFcvwAZu"
      }
    },
    {
      "cell_type": "code",
      "source": [
        "x = df.iloc[:,0:-1]\n",
        "y = df.iloc[:,-1]\n",
        "x.shape,y.shape"
      ],
      "metadata": {
        "colab": {
          "base_uri": "https://localhost:8080/"
        },
        "outputId": "13f6a46a-5b84-4aa4-ca70-e62815b75150",
        "id": "qXRjh2jJwhiA"
      },
      "execution_count": 183,
      "outputs": [
        {
          "output_type": "execute_result",
          "data": {
            "text/plain": [
              "((1802, 20), (1802,))"
            ]
          },
          "metadata": {},
          "execution_count": 183
        }
      ]
    },
    {
      "cell_type": "code",
      "source": [
        "# from sklearn.model_selection import train_test_split as split\n",
        "# x_train,x_val,y_train,y_val = split(x,y, test_size = 0.2, stratify=y)\n",
        "# x_train.shape,x_val.shape,y_train.shape,y_val.shape"
      ],
      "metadata": {
        "colab": {
          "base_uri": "https://localhost:8080/"
        },
        "outputId": "b1dca329-7757-4460-ac9d-171edf35797d",
        "id": "ooU36_TwwhiC"
      },
      "execution_count": null,
      "outputs": [
        {
          "output_type": "execute_result",
          "data": {
            "text/plain": [
              "((1441, 20), (361, 20), (1441,), (361,))"
            ]
          },
          "metadata": {},
          "execution_count": 142
        }
      ]
    },
    {
      "cell_type": "code",
      "source": [
        "#scaling\n",
        "from sklearn.preprocessing import StandardScaler\n",
        "trans = StandardScaler()\n",
        "x = trans.fit_transform(x)\n",
        "x = pd.DataFrame(x)\n"
      ],
      "metadata": {
        "id": "8PyvYQi9whiD"
      },
      "execution_count": 184,
      "outputs": []
    },
    {
      "cell_type": "code",
      "source": [
        "from sklearn.decomposition import PCA\n",
        "pca2 = PCA(n_components=2)\n",
        "principalComponents = pca2.fit_transform(x)\n",
        "\n",
        "principalDf = pd.DataFrame(data = principalComponents, columns = ['principal component 1', 'principal component 2'])\n",
        "principalDf\n",
        "finalDf = pd.concat([principalDf, df[['price_range']]], axis = 1)\n",
        "finalDf.head()"
      ],
      "metadata": {
        "colab": {
          "base_uri": "https://localhost:8080/",
          "height": 206
        },
        "id": "vP5Nlr6HwDKK",
        "outputId": "fe63ea35-27bb-40bc-e58c-ed774921928c"
      },
      "execution_count": 185,
      "outputs": [
        {
          "output_type": "execute_result",
          "data": {
            "text/plain": [
              "   principal component 1  principal component 2  price_range\n",
              "0               1.077010               2.310927          1.0\n",
              "1              -1.912622              -0.031298          2.0\n",
              "2              -1.105114               0.230059          2.0\n",
              "3              -1.166963               0.685520          2.0\n",
              "4               1.353527              -1.202640          1.0"
            ],
            "text/html": [
              "\n",
              "  <div id=\"df-9816862c-2067-404b-abd0-859ecc7d216e\">\n",
              "    <div class=\"colab-df-container\">\n",
              "      <div>\n",
              "<style scoped>\n",
              "    .dataframe tbody tr th:only-of-type {\n",
              "        vertical-align: middle;\n",
              "    }\n",
              "\n",
              "    .dataframe tbody tr th {\n",
              "        vertical-align: top;\n",
              "    }\n",
              "\n",
              "    .dataframe thead th {\n",
              "        text-align: right;\n",
              "    }\n",
              "</style>\n",
              "<table border=\"1\" class=\"dataframe\">\n",
              "  <thead>\n",
              "    <tr style=\"text-align: right;\">\n",
              "      <th></th>\n",
              "      <th>principal component 1</th>\n",
              "      <th>principal component 2</th>\n",
              "      <th>price_range</th>\n",
              "    </tr>\n",
              "  </thead>\n",
              "  <tbody>\n",
              "    <tr>\n",
              "      <th>0</th>\n",
              "      <td>1.077010</td>\n",
              "      <td>2.310927</td>\n",
              "      <td>1.0</td>\n",
              "    </tr>\n",
              "    <tr>\n",
              "      <th>1</th>\n",
              "      <td>-1.912622</td>\n",
              "      <td>-0.031298</td>\n",
              "      <td>2.0</td>\n",
              "    </tr>\n",
              "    <tr>\n",
              "      <th>2</th>\n",
              "      <td>-1.105114</td>\n",
              "      <td>0.230059</td>\n",
              "      <td>2.0</td>\n",
              "    </tr>\n",
              "    <tr>\n",
              "      <th>3</th>\n",
              "      <td>-1.166963</td>\n",
              "      <td>0.685520</td>\n",
              "      <td>2.0</td>\n",
              "    </tr>\n",
              "    <tr>\n",
              "      <th>4</th>\n",
              "      <td>1.353527</td>\n",
              "      <td>-1.202640</td>\n",
              "      <td>1.0</td>\n",
              "    </tr>\n",
              "  </tbody>\n",
              "</table>\n",
              "</div>\n",
              "      <button class=\"colab-df-convert\" onclick=\"convertToInteractive('df-9816862c-2067-404b-abd0-859ecc7d216e')\"\n",
              "              title=\"Convert this dataframe to an interactive table.\"\n",
              "              style=\"display:none;\">\n",
              "        \n",
              "  <svg xmlns=\"http://www.w3.org/2000/svg\" height=\"24px\"viewBox=\"0 0 24 24\"\n",
              "       width=\"24px\">\n",
              "    <path d=\"M0 0h24v24H0V0z\" fill=\"none\"/>\n",
              "    <path d=\"M18.56 5.44l.94 2.06.94-2.06 2.06-.94-2.06-.94-.94-2.06-.94 2.06-2.06.94zm-11 1L8.5 8.5l.94-2.06 2.06-.94-2.06-.94L8.5 2.5l-.94 2.06-2.06.94zm10 10l.94 2.06.94-2.06 2.06-.94-2.06-.94-.94-2.06-.94 2.06-2.06.94z\"/><path d=\"M17.41 7.96l-1.37-1.37c-.4-.4-.92-.59-1.43-.59-.52 0-1.04.2-1.43.59L10.3 9.45l-7.72 7.72c-.78.78-.78 2.05 0 2.83L4 21.41c.39.39.9.59 1.41.59.51 0 1.02-.2 1.41-.59l7.78-7.78 2.81-2.81c.8-.78.8-2.07 0-2.86zM5.41 20L4 18.59l7.72-7.72 1.47 1.35L5.41 20z\"/>\n",
              "  </svg>\n",
              "      </button>\n",
              "      \n",
              "  <style>\n",
              "    .colab-df-container {\n",
              "      display:flex;\n",
              "      flex-wrap:wrap;\n",
              "      gap: 12px;\n",
              "    }\n",
              "\n",
              "    .colab-df-convert {\n",
              "      background-color: #E8F0FE;\n",
              "      border: none;\n",
              "      border-radius: 50%;\n",
              "      cursor: pointer;\n",
              "      display: none;\n",
              "      fill: #1967D2;\n",
              "      height: 32px;\n",
              "      padding: 0 0 0 0;\n",
              "      width: 32px;\n",
              "    }\n",
              "\n",
              "    .colab-df-convert:hover {\n",
              "      background-color: #E2EBFA;\n",
              "      box-shadow: 0px 1px 2px rgba(60, 64, 67, 0.3), 0px 1px 3px 1px rgba(60, 64, 67, 0.15);\n",
              "      fill: #174EA6;\n",
              "    }\n",
              "\n",
              "    [theme=dark] .colab-df-convert {\n",
              "      background-color: #3B4455;\n",
              "      fill: #D2E3FC;\n",
              "    }\n",
              "\n",
              "    [theme=dark] .colab-df-convert:hover {\n",
              "      background-color: #434B5C;\n",
              "      box-shadow: 0px 1px 3px 1px rgba(0, 0, 0, 0.15);\n",
              "      filter: drop-shadow(0px 1px 2px rgba(0, 0, 0, 0.3));\n",
              "      fill: #FFFFFF;\n",
              "    }\n",
              "  </style>\n",
              "\n",
              "      <script>\n",
              "        const buttonEl =\n",
              "          document.querySelector('#df-9816862c-2067-404b-abd0-859ecc7d216e button.colab-df-convert');\n",
              "        buttonEl.style.display =\n",
              "          google.colab.kernel.accessAllowed ? 'block' : 'none';\n",
              "\n",
              "        async function convertToInteractive(key) {\n",
              "          const element = document.querySelector('#df-9816862c-2067-404b-abd0-859ecc7d216e');\n",
              "          const dataTable =\n",
              "            await google.colab.kernel.invokeFunction('convertToInteractive',\n",
              "                                                     [key], {});\n",
              "          if (!dataTable) return;\n",
              "\n",
              "          const docLinkHtml = 'Like what you see? Visit the ' +\n",
              "            '<a target=\"_blank\" href=https://colab.research.google.com/notebooks/data_table.ipynb>data table notebook</a>'\n",
              "            + ' to learn more about interactive tables.';\n",
              "          element.innerHTML = '';\n",
              "          dataTable['output_type'] = 'display_data';\n",
              "          await google.colab.output.renderOutput(dataTable, element);\n",
              "          const docLink = document.createElement('div');\n",
              "          docLink.innerHTML = docLinkHtml;\n",
              "          element.appendChild(docLink);\n",
              "        }\n",
              "      </script>\n",
              "    </div>\n",
              "  </div>\n",
              "  "
            ]
          },
          "metadata": {},
          "execution_count": 185
        }
      ]
    },
    {
      "cell_type": "code",
      "source": [
        "x = finalDf.iloc[:,0:-1]\n",
        "y = finalDf.iloc[:,-1]\n",
        "x.shape,y.shape"
      ],
      "metadata": {
        "colab": {
          "base_uri": "https://localhost:8080/"
        },
        "id": "gOpFHmNxNAlS",
        "outputId": "2c6df95e-5082-4990-d8de-3e45fc907a7e"
      },
      "execution_count": 186,
      "outputs": [
        {
          "output_type": "execute_result",
          "data": {
            "text/plain": [
              "((1976, 2), (1976,))"
            ]
          },
          "metadata": {},
          "execution_count": 186
        }
      ]
    },
    {
      "cell_type": "code",
      "source": [
        "x.dropna(how=\"any\", inplace=True)"
      ],
      "metadata": {
        "id": "-7u3fbmBNRFy"
      },
      "execution_count": 187,
      "outputs": []
    },
    {
      "cell_type": "code",
      "source": [
        "y.dropna(how=\"any\", inplace=True)"
      ],
      "metadata": {
        "id": "JV8SjkZJPOZM"
      },
      "execution_count": 188,
      "outputs": []
    },
    {
      "cell_type": "code",
      "source": [
        "np.any(np.isnan(x))"
      ],
      "metadata": {
        "colab": {
          "base_uri": "https://localhost:8080/"
        },
        "id": "HGzNkJcMNmce",
        "outputId": "829362ca-2566-47dd-8dfa-afc27845760c"
      },
      "execution_count": 189,
      "outputs": [
        {
          "output_type": "execute_result",
          "data": {
            "text/plain": [
              "False"
            ]
          },
          "metadata": {},
          "execution_count": 189
        }
      ]
    },
    {
      "cell_type": "code",
      "source": [
        "from sklearn.model_selection import train_test_split as split\n",
        "x_train,x_val,y_train,y_val = split(x,y, test_size = 0.2, stratify=y)\n",
        "x_train.shape,x_val.shape,y_train.shape,y_val.shape"
      ],
      "metadata": {
        "colab": {
          "base_uri": "https://localhost:8080/"
        },
        "id": "4PJMVRLfM-FA",
        "outputId": "f42f0bac-dbf4-42e5-a70b-a21ed2f51b6b"
      },
      "execution_count": 190,
      "outputs": [
        {
          "output_type": "execute_result",
          "data": {
            "text/plain": [
              "((1441, 2), (361, 2), (1441,), (361,))"
            ]
          },
          "metadata": {},
          "execution_count": 190
        }
      ]
    },
    {
      "cell_type": "code",
      "source": [
        "from sklearn.preprocessing import RobustScaler\n",
        "trans = RobustScaler()\n",
        "x_train = trans.fit_transform(x_train)\n",
        "x_train = pd.DataFrame(x_train)\n",
        "\n",
        "x_val = trans.fit_transform(x_val)\n",
        "x_val = pd.DataFrame(x_val)"
      ],
      "metadata": {
        "id": "ijbrsmkkMs4Q"
      },
      "execution_count": 191,
      "outputs": []
    },
    {
      "cell_type": "code",
      "source": [
        "#random forst\n",
        "from sklearn.ensemble import RandomForestClassifier\n",
        "from sklearn.datasets import make_classification\n",
        "clf2 = RandomForestClassifier(criterion='entropy')\n",
        "clf2.fit(x_train, y_train)\n",
        "y_predicted = clf2.predict(x_val)\n",
        "y_predicted"
      ],
      "metadata": {
        "colab": {
          "base_uri": "https://localhost:8080/"
        },
        "outputId": "1aeaaa5d-ec6f-48e2-de3f-f38c26508453",
        "id": "2e7DUYDvMs4R"
      },
      "execution_count": 192,
      "outputs": [
        {
          "output_type": "execute_result",
          "data": {
            "text/plain": [
              "array([1., 2., 2., 0., 1., 0., 3., 2., 0., 0., 1., 2., 1., 1., 3., 0., 3.,\n",
              "       1., 1., 1., 2., 1., 1., 3., 2., 1., 3., 2., 0., 0., 2., 0., 0., 1.,\n",
              "       1., 2., 3., 0., 3., 2., 3., 1., 2., 3., 2., 2., 0., 3., 2., 3., 1.,\n",
              "       2., 0., 1., 3., 1., 2., 1., 1., 3., 2., 2., 1., 1., 1., 1., 1., 3.,\n",
              "       2., 2., 1., 1., 2., 3., 1., 0., 0., 3., 0., 1., 2., 1., 3., 2., 2.,\n",
              "       0., 1., 0., 3., 2., 2., 3., 2., 3., 1., 0., 2., 3., 0., 3., 2., 2.,\n",
              "       2., 0., 1., 0., 1., 2., 0., 0., 1., 1., 3., 2., 2., 0., 3., 3., 3.,\n",
              "       0., 0., 0., 0., 1., 2., 1., 0., 2., 3., 3., 1., 2., 2., 0., 1., 3.,\n",
              "       1., 0., 2., 1., 2., 1., 1., 2., 1., 1., 3., 3., 1., 2., 0., 2., 3.,\n",
              "       1., 3., 2., 3., 2., 0., 0., 2., 1., 0., 3., 0., 3., 1., 1., 3., 2.,\n",
              "       1., 3., 3., 0., 3., 2., 3., 0., 0., 3., 0., 2., 2., 1., 0., 1., 2.,\n",
              "       2., 2., 3., 0., 2., 3., 3., 3., 3., 3., 1., 0., 2., 2., 0., 3., 0.,\n",
              "       3., 3., 2., 0., 0., 1., 0., 1., 0., 1., 1., 1., 2., 2., 2., 1., 3.,\n",
              "       3., 2., 2., 2., 1., 3., 1., 2., 0., 0., 2., 1., 2., 1., 1., 2., 0.,\n",
              "       0., 1., 3., 0., 0., 0., 1., 2., 1., 2., 3., 2., 2., 1., 0., 1., 0.,\n",
              "       3., 0., 1., 1., 2., 1., 2., 1., 3., 3., 3., 0., 3., 1., 2., 3., 0.,\n",
              "       2., 1., 2., 3., 3., 2., 0., 0., 0., 2., 0., 1., 2., 3., 0., 3., 3.,\n",
              "       2., 3., 1., 3., 1., 1., 0., 3., 3., 0., 3., 0., 1., 0., 1., 1., 2.,\n",
              "       1., 3., 3., 3., 2., 0., 2., 0., 1., 3., 0., 3., 1., 0., 2., 2., 1.,\n",
              "       3., 3., 2., 0., 0., 2., 1., 3., 0., 2., 0., 2., 0., 3., 1., 2., 1.,\n",
              "       0., 2., 2., 3., 1., 3., 1., 3., 1., 2., 0., 3., 3., 0., 1., 0., 0.,\n",
              "       1., 0., 0., 1.])"
            ]
          },
          "metadata": {},
          "execution_count": 192
        }
      ]
    },
    {
      "cell_type": "code",
      "source": [
        "confusion_matrix(y_val, y_predicted)"
      ],
      "metadata": {
        "colab": {
          "base_uri": "https://localhost:8080/"
        },
        "outputId": "2f58689e-6daf-4f9b-8ceb-6f6e3ed84728",
        "id": "Tlno5XhBMs4R"
      },
      "execution_count": 196,
      "outputs": [
        {
          "output_type": "execute_result",
          "data": {
            "text/plain": [
              "array([[21, 27, 24, 18],\n",
              "       [18, 30, 17, 24],\n",
              "       [25, 22, 26, 18],\n",
              "       [22, 17, 26, 26]])"
            ]
          },
          "metadata": {},
          "execution_count": 196
        }
      ]
    },
    {
      "cell_type": "code",
      "source": [
        "clf2.score(x_val, y_val)"
      ],
      "metadata": {
        "colab": {
          "base_uri": "https://localhost:8080/"
        },
        "outputId": "026f7bf6-5497-497f-f16e-19d3d87a31df",
        "id": "d-4lCJQkMs4S"
      },
      "execution_count": 194,
      "outputs": [
        {
          "output_type": "execute_result",
          "data": {
            "text/plain": [
              "0.2853185595567867"
            ]
          },
          "metadata": {},
          "execution_count": 194
        }
      ]
    },
    {
      "cell_type": "markdown",
      "source": [
        "-----------------------------------------**Task 10**-----------------------------------------"
      ],
      "metadata": {
        "id": "nqTMzOkiRLkz"
      }
    },
    {
      "cell_type": "code",
      "source": [
        "x = df.iloc[:,0:-1]\n",
        "y = df.iloc[:,-1]\n",
        "x.shape,y.shape"
      ],
      "metadata": {
        "colab": {
          "base_uri": "https://localhost:8080/"
        },
        "outputId": "ad4476d2-c056-4674-efad-6ef23585a416",
        "id": "KUP9pjSfRcOr"
      },
      "execution_count": 319,
      "outputs": [
        {
          "output_type": "execute_result",
          "data": {
            "text/plain": [
              "((1802, 20), (1802,))"
            ]
          },
          "metadata": {},
          "execution_count": 319
        }
      ]
    },
    {
      "cell_type": "code",
      "source": [
        "y[   (y==1) | (y==2) | (y==3) ]=5"
      ],
      "metadata": {
        "id": "C_iwKGeJRego"
      },
      "execution_count": 320,
      "outputs": []
    },
    {
      "cell_type": "code",
      "source": [
        "x = df.iloc[:,0:-1]\n",
        "y = df.iloc[:,-1]\n",
        "x.shape,y.shape"
      ],
      "metadata": {
        "colab": {
          "base_uri": "https://localhost:8080/"
        },
        "outputId": "935a94ea-854b-43c5-dcd4-f8e035a3ecf5",
        "id": "vqClodErUyRu"
      },
      "execution_count": 321,
      "outputs": [
        {
          "output_type": "execute_result",
          "data": {
            "text/plain": [
              "((1802, 20), (1802,))"
            ]
          },
          "metadata": {},
          "execution_count": 321
        }
      ]
    },
    {
      "cell_type": "code",
      "source": [
        "from sklearn.model_selection import train_test_split as split\n",
        "x_train,x_val,y_train,y_val = split(x,y, test_size = 0.1, stratify=y)\n",
        "x_train.shape,x_val.shape,y_train.shape,y_val.shape"
      ],
      "metadata": {
        "colab": {
          "base_uri": "https://localhost:8080/"
        },
        "outputId": "daa50a8c-c41f-4e35-ff01-3b91eedf7e72",
        "id": "NZhqvyOqUyRv"
      },
      "execution_count": 322,
      "outputs": [
        {
          "output_type": "execute_result",
          "data": {
            "text/plain": [
              "((1621, 20), (181, 20), (1621,), (181,))"
            ]
          },
          "metadata": {},
          "execution_count": 322
        }
      ]
    },
    {
      "cell_type": "code",
      "source": [
        "#scaling\n",
        "from sklearn.preprocessing import StandardScaler\n",
        "trans = StandardScaler()\n",
        "x_train = trans.fit_transform(x_train)\n",
        "x_train = pd.DataFrame(x_train)\n",
        "\n",
        "\n",
        "x_val = trans.fit_transform(x_val)\n",
        "x_val = pd.DataFrame(x_val)"
      ],
      "metadata": {
        "id": "_9CIt5hhUyRv"
      },
      "execution_count": 323,
      "outputs": []
    },
    {
      "cell_type": "code",
      "source": [
        "from sklearn.preprocessing import RobustScaler\n",
        "trans = RobustScaler()\n",
        "x_train = trans.fit_transform(x_train)\n",
        "x_train = pd.DataFrame(x_train)\n",
        "\n",
        "x_val = trans.fit_transform(x_val)\n",
        "x_val = pd.DataFrame(x_val)"
      ],
      "metadata": {
        "id": "oHa21yS4UyRw"
      },
      "execution_count": 324,
      "outputs": []
    },
    {
      "cell_type": "code",
      "source": [
        "#random forst\n",
        "from sklearn.ensemble import RandomForestClassifier\n",
        "from sklearn.datasets import make_classification\n",
        "clf2 = RandomForestClassifier(criterion='entropy')\n",
        "clf2.fit(x_train, y_train)\n",
        "y_predicted = clf2.predict(x_val)\n",
        "y_predicted"
      ],
      "metadata": {
        "colab": {
          "base_uri": "https://localhost:8080/"
        },
        "outputId": "78a10d67-c406-44b7-9974-f65cb2c59aaf",
        "id": "dN1-ftMEUyRw"
      },
      "execution_count": 325,
      "outputs": [
        {
          "output_type": "execute_result",
          "data": {
            "text/plain": [
              "array([5., 0., 5., 5., 5., 5., 5., 0., 0., 5., 5., 0., 0., 0., 5., 5., 5.,\n",
              "       0., 5., 0., 5., 0., 5., 5., 5., 5., 5., 5., 0., 5., 5., 5., 5., 5.,\n",
              "       5., 0., 5., 5., 0., 5., 5., 0., 5., 5., 5., 5., 5., 5., 5., 5., 5.,\n",
              "       5., 5., 5., 5., 0., 5., 5., 5., 5., 0., 5., 5., 5., 5., 0., 0., 5.,\n",
              "       5., 5., 5., 5., 0., 5., 5., 5., 5., 5., 5., 0., 5., 5., 5., 5., 5.,\n",
              "       5., 0., 5., 5., 5., 5., 0., 5., 5., 0., 5., 5., 5., 5., 5., 5., 5.,\n",
              "       5., 5., 5., 0., 0., 5., 0., 5., 5., 5., 5., 5., 5., 5., 5., 5., 5.,\n",
              "       5., 5., 5., 5., 0., 0., 0., 0., 5., 5., 0., 5., 0., 5., 0., 5., 5.,\n",
              "       5., 5., 0., 5., 5., 0., 5., 0., 0., 0., 0., 5., 5., 5., 5., 5., 5.,\n",
              "       5., 5., 5., 5., 5., 5., 5., 5., 5., 5., 5., 5., 0., 5., 5., 5., 5.,\n",
              "       5., 0., 5., 5., 5., 5., 5., 0., 5., 5., 5.])"
            ]
          },
          "metadata": {},
          "execution_count": 325
        }
      ]
    },
    {
      "cell_type": "code",
      "source": [
        "confusion_matrix(y_val, y_predicted)"
      ],
      "metadata": {
        "colab": {
          "base_uri": "https://localhost:8080/"
        },
        "outputId": "820e048b-e9b5-4293-92e4-a2074d7f665e",
        "id": "wOG-iuFpUyRx"
      },
      "execution_count": 326,
      "outputs": [
        {
          "output_type": "execute_result",
          "data": {
            "text/plain": [
              "array([[ 39,   6],\n",
              "       [  2, 134]])"
            ]
          },
          "metadata": {},
          "execution_count": 326
        }
      ]
    },
    {
      "cell_type": "markdown",
      "source": [
        ""
      ],
      "metadata": {
        "id": "fG3Muf2RabV4"
      }
    },
    {
      "cell_type": "markdown",
      "source": [
        ""
      ],
      "metadata": {
        "id": "Bg2dHGn_f4UG"
      }
    },
    {
      "cell_type": "code",
      "source": [
        "from sklearn.model_selection import train_test_split as split\n",
        "x_train,x_val,y_train,y_val = split(x,y, test_size = 0.1, stratify=y)\n",
        "x_train.shape,x_val.shape,y_train.shape,y_val.shape"
      ],
      "metadata": {
        "colab": {
          "base_uri": "https://localhost:8080/"
        },
        "outputId": "9e4ed1da-d554-4de4-ae88-c80dca66b0b4",
        "id": "SFatQQsqc_PM"
      },
      "execution_count": 327,
      "outputs": [
        {
          "output_type": "execute_result",
          "data": {
            "text/plain": [
              "((1621, 20), (181, 20), (1621,), (181,))"
            ]
          },
          "metadata": {},
          "execution_count": 327
        }
      ]
    },
    {
      "cell_type": "code",
      "source": [
        "import imblearn as imblearn\n",
        "from imblearn import under_sampling, over_sampling\n",
        "from imblearn.over_sampling import SMOTE \n",
        "\n",
        "X_train_sm, y_train_sm = upsample_SMOTE(x_train, y_train, ratio=1.0)\n",
        "print(X_train_sm, y_train_sm )"
      ],
      "metadata": {
        "colab": {
          "base_uri": "https://localhost:8080/"
        },
        "id": "jViKXzTnejpQ",
        "outputId": "774e97c9-0699-46ae-cc2e-c2d3152c05ea"
      },
      "execution_count": 328,
      "outputs": [
        {
          "output_type": "stream",
          "name": "stdout",
          "text": [
            "2438 2438\n",
            "      battery_power      blue  clock_speed  dual_sim        fc    four_g  \\\n",
            "0        531.000000  1.000000     0.500000  1.000000  0.000000  1.000000   \n",
            "1       1587.000000  1.000000     0.500000  0.000000  0.000000  0.000000   \n",
            "2       1615.000000  1.000000     2.800000  0.000000  3.000000  0.000000   \n",
            "3       1762.000000  0.000000     0.700000  0.000000  7.000000  0.000000   \n",
            "4       1960.000000  1.000000     2.300000  1.000000  1.000000  1.000000   \n",
            "...             ...       ...          ...       ...       ...       ...   \n",
            "2433    1488.668719  0.000000     2.933620  0.000000  4.073755  1.000000   \n",
            "2434     673.996028  1.000000     2.665719  0.171406  0.000000  0.171406   \n",
            "2435     716.550827  0.000000     1.146260  0.000000  0.430840  0.000000   \n",
            "2436     801.169395  0.964666     2.868200  0.964666  4.141335  0.035334   \n",
            "2437     889.974025  0.298701     1.459740  1.000000  3.896104  0.298701   \n",
            "\n",
            "      int_memory     m_dep   mobile_wt   n_cores         pc   px_height  \\\n",
            "0      12.000000  0.500000  121.000000  4.000000   3.000000  158.000000   \n",
            "1      50.000000  0.900000  148.000000  8.000000  15.000000  299.000000   \n",
            "2       9.000000  0.900000  117.000000  1.000000  13.000000  542.000000   \n",
            "3      60.000000  0.100000  157.000000  4.000000  10.000000  643.000000   \n",
            "4      61.000000  0.300000   86.000000  7.000000   3.000000  205.000000   \n",
            "...          ...       ...         ...       ...        ...         ...   \n",
            "2433   19.852489  0.344253  168.336201  2.295022   7.032575  437.099569   \n",
            "2434   20.114535  0.614297  144.315965  8.000000   2.657188  332.768546   \n",
            "2435   47.383205  0.470748  150.541987  5.276641   2.292519  129.775577   \n",
            "2436   37.752663  0.492933   90.035334  3.964666   6.494674  766.957392   \n",
            "2437   38.116883  0.289610  145.623376  2.194805  16.896104  240.597405   \n",
            "\n",
            "         px_width          ram       sc_h       sc_w  talk_time   three_g  \\\n",
            "0     1657.000000  2331.000000  18.000000  12.000000  20.000000  1.000000   \n",
            "1      874.000000   461.000000  17.000000   4.000000   4.000000  1.000000   \n",
            "2      678.000000  2948.000000   8.000000   3.000000   3.000000  1.000000   \n",
            "3      790.000000  1380.000000  14.000000   5.000000  14.000000  1.000000   \n",
            "4     1299.000000  3865.000000  10.000000   7.000000  11.000000  1.000000   \n",
            "...           ...          ...        ...        ...        ...       ...   \n",
            "2433   899.523050   796.926245   6.516288   1.147511  11.221266  1.000000   \n",
            "2434   870.887053  1233.203813  11.657188   1.685624  15.000000  1.000000   \n",
            "2435  1824.231134   876.009167  14.154199   7.292519  10.138321  1.000000   \n",
            "2436  1409.572616   582.509222   9.070668   2.141335   6.106002  0.035334   \n",
            "2437   547.324677   586.688312  13.389610  11.389610   7.194805  1.000000   \n",
            "\n",
            "      touch_screen      wifi  \n",
            "0         0.000000  1.000000  \n",
            "1         0.000000  1.000000  \n",
            "2         1.000000  0.000000  \n",
            "3         0.000000  0.000000  \n",
            "4         0.000000  0.000000  \n",
            "...            ...       ...  \n",
            "2433      0.926245  0.073755  \n",
            "2434      0.000000  0.000000  \n",
            "2435      0.000000  0.569160  \n",
            "2436      1.000000  0.000000  \n",
            "2437      0.000000  0.298701  \n",
            "\n",
            "[2438 rows x 20 columns] 0       5.0\n",
            "1       0.0\n",
            "2       5.0\n",
            "3       5.0\n",
            "4       5.0\n",
            "       ... \n",
            "2433    0.0\n",
            "2434    0.0\n",
            "2435    0.0\n",
            "2436    0.0\n",
            "2437    0.0\n",
            "Name: price_range, Length: 2438, dtype: float64\n"
          ]
        }
      ]
    },
    {
      "cell_type": "code",
      "source": [
        "x_train  = pd.DataFrame(X_train_sm)\n",
        "y_train  = pd.DataFrame(y_train_sm)"
      ],
      "metadata": {
        "id": "BjQv23Udes8e"
      },
      "execution_count": 329,
      "outputs": []
    },
    {
      "cell_type": "code",
      "source": [
        "#scaling\n",
        "from sklearn.preprocessing import StandardScaler\n",
        "trans = StandardScaler()\n",
        "x_train = trans.fit_transform(x_train)\n",
        "x_train = pd.DataFrame(x_train)\n",
        "\n",
        "\n",
        "x_val = trans.fit_transform(x_val)\n",
        "x_val = pd.DataFrame(x_val)"
      ],
      "metadata": {
        "id": "p-7Cim9XgJjl"
      },
      "execution_count": 330,
      "outputs": []
    },
    {
      "cell_type": "code",
      "source": [
        "from sklearn.preprocessing import RobustScaler\n",
        "trans = RobustScaler()\n",
        "x_train = trans.fit_transform(x_train)\n",
        "x_train = pd.DataFrame(x_train)\n",
        "\n",
        "x_val = trans.fit_transform(x_val)\n",
        "x_val = pd.DataFrame(x_val)"
      ],
      "metadata": {
        "id": "B3BA-PB4gJjl"
      },
      "execution_count": 331,
      "outputs": []
    },
    {
      "cell_type": "code",
      "source": [
        "#random forst\n",
        "from sklearn.ensemble import RandomForestClassifier\n",
        "from sklearn.datasets import make_classification\n",
        "clf2 = RandomForestClassifier(criterion='entropy')\n",
        "clf2.fit(x_train, y_train)\n",
        "y_predicted = clf2.predict(x_val)\n",
        "y_predicted"
      ],
      "metadata": {
        "colab": {
          "base_uri": "https://localhost:8080/"
        },
        "outputId": "4f6f492f-8f85-4b7a-aa15-d98dbf4be3d2",
        "id": "LueEqNeHgJjm"
      },
      "execution_count": 332,
      "outputs": [
        {
          "output_type": "stream",
          "name": "stderr",
          "text": [
            "/usr/local/lib/python3.7/dist-packages/ipykernel_launcher.py:5: DataConversionWarning: A column-vector y was passed when a 1d array was expected. Please change the shape of y to (n_samples,), for example using ravel().\n",
            "  \"\"\"\n"
          ]
        },
        {
          "output_type": "execute_result",
          "data": {
            "text/plain": [
              "array([0., 5., 0., 0., 5., 0., 0., 5., 0., 0., 0., 0., 5., 0., 0., 5., 5.,\n",
              "       5., 5., 0., 0., 5., 0., 5., 5., 5., 0., 0., 0., 0., 5., 0., 0., 0.,\n",
              "       0., 5., 0., 0., 0., 0., 5., 5., 5., 5., 0., 0., 5., 0., 5., 0., 5.,\n",
              "       5., 5., 5., 5., 0., 0., 0., 0., 0., 0., 0., 0., 5., 0., 0., 0., 5.,\n",
              "       5., 0., 5., 5., 0., 5., 5., 0., 0., 5., 0., 5., 5., 5., 5., 0., 5.,\n",
              "       0., 0., 0., 0., 0., 0., 0., 5., 5., 5., 0., 0., 5., 5., 0., 0., 0.,\n",
              "       0., 0., 5., 5., 5., 0., 0., 5., 5., 5., 5., 5., 5., 5., 0., 5., 0.,\n",
              "       5., 0., 5., 5., 5., 0., 0., 0., 0., 5., 0., 0., 0., 0., 5., 0., 5.,\n",
              "       5., 5., 5., 5., 0., 0., 0., 5., 0., 0., 0., 0., 0., 5., 0., 5., 0.,\n",
              "       5., 0., 0., 5., 0., 5., 0., 5., 0., 5., 0., 0., 5., 5., 0., 5., 0.,\n",
              "       5., 5., 0., 5., 0., 0., 5., 5., 5., 0., 0.])"
            ]
          },
          "metadata": {},
          "execution_count": 332
        }
      ]
    },
    {
      "cell_type": "code",
      "source": [
        "confusion_matrix(y_val, y_predicted)"
      ],
      "metadata": {
        "colab": {
          "base_uri": "https://localhost:8080/"
        },
        "outputId": "34e4114c-8d1f-46ad-8e1c-e9abd1cc3626",
        "id": "ZodS60oZgJjm"
      },
      "execution_count": 333,
      "outputs": [
        {
          "output_type": "execute_result",
          "data": {
            "text/plain": [
              "array([[45,  0],\n",
              "       [54, 82]])"
            ]
          },
          "metadata": {},
          "execution_count": 333
        }
      ]
    },
    {
      "cell_type": "code",
      "source": [
        ""
      ],
      "metadata": {
        "id": "64y5udfsfwke"
      },
      "execution_count": null,
      "outputs": []
    }
  ]
}