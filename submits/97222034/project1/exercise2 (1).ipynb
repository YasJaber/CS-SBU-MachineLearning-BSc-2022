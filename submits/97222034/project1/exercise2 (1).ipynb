{
  "nbformat": 4,
  "nbformat_minor": 0,
  "metadata": {
    "colab": {
      "name": "exercise2.ipynb",
      "provenance": [],
      "collapsed_sections": []
    },
    "kernelspec": {
      "name": "python3",
      "display_name": "Python 3"
    },
    "language_info": {
      "name": "python"
    }
  },
  "cells": [
    {
      "cell_type": "code",
      "execution_count": 1,
      "metadata": {
        "colab": {
          "base_uri": "https://localhost:8080/"
        },
        "id": "btLn6BxsSz3G",
        "outputId": "b232adb2-c7ed-4f28-829c-a16161c665c2"
      },
      "outputs": [
        {
          "output_type": "stream",
          "name": "stdout",
          "text": [
            "Requirement already satisfied: kaggle in /usr/local/lib/python3.7/dist-packages (1.5.12)\n",
            "Requirement already satisfied: six>=1.10 in /usr/local/lib/python3.7/dist-packages (from kaggle) (1.15.0)\n",
            "Requirement already satisfied: python-dateutil in /usr/local/lib/python3.7/dist-packages (from kaggle) (2.8.2)\n",
            "Requirement already satisfied: tqdm in /usr/local/lib/python3.7/dist-packages (from kaggle) (4.63.0)\n",
            "Requirement already satisfied: python-slugify in /usr/local/lib/python3.7/dist-packages (from kaggle) (6.1.1)\n",
            "Requirement already satisfied: urllib3 in /usr/local/lib/python3.7/dist-packages (from kaggle) (1.24.3)\n",
            "Requirement already satisfied: certifi in /usr/local/lib/python3.7/dist-packages (from kaggle) (2021.10.8)\n",
            "Requirement already satisfied: requests in /usr/local/lib/python3.7/dist-packages (from kaggle) (2.23.0)\n",
            "Requirement already satisfied: text-unidecode>=1.3 in /usr/local/lib/python3.7/dist-packages (from python-slugify->kaggle) (1.3)\n",
            "Requirement already satisfied: idna<3,>=2.5 in /usr/local/lib/python3.7/dist-packages (from requests->kaggle) (2.10)\n",
            "Requirement already satisfied: chardet<4,>=3.0.2 in /usr/local/lib/python3.7/dist-packages (from requests->kaggle) (3.0.4)\n"
          ]
        }
      ],
      "source": [
        "!pip install kaggle"
      ]
    },
    {
      "cell_type": "code",
      "source": [
        "from google.colab import files\n",
        "files.upload()"
      ],
      "metadata": {
        "colab": {
          "resources": {
            "http://localhost:8080/nbextensions/google.colab/files.js": {
              "data": "Ly8gQ29weXJpZ2h0IDIwMTcgR29vZ2xlIExMQwovLwovLyBMaWNlbnNlZCB1bmRlciB0aGUgQXBhY2hlIExpY2Vuc2UsIFZlcnNpb24gMi4wICh0aGUgIkxpY2Vuc2UiKTsKLy8geW91IG1heSBub3QgdXNlIHRoaXMgZmlsZSBleGNlcHQgaW4gY29tcGxpYW5jZSB3aXRoIHRoZSBMaWNlbnNlLgovLyBZb3UgbWF5IG9idGFpbiBhIGNvcHkgb2YgdGhlIExpY2Vuc2UgYXQKLy8KLy8gICAgICBodHRwOi8vd3d3LmFwYWNoZS5vcmcvbGljZW5zZXMvTElDRU5TRS0yLjAKLy8KLy8gVW5sZXNzIHJlcXVpcmVkIGJ5IGFwcGxpY2FibGUgbGF3IG9yIGFncmVlZCB0byBpbiB3cml0aW5nLCBzb2Z0d2FyZQovLyBkaXN0cmlidXRlZCB1bmRlciB0aGUgTGljZW5zZSBpcyBkaXN0cmlidXRlZCBvbiBhbiAiQVMgSVMiIEJBU0lTLAovLyBXSVRIT1VUIFdBUlJBTlRJRVMgT1IgQ09ORElUSU9OUyBPRiBBTlkgS0lORCwgZWl0aGVyIGV4cHJlc3Mgb3IgaW1wbGllZC4KLy8gU2VlIHRoZSBMaWNlbnNlIGZvciB0aGUgc3BlY2lmaWMgbGFuZ3VhZ2UgZ292ZXJuaW5nIHBlcm1pc3Npb25zIGFuZAovLyBsaW1pdGF0aW9ucyB1bmRlciB0aGUgTGljZW5zZS4KCi8qKgogKiBAZmlsZW92ZXJ2aWV3IEhlbHBlcnMgZm9yIGdvb2dsZS5jb2xhYiBQeXRob24gbW9kdWxlLgogKi8KKGZ1bmN0aW9uKHNjb3BlKSB7CmZ1bmN0aW9uIHNwYW4odGV4dCwgc3R5bGVBdHRyaWJ1dGVzID0ge30pIHsKICBjb25zdCBlbGVtZW50ID0gZG9jdW1lbnQuY3JlYXRlRWxlbWVudCgnc3BhbicpOwogIGVsZW1lbnQudGV4dENvbnRlbnQgPSB0ZXh0OwogIGZvciAoY29uc3Qga2V5IG9mIE9iamVjdC5rZXlzKHN0eWxlQXR0cmlidXRlcykpIHsKICAgIGVsZW1lbnQuc3R5bGVba2V5XSA9IHN0eWxlQXR0cmlidXRlc1trZXldOwogIH0KICByZXR1cm4gZWxlbWVudDsKfQoKLy8gTWF4IG51bWJlciBvZiBieXRlcyB3aGljaCB3aWxsIGJlIHVwbG9hZGVkIGF0IGEgdGltZS4KY29uc3QgTUFYX1BBWUxPQURfU0laRSA9IDEwMCAqIDEwMjQ7CgpmdW5jdGlvbiBfdXBsb2FkRmlsZXMoaW5wdXRJZCwgb3V0cHV0SWQpIHsKICBjb25zdCBzdGVwcyA9IHVwbG9hZEZpbGVzU3RlcChpbnB1dElkLCBvdXRwdXRJZCk7CiAgY29uc3Qgb3V0cHV0RWxlbWVudCA9IGRvY3VtZW50LmdldEVsZW1lbnRCeUlkKG91dHB1dElkKTsKICAvLyBDYWNoZSBzdGVwcyBvbiB0aGUgb3V0cHV0RWxlbWVudCB0byBtYWtlIGl0IGF2YWlsYWJsZSBmb3IgdGhlIG5leHQgY2FsbAogIC8vIHRvIHVwbG9hZEZpbGVzQ29udGludWUgZnJvbSBQeXRob24uCiAgb3V0cHV0RWxlbWVudC5zdGVwcyA9IHN0ZXBzOwoKICByZXR1cm4gX3VwbG9hZEZpbGVzQ29udGludWUob3V0cHV0SWQpOwp9CgovLyBUaGlzIGlzIHJvdWdobHkgYW4gYXN5bmMgZ2VuZXJhdG9yIChub3Qgc3VwcG9ydGVkIGluIHRoZSBicm93c2VyIHlldCksCi8vIHdoZXJlIHRoZXJlIGFyZSBtdWx0aXBsZSBhc3luY2hyb25vdXMgc3RlcHMgYW5kIHRoZSBQeXRob24gc2lkZSBpcyBnb2luZwovLyB0byBwb2xsIGZvciBjb21wbGV0aW9uIG9mIGVhY2ggc3RlcC4KLy8gVGhpcyB1c2VzIGEgUHJvbWlzZSB0byBibG9jayB0aGUgcHl0aG9uIHNpZGUgb24gY29tcGxldGlvbiBvZiBlYWNoIHN0ZXAsCi8vIHRoZW4gcGFzc2VzIHRoZSByZXN1bHQgb2YgdGhlIHByZXZpb3VzIHN0ZXAgYXMgdGhlIGlucHV0IHRvIHRoZSBuZXh0IHN0ZXAuCmZ1bmN0aW9uIF91cGxvYWRGaWxlc0NvbnRpbnVlKG91dHB1dElkKSB7CiAgY29uc3Qgb3V0cHV0RWxlbWVudCA9IGRvY3VtZW50LmdldEVsZW1lbnRCeUlkKG91dHB1dElkKTsKICBjb25zdCBzdGVwcyA9IG91dHB1dEVsZW1lbnQuc3RlcHM7CgogIGNvbnN0IG5leHQgPSBzdGVwcy5uZXh0KG91dHB1dEVsZW1lbnQubGFzdFByb21pc2VWYWx1ZSk7CiAgcmV0dXJuIFByb21pc2UucmVzb2x2ZShuZXh0LnZhbHVlLnByb21pc2UpLnRoZW4oKHZhbHVlKSA9PiB7CiAgICAvLyBDYWNoZSB0aGUgbGFzdCBwcm9taXNlIHZhbHVlIHRvIG1ha2UgaXQgYXZhaWxhYmxlIHRvIHRoZSBuZXh0CiAgICAvLyBzdGVwIG9mIHRoZSBnZW5lcmF0b3IuCiAgICBvdXRwdXRFbGVtZW50Lmxhc3RQcm9taXNlVmFsdWUgPSB2YWx1ZTsKICAgIHJldHVybiBuZXh0LnZhbHVlLnJlc3BvbnNlOwogIH0pOwp9CgovKioKICogR2VuZXJhdG9yIGZ1bmN0aW9uIHdoaWNoIGlzIGNhbGxlZCBiZXR3ZWVuIGVhY2ggYXN5bmMgc3RlcCBvZiB0aGUgdXBsb2FkCiAqIHByb2Nlc3MuCiAqIEBwYXJhbSB7c3RyaW5nfSBpbnB1dElkIEVsZW1lbnQgSUQgb2YgdGhlIGlucHV0IGZpbGUgcGlja2VyIGVsZW1lbnQuCiAqIEBwYXJhbSB7c3RyaW5nfSBvdXRwdXRJZCBFbGVtZW50IElEIG9mIHRoZSBvdXRwdXQgZGlzcGxheS4KICogQHJldHVybiB7IUl0ZXJhYmxlPCFPYmplY3Q+fSBJdGVyYWJsZSBvZiBuZXh0IHN0ZXBzLgogKi8KZnVuY3Rpb24qIHVwbG9hZEZpbGVzU3RlcChpbnB1dElkLCBvdXRwdXRJZCkgewogIGNvbnN0IGlucHV0RWxlbWVudCA9IGRvY3VtZW50LmdldEVsZW1lbnRCeUlkKGlucHV0SWQpOwogIGlucHV0RWxlbWVudC5kaXNhYmxlZCA9IGZhbHNlOwoKICBjb25zdCBvdXRwdXRFbGVtZW50ID0gZG9jdW1lbnQuZ2V0RWxlbWVudEJ5SWQob3V0cHV0SWQpOwogIG91dHB1dEVsZW1lbnQuaW5uZXJIVE1MID0gJyc7CgogIGNvbnN0IHBpY2tlZFByb21pc2UgPSBuZXcgUHJvbWlzZSgocmVzb2x2ZSkgPT4gewogICAgaW5wdXRFbGVtZW50LmFkZEV2ZW50TGlzdGVuZXIoJ2NoYW5nZScsIChlKSA9PiB7CiAgICAgIHJlc29sdmUoZS50YXJnZXQuZmlsZXMpOwogICAgfSk7CiAgfSk7CgogIGNvbnN0IGNhbmNlbCA9IGRvY3VtZW50LmNyZWF0ZUVsZW1lbnQoJ2J1dHRvbicpOwogIGlucHV0RWxlbWVudC5wYXJlbnRFbGVtZW50LmFwcGVuZENoaWxkKGNhbmNlbCk7CiAgY2FuY2VsLnRleHRDb250ZW50ID0gJ0NhbmNlbCB1cGxvYWQnOwogIGNvbnN0IGNhbmNlbFByb21pc2UgPSBuZXcgUHJvbWlzZSgocmVzb2x2ZSkgPT4gewogICAgY2FuY2VsLm9uY2xpY2sgPSAoKSA9PiB7CiAgICAgIHJlc29sdmUobnVsbCk7CiAgICB9OwogIH0pOwoKICAvLyBXYWl0IGZvciB0aGUgdXNlciB0byBwaWNrIHRoZSBmaWxlcy4KICBjb25zdCBmaWxlcyA9IHlpZWxkIHsKICAgIHByb21pc2U6IFByb21pc2UucmFjZShbcGlja2VkUHJvbWlzZSwgY2FuY2VsUHJvbWlzZV0pLAogICAgcmVzcG9uc2U6IHsKICAgICAgYWN0aW9uOiAnc3RhcnRpbmcnLAogICAgfQogIH07CgogIGNhbmNlbC5yZW1vdmUoKTsKCiAgLy8gRGlzYWJsZSB0aGUgaW5wdXQgZWxlbWVudCBzaW5jZSBmdXJ0aGVyIHBpY2tzIGFyZSBub3QgYWxsb3dlZC4KICBpbnB1dEVsZW1lbnQuZGlzYWJsZWQgPSB0cnVlOwoKICBpZiAoIWZpbGVzKSB7CiAgICByZXR1cm4gewogICAgICByZXNwb25zZTogewogICAgICAgIGFjdGlvbjogJ2NvbXBsZXRlJywKICAgICAgfQogICAgfTsKICB9CgogIGZvciAoY29uc3QgZmlsZSBvZiBmaWxlcykgewogICAgY29uc3QgbGkgPSBkb2N1bWVudC5jcmVhdGVFbGVtZW50KCdsaScpOwogICAgbGkuYXBwZW5kKHNwYW4oZmlsZS5uYW1lLCB7Zm9udFdlaWdodDogJ2JvbGQnfSkpOwogICAgbGkuYXBwZW5kKHNwYW4oCiAgICAgICAgYCgke2ZpbGUudHlwZSB8fCAnbi9hJ30pIC0gJHtmaWxlLnNpemV9IGJ5dGVzLCBgICsKICAgICAgICBgbGFzdCBtb2RpZmllZDogJHsKICAgICAgICAgICAgZmlsZS5sYXN0TW9kaWZpZWREYXRlID8gZmlsZS5sYXN0TW9kaWZpZWREYXRlLnRvTG9jYWxlRGF0ZVN0cmluZygpIDoKICAgICAgICAgICAgICAgICAgICAgICAgICAgICAgICAgICAgJ24vYSd9IC0gYCkpOwogICAgY29uc3QgcGVyY2VudCA9IHNwYW4oJzAlIGRvbmUnKTsKICAgIGxpLmFwcGVuZENoaWxkKHBlcmNlbnQpOwoKICAgIG91dHB1dEVsZW1lbnQuYXBwZW5kQ2hpbGQobGkpOwoKICAgIGNvbnN0IGZpbGVEYXRhUHJvbWlzZSA9IG5ldyBQcm9taXNlKChyZXNvbHZlKSA9PiB7CiAgICAgIGNvbnN0IHJlYWRlciA9IG5ldyBGaWxlUmVhZGVyKCk7CiAgICAgIHJlYWRlci5vbmxvYWQgPSAoZSkgPT4gewogICAgICAgIHJlc29sdmUoZS50YXJnZXQucmVzdWx0KTsKICAgICAgfTsKICAgICAgcmVhZGVyLnJlYWRBc0FycmF5QnVmZmVyKGZpbGUpOwogICAgfSk7CiAgICAvLyBXYWl0IGZvciB0aGUgZGF0YSB0byBiZSByZWFkeS4KICAgIGxldCBmaWxlRGF0YSA9IHlpZWxkIHsKICAgICAgcHJvbWlzZTogZmlsZURhdGFQcm9taXNlLAogICAgICByZXNwb25zZTogewogICAgICAgIGFjdGlvbjogJ2NvbnRpbnVlJywKICAgICAgfQogICAgfTsKCiAgICAvLyBVc2UgYSBjaHVua2VkIHNlbmRpbmcgdG8gYXZvaWQgbWVzc2FnZSBzaXplIGxpbWl0cy4gU2VlIGIvNjIxMTU2NjAuCiAgICBsZXQgcG9zaXRpb24gPSAwOwogICAgZG8gewogICAgICBjb25zdCBsZW5ndGggPSBNYXRoLm1pbihmaWxlRGF0YS5ieXRlTGVuZ3RoIC0gcG9zaXRpb24sIE1BWF9QQVlMT0FEX1NJWkUpOwogICAgICBjb25zdCBjaHVuayA9IG5ldyBVaW50OEFycmF5KGZpbGVEYXRhLCBwb3NpdGlvbiwgbGVuZ3RoKTsKICAgICAgcG9zaXRpb24gKz0gbGVuZ3RoOwoKICAgICAgY29uc3QgYmFzZTY0ID0gYnRvYShTdHJpbmcuZnJvbUNoYXJDb2RlLmFwcGx5KG51bGwsIGNodW5rKSk7CiAgICAgIHlpZWxkIHsKICAgICAgICByZXNwb25zZTogewogICAgICAgICAgYWN0aW9uOiAnYXBwZW5kJywKICAgICAgICAgIGZpbGU6IGZpbGUubmFtZSwKICAgICAgICAgIGRhdGE6IGJhc2U2NCwKICAgICAgICB9LAogICAgICB9OwoKICAgICAgbGV0IHBlcmNlbnREb25lID0gZmlsZURhdGEuYnl0ZUxlbmd0aCA9PT0gMCA/CiAgICAgICAgICAxMDAgOgogICAgICAgICAgTWF0aC5yb3VuZCgocG9zaXRpb24gLyBmaWxlRGF0YS5ieXRlTGVuZ3RoKSAqIDEwMCk7CiAgICAgIHBlcmNlbnQudGV4dENvbnRlbnQgPSBgJHtwZXJjZW50RG9uZX0lIGRvbmVgOwoKICAgIH0gd2hpbGUgKHBvc2l0aW9uIDwgZmlsZURhdGEuYnl0ZUxlbmd0aCk7CiAgfQoKICAvLyBBbGwgZG9uZS4KICB5aWVsZCB7CiAgICByZXNwb25zZTogewogICAgICBhY3Rpb246ICdjb21wbGV0ZScsCiAgICB9CiAgfTsKfQoKc2NvcGUuZ29vZ2xlID0gc2NvcGUuZ29vZ2xlIHx8IHt9OwpzY29wZS5nb29nbGUuY29sYWIgPSBzY29wZS5nb29nbGUuY29sYWIgfHwge307CnNjb3BlLmdvb2dsZS5jb2xhYi5fZmlsZXMgPSB7CiAgX3VwbG9hZEZpbGVzLAogIF91cGxvYWRGaWxlc0NvbnRpbnVlLAp9Owp9KShzZWxmKTsK",
              "ok": true,
              "headers": [
                [
                  "content-type",
                  "application/javascript"
                ]
              ],
              "status": 200,
              "status_text": ""
            }
          },
          "base_uri": "https://localhost:8080/",
          "height": 110
        },
        "id": "X4hoeYPgU0nZ",
        "outputId": "0020fef1-fbdd-47c4-b047-1f981cdc1a2f"
      },
      "execution_count": 2,
      "outputs": [
        {
          "output_type": "display_data",
          "data": {
            "text/plain": [
              "<IPython.core.display.HTML object>"
            ],
            "text/html": [
              "\n",
              "     <input type=\"file\" id=\"files-7fb4b237-c992-4458-a5ba-83c980dd9e48\" name=\"files[]\" multiple disabled\n",
              "        style=\"border:none\" />\n",
              "     <output id=\"result-7fb4b237-c992-4458-a5ba-83c980dd9e48\">\n",
              "      Upload widget is only available when the cell has been executed in the\n",
              "      current browser session. Please rerun this cell to enable.\n",
              "      </output>\n",
              "      <script src=\"/nbextensions/google.colab/files.js\"></script> "
            ]
          },
          "metadata": {}
        },
        {
          "output_type": "stream",
          "name": "stdout",
          "text": [
            "Saving kaggle.json to kaggle.json\n"
          ]
        },
        {
          "output_type": "execute_result",
          "data": {
            "text/plain": [
              "{'kaggle.json': b'{\"username\":\"ghazaldanaei\",\"key\":\"b702112135908da02ebcf3e644012ff8\"}'}"
            ]
          },
          "metadata": {},
          "execution_count": 2
        }
      ]
    },
    {
      "cell_type": "code",
      "source": [
        "!mkdir -p ~/.kaggle\n",
        "!cp kaggle.json ~/.kaggle/\n",
        "!chmod 600 ~/.kaggle/kaggle.json"
      ],
      "metadata": {
        "id": "LU25xgOwU3Un"
      },
      "execution_count": 3,
      "outputs": []
    },
    {
      "cell_type": "code",
      "source": [
        "!kaggle datasets download -d corrieaar/apartment-rental-offers-in-germany"
      ],
      "metadata": {
        "colab": {
          "base_uri": "https://localhost:8080/"
        },
        "id": "prM6I6boU3zW",
        "outputId": "ad70c95c-1a46-489a-d143-352df8b22ab1"
      },
      "execution_count": 4,
      "outputs": [
        {
          "output_type": "stream",
          "name": "stdout",
          "text": [
            "Downloading apartment-rental-offers-in-germany.zip to /content\n",
            " 95% 88.0M/93.0M [00:00<00:00, 231MB/s]\n",
            "100% 93.0M/93.0M [00:00<00:00, 215MB/s]\n"
          ]
        }
      ]
    },
    {
      "cell_type": "code",
      "source": [
        "!ls"
      ],
      "metadata": {
        "colab": {
          "base_uri": "https://localhost:8080/"
        },
        "id": "xQFpKZbTU534",
        "outputId": "6bd25a75-b5d3-4a11-9f31-20f55d523424"
      },
      "execution_count": 5,
      "outputs": [
        {
          "output_type": "stream",
          "name": "stdout",
          "text": [
            "apartment-rental-offers-in-germany.zip\tkaggle.json  sample_data\n"
          ]
        }
      ]
    },
    {
      "cell_type": "code",
      "source": [
        "import zipfile\n",
        "zip_ref = zipfile.ZipFile('apartment-rental-offers-in-germany.zip', 'r')\n",
        "zip_ref.extractall('files')\n",
        "zip_ref.close()\n",
        "import pandas as pd\n",
        "data = pd.read_csv('/content/files/immo_data.csv')\n"
      ],
      "metadata": {
        "id": "hcVfTz9NU8s_"
      },
      "execution_count": 6,
      "outputs": []
    },
    {
      "cell_type": "code",
      "source": [
        "data.describe()"
      ],
      "metadata": {
        "colab": {
          "base_uri": "https://localhost:8080/",
          "height": 382
        },
        "id": "YTZUOwvkWKjG",
        "outputId": "4c2ace58-9b3f-41f6-be8d-9e0ea0a3ed2d"
      },
      "execution_count": null,
      "outputs": [
        {
          "output_type": "execute_result",
          "data": {
            "text/plain": [
              "       serviceCharge  telekomHybridUploadSpeed   picturecount     pricetrend  \\\n",
              "count  261941.000000                   45020.0  268850.000000  267018.000000   \n",
              "mean      151.206113                      10.0       9.791958       3.389001   \n",
              "std       308.295790                       0.0       6.408399       1.964874   \n",
              "min         0.000000                      10.0       0.000000     -12.330000   \n",
              "25%        95.000000                      10.0       6.000000       2.000000   \n",
              "50%       135.000000                      10.0       9.000000       3.390000   \n",
              "75%       190.000000                      10.0      13.000000       4.570000   \n",
              "max    146118.000000                      10.0     121.000000      14.920000   \n",
              "\n",
              "       telekomUploadSpeed     totalRent  yearConstructed       scoutId  \\\n",
              "count       235492.000000  2.283330e+05    211805.000000  2.688500e+05   \n",
              "mean            28.804928  9.013315e+02      1966.400590  1.069697e+08   \n",
              "std             16.337151  3.323833e+04        46.992207  1.250093e+07   \n",
              "min              1.000000  0.000000e+00      1000.000000  2.887174e+07   \n",
              "25%             10.000000  4.698000e+02      1950.000000  1.066910e+08   \n",
              "50%             40.000000  6.500000e+02      1973.000000  1.111584e+08   \n",
              "75%             40.000000  9.850000e+02      1996.000000  1.137688e+08   \n",
              "max            100.000000  1.575154e+07      2090.000000  1.157117e+08   \n",
              "\n",
              "       noParkSpaces  yearConstructedRange      baseRent    livingSpace  \\\n",
              "count  93052.000000         211805.000000  2.688500e+05  268850.000000   \n",
              "mean       1.327634              3.714544  6.941294e+02      74.355548   \n",
              "std        8.361403              2.738134  1.953602e+04     254.759208   \n",
              "min        0.000000              1.000000  0.000000e+00       0.000000   \n",
              "25%        1.000000              1.000000  3.380000e+02      54.000000   \n",
              "50%        1.000000              3.000000  4.900000e+02      67.320000   \n",
              "75%        1.000000              5.000000  7.990000e+02      87.000000   \n",
              "max     2241.000000              9.000000  9.999999e+06  111111.000000   \n",
              "\n",
              "       baseRentRange        geo_plz        noRooms    thermalChar  \\\n",
              "count  268850.000000  268850.000000  268850.000000  162344.000000   \n",
              "mean        3.765256   37283.022235       2.641261     114.749533   \n",
              "std         2.214357   27798.037296       2.633440      61.653663   \n",
              "min         1.000000     852.000000       1.000000       0.100000   \n",
              "25%         2.000000    9128.000000       2.000000      79.000000   \n",
              "50%         3.000000   38667.000000       3.000000     107.000000   \n",
              "75%         5.000000   57072.000000       3.000000     140.300000   \n",
              "max         9.000000   99998.000000     999.990000    1996.000000   \n",
              "\n",
              "               floor  numberOfFloors   noRoomsRange  livingSpaceRange  \\\n",
              "count  217541.000000   171118.000000  268850.000000     268850.000000   \n",
              "mean        2.122405        3.572319       2.571542          3.070790   \n",
              "std         3.634934        6.375496       0.937594          1.407127   \n",
              "min        -1.000000        0.000000       1.000000          1.000000   \n",
              "25%         1.000000        2.000000       2.000000          2.000000   \n",
              "50%         2.000000        3.000000       3.000000          3.000000   \n",
              "75%         3.000000        4.000000       3.000000          4.000000   \n",
              "max       999.000000      999.000000       5.000000          7.000000   \n",
              "\n",
              "       heatingCosts  lastRefurbish  electricityBasePrice  electricityKwhPrice  \n",
              "count  85518.000000   80711.000000          46846.000000         46846.000000  \n",
              "mean      76.990866    2013.904536             89.113612             0.199769  \n",
              "std      147.716278      10.963125              5.395805             0.009667  \n",
              "min        0.000000    1015.000000             71.430000             0.170500  \n",
              "25%       54.000000    2012.000000             90.760000             0.191500  \n",
              "50%       70.000000    2017.000000             90.760000             0.198500  \n",
              "75%       90.000000    2019.000000             90.760000             0.205500  \n",
              "max    12613.000000    2919.000000             90.760000             0.227600  "
            ],
            "text/html": [
              "\n",
              "  <div id=\"df-4f208517-26dc-4549-85b7-c5d31709c3cc\">\n",
              "    <div class=\"colab-df-container\">\n",
              "      <div>\n",
              "<style scoped>\n",
              "    .dataframe tbody tr th:only-of-type {\n",
              "        vertical-align: middle;\n",
              "    }\n",
              "\n",
              "    .dataframe tbody tr th {\n",
              "        vertical-align: top;\n",
              "    }\n",
              "\n",
              "    .dataframe thead th {\n",
              "        text-align: right;\n",
              "    }\n",
              "</style>\n",
              "<table border=\"1\" class=\"dataframe\">\n",
              "  <thead>\n",
              "    <tr style=\"text-align: right;\">\n",
              "      <th></th>\n",
              "      <th>serviceCharge</th>\n",
              "      <th>telekomHybridUploadSpeed</th>\n",
              "      <th>picturecount</th>\n",
              "      <th>pricetrend</th>\n",
              "      <th>telekomUploadSpeed</th>\n",
              "      <th>totalRent</th>\n",
              "      <th>yearConstructed</th>\n",
              "      <th>scoutId</th>\n",
              "      <th>noParkSpaces</th>\n",
              "      <th>yearConstructedRange</th>\n",
              "      <th>baseRent</th>\n",
              "      <th>livingSpace</th>\n",
              "      <th>baseRentRange</th>\n",
              "      <th>geo_plz</th>\n",
              "      <th>noRooms</th>\n",
              "      <th>thermalChar</th>\n",
              "      <th>floor</th>\n",
              "      <th>numberOfFloors</th>\n",
              "      <th>noRoomsRange</th>\n",
              "      <th>livingSpaceRange</th>\n",
              "      <th>heatingCosts</th>\n",
              "      <th>lastRefurbish</th>\n",
              "      <th>electricityBasePrice</th>\n",
              "      <th>electricityKwhPrice</th>\n",
              "    </tr>\n",
              "  </thead>\n",
              "  <tbody>\n",
              "    <tr>\n",
              "      <th>count</th>\n",
              "      <td>261941.000000</td>\n",
              "      <td>45020.0</td>\n",
              "      <td>268850.000000</td>\n",
              "      <td>267018.000000</td>\n",
              "      <td>235492.000000</td>\n",
              "      <td>2.283330e+05</td>\n",
              "      <td>211805.000000</td>\n",
              "      <td>2.688500e+05</td>\n",
              "      <td>93052.000000</td>\n",
              "      <td>211805.000000</td>\n",
              "      <td>2.688500e+05</td>\n",
              "      <td>268850.000000</td>\n",
              "      <td>268850.000000</td>\n",
              "      <td>268850.000000</td>\n",
              "      <td>268850.000000</td>\n",
              "      <td>162344.000000</td>\n",
              "      <td>217541.000000</td>\n",
              "      <td>171118.000000</td>\n",
              "      <td>268850.000000</td>\n",
              "      <td>268850.000000</td>\n",
              "      <td>85518.000000</td>\n",
              "      <td>80711.000000</td>\n",
              "      <td>46846.000000</td>\n",
              "      <td>46846.000000</td>\n",
              "    </tr>\n",
              "    <tr>\n",
              "      <th>mean</th>\n",
              "      <td>151.206113</td>\n",
              "      <td>10.0</td>\n",
              "      <td>9.791958</td>\n",
              "      <td>3.389001</td>\n",
              "      <td>28.804928</td>\n",
              "      <td>9.013315e+02</td>\n",
              "      <td>1966.400590</td>\n",
              "      <td>1.069697e+08</td>\n",
              "      <td>1.327634</td>\n",
              "      <td>3.714544</td>\n",
              "      <td>6.941294e+02</td>\n",
              "      <td>74.355548</td>\n",
              "      <td>3.765256</td>\n",
              "      <td>37283.022235</td>\n",
              "      <td>2.641261</td>\n",
              "      <td>114.749533</td>\n",
              "      <td>2.122405</td>\n",
              "      <td>3.572319</td>\n",
              "      <td>2.571542</td>\n",
              "      <td>3.070790</td>\n",
              "      <td>76.990866</td>\n",
              "      <td>2013.904536</td>\n",
              "      <td>89.113612</td>\n",
              "      <td>0.199769</td>\n",
              "    </tr>\n",
              "    <tr>\n",
              "      <th>std</th>\n",
              "      <td>308.295790</td>\n",
              "      <td>0.0</td>\n",
              "      <td>6.408399</td>\n",
              "      <td>1.964874</td>\n",
              "      <td>16.337151</td>\n",
              "      <td>3.323833e+04</td>\n",
              "      <td>46.992207</td>\n",
              "      <td>1.250093e+07</td>\n",
              "      <td>8.361403</td>\n",
              "      <td>2.738134</td>\n",
              "      <td>1.953602e+04</td>\n",
              "      <td>254.759208</td>\n",
              "      <td>2.214357</td>\n",
              "      <td>27798.037296</td>\n",
              "      <td>2.633440</td>\n",
              "      <td>61.653663</td>\n",
              "      <td>3.634934</td>\n",
              "      <td>6.375496</td>\n",
              "      <td>0.937594</td>\n",
              "      <td>1.407127</td>\n",
              "      <td>147.716278</td>\n",
              "      <td>10.963125</td>\n",
              "      <td>5.395805</td>\n",
              "      <td>0.009667</td>\n",
              "    </tr>\n",
              "    <tr>\n",
              "      <th>min</th>\n",
              "      <td>0.000000</td>\n",
              "      <td>10.0</td>\n",
              "      <td>0.000000</td>\n",
              "      <td>-12.330000</td>\n",
              "      <td>1.000000</td>\n",
              "      <td>0.000000e+00</td>\n",
              "      <td>1000.000000</td>\n",
              "      <td>2.887174e+07</td>\n",
              "      <td>0.000000</td>\n",
              "      <td>1.000000</td>\n",
              "      <td>0.000000e+00</td>\n",
              "      <td>0.000000</td>\n",
              "      <td>1.000000</td>\n",
              "      <td>852.000000</td>\n",
              "      <td>1.000000</td>\n",
              "      <td>0.100000</td>\n",
              "      <td>-1.000000</td>\n",
              "      <td>0.000000</td>\n",
              "      <td>1.000000</td>\n",
              "      <td>1.000000</td>\n",
              "      <td>0.000000</td>\n",
              "      <td>1015.000000</td>\n",
              "      <td>71.430000</td>\n",
              "      <td>0.170500</td>\n",
              "    </tr>\n",
              "    <tr>\n",
              "      <th>25%</th>\n",
              "      <td>95.000000</td>\n",
              "      <td>10.0</td>\n",
              "      <td>6.000000</td>\n",
              "      <td>2.000000</td>\n",
              "      <td>10.000000</td>\n",
              "      <td>4.698000e+02</td>\n",
              "      <td>1950.000000</td>\n",
              "      <td>1.066910e+08</td>\n",
              "      <td>1.000000</td>\n",
              "      <td>1.000000</td>\n",
              "      <td>3.380000e+02</td>\n",
              "      <td>54.000000</td>\n",
              "      <td>2.000000</td>\n",
              "      <td>9128.000000</td>\n",
              "      <td>2.000000</td>\n",
              "      <td>79.000000</td>\n",
              "      <td>1.000000</td>\n",
              "      <td>2.000000</td>\n",
              "      <td>2.000000</td>\n",
              "      <td>2.000000</td>\n",
              "      <td>54.000000</td>\n",
              "      <td>2012.000000</td>\n",
              "      <td>90.760000</td>\n",
              "      <td>0.191500</td>\n",
              "    </tr>\n",
              "    <tr>\n",
              "      <th>50%</th>\n",
              "      <td>135.000000</td>\n",
              "      <td>10.0</td>\n",
              "      <td>9.000000</td>\n",
              "      <td>3.390000</td>\n",
              "      <td>40.000000</td>\n",
              "      <td>6.500000e+02</td>\n",
              "      <td>1973.000000</td>\n",
              "      <td>1.111584e+08</td>\n",
              "      <td>1.000000</td>\n",
              "      <td>3.000000</td>\n",
              "      <td>4.900000e+02</td>\n",
              "      <td>67.320000</td>\n",
              "      <td>3.000000</td>\n",
              "      <td>38667.000000</td>\n",
              "      <td>3.000000</td>\n",
              "      <td>107.000000</td>\n",
              "      <td>2.000000</td>\n",
              "      <td>3.000000</td>\n",
              "      <td>3.000000</td>\n",
              "      <td>3.000000</td>\n",
              "      <td>70.000000</td>\n",
              "      <td>2017.000000</td>\n",
              "      <td>90.760000</td>\n",
              "      <td>0.198500</td>\n",
              "    </tr>\n",
              "    <tr>\n",
              "      <th>75%</th>\n",
              "      <td>190.000000</td>\n",
              "      <td>10.0</td>\n",
              "      <td>13.000000</td>\n",
              "      <td>4.570000</td>\n",
              "      <td>40.000000</td>\n",
              "      <td>9.850000e+02</td>\n",
              "      <td>1996.000000</td>\n",
              "      <td>1.137688e+08</td>\n",
              "      <td>1.000000</td>\n",
              "      <td>5.000000</td>\n",
              "      <td>7.990000e+02</td>\n",
              "      <td>87.000000</td>\n",
              "      <td>5.000000</td>\n",
              "      <td>57072.000000</td>\n",
              "      <td>3.000000</td>\n",
              "      <td>140.300000</td>\n",
              "      <td>3.000000</td>\n",
              "      <td>4.000000</td>\n",
              "      <td>3.000000</td>\n",
              "      <td>4.000000</td>\n",
              "      <td>90.000000</td>\n",
              "      <td>2019.000000</td>\n",
              "      <td>90.760000</td>\n",
              "      <td>0.205500</td>\n",
              "    </tr>\n",
              "    <tr>\n",
              "      <th>max</th>\n",
              "      <td>146118.000000</td>\n",
              "      <td>10.0</td>\n",
              "      <td>121.000000</td>\n",
              "      <td>14.920000</td>\n",
              "      <td>100.000000</td>\n",
              "      <td>1.575154e+07</td>\n",
              "      <td>2090.000000</td>\n",
              "      <td>1.157117e+08</td>\n",
              "      <td>2241.000000</td>\n",
              "      <td>9.000000</td>\n",
              "      <td>9.999999e+06</td>\n",
              "      <td>111111.000000</td>\n",
              "      <td>9.000000</td>\n",
              "      <td>99998.000000</td>\n",
              "      <td>999.990000</td>\n",
              "      <td>1996.000000</td>\n",
              "      <td>999.000000</td>\n",
              "      <td>999.000000</td>\n",
              "      <td>5.000000</td>\n",
              "      <td>7.000000</td>\n",
              "      <td>12613.000000</td>\n",
              "      <td>2919.000000</td>\n",
              "      <td>90.760000</td>\n",
              "      <td>0.227600</td>\n",
              "    </tr>\n",
              "  </tbody>\n",
              "</table>\n",
              "</div>\n",
              "      <button class=\"colab-df-convert\" onclick=\"convertToInteractive('df-4f208517-26dc-4549-85b7-c5d31709c3cc')\"\n",
              "              title=\"Convert this dataframe to an interactive table.\"\n",
              "              style=\"display:none;\">\n",
              "        \n",
              "  <svg xmlns=\"http://www.w3.org/2000/svg\" height=\"24px\"viewBox=\"0 0 24 24\"\n",
              "       width=\"24px\">\n",
              "    <path d=\"M0 0h24v24H0V0z\" fill=\"none\"/>\n",
              "    <path d=\"M18.56 5.44l.94 2.06.94-2.06 2.06-.94-2.06-.94-.94-2.06-.94 2.06-2.06.94zm-11 1L8.5 8.5l.94-2.06 2.06-.94-2.06-.94L8.5 2.5l-.94 2.06-2.06.94zm10 10l.94 2.06.94-2.06 2.06-.94-2.06-.94-.94-2.06-.94 2.06-2.06.94z\"/><path d=\"M17.41 7.96l-1.37-1.37c-.4-.4-.92-.59-1.43-.59-.52 0-1.04.2-1.43.59L10.3 9.45l-7.72 7.72c-.78.78-.78 2.05 0 2.83L4 21.41c.39.39.9.59 1.41.59.51 0 1.02-.2 1.41-.59l7.78-7.78 2.81-2.81c.8-.78.8-2.07 0-2.86zM5.41 20L4 18.59l7.72-7.72 1.47 1.35L5.41 20z\"/>\n",
              "  </svg>\n",
              "      </button>\n",
              "      \n",
              "  <style>\n",
              "    .colab-df-container {\n",
              "      display:flex;\n",
              "      flex-wrap:wrap;\n",
              "      gap: 12px;\n",
              "    }\n",
              "\n",
              "    .colab-df-convert {\n",
              "      background-color: #E8F0FE;\n",
              "      border: none;\n",
              "      border-radius: 50%;\n",
              "      cursor: pointer;\n",
              "      display: none;\n",
              "      fill: #1967D2;\n",
              "      height: 32px;\n",
              "      padding: 0 0 0 0;\n",
              "      width: 32px;\n",
              "    }\n",
              "\n",
              "    .colab-df-convert:hover {\n",
              "      background-color: #E2EBFA;\n",
              "      box-shadow: 0px 1px 2px rgba(60, 64, 67, 0.3), 0px 1px 3px 1px rgba(60, 64, 67, 0.15);\n",
              "      fill: #174EA6;\n",
              "    }\n",
              "\n",
              "    [theme=dark] .colab-df-convert {\n",
              "      background-color: #3B4455;\n",
              "      fill: #D2E3FC;\n",
              "    }\n",
              "\n",
              "    [theme=dark] .colab-df-convert:hover {\n",
              "      background-color: #434B5C;\n",
              "      box-shadow: 0px 1px 3px 1px rgba(0, 0, 0, 0.15);\n",
              "      filter: drop-shadow(0px 1px 2px rgba(0, 0, 0, 0.3));\n",
              "      fill: #FFFFFF;\n",
              "    }\n",
              "  </style>\n",
              "\n",
              "      <script>\n",
              "        const buttonEl =\n",
              "          document.querySelector('#df-4f208517-26dc-4549-85b7-c5d31709c3cc button.colab-df-convert');\n",
              "        buttonEl.style.display =\n",
              "          google.colab.kernel.accessAllowed ? 'block' : 'none';\n",
              "\n",
              "        async function convertToInteractive(key) {\n",
              "          const element = document.querySelector('#df-4f208517-26dc-4549-85b7-c5d31709c3cc');\n",
              "          const dataTable =\n",
              "            await google.colab.kernel.invokeFunction('convertToInteractive',\n",
              "                                                     [key], {});\n",
              "          if (!dataTable) return;\n",
              "\n",
              "          const docLinkHtml = 'Like what you see? Visit the ' +\n",
              "            '<a target=\"_blank\" href=https://colab.research.google.com/notebooks/data_table.ipynb>data table notebook</a>'\n",
              "            + ' to learn more about interactive tables.';\n",
              "          element.innerHTML = '';\n",
              "          dataTable['output_type'] = 'display_data';\n",
              "          await google.colab.output.renderOutput(dataTable, element);\n",
              "          const docLink = document.createElement('div');\n",
              "          docLink.innerHTML = docLinkHtml;\n",
              "          element.appendChild(docLink);\n",
              "        }\n",
              "      </script>\n",
              "    </div>\n",
              "  </div>\n",
              "  "
            ]
          },
          "metadata": {},
          "execution_count": 302
        },
        {
          "output_type": "stream",
          "name": "stdout",
          "text": [
            "time: 284 ms (started: 2022-04-08 18:45:13 +00:00)\n"
          ]
        }
      ]
    },
    {
      "cell_type": "code",
      "source": [
        "data.info()"
      ],
      "metadata": {
        "colab": {
          "base_uri": "https://localhost:8080/"
        },
        "id": "vimLd24UY6XF",
        "outputId": "8a1db3b4-969f-469f-ee42-842b5ebcc62d"
      },
      "execution_count": null,
      "outputs": [
        {
          "output_type": "stream",
          "name": "stdout",
          "text": [
            "<class 'pandas.core.frame.DataFrame'>\n",
            "RangeIndex: 268850 entries, 0 to 268849\n",
            "Data columns (total 49 columns):\n",
            " #   Column                    Non-Null Count   Dtype  \n",
            "---  ------                    --------------   -----  \n",
            " 0   regio1                    268850 non-null  object \n",
            " 1   serviceCharge             261941 non-null  float64\n",
            " 2   heatingType               223994 non-null  object \n",
            " 3   telekomTvOffer            236231 non-null  object \n",
            " 4   telekomHybridUploadSpeed  45020 non-null   float64\n",
            " 5   newlyConst                268850 non-null  bool   \n",
            " 6   balcony                   268850 non-null  bool   \n",
            " 7   picturecount              268850 non-null  int64  \n",
            " 8   pricetrend                267018 non-null  float64\n",
            " 9   telekomUploadSpeed        235492 non-null  float64\n",
            " 10  totalRent                 228333 non-null  float64\n",
            " 11  yearConstructed           211805 non-null  float64\n",
            " 12  scoutId                   268850 non-null  int64  \n",
            " 13  noParkSpaces              93052 non-null   float64\n",
            " 14  firingTypes               211886 non-null  object \n",
            " 15  hasKitchen                268850 non-null  bool   \n",
            " 16  geo_bln                   268850 non-null  object \n",
            " 17  cellar                    268850 non-null  bool   \n",
            " 18  yearConstructedRange      211805 non-null  float64\n",
            " 19  baseRent                  268850 non-null  float64\n",
            " 20  houseNumber               197832 non-null  object \n",
            " 21  livingSpace               268850 non-null  float64\n",
            " 22  geo_krs                   268850 non-null  object \n",
            " 23  condition                 200361 non-null  object \n",
            " 24  interiorQual              156185 non-null  object \n",
            " 25  petsAllowed               154277 non-null  object \n",
            " 26  street                    268850 non-null  object \n",
            " 27  streetPlain               197837 non-null  object \n",
            " 28  lift                      268850 non-null  bool   \n",
            " 29  baseRentRange             268850 non-null  int64  \n",
            " 30  typeOfFlat                232236 non-null  object \n",
            " 31  geo_plz                   268850 non-null  int64  \n",
            " 32  noRooms                   268850 non-null  float64\n",
            " 33  thermalChar               162344 non-null  float64\n",
            " 34  floor                     217541 non-null  float64\n",
            " 35  numberOfFloors            171118 non-null  float64\n",
            " 36  noRoomsRange              268850 non-null  int64  \n",
            " 37  garden                    268850 non-null  bool   \n",
            " 38  livingSpaceRange          268850 non-null  int64  \n",
            " 39  regio2                    268850 non-null  object \n",
            " 40  regio3                    268850 non-null  object \n",
            " 41  description               249103 non-null  object \n",
            " 42  facilities                215926 non-null  object \n",
            " 43  heatingCosts              85518 non-null   float64\n",
            " 44  energyEfficiencyClass     77787 non-null   object \n",
            " 45  lastRefurbish             80711 non-null   float64\n",
            " 46  electricityBasePrice      46846 non-null   float64\n",
            " 47  electricityKwhPrice       46846 non-null   float64\n",
            " 48  date                      268850 non-null  object \n",
            "dtypes: bool(6), float64(18), int64(6), object(19)\n",
            "memory usage: 89.7+ MB\n"
          ]
        }
      ]
    },
    {
      "cell_type": "markdown",
      "source": [
        "deleting all the columns with more than 50% null values."
      ],
      "metadata": {
        "id": "DeAlDPV0UCp0"
      }
    },
    {
      "cell_type": "code",
      "source": [
        "for col in data.columns:\n",
        "  if (data[col].isna().sum()/ len(data))>0.5:\n",
        "    data.drop(col, inplace=True, axis=1)"
      ],
      "metadata": {
        "id": "Fh64kTh8YD5R"
      },
      "execution_count": 31,
      "outputs": []
    },
    {
      "cell_type": "markdown",
      "source": [
        "no duplicates were found"
      ],
      "metadata": {
        "id": "Z7KNOgndX5ye"
      }
    },
    {
      "cell_type": "code",
      "source": [
        "data.drop_duplicates(inplace=True)"
      ],
      "metadata": {
        "colab": {
          "base_uri": "https://localhost:8080/"
        },
        "id": "2EXKNwOFTTIQ",
        "outputId": "38f12e8f-7ff6-448a-c7f7-2a2fb3f46f8c"
      },
      "execution_count": null,
      "outputs": [
        {
          "output_type": "stream",
          "name": "stdout",
          "text": [
            "time: 1.05 s (started: 2022-04-08 18:45:22 +00:00)\n"
          ]
        }
      ]
    },
    {
      "cell_type": "code",
      "source": [
        "data.isna().sum()"
      ],
      "metadata": {
        "id": "s0Gg0ukMbfAr",
        "colab": {
          "base_uri": "https://localhost:8080/"
        },
        "outputId": "3369db7b-7561-4626-eb96-de07cbddac46"
      },
      "execution_count": null,
      "outputs": [
        {
          "output_type": "execute_result",
          "data": {
            "text/plain": [
              "regio1                       0\n",
              "serviceCharge             6909\n",
              "heatingType              44856\n",
              "telekomTvOffer           32619\n",
              "newlyConst                   0\n",
              "balcony                      0\n",
              "picturecount                 0\n",
              "pricetrend                1832\n",
              "telekomUploadSpeed       33358\n",
              "totalRent                40517\n",
              "yearConstructed          57045\n",
              "scoutId                      0\n",
              "firingTypes              56964\n",
              "hasKitchen                   0\n",
              "geo_bln                      0\n",
              "cellar                       0\n",
              "yearConstructedRange     57045\n",
              "baseRent                     0\n",
              "houseNumber              71018\n",
              "livingSpace                  0\n",
              "geo_krs                      0\n",
              "condition                68489\n",
              "interiorQual            112665\n",
              "petsAllowed             114573\n",
              "street                       0\n",
              "streetPlain              71013\n",
              "lift                         0\n",
              "baseRentRange                0\n",
              "typeOfFlat               36614\n",
              "geo_plz                      0\n",
              "noRooms                      0\n",
              "thermalChar             106506\n",
              "floor                    51309\n",
              "numberOfFloors           97732\n",
              "noRoomsRange                 0\n",
              "garden                       0\n",
              "livingSpaceRange             0\n",
              "regio2                       0\n",
              "regio3                       0\n",
              "description              19747\n",
              "facilities               52924\n",
              "date                         0\n",
              "dtype: int64"
            ]
          },
          "metadata": {},
          "execution_count": 305
        },
        {
          "output_type": "stream",
          "name": "stdout",
          "text": [
            "time: 260 ms (started: 2022-04-08 18:45:23 +00:00)\n"
          ]
        }
      ]
    },
    {
      "cell_type": "markdown",
      "source": [
        "**deleting the unwanted text information**"
      ],
      "metadata": {
        "id": "p0UR2ykLU6uK"
      }
    },
    {
      "cell_type": "markdown",
      "source": [
        "geo_bln\n",
        "bundesland (state), same as regio1\n",
        "\n",
        "regio2\n",
        "District or Kreis, same as geo krs\n",
        "\n",
        "geo_krs\n",
        "district, above ZIP code\n",
        "\n",
        "regio3\n",
        "City/town"
      ],
      "metadata": {
        "id": "AIUYRm6EuEIw"
      }
    },
    {
      "cell_type": "code",
      "source": [
        "data.drop([\"geo_bln\", \"geo_krs\" ], inplace=True, axis=1)"
      ],
      "metadata": {
        "colab": {
          "base_uri": "https://localhost:8080/"
        },
        "id": "zYPSZ17cuuRm",
        "outputId": "501cbb44-1482-48df-bcfa-69643f89b5c0"
      },
      "execution_count": null,
      "outputs": [
        {
          "output_type": "stream",
          "name": "stdout",
          "text": [
            "time: 70.9 ms (started: 2022-04-08 18:45:28 +00:00)\n"
          ]
        }
      ]
    },
    {
      "cell_type": "code",
      "source": [
        "data.drop([\"scoutId\"], inplace=True, axis=1)"
      ],
      "metadata": {
        "id": "Ij17yRAv3PDP"
      },
      "execution_count": null,
      "outputs": []
    },
    {
      "cell_type": "code",
      "source": [
        "data.drop([\"description\", \"facilities\" ], inplace=True, axis=1)"
      ],
      "metadata": {
        "id": "DYV-TPgwb1UM",
        "colab": {
          "base_uri": "https://localhost:8080/"
        },
        "outputId": "67ffc8fb-aed5-4d9d-ec88-60321a910083"
      },
      "execution_count": null,
      "outputs": [
        {
          "output_type": "stream",
          "name": "stdout",
          "text": [
            "time: 110 ms (started: 2022-04-08 18:45:29 +00:00)\n"
          ]
        }
      ]
    },
    {
      "cell_type": "code",
      "source": [
        "data.drop([\"houseNumber\"], inplace=True, axis=1)"
      ],
      "metadata": {
        "colab": {
          "base_uri": "https://localhost:8080/"
        },
        "id": "mtvvYV7XgqQf",
        "outputId": "2863d36e-9d70-4e53-c0da-f24d706bf282"
      },
      "execution_count": null,
      "outputs": [
        {
          "output_type": "stream",
          "name": "stdout",
          "text": [
            "time: 39.8 ms (started: 2022-04-08 18:45:50 +00:00)\n"
          ]
        }
      ]
    },
    {
      "cell_type": "code",
      "source": [
        "data.drop([\"streetPlain\"], inplace=True, axis=1)"
      ],
      "metadata": {
        "colab": {
          "base_uri": "https://localhost:8080/"
        },
        "id": "vPwYUmFRi_FT",
        "outputId": "906257be-8d53-4719-a8b5-334c193cc1df"
      },
      "execution_count": null,
      "outputs": [
        {
          "output_type": "stream",
          "name": "stdout",
          "text": [
            "time: 39.2 ms (started: 2022-04-08 18:45:52 +00:00)\n"
          ]
        }
      ]
    },
    {
      "cell_type": "code",
      "source": [
        "data.drop([\"street\"], inplace=True, axis=1)"
      ],
      "metadata": {
        "colab": {
          "base_uri": "https://localhost:8080/"
        },
        "id": "kTIZPc3Wgzmq",
        "outputId": "e36876d6-d36c-4b40-f26a-07560dcb800a"
      },
      "execution_count": null,
      "outputs": [
        {
          "output_type": "stream",
          "name": "stdout",
          "text": [
            "time: 38.9 ms (started: 2022-04-08 18:45:55 +00:00)\n"
          ]
        }
      ]
    },
    {
      "cell_type": "markdown",
      "source": [
        "filling null values"
      ],
      "metadata": {
        "id": "zDt9ba6NZM3E"
      }
    },
    {
      "cell_type": "code",
      "source": [
        "pd.set_option('display.max_columns', None)\n",
        "data"
      ],
      "metadata": {
        "colab": {
          "base_uri": "https://localhost:8080/",
          "height": 505
        },
        "id": "plcoLvuFZPLb",
        "outputId": "c90600f9-9ab1-4f18-a5f8-85a67eab0338"
      },
      "execution_count": null,
      "outputs": [
        {
          "output_type": "execute_result",
          "data": {
            "text/plain": [
              "                     regio1  serviceCharge                     heatingType  \\\n",
              "0       Nordrhein_Westfalen         245.00                 central_heating   \n",
              "1           Rheinland_Pfalz         134.00  self_contained_central_heating   \n",
              "2                   Sachsen         255.00                   floor_heating   \n",
              "3                   Sachsen          58.15                district_heating   \n",
              "4                    Bremen         138.00  self_contained_central_heating   \n",
              "...                     ...            ...                             ...   \n",
              "268845               Bayern          90.00                       heat_pump   \n",
              "268846               Hessen         220.00                     gas_heating   \n",
              "268847               Hessen         220.00                 central_heating   \n",
              "268848  Nordrhein_Westfalen         175.00                       heat_pump   \n",
              "268849               Hessen         315.00                 central_heating   \n",
              "\n",
              "       telekomTvOffer  newlyConst  balcony  picturecount  pricetrend  \\\n",
              "0       ONE_YEAR_FREE       False    False             6        4.62   \n",
              "1       ONE_YEAR_FREE       False     True             8        3.47   \n",
              "2       ONE_YEAR_FREE        True     True             8        2.72   \n",
              "3       ONE_YEAR_FREE       False     True             9        1.53   \n",
              "4                 NaN       False     True            19        2.46   \n",
              "...               ...         ...      ...           ...         ...   \n",
              "268845  ONE_YEAR_FREE       False     True             0        2.74   \n",
              "268846            NaN       False     True            12        6.49   \n",
              "268847  ONE_YEAR_FREE       False     True            21        2.90   \n",
              "268848            NaN        True     True            16        4.39   \n",
              "268849            NaN       False     True             9        5.00   \n",
              "\n",
              "        telekomUploadSpeed  totalRent  yearConstructed       firingTypes  \\\n",
              "0                     10.0      840.0           1965.0               oil   \n",
              "1                     10.0        NaN           1871.0               gas   \n",
              "2                      2.4     1300.0           2019.0               NaN   \n",
              "3                     40.0        NaN           1964.0  district_heating   \n",
              "4                      NaN      903.0           1950.0               gas   \n",
              "...                    ...        ...              ...               ...   \n",
              "268845                10.0      910.0           2016.0        geothermal   \n",
              "268846                 NaN     1150.0           1983.0               gas   \n",
              "268847                40.0      930.0           1965.0               gas   \n",
              "268848                 NaN     1015.0           2019.0               gas   \n",
              "268849                 NaN        NaN           1972.0  district_heating   \n",
              "\n",
              "        hasKitchen  cellar  yearConstructedRange  baseRent  livingSpace  \\\n",
              "0            False    True                   2.0     595.0        86.00   \n",
              "1            False   False                   1.0     800.0        89.00   \n",
              "2            False    True                   9.0     965.0        83.80   \n",
              "3            False   False                   2.0     343.0        58.15   \n",
              "4            False   False                   1.0     765.0        84.97   \n",
              "...            ...     ...                   ...       ...          ...   \n",
              "268845       False    True                   9.0     820.0        90.00   \n",
              "268846        True   False                   4.0     930.0       115.00   \n",
              "268847       False    True                   2.0     650.0        95.00   \n",
              "268848       False    True                   9.0     840.0        70.00   \n",
              "268849        True    True                   3.0     935.0        77.00   \n",
              "\n",
              "             condition   interiorQual petsAllowed   lift  baseRentRange  \\\n",
              "0            well_kept         normal         NaN  False              4   \n",
              "1          refurbished         normal          no  False              5   \n",
              "2       first_time_use  sophisticated         NaN   True              6   \n",
              "3                  NaN            NaN         NaN  False              2   \n",
              "4          refurbished            NaN         NaN  False              5   \n",
              "...                ...            ...         ...    ...            ...   \n",
              "268845  mint_condition  sophisticated          no  False              6   \n",
              "268846       well_kept  sophisticated  negotiable  False              6   \n",
              "268847       well_kept            NaN  negotiable  False              5   \n",
              "268848  first_time_use  sophisticated          no   True              6   \n",
              "268849      modernized            NaN         NaN   True              6   \n",
              "\n",
              "          typeOfFlat  geo_plz  noRooms  thermalChar  floor  numberOfFloors  \\\n",
              "0       ground_floor    44269      4.0       181.40    1.0             3.0   \n",
              "1       ground_floor    67459      3.0          NaN    NaN             NaN   \n",
              "2          apartment     1097      3.0          NaN    3.0             4.0   \n",
              "3              other     9599      3.0        86.00    3.0             NaN   \n",
              "4          apartment    28213      3.0       188.90    1.0             NaN   \n",
              "...              ...      ...      ...          ...    ...             ...   \n",
              "268845   roof_storey    82390      3.0          NaN    NaN             NaN   \n",
              "268846     apartment    68519      3.5          NaN    1.0             1.0   \n",
              "268847     apartment    65552      4.0       160.77    1.0             2.0   \n",
              "268848     apartment    51069      2.0        24.70    NaN             5.0   \n",
              "268849     apartment    65936      3.0          NaN    NaN            13.0   \n",
              "\n",
              "        noRoomsRange  garden  livingSpaceRange                   regio2  \\\n",
              "0                  4    True                 4                 Dortmund   \n",
              "1                  3   False                 4        Rhein_Pfalz_Kreis   \n",
              "2                  3   False                 4                  Dresden   \n",
              "3                  3   False                 2      Mittelsachsen_Kreis   \n",
              "4                  3   False                 4                   Bremen   \n",
              "...              ...     ...               ...                      ...   \n",
              "268845             3   False                 4  Weilheim_Schongau_Kreis   \n",
              "268846             3   False                 5         Bergstraße_Kreis   \n",
              "268847             4    True                 4   Limburg_Weilburg_Kreis   \n",
              "268848             2   False                 3                     Köln   \n",
              "268849             3   False                 3        Frankfurt_am_Main   \n",
              "\n",
              "                            regio3   date  \n",
              "0                          Schüren  May19  \n",
              "1                   Böhl_Iggelheim  May19  \n",
              "2       Äußere_Neustadt_Antonstadt  Oct19  \n",
              "3                         Freiberg  May19  \n",
              "4                Neu_Schwachhausen  Feb20  \n",
              "...                            ...    ...  \n",
              "268845                    Eberfing  Feb20  \n",
              "268846                   Viernheim  May19  \n",
              "268847         Limburg_an_der_Lahn  Feb20  \n",
              "268848                   Dellbrück  May19  \n",
              "268849                  Sossenheim  Feb20  \n",
              "\n",
              "[268850 rows x 34 columns]"
            ],
            "text/html": [
              "\n",
              "  <div id=\"df-0f777f8f-1a55-41f2-8e3b-0e8abdafa5fd\">\n",
              "    <div class=\"colab-df-container\">\n",
              "      <div>\n",
              "<style scoped>\n",
              "    .dataframe tbody tr th:only-of-type {\n",
              "        vertical-align: middle;\n",
              "    }\n",
              "\n",
              "    .dataframe tbody tr th {\n",
              "        vertical-align: top;\n",
              "    }\n",
              "\n",
              "    .dataframe thead th {\n",
              "        text-align: right;\n",
              "    }\n",
              "</style>\n",
              "<table border=\"1\" class=\"dataframe\">\n",
              "  <thead>\n",
              "    <tr style=\"text-align: right;\">\n",
              "      <th></th>\n",
              "      <th>regio1</th>\n",
              "      <th>serviceCharge</th>\n",
              "      <th>heatingType</th>\n",
              "      <th>telekomTvOffer</th>\n",
              "      <th>newlyConst</th>\n",
              "      <th>balcony</th>\n",
              "      <th>picturecount</th>\n",
              "      <th>pricetrend</th>\n",
              "      <th>telekomUploadSpeed</th>\n",
              "      <th>totalRent</th>\n",
              "      <th>yearConstructed</th>\n",
              "      <th>firingTypes</th>\n",
              "      <th>hasKitchen</th>\n",
              "      <th>cellar</th>\n",
              "      <th>yearConstructedRange</th>\n",
              "      <th>baseRent</th>\n",
              "      <th>livingSpace</th>\n",
              "      <th>condition</th>\n",
              "      <th>interiorQual</th>\n",
              "      <th>petsAllowed</th>\n",
              "      <th>lift</th>\n",
              "      <th>baseRentRange</th>\n",
              "      <th>typeOfFlat</th>\n",
              "      <th>geo_plz</th>\n",
              "      <th>noRooms</th>\n",
              "      <th>thermalChar</th>\n",
              "      <th>floor</th>\n",
              "      <th>numberOfFloors</th>\n",
              "      <th>noRoomsRange</th>\n",
              "      <th>garden</th>\n",
              "      <th>livingSpaceRange</th>\n",
              "      <th>regio2</th>\n",
              "      <th>regio3</th>\n",
              "      <th>date</th>\n",
              "    </tr>\n",
              "  </thead>\n",
              "  <tbody>\n",
              "    <tr>\n",
              "      <th>0</th>\n",
              "      <td>Nordrhein_Westfalen</td>\n",
              "      <td>245.00</td>\n",
              "      <td>central_heating</td>\n",
              "      <td>ONE_YEAR_FREE</td>\n",
              "      <td>False</td>\n",
              "      <td>False</td>\n",
              "      <td>6</td>\n",
              "      <td>4.62</td>\n",
              "      <td>10.0</td>\n",
              "      <td>840.0</td>\n",
              "      <td>1965.0</td>\n",
              "      <td>oil</td>\n",
              "      <td>False</td>\n",
              "      <td>True</td>\n",
              "      <td>2.0</td>\n",
              "      <td>595.0</td>\n",
              "      <td>86.00</td>\n",
              "      <td>well_kept</td>\n",
              "      <td>normal</td>\n",
              "      <td>NaN</td>\n",
              "      <td>False</td>\n",
              "      <td>4</td>\n",
              "      <td>ground_floor</td>\n",
              "      <td>44269</td>\n",
              "      <td>4.0</td>\n",
              "      <td>181.40</td>\n",
              "      <td>1.0</td>\n",
              "      <td>3.0</td>\n",
              "      <td>4</td>\n",
              "      <td>True</td>\n",
              "      <td>4</td>\n",
              "      <td>Dortmund</td>\n",
              "      <td>Schüren</td>\n",
              "      <td>May19</td>\n",
              "    </tr>\n",
              "    <tr>\n",
              "      <th>1</th>\n",
              "      <td>Rheinland_Pfalz</td>\n",
              "      <td>134.00</td>\n",
              "      <td>self_contained_central_heating</td>\n",
              "      <td>ONE_YEAR_FREE</td>\n",
              "      <td>False</td>\n",
              "      <td>True</td>\n",
              "      <td>8</td>\n",
              "      <td>3.47</td>\n",
              "      <td>10.0</td>\n",
              "      <td>NaN</td>\n",
              "      <td>1871.0</td>\n",
              "      <td>gas</td>\n",
              "      <td>False</td>\n",
              "      <td>False</td>\n",
              "      <td>1.0</td>\n",
              "      <td>800.0</td>\n",
              "      <td>89.00</td>\n",
              "      <td>refurbished</td>\n",
              "      <td>normal</td>\n",
              "      <td>no</td>\n",
              "      <td>False</td>\n",
              "      <td>5</td>\n",
              "      <td>ground_floor</td>\n",
              "      <td>67459</td>\n",
              "      <td>3.0</td>\n",
              "      <td>NaN</td>\n",
              "      <td>NaN</td>\n",
              "      <td>NaN</td>\n",
              "      <td>3</td>\n",
              "      <td>False</td>\n",
              "      <td>4</td>\n",
              "      <td>Rhein_Pfalz_Kreis</td>\n",
              "      <td>Böhl_Iggelheim</td>\n",
              "      <td>May19</td>\n",
              "    </tr>\n",
              "    <tr>\n",
              "      <th>2</th>\n",
              "      <td>Sachsen</td>\n",
              "      <td>255.00</td>\n",
              "      <td>floor_heating</td>\n",
              "      <td>ONE_YEAR_FREE</td>\n",
              "      <td>True</td>\n",
              "      <td>True</td>\n",
              "      <td>8</td>\n",
              "      <td>2.72</td>\n",
              "      <td>2.4</td>\n",
              "      <td>1300.0</td>\n",
              "      <td>2019.0</td>\n",
              "      <td>NaN</td>\n",
              "      <td>False</td>\n",
              "      <td>True</td>\n",
              "      <td>9.0</td>\n",
              "      <td>965.0</td>\n",
              "      <td>83.80</td>\n",
              "      <td>first_time_use</td>\n",
              "      <td>sophisticated</td>\n",
              "      <td>NaN</td>\n",
              "      <td>True</td>\n",
              "      <td>6</td>\n",
              "      <td>apartment</td>\n",
              "      <td>1097</td>\n",
              "      <td>3.0</td>\n",
              "      <td>NaN</td>\n",
              "      <td>3.0</td>\n",
              "      <td>4.0</td>\n",
              "      <td>3</td>\n",
              "      <td>False</td>\n",
              "      <td>4</td>\n",
              "      <td>Dresden</td>\n",
              "      <td>Äußere_Neustadt_Antonstadt</td>\n",
              "      <td>Oct19</td>\n",
              "    </tr>\n",
              "    <tr>\n",
              "      <th>3</th>\n",
              "      <td>Sachsen</td>\n",
              "      <td>58.15</td>\n",
              "      <td>district_heating</td>\n",
              "      <td>ONE_YEAR_FREE</td>\n",
              "      <td>False</td>\n",
              "      <td>True</td>\n",
              "      <td>9</td>\n",
              "      <td>1.53</td>\n",
              "      <td>40.0</td>\n",
              "      <td>NaN</td>\n",
              "      <td>1964.0</td>\n",
              "      <td>district_heating</td>\n",
              "      <td>False</td>\n",
              "      <td>False</td>\n",
              "      <td>2.0</td>\n",
              "      <td>343.0</td>\n",
              "      <td>58.15</td>\n",
              "      <td>NaN</td>\n",
              "      <td>NaN</td>\n",
              "      <td>NaN</td>\n",
              "      <td>False</td>\n",
              "      <td>2</td>\n",
              "      <td>other</td>\n",
              "      <td>9599</td>\n",
              "      <td>3.0</td>\n",
              "      <td>86.00</td>\n",
              "      <td>3.0</td>\n",
              "      <td>NaN</td>\n",
              "      <td>3</td>\n",
              "      <td>False</td>\n",
              "      <td>2</td>\n",
              "      <td>Mittelsachsen_Kreis</td>\n",
              "      <td>Freiberg</td>\n",
              "      <td>May19</td>\n",
              "    </tr>\n",
              "    <tr>\n",
              "      <th>4</th>\n",
              "      <td>Bremen</td>\n",
              "      <td>138.00</td>\n",
              "      <td>self_contained_central_heating</td>\n",
              "      <td>NaN</td>\n",
              "      <td>False</td>\n",
              "      <td>True</td>\n",
              "      <td>19</td>\n",
              "      <td>2.46</td>\n",
              "      <td>NaN</td>\n",
              "      <td>903.0</td>\n",
              "      <td>1950.0</td>\n",
              "      <td>gas</td>\n",
              "      <td>False</td>\n",
              "      <td>False</td>\n",
              "      <td>1.0</td>\n",
              "      <td>765.0</td>\n",
              "      <td>84.97</td>\n",
              "      <td>refurbished</td>\n",
              "      <td>NaN</td>\n",
              "      <td>NaN</td>\n",
              "      <td>False</td>\n",
              "      <td>5</td>\n",
              "      <td>apartment</td>\n",
              "      <td>28213</td>\n",
              "      <td>3.0</td>\n",
              "      <td>188.90</td>\n",
              "      <td>1.0</td>\n",
              "      <td>NaN</td>\n",
              "      <td>3</td>\n",
              "      <td>False</td>\n",
              "      <td>4</td>\n",
              "      <td>Bremen</td>\n",
              "      <td>Neu_Schwachhausen</td>\n",
              "      <td>Feb20</td>\n",
              "    </tr>\n",
              "    <tr>\n",
              "      <th>...</th>\n",
              "      <td>...</td>\n",
              "      <td>...</td>\n",
              "      <td>...</td>\n",
              "      <td>...</td>\n",
              "      <td>...</td>\n",
              "      <td>...</td>\n",
              "      <td>...</td>\n",
              "      <td>...</td>\n",
              "      <td>...</td>\n",
              "      <td>...</td>\n",
              "      <td>...</td>\n",
              "      <td>...</td>\n",
              "      <td>...</td>\n",
              "      <td>...</td>\n",
              "      <td>...</td>\n",
              "      <td>...</td>\n",
              "      <td>...</td>\n",
              "      <td>...</td>\n",
              "      <td>...</td>\n",
              "      <td>...</td>\n",
              "      <td>...</td>\n",
              "      <td>...</td>\n",
              "      <td>...</td>\n",
              "      <td>...</td>\n",
              "      <td>...</td>\n",
              "      <td>...</td>\n",
              "      <td>...</td>\n",
              "      <td>...</td>\n",
              "      <td>...</td>\n",
              "      <td>...</td>\n",
              "      <td>...</td>\n",
              "      <td>...</td>\n",
              "      <td>...</td>\n",
              "      <td>...</td>\n",
              "    </tr>\n",
              "    <tr>\n",
              "      <th>268845</th>\n",
              "      <td>Bayern</td>\n",
              "      <td>90.00</td>\n",
              "      <td>heat_pump</td>\n",
              "      <td>ONE_YEAR_FREE</td>\n",
              "      <td>False</td>\n",
              "      <td>True</td>\n",
              "      <td>0</td>\n",
              "      <td>2.74</td>\n",
              "      <td>10.0</td>\n",
              "      <td>910.0</td>\n",
              "      <td>2016.0</td>\n",
              "      <td>geothermal</td>\n",
              "      <td>False</td>\n",
              "      <td>True</td>\n",
              "      <td>9.0</td>\n",
              "      <td>820.0</td>\n",
              "      <td>90.00</td>\n",
              "      <td>mint_condition</td>\n",
              "      <td>sophisticated</td>\n",
              "      <td>no</td>\n",
              "      <td>False</td>\n",
              "      <td>6</td>\n",
              "      <td>roof_storey</td>\n",
              "      <td>82390</td>\n",
              "      <td>3.0</td>\n",
              "      <td>NaN</td>\n",
              "      <td>NaN</td>\n",
              "      <td>NaN</td>\n",
              "      <td>3</td>\n",
              "      <td>False</td>\n",
              "      <td>4</td>\n",
              "      <td>Weilheim_Schongau_Kreis</td>\n",
              "      <td>Eberfing</td>\n",
              "      <td>Feb20</td>\n",
              "    </tr>\n",
              "    <tr>\n",
              "      <th>268846</th>\n",
              "      <td>Hessen</td>\n",
              "      <td>220.00</td>\n",
              "      <td>gas_heating</td>\n",
              "      <td>NaN</td>\n",
              "      <td>False</td>\n",
              "      <td>True</td>\n",
              "      <td>12</td>\n",
              "      <td>6.49</td>\n",
              "      <td>NaN</td>\n",
              "      <td>1150.0</td>\n",
              "      <td>1983.0</td>\n",
              "      <td>gas</td>\n",
              "      <td>True</td>\n",
              "      <td>False</td>\n",
              "      <td>4.0</td>\n",
              "      <td>930.0</td>\n",
              "      <td>115.00</td>\n",
              "      <td>well_kept</td>\n",
              "      <td>sophisticated</td>\n",
              "      <td>negotiable</td>\n",
              "      <td>False</td>\n",
              "      <td>6</td>\n",
              "      <td>apartment</td>\n",
              "      <td>68519</td>\n",
              "      <td>3.5</td>\n",
              "      <td>NaN</td>\n",
              "      <td>1.0</td>\n",
              "      <td>1.0</td>\n",
              "      <td>3</td>\n",
              "      <td>False</td>\n",
              "      <td>5</td>\n",
              "      <td>Bergstraße_Kreis</td>\n",
              "      <td>Viernheim</td>\n",
              "      <td>May19</td>\n",
              "    </tr>\n",
              "    <tr>\n",
              "      <th>268847</th>\n",
              "      <td>Hessen</td>\n",
              "      <td>220.00</td>\n",
              "      <td>central_heating</td>\n",
              "      <td>ONE_YEAR_FREE</td>\n",
              "      <td>False</td>\n",
              "      <td>True</td>\n",
              "      <td>21</td>\n",
              "      <td>2.90</td>\n",
              "      <td>40.0</td>\n",
              "      <td>930.0</td>\n",
              "      <td>1965.0</td>\n",
              "      <td>gas</td>\n",
              "      <td>False</td>\n",
              "      <td>True</td>\n",
              "      <td>2.0</td>\n",
              "      <td>650.0</td>\n",
              "      <td>95.00</td>\n",
              "      <td>well_kept</td>\n",
              "      <td>NaN</td>\n",
              "      <td>negotiable</td>\n",
              "      <td>False</td>\n",
              "      <td>5</td>\n",
              "      <td>apartment</td>\n",
              "      <td>65552</td>\n",
              "      <td>4.0</td>\n",
              "      <td>160.77</td>\n",
              "      <td>1.0</td>\n",
              "      <td>2.0</td>\n",
              "      <td>4</td>\n",
              "      <td>True</td>\n",
              "      <td>4</td>\n",
              "      <td>Limburg_Weilburg_Kreis</td>\n",
              "      <td>Limburg_an_der_Lahn</td>\n",
              "      <td>Feb20</td>\n",
              "    </tr>\n",
              "    <tr>\n",
              "      <th>268848</th>\n",
              "      <td>Nordrhein_Westfalen</td>\n",
              "      <td>175.00</td>\n",
              "      <td>heat_pump</td>\n",
              "      <td>NaN</td>\n",
              "      <td>True</td>\n",
              "      <td>True</td>\n",
              "      <td>16</td>\n",
              "      <td>4.39</td>\n",
              "      <td>NaN</td>\n",
              "      <td>1015.0</td>\n",
              "      <td>2019.0</td>\n",
              "      <td>gas</td>\n",
              "      <td>False</td>\n",
              "      <td>True</td>\n",
              "      <td>9.0</td>\n",
              "      <td>840.0</td>\n",
              "      <td>70.00</td>\n",
              "      <td>first_time_use</td>\n",
              "      <td>sophisticated</td>\n",
              "      <td>no</td>\n",
              "      <td>True</td>\n",
              "      <td>6</td>\n",
              "      <td>apartment</td>\n",
              "      <td>51069</td>\n",
              "      <td>2.0</td>\n",
              "      <td>24.70</td>\n",
              "      <td>NaN</td>\n",
              "      <td>5.0</td>\n",
              "      <td>2</td>\n",
              "      <td>False</td>\n",
              "      <td>3</td>\n",
              "      <td>Köln</td>\n",
              "      <td>Dellbrück</td>\n",
              "      <td>May19</td>\n",
              "    </tr>\n",
              "    <tr>\n",
              "      <th>268849</th>\n",
              "      <td>Hessen</td>\n",
              "      <td>315.00</td>\n",
              "      <td>central_heating</td>\n",
              "      <td>NaN</td>\n",
              "      <td>False</td>\n",
              "      <td>True</td>\n",
              "      <td>9</td>\n",
              "      <td>5.00</td>\n",
              "      <td>NaN</td>\n",
              "      <td>NaN</td>\n",
              "      <td>1972.0</td>\n",
              "      <td>district_heating</td>\n",
              "      <td>True</td>\n",
              "      <td>True</td>\n",
              "      <td>3.0</td>\n",
              "      <td>935.0</td>\n",
              "      <td>77.00</td>\n",
              "      <td>modernized</td>\n",
              "      <td>NaN</td>\n",
              "      <td>NaN</td>\n",
              "      <td>True</td>\n",
              "      <td>6</td>\n",
              "      <td>apartment</td>\n",
              "      <td>65936</td>\n",
              "      <td>3.0</td>\n",
              "      <td>NaN</td>\n",
              "      <td>NaN</td>\n",
              "      <td>13.0</td>\n",
              "      <td>3</td>\n",
              "      <td>False</td>\n",
              "      <td>3</td>\n",
              "      <td>Frankfurt_am_Main</td>\n",
              "      <td>Sossenheim</td>\n",
              "      <td>Feb20</td>\n",
              "    </tr>\n",
              "  </tbody>\n",
              "</table>\n",
              "<p>268850 rows × 34 columns</p>\n",
              "</div>\n",
              "      <button class=\"colab-df-convert\" onclick=\"convertToInteractive('df-0f777f8f-1a55-41f2-8e3b-0e8abdafa5fd')\"\n",
              "              title=\"Convert this dataframe to an interactive table.\"\n",
              "              style=\"display:none;\">\n",
              "        \n",
              "  <svg xmlns=\"http://www.w3.org/2000/svg\" height=\"24px\"viewBox=\"0 0 24 24\"\n",
              "       width=\"24px\">\n",
              "    <path d=\"M0 0h24v24H0V0z\" fill=\"none\"/>\n",
              "    <path d=\"M18.56 5.44l.94 2.06.94-2.06 2.06-.94-2.06-.94-.94-2.06-.94 2.06-2.06.94zm-11 1L8.5 8.5l.94-2.06 2.06-.94-2.06-.94L8.5 2.5l-.94 2.06-2.06.94zm10 10l.94 2.06.94-2.06 2.06-.94-2.06-.94-.94-2.06-.94 2.06-2.06.94z\"/><path d=\"M17.41 7.96l-1.37-1.37c-.4-.4-.92-.59-1.43-.59-.52 0-1.04.2-1.43.59L10.3 9.45l-7.72 7.72c-.78.78-.78 2.05 0 2.83L4 21.41c.39.39.9.59 1.41.59.51 0 1.02-.2 1.41-.59l7.78-7.78 2.81-2.81c.8-.78.8-2.07 0-2.86zM5.41 20L4 18.59l7.72-7.72 1.47 1.35L5.41 20z\"/>\n",
              "  </svg>\n",
              "      </button>\n",
              "      \n",
              "  <style>\n",
              "    .colab-df-container {\n",
              "      display:flex;\n",
              "      flex-wrap:wrap;\n",
              "      gap: 12px;\n",
              "    }\n",
              "\n",
              "    .colab-df-convert {\n",
              "      background-color: #E8F0FE;\n",
              "      border: none;\n",
              "      border-radius: 50%;\n",
              "      cursor: pointer;\n",
              "      display: none;\n",
              "      fill: #1967D2;\n",
              "      height: 32px;\n",
              "      padding: 0 0 0 0;\n",
              "      width: 32px;\n",
              "    }\n",
              "\n",
              "    .colab-df-convert:hover {\n",
              "      background-color: #E2EBFA;\n",
              "      box-shadow: 0px 1px 2px rgba(60, 64, 67, 0.3), 0px 1px 3px 1px rgba(60, 64, 67, 0.15);\n",
              "      fill: #174EA6;\n",
              "    }\n",
              "\n",
              "    [theme=dark] .colab-df-convert {\n",
              "      background-color: #3B4455;\n",
              "      fill: #D2E3FC;\n",
              "    }\n",
              "\n",
              "    [theme=dark] .colab-df-convert:hover {\n",
              "      background-color: #434B5C;\n",
              "      box-shadow: 0px 1px 3px 1px rgba(0, 0, 0, 0.15);\n",
              "      filter: drop-shadow(0px 1px 2px rgba(0, 0, 0, 0.3));\n",
              "      fill: #FFFFFF;\n",
              "    }\n",
              "  </style>\n",
              "\n",
              "      <script>\n",
              "        const buttonEl =\n",
              "          document.querySelector('#df-0f777f8f-1a55-41f2-8e3b-0e8abdafa5fd button.colab-df-convert');\n",
              "        buttonEl.style.display =\n",
              "          google.colab.kernel.accessAllowed ? 'block' : 'none';\n",
              "\n",
              "        async function convertToInteractive(key) {\n",
              "          const element = document.querySelector('#df-0f777f8f-1a55-41f2-8e3b-0e8abdafa5fd');\n",
              "          const dataTable =\n",
              "            await google.colab.kernel.invokeFunction('convertToInteractive',\n",
              "                                                     [key], {});\n",
              "          if (!dataTable) return;\n",
              "\n",
              "          const docLinkHtml = 'Like what you see? Visit the ' +\n",
              "            '<a target=\"_blank\" href=https://colab.research.google.com/notebooks/data_table.ipynb>data table notebook</a>'\n",
              "            + ' to learn more about interactive tables.';\n",
              "          element.innerHTML = '';\n",
              "          dataTable['output_type'] = 'display_data';\n",
              "          await google.colab.output.renderOutput(dataTable, element);\n",
              "          const docLink = document.createElement('div');\n",
              "          docLink.innerHTML = docLinkHtml;\n",
              "          element.appendChild(docLink);\n",
              "        }\n",
              "      </script>\n",
              "    </div>\n",
              "  </div>\n",
              "  "
            ]
          },
          "metadata": {},
          "execution_count": 313
        },
        {
          "output_type": "stream",
          "name": "stdout",
          "text": [
            "time: 56.9 ms (started: 2022-04-08 18:46:02 +00:00)\n"
          ]
        }
      ]
    },
    {
      "cell_type": "code",
      "source": [
        "data['serviceCharge'].fillna((data['serviceCharge'].mean()), inplace=True)"
      ],
      "metadata": {
        "colab": {
          "base_uri": "https://localhost:8080/"
        },
        "id": "_y80cdVvaG4k",
        "outputId": "97f016bb-64bc-481f-b30c-d5d4da8f17f5"
      },
      "execution_count": null,
      "outputs": [
        {
          "output_type": "stream",
          "name": "stdout",
          "text": [
            "time: 3.5 ms (started: 2022-04-08 18:46:07 +00:00)\n"
          ]
        }
      ]
    },
    {
      "cell_type": "code",
      "source": [
        "data['heatingType'].mode()"
      ],
      "metadata": {
        "colab": {
          "base_uri": "https://localhost:8080/"
        },
        "id": "A97EgAq0bcbI",
        "outputId": "a2fec85e-005f-4dcb-fb00-e2eccf9e1cdb"
      },
      "execution_count": null,
      "outputs": [
        {
          "output_type": "execute_result",
          "data": {
            "text/plain": [
              "0    central_heating\n",
              "dtype: object"
            ]
          },
          "metadata": {},
          "execution_count": 315
        },
        {
          "output_type": "stream",
          "name": "stdout",
          "text": [
            "time: 24.4 ms (started: 2022-04-08 18:46:07 +00:00)\n"
          ]
        }
      ]
    },
    {
      "cell_type": "code",
      "source": [
        "data['heatingType'].fillna((\"central_heating\"), inplace=True)"
      ],
      "metadata": {
        "colab": {
          "base_uri": "https://localhost:8080/"
        },
        "id": "qNwtRR_bagEI",
        "outputId": "4855a859-1ebd-4e2e-de82-f4a04eed741a"
      },
      "execution_count": null,
      "outputs": [
        {
          "output_type": "stream",
          "name": "stdout",
          "text": [
            "time: 18.5 ms (started: 2022-04-08 18:46:11 +00:00)\n"
          ]
        }
      ]
    },
    {
      "cell_type": "code",
      "source": [
        "data['telekomTvOffer'].fillna((\"NONE\"), inplace=True)"
      ],
      "metadata": {
        "colab": {
          "base_uri": "https://localhost:8080/"
        },
        "id": "2VzWmuvucO-t",
        "outputId": "1491514c-3bf3-4882-abea-6c3d32eece15"
      },
      "execution_count": null,
      "outputs": [
        {
          "output_type": "stream",
          "name": "stdout",
          "text": [
            "time: 15.5 ms (started: 2022-04-08 18:46:18 +00:00)\n"
          ]
        }
      ]
    },
    {
      "cell_type": "code",
      "source": [
        "data['pricetrend'].fillna((0), inplace=True)"
      ],
      "metadata": {
        "colab": {
          "base_uri": "https://localhost:8080/"
        },
        "id": "wuGe3pwXcw1l",
        "outputId": "c5c44842-8782-44c0-d345-07457dffc5b4"
      },
      "execution_count": null,
      "outputs": [
        {
          "output_type": "stream",
          "name": "stdout",
          "text": [
            "time: 2.93 ms (started: 2022-04-08 18:46:21 +00:00)\n"
          ]
        }
      ]
    },
    {
      "cell_type": "code",
      "source": [
        "data['telekomUploadSpeed'].fillna((0), inplace=True)"
      ],
      "metadata": {
        "colab": {
          "base_uri": "https://localhost:8080/"
        },
        "id": "MjWhMyped7GW",
        "outputId": "0bda6ed9-78ac-4a1c-83dd-d3a441c27aaf"
      },
      "execution_count": null,
      "outputs": [
        {
          "output_type": "stream",
          "name": "stdout",
          "text": [
            "time: 2.57 ms (started: 2022-04-08 18:46:24 +00:00)\n"
          ]
        }
      ]
    },
    {
      "cell_type": "code",
      "source": [
        "data['yearConstructed'].fillna((data['yearConstructed'].mean()), inplace=True)"
      ],
      "metadata": {
        "colab": {
          "base_uri": "https://localhost:8080/"
        },
        "id": "ccAGDIh-fCbJ",
        "outputId": "225b072e-26fd-4ee2-f1e2-bfd66de5e63a"
      },
      "execution_count": null,
      "outputs": [
        {
          "output_type": "stream",
          "name": "stdout",
          "text": [
            "time: 4.3 ms (started: 2022-04-08 18:46:26 +00:00)\n"
          ]
        }
      ]
    },
    {
      "cell_type": "code",
      "source": [
        "data['firingTypes'].mode()"
      ],
      "metadata": {
        "colab": {
          "base_uri": "https://localhost:8080/"
        },
        "id": "UXd0Esokc0Nt",
        "outputId": "1b278235-e77b-4135-d823-cddb1b76c0c9"
      },
      "execution_count": null,
      "outputs": [
        {
          "output_type": "execute_result",
          "data": {
            "text/plain": [
              "0    gas\n",
              "dtype: object"
            ]
          },
          "metadata": {},
          "execution_count": 321
        },
        {
          "output_type": "stream",
          "name": "stdout",
          "text": [
            "time: 30.5 ms (started: 2022-04-08 18:46:29 +00:00)\n"
          ]
        }
      ]
    },
    {
      "cell_type": "code",
      "source": [
        "data['firingTypes'].fillna((\"gas\"), inplace=True)"
      ],
      "metadata": {
        "colab": {
          "base_uri": "https://localhost:8080/"
        },
        "id": "WfVovVoHfbtq",
        "outputId": "6ab64158-439f-4e4f-c42a-ce7e57bdf302"
      },
      "execution_count": null,
      "outputs": [
        {
          "output_type": "stream",
          "name": "stdout",
          "text": [
            "time: 15.7 ms (started: 2022-04-08 18:46:32 +00:00)\n"
          ]
        }
      ]
    },
    {
      "cell_type": "code",
      "source": [
        "data['yearConstructedRange'].mode()"
      ],
      "metadata": {
        "colab": {
          "base_uri": "https://localhost:8080/"
        },
        "id": "W7zOeLWZgIBB",
        "outputId": "0feb97a5-6c3d-4e27-b051-f06e6689f609"
      },
      "execution_count": null,
      "outputs": [
        {
          "output_type": "execute_result",
          "data": {
            "text/plain": [
              "0    1.0\n",
              "dtype: float64"
            ]
          },
          "metadata": {},
          "execution_count": 323
        },
        {
          "output_type": "stream",
          "name": "stdout",
          "text": [
            "time: 9.86 ms (started: 2022-04-08 18:46:34 +00:00)\n"
          ]
        }
      ]
    },
    {
      "cell_type": "code",
      "source": [
        "data['yearConstructedRange'].fillna((1.0), inplace=True)"
      ],
      "metadata": {
        "colab": {
          "base_uri": "https://localhost:8080/"
        },
        "id": "GaAb6sTTfkCI",
        "outputId": "49e444a4-1c7c-43b2-bc02-e94d34946d57"
      },
      "execution_count": null,
      "outputs": [
        {
          "output_type": "stream",
          "name": "stdout",
          "text": [
            "time: 2.58 ms (started: 2022-04-08 18:46:36 +00:00)\n"
          ]
        }
      ]
    },
    {
      "cell_type": "code",
      "source": [
        "data['condition'].fillna((\"negotiable\"), inplace=True)"
      ],
      "metadata": {
        "colab": {
          "base_uri": "https://localhost:8080/"
        },
        "id": "90b-GIgcgBPY",
        "outputId": "c583c6ca-5b7b-4d20-e97d-014ac511e5c8"
      },
      "execution_count": null,
      "outputs": [
        {
          "output_type": "stream",
          "name": "stdout",
          "text": [
            "time: 15.4 ms (started: 2022-04-08 18:46:38 +00:00)\n"
          ]
        }
      ]
    },
    {
      "cell_type": "code",
      "source": [
        "data['interiorQual'].fillna((\"normal\"), inplace=True)"
      ],
      "metadata": {
        "colab": {
          "base_uri": "https://localhost:8080/"
        },
        "id": "w_D1Cj2zhcQ1",
        "outputId": "1c053d45-0b79-46e9-bb7a-54d06f9da127"
      },
      "execution_count": null,
      "outputs": [
        {
          "output_type": "stream",
          "name": "stdout",
          "text": [
            "time: 19.1 ms (started: 2022-04-08 18:46:41 +00:00)\n"
          ]
        }
      ]
    },
    {
      "cell_type": "code",
      "source": [
        "data['petsAllowed'].fillna((\"negotiable\"), inplace=True)"
      ],
      "metadata": {
        "colab": {
          "base_uri": "https://localhost:8080/"
        },
        "id": "1v6-rTCZh5K1",
        "outputId": "63bb6329-7095-4ae4-a069-b18a4f0901e5"
      },
      "execution_count": null,
      "outputs": [
        {
          "output_type": "stream",
          "name": "stdout",
          "text": [
            "time: 19.8 ms (started: 2022-04-08 18:46:42 +00:00)\n"
          ]
        }
      ]
    },
    {
      "cell_type": "code",
      "source": [
        "data['typeOfFlat'].mode()"
      ],
      "metadata": {
        "colab": {
          "base_uri": "https://localhost:8080/"
        },
        "id": "SlRbY49CiEZc",
        "outputId": "0881b4e2-5150-41ce-c3bb-b2449a670f51"
      },
      "execution_count": null,
      "outputs": [
        {
          "output_type": "execute_result",
          "data": {
            "text/plain": [
              "0    apartment\n",
              "dtype: object"
            ]
          },
          "metadata": {},
          "execution_count": 328
        },
        {
          "output_type": "stream",
          "name": "stdout",
          "text": [
            "time: 24.1 ms (started: 2022-04-08 18:46:44 +00:00)\n"
          ]
        }
      ]
    },
    {
      "cell_type": "code",
      "source": [
        "data['typeOfFlat'].fillna((\"apartment\"), inplace=True)"
      ],
      "metadata": {
        "colab": {
          "base_uri": "https://localhost:8080/"
        },
        "id": "z7RzYa-FjUMB",
        "outputId": "92756157-6976-46d5-8f70-92a414238f13"
      },
      "execution_count": null,
      "outputs": [
        {
          "output_type": "stream",
          "name": "stdout",
          "text": [
            "time: 16.5 ms (started: 2022-04-08 18:46:46 +00:00)\n"
          ]
        }
      ]
    },
    {
      "cell_type": "code",
      "source": [
        "data['thermalChar'].mode()"
      ],
      "metadata": {
        "colab": {
          "base_uri": "https://localhost:8080/"
        },
        "id": "wOT1euKAiaH8",
        "outputId": "1f0e9392-f4c3-48a2-a3ed-edf90b5c8f1c"
      },
      "execution_count": null,
      "outputs": [
        {
          "output_type": "execute_result",
          "data": {
            "text/plain": [
              "0    105.0\n",
              "dtype: float64"
            ]
          },
          "metadata": {},
          "execution_count": 330
        },
        {
          "output_type": "stream",
          "name": "stdout",
          "text": [
            "time: 14.3 ms (started: 2022-04-08 18:46:49 +00:00)\n"
          ]
        }
      ]
    },
    {
      "cell_type": "code",
      "source": [
        "data['thermalChar'].fillna((105.0), inplace=True)"
      ],
      "metadata": {
        "colab": {
          "base_uri": "https://localhost:8080/"
        },
        "id": "E3PfYHGvkL5y",
        "outputId": "8f49f437-2bae-472b-c236-96fb0be90388"
      },
      "execution_count": null,
      "outputs": [
        {
          "output_type": "stream",
          "name": "stdout",
          "text": [
            "time: 3.23 ms (started: 2022-04-08 18:46:52 +00:00)\n"
          ]
        }
      ]
    },
    {
      "cell_type": "code",
      "source": [
        "data['floor'].mode()"
      ],
      "metadata": {
        "colab": {
          "base_uri": "https://localhost:8080/"
        },
        "id": "arSDBbSdkRlt",
        "outputId": "f22de9c9-688e-4fa4-f97d-18e0408c6978"
      },
      "execution_count": null,
      "outputs": [
        {
          "output_type": "execute_result",
          "data": {
            "text/plain": [
              "0    1.0\n",
              "dtype: float64"
            ]
          },
          "metadata": {},
          "execution_count": 332
        },
        {
          "output_type": "stream",
          "name": "stdout",
          "text": [
            "time: 11.3 ms (started: 2022-04-08 18:46:54 +00:00)\n"
          ]
        }
      ]
    },
    {
      "cell_type": "code",
      "source": [
        "data['floor'].fillna((1.0), inplace=True)"
      ],
      "metadata": {
        "colab": {
          "base_uri": "https://localhost:8080/"
        },
        "id": "s-Uap15XklSX",
        "outputId": "b5c41c2d-5b41-4330-8cbe-a9b4177d842a"
      },
      "execution_count": null,
      "outputs": [
        {
          "output_type": "stream",
          "name": "stdout",
          "text": [
            "time: 2.81 ms (started: 2022-04-08 18:46:56 +00:00)\n"
          ]
        }
      ]
    },
    {
      "cell_type": "code",
      "source": [
        "data['numberOfFloors'].mode()"
      ],
      "metadata": {
        "colab": {
          "base_uri": "https://localhost:8080/"
        },
        "id": "9fAGYRhfkrNP",
        "outputId": "bf5637fa-9d4b-4c4b-e45e-21d52721a517"
      },
      "execution_count": null,
      "outputs": [
        {
          "output_type": "execute_result",
          "data": {
            "text/plain": [
              "0    3.0\n",
              "dtype: float64"
            ]
          },
          "metadata": {},
          "execution_count": 334
        },
        {
          "output_type": "stream",
          "name": "stdout",
          "text": [
            "time: 9.83 ms (started: 2022-04-08 18:46:59 +00:00)\n"
          ]
        }
      ]
    },
    {
      "cell_type": "code",
      "source": [
        "data['numberOfFloors'].fillna((3.0), inplace=True)"
      ],
      "metadata": {
        "colab": {
          "base_uri": "https://localhost:8080/"
        },
        "id": "VLrkimbBk1J2",
        "outputId": "dc004b7e-cb21-4b1f-ea2a-3bf6287d568a"
      },
      "execution_count": null,
      "outputs": [
        {
          "output_type": "stream",
          "name": "stdout",
          "text": [
            "time: 3.61 ms (started: 2022-04-08 18:47:01 +00:00)\n"
          ]
        }
      ]
    },
    {
      "cell_type": "code",
      "source": [
        "data['totalRent'].fillna( data[\"baseRent\"] + data[\"serviceCharge\"]  , inplace=True)"
      ],
      "metadata": {
        "colab": {
          "base_uri": "https://localhost:8080/"
        },
        "id": "QwWc6ylaVIpD",
        "outputId": "2d88b167-9f8e-442c-87dc-30cd9b0346cd"
      },
      "execution_count": null,
      "outputs": [
        {
          "output_type": "stream",
          "name": "stdout",
          "text": [
            "time: 3.75 ms (started: 2022-04-08 18:47:03 +00:00)\n"
          ]
        }
      ]
    },
    {
      "cell_type": "code",
      "source": [
        "data.isna().sum()"
      ],
      "metadata": {
        "colab": {
          "base_uri": "https://localhost:8080/"
        },
        "id": "L9ejqM3GaVA0",
        "outputId": "209a5450-3b2c-42ad-8c80-a4e1368d14ec"
      },
      "execution_count": null,
      "outputs": [
        {
          "output_type": "execute_result",
          "data": {
            "text/plain": [
              "regio1                  0\n",
              "serviceCharge           0\n",
              "heatingType             0\n",
              "telekomTvOffer          0\n",
              "newlyConst              0\n",
              "balcony                 0\n",
              "picturecount            0\n",
              "pricetrend              0\n",
              "telekomUploadSpeed      0\n",
              "totalRent               0\n",
              "yearConstructed         0\n",
              "firingTypes             0\n",
              "hasKitchen              0\n",
              "cellar                  0\n",
              "yearConstructedRange    0\n",
              "baseRent                0\n",
              "livingSpace             0\n",
              "condition               0\n",
              "interiorQual            0\n",
              "petsAllowed             0\n",
              "lift                    0\n",
              "baseRentRange           0\n",
              "typeOfFlat              0\n",
              "geo_plz                 0\n",
              "noRooms                 0\n",
              "thermalChar             0\n",
              "floor                   0\n",
              "numberOfFloors          0\n",
              "noRoomsRange            0\n",
              "garden                  0\n",
              "livingSpaceRange        0\n",
              "regio2                  0\n",
              "regio3                  0\n",
              "date                    0\n",
              "dtype: int64"
            ]
          },
          "metadata": {},
          "execution_count": 337
        },
        {
          "output_type": "stream",
          "name": "stdout",
          "text": [
            "time: 124 ms (started: 2022-04-08 18:47:05 +00:00)\n"
          ]
        }
      ]
    },
    {
      "cell_type": "code",
      "source": [
        "data.shape"
      ],
      "metadata": {
        "colab": {
          "base_uri": "https://localhost:8080/"
        },
        "id": "6fqTkOMhei8D",
        "outputId": "f2e09a95-17e1-4328-8625-5a79e8d18f28"
      },
      "execution_count": null,
      "outputs": [
        {
          "output_type": "execute_result",
          "data": {
            "text/plain": [
              "(268850, 34)"
            ]
          },
          "metadata": {},
          "execution_count": 183
        }
      ]
    },
    {
      "cell_type": "markdown",
      "source": [
        "**deleting the ouliers more than 3std from their mean**"
      ],
      "metadata": {
        "id": "46kXrpFKVCoT"
      }
    },
    {
      "cell_type": "code",
      "source": [
        "import numpy as np\n",
        "colnames_numerics_only = data.select_dtypes(include=np.number).columns.tolist()\n",
        "colnames_numerics_only"
      ],
      "metadata": {
        "colab": {
          "base_uri": "https://localhost:8080/"
        },
        "id": "2eTa1NUlVYhj",
        "outputId": "b22daf77-1483-49ab-aedd-e6fa6765b31e"
      },
      "execution_count": null,
      "outputs": [
        {
          "output_type": "execute_result",
          "data": {
            "text/plain": [
              "['serviceCharge',\n",
              " 'picturecount',\n",
              " 'pricetrend',\n",
              " 'telekomUploadSpeed',\n",
              " 'totalRent',\n",
              " 'yearConstructed',\n",
              " 'yearConstructedRange',\n",
              " 'baseRent',\n",
              " 'livingSpace',\n",
              " 'baseRentRange',\n",
              " 'geo_plz',\n",
              " 'noRooms',\n",
              " 'thermalChar',\n",
              " 'floor',\n",
              " 'numberOfFloors',\n",
              " 'noRoomsRange',\n",
              " 'livingSpaceRange']"
            ]
          },
          "metadata": {},
          "execution_count": 338
        },
        {
          "output_type": "stream",
          "name": "stdout",
          "text": [
            "time: 19.1 ms (started: 2022-04-08 18:47:15 +00:00)\n"
          ]
        }
      ]
    },
    {
      "cell_type": "code",
      "source": [
        "from scipy import stats\n",
        "for col in colnames_numerics_only:\n",
        "  data = data[(np.abs(stats.zscore(data[col]))< 3)]\n",
        "\n"
      ],
      "metadata": {
        "colab": {
          "base_uri": "https://localhost:8080/"
        },
        "id": "Z9vl0CG8WPRy",
        "outputId": "b25d2759-a64e-4843-8a67-2d26492a5036"
      },
      "execution_count": null,
      "outputs": [
        {
          "output_type": "stream",
          "name": "stdout",
          "text": [
            "time: 583 ms (started: 2022-04-08 18:47:18 +00:00)\n"
          ]
        }
      ]
    },
    {
      "cell_type": "code",
      "source": [
        "data.shape"
      ],
      "metadata": {
        "colab": {
          "base_uri": "https://localhost:8080/"
        },
        "id": "xpnZl1-_Xqef",
        "outputId": "62b823d6-5d68-4f5d-e9b6-1f05b8255dcd"
      },
      "execution_count": null,
      "outputs": [
        {
          "output_type": "execute_result",
          "data": {
            "text/plain": [
              "(231351, 34)"
            ]
          },
          "metadata": {},
          "execution_count": 187
        }
      ]
    },
    {
      "cell_type": "markdown",
      "source": [
        "-----------------------------------------**Task 2**-----------------------------------------"
      ],
      "metadata": {
        "id": "5Ktcc3uqqUm6"
      }
    },
    {
      "cell_type": "code",
      "source": [
        "res = data.groupby('regio1').agg(num_advertisments_per_region = ('regio1', 'count'))\n",
        "\n",
        "print(res)"
      ],
      "metadata": {
        "colab": {
          "base_uri": "https://localhost:8080/"
        },
        "id": "8gGKnfdooqU_",
        "outputId": "b7435a72-f0f8-4fe9-edd0-8e7c047a30b3"
      },
      "execution_count": null,
      "outputs": [
        {
          "output_type": "stream",
          "name": "stdout",
          "text": [
            "                        num_advertisments_per_region\n",
            "regio1                                              \n",
            "Baden_Württemberg                              15088\n",
            "Bayern                                         19560\n",
            "Berlin                                          7305\n",
            "Brandenburg                                     6733\n",
            "Bremen                                          2879\n",
            "Hamburg                                         3344\n",
            "Hessen                                         16334\n",
            "Mecklenburg_Vorpommern                          6492\n",
            "Niedersachsen                                  15955\n",
            "Nordrhein_Westfalen                            60154\n",
            "Rheinland_Pfalz                                 8078\n",
            "Saarland                                        1368\n",
            "Sachsen                                        56779\n",
            "Sachsen_Anhalt                                 19738\n",
            "Schleswig_Holstein                              6413\n",
            "Thüringen                                       8222\n"
          ]
        }
      ]
    },
    {
      "cell_type": "code",
      "source": [
        "res.plot.pie(y='num_advertisments_per_region', figsize=(8, 8))"
      ],
      "metadata": {
        "colab": {
          "base_uri": "https://localhost:8080/",
          "height": 483
        },
        "id": "3WDvWrmYvhyv",
        "outputId": "dcc161e5-257d-4792-a3f1-9c638b6cd161"
      },
      "execution_count": null,
      "outputs": [
        {
          "output_type": "execute_result",
          "data": {
            "text/plain": [
              "<matplotlib.axes._subplots.AxesSubplot at 0x7f93a7bc0b90>"
            ]
          },
          "metadata": {},
          "execution_count": 55
        },
        {
          "output_type": "display_data",
          "data": {
            "text/plain": [
              "<Figure size 576x576 with 1 Axes>"
            ],
            "image/png": "[encoded data removed]"
          },
          "metadata": {}
        }
      ]
    },
    {
      "cell_type": "code",
      "source": [
        "res = data.groupby('typeOfFlat').agg(num_advertisments_per_flattype = ('typeOfFlat', 'count'))\n",
        "\n",
        "print(res)"
      ],
      "metadata": {
        "colab": {
          "base_uri": "https://localhost:8080/"
        },
        "id": "_u2m_J3swCFr",
        "outputId": "44062776-95fa-4fc5-c6ea-02dd06333870"
      },
      "execution_count": null,
      "outputs": [
        {
          "output_type": "stream",
          "name": "stdout",
          "text": [
            "                     num_advertisments_per_flattype\n",
            "typeOfFlat                                         \n",
            "apartment                                    159576\n",
            "ground_floor                                  30188\n",
            "half_basement                                  1970\n",
            "loft                                            808\n",
            "maisonette                                     8286\n",
            "other                                          9073\n",
            "penthouse                                      2816\n",
            "raised_ground_floor                            5403\n",
            "roof_storey                                   33207\n",
            "terraced_flat                                  3115\n"
          ]
        }
      ]
    },
    {
      "cell_type": "code",
      "source": [
        "res.plot.pie(y='num_advertisments_per_flattype', figsize=(8, 8))"
      ],
      "metadata": {
        "colab": {
          "base_uri": "https://localhost:8080/",
          "height": 483
        },
        "id": "8DyP-8CGv9IM",
        "outputId": "294b9c85-4099-4e62-a703-a99951632712"
      },
      "execution_count": null,
      "outputs": [
        {
          "output_type": "execute_result",
          "data": {
            "text/plain": [
              "<matplotlib.axes._subplots.AxesSubplot at 0x7f93a99c3c90>"
            ]
          },
          "metadata": {},
          "execution_count": 57
        },
        {
          "output_type": "display_data",
          "data": {
            "text/plain": [
              "<Figure size 576x576 with 1 Axes>"
            ],
            "image/png": "[encoded data removed]"
          },
          "metadata": {}
        }
      ]
    },
    {
      "cell_type": "markdown",
      "source": [
        "Hamburg has the highest total rent and Sachsen_Anhalt has the lowest total rent"
      ],
      "metadata": {
        "id": "kMyQl-o9zFpd"
      }
    },
    {
      "cell_type": "code",
      "source": [
        "df = data.pivot_table(values='totalRent', index='regio1', aggfunc='mean')\n",
        "df"
      ],
      "metadata": {
        "colab": {
          "base_uri": "https://localhost:8080/",
          "height": 582
        },
        "id": "msdh8yD-wh2k",
        "outputId": "7fff799b-105f-4b44-8c47-648e55c0e2b1"
      },
      "execution_count": null,
      "outputs": [
        {
          "output_type": "execute_result",
          "data": {
            "text/plain": [
              "                          totalRent\n",
              "regio1                             \n",
              "Baden_Württemberg       1071.714196\n",
              "Bayern                  1056.599751\n",
              "Berlin                  1146.356356\n",
              "Brandenburg              654.533543\n",
              "Bremen                   782.656382\n",
              "Hamburg                 1247.576065\n",
              "Hessen                  1059.147627\n",
              "Mecklenburg_Vorpommern   560.078825\n",
              "Niedersachsen            748.299007\n",
              "Nordrhein_Westfalen      750.362373\n",
              "Rheinland_Pfalz          829.167714\n",
              "Saarland                 738.813986\n",
              "Sachsen                  572.687529\n",
              "Sachsen_Anhalt           507.506090\n",
              "Schleswig_Holstein       834.638153\n",
              "Thüringen                522.440270"
            ],
            "text/html": [
              "\n",
              "  <div id=\"df-424267e4-8b73-47a6-a6f9-54dff356a604\">\n",
              "    <div class=\"colab-df-container\">\n",
              "      <div>\n",
              "<style scoped>\n",
              "    .dataframe tbody tr th:only-of-type {\n",
              "        vertical-align: middle;\n",
              "    }\n",
              "\n",
              "    .dataframe tbody tr th {\n",
              "        vertical-align: top;\n",
              "    }\n",
              "\n",
              "    .dataframe thead th {\n",
              "        text-align: right;\n",
              "    }\n",
              "</style>\n",
              "<table border=\"1\" class=\"dataframe\">\n",
              "  <thead>\n",
              "    <tr style=\"text-align: right;\">\n",
              "      <th></th>\n",
              "      <th>totalRent</th>\n",
              "    </tr>\n",
              "    <tr>\n",
              "      <th>regio1</th>\n",
              "      <th></th>\n",
              "    </tr>\n",
              "  </thead>\n",
              "  <tbody>\n",
              "    <tr>\n",
              "      <th>Baden_Württemberg</th>\n",
              "      <td>1071.714196</td>\n",
              "    </tr>\n",
              "    <tr>\n",
              "      <th>Bayern</th>\n",
              "      <td>1056.599751</td>\n",
              "    </tr>\n",
              "    <tr>\n",
              "      <th>Berlin</th>\n",
              "      <td>1146.356356</td>\n",
              "    </tr>\n",
              "    <tr>\n",
              "      <th>Brandenburg</th>\n",
              "      <td>654.533543</td>\n",
              "    </tr>\n",
              "    <tr>\n",
              "      <th>Bremen</th>\n",
              "      <td>782.656382</td>\n",
              "    </tr>\n",
              "    <tr>\n",
              "      <th>Hamburg</th>\n",
              "      <td>1247.576065</td>\n",
              "    </tr>\n",
              "    <tr>\n",
              "      <th>Hessen</th>\n",
              "      <td>1059.147627</td>\n",
              "    </tr>\n",
              "    <tr>\n",
              "      <th>Mecklenburg_Vorpommern</th>\n",
              "      <td>560.078825</td>\n",
              "    </tr>\n",
              "    <tr>\n",
              "      <th>Niedersachsen</th>\n",
              "      <td>748.299007</td>\n",
              "    </tr>\n",
              "    <tr>\n",
              "      <th>Nordrhein_Westfalen</th>\n",
              "      <td>750.362373</td>\n",
              "    </tr>\n",
              "    <tr>\n",
              "      <th>Rheinland_Pfalz</th>\n",
              "      <td>829.167714</td>\n",
              "    </tr>\n",
              "    <tr>\n",
              "      <th>Saarland</th>\n",
              "      <td>738.813986</td>\n",
              "    </tr>\n",
              "    <tr>\n",
              "      <th>Sachsen</th>\n",
              "      <td>572.687529</td>\n",
              "    </tr>\n",
              "    <tr>\n",
              "      <th>Sachsen_Anhalt</th>\n",
              "      <td>507.506090</td>\n",
              "    </tr>\n",
              "    <tr>\n",
              "      <th>Schleswig_Holstein</th>\n",
              "      <td>834.638153</td>\n",
              "    </tr>\n",
              "    <tr>\n",
              "      <th>Thüringen</th>\n",
              "      <td>522.440270</td>\n",
              "    </tr>\n",
              "  </tbody>\n",
              "</table>\n",
              "</div>\n",
              "      <button class=\"colab-df-convert\" onclick=\"convertToInteractive('df-424267e4-8b73-47a6-a6f9-54dff356a604')\"\n",
              "              title=\"Convert this dataframe to an interactive table.\"\n",
              "              style=\"display:none;\">\n",
              "        \n",
              "  <svg xmlns=\"http://www.w3.org/2000/svg\" height=\"24px\"viewBox=\"0 0 24 24\"\n",
              "       width=\"24px\">\n",
              "    <path d=\"M0 0h24v24H0V0z\" fill=\"none\"/>\n",
              "    <path d=\"M18.56 5.44l.94 2.06.94-2.06 2.06-.94-2.06-.94-.94-2.06-.94 2.06-2.06.94zm-11 1L8.5 8.5l.94-2.06 2.06-.94-2.06-.94L8.5 2.5l-.94 2.06-2.06.94zm10 10l.94 2.06.94-2.06 2.06-.94-2.06-.94-.94-2.06-.94 2.06-2.06.94z\"/><path d=\"M17.41 7.96l-1.37-1.37c-.4-.4-.92-.59-1.43-.59-.52 0-1.04.2-1.43.59L10.3 9.45l-7.72 7.72c-.78.78-.78 2.05 0 2.83L4 21.41c.39.39.9.59 1.41.59.51 0 1.02-.2 1.41-.59l7.78-7.78 2.81-2.81c.8-.78.8-2.07 0-2.86zM5.41 20L4 18.59l7.72-7.72 1.47 1.35L5.41 20z\"/>\n",
              "  </svg>\n",
              "      </button>\n",
              "      \n",
              "  <style>\n",
              "    .colab-df-container {\n",
              "      display:flex;\n",
              "      flex-wrap:wrap;\n",
              "      gap: 12px;\n",
              "    }\n",
              "\n",
              "    .colab-df-convert {\n",
              "      background-color: #E8F0FE;\n",
              "      border: none;\n",
              "      border-radius: 50%;\n",
              "      cursor: pointer;\n",
              "      display: none;\n",
              "      fill: #1967D2;\n",
              "      height: 32px;\n",
              "      padding: 0 0 0 0;\n",
              "      width: 32px;\n",
              "    }\n",
              "\n",
              "    .colab-df-convert:hover {\n",
              "      background-color: #E2EBFA;\n",
              "      box-shadow: 0px 1px 2px rgba(60, 64, 67, 0.3), 0px 1px 3px 1px rgba(60, 64, 67, 0.15);\n",
              "      fill: #174EA6;\n",
              "    }\n",
              "\n",
              "    [theme=dark] .colab-df-convert {\n",
              "      background-color: #3B4455;\n",
              "      fill: #D2E3FC;\n",
              "    }\n",
              "\n",
              "    [theme=dark] .colab-df-convert:hover {\n",
              "      background-color: #434B5C;\n",
              "      box-shadow: 0px 1px 3px 1px rgba(0, 0, 0, 0.15);\n",
              "      filter: drop-shadow(0px 1px 2px rgba(0, 0, 0, 0.3));\n",
              "      fill: #FFFFFF;\n",
              "    }\n",
              "  </style>\n",
              "\n",
              "      <script>\n",
              "        const buttonEl =\n",
              "          document.querySelector('#df-424267e4-8b73-47a6-a6f9-54dff356a604 button.colab-df-convert');\n",
              "        buttonEl.style.display =\n",
              "          google.colab.kernel.accessAllowed ? 'block' : 'none';\n",
              "\n",
              "        async function convertToInteractive(key) {\n",
              "          const element = document.querySelector('#df-424267e4-8b73-47a6-a6f9-54dff356a604');\n",
              "          const dataTable =\n",
              "            await google.colab.kernel.invokeFunction('convertToInteractive',\n",
              "                                                     [key], {});\n",
              "          if (!dataTable) return;\n",
              "\n",
              "          const docLinkHtml = 'Like what you see? Visit the ' +\n",
              "            '<a target=\"_blank\" href=https://colab.research.google.com/notebooks/data_table.ipynb>data table notebook</a>'\n",
              "            + ' to learn more about interactive tables.';\n",
              "          element.innerHTML = '';\n",
              "          dataTable['output_type'] = 'display_data';\n",
              "          await google.colab.output.renderOutput(dataTable, element);\n",
              "          const docLink = document.createElement('div');\n",
              "          docLink.innerHTML = docLinkHtml;\n",
              "          element.appendChild(docLink);\n",
              "        }\n",
              "      </script>\n",
              "    </div>\n",
              "  </div>\n",
              "  "
            ]
          },
          "metadata": {},
          "execution_count": 58
        }
      ]
    },
    {
      "cell_type": "code",
      "source": [
        "import matplotlib.pyplot as plt\n",
        "df.plot( y='totalRent', kind = 'bar')\n",
        "plt.show()"
      ],
      "metadata": {
        "colab": {
          "base_uri": "https://localhost:8080/",
          "height": 403
        },
        "id": "4TAOc34-w361",
        "outputId": "2c86c128-be62-4664-bc68-b59f95b59f2e"
      },
      "execution_count": null,
      "outputs": [
        {
          "output_type": "display_data",
          "data": {
            "text/plain": [
              "<Figure size 432x288 with 1 Axes>"
            ],
            "image/png": "[encoded data removed]"
          },
          "metadata": {
            "needs_background": "light"
          }
        }
      ]
    },
    {
      "cell_type": "markdown",
      "source": [
        "houses with floor heating has higher price to rent in comparison to others"
      ],
      "metadata": {
        "id": "NcKEfp6V20TQ"
      }
    },
    {
      "cell_type": "code",
      "source": [
        "df = data.pivot_table(values='totalRent', index='heatingType', aggfunc='mean')\n",
        "df"
      ],
      "metadata": {
        "colab": {
          "base_uri": "https://localhost:8080/",
          "height": 488
        },
        "id": "_8U3KUZ42raO",
        "outputId": "f2bdb509-9233-474b-b68d-b34bc8ccc807"
      },
      "execution_count": null,
      "outputs": [
        {
          "output_type": "execute_result",
          "data": {
            "text/plain": [
              "                                  totalRent\n",
              "heatingType                                \n",
              "central_heating                  720.855838\n",
              "combined_heat_and_power_plant   1089.434320\n",
              "district_heating                 712.701653\n",
              "electric_heating                 645.710650\n",
              "floor_heating                   1196.908345\n",
              "gas_heating                      780.868265\n",
              "heat_pump                       1140.388672\n",
              "night_storage_heater             569.708804\n",
              "oil_heating                      828.030280\n",
              "self_contained_central_heating   698.582856\n",
              "solar_heating                   1068.456656\n",
              "stove_heating                    592.632255\n",
              "wood_pellet_heating             1029.360372"
            ],
            "text/html": [
              "\n",
              "  <div id=\"df-6fcd5557-8981-4586-be0d-a185bc484bc9\">\n",
              "    <div class=\"colab-df-container\">\n",
              "      <div>\n",
              "<style scoped>\n",
              "    .dataframe tbody tr th:only-of-type {\n",
              "        vertical-align: middle;\n",
              "    }\n",
              "\n",
              "    .dataframe tbody tr th {\n",
              "        vertical-align: top;\n",
              "    }\n",
              "\n",
              "    .dataframe thead th {\n",
              "        text-align: right;\n",
              "    }\n",
              "</style>\n",
              "<table border=\"1\" class=\"dataframe\">\n",
              "  <thead>\n",
              "    <tr style=\"text-align: right;\">\n",
              "      <th></th>\n",
              "      <th>totalRent</th>\n",
              "    </tr>\n",
              "    <tr>\n",
              "      <th>heatingType</th>\n",
              "      <th></th>\n",
              "    </tr>\n",
              "  </thead>\n",
              "  <tbody>\n",
              "    <tr>\n",
              "      <th>central_heating</th>\n",
              "      <td>720.855838</td>\n",
              "    </tr>\n",
              "    <tr>\n",
              "      <th>combined_heat_and_power_plant</th>\n",
              "      <td>1089.434320</td>\n",
              "    </tr>\n",
              "    <tr>\n",
              "      <th>district_heating</th>\n",
              "      <td>712.701653</td>\n",
              "    </tr>\n",
              "    <tr>\n",
              "      <th>electric_heating</th>\n",
              "      <td>645.710650</td>\n",
              "    </tr>\n",
              "    <tr>\n",
              "      <th>floor_heating</th>\n",
              "      <td>1196.908345</td>\n",
              "    </tr>\n",
              "    <tr>\n",
              "      <th>gas_heating</th>\n",
              "      <td>780.868265</td>\n",
              "    </tr>\n",
              "    <tr>\n",
              "      <th>heat_pump</th>\n",
              "      <td>1140.388672</td>\n",
              "    </tr>\n",
              "    <tr>\n",
              "      <th>night_storage_heater</th>\n",
              "      <td>569.708804</td>\n",
              "    </tr>\n",
              "    <tr>\n",
              "      <th>oil_heating</th>\n",
              "      <td>828.030280</td>\n",
              "    </tr>\n",
              "    <tr>\n",
              "      <th>self_contained_central_heating</th>\n",
              "      <td>698.582856</td>\n",
              "    </tr>\n",
              "    <tr>\n",
              "      <th>solar_heating</th>\n",
              "      <td>1068.456656</td>\n",
              "    </tr>\n",
              "    <tr>\n",
              "      <th>stove_heating</th>\n",
              "      <td>592.632255</td>\n",
              "    </tr>\n",
              "    <tr>\n",
              "      <th>wood_pellet_heating</th>\n",
              "      <td>1029.360372</td>\n",
              "    </tr>\n",
              "  </tbody>\n",
              "</table>\n",
              "</div>\n",
              "      <button class=\"colab-df-convert\" onclick=\"convertToInteractive('df-6fcd5557-8981-4586-be0d-a185bc484bc9')\"\n",
              "              title=\"Convert this dataframe to an interactive table.\"\n",
              "              style=\"display:none;\">\n",
              "        \n",
              "  <svg xmlns=\"http://www.w3.org/2000/svg\" height=\"24px\"viewBox=\"0 0 24 24\"\n",
              "       width=\"24px\">\n",
              "    <path d=\"M0 0h24v24H0V0z\" fill=\"none\"/>\n",
              "    <path d=\"M18.56 5.44l.94 2.06.94-2.06 2.06-.94-2.06-.94-.94-2.06-.94 2.06-2.06.94zm-11 1L8.5 8.5l.94-2.06 2.06-.94-2.06-.94L8.5 2.5l-.94 2.06-2.06.94zm10 10l.94 2.06.94-2.06 2.06-.94-2.06-.94-.94-2.06-.94 2.06-2.06.94z\"/><path d=\"M17.41 7.96l-1.37-1.37c-.4-.4-.92-.59-1.43-.59-.52 0-1.04.2-1.43.59L10.3 9.45l-7.72 7.72c-.78.78-.78 2.05 0 2.83L4 21.41c.39.39.9.59 1.41.59.51 0 1.02-.2 1.41-.59l7.78-7.78 2.81-2.81c.8-.78.8-2.07 0-2.86zM5.41 20L4 18.59l7.72-7.72 1.47 1.35L5.41 20z\"/>\n",
              "  </svg>\n",
              "      </button>\n",
              "      \n",
              "  <style>\n",
              "    .colab-df-container {\n",
              "      display:flex;\n",
              "      flex-wrap:wrap;\n",
              "      gap: 12px;\n",
              "    }\n",
              "\n",
              "    .colab-df-convert {\n",
              "      background-color: #E8F0FE;\n",
              "      border: none;\n",
              "      border-radius: 50%;\n",
              "      cursor: pointer;\n",
              "      display: none;\n",
              "      fill: #1967D2;\n",
              "      height: 32px;\n",
              "      padding: 0 0 0 0;\n",
              "      width: 32px;\n",
              "    }\n",
              "\n",
              "    .colab-df-convert:hover {\n",
              "      background-color: #E2EBFA;\n",
              "      box-shadow: 0px 1px 2px rgba(60, 64, 67, 0.3), 0px 1px 3px 1px rgba(60, 64, 67, 0.15);\n",
              "      fill: #174EA6;\n",
              "    }\n",
              "\n",
              "    [theme=dark] .colab-df-convert {\n",
              "      background-color: #3B4455;\n",
              "      fill: #D2E3FC;\n",
              "    }\n",
              "\n",
              "    [theme=dark] .colab-df-convert:hover {\n",
              "      background-color: #434B5C;\n",
              "      box-shadow: 0px 1px 3px 1px rgba(0, 0, 0, 0.15);\n",
              "      filter: drop-shadow(0px 1px 2px rgba(0, 0, 0, 0.3));\n",
              "      fill: #FFFFFF;\n",
              "    }\n",
              "  </style>\n",
              "\n",
              "      <script>\n",
              "        const buttonEl =\n",
              "          document.querySelector('#df-6fcd5557-8981-4586-be0d-a185bc484bc9 button.colab-df-convert');\n",
              "        buttonEl.style.display =\n",
              "          google.colab.kernel.accessAllowed ? 'block' : 'none';\n",
              "\n",
              "        async function convertToInteractive(key) {\n",
              "          const element = document.querySelector('#df-6fcd5557-8981-4586-be0d-a185bc484bc9');\n",
              "          const dataTable =\n",
              "            await google.colab.kernel.invokeFunction('convertToInteractive',\n",
              "                                                     [key], {});\n",
              "          if (!dataTable) return;\n",
              "\n",
              "          const docLinkHtml = 'Like what you see? Visit the ' +\n",
              "            '<a target=\"_blank\" href=https://colab.research.google.com/notebooks/data_table.ipynb>data table notebook</a>'\n",
              "            + ' to learn more about interactive tables.';\n",
              "          element.innerHTML = '';\n",
              "          dataTable['output_type'] = 'display_data';\n",
              "          await google.colab.output.renderOutput(dataTable, element);\n",
              "          const docLink = document.createElement('div');\n",
              "          docLink.innerHTML = docLinkHtml;\n",
              "          element.appendChild(docLink);\n",
              "        }\n",
              "      </script>\n",
              "    </div>\n",
              "  </div>\n",
              "  "
            ]
          },
          "metadata": {},
          "execution_count": 60
        }
      ]
    },
    {
      "cell_type": "code",
      "source": [
        "import matplotlib.pyplot as plt\n",
        "df.plot( y='totalRent', kind = 'bar')\n",
        "plt.show()"
      ],
      "metadata": {
        "colab": {
          "base_uri": "https://localhost:8080/",
          "height": 436
        },
        "id": "szhYtfUP2ydY",
        "outputId": "a3d74353-5956-4fbb-b9d6-a78803882664"
      },
      "execution_count": null,
      "outputs": [
        {
          "output_type": "display_data",
          "data": {
            "text/plain": [
              "<Figure size 432x288 with 1 Axes>"
            ],
            "image/png": "[encoded data removed]"
          },
          "metadata": {
            "needs_background": "light"
          }
        }
      ]
    },
    {
      "cell_type": "markdown",
      "source": [
        ""
      ],
      "metadata": {
        "id": "FFRWcCgf21UW"
      }
    },
    {
      "cell_type": "code",
      "source": [
        "import seaborn as sns\n",
        "plt.figure(figsize = (12,6))\n",
        "sns.barplot(x = 'livingSpaceRange', y = 'baseRentRange', data=data)\n",
        "plt.show()"
      ],
      "metadata": {
        "colab": {
          "base_uri": "https://localhost:8080/",
          "height": 388
        },
        "id": "ycL96_y1xbcx",
        "outputId": "fb2eb937-78db-44fd-d1af-db6f13daf327"
      },
      "execution_count": null,
      "outputs": [
        {
          "output_type": "display_data",
          "data": {
            "text/plain": [
              "<Figure size 864x432 with 1 Axes>"
            ],
            "image/png": "[encoded data removed]"
          },
          "metadata": {
            "needs_background": "light"
          }
        }
      ]
    },
    {
      "cell_type": "code",
      "source": [
        "import seaborn as sns\n",
        "plt.figure(figsize = (12,6))\n",
        "sns.barplot(x = 'yearConstructedRange', y = 'totalRent', data=data)\n",
        "plt.show()"
      ],
      "metadata": {
        "colab": {
          "base_uri": "https://localhost:8080/",
          "height": 388
        },
        "id": "wYu3_D660QEz",
        "outputId": "3ae668b8-b449-44c8-fc48-240ab20ff4e4"
      },
      "execution_count": null,
      "outputs": [
        {
          "output_type": "display_data",
          "data": {
            "text/plain": [
              "<Figure size 864x432 with 1 Axes>"
            ],
            "image/png": "[encoded data removed]"
          },
          "metadata": {
            "needs_background": "light"
          }
        }
      ]
    },
    {
      "cell_type": "markdown",
      "source": [
        "**houses with baseRentRange of 1 and 2 are more prevalent in houses with less number of rooms**"
      ],
      "metadata": {
        "id": "f-rJDKju1_Yz"
      }
    },
    {
      "cell_type": "code",
      "source": [
        "plt.figure(figsize = (12,6))\n",
        "sns.countplot(data['noRoomsRange'] , hue = data['baseRentRange'] , palette = 'ocean')\n",
        "plt.show()"
      ],
      "metadata": {
        "colab": {
          "base_uri": "https://localhost:8080/",
          "height": 443
        },
        "id": "F1t4Wmev0vua",
        "outputId": "c1d89ffa-662a-47e1-da57-9aad00b608bc"
      },
      "execution_count": null,
      "outputs": [
        {
          "output_type": "stream",
          "name": "stderr",
          "text": [
            "/usr/local/lib/python3.7/dist-packages/seaborn/_decorators.py:43: FutureWarning: Pass the following variable as a keyword arg: x. From version 0.12, the only valid positional argument will be `data`, and passing other arguments without an explicit keyword will result in an error or misinterpretation.\n",
            "  FutureWarning\n"
          ]
        },
        {
          "output_type": "display_data",
          "data": {
            "text/plain": [
              "<Figure size 864x432 with 1 Axes>"
            ],
            "image/png": "[encoded data removed]"
          },
          "metadata": {
            "needs_background": "light"
          }
        }
      ]
    },
    {
      "cell_type": "markdown",
      "source": [
        ""
      ],
      "metadata": {
        "id": "EwUG0WRc6bXh"
      }
    },
    {
      "cell_type": "markdown",
      "source": [
        "-----------------------------------------**Task 3**-----------------------------------------"
      ],
      "metadata": {
        "id": "HAiUhOTq6iLm"
      }
    },
    {
      "cell_type": "markdown",
      "source": [
        "predicting total rent based on the feature via regression"
      ],
      "metadata": {
        "id": "XeBtP8fYX5eS"
      }
    },
    {
      "cell_type": "code",
      "source": [
        "data"
      ],
      "metadata": {
        "colab": {
          "base_uri": "https://localhost:8080/",
          "height": 488
        },
        "id": "OjYvhoAlcuMG",
        "outputId": "3408c22d-7da1-443b-9fa6-ab1977125a8d"
      },
      "execution_count": null,
      "outputs": [
        {
          "output_type": "execute_result",
          "data": {
            "text/plain": [
              "                     regio1  serviceCharge                     heatingType  \\\n",
              "0       Nordrhein_Westfalen         245.00                 central_heating   \n",
              "1           Rheinland_Pfalz         134.00  self_contained_central_heating   \n",
              "2                   Sachsen         255.00                   floor_heating   \n",
              "3                   Sachsen          58.15                district_heating   \n",
              "4                    Bremen         138.00  self_contained_central_heating   \n",
              "...                     ...            ...                             ...   \n",
              "268844  Nordrhein_Westfalen          80.00                     gas_heating   \n",
              "268845               Bayern          90.00                       heat_pump   \n",
              "268846               Hessen         220.00                     gas_heating   \n",
              "268847               Hessen         220.00                 central_heating   \n",
              "268848  Nordrhein_Westfalen         175.00                       heat_pump   \n",
              "\n",
              "       telekomTvOffer  newlyConst  balcony  picturecount  pricetrend  \\\n",
              "0       ONE_YEAR_FREE       False    False             6        4.62   \n",
              "1       ONE_YEAR_FREE       False     True             8        3.47   \n",
              "2       ONE_YEAR_FREE        True     True             8        2.72   \n",
              "3       ONE_YEAR_FREE       False     True             9        1.53   \n",
              "4                NONE       False     True            19        2.46   \n",
              "...               ...         ...      ...           ...         ...   \n",
              "268844  ONE_YEAR_FREE       False    False            12        2.58   \n",
              "268845  ONE_YEAR_FREE       False     True             0        2.74   \n",
              "268846           NONE       False     True            12        6.49   \n",
              "268847  ONE_YEAR_FREE       False     True            21        2.90   \n",
              "268848           NONE        True     True            16        4.39   \n",
              "\n",
              "        telekomUploadSpeed  totalRent  yearConstructed       firingTypes  \\\n",
              "0                     10.0     840.00       1965.00000               oil   \n",
              "1                     10.0     934.00       1871.00000               gas   \n",
              "2                      2.4    1300.00       2019.00000               gas   \n",
              "3                     40.0     401.15       1964.00000  district_heating   \n",
              "4                      0.0     903.00       1950.00000               gas   \n",
              "...                    ...        ...              ...               ...   \n",
              "268844                 2.4     670.00       1966.40059               gas   \n",
              "268845                10.0     910.00       2016.00000        geothermal   \n",
              "268846                 0.0    1150.00       1983.00000               gas   \n",
              "268847                40.0     930.00       1965.00000               gas   \n",
              "268848                 0.0    1015.00       2019.00000               gas   \n",
              "\n",
              "        hasKitchen  cellar  yearConstructedRange  baseRent  livingSpace  \\\n",
              "0            False    True                   2.0     595.0        86.00   \n",
              "1            False   False                   1.0     800.0        89.00   \n",
              "2            False    True                   9.0     965.0        83.80   \n",
              "3            False   False                   2.0     343.0        58.15   \n",
              "4            False   False                   1.0     765.0        84.97   \n",
              "...            ...     ...                   ...       ...          ...   \n",
              "268844       False   False                   1.0     590.0        85.00   \n",
              "268845       False    True                   9.0     820.0        90.00   \n",
              "268846        True   False                   4.0     930.0       115.00   \n",
              "268847       False    True                   2.0     650.0        95.00   \n",
              "268848       False    True                   9.0     840.0        70.00   \n",
              "\n",
              "                                 condition   interiorQual petsAllowed   lift  \\\n",
              "0                                well_kept         normal  negotiable  False   \n",
              "1                              refurbished         normal          no  False   \n",
              "2                           first_time_use  sophisticated  negotiable   True   \n",
              "3                               negotiable         normal  negotiable  False   \n",
              "4                              refurbished         normal  negotiable  False   \n",
              "...                                    ...            ...         ...    ...   \n",
              "268844  first_time_use_after_refurbishment  sophisticated  negotiable  False   \n",
              "268845                      mint_condition  sophisticated          no  False   \n",
              "268846                           well_kept  sophisticated  negotiable  False   \n",
              "268847                           well_kept         normal  negotiable  False   \n",
              "268848                      first_time_use  sophisticated          no   True   \n",
              "\n",
              "        baseRentRange    typeOfFlat  geo_plz  noRooms  thermalChar  floor  \\\n",
              "0                   4  ground_floor    44269      4.0       181.40    1.0   \n",
              "1                   5  ground_floor    67459      3.0       105.00    1.0   \n",
              "2                   6     apartment     1097      3.0       105.00    3.0   \n",
              "3                   2         other     9599      3.0        86.00    3.0   \n",
              "4                   5     apartment    28213      3.0       188.90    1.0   \n",
              "...               ...           ...      ...      ...          ...    ...   \n",
              "268844              4   roof_storey    45279      3.0       105.00    3.0   \n",
              "268845              6   roof_storey    82390      3.0       105.00    1.0   \n",
              "268846              6     apartment    68519      3.5       105.00    1.0   \n",
              "268847              5     apartment    65552      4.0       160.77    1.0   \n",
              "268848              6     apartment    51069      2.0        24.70    1.0   \n",
              "\n",
              "        numberOfFloors  noRoomsRange  garden  livingSpaceRange  \\\n",
              "0                  3.0             4    True                 4   \n",
              "1                  3.0             3   False                 4   \n",
              "2                  4.0             3   False                 4   \n",
              "3                  3.0             3   False                 2   \n",
              "4                  3.0             3   False                 4   \n",
              "...                ...           ...     ...               ...   \n",
              "268844             3.0             3   False                 4   \n",
              "268845             3.0             3   False                 4   \n",
              "268846             1.0             3   False                 5   \n",
              "268847             2.0             4    True                 4   \n",
              "268848             5.0             2   False                 3   \n",
              "\n",
              "                         regio2                      regio3   date  \n",
              "0                      Dortmund                     Schüren  May19  \n",
              "1             Rhein_Pfalz_Kreis              Böhl_Iggelheim  May19  \n",
              "2                       Dresden  Äußere_Neustadt_Antonstadt  Oct19  \n",
              "3           Mittelsachsen_Kreis                    Freiberg  May19  \n",
              "4                        Bremen           Neu_Schwachhausen  Feb20  \n",
              "...                         ...                         ...    ...  \n",
              "268844                    Essen                       Horst  Feb20  \n",
              "268845  Weilheim_Schongau_Kreis                    Eberfing  Feb20  \n",
              "268846         Bergstraße_Kreis                   Viernheim  May19  \n",
              "268847   Limburg_Weilburg_Kreis         Limburg_an_der_Lahn  Feb20  \n",
              "268848                     Köln                   Dellbrück  May19  \n",
              "\n",
              "[231351 rows x 34 columns]"
            ],
            "text/html": [
              "\n",
              "  <div id=\"df-cdfb3577-a4d3-44e3-bb1b-46dfefec5d7a\">\n",
              "    <div class=\"colab-df-container\">\n",
              "      <div>\n",
              "<style scoped>\n",
              "    .dataframe tbody tr th:only-of-type {\n",
              "        vertical-align: middle;\n",
              "    }\n",
              "\n",
              "    .dataframe tbody tr th {\n",
              "        vertical-align: top;\n",
              "    }\n",
              "\n",
              "    .dataframe thead th {\n",
              "        text-align: right;\n",
              "    }\n",
              "</style>\n",
              "<table border=\"1\" class=\"dataframe\">\n",
              "  <thead>\n",
              "    <tr style=\"text-align: right;\">\n",
              "      <th></th>\n",
              "      <th>regio1</th>\n",
              "      <th>serviceCharge</th>\n",
              "      <th>heatingType</th>\n",
              "      <th>telekomTvOffer</th>\n",
              "      <th>newlyConst</th>\n",
              "      <th>balcony</th>\n",
              "      <th>picturecount</th>\n",
              "      <th>pricetrend</th>\n",
              "      <th>telekomUploadSpeed</th>\n",
              "      <th>totalRent</th>\n",
              "      <th>yearConstructed</th>\n",
              "      <th>firingTypes</th>\n",
              "      <th>hasKitchen</th>\n",
              "      <th>cellar</th>\n",
              "      <th>yearConstructedRange</th>\n",
              "      <th>baseRent</th>\n",
              "      <th>livingSpace</th>\n",
              "      <th>condition</th>\n",
              "      <th>interiorQual</th>\n",
              "      <th>petsAllowed</th>\n",
              "      <th>lift</th>\n",
              "      <th>baseRentRange</th>\n",
              "      <th>typeOfFlat</th>\n",
              "      <th>geo_plz</th>\n",
              "      <th>noRooms</th>\n",
              "      <th>thermalChar</th>\n",
              "      <th>floor</th>\n",
              "      <th>numberOfFloors</th>\n",
              "      <th>noRoomsRange</th>\n",
              "      <th>garden</th>\n",
              "      <th>livingSpaceRange</th>\n",
              "      <th>regio2</th>\n",
              "      <th>regio3</th>\n",
              "      <th>date</th>\n",
              "    </tr>\n",
              "  </thead>\n",
              "  <tbody>\n",
              "    <tr>\n",
              "      <th>0</th>\n",
              "      <td>Nordrhein_Westfalen</td>\n",
              "      <td>245.00</td>\n",
              "      <td>central_heating</td>\n",
              "      <td>ONE_YEAR_FREE</td>\n",
              "      <td>False</td>\n",
              "      <td>False</td>\n",
              "      <td>6</td>\n",
              "      <td>4.62</td>\n",
              "      <td>10.0</td>\n",
              "      <td>840.00</td>\n",
              "      <td>1965.00000</td>\n",
              "      <td>oil</td>\n",
              "      <td>False</td>\n",
              "      <td>True</td>\n",
              "      <td>2.0</td>\n",
              "      <td>595.0</td>\n",
              "      <td>86.00</td>\n",
              "      <td>well_kept</td>\n",
              "      <td>normal</td>\n",
              "      <td>negotiable</td>\n",
              "      <td>False</td>\n",
              "      <td>4</td>\n",
              "      <td>ground_floor</td>\n",
              "      <td>44269</td>\n",
              "      <td>4.0</td>\n",
              "      <td>181.40</td>\n",
              "      <td>1.0</td>\n",
              "      <td>3.0</td>\n",
              "      <td>4</td>\n",
              "      <td>True</td>\n",
              "      <td>4</td>\n",
              "      <td>Dortmund</td>\n",
              "      <td>Schüren</td>\n",
              "      <td>May19</td>\n",
              "    </tr>\n",
              "    <tr>\n",
              "      <th>1</th>\n",
              "      <td>Rheinland_Pfalz</td>\n",
              "      <td>134.00</td>\n",
              "      <td>self_contained_central_heating</td>\n",
              "      <td>ONE_YEAR_FREE</td>\n",
              "      <td>False</td>\n",
              "      <td>True</td>\n",
              "      <td>8</td>\n",
              "      <td>3.47</td>\n",
              "      <td>10.0</td>\n",
              "      <td>934.00</td>\n",
              "      <td>1871.00000</td>\n",
              "      <td>gas</td>\n",
              "      <td>False</td>\n",
              "      <td>False</td>\n",
              "      <td>1.0</td>\n",
              "      <td>800.0</td>\n",
              "      <td>89.00</td>\n",
              "      <td>refurbished</td>\n",
              "      <td>normal</td>\n",
              "      <td>no</td>\n",
              "      <td>False</td>\n",
              "      <td>5</td>\n",
              "      <td>ground_floor</td>\n",
              "      <td>67459</td>\n",
              "      <td>3.0</td>\n",
              "      <td>105.00</td>\n",
              "      <td>1.0</td>\n",
              "      <td>3.0</td>\n",
              "      <td>3</td>\n",
              "      <td>False</td>\n",
              "      <td>4</td>\n",
              "      <td>Rhein_Pfalz_Kreis</td>\n",
              "      <td>Böhl_Iggelheim</td>\n",
              "      <td>May19</td>\n",
              "    </tr>\n",
              "    <tr>\n",
              "      <th>2</th>\n",
              "      <td>Sachsen</td>\n",
              "      <td>255.00</td>\n",
              "      <td>floor_heating</td>\n",
              "      <td>ONE_YEAR_FREE</td>\n",
              "      <td>True</td>\n",
              "      <td>True</td>\n",
              "      <td>8</td>\n",
              "      <td>2.72</td>\n",
              "      <td>2.4</td>\n",
              "      <td>1300.00</td>\n",
              "      <td>2019.00000</td>\n",
              "      <td>gas</td>\n",
              "      <td>False</td>\n",
              "      <td>True</td>\n",
              "      <td>9.0</td>\n",
              "      <td>965.0</td>\n",
              "      <td>83.80</td>\n",
              "      <td>first_time_use</td>\n",
              "      <td>sophisticated</td>\n",
              "      <td>negotiable</td>\n",
              "      <td>True</td>\n",
              "      <td>6</td>\n",
              "      <td>apartment</td>\n",
              "      <td>1097</td>\n",
              "      <td>3.0</td>\n",
              "      <td>105.00</td>\n",
              "      <td>3.0</td>\n",
              "      <td>4.0</td>\n",
              "      <td>3</td>\n",
              "      <td>False</td>\n",
              "      <td>4</td>\n",
              "      <td>Dresden</td>\n",
              "      <td>Äußere_Neustadt_Antonstadt</td>\n",
              "      <td>Oct19</td>\n",
              "    </tr>\n",
              "    <tr>\n",
              "      <th>3</th>\n",
              "      <td>Sachsen</td>\n",
              "      <td>58.15</td>\n",
              "      <td>district_heating</td>\n",
              "      <td>ONE_YEAR_FREE</td>\n",
              "      <td>False</td>\n",
              "      <td>True</td>\n",
              "      <td>9</td>\n",
              "      <td>1.53</td>\n",
              "      <td>40.0</td>\n",
              "      <td>401.15</td>\n",
              "      <td>1964.00000</td>\n",
              "      <td>district_heating</td>\n",
              "      <td>False</td>\n",
              "      <td>False</td>\n",
              "      <td>2.0</td>\n",
              "      <td>343.0</td>\n",
              "      <td>58.15</td>\n",
              "      <td>negotiable</td>\n",
              "      <td>normal</td>\n",
              "      <td>negotiable</td>\n",
              "      <td>False</td>\n",
              "      <td>2</td>\n",
              "      <td>other</td>\n",
              "      <td>9599</td>\n",
              "      <td>3.0</td>\n",
              "      <td>86.00</td>\n",
              "      <td>3.0</td>\n",
              "      <td>3.0</td>\n",
              "      <td>3</td>\n",
              "      <td>False</td>\n",
              "      <td>2</td>\n",
              "      <td>Mittelsachsen_Kreis</td>\n",
              "      <td>Freiberg</td>\n",
              "      <td>May19</td>\n",
              "    </tr>\n",
              "    <tr>\n",
              "      <th>4</th>\n",
              "      <td>Bremen</td>\n",
              "      <td>138.00</td>\n",
              "      <td>self_contained_central_heating</td>\n",
              "      <td>NONE</td>\n",
              "      <td>False</td>\n",
              "      <td>True</td>\n",
              "      <td>19</td>\n",
              "      <td>2.46</td>\n",
              "      <td>0.0</td>\n",
              "      <td>903.00</td>\n",
              "      <td>1950.00000</td>\n",
              "      <td>gas</td>\n",
              "      <td>False</td>\n",
              "      <td>False</td>\n",
              "      <td>1.0</td>\n",
              "      <td>765.0</td>\n",
              "      <td>84.97</td>\n",
              "      <td>refurbished</td>\n",
              "      <td>normal</td>\n",
              "      <td>negotiable</td>\n",
              "      <td>False</td>\n",
              "      <td>5</td>\n",
              "      <td>apartment</td>\n",
              "      <td>28213</td>\n",
              "      <td>3.0</td>\n",
              "      <td>188.90</td>\n",
              "      <td>1.0</td>\n",
              "      <td>3.0</td>\n",
              "      <td>3</td>\n",
              "      <td>False</td>\n",
              "      <td>4</td>\n",
              "      <td>Bremen</td>\n",
              "      <td>Neu_Schwachhausen</td>\n",
              "      <td>Feb20</td>\n",
              "    </tr>\n",
              "    <tr>\n",
              "      <th>...</th>\n",
              "      <td>...</td>\n",
              "      <td>...</td>\n",
              "      <td>...</td>\n",
              "      <td>...</td>\n",
              "      <td>...</td>\n",
              "      <td>...</td>\n",
              "      <td>...</td>\n",
              "      <td>...</td>\n",
              "      <td>...</td>\n",
              "      <td>...</td>\n",
              "      <td>...</td>\n",
              "      <td>...</td>\n",
              "      <td>...</td>\n",
              "      <td>...</td>\n",
              "      <td>...</td>\n",
              "      <td>...</td>\n",
              "      <td>...</td>\n",
              "      <td>...</td>\n",
              "      <td>...</td>\n",
              "      <td>...</td>\n",
              "      <td>...</td>\n",
              "      <td>...</td>\n",
              "      <td>...</td>\n",
              "      <td>...</td>\n",
              "      <td>...</td>\n",
              "      <td>...</td>\n",
              "      <td>...</td>\n",
              "      <td>...</td>\n",
              "      <td>...</td>\n",
              "      <td>...</td>\n",
              "      <td>...</td>\n",
              "      <td>...</td>\n",
              "      <td>...</td>\n",
              "      <td>...</td>\n",
              "    </tr>\n",
              "    <tr>\n",
              "      <th>268844</th>\n",
              "      <td>Nordrhein_Westfalen</td>\n",
              "      <td>80.00</td>\n",
              "      <td>gas_heating</td>\n",
              "      <td>ONE_YEAR_FREE</td>\n",
              "      <td>False</td>\n",
              "      <td>False</td>\n",
              "      <td>12</td>\n",
              "      <td>2.58</td>\n",
              "      <td>2.4</td>\n",
              "      <td>670.00</td>\n",
              "      <td>1966.40059</td>\n",
              "      <td>gas</td>\n",
              "      <td>False</td>\n",
              "      <td>False</td>\n",
              "      <td>1.0</td>\n",
              "      <td>590.0</td>\n",
              "      <td>85.00</td>\n",
              "      <td>first_time_use_after_refurbishment</td>\n",
              "      <td>sophisticated</td>\n",
              "      <td>negotiable</td>\n",
              "      <td>False</td>\n",
              "      <td>4</td>\n",
              "      <td>roof_storey</td>\n",
              "      <td>45279</td>\n",
              "      <td>3.0</td>\n",
              "      <td>105.00</td>\n",
              "      <td>3.0</td>\n",
              "      <td>3.0</td>\n",
              "      <td>3</td>\n",
              "      <td>False</td>\n",
              "      <td>4</td>\n",
              "      <td>Essen</td>\n",
              "      <td>Horst</td>\n",
              "      <td>Feb20</td>\n",
              "    </tr>\n",
              "    <tr>\n",
              "      <th>268845</th>\n",
              "      <td>Bayern</td>\n",
              "      <td>90.00</td>\n",
              "      <td>heat_pump</td>\n",
              "      <td>ONE_YEAR_FREE</td>\n",
              "      <td>False</td>\n",
              "      <td>True</td>\n",
              "      <td>0</td>\n",
              "      <td>2.74</td>\n",
              "      <td>10.0</td>\n",
              "      <td>910.00</td>\n",
              "      <td>2016.00000</td>\n",
              "      <td>geothermal</td>\n",
              "      <td>False</td>\n",
              "      <td>True</td>\n",
              "      <td>9.0</td>\n",
              "      <td>820.0</td>\n",
              "      <td>90.00</td>\n",
              "      <td>mint_condition</td>\n",
              "      <td>sophisticated</td>\n",
              "      <td>no</td>\n",
              "      <td>False</td>\n",
              "      <td>6</td>\n",
              "      <td>roof_storey</td>\n",
              "      <td>82390</td>\n",
              "      <td>3.0</td>\n",
              "      <td>105.00</td>\n",
              "      <td>1.0</td>\n",
              "      <td>3.0</td>\n",
              "      <td>3</td>\n",
              "      <td>False</td>\n",
              "      <td>4</td>\n",
              "      <td>Weilheim_Schongau_Kreis</td>\n",
              "      <td>Eberfing</td>\n",
              "      <td>Feb20</td>\n",
              "    </tr>\n",
              "    <tr>\n",
              "      <th>268846</th>\n",
              "      <td>Hessen</td>\n",
              "      <td>220.00</td>\n",
              "      <td>gas_heating</td>\n",
              "      <td>NONE</td>\n",
              "      <td>False</td>\n",
              "      <td>True</td>\n",
              "      <td>12</td>\n",
              "      <td>6.49</td>\n",
              "      <td>0.0</td>\n",
              "      <td>1150.00</td>\n",
              "      <td>1983.00000</td>\n",
              "      <td>gas</td>\n",
              "      <td>True</td>\n",
              "      <td>False</td>\n",
              "      <td>4.0</td>\n",
              "      <td>930.0</td>\n",
              "      <td>115.00</td>\n",
              "      <td>well_kept</td>\n",
              "      <td>sophisticated</td>\n",
              "      <td>negotiable</td>\n",
              "      <td>False</td>\n",
              "      <td>6</td>\n",
              "      <td>apartment</td>\n",
              "      <td>68519</td>\n",
              "      <td>3.5</td>\n",
              "      <td>105.00</td>\n",
              "      <td>1.0</td>\n",
              "      <td>1.0</td>\n",
              "      <td>3</td>\n",
              "      <td>False</td>\n",
              "      <td>5</td>\n",
              "      <td>Bergstraße_Kreis</td>\n",
              "      <td>Viernheim</td>\n",
              "      <td>May19</td>\n",
              "    </tr>\n",
              "    <tr>\n",
              "      <th>268847</th>\n",
              "      <td>Hessen</td>\n",
              "      <td>220.00</td>\n",
              "      <td>central_heating</td>\n",
              "      <td>ONE_YEAR_FREE</td>\n",
              "      <td>False</td>\n",
              "      <td>True</td>\n",
              "      <td>21</td>\n",
              "      <td>2.90</td>\n",
              "      <td>40.0</td>\n",
              "      <td>930.00</td>\n",
              "      <td>1965.00000</td>\n",
              "      <td>gas</td>\n",
              "      <td>False</td>\n",
              "      <td>True</td>\n",
              "      <td>2.0</td>\n",
              "      <td>650.0</td>\n",
              "      <td>95.00</td>\n",
              "      <td>well_kept</td>\n",
              "      <td>normal</td>\n",
              "      <td>negotiable</td>\n",
              "      <td>False</td>\n",
              "      <td>5</td>\n",
              "      <td>apartment</td>\n",
              "      <td>65552</td>\n",
              "      <td>4.0</td>\n",
              "      <td>160.77</td>\n",
              "      <td>1.0</td>\n",
              "      <td>2.0</td>\n",
              "      <td>4</td>\n",
              "      <td>True</td>\n",
              "      <td>4</td>\n",
              "      <td>Limburg_Weilburg_Kreis</td>\n",
              "      <td>Limburg_an_der_Lahn</td>\n",
              "      <td>Feb20</td>\n",
              "    </tr>\n",
              "    <tr>\n",
              "      <th>268848</th>\n",
              "      <td>Nordrhein_Westfalen</td>\n",
              "      <td>175.00</td>\n",
              "      <td>heat_pump</td>\n",
              "      <td>NONE</td>\n",
              "      <td>True</td>\n",
              "      <td>True</td>\n",
              "      <td>16</td>\n",
              "      <td>4.39</td>\n",
              "      <td>0.0</td>\n",
              "      <td>1015.00</td>\n",
              "      <td>2019.00000</td>\n",
              "      <td>gas</td>\n",
              "      <td>False</td>\n",
              "      <td>True</td>\n",
              "      <td>9.0</td>\n",
              "      <td>840.0</td>\n",
              "      <td>70.00</td>\n",
              "      <td>first_time_use</td>\n",
              "      <td>sophisticated</td>\n",
              "      <td>no</td>\n",
              "      <td>True</td>\n",
              "      <td>6</td>\n",
              "      <td>apartment</td>\n",
              "      <td>51069</td>\n",
              "      <td>2.0</td>\n",
              "      <td>24.70</td>\n",
              "      <td>1.0</td>\n",
              "      <td>5.0</td>\n",
              "      <td>2</td>\n",
              "      <td>False</td>\n",
              "      <td>3</td>\n",
              "      <td>Köln</td>\n",
              "      <td>Dellbrück</td>\n",
              "      <td>May19</td>\n",
              "    </tr>\n",
              "  </tbody>\n",
              "</table>\n",
              "<p>231351 rows × 34 columns</p>\n",
              "</div>\n",
              "      <button class=\"colab-df-convert\" onclick=\"convertToInteractive('df-cdfb3577-a4d3-44e3-bb1b-46dfefec5d7a')\"\n",
              "              title=\"Convert this dataframe to an interactive table.\"\n",
              "              style=\"display:none;\">\n",
              "        \n",
              "  <svg xmlns=\"http://www.w3.org/2000/svg\" height=\"24px\"viewBox=\"0 0 24 24\"\n",
              "       width=\"24px\">\n",
              "    <path d=\"M0 0h24v24H0V0z\" fill=\"none\"/>\n",
              "    <path d=\"M18.56 5.44l.94 2.06.94-2.06 2.06-.94-2.06-.94-.94-2.06-.94 2.06-2.06.94zm-11 1L8.5 8.5l.94-2.06 2.06-.94-2.06-.94L8.5 2.5l-.94 2.06-2.06.94zm10 10l.94 2.06.94-2.06 2.06-.94-2.06-.94-.94-2.06-.94 2.06-2.06.94z\"/><path d=\"M17.41 7.96l-1.37-1.37c-.4-.4-.92-.59-1.43-.59-.52 0-1.04.2-1.43.59L10.3 9.45l-7.72 7.72c-.78.78-.78 2.05 0 2.83L4 21.41c.39.39.9.59 1.41.59.51 0 1.02-.2 1.41-.59l7.78-7.78 2.81-2.81c.8-.78.8-2.07 0-2.86zM5.41 20L4 18.59l7.72-7.72 1.47 1.35L5.41 20z\"/>\n",
              "  </svg>\n",
              "      </button>\n",
              "      \n",
              "  <style>\n",
              "    .colab-df-container {\n",
              "      display:flex;\n",
              "      flex-wrap:wrap;\n",
              "      gap: 12px;\n",
              "    }\n",
              "\n",
              "    .colab-df-convert {\n",
              "      background-color: #E8F0FE;\n",
              "      border: none;\n",
              "      border-radius: 50%;\n",
              "      cursor: pointer;\n",
              "      display: none;\n",
              "      fill: #1967D2;\n",
              "      height: 32px;\n",
              "      padding: 0 0 0 0;\n",
              "      width: 32px;\n",
              "    }\n",
              "\n",
              "    .colab-df-convert:hover {\n",
              "      background-color: #E2EBFA;\n",
              "      box-shadow: 0px 1px 2px rgba(60, 64, 67, 0.3), 0px 1px 3px 1px rgba(60, 64, 67, 0.15);\n",
              "      fill: #174EA6;\n",
              "    }\n",
              "\n",
              "    [theme=dark] .colab-df-convert {\n",
              "      background-color: #3B4455;\n",
              "      fill: #D2E3FC;\n",
              "    }\n",
              "\n",
              "    [theme=dark] .colab-df-convert:hover {\n",
              "      background-color: #434B5C;\n",
              "      box-shadow: 0px 1px 3px 1px rgba(0, 0, 0, 0.15);\n",
              "      filter: drop-shadow(0px 1px 2px rgba(0, 0, 0, 0.3));\n",
              "      fill: #FFFFFF;\n",
              "    }\n",
              "  </style>\n",
              "\n",
              "      <script>\n",
              "        const buttonEl =\n",
              "          document.querySelector('#df-cdfb3577-a4d3-44e3-bb1b-46dfefec5d7a button.colab-df-convert');\n",
              "        buttonEl.style.display =\n",
              "          google.colab.kernel.accessAllowed ? 'block' : 'none';\n",
              "\n",
              "        async function convertToInteractive(key) {\n",
              "          const element = document.querySelector('#df-cdfb3577-a4d3-44e3-bb1b-46dfefec5d7a');\n",
              "          const dataTable =\n",
              "            await google.colab.kernel.invokeFunction('convertToInteractive',\n",
              "                                                     [key], {});\n",
              "          if (!dataTable) return;\n",
              "\n",
              "          const docLinkHtml = 'Like what you see? Visit the ' +\n",
              "            '<a target=\"_blank\" href=https://colab.research.google.com/notebooks/data_table.ipynb>data table notebook</a>'\n",
              "            + ' to learn more about interactive tables.';\n",
              "          element.innerHTML = '';\n",
              "          dataTable['output_type'] = 'display_data';\n",
              "          await google.colab.output.renderOutput(dataTable, element);\n",
              "          const docLink = document.createElement('div');\n",
              "          docLink.innerHTML = docLinkHtml;\n",
              "          element.appendChild(docLink);\n",
              "        }\n",
              "      </script>\n",
              "    </div>\n",
              "  </div>\n",
              "  "
            ]
          },
          "metadata": {},
          "execution_count": 210
        }
      ]
    },
    {
      "cell_type": "code",
      "source": [
        "colnames_bool_only = data.select_dtypes(include=bool).columns.tolist()"
      ],
      "metadata": {
        "id": "dGRGlJcagHAZ"
      },
      "execution_count": null,
      "outputs": []
    },
    {
      "cell_type": "code",
      "source": [
        "colnames_categorical_only = set(data.columns) - set(colnames_numerics_only) -set(colnames_bool_only )"
      ],
      "metadata": {
        "id": "N_ESFGLHcDQg"
      },
      "execution_count": null,
      "outputs": []
    },
    {
      "cell_type": "code",
      "source": [
        "colnames_categorical_only = list(colnames_categorical_only)"
      ],
      "metadata": {
        "id": "oBM46ffLRZVs"
      },
      "execution_count": null,
      "outputs": []
    },
    {
      "cell_type": "code",
      "source": [
        "colnames_categorical_only1 = colnames_categorical_only[:]"
      ],
      "metadata": {
        "id": "dMkiIc_pgBgM"
      },
      "execution_count": null,
      "outputs": []
    },
    {
      "cell_type": "code",
      "source": [
        "colnames_categorical_only1"
      ],
      "metadata": {
        "colab": {
          "base_uri": "https://localhost:8080/"
        },
        "id": "fBCPHzW1QZgB",
        "outputId": "b1632f08-afb3-43e0-a261-9ee8c29ebacc"
      },
      "execution_count": null,
      "outputs": [
        {
          "output_type": "execute_result",
          "data": {
            "text/plain": [
              "{'condition',\n",
              " 'date',\n",
              " 'firingTypes',\n",
              " 'heatingType',\n",
              " 'interiorQual',\n",
              " 'petsAllowed',\n",
              " 'regio1',\n",
              " 'regio2',\n",
              " 'regio3',\n",
              " 'telekomTvOffer',\n",
              " 'typeOfFlat'}"
            ]
          },
          "metadata": {},
          "execution_count": 214
        }
      ]
    },
    {
      "cell_type": "code",
      "source": [
        "colnames_categorical_only.remove(\"date\")\n",
        "colnames_categorical_only.remove(\"regio2\")\n",
        "colnames_categorical_only.remove(\"regio3\")\n",
        "colnames_categorical_only.remove(\"firingTypes\")\n",
        "colnames_categorical_only.remove(\"condition\")"
      ],
      "metadata": {
        "id": "7jYdP-NO3SxK"
      },
      "execution_count": null,
      "outputs": []
    },
    {
      "cell_type": "code",
      "source": [
        "#encode the data\n",
        "data_encoded=pd.get_dummies(data=data[colnames_categorical_only],drop_first=True)\n",
        "data_encoded\n",
        "\n",
        " \n"
      ],
      "metadata": {
        "colab": {
          "base_uri": "https://localhost:8080/",
          "height": 488
        },
        "id": "tJ43RVIcg5Tq",
        "outputId": "f195a8b0-a4ea-4827-8e1f-366f3b487311"
      },
      "execution_count": null,
      "outputs": [
        {
          "output_type": "execute_result",
          "data": {
            "text/plain": [
              "        petsAllowed_no  petsAllowed_yes  \\\n",
              "0                    0                0   \n",
              "1                    1                0   \n",
              "2                    0                0   \n",
              "3                    0                0   \n",
              "4                    0                0   \n",
              "...                ...              ...   \n",
              "268844               0                0   \n",
              "268845               1                0   \n",
              "268846               0                0   \n",
              "268847               0                0   \n",
              "268848               1                0   \n",
              "\n",
              "        heatingType_combined_heat_and_power_plant  \\\n",
              "0                                               0   \n",
              "1                                               0   \n",
              "2                                               0   \n",
              "3                                               0   \n",
              "4                                               0   \n",
              "...                                           ...   \n",
              "268844                                          0   \n",
              "268845                                          0   \n",
              "268846                                          0   \n",
              "268847                                          0   \n",
              "268848                                          0   \n",
              "\n",
              "        heatingType_district_heating  heatingType_electric_heating  \\\n",
              "0                                  0                             0   \n",
              "1                                  0                             0   \n",
              "2                                  0                             0   \n",
              "3                                  1                             0   \n",
              "4                                  0                             0   \n",
              "...                              ...                           ...   \n",
              "268844                             0                             0   \n",
              "268845                             0                             0   \n",
              "268846                             0                             0   \n",
              "268847                             0                             0   \n",
              "268848                             0                             0   \n",
              "\n",
              "        heatingType_floor_heating  heatingType_gas_heating  \\\n",
              "0                               0                        0   \n",
              "1                               0                        0   \n",
              "2                               1                        0   \n",
              "3                               0                        0   \n",
              "4                               0                        0   \n",
              "...                           ...                      ...   \n",
              "268844                          0                        1   \n",
              "268845                          0                        0   \n",
              "268846                          0                        1   \n",
              "268847                          0                        0   \n",
              "268848                          0                        0   \n",
              "\n",
              "        heatingType_heat_pump  heatingType_night_storage_heater  \\\n",
              "0                           0                                 0   \n",
              "1                           0                                 0   \n",
              "2                           0                                 0   \n",
              "3                           0                                 0   \n",
              "4                           0                                 0   \n",
              "...                       ...                               ...   \n",
              "268844                      0                                 0   \n",
              "268845                      1                                 0   \n",
              "268846                      0                                 0   \n",
              "268847                      0                                 0   \n",
              "268848                      1                                 0   \n",
              "\n",
              "        heatingType_oil_heating  heatingType_self_contained_central_heating  \\\n",
              "0                             0                                           0   \n",
              "1                             0                                           1   \n",
              "2                             0                                           0   \n",
              "3                             0                                           0   \n",
              "4                             0                                           1   \n",
              "...                         ...                                         ...   \n",
              "268844                        0                                           0   \n",
              "268845                        0                                           0   \n",
              "268846                        0                                           0   \n",
              "268847                        0                                           0   \n",
              "268848                        0                                           0   \n",
              "\n",
              "        heatingType_solar_heating  heatingType_stove_heating  \\\n",
              "0                               0                          0   \n",
              "1                               0                          0   \n",
              "2                               0                          0   \n",
              "3                               0                          0   \n",
              "4                               0                          0   \n",
              "...                           ...                        ...   \n",
              "268844                          0                          0   \n",
              "268845                          0                          0   \n",
              "268846                          0                          0   \n",
              "268847                          0                          0   \n",
              "268848                          0                          0   \n",
              "\n",
              "        heatingType_wood_pellet_heating  regio1_Bayern  regio1_Berlin  \\\n",
              "0                                     0              0              0   \n",
              "1                                     0              0              0   \n",
              "2                                     0              0              0   \n",
              "3                                     0              0              0   \n",
              "4                                     0              0              0   \n",
              "...                                 ...            ...            ...   \n",
              "268844                                0              0              0   \n",
              "268845                                0              1              0   \n",
              "268846                                0              0              0   \n",
              "268847                                0              0              0   \n",
              "268848                                0              0              0   \n",
              "\n",
              "        regio1_Brandenburg  regio1_Bremen  regio1_Hamburg  regio1_Hessen  \\\n",
              "0                        0              0               0              0   \n",
              "1                        0              0               0              0   \n",
              "2                        0              0               0              0   \n",
              "3                        0              0               0              0   \n",
              "4                        0              1               0              0   \n",
              "...                    ...            ...             ...            ...   \n",
              "268844                   0              0               0              0   \n",
              "268845                   0              0               0              0   \n",
              "268846                   0              0               0              1   \n",
              "268847                   0              0               0              1   \n",
              "268848                   0              0               0              0   \n",
              "\n",
              "        regio1_Mecklenburg_Vorpommern  regio1_Niedersachsen  \\\n",
              "0                                   0                     0   \n",
              "1                                   0                     0   \n",
              "2                                   0                     0   \n",
              "3                                   0                     0   \n",
              "4                                   0                     0   \n",
              "...                               ...                   ...   \n",
              "268844                              0                     0   \n",
              "268845                              0                     0   \n",
              "268846                              0                     0   \n",
              "268847                              0                     0   \n",
              "268848                              0                     0   \n",
              "\n",
              "        regio1_Nordrhein_Westfalen  regio1_Rheinland_Pfalz  regio1_Saarland  \\\n",
              "0                                1                       0                0   \n",
              "1                                0                       1                0   \n",
              "2                                0                       0                0   \n",
              "3                                0                       0                0   \n",
              "4                                0                       0                0   \n",
              "...                            ...                     ...              ...   \n",
              "268844                           1                       0                0   \n",
              "268845                           0                       0                0   \n",
              "268846                           0                       0                0   \n",
              "268847                           0                       0                0   \n",
              "268848                           1                       0                0   \n",
              "\n",
              "        regio1_Sachsen  regio1_Sachsen_Anhalt  regio1_Schleswig_Holstein  \\\n",
              "0                    0                      0                          0   \n",
              "1                    0                      0                          0   \n",
              "2                    1                      0                          0   \n",
              "3                    1                      0                          0   \n",
              "4                    0                      0                          0   \n",
              "...                ...                    ...                        ...   \n",
              "268844               0                      0                          0   \n",
              "268845               0                      0                          0   \n",
              "268846               0                      0                          0   \n",
              "268847               0                      0                          0   \n",
              "268848               0                      0                          0   \n",
              "\n",
              "        regio1_Thüringen  typeOfFlat_ground_floor  typeOfFlat_half_basement  \\\n",
              "0                      0                        1                         0   \n",
              "1                      0                        1                         0   \n",
              "2                      0                        0                         0   \n",
              "3                      0                        0                         0   \n",
              "4                      0                        0                         0   \n",
              "...                  ...                      ...                       ...   \n",
              "268844                 0                        0                         0   \n",
              "268845                 0                        0                         0   \n",
              "268846                 0                        0                         0   \n",
              "268847                 0                        0                         0   \n",
              "268848                 0                        0                         0   \n",
              "\n",
              "        typeOfFlat_loft  typeOfFlat_maisonette  typeOfFlat_other  \\\n",
              "0                     0                      0                 0   \n",
              "1                     0                      0                 0   \n",
              "2                     0                      0                 0   \n",
              "3                     0                      0                 1   \n",
              "4                     0                      0                 0   \n",
              "...                 ...                    ...               ...   \n",
              "268844                0                      0                 0   \n",
              "268845                0                      0                 0   \n",
              "268846                0                      0                 0   \n",
              "268847                0                      0                 0   \n",
              "268848                0                      0                 0   \n",
              "\n",
              "        typeOfFlat_penthouse  typeOfFlat_raised_ground_floor  \\\n",
              "0                          0                               0   \n",
              "1                          0                               0   \n",
              "2                          0                               0   \n",
              "3                          0                               0   \n",
              "4                          0                               0   \n",
              "...                      ...                             ...   \n",
              "268844                     0                               0   \n",
              "268845                     0                               0   \n",
              "268846                     0                               0   \n",
              "268847                     0                               0   \n",
              "268848                     0                               0   \n",
              "\n",
              "        typeOfFlat_roof_storey  typeOfFlat_terraced_flat  interiorQual_normal  \\\n",
              "0                            0                         0                    1   \n",
              "1                            0                         0                    1   \n",
              "2                            0                         0                    0   \n",
              "3                            0                         0                    1   \n",
              "4                            0                         0                    1   \n",
              "...                        ...                       ...                  ...   \n",
              "268844                       1                         0                    0   \n",
              "268845                       1                         0                    0   \n",
              "268846                       0                         0                    0   \n",
              "268847                       0                         0                    1   \n",
              "268848                       0                         0                    0   \n",
              "\n",
              "        interiorQual_simple  interiorQual_sophisticated  \\\n",
              "0                         0                           0   \n",
              "1                         0                           0   \n",
              "2                         0                           1   \n",
              "3                         0                           0   \n",
              "4                         0                           0   \n",
              "...                     ...                         ...   \n",
              "268844                    0                           1   \n",
              "268845                    0                           1   \n",
              "268846                    0                           1   \n",
              "268847                    0                           0   \n",
              "268848                    0                           1   \n",
              "\n",
              "        telekomTvOffer_ONE_YEAR_FREE  telekomTvOffer_ON_DEMAND  \n",
              "0                                  1                         0  \n",
              "1                                  1                         0  \n",
              "2                                  1                         0  \n",
              "3                                  1                         0  \n",
              "4                                  0                         0  \n",
              "...                              ...                       ...  \n",
              "268844                             1                         0  \n",
              "268845                             1                         0  \n",
              "268846                             0                         0  \n",
              "268847                             1                         0  \n",
              "268848                             0                         0  \n",
              "\n",
              "[231351 rows x 43 columns]"
            ],
            "text/html": [
              "\n",
              "  <div id=\"df-a6df3ad6-0b22-4264-941f-3f7f080b1032\">\n",
              "    <div class=\"colab-df-container\">\n",
              "      <div>\n",
              "<style scoped>\n",
              "    .dataframe tbody tr th:only-of-type {\n",
              "        vertical-align: middle;\n",
              "    }\n",
              "\n",
              "    .dataframe tbody tr th {\n",
              "        vertical-align: top;\n",
              "    }\n",
              "\n",
              "    .dataframe thead th {\n",
              "        text-align: right;\n",
              "    }\n",
              "</style>\n",
              "<table border=\"1\" class=\"dataframe\">\n",
              "  <thead>\n",
              "    <tr style=\"text-align: right;\">\n",
              "      <th></th>\n",
              "      <th>petsAllowed_no</th>\n",
              "      <th>petsAllowed_yes</th>\n",
              "      <th>heatingType_combined_heat_and_power_plant</th>\n",
              "      <th>heatingType_district_heating</th>\n",
              "      <th>heatingType_electric_heating</th>\n",
              "      <th>heatingType_floor_heating</th>\n",
              "      <th>heatingType_gas_heating</th>\n",
              "      <th>heatingType_heat_pump</th>\n",
              "      <th>heatingType_night_storage_heater</th>\n",
              "      <th>heatingType_oil_heating</th>\n",
              "      <th>heatingType_self_contained_central_heating</th>\n",
              "      <th>heatingType_solar_heating</th>\n",
              "      <th>heatingType_stove_heating</th>\n",
              "      <th>heatingType_wood_pellet_heating</th>\n",
              "      <th>regio1_Bayern</th>\n",
              "      <th>regio1_Berlin</th>\n",
              "      <th>regio1_Brandenburg</th>\n",
              "      <th>regio1_Bremen</th>\n",
              "      <th>regio1_Hamburg</th>\n",
              "      <th>regio1_Hessen</th>\n",
              "      <th>regio1_Mecklenburg_Vorpommern</th>\n",
              "      <th>regio1_Niedersachsen</th>\n",
              "      <th>regio1_Nordrhein_Westfalen</th>\n",
              "      <th>regio1_Rheinland_Pfalz</th>\n",
              "      <th>regio1_Saarland</th>\n",
              "      <th>regio1_Sachsen</th>\n",
              "      <th>regio1_Sachsen_Anhalt</th>\n",
              "      <th>regio1_Schleswig_Holstein</th>\n",
              "      <th>regio1_Thüringen</th>\n",
              "      <th>typeOfFlat_ground_floor</th>\n",
              "      <th>typeOfFlat_half_basement</th>\n",
              "      <th>typeOfFlat_loft</th>\n",
              "      <th>typeOfFlat_maisonette</th>\n",
              "      <th>typeOfFlat_other</th>\n",
              "      <th>typeOfFlat_penthouse</th>\n",
              "      <th>typeOfFlat_raised_ground_floor</th>\n",
              "      <th>typeOfFlat_roof_storey</th>\n",
              "      <th>typeOfFlat_terraced_flat</th>\n",
              "      <th>interiorQual_normal</th>\n",
              "      <th>interiorQual_simple</th>\n",
              "      <th>interiorQual_sophisticated</th>\n",
              "      <th>telekomTvOffer_ONE_YEAR_FREE</th>\n",
              "      <th>telekomTvOffer_ON_DEMAND</th>\n",
              "    </tr>\n",
              "  </thead>\n",
              "  <tbody>\n",
              "    <tr>\n",
              "      <th>0</th>\n",
              "      <td>0</td>\n",
              "      <td>0</td>\n",
              "      <td>0</td>\n",
              "      <td>0</td>\n",
              "      <td>0</td>\n",
              "      <td>0</td>\n",
              "      <td>0</td>\n",
              "      <td>0</td>\n",
              "      <td>0</td>\n",
              "      <td>0</td>\n",
              "      <td>0</td>\n",
              "      <td>0</td>\n",
              "      <td>0</td>\n",
              "      <td>0</td>\n",
              "      <td>0</td>\n",
              "      <td>0</td>\n",
              "      <td>0</td>\n",
              "      <td>0</td>\n",
              "      <td>0</td>\n",
              "      <td>0</td>\n",
              "      <td>0</td>\n",
              "      <td>0</td>\n",
              "      <td>1</td>\n",
              "      <td>0</td>\n",
              "      <td>0</td>\n",
              "      <td>0</td>\n",
              "      <td>0</td>\n",
              "      <td>0</td>\n",
              "      <td>0</td>\n",
              "      <td>1</td>\n",
              "      <td>0</td>\n",
              "      <td>0</td>\n",
              "      <td>0</td>\n",
              "      <td>0</td>\n",
              "      <td>0</td>\n",
              "      <td>0</td>\n",
              "      <td>0</td>\n",
              "      <td>0</td>\n",
              "      <td>1</td>\n",
              "      <td>0</td>\n",
              "      <td>0</td>\n",
              "      <td>1</td>\n",
              "      <td>0</td>\n",
              "    </tr>\n",
              "    <tr>\n",
              "      <th>1</th>\n",
              "      <td>1</td>\n",
              "      <td>0</td>\n",
              "      <td>0</td>\n",
              "      <td>0</td>\n",
              "      <td>0</td>\n",
              "      <td>0</td>\n",
              "      <td>0</td>\n",
              "      <td>0</td>\n",
              "      <td>0</td>\n",
              "      <td>0</td>\n",
              "      <td>1</td>\n",
              "      <td>0</td>\n",
              "      <td>0</td>\n",
              "      <td>0</td>\n",
              "      <td>0</td>\n",
              "      <td>0</td>\n",
              "      <td>0</td>\n",
              "      <td>0</td>\n",
              "      <td>0</td>\n",
              "      <td>0</td>\n",
              "      <td>0</td>\n",
              "      <td>0</td>\n",
              "      <td>0</td>\n",
              "      <td>1</td>\n",
              "      <td>0</td>\n",
              "      <td>0</td>\n",
              "      <td>0</td>\n",
              "      <td>0</td>\n",
              "      <td>0</td>\n",
              "      <td>1</td>\n",
              "      <td>0</td>\n",
              "      <td>0</td>\n",
              "      <td>0</td>\n",
              "      <td>0</td>\n",
              "      <td>0</td>\n",
              "      <td>0</td>\n",
              "      <td>0</td>\n",
              "      <td>0</td>\n",
              "      <td>1</td>\n",
              "      <td>0</td>\n",
              "      <td>0</td>\n",
              "      <td>1</td>\n",
              "      <td>0</td>\n",
              "    </tr>\n",
              "    <tr>\n",
              "      <th>2</th>\n",
              "      <td>0</td>\n",
              "      <td>0</td>\n",
              "      <td>0</td>\n",
              "      <td>0</td>\n",
              "      <td>0</td>\n",
              "      <td>1</td>\n",
              "      <td>0</td>\n",
              "      <td>0</td>\n",
              "      <td>0</td>\n",
              "      <td>0</td>\n",
              "      <td>0</td>\n",
              "      <td>0</td>\n",
              "      <td>0</td>\n",
              "      <td>0</td>\n",
              "      <td>0</td>\n",
              "      <td>0</td>\n",
              "      <td>0</td>\n",
              "      <td>0</td>\n",
              "      <td>0</td>\n",
              "      <td>0</td>\n",
              "      <td>0</td>\n",
              "      <td>0</td>\n",
              "      <td>0</td>\n",
              "      <td>0</td>\n",
              "      <td>0</td>\n",
              "      <td>1</td>\n",
              "      <td>0</td>\n",
              "      <td>0</td>\n",
              "      <td>0</td>\n",
              "      <td>0</td>\n",
              "      <td>0</td>\n",
              "      <td>0</td>\n",
              "      <td>0</td>\n",
              "      <td>0</td>\n",
              "      <td>0</td>\n",
              "      <td>0</td>\n",
              "      <td>0</td>\n",
              "      <td>0</td>\n",
              "      <td>0</td>\n",
              "      <td>0</td>\n",
              "      <td>1</td>\n",
              "      <td>1</td>\n",
              "      <td>0</td>\n",
              "    </tr>\n",
              "    <tr>\n",
              "      <th>3</th>\n",
              "      <td>0</td>\n",
              "      <td>0</td>\n",
              "      <td>0</td>\n",
              "      <td>1</td>\n",
              "      <td>0</td>\n",
              "      <td>0</td>\n",
              "      <td>0</td>\n",
              "      <td>0</td>\n",
              "      <td>0</td>\n",
              "      <td>0</td>\n",
              "      <td>0</td>\n",
              "      <td>0</td>\n",
              "      <td>0</td>\n",
              "      <td>0</td>\n",
              "      <td>0</td>\n",
              "      <td>0</td>\n",
              "      <td>0</td>\n",
              "      <td>0</td>\n",
              "      <td>0</td>\n",
              "      <td>0</td>\n",
              "      <td>0</td>\n",
              "      <td>0</td>\n",
              "      <td>0</td>\n",
              "      <td>0</td>\n",
              "      <td>0</td>\n",
              "      <td>1</td>\n",
              "      <td>0</td>\n",
              "      <td>0</td>\n",
              "      <td>0</td>\n",
              "      <td>0</td>\n",
              "      <td>0</td>\n",
              "      <td>0</td>\n",
              "      <td>0</td>\n",
              "      <td>1</td>\n",
              "      <td>0</td>\n",
              "      <td>0</td>\n",
              "      <td>0</td>\n",
              "      <td>0</td>\n",
              "      <td>1</td>\n",
              "      <td>0</td>\n",
              "      <td>0</td>\n",
              "      <td>1</td>\n",
              "      <td>0</td>\n",
              "    </tr>\n",
              "    <tr>\n",
              "      <th>4</th>\n",
              "      <td>0</td>\n",
              "      <td>0</td>\n",
              "      <td>0</td>\n",
              "      <td>0</td>\n",
              "      <td>0</td>\n",
              "      <td>0</td>\n",
              "      <td>0</td>\n",
              "      <td>0</td>\n",
              "      <td>0</td>\n",
              "      <td>0</td>\n",
              "      <td>1</td>\n",
              "      <td>0</td>\n",
              "      <td>0</td>\n",
              "      <td>0</td>\n",
              "      <td>0</td>\n",
              "      <td>0</td>\n",
              "      <td>0</td>\n",
              "      <td>1</td>\n",
              "      <td>0</td>\n",
              "      <td>0</td>\n",
              "      <td>0</td>\n",
              "      <td>0</td>\n",
              "      <td>0</td>\n",
              "      <td>0</td>\n",
              "      <td>0</td>\n",
              "      <td>0</td>\n",
              "      <td>0</td>\n",
              "      <td>0</td>\n",
              "      <td>0</td>\n",
              "      <td>0</td>\n",
              "      <td>0</td>\n",
              "      <td>0</td>\n",
              "      <td>0</td>\n",
              "      <td>0</td>\n",
              "      <td>0</td>\n",
              "      <td>0</td>\n",
              "      <td>0</td>\n",
              "      <td>0</td>\n",
              "      <td>1</td>\n",
              "      <td>0</td>\n",
              "      <td>0</td>\n",
              "      <td>0</td>\n",
              "      <td>0</td>\n",
              "    </tr>\n",
              "    <tr>\n",
              "      <th>...</th>\n",
              "      <td>...</td>\n",
              "      <td>...</td>\n",
              "      <td>...</td>\n",
              "      <td>...</td>\n",
              "      <td>...</td>\n",
              "      <td>...</td>\n",
              "      <td>...</td>\n",
              "      <td>...</td>\n",
              "      <td>...</td>\n",
              "      <td>...</td>\n",
              "      <td>...</td>\n",
              "      <td>...</td>\n",
              "      <td>...</td>\n",
              "      <td>...</td>\n",
              "      <td>...</td>\n",
              "      <td>...</td>\n",
              "      <td>...</td>\n",
              "      <td>...</td>\n",
              "      <td>...</td>\n",
              "      <td>...</td>\n",
              "      <td>...</td>\n",
              "      <td>...</td>\n",
              "      <td>...</td>\n",
              "      <td>...</td>\n",
              "      <td>...</td>\n",
              "      <td>...</td>\n",
              "      <td>...</td>\n",
              "      <td>...</td>\n",
              "      <td>...</td>\n",
              "      <td>...</td>\n",
              "      <td>...</td>\n",
              "      <td>...</td>\n",
              "      <td>...</td>\n",
              "      <td>...</td>\n",
              "      <td>...</td>\n",
              "      <td>...</td>\n",
              "      <td>...</td>\n",
              "      <td>...</td>\n",
              "      <td>...</td>\n",
              "      <td>...</td>\n",
              "      <td>...</td>\n",
              "      <td>...</td>\n",
              "      <td>...</td>\n",
              "    </tr>\n",
              "    <tr>\n",
              "      <th>268844</th>\n",
              "      <td>0</td>\n",
              "      <td>0</td>\n",
              "      <td>0</td>\n",
              "      <td>0</td>\n",
              "      <td>0</td>\n",
              "      <td>0</td>\n",
              "      <td>1</td>\n",
              "      <td>0</td>\n",
              "      <td>0</td>\n",
              "      <td>0</td>\n",
              "      <td>0</td>\n",
              "      <td>0</td>\n",
              "      <td>0</td>\n",
              "      <td>0</td>\n",
              "      <td>0</td>\n",
              "      <td>0</td>\n",
              "      <td>0</td>\n",
              "      <td>0</td>\n",
              "      <td>0</td>\n",
              "      <td>0</td>\n",
              "      <td>0</td>\n",
              "      <td>0</td>\n",
              "      <td>1</td>\n",
              "      <td>0</td>\n",
              "      <td>0</td>\n",
              "      <td>0</td>\n",
              "      <td>0</td>\n",
              "      <td>0</td>\n",
              "      <td>0</td>\n",
              "      <td>0</td>\n",
              "      <td>0</td>\n",
              "      <td>0</td>\n",
              "      <td>0</td>\n",
              "      <td>0</td>\n",
              "      <td>0</td>\n",
              "      <td>0</td>\n",
              "      <td>1</td>\n",
              "      <td>0</td>\n",
              "      <td>0</td>\n",
              "      <td>0</td>\n",
              "      <td>1</td>\n",
              "      <td>1</td>\n",
              "      <td>0</td>\n",
              "    </tr>\n",
              "    <tr>\n",
              "      <th>268845</th>\n",
              "      <td>1</td>\n",
              "      <td>0</td>\n",
              "      <td>0</td>\n",
              "      <td>0</td>\n",
              "      <td>0</td>\n",
              "      <td>0</td>\n",
              "      <td>0</td>\n",
              "      <td>1</td>\n",
              "      <td>0</td>\n",
              "      <td>0</td>\n",
              "      <td>0</td>\n",
              "      <td>0</td>\n",
              "      <td>0</td>\n",
              "      <td>0</td>\n",
              "      <td>1</td>\n",
              "      <td>0</td>\n",
              "      <td>0</td>\n",
              "      <td>0</td>\n",
              "      <td>0</td>\n",
              "      <td>0</td>\n",
              "      <td>0</td>\n",
              "      <td>0</td>\n",
              "      <td>0</td>\n",
              "      <td>0</td>\n",
              "      <td>0</td>\n",
              "      <td>0</td>\n",
              "      <td>0</td>\n",
              "      <td>0</td>\n",
              "      <td>0</td>\n",
              "      <td>0</td>\n",
              "      <td>0</td>\n",
              "      <td>0</td>\n",
              "      <td>0</td>\n",
              "      <td>0</td>\n",
              "      <td>0</td>\n",
              "      <td>0</td>\n",
              "      <td>1</td>\n",
              "      <td>0</td>\n",
              "      <td>0</td>\n",
              "      <td>0</td>\n",
              "      <td>1</td>\n",
              "      <td>1</td>\n",
              "      <td>0</td>\n",
              "    </tr>\n",
              "    <tr>\n",
              "      <th>268846</th>\n",
              "      <td>0</td>\n",
              "      <td>0</td>\n",
              "      <td>0</td>\n",
              "      <td>0</td>\n",
              "      <td>0</td>\n",
              "      <td>0</td>\n",
              "      <td>1</td>\n",
              "      <td>0</td>\n",
              "      <td>0</td>\n",
              "      <td>0</td>\n",
              "      <td>0</td>\n",
              "      <td>0</td>\n",
              "      <td>0</td>\n",
              "      <td>0</td>\n",
              "      <td>0</td>\n",
              "      <td>0</td>\n",
              "      <td>0</td>\n",
              "      <td>0</td>\n",
              "      <td>0</td>\n",
              "      <td>1</td>\n",
              "      <td>0</td>\n",
              "      <td>0</td>\n",
              "      <td>0</td>\n",
              "      <td>0</td>\n",
              "      <td>0</td>\n",
              "      <td>0</td>\n",
              "      <td>0</td>\n",
              "      <td>0</td>\n",
              "      <td>0</td>\n",
              "      <td>0</td>\n",
              "      <td>0</td>\n",
              "      <td>0</td>\n",
              "      <td>0</td>\n",
              "      <td>0</td>\n",
              "      <td>0</td>\n",
              "      <td>0</td>\n",
              "      <td>0</td>\n",
              "      <td>0</td>\n",
              "      <td>0</td>\n",
              "      <td>0</td>\n",
              "      <td>1</td>\n",
              "      <td>0</td>\n",
              "      <td>0</td>\n",
              "    </tr>\n",
              "    <tr>\n",
              "      <th>268847</th>\n",
              "      <td>0</td>\n",
              "      <td>0</td>\n",
              "      <td>0</td>\n",
              "      <td>0</td>\n",
              "      <td>0</td>\n",
              "      <td>0</td>\n",
              "      <td>0</td>\n",
              "      <td>0</td>\n",
              "      <td>0</td>\n",
              "      <td>0</td>\n",
              "      <td>0</td>\n",
              "      <td>0</td>\n",
              "      <td>0</td>\n",
              "      <td>0</td>\n",
              "      <td>0</td>\n",
              "      <td>0</td>\n",
              "      <td>0</td>\n",
              "      <td>0</td>\n",
              "      <td>0</td>\n",
              "      <td>1</td>\n",
              "      <td>0</td>\n",
              "      <td>0</td>\n",
              "      <td>0</td>\n",
              "      <td>0</td>\n",
              "      <td>0</td>\n",
              "      <td>0</td>\n",
              "      <td>0</td>\n",
              "      <td>0</td>\n",
              "      <td>0</td>\n",
              "      <td>0</td>\n",
              "      <td>0</td>\n",
              "      <td>0</td>\n",
              "      <td>0</td>\n",
              "      <td>0</td>\n",
              "      <td>0</td>\n",
              "      <td>0</td>\n",
              "      <td>0</td>\n",
              "      <td>0</td>\n",
              "      <td>1</td>\n",
              "      <td>0</td>\n",
              "      <td>0</td>\n",
              "      <td>1</td>\n",
              "      <td>0</td>\n",
              "    </tr>\n",
              "    <tr>\n",
              "      <th>268848</th>\n",
              "      <td>1</td>\n",
              "      <td>0</td>\n",
              "      <td>0</td>\n",
              "      <td>0</td>\n",
              "      <td>0</td>\n",
              "      <td>0</td>\n",
              "      <td>0</td>\n",
              "      <td>1</td>\n",
              "      <td>0</td>\n",
              "      <td>0</td>\n",
              "      <td>0</td>\n",
              "      <td>0</td>\n",
              "      <td>0</td>\n",
              "      <td>0</td>\n",
              "      <td>0</td>\n",
              "      <td>0</td>\n",
              "      <td>0</td>\n",
              "      <td>0</td>\n",
              "      <td>0</td>\n",
              "      <td>0</td>\n",
              "      <td>0</td>\n",
              "      <td>0</td>\n",
              "      <td>1</td>\n",
              "      <td>0</td>\n",
              "      <td>0</td>\n",
              "      <td>0</td>\n",
              "      <td>0</td>\n",
              "      <td>0</td>\n",
              "      <td>0</td>\n",
              "      <td>0</td>\n",
              "      <td>0</td>\n",
              "      <td>0</td>\n",
              "      <td>0</td>\n",
              "      <td>0</td>\n",
              "      <td>0</td>\n",
              "      <td>0</td>\n",
              "      <td>0</td>\n",
              "      <td>0</td>\n",
              "      <td>0</td>\n",
              "      <td>0</td>\n",
              "      <td>1</td>\n",
              "      <td>0</td>\n",
              "      <td>0</td>\n",
              "    </tr>\n",
              "  </tbody>\n",
              "</table>\n",
              "<p>231351 rows × 43 columns</p>\n",
              "</div>\n",
              "      <button class=\"colab-df-convert\" onclick=\"convertToInteractive('df-a6df3ad6-0b22-4264-941f-3f7f080b1032')\"\n",
              "              title=\"Convert this dataframe to an interactive table.\"\n",
              "              style=\"display:none;\">\n",
              "        \n",
              "  <svg xmlns=\"http://www.w3.org/2000/svg\" height=\"24px\"viewBox=\"0 0 24 24\"\n",
              "       width=\"24px\">\n",
              "    <path d=\"M0 0h24v24H0V0z\" fill=\"none\"/>\n",
              "    <path d=\"M18.56 5.44l.94 2.06.94-2.06 2.06-.94-2.06-.94-.94-2.06-.94 2.06-2.06.94zm-11 1L8.5 8.5l.94-2.06 2.06-.94-2.06-.94L8.5 2.5l-.94 2.06-2.06.94zm10 10l.94 2.06.94-2.06 2.06-.94-2.06-.94-.94-2.06-.94 2.06-2.06.94z\"/><path d=\"M17.41 7.96l-1.37-1.37c-.4-.4-.92-.59-1.43-.59-.52 0-1.04.2-1.43.59L10.3 9.45l-7.72 7.72c-.78.78-.78 2.05 0 2.83L4 21.41c.39.39.9.59 1.41.59.51 0 1.02-.2 1.41-.59l7.78-7.78 2.81-2.81c.8-.78.8-2.07 0-2.86zM5.41 20L4 18.59l7.72-7.72 1.47 1.35L5.41 20z\"/>\n",
              "  </svg>\n",
              "      </button>\n",
              "      \n",
              "  <style>\n",
              "    .colab-df-container {\n",
              "      display:flex;\n",
              "      flex-wrap:wrap;\n",
              "      gap: 12px;\n",
              "    }\n",
              "\n",
              "    .colab-df-convert {\n",
              "      background-color: #E8F0FE;\n",
              "      border: none;\n",
              "      border-radius: 50%;\n",
              "      cursor: pointer;\n",
              "      display: none;\n",
              "      fill: #1967D2;\n",
              "      height: 32px;\n",
              "      padding: 0 0 0 0;\n",
              "      width: 32px;\n",
              "    }\n",
              "\n",
              "    .colab-df-convert:hover {\n",
              "      background-color: #E2EBFA;\n",
              "      box-shadow: 0px 1px 2px rgba(60, 64, 67, 0.3), 0px 1px 3px 1px rgba(60, 64, 67, 0.15);\n",
              "      fill: #174EA6;\n",
              "    }\n",
              "\n",
              "    [theme=dark] .colab-df-convert {\n",
              "      background-color: #3B4455;\n",
              "      fill: #D2E3FC;\n",
              "    }\n",
              "\n",
              "    [theme=dark] .colab-df-convert:hover {\n",
              "      background-color: #434B5C;\n",
              "      box-shadow: 0px 1px 3px 1px rgba(0, 0, 0, 0.15);\n",
              "      filter: drop-shadow(0px 1px 2px rgba(0, 0, 0, 0.3));\n",
              "      fill: #FFFFFF;\n",
              "    }\n",
              "  </style>\n",
              "\n",
              "      <script>\n",
              "        const buttonEl =\n",
              "          document.querySelector('#df-a6df3ad6-0b22-4264-941f-3f7f080b1032 button.colab-df-convert');\n",
              "        buttonEl.style.display =\n",
              "          google.colab.kernel.accessAllowed ? 'block' : 'none';\n",
              "\n",
              "        async function convertToInteractive(key) {\n",
              "          const element = document.querySelector('#df-a6df3ad6-0b22-4264-941f-3f7f080b1032');\n",
              "          const dataTable =\n",
              "            await google.colab.kernel.invokeFunction('convertToInteractive',\n",
              "                                                     [key], {});\n",
              "          if (!dataTable) return;\n",
              "\n",
              "          const docLinkHtml = 'Like what you see? Visit the ' +\n",
              "            '<a target=\"_blank\" href=https://colab.research.google.com/notebooks/data_table.ipynb>data table notebook</a>'\n",
              "            + ' to learn more about interactive tables.';\n",
              "          element.innerHTML = '';\n",
              "          dataTable['output_type'] = 'display_data';\n",
              "          await google.colab.output.renderOutput(dataTable, element);\n",
              "          const docLink = document.createElement('div');\n",
              "          docLink.innerHTML = docLinkHtml;\n",
              "          element.appendChild(docLink);\n",
              "        }\n",
              "      </script>\n",
              "    </div>\n",
              "  </div>\n",
              "  "
            ]
          },
          "metadata": {},
          "execution_count": 221
        }
      ]
    },
    {
      "cell_type": "code",
      "source": [
        "df2 = pd.concat(\n",
        "    [df.reset_index(), data_encoded.reset_index()], axis = 1)"
      ],
      "metadata": {
        "id": "vpQd2Sg97cZM"
      },
      "execution_count": null,
      "outputs": []
    },
    {
      "cell_type": "code",
      "source": [
        "df2.drop(columns=\"date\", inplace=True)"
      ],
      "metadata": {
        "id": "g1X7KknwXPE4"
      },
      "execution_count": null,
      "outputs": []
    },
    {
      "cell_type": "code",
      "source": [
        "#separate the other attributes from the predicting attribute\n",
        "x = df2.drop(\"totalRent\",axis=1)\n",
        "#separte the predicting attribute into Y for model training \n",
        "y = df2[\"totalRent\"]"
      ],
      "metadata": {
        "id": "gjc6zZ0XGHEP"
      },
      "execution_count": null,
      "outputs": []
    },
    {
      "cell_type": "code",
      "source": [
        "# importing train_test_split from sklearn\n",
        "from sklearn.model_selection import train_test_split\n",
        "# splitting the data\n",
        "x_train, x_test, y_train, y_test = train_test_split(x, y, test_size = 0.2, random_state = 42)"
      ],
      "metadata": {
        "id": "kAq7oz-YW_qW"
      },
      "execution_count": null,
      "outputs": []
    },
    {
      "cell_type": "code",
      "source": [
        "from sklearn.linear_model import LinearRegression\n",
        "# creating an object of LinearRegression class\n",
        "LR = LinearRegression()\n",
        "# fitting the training data\n",
        "LR.fit(x_train,y_train)"
      ],
      "metadata": {
        "colab": {
          "base_uri": "https://localhost:8080/"
        },
        "id": "UucPIseQXE3U",
        "outputId": "b66a8c76-2eb8-49a4-9fae-5857804e630d"
      },
      "execution_count": null,
      "outputs": [
        {
          "output_type": "execute_result",
          "data": {
            "text/plain": [
              "LinearRegression()"
            ]
          },
          "metadata": {},
          "execution_count": 256
        }
      ]
    },
    {
      "cell_type": "code",
      "source": [
        "y_prediction =  LR.predict(x_test)\n",
        "y_prediction"
      ],
      "metadata": {
        "colab": {
          "base_uri": "https://localhost:8080/"
        },
        "id": "rYOp6qLeXzT-",
        "outputId": "e6313407-fd26-4e6a-f113-cc5cf8189118"
      },
      "execution_count": null,
      "outputs": [
        {
          "output_type": "execute_result",
          "data": {
            "text/plain": [
              "array([452.7496599 , 837.31281473, 579.36644993, ..., 289.39108336,\n",
              "       298.3664975 , 537.72342002])"
            ]
          },
          "metadata": {},
          "execution_count": 257
        }
      ]
    },
    {
      "cell_type": "code",
      "source": [
        "from sklearn.metrics import r2_score\n",
        "from sklearn.metrics import mean_squared_error\n",
        "# predicting the accuracy score\n",
        "score=r2_score(y_test,y_prediction)\n",
        "print(f\"r2 socre is {score} \")\n",
        "print(f\"mean_sqrd_error is=={mean_squared_error(y_test,y_prediction)}\")\n",
        "print(f\"root_mean_squared error of is=={np.sqrt(mean_squared_error(y_test,y_prediction))}\")"
      ],
      "metadata": {
        "colab": {
          "base_uri": "https://localhost:8080/"
        },
        "id": "0KrMbyITYDBL",
        "outputId": "5c32f151-b296-4dfc-ad7e-e23f727cc918"
      },
      "execution_count": null,
      "outputs": [
        {
          "output_type": "stream",
          "name": "stdout",
          "text": [
            "r2 socre is 0.9849561161552901 \n",
            "mean_sqrd_error is==1798.5325156240472\n",
            "root_mean_squared error of is==42.4091088756183\n"
          ]
        }
      ]
    },
    {
      "cell_type": "markdown",
      "source": [
        "-----------------------------------------**Task 4**-----------------------------------------"
      ],
      "metadata": {
        "id": "pLOWp_JIYvfR"
      }
    },
    {
      "cell_type": "code",
      "source": [
        "!pip install ipython-autotime\n",
        "%load_ext autotime"
      ],
      "metadata": {
        "colab": {
          "base_uri": "https://localhost:8080/"
        },
        "id": "DUVoch3RYy9y",
        "outputId": "2b9a2860-451e-491f-80c6-ffa0bcb0294b"
      },
      "execution_count": 89,
      "outputs": [
        {
          "output_type": "stream",
          "name": "stdout",
          "text": [
            "Collecting ipython-autotime\n",
            "  Downloading ipython_autotime-0.3.1-py2.py3-none-any.whl (6.8 kB)\n",
            "Requirement already satisfied: ipython in /usr/local/lib/python3.7/dist-packages (from ipython-autotime) (5.5.0)\n",
            "Requirement already satisfied: prompt-toolkit<2.0.0,>=1.0.4 in /usr/local/lib/python3.7/dist-packages (from ipython->ipython-autotime) (1.0.18)\n",
            "Requirement already satisfied: traitlets>=4.2 in /usr/local/lib/python3.7/dist-packages (from ipython->ipython-autotime) (5.1.1)\n",
            "Requirement already satisfied: setuptools>=18.5 in /usr/local/lib/python3.7/dist-packages (from ipython->ipython-autotime) (57.4.0)\n",
            "Requirement already satisfied: pygments in /usr/local/lib/python3.7/dist-packages (from ipython->ipython-autotime) (2.6.1)\n",
            "Requirement already satisfied: pexpect in /usr/local/lib/python3.7/dist-packages (from ipython->ipython-autotime) (4.8.0)\n",
            "Requirement already satisfied: simplegeneric>0.8 in /usr/local/lib/python3.7/dist-packages (from ipython->ipython-autotime) (0.8.1)\n",
            "Requirement already satisfied: pickleshare in /usr/local/lib/python3.7/dist-packages (from ipython->ipython-autotime) (0.7.5)\n",
            "Requirement already satisfied: decorator in /usr/local/lib/python3.7/dist-packages (from ipython->ipython-autotime) (4.4.2)\n",
            "Requirement already satisfied: six>=1.9.0 in /usr/local/lib/python3.7/dist-packages (from prompt-toolkit<2.0.0,>=1.0.4->ipython->ipython-autotime) (1.15.0)\n",
            "Requirement already satisfied: wcwidth in /usr/local/lib/python3.7/dist-packages (from prompt-toolkit<2.0.0,>=1.0.4->ipython->ipython-autotime) (0.2.5)\n",
            "Requirement already satisfied: ptyprocess>=0.5 in /usr/local/lib/python3.7/dist-packages (from pexpect->ipython->ipython-autotime) (0.7.0)\n",
            "Installing collected packages: ipython-autotime\n",
            "Successfully installed ipython-autotime-0.3.1\n",
            "time: 201 µs (started: 2022-04-09 13:53:52 +00:00)\n"
          ]
        }
      ]
    },
    {
      "cell_type": "code",
      "source": [
        "dataframe = pd.read_csv('/content/files/immo_data.csv')"
      ],
      "metadata": {
        "colab": {
          "base_uri": "https://localhost:8080/"
        },
        "id": "Zsn9u5pRaqig",
        "outputId": "31289d6a-4ae2-46d8-8fe3-4f00412cdc2a"
      },
      "execution_count": null,
      "outputs": [
        {
          "output_type": "stream",
          "name": "stdout",
          "text": [
            "time: 5.05 s (started: 2022-04-08 19:08:26 +00:00)\n"
          ]
        }
      ]
    },
    {
      "cell_type": "markdown",
      "source": [
        "**whole process for deleting unwanted columns and filling missed values without multiproccessing:approximately 507.5 mili seconds**"
      ],
      "metadata": {
        "id": "EWQL8UQMehMS"
      }
    },
    {
      "cell_type": "markdown",
      "source": [
        "**whole process for deleting unwanted columns and filling missed values with multiproccessing:approximately 273.6 mili seconds**"
      ],
      "metadata": {
        "id": "jydNUdnBklV-"
      }
    },
    {
      "cell_type": "code",
      "source": [
        "list1=[\"geo_bln\", \"geo_krs\", \"scoutId\", \"description\", \"facilities\", \"houseNumber\", \"streetPlain\", \"street\" ]"
      ],
      "metadata": {
        "colab": {
          "base_uri": "https://localhost:8080/"
        },
        "id": "6qX0_zckhXPz",
        "outputId": "f601939f-6135-4a13-ede3-2815a18df744"
      },
      "execution_count": null,
      "outputs": [
        {
          "output_type": "stream",
          "name": "stdout",
          "text": [
            "time: 1.13 ms (started: 2022-04-08 19:08:36 +00:00)\n"
          ]
        }
      ]
    },
    {
      "cell_type": "code",
      "source": [
        "for col in list1:\n",
        "  del dataframe[col]"
      ],
      "metadata": {
        "colab": {
          "base_uri": "https://localhost:8080/"
        },
        "id": "T07O4UgShrhK",
        "outputId": "0f87811f-386f-4548-8a4f-cb64e67f2cd0"
      },
      "execution_count": null,
      "outputs": [
        {
          "output_type": "stream",
          "name": "stdout",
          "text": [
            "time: 5.19 ms (started: 2022-04-08 19:08:37 +00:00)\n"
          ]
        }
      ]
    },
    {
      "cell_type": "code",
      "source": [
        "list2 = [\"serviceCharge\", \"yearConstructed\"] #mean\n",
        "list3 = [\"heatingType\", \"telekomTvOffer\" , \"firingTypes\", \"yearConstructedRange\", \"typeOfFlat\", \"thermalChar\", \"floor\", \"numberOfFloors\" ]\n",
        "# central_heating\n",
        "# NONE\n",
        "# gas\n",
        "# 1.0\n",
        "# apartment\n",
        "# 105\n",
        "# 1\n",
        "# 3"
      ],
      "metadata": {
        "colab": {
          "base_uri": "https://localhost:8080/"
        },
        "id": "hhMkmvrHiGx7",
        "outputId": "e11434de-a869-4a8b-aeee-f976768e586c"
      },
      "execution_count": null,
      "outputs": [
        {
          "output_type": "stream",
          "name": "stdout",
          "text": [
            "time: 2.11 ms (started: 2022-04-08 19:09:03 +00:00)\n"
          ]
        }
      ]
    },
    {
      "cell_type": "code",
      "source": [
        "for col in list2:\n",
        "  mean = dataframe[col].mean()\n",
        "  dataframe[col].fillna((mean), inplace=True)"
      ],
      "metadata": {
        "colab": {
          "base_uri": "https://localhost:8080/"
        },
        "id": "etxf-k4TkJHN",
        "outputId": "d61f85f0-775a-48c8-dbae-242c8cd7982e"
      },
      "execution_count": null,
      "outputs": [
        {
          "output_type": "stream",
          "name": "stdout",
          "text": [
            "time: 4.07 ms (started: 2022-04-08 19:09:08 +00:00)\n"
          ]
        }
      ]
    },
    {
      "cell_type": "code",
      "source": [
        "for col in list3:\n",
        "  mode = dataframe[col].mode()\n",
        "  dataframe[col].fillna((mode), inplace=True)"
      ],
      "metadata": {
        "colab": {
          "base_uri": "https://localhost:8080/"
        },
        "id": "WRjHoZE8ka9F",
        "outputId": "4375436c-8a3a-469e-bd3a-62ef76e90225"
      },
      "execution_count": null,
      "outputs": [
        {
          "output_type": "stream",
          "name": "stdout",
          "text": [
            "time: 196 ms (started: 2022-04-08 19:09:13 +00:00)\n"
          ]
        }
      ]
    },
    {
      "cell_type": "code",
      "source": [
        "dataframe['pricetrend'].fillna((0), inplace=True)"
      ],
      "metadata": {
        "colab": {
          "base_uri": "https://localhost:8080/"
        },
        "outputId": "e0abdff5-5faa-45c1-abdd-0a54fb491f93",
        "id": "45Nf0AXfjAB0"
      },
      "execution_count": null,
      "outputs": [
        {
          "output_type": "stream",
          "name": "stdout",
          "text": [
            "time: 2.35 ms (started: 2022-04-08 19:09:16 +00:00)\n"
          ]
        }
      ]
    },
    {
      "cell_type": "code",
      "source": [
        "dataframe['telekomUploadSpeed'].fillna((0), inplace=True)"
      ],
      "metadata": {
        "colab": {
          "base_uri": "https://localhost:8080/"
        },
        "outputId": "19c53b04-85a4-46de-c3d0-fbf4df825a14",
        "id": "I99f8Z4wjAB0"
      },
      "execution_count": null,
      "outputs": [
        {
          "output_type": "stream",
          "name": "stdout",
          "text": [
            "time: 2.39 ms (started: 2022-04-08 19:09:19 +00:00)\n"
          ]
        }
      ]
    },
    {
      "cell_type": "code",
      "source": [
        "dataframe['condition'].fillna((\"negotiable\"), inplace=True)"
      ],
      "metadata": {
        "colab": {
          "base_uri": "https://localhost:8080/"
        },
        "outputId": "081d6090-b9d6-4065-9097-d89c8526f3e3",
        "id": "nNXCm679jAB2"
      },
      "execution_count": null,
      "outputs": [
        {
          "output_type": "stream",
          "name": "stdout",
          "text": [
            "time: 16.2 ms (started: 2022-04-08 19:09:20 +00:00)\n"
          ]
        }
      ]
    },
    {
      "cell_type": "code",
      "source": [
        "dataframe['interiorQual'].fillna((\"normal\"), inplace=True)"
      ],
      "metadata": {
        "colab": {
          "base_uri": "https://localhost:8080/"
        },
        "outputId": "2061a101-2c48-4f5d-e7d1-7b88c5cb3643",
        "id": "v7uytVHZjAB2"
      },
      "execution_count": null,
      "outputs": [
        {
          "output_type": "stream",
          "name": "stdout",
          "text": [
            "time: 15.2 ms (started: 2022-04-08 19:09:21 +00:00)\n"
          ]
        }
      ]
    },
    {
      "cell_type": "code",
      "source": [
        "dataframe['petsAllowed'].fillna((\"negotiable\"), inplace=True)"
      ],
      "metadata": {
        "colab": {
          "base_uri": "https://localhost:8080/"
        },
        "outputId": "d4cc9b59-c243-4f7a-d987-0e9bb9e73b98",
        "id": "HaQ37CsljAB2"
      },
      "execution_count": null,
      "outputs": [
        {
          "output_type": "stream",
          "name": "stdout",
          "text": [
            "time: 16.8 ms (started: 2022-04-08 19:09:23 +00:00)\n"
          ]
        }
      ]
    },
    {
      "cell_type": "code",
      "source": [
        "dataframe['totalRent'].fillna( data[\"baseRent\"] + data[\"serviceCharge\"]  , inplace=True)"
      ],
      "metadata": {
        "colab": {
          "base_uri": "https://localhost:8080/"
        },
        "outputId": "5f545be1-dae7-4a0c-c448-93aa388303f9",
        "id": "_wALs9XRjAB4"
      },
      "execution_count": null,
      "outputs": [
        {
          "output_type": "stream",
          "name": "stdout",
          "text": [
            "time: 14.4 ms (started: 2022-04-08 19:09:25 +00:00)\n"
          ]
        }
      ]
    },
    {
      "cell_type": "markdown",
      "source": [
        "**It took 998.1 mili seconds without multiproccessing to remove outliers but it \n",
        "took 584.3 mili seconds with multiproccessing to remove outliers(the multi proccessing part is at the begining of notebook)**"
      ],
      "metadata": {
        "id": "N3oTh_QElz3K"
      }
    },
    {
      "cell_type": "code",
      "source": [
        "import numpy as np\n",
        "colnames_numerics_only = data.select_dtypes(include=np.number).columns.tolist()\n",
        "colnames_numerics_only"
      ],
      "metadata": {
        "colab": {
          "base_uri": "https://localhost:8080/"
        },
        "outputId": "b22daf77-1483-49ab-aedd-e6fa6765b31e",
        "id": "86WQNj_Al0kQ"
      },
      "execution_count": null,
      "outputs": [
        {
          "output_type": "execute_result",
          "data": {
            "text/plain": [
              "['serviceCharge',\n",
              " 'picturecount',\n",
              " 'pricetrend',\n",
              " 'telekomUploadSpeed',\n",
              " 'totalRent',\n",
              " 'yearConstructed',\n",
              " 'yearConstructedRange',\n",
              " 'baseRent',\n",
              " 'livingSpace',\n",
              " 'baseRentRange',\n",
              " 'geo_plz',\n",
              " 'noRooms',\n",
              " 'thermalChar',\n",
              " 'floor',\n",
              " 'numberOfFloors',\n",
              " 'noRoomsRange',\n",
              " 'livingSpaceRange']"
            ]
          },
          "metadata": {},
          "execution_count": 338
        },
        {
          "output_type": "stream",
          "name": "stdout",
          "text": [
            "time: 19.1 ms (started: 2022-04-08 18:47:15 +00:00)\n"
          ]
        }
      ]
    },
    {
      "cell_type": "code",
      "source": [
        "dataframe = dataframe[(np.abs(stats.zscore(dataframe['serviceCharge']))< 3)]\n",
        "dataframe = dataframe[(np.abs(stats.zscore(dataframe['picturecount']))< 3)]\n",
        "dataframe = dataframe[(np.abs(stats.zscore(dataframe['pricetrend']))< 3)]\n",
        "dataframe = dataframe[(np.abs(stats.zscore(dataframe['telekomUploadSpeed']))< 3)]\n",
        "dataframe = dataframe[(np.abs(stats.zscore(dataframe['totalRent']))< 3)]\n",
        "dataframe = dataframe[(np.abs(stats.zscore(dataframe['yearConstructed']))< 3)]\n",
        "dataframe = dataframe[(np.abs(stats.zscore(dataframe['yearConstructedRange']))< 3)]\n",
        "dataframe = dataframe[(np.abs(stats.zscore(dataframe['baseRent']))< 3)]\n",
        "dataframe = dataframe[(np.abs(stats.zscore(dataframe['livingSpace']))< 3)]\n",
        "dataframe = dataframe[(np.abs(stats.zscore(dataframe['baseRentRange']))< 3)]\n",
        "dataframe = dataframe[(np.abs(stats.zscore(dataframe['geo_plz']))< 3)]\n",
        "dataframe = dataframe[(np.abs(stats.zscore(dataframe['noRooms']))< 3)]\n",
        "dataframe = dataframe[(np.abs(stats.zscore(dataframe['thermalChar']))< 3)]\n",
        "dataframe = dataframe[(np.abs(stats.zscore(dataframe['floor']))< 3)]\n",
        "dataframe = dataframe[(np.abs(stats.zscore(dataframe['numberOfFloors']))< 3)]\n",
        "dataframe = dataframe[(np.abs(stats.zscore(dataframe['noRoomsRange']))< 3)]\n",
        "dataframe = dataframe[(np.abs(stats.zscore(dataframe['livingSpaceRange']))< 3)]"
      ],
      "metadata": {
        "colab": {
          "base_uri": "https://localhost:8080/"
        },
        "outputId": "3b2a6653-164c-49fe-cad9-deba679f870a",
        "id": "8Y-GSLNvl0kQ"
      },
      "execution_count": null,
      "outputs": [
        {
          "output_type": "stream",
          "name": "stdout",
          "text": [
            "time: 705 ms (started: 2022-04-08 19:16:59 +00:00)\n"
          ]
        },
        {
          "output_type": "stream",
          "name": "stderr",
          "text": [
            "/usr/local/lib/python3.7/dist-packages/scipy/stats/stats.py:2416: RuntimeWarning: Mean of empty slice.\n",
            "  mns = a.mean(axis=axis, keepdims=True)\n",
            "/usr/local/lib/python3.7/dist-packages/numpy/core/_methods.py:182: RuntimeWarning: invalid value encountered in true_divide\n",
            "  ret, rcount, out=ret, casting='unsafe', subok=False)\n",
            "/usr/local/lib/python3.7/dist-packages/numpy/core/_methods.py:263: RuntimeWarning: Degrees of freedom <= 0 for slice\n",
            "  keepdims=keepdims, where=where)\n",
            "/usr/local/lib/python3.7/dist-packages/numpy/core/_methods.py:223: RuntimeWarning: invalid value encountered in true_divide\n",
            "  subok=False)\n",
            "/usr/local/lib/python3.7/dist-packages/numpy/core/_methods.py:252: RuntimeWarning: invalid value encountered in true_divide\n",
            "  ret, rcount, out=ret, casting='unsafe', subok=False)\n"
          ]
        }
      ]
    },
    {
      "cell_type": "markdown",
      "source": [
        "-----------------------------------------**Task 5**-----------------------------------------"
      ],
      "metadata": {
        "id": "Ct8UIyhXny2W"
      }
    },
    {
      "cell_type": "code",
      "source": [
        "dataframe2 = pd.read_csv('/content/files/immo_data.csv')"
      ],
      "metadata": {
        "colab": {
          "base_uri": "https://localhost:8080/"
        },
        "id": "hzzgQTZ3r996",
        "outputId": "c07497cc-1b8a-4e57-b374-08d98199ad11"
      },
      "execution_count": 112,
      "outputs": [
        {
          "output_type": "stream",
          "name": "stdout",
          "text": [
            "time: 8.76 s (started: 2022-04-09 14:01:27 +00:00)\n"
          ]
        }
      ]
    },
    {
      "cell_type": "code",
      "source": [
        "!python -m pip install \"dask[complete]\"\n",
        "import dask\n",
        "import dask.dataframe as dd"
      ],
      "metadata": {
        "colab": {
          "base_uri": "https://localhost:8080/"
        },
        "id": "yaupphQQn1Pg",
        "outputId": "c354ee1d-dd80-44de-c7a2-7909d264066f"
      },
      "execution_count": 97,
      "outputs": [
        {
          "output_type": "stream",
          "name": "stdout",
          "text": [
            "Requirement already satisfied: dask[complete] in /usr/local/lib/python3.7/dist-packages (2.12.0)\n",
            "Requirement already satisfied: toolz>=0.7.3 in /usr/local/lib/python3.7/dist-packages (from dask[complete]) (0.11.2)\n",
            "Requirement already satisfied: partd>=0.3.10 in /usr/local/lib/python3.7/dist-packages (from dask[complete]) (1.2.0)\n",
            "Requirement already satisfied: numpy>=1.13.0 in /usr/local/lib/python3.7/dist-packages (from dask[complete]) (1.21.5)\n",
            "Requirement already satisfied: fsspec>=0.6.0 in /usr/local/lib/python3.7/dist-packages (from dask[complete]) (2022.3.0)\n",
            "Requirement already satisfied: PyYaml in /usr/local/lib/python3.7/dist-packages (from dask[complete]) (3.13)\n",
            "Requirement already satisfied: cloudpickle>=0.2.1 in /usr/local/lib/python3.7/dist-packages (from dask[complete]) (2.0.0)\n",
            "Requirement already satisfied: distributed>=2.0 in /usr/local/lib/python3.7/dist-packages (from dask[complete]) (2.30.1)\n",
            "Requirement already satisfied: bokeh>=1.0.0 in /usr/local/lib/python3.7/dist-packages (from dask[complete]) (2.3.3)\n",
            "Requirement already satisfied: pandas>=0.23.0 in /usr/local/lib/python3.7/dist-packages (from dask[complete]) (1.3.5)\n",
            "Requirement already satisfied: python-dateutil>=2.1 in /usr/local/lib/python3.7/dist-packages (from bokeh>=1.0.0->dask[complete]) (2.8.2)\n",
            "Requirement already satisfied: tornado>=5.1 in /usr/local/lib/python3.7/dist-packages (from bokeh>=1.0.0->dask[complete]) (5.1.1)\n",
            "Requirement already satisfied: Jinja2>=2.9 in /usr/local/lib/python3.7/dist-packages (from bokeh>=1.0.0->dask[complete]) (2.11.3)\n",
            "Requirement already satisfied: typing-extensions>=3.7.4 in /usr/local/lib/python3.7/dist-packages (from bokeh>=1.0.0->dask[complete]) (3.10.0.2)\n",
            "Requirement already satisfied: packaging>=16.8 in /usr/local/lib/python3.7/dist-packages (from bokeh>=1.0.0->dask[complete]) (21.3)\n",
            "Requirement already satisfied: pillow>=7.1.0 in /usr/local/lib/python3.7/dist-packages (from bokeh>=1.0.0->dask[complete]) (7.1.2)\n",
            "Requirement already satisfied: psutil>=5.0 in /usr/local/lib/python3.7/dist-packages (from distributed>=2.0->dask[complete]) (5.4.8)\n",
            "Requirement already satisfied: msgpack>=0.6.0 in /usr/local/lib/python3.7/dist-packages (from distributed>=2.0->dask[complete]) (1.0.3)\n",
            "Requirement already satisfied: click>=6.6 in /usr/local/lib/python3.7/dist-packages (from distributed>=2.0->dask[complete]) (7.1.2)\n",
            "Requirement already satisfied: tblib>=1.6.0 in /usr/local/lib/python3.7/dist-packages (from distributed>=2.0->dask[complete]) (1.7.0)\n",
            "Requirement already satisfied: sortedcontainers!=2.0.0,!=2.0.1 in /usr/local/lib/python3.7/dist-packages (from distributed>=2.0->dask[complete]) (2.4.0)\n",
            "Requirement already satisfied: setuptools in /usr/local/lib/python3.7/dist-packages (from distributed>=2.0->dask[complete]) (57.4.0)\n",
            "Requirement already satisfied: zict>=0.1.3 in /usr/local/lib/python3.7/dist-packages (from distributed>=2.0->dask[complete]) (2.1.0)\n",
            "Requirement already satisfied: MarkupSafe>=0.23 in /usr/local/lib/python3.7/dist-packages (from Jinja2>=2.9->bokeh>=1.0.0->dask[complete]) (2.0.1)\n",
            "Requirement already satisfied: pyparsing!=3.0.5,>=2.0.2 in /usr/local/lib/python3.7/dist-packages (from packaging>=16.8->bokeh>=1.0.0->dask[complete]) (3.0.7)\n",
            "Requirement already satisfied: pytz>=2017.3 in /usr/local/lib/python3.7/dist-packages (from pandas>=0.23.0->dask[complete]) (2018.9)\n",
            "Requirement already satisfied: locket in /usr/local/lib/python3.7/dist-packages (from partd>=0.3.10->dask[complete]) (0.2.1)\n",
            "Requirement already satisfied: six>=1.5 in /usr/local/lib/python3.7/dist-packages (from python-dateutil>=2.1->bokeh>=1.0.0->dask[complete]) (1.15.0)\n",
            "Requirement already satisfied: heapdict in /usr/local/lib/python3.7/dist-packages (from zict>=0.1.3->distributed>=2.0->dask[complete]) (1.0.1)\n",
            "time: 3.41 s (started: 2022-04-09 13:56:23 +00:00)\n"
          ]
        }
      ]
    },
    {
      "cell_type": "code",
      "source": [
        "import dask.array as da"
      ],
      "metadata": {
        "id": "mfgYVeF0ck71"
      },
      "execution_count": 32,
      "outputs": []
    },
    {
      "cell_type": "code",
      "source": [
        "ddf = dd.from_pandas(dataframe2, npartitions=2)"
      ],
      "metadata": {
        "colab": {
          "base_uri": "https://localhost:8080/"
        },
        "id": "5jszSmUKrAcm",
        "outputId": "86c00d5b-7114-4822-82fb-418bdded9161"
      },
      "execution_count": 113,
      "outputs": [
        {
          "output_type": "stream",
          "name": "stdout",
          "text": [
            "time: 2.34 s (started: 2022-04-09 14:01:42 +00:00)\n"
          ]
        }
      ]
    },
    {
      "cell_type": "code",
      "source": [
        "ddf.head()"
      ],
      "metadata": {
        "colab": {
          "base_uri": "https://localhost:8080/",
          "height": 595
        },
        "id": "6LDe3NzJsMmM",
        "outputId": "061d5dfe-4af7-4e71-9002-be20733788e3"
      },
      "execution_count": 99,
      "outputs": [
        {
          "output_type": "execute_result",
          "data": {
            "text/plain": [
              "                regio1  serviceCharge                     heatingType  \\\n",
              "0  Nordrhein_Westfalen         245.00                 central_heating   \n",
              "1      Rheinland_Pfalz         134.00  self_contained_central_heating   \n",
              "2              Sachsen         255.00                   floor_heating   \n",
              "3              Sachsen          58.15                district_heating   \n",
              "4               Bremen         138.00  self_contained_central_heating   \n",
              "\n",
              "  telekomTvOffer  telekomHybridUploadSpeed  newlyConst  balcony  picturecount  \\\n",
              "0  ONE_YEAR_FREE                       NaN       False    False             6   \n",
              "1  ONE_YEAR_FREE                       NaN       False     True             8   \n",
              "2  ONE_YEAR_FREE                      10.0        True     True             8   \n",
              "3  ONE_YEAR_FREE                       NaN       False     True             9   \n",
              "4            NaN                       NaN       False     True            19   \n",
              "\n",
              "   pricetrend  telekomUploadSpeed  ...               regio2  \\\n",
              "0        4.62                10.0  ...             Dortmund   \n",
              "1        3.47                10.0  ...    Rhein_Pfalz_Kreis   \n",
              "2        2.72                 2.4  ...              Dresden   \n",
              "3        1.53                40.0  ...  Mittelsachsen_Kreis   \n",
              "4        2.46                 NaN  ...               Bremen   \n",
              "\n",
              "                       regio3  \\\n",
              "0                     Schüren   \n",
              "1              Böhl_Iggelheim   \n",
              "2  Äußere_Neustadt_Antonstadt   \n",
              "3                    Freiberg   \n",
              "4           Neu_Schwachhausen   \n",
              "\n",
              "                                         description  \\\n",
              "0  Die ebenerdig zu erreichende Erdgeschosswohnun...   \n",
              "1  Alles neu macht der Mai – so kann es auch für ...   \n",
              "2  Der Neubau entsteht im Herzen der Dresdner Neu...   \n",
              "3  Abseits von Lärm und Abgasen in Ihre neue Wohn...   \n",
              "4  Es handelt sich hier um ein saniertes Mehrfami...   \n",
              "\n",
              "                                          facilities heatingCosts  \\\n",
              "0  Die Wohnung ist mit Laminat ausgelegt. Das Bad...          NaN   \n",
              "1                                                NaN          NaN   \n",
              "2  * 9 m² Balkon\\n* Bad mit bodengleicher Dusche,...          NaN   \n",
              "3                                                NaN        87.23   \n",
              "4  Diese Wohnung wurde neu saniert und ist wie fo...          NaN   \n",
              "\n",
              "   energyEfficiencyClass lastRefurbish  electricityBasePrice  \\\n",
              "0                    NaN           NaN                   NaN   \n",
              "1                    NaN        2019.0                   NaN   \n",
              "2                    NaN           NaN                   NaN   \n",
              "3                    NaN           NaN                   NaN   \n",
              "4                    NaN           NaN                   NaN   \n",
              "\n",
              "   electricityKwhPrice   date  \n",
              "0                  NaN  May19  \n",
              "1                  NaN  May19  \n",
              "2                  NaN  Oct19  \n",
              "3                  NaN  May19  \n",
              "4                  NaN  Feb20  \n",
              "\n",
              "[5 rows x 49 columns]"
            ],
            "text/html": [
              "\n",
              "  <div id=\"df-a8971e53-9dd7-45f5-a52c-694f23405625\">\n",
              "    <div class=\"colab-df-container\">\n",
              "      <div>\n",
              "<style scoped>\n",
              "    .dataframe tbody tr th:only-of-type {\n",
              "        vertical-align: middle;\n",
              "    }\n",
              "\n",
              "    .dataframe tbody tr th {\n",
              "        vertical-align: top;\n",
              "    }\n",
              "\n",
              "    .dataframe thead th {\n",
              "        text-align: right;\n",
              "    }\n",
              "</style>\n",
              "<table border=\"1\" class=\"dataframe\">\n",
              "  <thead>\n",
              "    <tr style=\"text-align: right;\">\n",
              "      <th></th>\n",
              "      <th>regio1</th>\n",
              "      <th>serviceCharge</th>\n",
              "      <th>heatingType</th>\n",
              "      <th>telekomTvOffer</th>\n",
              "      <th>telekomHybridUploadSpeed</th>\n",
              "      <th>newlyConst</th>\n",
              "      <th>balcony</th>\n",
              "      <th>picturecount</th>\n",
              "      <th>pricetrend</th>\n",
              "      <th>telekomUploadSpeed</th>\n",
              "      <th>...</th>\n",
              "      <th>regio2</th>\n",
              "      <th>regio3</th>\n",
              "      <th>description</th>\n",
              "      <th>facilities</th>\n",
              "      <th>heatingCosts</th>\n",
              "      <th>energyEfficiencyClass</th>\n",
              "      <th>lastRefurbish</th>\n",
              "      <th>electricityBasePrice</th>\n",
              "      <th>electricityKwhPrice</th>\n",
              "      <th>date</th>\n",
              "    </tr>\n",
              "  </thead>\n",
              "  <tbody>\n",
              "    <tr>\n",
              "      <th>0</th>\n",
              "      <td>Nordrhein_Westfalen</td>\n",
              "      <td>245.00</td>\n",
              "      <td>central_heating</td>\n",
              "      <td>ONE_YEAR_FREE</td>\n",
              "      <td>NaN</td>\n",
              "      <td>False</td>\n",
              "      <td>False</td>\n",
              "      <td>6</td>\n",
              "      <td>4.62</td>\n",
              "      <td>10.0</td>\n",
              "      <td>...</td>\n",
              "      <td>Dortmund</td>\n",
              "      <td>Schüren</td>\n",
              "      <td>Die ebenerdig zu erreichende Erdgeschosswohnun...</td>\n",
              "      <td>Die Wohnung ist mit Laminat ausgelegt. Das Bad...</td>\n",
              "      <td>NaN</td>\n",
              "      <td>NaN</td>\n",
              "      <td>NaN</td>\n",
              "      <td>NaN</td>\n",
              "      <td>NaN</td>\n",
              "      <td>May19</td>\n",
              "    </tr>\n",
              "    <tr>\n",
              "      <th>1</th>\n",
              "      <td>Rheinland_Pfalz</td>\n",
              "      <td>134.00</td>\n",
              "      <td>self_contained_central_heating</td>\n",
              "      <td>ONE_YEAR_FREE</td>\n",
              "      <td>NaN</td>\n",
              "      <td>False</td>\n",
              "      <td>True</td>\n",
              "      <td>8</td>\n",
              "      <td>3.47</td>\n",
              "      <td>10.0</td>\n",
              "      <td>...</td>\n",
              "      <td>Rhein_Pfalz_Kreis</td>\n",
              "      <td>Böhl_Iggelheim</td>\n",
              "      <td>Alles neu macht der Mai – so kann es auch für ...</td>\n",
              "      <td>NaN</td>\n",
              "      <td>NaN</td>\n",
              "      <td>NaN</td>\n",
              "      <td>2019.0</td>\n",
              "      <td>NaN</td>\n",
              "      <td>NaN</td>\n",
              "      <td>May19</td>\n",
              "    </tr>\n",
              "    <tr>\n",
              "      <th>2</th>\n",
              "      <td>Sachsen</td>\n",
              "      <td>255.00</td>\n",
              "      <td>floor_heating</td>\n",
              "      <td>ONE_YEAR_FREE</td>\n",
              "      <td>10.0</td>\n",
              "      <td>True</td>\n",
              "      <td>True</td>\n",
              "      <td>8</td>\n",
              "      <td>2.72</td>\n",
              "      <td>2.4</td>\n",
              "      <td>...</td>\n",
              "      <td>Dresden</td>\n",
              "      <td>Äußere_Neustadt_Antonstadt</td>\n",
              "      <td>Der Neubau entsteht im Herzen der Dresdner Neu...</td>\n",
              "      <td>* 9 m² Balkon\\n* Bad mit bodengleicher Dusche,...</td>\n",
              "      <td>NaN</td>\n",
              "      <td>NaN</td>\n",
              "      <td>NaN</td>\n",
              "      <td>NaN</td>\n",
              "      <td>NaN</td>\n",
              "      <td>Oct19</td>\n",
              "    </tr>\n",
              "    <tr>\n",
              "      <th>3</th>\n",
              "      <td>Sachsen</td>\n",
              "      <td>58.15</td>\n",
              "      <td>district_heating</td>\n",
              "      <td>ONE_YEAR_FREE</td>\n",
              "      <td>NaN</td>\n",
              "      <td>False</td>\n",
              "      <td>True</td>\n",
              "      <td>9</td>\n",
              "      <td>1.53</td>\n",
              "      <td>40.0</td>\n",
              "      <td>...</td>\n",
              "      <td>Mittelsachsen_Kreis</td>\n",
              "      <td>Freiberg</td>\n",
              "      <td>Abseits von Lärm und Abgasen in Ihre neue Wohn...</td>\n",
              "      <td>NaN</td>\n",
              "      <td>87.23</td>\n",
              "      <td>NaN</td>\n",
              "      <td>NaN</td>\n",
              "      <td>NaN</td>\n",
              "      <td>NaN</td>\n",
              "      <td>May19</td>\n",
              "    </tr>\n",
              "    <tr>\n",
              "      <th>4</th>\n",
              "      <td>Bremen</td>\n",
              "      <td>138.00</td>\n",
              "      <td>self_contained_central_heating</td>\n",
              "      <td>NaN</td>\n",
              "      <td>NaN</td>\n",
              "      <td>False</td>\n",
              "      <td>True</td>\n",
              "      <td>19</td>\n",
              "      <td>2.46</td>\n",
              "      <td>NaN</td>\n",
              "      <td>...</td>\n",
              "      <td>Bremen</td>\n",
              "      <td>Neu_Schwachhausen</td>\n",
              "      <td>Es handelt sich hier um ein saniertes Mehrfami...</td>\n",
              "      <td>Diese Wohnung wurde neu saniert und ist wie fo...</td>\n",
              "      <td>NaN</td>\n",
              "      <td>NaN</td>\n",
              "      <td>NaN</td>\n",
              "      <td>NaN</td>\n",
              "      <td>NaN</td>\n",
              "      <td>Feb20</td>\n",
              "    </tr>\n",
              "  </tbody>\n",
              "</table>\n",
              "<p>5 rows × 49 columns</p>\n",
              "</div>\n",
              "      <button class=\"colab-df-convert\" onclick=\"convertToInteractive('df-a8971e53-9dd7-45f5-a52c-694f23405625')\"\n",
              "              title=\"Convert this dataframe to an interactive table.\"\n",
              "              style=\"display:none;\">\n",
              "        \n",
              "  <svg xmlns=\"http://www.w3.org/2000/svg\" height=\"24px\"viewBox=\"0 0 24 24\"\n",
              "       width=\"24px\">\n",
              "    <path d=\"M0 0h24v24H0V0z\" fill=\"none\"/>\n",
              "    <path d=\"M18.56 5.44l.94 2.06.94-2.06 2.06-.94-2.06-.94-.94-2.06-.94 2.06-2.06.94zm-11 1L8.5 8.5l.94-2.06 2.06-.94-2.06-.94L8.5 2.5l-.94 2.06-2.06.94zm10 10l.94 2.06.94-2.06 2.06-.94-2.06-.94-.94-2.06-.94 2.06-2.06.94z\"/><path d=\"M17.41 7.96l-1.37-1.37c-.4-.4-.92-.59-1.43-.59-.52 0-1.04.2-1.43.59L10.3 9.45l-7.72 7.72c-.78.78-.78 2.05 0 2.83L4 21.41c.39.39.9.59 1.41.59.51 0 1.02-.2 1.41-.59l7.78-7.78 2.81-2.81c.8-.78.8-2.07 0-2.86zM5.41 20L4 18.59l7.72-7.72 1.47 1.35L5.41 20z\"/>\n",
              "  </svg>\n",
              "      </button>\n",
              "      \n",
              "  <style>\n",
              "    .colab-df-container {\n",
              "      display:flex;\n",
              "      flex-wrap:wrap;\n",
              "      gap: 12px;\n",
              "    }\n",
              "\n",
              "    .colab-df-convert {\n",
              "      background-color: #E8F0FE;\n",
              "      border: none;\n",
              "      border-radius: 50%;\n",
              "      cursor: pointer;\n",
              "      display: none;\n",
              "      fill: #1967D2;\n",
              "      height: 32px;\n",
              "      padding: 0 0 0 0;\n",
              "      width: 32px;\n",
              "    }\n",
              "\n",
              "    .colab-df-convert:hover {\n",
              "      background-color: #E2EBFA;\n",
              "      box-shadow: 0px 1px 2px rgba(60, 64, 67, 0.3), 0px 1px 3px 1px rgba(60, 64, 67, 0.15);\n",
              "      fill: #174EA6;\n",
              "    }\n",
              "\n",
              "    [theme=dark] .colab-df-convert {\n",
              "      background-color: #3B4455;\n",
              "      fill: #D2E3FC;\n",
              "    }\n",
              "\n",
              "    [theme=dark] .colab-df-convert:hover {\n",
              "      background-color: #434B5C;\n",
              "      box-shadow: 0px 1px 3px 1px rgba(0, 0, 0, 0.15);\n",
              "      filter: drop-shadow(0px 1px 2px rgba(0, 0, 0, 0.3));\n",
              "      fill: #FFFFFF;\n",
              "    }\n",
              "  </style>\n",
              "\n",
              "      <script>\n",
              "        const buttonEl =\n",
              "          document.querySelector('#df-a8971e53-9dd7-45f5-a52c-694f23405625 button.colab-df-convert');\n",
              "        buttonEl.style.display =\n",
              "          google.colab.kernel.accessAllowed ? 'block' : 'none';\n",
              "\n",
              "        async function convertToInteractive(key) {\n",
              "          const element = document.querySelector('#df-a8971e53-9dd7-45f5-a52c-694f23405625');\n",
              "          const dataTable =\n",
              "            await google.colab.kernel.invokeFunction('convertToInteractive',\n",
              "                                                     [key], {});\n",
              "          if (!dataTable) return;\n",
              "\n",
              "          const docLinkHtml = 'Like what you see? Visit the ' +\n",
              "            '<a target=\"_blank\" href=https://colab.research.google.com/notebooks/data_table.ipynb>data table notebook</a>'\n",
              "            + ' to learn more about interactive tables.';\n",
              "          element.innerHTML = '';\n",
              "          dataTable['output_type'] = 'display_data';\n",
              "          await google.colab.output.renderOutput(dataTable, element);\n",
              "          const docLink = document.createElement('div');\n",
              "          docLink.innerHTML = docLinkHtml;\n",
              "          element.appendChild(docLink);\n",
              "        }\n",
              "      </script>\n",
              "    </div>\n",
              "  </div>\n",
              "  "
            ]
          },
          "metadata": {},
          "execution_count": 99
        },
        {
          "output_type": "stream",
          "name": "stdout",
          "text": [
            "time: 58 ms (started: 2022-04-09 13:56:40 +00:00)\n"
          ]
        }
      ]
    },
    {
      "cell_type": "markdown",
      "source": [
        "**whole process for deleting unwanted columns and filling missed values without multiproccessing:approximately 447.6 mili seconds**"
      ],
      "metadata": {
        "id": "qPMFC6XzU-Q3"
      }
    },
    {
      "cell_type": "code",
      "source": [
        "list1=[\"geo_bln\", \"geo_krs\", \"scoutId\", \"description\", \"facilities\", \"houseNumber\", \"streetPlain\", \"street\" ]"
      ],
      "metadata": {
        "colab": {
          "base_uri": "https://localhost:8080/"
        },
        "outputId": "42d0730f-a75b-43d5-e6bc-baaa4321dd9d",
        "id": "Sew-b-KKU-Q4"
      },
      "execution_count": 114,
      "outputs": [
        {
          "output_type": "stream",
          "name": "stdout",
          "text": [
            "time: 4.05 ms (started: 2022-04-09 14:01:52 +00:00)\n"
          ]
        }
      ]
    },
    {
      "cell_type": "code",
      "source": [
        "for col in list1:\n",
        "  del ddf[col]"
      ],
      "metadata": {
        "colab": {
          "base_uri": "https://localhost:8080/"
        },
        "outputId": "89f73290-9e70-497f-e16a-1a0150291df0",
        "id": "bYvv8zUTU-Q5"
      },
      "execution_count": 115,
      "outputs": [
        {
          "output_type": "stream",
          "name": "stdout",
          "text": [
            "time: 117 ms (started: 2022-04-09 14:01:54 +00:00)\n"
          ]
        }
      ]
    },
    {
      "cell_type": "code",
      "source": [
        "ddf['pricetrend'].fillna((0))"
      ],
      "metadata": {
        "colab": {
          "base_uri": "https://localhost:8080/"
        },
        "outputId": "579b1365-e3c4-4cf1-963f-04044d4bf2d1",
        "id": "AoVTd_47U-Q9"
      },
      "execution_count": 117,
      "outputs": [
        {
          "output_type": "execute_result",
          "data": {
            "text/plain": [
              "Dask Series Structure:\n",
              "npartitions=2\n",
              "0         float64\n",
              "134425        ...\n",
              "268849        ...\n",
              "Name: pricetrend, dtype: float64\n",
              "Dask Name: fillna, 22 tasks"
            ]
          },
          "metadata": {},
          "execution_count": 117
        },
        {
          "output_type": "stream",
          "name": "stdout",
          "text": [
            "time: 9.36 ms (started: 2022-04-09 14:02:08 +00:00)\n"
          ]
        }
      ]
    },
    {
      "cell_type": "code",
      "source": [
        "ddf['telekomUploadSpeed'].fillna((0))"
      ],
      "metadata": {
        "colab": {
          "base_uri": "https://localhost:8080/"
        },
        "outputId": "9c76cd0d-7bd4-468e-d626-92fa6aa93cc5",
        "id": "g8nVRNQsU-Q-"
      },
      "execution_count": 118,
      "outputs": [
        {
          "output_type": "execute_result",
          "data": {
            "text/plain": [
              "Dask Series Structure:\n",
              "npartitions=2\n",
              "0         float64\n",
              "134425        ...\n",
              "268849        ...\n",
              "Name: telekomUploadSpeed, dtype: float64\n",
              "Dask Name: fillna, 22 tasks"
            ]
          },
          "metadata": {},
          "execution_count": 118
        },
        {
          "output_type": "stream",
          "name": "stdout",
          "text": [
            "time: 30.7 ms (started: 2022-04-09 14:02:13 +00:00)\n"
          ]
        }
      ]
    },
    {
      "cell_type": "code",
      "source": [
        "ddf['condition'].fillna((\"Other\"))"
      ],
      "metadata": {
        "colab": {
          "base_uri": "https://localhost:8080/"
        },
        "outputId": "c5b82ca3-44d8-4690-e2a9-5791fcf96f17",
        "id": "l_DIEE4sU-Q_"
      },
      "execution_count": 119,
      "outputs": [
        {
          "output_type": "execute_result",
          "data": {
            "text/plain": [
              "Dask Series Structure:\n",
              "npartitions=2\n",
              "0         object\n",
              "134425       ...\n",
              "268849       ...\n",
              "Name: condition, dtype: object\n",
              "Dask Name: fillna, 22 tasks"
            ]
          },
          "metadata": {},
          "execution_count": 119
        },
        {
          "output_type": "stream",
          "name": "stdout",
          "text": [
            "time: 30.3 ms (started: 2022-04-09 14:02:20 +00:00)\n"
          ]
        }
      ]
    },
    {
      "cell_type": "code",
      "source": [
        "ddf['interiorQual'].fillna((\"normal\"))"
      ],
      "metadata": {
        "colab": {
          "base_uri": "https://localhost:8080/"
        },
        "outputId": "f9ece810-ccbc-46cc-e34c-9898ae717aa7",
        "id": "iMUgpybiU-Q_"
      },
      "execution_count": 120,
      "outputs": [
        {
          "output_type": "execute_result",
          "data": {
            "text/plain": [
              "Dask Series Structure:\n",
              "npartitions=2\n",
              "0         object\n",
              "134425       ...\n",
              "268849       ...\n",
              "Name: interiorQual, dtype: object\n",
              "Dask Name: fillna, 22 tasks"
            ]
          },
          "metadata": {},
          "execution_count": 120
        },
        {
          "output_type": "stream",
          "name": "stdout",
          "text": [
            "time: 20 ms (started: 2022-04-09 14:02:28 +00:00)\n"
          ]
        }
      ]
    },
    {
      "cell_type": "code",
      "source": [
        "ddf['petsAllowed'].fillna((\"negotiable\"))"
      ],
      "metadata": {
        "colab": {
          "base_uri": "https://localhost:8080/"
        },
        "outputId": "d8d8688a-d98e-43d7-d332-f47c890e9235",
        "id": "7DWQK0DkU-RA"
      },
      "execution_count": 121,
      "outputs": [
        {
          "output_type": "execute_result",
          "data": {
            "text/plain": [
              "Dask Series Structure:\n",
              "npartitions=2\n",
              "0         object\n",
              "134425       ...\n",
              "268849       ...\n",
              "Name: petsAllowed, dtype: object\n",
              "Dask Name: fillna, 22 tasks"
            ]
          },
          "metadata": {},
          "execution_count": 121
        },
        {
          "output_type": "stream",
          "name": "stdout",
          "text": [
            "time: 26.1 ms (started: 2022-04-09 14:02:32 +00:00)\n"
          ]
        }
      ]
    },
    {
      "cell_type": "code",
      "source": [
        "ddf['totalRent'].fillna( ddf[\"baseRent\"] + ddf[\"serviceCharge\"])"
      ],
      "metadata": {
        "colab": {
          "base_uri": "https://localhost:8080/"
        },
        "outputId": "b03c6c62-b54b-43d6-e86e-1bc16ff0a971",
        "id": "xb8sZCK0U-RA"
      },
      "execution_count": 122,
      "outputs": [
        {
          "output_type": "execute_result",
          "data": {
            "text/plain": [
              "Dask Series Structure:\n",
              "npartitions=2\n",
              "0         float64\n",
              "134425        ...\n",
              "268849        ...\n",
              "Name: totalRent, dtype: float64\n",
              "Dask Name: fillna, 28 tasks"
            ]
          },
          "metadata": {},
          "execution_count": 122
        },
        {
          "output_type": "stream",
          "name": "stdout",
          "text": [
            "time: 17.9 ms (started: 2022-04-09 14:02:46 +00:00)\n"
          ]
        }
      ]
    },
    {
      "cell_type": "code",
      "source": [
        "ddf['serviceCharge'].fillna((data['serviceCharge'].mean()))"
      ],
      "metadata": {
        "colab": {
          "base_uri": "https://localhost:8080/"
        },
        "outputId": "0bace003-5b7b-4a06-9e61-d8c1150b686c",
        "id": "2_-m-VLRrYZm"
      },
      "execution_count": 133,
      "outputs": [
        {
          "output_type": "execute_result",
          "data": {
            "text/plain": [
              "Dask Series Structure:\n",
              "npartitions=2\n",
              "0         float64\n",
              "134425        ...\n",
              "268849        ...\n",
              "Name: serviceCharge, dtype: float64\n",
              "Dask Name: fillna, 22 tasks"
            ]
          },
          "metadata": {},
          "execution_count": 133
        },
        {
          "output_type": "stream",
          "name": "stdout",
          "text": [
            "time: 29.7 ms (started: 2022-04-09 14:18:40 +00:00)\n"
          ]
        }
      ]
    },
    {
      "cell_type": "code",
      "source": [
        "ddf['heatingType'].fillna((\"central_heating\"))"
      ],
      "metadata": {
        "colab": {
          "base_uri": "https://localhost:8080/"
        },
        "outputId": "3538b9c7-a367-4648-b885-ea7220bc26ee",
        "id": "rezcFyRDrYZn"
      },
      "execution_count": 132,
      "outputs": [
        {
          "output_type": "execute_result",
          "data": {
            "text/plain": [
              "Dask Series Structure:\n",
              "npartitions=2\n",
              "0         object\n",
              "134425       ...\n",
              "268849       ...\n",
              "Name: heatingType, dtype: object\n",
              "Dask Name: fillna, 22 tasks"
            ]
          },
          "metadata": {},
          "execution_count": 132
        },
        {
          "output_type": "stream",
          "name": "stdout",
          "text": [
            "time: 24.7 ms (started: 2022-04-09 14:18:35 +00:00)\n"
          ]
        }
      ]
    },
    {
      "cell_type": "code",
      "source": [
        "ddf['yearConstructed'].fillna((data['yearConstructed'].mean()))"
      ],
      "metadata": {
        "colab": {
          "base_uri": "https://localhost:8080/"
        },
        "outputId": "5d281c73-b68e-4329-b405-3bbfc0bbb88a",
        "id": "vx81mahSrYZo"
      },
      "execution_count": 134,
      "outputs": [
        {
          "output_type": "execute_result",
          "data": {
            "text/plain": [
              "Dask Series Structure:\n",
              "npartitions=2\n",
              "0         float64\n",
              "134425        ...\n",
              "268849        ...\n",
              "Name: yearConstructed, dtype: float64\n",
              "Dask Name: fillna, 22 tasks"
            ]
          },
          "metadata": {},
          "execution_count": 134
        },
        {
          "output_type": "stream",
          "name": "stdout",
          "text": [
            "time: 26.7 ms (started: 2022-04-09 14:18:48 +00:00)\n"
          ]
        }
      ]
    },
    {
      "cell_type": "code",
      "source": [
        "ddf['firingTypes'].fillna((\"gas\"))"
      ],
      "metadata": {
        "colab": {
          "base_uri": "https://localhost:8080/"
        },
        "outputId": "a51ddb40-a648-41ea-92b3-d78eaee9d953",
        "id": "belcuzzzrYZo"
      },
      "execution_count": 135,
      "outputs": [
        {
          "output_type": "execute_result",
          "data": {
            "text/plain": [
              "Dask Series Structure:\n",
              "npartitions=2\n",
              "0         object\n",
              "134425       ...\n",
              "268849       ...\n",
              "Name: firingTypes, dtype: object\n",
              "Dask Name: fillna, 22 tasks"
            ]
          },
          "metadata": {},
          "execution_count": 135
        },
        {
          "output_type": "stream",
          "name": "stdout",
          "text": [
            "time: 9.1 ms (started: 2022-04-09 14:18:55 +00:00)\n"
          ]
        }
      ]
    },
    {
      "cell_type": "code",
      "source": [
        "ddf['yearConstructedRange'].fillna((1.0))"
      ],
      "metadata": {
        "colab": {
          "base_uri": "https://localhost:8080/"
        },
        "outputId": "2aa0217b-bb43-4b49-f01b-5f9a1a99a778",
        "id": "7gbM2JttrYZp"
      },
      "execution_count": 137,
      "outputs": [
        {
          "output_type": "execute_result",
          "data": {
            "text/plain": [
              "Dask Series Structure:\n",
              "npartitions=2\n",
              "0         float64\n",
              "134425        ...\n",
              "268849        ...\n",
              "Name: yearConstructedRange, dtype: float64\n",
              "Dask Name: fillna, 22 tasks"
            ]
          },
          "metadata": {},
          "execution_count": 137
        },
        {
          "output_type": "stream",
          "name": "stdout",
          "text": [
            "time: 28.7 ms (started: 2022-04-09 14:19:13 +00:00)\n"
          ]
        }
      ]
    },
    {
      "cell_type": "code",
      "source": [
        "ddf['typeOfFlat'].fillna((\"apartment\"))"
      ],
      "metadata": {
        "colab": {
          "base_uri": "https://localhost:8080/"
        },
        "outputId": "9c646fdf-6a29-480c-f36f-6a9be79847fa",
        "id": "WjgHVQSmrYZq"
      },
      "execution_count": 138,
      "outputs": [
        {
          "output_type": "execute_result",
          "data": {
            "text/plain": [
              "Dask Series Structure:\n",
              "npartitions=2\n",
              "0         object\n",
              "134425       ...\n",
              "268849       ...\n",
              "Name: typeOfFlat, dtype: object\n",
              "Dask Name: fillna, 22 tasks"
            ]
          },
          "metadata": {},
          "execution_count": 138
        },
        {
          "output_type": "stream",
          "name": "stdout",
          "text": [
            "time: 29.1 ms (started: 2022-04-09 14:19:19 +00:00)\n"
          ]
        }
      ]
    },
    {
      "cell_type": "code",
      "source": [
        "ddf['thermalChar'].fillna((105.0))"
      ],
      "metadata": {
        "colab": {
          "base_uri": "https://localhost:8080/"
        },
        "outputId": "3417f31c-0433-4c8d-fe3f-8f7f6c4455c1",
        "id": "tfgjxV4PrYZq"
      },
      "execution_count": 139,
      "outputs": [
        {
          "output_type": "execute_result",
          "data": {
            "text/plain": [
              "Dask Series Structure:\n",
              "npartitions=2\n",
              "0         float64\n",
              "134425        ...\n",
              "268849        ...\n",
              "Name: thermalChar, dtype: float64\n",
              "Dask Name: fillna, 22 tasks"
            ]
          },
          "metadata": {},
          "execution_count": 139
        },
        {
          "output_type": "stream",
          "name": "stdout",
          "text": [
            "time: 15.4 ms (started: 2022-04-09 14:19:30 +00:00)\n"
          ]
        }
      ]
    },
    {
      "cell_type": "code",
      "source": [
        "ddf['floor'].fillna((1.0))"
      ],
      "metadata": {
        "colab": {
          "base_uri": "https://localhost:8080/"
        },
        "outputId": "3fa04aa0-cd29-4de2-a8d1-89ad9d752f25",
        "id": "h7ReVPferYZr"
      },
      "execution_count": 140,
      "outputs": [
        {
          "output_type": "execute_result",
          "data": {
            "text/plain": [
              "Dask Series Structure:\n",
              "npartitions=2\n",
              "0         float64\n",
              "134425        ...\n",
              "268849        ...\n",
              "Name: floor, dtype: float64\n",
              "Dask Name: fillna, 22 tasks"
            ]
          },
          "metadata": {},
          "execution_count": 140
        },
        {
          "output_type": "stream",
          "name": "stdout",
          "text": [
            "time: 18.5 ms (started: 2022-04-09 14:19:32 +00:00)\n"
          ]
        }
      ]
    },
    {
      "cell_type": "code",
      "source": [
        "ddf['numberOfFloors'].fillna((3.0))"
      ],
      "metadata": {
        "colab": {
          "base_uri": "https://localhost:8080/"
        },
        "outputId": "80e77046-9d18-45e7-8b12-146aac38b9f4",
        "id": "HcjbO2XvrYZr"
      },
      "execution_count": 141,
      "outputs": [
        {
          "output_type": "execute_result",
          "data": {
            "text/plain": [
              "Dask Series Structure:\n",
              "npartitions=2\n",
              "0         float64\n",
              "134425        ...\n",
              "268849        ...\n",
              "Name: numberOfFloors, dtype: float64\n",
              "Dask Name: fillna, 22 tasks"
            ]
          },
          "metadata": {},
          "execution_count": 141
        },
        {
          "output_type": "stream",
          "name": "stdout",
          "text": [
            "time: 16 ms (started: 2022-04-09 14:19:35 +00:00)\n"
          ]
        }
      ]
    }
  ]
}