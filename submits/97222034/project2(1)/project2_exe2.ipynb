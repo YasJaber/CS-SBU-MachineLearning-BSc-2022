{
  "nbformat": 4,
  "nbformat_minor": 0,
  "metadata": {
    "colab": {
      "name": "project2-exe2.ipynb",
      "provenance": [],
      "collapsed_sections": []
    },
    "kernelspec": {
      "name": "python3",
      "display_name": "Python 3"
    },
    "language_info": {
      "name": "python"
    }
  },
  "cells": [
    {
      "cell_type": "code",
      "execution_count": null,
      "metadata": {
        "id": "btLn6BxsSz3G"
      },
      "outputs": [],
      "source": [
        "!pip install kaggle"
      ]
    },
    {
      "cell_type": "code",
      "source": [
        "from google.colab import files\n",
        "files.upload()"
      ],
      "metadata": {
        "id": "X4hoeYPgU0nZ"
      },
      "execution_count": null,
      "outputs": []
    },
    {
      "cell_type": "code",
      "source": [
        "!mkdir -p ~/.kaggle\n",
        "!cp kaggle.json ~/.kaggle/\n",
        "!chmod 600 ~/.kaggle/kaggle.json"
      ],
      "metadata": {
        "id": "LU25xgOwU3Un"
      },
      "execution_count": null,
      "outputs": []
    },
    {
      "cell_type": "code",
      "source": [
        "!kaggle datasets download -d corrieaar/apartment-rental-offers-in-germany"
      ],
      "metadata": {
        "id": "prM6I6boU3zW"
      },
      "execution_count": null,
      "outputs": []
    },
    {
      "cell_type": "code",
      "source": [
        "!ls"
      ],
      "metadata": {
        "id": "xQFpKZbTU534"
      },
      "execution_count": null,
      "outputs": []
    },
    {
      "cell_type": "code",
      "source": [
        "import zipfile\n",
        "zip_ref = zipfile.ZipFile('apartment-rental-offers-in-germany.zip', 'r')\n",
        "zip_ref.extractall('files')\n",
        "zip_ref.close()\n",
        "import pandas as pd\n",
        "data = pd.read_csv('/content/files/immo_data.csv')\n"
      ],
      "metadata": {
        "id": "hcVfTz9NU8s_"
      },
      "execution_count": null,
      "outputs": []
    },
    {
      "cell_type": "code",
      "source": [
        "data.describe()"
      ],
      "metadata": {
        "id": "YTZUOwvkWKjG"
      },
      "execution_count": null,
      "outputs": []
    },
    {
      "cell_type": "markdown",
      "source": [
        "deleting all the columns with more than 50% null values."
      ],
      "metadata": {
        "id": "DeAlDPV0UCp0"
      }
    },
    {
      "cell_type": "code",
      "source": [
        "for col in data.columns:\n",
        "  if (data[col].isna().sum()/ len(data))>0.5:\n",
        "    data.drop(col, inplace=True, axis=1)"
      ],
      "metadata": {
        "id": "Fh64kTh8YD5R"
      },
      "execution_count": null,
      "outputs": []
    },
    {
      "cell_type": "markdown",
      "source": [
        "no duplicates were found"
      ],
      "metadata": {
        "id": "Z7KNOgndX5ye"
      }
    },
    {
      "cell_type": "code",
      "source": [
        "data.drop_duplicates(inplace=True)"
      ],
      "metadata": {
        "id": "2EXKNwOFTTIQ"
      },
      "execution_count": null,
      "outputs": []
    },
    {
      "cell_type": "code",
      "source": [
        "data.isna().sum()"
      ],
      "metadata": {
        "id": "s0Gg0ukMbfAr"
      },
      "execution_count": null,
      "outputs": []
    },
    {
      "cell_type": "markdown",
      "source": [
        "**deleting the unwanted text information**"
      ],
      "metadata": {
        "id": "p0UR2ykLU6uK"
      }
    },
    {
      "cell_type": "markdown",
      "source": [
        "geo_bln\n",
        "bundesland (state), same as regio1\n",
        "\n",
        "regio2\n",
        "District or Kreis, same as geo krs\n",
        "\n",
        "geo_krs\n",
        "district, above ZIP code\n",
        "\n",
        "regio3\n",
        "City/town"
      ],
      "metadata": {
        "id": "AIUYRm6EuEIw"
      }
    },
    {
      "cell_type": "code",
      "source": [
        "data.drop([\"geo_bln\", \"geo_krs\" ], inplace=True, axis=1)"
      ],
      "metadata": {
        "id": "zYPSZ17cuuRm"
      },
      "execution_count": null,
      "outputs": []
    },
    {
      "cell_type": "code",
      "source": [
        "data.drop([\"scoutId\"], inplace=True, axis=1)"
      ],
      "metadata": {
        "id": "Ij17yRAv3PDP"
      },
      "execution_count": null,
      "outputs": []
    },
    {
      "cell_type": "code",
      "source": [
        "data.drop([\"description\", \"facilities\" ], inplace=True, axis=1)"
      ],
      "metadata": {
        "id": "DYV-TPgwb1UM"
      },
      "execution_count": null,
      "outputs": []
    },
    {
      "cell_type": "code",
      "source": [
        "data.drop([\"houseNumber\"], inplace=True, axis=1)"
      ],
      "metadata": {
        "id": "mtvvYV7XgqQf"
      },
      "execution_count": null,
      "outputs": []
    },
    {
      "cell_type": "code",
      "source": [
        "data.drop([\"streetPlain\"], inplace=True, axis=1)"
      ],
      "metadata": {
        "id": "vPwYUmFRi_FT"
      },
      "execution_count": null,
      "outputs": []
    },
    {
      "cell_type": "code",
      "source": [
        "data.drop([\"street\"], inplace=True, axis=1)"
      ],
      "metadata": {
        "id": "kTIZPc3Wgzmq"
      },
      "execution_count": null,
      "outputs": []
    },
    {
      "cell_type": "markdown",
      "source": [
        "filling null values"
      ],
      "metadata": {
        "id": "zDt9ba6NZM3E"
      }
    },
    {
      "cell_type": "code",
      "source": [
        "pd.set_option('display.max_columns', None)\n",
        "data"
      ],
      "metadata": {
        "id": "plcoLvuFZPLb"
      },
      "execution_count": null,
      "outputs": []
    },
    {
      "cell_type": "code",
      "source": [
        "data['serviceCharge'].fillna((data['serviceCharge'].mean()), inplace=True)"
      ],
      "metadata": {
        "id": "_y80cdVvaG4k"
      },
      "execution_count": null,
      "outputs": []
    },
    {
      "cell_type": "code",
      "source": [
        "data['heatingType'].mode()"
      ],
      "metadata": {
        "id": "A97EgAq0bcbI",
        "colab": {
          "base_uri": "https://localhost:8080/"
        },
        "outputId": "9e982373-2beb-4b23-83fc-cd913b2150cb"
      },
      "execution_count": null,
      "outputs": [
        {
          "output_type": "execute_result",
          "data": {
            "text/plain": [
              "0    central_heating\n",
              "dtype: object"
            ]
          },
          "metadata": {},
          "execution_count": 248
        }
      ]
    },
    {
      "cell_type": "code",
      "source": [
        "data['heatingType'].fillna((\"central_heating\"), inplace=True)"
      ],
      "metadata": {
        "id": "qNwtRR_bagEI"
      },
      "execution_count": null,
      "outputs": []
    },
    {
      "cell_type": "code",
      "source": [
        "data['telekomTvOffer'].fillna((\"NONE\"), inplace=True)"
      ],
      "metadata": {
        "id": "2VzWmuvucO-t"
      },
      "execution_count": null,
      "outputs": []
    },
    {
      "cell_type": "code",
      "source": [
        "data['pricetrend'].fillna((0), inplace=True)"
      ],
      "metadata": {
        "id": "wuGe3pwXcw1l"
      },
      "execution_count": null,
      "outputs": []
    },
    {
      "cell_type": "code",
      "source": [
        "data['telekomUploadSpeed'].fillna((0), inplace=True)"
      ],
      "metadata": {
        "id": "MjWhMyped7GW"
      },
      "execution_count": null,
      "outputs": []
    },
    {
      "cell_type": "code",
      "source": [
        "data['yearConstructed'].fillna((data['yearConstructed'].mean()), inplace=True)"
      ],
      "metadata": {
        "id": "ccAGDIh-fCbJ"
      },
      "execution_count": null,
      "outputs": []
    },
    {
      "cell_type": "code",
      "source": [
        "data['firingTypes'].mode()"
      ],
      "metadata": {
        "id": "UXd0Esokc0Nt",
        "colab": {
          "base_uri": "https://localhost:8080/"
        },
        "outputId": "8ed040c4-8a80-4260-d69e-ef4e7c058213"
      },
      "execution_count": null,
      "outputs": [
        {
          "output_type": "execute_result",
          "data": {
            "text/plain": [
              "0    gas\n",
              "dtype: object"
            ]
          },
          "metadata": {},
          "execution_count": 254
        }
      ]
    },
    {
      "cell_type": "code",
      "source": [
        "data['firingTypes'].fillna((\"gas\"), inplace=True)"
      ],
      "metadata": {
        "id": "WfVovVoHfbtq"
      },
      "execution_count": null,
      "outputs": []
    },
    {
      "cell_type": "code",
      "source": [
        "data['yearConstructedRange'].mode()"
      ],
      "metadata": {
        "id": "W7zOeLWZgIBB",
        "colab": {
          "base_uri": "https://localhost:8080/"
        },
        "outputId": "648dc427-859c-4fbf-a27f-6df2810c6ab7"
      },
      "execution_count": null,
      "outputs": [
        {
          "output_type": "execute_result",
          "data": {
            "text/plain": [
              "0    1.0\n",
              "dtype: float64"
            ]
          },
          "metadata": {},
          "execution_count": 256
        }
      ]
    },
    {
      "cell_type": "code",
      "source": [
        "data['yearConstructedRange'].fillna((1.0), inplace=True)"
      ],
      "metadata": {
        "id": "GaAb6sTTfkCI"
      },
      "execution_count": null,
      "outputs": []
    },
    {
      "cell_type": "code",
      "source": [
        "data['condition'].fillna((\"negotiable\"), inplace=True)"
      ],
      "metadata": {
        "id": "90b-GIgcgBPY"
      },
      "execution_count": null,
      "outputs": []
    },
    {
      "cell_type": "code",
      "source": [
        "data['interiorQual'].fillna((\"normal\"), inplace=True)"
      ],
      "metadata": {
        "id": "w_D1Cj2zhcQ1"
      },
      "execution_count": null,
      "outputs": []
    },
    {
      "cell_type": "code",
      "source": [
        "data['petsAllowed'].fillna((\"negotiable\"), inplace=True)"
      ],
      "metadata": {
        "id": "1v6-rTCZh5K1"
      },
      "execution_count": null,
      "outputs": []
    },
    {
      "cell_type": "code",
      "source": [
        "data['typeOfFlat'].mode()"
      ],
      "metadata": {
        "id": "SlRbY49CiEZc",
        "colab": {
          "base_uri": "https://localhost:8080/"
        },
        "outputId": "b94f1aaa-65dd-4c9f-8283-231d1b82b16c"
      },
      "execution_count": null,
      "outputs": [
        {
          "output_type": "execute_result",
          "data": {
            "text/plain": [
              "0    apartment\n",
              "dtype: object"
            ]
          },
          "metadata": {},
          "execution_count": 261
        }
      ]
    },
    {
      "cell_type": "code",
      "source": [
        "data['typeOfFlat'].fillna((\"apartment\"), inplace=True)"
      ],
      "metadata": {
        "id": "z7RzYa-FjUMB"
      },
      "execution_count": null,
      "outputs": []
    },
    {
      "cell_type": "code",
      "source": [
        "data['thermalChar'].mode()"
      ],
      "metadata": {
        "id": "wOT1euKAiaH8",
        "colab": {
          "base_uri": "https://localhost:8080/"
        },
        "outputId": "17f51a6b-d217-4c3b-b94e-3935fb7a7430"
      },
      "execution_count": null,
      "outputs": [
        {
          "output_type": "execute_result",
          "data": {
            "text/plain": [
              "0    105.0\n",
              "dtype: float64"
            ]
          },
          "metadata": {},
          "execution_count": 263
        }
      ]
    },
    {
      "cell_type": "code",
      "source": [
        "data['thermalChar'].fillna((105.0), inplace=True)"
      ],
      "metadata": {
        "id": "E3PfYHGvkL5y"
      },
      "execution_count": null,
      "outputs": []
    },
    {
      "cell_type": "code",
      "source": [
        "data['floor'].mode()"
      ],
      "metadata": {
        "colab": {
          "base_uri": "https://localhost:8080/"
        },
        "id": "arSDBbSdkRlt",
        "outputId": "b734a8e5-62c8-46e7-ec5a-ec98592dfaef"
      },
      "execution_count": null,
      "outputs": [
        {
          "output_type": "execute_result",
          "data": {
            "text/plain": [
              "0    1.0\n",
              "dtype: float64"
            ]
          },
          "metadata": {},
          "execution_count": 265
        }
      ]
    },
    {
      "cell_type": "code",
      "source": [
        "data['floor'].fillna((1.0), inplace=True)"
      ],
      "metadata": {
        "id": "s-Uap15XklSX"
      },
      "execution_count": null,
      "outputs": []
    },
    {
      "cell_type": "code",
      "source": [
        "data['numberOfFloors'].mode()"
      ],
      "metadata": {
        "colab": {
          "base_uri": "https://localhost:8080/"
        },
        "id": "9fAGYRhfkrNP",
        "outputId": "97184848-ccba-4c2e-bd48-8c20557215c7"
      },
      "execution_count": null,
      "outputs": [
        {
          "output_type": "execute_result",
          "data": {
            "text/plain": [
              "0    3.0\n",
              "dtype: float64"
            ]
          },
          "metadata": {},
          "execution_count": 267
        }
      ]
    },
    {
      "cell_type": "code",
      "source": [
        "data['numberOfFloors'].fillna((3.0), inplace=True)"
      ],
      "metadata": {
        "id": "VLrkimbBk1J2"
      },
      "execution_count": null,
      "outputs": []
    },
    {
      "cell_type": "code",
      "source": [
        "data['totalRent'].fillna( data[\"baseRent\"] + data[\"serviceCharge\"]  , inplace=True)"
      ],
      "metadata": {
        "id": "QwWc6ylaVIpD"
      },
      "execution_count": null,
      "outputs": []
    },
    {
      "cell_type": "code",
      "source": [
        "data.isna().sum()"
      ],
      "metadata": {
        "id": "L9ejqM3GaVA0"
      },
      "execution_count": null,
      "outputs": []
    },
    {
      "cell_type": "code",
      "source": [
        "data.shape"
      ],
      "metadata": {
        "id": "6fqTkOMhei8D",
        "colab": {
          "base_uri": "https://localhost:8080/"
        },
        "outputId": "a5987bfb-7448-407b-b33e-454c3073e381"
      },
      "execution_count": null,
      "outputs": [
        {
          "output_type": "execute_result",
          "data": {
            "text/plain": [
              "(268850, 34)"
            ]
          },
          "metadata": {},
          "execution_count": 135
        }
      ]
    },
    {
      "cell_type": "markdown",
      "source": [
        "**deleting the ouliers more than 3std from their mean**"
      ],
      "metadata": {
        "id": "46kXrpFKVCoT"
      }
    },
    {
      "cell_type": "code",
      "source": [
        "import numpy as np\n",
        "colnames_numerics_only = data.select_dtypes(include=np.number).columns.tolist()\n",
        "colnames_numerics_only"
      ],
      "metadata": {
        "id": "2eTa1NUlVYhj",
        "colab": {
          "base_uri": "https://localhost:8080/"
        },
        "outputId": "8c2679f1-009b-4529-b81d-e60e5967e5ff"
      },
      "execution_count": null,
      "outputs": [
        {
          "output_type": "execute_result",
          "data": {
            "text/plain": [
              "['serviceCharge',\n",
              " 'picturecount',\n",
              " 'pricetrend',\n",
              " 'telekomUploadSpeed',\n",
              " 'totalRent',\n",
              " 'yearConstructed',\n",
              " 'yearConstructedRange',\n",
              " 'baseRent',\n",
              " 'livingSpace',\n",
              " 'baseRentRange',\n",
              " 'geo_plz',\n",
              " 'noRooms',\n",
              " 'thermalChar',\n",
              " 'floor',\n",
              " 'numberOfFloors',\n",
              " 'noRoomsRange',\n",
              " 'livingSpaceRange']"
            ]
          },
          "metadata": {},
          "execution_count": 271
        }
      ]
    },
    {
      "cell_type": "code",
      "source": [
        "from scipy import stats\n",
        "for col in colnames_numerics_only:\n",
        "  data = data[(np.abs(stats.zscore(data[col]))< 3)]\n",
        "\n"
      ],
      "metadata": {
        "id": "Z9vl0CG8WPRy"
      },
      "execution_count": null,
      "outputs": []
    },
    {
      "cell_type": "code",
      "source": [
        "data.shape"
      ],
      "metadata": {
        "colab": {
          "base_uri": "https://localhost:8080/"
        },
        "id": "xpnZl1-_Xqef",
        "outputId": "ee5d255b-6c50-48bd-abce-96f2e3ad103b"
      },
      "execution_count": null,
      "outputs": [
        {
          "output_type": "execute_result",
          "data": {
            "text/plain": [
              "(254442, 34)"
            ]
          },
          "metadata": {},
          "execution_count": 46
        }
      ]
    },
    {
      "cell_type": "code",
      "source": [
        "data"
      ],
      "metadata": {
        "colab": {
          "base_uri": "https://localhost:8080/",
          "height": 487
        },
        "id": "6yWyqgf4xh3b",
        "outputId": "1900b6b4-c43f-4040-815a-0776e272bda5"
      },
      "execution_count": null,
      "outputs": [
        {
          "output_type": "execute_result",
          "data": {
            "text/plain": [
              "                     regio1  serviceCharge                     heatingType  \\\n",
              "0       Nordrhein_Westfalen         245.00                 central_heating   \n",
              "1           Rheinland_Pfalz         134.00  self_contained_central_heating   \n",
              "2                   Sachsen         255.00                   floor_heating   \n",
              "3                   Sachsen          58.15                district_heating   \n",
              "4                    Bremen         138.00  self_contained_central_heating   \n",
              "...                     ...            ...                             ...   \n",
              "268845               Bayern          90.00                       heat_pump   \n",
              "268846               Hessen         220.00                     gas_heating   \n",
              "268847               Hessen         220.00                 central_heating   \n",
              "268848  Nordrhein_Westfalen         175.00                       heat_pump   \n",
              "268849               Hessen         315.00                 central_heating   \n",
              "\n",
              "       telekomTvOffer  newlyConst  balcony  picturecount  pricetrend  \\\n",
              "0       ONE_YEAR_FREE       False    False             6        4.62   \n",
              "1       ONE_YEAR_FREE       False     True             8        3.47   \n",
              "2       ONE_YEAR_FREE        True     True             8        2.72   \n",
              "3       ONE_YEAR_FREE       False     True             9        1.53   \n",
              "4                NONE       False     True            19        2.46   \n",
              "...               ...         ...      ...           ...         ...   \n",
              "268845  ONE_YEAR_FREE       False     True             0        2.74   \n",
              "268846           NONE       False     True            12        6.49   \n",
              "268847  ONE_YEAR_FREE       False     True            21        2.90   \n",
              "268848           NONE        True     True            16        4.39   \n",
              "268849           NONE       False     True             9        5.00   \n",
              "\n",
              "        telekomUploadSpeed  totalRent  yearConstructed       firingTypes  \\\n",
              "0                     10.0     840.00           1965.0               oil   \n",
              "1                     10.0     934.00           1871.0               gas   \n",
              "2                      2.4    1300.00           2019.0               gas   \n",
              "3                     40.0     401.15           1964.0  district_heating   \n",
              "4                      0.0     903.00           1950.0               gas   \n",
              "...                    ...        ...              ...               ...   \n",
              "268845                10.0     910.00           2016.0        geothermal   \n",
              "268846                 0.0    1150.00           1983.0               gas   \n",
              "268847                40.0     930.00           1965.0               gas   \n",
              "268848                 0.0    1015.00           2019.0               gas   \n",
              "268849                 0.0    1250.00           1972.0  district_heating   \n",
              "\n",
              "        hasKitchen  cellar  yearConstructedRange  baseRent  livingSpace  \\\n",
              "0            False    True                   2.0     595.0        86.00   \n",
              "1            False   False                   1.0     800.0        89.00   \n",
              "2            False    True                   9.0     965.0        83.80   \n",
              "3            False   False                   2.0     343.0        58.15   \n",
              "4            False   False                   1.0     765.0        84.97   \n",
              "...            ...     ...                   ...       ...          ...   \n",
              "268845       False    True                   9.0     820.0        90.00   \n",
              "268846        True   False                   4.0     930.0       115.00   \n",
              "268847       False    True                   2.0     650.0        95.00   \n",
              "268848       False    True                   9.0     840.0        70.00   \n",
              "268849        True    True                   3.0     935.0        77.00   \n",
              "\n",
              "             condition   interiorQual petsAllowed   lift  baseRentRange  \\\n",
              "0            well_kept         normal  negotiable  False              4   \n",
              "1          refurbished         normal          no  False              5   \n",
              "2       first_time_use  sophisticated  negotiable   True              6   \n",
              "3           negotiable         normal  negotiable  False              2   \n",
              "4          refurbished         normal  negotiable  False              5   \n",
              "...                ...            ...         ...    ...            ...   \n",
              "268845  mint_condition  sophisticated          no  False              6   \n",
              "268846       well_kept  sophisticated  negotiable  False              6   \n",
              "268847       well_kept         normal  negotiable  False              5   \n",
              "268848  first_time_use  sophisticated          no   True              6   \n",
              "268849      modernized         normal  negotiable   True              6   \n",
              "\n",
              "          typeOfFlat  geo_plz  noRooms  thermalChar  floor  numberOfFloors  \\\n",
              "0       ground_floor    44269      4.0       181.40    1.0             3.0   \n",
              "1       ground_floor    67459      3.0       105.00    1.0             3.0   \n",
              "2          apartment     1097      3.0       105.00    3.0             4.0   \n",
              "3              other     9599      3.0        86.00    3.0             3.0   \n",
              "4          apartment    28213      3.0       188.90    1.0             3.0   \n",
              "...              ...      ...      ...          ...    ...             ...   \n",
              "268845   roof_storey    82390      3.0       105.00    1.0             3.0   \n",
              "268846     apartment    68519      3.5       105.00    1.0             1.0   \n",
              "268847     apartment    65552      4.0       160.77    1.0             2.0   \n",
              "268848     apartment    51069      2.0        24.70    1.0             5.0   \n",
              "268849     apartment    65936      3.0       105.00    1.0            13.0   \n",
              "\n",
              "        noRoomsRange  garden  livingSpaceRange                   regio2  \\\n",
              "0                  4    True                 4                 Dortmund   \n",
              "1                  3   False                 4        Rhein_Pfalz_Kreis   \n",
              "2                  3   False                 4                  Dresden   \n",
              "3                  3   False                 2      Mittelsachsen_Kreis   \n",
              "4                  3   False                 4                   Bremen   \n",
              "...              ...     ...               ...                      ...   \n",
              "268845             3   False                 4  Weilheim_Schongau_Kreis   \n",
              "268846             3   False                 5         Bergstraße_Kreis   \n",
              "268847             4    True                 4   Limburg_Weilburg_Kreis   \n",
              "268848             2   False                 3                     Köln   \n",
              "268849             3   False                 3        Frankfurt_am_Main   \n",
              "\n",
              "                            regio3   date  \n",
              "0                          Schüren  May19  \n",
              "1                   Böhl_Iggelheim  May19  \n",
              "2       Äußere_Neustadt_Antonstadt  Oct19  \n",
              "3                         Freiberg  May19  \n",
              "4                Neu_Schwachhausen  Feb20  \n",
              "...                            ...    ...  \n",
              "268845                    Eberfing  Feb20  \n",
              "268846                   Viernheim  May19  \n",
              "268847         Limburg_an_der_Lahn  Feb20  \n",
              "268848                   Dellbrück  May19  \n",
              "268849                  Sossenheim  Feb20  \n",
              "\n",
              "[254442 rows x 34 columns]"
            ],
            "text/html": [
              "\n",
              "  <div id=\"df-e5fa0eda-5706-4cc8-9826-066a9636e3a5\">\n",
              "    <div class=\"colab-df-container\">\n",
              "      <div>\n",
              "<style scoped>\n",
              "    .dataframe tbody tr th:only-of-type {\n",
              "        vertical-align: middle;\n",
              "    }\n",
              "\n",
              "    .dataframe tbody tr th {\n",
              "        vertical-align: top;\n",
              "    }\n",
              "\n",
              "    .dataframe thead th {\n",
              "        text-align: right;\n",
              "    }\n",
              "</style>\n",
              "<table border=\"1\" class=\"dataframe\">\n",
              "  <thead>\n",
              "    <tr style=\"text-align: right;\">\n",
              "      <th></th>\n",
              "      <th>regio1</th>\n",
              "      <th>serviceCharge</th>\n",
              "      <th>heatingType</th>\n",
              "      <th>telekomTvOffer</th>\n",
              "      <th>newlyConst</th>\n",
              "      <th>balcony</th>\n",
              "      <th>picturecount</th>\n",
              "      <th>pricetrend</th>\n",
              "      <th>telekomUploadSpeed</th>\n",
              "      <th>totalRent</th>\n",
              "      <th>yearConstructed</th>\n",
              "      <th>firingTypes</th>\n",
              "      <th>hasKitchen</th>\n",
              "      <th>cellar</th>\n",
              "      <th>yearConstructedRange</th>\n",
              "      <th>baseRent</th>\n",
              "      <th>livingSpace</th>\n",
              "      <th>condition</th>\n",
              "      <th>interiorQual</th>\n",
              "      <th>petsAllowed</th>\n",
              "      <th>lift</th>\n",
              "      <th>baseRentRange</th>\n",
              "      <th>typeOfFlat</th>\n",
              "      <th>geo_plz</th>\n",
              "      <th>noRooms</th>\n",
              "      <th>thermalChar</th>\n",
              "      <th>floor</th>\n",
              "      <th>numberOfFloors</th>\n",
              "      <th>noRoomsRange</th>\n",
              "      <th>garden</th>\n",
              "      <th>livingSpaceRange</th>\n",
              "      <th>regio2</th>\n",
              "      <th>regio3</th>\n",
              "      <th>date</th>\n",
              "    </tr>\n",
              "  </thead>\n",
              "  <tbody>\n",
              "    <tr>\n",
              "      <th>0</th>\n",
              "      <td>Nordrhein_Westfalen</td>\n",
              "      <td>245.00</td>\n",
              "      <td>central_heating</td>\n",
              "      <td>ONE_YEAR_FREE</td>\n",
              "      <td>False</td>\n",
              "      <td>False</td>\n",
              "      <td>6</td>\n",
              "      <td>4.62</td>\n",
              "      <td>10.0</td>\n",
              "      <td>840.00</td>\n",
              "      <td>1965.0</td>\n",
              "      <td>oil</td>\n",
              "      <td>False</td>\n",
              "      <td>True</td>\n",
              "      <td>2.0</td>\n",
              "      <td>595.0</td>\n",
              "      <td>86.00</td>\n",
              "      <td>well_kept</td>\n",
              "      <td>normal</td>\n",
              "      <td>negotiable</td>\n",
              "      <td>False</td>\n",
              "      <td>4</td>\n",
              "      <td>ground_floor</td>\n",
              "      <td>44269</td>\n",
              "      <td>4.0</td>\n",
              "      <td>181.40</td>\n",
              "      <td>1.0</td>\n",
              "      <td>3.0</td>\n",
              "      <td>4</td>\n",
              "      <td>True</td>\n",
              "      <td>4</td>\n",
              "      <td>Dortmund</td>\n",
              "      <td>Schüren</td>\n",
              "      <td>May19</td>\n",
              "    </tr>\n",
              "    <tr>\n",
              "      <th>1</th>\n",
              "      <td>Rheinland_Pfalz</td>\n",
              "      <td>134.00</td>\n",
              "      <td>self_contained_central_heating</td>\n",
              "      <td>ONE_YEAR_FREE</td>\n",
              "      <td>False</td>\n",
              "      <td>True</td>\n",
              "      <td>8</td>\n",
              "      <td>3.47</td>\n",
              "      <td>10.0</td>\n",
              "      <td>934.00</td>\n",
              "      <td>1871.0</td>\n",
              "      <td>gas</td>\n",
              "      <td>False</td>\n",
              "      <td>False</td>\n",
              "      <td>1.0</td>\n",
              "      <td>800.0</td>\n",
              "      <td>89.00</td>\n",
              "      <td>refurbished</td>\n",
              "      <td>normal</td>\n",
              "      <td>no</td>\n",
              "      <td>False</td>\n",
              "      <td>5</td>\n",
              "      <td>ground_floor</td>\n",
              "      <td>67459</td>\n",
              "      <td>3.0</td>\n",
              "      <td>105.00</td>\n",
              "      <td>1.0</td>\n",
              "      <td>3.0</td>\n",
              "      <td>3</td>\n",
              "      <td>False</td>\n",
              "      <td>4</td>\n",
              "      <td>Rhein_Pfalz_Kreis</td>\n",
              "      <td>Böhl_Iggelheim</td>\n",
              "      <td>May19</td>\n",
              "    </tr>\n",
              "    <tr>\n",
              "      <th>2</th>\n",
              "      <td>Sachsen</td>\n",
              "      <td>255.00</td>\n",
              "      <td>floor_heating</td>\n",
              "      <td>ONE_YEAR_FREE</td>\n",
              "      <td>True</td>\n",
              "      <td>True</td>\n",
              "      <td>8</td>\n",
              "      <td>2.72</td>\n",
              "      <td>2.4</td>\n",
              "      <td>1300.00</td>\n",
              "      <td>2019.0</td>\n",
              "      <td>gas</td>\n",
              "      <td>False</td>\n",
              "      <td>True</td>\n",
              "      <td>9.0</td>\n",
              "      <td>965.0</td>\n",
              "      <td>83.80</td>\n",
              "      <td>first_time_use</td>\n",
              "      <td>sophisticated</td>\n",
              "      <td>negotiable</td>\n",
              "      <td>True</td>\n",
              "      <td>6</td>\n",
              "      <td>apartment</td>\n",
              "      <td>1097</td>\n",
              "      <td>3.0</td>\n",
              "      <td>105.00</td>\n",
              "      <td>3.0</td>\n",
              "      <td>4.0</td>\n",
              "      <td>3</td>\n",
              "      <td>False</td>\n",
              "      <td>4</td>\n",
              "      <td>Dresden</td>\n",
              "      <td>Äußere_Neustadt_Antonstadt</td>\n",
              "      <td>Oct19</td>\n",
              "    </tr>\n",
              "    <tr>\n",
              "      <th>3</th>\n",
              "      <td>Sachsen</td>\n",
              "      <td>58.15</td>\n",
              "      <td>district_heating</td>\n",
              "      <td>ONE_YEAR_FREE</td>\n",
              "      <td>False</td>\n",
              "      <td>True</td>\n",
              "      <td>9</td>\n",
              "      <td>1.53</td>\n",
              "      <td>40.0</td>\n",
              "      <td>401.15</td>\n",
              "      <td>1964.0</td>\n",
              "      <td>district_heating</td>\n",
              "      <td>False</td>\n",
              "      <td>False</td>\n",
              "      <td>2.0</td>\n",
              "      <td>343.0</td>\n",
              "      <td>58.15</td>\n",
              "      <td>negotiable</td>\n",
              "      <td>normal</td>\n",
              "      <td>negotiable</td>\n",
              "      <td>False</td>\n",
              "      <td>2</td>\n",
              "      <td>other</td>\n",
              "      <td>9599</td>\n",
              "      <td>3.0</td>\n",
              "      <td>86.00</td>\n",
              "      <td>3.0</td>\n",
              "      <td>3.0</td>\n",
              "      <td>3</td>\n",
              "      <td>False</td>\n",
              "      <td>2</td>\n",
              "      <td>Mittelsachsen_Kreis</td>\n",
              "      <td>Freiberg</td>\n",
              "      <td>May19</td>\n",
              "    </tr>\n",
              "    <tr>\n",
              "      <th>4</th>\n",
              "      <td>Bremen</td>\n",
              "      <td>138.00</td>\n",
              "      <td>self_contained_central_heating</td>\n",
              "      <td>NONE</td>\n",
              "      <td>False</td>\n",
              "      <td>True</td>\n",
              "      <td>19</td>\n",
              "      <td>2.46</td>\n",
              "      <td>0.0</td>\n",
              "      <td>903.00</td>\n",
              "      <td>1950.0</td>\n",
              "      <td>gas</td>\n",
              "      <td>False</td>\n",
              "      <td>False</td>\n",
              "      <td>1.0</td>\n",
              "      <td>765.0</td>\n",
              "      <td>84.97</td>\n",
              "      <td>refurbished</td>\n",
              "      <td>normal</td>\n",
              "      <td>negotiable</td>\n",
              "      <td>False</td>\n",
              "      <td>5</td>\n",
              "      <td>apartment</td>\n",
              "      <td>28213</td>\n",
              "      <td>3.0</td>\n",
              "      <td>188.90</td>\n",
              "      <td>1.0</td>\n",
              "      <td>3.0</td>\n",
              "      <td>3</td>\n",
              "      <td>False</td>\n",
              "      <td>4</td>\n",
              "      <td>Bremen</td>\n",
              "      <td>Neu_Schwachhausen</td>\n",
              "      <td>Feb20</td>\n",
              "    </tr>\n",
              "    <tr>\n",
              "      <th>...</th>\n",
              "      <td>...</td>\n",
              "      <td>...</td>\n",
              "      <td>...</td>\n",
              "      <td>...</td>\n",
              "      <td>...</td>\n",
              "      <td>...</td>\n",
              "      <td>...</td>\n",
              "      <td>...</td>\n",
              "      <td>...</td>\n",
              "      <td>...</td>\n",
              "      <td>...</td>\n",
              "      <td>...</td>\n",
              "      <td>...</td>\n",
              "      <td>...</td>\n",
              "      <td>...</td>\n",
              "      <td>...</td>\n",
              "      <td>...</td>\n",
              "      <td>...</td>\n",
              "      <td>...</td>\n",
              "      <td>...</td>\n",
              "      <td>...</td>\n",
              "      <td>...</td>\n",
              "      <td>...</td>\n",
              "      <td>...</td>\n",
              "      <td>...</td>\n",
              "      <td>...</td>\n",
              "      <td>...</td>\n",
              "      <td>...</td>\n",
              "      <td>...</td>\n",
              "      <td>...</td>\n",
              "      <td>...</td>\n",
              "      <td>...</td>\n",
              "      <td>...</td>\n",
              "      <td>...</td>\n",
              "    </tr>\n",
              "    <tr>\n",
              "      <th>268845</th>\n",
              "      <td>Bayern</td>\n",
              "      <td>90.00</td>\n",
              "      <td>heat_pump</td>\n",
              "      <td>ONE_YEAR_FREE</td>\n",
              "      <td>False</td>\n",
              "      <td>True</td>\n",
              "      <td>0</td>\n",
              "      <td>2.74</td>\n",
              "      <td>10.0</td>\n",
              "      <td>910.00</td>\n",
              "      <td>2016.0</td>\n",
              "      <td>geothermal</td>\n",
              "      <td>False</td>\n",
              "      <td>True</td>\n",
              "      <td>9.0</td>\n",
              "      <td>820.0</td>\n",
              "      <td>90.00</td>\n",
              "      <td>mint_condition</td>\n",
              "      <td>sophisticated</td>\n",
              "      <td>no</td>\n",
              "      <td>False</td>\n",
              "      <td>6</td>\n",
              "      <td>roof_storey</td>\n",
              "      <td>82390</td>\n",
              "      <td>3.0</td>\n",
              "      <td>105.00</td>\n",
              "      <td>1.0</td>\n",
              "      <td>3.0</td>\n",
              "      <td>3</td>\n",
              "      <td>False</td>\n",
              "      <td>4</td>\n",
              "      <td>Weilheim_Schongau_Kreis</td>\n",
              "      <td>Eberfing</td>\n",
              "      <td>Feb20</td>\n",
              "    </tr>\n",
              "    <tr>\n",
              "      <th>268846</th>\n",
              "      <td>Hessen</td>\n",
              "      <td>220.00</td>\n",
              "      <td>gas_heating</td>\n",
              "      <td>NONE</td>\n",
              "      <td>False</td>\n",
              "      <td>True</td>\n",
              "      <td>12</td>\n",
              "      <td>6.49</td>\n",
              "      <td>0.0</td>\n",
              "      <td>1150.00</td>\n",
              "      <td>1983.0</td>\n",
              "      <td>gas</td>\n",
              "      <td>True</td>\n",
              "      <td>False</td>\n",
              "      <td>4.0</td>\n",
              "      <td>930.0</td>\n",
              "      <td>115.00</td>\n",
              "      <td>well_kept</td>\n",
              "      <td>sophisticated</td>\n",
              "      <td>negotiable</td>\n",
              "      <td>False</td>\n",
              "      <td>6</td>\n",
              "      <td>apartment</td>\n",
              "      <td>68519</td>\n",
              "      <td>3.5</td>\n",
              "      <td>105.00</td>\n",
              "      <td>1.0</td>\n",
              "      <td>1.0</td>\n",
              "      <td>3</td>\n",
              "      <td>False</td>\n",
              "      <td>5</td>\n",
              "      <td>Bergstraße_Kreis</td>\n",
              "      <td>Viernheim</td>\n",
              "      <td>May19</td>\n",
              "    </tr>\n",
              "    <tr>\n",
              "      <th>268847</th>\n",
              "      <td>Hessen</td>\n",
              "      <td>220.00</td>\n",
              "      <td>central_heating</td>\n",
              "      <td>ONE_YEAR_FREE</td>\n",
              "      <td>False</td>\n",
              "      <td>True</td>\n",
              "      <td>21</td>\n",
              "      <td>2.90</td>\n",
              "      <td>40.0</td>\n",
              "      <td>930.00</td>\n",
              "      <td>1965.0</td>\n",
              "      <td>gas</td>\n",
              "      <td>False</td>\n",
              "      <td>True</td>\n",
              "      <td>2.0</td>\n",
              "      <td>650.0</td>\n",
              "      <td>95.00</td>\n",
              "      <td>well_kept</td>\n",
              "      <td>normal</td>\n",
              "      <td>negotiable</td>\n",
              "      <td>False</td>\n",
              "      <td>5</td>\n",
              "      <td>apartment</td>\n",
              "      <td>65552</td>\n",
              "      <td>4.0</td>\n",
              "      <td>160.77</td>\n",
              "      <td>1.0</td>\n",
              "      <td>2.0</td>\n",
              "      <td>4</td>\n",
              "      <td>True</td>\n",
              "      <td>4</td>\n",
              "      <td>Limburg_Weilburg_Kreis</td>\n",
              "      <td>Limburg_an_der_Lahn</td>\n",
              "      <td>Feb20</td>\n",
              "    </tr>\n",
              "    <tr>\n",
              "      <th>268848</th>\n",
              "      <td>Nordrhein_Westfalen</td>\n",
              "      <td>175.00</td>\n",
              "      <td>heat_pump</td>\n",
              "      <td>NONE</td>\n",
              "      <td>True</td>\n",
              "      <td>True</td>\n",
              "      <td>16</td>\n",
              "      <td>4.39</td>\n",
              "      <td>0.0</td>\n",
              "      <td>1015.00</td>\n",
              "      <td>2019.0</td>\n",
              "      <td>gas</td>\n",
              "      <td>False</td>\n",
              "      <td>True</td>\n",
              "      <td>9.0</td>\n",
              "      <td>840.0</td>\n",
              "      <td>70.00</td>\n",
              "      <td>first_time_use</td>\n",
              "      <td>sophisticated</td>\n",
              "      <td>no</td>\n",
              "      <td>True</td>\n",
              "      <td>6</td>\n",
              "      <td>apartment</td>\n",
              "      <td>51069</td>\n",
              "      <td>2.0</td>\n",
              "      <td>24.70</td>\n",
              "      <td>1.0</td>\n",
              "      <td>5.0</td>\n",
              "      <td>2</td>\n",
              "      <td>False</td>\n",
              "      <td>3</td>\n",
              "      <td>Köln</td>\n",
              "      <td>Dellbrück</td>\n",
              "      <td>May19</td>\n",
              "    </tr>\n",
              "    <tr>\n",
              "      <th>268849</th>\n",
              "      <td>Hessen</td>\n",
              "      <td>315.00</td>\n",
              "      <td>central_heating</td>\n",
              "      <td>NONE</td>\n",
              "      <td>False</td>\n",
              "      <td>True</td>\n",
              "      <td>9</td>\n",
              "      <td>5.00</td>\n",
              "      <td>0.0</td>\n",
              "      <td>1250.00</td>\n",
              "      <td>1972.0</td>\n",
              "      <td>district_heating</td>\n",
              "      <td>True</td>\n",
              "      <td>True</td>\n",
              "      <td>3.0</td>\n",
              "      <td>935.0</td>\n",
              "      <td>77.00</td>\n",
              "      <td>modernized</td>\n",
              "      <td>normal</td>\n",
              "      <td>negotiable</td>\n",
              "      <td>True</td>\n",
              "      <td>6</td>\n",
              "      <td>apartment</td>\n",
              "      <td>65936</td>\n",
              "      <td>3.0</td>\n",
              "      <td>105.00</td>\n",
              "      <td>1.0</td>\n",
              "      <td>13.0</td>\n",
              "      <td>3</td>\n",
              "      <td>False</td>\n",
              "      <td>3</td>\n",
              "      <td>Frankfurt_am_Main</td>\n",
              "      <td>Sossenheim</td>\n",
              "      <td>Feb20</td>\n",
              "    </tr>\n",
              "  </tbody>\n",
              "</table>\n",
              "<p>254442 rows × 34 columns</p>\n",
              "</div>\n",
              "      <button class=\"colab-df-convert\" onclick=\"convertToInteractive('df-e5fa0eda-5706-4cc8-9826-066a9636e3a5')\"\n",
              "              title=\"Convert this dataframe to an interactive table.\"\n",
              "              style=\"display:none;\">\n",
              "        \n",
              "  <svg xmlns=\"http://www.w3.org/2000/svg\" height=\"24px\"viewBox=\"0 0 24 24\"\n",
              "       width=\"24px\">\n",
              "    <path d=\"M0 0h24v24H0V0z\" fill=\"none\"/>\n",
              "    <path d=\"M18.56 5.44l.94 2.06.94-2.06 2.06-.94-2.06-.94-.94-2.06-.94 2.06-2.06.94zm-11 1L8.5 8.5l.94-2.06 2.06-.94-2.06-.94L8.5 2.5l-.94 2.06-2.06.94zm10 10l.94 2.06.94-2.06 2.06-.94-2.06-.94-.94-2.06-.94 2.06-2.06.94z\"/><path d=\"M17.41 7.96l-1.37-1.37c-.4-.4-.92-.59-1.43-.59-.52 0-1.04.2-1.43.59L10.3 9.45l-7.72 7.72c-.78.78-.78 2.05 0 2.83L4 21.41c.39.39.9.59 1.41.59.51 0 1.02-.2 1.41-.59l7.78-7.78 2.81-2.81c.8-.78.8-2.07 0-2.86zM5.41 20L4 18.59l7.72-7.72 1.47 1.35L5.41 20z\"/>\n",
              "  </svg>\n",
              "      </button>\n",
              "      \n",
              "  <style>\n",
              "    .colab-df-container {\n",
              "      display:flex;\n",
              "      flex-wrap:wrap;\n",
              "      gap: 12px;\n",
              "    }\n",
              "\n",
              "    .colab-df-convert {\n",
              "      background-color: #E8F0FE;\n",
              "      border: none;\n",
              "      border-radius: 50%;\n",
              "      cursor: pointer;\n",
              "      display: none;\n",
              "      fill: #1967D2;\n",
              "      height: 32px;\n",
              "      padding: 0 0 0 0;\n",
              "      width: 32px;\n",
              "    }\n",
              "\n",
              "    .colab-df-convert:hover {\n",
              "      background-color: #E2EBFA;\n",
              "      box-shadow: 0px 1px 2px rgba(60, 64, 67, 0.3), 0px 1px 3px 1px rgba(60, 64, 67, 0.15);\n",
              "      fill: #174EA6;\n",
              "    }\n",
              "\n",
              "    [theme=dark] .colab-df-convert {\n",
              "      background-color: #3B4455;\n",
              "      fill: #D2E3FC;\n",
              "    }\n",
              "\n",
              "    [theme=dark] .colab-df-convert:hover {\n",
              "      background-color: #434B5C;\n",
              "      box-shadow: 0px 1px 3px 1px rgba(0, 0, 0, 0.15);\n",
              "      filter: drop-shadow(0px 1px 2px rgba(0, 0, 0, 0.3));\n",
              "      fill: #FFFFFF;\n",
              "    }\n",
              "  </style>\n",
              "\n",
              "      <script>\n",
              "        const buttonEl =\n",
              "          document.querySelector('#df-e5fa0eda-5706-4cc8-9826-066a9636e3a5 button.colab-df-convert');\n",
              "        buttonEl.style.display =\n",
              "          google.colab.kernel.accessAllowed ? 'block' : 'none';\n",
              "\n",
              "        async function convertToInteractive(key) {\n",
              "          const element = document.querySelector('#df-e5fa0eda-5706-4cc8-9826-066a9636e3a5');\n",
              "          const dataTable =\n",
              "            await google.colab.kernel.invokeFunction('convertToInteractive',\n",
              "                                                     [key], {});\n",
              "          if (!dataTable) return;\n",
              "\n",
              "          const docLinkHtml = 'Like what you see? Visit the ' +\n",
              "            '<a target=\"_blank\" href=https://colab.research.google.com/notebooks/data_table.ipynb>data table notebook</a>'\n",
              "            + ' to learn more about interactive tables.';\n",
              "          element.innerHTML = '';\n",
              "          dataTable['output_type'] = 'display_data';\n",
              "          await google.colab.output.renderOutput(dataTable, element);\n",
              "          const docLink = document.createElement('div');\n",
              "          docLink.innerHTML = docLinkHtml;\n",
              "          element.appendChild(docLink);\n",
              "        }\n",
              "      </script>\n",
              "    </div>\n",
              "  </div>\n",
              "  "
            ]
          },
          "metadata": {},
          "execution_count": 138
        }
      ]
    },
    {
      "cell_type": "code",
      "source": [
        "data = pd.get_dummies(data, columns=[\"heatingType\"]).head()"
      ],
      "metadata": {
        "id": "o1eyUTwuGUxX"
      },
      "execution_count": null,
      "outputs": []
    },
    {
      "cell_type": "code",
      "source": [
        "heatingType_central_heating\theatingType_combined_heat_and_power_plant\theatingType_district_heating\theatingType_electric_heating\theatingType_floor_heating\theatingType_gas_heating\theatingType_heat_pump\theatingType_night_storage_heater\theatingType_oil_heating\theatingType_self_contained_central_heating\theatingType_solar_heating\theatingType_stove_heating\theatingType_wood_pellet_heating"
      ],
      "metadata": {
        "id": "5HAgs5blGd-e"
      },
      "execution_count": null,
      "outputs": []
    },
    {
      "cell_type": "code",
      "source": [
        "# df = data2[['serviceCharge', 'telekomUploadSpeed']]\n",
        "#, 'heatingType_central_heating',\t'heatingType_combined_heat_and_power_plant',\t'heatingType_district_heating',\t'heatingType_electric_heating',\t'heatingType_floor_heating',\t'heatingType_gas_heating',\t'heatingType_heat_pump',\t'heatingType_night_storage_heater',\t'heatingType_oil_heating',\t'heatingType_self_contained_central_heating',\t'heatingType_solar_heating',\t'heatingType_stove_heating',\t'heatingType_wood_pellet_heating'"
      ],
      "metadata": {
        "id": "FdI-07uASK2u"
      },
      "execution_count": null,
      "outputs": []
    },
    {
      "cell_type": "code",
      "source": [
        "data2= data.reset_index(drop=True)"
      ],
      "metadata": {
        "id": "HAVS993WmP0u"
      },
      "execution_count": null,
      "outputs": []
    },
    {
      "cell_type": "code",
      "source": [
        "df = data2[['serviceCharge', 'telekomUploadSpeed']]"
      ],
      "metadata": {
        "id": "jtHIxvwgnUwl"
      },
      "execution_count": null,
      "outputs": []
    },
    {
      "cell_type": "code",
      "source": [
        "y=data2.totalRent"
      ],
      "metadata": {
        "id": "ODRbfF6GnFwr"
      },
      "execution_count": null,
      "outputs": []
    },
    {
      "cell_type": "code",
      "source": [
        "y=np.asarray(y)"
      ],
      "metadata": {
        "id": "-_1IEJjUuPB-"
      },
      "execution_count": null,
      "outputs": []
    },
    {
      "cell_type": "code",
      "source": [
        "from sklearn.model_selection import train_test_split\n",
        "X_train, X_test, Y_train, Y_test = train_test_split(df, y, test_size = 0.33, random_state = 5)"
      ],
      "metadata": {
        "id": "RLRQ4tIPUCHd"
      },
      "execution_count": null,
      "outputs": []
    },
    {
      "cell_type": "code",
      "source": [
        "X_train_standardized = (X_train - X_train .mean()) / X_train.std()\n",
        "X_test_standardized  = (X_test - X_train.mean()) /  X_train.std()"
      ],
      "metadata": {
        "id": "54SYmm_oUMlR"
      },
      "execution_count": null,
      "outputs": []
    },
    {
      "cell_type": "code",
      "source": [
        "def error_function(y_actual,y_predicted):\n",
        "    error = 0\n",
        "    for i in range(0,len(y_actual)):\n",
        "        error =  error + pow((y_actual[i] - y_predicted[i]),2)\n",
        "        return error/(2*len(y_actual))\n",
        "\n",
        "def y_predicted(w,x):\n",
        "    y_pred = np.zeros(len(x))\n",
        "    for i in range(0,len(x)):\n",
        "        for j in range(0,len(w)):\n",
        "            y_pred[i] = y_pred[i]+(w[j]*x[i][j] + w[-1])\n",
        "    return y_pred\n",
        "\n",
        "def gradient_descent(y_actual,y_pred,x):\n",
        "    grad = np.zeros(x.shape[1])\n",
        "    for i in range(x.shape[1]):\n",
        "        for j in range(0,len(y_actual)):\n",
        "            grad[i] = - (y_actual[j] - y_pred[j])*x[j][i] + grad[i]\n",
        "    return grad/len(y_actual)\n",
        "\n",
        "\n",
        "def weights(x_train,y_train,num_iterations,learning_rate):\n",
        "    no_of_rows = x_train.shape[0]\n",
        "    no_of_columns = x_train.shape[1]\n",
        "    new_x_train = np.ones((no_of_rows,no_of_columns+1))\n",
        "    new_x_train[:,0:no_of_columns] = x_train\n",
        "    w = np.zeros(no_of_columns)\n",
        "    w =np.append(w,1)\n",
        "    for i in range(0,num_iterations):\n",
        "        y_pred = y_predicted(w,new_x_train)\n",
        "        error = error_function(y_train,y_pred)\n",
        "        print(\"mean square error: \",error,\"after\",i,\"th iteration\")\n",
        "        MSE_points.append(error)\n",
        "        grad = gradient_descent(y_train,y_pred,new_x_train)\n",
        "        w = w - learning_rate*grad\n",
        "        learning_rate = learning_rate/1.05                                # Learning rate Decay \n",
        "    return w\n",
        "\n",
        "def regression_test(x_test,w):\n",
        "    row = x_test.shape[0]\n",
        "    column = x_test.shape[1]\n",
        "    new_x_test = np.ones((row,column+1))\n",
        "    new_x_test[:,0:column] = x_test\n",
        "    y_pred = y_predicted(w,new_x_test)\n",
        "    return(y_pred)"
      ],
      "metadata": {
        "id": "Wj3UIBvLRzjc"
      },
      "execution_count": null,
      "outputs": []
    },
    {
      "cell_type": "code",
      "source": [
        "MSE_points = []\n",
        "num_iterations = 300\n",
        "learning_rate = 0.1\n",
        "w = weights(X_train_standardized,Y_train, num_iterations, learning_rate)\n",
        "Y_pred = regression_test(X_test_standardized,w)\n",
        "error_function(Y_test,Y_pred)"
      ],
      "metadata": {
        "colab": {
          "base_uri": "https://localhost:8080/"
        },
        "id": "FnmwvkK-Rzy8",
        "outputId": "d95aaa5f-7b08-4936-8c9c-6fb09917f7de"
      },
      "execution_count": null,
      "outputs": [
        {
          "output_type": "stream",
          "name": "stdout",
          "text": [
            "mean square error:  0.5347644243177926 after 0 th iteration\n",
            "mean square error:  0.06601618282490225 after 1 th iteration\n",
            "mean square error:  1.1324975251179627e-06 after 2 th iteration\n",
            "mean square error:  0.020300677848953688 after 3 th iteration\n",
            "mean square error:  0.04817717427157663 after 4 th iteration\n",
            "mean square error:  0.06770865327565047 after 5 th iteration\n",
            "mean square error:  0.07849445608876271 after 6 th iteration\n",
            "mean square error:  0.08303845948009791 after 7 th iteration\n",
            "mean square error:  0.0836754598590317 after 8 th iteration\n",
            "mean square error:  0.08205478934365372 after 9 th iteration\n",
            "mean square error:  0.07923323048214538 after 10 th iteration\n",
            "mean square error:  0.07585538580734492 after 11 th iteration\n",
            "mean square error:  0.07230103344162435 after 12 th iteration\n",
            "mean square error:  0.06878599257445311 after 13 th iteration\n",
            "mean square error:  0.0654266779567156 after 14 th iteration\n",
            "mean square error:  0.06228018179738396 after 15 th iteration\n",
            "mean square error:  0.059368792676059115 after 16 th iteration\n",
            "mean square error:  0.056694869595790155 after 17 th iteration\n",
            "mean square error:  0.05424980732275661 after 18 th iteration\n",
            "mean square error:  0.052019399233747106 after 19 th iteration\n",
            "mean square error:  0.04998700795991716 after 20 th iteration\n",
            "mean square error:  0.04813540378916508 after 21 th iteration\n",
            "mean square error:  0.046447795394464315 after 22 th iteration\n",
            "mean square error:  0.044908373385315815 after 23 th iteration\n",
            "mean square error:  0.04350256281475195 after 24 th iteration\n",
            "mean square error:  0.04221710474456201 after 25 th iteration\n",
            "mean square error:  0.041040040321605256 after 26 th iteration\n",
            "mean square error:  0.03996064209828487 after 27 th iteration\n",
            "mean square error:  0.03896931960468174 after 28 th iteration\n",
            "mean square error:  0.03805751522819715 after 29 th iteration\n",
            "mean square error:  0.03721759969712636 after 30 th iteration\n",
            "mean square error:  0.036442772309158544 after 31 th iteration\n",
            "mean square error:  0.035726968511917936 after 32 th iteration\n",
            "mean square error:  0.03506477591951823 after 33 th iteration\n",
            "mean square error:  0.03445135895525226 after 34 th iteration\n",
            "mean square error:  0.033882391806964944 after 35 th iteration\n",
            "mean square error:  0.0333539991182458 after 36 th iteration\n",
            "mean square error:  0.032862703720980296 after 37 th iteration\n",
            "mean square error:  0.032405380683815876 after 38 th iteration\n",
            "mean square error:  0.031979216969694295 after 39 th iteration\n",
            "mean square error:  0.031581676040818865 after 40 th iteration\n",
            "mean square error:  0.031210466807182945 after 41 th iteration\n",
            "mean square error:  0.030863516376635803 after 42 th iteration\n",
            "mean square error:  0.030538946125496857 after 43 th iteration\n",
            "mean square error:  0.030235050666257535 after 44 th iteration\n",
            "mean square error:  0.029950279341606358 after 45 th iteration\n",
            "mean square error:  0.029683219921381856 after 46 th iteration\n",
            "mean square error:  0.029432584221097666 after 47 th iteration\n",
            "mean square error:  0.029197195397649724 after 48 th iteration\n",
            "mean square error:  0.028975976710127468 after 49 th iteration\n",
            "mean square error:  0.0287679415617558 after 50 th iteration\n",
            "mean square error:  0.028572184663371306 after 51 th iteration\n",
            "mean square error:  0.028387874179937576 after 52 th iteration\n",
            "mean square error:  0.028214244739836084 after 53 th iteration\n",
            "mean square error:  0.028050591202425517 after 54 th iteration\n",
            "mean square error:  0.027896263092959582 after 55 th iteration\n",
            "mean square error:  0.027750659625701293 after 56 th iteration\n",
            "mean square error:  0.027613225246218714 after 57 th iteration\n",
            "mean square error:  0.02748344563262004 after 58 th iteration\n",
            "mean square error:  0.02736084410307312 after 59 th iteration\n",
            "mean square error:  0.027244978383526793 after 60 th iteration\n",
            "mean square error:  0.027135437695248683 after 61 th iteration\n",
            "mean square error:  0.02703184012673395 after 62 th iteration\n",
            "mean square error:  0.026933830258838384 after 63 th iteration\n",
            "mean square error:  0.026841077015721002 after 64 th iteration\n",
            "mean square error:  0.026753271717437896 after 65 th iteration\n",
            "mean square error:  0.02667012631286638 after 66 th iteration\n",
            "mean square error:  0.02659137177411533 after 67 th iteration\n",
            "mean square error:  0.026516756635748602 after 68 th iteration\n",
            "mean square error:  0.026446045664041056 after 69 th iteration\n",
            "mean square error:  0.02637901864315516 after 70 th iteration\n",
            "mean square error:  0.026315469266585578 after 71 th iteration\n",
            "mean square error:  0.026255204123502178 after 72 th iteration\n",
            "mean square error:  0.026198041770755413 after 73 th iteration\n",
            "mean square error:  0.02614381188230314 after 74 th iteration\n",
            "mean square error:  0.026092354468697992 after 75 th iteration\n",
            "mean square error:  0.026043519160052677 after 76 th iteration\n",
            "mean square error:  0.02599716454658787 after 77 th iteration\n",
            "mean square error:  0.02595315757147868 after 78 th iteration\n",
            "mean square error:  0.02591137297125447 after 79 th iteration\n",
            "mean square error:  0.025871692759488828 after 80 th iteration\n",
            "mean square error:  0.02583400574994411 after 81 th iteration\n",
            "mean square error:  0.025798207115713775 after 82 th iteration\n",
            "mean square error:  0.025764197981246562 after 83 th iteration\n",
            "mean square error:  0.025731885044438556 after 84 th iteration\n",
            "mean square error:  0.02570118022624957 after 85 th iteration\n",
            "mean square error:  0.02567200034554286 after 86 th iteration\n",
            "mean square error:  0.02564426681706286 after 87 th iteration\n",
            "mean square error:  0.025617905370660575 after 88 th iteration\n",
            "mean square error:  0.025592845790050868 after 89 th iteration\n",
            "mean square error:  0.025569021669541038 after 90 th iteration\n",
            "mean square error:  0.02554637018731259 after 91 th iteration\n",
            "mean square error:  0.025524831893964296 after 92 th iteration\n",
            "mean square error:  0.025504350515138018 after 93 th iteration\n",
            "mean square error:  0.02548487276715362 after 94 th iteration\n",
            "mean square error:  0.025466348184670536 after 95 th iteration\n",
            "mean square error:  0.025448728959478736 after 96 th iteration\n",
            "mean square error:  0.025431969789598434 after 97 th iteration\n",
            "mean square error:  0.025416027737935238 after 98 th iteration\n",
            "mean square error:  0.025400862099801053 after 99 th iteration\n",
            "mean square error:  0.025386434278668338 after 100 th iteration\n",
            "mean square error:  0.025372707669574803 after 101 th iteration\n",
            "mean square error:  0.02535964754964507 after 102 th iteration\n",
            "mean square error:  0.025347220975235563 after 103 th iteration\n",
            "mean square error:  0.025335396685250772 after 104 th iteration\n",
            "mean square error:  0.02532414501021126 after 105 th iteration\n",
            "mean square error:  0.02531343778668954 after 106 th iteration\n",
            "mean square error:  0.025303248276754765 after 107 th iteration\n",
            "mean square error:  0.02529355109210044 after 108 th iteration\n",
            "mean square error:  0.025284322122546544 after 109 th iteration\n",
            "mean square error:  0.02527553846863742 after 110 th iteration\n",
            "mean square error:  0.025267178378071586 after 111 th iteration\n",
            "mean square error:  0.02525922118572159 after 112 th iteration\n",
            "mean square error:  0.025251647257019665 after 113 th iteration\n",
            "mean square error:  0.02524443793449889 after 114 th iteration\n",
            "mean square error:  0.02523757548729584 after 115 th iteration\n",
            "mean square error:  0.025231043063434492 after 116 th iteration\n",
            "mean square error:  0.02522482464472217 after 117 th iteration\n",
            "mean square error:  0.025218905004101292 after 118 th iteration\n",
            "mean square error:  0.025213269665309655 after 119 th iteration\n",
            "mean square error:  0.025207904864714765 after 120 th iteration\n",
            "mean square error:  0.02520279751519212 after 121 th iteration\n",
            "mean square error:  0.02519793517193069 after 122 th iteration\n",
            "mean square error:  0.025193306000052988 after 123 th iteration\n",
            "mean square error:  0.025188898743946416 after 124 th iteration\n",
            "mean square error:  0.025184702698206964 after 125 th iteration\n",
            "mean square error:  0.0251807076801064 after 126 th iteration\n",
            "mean square error:  0.02517690400349481 after 127 th iteration\n",
            "mean square error:  0.025173282454059767 after 128 th iteration\n",
            "mean square error:  0.025169834265866546 after 129 th iteration\n",
            "mean square error:  0.02516655109910837 after 130 th iteration\n",
            "mean square error:  0.025163425019000422 after 131 th iteration\n",
            "mean square error:  0.025160448475755697 after 132 th iteration\n",
            "mean square error:  0.025157614285582965 after 133 th iteration\n",
            "mean square error:  0.025154915612652696 after 134 th iteration\n",
            "mean square error:  0.02515234595197821 after 135 th iteration\n",
            "mean square error:  0.025149899113163815 after 136 th iteration\n",
            "mean square error:  0.025147569204973044 after 137 th iteration\n",
            "mean square error:  0.02514535062067392 after 138 th iteration\n",
            "mean square error:  0.025143238024121137 after 139 th iteration\n",
            "mean square error:  0.02514122633653434 after 140 th iteration\n",
            "mean square error:  0.025139310723938716 after 141 th iteration\n",
            "mean square error:  0.02513748658523098 after 142 th iteration\n",
            "mean square error:  0.02513574954084054 after 143 th iteration\n",
            "mean square error:  0.025134095421953145 after 144 th iteration\n",
            "mean square error:  0.025132520260269183 after 145 th iteration\n",
            "mean square error:  0.025131020278268967 after 146 th iteration\n",
            "mean square error:  0.02512959187995885 after 147 th iteration\n",
            "mean square error:  0.02512823164207408 after 148 th iteration\n",
            "mean square error:  0.025126936305714446 after 149 th iteration\n",
            "mean square error:  0.025125702768391357 after 150 th iteration\n",
            "mean square error:  0.025124528076465497 after 151 th iteration\n",
            "mean square error:  0.025123409417955152 after 152 th iteration\n",
            "mean square error:  0.02512234411569688 after 153 th iteration\n",
            "mean square error:  0.025121329620840065 after 154 th iteration\n",
            "mean square error:  0.025120363506659808 after 155 th iteration\n",
            "mean square error:  0.025119443462671497 after 156 th iteration\n",
            "mean square error:  0.025118567289031626 after 157 th iteration\n",
            "mean square error:  0.025117732891212042 after 158 th iteration\n",
            "mean square error:  0.025116938274932592 after 159 th iteration\n",
            "mean square error:  0.025116181541339808 after 160 th iteration\n",
            "mean square error:  0.025115460882420237 after 161 th iteration\n",
            "mean square error:  0.025114774576635402 after 162 th iteration\n",
            "mean square error:  0.02511412098476899 after 163 th iteration\n",
            "mean square error:  0.025113498545974503 after 164 th iteration\n",
            "mean square error:  0.02511290577401441 after 165 th iteration\n",
            "mean square error:  0.02511234125368098 after 166 th iteration\n",
            "mean square error:  0.025111803637390028 after 167 th iteration\n",
            "mean square error:  0.02511129164193921 after 168 th iteration\n",
            "mean square error:  0.025110804045422222 after 169 th iteration\n",
            "mean square error:  0.025110339684292566 after 170 th iteration\n",
            "mean square error:  0.02510989745056818 after 171 th iteration\n",
            "mean square error:  0.02510947628917069 after 172 th iteration\n",
            "mean square error:  0.025109075195393248 after 173 th iteration\n",
            "mean square error:  0.025108693212489562 after 174 th iteration\n",
            "mean square error:  0.025108329429379215 after 175 th iteration\n",
            "mean square error:  0.02510798297846318 after 176 th iteration\n",
            "mean square error:  0.025107653033544362 after 177 th iteration\n",
            "mean square error:  0.0251073388078478 after 178 th iteration\n",
            "mean square error:  0.02510703955213614 after 179 th iteration\n",
            "mean square error:  0.025106754552915302 after 180 th iteration\n",
            "mean square error:  0.025106483130726453 after 181 th iteration\n",
            "mean square error:  0.025106224638519754 after 182 th iteration\n",
            "mean square error:  0.025105978460106163 after 183 th iteration\n",
            "mean square error:  0.02510574400868292 after 184 th iteration\n",
            "mean square error:  0.02510552072543051 after 185 th iteration\n",
            "mean square error:  0.025105308078176524 after 186 th iteration\n",
            "mean square error:  0.02510510556012273 after 187 th iteration\n",
            "mean square error:  0.025104912688634268 after 188 th iteration\n",
            "mean square error:  0.02510472900408598 after 189 th iteration\n",
            "mean square error:  0.025104554068764343 after 190 th iteration\n",
            "mean square error:  0.025104387465821623 after 191 th iteration\n",
            "mean square error:  0.025104228798280132 after 192 th iteration\n",
            "mean square error:  0.02510407768808456 after 193 th iteration\n",
            "mean square error:  0.025103933775198522 after 194 th iteration\n",
            "mean square error:  0.025103796716745615 after 195 th iteration\n",
            "mean square error:  0.025103666186190504 after 196 th iteration\n",
            "mean square error:  0.025103541872559528 after 197 th iteration\n",
            "mean square error:  0.0251034234796987 after 198 th iteration\n",
            "mean square error:  0.025103310725566815 after 199 th iteration\n",
            "mean square error:  0.02510320334156244 after 200 th iteration\n",
            "mean square error:  0.02510310107188299 after 201 th iteration\n",
            "mean square error:  0.025103003672914837 after 202 th iteration\n",
            "mean square error:  0.025102910912651693 after 203 th iteration\n",
            "mean square error:  0.02510282257014168 after 204 th iteration\n",
            "mean square error:  0.025102738434959963 after 205 th iteration\n",
            "mean square error:  0.025102658306707146 after 206 th iteration\n",
            "mean square error:  0.02510258199453142 after 207 th iteration\n",
            "mean square error:  0.0251025093166734 after 208 th iteration\n",
            "mean square error:  0.02510244010003267 after 209 th iteration\n",
            "mean square error:  0.02510237417975523 after 210 th iteration\n",
            "mean square error:  0.02510231139884045 after 211 th iteration\n",
            "mean square error:  0.02510225160776688 after 212 th iteration\n",
            "mean square error:  0.025102194664135616 after 213 th iteration\n",
            "mean square error:  0.025102140432331103 after 214 th iteration\n",
            "mean square error:  0.02510208878319782 after 215 th iteration\n",
            "mean square error:  0.025102039593732316 after 216 th iteration\n",
            "mean square error:  0.02510199274679039 after 217 th iteration\n",
            "mean square error:  0.02510194813080769 after 218 th iteration\n",
            "mean square error:  0.025101905639533916 after 219 th iteration\n",
            "mean square error:  0.02510186517177956 after 220 th iteration\n",
            "mean square error:  0.025101826631174814 after 221 th iteration\n",
            "mean square error:  0.025101789925940223 after 222 th iteration\n",
            "mean square error:  0.025101754968667487 after 223 th iteration\n",
            "mean square error:  0.02510172167611173 after 224 th iteration\n",
            "mean square error:  0.02510168996899273 after 225 th iteration\n",
            "mean square error:  0.025101659771806402 after 226 th iteration\n",
            "mean square error:  0.025101631012644655 after 227 th iteration\n",
            "mean square error:  0.02510160362302423 after 228 th iteration\n",
            "mean square error:  0.025101577537723633 after 229 th iteration\n",
            "mean square error:  0.025101552694627428 after 230 th iteration\n",
            "mean square error:  0.025101529034578688 after 231 th iteration\n",
            "mean square error:  0.02510150650123782 after 232 th iteration\n",
            "mean square error:  0.02510148504094849 after 233 th iteration\n",
            "mean square error:  0.025101464602609647 after 234 th iteration\n",
            "mean square error:  0.02510144513755414 after 235 th iteration\n",
            "mean square error:  0.02510142659943226 after 236 th iteration\n",
            "mean square error:  0.025101408944102066 after 237 th iteration\n",
            "mean square error:  0.025101392129523503 after 238 th iteration\n",
            "mean square error:  0.025101376115658793 after 239 th iteration\n",
            "mean square error:  0.02510136086437683 after 240 th iteration\n",
            "mean square error:  0.025101346339362597 after 241 th iteration\n",
            "mean square error:  0.025101332506030385 after 242 th iteration\n",
            "mean square error:  0.02510131933144158 after 243 th iteration\n",
            "mean square error:  0.02510130678422615 after 244 th iteration\n",
            "mean square error:  0.025101294834508077 after 245 th iteration\n",
            "mean square error:  0.02510128345383419 after 246 th iteration\n",
            "mean square error:  0.025101272615106092 after 247 th iteration\n",
            "mean square error:  0.025101262292516132 after 248 th iteration\n",
            "mean square error:  0.02510125246148543 after 249 th iteration\n",
            "mean square error:  0.025101243098605803 after 250 th iteration\n",
            "mean square error:  0.025101234181583637 after 251 th iteration\n",
            "mean square error:  0.02510122568918712 after 252 th iteration\n",
            "mean square error:  0.02510121760119541 after 253 th iteration\n",
            "mean square error:  0.02510120989835076 after 254 th iteration\n",
            "mean square error:  0.02510120256231231 after 255 th iteration\n",
            "mean square error:  0.025101195575612748 after 256 th iteration\n",
            "mean square error:  0.0251011889216166 after 257 th iteration\n",
            "mean square error:  0.025101182584480485 after 258 th iteration\n",
            "mean square error:  0.025101176549115554 after 259 th iteration\n",
            "mean square error:  0.025101170801151464 after 260 th iteration\n",
            "mean square error:  0.025101165326902236 after 261 th iteration\n",
            "mean square error:  0.025101160113333635 after 262 th iteration\n",
            "mean square error:  0.02510115514803215 after 263 th iteration\n",
            "mean square error:  0.025101150419175225 after 264 th iteration\n",
            "mean square error:  0.025101145915503522 after 265 th iteration\n",
            "mean square error:  0.025101141626293833 after 266 th iteration\n",
            "mean square error:  0.025101137541333515 after 267 th iteration\n",
            "mean square error:  0.025101133650896213 after 268 th iteration\n",
            "mean square error:  0.025101129945718965 after 269 th iteration\n",
            "mean square error:  0.0251011264169796 after 270 th iteration\n",
            "mean square error:  0.025101123056276337 after 271 th iteration\n",
            "mean square error:  0.02510111985560736 after 272 th iteration\n",
            "mean square error:  0.025101116807351873 after 273 th iteration\n",
            "mean square error:  0.025101113904252095 after 274 th iteration\n",
            "mean square error:  0.025101111139395657 after 275 th iteration\n",
            "mean square error:  0.025101108506199656 after 276 th iteration\n",
            "mean square error:  0.025101105998394397 after 277 th iteration\n",
            "mean square error:  0.025101103610008904 after 278 th iteration\n",
            "mean square error:  0.02510110133535644 after 279 th iteration\n",
            "mean square error:  0.02510109916902109 after 280 th iteration\n",
            "mean square error:  0.025101097105844884 after 281 th iteration\n",
            "mean square error:  0.02510109514091553 after 282 th iteration\n",
            "mean square error:  0.025101093269554477 after 283 th iteration\n",
            "mean square error:  0.025101091487306087 after 284 th iteration\n",
            "mean square error:  0.025101089789926936 after 285 th iteration\n",
            "mean square error:  0.02510108817337554 after 286 th iteration\n",
            "mean square error:  0.025101086633802946 after 287 th iteration\n",
            "mean square error:  0.025101085167543512 after 288 th iteration\n",
            "mean square error:  0.02510108377110605 after 289 th iteration\n",
            "mean square error:  0.025101082441165823 after 290 th iteration\n",
            "mean square error:  0.025101081174556155 after 291 th iteration\n",
            "mean square error:  0.025101079968261348 after 292 th iteration\n",
            "mean square error:  0.025101078819409248 after 293 th iteration\n",
            "mean square error:  0.025101077725264546 after 294 th iteration\n",
            "mean square error:  0.025101076683222038 after 295 th iteration\n",
            "mean square error:  0.025101075690800594 after 296 th iteration\n",
            "mean square error:  0.02510107474563748 after 297 th iteration\n",
            "mean square error:  0.025101073845482158 after 298 th iteration\n",
            "mean square error:  0.02510107298819141 after 299 th iteration\n"
          ]
        },
        {
          "output_type": "execute_result",
          "data": {
            "text/plain": [
              "0.0014942218948195318"
            ]
          },
          "metadata": {},
          "execution_count": 281
        }
      ]
    },
    {
      "cell_type": "markdown",
      "source": [
        "**Task2**"
      ],
      "metadata": {
        "id": "teyk1QgtgZVl"
      }
    },
    {
      "cell_type": "code",
      "source": [
        "from sklearn.linear_model import LinearRegression\n",
        "import matplotlib.pyplot as plt\n",
        "\n",
        "lm = LinearRegression()\n",
        "lm.fit(X_train, Y_train)\n",
        "\n",
        "\n",
        "y_pred_from_sklearn = lm.predict(X_test)\n",
        "\n",
        "plt.scatter(Y_test, y_pred_from_sklearn)\n",
        "plt.xlabel(\"real\")\n",
        "plt.ylabel(\"Predicted \")\n",
        "plt.show()"
      ],
      "metadata": {
        "colab": {
          "base_uri": "https://localhost:8080/",
          "height": 279
        },
        "id": "MwigSCvmga1L",
        "outputId": "1837af45-7301-4cfd-c359-d1b074751fcc"
      },
      "execution_count": null,
      "outputs": [
        {
          "output_type": "display_data",
          "data": {
            "text/plain": [
              "<Figure size 432x288 with 1 Axes>"
            ],
            "image/png": "[encoded data removed]"
          },
          "metadata": {
            "needs_background": "light"
          }
        }
      ]
    },
    {
      "cell_type": "code",
      "source": [
        "from sklearn.metrics import mean_squared_error\n",
        "\n",
        "a = mean_squared_error(Y_test, Y_pred)\n",
        "b = mean_squared_error(Y_test, y_pred_from_sklearn)\n",
        "\n",
        "print(f\"MSE from  implemented model:{a}\")\n",
        "print(f\"MSE from sklearn model:{b}\")"
      ],
      "metadata": {
        "colab": {
          "base_uri": "https://localhost:8080/"
        },
        "id": "zToBU4AD1p2y",
        "outputId": "f9c11633-5894-4986-95a1-874dbd293f8c"
      },
      "execution_count": null,
      "outputs": [
        {
          "output_type": "stream",
          "name": "stdout",
          "text": [
            "MSE from  implemented model:97423.86273068888\n",
            "MSE from sklearn model:96448.07043260714\n"
          ]
        }
      ]
    },
    {
      "cell_type": "markdown",
      "source": [
        "**Task3**"
      ],
      "metadata": {
        "id": "Km7km-gHgvSb"
      }
    },
    {
      "cell_type": "code",
      "source": [
        "df = data2[['serviceCharge', 'telekomUploadSpeed', 'picturecount', 'pricetrend','totalRent', 'yearConstructed']]"
      ],
      "metadata": {
        "id": "HEcsA7RM0cGc"
      },
      "execution_count": null,
      "outputs": []
    },
    {
      "cell_type": "code",
      "source": [
        "y=data2.totalRent"
      ],
      "metadata": {
        "id": "0lC_BY--0cGd"
      },
      "execution_count": null,
      "outputs": []
    },
    {
      "cell_type": "code",
      "source": [
        "y=np.asarray(y)"
      ],
      "metadata": {
        "id": "rT7gJyFt0cGe"
      },
      "execution_count": null,
      "outputs": []
    },
    {
      "cell_type": "code",
      "source": [
        "from sklearn.model_selection import train_test_split\n",
        "X_train, X_test, Y_train, Y_test = train_test_split(df, y, test_size = 0.33, random_state = 5)"
      ],
      "metadata": {
        "id": "YAcWRkty0cGf"
      },
      "execution_count": null,
      "outputs": []
    },
    {
      "cell_type": "code",
      "source": [
        "from sklearn import model_selection\n",
        "from sklearn.linear_model import LinearRegression\n",
        "from sklearn.linear_model import Ridge\n",
        "from sklearn.linear_model import Lasso\n",
        "from sklearn.metrics import mean_squared_error\n",
        "from sklearn.metrics import r2_score"
      ],
      "metadata": {
        "id": "fy5y3l6Igw49"
      },
      "execution_count": null,
      "outputs": []
    },
    {
      "cell_type": "code",
      "source": [
        "rr = Ridge(alpha=0.01)\n",
        "rr.fit(X_train, Y_train) \n",
        "pred_train_rr= rr.predict(X_train)\n",
        "print(np.sqrt(mean_squared_error(Y_train,pred_train_rr)))\n",
        "print(r2_score(Y_train, pred_train_rr))\n",
        "\n",
        "pred_test_rr= rr.predict(X_test)\n",
        "print(np.sqrt(mean_squared_error(Y_test,pred_test_rr))) \n",
        "print(r2_score(Y_test, pred_test_rr))"
      ],
      "metadata": {
        "colab": {
          "base_uri": "https://localhost:8080/"
        },
        "id": "-quHWeeLhTRE",
        "outputId": "277f7e6d-398e-4f78-d7b3-8992b882dbb7"
      },
      "execution_count": null,
      "outputs": [
        {
          "output_type": "stream",
          "name": "stdout",
          "text": [
            "1.336477672228809e-10\n",
            "1.0\n",
            "8.313455893689089e-11\n",
            "1.0\n"
          ]
        }
      ]
    },
    {
      "cell_type": "markdown",
      "source": [
        "**Lasso Regression**"
      ],
      "metadata": {
        "id": "kZEHmTC5h84K"
      }
    },
    {
      "cell_type": "code",
      "source": [
        "model_lasso = Lasso(alpha=0.01)\n",
        "model_lasso.fit(X_train, Y_train) \n",
        "pred_train_lasso= model_lasso.predict(X_train)\n",
        "print(np.sqrt(mean_squared_error(Y_train,pred_train_lasso)))\n",
        "print(r2_score(Y_train, pred_train_lasso))\n",
        "\n",
        "pred_test_lasso= model_lasso.predict(X_test)\n",
        "print(np.sqrt(mean_squared_error(Y_test,pred_test_lasso))) \n",
        "print(r2_score(Y_test, pred_test_lasso))"
      ],
      "metadata": {
        "colab": {
          "base_uri": "https://localhost:8080/"
        },
        "id": "z2kVD3oFh4px",
        "outputId": "f2d418a3-6c49-4f7d-de6c-56bbf563a9f6"
      },
      "execution_count": null,
      "outputs": [
        {
          "output_type": "stream",
          "name": "stdout",
          "text": [
            "0.0005389720103169096\n",
            "0.9999999999990155\n",
            "0.0005036027234986163\n",
            "0.9999999999985684\n"
          ]
        }
      ]
    }
  ]
}