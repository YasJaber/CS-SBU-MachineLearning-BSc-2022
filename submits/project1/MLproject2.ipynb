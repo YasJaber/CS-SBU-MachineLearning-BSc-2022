{
  "nbformat": 4,
  "nbformat_minor": 0,
  "metadata": {
    "colab": {
      "name": "MLproject2.ipynb",
      "provenance": [],
      "collapsed_sections": []
    },
    "kernelspec": {
      "name": "python3",
      "display_name": "Python 3"
    },
    "language_info": {
      "name": "python"
    }
  },
  "cells": [
    {
      "cell_type": "code",
      "execution_count": 259,
      "metadata": {
        "id": "pYjF5EtxyhvX",
        "colab": {
          "resources": {
            "http://localhost:8080/nbextensions/google.colab/files.js": {
              "data": "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",
              "ok": true,
              "headers": [
                [
                  "content-type",
                  "application/javascript"
                ]
              ],
              "status": 200,
              "status_text": ""
            }
          },
          "base_uri": "https://localhost:8080/",
          "height": 92
        },
        "outputId": "b3564896-31af-403c-d268-d2a3c32c893b"
      },
      "outputs": [
        {
          "output_type": "display_data",
          "data": {
            "text/plain": [
              "<IPython.core.display.HTML object>"
            ],
            "text/html": [
              "\n",
              "     <input type=\"file\" id=\"files-61f198be-75ad-4da9-9215-182e6f91aa90\" name=\"files[]\" multiple disabled\n",
              "        style=\"border:none\" />\n",
              "     <output id=\"result-61f198be-75ad-4da9-9215-182e6f91aa90\">\n",
              "      Upload widget is only available when the cell has been executed in the\n",
              "      current browser session. Please rerun this cell to enable.\n",
              "      </output>\n",
              "      <script src=\"/nbextensions/google.colab/files.js\"></script> "
            ]
          },
          "metadata": {}
        },
        {
          "output_type": "stream",
          "name": "stdout",
          "text": [
            "Saving kaggle.json to kaggle (3).json\n"
          ]
        },
        {
          "output_type": "execute_result",
          "data": {
            "text/plain": [
              "{'kaggle.json': b'{\"username\":\"yasjaber\",\"key\":\"e40160d19145a1298f00d505daab0fcb\"}'}"
            ]
          },
          "metadata": {},
          "execution_count": 259
        }
      ],
      "source": [
        "import pandas as pd\n",
        "import numpy as np # linear algebra\n",
        "! pip install -q kaggle\n",
        "from google.colab import files\n",
        "files.upload()"
      ]
    },
    {
      "cell_type": "code",
      "source": [
        "! mkdir ~/.kaggle\n",
        "! cp kaggle.json ~/.kaggle/\n",
        "! chmod 600 ~/.kaggle/kaggle.json\n",
        "# ! kaggle datasets list"
      ],
      "metadata": {
        "id": "d0y2bO0rmnHL",
        "colab": {
          "base_uri": "https://localhost:8080/"
        },
        "outputId": "39db6615-0b64-423b-8066-aa41d062602f"
      },
      "execution_count": 260,
      "outputs": [
        {
          "output_type": "stream",
          "name": "stdout",
          "text": [
            "mkdir: cannot create directory ‘/root/.kaggle’: File exists\n"
          ]
        }
      ]
    },
    {
      "cell_type": "code",
      "source": [
        "! kaggle datasets download -d corrieaar/apartment-rental-offers-in-germany"
      ],
      "metadata": {
        "colab": {
          "base_uri": "https://localhost:8080/"
        },
        "id": "Y74JMwe5mppl",
        "outputId": "21d860d2-dfdf-41c7-ccf3-ec43f4318c7f"
      },
      "execution_count": 261,
      "outputs": [
        {
          "output_type": "stream",
          "name": "stdout",
          "text": [
            "apartment-rental-offers-in-germany.zip: Skipping, found more recently modified local copy (use --force to force download)\n"
          ]
        }
      ]
    },
    {
      "cell_type": "code",
      "source": [
        "!unzip apartment-rental-offers-in-germany.zip"
      ],
      "metadata": {
        "colab": {
          "base_uri": "https://localhost:8080/"
        },
        "id": "7sAKMwp3youJ",
        "outputId": "4917d72c-7b36-4dfd-ae4c-358cf814dfe2"
      },
      "execution_count": 262,
      "outputs": [
        {
          "output_type": "stream",
          "name": "stdout",
          "text": [
            "Archive:  apartment-rental-offers-in-germany.zip\n",
            "replace immo_data.csv? [y]es, [n]o, [A]ll, [N]one, [r]ename: N\n"
          ]
        }
      ]
    },
    {
      "cell_type": "code",
      "source": [
        "df = pd.read_csv('immo_data.csv')\n",
        "dfOriginal = df.copy()"
      ],
      "metadata": {
        "id": "nP5i30ygm8vG"
      },
      "execution_count": 263,
      "outputs": []
    },
    {
      "cell_type": "code",
      "source": [
        "df.info()"
      ],
      "metadata": {
        "colab": {
          "base_uri": "https://localhost:8080/"
        },
        "id": "0_WHYdh0nRCK",
        "outputId": "f54f472b-dfb4-49fc-acd0-51a33d2a6e55"
      },
      "execution_count": 264,
      "outputs": [
        {
          "output_type": "stream",
          "name": "stdout",
          "text": [
            "<class 'pandas.core.frame.DataFrame'>\n",
            "RangeIndex: 268850 entries, 0 to 268849\n",
            "Data columns (total 49 columns):\n",
            " #   Column                    Non-Null Count   Dtype  \n",
            "---  ------                    --------------   -----  \n",
            " 0   regio1                    268850 non-null  object \n",
            " 1   serviceCharge             261941 non-null  float64\n",
            " 2   heatingType               223994 non-null  object \n",
            " 3   telekomTvOffer            236231 non-null  object \n",
            " 4   telekomHybridUploadSpeed  45020 non-null   float64\n",
            " 5   newlyConst                268850 non-null  bool   \n",
            " 6   balcony                   268850 non-null  bool   \n",
            " 7   picturecount              268850 non-null  int64  \n",
            " 8   pricetrend                267018 non-null  float64\n",
            " 9   telekomUploadSpeed        235492 non-null  float64\n",
            " 10  totalRent                 228333 non-null  float64\n",
            " 11  yearConstructed           211805 non-null  float64\n",
            " 12  scoutId                   268850 non-null  int64  \n",
            " 13  noParkSpaces              93052 non-null   float64\n",
            " 14  firingTypes               211886 non-null  object \n",
            " 15  hasKitchen                268850 non-null  bool   \n",
            " 16  geo_bln                   268850 non-null  object \n",
            " 17  cellar                    268850 non-null  bool   \n",
            " 18  yearConstructedRange      211805 non-null  float64\n",
            " 19  baseRent                  268850 non-null  float64\n",
            " 20  houseNumber               197832 non-null  object \n",
            " 21  livingSpace               268850 non-null  float64\n",
            " 22  geo_krs                   268850 non-null  object \n",
            " 23  condition                 200361 non-null  object \n",
            " 24  interiorQual              156185 non-null  object \n",
            " 25  petsAllowed               154277 non-null  object \n",
            " 26  street                    268850 non-null  object \n",
            " 27  streetPlain               197837 non-null  object \n",
            " 28  lift                      268850 non-null  bool   \n",
            " 29  baseRentRange             268850 non-null  int64  \n",
            " 30  typeOfFlat                232236 non-null  object \n",
            " 31  geo_plz                   268850 non-null  int64  \n",
            " 32  noRooms                   268850 non-null  float64\n",
            " 33  thermalChar               162344 non-null  float64\n",
            " 34  floor                     217541 non-null  float64\n",
            " 35  numberOfFloors            171118 non-null  float64\n",
            " 36  noRoomsRange              268850 non-null  int64  \n",
            " 37  garden                    268850 non-null  bool   \n",
            " 38  livingSpaceRange          268850 non-null  int64  \n",
            " 39  regio2                    268850 non-null  object \n",
            " 40  regio3                    268850 non-null  object \n",
            " 41  description               249103 non-null  object \n",
            " 42  facilities                215926 non-null  object \n",
            " 43  heatingCosts              85518 non-null   float64\n",
            " 44  energyEfficiencyClass     77787 non-null   object \n",
            " 45  lastRefurbish             80711 non-null   float64\n",
            " 46  electricityBasePrice      46846 non-null   float64\n",
            " 47  electricityKwhPrice       46846 non-null   float64\n",
            " 48  date                      268850 non-null  object \n",
            "dtypes: bool(6), float64(18), int64(6), object(19)\n",
            "memory usage: 89.7+ MB\n"
          ]
        }
      ]
    },
    {
      "cell_type": "code",
      "source": [
        "print(f'Number of columns is:',df.shape[1],'and rows is:',df.shape[0])"
      ],
      "metadata": {
        "colab": {
          "base_uri": "https://localhost:8080/"
        },
        "id": "_5UcuwKy3eif",
        "outputId": "a647d53e-fb97-4289-f8ed-f68defada62d"
      },
      "execution_count": 265,
      "outputs": [
        {
          "output_type": "stream",
          "name": "stdout",
          "text": [
            "Number of columns is: 49 and rows is: 268850\n"
          ]
        }
      ]
    },
    {
      "cell_type": "markdown",
      "source": [
        "(columns = {\"regio1\": \"State\", \"regio2\": \"City\", \"regio3\": \"District\"}, inplace = True)"
      ],
      "metadata": {
        "id": "_KxW66RuVRiD"
      }
    },
    {
      "cell_type": "markdown",
      "source": [
        "### cleaning"
      ],
      "metadata": {
        "id": "TM17FARHm2qS"
      }
    },
    {
      "cell_type": "code",
      "source": [
        "##starting clock\n",
        "import time\n",
        "from time import clock\n",
        "start_time = time.time()"
      ],
      "metadata": {
        "id": "b4BOU36Kdgfk"
      },
      "execution_count": 266,
      "outputs": []
    },
    {
      "cell_type": "code",
      "source": [
        "df.dropna(subset=['totalRent'],inplace=True)"
      ],
      "metadata": {
        "id": "7IsW_KVq3e6l"
      },
      "execution_count": 267,
      "outputs": []
    },
    {
      "cell_type": "code",
      "source": [
        "df = df.drop(df[df['totalRent'] == 0.0].index)\n",
        "df = df.drop(df[df['totalRent'] < 0.0].index)\n",
        "df = df.drop(df[df['livingSpace'] == 0.0].index)\n",
        "df = df.drop(df[df['livingSpace'] < 0.0].index)"
      ],
      "metadata": {
        "id": "W7LbBntz2U0Q"
      },
      "execution_count": 268,
      "outputs": []
    },
    {
      "cell_type": "code",
      "source": [
        "df = df.drop(df[df['yearConstructed'] >2022].index)\n",
        "df = df.drop(df[df['baseRent'] < 0.0].index)"
      ],
      "metadata": {
        "id": "iTlYAISvQnZO"
      },
      "execution_count": 269,
      "outputs": []
    },
    {
      "cell_type": "code",
      "source": [
        "df.dropna(thresh=df.shape[0]*0.6,how='all',axis=1,inplace=True)"
      ],
      "metadata": {
        "id": "j0oLSo2z4u_4"
      },
      "execution_count": 270,
      "outputs": []
    },
    {
      "cell_type": "code",
      "source": [
        "print(f'Number of columns is:',df.shape[1],'and rows is:',df.shape[0])"
      ],
      "metadata": {
        "colab": {
          "base_uri": "https://localhost:8080/"
        },
        "id": "LchARSzT3e9H",
        "outputId": "4a5d5865-85c0-48a3-9dd1-e3ddfd5edd46"
      },
      "execution_count": 271,
      "outputs": [
        {
          "output_type": "stream",
          "name": "stdout",
          "text": [
            "Number of columns is: 40 and rows is: 228039\n"
          ]
        }
      ]
    },
    {
      "cell_type": "code",
      "source": [
        "dfnull = df.isna().sum()\n",
        "dfnull = dfnull.sort_values(ascending=False)\n",
        "dfnull"
      ],
      "metadata": {
        "id": "pV6wBod43fCJ",
        "colab": {
          "base_uri": "https://localhost:8080/"
        },
        "outputId": "d51308cf-483b-4d4c-df25-887bfca4add8"
      },
      "execution_count": 272,
      "outputs": [
        {
          "output_type": "execute_result",
          "data": {
            "text/plain": [
              "interiorQual            88733\n",
              "numberOfFloors          79295\n",
              "condition               56831\n",
              "houseNumber             53899\n",
              "streetPlain             53895\n",
              "yearConstructedRange    49232\n",
              "yearConstructed         49232\n",
              "firingTypes             48365\n",
              "facilities              44059\n",
              "floor                   40334\n",
              "heatingType             36797\n",
              "typeOfFlat              30542\n",
              "telekomUploadSpeed      28013\n",
              "telekomTvOffer          27393\n",
              "description             15951\n",
              "serviceCharge            4076\n",
              "pricetrend               1608\n",
              "noRooms                     0\n",
              "geo_plz                     0\n",
              "regio1                      0\n",
              "noRoomsRange                0\n",
              "baseRentRange               0\n",
              "livingSpaceRange            0\n",
              "regio2                      0\n",
              "regio3                      0\n",
              "garden                      0\n",
              "geo_krs                     0\n",
              "lift                        0\n",
              "street                      0\n",
              "livingSpace                 0\n",
              "baseRent                    0\n",
              "cellar                      0\n",
              "geo_bln                     0\n",
              "hasKitchen                  0\n",
              "scoutId                     0\n",
              "totalRent                   0\n",
              "picturecount                0\n",
              "balcony                     0\n",
              "newlyConst                  0\n",
              "date                        0\n",
              "dtype: int64"
            ]
          },
          "metadata": {},
          "execution_count": 272
        }
      ]
    },
    {
      "cell_type": "code",
      "source": [
        "df['condition'].unique()"
      ],
      "metadata": {
        "colab": {
          "base_uri": "https://localhost:8080/"
        },
        "id": "yPukqdNqzITQ",
        "outputId": "e6f1a0b1-0139-49bc-a556-fcf108ed51f9"
      },
      "execution_count": 273,
      "outputs": [
        {
          "output_type": "execute_result",
          "data": {
            "text/plain": [
              "array(['well_kept', 'first_time_use', 'refurbished', 'fully_renovated',\n",
              "       nan, 'mint_condition', 'first_time_use_after_refurbishment',\n",
              "       'modernized', 'negotiable', 'need_of_renovation',\n",
              "       'ripe_for_demolition'], dtype=object)"
            ]
          },
          "metadata": {},
          "execution_count": 273
        }
      ]
    },
    {
      "cell_type": "code",
      "source": [
        "for index, row in df.iterrows():\n",
        "    if ((row[\"newlyConst\"] == True) & (row[\"condition\"]==\"null\")):\n",
        "        df.loc[index,['condition']] = \"first_time_use\""
      ],
      "metadata": {
        "id": "lnFcaZbLnSUm"
      },
      "execution_count": 274,
      "outputs": []
    },
    {
      "cell_type": "code",
      "source": [
        "df['condition'].fillna(\"Other\", inplace=True)"
      ],
      "metadata": {
        "id": "hXkHI6_L0j_L"
      },
      "execution_count": 275,
      "outputs": []
    },
    {
      "cell_type": "code",
      "source": [
        "df.info()"
      ],
      "metadata": {
        "colab": {
          "base_uri": "https://localhost:8080/"
        },
        "id": "ZM9Rc5s8zrdO",
        "outputId": "fbf05c29-c103-4821-9efe-cf53597be9a4"
      },
      "execution_count": 276,
      "outputs": [
        {
          "output_type": "stream",
          "name": "stdout",
          "text": [
            "<class 'pandas.core.frame.DataFrame'>\n",
            "Int64Index: 228039 entries, 0 to 268848\n",
            "Data columns (total 40 columns):\n",
            " #   Column                Non-Null Count   Dtype  \n",
            "---  ------                --------------   -----  \n",
            " 0   regio1                228039 non-null  object \n",
            " 1   serviceCharge         223963 non-null  float64\n",
            " 2   heatingType           191242 non-null  object \n",
            " 3   telekomTvOffer        200646 non-null  object \n",
            " 4   newlyConst            228039 non-null  bool   \n",
            " 5   balcony               228039 non-null  bool   \n",
            " 6   picturecount          228039 non-null  int64  \n",
            " 7   pricetrend            226431 non-null  float64\n",
            " 8   telekomUploadSpeed    200026 non-null  float64\n",
            " 9   totalRent             228039 non-null  float64\n",
            " 10  yearConstructed       178807 non-null  float64\n",
            " 11  scoutId               228039 non-null  int64  \n",
            " 12  firingTypes           179674 non-null  object \n",
            " 13  hasKitchen            228039 non-null  bool   \n",
            " 14  geo_bln               228039 non-null  object \n",
            " 15  cellar                228039 non-null  bool   \n",
            " 16  yearConstructedRange  178807 non-null  float64\n",
            " 17  baseRent              228039 non-null  float64\n",
            " 18  houseNumber           174140 non-null  object \n",
            " 19  livingSpace           228039 non-null  float64\n",
            " 20  geo_krs               228039 non-null  object \n",
            " 21  condition             228039 non-null  object \n",
            " 22  interiorQual          139306 non-null  object \n",
            " 23  street                228039 non-null  object \n",
            " 24  streetPlain           174144 non-null  object \n",
            " 25  lift                  228039 non-null  bool   \n",
            " 26  baseRentRange         228039 non-null  int64  \n",
            " 27  typeOfFlat            197497 non-null  object \n",
            " 28  geo_plz               228039 non-null  int64  \n",
            " 29  noRooms               228039 non-null  float64\n",
            " 30  floor                 187705 non-null  float64\n",
            " 31  numberOfFloors        148744 non-null  float64\n",
            " 32  noRoomsRange          228039 non-null  int64  \n",
            " 33  garden                228039 non-null  bool   \n",
            " 34  livingSpaceRange      228039 non-null  int64  \n",
            " 35  regio2                228039 non-null  object \n",
            " 36  regio3                228039 non-null  object \n",
            " 37  description           212088 non-null  object \n",
            " 38  facilities            183980 non-null  object \n",
            " 39  date                  228039 non-null  object \n",
            "dtypes: bool(6), float64(11), int64(6), object(17)\n",
            "memory usage: 70.3+ MB\n"
          ]
        }
      ]
    },
    {
      "cell_type": "code",
      "source": [
        "df[\"yearConstructed\"] = df['yearConstructed'].fillna(df.groupby('condition')['yearConstructed'].transform('mean')).round(0)"
      ],
      "metadata": {
        "id": "ClIMbC3G3fEb"
      },
      "execution_count": 277,
      "outputs": []
    },
    {
      "cell_type": "code",
      "source": [
        "dfnull = df.isna().sum()\n",
        "dfnull = dfnull.sort_values(ascending=False)\n",
        "dfnull"
      ],
      "metadata": {
        "id": "bJpAlkzi3e_l",
        "colab": {
          "base_uri": "https://localhost:8080/"
        },
        "outputId": "d6c37d41-bab6-4044-c57b-34b1084085ea"
      },
      "execution_count": 278,
      "outputs": [
        {
          "output_type": "execute_result",
          "data": {
            "text/plain": [
              "interiorQual            88733\n",
              "numberOfFloors          79295\n",
              "houseNumber             53899\n",
              "streetPlain             53895\n",
              "yearConstructedRange    49232\n",
              "firingTypes             48365\n",
              "facilities              44059\n",
              "floor                   40334\n",
              "heatingType             36797\n",
              "typeOfFlat              30542\n",
              "telekomUploadSpeed      28013\n",
              "telekomTvOffer          27393\n",
              "description             15951\n",
              "serviceCharge            4076\n",
              "pricetrend               1608\n",
              "baseRentRange               0\n",
              "geo_plz                     0\n",
              "regio3                      0\n",
              "noRooms                     0\n",
              "noRoomsRange                0\n",
              "lift                        0\n",
              "garden                      0\n",
              "livingSpaceRange            0\n",
              "regio2                      0\n",
              "regio1                      0\n",
              "geo_krs                     0\n",
              "street                      0\n",
              "condition                   0\n",
              "livingSpace                 0\n",
              "baseRent                    0\n",
              "cellar                      0\n",
              "geo_bln                     0\n",
              "hasKitchen                  0\n",
              "scoutId                     0\n",
              "yearConstructed             0\n",
              "totalRent                   0\n",
              "picturecount                0\n",
              "balcony                     0\n",
              "newlyConst                  0\n",
              "date                        0\n",
              "dtype: int64"
            ]
          },
          "metadata": {},
          "execution_count": 278
        }
      ]
    },
    {
      "cell_type": "code",
      "source": [
        "df[['yearConstructed','yearConstructedRange']].head(100)"
      ],
      "metadata": {
        "id": "PovzSrpmsSka",
        "colab": {
          "base_uri": "https://localhost:8080/",
          "height": 423
        },
        "outputId": "2da6bf57-0944-4edb-807e-c7d63d11b0e1"
      },
      "execution_count": 279,
      "outputs": [
        {
          "output_type": "execute_result",
          "data": {
            "text/plain": [
              "     yearConstructed  yearConstructedRange\n",
              "0             1965.0                   2.0\n",
              "2             2019.0                   9.0\n",
              "4             1950.0                   1.0\n",
              "6             1958.0                   NaN\n",
              "7             1959.0                   2.0\n",
              "..               ...                   ...\n",
              "116           1958.0                   NaN\n",
              "118           2018.0                   9.0\n",
              "119           1993.0                   5.0\n",
              "120           1994.0                   5.0\n",
              "121           1900.0                   1.0\n",
              "\n",
              "[100 rows x 2 columns]"
            ],
            "text/html": [
              "\n",
              "  <div id=\"df-f53e405d-6994-423c-9a83-e9b2375023d9\">\n",
              "    <div class=\"colab-df-container\">\n",
              "      <div>\n",
              "<style scoped>\n",
              "    .dataframe tbody tr th:only-of-type {\n",
              "        vertical-align: middle;\n",
              "    }\n",
              "\n",
              "    .dataframe tbody tr th {\n",
              "        vertical-align: top;\n",
              "    }\n",
              "\n",
              "    .dataframe thead th {\n",
              "        text-align: right;\n",
              "    }\n",
              "</style>\n",
              "<table border=\"1\" class=\"dataframe\">\n",
              "  <thead>\n",
              "    <tr style=\"text-align: right;\">\n",
              "      <th></th>\n",
              "      <th>yearConstructed</th>\n",
              "      <th>yearConstructedRange</th>\n",
              "    </tr>\n",
              "  </thead>\n",
              "  <tbody>\n",
              "    <tr>\n",
              "      <th>0</th>\n",
              "      <td>1965.0</td>\n",
              "      <td>2.0</td>\n",
              "    </tr>\n",
              "    <tr>\n",
              "      <th>2</th>\n",
              "      <td>2019.0</td>\n",
              "      <td>9.0</td>\n",
              "    </tr>\n",
              "    <tr>\n",
              "      <th>4</th>\n",
              "      <td>1950.0</td>\n",
              "      <td>1.0</td>\n",
              "    </tr>\n",
              "    <tr>\n",
              "      <th>6</th>\n",
              "      <td>1958.0</td>\n",
              "      <td>NaN</td>\n",
              "    </tr>\n",
              "    <tr>\n",
              "      <th>7</th>\n",
              "      <td>1959.0</td>\n",
              "      <td>2.0</td>\n",
              "    </tr>\n",
              "    <tr>\n",
              "      <th>...</th>\n",
              "      <td>...</td>\n",
              "      <td>...</td>\n",
              "    </tr>\n",
              "    <tr>\n",
              "      <th>116</th>\n",
              "      <td>1958.0</td>\n",
              "      <td>NaN</td>\n",
              "    </tr>\n",
              "    <tr>\n",
              "      <th>118</th>\n",
              "      <td>2018.0</td>\n",
              "      <td>9.0</td>\n",
              "    </tr>\n",
              "    <tr>\n",
              "      <th>119</th>\n",
              "      <td>1993.0</td>\n",
              "      <td>5.0</td>\n",
              "    </tr>\n",
              "    <tr>\n",
              "      <th>120</th>\n",
              "      <td>1994.0</td>\n",
              "      <td>5.0</td>\n",
              "    </tr>\n",
              "    <tr>\n",
              "      <th>121</th>\n",
              "      <td>1900.0</td>\n",
              "      <td>1.0</td>\n",
              "    </tr>\n",
              "  </tbody>\n",
              "</table>\n",
              "<p>100 rows × 2 columns</p>\n",
              "</div>\n",
              "      <button class=\"colab-df-convert\" onclick=\"convertToInteractive('df-f53e405d-6994-423c-9a83-e9b2375023d9')\"\n",
              "              title=\"Convert this dataframe to an interactive table.\"\n",
              "              style=\"display:none;\">\n",
              "        \n",
              "  <svg xmlns=\"http://www.w3.org/2000/svg\" height=\"24px\"viewBox=\"0 0 24 24\"\n",
              "       width=\"24px\">\n",
              "    <path d=\"M0 0h24v24H0V0z\" fill=\"none\"/>\n",
              "    <path d=\"M18.56 5.44l.94 2.06.94-2.06 2.06-.94-2.06-.94-.94-2.06-.94 2.06-2.06.94zm-11 1L8.5 8.5l.94-2.06 2.06-.94-2.06-.94L8.5 2.5l-.94 2.06-2.06.94zm10 10l.94 2.06.94-2.06 2.06-.94-2.06-.94-.94-2.06-.94 2.06-2.06.94z\"/><path d=\"M17.41 7.96l-1.37-1.37c-.4-.4-.92-.59-1.43-.59-.52 0-1.04.2-1.43.59L10.3 9.45l-7.72 7.72c-.78.78-.78 2.05 0 2.83L4 21.41c.39.39.9.59 1.41.59.51 0 1.02-.2 1.41-.59l7.78-7.78 2.81-2.81c.8-.78.8-2.07 0-2.86zM5.41 20L4 18.59l7.72-7.72 1.47 1.35L5.41 20z\"/>\n",
              "  </svg>\n",
              "      </button>\n",
              "      \n",
              "  <style>\n",
              "    .colab-df-container {\n",
              "      display:flex;\n",
              "      flex-wrap:wrap;\n",
              "      gap: 12px;\n",
              "    }\n",
              "\n",
              "    .colab-df-convert {\n",
              "      background-color: #E8F0FE;\n",
              "      border: none;\n",
              "      border-radius: 50%;\n",
              "      cursor: pointer;\n",
              "      display: none;\n",
              "      fill: #1967D2;\n",
              "      height: 32px;\n",
              "      padding: 0 0 0 0;\n",
              "      width: 32px;\n",
              "    }\n",
              "\n",
              "    .colab-df-convert:hover {\n",
              "      background-color: #E2EBFA;\n",
              "      box-shadow: 0px 1px 2px rgba(60, 64, 67, 0.3), 0px 1px 3px 1px rgba(60, 64, 67, 0.15);\n",
              "      fill: #174EA6;\n",
              "    }\n",
              "\n",
              "    [theme=dark] .colab-df-convert {\n",
              "      background-color: #3B4455;\n",
              "      fill: #D2E3FC;\n",
              "    }\n",
              "\n",
              "    [theme=dark] .colab-df-convert:hover {\n",
              "      background-color: #434B5C;\n",
              "      box-shadow: 0px 1px 3px 1px rgba(0, 0, 0, 0.15);\n",
              "      filter: drop-shadow(0px 1px 2px rgba(0, 0, 0, 0.3));\n",
              "      fill: #FFFFFF;\n",
              "    }\n",
              "  </style>\n",
              "\n",
              "      <script>\n",
              "        const buttonEl =\n",
              "          document.querySelector('#df-f53e405d-6994-423c-9a83-e9b2375023d9 button.colab-df-convert');\n",
              "        buttonEl.style.display =\n",
              "          google.colab.kernel.accessAllowed ? 'block' : 'none';\n",
              "\n",
              "        async function convertToInteractive(key) {\n",
              "          const element = document.querySelector('#df-f53e405d-6994-423c-9a83-e9b2375023d9');\n",
              "          const dataTable =\n",
              "            await google.colab.kernel.invokeFunction('convertToInteractive',\n",
              "                                                     [key], {});\n",
              "          if (!dataTable) return;\n",
              "\n",
              "          const docLinkHtml = 'Like what you see? Visit the ' +\n",
              "            '<a target=\"_blank\" href=https://colab.research.google.com/notebooks/data_table.ipynb>data table notebook</a>'\n",
              "            + ' to learn more about interactive tables.';\n",
              "          element.innerHTML = '';\n",
              "          dataTable['output_type'] = 'display_data';\n",
              "          await google.colab.output.renderOutput(dataTable, element);\n",
              "          const docLink = document.createElement('div');\n",
              "          docLink.innerHTML = docLinkHtml;\n",
              "          element.appendChild(docLink);\n",
              "        }\n",
              "      </script>\n",
              "    </div>\n",
              "  </div>\n",
              "  "
            ]
          },
          "metadata": {},
          "execution_count": 279
        }
      ]
    },
    {
      "cell_type": "code",
      "source": [
        "df.groupby([\"yearConstructedRange\"])[\"yearConstructed\"].max()"
      ],
      "metadata": {
        "id": "SzsHAo6suEJg",
        "colab": {
          "base_uri": "https://localhost:8080/"
        },
        "outputId": "6b9b6d01-caa8-4115-f70c-958f94133584"
      },
      "execution_count": 280,
      "outputs": [
        {
          "output_type": "execute_result",
          "data": {
            "text/plain": [
              "yearConstructedRange\n",
              "1.0    1950.0\n",
              "2.0    1970.0\n",
              "3.0    1980.0\n",
              "4.0    1990.0\n",
              "5.0    2000.0\n",
              "6.0    2005.0\n",
              "7.0    2010.0\n",
              "8.0    2015.0\n",
              "9.0    2022.0\n",
              "Name: yearConstructed, dtype: float64"
            ]
          },
          "metadata": {},
          "execution_count": 280
        }
      ]
    },
    {
      "cell_type": "code",
      "source": [
        "import math\n",
        "df['yearConstructedRange'] = df.apply(lambda row: 1 if np.isnan(row['yearConstructedRange']) and row['yearConstructed']<=1950 else row['yearConstructedRange'], axis=1 )\n",
        "df['yearConstructedRange'] = df.apply(lambda row: 2 if np.isnan(row['yearConstructedRange']) and row['yearConstructed']<=1970 else row['yearConstructedRange'], axis=1 )\n",
        "df['yearConstructedRange'] = df.apply(lambda row: 3 if np.isnan(row['yearConstructedRange']) and row['yearConstructed']<=1980 else row['yearConstructedRange'], axis=1 )\n",
        "df['yearConstructedRange'] = df.apply(lambda row: 4 if np.isnan(row['yearConstructedRange']) and row['yearConstructed']<=1990 else row['yearConstructedRange'], axis=1 )\n",
        "df['yearConstructedRange'] = df.apply(lambda row: 5 if np.isnan(row['yearConstructedRange']) and row['yearConstructed']<=2000 else row['yearConstructedRange'], axis=1 )\n",
        "df['yearConstructedRange'] = df.apply(lambda row: 6 if np.isnan(row['yearConstructedRange']) and row['yearConstructed']<=2005 else row['yearConstructedRange'], axis=1 )\n",
        "df['yearConstructedRange'] = df.apply(lambda row: 7 if np.isnan(row['yearConstructedRange']) and row['yearConstructed']<=2010 else row['yearConstructedRange'], axis=1 )\n",
        "df['yearConstructedRange'] = df.apply(lambda row: 8 if np.isnan(row['yearConstructedRange']) and row['yearConstructed']<=2015 else row['yearConstructedRange'], axis=1 )\n",
        "df['yearConstructedRange'] = df.apply(lambda row: 9 if np.isnan(row['yearConstructedRange']) and row['yearConstructed']<=2022 else row['yearConstructedRange'], axis=1 )\n"
      ],
      "metadata": {
        "id": "P0muJ0Tl3fGu"
      },
      "execution_count": 281,
      "outputs": []
    },
    {
      "cell_type": "code",
      "source": [
        "dfnull = df.isna().sum()\n",
        "dfnull = dfnull.sort_values(ascending=False)\n",
        "dfnull"
      ],
      "metadata": {
        "id": "c1VGpHu83fJX",
        "colab": {
          "base_uri": "https://localhost:8080/"
        },
        "outputId": "5453905b-0032-4e1a-e59e-633c00a7b25b"
      },
      "execution_count": 282,
      "outputs": [
        {
          "output_type": "execute_result",
          "data": {
            "text/plain": [
              "interiorQual            88733\n",
              "numberOfFloors          79295\n",
              "houseNumber             53899\n",
              "streetPlain             53895\n",
              "firingTypes             48365\n",
              "facilities              44059\n",
              "floor                   40334\n",
              "heatingType             36797\n",
              "typeOfFlat              30542\n",
              "telekomUploadSpeed      28013\n",
              "telekomTvOffer          27393\n",
              "description             15951\n",
              "serviceCharge            4076\n",
              "pricetrend               1608\n",
              "geo_plz                     0\n",
              "baseRentRange               0\n",
              "regio1                      0\n",
              "noRooms                     0\n",
              "noRoomsRange                0\n",
              "garden                      0\n",
              "livingSpaceRange            0\n",
              "regio2                      0\n",
              "regio3                      0\n",
              "lift                        0\n",
              "geo_krs                     0\n",
              "street                      0\n",
              "condition                   0\n",
              "livingSpace                 0\n",
              "baseRent                    0\n",
              "yearConstructedRange        0\n",
              "cellar                      0\n",
              "geo_bln                     0\n",
              "hasKitchen                  0\n",
              "scoutId                     0\n",
              "yearConstructed             0\n",
              "totalRent                   0\n",
              "picturecount                0\n",
              "balcony                     0\n",
              "newlyConst                  0\n",
              "date                        0\n",
              "dtype: int64"
            ]
          },
          "metadata": {},
          "execution_count": 282
        }
      ]
    },
    {
      "cell_type": "code",
      "source": [
        "df.duplicated(keep='last')"
      ],
      "metadata": {
        "id": "DTPgxWdbveHw",
        "colab": {
          "base_uri": "https://localhost:8080/"
        },
        "outputId": "4f78cf21-27d3-4ee3-9da1-e486be2a2db2"
      },
      "execution_count": 283,
      "outputs": [
        {
          "output_type": "execute_result",
          "data": {
            "text/plain": [
              "0         False\n",
              "2         False\n",
              "4         False\n",
              "6         False\n",
              "7         False\n",
              "          ...  \n",
              "268844    False\n",
              "268845    False\n",
              "268846    False\n",
              "268847    False\n",
              "268848    False\n",
              "Length: 228039, dtype: bool"
            ]
          },
          "metadata": {},
          "execution_count": 283
        }
      ]
    },
    {
      "cell_type": "code",
      "source": [
        "df = df.drop(columns=['facilities','description','scoutId','street','streetPlain','houseNumber','date'])"
      ],
      "metadata": {
        "id": "PaPxL9qVveMg"
      },
      "execution_count": 284,
      "outputs": []
    },
    {
      "cell_type": "code",
      "source": [
        "for col in df: ##deleting outliers\n",
        "    if df[col].dtype in (\"int\", \"float\"):\n",
        "        upper_range = df[col].mean() + 3 * df[col].std()\n",
        "        lower_range = df[col].mean() - 3 * df[col].std()\n",
        "        indexs = df[(df[col] > upper_range) | (df[col] < lower_range)].index\n",
        "        df = df.drop(indexs)"
      ],
      "metadata": {
        "id": "GbISHB403UkX"
      },
      "execution_count": 285,
      "outputs": []
    },
    {
      "cell_type": "code",
      "source": [
        "for col in df: ##fill numeric data with mean\n",
        "        if df[col].dtype in (\"int\", \"float\"):\n",
        "            df[col].fillna(df[col].mean(),inplace=True)"
      ],
      "metadata": {
        "id": "26hti0tUveKD"
      },
      "execution_count": 286,
      "outputs": []
    },
    {
      "cell_type": "code",
      "source": [
        "df.info()"
      ],
      "metadata": {
        "colab": {
          "base_uri": "https://localhost:8080/"
        },
        "id": "EFFdKv442tz3",
        "outputId": "ce255f91-84be-4f25-ac0b-2cdd93129b21"
      },
      "execution_count": 287,
      "outputs": [
        {
          "output_type": "stream",
          "name": "stdout",
          "text": [
            "<class 'pandas.core.frame.DataFrame'>\n",
            "Int64Index: 215031 entries, 0 to 268848\n",
            "Data columns (total 33 columns):\n",
            " #   Column                Non-Null Count   Dtype  \n",
            "---  ------                --------------   -----  \n",
            " 0   regio1                215031 non-null  object \n",
            " 1   serviceCharge         215031 non-null  float64\n",
            " 2   heatingType           180094 non-null  object \n",
            " 3   telekomTvOffer        189522 non-null  object \n",
            " 4   newlyConst            215031 non-null  bool   \n",
            " 5   balcony               215031 non-null  bool   \n",
            " 6   picturecount          215031 non-null  int64  \n",
            " 7   pricetrend            215031 non-null  float64\n",
            " 8   telekomUploadSpeed    215031 non-null  float64\n",
            " 9   totalRent             215031 non-null  float64\n",
            " 10  yearConstructed       215031 non-null  float64\n",
            " 11  firingTypes           169514 non-null  object \n",
            " 12  hasKitchen            215031 non-null  bool   \n",
            " 13  geo_bln               215031 non-null  object \n",
            " 14  cellar                215031 non-null  bool   \n",
            " 15  yearConstructedRange  215031 non-null  float64\n",
            " 16  baseRent              215031 non-null  float64\n",
            " 17  livingSpace           215031 non-null  float64\n",
            " 18  geo_krs               215031 non-null  object \n",
            " 19  condition             215031 non-null  object \n",
            " 20  interiorQual          130245 non-null  object \n",
            " 21  lift                  215031 non-null  bool   \n",
            " 22  baseRentRange         215031 non-null  int64  \n",
            " 23  typeOfFlat            185880 non-null  object \n",
            " 24  geo_plz               215031 non-null  int64  \n",
            " 25  noRooms               215031 non-null  float64\n",
            " 26  floor                 215031 non-null  float64\n",
            " 27  numberOfFloors        215031 non-null  float64\n",
            " 28  noRoomsRange          215031 non-null  int64  \n",
            " 29  garden                215031 non-null  bool   \n",
            " 30  livingSpaceRange      215031 non-null  int64  \n",
            " 31  regio2                215031 non-null  object \n",
            " 32  regio3                215031 non-null  object \n",
            "dtypes: bool(6), float64(11), int64(5), object(11)\n",
            "memory usage: 47.2+ MB\n"
          ]
        }
      ]
    },
    {
      "cell_type": "code",
      "source": [
        "dfnull = df.isna().sum()\n",
        "dfnull"
      ],
      "metadata": {
        "id": "NJxLxrxCveQD",
        "colab": {
          "base_uri": "https://localhost:8080/"
        },
        "outputId": "3f136ba0-7169-4942-921b-f09119cdb855"
      },
      "execution_count": 288,
      "outputs": [
        {
          "output_type": "execute_result",
          "data": {
            "text/plain": [
              "regio1                      0\n",
              "serviceCharge               0\n",
              "heatingType             34937\n",
              "telekomTvOffer          25509\n",
              "newlyConst                  0\n",
              "balcony                     0\n",
              "picturecount                0\n",
              "pricetrend                  0\n",
              "telekomUploadSpeed          0\n",
              "totalRent                   0\n",
              "yearConstructed             0\n",
              "firingTypes             45517\n",
              "hasKitchen                  0\n",
              "geo_bln                     0\n",
              "cellar                      0\n",
              "yearConstructedRange        0\n",
              "baseRent                    0\n",
              "livingSpace                 0\n",
              "geo_krs                     0\n",
              "condition                   0\n",
              "interiorQual            84786\n",
              "lift                        0\n",
              "baseRentRange               0\n",
              "typeOfFlat              29151\n",
              "geo_plz                     0\n",
              "noRooms                     0\n",
              "floor                       0\n",
              "numberOfFloors              0\n",
              "noRoomsRange                0\n",
              "garden                      0\n",
              "livingSpaceRange            0\n",
              "regio2                      0\n",
              "regio3                      0\n",
              "dtype: int64"
            ]
          },
          "metadata": {},
          "execution_count": 288
        }
      ]
    },
    {
      "cell_type": "code",
      "source": [
        "for col in df.columns:  #deleting non numeric values with more than 100 variety\n",
        "    if df[col].dtype in (\"object\", \"bool\"):\n",
        "        if df[col].nunique()>100 :\n",
        "          df.drop(columns = col ,inplace=True)"
      ],
      "metadata": {
        "id": "Yx7h4HGx3UuF"
      },
      "execution_count": 289,
      "outputs": []
    },
    {
      "cell_type": "code",
      "source": [
        "dfnull = df.isna().sum()\n",
        "dfnull = dfnull.sort_values(ascending=False)\n",
        "dfnull"
      ],
      "metadata": {
        "colab": {
          "base_uri": "https://localhost:8080/"
        },
        "id": "h9FoJI2e3U1R",
        "outputId": "b76a0502-9252-46b2-b89b-486e21ffb51a"
      },
      "execution_count": 290,
      "outputs": [
        {
          "output_type": "execute_result",
          "data": {
            "text/plain": [
              "interiorQual            84786\n",
              "heatingType             34937\n",
              "typeOfFlat              29151\n",
              "telekomTvOffer          25509\n",
              "regio1                      0\n",
              "livingSpace                 0\n",
              "garden                      0\n",
              "noRoomsRange                0\n",
              "numberOfFloors              0\n",
              "floor                       0\n",
              "noRooms                     0\n",
              "geo_plz                     0\n",
              "baseRentRange               0\n",
              "lift                        0\n",
              "condition                   0\n",
              "yearConstructedRange        0\n",
              "baseRent                    0\n",
              "serviceCharge               0\n",
              "cellar                      0\n",
              "geo_bln                     0\n",
              "hasKitchen                  0\n",
              "yearConstructed             0\n",
              "totalRent                   0\n",
              "telekomUploadSpeed          0\n",
              "pricetrend                  0\n",
              "picturecount                0\n",
              "balcony                     0\n",
              "newlyConst                  0\n",
              "livingSpaceRange            0\n",
              "dtype: int64"
            ]
          },
          "metadata": {},
          "execution_count": 290
        }
      ]
    },
    {
      "cell_type": "code",
      "source": [
        "## stopping clock\n",
        "print(\"--- %s seconds ---\" % (time.time() - start_time))"
      ],
      "metadata": {
        "colab": {
          "base_uri": "https://localhost:8080/"
        },
        "id": "F02R6yI5d0M1",
        "outputId": "9c67e1e8-6b89-4dab-d577-8c0fc9252e23"
      },
      "execution_count": 291,
      "outputs": [
        {
          "output_type": "stream",
          "name": "stdout",
          "text": [
            "--- 62.32509136199951 seconds ---\n"
          ]
        }
      ]
    },
    {
      "cell_type": "markdown",
      "source": [
        "### visualization"
      ],
      "metadata": {
        "id": "HTGUG71RDXyC"
      }
    },
    {
      "cell_type": "code",
      "source": [
        "import matplotlib.pyplot as plt\n",
        "import seaborn as sns\n",
        "plt.figure(figsize=(10,8))\n",
        "df['regio1'].value_counts().plot(kind='bar')\n",
        "plt.ylabel(\"Number Of Advertisements\")\n",
        "plt.xlabel(\"Name Of State\")"
      ],
      "metadata": {
        "colab": {
          "base_uri": "https://localhost:8080/",
          "height": 659
        },
        "id": "BR5Ci-JEHyac",
        "outputId": "32e489ca-547b-4a1a-8238-18df523cca5e"
      },
      "execution_count": 292,
      "outputs": [
        {
          "output_type": "execute_result",
          "data": {
            "text/plain": [
              "Text(0.5, 0, 'Name Of State')"
            ]
          },
          "metadata": {},
          "execution_count": 292
        },
        {
          "output_type": "display_data",
          "data": {
            "text/plain": [
              "<Figure size 720x576 with 1 Axes>"
            ],
            "image/png": "[encoded data removed]"
          },
          "metadata": {}
        }
      ]
    },
    {
      "cell_type": "code",
      "source": [
        "df['typeOfFlat'].value_counts().plot(kind='bar')\n",
        "plt.ylabel(\"Number Of Advertisements\")\n",
        "plt.xlabel(\"Type Of Flat\")"
      ],
      "metadata": {
        "colab": {
          "base_uri": "https://localhost:8080/",
          "height": 728
        },
        "id": "rjnuDBaaIU_w",
        "outputId": "8e026600-3bb7-4f9c-a917-1a9c022c0a9b"
      },
      "execution_count": 293,
      "outputs": [
        {
          "output_type": "execute_result",
          "data": {
            "text/plain": [
              "Text(0.5, 0, 'Type Of Flat')"
            ]
          },
          "metadata": {},
          "execution_count": 293
        },
        {
          "output_type": "display_data",
          "data": {
            "text/plain": [
              "<Figure size 1080x720 with 1 Axes>"
            ],
            "image/png": "[encoded data removed]"
          },
          "metadata": {}
        }
      ]
    },
    {
      "cell_type": "code",
      "source": [
        "import seaborn as sns\n",
        "sns.set(rc={'figure.figsize':(20,9)})\n",
        "plt.xticks(rotation=45)\n",
        "sns.barplot(x = df['regio1'],y=df['totalRent']).set_title('average total rent in different regions')"
      ],
      "metadata": {
        "colab": {
          "base_uri": "https://localhost:8080/",
          "height": 693
        },
        "id": "3b15WB69HzXf",
        "outputId": "e758fc98-bb76-453a-a6f5-86b66cf312fb"
      },
      "execution_count": 294,
      "outputs": [
        {
          "output_type": "execute_result",
          "data": {
            "text/plain": [
              "Text(0.5, 1.0, 'average total rent in different regions')"
            ]
          },
          "metadata": {},
          "execution_count": 294
        },
        {
          "output_type": "display_data",
          "data": {
            "text/plain": [
              "<Figure size 1440x648 with 1 Axes>"
            ],
            "image/png": "[encoded data removed]"
          },
          "metadata": {}
        }
      ]
    },
    {
      "cell_type": "code",
      "source": [
        "sns.set(rc={'figure.figsize':(20,9)})\n",
        "plt.xticks(rotation=45)\n",
        "sns.barplot(x = df['regio1'],y=df['baseRent']).set_title('average base rent in different regions')"
      ],
      "metadata": {
        "colab": {
          "base_uri": "https://localhost:8080/",
          "height": 693
        },
        "id": "CJLyx4Z-V2DJ",
        "outputId": "a9a685fb-fba1-4297-8a74-81b12abb4321"
      },
      "execution_count": 295,
      "outputs": [
        {
          "output_type": "execute_result",
          "data": {
            "text/plain": [
              "Text(0.5, 1.0, 'average base rent in different regions')"
            ]
          },
          "metadata": {},
          "execution_count": 295
        },
        {
          "output_type": "display_data",
          "data": {
            "text/plain": [
              "<Figure size 1440x648 with 1 Axes>"
            ],
            "image/png": "[encoded data removed]"
          },
          "metadata": {}
        }
      ]
    },
    {
      "cell_type": "code",
      "source": [
        "sns.set(rc={'figure.figsize':(10,6)})\n",
        "plt.xticks(rotation=90)\n",
        "sns.barplot(x = df['typeOfFlat'],y=df['numberOfFloors']).set_title('average number of floors in different flat types')"
      ],
      "metadata": {
        "colab": {
          "base_uri": "https://localhost:8080/",
          "height": 527
        },
        "id": "6RCSlns_HzaO",
        "outputId": "2d7cc16f-98cb-43a1-c60f-a11779734d16"
      },
      "execution_count": 296,
      "outputs": [
        {
          "output_type": "execute_result",
          "data": {
            "text/plain": [
              "Text(0.5, 1.0, 'average number of floors in different flat types')"
            ]
          },
          "metadata": {},
          "execution_count": 296
        },
        {
          "output_type": "display_data",
          "data": {
            "text/plain": [
              "<Figure size 720x432 with 1 Axes>"
            ],
            "image/png": "[encoded data removed]"
          },
          "metadata": {}
        }
      ]
    },
    {
      "cell_type": "code",
      "source": [
        "sns.set(rc={'figure.figsize':(15,10)})\n",
        "sns.displot(df[\"baseRent\"], bins=20)"
      ],
      "metadata": {
        "id": "tZWRKtx0veAp",
        "colab": {
          "base_uri": "https://localhost:8080/",
          "height": 383
        },
        "outputId": "1fd830d3-4c1a-4e3f-f135-fcf63d2207d2"
      },
      "execution_count": 297,
      "outputs": [
        {
          "output_type": "execute_result",
          "data": {
            "text/plain": [
              "<seaborn.axisgrid.FacetGrid at 0x7fcac3586e90>"
            ]
          },
          "metadata": {},
          "execution_count": 297
        },
        {
          "output_type": "display_data",
          "data": {
            "text/plain": [
              "<Figure size 360x360 with 1 Axes>"
            ],
            "image/png": "[encoded data removed]"
          },
          "metadata": {}
        }
      ]
    },
    {
      "cell_type": "code",
      "source": [
        "df['regio1'].value_counts()\n",
        "g = sns.FacetGrid(df, col='regio1', col_wrap=4)\n",
        "g = g.map(plt.hist, 'baseRent', bins=20, range=(100,4000))"
      ],
      "metadata": {
        "colab": {
          "base_uri": "https://localhost:8080/",
          "height": 869
        },
        "id": "qbJFNz_sHzes",
        "outputId": "daa52a69-85fc-4166-8d48-53f9b751781f"
      },
      "execution_count": 298,
      "outputs": [
        {
          "output_type": "display_data",
          "data": {
            "text/plain": [
              "<Figure size 864x864 with 16 Axes>"
            ],
            "image/png": "[encoded data removed]"
          },
          "metadata": {}
        }
      ]
    },
    {
      "cell_type": "code",
      "source": [
        "sns.set(rc={'figure.figsize':(10,6)})\n",
        "plt.xticks(rotation=90)\n",
        "sns.barplot(x = df['yearConstructedRange'],y=df['baseRent']).set_title('average base rent in yearConstructedRange')"
      ],
      "metadata": {
        "colab": {
          "base_uri": "https://localhost:8080/",
          "height": 436
        },
        "id": "E4yzvmvhzqsW",
        "outputId": "6850f04e-5501-4aef-fd37-7c8f8f54db5c"
      },
      "execution_count": 299,
      "outputs": [
        {
          "output_type": "execute_result",
          "data": {
            "text/plain": [
              "Text(0.5, 1.0, 'average base rent in yearConstructedRange')"
            ]
          },
          "metadata": {},
          "execution_count": 299
        },
        {
          "output_type": "display_data",
          "data": {
            "text/plain": [
              "<Figure size 720x432 with 1 Axes>"
            ],
            "image/png": "[encoded data removed]"
          },
          "metadata": {}
        }
      ]
    },
    {
      "cell_type": "code",
      "source": [
        "print (dfOriginal.groupby(by=['heatingType'], as_index=True)['heatingCosts'].mean())"
      ],
      "metadata": {
        "colab": {
          "base_uri": "https://localhost:8080/"
        },
        "id": "69SHYvcpHzkj",
        "outputId": "38c26512-9124-4f03-ea15-b7b0d8f317eb"
      },
      "execution_count": 300,
      "outputs": [
        {
          "output_type": "stream",
          "name": "stdout",
          "text": [
            "heatingType\n",
            "central_heating                   77.989390\n",
            "combined_heat_and_power_plant     80.395761\n",
            "district_heating                  75.897458\n",
            "electric_heating                  88.533898\n",
            "floor_heating                     86.167386\n",
            "gas_heating                       76.109422\n",
            "heat_pump                         68.027630\n",
            "night_storage_heater              80.141632\n",
            "oil_heating                       84.205099\n",
            "self_contained_central_heating    63.217781\n",
            "solar_heating                     74.089310\n",
            "stove_heating                     66.363636\n",
            "wood_pellet_heating               71.162768\n",
            "Name: heatingCosts, dtype: float64\n"
          ]
        }
      ]
    },
    {
      "cell_type": "code",
      "source": [
        "plt.xticks(rotation=90)\n",
        "sns.barplot(x = dfOriginal['heatingType'],y=dfOriginal['heatingCosts']).set_title('average heating cost of different heating types')"
      ],
      "metadata": {
        "colab": {
          "base_uri": "https://localhost:8080/",
          "height": 603
        },
        "id": "glXG_Do03U33",
        "outputId": "69fb67d3-2db6-4463-ff30-d1e54a154632"
      },
      "execution_count": 301,
      "outputs": [
        {
          "output_type": "execute_result",
          "data": {
            "text/plain": [
              "Text(0.5, 1.0, 'average heating cost of different heating types')"
            ]
          },
          "metadata": {},
          "execution_count": 301
        },
        {
          "output_type": "display_data",
          "data": {
            "text/plain": [
              "<Figure size 720x432 with 1 Axes>"
            ],
            "image/png": "[encoded data removed]"
          },
          "metadata": {}
        }
      ]
    },
    {
      "cell_type": "code",
      "source": [
        "sns.set(rc={'figure.figsize':(15,10)})\n",
        "sns.displot(np.log(df[\"livingSpace\"]),kde_kws={\"label\": 'livingSpace'}, bins=20)"
      ],
      "metadata": {
        "id": "Qj92c3x4veDA",
        "colab": {
          "base_uri": "https://localhost:8080/",
          "height": 383
        },
        "outputId": "8799bd00-135c-49ea-b4f6-9c1e8f730011"
      },
      "execution_count": 302,
      "outputs": [
        {
          "output_type": "execute_result",
          "data": {
            "text/plain": [
              "<seaborn.axisgrid.FacetGrid at 0x7fcac3469590>"
            ]
          },
          "metadata": {},
          "execution_count": 302
        },
        {
          "output_type": "display_data",
          "data": {
            "text/plain": [
              "<Figure size 360x360 with 1 Axes>"
            ],
            "image/png": "[encoded data removed]"
          },
          "metadata": {}
        }
      ]
    },
    {
      "cell_type": "code",
      "source": [
        "df.info()"
      ],
      "metadata": {
        "colab": {
          "base_uri": "https://localhost:8080/"
        },
        "id": "izU3n-3h3U95",
        "outputId": "8428f418-8d43-4043-ddbb-af2b452510af"
      },
      "execution_count": 303,
      "outputs": [
        {
          "output_type": "stream",
          "name": "stdout",
          "text": [
            "<class 'pandas.core.frame.DataFrame'>\n",
            "Int64Index: 215031 entries, 0 to 268848\n",
            "Data columns (total 29 columns):\n",
            " #   Column                Non-Null Count   Dtype  \n",
            "---  ------                --------------   -----  \n",
            " 0   regio1                215031 non-null  object \n",
            " 1   serviceCharge         215031 non-null  float64\n",
            " 2   heatingType           180094 non-null  object \n",
            " 3   telekomTvOffer        189522 non-null  object \n",
            " 4   newlyConst            215031 non-null  bool   \n",
            " 5   balcony               215031 non-null  bool   \n",
            " 6   picturecount          215031 non-null  int64  \n",
            " 7   pricetrend            215031 non-null  float64\n",
            " 8   telekomUploadSpeed    215031 non-null  float64\n",
            " 9   totalRent             215031 non-null  float64\n",
            " 10  yearConstructed       215031 non-null  float64\n",
            " 11  hasKitchen            215031 non-null  bool   \n",
            " 12  geo_bln               215031 non-null  object \n",
            " 13  cellar                215031 non-null  bool   \n",
            " 14  yearConstructedRange  215031 non-null  float64\n",
            " 15  baseRent              215031 non-null  float64\n",
            " 16  livingSpace           215031 non-null  float64\n",
            " 17  condition             215031 non-null  object \n",
            " 18  interiorQual          130245 non-null  object \n",
            " 19  lift                  215031 non-null  bool   \n",
            " 20  baseRentRange         215031 non-null  int64  \n",
            " 21  typeOfFlat            185880 non-null  object \n",
            " 22  geo_plz               215031 non-null  int64  \n",
            " 23  noRooms               215031 non-null  float64\n",
            " 24  floor                 215031 non-null  float64\n",
            " 25  numberOfFloors        215031 non-null  float64\n",
            " 26  noRoomsRange          215031 non-null  int64  \n",
            " 27  garden                215031 non-null  bool   \n",
            " 28  livingSpaceRange      215031 non-null  int64  \n",
            "dtypes: bool(6), float64(11), int64(5), object(7)\n",
            "memory usage: 48.7+ MB\n"
          ]
        }
      ]
    },
    {
      "cell_type": "code",
      "source": [
        "import plotly.express as px\n",
        "grdsp = df.groupby([\"typeOfFlat\"])[[\"baseRent\"]].mean().reset_index()\n",
        "dfflat = pd.DataFrame(df[['typeOfFlat' , 'baseRent']])\n",
        "dfflatrent = dfflat.groupby(['typeOfFlat']).mean()\n",
        "y = np.array(dfflatrent['baseRent'])\n",
        "dfflatrent.plot.pie(subplots=True)\n",
        "dfflatrent.plot(kind='bar')\n"
      ],
      "metadata": {
        "id": "qDtI-sxyveFJ",
        "colab": {
          "base_uri": "https://localhost:8080/",
          "height": 1000
        },
        "outputId": "c391df30-51c5-4ca1-8582-29f5fc6cc01d"
      },
      "execution_count": 304,
      "outputs": [
        {
          "output_type": "execute_result",
          "data": {
            "text/plain": [
              "<matplotlib.axes._subplots.AxesSubplot at 0x7fcad663d610>"
            ]
          },
          "metadata": {},
          "execution_count": 304
        },
        {
          "output_type": "display_data",
          "data": {
            "text/plain": [
              "<Figure size 1080x720 with 1 Axes>"
            ],
            "image/png": "[encoded data removed]"
          },
          "metadata": {}
        },
        {
          "output_type": "display_data",
          "data": {
            "text/plain": [
              "<Figure size 1080x720 with 1 Axes>"
            ],
            "image/png": "[encoded data removed]"
          },
          "metadata": {}
        }
      ]
    },
    {
      "cell_type": "code",
      "source": [
        "df.info()"
      ],
      "metadata": {
        "colab": {
          "base_uri": "https://localhost:8080/"
        },
        "id": "8rkvu25YXyyv",
        "outputId": "802eb821-11fe-4540-9e52-d619a22296dd"
      },
      "execution_count": 305,
      "outputs": [
        {
          "output_type": "stream",
          "name": "stdout",
          "text": [
            "<class 'pandas.core.frame.DataFrame'>\n",
            "Int64Index: 215031 entries, 0 to 268848\n",
            "Data columns (total 29 columns):\n",
            " #   Column                Non-Null Count   Dtype  \n",
            "---  ------                --------------   -----  \n",
            " 0   regio1                215031 non-null  object \n",
            " 1   serviceCharge         215031 non-null  float64\n",
            " 2   heatingType           180094 non-null  object \n",
            " 3   telekomTvOffer        189522 non-null  object \n",
            " 4   newlyConst            215031 non-null  bool   \n",
            " 5   balcony               215031 non-null  bool   \n",
            " 6   picturecount          215031 non-null  int64  \n",
            " 7   pricetrend            215031 non-null  float64\n",
            " 8   telekomUploadSpeed    215031 non-null  float64\n",
            " 9   totalRent             215031 non-null  float64\n",
            " 10  yearConstructed       215031 non-null  float64\n",
            " 11  hasKitchen            215031 non-null  bool   \n",
            " 12  geo_bln               215031 non-null  object \n",
            " 13  cellar                215031 non-null  bool   \n",
            " 14  yearConstructedRange  215031 non-null  float64\n",
            " 15  baseRent              215031 non-null  float64\n",
            " 16  livingSpace           215031 non-null  float64\n",
            " 17  condition             215031 non-null  object \n",
            " 18  interiorQual          130245 non-null  object \n",
            " 19  lift                  215031 non-null  bool   \n",
            " 20  baseRentRange         215031 non-null  int64  \n",
            " 21  typeOfFlat            185880 non-null  object \n",
            " 22  geo_plz               215031 non-null  int64  \n",
            " 23  noRooms               215031 non-null  float64\n",
            " 24  floor                 215031 non-null  float64\n",
            " 25  numberOfFloors        215031 non-null  float64\n",
            " 26  noRoomsRange          215031 non-null  int64  \n",
            " 27  garden                215031 non-null  bool   \n",
            " 28  livingSpaceRange      215031 non-null  int64  \n",
            "dtypes: bool(6), float64(11), int64(5), object(7)\n",
            "memory usage: 48.7+ MB\n"
          ]
        }
      ]
    },
    {
      "cell_type": "markdown",
      "source": [
        "# price prediction"
      ],
      "metadata": {
        "id": "shM6UPRR0PIH"
      }
    },
    {
      "cell_type": "code",
      "source": [
        "df.fillna(df._get_numeric_data().mean(),inplace = True)"
      ],
      "metadata": {
        "id": "Aj_aW6RNLhxD"
      },
      "execution_count": 306,
      "outputs": []
    },
    {
      "cell_type": "code",
      "source": [
        "from sklearn import preprocessing\n",
        "df1 = df.select_dtypes(['number']) #drop non numerical columns   \n",
        "df1 = pd.DataFrame(df1)"
      ],
      "metadata": {
        "id": "XFWQDx-Q0SUV"
      },
      "execution_count": 307,
      "outputs": []
    },
    {
      "cell_type": "code",
      "source": [
        "from sklearn.preprocessing import MinMaxScaler\n",
        "scale = MinMaxScaler()\n",
        "df1 = pd.DataFrame(scale.fit_transform(df1.values), columns=df1.columns, index=df1.index)"
      ],
      "metadata": {
        "id": "Lr3nlD4-JrBr"
      },
      "execution_count": 308,
      "outputs": []
    },
    {
      "cell_type": "code",
      "source": [
        "df1.head()"
      ],
      "metadata": {
        "colab": {
          "base_uri": "https://localhost:8080/",
          "height": 270
        },
        "id": "aEhLynkYJ0lH",
        "outputId": "e90d4247-f5d9-41b5-b608-11fa2c446591"
      },
      "execution_count": 309,
      "outputs": [
        {
          "output_type": "execute_result",
          "data": {
            "text/plain": [
              "   serviceCharge  picturecount  pricetrend  telekomUploadSpeed  totalRent  \\\n",
              "0       0.216814      0.206897    0.602349            0.230769   0.012978   \n",
              "2       0.225664      0.275862    0.442953            0.035897   0.020093   \n",
              "4       0.122124      0.655172    0.421141            0.715710   0.013952   \n",
              "6       0.061947      0.310345    0.299497            0.035897   0.005862   \n",
              "7       0.077876      0.172414    0.373322            0.035897   0.009022   \n",
              "\n",
              "   yearConstructed  yearConstructedRange  baseRent  livingSpace  \\\n",
              "0         0.691892                 0.125  0.286333     0.566704   \n",
              "2         0.983784                 1.000  0.464389     0.552037   \n",
              "4         0.610811                 0.000  0.368142     0.559837   \n",
              "6         0.654054                 0.125  0.149182     0.406694   \n",
              "7         0.659459                 0.125  0.217637     0.395360   \n",
              "\n",
              "   baseRentRange   geo_plz   noRooms     floor  numberOfFloors  noRoomsRange  \\\n",
              "0          0.375  0.437910  0.461538  0.153846        0.142857          0.75   \n",
              "2          0.625  0.002471  0.307692  0.307692        0.190476          0.50   \n",
              "4          0.500  0.275967  0.307692  0.153846        0.166028          0.50   \n",
              "6          0.125  0.088223  0.153846  0.153846        0.190476          0.25   \n",
              "7          0.250  0.281050  0.307692  0.235765        0.166028          0.50   \n",
              "\n",
              "   livingSpaceRange  \n",
              "0               0.6  \n",
              "2               0.6  \n",
              "4               0.6  \n",
              "6               0.4  \n",
              "7               0.2  "
            ],
            "text/html": [
              "\n",
              "  <div id=\"df-63987679-8cf3-41d0-af87-45d5b780147c\">\n",
              "    <div class=\"colab-df-container\">\n",
              "      <div>\n",
              "<style scoped>\n",
              "    .dataframe tbody tr th:only-of-type {\n",
              "        vertical-align: middle;\n",
              "    }\n",
              "\n",
              "    .dataframe tbody tr th {\n",
              "        vertical-align: top;\n",
              "    }\n",
              "\n",
              "    .dataframe thead th {\n",
              "        text-align: right;\n",
              "    }\n",
              "</style>\n",
              "<table border=\"1\" class=\"dataframe\">\n",
              "  <thead>\n",
              "    <tr style=\"text-align: right;\">\n",
              "      <th></th>\n",
              "      <th>serviceCharge</th>\n",
              "      <th>picturecount</th>\n",
              "      <th>pricetrend</th>\n",
              "      <th>telekomUploadSpeed</th>\n",
              "      <th>totalRent</th>\n",
              "      <th>yearConstructed</th>\n",
              "      <th>yearConstructedRange</th>\n",
              "      <th>baseRent</th>\n",
              "      <th>livingSpace</th>\n",
              "      <th>baseRentRange</th>\n",
              "      <th>geo_plz</th>\n",
              "      <th>noRooms</th>\n",
              "      <th>floor</th>\n",
              "      <th>numberOfFloors</th>\n",
              "      <th>noRoomsRange</th>\n",
              "      <th>livingSpaceRange</th>\n",
              "    </tr>\n",
              "  </thead>\n",
              "  <tbody>\n",
              "    <tr>\n",
              "      <th>0</th>\n",
              "      <td>0.216814</td>\n",
              "      <td>0.206897</td>\n",
              "      <td>0.602349</td>\n",
              "      <td>0.230769</td>\n",
              "      <td>0.012978</td>\n",
              "      <td>0.691892</td>\n",
              "      <td>0.125</td>\n",
              "      <td>0.286333</td>\n",
              "      <td>0.566704</td>\n",
              "      <td>0.375</td>\n",
              "      <td>0.437910</td>\n",
              "      <td>0.461538</td>\n",
              "      <td>0.153846</td>\n",
              "      <td>0.142857</td>\n",
              "      <td>0.75</td>\n",
              "      <td>0.6</td>\n",
              "    </tr>\n",
              "    <tr>\n",
              "      <th>2</th>\n",
              "      <td>0.225664</td>\n",
              "      <td>0.275862</td>\n",
              "      <td>0.442953</td>\n",
              "      <td>0.035897</td>\n",
              "      <td>0.020093</td>\n",
              "      <td>0.983784</td>\n",
              "      <td>1.000</td>\n",
              "      <td>0.464389</td>\n",
              "      <td>0.552037</td>\n",
              "      <td>0.625</td>\n",
              "      <td>0.002471</td>\n",
              "      <td>0.307692</td>\n",
              "      <td>0.307692</td>\n",
              "      <td>0.190476</td>\n",
              "      <td>0.50</td>\n",
              "      <td>0.6</td>\n",
              "    </tr>\n",
              "    <tr>\n",
              "      <th>4</th>\n",
              "      <td>0.122124</td>\n",
              "      <td>0.655172</td>\n",
              "      <td>0.421141</td>\n",
              "      <td>0.715710</td>\n",
              "      <td>0.013952</td>\n",
              "      <td>0.610811</td>\n",
              "      <td>0.000</td>\n",
              "      <td>0.368142</td>\n",
              "      <td>0.559837</td>\n",
              "      <td>0.500</td>\n",
              "      <td>0.275967</td>\n",
              "      <td>0.307692</td>\n",
              "      <td>0.153846</td>\n",
              "      <td>0.166028</td>\n",
              "      <td>0.50</td>\n",
              "      <td>0.6</td>\n",
              "    </tr>\n",
              "    <tr>\n",
              "      <th>6</th>\n",
              "      <td>0.061947</td>\n",
              "      <td>0.310345</td>\n",
              "      <td>0.299497</td>\n",
              "      <td>0.035897</td>\n",
              "      <td>0.005862</td>\n",
              "      <td>0.654054</td>\n",
              "      <td>0.125</td>\n",
              "      <td>0.149182</td>\n",
              "      <td>0.406694</td>\n",
              "      <td>0.125</td>\n",
              "      <td>0.088223</td>\n",
              "      <td>0.153846</td>\n",
              "      <td>0.153846</td>\n",
              "      <td>0.190476</td>\n",
              "      <td>0.25</td>\n",
              "      <td>0.4</td>\n",
              "    </tr>\n",
              "    <tr>\n",
              "      <th>7</th>\n",
              "      <td>0.077876</td>\n",
              "      <td>0.172414</td>\n",
              "      <td>0.373322</td>\n",
              "      <td>0.035897</td>\n",
              "      <td>0.009022</td>\n",
              "      <td>0.659459</td>\n",
              "      <td>0.125</td>\n",
              "      <td>0.217637</td>\n",
              "      <td>0.395360</td>\n",
              "      <td>0.250</td>\n",
              "      <td>0.281050</td>\n",
              "      <td>0.307692</td>\n",
              "      <td>0.235765</td>\n",
              "      <td>0.166028</td>\n",
              "      <td>0.50</td>\n",
              "      <td>0.2</td>\n",
              "    </tr>\n",
              "  </tbody>\n",
              "</table>\n",
              "</div>\n",
              "      <button class=\"colab-df-convert\" onclick=\"convertToInteractive('df-63987679-8cf3-41d0-af87-45d5b780147c')\"\n",
              "              title=\"Convert this dataframe to an interactive table.\"\n",
              "              style=\"display:none;\">\n",
              "        \n",
              "  <svg xmlns=\"http://www.w3.org/2000/svg\" height=\"24px\"viewBox=\"0 0 24 24\"\n",
              "       width=\"24px\">\n",
              "    <path d=\"M0 0h24v24H0V0z\" fill=\"none\"/>\n",
              "    <path d=\"M18.56 5.44l.94 2.06.94-2.06 2.06-.94-2.06-.94-.94-2.06-.94 2.06-2.06.94zm-11 1L8.5 8.5l.94-2.06 2.06-.94-2.06-.94L8.5 2.5l-.94 2.06-2.06.94zm10 10l.94 2.06.94-2.06 2.06-.94-2.06-.94-.94-2.06-.94 2.06-2.06.94z\"/><path d=\"M17.41 7.96l-1.37-1.37c-.4-.4-.92-.59-1.43-.59-.52 0-1.04.2-1.43.59L10.3 9.45l-7.72 7.72c-.78.78-.78 2.05 0 2.83L4 21.41c.39.39.9.59 1.41.59.51 0 1.02-.2 1.41-.59l7.78-7.78 2.81-2.81c.8-.78.8-2.07 0-2.86zM5.41 20L4 18.59l7.72-7.72 1.47 1.35L5.41 20z\"/>\n",
              "  </svg>\n",
              "      </button>\n",
              "      \n",
              "  <style>\n",
              "    .colab-df-container {\n",
              "      display:flex;\n",
              "      flex-wrap:wrap;\n",
              "      gap: 12px;\n",
              "    }\n",
              "\n",
              "    .colab-df-convert {\n",
              "      background-color: #E8F0FE;\n",
              "      border: none;\n",
              "      border-radius: 50%;\n",
              "      cursor: pointer;\n",
              "      display: none;\n",
              "      fill: #1967D2;\n",
              "      height: 32px;\n",
              "      padding: 0 0 0 0;\n",
              "      width: 32px;\n",
              "    }\n",
              "\n",
              "    .colab-df-convert:hover {\n",
              "      background-color: #E2EBFA;\n",
              "      box-shadow: 0px 1px 2px rgba(60, 64, 67, 0.3), 0px 1px 3px 1px rgba(60, 64, 67, 0.15);\n",
              "      fill: #174EA6;\n",
              "    }\n",
              "\n",
              "    [theme=dark] .colab-df-convert {\n",
              "      background-color: #3B4455;\n",
              "      fill: #D2E3FC;\n",
              "    }\n",
              "\n",
              "    [theme=dark] .colab-df-convert:hover {\n",
              "      background-color: #434B5C;\n",
              "      box-shadow: 0px 1px 3px 1px rgba(0, 0, 0, 0.15);\n",
              "      filter: drop-shadow(0px 1px 2px rgba(0, 0, 0, 0.3));\n",
              "      fill: #FFFFFF;\n",
              "    }\n",
              "  </style>\n",
              "\n",
              "      <script>\n",
              "        const buttonEl =\n",
              "          document.querySelector('#df-63987679-8cf3-41d0-af87-45d5b780147c button.colab-df-convert');\n",
              "        buttonEl.style.display =\n",
              "          google.colab.kernel.accessAllowed ? 'block' : 'none';\n",
              "\n",
              "        async function convertToInteractive(key) {\n",
              "          const element = document.querySelector('#df-63987679-8cf3-41d0-af87-45d5b780147c');\n",
              "          const dataTable =\n",
              "            await google.colab.kernel.invokeFunction('convertToInteractive',\n",
              "                                                     [key], {});\n",
              "          if (!dataTable) return;\n",
              "\n",
              "          const docLinkHtml = 'Like what you see? Visit the ' +\n",
              "            '<a target=\"_blank\" href=https://colab.research.google.com/notebooks/data_table.ipynb>data table notebook</a>'\n",
              "            + ' to learn more about interactive tables.';\n",
              "          element.innerHTML = '';\n",
              "          dataTable['output_type'] = 'display_data';\n",
              "          await google.colab.output.renderOutput(dataTable, element);\n",
              "          const docLink = document.createElement('div');\n",
              "          docLink.innerHTML = docLinkHtml;\n",
              "          element.appendChild(docLink);\n",
              "        }\n",
              "      </script>\n",
              "    </div>\n",
              "  </div>\n",
              "  "
            ]
          },
          "metadata": {},
          "execution_count": 309
        }
      ]
    },
    {
      "cell_type": "code",
      "source": [
        "dfcorr = df1.corr()\n",
        "import numpy as np; np.random.seed(0)\n",
        "import seaborn as sns; sns.set_theme()\n",
        "ax = sns.heatmap(dfcorr)"
      ],
      "metadata": {
        "colab": {
          "base_uri": "https://localhost:8080/",
          "height": 715
        },
        "id": "5dIhEH8-18F2",
        "outputId": "4202691f-069c-4d6b-cbb0-2dda14efda25"
      },
      "execution_count": 310,
      "outputs": [
        {
          "output_type": "display_data",
          "data": {
            "text/plain": [
              "<Figure size 1080x720 with 2 Axes>"
            ],
            "image/png": "[encoded data removed]"
          },
          "metadata": {}
        }
      ]
    },
    {
      "cell_type": "code",
      "source": [
        "df2 = df.select_dtypes(['object']) \n",
        "df2 = pd.DataFrame(df2)\n",
        "df3 = pd.get_dummies(df2)\n",
        "for col in df2.columns:\n",
        "  df= df.drop(col,axis=1)\n",
        "df = pd.concat([df, df3], axis=1)"
      ],
      "metadata": {
        "id": "PkZRd_D3Onjr"
      },
      "execution_count": 311,
      "outputs": []
    },
    {
      "cell_type": "code",
      "source": [
        "df.replace({False: 0, True: 1}, inplace=True) #one-hot encoding the boolean values"
      ],
      "metadata": {
        "id": "yE15pJ7qPeqQ"
      },
      "execution_count": 312,
      "outputs": []
    },
    {
      "cell_type": "code",
      "source": [
        "df.head()"
      ],
      "metadata": {
        "colab": {
          "base_uri": "https://localhost:8080/",
          "height": 299
        },
        "id": "B-kWK5gacKwk",
        "outputId": "120363fd-b347-41fd-ece2-e48f462c41a8"
      },
      "execution_count": 313,
      "outputs": [
        {
          "output_type": "execute_result",
          "data": {
            "text/plain": [
              "   serviceCharge  newlyConst  balcony  picturecount  pricetrend  \\\n",
              "0          245.0           0        0             6        4.62   \n",
              "2          255.0           1        1             8        2.72   \n",
              "4          138.0           0        1            19        2.46   \n",
              "6           70.0           0        0             9        1.01   \n",
              "7           88.0           0        1             5        1.89   \n",
              "\n",
              "   telekomUploadSpeed  totalRent  yearConstructed  hasKitchen  cellar  ...  \\\n",
              "0           10.000000     840.00           1965.0           0       1  ...   \n",
              "2            2.400000    1300.00           2019.0           0       1  ...   \n",
              "4           28.912697     903.00           1950.0           0       0  ...   \n",
              "6            2.400000     380.00           1958.0           0       1  ...   \n",
              "7            2.400000     584.25           1959.0           0       1  ...   \n",
              "\n",
              "   typeOfFlat_apartment  typeOfFlat_ground_floor  typeOfFlat_half_basement  \\\n",
              "0                     0                        1                         0   \n",
              "2                     1                        0                         0   \n",
              "4                     1                        0                         0   \n",
              "6                     0                        0                         0   \n",
              "7                     0                        1                         0   \n",
              "\n",
              "   typeOfFlat_loft  typeOfFlat_maisonette  typeOfFlat_other  \\\n",
              "0                0                      0                 0   \n",
              "2                0                      0                 0   \n",
              "4                0                      0                 0   \n",
              "6                0                      0                 0   \n",
              "7                0                      0                 0   \n",
              "\n",
              "   typeOfFlat_penthouse  typeOfFlat_raised_ground_floor  \\\n",
              "0                     0                               0   \n",
              "2                     0                               0   \n",
              "4                     0                               0   \n",
              "6                     0                               0   \n",
              "7                     0                               0   \n",
              "\n",
              "   typeOfFlat_roof_storey  typeOfFlat_terraced_flat  \n",
              "0                       0                         0  \n",
              "2                       0                         0  \n",
              "4                       0                         0  \n",
              "6                       0                         0  \n",
              "7                       0                         0  \n",
              "\n",
              "[5 rows x 95 columns]"
            ],
            "text/html": [
              "\n",
              "  <div id=\"df-18c9d62a-0c95-4a40-b2b2-403da049911f\">\n",
              "    <div class=\"colab-df-container\">\n",
              "      <div>\n",
              "<style scoped>\n",
              "    .dataframe tbody tr th:only-of-type {\n",
              "        vertical-align: middle;\n",
              "    }\n",
              "\n",
              "    .dataframe tbody tr th {\n",
              "        vertical-align: top;\n",
              "    }\n",
              "\n",
              "    .dataframe thead th {\n",
              "        text-align: right;\n",
              "    }\n",
              "</style>\n",
              "<table border=\"1\" class=\"dataframe\">\n",
              "  <thead>\n",
              "    <tr style=\"text-align: right;\">\n",
              "      <th></th>\n",
              "      <th>serviceCharge</th>\n",
              "      <th>newlyConst</th>\n",
              "      <th>balcony</th>\n",
              "      <th>picturecount</th>\n",
              "      <th>pricetrend</th>\n",
              "      <th>telekomUploadSpeed</th>\n",
              "      <th>totalRent</th>\n",
              "      <th>yearConstructed</th>\n",
              "      <th>hasKitchen</th>\n",
              "      <th>cellar</th>\n",
              "      <th>...</th>\n",
              "      <th>typeOfFlat_apartment</th>\n",
              "      <th>typeOfFlat_ground_floor</th>\n",
              "      <th>typeOfFlat_half_basement</th>\n",
              "      <th>typeOfFlat_loft</th>\n",
              "      <th>typeOfFlat_maisonette</th>\n",
              "      <th>typeOfFlat_other</th>\n",
              "      <th>typeOfFlat_penthouse</th>\n",
              "      <th>typeOfFlat_raised_ground_floor</th>\n",
              "      <th>typeOfFlat_roof_storey</th>\n",
              "      <th>typeOfFlat_terraced_flat</th>\n",
              "    </tr>\n",
              "  </thead>\n",
              "  <tbody>\n",
              "    <tr>\n",
              "      <th>0</th>\n",
              "      <td>245.0</td>\n",
              "      <td>0</td>\n",
              "      <td>0</td>\n",
              "      <td>6</td>\n",
              "      <td>4.62</td>\n",
              "      <td>10.000000</td>\n",
              "      <td>840.00</td>\n",
              "      <td>1965.0</td>\n",
              "      <td>0</td>\n",
              "      <td>1</td>\n",
              "      <td>...</td>\n",
              "      <td>0</td>\n",
              "      <td>1</td>\n",
              "      <td>0</td>\n",
              "      <td>0</td>\n",
              "      <td>0</td>\n",
              "      <td>0</td>\n",
              "      <td>0</td>\n",
              "      <td>0</td>\n",
              "      <td>0</td>\n",
              "      <td>0</td>\n",
              "    </tr>\n",
              "    <tr>\n",
              "      <th>2</th>\n",
              "      <td>255.0</td>\n",
              "      <td>1</td>\n",
              "      <td>1</td>\n",
              "      <td>8</td>\n",
              "      <td>2.72</td>\n",
              "      <td>2.400000</td>\n",
              "      <td>1300.00</td>\n",
              "      <td>2019.0</td>\n",
              "      <td>0</td>\n",
              "      <td>1</td>\n",
              "      <td>...</td>\n",
              "      <td>1</td>\n",
              "      <td>0</td>\n",
              "      <td>0</td>\n",
              "      <td>0</td>\n",
              "      <td>0</td>\n",
              "      <td>0</td>\n",
              "      <td>0</td>\n",
              "      <td>0</td>\n",
              "      <td>0</td>\n",
              "      <td>0</td>\n",
              "    </tr>\n",
              "    <tr>\n",
              "      <th>4</th>\n",
              "      <td>138.0</td>\n",
              "      <td>0</td>\n",
              "      <td>1</td>\n",
              "      <td>19</td>\n",
              "      <td>2.46</td>\n",
              "      <td>28.912697</td>\n",
              "      <td>903.00</td>\n",
              "      <td>1950.0</td>\n",
              "      <td>0</td>\n",
              "      <td>0</td>\n",
              "      <td>...</td>\n",
              "      <td>1</td>\n",
              "      <td>0</td>\n",
              "      <td>0</td>\n",
              "      <td>0</td>\n",
              "      <td>0</td>\n",
              "      <td>0</td>\n",
              "      <td>0</td>\n",
              "      <td>0</td>\n",
              "      <td>0</td>\n",
              "      <td>0</td>\n",
              "    </tr>\n",
              "    <tr>\n",
              "      <th>6</th>\n",
              "      <td>70.0</td>\n",
              "      <td>0</td>\n",
              "      <td>0</td>\n",
              "      <td>9</td>\n",
              "      <td>1.01</td>\n",
              "      <td>2.400000</td>\n",
              "      <td>380.00</td>\n",
              "      <td>1958.0</td>\n",
              "      <td>0</td>\n",
              "      <td>1</td>\n",
              "      <td>...</td>\n",
              "      <td>0</td>\n",
              "      <td>0</td>\n",
              "      <td>0</td>\n",
              "      <td>0</td>\n",
              "      <td>0</td>\n",
              "      <td>0</td>\n",
              "      <td>0</td>\n",
              "      <td>0</td>\n",
              "      <td>0</td>\n",
              "      <td>0</td>\n",
              "    </tr>\n",
              "    <tr>\n",
              "      <th>7</th>\n",
              "      <td>88.0</td>\n",
              "      <td>0</td>\n",
              "      <td>1</td>\n",
              "      <td>5</td>\n",
              "      <td>1.89</td>\n",
              "      <td>2.400000</td>\n",
              "      <td>584.25</td>\n",
              "      <td>1959.0</td>\n",
              "      <td>0</td>\n",
              "      <td>1</td>\n",
              "      <td>...</td>\n",
              "      <td>0</td>\n",
              "      <td>1</td>\n",
              "      <td>0</td>\n",
              "      <td>0</td>\n",
              "      <td>0</td>\n",
              "      <td>0</td>\n",
              "      <td>0</td>\n",
              "      <td>0</td>\n",
              "      <td>0</td>\n",
              "      <td>0</td>\n",
              "    </tr>\n",
              "  </tbody>\n",
              "</table>\n",
              "<p>5 rows × 95 columns</p>\n",
              "</div>\n",
              "      <button class=\"colab-df-convert\" onclick=\"convertToInteractive('df-18c9d62a-0c95-4a40-b2b2-403da049911f')\"\n",
              "              title=\"Convert this dataframe to an interactive table.\"\n",
              "              style=\"display:none;\">\n",
              "        \n",
              "  <svg xmlns=\"http://www.w3.org/2000/svg\" height=\"24px\"viewBox=\"0 0 24 24\"\n",
              "       width=\"24px\">\n",
              "    <path d=\"M0 0h24v24H0V0z\" fill=\"none\"/>\n",
              "    <path d=\"M18.56 5.44l.94 2.06.94-2.06 2.06-.94-2.06-.94-.94-2.06-.94 2.06-2.06.94zm-11 1L8.5 8.5l.94-2.06 2.06-.94-2.06-.94L8.5 2.5l-.94 2.06-2.06.94zm10 10l.94 2.06.94-2.06 2.06-.94-2.06-.94-.94-2.06-.94 2.06-2.06.94z\"/><path d=\"M17.41 7.96l-1.37-1.37c-.4-.4-.92-.59-1.43-.59-.52 0-1.04.2-1.43.59L10.3 9.45l-7.72 7.72c-.78.78-.78 2.05 0 2.83L4 21.41c.39.39.9.59 1.41.59.51 0 1.02-.2 1.41-.59l7.78-7.78 2.81-2.81c.8-.78.8-2.07 0-2.86zM5.41 20L4 18.59l7.72-7.72 1.47 1.35L5.41 20z\"/>\n",
              "  </svg>\n",
              "      </button>\n",
              "      \n",
              "  <style>\n",
              "    .colab-df-container {\n",
              "      display:flex;\n",
              "      flex-wrap:wrap;\n",
              "      gap: 12px;\n",
              "    }\n",
              "\n",
              "    .colab-df-convert {\n",
              "      background-color: #E8F0FE;\n",
              "      border: none;\n",
              "      border-radius: 50%;\n",
              "      cursor: pointer;\n",
              "      display: none;\n",
              "      fill: #1967D2;\n",
              "      height: 32px;\n",
              "      padding: 0 0 0 0;\n",
              "      width: 32px;\n",
              "    }\n",
              "\n",
              "    .colab-df-convert:hover {\n",
              "      background-color: #E2EBFA;\n",
              "      box-shadow: 0px 1px 2px rgba(60, 64, 67, 0.3), 0px 1px 3px 1px rgba(60, 64, 67, 0.15);\n",
              "      fill: #174EA6;\n",
              "    }\n",
              "\n",
              "    [theme=dark] .colab-df-convert {\n",
              "      background-color: #3B4455;\n",
              "      fill: #D2E3FC;\n",
              "    }\n",
              "\n",
              "    [theme=dark] .colab-df-convert:hover {\n",
              "      background-color: #434B5C;\n",
              "      box-shadow: 0px 1px 3px 1px rgba(0, 0, 0, 0.15);\n",
              "      filter: drop-shadow(0px 1px 2px rgba(0, 0, 0, 0.3));\n",
              "      fill: #FFFFFF;\n",
              "    }\n",
              "  </style>\n",
              "\n",
              "      <script>\n",
              "        const buttonEl =\n",
              "          document.querySelector('#df-18c9d62a-0c95-4a40-b2b2-403da049911f button.colab-df-convert');\n",
              "        buttonEl.style.display =\n",
              "          google.colab.kernel.accessAllowed ? 'block' : 'none';\n",
              "\n",
              "        async function convertToInteractive(key) {\n",
              "          const element = document.querySelector('#df-18c9d62a-0c95-4a40-b2b2-403da049911f');\n",
              "          const dataTable =\n",
              "            await google.colab.kernel.invokeFunction('convertToInteractive',\n",
              "                                                     [key], {});\n",
              "          if (!dataTable) return;\n",
              "\n",
              "          const docLinkHtml = 'Like what you see? Visit the ' +\n",
              "            '<a target=\"_blank\" href=https://colab.research.google.com/notebooks/data_table.ipynb>data table notebook</a>'\n",
              "            + ' to learn more about interactive tables.';\n",
              "          element.innerHTML = '';\n",
              "          dataTable['output_type'] = 'display_data';\n",
              "          await google.colab.output.renderOutput(dataTable, element);\n",
              "          const docLink = document.createElement('div');\n",
              "          docLink.innerHTML = docLinkHtml;\n",
              "          element.appendChild(docLink);\n",
              "        }\n",
              "      </script>\n",
              "    </div>\n",
              "  </div>\n",
              "  "
            ]
          },
          "metadata": {},
          "execution_count": 313
        }
      ]
    },
    {
      "cell_type": "code",
      "source": [
        "x = df.drop('totalRent',axis=1)\n",
        "y = df['totalRent']"
      ],
      "metadata": {
        "id": "jEZaZAxL-y__"
      },
      "execution_count": 314,
      "outputs": []
    },
    {
      "cell_type": "code",
      "source": [
        "from sklearn.model_selection import train_test_split\n",
        "X_train, X_test, y_train, y_test = train_test_split(x, y, test_size=0.25)"
      ],
      "metadata": {
        "id": "rht2M1qC-zCm"
      },
      "execution_count": 315,
      "outputs": []
    },
    {
      "cell_type": "code",
      "source": [
        "from sklearn.linear_model import LinearRegression\n",
        "reg = LinearRegression().fit(X_train, y_train)\n",
        "acc_dt= round(reg.score(X_test,y_test) * 100, 2)\n",
        "print(acc_dt)"
      ],
      "metadata": {
        "colab": {
          "base_uri": "https://localhost:8080/"
        },
        "id": "8kuB9vJ_WsNe",
        "outputId": "4b4cdf37-00e7-4c56-b4a5-bd8b72d2de1a"
      },
      "execution_count": 316,
      "outputs": [
        {
          "output_type": "stream",
          "name": "stdout",
          "text": [
            "94.46\n"
          ]
        }
      ]
    },
    {
      "cell_type": "code",
      "source": [
        "from sklearn.metrics import r2_score\n",
        "pred = reg.predict(X_test)\n",
        "r2_score(y_test, pred)*100"
      ],
      "metadata": {
        "colab": {
          "base_uri": "https://localhost:8080/"
        },
        "id": "QkKMm1_TqzB-",
        "outputId": "552d9d34-bd90-41c0-a39f-83de9e978356"
      },
      "execution_count": 317,
      "outputs": [
        {
          "output_type": "execute_result",
          "data": {
            "text/plain": [
              "94.46479495080436"
            ]
          },
          "metadata": {},
          "execution_count": 317
        }
      ]
    },
    {
      "cell_type": "markdown",
      "source": [
        "### multiprocessing"
      ],
      "metadata": {
        "id": "nz7s9CVpaboM"
      }
    },
    {
      "cell_type": "code",
      "source": [
        "import multiprocessing as mp\n",
        "from multiprocessing import Pool, cpu_count\n",
        "df = dfOriginal.copy()"
      ],
      "metadata": {
        "id": "Mu_dXQBh-zHm"
      },
      "execution_count": 318,
      "outputs": []
    },
    {
      "cell_type": "code",
      "source": [
        "df.info()"
      ],
      "metadata": {
        "colab": {
          "base_uri": "https://localhost:8080/"
        },
        "id": "TuEaF8cscbkw",
        "outputId": "21a9e877-5526-4c8e-db5d-d30f82e74e3d"
      },
      "execution_count": 319,
      "outputs": [
        {
          "output_type": "stream",
          "name": "stdout",
          "text": [
            "<class 'pandas.core.frame.DataFrame'>\n",
            "RangeIndex: 268850 entries, 0 to 268849\n",
            "Data columns (total 49 columns):\n",
            " #   Column                    Non-Null Count   Dtype  \n",
            "---  ------                    --------------   -----  \n",
            " 0   regio1                    268850 non-null  object \n",
            " 1   serviceCharge             261941 non-null  float64\n",
            " 2   heatingType               223994 non-null  object \n",
            " 3   telekomTvOffer            236231 non-null  object \n",
            " 4   telekomHybridUploadSpeed  45020 non-null   float64\n",
            " 5   newlyConst                268850 non-null  bool   \n",
            " 6   balcony                   268850 non-null  bool   \n",
            " 7   picturecount              268850 non-null  int64  \n",
            " 8   pricetrend                267018 non-null  float64\n",
            " 9   telekomUploadSpeed        235492 non-null  float64\n",
            " 10  totalRent                 228333 non-null  float64\n",
            " 11  yearConstructed           211805 non-null  float64\n",
            " 12  scoutId                   268850 non-null  int64  \n",
            " 13  noParkSpaces              93052 non-null   float64\n",
            " 14  firingTypes               211886 non-null  object \n",
            " 15  hasKitchen                268850 non-null  bool   \n",
            " 16  geo_bln                   268850 non-null  object \n",
            " 17  cellar                    268850 non-null  bool   \n",
            " 18  yearConstructedRange      211805 non-null  float64\n",
            " 19  baseRent                  268850 non-null  float64\n",
            " 20  houseNumber               197832 non-null  object \n",
            " 21  livingSpace               268850 non-null  float64\n",
            " 22  geo_krs                   268850 non-null  object \n",
            " 23  condition                 200361 non-null  object \n",
            " 24  interiorQual              156185 non-null  object \n",
            " 25  petsAllowed               154277 non-null  object \n",
            " 26  street                    268850 non-null  object \n",
            " 27  streetPlain               197837 non-null  object \n",
            " 28  lift                      268850 non-null  bool   \n",
            " 29  baseRentRange             268850 non-null  int64  \n",
            " 30  typeOfFlat                232236 non-null  object \n",
            " 31  geo_plz                   268850 non-null  int64  \n",
            " 32  noRooms                   268850 non-null  float64\n",
            " 33  thermalChar               162344 non-null  float64\n",
            " 34  floor                     217541 non-null  float64\n",
            " 35  numberOfFloors            171118 non-null  float64\n",
            " 36  noRoomsRange              268850 non-null  int64  \n",
            " 37  garden                    268850 non-null  bool   \n",
            " 38  livingSpaceRange          268850 non-null  int64  \n",
            " 39  regio2                    268850 non-null  object \n",
            " 40  regio3                    268850 non-null  object \n",
            " 41  description               249103 non-null  object \n",
            " 42  facilities                215926 non-null  object \n",
            " 43  heatingCosts              85518 non-null   float64\n",
            " 44  energyEfficiencyClass     77787 non-null   object \n",
            " 45  lastRefurbish             80711 non-null   float64\n",
            " 46  electricityBasePrice      46846 non-null   float64\n",
            " 47  electricityKwhPrice       46846 non-null   float64\n",
            " 48  date                      268850 non-null  object \n",
            "dtypes: bool(6), float64(18), int64(6), object(19)\n",
            "memory usage: 89.7+ MB\n"
          ]
        }
      ]
    },
    {
      "cell_type": "code",
      "source": [
        "sns.displot(df[\"regio1\"], bins=20)"
      ],
      "metadata": {
        "colab": {
          "base_uri": "https://localhost:8080/",
          "height": 383
        },
        "id": "NlQ3cVMdcWur",
        "outputId": "24e4c847-1554-4761-99c9-032efbae0c83"
      },
      "execution_count": 320,
      "outputs": [
        {
          "output_type": "execute_result",
          "data": {
            "text/plain": [
              "<seaborn.axisgrid.FacetGrid at 0x7fcadc1acc50>"
            ]
          },
          "metadata": {},
          "execution_count": 320
        },
        {
          "output_type": "display_data",
          "data": {
            "text/plain": [
              "<Figure size 360x360 with 1 Axes>"
            ],
            "image/png": "[encoded data removed]"
          },
          "metadata": {}
        }
      ]
    },
    {
      "cell_type": "code",
      "source": [
        "def dataCleaning(dfa):\n",
        "  dfa.dropna(subset=['totalRent'],inplace=True)\n",
        "  dfa = dfa.drop(dfa[dfa['totalRent'] == 0.0].index)\n",
        "  dfa = dfa.drop(dfa[dfa['totalRent'] < 0.0].index)\n",
        "  dfa = dfa.drop(dfa[dfa['livingSpace'] == 0.0].index)\n",
        "  dfa = dfa.drop(dfa[dfa['livingSpace'] < 0.0].index)\n",
        "  dfa = dfa.drop(dfa[dfa['yearConstructed'] >2022].index)\n",
        "  dfa = dfa.drop(dfa[dfa['baseRent'] < 0.0].index)\n",
        "  dfa['condition'].fillna(\"Other\", inplace=True)\n",
        "  dfa.duplicated(keep='last')\n",
        "  for col in dfa: ##deleting outliers\n",
        "    if dfa[col].dtype in (\"int\", \"float\"):\n",
        "        upper_range = dfa[col].mean() + 3 * dfa[col].std()\n",
        "        lower_range = dfa[col].mean() - 3 * dfa[col].std()\n",
        "        indexs = dfa[(dfa[col] > upper_range) | (dfa[col] < lower_range)].index\n",
        "        dfa = dfa.drop(indexs)  \n",
        "  for col in dfa:\n",
        "    if dfa[col].dtype in (\"int\", \"float\"):\n",
        "      dfa[col].fillna(dfa[col].mean(),inplace=True)          \n",
        "  return dfa"
      ],
      "metadata": {
        "id": "4Ih3LTv0-zJ7"
      },
      "execution_count": 321,
      "outputs": []
    },
    {
      "cell_type": "code",
      "source": [
        "gbos = df.groupby('regio1')\n",
        "df.shape"
      ],
      "metadata": {
        "colab": {
          "base_uri": "https://localhost:8080/"
        },
        "id": "VLiHaYU3S-FU",
        "outputId": "37778103-7516-4b40-c723-95d36bf81d4f"
      },
      "execution_count": 322,
      "outputs": [
        {
          "output_type": "execute_result",
          "data": {
            "text/plain": [
              "(268850, 49)"
            ]
          },
          "metadata": {},
          "execution_count": 322
        }
      ]
    },
    {
      "cell_type": "code",
      "source": [
        "s_time = time.time()\n",
        "with Pool(cpu_count()) as p:\n",
        "    res_list = list(p.imap(dataCleaning, [group for _, group in gbos]))\n",
        "df_edit = pd.concat(res_list)    \n",
        "print(f'run time : {time.time() - s_time}')"
      ],
      "metadata": {
        "id": "dvmRdkwb-zMY",
        "colab": {
          "base_uri": "https://localhost:8080/"
        },
        "outputId": "e3feb399-315e-4592-94d5-3602fa2269c6"
      },
      "execution_count": 323,
      "outputs": [
        {
          "output_type": "stream",
          "name": "stdout",
          "text": [
            "run time : 9.867691278457642\n"
          ]
        }
      ]
    },
    {
      "cell_type": "code",
      "source": [
        "df_edit"
      ],
      "metadata": {
        "colab": {
          "base_uri": "https://localhost:8080/",
          "height": 1000
        },
        "id": "oShaz4cMmq61",
        "outputId": "3985c4ba-a27b-4618-85a8-d8efaf625176"
      },
      "execution_count": 324,
      "outputs": [
        {
          "output_type": "execute_result",
          "data": {
            "text/plain": [
              "                   regio1  serviceCharge      heatingType telekomTvOffer  \\\n",
              "8       Baden_Württemberg     110.000000      oil_heating  ONE_YEAR_FREE   \n",
              "21      Baden_Württemberg       0.000000              NaN  ONE_YEAR_FREE   \n",
              "26      Baden_Württemberg      20.000000              NaN  ONE_YEAR_FREE   \n",
              "84      Baden_Württemberg     295.000000    floor_heating            NaN   \n",
              "107     Baden_Württemberg      84.000000  central_heating  ONE_YEAR_FREE   \n",
              "...                   ...            ...              ...            ...   \n",
              "268590          Thüringen     170.000000      gas_heating  ONE_YEAR_FREE   \n",
              "268620          Thüringen     115.374612              NaN  ONE_YEAR_FREE   \n",
              "268661          Thüringen     295.050000              NaN  ONE_YEAR_FREE   \n",
              "268711          Thüringen     115.374612              NaN            NaN   \n",
              "268797          Thüringen     173.470000              NaN  ONE_YEAR_FREE   \n",
              "\n",
              "        telekomHybridUploadSpeed  newlyConst  balcony  picturecount  \\\n",
              "8                           10.0       False    False             5   \n",
              "21                          10.0       False    False            13   \n",
              "26                          10.0       False    False             7   \n",
              "84                          10.0       False     True             2   \n",
              "107                         10.0       False     True            10   \n",
              "...                          ...         ...      ...           ...   \n",
              "268590                      10.0       False     True             8   \n",
              "268620                      10.0       False     True             6   \n",
              "268661                      10.0       False     True             3   \n",
              "268711                      10.0       False     True             8   \n",
              "268797                      10.0       False     True             3   \n",
              "\n",
              "        pricetrend  telekomUploadSpeed  ...                 regio2  \\\n",
              "8             3.77           40.000000  ...      Emmendingen_Kreis   \n",
              "21            5.63           40.000000  ...              Stuttgart   \n",
              "26            4.65           10.000000  ...        Esslingen_Kreis   \n",
              "84            6.46           27.485155  ...        Böblingen_Kreis   \n",
              "107           5.10           40.000000  ...            Baden_Baden   \n",
              "...            ...                 ...  ...                    ...   \n",
              "268590        2.19           40.000000  ...                   Gera   \n",
              "268620        2.92           40.000000  ...   Saale_Holzland_Kreis   \n",
              "268661        1.79            2.400000  ...  Unstrut_Hainich_Kreis   \n",
              "268711        1.99           29.457525  ...              Ilm_Kreis   \n",
              "268797        1.79            2.400000  ...  Unstrut_Hainich_Kreis   \n",
              "\n",
              "                      regio3  \\\n",
              "8                 Denzlingen   \n",
              "21             Bad_Cannstatt   \n",
              "26                 Nürtingen   \n",
              "84                 Böblingen   \n",
              "107               Innenstadt   \n",
              "...                      ...   \n",
              "268590              Gera_Ost   \n",
              "268620            Neuengönna   \n",
              "268661  Mühlhausen/Thüringen   \n",
              "268711           Langewiesen   \n",
              "268797  Mühlhausen/Thüringen   \n",
              "\n",
              "                                              description  \\\n",
              "8       Diese ansprechende, lichtdurchflutete DG-Wohnu...   \n",
              "21      Helle 3-Zimmer-Wohnung mit Galerie in Bad Cann...   \n",
              "26      Das im März 2014 komplett renovierte Doppelhau...   \n",
              "84                                                    NaN   \n",
              "107     Von den kernsanierten Wohnungen sind schon 50%...   \n",
              "...                                                   ...   \n",
              "268590  Das Objekt ist eingebettet in einen Gebäudekom...   \n",
              "268620  Charmantes 1 Zimmer Appartment mit Miniküche -...   \n",
              "268661  Großzügige 4-Raumwohnung mit Balkon. Die Wohnu...   \n",
              "268711  Die Appartementanlage ist 1995 neu errichtet w...   \n",
              "268797  Attraktive 2-Raumwohnung mit Balkon mit Zugang...   \n",
              "\n",
              "                                               facilities heatingCosts  \\\n",
              "8                       Parkett, Einbauküche, kein Balkon    73.779832   \n",
              "21      Backofen, Badewanne, Bett 1,40x2m, Bettwäsche,...    73.779832   \n",
              "26      Ausstattung Zimmer: \\nDie Zimmer sind keine Du...    73.779832   \n",
              "84                                                    NaN    73.779832   \n",
              "107     Diese Wohnung zeichnet sich durch die seitlich...    73.000000   \n",
              "...                                                   ...          ...   \n",
              "268590  Die Wohnung wurde komplett renoviert und ist i...    63.009431   \n",
              "268620                                                NaN    63.009431   \n",
              "268661                                                NaN    63.009431   \n",
              "268711  Das Appartement verfügt über ein Zimmer mit Ei...    63.009431   \n",
              "268797                                                NaN    63.009431   \n",
              "\n",
              "        energyEfficiencyClass lastRefurbish  electricityBasePrice  \\\n",
              "8                           E   2016.505148                 90.76   \n",
              "21                        NaN   2016.505148                 90.76   \n",
              "26                        NaN   2016.505148                 90.76   \n",
              "84                        NaN   2016.505148                 90.76   \n",
              "107                       NaN   2019.000000                 90.76   \n",
              "...                       ...           ...                   ...   \n",
              "268590                    NaN   2020.000000                 90.76   \n",
              "268620                    NaN   2008.002556                 90.76   \n",
              "268661                    NaN   2008.002556                 90.76   \n",
              "268711                    NaN   2008.002556                 90.76   \n",
              "268797                    NaN   2008.002556                 90.76   \n",
              "\n",
              "        electricityKwhPrice   date  \n",
              "8                  0.195486  Feb20  \n",
              "21                 0.195486  Oct19  \n",
              "26                 0.195486  Feb20  \n",
              "84                 0.195486  Feb20  \n",
              "107                0.195486  May19  \n",
              "...                     ...    ...  \n",
              "268590             0.201146  Feb20  \n",
              "268620             0.201146  Oct19  \n",
              "268661             0.205500  Sep18  \n",
              "268711             0.201146  Oct19  \n",
              "268797             0.205500  Sep18  \n",
              "\n",
              "[198975 rows x 49 columns]"
            ],
            "text/html": [
              "\n",
              "  <div id=\"df-15be79e2-0962-40bd-8eda-8f5fdf0aae86\">\n",
              "    <div class=\"colab-df-container\">\n",
              "      <div>\n",
              "<style scoped>\n",
              "    .dataframe tbody tr th:only-of-type {\n",
              "        vertical-align: middle;\n",
              "    }\n",
              "\n",
              "    .dataframe tbody tr th {\n",
              "        vertical-align: top;\n",
              "    }\n",
              "\n",
              "    .dataframe thead th {\n",
              "        text-align: right;\n",
              "    }\n",
              "</style>\n",
              "<table border=\"1\" class=\"dataframe\">\n",
              "  <thead>\n",
              "    <tr style=\"text-align: right;\">\n",
              "      <th></th>\n",
              "      <th>regio1</th>\n",
              "      <th>serviceCharge</th>\n",
              "      <th>heatingType</th>\n",
              "      <th>telekomTvOffer</th>\n",
              "      <th>telekomHybridUploadSpeed</th>\n",
              "      <th>newlyConst</th>\n",
              "      <th>balcony</th>\n",
              "      <th>picturecount</th>\n",
              "      <th>pricetrend</th>\n",
              "      <th>telekomUploadSpeed</th>\n",
              "      <th>...</th>\n",
              "      <th>regio2</th>\n",
              "      <th>regio3</th>\n",
              "      <th>description</th>\n",
              "      <th>facilities</th>\n",
              "      <th>heatingCosts</th>\n",
              "      <th>energyEfficiencyClass</th>\n",
              "      <th>lastRefurbish</th>\n",
              "      <th>electricityBasePrice</th>\n",
              "      <th>electricityKwhPrice</th>\n",
              "      <th>date</th>\n",
              "    </tr>\n",
              "  </thead>\n",
              "  <tbody>\n",
              "    <tr>\n",
              "      <th>8</th>\n",
              "      <td>Baden_Württemberg</td>\n",
              "      <td>110.000000</td>\n",
              "      <td>oil_heating</td>\n",
              "      <td>ONE_YEAR_FREE</td>\n",
              "      <td>10.0</td>\n",
              "      <td>False</td>\n",
              "      <td>False</td>\n",
              "      <td>5</td>\n",
              "      <td>3.77</td>\n",
              "      <td>40.000000</td>\n",
              "      <td>...</td>\n",
              "      <td>Emmendingen_Kreis</td>\n",
              "      <td>Denzlingen</td>\n",
              "      <td>Diese ansprechende, lichtdurchflutete DG-Wohnu...</td>\n",
              "      <td>Parkett, Einbauküche, kein Balkon</td>\n",
              "      <td>73.779832</td>\n",
              "      <td>E</td>\n",
              "      <td>2016.505148</td>\n",
              "      <td>90.76</td>\n",
              "      <td>0.195486</td>\n",
              "      <td>Feb20</td>\n",
              "    </tr>\n",
              "    <tr>\n",
              "      <th>21</th>\n",
              "      <td>Baden_Württemberg</td>\n",
              "      <td>0.000000</td>\n",
              "      <td>NaN</td>\n",
              "      <td>ONE_YEAR_FREE</td>\n",
              "      <td>10.0</td>\n",
              "      <td>False</td>\n",
              "      <td>False</td>\n",
              "      <td>13</td>\n",
              "      <td>5.63</td>\n",
              "      <td>40.000000</td>\n",
              "      <td>...</td>\n",
              "      <td>Stuttgart</td>\n",
              "      <td>Bad_Cannstatt</td>\n",
              "      <td>Helle 3-Zimmer-Wohnung mit Galerie in Bad Cann...</td>\n",
              "      <td>Backofen, Badewanne, Bett 1,40x2m, Bettwäsche,...</td>\n",
              "      <td>73.779832</td>\n",
              "      <td>NaN</td>\n",
              "      <td>2016.505148</td>\n",
              "      <td>90.76</td>\n",
              "      <td>0.195486</td>\n",
              "      <td>Oct19</td>\n",
              "    </tr>\n",
              "    <tr>\n",
              "      <th>26</th>\n",
              "      <td>Baden_Württemberg</td>\n",
              "      <td>20.000000</td>\n",
              "      <td>NaN</td>\n",
              "      <td>ONE_YEAR_FREE</td>\n",
              "      <td>10.0</td>\n",
              "      <td>False</td>\n",
              "      <td>False</td>\n",
              "      <td>7</td>\n",
              "      <td>4.65</td>\n",
              "      <td>10.000000</td>\n",
              "      <td>...</td>\n",
              "      <td>Esslingen_Kreis</td>\n",
              "      <td>Nürtingen</td>\n",
              "      <td>Das im März 2014 komplett renovierte Doppelhau...</td>\n",
              "      <td>Ausstattung Zimmer: \\nDie Zimmer sind keine Du...</td>\n",
              "      <td>73.779832</td>\n",
              "      <td>NaN</td>\n",
              "      <td>2016.505148</td>\n",
              "      <td>90.76</td>\n",
              "      <td>0.195486</td>\n",
              "      <td>Feb20</td>\n",
              "    </tr>\n",
              "    <tr>\n",
              "      <th>84</th>\n",
              "      <td>Baden_Württemberg</td>\n",
              "      <td>295.000000</td>\n",
              "      <td>floor_heating</td>\n",
              "      <td>NaN</td>\n",
              "      <td>10.0</td>\n",
              "      <td>False</td>\n",
              "      <td>True</td>\n",
              "      <td>2</td>\n",
              "      <td>6.46</td>\n",
              "      <td>27.485155</td>\n",
              "      <td>...</td>\n",
              "      <td>Böblingen_Kreis</td>\n",
              "      <td>Böblingen</td>\n",
              "      <td>NaN</td>\n",
              "      <td>NaN</td>\n",
              "      <td>73.779832</td>\n",
              "      <td>NaN</td>\n",
              "      <td>2016.505148</td>\n",
              "      <td>90.76</td>\n",
              "      <td>0.195486</td>\n",
              "      <td>Feb20</td>\n",
              "    </tr>\n",
              "    <tr>\n",
              "      <th>107</th>\n",
              "      <td>Baden_Württemberg</td>\n",
              "      <td>84.000000</td>\n",
              "      <td>central_heating</td>\n",
              "      <td>ONE_YEAR_FREE</td>\n",
              "      <td>10.0</td>\n",
              "      <td>False</td>\n",
              "      <td>True</td>\n",
              "      <td>10</td>\n",
              "      <td>5.10</td>\n",
              "      <td>40.000000</td>\n",
              "      <td>...</td>\n",
              "      <td>Baden_Baden</td>\n",
              "      <td>Innenstadt</td>\n",
              "      <td>Von den kernsanierten Wohnungen sind schon 50%...</td>\n",
              "      <td>Diese Wohnung zeichnet sich durch die seitlich...</td>\n",
              "      <td>73.000000</td>\n",
              "      <td>NaN</td>\n",
              "      <td>2019.000000</td>\n",
              "      <td>90.76</td>\n",
              "      <td>0.195486</td>\n",
              "      <td>May19</td>\n",
              "    </tr>\n",
              "    <tr>\n",
              "      <th>...</th>\n",
              "      <td>...</td>\n",
              "      <td>...</td>\n",
              "      <td>...</td>\n",
              "      <td>...</td>\n",
              "      <td>...</td>\n",
              "      <td>...</td>\n",
              "      <td>...</td>\n",
              "      <td>...</td>\n",
              "      <td>...</td>\n",
              "      <td>...</td>\n",
              "      <td>...</td>\n",
              "      <td>...</td>\n",
              "      <td>...</td>\n",
              "      <td>...</td>\n",
              "      <td>...</td>\n",
              "      <td>...</td>\n",
              "      <td>...</td>\n",
              "      <td>...</td>\n",
              "      <td>...</td>\n",
              "      <td>...</td>\n",
              "      <td>...</td>\n",
              "    </tr>\n",
              "    <tr>\n",
              "      <th>268590</th>\n",
              "      <td>Thüringen</td>\n",
              "      <td>170.000000</td>\n",
              "      <td>gas_heating</td>\n",
              "      <td>ONE_YEAR_FREE</td>\n",
              "      <td>10.0</td>\n",
              "      <td>False</td>\n",
              "      <td>True</td>\n",
              "      <td>8</td>\n",
              "      <td>2.19</td>\n",
              "      <td>40.000000</td>\n",
              "      <td>...</td>\n",
              "      <td>Gera</td>\n",
              "      <td>Gera_Ost</td>\n",
              "      <td>Das Objekt ist eingebettet in einen Gebäudekom...</td>\n",
              "      <td>Die Wohnung wurde komplett renoviert und ist i...</td>\n",
              "      <td>63.009431</td>\n",
              "      <td>NaN</td>\n",
              "      <td>2020.000000</td>\n",
              "      <td>90.76</td>\n",
              "      <td>0.201146</td>\n",
              "      <td>Feb20</td>\n",
              "    </tr>\n",
              "    <tr>\n",
              "      <th>268620</th>\n",
              "      <td>Thüringen</td>\n",
              "      <td>115.374612</td>\n",
              "      <td>NaN</td>\n",
              "      <td>ONE_YEAR_FREE</td>\n",
              "      <td>10.0</td>\n",
              "      <td>False</td>\n",
              "      <td>True</td>\n",
              "      <td>6</td>\n",
              "      <td>2.92</td>\n",
              "      <td>40.000000</td>\n",
              "      <td>...</td>\n",
              "      <td>Saale_Holzland_Kreis</td>\n",
              "      <td>Neuengönna</td>\n",
              "      <td>Charmantes 1 Zimmer Appartment mit Miniküche -...</td>\n",
              "      <td>NaN</td>\n",
              "      <td>63.009431</td>\n",
              "      <td>NaN</td>\n",
              "      <td>2008.002556</td>\n",
              "      <td>90.76</td>\n",
              "      <td>0.201146</td>\n",
              "      <td>Oct19</td>\n",
              "    </tr>\n",
              "    <tr>\n",
              "      <th>268661</th>\n",
              "      <td>Thüringen</td>\n",
              "      <td>295.050000</td>\n",
              "      <td>NaN</td>\n",
              "      <td>ONE_YEAR_FREE</td>\n",
              "      <td>10.0</td>\n",
              "      <td>False</td>\n",
              "      <td>True</td>\n",
              "      <td>3</td>\n",
              "      <td>1.79</td>\n",
              "      <td>2.400000</td>\n",
              "      <td>...</td>\n",
              "      <td>Unstrut_Hainich_Kreis</td>\n",
              "      <td>Mühlhausen/Thüringen</td>\n",
              "      <td>Großzügige 4-Raumwohnung mit Balkon. Die Wohnu...</td>\n",
              "      <td>NaN</td>\n",
              "      <td>63.009431</td>\n",
              "      <td>NaN</td>\n",
              "      <td>2008.002556</td>\n",
              "      <td>90.76</td>\n",
              "      <td>0.205500</td>\n",
              "      <td>Sep18</td>\n",
              "    </tr>\n",
              "    <tr>\n",
              "      <th>268711</th>\n",
              "      <td>Thüringen</td>\n",
              "      <td>115.374612</td>\n",
              "      <td>NaN</td>\n",
              "      <td>NaN</td>\n",
              "      <td>10.0</td>\n",
              "      <td>False</td>\n",
              "      <td>True</td>\n",
              "      <td>8</td>\n",
              "      <td>1.99</td>\n",
              "      <td>29.457525</td>\n",
              "      <td>...</td>\n",
              "      <td>Ilm_Kreis</td>\n",
              "      <td>Langewiesen</td>\n",
              "      <td>Die Appartementanlage ist 1995 neu errichtet w...</td>\n",
              "      <td>Das Appartement verfügt über ein Zimmer mit Ei...</td>\n",
              "      <td>63.009431</td>\n",
              "      <td>NaN</td>\n",
              "      <td>2008.002556</td>\n",
              "      <td>90.76</td>\n",
              "      <td>0.201146</td>\n",
              "      <td>Oct19</td>\n",
              "    </tr>\n",
              "    <tr>\n",
              "      <th>268797</th>\n",
              "      <td>Thüringen</td>\n",
              "      <td>173.470000</td>\n",
              "      <td>NaN</td>\n",
              "      <td>ONE_YEAR_FREE</td>\n",
              "      <td>10.0</td>\n",
              "      <td>False</td>\n",
              "      <td>True</td>\n",
              "      <td>3</td>\n",
              "      <td>1.79</td>\n",
              "      <td>2.400000</td>\n",
              "      <td>...</td>\n",
              "      <td>Unstrut_Hainich_Kreis</td>\n",
              "      <td>Mühlhausen/Thüringen</td>\n",
              "      <td>Attraktive 2-Raumwohnung mit Balkon mit Zugang...</td>\n",
              "      <td>NaN</td>\n",
              "      <td>63.009431</td>\n",
              "      <td>NaN</td>\n",
              "      <td>2008.002556</td>\n",
              "      <td>90.76</td>\n",
              "      <td>0.205500</td>\n",
              "      <td>Sep18</td>\n",
              "    </tr>\n",
              "  </tbody>\n",
              "</table>\n",
              "<p>198975 rows × 49 columns</p>\n",
              "</div>\n",
              "      <button class=\"colab-df-convert\" onclick=\"convertToInteractive('df-15be79e2-0962-40bd-8eda-8f5fdf0aae86')\"\n",
              "              title=\"Convert this dataframe to an interactive table.\"\n",
              "              style=\"display:none;\">\n",
              "        \n",
              "  <svg xmlns=\"http://www.w3.org/2000/svg\" height=\"24px\"viewBox=\"0 0 24 24\"\n",
              "       width=\"24px\">\n",
              "    <path d=\"M0 0h24v24H0V0z\" fill=\"none\"/>\n",
              "    <path d=\"M18.56 5.44l.94 2.06.94-2.06 2.06-.94-2.06-.94-.94-2.06-.94 2.06-2.06.94zm-11 1L8.5 8.5l.94-2.06 2.06-.94-2.06-.94L8.5 2.5l-.94 2.06-2.06.94zm10 10l.94 2.06.94-2.06 2.06-.94-2.06-.94-.94-2.06-.94 2.06-2.06.94z\"/><path d=\"M17.41 7.96l-1.37-1.37c-.4-.4-.92-.59-1.43-.59-.52 0-1.04.2-1.43.59L10.3 9.45l-7.72 7.72c-.78.78-.78 2.05 0 2.83L4 21.41c.39.39.9.59 1.41.59.51 0 1.02-.2 1.41-.59l7.78-7.78 2.81-2.81c.8-.78.8-2.07 0-2.86zM5.41 20L4 18.59l7.72-7.72 1.47 1.35L5.41 20z\"/>\n",
              "  </svg>\n",
              "      </button>\n",
              "      \n",
              "  <style>\n",
              "    .colab-df-container {\n",
              "      display:flex;\n",
              "      flex-wrap:wrap;\n",
              "      gap: 12px;\n",
              "    }\n",
              "\n",
              "    .colab-df-convert {\n",
              "      background-color: #E8F0FE;\n",
              "      border: none;\n",
              "      border-radius: 50%;\n",
              "      cursor: pointer;\n",
              "      display: none;\n",
              "      fill: #1967D2;\n",
              "      height: 32px;\n",
              "      padding: 0 0 0 0;\n",
              "      width: 32px;\n",
              "    }\n",
              "\n",
              "    .colab-df-convert:hover {\n",
              "      background-color: #E2EBFA;\n",
              "      box-shadow: 0px 1px 2px rgba(60, 64, 67, 0.3), 0px 1px 3px 1px rgba(60, 64, 67, 0.15);\n",
              "      fill: #174EA6;\n",
              "    }\n",
              "\n",
              "    [theme=dark] .colab-df-convert {\n",
              "      background-color: #3B4455;\n",
              "      fill: #D2E3FC;\n",
              "    }\n",
              "\n",
              "    [theme=dark] .colab-df-convert:hover {\n",
              "      background-color: #434B5C;\n",
              "      box-shadow: 0px 1px 3px 1px rgba(0, 0, 0, 0.15);\n",
              "      filter: drop-shadow(0px 1px 2px rgba(0, 0, 0, 0.3));\n",
              "      fill: #FFFFFF;\n",
              "    }\n",
              "  </style>\n",
              "\n",
              "      <script>\n",
              "        const buttonEl =\n",
              "          document.querySelector('#df-15be79e2-0962-40bd-8eda-8f5fdf0aae86 button.colab-df-convert');\n",
              "        buttonEl.style.display =\n",
              "          google.colab.kernel.accessAllowed ? 'block' : 'none';\n",
              "\n",
              "        async function convertToInteractive(key) {\n",
              "          const element = document.querySelector('#df-15be79e2-0962-40bd-8eda-8f5fdf0aae86');\n",
              "          const dataTable =\n",
              "            await google.colab.kernel.invokeFunction('convertToInteractive',\n",
              "                                                     [key], {});\n",
              "          if (!dataTable) return;\n",
              "\n",
              "          const docLinkHtml = 'Like what you see? Visit the ' +\n",
              "            '<a target=\"_blank\" href=https://colab.research.google.com/notebooks/data_table.ipynb>data table notebook</a>'\n",
              "            + ' to learn more about interactive tables.';\n",
              "          element.innerHTML = '';\n",
              "          dataTable['output_type'] = 'display_data';\n",
              "          await google.colab.output.renderOutput(dataTable, element);\n",
              "          const docLink = document.createElement('div');\n",
              "          docLink.innerHTML = docLinkHtml;\n",
              "          element.appendChild(docLink);\n",
              "        }\n",
              "      </script>\n",
              "    </div>\n",
              "  </div>\n",
              "  "
            ]
          },
          "metadata": {},
          "execution_count": 324
        }
      ]
    },
    {
      "cell_type": "code",
      "source": [
        "s_time = time.time()\n",
        "res_list = list(map(dataCleaning, [group for _, group in gbos]))\n",
        "df_edit = pd.concat(res_list)\n",
        "print(f'run time : {time.time() - s_time}')"
      ],
      "metadata": {
        "colab": {
          "base_uri": "https://localhost:8080/"
        },
        "id": "9ZQXmCoXdi-I",
        "outputId": "7d21c1bd-9acb-4cfe-afc3-0f680c91c4a4"
      },
      "execution_count": 325,
      "outputs": [
        {
          "output_type": "stream",
          "name": "stdout",
          "text": [
            "run time : 7.684042692184448\n"
          ]
        }
      ]
    },
    {
      "cell_type": "code",
      "source": [
        "df_edit"
      ],
      "metadata": {
        "colab": {
          "base_uri": "https://localhost:8080/",
          "height": 1000
        },
        "id": "6oTCH2PbmoPx",
        "outputId": "41cb1837-03c6-478c-c0e5-095e03f3f75a"
      },
      "execution_count": 326,
      "outputs": [
        {
          "output_type": "execute_result",
          "data": {
            "text/plain": [
              "                   regio1  serviceCharge      heatingType telekomTvOffer  \\\n",
              "8       Baden_Württemberg     110.000000      oil_heating  ONE_YEAR_FREE   \n",
              "21      Baden_Württemberg       0.000000              NaN  ONE_YEAR_FREE   \n",
              "26      Baden_Württemberg      20.000000              NaN  ONE_YEAR_FREE   \n",
              "84      Baden_Württemberg     295.000000    floor_heating            NaN   \n",
              "107     Baden_Württemberg      84.000000  central_heating  ONE_YEAR_FREE   \n",
              "...                   ...            ...              ...            ...   \n",
              "268590          Thüringen     170.000000      gas_heating  ONE_YEAR_FREE   \n",
              "268620          Thüringen     115.374612              NaN  ONE_YEAR_FREE   \n",
              "268661          Thüringen     295.050000              NaN  ONE_YEAR_FREE   \n",
              "268711          Thüringen     115.374612              NaN            NaN   \n",
              "268797          Thüringen     173.470000              NaN  ONE_YEAR_FREE   \n",
              "\n",
              "        telekomHybridUploadSpeed  newlyConst  balcony  picturecount  \\\n",
              "8                           10.0       False    False             5   \n",
              "21                          10.0       False    False            13   \n",
              "26                          10.0       False    False             7   \n",
              "84                          10.0       False     True             2   \n",
              "107                         10.0       False     True            10   \n",
              "...                          ...         ...      ...           ...   \n",
              "268590                      10.0       False     True             8   \n",
              "268620                      10.0       False     True             6   \n",
              "268661                      10.0       False     True             3   \n",
              "268711                      10.0       False     True             8   \n",
              "268797                      10.0       False     True             3   \n",
              "\n",
              "        pricetrend  telekomUploadSpeed  ...                 regio2  \\\n",
              "8             3.77           40.000000  ...      Emmendingen_Kreis   \n",
              "21            5.63           40.000000  ...              Stuttgart   \n",
              "26            4.65           10.000000  ...        Esslingen_Kreis   \n",
              "84            6.46           27.485155  ...        Böblingen_Kreis   \n",
              "107           5.10           40.000000  ...            Baden_Baden   \n",
              "...            ...                 ...  ...                    ...   \n",
              "268590        2.19           40.000000  ...                   Gera   \n",
              "268620        2.92           40.000000  ...   Saale_Holzland_Kreis   \n",
              "268661        1.79            2.400000  ...  Unstrut_Hainich_Kreis   \n",
              "268711        1.99           29.457525  ...              Ilm_Kreis   \n",
              "268797        1.79            2.400000  ...  Unstrut_Hainich_Kreis   \n",
              "\n",
              "                      regio3  \\\n",
              "8                 Denzlingen   \n",
              "21             Bad_Cannstatt   \n",
              "26                 Nürtingen   \n",
              "84                 Böblingen   \n",
              "107               Innenstadt   \n",
              "...                      ...   \n",
              "268590              Gera_Ost   \n",
              "268620            Neuengönna   \n",
              "268661  Mühlhausen/Thüringen   \n",
              "268711           Langewiesen   \n",
              "268797  Mühlhausen/Thüringen   \n",
              "\n",
              "                                              description  \\\n",
              "8       Diese ansprechende, lichtdurchflutete DG-Wohnu...   \n",
              "21      Helle 3-Zimmer-Wohnung mit Galerie in Bad Cann...   \n",
              "26      Das im März 2014 komplett renovierte Doppelhau...   \n",
              "84                                                    NaN   \n",
              "107     Von den kernsanierten Wohnungen sind schon 50%...   \n",
              "...                                                   ...   \n",
              "268590  Das Objekt ist eingebettet in einen Gebäudekom...   \n",
              "268620  Charmantes 1 Zimmer Appartment mit Miniküche -...   \n",
              "268661  Großzügige 4-Raumwohnung mit Balkon. Die Wohnu...   \n",
              "268711  Die Appartementanlage ist 1995 neu errichtet w...   \n",
              "268797  Attraktive 2-Raumwohnung mit Balkon mit Zugang...   \n",
              "\n",
              "                                               facilities heatingCosts  \\\n",
              "8                       Parkett, Einbauküche, kein Balkon    73.779832   \n",
              "21      Backofen, Badewanne, Bett 1,40x2m, Bettwäsche,...    73.779832   \n",
              "26      Ausstattung Zimmer: \\nDie Zimmer sind keine Du...    73.779832   \n",
              "84                                                    NaN    73.779832   \n",
              "107     Diese Wohnung zeichnet sich durch die seitlich...    73.000000   \n",
              "...                                                   ...          ...   \n",
              "268590  Die Wohnung wurde komplett renoviert und ist i...    63.009431   \n",
              "268620                                                NaN    63.009431   \n",
              "268661                                                NaN    63.009431   \n",
              "268711  Das Appartement verfügt über ein Zimmer mit Ei...    63.009431   \n",
              "268797                                                NaN    63.009431   \n",
              "\n",
              "        energyEfficiencyClass lastRefurbish  electricityBasePrice  \\\n",
              "8                           E   2016.505148                 90.76   \n",
              "21                        NaN   2016.505148                 90.76   \n",
              "26                        NaN   2016.505148                 90.76   \n",
              "84                        NaN   2016.505148                 90.76   \n",
              "107                       NaN   2019.000000                 90.76   \n",
              "...                       ...           ...                   ...   \n",
              "268590                    NaN   2020.000000                 90.76   \n",
              "268620                    NaN   2008.002556                 90.76   \n",
              "268661                    NaN   2008.002556                 90.76   \n",
              "268711                    NaN   2008.002556                 90.76   \n",
              "268797                    NaN   2008.002556                 90.76   \n",
              "\n",
              "        electricityKwhPrice   date  \n",
              "8                  0.195486  Feb20  \n",
              "21                 0.195486  Oct19  \n",
              "26                 0.195486  Feb20  \n",
              "84                 0.195486  Feb20  \n",
              "107                0.195486  May19  \n",
              "...                     ...    ...  \n",
              "268590             0.201146  Feb20  \n",
              "268620             0.201146  Oct19  \n",
              "268661             0.205500  Sep18  \n",
              "268711             0.201146  Oct19  \n",
              "268797             0.205500  Sep18  \n",
              "\n",
              "[198975 rows x 49 columns]"
            ],
            "text/html": [
              "\n",
              "  <div id=\"df-6f5cc774-c8ab-4c74-8780-de60bde2ca37\">\n",
              "    <div class=\"colab-df-container\">\n",
              "      <div>\n",
              "<style scoped>\n",
              "    .dataframe tbody tr th:only-of-type {\n",
              "        vertical-align: middle;\n",
              "    }\n",
              "\n",
              "    .dataframe tbody tr th {\n",
              "        vertical-align: top;\n",
              "    }\n",
              "\n",
              "    .dataframe thead th {\n",
              "        text-align: right;\n",
              "    }\n",
              "</style>\n",
              "<table border=\"1\" class=\"dataframe\">\n",
              "  <thead>\n",
              "    <tr style=\"text-align: right;\">\n",
              "      <th></th>\n",
              "      <th>regio1</th>\n",
              "      <th>serviceCharge</th>\n",
              "      <th>heatingType</th>\n",
              "      <th>telekomTvOffer</th>\n",
              "      <th>telekomHybridUploadSpeed</th>\n",
              "      <th>newlyConst</th>\n",
              "      <th>balcony</th>\n",
              "      <th>picturecount</th>\n",
              "      <th>pricetrend</th>\n",
              "      <th>telekomUploadSpeed</th>\n",
              "      <th>...</th>\n",
              "      <th>regio2</th>\n",
              "      <th>regio3</th>\n",
              "      <th>description</th>\n",
              "      <th>facilities</th>\n",
              "      <th>heatingCosts</th>\n",
              "      <th>energyEfficiencyClass</th>\n",
              "      <th>lastRefurbish</th>\n",
              "      <th>electricityBasePrice</th>\n",
              "      <th>electricityKwhPrice</th>\n",
              "      <th>date</th>\n",
              "    </tr>\n",
              "  </thead>\n",
              "  <tbody>\n",
              "    <tr>\n",
              "      <th>8</th>\n",
              "      <td>Baden_Württemberg</td>\n",
              "      <td>110.000000</td>\n",
              "      <td>oil_heating</td>\n",
              "      <td>ONE_YEAR_FREE</td>\n",
              "      <td>10.0</td>\n",
              "      <td>False</td>\n",
              "      <td>False</td>\n",
              "      <td>5</td>\n",
              "      <td>3.77</td>\n",
              "      <td>40.000000</td>\n",
              "      <td>...</td>\n",
              "      <td>Emmendingen_Kreis</td>\n",
              "      <td>Denzlingen</td>\n",
              "      <td>Diese ansprechende, lichtdurchflutete DG-Wohnu...</td>\n",
              "      <td>Parkett, Einbauküche, kein Balkon</td>\n",
              "      <td>73.779832</td>\n",
              "      <td>E</td>\n",
              "      <td>2016.505148</td>\n",
              "      <td>90.76</td>\n",
              "      <td>0.195486</td>\n",
              "      <td>Feb20</td>\n",
              "    </tr>\n",
              "    <tr>\n",
              "      <th>21</th>\n",
              "      <td>Baden_Württemberg</td>\n",
              "      <td>0.000000</td>\n",
              "      <td>NaN</td>\n",
              "      <td>ONE_YEAR_FREE</td>\n",
              "      <td>10.0</td>\n",
              "      <td>False</td>\n",
              "      <td>False</td>\n",
              "      <td>13</td>\n",
              "      <td>5.63</td>\n",
              "      <td>40.000000</td>\n",
              "      <td>...</td>\n",
              "      <td>Stuttgart</td>\n",
              "      <td>Bad_Cannstatt</td>\n",
              "      <td>Helle 3-Zimmer-Wohnung mit Galerie in Bad Cann...</td>\n",
              "      <td>Backofen, Badewanne, Bett 1,40x2m, Bettwäsche,...</td>\n",
              "      <td>73.779832</td>\n",
              "      <td>NaN</td>\n",
              "      <td>2016.505148</td>\n",
              "      <td>90.76</td>\n",
              "      <td>0.195486</td>\n",
              "      <td>Oct19</td>\n",
              "    </tr>\n",
              "    <tr>\n",
              "      <th>26</th>\n",
              "      <td>Baden_Württemberg</td>\n",
              "      <td>20.000000</td>\n",
              "      <td>NaN</td>\n",
              "      <td>ONE_YEAR_FREE</td>\n",
              "      <td>10.0</td>\n",
              "      <td>False</td>\n",
              "      <td>False</td>\n",
              "      <td>7</td>\n",
              "      <td>4.65</td>\n",
              "      <td>10.000000</td>\n",
              "      <td>...</td>\n",
              "      <td>Esslingen_Kreis</td>\n",
              "      <td>Nürtingen</td>\n",
              "      <td>Das im März 2014 komplett renovierte Doppelhau...</td>\n",
              "      <td>Ausstattung Zimmer: \\nDie Zimmer sind keine Du...</td>\n",
              "      <td>73.779832</td>\n",
              "      <td>NaN</td>\n",
              "      <td>2016.505148</td>\n",
              "      <td>90.76</td>\n",
              "      <td>0.195486</td>\n",
              "      <td>Feb20</td>\n",
              "    </tr>\n",
              "    <tr>\n",
              "      <th>84</th>\n",
              "      <td>Baden_Württemberg</td>\n",
              "      <td>295.000000</td>\n",
              "      <td>floor_heating</td>\n",
              "      <td>NaN</td>\n",
              "      <td>10.0</td>\n",
              "      <td>False</td>\n",
              "      <td>True</td>\n",
              "      <td>2</td>\n",
              "      <td>6.46</td>\n",
              "      <td>27.485155</td>\n",
              "      <td>...</td>\n",
              "      <td>Böblingen_Kreis</td>\n",
              "      <td>Böblingen</td>\n",
              "      <td>NaN</td>\n",
              "      <td>NaN</td>\n",
              "      <td>73.779832</td>\n",
              "      <td>NaN</td>\n",
              "      <td>2016.505148</td>\n",
              "      <td>90.76</td>\n",
              "      <td>0.195486</td>\n",
              "      <td>Feb20</td>\n",
              "    </tr>\n",
              "    <tr>\n",
              "      <th>107</th>\n",
              "      <td>Baden_Württemberg</td>\n",
              "      <td>84.000000</td>\n",
              "      <td>central_heating</td>\n",
              "      <td>ONE_YEAR_FREE</td>\n",
              "      <td>10.0</td>\n",
              "      <td>False</td>\n",
              "      <td>True</td>\n",
              "      <td>10</td>\n",
              "      <td>5.10</td>\n",
              "      <td>40.000000</td>\n",
              "      <td>...</td>\n",
              "      <td>Baden_Baden</td>\n",
              "      <td>Innenstadt</td>\n",
              "      <td>Von den kernsanierten Wohnungen sind schon 50%...</td>\n",
              "      <td>Diese Wohnung zeichnet sich durch die seitlich...</td>\n",
              "      <td>73.000000</td>\n",
              "      <td>NaN</td>\n",
              "      <td>2019.000000</td>\n",
              "      <td>90.76</td>\n",
              "      <td>0.195486</td>\n",
              "      <td>May19</td>\n",
              "    </tr>\n",
              "    <tr>\n",
              "      <th>...</th>\n",
              "      <td>...</td>\n",
              "      <td>...</td>\n",
              "      <td>...</td>\n",
              "      <td>...</td>\n",
              "      <td>...</td>\n",
              "      <td>...</td>\n",
              "      <td>...</td>\n",
              "      <td>...</td>\n",
              "      <td>...</td>\n",
              "      <td>...</td>\n",
              "      <td>...</td>\n",
              "      <td>...</td>\n",
              "      <td>...</td>\n",
              "      <td>...</td>\n",
              "      <td>...</td>\n",
              "      <td>...</td>\n",
              "      <td>...</td>\n",
              "      <td>...</td>\n",
              "      <td>...</td>\n",
              "      <td>...</td>\n",
              "      <td>...</td>\n",
              "    </tr>\n",
              "    <tr>\n",
              "      <th>268590</th>\n",
              "      <td>Thüringen</td>\n",
              "      <td>170.000000</td>\n",
              "      <td>gas_heating</td>\n",
              "      <td>ONE_YEAR_FREE</td>\n",
              "      <td>10.0</td>\n",
              "      <td>False</td>\n",
              "      <td>True</td>\n",
              "      <td>8</td>\n",
              "      <td>2.19</td>\n",
              "      <td>40.000000</td>\n",
              "      <td>...</td>\n",
              "      <td>Gera</td>\n",
              "      <td>Gera_Ost</td>\n",
              "      <td>Das Objekt ist eingebettet in einen Gebäudekom...</td>\n",
              "      <td>Die Wohnung wurde komplett renoviert und ist i...</td>\n",
              "      <td>63.009431</td>\n",
              "      <td>NaN</td>\n",
              "      <td>2020.000000</td>\n",
              "      <td>90.76</td>\n",
              "      <td>0.201146</td>\n",
              "      <td>Feb20</td>\n",
              "    </tr>\n",
              "    <tr>\n",
              "      <th>268620</th>\n",
              "      <td>Thüringen</td>\n",
              "      <td>115.374612</td>\n",
              "      <td>NaN</td>\n",
              "      <td>ONE_YEAR_FREE</td>\n",
              "      <td>10.0</td>\n",
              "      <td>False</td>\n",
              "      <td>True</td>\n",
              "      <td>6</td>\n",
              "      <td>2.92</td>\n",
              "      <td>40.000000</td>\n",
              "      <td>...</td>\n",
              "      <td>Saale_Holzland_Kreis</td>\n",
              "      <td>Neuengönna</td>\n",
              "      <td>Charmantes 1 Zimmer Appartment mit Miniküche -...</td>\n",
              "      <td>NaN</td>\n",
              "      <td>63.009431</td>\n",
              "      <td>NaN</td>\n",
              "      <td>2008.002556</td>\n",
              "      <td>90.76</td>\n",
              "      <td>0.201146</td>\n",
              "      <td>Oct19</td>\n",
              "    </tr>\n",
              "    <tr>\n",
              "      <th>268661</th>\n",
              "      <td>Thüringen</td>\n",
              "      <td>295.050000</td>\n",
              "      <td>NaN</td>\n",
              "      <td>ONE_YEAR_FREE</td>\n",
              "      <td>10.0</td>\n",
              "      <td>False</td>\n",
              "      <td>True</td>\n",
              "      <td>3</td>\n",
              "      <td>1.79</td>\n",
              "      <td>2.400000</td>\n",
              "      <td>...</td>\n",
              "      <td>Unstrut_Hainich_Kreis</td>\n",
              "      <td>Mühlhausen/Thüringen</td>\n",
              "      <td>Großzügige 4-Raumwohnung mit Balkon. Die Wohnu...</td>\n",
              "      <td>NaN</td>\n",
              "      <td>63.009431</td>\n",
              "      <td>NaN</td>\n",
              "      <td>2008.002556</td>\n",
              "      <td>90.76</td>\n",
              "      <td>0.205500</td>\n",
              "      <td>Sep18</td>\n",
              "    </tr>\n",
              "    <tr>\n",
              "      <th>268711</th>\n",
              "      <td>Thüringen</td>\n",
              "      <td>115.374612</td>\n",
              "      <td>NaN</td>\n",
              "      <td>NaN</td>\n",
              "      <td>10.0</td>\n",
              "      <td>False</td>\n",
              "      <td>True</td>\n",
              "      <td>8</td>\n",
              "      <td>1.99</td>\n",
              "      <td>29.457525</td>\n",
              "      <td>...</td>\n",
              "      <td>Ilm_Kreis</td>\n",
              "      <td>Langewiesen</td>\n",
              "      <td>Die Appartementanlage ist 1995 neu errichtet w...</td>\n",
              "      <td>Das Appartement verfügt über ein Zimmer mit Ei...</td>\n",
              "      <td>63.009431</td>\n",
              "      <td>NaN</td>\n",
              "      <td>2008.002556</td>\n",
              "      <td>90.76</td>\n",
              "      <td>0.201146</td>\n",
              "      <td>Oct19</td>\n",
              "    </tr>\n",
              "    <tr>\n",
              "      <th>268797</th>\n",
              "      <td>Thüringen</td>\n",
              "      <td>173.470000</td>\n",
              "      <td>NaN</td>\n",
              "      <td>ONE_YEAR_FREE</td>\n",
              "      <td>10.0</td>\n",
              "      <td>False</td>\n",
              "      <td>True</td>\n",
              "      <td>3</td>\n",
              "      <td>1.79</td>\n",
              "      <td>2.400000</td>\n",
              "      <td>...</td>\n",
              "      <td>Unstrut_Hainich_Kreis</td>\n",
              "      <td>Mühlhausen/Thüringen</td>\n",
              "      <td>Attraktive 2-Raumwohnung mit Balkon mit Zugang...</td>\n",
              "      <td>NaN</td>\n",
              "      <td>63.009431</td>\n",
              "      <td>NaN</td>\n",
              "      <td>2008.002556</td>\n",
              "      <td>90.76</td>\n",
              "      <td>0.205500</td>\n",
              "      <td>Sep18</td>\n",
              "    </tr>\n",
              "  </tbody>\n",
              "</table>\n",
              "<p>198975 rows × 49 columns</p>\n",
              "</div>\n",
              "      <button class=\"colab-df-convert\" onclick=\"convertToInteractive('df-6f5cc774-c8ab-4c74-8780-de60bde2ca37')\"\n",
              "              title=\"Convert this dataframe to an interactive table.\"\n",
              "              style=\"display:none;\">\n",
              "        \n",
              "  <svg xmlns=\"http://www.w3.org/2000/svg\" height=\"24px\"viewBox=\"0 0 24 24\"\n",
              "       width=\"24px\">\n",
              "    <path d=\"M0 0h24v24H0V0z\" fill=\"none\"/>\n",
              "    <path d=\"M18.56 5.44l.94 2.06.94-2.06 2.06-.94-2.06-.94-.94-2.06-.94 2.06-2.06.94zm-11 1L8.5 8.5l.94-2.06 2.06-.94-2.06-.94L8.5 2.5l-.94 2.06-2.06.94zm10 10l.94 2.06.94-2.06 2.06-.94-2.06-.94-.94-2.06-.94 2.06-2.06.94z\"/><path d=\"M17.41 7.96l-1.37-1.37c-.4-.4-.92-.59-1.43-.59-.52 0-1.04.2-1.43.59L10.3 9.45l-7.72 7.72c-.78.78-.78 2.05 0 2.83L4 21.41c.39.39.9.59 1.41.59.51 0 1.02-.2 1.41-.59l7.78-7.78 2.81-2.81c.8-.78.8-2.07 0-2.86zM5.41 20L4 18.59l7.72-7.72 1.47 1.35L5.41 20z\"/>\n",
              "  </svg>\n",
              "      </button>\n",
              "      \n",
              "  <style>\n",
              "    .colab-df-container {\n",
              "      display:flex;\n",
              "      flex-wrap:wrap;\n",
              "      gap: 12px;\n",
              "    }\n",
              "\n",
              "    .colab-df-convert {\n",
              "      background-color: #E8F0FE;\n",
              "      border: none;\n",
              "      border-radius: 50%;\n",
              "      cursor: pointer;\n",
              "      display: none;\n",
              "      fill: #1967D2;\n",
              "      height: 32px;\n",
              "      padding: 0 0 0 0;\n",
              "      width: 32px;\n",
              "    }\n",
              "\n",
              "    .colab-df-convert:hover {\n",
              "      background-color: #E2EBFA;\n",
              "      box-shadow: 0px 1px 2px rgba(60, 64, 67, 0.3), 0px 1px 3px 1px rgba(60, 64, 67, 0.15);\n",
              "      fill: #174EA6;\n",
              "    }\n",
              "\n",
              "    [theme=dark] .colab-df-convert {\n",
              "      background-color: #3B4455;\n",
              "      fill: #D2E3FC;\n",
              "    }\n",
              "\n",
              "    [theme=dark] .colab-df-convert:hover {\n",
              "      background-color: #434B5C;\n",
              "      box-shadow: 0px 1px 3px 1px rgba(0, 0, 0, 0.15);\n",
              "      filter: drop-shadow(0px 1px 2px rgba(0, 0, 0, 0.3));\n",
              "      fill: #FFFFFF;\n",
              "    }\n",
              "  </style>\n",
              "\n",
              "      <script>\n",
              "        const buttonEl =\n",
              "          document.querySelector('#df-6f5cc774-c8ab-4c74-8780-de60bde2ca37 button.colab-df-convert');\n",
              "        buttonEl.style.display =\n",
              "          google.colab.kernel.accessAllowed ? 'block' : 'none';\n",
              "\n",
              "        async function convertToInteractive(key) {\n",
              "          const element = document.querySelector('#df-6f5cc774-c8ab-4c74-8780-de60bde2ca37');\n",
              "          const dataTable =\n",
              "            await google.colab.kernel.invokeFunction('convertToInteractive',\n",
              "                                                     [key], {});\n",
              "          if (!dataTable) return;\n",
              "\n",
              "          const docLinkHtml = 'Like what you see? Visit the ' +\n",
              "            '<a target=\"_blank\" href=https://colab.research.google.com/notebooks/data_table.ipynb>data table notebook</a>'\n",
              "            + ' to learn more about interactive tables.';\n",
              "          element.innerHTML = '';\n",
              "          dataTable['output_type'] = 'display_data';\n",
              "          await google.colab.output.renderOutput(dataTable, element);\n",
              "          const docLink = document.createElement('div');\n",
              "          docLink.innerHTML = docLinkHtml;\n",
              "          element.appendChild(docLink);\n",
              "        }\n",
              "      </script>\n",
              "    </div>\n",
              "  </div>\n",
              "  "
            ]
          },
          "metadata": {},
          "execution_count": 326
        }
      ]
    },
    {
      "cell_type": "markdown",
      "source": [
        "## using dask and pyspark"
      ],
      "metadata": {
        "id": "GMEJJvDhXEqM"
      }
    },
    {
      "cell_type": "code",
      "source": [
        "!python -m pip install \"dask[complete]\""
      ],
      "metadata": {
        "id": "PE_vixGm-zSz",
        "colab": {
          "base_uri": "https://localhost:8080/"
        },
        "outputId": "5c207628-6dda-460c-8100-508041a01e5b"
      },
      "execution_count": 327,
      "outputs": [
        {
          "output_type": "stream",
          "name": "stdout",
          "text": [
            "Requirement already satisfied: dask[complete] in /usr/local/lib/python3.7/dist-packages (2.12.0)\n",
            "Requirement already satisfied: partd>=0.3.10 in /usr/local/lib/python3.7/dist-packages (from dask[complete]) (1.2.0)\n",
            "Requirement already satisfied: numpy>=1.13.0 in /usr/local/lib/python3.7/dist-packages (from dask[complete]) (1.21.5)\n",
            "Requirement already satisfied: bokeh>=1.0.0 in /usr/local/lib/python3.7/dist-packages (from dask[complete]) (2.3.3)\n",
            "Requirement already satisfied: cloudpickle>=0.2.1 in /usr/local/lib/python3.7/dist-packages (from dask[complete]) (2.0.0)\n",
            "Requirement already satisfied: PyYaml in /usr/local/lib/python3.7/dist-packages (from dask[complete]) (3.13)\n",
            "Requirement already satisfied: distributed>=2.0 in /usr/local/lib/python3.7/dist-packages (from dask[complete]) (2.30.1)\n",
            "Requirement already satisfied: fsspec>=0.6.0 in /usr/local/lib/python3.7/dist-packages (from dask[complete]) (2022.3.0)\n",
            "Requirement already satisfied: toolz>=0.7.3 in /usr/local/lib/python3.7/dist-packages (from dask[complete]) (0.11.2)\n",
            "Requirement already satisfied: pandas>=0.23.0 in /usr/local/lib/python3.7/dist-packages (from dask[complete]) (1.3.5)\n",
            "Requirement already satisfied: python-dateutil>=2.1 in /usr/local/lib/python3.7/dist-packages (from bokeh>=1.0.0->dask[complete]) (2.8.2)\n",
            "Requirement already satisfied: Jinja2>=2.9 in /usr/local/lib/python3.7/dist-packages (from bokeh>=1.0.0->dask[complete]) (2.11.3)\n",
            "Requirement already satisfied: packaging>=16.8 in /usr/local/lib/python3.7/dist-packages (from bokeh>=1.0.0->dask[complete]) (21.3)\n",
            "Requirement already satisfied: tornado>=5.1 in /usr/local/lib/python3.7/dist-packages (from bokeh>=1.0.0->dask[complete]) (5.1.1)\n",
            "Requirement already satisfied: pillow>=7.1.0 in /usr/local/lib/python3.7/dist-packages (from bokeh>=1.0.0->dask[complete]) (7.1.2)\n",
            "Requirement already satisfied: typing-extensions>=3.7.4 in /usr/local/lib/python3.7/dist-packages (from bokeh>=1.0.0->dask[complete]) (3.10.0.2)\n",
            "Requirement already satisfied: click>=6.6 in /usr/local/lib/python3.7/dist-packages (from distributed>=2.0->dask[complete]) (7.1.2)\n",
            "Requirement already satisfied: sortedcontainers!=2.0.0,!=2.0.1 in /usr/local/lib/python3.7/dist-packages (from distributed>=2.0->dask[complete]) (2.4.0)\n",
            "Requirement already satisfied: msgpack>=0.6.0 in /usr/local/lib/python3.7/dist-packages (from distributed>=2.0->dask[complete]) (1.0.3)\n",
            "Requirement already satisfied: zict>=0.1.3 in /usr/local/lib/python3.7/dist-packages (from distributed>=2.0->dask[complete]) (2.1.0)\n",
            "Requirement already satisfied: tblib>=1.6.0 in /usr/local/lib/python3.7/dist-packages (from distributed>=2.0->dask[complete]) (1.7.0)\n",
            "Requirement already satisfied: setuptools in /usr/local/lib/python3.7/dist-packages (from distributed>=2.0->dask[complete]) (57.4.0)\n",
            "Requirement already satisfied: psutil>=5.0 in /usr/local/lib/python3.7/dist-packages (from distributed>=2.0->dask[complete]) (5.4.8)\n",
            "Requirement already satisfied: MarkupSafe>=0.23 in /usr/local/lib/python3.7/dist-packages (from Jinja2>=2.9->bokeh>=1.0.0->dask[complete]) (2.0.1)\n",
            "Requirement already satisfied: pyparsing!=3.0.5,>=2.0.2 in /usr/local/lib/python3.7/dist-packages (from packaging>=16.8->bokeh>=1.0.0->dask[complete]) (3.0.7)\n",
            "Requirement already satisfied: pytz>=2017.3 in /usr/local/lib/python3.7/dist-packages (from pandas>=0.23.0->dask[complete]) (2018.9)\n",
            "Requirement already satisfied: locket in /usr/local/lib/python3.7/dist-packages (from partd>=0.3.10->dask[complete]) (0.2.1)\n",
            "Requirement already satisfied: six>=1.5 in /usr/local/lib/python3.7/dist-packages (from python-dateutil>=2.1->bokeh>=1.0.0->dask[complete]) (1.15.0)\n",
            "Requirement already satisfied: heapdict in /usr/local/lib/python3.7/dist-packages (from zict>=0.1.3->distributed>=2.0->dask[complete]) (1.0.1)\n"
          ]
        }
      ]
    },
    {
      "cell_type": "code",
      "source": [
        "df = dfOriginal.copy()"
      ],
      "metadata": {
        "id": "3nqSisNPd6eZ"
      },
      "execution_count": 328,
      "outputs": []
    },
    {
      "cell_type": "code",
      "source": [
        "import dask\n",
        "import dask.dataframe as dd"
      ],
      "metadata": {
        "id": "YNnGZgW7XOxz"
      },
      "execution_count": 329,
      "outputs": []
    },
    {
      "cell_type": "code",
      "source": [
        "ddf = dd.from_pandas(df, npartitions=2)"
      ],
      "metadata": {
        "id": "wC65cl3IXQr5"
      },
      "execution_count": 330,
      "outputs": []
    },
    {
      "cell_type": "code",
      "source": [
        "ddf.partitions[0]"
      ],
      "metadata": {
        "colab": {
          "base_uri": "https://localhost:8080/",
          "height": 198
        },
        "id": "_JYsC6vQXQt8",
        "outputId": "cec369b0-6b34-4bd7-cdab-b620423cadab"
      },
      "execution_count": 331,
      "outputs": [
        {
          "output_type": "execute_result",
          "data": {
            "text/plain": [
              "Dask DataFrame Structure:\n",
              "               regio1 serviceCharge heatingType telekomTvOffer telekomHybridUploadSpeed newlyConst balcony picturecount pricetrend telekomUploadSpeed totalRent yearConstructed scoutId noParkSpaces firingTypes hasKitchen geo_bln cellar yearConstructedRange baseRent houseNumber livingSpace geo_krs condition interiorQual petsAllowed  street streetPlain  lift baseRentRange typeOfFlat geo_plz  noRooms thermalChar    floor numberOfFloors noRoomsRange garden livingSpaceRange  regio2  regio3 description facilities heatingCosts energyEfficiencyClass lastRefurbish electricityBasePrice electricityKwhPrice    date\n",
              "npartitions=1                                                                                                                                                                                                                                                                                                                                                                                                                                                                                                                                                                                                                    \n",
              "0              object       float64      object         object                  float64       bool    bool        int64    float64            float64   float64         float64   int64      float64      object       bool  object   bool              float64  float64      object     float64  object    object       object      object  object      object  bool         int64     object   int64  float64     float64  float64        float64        int64   bool            int64  object  object      object     object      float64                object       float64              float64             float64  object\n",
              "134425            ...           ...         ...            ...                      ...        ...     ...          ...        ...                ...       ...             ...     ...          ...         ...        ...     ...    ...                  ...      ...         ...         ...     ...       ...          ...         ...     ...         ...   ...           ...        ...     ...      ...         ...      ...            ...          ...    ...              ...     ...     ...         ...        ...          ...                   ...           ...                  ...                 ...     ...\n",
              "Dask Name: blocks, 3 tasks"
            ],
            "text/html": [
              "<div><strong>Dask DataFrame Structure:</strong></div>\n",
              "<div>\n",
              "<style scoped>\n",
              "    .dataframe tbody tr th:only-of-type {\n",
              "        vertical-align: middle;\n",
              "    }\n",
              "\n",
              "    .dataframe tbody tr th {\n",
              "        vertical-align: top;\n",
              "    }\n",
              "\n",
              "    .dataframe thead th {\n",
              "        text-align: right;\n",
              "    }\n",
              "</style>\n",
              "<table border=\"1\" class=\"dataframe\">\n",
              "  <thead>\n",
              "    <tr style=\"text-align: right;\">\n",
              "      <th></th>\n",
              "      <th>regio1</th>\n",
              "      <th>serviceCharge</th>\n",
              "      <th>heatingType</th>\n",
              "      <th>telekomTvOffer</th>\n",
              "      <th>telekomHybridUploadSpeed</th>\n",
              "      <th>newlyConst</th>\n",
              "      <th>balcony</th>\n",
              "      <th>picturecount</th>\n",
              "      <th>pricetrend</th>\n",
              "      <th>telekomUploadSpeed</th>\n",
              "      <th>totalRent</th>\n",
              "      <th>yearConstructed</th>\n",
              "      <th>scoutId</th>\n",
              "      <th>noParkSpaces</th>\n",
              "      <th>firingTypes</th>\n",
              "      <th>hasKitchen</th>\n",
              "      <th>geo_bln</th>\n",
              "      <th>cellar</th>\n",
              "      <th>yearConstructedRange</th>\n",
              "      <th>baseRent</th>\n",
              "      <th>houseNumber</th>\n",
              "      <th>livingSpace</th>\n",
              "      <th>geo_krs</th>\n",
              "      <th>condition</th>\n",
              "      <th>interiorQual</th>\n",
              "      <th>petsAllowed</th>\n",
              "      <th>street</th>\n",
              "      <th>streetPlain</th>\n",
              "      <th>lift</th>\n",
              "      <th>baseRentRange</th>\n",
              "      <th>typeOfFlat</th>\n",
              "      <th>geo_plz</th>\n",
              "      <th>noRooms</th>\n",
              "      <th>thermalChar</th>\n",
              "      <th>floor</th>\n",
              "      <th>numberOfFloors</th>\n",
              "      <th>noRoomsRange</th>\n",
              "      <th>garden</th>\n",
              "      <th>livingSpaceRange</th>\n",
              "      <th>regio2</th>\n",
              "      <th>regio3</th>\n",
              "      <th>description</th>\n",
              "      <th>facilities</th>\n",
              "      <th>heatingCosts</th>\n",
              "      <th>energyEfficiencyClass</th>\n",
              "      <th>lastRefurbish</th>\n",
              "      <th>electricityBasePrice</th>\n",
              "      <th>electricityKwhPrice</th>\n",
              "      <th>date</th>\n",
              "    </tr>\n",
              "    <tr>\n",
              "      <th>npartitions=1</th>\n",
              "      <th></th>\n",
              "      <th></th>\n",
              "      <th></th>\n",
              "      <th></th>\n",
              "      <th></th>\n",
              "      <th></th>\n",
              "      <th></th>\n",
              "      <th></th>\n",
              "      <th></th>\n",
              "      <th></th>\n",
              "      <th></th>\n",
              "      <th></th>\n",
              "      <th></th>\n",
              "      <th></th>\n",
              "      <th></th>\n",
              "      <th></th>\n",
              "      <th></th>\n",
              "      <th></th>\n",
              "      <th></th>\n",
              "      <th></th>\n",
              "      <th></th>\n",
              "      <th></th>\n",
              "      <th></th>\n",
              "      <th></th>\n",
              "      <th></th>\n",
              "      <th></th>\n",
              "      <th></th>\n",
              "      <th></th>\n",
              "      <th></th>\n",
              "      <th></th>\n",
              "      <th></th>\n",
              "      <th></th>\n",
              "      <th></th>\n",
              "      <th></th>\n",
              "      <th></th>\n",
              "      <th></th>\n",
              "      <th></th>\n",
              "      <th></th>\n",
              "      <th></th>\n",
              "      <th></th>\n",
              "      <th></th>\n",
              "      <th></th>\n",
              "      <th></th>\n",
              "      <th></th>\n",
              "      <th></th>\n",
              "      <th></th>\n",
              "      <th></th>\n",
              "      <th></th>\n",
              "      <th></th>\n",
              "    </tr>\n",
              "  </thead>\n",
              "  <tbody>\n",
              "    <tr>\n",
              "      <th>0</th>\n",
              "      <td>object</td>\n",
              "      <td>float64</td>\n",
              "      <td>object</td>\n",
              "      <td>object</td>\n",
              "      <td>float64</td>\n",
              "      <td>bool</td>\n",
              "      <td>bool</td>\n",
              "      <td>int64</td>\n",
              "      <td>float64</td>\n",
              "      <td>float64</td>\n",
              "      <td>float64</td>\n",
              "      <td>float64</td>\n",
              "      <td>int64</td>\n",
              "      <td>float64</td>\n",
              "      <td>object</td>\n",
              "      <td>bool</td>\n",
              "      <td>object</td>\n",
              "      <td>bool</td>\n",
              "      <td>float64</td>\n",
              "      <td>float64</td>\n",
              "      <td>object</td>\n",
              "      <td>float64</td>\n",
              "      <td>object</td>\n",
              "      <td>object</td>\n",
              "      <td>object</td>\n",
              "      <td>object</td>\n",
              "      <td>object</td>\n",
              "      <td>object</td>\n",
              "      <td>bool</td>\n",
              "      <td>int64</td>\n",
              "      <td>object</td>\n",
              "      <td>int64</td>\n",
              "      <td>float64</td>\n",
              "      <td>float64</td>\n",
              "      <td>float64</td>\n",
              "      <td>float64</td>\n",
              "      <td>int64</td>\n",
              "      <td>bool</td>\n",
              "      <td>int64</td>\n",
              "      <td>object</td>\n",
              "      <td>object</td>\n",
              "      <td>object</td>\n",
              "      <td>object</td>\n",
              "      <td>float64</td>\n",
              "      <td>object</td>\n",
              "      <td>float64</td>\n",
              "      <td>float64</td>\n",
              "      <td>float64</td>\n",
              "      <td>object</td>\n",
              "    </tr>\n",
              "    <tr>\n",
              "      <th>134425</th>\n",
              "      <td>...</td>\n",
              "      <td>...</td>\n",
              "      <td>...</td>\n",
              "      <td>...</td>\n",
              "      <td>...</td>\n",
              "      <td>...</td>\n",
              "      <td>...</td>\n",
              "      <td>...</td>\n",
              "      <td>...</td>\n",
              "      <td>...</td>\n",
              "      <td>...</td>\n",
              "      <td>...</td>\n",
              "      <td>...</td>\n",
              "      <td>...</td>\n",
              "      <td>...</td>\n",
              "      <td>...</td>\n",
              "      <td>...</td>\n",
              "      <td>...</td>\n",
              "      <td>...</td>\n",
              "      <td>...</td>\n",
              "      <td>...</td>\n",
              "      <td>...</td>\n",
              "      <td>...</td>\n",
              "      <td>...</td>\n",
              "      <td>...</td>\n",
              "      <td>...</td>\n",
              "      <td>...</td>\n",
              "      <td>...</td>\n",
              "      <td>...</td>\n",
              "      <td>...</td>\n",
              "      <td>...</td>\n",
              "      <td>...</td>\n",
              "      <td>...</td>\n",
              "      <td>...</td>\n",
              "      <td>...</td>\n",
              "      <td>...</td>\n",
              "      <td>...</td>\n",
              "      <td>...</td>\n",
              "      <td>...</td>\n",
              "      <td>...</td>\n",
              "      <td>...</td>\n",
              "      <td>...</td>\n",
              "      <td>...</td>\n",
              "      <td>...</td>\n",
              "      <td>...</td>\n",
              "      <td>...</td>\n",
              "      <td>...</td>\n",
              "      <td>...</td>\n",
              "      <td>...</td>\n",
              "    </tr>\n",
              "  </tbody>\n",
              "</table>\n",
              "</div>\n",
              "<div>Dask Name: blocks, 3 tasks</div>"
            ]
          },
          "metadata": {},
          "execution_count": 331
        }
      ]
    },
    {
      "cell_type": "code",
      "source": [
        "ddf.partitions[1]"
      ],
      "metadata": {
        "colab": {
          "base_uri": "https://localhost:8080/",
          "height": 198
        },
        "id": "nDUrFXH0XQwM",
        "outputId": "c0c4dbd5-9792-42ae-b5dc-7df51b670555"
      },
      "execution_count": 332,
      "outputs": [
        {
          "output_type": "execute_result",
          "data": {
            "text/plain": [
              "Dask DataFrame Structure:\n",
              "               regio1 serviceCharge heatingType telekomTvOffer telekomHybridUploadSpeed newlyConst balcony picturecount pricetrend telekomUploadSpeed totalRent yearConstructed scoutId noParkSpaces firingTypes hasKitchen geo_bln cellar yearConstructedRange baseRent houseNumber livingSpace geo_krs condition interiorQual petsAllowed  street streetPlain  lift baseRentRange typeOfFlat geo_plz  noRooms thermalChar    floor numberOfFloors noRoomsRange garden livingSpaceRange  regio2  regio3 description facilities heatingCosts energyEfficiencyClass lastRefurbish electricityBasePrice electricityKwhPrice    date\n",
              "npartitions=1                                                                                                                                                                                                                                                                                                                                                                                                                                                                                                                                                                                                                    \n",
              "134425         object       float64      object         object                  float64       bool    bool        int64    float64            float64   float64         float64   int64      float64      object       bool  object   bool              float64  float64      object     float64  object    object       object      object  object      object  bool         int64     object   int64  float64     float64  float64        float64        int64   bool            int64  object  object      object     object      float64                object       float64              float64             float64  object\n",
              "268849            ...           ...         ...            ...                      ...        ...     ...          ...        ...                ...       ...             ...     ...          ...         ...        ...     ...    ...                  ...      ...         ...         ...     ...       ...          ...         ...     ...         ...   ...           ...        ...     ...      ...         ...      ...            ...          ...    ...              ...     ...     ...         ...        ...          ...                   ...           ...                  ...                 ...     ...\n",
              "Dask Name: blocks, 3 tasks"
            ],
            "text/html": [
              "<div><strong>Dask DataFrame Structure:</strong></div>\n",
              "<div>\n",
              "<style scoped>\n",
              "    .dataframe tbody tr th:only-of-type {\n",
              "        vertical-align: middle;\n",
              "    }\n",
              "\n",
              "    .dataframe tbody tr th {\n",
              "        vertical-align: top;\n",
              "    }\n",
              "\n",
              "    .dataframe thead th {\n",
              "        text-align: right;\n",
              "    }\n",
              "</style>\n",
              "<table border=\"1\" class=\"dataframe\">\n",
              "  <thead>\n",
              "    <tr style=\"text-align: right;\">\n",
              "      <th></th>\n",
              "      <th>regio1</th>\n",
              "      <th>serviceCharge</th>\n",
              "      <th>heatingType</th>\n",
              "      <th>telekomTvOffer</th>\n",
              "      <th>telekomHybridUploadSpeed</th>\n",
              "      <th>newlyConst</th>\n",
              "      <th>balcony</th>\n",
              "      <th>picturecount</th>\n",
              "      <th>pricetrend</th>\n",
              "      <th>telekomUploadSpeed</th>\n",
              "      <th>totalRent</th>\n",
              "      <th>yearConstructed</th>\n",
              "      <th>scoutId</th>\n",
              "      <th>noParkSpaces</th>\n",
              "      <th>firingTypes</th>\n",
              "      <th>hasKitchen</th>\n",
              "      <th>geo_bln</th>\n",
              "      <th>cellar</th>\n",
              "      <th>yearConstructedRange</th>\n",
              "      <th>baseRent</th>\n",
              "      <th>houseNumber</th>\n",
              "      <th>livingSpace</th>\n",
              "      <th>geo_krs</th>\n",
              "      <th>condition</th>\n",
              "      <th>interiorQual</th>\n",
              "      <th>petsAllowed</th>\n",
              "      <th>street</th>\n",
              "      <th>streetPlain</th>\n",
              "      <th>lift</th>\n",
              "      <th>baseRentRange</th>\n",
              "      <th>typeOfFlat</th>\n",
              "      <th>geo_plz</th>\n",
              "      <th>noRooms</th>\n",
              "      <th>thermalChar</th>\n",
              "      <th>floor</th>\n",
              "      <th>numberOfFloors</th>\n",
              "      <th>noRoomsRange</th>\n",
              "      <th>garden</th>\n",
              "      <th>livingSpaceRange</th>\n",
              "      <th>regio2</th>\n",
              "      <th>regio3</th>\n",
              "      <th>description</th>\n",
              "      <th>facilities</th>\n",
              "      <th>heatingCosts</th>\n",
              "      <th>energyEfficiencyClass</th>\n",
              "      <th>lastRefurbish</th>\n",
              "      <th>electricityBasePrice</th>\n",
              "      <th>electricityKwhPrice</th>\n",
              "      <th>date</th>\n",
              "    </tr>\n",
              "    <tr>\n",
              "      <th>npartitions=1</th>\n",
              "      <th></th>\n",
              "      <th></th>\n",
              "      <th></th>\n",
              "      <th></th>\n",
              "      <th></th>\n",
              "      <th></th>\n",
              "      <th></th>\n",
              "      <th></th>\n",
              "      <th></th>\n",
              "      <th></th>\n",
              "      <th></th>\n",
              "      <th></th>\n",
              "      <th></th>\n",
              "      <th></th>\n",
              "      <th></th>\n",
              "      <th></th>\n",
              "      <th></th>\n",
              "      <th></th>\n",
              "      <th></th>\n",
              "      <th></th>\n",
              "      <th></th>\n",
              "      <th></th>\n",
              "      <th></th>\n",
              "      <th></th>\n",
              "      <th></th>\n",
              "      <th></th>\n",
              "      <th></th>\n",
              "      <th></th>\n",
              "      <th></th>\n",
              "      <th></th>\n",
              "      <th></th>\n",
              "      <th></th>\n",
              "      <th></th>\n",
              "      <th></th>\n",
              "      <th></th>\n",
              "      <th></th>\n",
              "      <th></th>\n",
              "      <th></th>\n",
              "      <th></th>\n",
              "      <th></th>\n",
              "      <th></th>\n",
              "      <th></th>\n",
              "      <th></th>\n",
              "      <th></th>\n",
              "      <th></th>\n",
              "      <th></th>\n",
              "      <th></th>\n",
              "      <th></th>\n",
              "      <th></th>\n",
              "    </tr>\n",
              "  </thead>\n",
              "  <tbody>\n",
              "    <tr>\n",
              "      <th>134425</th>\n",
              "      <td>object</td>\n",
              "      <td>float64</td>\n",
              "      <td>object</td>\n",
              "      <td>object</td>\n",
              "      <td>float64</td>\n",
              "      <td>bool</td>\n",
              "      <td>bool</td>\n",
              "      <td>int64</td>\n",
              "      <td>float64</td>\n",
              "      <td>float64</td>\n",
              "      <td>float64</td>\n",
              "      <td>float64</td>\n",
              "      <td>int64</td>\n",
              "      <td>float64</td>\n",
              "      <td>object</td>\n",
              "      <td>bool</td>\n",
              "      <td>object</td>\n",
              "      <td>bool</td>\n",
              "      <td>float64</td>\n",
              "      <td>float64</td>\n",
              "      <td>object</td>\n",
              "      <td>float64</td>\n",
              "      <td>object</td>\n",
              "      <td>object</td>\n",
              "      <td>object</td>\n",
              "      <td>object</td>\n",
              "      <td>object</td>\n",
              "      <td>object</td>\n",
              "      <td>bool</td>\n",
              "      <td>int64</td>\n",
              "      <td>object</td>\n",
              "      <td>int64</td>\n",
              "      <td>float64</td>\n",
              "      <td>float64</td>\n",
              "      <td>float64</td>\n",
              "      <td>float64</td>\n",
              "      <td>int64</td>\n",
              "      <td>bool</td>\n",
              "      <td>int64</td>\n",
              "      <td>object</td>\n",
              "      <td>object</td>\n",
              "      <td>object</td>\n",
              "      <td>object</td>\n",
              "      <td>float64</td>\n",
              "      <td>object</td>\n",
              "      <td>float64</td>\n",
              "      <td>float64</td>\n",
              "      <td>float64</td>\n",
              "      <td>object</td>\n",
              "    </tr>\n",
              "    <tr>\n",
              "      <th>268849</th>\n",
              "      <td>...</td>\n",
              "      <td>...</td>\n",
              "      <td>...</td>\n",
              "      <td>...</td>\n",
              "      <td>...</td>\n",
              "      <td>...</td>\n",
              "      <td>...</td>\n",
              "      <td>...</td>\n",
              "      <td>...</td>\n",
              "      <td>...</td>\n",
              "      <td>...</td>\n",
              "      <td>...</td>\n",
              "      <td>...</td>\n",
              "      <td>...</td>\n",
              "      <td>...</td>\n",
              "      <td>...</td>\n",
              "      <td>...</td>\n",
              "      <td>...</td>\n",
              "      <td>...</td>\n",
              "      <td>...</td>\n",
              "      <td>...</td>\n",
              "      <td>...</td>\n",
              "      <td>...</td>\n",
              "      <td>...</td>\n",
              "      <td>...</td>\n",
              "      <td>...</td>\n",
              "      <td>...</td>\n",
              "      <td>...</td>\n",
              "      <td>...</td>\n",
              "      <td>...</td>\n",
              "      <td>...</td>\n",
              "      <td>...</td>\n",
              "      <td>...</td>\n",
              "      <td>...</td>\n",
              "      <td>...</td>\n",
              "      <td>...</td>\n",
              "      <td>...</td>\n",
              "      <td>...</td>\n",
              "      <td>...</td>\n",
              "      <td>...</td>\n",
              "      <td>...</td>\n",
              "      <td>...</td>\n",
              "      <td>...</td>\n",
              "      <td>...</td>\n",
              "      <td>...</td>\n",
              "      <td>...</td>\n",
              "      <td>...</td>\n",
              "      <td>...</td>\n",
              "      <td>...</td>\n",
              "    </tr>\n",
              "  </tbody>\n",
              "</table>\n",
              "</div>\n",
              "<div>Dask Name: blocks, 3 tasks</div>"
            ]
          },
          "metadata": {},
          "execution_count": 332
        }
      ]
    },
    {
      "cell_type": "code",
      "source": [
        "dpdf = ddf.compute()\n",
        "type(dpdf)"
      ],
      "metadata": {
        "colab": {
          "base_uri": "https://localhost:8080/"
        },
        "id": "ttjoLwOXXQyt",
        "outputId": "b14ea899-f1ee-4ef4-f156-41632e26c78a"
      },
      "execution_count": 333,
      "outputs": [
        {
          "output_type": "execute_result",
          "data": {
            "text/plain": [
              "pandas.core.frame.DataFrame"
            ]
          },
          "metadata": {},
          "execution_count": 333
        }
      ]
    },
    {
      "cell_type": "code",
      "source": [
        "s_time = time.time()\n",
        "# ddf_edit = ddf.groupby('col3').apply(my_func)\n",
        "gbos = ddf.groupby('regio1')\n",
        "ddf_edit = gbos.apply(dataCleaning, meta = {'regio1':'object',\t'serviceCharge':'float64',\t'heatingType':'object',\t'telekomTvOffer':'object',\n",
        "                                            'telekomHybridUploadSpeed':'float64',\t'newlyConst':'bool',\t'balcony':'bool',\t'picturecount':'int64',\n",
        "                                            'pricetrend':'float64',\t'telekomUploadSpeed':'float64',\t'totalRent':'float64','yearConstructed':'float64',\n",
        "                                            'scoutId':'float64',\t'noParkSpaces':'int64',\t'firingTypes':'float64',\t'hasKitchen':'object',\n",
        "                                            'geo_bln':'bool',\t'cellar':'object',\t'yearConstructedRange':'bool',\t'baseRent':'float64',\t'houseNumber':'object',\n",
        "                                            'livingSpace':'float64',\t'geo_krs':'object',\t'condition':'object',\t'interiorQual':'object',\t'petsAllowed':'object',\n",
        "                                            'street':'object',\t'streetPlain':'object',\t'lift':'bool',\t'baseRentRange':'int64',\t'typeOfFlat':'object',\n",
        "                                            'geo_plz':'int64',\t'noRooms':'float64',\t'thermalChar':'float64',\t'floor':'float64'\t,'numberOfFloors':'float64',\n",
        "                                            'noRoomsRange':'int64',\t'garden':'bool',\t'livingSpaceRange':'int64',\t'regio2':'object','regio3':'object',\n",
        "                                            'description':'object',\t'facilities':'object',\t'heatingCosts':'float64',\t'energyEfficiencyClass':'object',\n",
        "                                            'lastRefurbish':'float64',\t'electricityBasePrice':'float64',\t'electricityKwhPrice':'float64',\t'date':'object'})\n",
        "\n",
        "print(f'run time : {time.time() - s_time}')"
      ],
      "metadata": {
        "colab": {
          "base_uri": "https://localhost:8080/"
        },
        "id": "LDfcVtl7XQ0s",
        "outputId": "d5ff45e6-13d7-4279-ff6b-2e38ae5f60cb"
      },
      "execution_count": 334,
      "outputs": [
        {
          "output_type": "stream",
          "name": "stdout",
          "text": [
            "run time : 0.04126858711242676\n"
          ]
        }
      ]
    },
    {
      "cell_type": "markdown",
      "source": [
        "### pyspark"
      ],
      "metadata": {
        "id": "ePxEa8QxnGRp"
      }
    },
    {
      "cell_type": "code",
      "source": [
        "import os, sys\n",
        "sys.executable"
      ],
      "metadata": {
        "colab": {
          "base_uri": "https://localhost:8080/",
          "height": 36
        },
        "id": "X3DHQzbUnKvm",
        "outputId": "fe6c1a10-5a78-41c3-e609-05c454c0a6dd"
      },
      "execution_count": 335,
      "outputs": [
        {
          "output_type": "execute_result",
          "data": {
            "text/plain": [
              "'/usr/bin/python3'"
            ],
            "application/vnd.google.colaboratory.intrinsic+json": {
              "type": "string"
            }
          },
          "metadata": {},
          "execution_count": 335
        }
      ]
    },
    {
      "cell_type": "code",
      "source": [
        "#os.environ[\"SPARK_HOME\"] = \"/opt/spark-3.0.1-bin-hadoop2.7\"\n",
        "os.environ[\"PYSPARK_PYTHON\"] = sys.executable"
      ],
      "metadata": {
        "id": "U-E6g1-NnKyJ"
      },
      "execution_count": 336,
      "outputs": []
    },
    {
      "cell_type": "code",
      "source": [
        "!pip install pyspark"
      ],
      "metadata": {
        "colab": {
          "base_uri": "https://localhost:8080/"
        },
        "id": "TsnJUyl0nK0W",
        "outputId": "ebe9fc89-24fd-455f-d292-cc275b269f4c"
      },
      "execution_count": 337,
      "outputs": [
        {
          "output_type": "stream",
          "name": "stdout",
          "text": [
            "Requirement already satisfied: pyspark in /usr/local/lib/python3.7/dist-packages (3.2.1)\n",
            "Requirement already satisfied: py4j==0.10.9.3 in /usr/local/lib/python3.7/dist-packages (from pyspark) (0.10.9.3)\n"
          ]
        }
      ]
    },
    {
      "cell_type": "code",
      "source": [
        "from pyspark.sql import SparkSession\n",
        "\n",
        "spark = SparkSession.builder\\\n",
        "        .master(\"local\")\\\n",
        "        .appName(\"Colab\")\\\n",
        "        .getOrCreate()"
      ],
      "metadata": {
        "id": "WDRkp9Q2nK2-"
      },
      "execution_count": 338,
      "outputs": []
    },
    {
      "cell_type": "code",
      "source": [
        "df1 = df.select_dtypes(['number']) #drop non numerical columns   \n",
        "df1 = pd.DataFrame(df1)\n",
        "df1['regio1']=df['regio1']\n",
        "# df1.info()\n",
        "sdf=spark.createDataFrame(df1)"
      ],
      "metadata": {
        "id": "4U9eA6hQnfjA"
      },
      "execution_count": 339,
      "outputs": []
    },
    {
      "cell_type": "code",
      "source": [
        "from pyspark.sql.functions import PandasUDFType\n",
        "from pyspark.sql.functions import pandas_udf\n",
        "from pyspark.sql.types import StructField, StructType, IntegerType, StringType, BooleanType, FloatType"
      ],
      "metadata": {
        "id": "0kbjoB7hnfn-"
      },
      "execution_count": 340,
      "outputs": []
    },
    {
      "cell_type": "code",
      "source": [
        "schema = StructType([StructField('serviceCharge',FloatType(), True),\n",
        "                     StructField(\t'picturecount', IntegerType(), True), \n",
        "                     StructField(\t'noParkSpaces', IntegerType(), True),\n",
        "                     StructField(\t'geo_plz', IntegerType(), True),\n",
        "                     StructField(\t'livingSpaceRange', IntegerType(), True),\n",
        "                     StructField(\t'noRoomsRange', IntegerType(), True),\n",
        "                     StructField('telekomHybridUploadSpeed', FloatType(), True),\n",
        "                     StructField('pricetrend', FloatType(), True),\n",
        "                     StructField('telekomUploadSpeed', FloatType(), True),\n",
        "                     StructField('totalRent', FloatType(), True),\n",
        "                     StructField('yearConstructed', FloatType(), True),\n",
        "                     StructField( 'scoutId', FloatType(), True),\n",
        "                     StructField('firingTypes', FloatType(), True),\n",
        "                     StructField('baseRent', FloatType(), True),\n",
        "                     StructField('livingSpace', FloatType(), True),\n",
        "                     StructField('baseRentRange', FloatType(), True),\n",
        "                     StructField('noRooms', FloatType(), True),\n",
        "                     StructField('thermalChar', FloatType(), True),\n",
        "                     StructField('floor', FloatType(), True),\n",
        "                     StructField('numberOfFloors', FloatType(), True),\n",
        "                     StructField(\t'heatingCosts', FloatType(), True),\n",
        "                     StructField('lastRefurbish', FloatType(), True),\n",
        "                     StructField('electricityBasePrice', FloatType(), True),\n",
        "                     StructField('electricityKwhPrice', FloatType(), True),\n",
        "                     StructField('regio1', StringType(), True)])"
      ],
      "metadata": {
        "id": "wy-Ft_Db51vE"
      },
      "execution_count": 341,
      "outputs": []
    },
    {
      "cell_type": "code",
      "source": [
        "@pandas_udf(schema, functionType=PandasUDFType.GROUPED_MAP)\n",
        "def dataCleaning(dfa):\n",
        "  dfa.dropna(subset=['totalRent'],inplace=True)\n",
        "  dfa = dfa.drop(dfa[dfa['totalRent'] == 0.0].index)\n",
        "  dfa = dfa.drop(dfa[dfa['totalRent'] < 0.0].index)\n",
        "  dfa = dfa.drop(dfa[dfa['livingSpace'] == 0.0].index)\n",
        "  dfa = dfa.drop(dfa[dfa['livingSpace'] < 0.0].index)\n",
        "  dfa = dfa.drop(dfa[dfa['yearConstructed'] >2022].index)\n",
        "  dfa = dfa.drop(dfa[dfa['baseRent'] < 0.0].index)\n",
        "  dfa.duplicated(keep='last')\n",
        "  for col in dfa: ##deleting outliers\n",
        "    if dfa[col].dtype in (\"int\", \"float\"):\n",
        "        upper_range = dfa[col].mean() + 3 * dfa[col].std()\n",
        "        lower_range = dfa[col].mean() - 3 * dfa[col].std()\n",
        "        indexs = dfa[(dfa[col] > upper_range) | (dfa[col] < lower_range)].index\n",
        "        dfa = dfa.drop(indexs)  \n",
        "  for col in dfa:\n",
        "    if dfa[col].dtype in (\"int\", \"float\"):\n",
        "      dfa[col].fillna(dfa[col].mean(),inplace=True)          \n",
        "  return dfa"
      ],
      "metadata": {
        "id": "g0ecEKfTnfrn"
      },
      "execution_count": 342,
      "outputs": []
    },
    {
      "cell_type": "code",
      "source": [
        "s_time = time.time()\n",
        "df_edit = sdf.groupby('regio1').apply(dataCleaning)\n",
        "print(f'run time : {time.time() - s_time}')"
      ],
      "metadata": {
        "colab": {
          "base_uri": "https://localhost:8080/"
        },
        "id": "loyCLkRLnK6N",
        "outputId": "17e9e63e-9b24-4926-be3b-199bca1d4daa"
      },
      "execution_count": 343,
      "outputs": [
        {
          "output_type": "stream",
          "name": "stdout",
          "text": [
            "run time : 0.1358046531677246\n"
          ]
        },
        {
          "output_type": "stream",
          "name": "stderr",
          "text": [
            "/usr/local/lib/python3.7/dist-packages/pyspark/sql/pandas/group_ops.py:84: UserWarning: It is preferred to use 'applyInPandas' over this API. This API will be deprecated in the future releases. See SPARK-28264 for more details.\n",
            "  \"more details.\", UserWarning)\n"
          ]
        }
      ]
    }
  ]
}