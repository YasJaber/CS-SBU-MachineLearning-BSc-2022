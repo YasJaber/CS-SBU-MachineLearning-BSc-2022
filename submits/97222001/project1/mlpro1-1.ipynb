{
 "cells": [
  {
   "cell_type": "code",
   "execution_count": 1,
   "metadata": {
    "_uuid": "8f2839f25d086af736a60e9eeb907d3b93b6e0e5",
    "_cell_guid": "b1076dfc-b9ad-4769-8c92-a6c4dae69d19",
    "execution": {
     "iopub.status.busy": "2022-04-10T19:00:25.366940Z",
     "iopub.execute_input": "2022-04-10T19:00:25.367279Z",
     "iopub.status.idle": "2022-04-10T19:00:25.454688Z",
     "shell.execute_reply.started": "2022-04-10T19:00:25.367177Z",
     "shell.execute_reply": "2022-04-10T19:00:25.453715Z"
    },
    "trusted": true
   },
   "outputs": [],
   "source": [
    "import numpy as np \n",
    "import pandas as pd\n",
    "import os\n",
    "for dirname, _, filenames in os.walk('/kaggle/input'):\n",
    "    for filename in filenames:\n",
    "        print(os.path.join(dirname, filename))\n",
    "\n",
    "df = pd.read_csv(\"/kaggle/input/MobilePriceClassification/train.csv\")\n",
    "\n",
    "pd.set_option('display.max_columns',None)\n",
    "\n",
    "df.info()\n",
    "\n",
    "#acording to following line nan data is zero in all columns\n",
    "# df.isna().sum()\n",
    "df[['blue']].sum()\n",
    "df.head(10)\n",
    "df.shape"
   ]
  },
  {
   "cell_type": "code",
   "execution_count": null,
   "metadata": {
    "execution": {
     "iopub.status.busy": "2022-04-10T09:11:40.458396Z",
     "iopub.execute_input": "2022-04-10T09:11:40.458927Z",
     "iopub.status.idle": "2022-04-10T09:11:40.471552Z",
     "shell.execute_reply.started": "2022-04-10T09:11:40.458885Z",
     "shell.execute_reply": "2022-04-10T09:11:40.470283Z"
    },
    "trusted": true
   },
   "outputs": [],
   "source": [
    "# Imports\n",
    "import matplotlib.pyplot as plt\n",
    "from sklearn.metrics import roc_auc_score, roc_curve\n",
    "from sklearn.model_selection import train_test_split\n",
    "from sklearn.linear_model import LogisticRegression\n",
    "\n",
    "df = pd.read_csv(\"/kaggle/input/MobilePriceClassification/train.csv\")\n",
    "df.shape\n",
    "y = df['price_range']\n",
    "X = df.drop(columns = ['price_range'])\n",
    "#split the dataset into training (70%) and testing (30%) sets\n",
    "X_train,X_test,y_train,y_test = train_test_split(X,y,test_size=0.2,random_state=0) \n",
    "\n",
    "#instantiate the model\n",
    "log_regression = LogisticRegression()\n",
    "\n",
    "#fit the model using the training data\n",
    "log_regression.fit(X_train,y_train)\n",
    "\n",
    "#define metrics\n",
    "y_pred_proba = log_regression.predict_proba(X_test)[::,1]\n",
    "\n",
    "\n",
    "# ROC Function\n",
    "def plot_roc_curve(Y_test, model_probs):\n",
    "    print('run')\n",
    "\trandom_probs = [0 for i in range(len(Y_test))]\n",
    "\t# calculate AUC\n",
    "\tmodel_auc = roc_auc_score(Y_test, model_probs)\n",
    "\t# summarize score\n",
    "\tprint('Model: ROC AUC=%.3f' % (model_auc))\n",
    "\t# calculate ROC Curve\n",
    "\t\t# For the Random Model\n",
    "\trandom_fpr, random_tpr, _ = roc_curve(Y_test, random_probs)\n",
    "\t\t# For the actual model\n",
    "\tmodel_fpr, model_tpr, _ = roc_curve(Y_test, model_probs)\n",
    "\t# Plot the roc curve for the model and the random model line\n",
    "\tplt.plot(random_fpr, random_tpr, linestyle='--', label='Random')\n",
    "\tplt.plot(model_fpr, model_tpr, marker='.', label='Model')\n",
    "\t# Create labels for the axis\n",
    "\tplt.xlabel('False Positive Rate')\n",
    "\tplt.ylabel('True Positive Rate')\n",
    "\t# show the legend\n",
    "\tplt.legend()\n",
    "\t# show the plot\n",
    "\tplt.show()\n",
    "plot_roc_curve(y_test,y_pred_proba)"
   ]
  },
  {
   "cell_type": "code",
   "execution_count": null,
   "metadata": {
    "execution": {
     "iopub.status.busy": "2022-04-10T09:13:38.29444Z",
     "iopub.execute_input": "2022-04-10T09:13:38.294772Z",
     "iopub.status.idle": "2022-04-10T09:13:38.433334Z",
     "shell.execute_reply.started": "2022-04-10T09:13:38.294741Z",
     "shell.execute_reply": "2022-04-10T09:13:38.432017Z"
    },
    "trusted": true
   },
   "outputs": [],
   "source": [
    "from sklearn.model_selection import train_test_split\n",
    "from sklearn.linear_model import LogisticRegression\n",
    "from sklearn import metrics\n",
    "import matplotlib.pyplot as plt\n",
    "\n",
    "df = pd.read_csv(\"/kaggle/input/MobilePriceClassification/train.csv\")\n",
    "df.shape\n",
    "y = df['price_range']\n",
    "X = df.drop(columns = ['price_range'])\n",
    "X.shape\n",
    "y.shape\n",
    "#split the dataset into training (70%) and testing (30%) sets\n",
    "X_train,X_test,y_train,y_test = train_test_split(X,y,test_size=0.2,random_state=0) \n",
    "\n",
    "#instantiate the model\n",
    "log_regression = LogisticRegression()\n",
    "\n",
    "#fit the model using the training data\n",
    "log_regression.fit(X_train,y_train)\n",
    "\n",
    "#define metrics\n",
    "y_pred_proba = log_regression.predict_proba(X_test)[::,1]\n",
    "fpr, tpr, _ = metrics.roc_curve(y_test,  y_pred_proba)\n",
    "\n",
    "#create ROC curve\n",
    "plt.plot(fpr,tpr)\n",
    "plt.ylabel('True Positive Rate')\n",
    "plt.xlabel('False Positive Rate')\n",
    "plt.show()\n"
   ]
  },
  {
   "cell_type": "code",
   "execution_count": null,
   "metadata": {
    "execution": {
     "iopub.status.busy": "2022-04-10T08:55:40.631399Z",
     "iopub.execute_input": "2022-04-10T08:55:40.631781Z",
     "iopub.status.idle": "2022-04-10T08:55:41.536989Z",
     "shell.execute_reply.started": "2022-04-10T08:55:40.631747Z",
     "shell.execute_reply": "2022-04-10T08:55:41.535925Z"
    },
    "trusted": true
   },
   "outputs": [],
   "source": [
    "y = df['price_range']\n",
    "X = df.drop(columns = ['price_range'])\n",
    "\n",
    "# necessary import\n",
    "import numpy as np\n",
    "import pandas as pd\n",
    "import matplotlib.pyplot as plt\n",
    "import sklearn\n",
    "from sklearn.preprocessing import StandardScaler, LabelEncoder\n",
    "from sklearn.model_selection import train_test_split\n",
    "from sklearn.discriminant_analysis import LinearDiscriminantAnalysis\n",
    "from sklearn.ensemble import RandomForestClassifier\n",
    "from sklearn.metrics import accuracy_score, confusion_matrix\n",
    "\n",
    "# # read dataset from URL\n",
    "# url = \"https://archive.ics.uci.edu/ml/machine-learning-databases/iris/iris.data\"\n",
    "# cls = ['sepal-length', 'sepal-width', 'petal-length', 'petal-width', 'Class']\n",
    "# dataset = pd.read_csv(url, names=cls)\n",
    "\n",
    "# # divide the dataset into class and target variable\n",
    "# X = dataset.iloc[:, 0:1].values\n",
    "# y = dataset.iloc[:, 1].values\n",
    "\n",
    "# Preprocess the dataset and divide into train and test\n",
    "sc = StandardScaler()\n",
    "X = sc.fit_transform(X)\n",
    "le = LabelEncoder()\n",
    "y = le.fit_transform(y)\n",
    "X_train, X_test, y_train, y_test = train_test_split(X, y, test_size=0.2)\n",
    "\n",
    "# apply Linear Discriminant Analysis\n",
    "lda = LinearDiscriminantAnalysis(n_components=2)\n",
    "X_train = lda.fit_transform(X_train, y_train)\n",
    "X_test = lda.transform(X_test)\n",
    "\n",
    "# plot the scatterplot\n",
    "plt.scatter(\n",
    "\tX_train[:,0],X_train[:,1],c=y_train,cmap='rainbow',\n",
    "alpha=0.7,edgecolors='b'\n",
    ")\n",
    "\n",
    "# classify using random forest classifier\n",
    "classifier = RandomForestClassifier(max_depth=2, random_state=0)\n",
    "classifier.fit(X_train, y_train)\n",
    "y_pred = classifier.predict(X_test)\n",
    "\n",
    "# print the accuracy and confusion matrix\n",
    "print('Accuracy : ' + str(accuracy_score(y_test, y_pred)))\n",
    "conf_m = confusion_matrix(y_test, y_pred)\n",
    "print(conf_m)\n"
   ]
  },
  {
   "cell_type": "code",
   "execution_count": null,
   "metadata": {
    "execution": {
     "iopub.status.busy": "2022-03-30T13:57:56.108612Z",
     "iopub.execute_input": "2022-03-30T13:57:56.109069Z",
     "iopub.status.idle": "2022-03-30T13:57:56.140264Z",
     "shell.execute_reply.started": "2022-03-30T13:57:56.109043Z",
     "shell.execute_reply": "2022-03-30T13:57:56.139695Z"
    },
    "trusted": true
   },
   "outputs": [],
   "source": [
    "# normalizing data before further calculations\n",
    "for cols in df.columns:\n",
    "    if df[cols].dtype == 'int64' or df[cols].dtype == 'float64':\n",
    "        df[cols] = ((df[cols] - df[cols].mean())/(df[cols].std()))\n",
    "# print(df)\n",
    "df.head(5)"
   ]
  },
  {
   "cell_type": "code",
   "execution_count": null,
   "metadata": {
    "execution": {
     "iopub.status.busy": "2022-03-30T14:11:36.875983Z",
     "iopub.execute_input": "2022-03-30T14:11:36.877097Z",
     "iopub.status.idle": "2022-03-30T14:11:39.27063Z",
     "shell.execute_reply.started": "2022-03-30T14:11:36.877031Z",
     "shell.execute_reply": "2022-03-30T14:11:39.26991Z"
    },
    "trusted": true
   },
   "outputs": [],
   "source": [
    "import seaborn as sns\n",
    "import matplotlib.pyplot as plt\n",
    "from scipy import stats\n",
    "\n",
    "fig, axs = plt.subplots(ncols=11, nrows=2, figsize=(20, 10))\n",
    "index = 0\n",
    "axs = axs.flatten()\n",
    "for k,v in df.items():\n",
    "    sns.boxplot(y=k, data=df, ax=axs[index])\n",
    "    index += 1\n",
    "plt.tight_layout(pad=0.4, w_pad=0.5, h_pad=5.0)\n",
    "#acording to following charts we have outlair data in fd / px_height / three_g"
   ]
  },
  {
   "cell_type": "code",
   "execution_count": null,
   "metadata": {
    "execution": {
     "iopub.status.busy": "2022-03-30T14:31:49.180246Z",
     "iopub.execute_input": "2022-03-30T14:31:49.180565Z",
     "iopub.status.idle": "2022-03-30T14:31:53.082081Z",
     "shell.execute_reply.started": "2022-03-30T14:31:49.180523Z",
     "shell.execute_reply": "2022-03-30T14:31:53.081221Z"
    },
    "trusted": true
   },
   "outputs": [],
   "source": [
    "import seaborn as sns\n",
    "import matplotlib.pyplot as pltn\n",
    "from warnings import filterwarnings\n",
    "fig, axs = plt.subplots(ncols=11, nrows=2, figsize=(20, 10))\n",
    "index = 0\n",
    "axs = axs.flatten()\n",
    "for k,v in df.items():\n",
    "    sns.distplot(v, ax=axs[index])\n",
    "    index += 1\n",
    "plt.tight_layout(pad=0.4, w_pad=0.5, h_pad=5.0)"
   ]
  },
  {
   "cell_type": "code",
   "execution_count": null,
   "metadata": {
    "execution": {
     "iopub.status.busy": "2022-03-30T13:57:58.151544Z",
     "iopub.execute_input": "2022-03-30T13:57:58.151787Z",
     "iopub.status.idle": "2022-03-30T13:57:58.187448Z",
     "shell.execute_reply.started": "2022-03-30T13:57:58.151757Z",
     "shell.execute_reply": "2022-03-30T13:57:58.186985Z"
    },
    "trusted": true
   },
   "outputs": [],
   "source": [
    "# removing 12 existing outlairs\n",
    "for cols in df.columns:\n",
    "    if df[cols].dtype == 'int64' or df[cols].dtype == 'float64':\n",
    "        upper_range = df[cols].mean() + 3 * df[cols].std()\n",
    "        lower_range = df[cols].mean() - 3 * df[cols].std()\n",
    "        \n",
    "        indexs = df[(df[cols] > upper_range) | (df[cols] < lower_range)].index\n",
    "        df = df.drop(indexs)\n",
    "df.shape\n"
   ]
  },
  {
   "cell_type": "code",
   "execution_count": null,
   "metadata": {
    "execution": {
     "iopub.status.busy": "2022-03-30T13:57:58.188203Z",
     "iopub.execute_input": "2022-03-30T13:57:58.188973Z",
     "iopub.status.idle": "2022-03-30T13:57:58.203267Z",
     "shell.execute_reply.started": "2022-03-30T13:57:58.188947Z",
     "shell.execute_reply": "2022-03-30T13:57:58.202415Z"
    },
    "trusted": true
   },
   "outputs": [],
   "source": [
    "y = df['price_range']\n",
    "x = df.drop(columns = ['price_range'])\n",
    "\n",
    "print(x.shape)\n",
    "print(y.shape)\n",
    "from sklearn.decomposition import PCA\n",
    "pca = PCA(0.90)\n",
    "x_pca = pca.fit_transform(x)\n",
    "x_pca.shape\n",
    "# combining 4 columns with "
   ]
  },
  {
   "cell_type": "code",
   "execution_count": null,
   "metadata": {
    "execution": {
     "iopub.status.busy": "2022-03-30T13:59:53.580626Z",
     "iopub.execute_input": "2022-03-30T13:59:53.581531Z",
     "iopub.status.idle": "2022-03-30T13:59:55.824654Z",
     "shell.execute_reply.started": "2022-03-30T13:59:53.581468Z",
     "shell.execute_reply": "2022-03-30T13:59:55.823938Z"
    },
    "trusted": true
   },
   "outputs": [],
   "source": [
    "corr = df.corr()\n",
    "import seaborn as sns\n",
    "import matplotlib.pyplot as plt\n",
    "\n",
    "f, ax = plt.subplots(figsize=(25, 30))\n",
    "\n",
    "sns.heatmap(corr, square = True ,annot = True)"
   ]
  }
 ],
 "metadata": {
  "kernelspec": {
   "language": "python",
   "display_name": "Python 3",
   "name": "python3"
  },
  "language_info": {
   "name": "python",
   "version": "3.7.12",
   "mimetype": "text/x-python",
   "codemirror_mode": {
    "name": "ipython",
    "version": 3
   },
   "pygments_lexer": "ipython3",
   "nbconvert_exporter": "python",
   "file_extension": ".py"
  }
 },
 "nbformat": 4,
 "nbformat_minor": 4
}
