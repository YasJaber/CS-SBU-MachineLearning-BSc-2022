{
  "nbformat": 4,
  "nbformat_minor": 0,
  "metadata": {
    "colab": {
      "name": "ML_Proj1_task2.ipynb",
      "provenance": [],
      "collapsed_sections": []
    },
    "kernelspec": {
      "name": "python3",
      "display_name": "Python 3"
    },
    "language_info": {
      "name": "python"
    }
  },
  "cells": [
    {
      "cell_type": "markdown",
      "source": [
        "AnitaSoroush-98222085-MachineLearning-Project1-Task2"
      ],
      "metadata": {
        "id": "o4KWx-_lT7Di"
      }
    },
    {
      "cell_type": "code",
      "execution_count": 73,
      "metadata": {
        "id": "Na7upFatDMpR"
      },
      "outputs": [],
      "source": [
        "from google.colab import drive\n",
        "import sys\n",
        "import os\n",
        "import pandas as pd\n",
        "import pandas as pd\n",
        "import requests\n",
        "import json\n",
        "import matplotlib.pyplot as plt\n",
        "import numpy as np\n",
        "import seaborn as sns\n",
        "from sklearn import preprocessing\n",
        "from sklearn.cluster import KMeans\n",
        "from sklearn.preprocessing import MinMaxScaler\n",
        "from sklearn.preprocessing import PowerTransformer\n",
        "from sklearn import datasets\n",
        "import os\n",
        "import csv\n",
        "from sklearn.model_selection import train_test_split\n",
        "from imblearn.under_sampling import TomekLinks\n",
        "from imblearn.under_sampling import ClusterCentroids\n",
        "from sklearn import metrics\n",
        "from sklearn.feature_selection import RFE\n",
        "import time\n",
        "from multiprocessing import Pool, cpu_count\n",
        "import multiprocessing\n",
        "import functools"
      ]
    },
    {
      "cell_type": "markdown",
      "source": [
        "Dataset link : https://www.kaggle.com/corrieaar/apartment-rental-offers-in-germany"
      ],
      "metadata": {
        "id": "IBN4jCGK8uct"
      }
    },
    {
      "cell_type": "code",
      "source": [
        "drive.mount(\"/content/gdrive\")"
      ],
      "metadata": {
        "colab": {
          "base_uri": "https://localhost:8080/"
        },
        "id": "cgi_Cc8FDjY7",
        "outputId": "55e55433-bfd9-40e0-a23a-8841d4de6daf"
      },
      "execution_count": 140,
      "outputs": [
        {
          "output_type": "stream",
          "name": "stdout",
          "text": [
            "Drive already mounted at /content/gdrive; to attempt to forcibly remount, call drive.mount(\"/content/gdrive\", force_remount=True).\n"
          ]
        }
      ]
    },
    {
      "cell_type": "code",
      "source": [
        "! unzip /content/gdrive/MyDrive/immo_data.csv.zip"
      ],
      "metadata": {
        "colab": {
          "base_uri": "https://localhost:8080/"
        },
        "id": "g6AQznfcZRTx",
        "outputId": "9b32c540-1f6a-44ab-c79c-852b3b7d208c"
      },
      "execution_count": 74,
      "outputs": [
        {
          "output_type": "stream",
          "name": "stdout",
          "text": [
            "Archive:  /content/gdrive/MyDrive/immo_data.csv.zip\n",
            "replace immo_data.csv? [y]es, [n]o, [A]ll, [N]one, [r]ename: "
          ]
        }
      ]
    },
    {
      "cell_type": "code",
      "source": [
        "data = pd.read_csv('immo_data.csv')"
      ],
      "metadata": {
        "id": "b4ZRCnHeZmvP"
      },
      "execution_count": 176,
      "outputs": []
    },
    {
      "cell_type": "code",
      "source": [
        "data.shape"
      ],
      "metadata": {
        "colab": {
          "base_uri": "https://localhost:8080/"
        },
        "id": "YlHlaE-4aM50",
        "outputId": "15b48243-fb17-4f43-cdb2-9074d880dc44"
      },
      "execution_count": 76,
      "outputs": [
        {
          "output_type": "execute_result",
          "data": {
            "text/plain": [
              "(268850, 49)"
            ]
          },
          "metadata": {},
          "execution_count": 76
        }
      ]
    },
    {
      "cell_type": "code",
      "source": [
        "data.info()"
      ],
      "metadata": {
        "colab": {
          "base_uri": "https://localhost:8080/"
        },
        "id": "JNhfHi5SaQ77",
        "outputId": "2c77fc4e-6bc5-4fdf-faa6-1b1ea9b6fdcf"
      },
      "execution_count": 142,
      "outputs": [
        {
          "output_type": "stream",
          "name": "stdout",
          "text": [
            "<class 'pandas.core.frame.DataFrame'>\n",
            "RangeIndex: 268850 entries, 0 to 268849\n",
            "Data columns (total 49 columns):\n",
            " #   Column                    Non-Null Count   Dtype  \n",
            "---  ------                    --------------   -----  \n",
            " 0   regio1                    268850 non-null  object \n",
            " 1   serviceCharge             261941 non-null  float64\n",
            " 2   heatingType               223994 non-null  object \n",
            " 3   telekomTvOffer            236231 non-null  object \n",
            " 4   telekomHybridUploadSpeed  45020 non-null   float64\n",
            " 5   newlyConst                268850 non-null  bool   \n",
            " 6   balcony                   268850 non-null  bool   \n",
            " 7   picturecount              268850 non-null  int64  \n",
            " 8   pricetrend                267018 non-null  float64\n",
            " 9   telekomUploadSpeed        235492 non-null  float64\n",
            " 10  totalRent                 228333 non-null  float64\n",
            " 11  yearConstructed           211805 non-null  float64\n",
            " 12  scoutId                   268850 non-null  int64  \n",
            " 13  noParkSpaces              93052 non-null   float64\n",
            " 14  firingTypes               211886 non-null  object \n",
            " 15  hasKitchen                268850 non-null  bool   \n",
            " 16  geo_bln                   268850 non-null  object \n",
            " 17  cellar                    268850 non-null  bool   \n",
            " 18  yearConstructedRange      211805 non-null  float64\n",
            " 19  baseRent                  268850 non-null  float64\n",
            " 20  houseNumber               197832 non-null  object \n",
            " 21  livingSpace               268850 non-null  float64\n",
            " 22  geo_krs                   268850 non-null  object \n",
            " 23  condition                 200361 non-null  object \n",
            " 24  interiorQual              156185 non-null  object \n",
            " 25  petsAllowed               154277 non-null  object \n",
            " 26  street                    268850 non-null  object \n",
            " 27  streetPlain               197837 non-null  object \n",
            " 28  lift                      268850 non-null  bool   \n",
            " 29  baseRentRange             268850 non-null  int64  \n",
            " 30  typeOfFlat                232236 non-null  object \n",
            " 31  geo_plz                   268850 non-null  int64  \n",
            " 32  noRooms                   268850 non-null  float64\n",
            " 33  thermalChar               162344 non-null  float64\n",
            " 34  floor                     217541 non-null  float64\n",
            " 35  numberOfFloors            171118 non-null  float64\n",
            " 36  noRoomsRange              268850 non-null  int64  \n",
            " 37  garden                    268850 non-null  bool   \n",
            " 38  livingSpaceRange          268850 non-null  int64  \n",
            " 39  regio2                    268850 non-null  object \n",
            " 40  regio3                    268850 non-null  object \n",
            " 41  description               249103 non-null  object \n",
            " 42  facilities                215926 non-null  object \n",
            " 43  heatingCosts              85518 non-null   float64\n",
            " 44  energyEfficiencyClass     77787 non-null   object \n",
            " 45  lastRefurbish             80711 non-null   float64\n",
            " 46  electricityBasePrice      46846 non-null   float64\n",
            " 47  electricityKwhPrice       46846 non-null   float64\n",
            " 48  date                      268850 non-null  object \n",
            "dtypes: bool(6), float64(18), int64(6), object(19)\n",
            "memory usage: 89.7+ MB\n"
          ]
        }
      ]
    },
    {
      "cell_type": "code",
      "source": [
        "data.head()"
      ],
      "metadata": {
        "colab": {
          "base_uri": "https://localhost:8080/",
          "height": 577
        },
        "id": "dMxDU9kfaXH6",
        "outputId": "39ef4a1d-59f9-4f8f-82c7-4be73ee49491"
      },
      "execution_count": 77,
      "outputs": [
        {
          "output_type": "execute_result",
          "data": {
            "text/plain": [
              "                regio1  serviceCharge                     heatingType  \\\n",
              "0  Nordrhein_Westfalen         245.00                 central_heating   \n",
              "1      Rheinland_Pfalz         134.00  self_contained_central_heating   \n",
              "2              Sachsen         255.00                   floor_heating   \n",
              "3              Sachsen          58.15                district_heating   \n",
              "4               Bremen         138.00  self_contained_central_heating   \n",
              "\n",
              "  telekomTvOffer  telekomHybridUploadSpeed  newlyConst  balcony  picturecount  \\\n",
              "0  ONE_YEAR_FREE                       NaN       False    False             6   \n",
              "1  ONE_YEAR_FREE                       NaN       False     True             8   \n",
              "2  ONE_YEAR_FREE                      10.0        True     True             8   \n",
              "3  ONE_YEAR_FREE                       NaN       False     True             9   \n",
              "4            NaN                       NaN       False     True            19   \n",
              "\n",
              "   pricetrend  telekomUploadSpeed  ...               regio2  \\\n",
              "0        4.62                10.0  ...             Dortmund   \n",
              "1        3.47                10.0  ...    Rhein_Pfalz_Kreis   \n",
              "2        2.72                 2.4  ...              Dresden   \n",
              "3        1.53                40.0  ...  Mittelsachsen_Kreis   \n",
              "4        2.46                 NaN  ...               Bremen   \n",
              "\n",
              "                       regio3  \\\n",
              "0                     Schüren   \n",
              "1              Böhl_Iggelheim   \n",
              "2  Äußere_Neustadt_Antonstadt   \n",
              "3                    Freiberg   \n",
              "4           Neu_Schwachhausen   \n",
              "\n",
              "                                         description  \\\n",
              "0  Die ebenerdig zu erreichende Erdgeschosswohnun...   \n",
              "1  Alles neu macht der Mai – so kann es auch für ...   \n",
              "2  Der Neubau entsteht im Herzen der Dresdner Neu...   \n",
              "3  Abseits von Lärm und Abgasen in Ihre neue Wohn...   \n",
              "4  Es handelt sich hier um ein saniertes Mehrfami...   \n",
              "\n",
              "                                          facilities heatingCosts  \\\n",
              "0  Die Wohnung ist mit Laminat ausgelegt. Das Bad...          NaN   \n",
              "1                                                NaN          NaN   \n",
              "2  * 9 m² Balkon\\n* Bad mit bodengleicher Dusche,...          NaN   \n",
              "3                                                NaN        87.23   \n",
              "4  Diese Wohnung wurde neu saniert und ist wie fo...          NaN   \n",
              "\n",
              "   energyEfficiencyClass lastRefurbish  electricityBasePrice  \\\n",
              "0                    NaN           NaN                   NaN   \n",
              "1                    NaN        2019.0                   NaN   \n",
              "2                    NaN           NaN                   NaN   \n",
              "3                    NaN           NaN                   NaN   \n",
              "4                    NaN           NaN                   NaN   \n",
              "\n",
              "   electricityKwhPrice   date  \n",
              "0                  NaN  May19  \n",
              "1                  NaN  May19  \n",
              "2                  NaN  Oct19  \n",
              "3                  NaN  May19  \n",
              "4                  NaN  Feb20  \n",
              "\n",
              "[5 rows x 49 columns]"
            ],
            "text/html": [
              "\n",
              "  <div id=\"df-b6a796ce-9c7f-4e7f-b093-8bcbd7c3a918\">\n",
              "    <div class=\"colab-df-container\">\n",
              "      <div>\n",
              "<style scoped>\n",
              "    .dataframe tbody tr th:only-of-type {\n",
              "        vertical-align: middle;\n",
              "    }\n",
              "\n",
              "    .dataframe tbody tr th {\n",
              "        vertical-align: top;\n",
              "    }\n",
              "\n",
              "    .dataframe thead th {\n",
              "        text-align: right;\n",
              "    }\n",
              "</style>\n",
              "<table border=\"1\" class=\"dataframe\">\n",
              "  <thead>\n",
              "    <tr style=\"text-align: right;\">\n",
              "      <th></th>\n",
              "      <th>regio1</th>\n",
              "      <th>serviceCharge</th>\n",
              "      <th>heatingType</th>\n",
              "      <th>telekomTvOffer</th>\n",
              "      <th>telekomHybridUploadSpeed</th>\n",
              "      <th>newlyConst</th>\n",
              "      <th>balcony</th>\n",
              "      <th>picturecount</th>\n",
              "      <th>pricetrend</th>\n",
              "      <th>telekomUploadSpeed</th>\n",
              "      <th>...</th>\n",
              "      <th>regio2</th>\n",
              "      <th>regio3</th>\n",
              "      <th>description</th>\n",
              "      <th>facilities</th>\n",
              "      <th>heatingCosts</th>\n",
              "      <th>energyEfficiencyClass</th>\n",
              "      <th>lastRefurbish</th>\n",
              "      <th>electricityBasePrice</th>\n",
              "      <th>electricityKwhPrice</th>\n",
              "      <th>date</th>\n",
              "    </tr>\n",
              "  </thead>\n",
              "  <tbody>\n",
              "    <tr>\n",
              "      <th>0</th>\n",
              "      <td>Nordrhein_Westfalen</td>\n",
              "      <td>245.00</td>\n",
              "      <td>central_heating</td>\n",
              "      <td>ONE_YEAR_FREE</td>\n",
              "      <td>NaN</td>\n",
              "      <td>False</td>\n",
              "      <td>False</td>\n",
              "      <td>6</td>\n",
              "      <td>4.62</td>\n",
              "      <td>10.0</td>\n",
              "      <td>...</td>\n",
              "      <td>Dortmund</td>\n",
              "      <td>Schüren</td>\n",
              "      <td>Die ebenerdig zu erreichende Erdgeschosswohnun...</td>\n",
              "      <td>Die Wohnung ist mit Laminat ausgelegt. Das Bad...</td>\n",
              "      <td>NaN</td>\n",
              "      <td>NaN</td>\n",
              "      <td>NaN</td>\n",
              "      <td>NaN</td>\n",
              "      <td>NaN</td>\n",
              "      <td>May19</td>\n",
              "    </tr>\n",
              "    <tr>\n",
              "      <th>1</th>\n",
              "      <td>Rheinland_Pfalz</td>\n",
              "      <td>134.00</td>\n",
              "      <td>self_contained_central_heating</td>\n",
              "      <td>ONE_YEAR_FREE</td>\n",
              "      <td>NaN</td>\n",
              "      <td>False</td>\n",
              "      <td>True</td>\n",
              "      <td>8</td>\n",
              "      <td>3.47</td>\n",
              "      <td>10.0</td>\n",
              "      <td>...</td>\n",
              "      <td>Rhein_Pfalz_Kreis</td>\n",
              "      <td>Böhl_Iggelheim</td>\n",
              "      <td>Alles neu macht der Mai – so kann es auch für ...</td>\n",
              "      <td>NaN</td>\n",
              "      <td>NaN</td>\n",
              "      <td>NaN</td>\n",
              "      <td>2019.0</td>\n",
              "      <td>NaN</td>\n",
              "      <td>NaN</td>\n",
              "      <td>May19</td>\n",
              "    </tr>\n",
              "    <tr>\n",
              "      <th>2</th>\n",
              "      <td>Sachsen</td>\n",
              "      <td>255.00</td>\n",
              "      <td>floor_heating</td>\n",
              "      <td>ONE_YEAR_FREE</td>\n",
              "      <td>10.0</td>\n",
              "      <td>True</td>\n",
              "      <td>True</td>\n",
              "      <td>8</td>\n",
              "      <td>2.72</td>\n",
              "      <td>2.4</td>\n",
              "      <td>...</td>\n",
              "      <td>Dresden</td>\n",
              "      <td>Äußere_Neustadt_Antonstadt</td>\n",
              "      <td>Der Neubau entsteht im Herzen der Dresdner Neu...</td>\n",
              "      <td>* 9 m² Balkon\\n* Bad mit bodengleicher Dusche,...</td>\n",
              "      <td>NaN</td>\n",
              "      <td>NaN</td>\n",
              "      <td>NaN</td>\n",
              "      <td>NaN</td>\n",
              "      <td>NaN</td>\n",
              "      <td>Oct19</td>\n",
              "    </tr>\n",
              "    <tr>\n",
              "      <th>3</th>\n",
              "      <td>Sachsen</td>\n",
              "      <td>58.15</td>\n",
              "      <td>district_heating</td>\n",
              "      <td>ONE_YEAR_FREE</td>\n",
              "      <td>NaN</td>\n",
              "      <td>False</td>\n",
              "      <td>True</td>\n",
              "      <td>9</td>\n",
              "      <td>1.53</td>\n",
              "      <td>40.0</td>\n",
              "      <td>...</td>\n",
              "      <td>Mittelsachsen_Kreis</td>\n",
              "      <td>Freiberg</td>\n",
              "      <td>Abseits von Lärm und Abgasen in Ihre neue Wohn...</td>\n",
              "      <td>NaN</td>\n",
              "      <td>87.23</td>\n",
              "      <td>NaN</td>\n",
              "      <td>NaN</td>\n",
              "      <td>NaN</td>\n",
              "      <td>NaN</td>\n",
              "      <td>May19</td>\n",
              "    </tr>\n",
              "    <tr>\n",
              "      <th>4</th>\n",
              "      <td>Bremen</td>\n",
              "      <td>138.00</td>\n",
              "      <td>self_contained_central_heating</td>\n",
              "      <td>NaN</td>\n",
              "      <td>NaN</td>\n",
              "      <td>False</td>\n",
              "      <td>True</td>\n",
              "      <td>19</td>\n",
              "      <td>2.46</td>\n",
              "      <td>NaN</td>\n",
              "      <td>...</td>\n",
              "      <td>Bremen</td>\n",
              "      <td>Neu_Schwachhausen</td>\n",
              "      <td>Es handelt sich hier um ein saniertes Mehrfami...</td>\n",
              "      <td>Diese Wohnung wurde neu saniert und ist wie fo...</td>\n",
              "      <td>NaN</td>\n",
              "      <td>NaN</td>\n",
              "      <td>NaN</td>\n",
              "      <td>NaN</td>\n",
              "      <td>NaN</td>\n",
              "      <td>Feb20</td>\n",
              "    </tr>\n",
              "  </tbody>\n",
              "</table>\n",
              "<p>5 rows × 49 columns</p>\n",
              "</div>\n",
              "      <button class=\"colab-df-convert\" onclick=\"convertToInteractive('df-b6a796ce-9c7f-4e7f-b093-8bcbd7c3a918')\"\n",
              "              title=\"Convert this dataframe to an interactive table.\"\n",
              "              style=\"display:none;\">\n",
              "        \n",
              "  <svg xmlns=\"http://www.w3.org/2000/svg\" height=\"24px\"viewBox=\"0 0 24 24\"\n",
              "       width=\"24px\">\n",
              "    <path d=\"M0 0h24v24H0V0z\" fill=\"none\"/>\n",
              "    <path d=\"M18.56 5.44l.94 2.06.94-2.06 2.06-.94-2.06-.94-.94-2.06-.94 2.06-2.06.94zm-11 1L8.5 8.5l.94-2.06 2.06-.94-2.06-.94L8.5 2.5l-.94 2.06-2.06.94zm10 10l.94 2.06.94-2.06 2.06-.94-2.06-.94-.94-2.06-.94 2.06-2.06.94z\"/><path d=\"M17.41 7.96l-1.37-1.37c-.4-.4-.92-.59-1.43-.59-.52 0-1.04.2-1.43.59L10.3 9.45l-7.72 7.72c-.78.78-.78 2.05 0 2.83L4 21.41c.39.39.9.59 1.41.59.51 0 1.02-.2 1.41-.59l7.78-7.78 2.81-2.81c.8-.78.8-2.07 0-2.86zM5.41 20L4 18.59l7.72-7.72 1.47 1.35L5.41 20z\"/>\n",
              "  </svg>\n",
              "      </button>\n",
              "      \n",
              "  <style>\n",
              "    .colab-df-container {\n",
              "      display:flex;\n",
              "      flex-wrap:wrap;\n",
              "      gap: 12px;\n",
              "    }\n",
              "\n",
              "    .colab-df-convert {\n",
              "      background-color: #E8F0FE;\n",
              "      border: none;\n",
              "      border-radius: 50%;\n",
              "      cursor: pointer;\n",
              "      display: none;\n",
              "      fill: #1967D2;\n",
              "      height: 32px;\n",
              "      padding: 0 0 0 0;\n",
              "      width: 32px;\n",
              "    }\n",
              "\n",
              "    .colab-df-convert:hover {\n",
              "      background-color: #E2EBFA;\n",
              "      box-shadow: 0px 1px 2px rgba(60, 64, 67, 0.3), 0px 1px 3px 1px rgba(60, 64, 67, 0.15);\n",
              "      fill: #174EA6;\n",
              "    }\n",
              "\n",
              "    [theme=dark] .colab-df-convert {\n",
              "      background-color: #3B4455;\n",
              "      fill: #D2E3FC;\n",
              "    }\n",
              "\n",
              "    [theme=dark] .colab-df-convert:hover {\n",
              "      background-color: #434B5C;\n",
              "      box-shadow: 0px 1px 3px 1px rgba(0, 0, 0, 0.15);\n",
              "      filter: drop-shadow(0px 1px 2px rgba(0, 0, 0, 0.3));\n",
              "      fill: #FFFFFF;\n",
              "    }\n",
              "  </style>\n",
              "\n",
              "      <script>\n",
              "        const buttonEl =\n",
              "          document.querySelector('#df-b6a796ce-9c7f-4e7f-b093-8bcbd7c3a918 button.colab-df-convert');\n",
              "        buttonEl.style.display =\n",
              "          google.colab.kernel.accessAllowed ? 'block' : 'none';\n",
              "\n",
              "        async function convertToInteractive(key) {\n",
              "          const element = document.querySelector('#df-b6a796ce-9c7f-4e7f-b093-8bcbd7c3a918');\n",
              "          const dataTable =\n",
              "            await google.colab.kernel.invokeFunction('convertToInteractive',\n",
              "                                                     [key], {});\n",
              "          if (!dataTable) return;\n",
              "\n",
              "          const docLinkHtml = 'Like what you see? Visit the ' +\n",
              "            '<a target=\"_blank\" href=https://colab.research.google.com/notebooks/data_table.ipynb>data table notebook</a>'\n",
              "            + ' to learn more about interactive tables.';\n",
              "          element.innerHTML = '';\n",
              "          dataTable['output_type'] = 'display_data';\n",
              "          await google.colab.output.renderOutput(dataTable, element);\n",
              "          const docLink = document.createElement('div');\n",
              "          docLink.innerHTML = docLinkHtml;\n",
              "          element.appendChild(docLink);\n",
              "        }\n",
              "      </script>\n",
              "    </div>\n",
              "  </div>\n",
              "  "
            ]
          },
          "metadata": {},
          "execution_count": 77
        }
      ]
    },
    {
      "cell_type": "code",
      "source": [
        "nulls = data.isnull().sum()/268850 *100\n",
        "nulls"
      ],
      "metadata": {
        "colab": {
          "base_uri": "https://localhost:8080/"
        },
        "id": "cP0zat7doMzc",
        "outputId": "c8b0dd59-71e4-4199-a11a-ac50abce4405"
      },
      "execution_count": 12,
      "outputs": [
        {
          "output_type": "execute_result",
          "data": {
            "text/plain": [
              "regio1                       0.000000\n",
              "serviceCharge                2.569834\n",
              "heatingType                 16.684397\n",
              "telekomTvOffer              12.132788\n",
              "telekomHybridUploadSpeed    83.254603\n",
              "newlyConst                   0.000000\n",
              "balcony                      0.000000\n",
              "picturecount                 0.000000\n",
              "pricetrend                   0.681421\n",
              "telekomUploadSpeed          12.407662\n",
              "totalRent                   15.070485\n",
              "yearConstructed             21.218151\n",
              "scoutId                      0.000000\n",
              "noParkSpaces                65.388879\n",
              "firingTypes                 21.188023\n",
              "hasKitchen                   0.000000\n",
              "geo_bln                      0.000000\n",
              "cellar                       0.000000\n",
              "yearConstructedRange        21.218151\n",
              "baseRent                     0.000000\n",
              "houseNumber                 26.415473\n",
              "livingSpace                  0.000000\n",
              "geo_krs                      0.000000\n",
              "condition                   25.474800\n",
              "interiorQual                41.906267\n",
              "petsAllowed                 42.615957\n",
              "street                       0.000000\n",
              "streetPlain                 26.413614\n",
              "lift                         0.000000\n",
              "baseRentRange                0.000000\n",
              "typeOfFlat                  13.618747\n",
              "geo_plz                      0.000000\n",
              "noRooms                      0.000000\n",
              "thermalChar                 39.615399\n",
              "floor                       19.084620\n",
              "numberOfFloors              36.351869\n",
              "noRoomsRange                 0.000000\n",
              "garden                       0.000000\n",
              "livingSpaceRange             0.000000\n",
              "regio2                       0.000000\n",
              "regio3                       0.000000\n",
              "description                  7.344988\n",
              "facilities                  19.685326\n",
              "heatingCosts                68.191185\n",
              "energyEfficiencyClass       71.066766\n",
              "lastRefurbish               69.979171\n",
              "electricityBasePrice        82.575414\n",
              "electricityKwhPrice         82.575414\n",
              "date                         0.000000\n",
              "dtype: float64"
            ]
          },
          "metadata": {},
          "execution_count": 12
        }
      ]
    },
    {
      "cell_type": "code",
      "source": [
        "data.describe()"
      ],
      "metadata": {
        "colab": {
          "base_uri": "https://localhost:8080/",
          "height": 300
        },
        "id": "WbjPnmTOoVWR",
        "outputId": "334de944-8958-422b-9811-326e4c0eb28a"
      },
      "execution_count": 14,
      "outputs": [
        {
          "output_type": "execute_result",
          "data": {
            "text/plain": [
              "             geo_plz  yearConstructed    livingSpace        noRooms  \\\n",
              "count  268850.000000    211805.000000  268850.000000  268850.000000   \n",
              "mean    37283.022235      1966.400590      74.355548       2.641261   \n",
              "std     27798.037296        46.992207     254.759208       2.633440   \n",
              "min       852.000000      1000.000000       0.000000       1.000000   \n",
              "25%      9128.000000      1950.000000      54.000000       2.000000   \n",
              "50%     38667.000000      1973.000000      67.320000       3.000000   \n",
              "75%     57072.000000      1996.000000      87.000000       3.000000   \n",
              "max     99998.000000      2090.000000  111111.000000     999.990000   \n",
              "\n",
              "          totalRent          floor  \n",
              "count  2.283330e+05  217541.000000  \n",
              "mean   9.013315e+02       2.122405  \n",
              "std    3.323833e+04       3.634934  \n",
              "min    0.000000e+00      -1.000000  \n",
              "25%    4.698000e+02       1.000000  \n",
              "50%    6.500000e+02       2.000000  \n",
              "75%    9.850000e+02       3.000000  \n",
              "max    1.575154e+07     999.000000  "
            ],
            "text/html": [
              "\n",
              "  <div id=\"df-302eaf99-8de8-4a26-a315-939478717107\">\n",
              "    <div class=\"colab-df-container\">\n",
              "      <div>\n",
              "<style scoped>\n",
              "    .dataframe tbody tr th:only-of-type {\n",
              "        vertical-align: middle;\n",
              "    }\n",
              "\n",
              "    .dataframe tbody tr th {\n",
              "        vertical-align: top;\n",
              "    }\n",
              "\n",
              "    .dataframe thead th {\n",
              "        text-align: right;\n",
              "    }\n",
              "</style>\n",
              "<table border=\"1\" class=\"dataframe\">\n",
              "  <thead>\n",
              "    <tr style=\"text-align: right;\">\n",
              "      <th></th>\n",
              "      <th>geo_plz</th>\n",
              "      <th>yearConstructed</th>\n",
              "      <th>livingSpace</th>\n",
              "      <th>noRooms</th>\n",
              "      <th>totalRent</th>\n",
              "      <th>floor</th>\n",
              "    </tr>\n",
              "  </thead>\n",
              "  <tbody>\n",
              "    <tr>\n",
              "      <th>count</th>\n",
              "      <td>268850.000000</td>\n",
              "      <td>211805.000000</td>\n",
              "      <td>268850.000000</td>\n",
              "      <td>268850.000000</td>\n",
              "      <td>2.283330e+05</td>\n",
              "      <td>217541.000000</td>\n",
              "    </tr>\n",
              "    <tr>\n",
              "      <th>mean</th>\n",
              "      <td>37283.022235</td>\n",
              "      <td>1966.400590</td>\n",
              "      <td>74.355548</td>\n",
              "      <td>2.641261</td>\n",
              "      <td>9.013315e+02</td>\n",
              "      <td>2.122405</td>\n",
              "    </tr>\n",
              "    <tr>\n",
              "      <th>std</th>\n",
              "      <td>27798.037296</td>\n",
              "      <td>46.992207</td>\n",
              "      <td>254.759208</td>\n",
              "      <td>2.633440</td>\n",
              "      <td>3.323833e+04</td>\n",
              "      <td>3.634934</td>\n",
              "    </tr>\n",
              "    <tr>\n",
              "      <th>min</th>\n",
              "      <td>852.000000</td>\n",
              "      <td>1000.000000</td>\n",
              "      <td>0.000000</td>\n",
              "      <td>1.000000</td>\n",
              "      <td>0.000000e+00</td>\n",
              "      <td>-1.000000</td>\n",
              "    </tr>\n",
              "    <tr>\n",
              "      <th>25%</th>\n",
              "      <td>9128.000000</td>\n",
              "      <td>1950.000000</td>\n",
              "      <td>54.000000</td>\n",
              "      <td>2.000000</td>\n",
              "      <td>4.698000e+02</td>\n",
              "      <td>1.000000</td>\n",
              "    </tr>\n",
              "    <tr>\n",
              "      <th>50%</th>\n",
              "      <td>38667.000000</td>\n",
              "      <td>1973.000000</td>\n",
              "      <td>67.320000</td>\n",
              "      <td>3.000000</td>\n",
              "      <td>6.500000e+02</td>\n",
              "      <td>2.000000</td>\n",
              "    </tr>\n",
              "    <tr>\n",
              "      <th>75%</th>\n",
              "      <td>57072.000000</td>\n",
              "      <td>1996.000000</td>\n",
              "      <td>87.000000</td>\n",
              "      <td>3.000000</td>\n",
              "      <td>9.850000e+02</td>\n",
              "      <td>3.000000</td>\n",
              "    </tr>\n",
              "    <tr>\n",
              "      <th>max</th>\n",
              "      <td>99998.000000</td>\n",
              "      <td>2090.000000</td>\n",
              "      <td>111111.000000</td>\n",
              "      <td>999.990000</td>\n",
              "      <td>1.575154e+07</td>\n",
              "      <td>999.000000</td>\n",
              "    </tr>\n",
              "  </tbody>\n",
              "</table>\n",
              "</div>\n",
              "      <button class=\"colab-df-convert\" onclick=\"convertToInteractive('df-302eaf99-8de8-4a26-a315-939478717107')\"\n",
              "              title=\"Convert this dataframe to an interactive table.\"\n",
              "              style=\"display:none;\">\n",
              "        \n",
              "  <svg xmlns=\"http://www.w3.org/2000/svg\" height=\"24px\"viewBox=\"0 0 24 24\"\n",
              "       width=\"24px\">\n",
              "    <path d=\"M0 0h24v24H0V0z\" fill=\"none\"/>\n",
              "    <path d=\"M18.56 5.44l.94 2.06.94-2.06 2.06-.94-2.06-.94-.94-2.06-.94 2.06-2.06.94zm-11 1L8.5 8.5l.94-2.06 2.06-.94-2.06-.94L8.5 2.5l-.94 2.06-2.06.94zm10 10l.94 2.06.94-2.06 2.06-.94-2.06-.94-.94-2.06-.94 2.06-2.06.94z\"/><path d=\"M17.41 7.96l-1.37-1.37c-.4-.4-.92-.59-1.43-.59-.52 0-1.04.2-1.43.59L10.3 9.45l-7.72 7.72c-.78.78-.78 2.05 0 2.83L4 21.41c.39.39.9.59 1.41.59.51 0 1.02-.2 1.41-.59l7.78-7.78 2.81-2.81c.8-.78.8-2.07 0-2.86zM5.41 20L4 18.59l7.72-7.72 1.47 1.35L5.41 20z\"/>\n",
              "  </svg>\n",
              "      </button>\n",
              "      \n",
              "  <style>\n",
              "    .colab-df-container {\n",
              "      display:flex;\n",
              "      flex-wrap:wrap;\n",
              "      gap: 12px;\n",
              "    }\n",
              "\n",
              "    .colab-df-convert {\n",
              "      background-color: #E8F0FE;\n",
              "      border: none;\n",
              "      border-radius: 50%;\n",
              "      cursor: pointer;\n",
              "      display: none;\n",
              "      fill: #1967D2;\n",
              "      height: 32px;\n",
              "      padding: 0 0 0 0;\n",
              "      width: 32px;\n",
              "    }\n",
              "\n",
              "    .colab-df-convert:hover {\n",
              "      background-color: #E2EBFA;\n",
              "      box-shadow: 0px 1px 2px rgba(60, 64, 67, 0.3), 0px 1px 3px 1px rgba(60, 64, 67, 0.15);\n",
              "      fill: #174EA6;\n",
              "    }\n",
              "\n",
              "    [theme=dark] .colab-df-convert {\n",
              "      background-color: #3B4455;\n",
              "      fill: #D2E3FC;\n",
              "    }\n",
              "\n",
              "    [theme=dark] .colab-df-convert:hover {\n",
              "      background-color: #434B5C;\n",
              "      box-shadow: 0px 1px 3px 1px rgba(0, 0, 0, 0.15);\n",
              "      filter: drop-shadow(0px 1px 2px rgba(0, 0, 0, 0.3));\n",
              "      fill: #FFFFFF;\n",
              "    }\n",
              "  </style>\n",
              "\n",
              "      <script>\n",
              "        const buttonEl =\n",
              "          document.querySelector('#df-302eaf99-8de8-4a26-a315-939478717107 button.colab-df-convert');\n",
              "        buttonEl.style.display =\n",
              "          google.colab.kernel.accessAllowed ? 'block' : 'none';\n",
              "\n",
              "        async function convertToInteractive(key) {\n",
              "          const element = document.querySelector('#df-302eaf99-8de8-4a26-a315-939478717107');\n",
              "          const dataTable =\n",
              "            await google.colab.kernel.invokeFunction('convertToInteractive',\n",
              "                                                     [key], {});\n",
              "          if (!dataTable) return;\n",
              "\n",
              "          const docLinkHtml = 'Like what you see? Visit the ' +\n",
              "            '<a target=\"_blank\" href=https://colab.research.google.com/notebooks/data_table.ipynb>data table notebook</a>'\n",
              "            + ' to learn more about interactive tables.';\n",
              "          element.innerHTML = '';\n",
              "          dataTable['output_type'] = 'display_data';\n",
              "          await google.colab.output.renderOutput(dataTable, element);\n",
              "          const docLink = document.createElement('div');\n",
              "          docLink.innerHTML = docLinkHtml;\n",
              "          element.appendChild(docLink);\n",
              "        }\n",
              "      </script>\n",
              "    </div>\n",
              "  </div>\n",
              "  "
            ]
          },
          "metadata": {},
          "execution_count": 14
        }
      ]
    },
    {
      "cell_type": "code",
      "source": [
        "columns_to_keep = [\"regio1\", \"geo_plz\", \"heatingType\",\n",
        "                \"newlyConst\", \"yearConstructed\", \"cellar\",\n",
        "                \"livingSpace\", \"condition\", \"typeOfFlat\",\"noRooms\", \"garden\",\n",
        "                \"totalRent\", \"hasKitchen\", \"lift\", \"floor\", \n",
        "                'heatingType','condition' ,'typeOfFlat']\n",
        "data = data[columns_to_keep]\n",
        "nulls = data.isnull().sum()/268850 *100\n",
        "nulls"
      ],
      "metadata": {
        "colab": {
          "base_uri": "https://localhost:8080/"
        },
        "id": "_7mzmB7AFqUU",
        "outputId": "2b96ee81-fa9f-4e22-a689-abcdebfe50e8"
      },
      "execution_count": 177,
      "outputs": [
        {
          "output_type": "execute_result",
          "data": {
            "text/plain": [
              "regio1              0.000000\n",
              "geo_plz             0.000000\n",
              "heatingType        16.684397\n",
              "newlyConst          0.000000\n",
              "yearConstructed    21.218151\n",
              "cellar              0.000000\n",
              "livingSpace         0.000000\n",
              "condition          25.474800\n",
              "typeOfFlat         13.618747\n",
              "noRooms             0.000000\n",
              "garden              0.000000\n",
              "totalRent          15.070485\n",
              "hasKitchen          0.000000\n",
              "lift                0.000000\n",
              "floor              19.084620\n",
              "heatingType        16.684397\n",
              "condition          25.474800\n",
              "typeOfFlat         13.618747\n",
              "dtype: float64"
            ]
          },
          "metadata": {},
          "execution_count": 177
        }
      ]
    },
    {
      "cell_type": "code",
      "source": [
        "data.head()"
      ],
      "metadata": {
        "colab": {
          "base_uri": "https://localhost:8080/",
          "height": 270
        },
        "id": "Bv_mhg2gqfs-",
        "outputId": "b780d2b3-9854-4ac7-8d9b-b8d47a297d86"
      },
      "execution_count": 79,
      "outputs": [
        {
          "output_type": "execute_result",
          "data": {
            "text/plain": [
              "                regio1  geo_plz                     heatingType  newlyConst  \\\n",
              "0  Nordrhein_Westfalen    44269                 central_heating       False   \n",
              "1      Rheinland_Pfalz    67459  self_contained_central_heating       False   \n",
              "2              Sachsen     1097                   floor_heating        True   \n",
              "3              Sachsen     9599                district_heating       False   \n",
              "4               Bremen    28213  self_contained_central_heating       False   \n",
              "\n",
              "   yearConstructed  cellar  livingSpace       condition    typeOfFlat  \\\n",
              "0           1965.0    True        86.00       well_kept  ground_floor   \n",
              "1           1871.0   False        89.00     refurbished  ground_floor   \n",
              "2           2019.0    True        83.80  first_time_use     apartment   \n",
              "3           1964.0   False        58.15             NaN         other   \n",
              "4           1950.0   False        84.97     refurbished     apartment   \n",
              "\n",
              "   noRooms  garden  totalRent  hasKitchen   lift  floor  \\\n",
              "0      4.0    True      840.0       False  False    1.0   \n",
              "1      3.0   False        NaN       False  False    NaN   \n",
              "2      3.0   False     1300.0       False   True    3.0   \n",
              "3      3.0   False        NaN       False  False    3.0   \n",
              "4      3.0   False      903.0       False  False    1.0   \n",
              "\n",
              "                      heatingType       condition    typeOfFlat  \n",
              "0                 central_heating       well_kept  ground_floor  \n",
              "1  self_contained_central_heating     refurbished  ground_floor  \n",
              "2                   floor_heating  first_time_use     apartment  \n",
              "3                district_heating             NaN         other  \n",
              "4  self_contained_central_heating     refurbished     apartment  "
            ],
            "text/html": [
              "\n",
              "  <div id=\"df-dbc55110-5c17-4f20-b873-d21bd1594817\">\n",
              "    <div class=\"colab-df-container\">\n",
              "      <div>\n",
              "<style scoped>\n",
              "    .dataframe tbody tr th:only-of-type {\n",
              "        vertical-align: middle;\n",
              "    }\n",
              "\n",
              "    .dataframe tbody tr th {\n",
              "        vertical-align: top;\n",
              "    }\n",
              "\n",
              "    .dataframe thead th {\n",
              "        text-align: right;\n",
              "    }\n",
              "</style>\n",
              "<table border=\"1\" class=\"dataframe\">\n",
              "  <thead>\n",
              "    <tr style=\"text-align: right;\">\n",
              "      <th></th>\n",
              "      <th>regio1</th>\n",
              "      <th>geo_plz</th>\n",
              "      <th>heatingType</th>\n",
              "      <th>newlyConst</th>\n",
              "      <th>yearConstructed</th>\n",
              "      <th>cellar</th>\n",
              "      <th>livingSpace</th>\n",
              "      <th>condition</th>\n",
              "      <th>typeOfFlat</th>\n",
              "      <th>noRooms</th>\n",
              "      <th>garden</th>\n",
              "      <th>totalRent</th>\n",
              "      <th>hasKitchen</th>\n",
              "      <th>lift</th>\n",
              "      <th>floor</th>\n",
              "      <th>heatingType</th>\n",
              "      <th>condition</th>\n",
              "      <th>typeOfFlat</th>\n",
              "    </tr>\n",
              "  </thead>\n",
              "  <tbody>\n",
              "    <tr>\n",
              "      <th>0</th>\n",
              "      <td>Nordrhein_Westfalen</td>\n",
              "      <td>44269</td>\n",
              "      <td>central_heating</td>\n",
              "      <td>False</td>\n",
              "      <td>1965.0</td>\n",
              "      <td>True</td>\n",
              "      <td>86.00</td>\n",
              "      <td>well_kept</td>\n",
              "      <td>ground_floor</td>\n",
              "      <td>4.0</td>\n",
              "      <td>True</td>\n",
              "      <td>840.0</td>\n",
              "      <td>False</td>\n",
              "      <td>False</td>\n",
              "      <td>1.0</td>\n",
              "      <td>central_heating</td>\n",
              "      <td>well_kept</td>\n",
              "      <td>ground_floor</td>\n",
              "    </tr>\n",
              "    <tr>\n",
              "      <th>1</th>\n",
              "      <td>Rheinland_Pfalz</td>\n",
              "      <td>67459</td>\n",
              "      <td>self_contained_central_heating</td>\n",
              "      <td>False</td>\n",
              "      <td>1871.0</td>\n",
              "      <td>False</td>\n",
              "      <td>89.00</td>\n",
              "      <td>refurbished</td>\n",
              "      <td>ground_floor</td>\n",
              "      <td>3.0</td>\n",
              "      <td>False</td>\n",
              "      <td>NaN</td>\n",
              "      <td>False</td>\n",
              "      <td>False</td>\n",
              "      <td>NaN</td>\n",
              "      <td>self_contained_central_heating</td>\n",
              "      <td>refurbished</td>\n",
              "      <td>ground_floor</td>\n",
              "    </tr>\n",
              "    <tr>\n",
              "      <th>2</th>\n",
              "      <td>Sachsen</td>\n",
              "      <td>1097</td>\n",
              "      <td>floor_heating</td>\n",
              "      <td>True</td>\n",
              "      <td>2019.0</td>\n",
              "      <td>True</td>\n",
              "      <td>83.80</td>\n",
              "      <td>first_time_use</td>\n",
              "      <td>apartment</td>\n",
              "      <td>3.0</td>\n",
              "      <td>False</td>\n",
              "      <td>1300.0</td>\n",
              "      <td>False</td>\n",
              "      <td>True</td>\n",
              "      <td>3.0</td>\n",
              "      <td>floor_heating</td>\n",
              "      <td>first_time_use</td>\n",
              "      <td>apartment</td>\n",
              "    </tr>\n",
              "    <tr>\n",
              "      <th>3</th>\n",
              "      <td>Sachsen</td>\n",
              "      <td>9599</td>\n",
              "      <td>district_heating</td>\n",
              "      <td>False</td>\n",
              "      <td>1964.0</td>\n",
              "      <td>False</td>\n",
              "      <td>58.15</td>\n",
              "      <td>NaN</td>\n",
              "      <td>other</td>\n",
              "      <td>3.0</td>\n",
              "      <td>False</td>\n",
              "      <td>NaN</td>\n",
              "      <td>False</td>\n",
              "      <td>False</td>\n",
              "      <td>3.0</td>\n",
              "      <td>district_heating</td>\n",
              "      <td>NaN</td>\n",
              "      <td>other</td>\n",
              "    </tr>\n",
              "    <tr>\n",
              "      <th>4</th>\n",
              "      <td>Bremen</td>\n",
              "      <td>28213</td>\n",
              "      <td>self_contained_central_heating</td>\n",
              "      <td>False</td>\n",
              "      <td>1950.0</td>\n",
              "      <td>False</td>\n",
              "      <td>84.97</td>\n",
              "      <td>refurbished</td>\n",
              "      <td>apartment</td>\n",
              "      <td>3.0</td>\n",
              "      <td>False</td>\n",
              "      <td>903.0</td>\n",
              "      <td>False</td>\n",
              "      <td>False</td>\n",
              "      <td>1.0</td>\n",
              "      <td>self_contained_central_heating</td>\n",
              "      <td>refurbished</td>\n",
              "      <td>apartment</td>\n",
              "    </tr>\n",
              "  </tbody>\n",
              "</table>\n",
              "</div>\n",
              "      <button class=\"colab-df-convert\" onclick=\"convertToInteractive('df-dbc55110-5c17-4f20-b873-d21bd1594817')\"\n",
              "              title=\"Convert this dataframe to an interactive table.\"\n",
              "              style=\"display:none;\">\n",
              "        \n",
              "  <svg xmlns=\"http://www.w3.org/2000/svg\" height=\"24px\"viewBox=\"0 0 24 24\"\n",
              "       width=\"24px\">\n",
              "    <path d=\"M0 0h24v24H0V0z\" fill=\"none\"/>\n",
              "    <path d=\"M18.56 5.44l.94 2.06.94-2.06 2.06-.94-2.06-.94-.94-2.06-.94 2.06-2.06.94zm-11 1L8.5 8.5l.94-2.06 2.06-.94-2.06-.94L8.5 2.5l-.94 2.06-2.06.94zm10 10l.94 2.06.94-2.06 2.06-.94-2.06-.94-.94-2.06-.94 2.06-2.06.94z\"/><path d=\"M17.41 7.96l-1.37-1.37c-.4-.4-.92-.59-1.43-.59-.52 0-1.04.2-1.43.59L10.3 9.45l-7.72 7.72c-.78.78-.78 2.05 0 2.83L4 21.41c.39.39.9.59 1.41.59.51 0 1.02-.2 1.41-.59l7.78-7.78 2.81-2.81c.8-.78.8-2.07 0-2.86zM5.41 20L4 18.59l7.72-7.72 1.47 1.35L5.41 20z\"/>\n",
              "  </svg>\n",
              "      </button>\n",
              "      \n",
              "  <style>\n",
              "    .colab-df-container {\n",
              "      display:flex;\n",
              "      flex-wrap:wrap;\n",
              "      gap: 12px;\n",
              "    }\n",
              "\n",
              "    .colab-df-convert {\n",
              "      background-color: #E8F0FE;\n",
              "      border: none;\n",
              "      border-radius: 50%;\n",
              "      cursor: pointer;\n",
              "      display: none;\n",
              "      fill: #1967D2;\n",
              "      height: 32px;\n",
              "      padding: 0 0 0 0;\n",
              "      width: 32px;\n",
              "    }\n",
              "\n",
              "    .colab-df-convert:hover {\n",
              "      background-color: #E2EBFA;\n",
              "      box-shadow: 0px 1px 2px rgba(60, 64, 67, 0.3), 0px 1px 3px 1px rgba(60, 64, 67, 0.15);\n",
              "      fill: #174EA6;\n",
              "    }\n",
              "\n",
              "    [theme=dark] .colab-df-convert {\n",
              "      background-color: #3B4455;\n",
              "      fill: #D2E3FC;\n",
              "    }\n",
              "\n",
              "    [theme=dark] .colab-df-convert:hover {\n",
              "      background-color: #434B5C;\n",
              "      box-shadow: 0px 1px 3px 1px rgba(0, 0, 0, 0.15);\n",
              "      filter: drop-shadow(0px 1px 2px rgba(0, 0, 0, 0.3));\n",
              "      fill: #FFFFFF;\n",
              "    }\n",
              "  </style>\n",
              "\n",
              "      <script>\n",
              "        const buttonEl =\n",
              "          document.querySelector('#df-dbc55110-5c17-4f20-b873-d21bd1594817 button.colab-df-convert');\n",
              "        buttonEl.style.display =\n",
              "          google.colab.kernel.accessAllowed ? 'block' : 'none';\n",
              "\n",
              "        async function convertToInteractive(key) {\n",
              "          const element = document.querySelector('#df-dbc55110-5c17-4f20-b873-d21bd1594817');\n",
              "          const dataTable =\n",
              "            await google.colab.kernel.invokeFunction('convertToInteractive',\n",
              "                                                     [key], {});\n",
              "          if (!dataTable) return;\n",
              "\n",
              "          const docLinkHtml = 'Like what you see? Visit the ' +\n",
              "            '<a target=\"_blank\" href=https://colab.research.google.com/notebooks/data_table.ipynb>data table notebook</a>'\n",
              "            + ' to learn more about interactive tables.';\n",
              "          element.innerHTML = '';\n",
              "          dataTable['output_type'] = 'display_data';\n",
              "          await google.colab.output.renderOutput(dataTable, element);\n",
              "          const docLink = document.createElement('div');\n",
              "          docLink.innerHTML = docLinkHtml;\n",
              "          element.appendChild(docLink);\n",
              "        }\n",
              "      </script>\n",
              "    </div>\n",
              "  </div>\n",
              "  "
            ]
          },
          "metadata": {},
          "execution_count": 79
        }
      ]
    },
    {
      "cell_type": "markdown",
      "source": [
        "Removing the outliers using 3 techniques: "
      ],
      "metadata": {
        "id": "rqBj9aGaiROC"
      }
    },
    {
      "cell_type": "code",
      "source": [
        "# this function returns a pandas dataframe that does not have outlier any more. \n",
        "def outlier_ditector(column, upper, lower, df):\n",
        "    return df[(df[column]<upper) & (df[column]>lower)]"
      ],
      "metadata": {
        "id": "tLuD_l-Gryls"
      },
      "execution_count": 144,
      "outputs": []
    },
    {
      "cell_type": "markdown",
      "source": [
        "Technique 1: One loop **without chunking**"
      ],
      "metadata": {
        "id": "JUNDl60ukNuR"
      }
    },
    {
      "cell_type": "code",
      "source": [
        "# the following list contains numerical columns that may have outlier\n",
        "columns = [\"livingSpace\", \"noRooms\", \"totalRent\", \"floor\"]\n",
        "\n",
        "newdata = data.copy()\n",
        "sum = 0\n",
        "\n",
        "print(\"number of records before putting outliers aside:\" , newdata.shape[0])\n",
        "for column in columns:\n",
        "    s_time = time.time()\n",
        "    upper = newdata[column].mean() + 3*newdata[column].std()\n",
        "    lower = newdata[column].mean() - 3*newdata[column].std()\n",
        "    newdata= newdata[(newdata[column]<upper) & (newdata[column]>lower)]\n",
        "    sum = sum + time.time() - s_time\n",
        "\n",
        "print(f'whole run time: {sum}')\n",
        "print(\"number of records after putting outliers aside:\" , newdata.shape[0])"
      ],
      "metadata": {
        "colab": {
          "base_uri": "https://localhost:8080/"
        },
        "id": "4lS8eZ0MLscu",
        "outputId": "fc5a24b9-d26d-4d7d-e24f-0d0ab55dafb1"
      },
      "execution_count": 145,
      "outputs": [
        {
          "output_type": "stream",
          "name": "stdout",
          "text": [
            "number of records before putting outliers aside: 268850\n",
            "whole run time: 0.14275002479553223\n",
            "number of records after putting outliers aside: 187513\n"
          ]
        }
      ]
    },
    {
      "cell_type": "markdown",
      "source": [
        "Technique 2: **Chunking up** the dataset into two parts and detect their outliers in two **consecutive** loops\n",
        "\n",
        "```\n",
        "# This is formatted as code\n",
        "```\n",
        "\n"
      ],
      "metadata": {
        "id": "wV-MbTYujAI2"
      }
    },
    {
      "cell_type": "code",
      "source": [
        "# the folloing function chunks up the dataset into two parts.\n",
        "def chunker(df):\n",
        "    num_of_rows = df.shape[0]\n",
        "    df1 = df[0:int(num_of_rows/2)][:]\n",
        "    df2 = df[int(num_of_rows/2):num_of_rows][:]\n",
        "    chunks = [df1, df2]\n",
        "    return chunks"
      ],
      "metadata": {
        "id": "EmJ3p8Uk1jeu"
      },
      "execution_count": 85,
      "outputs": []
    },
    {
      "cell_type": "code",
      "source": [
        "# the following list contains numerical columns that may have outlier\n",
        "columns = [\"livingSpace\", \"noRooms\", \"totalRent\", \"floor\"]\n",
        "\n",
        "print(\"number of records before putting outliers aside:\" , data.shape[0])\n",
        "newdata = data.copy()\n",
        "sum = 0\n",
        "\n",
        "for column in columns:\n",
        "    chunks = chunker(newdata)\n",
        "\n",
        "    s_time = time.time()\n",
        "    upper = newdata[column].mean() + 3*newdata[column].std()\n",
        "    lower = newdata[column].mean() - 3*newdata[column].std()\n",
        "    outlier_ditector1 = functools.partial(outlier_ditector, column, upper, lower)\n",
        "    res_list = list(map(outlier_ditector1, chunks))\n",
        "    sum = sum + time.time() - s_time\n",
        "\n",
        "    newdata = pd.concat(res_list)\n",
        "\n",
        "print(f'whole run time: {sum}')\n",
        "print(\"number of records after putting outliers aside:\" , newdata.shape[0])\n"
      ],
      "metadata": {
        "colab": {
          "base_uri": "https://localhost:8080/"
        },
        "id": "NRzyRqf2WOu5",
        "outputId": "d3986870-01e8-433c-caf4-c6d9c5482753"
      },
      "execution_count": 86,
      "outputs": [
        {
          "output_type": "stream",
          "name": "stdout",
          "text": [
            "number of records before putting outliers aside: 268850\n",
            "whole run time: 0.33659958839416504\n",
            "number of records after putting outliers aside: 187513\n"
          ]
        }
      ]
    },
    {
      "cell_type": "markdown",
      "source": [
        "Technique 3:  **Chunking up** and **parallelism**"
      ],
      "metadata": {
        "id": "gO8bqabYjZAX"
      }
    },
    {
      "cell_type": "code",
      "source": [
        "\n",
        "# the following list contains numerical columns that may have outlier\n",
        "columns = [\"livingSpace\", \"noRooms\", \"totalRent\", \"floor\"]\n",
        "\n",
        "print(\"number of records before putting outliers aside:\" , data.shape[0])\n",
        "newdata = data.copy()\n",
        "sum = 0\n",
        "\n",
        "from multiprocessing import Pool\n",
        "for column in columns:\n",
        "    chunks = chunker(newdata)\n",
        "\n",
        "    s_time = time.time()\n",
        "    upper = newdata[column].mean() + 3*newdata[column].std()\n",
        "    lower = newdata[column].mean() - 3*newdata[column].std()\n",
        "    with Pool(cpu_count()) as p:\n",
        "        outlier_ditector1 = functools.partial(outlier_ditector, column, upper, lower)\n",
        "        res_list = list(p.imap(outlier_ditector1, chunks))    \n",
        "    sum = sum + (time.time() - s_time)\n",
        "    newdata = pd.concat(res_list)\n",
        "\n",
        "print(f'run time mean: {sum}')\n",
        "print(\"number of records after putting outliers aside:\" , newdata.shape[0])"
      ],
      "metadata": {
        "colab": {
          "base_uri": "https://localhost:8080/"
        },
        "id": "llgfp2i_sdCm",
        "outputId": "09f703bd-ea1c-4d6f-caa0-c720cdc29ab9"
      },
      "execution_count": 181,
      "outputs": [
        {
          "output_type": "stream",
          "name": "stdout",
          "text": [
            "number of records before putting outliers aside: 268850\n",
            "run time mean: 6.009257555007935\n",
            "number of records after putting outliers aside: 187513\n"
          ]
        }
      ]
    },
    {
      "cell_type": "markdown",
      "source": [
        "From now on I use the newdata (which does not contain outlier) :"
      ],
      "metadata": {
        "id": "fZ0AnApHrtXf"
      }
    },
    {
      "cell_type": "code",
      "source": [
        "data = newdata"
      ],
      "metadata": {
        "id": "N0CRkKnwhD5X"
      },
      "execution_count": 182,
      "outputs": []
    },
    {
      "cell_type": "code",
      "source": [
        "data.shape"
      ],
      "metadata": {
        "colab": {
          "base_uri": "https://localhost:8080/"
        },
        "id": "uR0zk1FYxWCp",
        "outputId": "d5285f2e-687f-4780-b915-45bf1f111616"
      },
      "execution_count": 147,
      "outputs": [
        {
          "output_type": "execute_result",
          "data": {
            "text/plain": [
              "(187513, 18)"
            ]
          },
          "metadata": {},
          "execution_count": 147
        }
      ]
    },
    {
      "cell_type": "code",
      "source": [
        "nulls = data.isnull().sum()/data.shape[0] *100\n",
        "nulls"
      ],
      "metadata": {
        "colab": {
          "base_uri": "https://localhost:8080/"
        },
        "id": "RMct1V88ytQK",
        "outputId": "9e5afbd7-363a-4284-994b-ca1a0ae0105f"
      },
      "execution_count": 148,
      "outputs": [
        {
          "output_type": "execute_result",
          "data": {
            "text/plain": [
              "regio1              0.000000\n",
              "geo_plz             0.000000\n",
              "heatingType        13.988897\n",
              "newlyConst          0.000000\n",
              "yearConstructed    19.882355\n",
              "cellar              0.000000\n",
              "livingSpace         0.000000\n",
              "condition          22.176596\n",
              "typeOfFlat         13.440135\n",
              "noRooms             0.000000\n",
              "garden              0.000000\n",
              "totalRent           0.000000\n",
              "hasKitchen          0.000000\n",
              "lift                0.000000\n",
              "floor               0.000000\n",
              "heatingType        13.988897\n",
              "condition          22.176596\n",
              "typeOfFlat         13.440135\n",
              "dtype: float64"
            ]
          },
          "metadata": {},
          "execution_count": 148
        }
      ]
    },
    {
      "cell_type": "markdown",
      "source": [
        "Replacing Null values:\n",
        "\n",
        "Technique 1: column by column **consecutively**"
      ],
      "metadata": {
        "id": "gsREABcod306"
      }
    },
    {
      "cell_type": "code",
      "source": [
        "def null_filler(column):\n",
        "    return column.fillna(\"NotAvailable\") "
      ],
      "metadata": {
        "id": "L9UOy-PefqXD"
      },
      "execution_count": 149,
      "outputs": []
    },
    {
      "cell_type": "code",
      "source": [
        "data.head()"
      ],
      "metadata": {
        "colab": {
          "base_uri": "https://localhost:8080/",
          "height": 288
        },
        "id": "NrgA3ovXoIr3",
        "outputId": "61fe6b91-5de2-4dac-f5eb-fa9a0c640e54"
      },
      "execution_count": null,
      "outputs": [
        {
          "output_type": "execute_result",
          "data": {
            "text/plain": [
              "                regio1  geo_plz                     heatingType  newlyConst  \\\n",
              "0  Nordrhein_Westfalen    44269                 central_heating       False   \n",
              "2              Sachsen     1097                   floor_heating        True   \n",
              "4               Bremen    28213  self_contained_central_heating       False   \n",
              "6              Sachsen     9599  self_contained_central_heating       False   \n",
              "8    Baden_Württemberg    79211                     oil_heating       False   \n",
              "\n",
              "   balcony  yearConstructed  cellar  livingSpace        condition  \\\n",
              "0    False           1965.0    True        86.00        well_kept   \n",
              "2     True           2019.0    True        83.80   first_time_use   \n",
              "4     True           1950.0   False        84.97      refurbished   \n",
              "6    False              NaN    True        62.00  fully_renovated   \n",
              "8    False           1970.0    True        53.00        well_kept   \n",
              "\n",
              "     typeOfFlat  noRooms  garden  totalRent  hasKitchen  \\\n",
              "0  ground_floor      4.0    True      840.0       False   \n",
              "2     apartment      3.0   False     1300.0       False   \n",
              "4     apartment      3.0   False      903.0       False   \n",
              "6           NaN      2.0    True      380.0       False   \n",
              "8   roof_storey      2.0   False      690.0        True   \n",
              "\n",
              "                        street   lift  floor  \n",
              "0   Sch&uuml;ruferstra&szlig;e  False    1.0  \n",
              "2                    Turnerweg   True    3.0  \n",
              "4  Hermann-Henrich-Meier-Allee  False    1.0  \n",
              "6                   Am Bahnhof  False    1.0  \n",
              "8               no_information  False    2.0  "
            ],
            "text/html": [
              "\n",
              "  <div id=\"df-35aa31d0-62d2-46e3-bacd-ff9664f36757\">\n",
              "    <div class=\"colab-df-container\">\n",
              "      <div>\n",
              "<style scoped>\n",
              "    .dataframe tbody tr th:only-of-type {\n",
              "        vertical-align: middle;\n",
              "    }\n",
              "\n",
              "    .dataframe tbody tr th {\n",
              "        vertical-align: top;\n",
              "    }\n",
              "\n",
              "    .dataframe thead th {\n",
              "        text-align: right;\n",
              "    }\n",
              "</style>\n",
              "<table border=\"1\" class=\"dataframe\">\n",
              "  <thead>\n",
              "    <tr style=\"text-align: right;\">\n",
              "      <th></th>\n",
              "      <th>regio1</th>\n",
              "      <th>geo_plz</th>\n",
              "      <th>heatingType</th>\n",
              "      <th>newlyConst</th>\n",
              "      <th>balcony</th>\n",
              "      <th>yearConstructed</th>\n",
              "      <th>cellar</th>\n",
              "      <th>livingSpace</th>\n",
              "      <th>condition</th>\n",
              "      <th>typeOfFlat</th>\n",
              "      <th>noRooms</th>\n",
              "      <th>garden</th>\n",
              "      <th>totalRent</th>\n",
              "      <th>hasKitchen</th>\n",
              "      <th>street</th>\n",
              "      <th>lift</th>\n",
              "      <th>floor</th>\n",
              "    </tr>\n",
              "  </thead>\n",
              "  <tbody>\n",
              "    <tr>\n",
              "      <th>0</th>\n",
              "      <td>Nordrhein_Westfalen</td>\n",
              "      <td>44269</td>\n",
              "      <td>central_heating</td>\n",
              "      <td>False</td>\n",
              "      <td>False</td>\n",
              "      <td>1965.0</td>\n",
              "      <td>True</td>\n",
              "      <td>86.00</td>\n",
              "      <td>well_kept</td>\n",
              "      <td>ground_floor</td>\n",
              "      <td>4.0</td>\n",
              "      <td>True</td>\n",
              "      <td>840.0</td>\n",
              "      <td>False</td>\n",
              "      <td>Sch&amp;uuml;ruferstra&amp;szlig;e</td>\n",
              "      <td>False</td>\n",
              "      <td>1.0</td>\n",
              "    </tr>\n",
              "    <tr>\n",
              "      <th>2</th>\n",
              "      <td>Sachsen</td>\n",
              "      <td>1097</td>\n",
              "      <td>floor_heating</td>\n",
              "      <td>True</td>\n",
              "      <td>True</td>\n",
              "      <td>2019.0</td>\n",
              "      <td>True</td>\n",
              "      <td>83.80</td>\n",
              "      <td>first_time_use</td>\n",
              "      <td>apartment</td>\n",
              "      <td>3.0</td>\n",
              "      <td>False</td>\n",
              "      <td>1300.0</td>\n",
              "      <td>False</td>\n",
              "      <td>Turnerweg</td>\n",
              "      <td>True</td>\n",
              "      <td>3.0</td>\n",
              "    </tr>\n",
              "    <tr>\n",
              "      <th>4</th>\n",
              "      <td>Bremen</td>\n",
              "      <td>28213</td>\n",
              "      <td>self_contained_central_heating</td>\n",
              "      <td>False</td>\n",
              "      <td>True</td>\n",
              "      <td>1950.0</td>\n",
              "      <td>False</td>\n",
              "      <td>84.97</td>\n",
              "      <td>refurbished</td>\n",
              "      <td>apartment</td>\n",
              "      <td>3.0</td>\n",
              "      <td>False</td>\n",
              "      <td>903.0</td>\n",
              "      <td>False</td>\n",
              "      <td>Hermann-Henrich-Meier-Allee</td>\n",
              "      <td>False</td>\n",
              "      <td>1.0</td>\n",
              "    </tr>\n",
              "    <tr>\n",
              "      <th>6</th>\n",
              "      <td>Sachsen</td>\n",
              "      <td>9599</td>\n",
              "      <td>self_contained_central_heating</td>\n",
              "      <td>False</td>\n",
              "      <td>False</td>\n",
              "      <td>NaN</td>\n",
              "      <td>True</td>\n",
              "      <td>62.00</td>\n",
              "      <td>fully_renovated</td>\n",
              "      <td>NaN</td>\n",
              "      <td>2.0</td>\n",
              "      <td>True</td>\n",
              "      <td>380.0</td>\n",
              "      <td>False</td>\n",
              "      <td>Am Bahnhof</td>\n",
              "      <td>False</td>\n",
              "      <td>1.0</td>\n",
              "    </tr>\n",
              "    <tr>\n",
              "      <th>8</th>\n",
              "      <td>Baden_Württemberg</td>\n",
              "      <td>79211</td>\n",
              "      <td>oil_heating</td>\n",
              "      <td>False</td>\n",
              "      <td>False</td>\n",
              "      <td>1970.0</td>\n",
              "      <td>True</td>\n",
              "      <td>53.00</td>\n",
              "      <td>well_kept</td>\n",
              "      <td>roof_storey</td>\n",
              "      <td>2.0</td>\n",
              "      <td>False</td>\n",
              "      <td>690.0</td>\n",
              "      <td>True</td>\n",
              "      <td>no_information</td>\n",
              "      <td>False</td>\n",
              "      <td>2.0</td>\n",
              "    </tr>\n",
              "  </tbody>\n",
              "</table>\n",
              "</div>\n",
              "      <button class=\"colab-df-convert\" onclick=\"convertToInteractive('df-35aa31d0-62d2-46e3-bacd-ff9664f36757')\"\n",
              "              title=\"Convert this dataframe to an interactive table.\"\n",
              "              style=\"display:none;\">\n",
              "        \n",
              "  <svg xmlns=\"http://www.w3.org/2000/svg\" height=\"24px\"viewBox=\"0 0 24 24\"\n",
              "       width=\"24px\">\n",
              "    <path d=\"M0 0h24v24H0V0z\" fill=\"none\"/>\n",
              "    <path d=\"M18.56 5.44l.94 2.06.94-2.06 2.06-.94-2.06-.94-.94-2.06-.94 2.06-2.06.94zm-11 1L8.5 8.5l.94-2.06 2.06-.94-2.06-.94L8.5 2.5l-.94 2.06-2.06.94zm10 10l.94 2.06.94-2.06 2.06-.94-2.06-.94-.94-2.06-.94 2.06-2.06.94z\"/><path d=\"M17.41 7.96l-1.37-1.37c-.4-.4-.92-.59-1.43-.59-.52 0-1.04.2-1.43.59L10.3 9.45l-7.72 7.72c-.78.78-.78 2.05 0 2.83L4 21.41c.39.39.9.59 1.41.59.51 0 1.02-.2 1.41-.59l7.78-7.78 2.81-2.81c.8-.78.8-2.07 0-2.86zM5.41 20L4 18.59l7.72-7.72 1.47 1.35L5.41 20z\"/>\n",
              "  </svg>\n",
              "      </button>\n",
              "      \n",
              "  <style>\n",
              "    .colab-df-container {\n",
              "      display:flex;\n",
              "      flex-wrap:wrap;\n",
              "      gap: 12px;\n",
              "    }\n",
              "\n",
              "    .colab-df-convert {\n",
              "      background-color: #E8F0FE;\n",
              "      border: none;\n",
              "      border-radius: 50%;\n",
              "      cursor: pointer;\n",
              "      display: none;\n",
              "      fill: #1967D2;\n",
              "      height: 32px;\n",
              "      padding: 0 0 0 0;\n",
              "      width: 32px;\n",
              "    }\n",
              "\n",
              "    .colab-df-convert:hover {\n",
              "      background-color: #E2EBFA;\n",
              "      box-shadow: 0px 1px 2px rgba(60, 64, 67, 0.3), 0px 1px 3px 1px rgba(60, 64, 67, 0.15);\n",
              "      fill: #174EA6;\n",
              "    }\n",
              "\n",
              "    [theme=dark] .colab-df-convert {\n",
              "      background-color: #3B4455;\n",
              "      fill: #D2E3FC;\n",
              "    }\n",
              "\n",
              "    [theme=dark] .colab-df-convert:hover {\n",
              "      background-color: #434B5C;\n",
              "      box-shadow: 0px 1px 3px 1px rgba(0, 0, 0, 0.15);\n",
              "      filter: drop-shadow(0px 1px 2px rgba(0, 0, 0, 0.3));\n",
              "      fill: #FFFFFF;\n",
              "    }\n",
              "  </style>\n",
              "\n",
              "      <script>\n",
              "        const buttonEl =\n",
              "          document.querySelector('#df-35aa31d0-62d2-46e3-bacd-ff9664f36757 button.colab-df-convert');\n",
              "        buttonEl.style.display =\n",
              "          google.colab.kernel.accessAllowed ? 'block' : 'none';\n",
              "\n",
              "        async function convertToInteractive(key) {\n",
              "          const element = document.querySelector('#df-35aa31d0-62d2-46e3-bacd-ff9664f36757');\n",
              "          const dataTable =\n",
              "            await google.colab.kernel.invokeFunction('convertToInteractive',\n",
              "                                                     [key], {});\n",
              "          if (!dataTable) return;\n",
              "\n",
              "          const docLinkHtml = 'Like what you see? Visit the ' +\n",
              "            '<a target=\"_blank\" href=https://colab.research.google.com/notebooks/data_table.ipynb>data table notebook</a>'\n",
              "            + ' to learn more about interactive tables.';\n",
              "          element.innerHTML = '';\n",
              "          dataTable['output_type'] = 'display_data';\n",
              "          await google.colab.output.renderOutput(dataTable, element);\n",
              "          const docLink = document.createElement('div');\n",
              "          docLink.innerHTML = docLinkHtml;\n",
              "          element.appendChild(docLink);\n",
              "        }\n",
              "      </script>\n",
              "    </div>\n",
              "  </div>\n",
              "  "
            ]
          },
          "metadata": {},
          "execution_count": 75
        }
      ]
    },
    {
      "cell_type": "code",
      "source": [
        "columns = [\"heatingType\", \"condition\", \"typeOfFlat\"]\n",
        "\n",
        "reformed_data = data.copy()\n",
        "\n",
        "s_time = time.time()\n",
        "for column in columns:\n",
        "    reformed_data[column] = null_filler(reformed_data[column])\n",
        "print(f'run time : {time.time() - s_time}')"
      ],
      "metadata": {
        "colab": {
          "base_uri": "https://localhost:8080/"
        },
        "id": "MH2r8aoK3ipA",
        "outputId": "40128898-2f81-4755-eab5-7f977a6eba17"
      },
      "execution_count": 178,
      "outputs": [
        {
          "output_type": "stream",
          "name": "stdout",
          "text": [
            "run time : 0.18060016632080078\n"
          ]
        }
      ]
    },
    {
      "cell_type": "code",
      "source": [
        "data.head()"
      ],
      "metadata": {
        "colab": {
          "base_uri": "https://localhost:8080/",
          "height": 270
        },
        "id": "E_UwzxfPoTpR",
        "outputId": "3af6d00d-2d9f-49a3-a330-05826e1f086f"
      },
      "execution_count": 94,
      "outputs": [
        {
          "output_type": "execute_result",
          "data": {
            "text/plain": [
              "                regio1  geo_plz                     heatingType  newlyConst  \\\n",
              "0  Nordrhein_Westfalen    44269                 central_heating       False   \n",
              "2              Sachsen     1097                   floor_heating        True   \n",
              "4               Bremen    28213  self_contained_central_heating       False   \n",
              "6              Sachsen     9599  self_contained_central_heating       False   \n",
              "8    Baden_Württemberg    79211                     oil_heating       False   \n",
              "\n",
              "   yearConstructed  cellar  livingSpace        condition    typeOfFlat  \\\n",
              "0           1965.0    True        86.00        well_kept  ground_floor   \n",
              "2           2019.0    True        83.80   first_time_use     apartment   \n",
              "4           1950.0   False        84.97      refurbished     apartment   \n",
              "6              NaN    True        62.00  fully_renovated           NaN   \n",
              "8           1970.0    True        53.00        well_kept   roof_storey   \n",
              "\n",
              "   noRooms  garden  totalRent  hasKitchen   lift  floor  \\\n",
              "0      4.0    True      840.0       False  False    1.0   \n",
              "2      3.0   False     1300.0       False   True    3.0   \n",
              "4      3.0   False      903.0       False  False    1.0   \n",
              "6      2.0    True      380.0       False  False    1.0   \n",
              "8      2.0   False      690.0        True  False    2.0   \n",
              "\n",
              "                      heatingType        condition    typeOfFlat  \n",
              "0                 central_heating        well_kept  ground_floor  \n",
              "2                   floor_heating   first_time_use     apartment  \n",
              "4  self_contained_central_heating      refurbished     apartment  \n",
              "6  self_contained_central_heating  fully_renovated           NaN  \n",
              "8                     oil_heating        well_kept   roof_storey  "
            ],
            "text/html": [
              "\n",
              "  <div id=\"df-4377e07c-7fc2-4fb2-87b3-ce95354d0f28\">\n",
              "    <div class=\"colab-df-container\">\n",
              "      <div>\n",
              "<style scoped>\n",
              "    .dataframe tbody tr th:only-of-type {\n",
              "        vertical-align: middle;\n",
              "    }\n",
              "\n",
              "    .dataframe tbody tr th {\n",
              "        vertical-align: top;\n",
              "    }\n",
              "\n",
              "    .dataframe thead th {\n",
              "        text-align: right;\n",
              "    }\n",
              "</style>\n",
              "<table border=\"1\" class=\"dataframe\">\n",
              "  <thead>\n",
              "    <tr style=\"text-align: right;\">\n",
              "      <th></th>\n",
              "      <th>regio1</th>\n",
              "      <th>geo_plz</th>\n",
              "      <th>heatingType</th>\n",
              "      <th>newlyConst</th>\n",
              "      <th>yearConstructed</th>\n",
              "      <th>cellar</th>\n",
              "      <th>livingSpace</th>\n",
              "      <th>condition</th>\n",
              "      <th>typeOfFlat</th>\n",
              "      <th>noRooms</th>\n",
              "      <th>garden</th>\n",
              "      <th>totalRent</th>\n",
              "      <th>hasKitchen</th>\n",
              "      <th>lift</th>\n",
              "      <th>floor</th>\n",
              "      <th>heatingType</th>\n",
              "      <th>condition</th>\n",
              "      <th>typeOfFlat</th>\n",
              "    </tr>\n",
              "  </thead>\n",
              "  <tbody>\n",
              "    <tr>\n",
              "      <th>0</th>\n",
              "      <td>Nordrhein_Westfalen</td>\n",
              "      <td>44269</td>\n",
              "      <td>central_heating</td>\n",
              "      <td>False</td>\n",
              "      <td>1965.0</td>\n",
              "      <td>True</td>\n",
              "      <td>86.00</td>\n",
              "      <td>well_kept</td>\n",
              "      <td>ground_floor</td>\n",
              "      <td>4.0</td>\n",
              "      <td>True</td>\n",
              "      <td>840.0</td>\n",
              "      <td>False</td>\n",
              "      <td>False</td>\n",
              "      <td>1.0</td>\n",
              "      <td>central_heating</td>\n",
              "      <td>well_kept</td>\n",
              "      <td>ground_floor</td>\n",
              "    </tr>\n",
              "    <tr>\n",
              "      <th>2</th>\n",
              "      <td>Sachsen</td>\n",
              "      <td>1097</td>\n",
              "      <td>floor_heating</td>\n",
              "      <td>True</td>\n",
              "      <td>2019.0</td>\n",
              "      <td>True</td>\n",
              "      <td>83.80</td>\n",
              "      <td>first_time_use</td>\n",
              "      <td>apartment</td>\n",
              "      <td>3.0</td>\n",
              "      <td>False</td>\n",
              "      <td>1300.0</td>\n",
              "      <td>False</td>\n",
              "      <td>True</td>\n",
              "      <td>3.0</td>\n",
              "      <td>floor_heating</td>\n",
              "      <td>first_time_use</td>\n",
              "      <td>apartment</td>\n",
              "    </tr>\n",
              "    <tr>\n",
              "      <th>4</th>\n",
              "      <td>Bremen</td>\n",
              "      <td>28213</td>\n",
              "      <td>self_contained_central_heating</td>\n",
              "      <td>False</td>\n",
              "      <td>1950.0</td>\n",
              "      <td>False</td>\n",
              "      <td>84.97</td>\n",
              "      <td>refurbished</td>\n",
              "      <td>apartment</td>\n",
              "      <td>3.0</td>\n",
              "      <td>False</td>\n",
              "      <td>903.0</td>\n",
              "      <td>False</td>\n",
              "      <td>False</td>\n",
              "      <td>1.0</td>\n",
              "      <td>self_contained_central_heating</td>\n",
              "      <td>refurbished</td>\n",
              "      <td>apartment</td>\n",
              "    </tr>\n",
              "    <tr>\n",
              "      <th>6</th>\n",
              "      <td>Sachsen</td>\n",
              "      <td>9599</td>\n",
              "      <td>self_contained_central_heating</td>\n",
              "      <td>False</td>\n",
              "      <td>NaN</td>\n",
              "      <td>True</td>\n",
              "      <td>62.00</td>\n",
              "      <td>fully_renovated</td>\n",
              "      <td>NaN</td>\n",
              "      <td>2.0</td>\n",
              "      <td>True</td>\n",
              "      <td>380.0</td>\n",
              "      <td>False</td>\n",
              "      <td>False</td>\n",
              "      <td>1.0</td>\n",
              "      <td>self_contained_central_heating</td>\n",
              "      <td>fully_renovated</td>\n",
              "      <td>NaN</td>\n",
              "    </tr>\n",
              "    <tr>\n",
              "      <th>8</th>\n",
              "      <td>Baden_Württemberg</td>\n",
              "      <td>79211</td>\n",
              "      <td>oil_heating</td>\n",
              "      <td>False</td>\n",
              "      <td>1970.0</td>\n",
              "      <td>True</td>\n",
              "      <td>53.00</td>\n",
              "      <td>well_kept</td>\n",
              "      <td>roof_storey</td>\n",
              "      <td>2.0</td>\n",
              "      <td>False</td>\n",
              "      <td>690.0</td>\n",
              "      <td>True</td>\n",
              "      <td>False</td>\n",
              "      <td>2.0</td>\n",
              "      <td>oil_heating</td>\n",
              "      <td>well_kept</td>\n",
              "      <td>roof_storey</td>\n",
              "    </tr>\n",
              "  </tbody>\n",
              "</table>\n",
              "</div>\n",
              "      <button class=\"colab-df-convert\" onclick=\"convertToInteractive('df-4377e07c-7fc2-4fb2-87b3-ce95354d0f28')\"\n",
              "              title=\"Convert this dataframe to an interactive table.\"\n",
              "              style=\"display:none;\">\n",
              "        \n",
              "  <svg xmlns=\"http://www.w3.org/2000/svg\" height=\"24px\"viewBox=\"0 0 24 24\"\n",
              "       width=\"24px\">\n",
              "    <path d=\"M0 0h24v24H0V0z\" fill=\"none\"/>\n",
              "    <path d=\"M18.56 5.44l.94 2.06.94-2.06 2.06-.94-2.06-.94-.94-2.06-.94 2.06-2.06.94zm-11 1L8.5 8.5l.94-2.06 2.06-.94-2.06-.94L8.5 2.5l-.94 2.06-2.06.94zm10 10l.94 2.06.94-2.06 2.06-.94-2.06-.94-.94-2.06-.94 2.06-2.06.94z\"/><path d=\"M17.41 7.96l-1.37-1.37c-.4-.4-.92-.59-1.43-.59-.52 0-1.04.2-1.43.59L10.3 9.45l-7.72 7.72c-.78.78-.78 2.05 0 2.83L4 21.41c.39.39.9.59 1.41.59.51 0 1.02-.2 1.41-.59l7.78-7.78 2.81-2.81c.8-.78.8-2.07 0-2.86zM5.41 20L4 18.59l7.72-7.72 1.47 1.35L5.41 20z\"/>\n",
              "  </svg>\n",
              "      </button>\n",
              "      \n",
              "  <style>\n",
              "    .colab-df-container {\n",
              "      display:flex;\n",
              "      flex-wrap:wrap;\n",
              "      gap: 12px;\n",
              "    }\n",
              "\n",
              "    .colab-df-convert {\n",
              "      background-color: #E8F0FE;\n",
              "      border: none;\n",
              "      border-radius: 50%;\n",
              "      cursor: pointer;\n",
              "      display: none;\n",
              "      fill: #1967D2;\n",
              "      height: 32px;\n",
              "      padding: 0 0 0 0;\n",
              "      width: 32px;\n",
              "    }\n",
              "\n",
              "    .colab-df-convert:hover {\n",
              "      background-color: #E2EBFA;\n",
              "      box-shadow: 0px 1px 2px rgba(60, 64, 67, 0.3), 0px 1px 3px 1px rgba(60, 64, 67, 0.15);\n",
              "      fill: #174EA6;\n",
              "    }\n",
              "\n",
              "    [theme=dark] .colab-df-convert {\n",
              "      background-color: #3B4455;\n",
              "      fill: #D2E3FC;\n",
              "    }\n",
              "\n",
              "    [theme=dark] .colab-df-convert:hover {\n",
              "      background-color: #434B5C;\n",
              "      box-shadow: 0px 1px 3px 1px rgba(0, 0, 0, 0.15);\n",
              "      filter: drop-shadow(0px 1px 2px rgba(0, 0, 0, 0.3));\n",
              "      fill: #FFFFFF;\n",
              "    }\n",
              "  </style>\n",
              "\n",
              "      <script>\n",
              "        const buttonEl =\n",
              "          document.querySelector('#df-4377e07c-7fc2-4fb2-87b3-ce95354d0f28 button.colab-df-convert');\n",
              "        buttonEl.style.display =\n",
              "          google.colab.kernel.accessAllowed ? 'block' : 'none';\n",
              "\n",
              "        async function convertToInteractive(key) {\n",
              "          const element = document.querySelector('#df-4377e07c-7fc2-4fb2-87b3-ce95354d0f28');\n",
              "          const dataTable =\n",
              "            await google.colab.kernel.invokeFunction('convertToInteractive',\n",
              "                                                     [key], {});\n",
              "          if (!dataTable) return;\n",
              "\n",
              "          const docLinkHtml = 'Like what you see? Visit the ' +\n",
              "            '<a target=\"_blank\" href=https://colab.research.google.com/notebooks/data_table.ipynb>data table notebook</a>'\n",
              "            + ' to learn more about interactive tables.';\n",
              "          element.innerHTML = '';\n",
              "          dataTable['output_type'] = 'display_data';\n",
              "          await google.colab.output.renderOutput(dataTable, element);\n",
              "          const docLink = document.createElement('div');\n",
              "          docLink.innerHTML = docLinkHtml;\n",
              "          element.appendChild(docLink);\n",
              "        }\n",
              "      </script>\n",
              "    </div>\n",
              "  </div>\n",
              "  "
            ]
          },
          "metadata": {},
          "execution_count": 94
        }
      ]
    },
    {
      "cell_type": "markdown",
      "source": [
        "Technique 2: **Parellelism** using **Dask**"
      ],
      "metadata": {
        "id": "jkNJuo6GfIfb"
      }
    },
    {
      "cell_type": "code",
      "source": [
        "!python -m pip install \"dask[complete]\""
      ],
      "metadata": {
        "id": "nIjCsY1_HVZF",
        "colab": {
          "base_uri": "https://localhost:8080/"
        },
        "outputId": "38d8ed2b-f507-4b07-d912-af12a44c0b75"
      },
      "execution_count": 120,
      "outputs": [
        {
          "output_type": "stream",
          "name": "stdout",
          "text": [
            "Requirement already satisfied: dask[complete] in /usr/local/lib/python3.7/dist-packages (2.12.0)\n",
            "Requirement already satisfied: bokeh>=1.0.0 in /usr/local/lib/python3.7/dist-packages (from dask[complete]) (2.3.3)\n",
            "Requirement already satisfied: pandas>=0.23.0 in /usr/local/lib/python3.7/dist-packages (from dask[complete]) (1.3.5)\n",
            "Requirement already satisfied: partd>=0.3.10 in /usr/local/lib/python3.7/dist-packages (from dask[complete]) (1.2.0)\n",
            "Requirement already satisfied: distributed>=2.0 in /usr/local/lib/python3.7/dist-packages (from dask[complete]) (2.30.1)\n",
            "Requirement already satisfied: toolz>=0.7.3 in /usr/local/lib/python3.7/dist-packages (from dask[complete]) (0.11.2)\n",
            "Requirement already satisfied: cloudpickle>=0.2.1 in /usr/local/lib/python3.7/dist-packages (from dask[complete]) (2.0.0)\n",
            "Requirement already satisfied: PyYaml in /usr/local/lib/python3.7/dist-packages (from dask[complete]) (3.13)\n",
            "Requirement already satisfied: numpy>=1.13.0 in /usr/local/lib/python3.7/dist-packages (from dask[complete]) (1.21.5)\n",
            "Requirement already satisfied: fsspec>=0.6.0 in /usr/local/lib/python3.7/dist-packages (from dask[complete]) (2022.3.0)\n",
            "Requirement already satisfied: typing-extensions>=3.7.4 in /usr/local/lib/python3.7/dist-packages (from bokeh>=1.0.0->dask[complete]) (3.10.0.2)\n",
            "Requirement already satisfied: tornado>=5.1 in /usr/local/lib/python3.7/dist-packages (from bokeh>=1.0.0->dask[complete]) (5.1.1)\n",
            "Requirement already satisfied: Jinja2>=2.9 in /usr/local/lib/python3.7/dist-packages (from bokeh>=1.0.0->dask[complete]) (2.11.3)\n",
            "Requirement already satisfied: pillow>=7.1.0 in /usr/local/lib/python3.7/dist-packages (from bokeh>=1.0.0->dask[complete]) (7.1.2)\n",
            "Requirement already satisfied: python-dateutil>=2.1 in /usr/local/lib/python3.7/dist-packages (from bokeh>=1.0.0->dask[complete]) (2.8.2)\n",
            "Requirement already satisfied: packaging>=16.8 in /usr/local/lib/python3.7/dist-packages (from bokeh>=1.0.0->dask[complete]) (21.3)\n",
            "Requirement already satisfied: sortedcontainers!=2.0.0,!=2.0.1 in /usr/local/lib/python3.7/dist-packages (from distributed>=2.0->dask[complete]) (2.4.0)\n",
            "Requirement already satisfied: zict>=0.1.3 in /usr/local/lib/python3.7/dist-packages (from distributed>=2.0->dask[complete]) (2.1.0)\n",
            "Requirement already satisfied: tblib>=1.6.0 in /usr/local/lib/python3.7/dist-packages (from distributed>=2.0->dask[complete]) (1.7.0)\n",
            "Requirement already satisfied: msgpack>=0.6.0 in /usr/local/lib/python3.7/dist-packages (from distributed>=2.0->dask[complete]) (1.0.3)\n",
            "Requirement already satisfied: click>=6.6 in /usr/local/lib/python3.7/dist-packages (from distributed>=2.0->dask[complete]) (7.1.2)\n",
            "Requirement already satisfied: setuptools in /usr/local/lib/python3.7/dist-packages (from distributed>=2.0->dask[complete]) (57.4.0)\n",
            "Requirement already satisfied: psutil>=5.0 in /usr/local/lib/python3.7/dist-packages (from distributed>=2.0->dask[complete]) (5.4.8)\n",
            "Requirement already satisfied: MarkupSafe>=0.23 in /usr/local/lib/python3.7/dist-packages (from Jinja2>=2.9->bokeh>=1.0.0->dask[complete]) (2.0.1)\n",
            "Requirement already satisfied: pyparsing!=3.0.5,>=2.0.2 in /usr/local/lib/python3.7/dist-packages (from packaging>=16.8->bokeh>=1.0.0->dask[complete]) (3.0.7)\n",
            "Requirement already satisfied: pytz>=2017.3 in /usr/local/lib/python3.7/dist-packages (from pandas>=0.23.0->dask[complete]) (2018.9)\n",
            "Requirement already satisfied: locket in /usr/local/lib/python3.7/dist-packages (from partd>=0.3.10->dask[complete]) (0.2.1)\n",
            "Requirement already satisfied: six>=1.5 in /usr/local/lib/python3.7/dist-packages (from python-dateutil>=2.1->bokeh>=1.0.0->dask[complete]) (1.15.0)\n",
            "Requirement already satisfied: heapdict in /usr/local/lib/python3.7/dist-packages (from zict>=0.1.3->distributed>=2.0->dask[complete]) (1.0.1)\n"
          ]
        }
      ]
    },
    {
      "cell_type": "code",
      "source": [
        "import dask\n",
        "from dask import delayed"
      ],
      "metadata": {
        "id": "idfyLdIgH1bP"
      },
      "execution_count": 96,
      "outputs": []
    },
    {
      "cell_type": "code",
      "source": [
        "columns = [data[\"heatingType\"] , data[\"condition\"], data[\"typeOfFlat\"]]\n",
        "result = []\n",
        "\n",
        "s_time = time.time()\n",
        "for column in columns:\n",
        "    column = delayed(null_filler)(column)\n",
        "    result.append(column)\n",
        "print(f'run time : {time.time() - s_time}')"
      ],
      "metadata": {
        "colab": {
          "base_uri": "https://localhost:8080/"
        },
        "id": "GV7SMoeQdE5E",
        "outputId": "6f93bc55-a7ee-446b-a8da-daceb14d0c4d"
      },
      "execution_count": 179,
      "outputs": [
        {
          "output_type": "stream",
          "name": "stdout",
          "text": [
            "run time : 0.0008747577667236328\n"
          ]
        }
      ]
    },
    {
      "cell_type": "code",
      "source": [
        "data = reformed_data\n",
        "data.head()"
      ],
      "metadata": {
        "colab": {
          "base_uri": "https://localhost:8080/",
          "height": 270
        },
        "id": "4XF867c6nMOo",
        "outputId": "044127dd-af82-49e8-c6c0-fae63476fba3"
      },
      "execution_count": 180,
      "outputs": [
        {
          "output_type": "execute_result",
          "data": {
            "text/plain": [
              "                regio1  geo_plz                     heatingType  newlyConst  \\\n",
              "0  Nordrhein_Westfalen    44269                 central_heating       False   \n",
              "1      Rheinland_Pfalz    67459  self_contained_central_heating       False   \n",
              "2              Sachsen     1097                   floor_heating        True   \n",
              "3              Sachsen     9599                district_heating       False   \n",
              "4               Bremen    28213  self_contained_central_heating       False   \n",
              "\n",
              "   yearConstructed  cellar  livingSpace       condition    typeOfFlat  \\\n",
              "0           1965.0    True        86.00       well_kept  ground_floor   \n",
              "1           1871.0   False        89.00     refurbished  ground_floor   \n",
              "2           2019.0    True        83.80  first_time_use     apartment   \n",
              "3           1964.0   False        58.15    NotAvailable         other   \n",
              "4           1950.0   False        84.97     refurbished     apartment   \n",
              "\n",
              "   noRooms  garden  totalRent  hasKitchen   lift  floor  \\\n",
              "0      4.0    True      840.0       False  False    1.0   \n",
              "1      3.0   False        NaN       False  False    NaN   \n",
              "2      3.0   False     1300.0       False   True    3.0   \n",
              "3      3.0   False        NaN       False  False    3.0   \n",
              "4      3.0   False      903.0       False  False    1.0   \n",
              "\n",
              "                      heatingType       condition    typeOfFlat  \n",
              "0                 central_heating       well_kept  ground_floor  \n",
              "1  self_contained_central_heating     refurbished  ground_floor  \n",
              "2                   floor_heating  first_time_use     apartment  \n",
              "3                district_heating    NotAvailable         other  \n",
              "4  self_contained_central_heating     refurbished     apartment  "
            ],
            "text/html": [
              "\n",
              "  <div id=\"df-abeb2442-4933-4edd-b72f-6d2a915dad1b\">\n",
              "    <div class=\"colab-df-container\">\n",
              "      <div>\n",
              "<style scoped>\n",
              "    .dataframe tbody tr th:only-of-type {\n",
              "        vertical-align: middle;\n",
              "    }\n",
              "\n",
              "    .dataframe tbody tr th {\n",
              "        vertical-align: top;\n",
              "    }\n",
              "\n",
              "    .dataframe thead th {\n",
              "        text-align: right;\n",
              "    }\n",
              "</style>\n",
              "<table border=\"1\" class=\"dataframe\">\n",
              "  <thead>\n",
              "    <tr style=\"text-align: right;\">\n",
              "      <th></th>\n",
              "      <th>regio1</th>\n",
              "      <th>geo_plz</th>\n",
              "      <th>heatingType</th>\n",
              "      <th>newlyConst</th>\n",
              "      <th>yearConstructed</th>\n",
              "      <th>cellar</th>\n",
              "      <th>livingSpace</th>\n",
              "      <th>condition</th>\n",
              "      <th>typeOfFlat</th>\n",
              "      <th>noRooms</th>\n",
              "      <th>garden</th>\n",
              "      <th>totalRent</th>\n",
              "      <th>hasKitchen</th>\n",
              "      <th>lift</th>\n",
              "      <th>floor</th>\n",
              "      <th>heatingType</th>\n",
              "      <th>condition</th>\n",
              "      <th>typeOfFlat</th>\n",
              "    </tr>\n",
              "  </thead>\n",
              "  <tbody>\n",
              "    <tr>\n",
              "      <th>0</th>\n",
              "      <td>Nordrhein_Westfalen</td>\n",
              "      <td>44269</td>\n",
              "      <td>central_heating</td>\n",
              "      <td>False</td>\n",
              "      <td>1965.0</td>\n",
              "      <td>True</td>\n",
              "      <td>86.00</td>\n",
              "      <td>well_kept</td>\n",
              "      <td>ground_floor</td>\n",
              "      <td>4.0</td>\n",
              "      <td>True</td>\n",
              "      <td>840.0</td>\n",
              "      <td>False</td>\n",
              "      <td>False</td>\n",
              "      <td>1.0</td>\n",
              "      <td>central_heating</td>\n",
              "      <td>well_kept</td>\n",
              "      <td>ground_floor</td>\n",
              "    </tr>\n",
              "    <tr>\n",
              "      <th>1</th>\n",
              "      <td>Rheinland_Pfalz</td>\n",
              "      <td>67459</td>\n",
              "      <td>self_contained_central_heating</td>\n",
              "      <td>False</td>\n",
              "      <td>1871.0</td>\n",
              "      <td>False</td>\n",
              "      <td>89.00</td>\n",
              "      <td>refurbished</td>\n",
              "      <td>ground_floor</td>\n",
              "      <td>3.0</td>\n",
              "      <td>False</td>\n",
              "      <td>NaN</td>\n",
              "      <td>False</td>\n",
              "      <td>False</td>\n",
              "      <td>NaN</td>\n",
              "      <td>self_contained_central_heating</td>\n",
              "      <td>refurbished</td>\n",
              "      <td>ground_floor</td>\n",
              "    </tr>\n",
              "    <tr>\n",
              "      <th>2</th>\n",
              "      <td>Sachsen</td>\n",
              "      <td>1097</td>\n",
              "      <td>floor_heating</td>\n",
              "      <td>True</td>\n",
              "      <td>2019.0</td>\n",
              "      <td>True</td>\n",
              "      <td>83.80</td>\n",
              "      <td>first_time_use</td>\n",
              "      <td>apartment</td>\n",
              "      <td>3.0</td>\n",
              "      <td>False</td>\n",
              "      <td>1300.0</td>\n",
              "      <td>False</td>\n",
              "      <td>True</td>\n",
              "      <td>3.0</td>\n",
              "      <td>floor_heating</td>\n",
              "      <td>first_time_use</td>\n",
              "      <td>apartment</td>\n",
              "    </tr>\n",
              "    <tr>\n",
              "      <th>3</th>\n",
              "      <td>Sachsen</td>\n",
              "      <td>9599</td>\n",
              "      <td>district_heating</td>\n",
              "      <td>False</td>\n",
              "      <td>1964.0</td>\n",
              "      <td>False</td>\n",
              "      <td>58.15</td>\n",
              "      <td>NotAvailable</td>\n",
              "      <td>other</td>\n",
              "      <td>3.0</td>\n",
              "      <td>False</td>\n",
              "      <td>NaN</td>\n",
              "      <td>False</td>\n",
              "      <td>False</td>\n",
              "      <td>3.0</td>\n",
              "      <td>district_heating</td>\n",
              "      <td>NotAvailable</td>\n",
              "      <td>other</td>\n",
              "    </tr>\n",
              "    <tr>\n",
              "      <th>4</th>\n",
              "      <td>Bremen</td>\n",
              "      <td>28213</td>\n",
              "      <td>self_contained_central_heating</td>\n",
              "      <td>False</td>\n",
              "      <td>1950.0</td>\n",
              "      <td>False</td>\n",
              "      <td>84.97</td>\n",
              "      <td>refurbished</td>\n",
              "      <td>apartment</td>\n",
              "      <td>3.0</td>\n",
              "      <td>False</td>\n",
              "      <td>903.0</td>\n",
              "      <td>False</td>\n",
              "      <td>False</td>\n",
              "      <td>1.0</td>\n",
              "      <td>self_contained_central_heating</td>\n",
              "      <td>refurbished</td>\n",
              "      <td>apartment</td>\n",
              "    </tr>\n",
              "  </tbody>\n",
              "</table>\n",
              "</div>\n",
              "      <button class=\"colab-df-convert\" onclick=\"convertToInteractive('df-abeb2442-4933-4edd-b72f-6d2a915dad1b')\"\n",
              "              title=\"Convert this dataframe to an interactive table.\"\n",
              "              style=\"display:none;\">\n",
              "        \n",
              "  <svg xmlns=\"http://www.w3.org/2000/svg\" height=\"24px\"viewBox=\"0 0 24 24\"\n",
              "       width=\"24px\">\n",
              "    <path d=\"M0 0h24v24H0V0z\" fill=\"none\"/>\n",
              "    <path d=\"M18.56 5.44l.94 2.06.94-2.06 2.06-.94-2.06-.94-.94-2.06-.94 2.06-2.06.94zm-11 1L8.5 8.5l.94-2.06 2.06-.94-2.06-.94L8.5 2.5l-.94 2.06-2.06.94zm10 10l.94 2.06.94-2.06 2.06-.94-2.06-.94-.94-2.06-.94 2.06-2.06.94z\"/><path d=\"M17.41 7.96l-1.37-1.37c-.4-.4-.92-.59-1.43-.59-.52 0-1.04.2-1.43.59L10.3 9.45l-7.72 7.72c-.78.78-.78 2.05 0 2.83L4 21.41c.39.39.9.59 1.41.59.51 0 1.02-.2 1.41-.59l7.78-7.78 2.81-2.81c.8-.78.8-2.07 0-2.86zM5.41 20L4 18.59l7.72-7.72 1.47 1.35L5.41 20z\"/>\n",
              "  </svg>\n",
              "      </button>\n",
              "      \n",
              "  <style>\n",
              "    .colab-df-container {\n",
              "      display:flex;\n",
              "      flex-wrap:wrap;\n",
              "      gap: 12px;\n",
              "    }\n",
              "\n",
              "    .colab-df-convert {\n",
              "      background-color: #E8F0FE;\n",
              "      border: none;\n",
              "      border-radius: 50%;\n",
              "      cursor: pointer;\n",
              "      display: none;\n",
              "      fill: #1967D2;\n",
              "      height: 32px;\n",
              "      padding: 0 0 0 0;\n",
              "      width: 32px;\n",
              "    }\n",
              "\n",
              "    .colab-df-convert:hover {\n",
              "      background-color: #E2EBFA;\n",
              "      box-shadow: 0px 1px 2px rgba(60, 64, 67, 0.3), 0px 1px 3px 1px rgba(60, 64, 67, 0.15);\n",
              "      fill: #174EA6;\n",
              "    }\n",
              "\n",
              "    [theme=dark] .colab-df-convert {\n",
              "      background-color: #3B4455;\n",
              "      fill: #D2E3FC;\n",
              "    }\n",
              "\n",
              "    [theme=dark] .colab-df-convert:hover {\n",
              "      background-color: #434B5C;\n",
              "      box-shadow: 0px 1px 3px 1px rgba(0, 0, 0, 0.15);\n",
              "      filter: drop-shadow(0px 1px 2px rgba(0, 0, 0, 0.3));\n",
              "      fill: #FFFFFF;\n",
              "    }\n",
              "  </style>\n",
              "\n",
              "      <script>\n",
              "        const buttonEl =\n",
              "          document.querySelector('#df-abeb2442-4933-4edd-b72f-6d2a915dad1b button.colab-df-convert');\n",
              "        buttonEl.style.display =\n",
              "          google.colab.kernel.accessAllowed ? 'block' : 'none';\n",
              "\n",
              "        async function convertToInteractive(key) {\n",
              "          const element = document.querySelector('#df-abeb2442-4933-4edd-b72f-6d2a915dad1b');\n",
              "          const dataTable =\n",
              "            await google.colab.kernel.invokeFunction('convertToInteractive',\n",
              "                                                     [key], {});\n",
              "          if (!dataTable) return;\n",
              "\n",
              "          const docLinkHtml = 'Like what you see? Visit the ' +\n",
              "            '<a target=\"_blank\" href=https://colab.research.google.com/notebooks/data_table.ipynb>data table notebook</a>'\n",
              "            + ' to learn more about interactive tables.';\n",
              "          element.innerHTML = '';\n",
              "          dataTable['output_type'] = 'display_data';\n",
              "          await google.colab.output.renderOutput(dataTable, element);\n",
              "          const docLink = document.createElement('div');\n",
              "          docLink.innerHTML = docLinkHtml;\n",
              "          element.appendChild(docLink);\n",
              "        }\n",
              "      </script>\n",
              "    </div>\n",
              "  </div>\n",
              "  "
            ]
          },
          "metadata": {},
          "execution_count": 180
        }
      ]
    },
    {
      "cell_type": "code",
      "source": [
        "nulls = data.isnull().sum()/data.shape[0] *100\n",
        "nulls"
      ],
      "metadata": {
        "colab": {
          "base_uri": "https://localhost:8080/"
        },
        "id": "qMvQ5uriuerf",
        "outputId": "2e6e5f08-1e4a-40a5-9fee-d58f9db0fd7c"
      },
      "execution_count": 152,
      "outputs": [
        {
          "output_type": "execute_result",
          "data": {
            "text/plain": [
              "regio1              0.000000\n",
              "geo_plz             0.000000\n",
              "heatingType         0.000000\n",
              "newlyConst          0.000000\n",
              "yearConstructed    19.882355\n",
              "cellar              0.000000\n",
              "livingSpace         0.000000\n",
              "condition           0.000000\n",
              "typeOfFlat          0.000000\n",
              "noRooms             0.000000\n",
              "garden              0.000000\n",
              "totalRent           0.000000\n",
              "hasKitchen          0.000000\n",
              "lift                0.000000\n",
              "floor               0.000000\n",
              "heatingType         0.000000\n",
              "condition           0.000000\n",
              "typeOfFlat          0.000000\n",
              "dtype: float64"
            ]
          },
          "metadata": {},
          "execution_count": 152
        }
      ]
    },
    {
      "cell_type": "code",
      "source": [
        "data.dropna(subset=[\"yearConstructed\"], inplace=True)"
      ],
      "metadata": {
        "id": "0RCGDI1bvfHQ"
      },
      "execution_count": 153,
      "outputs": []
    },
    {
      "cell_type": "code",
      "source": [
        "len(data[data[\"yearConstructed\"]>2022])"
      ],
      "metadata": {
        "colab": {
          "base_uri": "https://localhost:8080/"
        },
        "id": "O-x3iIytxtmw",
        "outputId": "8932b4fd-bc25-48db-e87a-31f031a2636e"
      },
      "execution_count": 102,
      "outputs": [
        {
          "output_type": "execute_result",
          "data": {
            "text/plain": [
              "4"
            ]
          },
          "metadata": {},
          "execution_count": 102
        }
      ]
    },
    {
      "cell_type": "code",
      "source": [
        "data = data.loc[data[\"yearConstructed\"] <= 2022]"
      ],
      "metadata": {
        "id": "rUxWO5e8x6i8"
      },
      "execution_count": 103,
      "outputs": []
    },
    {
      "cell_type": "code",
      "source": [
        "nulls = data.isnull().sum()/data.shape[0] *100\n",
        "nulls"
      ],
      "metadata": {
        "colab": {
          "base_uri": "https://localhost:8080/"
        },
        "id": "lT-lQc3453Pk",
        "outputId": "e23b869f-73e3-45f2-8541-172ec9d212c6"
      },
      "execution_count": 104,
      "outputs": [
        {
          "output_type": "execute_result",
          "data": {
            "text/plain": [
              "regio1             0.0\n",
              "geo_plz            0.0\n",
              "heatingType        0.0\n",
              "newlyConst         0.0\n",
              "yearConstructed    0.0\n",
              "cellar             0.0\n",
              "livingSpace        0.0\n",
              "condition          0.0\n",
              "typeOfFlat         0.0\n",
              "noRooms            0.0\n",
              "garden             0.0\n",
              "totalRent          0.0\n",
              "hasKitchen         0.0\n",
              "lift               0.0\n",
              "floor              0.0\n",
              "heatingType        0.0\n",
              "condition          0.0\n",
              "typeOfFlat         0.0\n",
              "dtype: float64"
            ]
          },
          "metadata": {},
          "execution_count": 104
        }
      ]
    },
    {
      "cell_type": "code",
      "source": [
        "data.duplicated().any()"
      ],
      "metadata": {
        "colab": {
          "base_uri": "https://localhost:8080/"
        },
        "id": "uF3YkwcCnbbU",
        "outputId": "c9d464cf-fab6-4f3b-e7db-b22154e4b212"
      },
      "execution_count": 108,
      "outputs": [
        {
          "output_type": "execute_result",
          "data": {
            "text/plain": [
              "True"
            ]
          },
          "metadata": {},
          "execution_count": 108
        }
      ]
    },
    {
      "cell_type": "code",
      "source": [
        "data.shape[0]"
      ],
      "metadata": {
        "colab": {
          "base_uri": "https://localhost:8080/"
        },
        "id": "myfluZR0oaG4",
        "outputId": "6805bebc-16b4-41ff-e442-355f1b60ccf3"
      },
      "execution_count": 109,
      "outputs": [
        {
          "output_type": "execute_result",
          "data": {
            "text/plain": [
              "150227"
            ]
          },
          "metadata": {},
          "execution_count": 109
        }
      ]
    },
    {
      "cell_type": "code",
      "source": [
        "data = data.drop_duplicates()"
      ],
      "metadata": {
        "id": "Pf12UkUToHIu"
      },
      "execution_count": 110,
      "outputs": []
    },
    {
      "cell_type": "code",
      "source": [
        "data.shape"
      ],
      "metadata": {
        "colab": {
          "base_uri": "https://localhost:8080/"
        },
        "id": "-GvBtiMX57Jj",
        "outputId": "4b1c6038-fc37-4cf3-e5ee-16c14dfb1e85"
      },
      "execution_count": 112,
      "outputs": [
        {
          "output_type": "execute_result",
          "data": {
            "text/plain": [
              "(146112, 18)"
            ]
          },
          "metadata": {},
          "execution_count": 112
        }
      ]
    },
    {
      "cell_type": "markdown",
      "source": [
        "EDA"
      ],
      "metadata": {
        "id": "SLoX8RvSpV6V"
      }
    },
    {
      "cell_type": "code",
      "source": [
        "data.plot.scatter(x='yearConstructed', y='floor')"
      ],
      "metadata": {
        "colab": {
          "base_uri": "https://localhost:8080/",
          "height": 296
        },
        "id": "x_0ZZFMTuoQd",
        "outputId": "7a2fa3e0-c990-4e68-96c9-216773723d33"
      },
      "execution_count": 114,
      "outputs": [
        {
          "output_type": "execute_result",
          "data": {
            "text/plain": [
              "<matplotlib.axes._subplots.AxesSubplot at 0x7f6aab6df310>"
            ]
          },
          "metadata": {},
          "execution_count": 114
        },
        {
          "output_type": "display_data",
          "data": {
            "text/plain": [
              "<Figure size 432x288 with 1 Axes>"
            ],
            "image/png": "[encoded data removed]"
          },
          "metadata": {
            "needs_background": "light"
          }
        }
      ]
    },
    {
      "cell_type": "code",
      "source": [
        "nulls = data.isnull().sum()/data.shape[0] *100\n",
        "nulls"
      ],
      "metadata": {
        "colab": {
          "base_uri": "https://localhost:8080/"
        },
        "id": "km1BxplCss3c",
        "outputId": "d11dc68a-d9b2-49e2-d1e6-c56a34ae8df6"
      },
      "execution_count": 115,
      "outputs": [
        {
          "output_type": "execute_result",
          "data": {
            "text/plain": [
              "regio1             0.0\n",
              "geo_plz            0.0\n",
              "heatingType        0.0\n",
              "newlyConst         0.0\n",
              "yearConstructed    0.0\n",
              "cellar             0.0\n",
              "livingSpace        0.0\n",
              "condition          0.0\n",
              "typeOfFlat         0.0\n",
              "noRooms            0.0\n",
              "garden             0.0\n",
              "totalRent          0.0\n",
              "hasKitchen         0.0\n",
              "lift               0.0\n",
              "floor              0.0\n",
              "heatingType        0.0\n",
              "condition          0.0\n",
              "typeOfFlat         0.0\n",
              "dtype: float64"
            ]
          },
          "metadata": {},
          "execution_count": 115
        }
      ]
    },
    {
      "cell_type": "code",
      "source": [
        "corr = data.corr()\n",
        "sns.heatmap(corr, xticklabels=corr.columns, yticklabels=corr.columns)\n",
        "plt.show()"
      ],
      "metadata": {
        "colab": {
          "base_uri": "https://localhost:8080/",
          "height": 342
        },
        "id": "LBiUsQb2v25N",
        "outputId": "878634a0-ff76-440e-9d59-fb34250e0f62"
      },
      "execution_count": 121,
      "outputs": [
        {
          "output_type": "display_data",
          "data": {
            "text/plain": [
              "<Figure size 432x288 with 2 Axes>"
            ],
            "image/png": "[encoded data removed]"
          },
          "metadata": {
            "needs_background": "light"
          }
        }
      ]
    },
    {
      "cell_type": "code",
      "source": [
        "data.describe()"
      ],
      "metadata": {
        "colab": {
          "base_uri": "https://localhost:8080/",
          "height": 300
        },
        "id": "fZ37SHv4uwBf",
        "outputId": "c4fd2221-d903-4020-c70b-15d77f6d092d"
      },
      "execution_count": 122,
      "outputs": [
        {
          "output_type": "execute_result",
          "data": {
            "text/plain": [
              "             geo_plz  yearConstructed    livingSpace       noRooms  \\\n",
              "count  146112.000000    146112.000000  146112.000000  146112.00000   \n",
              "mean    36047.263264      1965.204638      72.801171       2.63104   \n",
              "std     27807.370519        46.751619      30.294679       0.94900   \n",
              "min      1057.000000      1027.000000       0.000000       1.00000   \n",
              "25%      9120.000000      1940.000000      54.660000       2.00000   \n",
              "50%     37339.000000      1972.000000      67.000000       3.00000   \n",
              "75%     54292.000000      1996.000000      85.000000       3.00000   \n",
              "max     99994.000000      2022.000000     527.000000      10.00000   \n",
              "\n",
              "           totalRent          floor  \n",
              "count  146112.000000  146112.000000  \n",
              "mean      819.745603       2.095913  \n",
              "std       618.512841       1.586489  \n",
              "min         0.000000      -1.000000  \n",
              "25%       470.000000       1.000000  \n",
              "50%       650.000000       2.000000  \n",
              "75%       990.000000       3.000000  \n",
              "max     64651.000000      12.000000  "
            ],
            "text/html": [
              "\n",
              "  <div id=\"df-515556b8-4ed8-4b6e-9c40-4a25d12245d1\">\n",
              "    <div class=\"colab-df-container\">\n",
              "      <div>\n",
              "<style scoped>\n",
              "    .dataframe tbody tr th:only-of-type {\n",
              "        vertical-align: middle;\n",
              "    }\n",
              "\n",
              "    .dataframe tbody tr th {\n",
              "        vertical-align: top;\n",
              "    }\n",
              "\n",
              "    .dataframe thead th {\n",
              "        text-align: right;\n",
              "    }\n",
              "</style>\n",
              "<table border=\"1\" class=\"dataframe\">\n",
              "  <thead>\n",
              "    <tr style=\"text-align: right;\">\n",
              "      <th></th>\n",
              "      <th>geo_plz</th>\n",
              "      <th>yearConstructed</th>\n",
              "      <th>livingSpace</th>\n",
              "      <th>noRooms</th>\n",
              "      <th>totalRent</th>\n",
              "      <th>floor</th>\n",
              "    </tr>\n",
              "  </thead>\n",
              "  <tbody>\n",
              "    <tr>\n",
              "      <th>count</th>\n",
              "      <td>146112.000000</td>\n",
              "      <td>146112.000000</td>\n",
              "      <td>146112.000000</td>\n",
              "      <td>146112.00000</td>\n",
              "      <td>146112.000000</td>\n",
              "      <td>146112.000000</td>\n",
              "    </tr>\n",
              "    <tr>\n",
              "      <th>mean</th>\n",
              "      <td>36047.263264</td>\n",
              "      <td>1965.204638</td>\n",
              "      <td>72.801171</td>\n",
              "      <td>2.63104</td>\n",
              "      <td>819.745603</td>\n",
              "      <td>2.095913</td>\n",
              "    </tr>\n",
              "    <tr>\n",
              "      <th>std</th>\n",
              "      <td>27807.370519</td>\n",
              "      <td>46.751619</td>\n",
              "      <td>30.294679</td>\n",
              "      <td>0.94900</td>\n",
              "      <td>618.512841</td>\n",
              "      <td>1.586489</td>\n",
              "    </tr>\n",
              "    <tr>\n",
              "      <th>min</th>\n",
              "      <td>1057.000000</td>\n",
              "      <td>1027.000000</td>\n",
              "      <td>0.000000</td>\n",
              "      <td>1.00000</td>\n",
              "      <td>0.000000</td>\n",
              "      <td>-1.000000</td>\n",
              "    </tr>\n",
              "    <tr>\n",
              "      <th>25%</th>\n",
              "      <td>9120.000000</td>\n",
              "      <td>1940.000000</td>\n",
              "      <td>54.660000</td>\n",
              "      <td>2.00000</td>\n",
              "      <td>470.000000</td>\n",
              "      <td>1.000000</td>\n",
              "    </tr>\n",
              "    <tr>\n",
              "      <th>50%</th>\n",
              "      <td>37339.000000</td>\n",
              "      <td>1972.000000</td>\n",
              "      <td>67.000000</td>\n",
              "      <td>3.00000</td>\n",
              "      <td>650.000000</td>\n",
              "      <td>2.000000</td>\n",
              "    </tr>\n",
              "    <tr>\n",
              "      <th>75%</th>\n",
              "      <td>54292.000000</td>\n",
              "      <td>1996.000000</td>\n",
              "      <td>85.000000</td>\n",
              "      <td>3.00000</td>\n",
              "      <td>990.000000</td>\n",
              "      <td>3.000000</td>\n",
              "    </tr>\n",
              "    <tr>\n",
              "      <th>max</th>\n",
              "      <td>99994.000000</td>\n",
              "      <td>2022.000000</td>\n",
              "      <td>527.000000</td>\n",
              "      <td>10.00000</td>\n",
              "      <td>64651.000000</td>\n",
              "      <td>12.000000</td>\n",
              "    </tr>\n",
              "  </tbody>\n",
              "</table>\n",
              "</div>\n",
              "      <button class=\"colab-df-convert\" onclick=\"convertToInteractive('df-515556b8-4ed8-4b6e-9c40-4a25d12245d1')\"\n",
              "              title=\"Convert this dataframe to an interactive table.\"\n",
              "              style=\"display:none;\">\n",
              "        \n",
              "  <svg xmlns=\"http://www.w3.org/2000/svg\" height=\"24px\"viewBox=\"0 0 24 24\"\n",
              "       width=\"24px\">\n",
              "    <path d=\"M0 0h24v24H0V0z\" fill=\"none\"/>\n",
              "    <path d=\"M18.56 5.44l.94 2.06.94-2.06 2.06-.94-2.06-.94-.94-2.06-.94 2.06-2.06.94zm-11 1L8.5 8.5l.94-2.06 2.06-.94-2.06-.94L8.5 2.5l-.94 2.06-2.06.94zm10 10l.94 2.06.94-2.06 2.06-.94-2.06-.94-.94-2.06-.94 2.06-2.06.94z\"/><path d=\"M17.41 7.96l-1.37-1.37c-.4-.4-.92-.59-1.43-.59-.52 0-1.04.2-1.43.59L10.3 9.45l-7.72 7.72c-.78.78-.78 2.05 0 2.83L4 21.41c.39.39.9.59 1.41.59.51 0 1.02-.2 1.41-.59l7.78-7.78 2.81-2.81c.8-.78.8-2.07 0-2.86zM5.41 20L4 18.59l7.72-7.72 1.47 1.35L5.41 20z\"/>\n",
              "  </svg>\n",
              "      </button>\n",
              "      \n",
              "  <style>\n",
              "    .colab-df-container {\n",
              "      display:flex;\n",
              "      flex-wrap:wrap;\n",
              "      gap: 12px;\n",
              "    }\n",
              "\n",
              "    .colab-df-convert {\n",
              "      background-color: #E8F0FE;\n",
              "      border: none;\n",
              "      border-radius: 50%;\n",
              "      cursor: pointer;\n",
              "      display: none;\n",
              "      fill: #1967D2;\n",
              "      height: 32px;\n",
              "      padding: 0 0 0 0;\n",
              "      width: 32px;\n",
              "    }\n",
              "\n",
              "    .colab-df-convert:hover {\n",
              "      background-color: #E2EBFA;\n",
              "      box-shadow: 0px 1px 2px rgba(60, 64, 67, 0.3), 0px 1px 3px 1px rgba(60, 64, 67, 0.15);\n",
              "      fill: #174EA6;\n",
              "    }\n",
              "\n",
              "    [theme=dark] .colab-df-convert {\n",
              "      background-color: #3B4455;\n",
              "      fill: #D2E3FC;\n",
              "    }\n",
              "\n",
              "    [theme=dark] .colab-df-convert:hover {\n",
              "      background-color: #434B5C;\n",
              "      box-shadow: 0px 1px 3px 1px rgba(0, 0, 0, 0.15);\n",
              "      filter: drop-shadow(0px 1px 2px rgba(0, 0, 0, 0.3));\n",
              "      fill: #FFFFFF;\n",
              "    }\n",
              "  </style>\n",
              "\n",
              "      <script>\n",
              "        const buttonEl =\n",
              "          document.querySelector('#df-515556b8-4ed8-4b6e-9c40-4a25d12245d1 button.colab-df-convert');\n",
              "        buttonEl.style.display =\n",
              "          google.colab.kernel.accessAllowed ? 'block' : 'none';\n",
              "\n",
              "        async function convertToInteractive(key) {\n",
              "          const element = document.querySelector('#df-515556b8-4ed8-4b6e-9c40-4a25d12245d1');\n",
              "          const dataTable =\n",
              "            await google.colab.kernel.invokeFunction('convertToInteractive',\n",
              "                                                     [key], {});\n",
              "          if (!dataTable) return;\n",
              "\n",
              "          const docLinkHtml = 'Like what you see? Visit the ' +\n",
              "            '<a target=\"_blank\" href=https://colab.research.google.com/notebooks/data_table.ipynb>data table notebook</a>'\n",
              "            + ' to learn more about interactive tables.';\n",
              "          element.innerHTML = '';\n",
              "          dataTable['output_type'] = 'display_data';\n",
              "          await google.colab.output.renderOutput(dataTable, element);\n",
              "          const docLink = document.createElement('div');\n",
              "          docLink.innerHTML = docLinkHtml;\n",
              "          element.appendChild(docLink);\n",
              "        }\n",
              "      </script>\n",
              "    </div>\n",
              "  </div>\n",
              "  "
            ]
          },
          "metadata": {},
          "execution_count": 122
        }
      ]
    },
    {
      "cell_type": "code",
      "source": [
        "plot = sns.lineplot(data=data, x=\"yearConstructed\", y=\"newlyConst\", hue=\"regio1\", ci=None)\n",
        "plot.legend(loc='upper right', bbox_to_anchor=(1.6, 1))"
      ],
      "metadata": {
        "id": "l4jwz4s5w54R",
        "colab": {
          "base_uri": "https://localhost:8080/",
          "height": 301
        },
        "outputId": "0f540f0c-6846-4222-a109-3c9a0feac8a5"
      },
      "execution_count": 118,
      "outputs": [
        {
          "output_type": "execute_result",
          "data": {
            "text/plain": [
              "<matplotlib.legend.Legend at 0x7f6aab616390>"
            ]
          },
          "metadata": {},
          "execution_count": 118
        },
        {
          "output_type": "display_data",
          "data": {
            "text/plain": [
              "<Figure size 432x288 with 1 Axes>"
            ],
            "image/png": "[encoded data removed]"
          },
          "metadata": {
            "needs_background": "light"
          }
        }
      ]
    },
    {
      "cell_type": "code",
      "source": [
        "data.drop(['newlyConst'],axis=1,inplace = True)"
      ],
      "metadata": {
        "id": "AdU90FP_u4Ht"
      },
      "execution_count": 119,
      "outputs": []
    },
    {
      "cell_type": "code",
      "source": [
        "sns.catplot(x=\"noRooms\", y=\"livingSpace\", data=data)\n",
        "fig = plt.gcf()\n",
        "fig.set_size_inches(10, 5)"
      ],
      "metadata": {
        "colab": {
          "base_uri": "https://localhost:8080/",
          "height": 369
        },
        "id": "0rx4HYLQpbF-",
        "outputId": "6b455ab5-2da4-45c5-8935-9dbe7053df3c"
      },
      "execution_count": 123,
      "outputs": [
        {
          "output_type": "display_data",
          "data": {
            "text/plain": [
              "<Figure size 720x360 with 1 Axes>"
            ],
            "image/png": "[encoded data removed]"
          },
          "metadata": {
            "needs_background": "light"
          }
        }
      ]
    },
    {
      "cell_type": "code",
      "source": [
        "# sns.catplot(x=\"totalRent\", y=\"regio1\",kind=\"swarm\", hue=\"garden\", data=data)"
      ],
      "metadata": {
        "id": "VZbCyUclrGUz"
      },
      "execution_count": null,
      "outputs": []
    },
    {
      "cell_type": "code",
      "source": [
        "chart = sns.countplot(x=\"regio1\", hue=\"balcony\", data=data)\n",
        "chart.set_xticklabels(chart.get_xticklabels(), rotation=90)"
      ],
      "metadata": {
        "colab": {
          "base_uri": "https://localhost:8080/",
          "height": 681
        },
        "id": "nTC1GUu-0kQf",
        "outputId": "54d6b617-91ee-45b5-a841-c7ab226fc0f8"
      },
      "execution_count": null,
      "outputs": [
        {
          "output_type": "execute_result",
          "data": {
            "text/plain": [
              "[Text(0, 0, 'Nordrhein_Westfalen'),\n",
              " Text(0, 0, 'Sachsen'),\n",
              " Text(0, 0, 'Bremen'),\n",
              " Text(0, 0, 'Baden_Württemberg'),\n",
              " Text(0, 0, 'Thüringen'),\n",
              " Text(0, 0, 'Niedersachsen'),\n",
              " Text(0, 0, 'Schleswig_Holstein'),\n",
              " Text(0, 0, 'Bayern'),\n",
              " Text(0, 0, 'Hamburg'),\n",
              " Text(0, 0, 'Sachsen_Anhalt'),\n",
              " Text(0, 0, 'Hessen'),\n",
              " Text(0, 0, 'Berlin'),\n",
              " Text(0, 0, 'Brandenburg'),\n",
              " Text(0, 0, 'Mecklenburg_Vorpommern'),\n",
              " Text(0, 0, 'Rheinland_Pfalz'),\n",
              " Text(0, 0, 'Saarland')]"
            ]
          },
          "metadata": {},
          "execution_count": 50
        },
        {
          "output_type": "display_data",
          "data": {
            "text/plain": [
              "<Figure size 432x288 with 1 Axes>"
            ],
            "image/png": "[encoded data removed]"
          },
          "metadata": {
            "needs_background": "light"
          }
        }
      ]
    },
    {
      "cell_type": "code",
      "source": [
        "data['yearBins'] = pd.cut(x=data['yearConstructed'], bins=[1000, 1100, 1200, 1300, 1400, 1500, 1600, 1700, 1800, 1900, 2000])"
      ],
      "metadata": {
        "id": "1EqSdqzh994L"
      },
      "execution_count": 155,
      "outputs": []
    },
    {
      "cell_type": "code",
      "source": [
        "chart = sns.boxplot(x=\"yearBins\", y=\"noRooms\", data=data)\n",
        "chart.set_xticklabels(chart.get_xticklabels(), rotation=90)"
      ],
      "metadata": {
        "colab": {
          "base_uri": "https://localhost:8080/",
          "height": 508
        },
        "id": "LXfBkVS--i_5",
        "outputId": "ed17d0ee-488c-41d2-df20-289dc51f63fb"
      },
      "execution_count": 156,
      "outputs": [
        {
          "output_type": "execute_result",
          "data": {
            "text/plain": [
              "[Text(0, 0, '(1000, 1100]'),\n",
              " Text(0, 0, '(1100, 1200]'),\n",
              " Text(0, 0, '(1200, 1300]'),\n",
              " Text(0, 0, '(1300, 1400]'),\n",
              " Text(0, 0, '(1400, 1500]'),\n",
              " Text(0, 0, '(1500, 1600]'),\n",
              " Text(0, 0, '(1600, 1700]'),\n",
              " Text(0, 0, '(1700, 1800]'),\n",
              " Text(0, 0, '(1800, 1900]'),\n",
              " Text(0, 0, '(1900, 2000]')]"
            ]
          },
          "metadata": {},
          "execution_count": 156
        },
        {
          "output_type": "display_data",
          "data": {
            "text/plain": [
              "<Figure size 432x288 with 1 Axes>"
            ],
            "image/png": "[encoded data removed]"
          },
          "metadata": {
            "needs_background": "light"
          }
        }
      ]
    },
    {
      "cell_type": "code",
      "source": [
        "ax = sns.boxplot(x=\"yearConstructed\", y=\"noRooms\", data=data)"
      ],
      "metadata": {
        "colab": {
          "base_uri": "https://localhost:8080/",
          "height": 279
        },
        "id": "kaofLHFb8V2K",
        "outputId": "827af763-7ab2-4b08-f1bc-42832f510d6b"
      },
      "execution_count": null,
      "outputs": [
        {
          "output_type": "display_data",
          "data": {
            "text/plain": [
              "<Figure size 432x288 with 1 Axes>"
            ],
            "image/png": "[encoded data removed]"
          },
          "metadata": {
            "needs_background": "light"
          }
        }
      ]
    },
    {
      "cell_type": "code",
      "source": [
        "chart = sns.countplot(x=\"regio1\", hue=\"garden\", data=data)\n",
        "chart.set_xticklabels(chart.get_xticklabels(), rotation=90)"
      ],
      "metadata": {
        "colab": {
          "base_uri": "https://localhost:8080/",
          "height": 681
        },
        "id": "NIKOpuIG7svo",
        "outputId": "03e6fc77-4932-4b93-ae33-9c91dc8eb0bd"
      },
      "execution_count": 157,
      "outputs": [
        {
          "output_type": "execute_result",
          "data": {
            "text/plain": [
              "[Text(0, 0, 'Nordrhein_Westfalen'),\n",
              " Text(0, 0, 'Sachsen'),\n",
              " Text(0, 0, 'Bremen'),\n",
              " Text(0, 0, 'Baden_Württemberg'),\n",
              " Text(0, 0, 'Thüringen'),\n",
              " Text(0, 0, 'Niedersachsen'),\n",
              " Text(0, 0, 'Schleswig_Holstein'),\n",
              " Text(0, 0, 'Bayern'),\n",
              " Text(0, 0, 'Hamburg'),\n",
              " Text(0, 0, 'Sachsen_Anhalt'),\n",
              " Text(0, 0, 'Hessen'),\n",
              " Text(0, 0, 'Brandenburg'),\n",
              " Text(0, 0, 'Mecklenburg_Vorpommern'),\n",
              " Text(0, 0, 'Berlin'),\n",
              " Text(0, 0, 'Rheinland_Pfalz'),\n",
              " Text(0, 0, 'Saarland')]"
            ]
          },
          "metadata": {},
          "execution_count": 157
        },
        {
          "output_type": "display_data",
          "data": {
            "text/plain": [
              "<Figure size 432x288 with 1 Axes>"
            ],
            "image/png": "[encoded data removed]"
          },
          "metadata": {
            "needs_background": "light"
          }
        }
      ]
    },
    {
      "cell_type": "code",
      "source": [
        "conditions = ['does not have kitchen', 'has kitchen']\n",
        "doesNotHave = len(data[data['hasKitchen'] == 0])\n",
        "doesHave = len(data[data['hasKitchen'] == 1])\n",
        "all_cases_in_each_group = [doesNotHave, doesHave]\n",
        "plt.pie(all_cases_in_each_group, labels=conditions, labeldistance=1.15, autopct='%1.1f%%',wedgeprops={'linewidth': 3, 'edgecolor': 'white'})\n",
        "plt.show()"
      ],
      "metadata": {
        "colab": {
          "base_uri": "https://localhost:8080/",
          "height": 248
        },
        "id": "LHpMH3TKGLfQ",
        "outputId": "b933ca53-957c-40db-d972-6163a655846c"
      },
      "execution_count": null,
      "outputs": [
        {
          "output_type": "display_data",
          "data": {
            "text/plain": [
              "<Figure size 432x288 with 1 Axes>"
            ],
            "image/png": "[encoded data removed]"
          },
          "metadata": {}
        }
      ]
    },
    {
      "cell_type": "code",
      "source": [
        "chart = sns.countplot(x=\"regio1\", hue=\"hasKitchen\", data=data)\n",
        "chart.set_xticklabels(chart.get_xticklabels(), rotation=90)"
      ],
      "metadata": {
        "colab": {
          "base_uri": "https://localhost:8080/",
          "height": 681
        },
        "id": "tYHnFkB-71zo",
        "outputId": "4672b06d-015e-45ca-9c04-173970c79638"
      },
      "execution_count": null,
      "outputs": [
        {
          "output_type": "execute_result",
          "data": {
            "text/plain": [
              "[Text(0, 0, 'Nordrhein_Westfalen'),\n",
              " Text(0, 0, 'Sachsen'),\n",
              " Text(0, 0, 'Bremen'),\n",
              " Text(0, 0, 'Baden_Württemberg'),\n",
              " Text(0, 0, 'Thüringen'),\n",
              " Text(0, 0, 'Niedersachsen'),\n",
              " Text(0, 0, 'Schleswig_Holstein'),\n",
              " Text(0, 0, 'Bayern'),\n",
              " Text(0, 0, 'Hamburg'),\n",
              " Text(0, 0, 'Sachsen_Anhalt'),\n",
              " Text(0, 0, 'Hessen'),\n",
              " Text(0, 0, 'Berlin'),\n",
              " Text(0, 0, 'Brandenburg'),\n",
              " Text(0, 0, 'Mecklenburg_Vorpommern'),\n",
              " Text(0, 0, 'Rheinland_Pfalz'),\n",
              " Text(0, 0, 'Saarland')]"
            ]
          },
          "metadata": {},
          "execution_count": 53
        },
        {
          "output_type": "display_data",
          "data": {
            "text/plain": [
              "<Figure size 432x288 with 1 Axes>"
            ],
            "image/png": "[encoded data removed]"
          },
          "metadata": {
            "needs_background": "light"
          }
        }
      ]
    },
    {
      "cell_type": "code",
      "source": [
        "plt=sns.lineplot(data=data, x=\"noRooms\", y=\"livingSpace\", hue=\"regio1\", ci=None)\n",
        "plt.legend(loc='upper right', bbox_to_anchor=(1.6, 1.1))"
      ],
      "metadata": {
        "colab": {
          "base_uri": "https://localhost:8080/",
          "height": 313
        },
        "id": "e4K42OfIPCZp",
        "outputId": "3a8999d9-e306-4f3e-ad7b-13065212e18c"
      },
      "execution_count": 124,
      "outputs": [
        {
          "output_type": "execute_result",
          "data": {
            "text/plain": [
              "<matplotlib.legend.Legend at 0x7f6aab3ae3d0>"
            ]
          },
          "metadata": {},
          "execution_count": 124
        },
        {
          "output_type": "display_data",
          "data": {
            "text/plain": [
              "<Figure size 432x288 with 1 Axes>"
            ],
            "image/png": "[encoded data removed]"
          },
          "metadata": {
            "needs_background": "light"
          }
        }
      ]
    },
    {
      "cell_type": "code",
      "source": [
        "plt=sns.lineplot(data=data, x=\"noRooms\", y=\"livingSpace\", ci=None)\n",
        "plt.legend(loc='upper right', bbox_to_anchor=(1.6, 1.1))"
      ],
      "metadata": {
        "colab": {
          "base_uri": "https://localhost:8080/",
          "height": 331
        },
        "id": "TJjrgngYQiia",
        "outputId": "7f1d53d8-d4aa-48ca-e946-c92b54456800"
      },
      "execution_count": 125,
      "outputs": [
        {
          "output_type": "stream",
          "name": "stderr",
          "text": [
            "No handles with labels found to put in legend.\n"
          ]
        },
        {
          "output_type": "execute_result",
          "data": {
            "text/plain": [
              "<matplotlib.legend.Legend at 0x7f6aab4f5550>"
            ]
          },
          "metadata": {},
          "execution_count": 125
        },
        {
          "output_type": "display_data",
          "data": {
            "text/plain": [
              "<Figure size 432x288 with 1 Axes>"
            ],
            "image/png": "[encoded data removed]"
          },
          "metadata": {
            "needs_background": "light"
          }
        }
      ]
    },
    {
      "cell_type": "code",
      "source": [
        "data.drop(['noRooms'],axis=1,inplace = True)"
      ],
      "metadata": {
        "id": "JdhQfiGzzZku"
      },
      "execution_count": 158,
      "outputs": []
    },
    {
      "cell_type": "code",
      "source": [
        "chart = sns.countplot(x=\"regio1\", hue=\"cellar\", data=data)\n",
        "chart.set_xticklabels(chart.get_xticklabels(), rotation=90)"
      ],
      "metadata": {
        "colab": {
          "base_uri": "https://localhost:8080/",
          "height": 681
        },
        "id": "N5AR4st87S3g",
        "outputId": "0c85777a-3998-4c33-ba93-38d153226ec7"
      },
      "execution_count": 159,
      "outputs": [
        {
          "output_type": "execute_result",
          "data": {
            "text/plain": [
              "[Text(0, 0, 'Nordrhein_Westfalen'),\n",
              " Text(0, 0, 'Sachsen'),\n",
              " Text(0, 0, 'Bremen'),\n",
              " Text(0, 0, 'Baden_Württemberg'),\n",
              " Text(0, 0, 'Thüringen'),\n",
              " Text(0, 0, 'Niedersachsen'),\n",
              " Text(0, 0, 'Schleswig_Holstein'),\n",
              " Text(0, 0, 'Bayern'),\n",
              " Text(0, 0, 'Hamburg'),\n",
              " Text(0, 0, 'Sachsen_Anhalt'),\n",
              " Text(0, 0, 'Hessen'),\n",
              " Text(0, 0, 'Brandenburg'),\n",
              " Text(0, 0, 'Mecklenburg_Vorpommern'),\n",
              " Text(0, 0, 'Berlin'),\n",
              " Text(0, 0, 'Rheinland_Pfalz'),\n",
              " Text(0, 0, 'Saarland')]"
            ]
          },
          "metadata": {},
          "execution_count": 159
        },
        {
          "output_type": "display_data",
          "data": {
            "text/plain": [
              "<Figure size 432x288 with 1 Axes>"
            ],
            "image/png": "[encoded data removed]"
          },
          "metadata": {
            "needs_background": "light"
          }
        }
      ]
    },
    {
      "cell_type": "code",
      "source": [
        "chart = sns.countplot(data['regio1'])\n",
        "fig = plt.gcf()\n",
        "fig.set_size_inches(20, 10)\n",
        "chart.set_xticklabels(chart.get_xticklabels(), rotation=90)"
      ],
      "metadata": {
        "colab": {
          "base_uri": "https://localhost:8080/",
          "height": 1000
        },
        "id": "SwnmRcssBF3e",
        "outputId": "96494992-0946-4e0e-cdd9-5b088eb40d31"
      },
      "execution_count": null,
      "outputs": [
        {
          "output_type": "stream",
          "name": "stderr",
          "text": [
            "/usr/local/lib/python3.7/dist-packages/seaborn/_decorators.py:43: FutureWarning: Pass the following variable as a keyword arg: x. From version 0.12, the only valid positional argument will be `data`, and passing other arguments without an explicit keyword will result in an error or misinterpretation.\n",
            "  FutureWarning\n"
          ]
        },
        {
          "output_type": "execute_result",
          "data": {
            "text/plain": [
              "[Text(0, 0, 'Nordrhein_Westfalen'),\n",
              " Text(0, 0, 'Sachsen'),\n",
              " Text(0, 0, 'Bremen'),\n",
              " Text(0, 0, 'Baden_Württemberg'),\n",
              " Text(0, 0, 'Thüringen'),\n",
              " Text(0, 0, 'Niedersachsen'),\n",
              " Text(0, 0, 'Schleswig_Holstein'),\n",
              " Text(0, 0, 'Bayern'),\n",
              " Text(0, 0, 'Hamburg'),\n",
              " Text(0, 0, 'Sachsen_Anhalt'),\n",
              " Text(0, 0, 'Hessen'),\n",
              " Text(0, 0, 'Brandenburg'),\n",
              " Text(0, 0, 'Mecklenburg_Vorpommern'),\n",
              " Text(0, 0, 'Berlin'),\n",
              " Text(0, 0, 'Rheinland_Pfalz'),\n",
              " Text(0, 0, 'Saarland')]"
            ]
          },
          "metadata": {},
          "execution_count": 102
        },
        {
          "output_type": "display_data",
          "data": {
            "text/plain": [
              "<Figure size 1440x720 with 1 Axes>"
            ],
            "image/png": "[encoded data removed]"
          },
          "metadata": {
            "needs_background": "light"
          }
        }
      ]
    },
    {
      "cell_type": "code",
      "source": [
        "chart = sns.countplot(data['typeOfFlat'])\n",
        "fig = plt.gcf()\n",
        "fig.set_size_inches(20, 10)\n",
        "chart.set_xticklabels(chart.get_xticklabels(), rotation=90)"
      ],
      "metadata": {
        "colab": {
          "base_uri": "https://localhost:8080/",
          "height": 940
        },
        "id": "Bfq7Fs6mBdsv",
        "outputId": "852013c0-b55f-4eaf-fff1-d6da34624a68"
      },
      "execution_count": null,
      "outputs": [
        {
          "output_type": "stream",
          "name": "stderr",
          "text": [
            "/usr/local/lib/python3.7/dist-packages/seaborn/_decorators.py:43: FutureWarning: Pass the following variable as a keyword arg: x. From version 0.12, the only valid positional argument will be `data`, and passing other arguments without an explicit keyword will result in an error or misinterpretation.\n",
            "  FutureWarning\n"
          ]
        },
        {
          "output_type": "execute_result",
          "data": {
            "text/plain": [
              "[Text(0, 0, 'ground_floor'),\n",
              " Text(0, 0, 'apartment'),\n",
              " Text(0, 0, 'roof_storey'),\n",
              " Text(0, 0, 'Not Available'),\n",
              " Text(0, 0, 'terraced_flat'),\n",
              " Text(0, 0, 'other'),\n",
              " Text(0, 0, 'maisonette'),\n",
              " Text(0, 0, 'raised_ground_floor'),\n",
              " Text(0, 0, 'penthouse'),\n",
              " Text(0, 0, 'half_basement'),\n",
              " Text(0, 0, 'loft')]"
            ]
          },
          "metadata": {},
          "execution_count": 103
        },
        {
          "output_type": "display_data",
          "data": {
            "text/plain": [
              "<Figure size 1440x720 with 1 Axes>"
            ],
            "image/png": "[encoded data removed]"
          },
          "metadata": {
            "needs_background": "light"
          }
        }
      ]
    },
    {
      "cell_type": "code",
      "source": [
        "chart = sns.countplot(data['condition'])\n",
        "fig = plt.gcf()\n",
        "fig.set_size_inches(20, 10)\n",
        "chart.set_xticklabels(chart.get_xticklabels(), rotation=90)"
      ],
      "metadata": {
        "colab": {
          "base_uri": "https://localhost:8080/",
          "height": 1000
        },
        "id": "740gosAYBxc2",
        "outputId": "dda98579-5b0e-4ba5-c698-14bb3916f837"
      },
      "execution_count": null,
      "outputs": [
        {
          "output_type": "stream",
          "name": "stderr",
          "text": [
            "/usr/local/lib/python3.7/dist-packages/seaborn/_decorators.py:43: FutureWarning: Pass the following variable as a keyword arg: x. From version 0.12, the only valid positional argument will be `data`, and passing other arguments without an explicit keyword will result in an error or misinterpretation.\n",
            "  FutureWarning\n"
          ]
        },
        {
          "output_type": "execute_result",
          "data": {
            "text/plain": [
              "[Text(0, 0, 'well_kept'),\n",
              " Text(0, 0, 'first_time_use'),\n",
              " Text(0, 0, 'refurbished'),\n",
              " Text(0, 0, 'Not Available'),\n",
              " Text(0, 0, 'first_time_use_after_refurbishment'),\n",
              " Text(0, 0, 'mint_condition'),\n",
              " Text(0, 0, 'fully_renovated'),\n",
              " Text(0, 0, 'modernized'),\n",
              " Text(0, 0, 'negotiable'),\n",
              " Text(0, 0, 'need_of_renovation'),\n",
              " Text(0, 0, 'ripe_for_demolition')]"
            ]
          },
          "metadata": {},
          "execution_count": 104
        },
        {
          "output_type": "display_data",
          "data": {
            "text/plain": [
              "<Figure size 1440x720 with 1 Axes>"
            ],
            "image/png": "[encoded data removed]"
          },
          "metadata": {
            "needs_background": "light"
          }
        }
      ]
    },
    {
      "cell_type": "code",
      "source": [
        "data.plot.scatter(x='yearConstructed', y='condition')"
      ],
      "metadata": {
        "colab": {
          "base_uri": "https://localhost:8080/",
          "height": 296
        },
        "id": "Xbh1F_g_CkQ0",
        "outputId": "456391d7-a7e0-47f0-b9be-d12129bf1c93"
      },
      "execution_count": null,
      "outputs": [
        {
          "output_type": "execute_result",
          "data": {
            "text/plain": [
              "<matplotlib.axes._subplots.AxesSubplot at 0x7f78da6c7110>"
            ]
          },
          "metadata": {},
          "execution_count": 105
        },
        {
          "output_type": "display_data",
          "data": {
            "text/plain": [
              "<Figure size 432x288 with 1 Axes>"
            ],
            "image/png": "[encoded data removed]"
          },
          "metadata": {
            "needs_background": "light"
          }
        }
      ]
    },
    {
      "cell_type": "code",
      "source": [
        "chart = sns.countplot(data['yearConstructed'])"
      ],
      "metadata": {
        "colab": {
          "base_uri": "https://localhost:8080/",
          "height": 334
        },
        "id": "4u6zlBEOC3Ad",
        "outputId": "4c991a57-6fbe-4018-fc38-8ba05fba6041"
      },
      "execution_count": null,
      "outputs": [
        {
          "output_type": "stream",
          "name": "stderr",
          "text": [
            "/usr/local/lib/python3.7/dist-packages/seaborn/_decorators.py:43: FutureWarning: Pass the following variable as a keyword arg: x. From version 0.12, the only valid positional argument will be `data`, and passing other arguments without an explicit keyword will result in an error or misinterpretation.\n",
            "  FutureWarning\n"
          ]
        },
        {
          "output_type": "display_data",
          "data": {
            "text/plain": [
              "<Figure size 432x288 with 1 Axes>"
            ],
            "image/png": "[encoded data removed]"
          },
          "metadata": {
            "needs_background": "light"
          }
        }
      ]
    },
    {
      "cell_type": "code",
      "source": [
        "data.plot.scatter(x='yearConstructed', y='noRooms')"
      ],
      "metadata": {
        "colab": {
          "base_uri": "https://localhost:8080/",
          "height": 296
        },
        "id": "CGf7T6zvDV08",
        "outputId": "d99d0823-3869-4b96-8084-61a76a9e1337"
      },
      "execution_count": null,
      "outputs": [
        {
          "output_type": "execute_result",
          "data": {
            "text/plain": [
              "<matplotlib.axes._subplots.AxesSubplot at 0x7fd5beec6a10>"
            ]
          },
          "metadata": {},
          "execution_count": 34
        },
        {
          "output_type": "display_data",
          "data": {
            "text/plain": [
              "<Figure size 432x288 with 1 Axes>"
            ],
            "image/png": "[encoded data removed]"
          },
          "metadata": {
            "needs_background": "light"
          }
        }
      ]
    },
    {
      "cell_type": "code",
      "source": [
        "data.groupby('regio1', as_index=False)['totalRent'].mean()"
      ],
      "metadata": {
        "colab": {
          "base_uri": "https://localhost:8080/",
          "height": 551
        },
        "id": "K-MCAzLYFe1g",
        "outputId": "59ea7ee3-6b63-4906-89b8-b7eb6841a026"
      },
      "execution_count": 160,
      "outputs": [
        {
          "output_type": "execute_result",
          "data": {
            "text/plain": [
              "                    regio1    totalRent\n",
              "0        Baden_Württemberg  1155.408211\n",
              "1                   Bayern  1231.976816\n",
              "2                   Berlin  1378.129993\n",
              "3              Brandenburg   664.131449\n",
              "4                   Bremen   806.204912\n",
              "5                  Hamburg  1394.259044\n",
              "6                   Hessen  1211.329766\n",
              "7   Mecklenburg_Vorpommern   552.381508\n",
              "8            Niedersachsen   783.801472\n",
              "9      Nordrhein_Westfalen   784.308084\n",
              "10         Rheinland_Pfalz   882.305759\n",
              "11                Saarland   715.628887\n",
              "12                 Sachsen   574.547055\n",
              "13          Sachsen_Anhalt   512.883690\n",
              "14      Schleswig_Holstein   816.149350\n",
              "15               Thüringen   508.953728"
            ],
            "text/html": [
              "\n",
              "  <div id=\"df-a5940df8-48f9-4c5c-b2bf-297d4f1b8f4c\">\n",
              "    <div class=\"colab-df-container\">\n",
              "      <div>\n",
              "<style scoped>\n",
              "    .dataframe tbody tr th:only-of-type {\n",
              "        vertical-align: middle;\n",
              "    }\n",
              "\n",
              "    .dataframe tbody tr th {\n",
              "        vertical-align: top;\n",
              "    }\n",
              "\n",
              "    .dataframe thead th {\n",
              "        text-align: right;\n",
              "    }\n",
              "</style>\n",
              "<table border=\"1\" class=\"dataframe\">\n",
              "  <thead>\n",
              "    <tr style=\"text-align: right;\">\n",
              "      <th></th>\n",
              "      <th>regio1</th>\n",
              "      <th>totalRent</th>\n",
              "    </tr>\n",
              "  </thead>\n",
              "  <tbody>\n",
              "    <tr>\n",
              "      <th>0</th>\n",
              "      <td>Baden_Württemberg</td>\n",
              "      <td>1155.408211</td>\n",
              "    </tr>\n",
              "    <tr>\n",
              "      <th>1</th>\n",
              "      <td>Bayern</td>\n",
              "      <td>1231.976816</td>\n",
              "    </tr>\n",
              "    <tr>\n",
              "      <th>2</th>\n",
              "      <td>Berlin</td>\n",
              "      <td>1378.129993</td>\n",
              "    </tr>\n",
              "    <tr>\n",
              "      <th>3</th>\n",
              "      <td>Brandenburg</td>\n",
              "      <td>664.131449</td>\n",
              "    </tr>\n",
              "    <tr>\n",
              "      <th>4</th>\n",
              "      <td>Bremen</td>\n",
              "      <td>806.204912</td>\n",
              "    </tr>\n",
              "    <tr>\n",
              "      <th>5</th>\n",
              "      <td>Hamburg</td>\n",
              "      <td>1394.259044</td>\n",
              "    </tr>\n",
              "    <tr>\n",
              "      <th>6</th>\n",
              "      <td>Hessen</td>\n",
              "      <td>1211.329766</td>\n",
              "    </tr>\n",
              "    <tr>\n",
              "      <th>7</th>\n",
              "      <td>Mecklenburg_Vorpommern</td>\n",
              "      <td>552.381508</td>\n",
              "    </tr>\n",
              "    <tr>\n",
              "      <th>8</th>\n",
              "      <td>Niedersachsen</td>\n",
              "      <td>783.801472</td>\n",
              "    </tr>\n",
              "    <tr>\n",
              "      <th>9</th>\n",
              "      <td>Nordrhein_Westfalen</td>\n",
              "      <td>784.308084</td>\n",
              "    </tr>\n",
              "    <tr>\n",
              "      <th>10</th>\n",
              "      <td>Rheinland_Pfalz</td>\n",
              "      <td>882.305759</td>\n",
              "    </tr>\n",
              "    <tr>\n",
              "      <th>11</th>\n",
              "      <td>Saarland</td>\n",
              "      <td>715.628887</td>\n",
              "    </tr>\n",
              "    <tr>\n",
              "      <th>12</th>\n",
              "      <td>Sachsen</td>\n",
              "      <td>574.547055</td>\n",
              "    </tr>\n",
              "    <tr>\n",
              "      <th>13</th>\n",
              "      <td>Sachsen_Anhalt</td>\n",
              "      <td>512.883690</td>\n",
              "    </tr>\n",
              "    <tr>\n",
              "      <th>14</th>\n",
              "      <td>Schleswig_Holstein</td>\n",
              "      <td>816.149350</td>\n",
              "    </tr>\n",
              "    <tr>\n",
              "      <th>15</th>\n",
              "      <td>Thüringen</td>\n",
              "      <td>508.953728</td>\n",
              "    </tr>\n",
              "  </tbody>\n",
              "</table>\n",
              "</div>\n",
              "      <button class=\"colab-df-convert\" onclick=\"convertToInteractive('df-a5940df8-48f9-4c5c-b2bf-297d4f1b8f4c')\"\n",
              "              title=\"Convert this dataframe to an interactive table.\"\n",
              "              style=\"display:none;\">\n",
              "        \n",
              "  <svg xmlns=\"http://www.w3.org/2000/svg\" height=\"24px\"viewBox=\"0 0 24 24\"\n",
              "       width=\"24px\">\n",
              "    <path d=\"M0 0h24v24H0V0z\" fill=\"none\"/>\n",
              "    <path d=\"M18.56 5.44l.94 2.06.94-2.06 2.06-.94-2.06-.94-.94-2.06-.94 2.06-2.06.94zm-11 1L8.5 8.5l.94-2.06 2.06-.94-2.06-.94L8.5 2.5l-.94 2.06-2.06.94zm10 10l.94 2.06.94-2.06 2.06-.94-2.06-.94-.94-2.06-.94 2.06-2.06.94z\"/><path d=\"M17.41 7.96l-1.37-1.37c-.4-.4-.92-.59-1.43-.59-.52 0-1.04.2-1.43.59L10.3 9.45l-7.72 7.72c-.78.78-.78 2.05 0 2.83L4 21.41c.39.39.9.59 1.41.59.51 0 1.02-.2 1.41-.59l7.78-7.78 2.81-2.81c.8-.78.8-2.07 0-2.86zM5.41 20L4 18.59l7.72-7.72 1.47 1.35L5.41 20z\"/>\n",
              "  </svg>\n",
              "      </button>\n",
              "      \n",
              "  <style>\n",
              "    .colab-df-container {\n",
              "      display:flex;\n",
              "      flex-wrap:wrap;\n",
              "      gap: 12px;\n",
              "    }\n",
              "\n",
              "    .colab-df-convert {\n",
              "      background-color: #E8F0FE;\n",
              "      border: none;\n",
              "      border-radius: 50%;\n",
              "      cursor: pointer;\n",
              "      display: none;\n",
              "      fill: #1967D2;\n",
              "      height: 32px;\n",
              "      padding: 0 0 0 0;\n",
              "      width: 32px;\n",
              "    }\n",
              "\n",
              "    .colab-df-convert:hover {\n",
              "      background-color: #E2EBFA;\n",
              "      box-shadow: 0px 1px 2px rgba(60, 64, 67, 0.3), 0px 1px 3px 1px rgba(60, 64, 67, 0.15);\n",
              "      fill: #174EA6;\n",
              "    }\n",
              "\n",
              "    [theme=dark] .colab-df-convert {\n",
              "      background-color: #3B4455;\n",
              "      fill: #D2E3FC;\n",
              "    }\n",
              "\n",
              "    [theme=dark] .colab-df-convert:hover {\n",
              "      background-color: #434B5C;\n",
              "      box-shadow: 0px 1px 3px 1px rgba(0, 0, 0, 0.15);\n",
              "      filter: drop-shadow(0px 1px 2px rgba(0, 0, 0, 0.3));\n",
              "      fill: #FFFFFF;\n",
              "    }\n",
              "  </style>\n",
              "\n",
              "      <script>\n",
              "        const buttonEl =\n",
              "          document.querySelector('#df-a5940df8-48f9-4c5c-b2bf-297d4f1b8f4c button.colab-df-convert');\n",
              "        buttonEl.style.display =\n",
              "          google.colab.kernel.accessAllowed ? 'block' : 'none';\n",
              "\n",
              "        async function convertToInteractive(key) {\n",
              "          const element = document.querySelector('#df-a5940df8-48f9-4c5c-b2bf-297d4f1b8f4c');\n",
              "          const dataTable =\n",
              "            await google.colab.kernel.invokeFunction('convertToInteractive',\n",
              "                                                     [key], {});\n",
              "          if (!dataTable) return;\n",
              "\n",
              "          const docLinkHtml = 'Like what you see? Visit the ' +\n",
              "            '<a target=\"_blank\" href=https://colab.research.google.com/notebooks/data_table.ipynb>data table notebook</a>'\n",
              "            + ' to learn more about interactive tables.';\n",
              "          element.innerHTML = '';\n",
              "          dataTable['output_type'] = 'display_data';\n",
              "          await google.colab.output.renderOutput(dataTable, element);\n",
              "          const docLink = document.createElement('div');\n",
              "          docLink.innerHTML = docLinkHtml;\n",
              "          element.appendChild(docLink);\n",
              "        }\n",
              "      </script>\n",
              "    </div>\n",
              "  </div>\n",
              "  "
            ]
          },
          "metadata": {},
          "execution_count": 160
        }
      ]
    },
    {
      "cell_type": "code",
      "source": [
        "plot = sns.barplot('regio1', 'totalRent', data=data, ci=False, color=\"pink\")\n",
        "plot.set_xticklabels(plot.get_xticklabels(), rotation=90)"
      ],
      "metadata": {
        "colab": {
          "base_uri": "https://localhost:8080/",
          "height": 735
        },
        "id": "y11OsesXHu2u",
        "outputId": "5d5e6f24-8df9-4ac4-9c8e-498ebc84be5f"
      },
      "execution_count": 162,
      "outputs": [
        {
          "output_type": "stream",
          "name": "stderr",
          "text": [
            "/usr/local/lib/python3.7/dist-packages/seaborn/_decorators.py:43: FutureWarning: Pass the following variables as keyword args: x, y. From version 0.12, the only valid positional argument will be `data`, and passing other arguments without an explicit keyword will result in an error or misinterpretation.\n",
            "  FutureWarning\n"
          ]
        },
        {
          "output_type": "execute_result",
          "data": {
            "text/plain": [
              "[Text(0, 0, 'Nordrhein_Westfalen'),\n",
              " Text(0, 0, 'Sachsen'),\n",
              " Text(0, 0, 'Bremen'),\n",
              " Text(0, 0, 'Baden_Württemberg'),\n",
              " Text(0, 0, 'Thüringen'),\n",
              " Text(0, 0, 'Niedersachsen'),\n",
              " Text(0, 0, 'Schleswig_Holstein'),\n",
              " Text(0, 0, 'Bayern'),\n",
              " Text(0, 0, 'Hamburg'),\n",
              " Text(0, 0, 'Sachsen_Anhalt'),\n",
              " Text(0, 0, 'Hessen'),\n",
              " Text(0, 0, 'Brandenburg'),\n",
              " Text(0, 0, 'Mecklenburg_Vorpommern'),\n",
              " Text(0, 0, 'Berlin'),\n",
              " Text(0, 0, 'Rheinland_Pfalz'),\n",
              " Text(0, 0, 'Saarland')]"
            ]
          },
          "metadata": {},
          "execution_count": 162
        },
        {
          "output_type": "display_data",
          "data": {
            "text/plain": [
              "<Figure size 432x288 with 1 Axes>"
            ],
            "image/png": "[encoded data removed]"
          },
          "metadata": {
            "needs_background": "light"
          }
        }
      ]
    },
    {
      "cell_type": "code",
      "source": [
        "sns.countplot('regio1', data = data, color=\"blue\")"
      ],
      "metadata": {
        "id": "_o_mSlXg2_mP",
        "colab": {
          "base_uri": "https://localhost:8080/",
          "height": 352
        },
        "outputId": "59eb9441-66c1-40b2-bb15-620607d0adb9"
      },
      "execution_count": null,
      "outputs": [
        {
          "output_type": "stream",
          "name": "stderr",
          "text": [
            "/usr/local/lib/python3.7/dist-packages/seaborn/_decorators.py:43: FutureWarning: Pass the following variable as a keyword arg: x. From version 0.12, the only valid positional argument will be `data`, and passing other arguments without an explicit keyword will result in an error or misinterpretation.\n",
            "  FutureWarning\n"
          ]
        },
        {
          "output_type": "execute_result",
          "data": {
            "text/plain": [
              "<matplotlib.axes._subplots.AxesSubplot at 0x7f121ee0f750>"
            ]
          },
          "metadata": {},
          "execution_count": 35
        },
        {
          "output_type": "display_data",
          "data": {
            "text/plain": [
              "<Figure size 432x288 with 1 Axes>"
            ],
            "image/png": "[encoded data removed]"
          },
          "metadata": {
            "needs_background": "light"
          }
        }
      ]
    },
    {
      "cell_type": "code",
      "source": [
        "data.head()"
      ],
      "metadata": {
        "colab": {
          "base_uri": "https://localhost:8080/",
          "height": 270
        },
        "id": "QqAQPXjnB2pT",
        "outputId": "c95d9164-2369-4588-e6a7-173364e8cf62"
      },
      "execution_count": 126,
      "outputs": [
        {
          "output_type": "execute_result",
          "data": {
            "text/plain": [
              "                 regio1  geo_plz                     heatingType  \\\n",
              "0   Nordrhein_Westfalen    44269                 central_heating   \n",
              "2               Sachsen     1097                   floor_heating   \n",
              "4                Bremen    28213  self_contained_central_heating   \n",
              "8     Baden_Württemberg    79211                     oil_heating   \n",
              "10              Sachsen     9130                    NotAvailable   \n",
              "\n",
              "    yearConstructed  cellar  livingSpace       condition    typeOfFlat  \\\n",
              "0            1965.0    True        86.00       well_kept  ground_floor   \n",
              "2            2019.0    True        83.80  first_time_use     apartment   \n",
              "4            1950.0   False        84.97     refurbished     apartment   \n",
              "8            1970.0    True        53.00       well_kept   roof_storey   \n",
              "10           1930.0    True        40.20    NotAvailable     apartment   \n",
              "\n",
              "    noRooms  garden  totalRent  hasKitchen   lift  floor  \\\n",
              "0       4.0    True      840.0       False  False    1.0   \n",
              "2       3.0   False     1300.0       False   True    3.0   \n",
              "4       3.0   False      903.0       False  False    1.0   \n",
              "8       2.0   False      690.0        True  False    2.0   \n",
              "10      2.0   False      307.0       False  False    3.0   \n",
              "\n",
              "                       heatingType       condition    typeOfFlat  \n",
              "0                  central_heating       well_kept  ground_floor  \n",
              "2                    floor_heating  first_time_use     apartment  \n",
              "4   self_contained_central_heating     refurbished     apartment  \n",
              "8                      oil_heating       well_kept   roof_storey  \n",
              "10                    NotAvailable    NotAvailable     apartment  "
            ],
            "text/html": [
              "\n",
              "  <div id=\"df-eac1bec2-6fee-4285-b856-c9f9363493b8\">\n",
              "    <div class=\"colab-df-container\">\n",
              "      <div>\n",
              "<style scoped>\n",
              "    .dataframe tbody tr th:only-of-type {\n",
              "        vertical-align: middle;\n",
              "    }\n",
              "\n",
              "    .dataframe tbody tr th {\n",
              "        vertical-align: top;\n",
              "    }\n",
              "\n",
              "    .dataframe thead th {\n",
              "        text-align: right;\n",
              "    }\n",
              "</style>\n",
              "<table border=\"1\" class=\"dataframe\">\n",
              "  <thead>\n",
              "    <tr style=\"text-align: right;\">\n",
              "      <th></th>\n",
              "      <th>regio1</th>\n",
              "      <th>geo_plz</th>\n",
              "      <th>heatingType</th>\n",
              "      <th>yearConstructed</th>\n",
              "      <th>cellar</th>\n",
              "      <th>livingSpace</th>\n",
              "      <th>condition</th>\n",
              "      <th>typeOfFlat</th>\n",
              "      <th>noRooms</th>\n",
              "      <th>garden</th>\n",
              "      <th>totalRent</th>\n",
              "      <th>hasKitchen</th>\n",
              "      <th>lift</th>\n",
              "      <th>floor</th>\n",
              "      <th>heatingType</th>\n",
              "      <th>condition</th>\n",
              "      <th>typeOfFlat</th>\n",
              "    </tr>\n",
              "  </thead>\n",
              "  <tbody>\n",
              "    <tr>\n",
              "      <th>0</th>\n",
              "      <td>Nordrhein_Westfalen</td>\n",
              "      <td>44269</td>\n",
              "      <td>central_heating</td>\n",
              "      <td>1965.0</td>\n",
              "      <td>True</td>\n",
              "      <td>86.00</td>\n",
              "      <td>well_kept</td>\n",
              "      <td>ground_floor</td>\n",
              "      <td>4.0</td>\n",
              "      <td>True</td>\n",
              "      <td>840.0</td>\n",
              "      <td>False</td>\n",
              "      <td>False</td>\n",
              "      <td>1.0</td>\n",
              "      <td>central_heating</td>\n",
              "      <td>well_kept</td>\n",
              "      <td>ground_floor</td>\n",
              "    </tr>\n",
              "    <tr>\n",
              "      <th>2</th>\n",
              "      <td>Sachsen</td>\n",
              "      <td>1097</td>\n",
              "      <td>floor_heating</td>\n",
              "      <td>2019.0</td>\n",
              "      <td>True</td>\n",
              "      <td>83.80</td>\n",
              "      <td>first_time_use</td>\n",
              "      <td>apartment</td>\n",
              "      <td>3.0</td>\n",
              "      <td>False</td>\n",
              "      <td>1300.0</td>\n",
              "      <td>False</td>\n",
              "      <td>True</td>\n",
              "      <td>3.0</td>\n",
              "      <td>floor_heating</td>\n",
              "      <td>first_time_use</td>\n",
              "      <td>apartment</td>\n",
              "    </tr>\n",
              "    <tr>\n",
              "      <th>4</th>\n",
              "      <td>Bremen</td>\n",
              "      <td>28213</td>\n",
              "      <td>self_contained_central_heating</td>\n",
              "      <td>1950.0</td>\n",
              "      <td>False</td>\n",
              "      <td>84.97</td>\n",
              "      <td>refurbished</td>\n",
              "      <td>apartment</td>\n",
              "      <td>3.0</td>\n",
              "      <td>False</td>\n",
              "      <td>903.0</td>\n",
              "      <td>False</td>\n",
              "      <td>False</td>\n",
              "      <td>1.0</td>\n",
              "      <td>self_contained_central_heating</td>\n",
              "      <td>refurbished</td>\n",
              "      <td>apartment</td>\n",
              "    </tr>\n",
              "    <tr>\n",
              "      <th>8</th>\n",
              "      <td>Baden_Württemberg</td>\n",
              "      <td>79211</td>\n",
              "      <td>oil_heating</td>\n",
              "      <td>1970.0</td>\n",
              "      <td>True</td>\n",
              "      <td>53.00</td>\n",
              "      <td>well_kept</td>\n",
              "      <td>roof_storey</td>\n",
              "      <td>2.0</td>\n",
              "      <td>False</td>\n",
              "      <td>690.0</td>\n",
              "      <td>True</td>\n",
              "      <td>False</td>\n",
              "      <td>2.0</td>\n",
              "      <td>oil_heating</td>\n",
              "      <td>well_kept</td>\n",
              "      <td>roof_storey</td>\n",
              "    </tr>\n",
              "    <tr>\n",
              "      <th>10</th>\n",
              "      <td>Sachsen</td>\n",
              "      <td>9130</td>\n",
              "      <td>NotAvailable</td>\n",
              "      <td>1930.0</td>\n",
              "      <td>True</td>\n",
              "      <td>40.20</td>\n",
              "      <td>NotAvailable</td>\n",
              "      <td>apartment</td>\n",
              "      <td>2.0</td>\n",
              "      <td>False</td>\n",
              "      <td>307.0</td>\n",
              "      <td>False</td>\n",
              "      <td>False</td>\n",
              "      <td>3.0</td>\n",
              "      <td>NotAvailable</td>\n",
              "      <td>NotAvailable</td>\n",
              "      <td>apartment</td>\n",
              "    </tr>\n",
              "  </tbody>\n",
              "</table>\n",
              "</div>\n",
              "      <button class=\"colab-df-convert\" onclick=\"convertToInteractive('df-eac1bec2-6fee-4285-b856-c9f9363493b8')\"\n",
              "              title=\"Convert this dataframe to an interactive table.\"\n",
              "              style=\"display:none;\">\n",
              "        \n",
              "  <svg xmlns=\"http://www.w3.org/2000/svg\" height=\"24px\"viewBox=\"0 0 24 24\"\n",
              "       width=\"24px\">\n",
              "    <path d=\"M0 0h24v24H0V0z\" fill=\"none\"/>\n",
              "    <path d=\"M18.56 5.44l.94 2.06.94-2.06 2.06-.94-2.06-.94-.94-2.06-.94 2.06-2.06.94zm-11 1L8.5 8.5l.94-2.06 2.06-.94-2.06-.94L8.5 2.5l-.94 2.06-2.06.94zm10 10l.94 2.06.94-2.06 2.06-.94-2.06-.94-.94-2.06-.94 2.06-2.06.94z\"/><path d=\"M17.41 7.96l-1.37-1.37c-.4-.4-.92-.59-1.43-.59-.52 0-1.04.2-1.43.59L10.3 9.45l-7.72 7.72c-.78.78-.78 2.05 0 2.83L4 21.41c.39.39.9.59 1.41.59.51 0 1.02-.2 1.41-.59l7.78-7.78 2.81-2.81c.8-.78.8-2.07 0-2.86zM5.41 20L4 18.59l7.72-7.72 1.47 1.35L5.41 20z\"/>\n",
              "  </svg>\n",
              "      </button>\n",
              "      \n",
              "  <style>\n",
              "    .colab-df-container {\n",
              "      display:flex;\n",
              "      flex-wrap:wrap;\n",
              "      gap: 12px;\n",
              "    }\n",
              "\n",
              "    .colab-df-convert {\n",
              "      background-color: #E8F0FE;\n",
              "      border: none;\n",
              "      border-radius: 50%;\n",
              "      cursor: pointer;\n",
              "      display: none;\n",
              "      fill: #1967D2;\n",
              "      height: 32px;\n",
              "      padding: 0 0 0 0;\n",
              "      width: 32px;\n",
              "    }\n",
              "\n",
              "    .colab-df-convert:hover {\n",
              "      background-color: #E2EBFA;\n",
              "      box-shadow: 0px 1px 2px rgba(60, 64, 67, 0.3), 0px 1px 3px 1px rgba(60, 64, 67, 0.15);\n",
              "      fill: #174EA6;\n",
              "    }\n",
              "\n",
              "    [theme=dark] .colab-df-convert {\n",
              "      background-color: #3B4455;\n",
              "      fill: #D2E3FC;\n",
              "    }\n",
              "\n",
              "    [theme=dark] .colab-df-convert:hover {\n",
              "      background-color: #434B5C;\n",
              "      box-shadow: 0px 1px 3px 1px rgba(0, 0, 0, 0.15);\n",
              "      filter: drop-shadow(0px 1px 2px rgba(0, 0, 0, 0.3));\n",
              "      fill: #FFFFFF;\n",
              "    }\n",
              "  </style>\n",
              "\n",
              "      <script>\n",
              "        const buttonEl =\n",
              "          document.querySelector('#df-eac1bec2-6fee-4285-b856-c9f9363493b8 button.colab-df-convert');\n",
              "        buttonEl.style.display =\n",
              "          google.colab.kernel.accessAllowed ? 'block' : 'none';\n",
              "\n",
              "        async function convertToInteractive(key) {\n",
              "          const element = document.querySelector('#df-eac1bec2-6fee-4285-b856-c9f9363493b8');\n",
              "          const dataTable =\n",
              "            await google.colab.kernel.invokeFunction('convertToInteractive',\n",
              "                                                     [key], {});\n",
              "          if (!dataTable) return;\n",
              "\n",
              "          const docLinkHtml = 'Like what you see? Visit the ' +\n",
              "            '<a target=\"_blank\" href=https://colab.research.google.com/notebooks/data_table.ipynb>data table notebook</a>'\n",
              "            + ' to learn more about interactive tables.';\n",
              "          element.innerHTML = '';\n",
              "          dataTable['output_type'] = 'display_data';\n",
              "          await google.colab.output.renderOutput(dataTable, element);\n",
              "          const docLink = document.createElement('div');\n",
              "          docLink.innerHTML = docLinkHtml;\n",
              "          element.appendChild(docLink);\n",
              "        }\n",
              "      </script>\n",
              "    </div>\n",
              "  </div>\n",
              "  "
            ]
          },
          "metadata": {},
          "execution_count": 126
        }
      ]
    },
    {
      "cell_type": "code",
      "source": [
        "bool_cols = data.select_dtypes(\"bool\").columns.tolist()\n",
        "cat_cols = data.select_dtypes(\"object\").columns.tolist()\n",
        "num_cols = data.select_dtypes(\"number\").columns.tolist()\n",
        "print(cat_cols)"
      ],
      "metadata": {
        "colab": {
          "base_uri": "https://localhost:8080/"
        },
        "id": "RQrPwDsyKsmG",
        "outputId": "b298c833-e8a7-486f-a455-a7f0576e0d46"
      },
      "execution_count": 183,
      "outputs": [
        {
          "output_type": "stream",
          "name": "stdout",
          "text": [
            "['regio1', 'heatingType', 'condition', 'typeOfFlat', 'heatingType', 'condition', 'typeOfFlat']\n"
          ]
        }
      ]
    },
    {
      "cell_type": "code",
      "source": [
        "columns = ['regio1', 'heatingType', 'condition', 'typeOfFlat', 'heatingType', 'condition', 'typeOfFlat']\n",
        "dummies_feature = pd.get_dummies(data[columns])\n",
        "dummies_feature.head()"
      ],
      "metadata": {
        "colab": {
          "base_uri": "https://localhost:8080/",
          "height": 300
        },
        "id": "DMzY8HnP0GsR",
        "outputId": "52502e9f-a2f0-4ea7-b6e3-75dc1641301a"
      },
      "execution_count": 184,
      "outputs": [
        {
          "output_type": "execute_result",
          "data": {
            "text/plain": [
              "   regio1_Baden_Württemberg  regio1_Bayern  regio1_Berlin  regio1_Brandenburg  \\\n",
              "0                         0              0              0                   0   \n",
              "2                         0              0              0                   0   \n",
              "4                         0              0              0                   0   \n",
              "6                         0              0              0                   0   \n",
              "8                         1              0              0                   0   \n",
              "\n",
              "   regio1_Bremen  regio1_Hamburg  regio1_Hessen  \\\n",
              "0              0               0              0   \n",
              "2              0               0              0   \n",
              "4              1               0              0   \n",
              "6              0               0              0   \n",
              "8              0               0              0   \n",
              "\n",
              "   regio1_Mecklenburg_Vorpommern  regio1_Niedersachsen  \\\n",
              "0                              0                     0   \n",
              "2                              0                     0   \n",
              "4                              0                     0   \n",
              "6                              0                     0   \n",
              "8                              0                     0   \n",
              "\n",
              "   regio1_Nordrhein_Westfalen  ...  typeOfFlat_apartment  \\\n",
              "0                           1  ...                     0   \n",
              "2                           0  ...                     1   \n",
              "4                           0  ...                     1   \n",
              "6                           0  ...                     0   \n",
              "8                           0  ...                     0   \n",
              "\n",
              "   typeOfFlat_ground_floor  typeOfFlat_half_basement  typeOfFlat_loft  \\\n",
              "0                        1                         0                0   \n",
              "2                        0                         0                0   \n",
              "4                        0                         0                0   \n",
              "6                        0                         0                0   \n",
              "8                        0                         0                0   \n",
              "\n",
              "   typeOfFlat_maisonette  typeOfFlat_other  typeOfFlat_penthouse  \\\n",
              "0                      0                 0                     0   \n",
              "2                      0                 0                     0   \n",
              "4                      0                 0                     0   \n",
              "6                      0                 0                     0   \n",
              "8                      0                 0                     0   \n",
              "\n",
              "   typeOfFlat_raised_ground_floor  typeOfFlat_roof_storey  \\\n",
              "0                               0                       0   \n",
              "2                               0                       0   \n",
              "4                               0                       0   \n",
              "6                               0                       0   \n",
              "8                               0                       1   \n",
              "\n",
              "   typeOfFlat_terraced_flat  \n",
              "0                         0  \n",
              "2                         0  \n",
              "4                         0  \n",
              "6                         0  \n",
              "8                         0  \n",
              "\n",
              "[5 rows x 160 columns]"
            ],
            "text/html": [
              "\n",
              "  <div id=\"df-3991cfda-496c-4b80-9b42-8f4b8bccd8b8\">\n",
              "    <div class=\"colab-df-container\">\n",
              "      <div>\n",
              "<style scoped>\n",
              "    .dataframe tbody tr th:only-of-type {\n",
              "        vertical-align: middle;\n",
              "    }\n",
              "\n",
              "    .dataframe tbody tr th {\n",
              "        vertical-align: top;\n",
              "    }\n",
              "\n",
              "    .dataframe thead th {\n",
              "        text-align: right;\n",
              "    }\n",
              "</style>\n",
              "<table border=\"1\" class=\"dataframe\">\n",
              "  <thead>\n",
              "    <tr style=\"text-align: right;\">\n",
              "      <th></th>\n",
              "      <th>regio1_Baden_Württemberg</th>\n",
              "      <th>regio1_Bayern</th>\n",
              "      <th>regio1_Berlin</th>\n",
              "      <th>regio1_Brandenburg</th>\n",
              "      <th>regio1_Bremen</th>\n",
              "      <th>regio1_Hamburg</th>\n",
              "      <th>regio1_Hessen</th>\n",
              "      <th>regio1_Mecklenburg_Vorpommern</th>\n",
              "      <th>regio1_Niedersachsen</th>\n",
              "      <th>regio1_Nordrhein_Westfalen</th>\n",
              "      <th>...</th>\n",
              "      <th>typeOfFlat_apartment</th>\n",
              "      <th>typeOfFlat_ground_floor</th>\n",
              "      <th>typeOfFlat_half_basement</th>\n",
              "      <th>typeOfFlat_loft</th>\n",
              "      <th>typeOfFlat_maisonette</th>\n",
              "      <th>typeOfFlat_other</th>\n",
              "      <th>typeOfFlat_penthouse</th>\n",
              "      <th>typeOfFlat_raised_ground_floor</th>\n",
              "      <th>typeOfFlat_roof_storey</th>\n",
              "      <th>typeOfFlat_terraced_flat</th>\n",
              "    </tr>\n",
              "  </thead>\n",
              "  <tbody>\n",
              "    <tr>\n",
              "      <th>0</th>\n",
              "      <td>0</td>\n",
              "      <td>0</td>\n",
              "      <td>0</td>\n",
              "      <td>0</td>\n",
              "      <td>0</td>\n",
              "      <td>0</td>\n",
              "      <td>0</td>\n",
              "      <td>0</td>\n",
              "      <td>0</td>\n",
              "      <td>1</td>\n",
              "      <td>...</td>\n",
              "      <td>0</td>\n",
              "      <td>1</td>\n",
              "      <td>0</td>\n",
              "      <td>0</td>\n",
              "      <td>0</td>\n",
              "      <td>0</td>\n",
              "      <td>0</td>\n",
              "      <td>0</td>\n",
              "      <td>0</td>\n",
              "      <td>0</td>\n",
              "    </tr>\n",
              "    <tr>\n",
              "      <th>2</th>\n",
              "      <td>0</td>\n",
              "      <td>0</td>\n",
              "      <td>0</td>\n",
              "      <td>0</td>\n",
              "      <td>0</td>\n",
              "      <td>0</td>\n",
              "      <td>0</td>\n",
              "      <td>0</td>\n",
              "      <td>0</td>\n",
              "      <td>0</td>\n",
              "      <td>...</td>\n",
              "      <td>1</td>\n",
              "      <td>0</td>\n",
              "      <td>0</td>\n",
              "      <td>0</td>\n",
              "      <td>0</td>\n",
              "      <td>0</td>\n",
              "      <td>0</td>\n",
              "      <td>0</td>\n",
              "      <td>0</td>\n",
              "      <td>0</td>\n",
              "    </tr>\n",
              "    <tr>\n",
              "      <th>4</th>\n",
              "      <td>0</td>\n",
              "      <td>0</td>\n",
              "      <td>0</td>\n",
              "      <td>0</td>\n",
              "      <td>1</td>\n",
              "      <td>0</td>\n",
              "      <td>0</td>\n",
              "      <td>0</td>\n",
              "      <td>0</td>\n",
              "      <td>0</td>\n",
              "      <td>...</td>\n",
              "      <td>1</td>\n",
              "      <td>0</td>\n",
              "      <td>0</td>\n",
              "      <td>0</td>\n",
              "      <td>0</td>\n",
              "      <td>0</td>\n",
              "      <td>0</td>\n",
              "      <td>0</td>\n",
              "      <td>0</td>\n",
              "      <td>0</td>\n",
              "    </tr>\n",
              "    <tr>\n",
              "      <th>6</th>\n",
              "      <td>0</td>\n",
              "      <td>0</td>\n",
              "      <td>0</td>\n",
              "      <td>0</td>\n",
              "      <td>0</td>\n",
              "      <td>0</td>\n",
              "      <td>0</td>\n",
              "      <td>0</td>\n",
              "      <td>0</td>\n",
              "      <td>0</td>\n",
              "      <td>...</td>\n",
              "      <td>0</td>\n",
              "      <td>0</td>\n",
              "      <td>0</td>\n",
              "      <td>0</td>\n",
              "      <td>0</td>\n",
              "      <td>0</td>\n",
              "      <td>0</td>\n",
              "      <td>0</td>\n",
              "      <td>0</td>\n",
              "      <td>0</td>\n",
              "    </tr>\n",
              "    <tr>\n",
              "      <th>8</th>\n",
              "      <td>1</td>\n",
              "      <td>0</td>\n",
              "      <td>0</td>\n",
              "      <td>0</td>\n",
              "      <td>0</td>\n",
              "      <td>0</td>\n",
              "      <td>0</td>\n",
              "      <td>0</td>\n",
              "      <td>0</td>\n",
              "      <td>0</td>\n",
              "      <td>...</td>\n",
              "      <td>0</td>\n",
              "      <td>0</td>\n",
              "      <td>0</td>\n",
              "      <td>0</td>\n",
              "      <td>0</td>\n",
              "      <td>0</td>\n",
              "      <td>0</td>\n",
              "      <td>0</td>\n",
              "      <td>1</td>\n",
              "      <td>0</td>\n",
              "    </tr>\n",
              "  </tbody>\n",
              "</table>\n",
              "<p>5 rows × 160 columns</p>\n",
              "</div>\n",
              "      <button class=\"colab-df-convert\" onclick=\"convertToInteractive('df-3991cfda-496c-4b80-9b42-8f4b8bccd8b8')\"\n",
              "              title=\"Convert this dataframe to an interactive table.\"\n",
              "              style=\"display:none;\">\n",
              "        \n",
              "  <svg xmlns=\"http://www.w3.org/2000/svg\" height=\"24px\"viewBox=\"0 0 24 24\"\n",
              "       width=\"24px\">\n",
              "    <path d=\"M0 0h24v24H0V0z\" fill=\"none\"/>\n",
              "    <path d=\"M18.56 5.44l.94 2.06.94-2.06 2.06-.94-2.06-.94-.94-2.06-.94 2.06-2.06.94zm-11 1L8.5 8.5l.94-2.06 2.06-.94-2.06-.94L8.5 2.5l-.94 2.06-2.06.94zm10 10l.94 2.06.94-2.06 2.06-.94-2.06-.94-.94-2.06-.94 2.06-2.06.94z\"/><path d=\"M17.41 7.96l-1.37-1.37c-.4-.4-.92-.59-1.43-.59-.52 0-1.04.2-1.43.59L10.3 9.45l-7.72 7.72c-.78.78-.78 2.05 0 2.83L4 21.41c.39.39.9.59 1.41.59.51 0 1.02-.2 1.41-.59l7.78-7.78 2.81-2.81c.8-.78.8-2.07 0-2.86zM5.41 20L4 18.59l7.72-7.72 1.47 1.35L5.41 20z\"/>\n",
              "  </svg>\n",
              "      </button>\n",
              "      \n",
              "  <style>\n",
              "    .colab-df-container {\n",
              "      display:flex;\n",
              "      flex-wrap:wrap;\n",
              "      gap: 12px;\n",
              "    }\n",
              "\n",
              "    .colab-df-convert {\n",
              "      background-color: #E8F0FE;\n",
              "      border: none;\n",
              "      border-radius: 50%;\n",
              "      cursor: pointer;\n",
              "      display: none;\n",
              "      fill: #1967D2;\n",
              "      height: 32px;\n",
              "      padding: 0 0 0 0;\n",
              "      width: 32px;\n",
              "    }\n",
              "\n",
              "    .colab-df-convert:hover {\n",
              "      background-color: #E2EBFA;\n",
              "      box-shadow: 0px 1px 2px rgba(60, 64, 67, 0.3), 0px 1px 3px 1px rgba(60, 64, 67, 0.15);\n",
              "      fill: #174EA6;\n",
              "    }\n",
              "\n",
              "    [theme=dark] .colab-df-convert {\n",
              "      background-color: #3B4455;\n",
              "      fill: #D2E3FC;\n",
              "    }\n",
              "\n",
              "    [theme=dark] .colab-df-convert:hover {\n",
              "      background-color: #434B5C;\n",
              "      box-shadow: 0px 1px 3px 1px rgba(0, 0, 0, 0.15);\n",
              "      filter: drop-shadow(0px 1px 2px rgba(0, 0, 0, 0.3));\n",
              "      fill: #FFFFFF;\n",
              "    }\n",
              "  </style>\n",
              "\n",
              "      <script>\n",
              "        const buttonEl =\n",
              "          document.querySelector('#df-3991cfda-496c-4b80-9b42-8f4b8bccd8b8 button.colab-df-convert');\n",
              "        buttonEl.style.display =\n",
              "          google.colab.kernel.accessAllowed ? 'block' : 'none';\n",
              "\n",
              "        async function convertToInteractive(key) {\n",
              "          const element = document.querySelector('#df-3991cfda-496c-4b80-9b42-8f4b8bccd8b8');\n",
              "          const dataTable =\n",
              "            await google.colab.kernel.invokeFunction('convertToInteractive',\n",
              "                                                     [key], {});\n",
              "          if (!dataTable) return;\n",
              "\n",
              "          const docLinkHtml = 'Like what you see? Visit the ' +\n",
              "            '<a target=\"_blank\" href=https://colab.research.google.com/notebooks/data_table.ipynb>data table notebook</a>'\n",
              "            + ' to learn more about interactive tables.';\n",
              "          element.innerHTML = '';\n",
              "          dataTable['output_type'] = 'display_data';\n",
              "          await google.colab.output.renderOutput(dataTable, element);\n",
              "          const docLink = document.createElement('div');\n",
              "          docLink.innerHTML = docLinkHtml;\n",
              "          element.appendChild(docLink);\n",
              "        }\n",
              "      </script>\n",
              "    </div>\n",
              "  </div>\n",
              "  "
            ]
          },
          "metadata": {},
          "execution_count": 184
        }
      ]
    },
    {
      "cell_type": "code",
      "source": [
        "data = pd.concat([data, dummies_feature], axis=1)\n",
        "data.head()"
      ],
      "metadata": {
        "colab": {
          "base_uri": "https://localhost:8080/",
          "height": 300
        },
        "id": "eEsIXzmV0O9V",
        "outputId": "cb26fca6-ce7e-45f8-d888-9ef2b8db7ec4"
      },
      "execution_count": 185,
      "outputs": [
        {
          "output_type": "execute_result",
          "data": {
            "text/plain": [
              "                regio1  geo_plz                     heatingType  newlyConst  \\\n",
              "0  Nordrhein_Westfalen    44269                 central_heating       False   \n",
              "2              Sachsen     1097                   floor_heating        True   \n",
              "4               Bremen    28213  self_contained_central_heating       False   \n",
              "6              Sachsen     9599  self_contained_central_heating       False   \n",
              "8    Baden_Württemberg    79211                     oil_heating       False   \n",
              "\n",
              "   yearConstructed  cellar  livingSpace        condition    typeOfFlat  \\\n",
              "0           1965.0    True        86.00        well_kept  ground_floor   \n",
              "2           2019.0    True        83.80   first_time_use     apartment   \n",
              "4           1950.0   False        84.97      refurbished     apartment   \n",
              "6              NaN    True        62.00  fully_renovated  NotAvailable   \n",
              "8           1970.0    True        53.00        well_kept   roof_storey   \n",
              "\n",
              "   noRooms  ...  typeOfFlat_apartment  typeOfFlat_ground_floor  \\\n",
              "0      4.0  ...                     0                        1   \n",
              "2      3.0  ...                     1                        0   \n",
              "4      3.0  ...                     1                        0   \n",
              "6      2.0  ...                     0                        0   \n",
              "8      2.0  ...                     0                        0   \n",
              "\n",
              "   typeOfFlat_half_basement  typeOfFlat_loft  typeOfFlat_maisonette  \\\n",
              "0                         0                0                      0   \n",
              "2                         0                0                      0   \n",
              "4                         0                0                      0   \n",
              "6                         0                0                      0   \n",
              "8                         0                0                      0   \n",
              "\n",
              "  typeOfFlat_other typeOfFlat_penthouse typeOfFlat_raised_ground_floor  \\\n",
              "0                0                    0                              0   \n",
              "2                0                    0                              0   \n",
              "4                0                    0                              0   \n",
              "6                0                    0                              0   \n",
              "8                0                    0                              0   \n",
              "\n",
              "   typeOfFlat_roof_storey  typeOfFlat_terraced_flat  \n",
              "0                       0                         0  \n",
              "2                       0                         0  \n",
              "4                       0                         0  \n",
              "6                       0                         0  \n",
              "8                       1                         0  \n",
              "\n",
              "[5 rows x 178 columns]"
            ],
            "text/html": [
              "\n",
              "  <div id=\"df-4a6f673b-fb5c-4334-a049-c6de9950abee\">\n",
              "    <div class=\"colab-df-container\">\n",
              "      <div>\n",
              "<style scoped>\n",
              "    .dataframe tbody tr th:only-of-type {\n",
              "        vertical-align: middle;\n",
              "    }\n",
              "\n",
              "    .dataframe tbody tr th {\n",
              "        vertical-align: top;\n",
              "    }\n",
              "\n",
              "    .dataframe thead th {\n",
              "        text-align: right;\n",
              "    }\n",
              "</style>\n",
              "<table border=\"1\" class=\"dataframe\">\n",
              "  <thead>\n",
              "    <tr style=\"text-align: right;\">\n",
              "      <th></th>\n",
              "      <th>regio1</th>\n",
              "      <th>geo_plz</th>\n",
              "      <th>heatingType</th>\n",
              "      <th>newlyConst</th>\n",
              "      <th>yearConstructed</th>\n",
              "      <th>cellar</th>\n",
              "      <th>livingSpace</th>\n",
              "      <th>condition</th>\n",
              "      <th>typeOfFlat</th>\n",
              "      <th>noRooms</th>\n",
              "      <th>...</th>\n",
              "      <th>typeOfFlat_apartment</th>\n",
              "      <th>typeOfFlat_ground_floor</th>\n",
              "      <th>typeOfFlat_half_basement</th>\n",
              "      <th>typeOfFlat_loft</th>\n",
              "      <th>typeOfFlat_maisonette</th>\n",
              "      <th>typeOfFlat_other</th>\n",
              "      <th>typeOfFlat_penthouse</th>\n",
              "      <th>typeOfFlat_raised_ground_floor</th>\n",
              "      <th>typeOfFlat_roof_storey</th>\n",
              "      <th>typeOfFlat_terraced_flat</th>\n",
              "    </tr>\n",
              "  </thead>\n",
              "  <tbody>\n",
              "    <tr>\n",
              "      <th>0</th>\n",
              "      <td>Nordrhein_Westfalen</td>\n",
              "      <td>44269</td>\n",
              "      <td>central_heating</td>\n",
              "      <td>False</td>\n",
              "      <td>1965.0</td>\n",
              "      <td>True</td>\n",
              "      <td>86.00</td>\n",
              "      <td>well_kept</td>\n",
              "      <td>ground_floor</td>\n",
              "      <td>4.0</td>\n",
              "      <td>...</td>\n",
              "      <td>0</td>\n",
              "      <td>1</td>\n",
              "      <td>0</td>\n",
              "      <td>0</td>\n",
              "      <td>0</td>\n",
              "      <td>0</td>\n",
              "      <td>0</td>\n",
              "      <td>0</td>\n",
              "      <td>0</td>\n",
              "      <td>0</td>\n",
              "    </tr>\n",
              "    <tr>\n",
              "      <th>2</th>\n",
              "      <td>Sachsen</td>\n",
              "      <td>1097</td>\n",
              "      <td>floor_heating</td>\n",
              "      <td>True</td>\n",
              "      <td>2019.0</td>\n",
              "      <td>True</td>\n",
              "      <td>83.80</td>\n",
              "      <td>first_time_use</td>\n",
              "      <td>apartment</td>\n",
              "      <td>3.0</td>\n",
              "      <td>...</td>\n",
              "      <td>1</td>\n",
              "      <td>0</td>\n",
              "      <td>0</td>\n",
              "      <td>0</td>\n",
              "      <td>0</td>\n",
              "      <td>0</td>\n",
              "      <td>0</td>\n",
              "      <td>0</td>\n",
              "      <td>0</td>\n",
              "      <td>0</td>\n",
              "    </tr>\n",
              "    <tr>\n",
              "      <th>4</th>\n",
              "      <td>Bremen</td>\n",
              "      <td>28213</td>\n",
              "      <td>self_contained_central_heating</td>\n",
              "      <td>False</td>\n",
              "      <td>1950.0</td>\n",
              "      <td>False</td>\n",
              "      <td>84.97</td>\n",
              "      <td>refurbished</td>\n",
              "      <td>apartment</td>\n",
              "      <td>3.0</td>\n",
              "      <td>...</td>\n",
              "      <td>1</td>\n",
              "      <td>0</td>\n",
              "      <td>0</td>\n",
              "      <td>0</td>\n",
              "      <td>0</td>\n",
              "      <td>0</td>\n",
              "      <td>0</td>\n",
              "      <td>0</td>\n",
              "      <td>0</td>\n",
              "      <td>0</td>\n",
              "    </tr>\n",
              "    <tr>\n",
              "      <th>6</th>\n",
              "      <td>Sachsen</td>\n",
              "      <td>9599</td>\n",
              "      <td>self_contained_central_heating</td>\n",
              "      <td>False</td>\n",
              "      <td>NaN</td>\n",
              "      <td>True</td>\n",
              "      <td>62.00</td>\n",
              "      <td>fully_renovated</td>\n",
              "      <td>NotAvailable</td>\n",
              "      <td>2.0</td>\n",
              "      <td>...</td>\n",
              "      <td>0</td>\n",
              "      <td>0</td>\n",
              "      <td>0</td>\n",
              "      <td>0</td>\n",
              "      <td>0</td>\n",
              "      <td>0</td>\n",
              "      <td>0</td>\n",
              "      <td>0</td>\n",
              "      <td>0</td>\n",
              "      <td>0</td>\n",
              "    </tr>\n",
              "    <tr>\n",
              "      <th>8</th>\n",
              "      <td>Baden_Württemberg</td>\n",
              "      <td>79211</td>\n",
              "      <td>oil_heating</td>\n",
              "      <td>False</td>\n",
              "      <td>1970.0</td>\n",
              "      <td>True</td>\n",
              "      <td>53.00</td>\n",
              "      <td>well_kept</td>\n",
              "      <td>roof_storey</td>\n",
              "      <td>2.0</td>\n",
              "      <td>...</td>\n",
              "      <td>0</td>\n",
              "      <td>0</td>\n",
              "      <td>0</td>\n",
              "      <td>0</td>\n",
              "      <td>0</td>\n",
              "      <td>0</td>\n",
              "      <td>0</td>\n",
              "      <td>0</td>\n",
              "      <td>1</td>\n",
              "      <td>0</td>\n",
              "    </tr>\n",
              "  </tbody>\n",
              "</table>\n",
              "<p>5 rows × 178 columns</p>\n",
              "</div>\n",
              "      <button class=\"colab-df-convert\" onclick=\"convertToInteractive('df-4a6f673b-fb5c-4334-a049-c6de9950abee')\"\n",
              "              title=\"Convert this dataframe to an interactive table.\"\n",
              "              style=\"display:none;\">\n",
              "        \n",
              "  <svg xmlns=\"http://www.w3.org/2000/svg\" height=\"24px\"viewBox=\"0 0 24 24\"\n",
              "       width=\"24px\">\n",
              "    <path d=\"M0 0h24v24H0V0z\" fill=\"none\"/>\n",
              "    <path d=\"M18.56 5.44l.94 2.06.94-2.06 2.06-.94-2.06-.94-.94-2.06-.94 2.06-2.06.94zm-11 1L8.5 8.5l.94-2.06 2.06-.94-2.06-.94L8.5 2.5l-.94 2.06-2.06.94zm10 10l.94 2.06.94-2.06 2.06-.94-2.06-.94-.94-2.06-.94 2.06-2.06.94z\"/><path d=\"M17.41 7.96l-1.37-1.37c-.4-.4-.92-.59-1.43-.59-.52 0-1.04.2-1.43.59L10.3 9.45l-7.72 7.72c-.78.78-.78 2.05 0 2.83L4 21.41c.39.39.9.59 1.41.59.51 0 1.02-.2 1.41-.59l7.78-7.78 2.81-2.81c.8-.78.8-2.07 0-2.86zM5.41 20L4 18.59l7.72-7.72 1.47 1.35L5.41 20z\"/>\n",
              "  </svg>\n",
              "      </button>\n",
              "      \n",
              "  <style>\n",
              "    .colab-df-container {\n",
              "      display:flex;\n",
              "      flex-wrap:wrap;\n",
              "      gap: 12px;\n",
              "    }\n",
              "\n",
              "    .colab-df-convert {\n",
              "      background-color: #E8F0FE;\n",
              "      border: none;\n",
              "      border-radius: 50%;\n",
              "      cursor: pointer;\n",
              "      display: none;\n",
              "      fill: #1967D2;\n",
              "      height: 32px;\n",
              "      padding: 0 0 0 0;\n",
              "      width: 32px;\n",
              "    }\n",
              "\n",
              "    .colab-df-convert:hover {\n",
              "      background-color: #E2EBFA;\n",
              "      box-shadow: 0px 1px 2px rgba(60, 64, 67, 0.3), 0px 1px 3px 1px rgba(60, 64, 67, 0.15);\n",
              "      fill: #174EA6;\n",
              "    }\n",
              "\n",
              "    [theme=dark] .colab-df-convert {\n",
              "      background-color: #3B4455;\n",
              "      fill: #D2E3FC;\n",
              "    }\n",
              "\n",
              "    [theme=dark] .colab-df-convert:hover {\n",
              "      background-color: #434B5C;\n",
              "      box-shadow: 0px 1px 3px 1px rgba(0, 0, 0, 0.15);\n",
              "      filter: drop-shadow(0px 1px 2px rgba(0, 0, 0, 0.3));\n",
              "      fill: #FFFFFF;\n",
              "    }\n",
              "  </style>\n",
              "\n",
              "      <script>\n",
              "        const buttonEl =\n",
              "          document.querySelector('#df-4a6f673b-fb5c-4334-a049-c6de9950abee button.colab-df-convert');\n",
              "        buttonEl.style.display =\n",
              "          google.colab.kernel.accessAllowed ? 'block' : 'none';\n",
              "\n",
              "        async function convertToInteractive(key) {\n",
              "          const element = document.querySelector('#df-4a6f673b-fb5c-4334-a049-c6de9950abee');\n",
              "          const dataTable =\n",
              "            await google.colab.kernel.invokeFunction('convertToInteractive',\n",
              "                                                     [key], {});\n",
              "          if (!dataTable) return;\n",
              "\n",
              "          const docLinkHtml = 'Like what you see? Visit the ' +\n",
              "            '<a target=\"_blank\" href=https://colab.research.google.com/notebooks/data_table.ipynb>data table notebook</a>'\n",
              "            + ' to learn more about interactive tables.';\n",
              "          element.innerHTML = '';\n",
              "          dataTable['output_type'] = 'display_data';\n",
              "          await google.colab.output.renderOutput(dataTable, element);\n",
              "          const docLink = document.createElement('div');\n",
              "          docLink.innerHTML = docLinkHtml;\n",
              "          element.appendChild(docLink);\n",
              "        }\n",
              "      </script>\n",
              "    </div>\n",
              "  </div>\n",
              "  "
            ]
          },
          "metadata": {},
          "execution_count": 185
        }
      ]
    },
    {
      "cell_type": "code",
      "source": [
        "columns = ['regio1', 'heatingType', 'condition', 'typeOfFlat', 'heatingType', 'condition', 'typeOfFlat']\n",
        "data.drop(columns, axis=1, inplace=True)"
      ],
      "metadata": {
        "id": "ZY_74EKQ0Pof"
      },
      "execution_count": 186,
      "outputs": []
    },
    {
      "cell_type": "code",
      "source": [
        "data = data.drop(['yearConstructed'], axis=1)"
      ],
      "metadata": {
        "id": "40evY6IAQjJr"
      },
      "execution_count": 188,
      "outputs": []
    },
    {
      "cell_type": "code",
      "source": [
        "nulls = data.isnull().sum()/data.shape[0] *100\n",
        "nulls"
      ],
      "metadata": {
        "colab": {
          "base_uri": "https://localhost:8080/"
        },
        "id": "GUorCFHW0teu",
        "outputId": "950ef588-1c00-4b26-dee7-0506a6590116"
      },
      "execution_count": 168,
      "outputs": [
        {
          "output_type": "execute_result",
          "data": {
            "text/plain": [
              "geo_plz                           0.0\n",
              "newlyConst                        0.0\n",
              "yearConstructed                   0.0\n",
              "cellar                            0.0\n",
              "livingSpace                       0.0\n",
              "                                 ... \n",
              "typeOfFlat_other                  0.0\n",
              "typeOfFlat_penthouse              0.0\n",
              "typeOfFlat_raised_ground_floor    0.0\n",
              "typeOfFlat_roof_storey            0.0\n",
              "typeOfFlat_terraced_flat          0.0\n",
              "Length: 171, dtype: float64"
            ]
          },
          "metadata": {},
          "execution_count": 168
        }
      ]
    },
    {
      "cell_type": "code",
      "source": [
        "from sklearn.model_selection import train_test_split\n",
        "y = data['totalRent']\n",
        "X = data.drop(['totalRent'], axis=1)\n",
        "X_train, X_test, y_train, y_test = train_test_split(X, y, test_size=0.2, random_state=1)"
      ],
      "metadata": {
        "id": "MjKpqtKM0zFa"
      },
      "execution_count": 190,
      "outputs": []
    },
    {
      "cell_type": "code",
      "source": [
        "from sklearn.linear_model import LinearRegression\n",
        "from sklearn import metrics\n",
        "import math\n",
        "\n",
        "prediction = []\n",
        "def fit_and_predic_linear_regression(X_train, y_train, X_test, y_test):\n",
        "    model = LinearRegression()\n",
        "    model.fit(X_train, y_train)\n",
        "    y_pred = model.predict(X_test)\n",
        "            \n",
        "    print('MAE:', metrics.mean_absolute_error(y_test, y_pred))\n",
        "    print('MSE:', metrics.mean_squared_error(y_test, y_pred))\n",
        "    print('R2_score:', metrics.r2_score(y_test, y_pred))\n",
        "\n",
        "    plt.scatter(y_pred, y_test)\n",
        "\n",
        "fit_and_predic_linear_regression(X_train, y_train, X_test, y_test)"
      ],
      "metadata": {
        "colab": {
          "base_uri": "https://localhost:8080/"
        },
        "id": "KoOM3OSd02SJ",
        "outputId": "7d71d77b-8cb3-4cbc-ddaf-3ee0c8f7e2b5"
      },
      "execution_count": 194,
      "outputs": [
        {
          "output_type": "stream",
          "name": "stdout",
          "text": [
            "MAE: 173.47531706557996\n",
            "MSE: 257243.24401621058\n",
            "R2_score: 0.453644510212342\n"
          ]
        }
      ]
    }
  ]
}