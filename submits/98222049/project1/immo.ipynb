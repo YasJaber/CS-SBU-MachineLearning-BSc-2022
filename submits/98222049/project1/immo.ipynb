{
  "nbformat": 4,
  "nbformat_minor": 0,
  "metadata": {
    "colab": {
      "name": "immo.ipynb",
      "provenance": []
    },
    "kernelspec": {
      "name": "python3",
      "display_name": "Python 3"
    },
    "language_info": {
      "name": "python"
    }
  },
  "cells": [
    {
      "cell_type": "code",
      "execution_count": 6,
      "metadata": {
        "id": "UwERto9pacqq"
      },
      "outputs": [],
      "source": [
        "!pip install -q kaggle"
      ]
    },
    {
      "cell_type": "code",
      "source": [
        "!mkdir ~/.kaggle\n",
        "!cp kaggle.json ~/.kaggle/\n",
        "!chmod 600 ~/.kaggle/kaggle.json"
      ],
      "metadata": {
        "colab": {
          "base_uri": "https://localhost:8080/"
        },
        "id": "XqYEVOqGat7M",
        "outputId": "771aa7c9-c967-4148-e5b8-a7af2fbb503f"
      },
      "execution_count": 7,
      "outputs": [
        {
          "output_type": "stream",
          "name": "stdout",
          "text": [
            "mkdir: cannot create directory ‘/root/.kaggle’: File exists\n"
          ]
        }
      ]
    },
    {
      "cell_type": "code",
      "source": [
        "! kaggle datasets download -d corrieaar/apartment-rental-offers-in-germany"
      ],
      "metadata": {
        "colab": {
          "base_uri": "https://localhost:8080/"
        },
        "id": "knyppIb5cwFz",
        "outputId": "583c60ee-954f-421e-d4f3-373108aa9b53"
      },
      "execution_count": 8,
      "outputs": [
        {
          "output_type": "stream",
          "name": "stdout",
          "text": [
            "Downloading apartment-rental-offers-in-germany.zip to /content\n",
            " 70% 65.0M/93.0M [00:00<00:00, 144MB/s]\n",
            "100% 93.0M/93.0M [00:00<00:00, 163MB/s]\n"
          ]
        }
      ]
    },
    {
      "cell_type": "code",
      "source": [
        "!unzip '/content/apartment-rental-offers-in-germany.zip' -d '/content/'"
      ],
      "metadata": {
        "colab": {
          "base_uri": "https://localhost:8080/"
        },
        "id": "UHjGhlSmeogb",
        "outputId": "95323608-bcfe-4341-bc74-2842d8aa9198"
      },
      "execution_count": 9,
      "outputs": [
        {
          "output_type": "stream",
          "name": "stdout",
          "text": [
            "Archive:  /content/apartment-rental-offers-in-germany.zip\n",
            "  inflating: /content/immo_data.csv  \n"
          ]
        }
      ]
    },
    {
      "cell_type": "markdown",
      "source": [
        "## 1: Preprocessing"
      ],
      "metadata": {
        "id": "vk60aeK5fX78"
      }
    },
    {
      "cell_type": "code",
      "source": [
        "import pandas as pd\n",
        "\n",
        "df = pd.read_csv('/content/immo_data.csv')\n",
        "df"
      ],
      "metadata": {
        "colab": {
          "base_uri": "https://localhost:8080/",
          "height": 834
        },
        "id": "UHb98rf1exEi",
        "outputId": "93bdb9d5-0625-4417-f201-6533168d6205"
      },
      "execution_count": 70,
      "outputs": [
        {
          "output_type": "execute_result",
          "data": {
            "text/plain": [
              "                     regio1  serviceCharge                     heatingType  \\\n",
              "0       Nordrhein_Westfalen         245.00                 central_heating   \n",
              "1           Rheinland_Pfalz         134.00  self_contained_central_heating   \n",
              "2                   Sachsen         255.00                   floor_heating   \n",
              "3                   Sachsen          58.15                district_heating   \n",
              "4                    Bremen         138.00  self_contained_central_heating   \n",
              "...                     ...            ...                             ...   \n",
              "268845               Bayern          90.00                       heat_pump   \n",
              "268846               Hessen         220.00                     gas_heating   \n",
              "268847               Hessen         220.00                 central_heating   \n",
              "268848  Nordrhein_Westfalen         175.00                       heat_pump   \n",
              "268849               Hessen         315.00                 central_heating   \n",
              "\n",
              "       telekomTvOffer  telekomHybridUploadSpeed  newlyConst  balcony  \\\n",
              "0       ONE_YEAR_FREE                       NaN       False    False   \n",
              "1       ONE_YEAR_FREE                       NaN       False     True   \n",
              "2       ONE_YEAR_FREE                      10.0        True     True   \n",
              "3       ONE_YEAR_FREE                       NaN       False     True   \n",
              "4                 NaN                       NaN       False     True   \n",
              "...               ...                       ...         ...      ...   \n",
              "268845  ONE_YEAR_FREE                       NaN       False     True   \n",
              "268846            NaN                       NaN       False     True   \n",
              "268847  ONE_YEAR_FREE                       NaN       False     True   \n",
              "268848            NaN                       NaN        True     True   \n",
              "268849            NaN                       NaN       False     True   \n",
              "\n",
              "        picturecount  pricetrend  telekomUploadSpeed  ...  \\\n",
              "0                  6        4.62                10.0  ...   \n",
              "1                  8        3.47                10.0  ...   \n",
              "2                  8        2.72                 2.4  ...   \n",
              "3                  9        1.53                40.0  ...   \n",
              "4                 19        2.46                 NaN  ...   \n",
              "...              ...         ...                 ...  ...   \n",
              "268845             0        2.74                10.0  ...   \n",
              "268846            12        6.49                 NaN  ...   \n",
              "268847            21        2.90                40.0  ...   \n",
              "268848            16        4.39                 NaN  ...   \n",
              "268849             9        5.00                 NaN  ...   \n",
              "\n",
              "                         regio2                      regio3  \\\n",
              "0                      Dortmund                     Schüren   \n",
              "1             Rhein_Pfalz_Kreis              Böhl_Iggelheim   \n",
              "2                       Dresden  Äußere_Neustadt_Antonstadt   \n",
              "3           Mittelsachsen_Kreis                    Freiberg   \n",
              "4                        Bremen           Neu_Schwachhausen   \n",
              "...                         ...                         ...   \n",
              "268845  Weilheim_Schongau_Kreis                    Eberfing   \n",
              "268846         Bergstraße_Kreis                   Viernheim   \n",
              "268847   Limburg_Weilburg_Kreis         Limburg_an_der_Lahn   \n",
              "268848                     Köln                   Dellbrück   \n",
              "268849        Frankfurt_am_Main                  Sossenheim   \n",
              "\n",
              "                                              description  \\\n",
              "0       Die ebenerdig zu erreichende Erdgeschosswohnun...   \n",
              "1       Alles neu macht der Mai – so kann es auch für ...   \n",
              "2       Der Neubau entsteht im Herzen der Dresdner Neu...   \n",
              "3       Abseits von Lärm und Abgasen in Ihre neue Wohn...   \n",
              "4       Es handelt sich hier um ein saniertes Mehrfami...   \n",
              "...                                                   ...   \n",
              "268845  Diese schöne, neuwertige Wohnung im Dachgescho...   \n",
              "268846  Hier wird eine Wohnung im 2 Familienhaus angeb...   \n",
              "268847  gemütliche 4-Zimmer-Wohnung im Obergeschoss ei...   \n",
              "268848  Neubau Erstbezug, gehobener Standard, alle Ein...   \n",
              "268849  Schöne, helle, gut geschnittene und teilmöblie...   \n",
              "\n",
              "                                               facilities heatingCosts  \\\n",
              "0       Die Wohnung ist mit Laminat ausgelegt. Das Bad...          NaN   \n",
              "1                                                     NaN          NaN   \n",
              "2       * 9 m² Balkon\\n* Bad mit bodengleicher Dusche,...          NaN   \n",
              "3                                                     NaN        87.23   \n",
              "4       Diese Wohnung wurde neu saniert und ist wie fo...          NaN   \n",
              "...                                                   ...          ...   \n",
              "268845         Fliesen und Parkett. Sichtbarer Dachstuhl.          NaN   \n",
              "268846  Parkett, Kamin, Badewanne&Dusche\\nGroßer Balko...          NaN   \n",
              "268847  Böden: Wohn-/Schlafbereich = Laminat, Küche + ...          NaN   \n",
              "268848  Wände:\\nMaler­vlies, weiß gestrichen alter­nat...        40.00   \n",
              "268849  Balkon, Keller, Fahrstuhl, Vollbad, Einbauküch...          NaN   \n",
              "\n",
              "        energyEfficiencyClass lastRefurbish  electricityBasePrice  \\\n",
              "0                         NaN           NaN                   NaN   \n",
              "1                         NaN        2019.0                   NaN   \n",
              "2                         NaN           NaN                   NaN   \n",
              "3                         NaN           NaN                   NaN   \n",
              "4                         NaN           NaN                   NaN   \n",
              "...                       ...           ...                   ...   \n",
              "268845                    NaN           NaN                   NaN   \n",
              "268846                    NaN        2015.0                   NaN   \n",
              "268847                    NaN        2019.0                   NaN   \n",
              "268848         NO_INFORMATION        2019.0                   NaN   \n",
              "268849                    NaN           NaN                   NaN   \n",
              "\n",
              "        electricityKwhPrice   date  \n",
              "0                       NaN  May19  \n",
              "1                       NaN  May19  \n",
              "2                       NaN  Oct19  \n",
              "3                       NaN  May19  \n",
              "4                       NaN  Feb20  \n",
              "...                     ...    ...  \n",
              "268845                  NaN  Feb20  \n",
              "268846                  NaN  May19  \n",
              "268847                  NaN  Feb20  \n",
              "268848                  NaN  May19  \n",
              "268849                  NaN  Feb20  \n",
              "\n",
              "[268850 rows x 49 columns]"
            ],
            "text/html": [
              "\n",
              "  <div id=\"df-946a19f5-7ef2-48ae-9909-5aa527aacfd7\">\n",
              "    <div class=\"colab-df-container\">\n",
              "      <div>\n",
              "<style scoped>\n",
              "    .dataframe tbody tr th:only-of-type {\n",
              "        vertical-align: middle;\n",
              "    }\n",
              "\n",
              "    .dataframe tbody tr th {\n",
              "        vertical-align: top;\n",
              "    }\n",
              "\n",
              "    .dataframe thead th {\n",
              "        text-align: right;\n",
              "    }\n",
              "</style>\n",
              "<table border=\"1\" class=\"dataframe\">\n",
              "  <thead>\n",
              "    <tr style=\"text-align: right;\">\n",
              "      <th></th>\n",
              "      <th>regio1</th>\n",
              "      <th>serviceCharge</th>\n",
              "      <th>heatingType</th>\n",
              "      <th>telekomTvOffer</th>\n",
              "      <th>telekomHybridUploadSpeed</th>\n",
              "      <th>newlyConst</th>\n",
              "      <th>balcony</th>\n",
              "      <th>picturecount</th>\n",
              "      <th>pricetrend</th>\n",
              "      <th>telekomUploadSpeed</th>\n",
              "      <th>...</th>\n",
              "      <th>regio2</th>\n",
              "      <th>regio3</th>\n",
              "      <th>description</th>\n",
              "      <th>facilities</th>\n",
              "      <th>heatingCosts</th>\n",
              "      <th>energyEfficiencyClass</th>\n",
              "      <th>lastRefurbish</th>\n",
              "      <th>electricityBasePrice</th>\n",
              "      <th>electricityKwhPrice</th>\n",
              "      <th>date</th>\n",
              "    </tr>\n",
              "  </thead>\n",
              "  <tbody>\n",
              "    <tr>\n",
              "      <th>0</th>\n",
              "      <td>Nordrhein_Westfalen</td>\n",
              "      <td>245.00</td>\n",
              "      <td>central_heating</td>\n",
              "      <td>ONE_YEAR_FREE</td>\n",
              "      <td>NaN</td>\n",
              "      <td>False</td>\n",
              "      <td>False</td>\n",
              "      <td>6</td>\n",
              "      <td>4.62</td>\n",
              "      <td>10.0</td>\n",
              "      <td>...</td>\n",
              "      <td>Dortmund</td>\n",
              "      <td>Schüren</td>\n",
              "      <td>Die ebenerdig zu erreichende Erdgeschosswohnun...</td>\n",
              "      <td>Die Wohnung ist mit Laminat ausgelegt. Das Bad...</td>\n",
              "      <td>NaN</td>\n",
              "      <td>NaN</td>\n",
              "      <td>NaN</td>\n",
              "      <td>NaN</td>\n",
              "      <td>NaN</td>\n",
              "      <td>May19</td>\n",
              "    </tr>\n",
              "    <tr>\n",
              "      <th>1</th>\n",
              "      <td>Rheinland_Pfalz</td>\n",
              "      <td>134.00</td>\n",
              "      <td>self_contained_central_heating</td>\n",
              "      <td>ONE_YEAR_FREE</td>\n",
              "      <td>NaN</td>\n",
              "      <td>False</td>\n",
              "      <td>True</td>\n",
              "      <td>8</td>\n",
              "      <td>3.47</td>\n",
              "      <td>10.0</td>\n",
              "      <td>...</td>\n",
              "      <td>Rhein_Pfalz_Kreis</td>\n",
              "      <td>Böhl_Iggelheim</td>\n",
              "      <td>Alles neu macht der Mai – so kann es auch für ...</td>\n",
              "      <td>NaN</td>\n",
              "      <td>NaN</td>\n",
              "      <td>NaN</td>\n",
              "      <td>2019.0</td>\n",
              "      <td>NaN</td>\n",
              "      <td>NaN</td>\n",
              "      <td>May19</td>\n",
              "    </tr>\n",
              "    <tr>\n",
              "      <th>2</th>\n",
              "      <td>Sachsen</td>\n",
              "      <td>255.00</td>\n",
              "      <td>floor_heating</td>\n",
              "      <td>ONE_YEAR_FREE</td>\n",
              "      <td>10.0</td>\n",
              "      <td>True</td>\n",
              "      <td>True</td>\n",
              "      <td>8</td>\n",
              "      <td>2.72</td>\n",
              "      <td>2.4</td>\n",
              "      <td>...</td>\n",
              "      <td>Dresden</td>\n",
              "      <td>Äußere_Neustadt_Antonstadt</td>\n",
              "      <td>Der Neubau entsteht im Herzen der Dresdner Neu...</td>\n",
              "      <td>* 9 m² Balkon\\n* Bad mit bodengleicher Dusche,...</td>\n",
              "      <td>NaN</td>\n",
              "      <td>NaN</td>\n",
              "      <td>NaN</td>\n",
              "      <td>NaN</td>\n",
              "      <td>NaN</td>\n",
              "      <td>Oct19</td>\n",
              "    </tr>\n",
              "    <tr>\n",
              "      <th>3</th>\n",
              "      <td>Sachsen</td>\n",
              "      <td>58.15</td>\n",
              "      <td>district_heating</td>\n",
              "      <td>ONE_YEAR_FREE</td>\n",
              "      <td>NaN</td>\n",
              "      <td>False</td>\n",
              "      <td>True</td>\n",
              "      <td>9</td>\n",
              "      <td>1.53</td>\n",
              "      <td>40.0</td>\n",
              "      <td>...</td>\n",
              "      <td>Mittelsachsen_Kreis</td>\n",
              "      <td>Freiberg</td>\n",
              "      <td>Abseits von Lärm und Abgasen in Ihre neue Wohn...</td>\n",
              "      <td>NaN</td>\n",
              "      <td>87.23</td>\n",
              "      <td>NaN</td>\n",
              "      <td>NaN</td>\n",
              "      <td>NaN</td>\n",
              "      <td>NaN</td>\n",
              "      <td>May19</td>\n",
              "    </tr>\n",
              "    <tr>\n",
              "      <th>4</th>\n",
              "      <td>Bremen</td>\n",
              "      <td>138.00</td>\n",
              "      <td>self_contained_central_heating</td>\n",
              "      <td>NaN</td>\n",
              "      <td>NaN</td>\n",
              "      <td>False</td>\n",
              "      <td>True</td>\n",
              "      <td>19</td>\n",
              "      <td>2.46</td>\n",
              "      <td>NaN</td>\n",
              "      <td>...</td>\n",
              "      <td>Bremen</td>\n",
              "      <td>Neu_Schwachhausen</td>\n",
              "      <td>Es handelt sich hier um ein saniertes Mehrfami...</td>\n",
              "      <td>Diese Wohnung wurde neu saniert und ist wie fo...</td>\n",
              "      <td>NaN</td>\n",
              "      <td>NaN</td>\n",
              "      <td>NaN</td>\n",
              "      <td>NaN</td>\n",
              "      <td>NaN</td>\n",
              "      <td>Feb20</td>\n",
              "    </tr>\n",
              "    <tr>\n",
              "      <th>...</th>\n",
              "      <td>...</td>\n",
              "      <td>...</td>\n",
              "      <td>...</td>\n",
              "      <td>...</td>\n",
              "      <td>...</td>\n",
              "      <td>...</td>\n",
              "      <td>...</td>\n",
              "      <td>...</td>\n",
              "      <td>...</td>\n",
              "      <td>...</td>\n",
              "      <td>...</td>\n",
              "      <td>...</td>\n",
              "      <td>...</td>\n",
              "      <td>...</td>\n",
              "      <td>...</td>\n",
              "      <td>...</td>\n",
              "      <td>...</td>\n",
              "      <td>...</td>\n",
              "      <td>...</td>\n",
              "      <td>...</td>\n",
              "      <td>...</td>\n",
              "    </tr>\n",
              "    <tr>\n",
              "      <th>268845</th>\n",
              "      <td>Bayern</td>\n",
              "      <td>90.00</td>\n",
              "      <td>heat_pump</td>\n",
              "      <td>ONE_YEAR_FREE</td>\n",
              "      <td>NaN</td>\n",
              "      <td>False</td>\n",
              "      <td>True</td>\n",
              "      <td>0</td>\n",
              "      <td>2.74</td>\n",
              "      <td>10.0</td>\n",
              "      <td>...</td>\n",
              "      <td>Weilheim_Schongau_Kreis</td>\n",
              "      <td>Eberfing</td>\n",
              "      <td>Diese schöne, neuwertige Wohnung im Dachgescho...</td>\n",
              "      <td>Fliesen und Parkett. Sichtbarer Dachstuhl.</td>\n",
              "      <td>NaN</td>\n",
              "      <td>NaN</td>\n",
              "      <td>NaN</td>\n",
              "      <td>NaN</td>\n",
              "      <td>NaN</td>\n",
              "      <td>Feb20</td>\n",
              "    </tr>\n",
              "    <tr>\n",
              "      <th>268846</th>\n",
              "      <td>Hessen</td>\n",
              "      <td>220.00</td>\n",
              "      <td>gas_heating</td>\n",
              "      <td>NaN</td>\n",
              "      <td>NaN</td>\n",
              "      <td>False</td>\n",
              "      <td>True</td>\n",
              "      <td>12</td>\n",
              "      <td>6.49</td>\n",
              "      <td>NaN</td>\n",
              "      <td>...</td>\n",
              "      <td>Bergstraße_Kreis</td>\n",
              "      <td>Viernheim</td>\n",
              "      <td>Hier wird eine Wohnung im 2 Familienhaus angeb...</td>\n",
              "      <td>Parkett, Kamin, Badewanne&amp;Dusche\\nGroßer Balko...</td>\n",
              "      <td>NaN</td>\n",
              "      <td>NaN</td>\n",
              "      <td>2015.0</td>\n",
              "      <td>NaN</td>\n",
              "      <td>NaN</td>\n",
              "      <td>May19</td>\n",
              "    </tr>\n",
              "    <tr>\n",
              "      <th>268847</th>\n",
              "      <td>Hessen</td>\n",
              "      <td>220.00</td>\n",
              "      <td>central_heating</td>\n",
              "      <td>ONE_YEAR_FREE</td>\n",
              "      <td>NaN</td>\n",
              "      <td>False</td>\n",
              "      <td>True</td>\n",
              "      <td>21</td>\n",
              "      <td>2.90</td>\n",
              "      <td>40.0</td>\n",
              "      <td>...</td>\n",
              "      <td>Limburg_Weilburg_Kreis</td>\n",
              "      <td>Limburg_an_der_Lahn</td>\n",
              "      <td>gemütliche 4-Zimmer-Wohnung im Obergeschoss ei...</td>\n",
              "      <td>Böden: Wohn-/Schlafbereich = Laminat, Küche + ...</td>\n",
              "      <td>NaN</td>\n",
              "      <td>NaN</td>\n",
              "      <td>2019.0</td>\n",
              "      <td>NaN</td>\n",
              "      <td>NaN</td>\n",
              "      <td>Feb20</td>\n",
              "    </tr>\n",
              "    <tr>\n",
              "      <th>268848</th>\n",
              "      <td>Nordrhein_Westfalen</td>\n",
              "      <td>175.00</td>\n",
              "      <td>heat_pump</td>\n",
              "      <td>NaN</td>\n",
              "      <td>NaN</td>\n",
              "      <td>True</td>\n",
              "      <td>True</td>\n",
              "      <td>16</td>\n",
              "      <td>4.39</td>\n",
              "      <td>NaN</td>\n",
              "      <td>...</td>\n",
              "      <td>Köln</td>\n",
              "      <td>Dellbrück</td>\n",
              "      <td>Neubau Erstbezug, gehobener Standard, alle Ein...</td>\n",
              "      <td>Wände:\\nMaler­vlies, weiß gestrichen alter­nat...</td>\n",
              "      <td>40.00</td>\n",
              "      <td>NO_INFORMATION</td>\n",
              "      <td>2019.0</td>\n",
              "      <td>NaN</td>\n",
              "      <td>NaN</td>\n",
              "      <td>May19</td>\n",
              "    </tr>\n",
              "    <tr>\n",
              "      <th>268849</th>\n",
              "      <td>Hessen</td>\n",
              "      <td>315.00</td>\n",
              "      <td>central_heating</td>\n",
              "      <td>NaN</td>\n",
              "      <td>NaN</td>\n",
              "      <td>False</td>\n",
              "      <td>True</td>\n",
              "      <td>9</td>\n",
              "      <td>5.00</td>\n",
              "      <td>NaN</td>\n",
              "      <td>...</td>\n",
              "      <td>Frankfurt_am_Main</td>\n",
              "      <td>Sossenheim</td>\n",
              "      <td>Schöne, helle, gut geschnittene und teilmöblie...</td>\n",
              "      <td>Balkon, Keller, Fahrstuhl, Vollbad, Einbauküch...</td>\n",
              "      <td>NaN</td>\n",
              "      <td>NaN</td>\n",
              "      <td>NaN</td>\n",
              "      <td>NaN</td>\n",
              "      <td>NaN</td>\n",
              "      <td>Feb20</td>\n",
              "    </tr>\n",
              "  </tbody>\n",
              "</table>\n",
              "<p>268850 rows × 49 columns</p>\n",
              "</div>\n",
              "      <button class=\"colab-df-convert\" onclick=\"convertToInteractive('df-946a19f5-7ef2-48ae-9909-5aa527aacfd7')\"\n",
              "              title=\"Convert this dataframe to an interactive table.\"\n",
              "              style=\"display:none;\">\n",
              "        \n",
              "  <svg xmlns=\"http://www.w3.org/2000/svg\" height=\"24px\"viewBox=\"0 0 24 24\"\n",
              "       width=\"24px\">\n",
              "    <path d=\"M0 0h24v24H0V0z\" fill=\"none\"/>\n",
              "    <path d=\"M18.56 5.44l.94 2.06.94-2.06 2.06-.94-2.06-.94-.94-2.06-.94 2.06-2.06.94zm-11 1L8.5 8.5l.94-2.06 2.06-.94-2.06-.94L8.5 2.5l-.94 2.06-2.06.94zm10 10l.94 2.06.94-2.06 2.06-.94-2.06-.94-.94-2.06-.94 2.06-2.06.94z\"/><path d=\"M17.41 7.96l-1.37-1.37c-.4-.4-.92-.59-1.43-.59-.52 0-1.04.2-1.43.59L10.3 9.45l-7.72 7.72c-.78.78-.78 2.05 0 2.83L4 21.41c.39.39.9.59 1.41.59.51 0 1.02-.2 1.41-.59l7.78-7.78 2.81-2.81c.8-.78.8-2.07 0-2.86zM5.41 20L4 18.59l7.72-7.72 1.47 1.35L5.41 20z\"/>\n",
              "  </svg>\n",
              "      </button>\n",
              "      \n",
              "  <style>\n",
              "    .colab-df-container {\n",
              "      display:flex;\n",
              "      flex-wrap:wrap;\n",
              "      gap: 12px;\n",
              "    }\n",
              "\n",
              "    .colab-df-convert {\n",
              "      background-color: #E8F0FE;\n",
              "      border: none;\n",
              "      border-radius: 50%;\n",
              "      cursor: pointer;\n",
              "      display: none;\n",
              "      fill: #1967D2;\n",
              "      height: 32px;\n",
              "      padding: 0 0 0 0;\n",
              "      width: 32px;\n",
              "    }\n",
              "\n",
              "    .colab-df-convert:hover {\n",
              "      background-color: #E2EBFA;\n",
              "      box-shadow: 0px 1px 2px rgba(60, 64, 67, 0.3), 0px 1px 3px 1px rgba(60, 64, 67, 0.15);\n",
              "      fill: #174EA6;\n",
              "    }\n",
              "\n",
              "    [theme=dark] .colab-df-convert {\n",
              "      background-color: #3B4455;\n",
              "      fill: #D2E3FC;\n",
              "    }\n",
              "\n",
              "    [theme=dark] .colab-df-convert:hover {\n",
              "      background-color: #434B5C;\n",
              "      box-shadow: 0px 1px 3px 1px rgba(0, 0, 0, 0.15);\n",
              "      filter: drop-shadow(0px 1px 2px rgba(0, 0, 0, 0.3));\n",
              "      fill: #FFFFFF;\n",
              "    }\n",
              "  </style>\n",
              "\n",
              "      <script>\n",
              "        const buttonEl =\n",
              "          document.querySelector('#df-946a19f5-7ef2-48ae-9909-5aa527aacfd7 button.colab-df-convert');\n",
              "        buttonEl.style.display =\n",
              "          google.colab.kernel.accessAllowed ? 'block' : 'none';\n",
              "\n",
              "        async function convertToInteractive(key) {\n",
              "          const element = document.querySelector('#df-946a19f5-7ef2-48ae-9909-5aa527aacfd7');\n",
              "          const dataTable =\n",
              "            await google.colab.kernel.invokeFunction('convertToInteractive',\n",
              "                                                     [key], {});\n",
              "          if (!dataTable) return;\n",
              "\n",
              "          const docLinkHtml = 'Like what you see? Visit the ' +\n",
              "            '<a target=\"_blank\" href=https://colab.research.google.com/notebooks/data_table.ipynb>data table notebook</a>'\n",
              "            + ' to learn more about interactive tables.';\n",
              "          element.innerHTML = '';\n",
              "          dataTable['output_type'] = 'display_data';\n",
              "          await google.colab.output.renderOutput(dataTable, element);\n",
              "          const docLink = document.createElement('div');\n",
              "          docLink.innerHTML = docLinkHtml;\n",
              "          element.appendChild(docLink);\n",
              "        }\n",
              "      </script>\n",
              "    </div>\n",
              "  </div>\n",
              "  "
            ]
          },
          "metadata": {},
          "execution_count": 70
        }
      ]
    },
    {
      "cell_type": "code",
      "source": [
        "df.info()"
      ],
      "metadata": {
        "id": "lmeJ0tx6fxPB",
        "colab": {
          "base_uri": "https://localhost:8080/"
        },
        "outputId": "dd076bf5-f729-4089-fad2-e01972bbbe7a"
      },
      "execution_count": 71,
      "outputs": [
        {
          "output_type": "stream",
          "name": "stdout",
          "text": [
            "<class 'pandas.core.frame.DataFrame'>\n",
            "RangeIndex: 268850 entries, 0 to 268849\n",
            "Data columns (total 49 columns):\n",
            " #   Column                    Non-Null Count   Dtype  \n",
            "---  ------                    --------------   -----  \n",
            " 0   regio1                    268850 non-null  object \n",
            " 1   serviceCharge             261941 non-null  float64\n",
            " 2   heatingType               223994 non-null  object \n",
            " 3   telekomTvOffer            236231 non-null  object \n",
            " 4   telekomHybridUploadSpeed  45020 non-null   float64\n",
            " 5   newlyConst                268850 non-null  bool   \n",
            " 6   balcony                   268850 non-null  bool   \n",
            " 7   picturecount              268850 non-null  int64  \n",
            " 8   pricetrend                267018 non-null  float64\n",
            " 9   telekomUploadSpeed        235492 non-null  float64\n",
            " 10  totalRent                 228333 non-null  float64\n",
            " 11  yearConstructed           211805 non-null  float64\n",
            " 12  scoutId                   268850 non-null  int64  \n",
            " 13  noParkSpaces              93052 non-null   float64\n",
            " 14  firingTypes               211886 non-null  object \n",
            " 15  hasKitchen                268850 non-null  bool   \n",
            " 16  geo_bln                   268850 non-null  object \n",
            " 17  cellar                    268850 non-null  bool   \n",
            " 18  yearConstructedRange      211805 non-null  float64\n",
            " 19  baseRent                  268850 non-null  float64\n",
            " 20  houseNumber               197832 non-null  object \n",
            " 21  livingSpace               268850 non-null  float64\n",
            " 22  geo_krs                   268850 non-null  object \n",
            " 23  condition                 200361 non-null  object \n",
            " 24  interiorQual              156185 non-null  object \n",
            " 25  petsAllowed               154277 non-null  object \n",
            " 26  street                    268850 non-null  object \n",
            " 27  streetPlain               197837 non-null  object \n",
            " 28  lift                      268850 non-null  bool   \n",
            " 29  baseRentRange             268850 non-null  int64  \n",
            " 30  typeOfFlat                232236 non-null  object \n",
            " 31  geo_plz                   268850 non-null  int64  \n",
            " 32  noRooms                   268850 non-null  float64\n",
            " 33  thermalChar               162344 non-null  float64\n",
            " 34  floor                     217541 non-null  float64\n",
            " 35  numberOfFloors            171118 non-null  float64\n",
            " 36  noRoomsRange              268850 non-null  int64  \n",
            " 37  garden                    268850 non-null  bool   \n",
            " 38  livingSpaceRange          268850 non-null  int64  \n",
            " 39  regio2                    268850 non-null  object \n",
            " 40  regio3                    268850 non-null  object \n",
            " 41  description               249103 non-null  object \n",
            " 42  facilities                215926 non-null  object \n",
            " 43  heatingCosts              85518 non-null   float64\n",
            " 44  energyEfficiencyClass     77787 non-null   object \n",
            " 45  lastRefurbish             80711 non-null   float64\n",
            " 46  electricityBasePrice      46846 non-null   float64\n",
            " 47  electricityKwhPrice       46846 non-null   float64\n",
            " 48  date                      268850 non-null  object \n",
            "dtypes: bool(6), float64(18), int64(6), object(19)\n",
            "memory usage: 89.7+ MB\n"
          ]
        }
      ]
    },
    {
      "cell_type": "code",
      "source": [
        "df.describe()"
      ],
      "metadata": {
        "id": "Dsiv__kqf0pj",
        "colab": {
          "base_uri": "https://localhost:8080/",
          "height": 393
        },
        "outputId": "5102d356-5953-470f-9b76-12a4d0974300"
      },
      "execution_count": 72,
      "outputs": [
        {
          "output_type": "execute_result",
          "data": {
            "text/plain": [
              "       serviceCharge  telekomHybridUploadSpeed   picturecount     pricetrend  \\\n",
              "count  261941.000000                   45020.0  268850.000000  267018.000000   \n",
              "mean      151.206113                      10.0       9.791958       3.389001   \n",
              "std       308.295790                       0.0       6.408399       1.964874   \n",
              "min         0.000000                      10.0       0.000000     -12.330000   \n",
              "25%        95.000000                      10.0       6.000000       2.000000   \n",
              "50%       135.000000                      10.0       9.000000       3.390000   \n",
              "75%       190.000000                      10.0      13.000000       4.570000   \n",
              "max    146118.000000                      10.0     121.000000      14.920000   \n",
              "\n",
              "       telekomUploadSpeed     totalRent  yearConstructed       scoutId  \\\n",
              "count       235492.000000  2.283330e+05    211805.000000  2.688500e+05   \n",
              "mean            28.804928  9.013315e+02      1966.400590  1.069697e+08   \n",
              "std             16.337151  3.323833e+04        46.992207  1.250093e+07   \n",
              "min              1.000000  0.000000e+00      1000.000000  2.887174e+07   \n",
              "25%             10.000000  4.698000e+02      1950.000000  1.066910e+08   \n",
              "50%             40.000000  6.500000e+02      1973.000000  1.111584e+08   \n",
              "75%             40.000000  9.850000e+02      1996.000000  1.137688e+08   \n",
              "max            100.000000  1.575154e+07      2090.000000  1.157117e+08   \n",
              "\n",
              "       noParkSpaces  yearConstructedRange  ...        noRooms    thermalChar  \\\n",
              "count  93052.000000         211805.000000  ...  268850.000000  162344.000000   \n",
              "mean       1.327634              3.714544  ...       2.641261     114.749533   \n",
              "std        8.361403              2.738134  ...       2.633440      61.653663   \n",
              "min        0.000000              1.000000  ...       1.000000       0.100000   \n",
              "25%        1.000000              1.000000  ...       2.000000      79.000000   \n",
              "50%        1.000000              3.000000  ...       3.000000     107.000000   \n",
              "75%        1.000000              5.000000  ...       3.000000     140.300000   \n",
              "max     2241.000000              9.000000  ...     999.990000    1996.000000   \n",
              "\n",
              "               floor  numberOfFloors   noRoomsRange  livingSpaceRange  \\\n",
              "count  217541.000000   171118.000000  268850.000000     268850.000000   \n",
              "mean        2.122405        3.572319       2.571542          3.070790   \n",
              "std         3.634934        6.375496       0.937594          1.407127   \n",
              "min        -1.000000        0.000000       1.000000          1.000000   \n",
              "25%         1.000000        2.000000       2.000000          2.000000   \n",
              "50%         2.000000        3.000000       3.000000          3.000000   \n",
              "75%         3.000000        4.000000       3.000000          4.000000   \n",
              "max       999.000000      999.000000       5.000000          7.000000   \n",
              "\n",
              "       heatingCosts  lastRefurbish  electricityBasePrice  electricityKwhPrice  \n",
              "count  85518.000000   80711.000000          46846.000000         46846.000000  \n",
              "mean      76.990866    2013.904536             89.113612             0.199769  \n",
              "std      147.716278      10.963125              5.395805             0.009667  \n",
              "min        0.000000    1015.000000             71.430000             0.170500  \n",
              "25%       54.000000    2012.000000             90.760000             0.191500  \n",
              "50%       70.000000    2017.000000             90.760000             0.198500  \n",
              "75%       90.000000    2019.000000             90.760000             0.205500  \n",
              "max    12613.000000    2919.000000             90.760000             0.227600  \n",
              "\n",
              "[8 rows x 24 columns]"
            ],
            "text/html": [
              "\n",
              "  <div id=\"df-4b4eb913-4faf-49fa-b96d-5b62a08a4891\">\n",
              "    <div class=\"colab-df-container\">\n",
              "      <div>\n",
              "<style scoped>\n",
              "    .dataframe tbody tr th:only-of-type {\n",
              "        vertical-align: middle;\n",
              "    }\n",
              "\n",
              "    .dataframe tbody tr th {\n",
              "        vertical-align: top;\n",
              "    }\n",
              "\n",
              "    .dataframe thead th {\n",
              "        text-align: right;\n",
              "    }\n",
              "</style>\n",
              "<table border=\"1\" class=\"dataframe\">\n",
              "  <thead>\n",
              "    <tr style=\"text-align: right;\">\n",
              "      <th></th>\n",
              "      <th>serviceCharge</th>\n",
              "      <th>telekomHybridUploadSpeed</th>\n",
              "      <th>picturecount</th>\n",
              "      <th>pricetrend</th>\n",
              "      <th>telekomUploadSpeed</th>\n",
              "      <th>totalRent</th>\n",
              "      <th>yearConstructed</th>\n",
              "      <th>scoutId</th>\n",
              "      <th>noParkSpaces</th>\n",
              "      <th>yearConstructedRange</th>\n",
              "      <th>...</th>\n",
              "      <th>noRooms</th>\n",
              "      <th>thermalChar</th>\n",
              "      <th>floor</th>\n",
              "      <th>numberOfFloors</th>\n",
              "      <th>noRoomsRange</th>\n",
              "      <th>livingSpaceRange</th>\n",
              "      <th>heatingCosts</th>\n",
              "      <th>lastRefurbish</th>\n",
              "      <th>electricityBasePrice</th>\n",
              "      <th>electricityKwhPrice</th>\n",
              "    </tr>\n",
              "  </thead>\n",
              "  <tbody>\n",
              "    <tr>\n",
              "      <th>count</th>\n",
              "      <td>261941.000000</td>\n",
              "      <td>45020.0</td>\n",
              "      <td>268850.000000</td>\n",
              "      <td>267018.000000</td>\n",
              "      <td>235492.000000</td>\n",
              "      <td>2.283330e+05</td>\n",
              "      <td>211805.000000</td>\n",
              "      <td>2.688500e+05</td>\n",
              "      <td>93052.000000</td>\n",
              "      <td>211805.000000</td>\n",
              "      <td>...</td>\n",
              "      <td>268850.000000</td>\n",
              "      <td>162344.000000</td>\n",
              "      <td>217541.000000</td>\n",
              "      <td>171118.000000</td>\n",
              "      <td>268850.000000</td>\n",
              "      <td>268850.000000</td>\n",
              "      <td>85518.000000</td>\n",
              "      <td>80711.000000</td>\n",
              "      <td>46846.000000</td>\n",
              "      <td>46846.000000</td>\n",
              "    </tr>\n",
              "    <tr>\n",
              "      <th>mean</th>\n",
              "      <td>151.206113</td>\n",
              "      <td>10.0</td>\n",
              "      <td>9.791958</td>\n",
              "      <td>3.389001</td>\n",
              "      <td>28.804928</td>\n",
              "      <td>9.013315e+02</td>\n",
              "      <td>1966.400590</td>\n",
              "      <td>1.069697e+08</td>\n",
              "      <td>1.327634</td>\n",
              "      <td>3.714544</td>\n",
              "      <td>...</td>\n",
              "      <td>2.641261</td>\n",
              "      <td>114.749533</td>\n",
              "      <td>2.122405</td>\n",
              "      <td>3.572319</td>\n",
              "      <td>2.571542</td>\n",
              "      <td>3.070790</td>\n",
              "      <td>76.990866</td>\n",
              "      <td>2013.904536</td>\n",
              "      <td>89.113612</td>\n",
              "      <td>0.199769</td>\n",
              "    </tr>\n",
              "    <tr>\n",
              "      <th>std</th>\n",
              "      <td>308.295790</td>\n",
              "      <td>0.0</td>\n",
              "      <td>6.408399</td>\n",
              "      <td>1.964874</td>\n",
              "      <td>16.337151</td>\n",
              "      <td>3.323833e+04</td>\n",
              "      <td>46.992207</td>\n",
              "      <td>1.250093e+07</td>\n",
              "      <td>8.361403</td>\n",
              "      <td>2.738134</td>\n",
              "      <td>...</td>\n",
              "      <td>2.633440</td>\n",
              "      <td>61.653663</td>\n",
              "      <td>3.634934</td>\n",
              "      <td>6.375496</td>\n",
              "      <td>0.937594</td>\n",
              "      <td>1.407127</td>\n",
              "      <td>147.716278</td>\n",
              "      <td>10.963125</td>\n",
              "      <td>5.395805</td>\n",
              "      <td>0.009667</td>\n",
              "    </tr>\n",
              "    <tr>\n",
              "      <th>min</th>\n",
              "      <td>0.000000</td>\n",
              "      <td>10.0</td>\n",
              "      <td>0.000000</td>\n",
              "      <td>-12.330000</td>\n",
              "      <td>1.000000</td>\n",
              "      <td>0.000000e+00</td>\n",
              "      <td>1000.000000</td>\n",
              "      <td>2.887174e+07</td>\n",
              "      <td>0.000000</td>\n",
              "      <td>1.000000</td>\n",
              "      <td>...</td>\n",
              "      <td>1.000000</td>\n",
              "      <td>0.100000</td>\n",
              "      <td>-1.000000</td>\n",
              "      <td>0.000000</td>\n",
              "      <td>1.000000</td>\n",
              "      <td>1.000000</td>\n",
              "      <td>0.000000</td>\n",
              "      <td>1015.000000</td>\n",
              "      <td>71.430000</td>\n",
              "      <td>0.170500</td>\n",
              "    </tr>\n",
              "    <tr>\n",
              "      <th>25%</th>\n",
              "      <td>95.000000</td>\n",
              "      <td>10.0</td>\n",
              "      <td>6.000000</td>\n",
              "      <td>2.000000</td>\n",
              "      <td>10.000000</td>\n",
              "      <td>4.698000e+02</td>\n",
              "      <td>1950.000000</td>\n",
              "      <td>1.066910e+08</td>\n",
              "      <td>1.000000</td>\n",
              "      <td>1.000000</td>\n",
              "      <td>...</td>\n",
              "      <td>2.000000</td>\n",
              "      <td>79.000000</td>\n",
              "      <td>1.000000</td>\n",
              "      <td>2.000000</td>\n",
              "      <td>2.000000</td>\n",
              "      <td>2.000000</td>\n",
              "      <td>54.000000</td>\n",
              "      <td>2012.000000</td>\n",
              "      <td>90.760000</td>\n",
              "      <td>0.191500</td>\n",
              "    </tr>\n",
              "    <tr>\n",
              "      <th>50%</th>\n",
              "      <td>135.000000</td>\n",
              "      <td>10.0</td>\n",
              "      <td>9.000000</td>\n",
              "      <td>3.390000</td>\n",
              "      <td>40.000000</td>\n",
              "      <td>6.500000e+02</td>\n",
              "      <td>1973.000000</td>\n",
              "      <td>1.111584e+08</td>\n",
              "      <td>1.000000</td>\n",
              "      <td>3.000000</td>\n",
              "      <td>...</td>\n",
              "      <td>3.000000</td>\n",
              "      <td>107.000000</td>\n",
              "      <td>2.000000</td>\n",
              "      <td>3.000000</td>\n",
              "      <td>3.000000</td>\n",
              "      <td>3.000000</td>\n",
              "      <td>70.000000</td>\n",
              "      <td>2017.000000</td>\n",
              "      <td>90.760000</td>\n",
              "      <td>0.198500</td>\n",
              "    </tr>\n",
              "    <tr>\n",
              "      <th>75%</th>\n",
              "      <td>190.000000</td>\n",
              "      <td>10.0</td>\n",
              "      <td>13.000000</td>\n",
              "      <td>4.570000</td>\n",
              "      <td>40.000000</td>\n",
              "      <td>9.850000e+02</td>\n",
              "      <td>1996.000000</td>\n",
              "      <td>1.137688e+08</td>\n",
              "      <td>1.000000</td>\n",
              "      <td>5.000000</td>\n",
              "      <td>...</td>\n",
              "      <td>3.000000</td>\n",
              "      <td>140.300000</td>\n",
              "      <td>3.000000</td>\n",
              "      <td>4.000000</td>\n",
              "      <td>3.000000</td>\n",
              "      <td>4.000000</td>\n",
              "      <td>90.000000</td>\n",
              "      <td>2019.000000</td>\n",
              "      <td>90.760000</td>\n",
              "      <td>0.205500</td>\n",
              "    </tr>\n",
              "    <tr>\n",
              "      <th>max</th>\n",
              "      <td>146118.000000</td>\n",
              "      <td>10.0</td>\n",
              "      <td>121.000000</td>\n",
              "      <td>14.920000</td>\n",
              "      <td>100.000000</td>\n",
              "      <td>1.575154e+07</td>\n",
              "      <td>2090.000000</td>\n",
              "      <td>1.157117e+08</td>\n",
              "      <td>2241.000000</td>\n",
              "      <td>9.000000</td>\n",
              "      <td>...</td>\n",
              "      <td>999.990000</td>\n",
              "      <td>1996.000000</td>\n",
              "      <td>999.000000</td>\n",
              "      <td>999.000000</td>\n",
              "      <td>5.000000</td>\n",
              "      <td>7.000000</td>\n",
              "      <td>12613.000000</td>\n",
              "      <td>2919.000000</td>\n",
              "      <td>90.760000</td>\n",
              "      <td>0.227600</td>\n",
              "    </tr>\n",
              "  </tbody>\n",
              "</table>\n",
              "<p>8 rows × 24 columns</p>\n",
              "</div>\n",
              "      <button class=\"colab-df-convert\" onclick=\"convertToInteractive('df-4b4eb913-4faf-49fa-b96d-5b62a08a4891')\"\n",
              "              title=\"Convert this dataframe to an interactive table.\"\n",
              "              style=\"display:none;\">\n",
              "        \n",
              "  <svg xmlns=\"http://www.w3.org/2000/svg\" height=\"24px\"viewBox=\"0 0 24 24\"\n",
              "       width=\"24px\">\n",
              "    <path d=\"M0 0h24v24H0V0z\" fill=\"none\"/>\n",
              "    <path d=\"M18.56 5.44l.94 2.06.94-2.06 2.06-.94-2.06-.94-.94-2.06-.94 2.06-2.06.94zm-11 1L8.5 8.5l.94-2.06 2.06-.94-2.06-.94L8.5 2.5l-.94 2.06-2.06.94zm10 10l.94 2.06.94-2.06 2.06-.94-2.06-.94-.94-2.06-.94 2.06-2.06.94z\"/><path d=\"M17.41 7.96l-1.37-1.37c-.4-.4-.92-.59-1.43-.59-.52 0-1.04.2-1.43.59L10.3 9.45l-7.72 7.72c-.78.78-.78 2.05 0 2.83L4 21.41c.39.39.9.59 1.41.59.51 0 1.02-.2 1.41-.59l7.78-7.78 2.81-2.81c.8-.78.8-2.07 0-2.86zM5.41 20L4 18.59l7.72-7.72 1.47 1.35L5.41 20z\"/>\n",
              "  </svg>\n",
              "      </button>\n",
              "      \n",
              "  <style>\n",
              "    .colab-df-container {\n",
              "      display:flex;\n",
              "      flex-wrap:wrap;\n",
              "      gap: 12px;\n",
              "    }\n",
              "\n",
              "    .colab-df-convert {\n",
              "      background-color: #E8F0FE;\n",
              "      border: none;\n",
              "      border-radius: 50%;\n",
              "      cursor: pointer;\n",
              "      display: none;\n",
              "      fill: #1967D2;\n",
              "      height: 32px;\n",
              "      padding: 0 0 0 0;\n",
              "      width: 32px;\n",
              "    }\n",
              "\n",
              "    .colab-df-convert:hover {\n",
              "      background-color: #E2EBFA;\n",
              "      box-shadow: 0px 1px 2px rgba(60, 64, 67, 0.3), 0px 1px 3px 1px rgba(60, 64, 67, 0.15);\n",
              "      fill: #174EA6;\n",
              "    }\n",
              "\n",
              "    [theme=dark] .colab-df-convert {\n",
              "      background-color: #3B4455;\n",
              "      fill: #D2E3FC;\n",
              "    }\n",
              "\n",
              "    [theme=dark] .colab-df-convert:hover {\n",
              "      background-color: #434B5C;\n",
              "      box-shadow: 0px 1px 3px 1px rgba(0, 0, 0, 0.15);\n",
              "      filter: drop-shadow(0px 1px 2px rgba(0, 0, 0, 0.3));\n",
              "      fill: #FFFFFF;\n",
              "    }\n",
              "  </style>\n",
              "\n",
              "      <script>\n",
              "        const buttonEl =\n",
              "          document.querySelector('#df-4b4eb913-4faf-49fa-b96d-5b62a08a4891 button.colab-df-convert');\n",
              "        buttonEl.style.display =\n",
              "          google.colab.kernel.accessAllowed ? 'block' : 'none';\n",
              "\n",
              "        async function convertToInteractive(key) {\n",
              "          const element = document.querySelector('#df-4b4eb913-4faf-49fa-b96d-5b62a08a4891');\n",
              "          const dataTable =\n",
              "            await google.colab.kernel.invokeFunction('convertToInteractive',\n",
              "                                                     [key], {});\n",
              "          if (!dataTable) return;\n",
              "\n",
              "          const docLinkHtml = 'Like what you see? Visit the ' +\n",
              "            '<a target=\"_blank\" href=https://colab.research.google.com/notebooks/data_table.ipynb>data table notebook</a>'\n",
              "            + ' to learn more about interactive tables.';\n",
              "          element.innerHTML = '';\n",
              "          dataTable['output_type'] = 'display_data';\n",
              "          await google.colab.output.renderOutput(dataTable, element);\n",
              "          const docLink = document.createElement('div');\n",
              "          docLink.innerHTML = docLinkHtml;\n",
              "          element.appendChild(docLink);\n",
              "        }\n",
              "      </script>\n",
              "    </div>\n",
              "  </div>\n",
              "  "
            ]
          },
          "metadata": {},
          "execution_count": 72
        }
      ]
    },
    {
      "cell_type": "code",
      "source": [
        "df = df.dropna(thresh=0.5*df.shape[0], axis=1)\n",
        "df.shape"
      ],
      "metadata": {
        "id": "MKVhXH0qgmbf",
        "colab": {
          "base_uri": "https://localhost:8080/"
        },
        "outputId": "f7a19e1b-8b12-4233-e06e-f35dc1ac2eb4"
      },
      "execution_count": 73,
      "outputs": [
        {
          "output_type": "execute_result",
          "data": {
            "text/plain": [
              "(268850, 42)"
            ]
          },
          "metadata": {},
          "execution_count": 73
        }
      ]
    },
    {
      "cell_type": "code",
      "source": [
        "df = df.drop(df[df['totalRent'] == 0.0].index)\n",
        "df.shape"
      ],
      "metadata": {
        "id": "nXQnYurKi1jM",
        "colab": {
          "base_uri": "https://localhost:8080/"
        },
        "outputId": "a2bab034-a788-40b1-ef53-3ffda5da533a"
      },
      "execution_count": 74,
      "outputs": [
        {
          "output_type": "execute_result",
          "data": {
            "text/plain": [
              "(268614, 42)"
            ]
          },
          "metadata": {},
          "execution_count": 74
        }
      ]
    },
    {
      "cell_type": "code",
      "source": [
        "for cols in df.columns:\n",
        "    if df[cols].dtype == 'object' or df[cols].dtype == 'bool':\n",
        "        print('cols : {} , Types : {}'.format(cols,df[cols].nunique()))"
      ],
      "metadata": {
        "id": "3dX6tRaRkiMU",
        "colab": {
          "base_uri": "https://localhost:8080/"
        },
        "outputId": "27e268c7-5ce3-4699-efc4-bd535de24088"
      },
      "execution_count": 75,
      "outputs": [
        {
          "output_type": "stream",
          "name": "stdout",
          "text": [
            "cols : regio1 , Types : 16\n",
            "cols : heatingType , Types : 13\n",
            "cols : telekomTvOffer , Types : 3\n",
            "cols : newlyConst , Types : 2\n",
            "cols : balcony , Types : 2\n",
            "cols : firingTypes , Types : 132\n",
            "cols : hasKitchen , Types : 2\n",
            "cols : geo_bln , Types : 16\n",
            "cols : cellar , Types : 2\n",
            "cols : houseNumber , Types : 5510\n",
            "cols : geo_krs , Types : 419\n",
            "cols : condition , Types : 10\n",
            "cols : interiorQual , Types : 4\n",
            "cols : petsAllowed , Types : 3\n",
            "cols : street , Types : 52357\n",
            "cols : streetPlain , Types : 54468\n",
            "cols : lift , Types : 2\n",
            "cols : typeOfFlat , Types : 10\n",
            "cols : garden , Types : 2\n",
            "cols : regio2 , Types : 419\n",
            "cols : regio3 , Types : 8683\n",
            "cols : description , Types : 212402\n",
            "cols : facilities , Types : 189425\n",
            "cols : date , Types : 4\n"
          ]
        }
      ]
    },
    {
      "cell_type": "code",
      "source": [
        "df = df.drop(columns=[\n",
        "                      'facilities',\n",
        "                      'description',\n",
        "                      'streetPlain',\n",
        "                      'street',\n",
        "                      'geo_krs',\n",
        "                      'firingTypes',\n",
        "                      'houseNumber',])"
      ],
      "metadata": {
        "id": "pXhCOQTsj4xd"
      },
      "execution_count": 76,
      "outputs": []
    },
    {
      "cell_type": "code",
      "source": [
        "df.columns"
      ],
      "metadata": {
        "id": "l46oq48mo0yt",
        "colab": {
          "base_uri": "https://localhost:8080/"
        },
        "outputId": "85b3a76f-f4b1-4e0a-de7f-48819393234e"
      },
      "execution_count": 77,
      "outputs": [
        {
          "output_type": "execute_result",
          "data": {
            "text/plain": [
              "Index(['regio1', 'serviceCharge', 'heatingType', 'telekomTvOffer',\n",
              "       'newlyConst', 'balcony', 'picturecount', 'pricetrend',\n",
              "       'telekomUploadSpeed', 'totalRent', 'yearConstructed', 'scoutId',\n",
              "       'hasKitchen', 'geo_bln', 'cellar', 'yearConstructedRange', 'baseRent',\n",
              "       'livingSpace', 'condition', 'interiorQual', 'petsAllowed', 'lift',\n",
              "       'baseRentRange', 'typeOfFlat', 'geo_plz', 'noRooms', 'thermalChar',\n",
              "       'floor', 'numberOfFloors', 'noRoomsRange', 'garden', 'livingSpaceRange',\n",
              "       'regio2', 'regio3', 'date'],\n",
              "      dtype='object')"
            ]
          },
          "metadata": {},
          "execution_count": 77
        }
      ]
    },
    {
      "cell_type": "code",
      "source": [
        "df.drop(columns=[\n",
        "                 'livingSpaceRange',\n",
        "                 'geo_plz',\n",
        "                 'scoutId',\n",
        "                 'telekomUploadSpeed',\n",
        "                 'telekomTvOffer',\n",
        "                 'pricetrend',\n",
        "                 'noRoomsRange',\n",
        "                 'picturecount',\n",
        "                 'geo_bln',\n",
        "                 'date',\n",
        "                 'baseRentRange',\n",
        "                 'yearConstructedRange']\n",
        "        ,inplace=True)"
      ],
      "metadata": {
        "id": "7xYhlCbswnz0"
      },
      "execution_count": 78,
      "outputs": []
    },
    {
      "cell_type": "code",
      "source": [
        "df.drop_duplicates(keep=False,inplace=True)\n",
        "df.shape"
      ],
      "metadata": {
        "id": "QvnqGPUek86a",
        "colab": {
          "base_uri": "https://localhost:8080/"
        },
        "outputId": "7eb47918-bae8-4753-c79e-30ce958479d2"
      },
      "execution_count": 79,
      "outputs": [
        {
          "output_type": "execute_result",
          "data": {
            "text/plain": [
              "(257589, 23)"
            ]
          },
          "metadata": {},
          "execution_count": 79
        }
      ]
    },
    {
      "cell_type": "code",
      "source": [
        "for column in df.columns:\n",
        "  print(df[column].dtype)"
      ],
      "metadata": {
        "id": "fvDfQHY0q_n8",
        "colab": {
          "base_uri": "https://localhost:8080/"
        },
        "outputId": "4ae4bff9-88cd-4b3d-9b12-6614441412ed"
      },
      "execution_count": 80,
      "outputs": [
        {
          "output_type": "stream",
          "name": "stdout",
          "text": [
            "object\n",
            "float64\n",
            "object\n",
            "bool\n",
            "bool\n",
            "float64\n",
            "float64\n",
            "bool\n",
            "bool\n",
            "float64\n",
            "float64\n",
            "object\n",
            "object\n",
            "object\n",
            "bool\n",
            "object\n",
            "float64\n",
            "float64\n",
            "float64\n",
            "float64\n",
            "bool\n",
            "object\n",
            "object\n"
          ]
        }
      ]
    },
    {
      "cell_type": "code",
      "source": [
        "for column in df.columns:\n",
        "    if df[column].dtype == float or df[column].dtype == int:\n",
        "        upper = df[column].mean() + 3 * df[column].std()\n",
        "        lower = df[column].mean() - 3 * df[column].std()\n",
        "        rows = df[(df[column] > upper) | (df[column] < lower)].index\n",
        "\n",
        "        df.drop(rows, inplace=True)\n",
        "  "
      ],
      "metadata": {
        "id": "ci77d9nDrMOs"
      },
      "execution_count": 81,
      "outputs": []
    },
    {
      "cell_type": "code",
      "source": [
        "df.isna().sum()"
      ],
      "metadata": {
        "id": "6qklf16vmLSH",
        "colab": {
          "base_uri": "https://localhost:8080/"
        },
        "outputId": "412343d4-d9c1-48c2-8a18-b60ef78d9a07"
      },
      "execution_count": 82,
      "outputs": [
        {
          "output_type": "execute_result",
          "data": {
            "text/plain": [
              "regio1                  0\n",
              "serviceCharge        6628\n",
              "heatingType         42238\n",
              "newlyConst              0\n",
              "balcony                 0\n",
              "totalRent           38399\n",
              "yearConstructed     54653\n",
              "hasKitchen              0\n",
              "cellar                  0\n",
              "baseRent                0\n",
              "livingSpace             0\n",
              "condition           64634\n",
              "interiorQual       106010\n",
              "petsAllowed        107883\n",
              "lift                    0\n",
              "typeOfFlat          34314\n",
              "noRooms                 0\n",
              "thermalChar        101782\n",
              "floor               48502\n",
              "numberOfFloors      91846\n",
              "garden                  0\n",
              "regio2                  0\n",
              "regio3                  0\n",
              "dtype: int64"
            ]
          },
          "metadata": {},
          "execution_count": 82
        }
      ]
    },
    {
      "cell_type": "code",
      "source": [
        "import time"
      ],
      "metadata": {
        "id": "ynTTMUAogWOh"
      },
      "execution_count": 83,
      "outputs": []
    },
    {
      "cell_type": "code",
      "source": [
        "temp = df.copy(deep=True)"
      ],
      "metadata": {
        "id": "P3NUAs2bggLr"
      },
      "execution_count": 84,
      "outputs": []
    },
    {
      "cell_type": "code",
      "source": [
        "s_time = time.time()\n",
        "df.fillna(df._get_numeric_data().mean(),inplace = True)\n",
        "s_time = time.time() - s_time"
      ],
      "metadata": {
        "id": "S8eWTxj3sc_x"
      },
      "execution_count": 85,
      "outputs": []
    },
    {
      "cell_type": "code",
      "source": [
        "df['heatingType'].fillna(df['heatingType'].mode()[0], inplace=True)\n",
        "df['condition'].fillna(df['condition'].mode()[0], inplace=True)\n",
        "df['interiorQual'].fillna(df['interiorQual'].mode()[0], inplace=True)\n",
        "df['petsAllowed'].fillna(df['petsAllowed'].mode()[0], inplace=True)\n",
        "df['typeOfFlat'].fillna(df['typeOfFlat'].mode()[0], inplace=True)\n"
      ],
      "metadata": {
        "id": "QXFzTBoOtnZ1"
      },
      "execution_count": 86,
      "outputs": []
    },
    {
      "cell_type": "code",
      "source": [
        "df.isna().sum()"
      ],
      "metadata": {
        "id": "8iz6rPjpsfEK",
        "colab": {
          "base_uri": "https://localhost:8080/"
        },
        "outputId": "b39ac858-8425-4f86-a86e-58a83bb431d0"
      },
      "execution_count": 87,
      "outputs": [
        {
          "output_type": "execute_result",
          "data": {
            "text/plain": [
              "regio1             0\n",
              "serviceCharge      0\n",
              "heatingType        0\n",
              "newlyConst         0\n",
              "balcony            0\n",
              "totalRent          0\n",
              "yearConstructed    0\n",
              "hasKitchen         0\n",
              "cellar             0\n",
              "baseRent           0\n",
              "livingSpace        0\n",
              "condition          0\n",
              "interiorQual       0\n",
              "petsAllowed        0\n",
              "lift               0\n",
              "typeOfFlat         0\n",
              "noRooms            0\n",
              "thermalChar        0\n",
              "floor              0\n",
              "numberOfFloors     0\n",
              "garden             0\n",
              "regio2             0\n",
              "regio3             0\n",
              "dtype: int64"
            ]
          },
          "metadata": {},
          "execution_count": 87
        }
      ]
    },
    {
      "cell_type": "code",
      "source": [
        "for cols in df.columns:\n",
        "    if df[cols].dtype == 'object' or df[cols].dtype == 'bool':\n",
        "        print('cols : {} , Types : {}'.format(cols,df[cols].nunique()))"
      ],
      "metadata": {
        "id": "V3OrxtbNyYUU",
        "colab": {
          "base_uri": "https://localhost:8080/"
        },
        "outputId": "1ee5e240-30a0-48c0-cfd7-7e17aabe5d65"
      },
      "execution_count": 88,
      "outputs": [
        {
          "output_type": "stream",
          "name": "stdout",
          "text": [
            "cols : regio1 , Types : 16\n",
            "cols : heatingType , Types : 13\n",
            "cols : newlyConst , Types : 2\n",
            "cols : balcony , Types : 2\n",
            "cols : hasKitchen , Types : 2\n",
            "cols : cellar , Types : 2\n",
            "cols : condition , Types : 10\n",
            "cols : interiorQual , Types : 4\n",
            "cols : petsAllowed , Types : 3\n",
            "cols : lift , Types : 2\n",
            "cols : typeOfFlat , Types : 10\n",
            "cols : garden , Types : 2\n",
            "cols : regio2 , Types : 419\n",
            "cols : regio3 , Types : 8638\n"
          ]
        }
      ]
    },
    {
      "cell_type": "code",
      "source": [
        "df['regio1'].value_counts()"
      ],
      "metadata": {
        "id": "w0SI_1fVz5U_",
        "colab": {
          "base_uri": "https://localhost:8080/"
        },
        "outputId": "1b0c31dc-b601-4979-bb44-06e773d84c36"
      },
      "execution_count": 89,
      "outputs": [
        {
          "output_type": "execute_result",
          "data": {
            "text/plain": [
              "Nordrhein_Westfalen       60273\n",
              "Sachsen                   53522\n",
              "Bayern                    20924\n",
              "Sachsen_Anhalt            18728\n",
              "Hessen                    16918\n",
              "Niedersachsen             16021\n",
              "Baden_Württemberg         15484\n",
              "Berlin                     9815\n",
              "Rheinland_Pfalz            8006\n",
              "Thüringen                  7936\n",
              "Brandenburg                6587\n",
              "Schleswig_Holstein         6420\n",
              "Mecklenburg_Vorpommern     6324\n",
              "Hamburg                    3603\n",
              "Bremen                     2851\n",
              "Saarland                   1378\n",
              "Name: regio1, dtype: int64"
            ]
          },
          "metadata": {},
          "execution_count": 89
        }
      ]
    },
    {
      "cell_type": "code",
      "source": [
        "others = list(df['regio1'].value_counts().tail(6).index)\n",
        "\n",
        "def edit_condition(x):\n",
        "    if x in others:\n",
        "        return 'other'\n",
        "    else:\n",
        "        return x\n",
        "    \n",
        "df['edited_regio1'] = df['regio1'].apply(edit_condition)\n",
        "df = df.drop(columns=['regio1'])\n",
        "df['edited_regio1'].value_counts()"
      ],
      "metadata": {
        "id": "3tl_FaJ8z0f0",
        "colab": {
          "base_uri": "https://localhost:8080/"
        },
        "outputId": "43e31cb2-bfd2-42b0-9ab7-c655d78f0c34"
      },
      "execution_count": 90,
      "outputs": [
        {
          "output_type": "execute_result",
          "data": {
            "text/plain": [
              "Nordrhein_Westfalen    60273\n",
              "Sachsen                53522\n",
              "other                  27163\n",
              "Bayern                 20924\n",
              "Sachsen_Anhalt         18728\n",
              "Hessen                 16918\n",
              "Niedersachsen          16021\n",
              "Baden_Württemberg      15484\n",
              "Berlin                  9815\n",
              "Rheinland_Pfalz         8006\n",
              "Thüringen               7936\n",
              "Name: edited_regio1, dtype: int64"
            ]
          },
          "metadata": {},
          "execution_count": 90
        }
      ]
    },
    {
      "cell_type": "code",
      "source": [
        "df['regio2'].value_counts()"
      ],
      "metadata": {
        "id": "FY0OlEoe_Gbk",
        "colab": {
          "base_uri": "https://localhost:8080/"
        },
        "outputId": "2b7d4840-631f-4b34-c312-38cfb08b8ddb"
      },
      "execution_count": 91,
      "outputs": [
        {
          "output_type": "execute_result",
          "data": {
            "text/plain": [
              "Leipzig                         12809\n",
              "Chemnitz                        11393\n",
              "Berlin                           9815\n",
              "Dresden                          7055\n",
              "Magdeburg                        4547\n",
              "                                ...  \n",
              "Freyung_Grafenau_Kreis             26\n",
              "Schweinfurt_Kreis                  26\n",
              "Haßberge_Kreis                     23\n",
              "Neustadt_a.d._Waldnaab_Kreis       16\n",
              "Kronach_Kreis                      12\n",
              "Name: regio2, Length: 419, dtype: int64"
            ]
          },
          "metadata": {},
          "execution_count": 91
        }
      ]
    },
    {
      "cell_type": "code",
      "source": [
        "others = list(df['regio2'].value_counts().tail(409).index)\n",
        "\n",
        "    \n",
        "df['edited_regio2'] = df['regio2'].apply(edit_condition)\n",
        "df = df.drop(columns=['regio2'])\n",
        "df['edited_regio2'].value_counts()"
      ],
      "metadata": {
        "id": "-cc5OPoe_TUP",
        "colab": {
          "base_uri": "https://localhost:8080/"
        },
        "outputId": "e80ef390-205a-4c36-bce6-45b45ecadb15"
      },
      "execution_count": 92,
      "outputs": [
        {
          "output_type": "execute_result",
          "data": {
            "text/plain": [
              "other                189082\n",
              "Leipzig               12809\n",
              "Chemnitz              11393\n",
              "Berlin                 9815\n",
              "Dresden                7055\n",
              "Magdeburg              4547\n",
              "München                4261\n",
              "Halle_Saale            4175\n",
              "Essen                  4140\n",
              "Frankfurt_am_Main      3910\n",
              "Hamburg                3603\n",
              "Name: edited_regio2, dtype: int64"
            ]
          },
          "metadata": {},
          "execution_count": 92
        }
      ]
    },
    {
      "cell_type": "code",
      "source": [
        "df['regio3'].value_counts()"
      ],
      "metadata": {
        "id": "7arU54xD_91T",
        "colab": {
          "base_uri": "https://localhost:8080/"
        },
        "outputId": "59f17dac-c3a3-46a4-ede6-682ee64ad209"
      },
      "execution_count": 93,
      "outputs": [
        {
          "output_type": "execute_result",
          "data": {
            "text/plain": [
              "Innenstadt       4515\n",
              "Stadtmitte       2583\n",
              "Altstadt         2197\n",
              "Sonnenberg       1748\n",
              "Kaßberg          1554\n",
              "                 ... \n",
              "Ludwigswinkel       1\n",
              "Kirchenlamitz       1\n",
              "Pellingen           1\n",
              "Schönecken          1\n",
              "Eberfing            1\n",
              "Name: regio3, Length: 8638, dtype: int64"
            ]
          },
          "metadata": {},
          "execution_count": 93
        }
      ]
    },
    {
      "cell_type": "code",
      "source": [
        "others = list(df['regio3'].value_counts().tail(8620).index)\n",
        "\n",
        "    \n",
        "df['edited_regio3'] = df['regio3'].apply(edit_condition)\n",
        "df = df.drop(columns=['regio3'])\n",
        "df['edited_regio3'].value_counts()"
      ],
      "metadata": {
        "id": "7TIsU4WPAG9v",
        "colab": {
          "base_uri": "https://localhost:8080/"
        },
        "outputId": "5b633f9b-58ec-444f-916c-d83a3c49e9d4"
      },
      "execution_count": 94,
      "outputs": [
        {
          "output_type": "execute_result",
          "data": {
            "text/plain": [
              "other             230289\n",
              "Innenstadt          4515\n",
              "Stadtmitte          2583\n",
              "Altstadt            2197\n",
              "Sonnenberg          1748\n",
              "Kaßberg             1554\n",
              "Mitte               1507\n",
              "Schloßchemnitz      1195\n",
              "Hilbersdorf         1045\n",
              "Südstadt            1022\n",
              "Zentrum             1014\n",
              "Merseburg            808\n",
              "Freiberg             796\n",
              "Stadtfeld_Ost        795\n",
              "Bernsdorf            770\n",
              "Gablenz              762\n",
              "Mitte_Mitte          757\n",
              "Lutherviertel        731\n",
              "Halberstadt          702\n",
              "Name: edited_regio3, dtype: int64"
            ]
          },
          "metadata": {},
          "execution_count": 94
        }
      ]
    },
    {
      "cell_type": "code",
      "source": [
        "df['heatingType'].value_counts()"
      ],
      "metadata": {
        "id": "WWx8X5xE0hrm",
        "colab": {
          "base_uri": "https://localhost:8080/"
        },
        "outputId": "d3469c40-99fa-4ed6-f2fc-6218705cbf71"
      },
      "execution_count": 95,
      "outputs": [
        {
          "output_type": "execute_result",
          "data": {
            "text/plain": [
              "central_heating                   164333\n",
              "district_heating                   23114\n",
              "gas_heating                        19194\n",
              "self_contained_central_heating     18170\n",
              "floor_heating                      16912\n",
              "oil_heating                         4935\n",
              "heat_pump                           2659\n",
              "combined_heat_and_power_plant       1925\n",
              "night_storage_heater                1269\n",
              "wood_pellet_heating                  944\n",
              "electric_heating                     862\n",
              "stove_heating                        309\n",
              "solar_heating                        164\n",
              "Name: heatingType, dtype: int64"
            ]
          },
          "metadata": {},
          "execution_count": 95
        }
      ]
    },
    {
      "cell_type": "code",
      "source": [
        "others = list(df['heatingType'].value_counts().tail(8).index)\n",
        "\n",
        "   \n",
        "df['edited_heatingType'] = df['heatingType'].apply(edit_condition)\n",
        "df = df.drop(columns=['heatingType'])\n",
        "df['edited_heatingType'].value_counts()"
      ],
      "metadata": {
        "id": "cBvCa92V0pet",
        "colab": {
          "base_uri": "https://localhost:8080/"
        },
        "outputId": "10f39dd3-8def-4201-934c-63c8d8f399bf"
      },
      "execution_count": 96,
      "outputs": [
        {
          "output_type": "execute_result",
          "data": {
            "text/plain": [
              "central_heating                   164333\n",
              "district_heating                   23114\n",
              "gas_heating                        19194\n",
              "self_contained_central_heating     18170\n",
              "floor_heating                      16912\n",
              "other                              13067\n",
              "Name: edited_heatingType, dtype: int64"
            ]
          },
          "metadata": {},
          "execution_count": 96
        }
      ]
    },
    {
      "cell_type": "code",
      "source": [
        "df['condition'].value_counts()"
      ],
      "metadata": {
        "id": "hXW8DNg5zKbz",
        "colab": {
          "base_uri": "https://localhost:8080/"
        },
        "outputId": "511f8608-7a7e-4453-93c2-82c5f9e7dc5e"
      },
      "execution_count": 97,
      "outputs": [
        {
          "output_type": "execute_result",
          "data": {
            "text/plain": [
              "well_kept                             128282\n",
              "refurbished                            25117\n",
              "fully_renovated                        25026\n",
              "mint_condition                         21107\n",
              "first_time_use                         20626\n",
              "modernized                             16450\n",
              "first_time_use_after_refurbishment     14805\n",
              "negotiable                              2053\n",
              "need_of_renovation                      1320\n",
              "ripe_for_demolition                        4\n",
              "Name: condition, dtype: int64"
            ]
          },
          "metadata": {},
          "execution_count": 97
        }
      ]
    },
    {
      "cell_type": "code",
      "source": [
        "others = list(df['condition'].value_counts().tail(5).index)\n",
        "\n",
        "df['edited_condition'] = df['condition'].apply(edit_condition)\n",
        "df = df.drop(columns=['condition'])\n",
        "df['edited_condition'].value_counts()"
      ],
      "metadata": {
        "id": "jRhdFv-Cytcp",
        "colab": {
          "base_uri": "https://localhost:8080/"
        },
        "outputId": "839b4398-5103-43ba-e08b-da1570be2f53"
      },
      "execution_count": 98,
      "outputs": [
        {
          "output_type": "execute_result",
          "data": {
            "text/plain": [
              "well_kept          128282\n",
              "other               34632\n",
              "refurbished         25117\n",
              "fully_renovated     25026\n",
              "mint_condition      21107\n",
              "first_time_use      20626\n",
              "Name: edited_condition, dtype: int64"
            ]
          },
          "metadata": {},
          "execution_count": 98
        }
      ]
    },
    {
      "cell_type": "code",
      "source": [
        "df['typeOfFlat'].value_counts()"
      ],
      "metadata": {
        "id": "au0m2b1s07l-",
        "colab": {
          "base_uri": "https://localhost:8080/"
        },
        "outputId": "d7f67dfb-dcf2-4f4f-c23c-f90929bba0a1"
      },
      "execution_count": 99,
      "outputs": [
        {
          "output_type": "execute_result",
          "data": {
            "text/plain": [
              "apartment              158408\n",
              "roof_storey             33332\n",
              "ground_floor            30120\n",
              "other                    9122\n",
              "maisonette               8879\n",
              "raised_ground_floor      5392\n",
              "penthouse                3385\n",
              "terraced_flat            3270\n",
              "half_basement            1973\n",
              "loft                      909\n",
              "Name: typeOfFlat, dtype: int64"
            ]
          },
          "metadata": {},
          "execution_count": 99
        }
      ]
    },
    {
      "cell_type": "code",
      "source": [
        "others = list(df['typeOfFlat'].value_counts().tail(5).index)\n",
        "\n",
        "df['edited_typeOfFlat'] = df['typeOfFlat'].apply(edit_condition)\n",
        "df = df.drop(columns=['typeOfFlat'])\n",
        "df['edited_typeOfFlat'].value_counts()"
      ],
      "metadata": {
        "id": "9imaQShU1Kso",
        "colab": {
          "base_uri": "https://localhost:8080/"
        },
        "outputId": "ed92779f-34fa-4106-9ec5-0f7082448d71"
      },
      "execution_count": 100,
      "outputs": [
        {
          "output_type": "execute_result",
          "data": {
            "text/plain": [
              "apartment       158408\n",
              "roof_storey      33332\n",
              "ground_floor     30120\n",
              "other            24051\n",
              "maisonette        8879\n",
              "Name: edited_typeOfFlat, dtype: int64"
            ]
          },
          "metadata": {},
          "execution_count": 100
        }
      ]
    },
    {
      "cell_type": "markdown",
      "source": [
        "## 2: Data Virtualization"
      ],
      "metadata": {
        "id": "lwPc9jE3uZeN"
      }
    },
    {
      "cell_type": "code",
      "source": [
        "df.info()"
      ],
      "metadata": {
        "id": "qMVvoE--eLQb",
        "colab": {
          "base_uri": "https://localhost:8080/"
        },
        "outputId": "afbfc241-872c-4fca-f7b7-ed28ac647249"
      },
      "execution_count": 101,
      "outputs": [
        {
          "output_type": "stream",
          "name": "stdout",
          "text": [
            "<class 'pandas.core.frame.DataFrame'>\n",
            "Int64Index: 254790 entries, 0 to 268849\n",
            "Data columns (total 23 columns):\n",
            " #   Column              Non-Null Count   Dtype  \n",
            "---  ------              --------------   -----  \n",
            " 0   serviceCharge       254790 non-null  float64\n",
            " 1   newlyConst          254790 non-null  bool   \n",
            " 2   balcony             254790 non-null  bool   \n",
            " 3   totalRent           254790 non-null  float64\n",
            " 4   yearConstructed     254790 non-null  float64\n",
            " 5   hasKitchen          254790 non-null  bool   \n",
            " 6   cellar              254790 non-null  bool   \n",
            " 7   baseRent            254790 non-null  float64\n",
            " 8   livingSpace         254790 non-null  float64\n",
            " 9   interiorQual        254790 non-null  object \n",
            " 10  petsAllowed         254790 non-null  object \n",
            " 11  lift                254790 non-null  bool   \n",
            " 12  noRooms             254790 non-null  float64\n",
            " 13  thermalChar         254790 non-null  float64\n",
            " 14  floor               254790 non-null  float64\n",
            " 15  numberOfFloors      254790 non-null  float64\n",
            " 16  garden              254790 non-null  bool   \n",
            " 17  edited_regio1       254790 non-null  object \n",
            " 18  edited_regio2       254790 non-null  object \n",
            " 19  edited_regio3       254790 non-null  object \n",
            " 20  edited_heatingType  254790 non-null  object \n",
            " 21  edited_condition    254790 non-null  object \n",
            " 22  edited_typeOfFlat   254790 non-null  object \n",
            "dtypes: bool(6), float64(9), object(8)\n",
            "memory usage: 36.4+ MB\n"
          ]
        }
      ]
    },
    {
      "cell_type": "code",
      "source": [
        "df.describe()"
      ],
      "metadata": {
        "id": "_6vLsbqF4BDb",
        "colab": {
          "base_uri": "https://localhost:8080/",
          "height": 300
        },
        "outputId": "38b322cd-55ae-4210-ec8e-5e71d1d0de99"
      },
      "execution_count": 102,
      "outputs": [
        {
          "output_type": "execute_result",
          "data": {
            "text/plain": [
              "       serviceCharge      totalRent  yearConstructed       baseRent  \\\n",
              "count  254790.000000  254790.000000    254790.000000  254790.000000   \n",
              "mean      150.269469     815.062770      1968.070257     646.957781   \n",
              "std        82.296655     546.033627        34.013995     499.030200   \n",
              "min         0.000000       1.000000      1825.000000       0.000000   \n",
              "25%        98.000000     499.000000      1958.000000     340.000000   \n",
              "50%       140.000000     749.000000      1968.070257     495.000000   \n",
              "75%       185.987500     905.000000      1992.000000     800.000000   \n",
              "max      1093.130000   64651.000000      2090.000000   39200.000000   \n",
              "\n",
              "         livingSpace        noRooms    thermalChar          floor  \\\n",
              "count  254790.000000  254790.000000  254790.000000  254790.000000   \n",
              "mean       73.505018       2.628695     112.672859       2.061128   \n",
              "std        31.593902       0.976174      37.883182       1.386709   \n",
              "min         0.000000       1.000000       0.100000      -1.000000   \n",
              "25%        54.050000       2.000000      98.000000       1.000000   \n",
              "50%        67.660000       3.000000     112.672859       2.000000   \n",
              "75%        87.000000       3.000000     116.600000       3.000000   \n",
              "max       649.000000      10.000000     300.100000      12.000000   \n",
              "\n",
              "       numberOfFloors  \n",
              "count   254790.000000  \n",
              "mean         3.478121  \n",
              "std          1.440700  \n",
              "min          0.000000  \n",
              "25%          3.000000  \n",
              "50%          3.478121  \n",
              "75%          4.000000  \n",
              "max         23.000000  "
            ],
            "text/html": [
              "\n",
              "  <div id=\"df-96ea703a-dd38-4fbb-935d-5f8d532f0387\">\n",
              "    <div class=\"colab-df-container\">\n",
              "      <div>\n",
              "<style scoped>\n",
              "    .dataframe tbody tr th:only-of-type {\n",
              "        vertical-align: middle;\n",
              "    }\n",
              "\n",
              "    .dataframe tbody tr th {\n",
              "        vertical-align: top;\n",
              "    }\n",
              "\n",
              "    .dataframe thead th {\n",
              "        text-align: right;\n",
              "    }\n",
              "</style>\n",
              "<table border=\"1\" class=\"dataframe\">\n",
              "  <thead>\n",
              "    <tr style=\"text-align: right;\">\n",
              "      <th></th>\n",
              "      <th>serviceCharge</th>\n",
              "      <th>totalRent</th>\n",
              "      <th>yearConstructed</th>\n",
              "      <th>baseRent</th>\n",
              "      <th>livingSpace</th>\n",
              "      <th>noRooms</th>\n",
              "      <th>thermalChar</th>\n",
              "      <th>floor</th>\n",
              "      <th>numberOfFloors</th>\n",
              "    </tr>\n",
              "  </thead>\n",
              "  <tbody>\n",
              "    <tr>\n",
              "      <th>count</th>\n",
              "      <td>254790.000000</td>\n",
              "      <td>254790.000000</td>\n",
              "      <td>254790.000000</td>\n",
              "      <td>254790.000000</td>\n",
              "      <td>254790.000000</td>\n",
              "      <td>254790.000000</td>\n",
              "      <td>254790.000000</td>\n",
              "      <td>254790.000000</td>\n",
              "      <td>254790.000000</td>\n",
              "    </tr>\n",
              "    <tr>\n",
              "      <th>mean</th>\n",
              "      <td>150.269469</td>\n",
              "      <td>815.062770</td>\n",
              "      <td>1968.070257</td>\n",
              "      <td>646.957781</td>\n",
              "      <td>73.505018</td>\n",
              "      <td>2.628695</td>\n",
              "      <td>112.672859</td>\n",
              "      <td>2.061128</td>\n",
              "      <td>3.478121</td>\n",
              "    </tr>\n",
              "    <tr>\n",
              "      <th>std</th>\n",
              "      <td>82.296655</td>\n",
              "      <td>546.033627</td>\n",
              "      <td>34.013995</td>\n",
              "      <td>499.030200</td>\n",
              "      <td>31.593902</td>\n",
              "      <td>0.976174</td>\n",
              "      <td>37.883182</td>\n",
              "      <td>1.386709</td>\n",
              "      <td>1.440700</td>\n",
              "    </tr>\n",
              "    <tr>\n",
              "      <th>min</th>\n",
              "      <td>0.000000</td>\n",
              "      <td>1.000000</td>\n",
              "      <td>1825.000000</td>\n",
              "      <td>0.000000</td>\n",
              "      <td>0.000000</td>\n",
              "      <td>1.000000</td>\n",
              "      <td>0.100000</td>\n",
              "      <td>-1.000000</td>\n",
              "      <td>0.000000</td>\n",
              "    </tr>\n",
              "    <tr>\n",
              "      <th>25%</th>\n",
              "      <td>98.000000</td>\n",
              "      <td>499.000000</td>\n",
              "      <td>1958.000000</td>\n",
              "      <td>340.000000</td>\n",
              "      <td>54.050000</td>\n",
              "      <td>2.000000</td>\n",
              "      <td>98.000000</td>\n",
              "      <td>1.000000</td>\n",
              "      <td>3.000000</td>\n",
              "    </tr>\n",
              "    <tr>\n",
              "      <th>50%</th>\n",
              "      <td>140.000000</td>\n",
              "      <td>749.000000</td>\n",
              "      <td>1968.070257</td>\n",
              "      <td>495.000000</td>\n",
              "      <td>67.660000</td>\n",
              "      <td>3.000000</td>\n",
              "      <td>112.672859</td>\n",
              "      <td>2.000000</td>\n",
              "      <td>3.478121</td>\n",
              "    </tr>\n",
              "    <tr>\n",
              "      <th>75%</th>\n",
              "      <td>185.987500</td>\n",
              "      <td>905.000000</td>\n",
              "      <td>1992.000000</td>\n",
              "      <td>800.000000</td>\n",
              "      <td>87.000000</td>\n",
              "      <td>3.000000</td>\n",
              "      <td>116.600000</td>\n",
              "      <td>3.000000</td>\n",
              "      <td>4.000000</td>\n",
              "    </tr>\n",
              "    <tr>\n",
              "      <th>max</th>\n",
              "      <td>1093.130000</td>\n",
              "      <td>64651.000000</td>\n",
              "      <td>2090.000000</td>\n",
              "      <td>39200.000000</td>\n",
              "      <td>649.000000</td>\n",
              "      <td>10.000000</td>\n",
              "      <td>300.100000</td>\n",
              "      <td>12.000000</td>\n",
              "      <td>23.000000</td>\n",
              "    </tr>\n",
              "  </tbody>\n",
              "</table>\n",
              "</div>\n",
              "      <button class=\"colab-df-convert\" onclick=\"convertToInteractive('df-96ea703a-dd38-4fbb-935d-5f8d532f0387')\"\n",
              "              title=\"Convert this dataframe to an interactive table.\"\n",
              "              style=\"display:none;\">\n",
              "        \n",
              "  <svg xmlns=\"http://www.w3.org/2000/svg\" height=\"24px\"viewBox=\"0 0 24 24\"\n",
              "       width=\"24px\">\n",
              "    <path d=\"M0 0h24v24H0V0z\" fill=\"none\"/>\n",
              "    <path d=\"M18.56 5.44l.94 2.06.94-2.06 2.06-.94-2.06-.94-.94-2.06-.94 2.06-2.06.94zm-11 1L8.5 8.5l.94-2.06 2.06-.94-2.06-.94L8.5 2.5l-.94 2.06-2.06.94zm10 10l.94 2.06.94-2.06 2.06-.94-2.06-.94-.94-2.06-.94 2.06-2.06.94z\"/><path d=\"M17.41 7.96l-1.37-1.37c-.4-.4-.92-.59-1.43-.59-.52 0-1.04.2-1.43.59L10.3 9.45l-7.72 7.72c-.78.78-.78 2.05 0 2.83L4 21.41c.39.39.9.59 1.41.59.51 0 1.02-.2 1.41-.59l7.78-7.78 2.81-2.81c.8-.78.8-2.07 0-2.86zM5.41 20L4 18.59l7.72-7.72 1.47 1.35L5.41 20z\"/>\n",
              "  </svg>\n",
              "      </button>\n",
              "      \n",
              "  <style>\n",
              "    .colab-df-container {\n",
              "      display:flex;\n",
              "      flex-wrap:wrap;\n",
              "      gap: 12px;\n",
              "    }\n",
              "\n",
              "    .colab-df-convert {\n",
              "      background-color: #E8F0FE;\n",
              "      border: none;\n",
              "      border-radius: 50%;\n",
              "      cursor: pointer;\n",
              "      display: none;\n",
              "      fill: #1967D2;\n",
              "      height: 32px;\n",
              "      padding: 0 0 0 0;\n",
              "      width: 32px;\n",
              "    }\n",
              "\n",
              "    .colab-df-convert:hover {\n",
              "      background-color: #E2EBFA;\n",
              "      box-shadow: 0px 1px 2px rgba(60, 64, 67, 0.3), 0px 1px 3px 1px rgba(60, 64, 67, 0.15);\n",
              "      fill: #174EA6;\n",
              "    }\n",
              "\n",
              "    [theme=dark] .colab-df-convert {\n",
              "      background-color: #3B4455;\n",
              "      fill: #D2E3FC;\n",
              "    }\n",
              "\n",
              "    [theme=dark] .colab-df-convert:hover {\n",
              "      background-color: #434B5C;\n",
              "      box-shadow: 0px 1px 3px 1px rgba(0, 0, 0, 0.15);\n",
              "      filter: drop-shadow(0px 1px 2px rgba(0, 0, 0, 0.3));\n",
              "      fill: #FFFFFF;\n",
              "    }\n",
              "  </style>\n",
              "\n",
              "      <script>\n",
              "        const buttonEl =\n",
              "          document.querySelector('#df-96ea703a-dd38-4fbb-935d-5f8d532f0387 button.colab-df-convert');\n",
              "        buttonEl.style.display =\n",
              "          google.colab.kernel.accessAllowed ? 'block' : 'none';\n",
              "\n",
              "        async function convertToInteractive(key) {\n",
              "          const element = document.querySelector('#df-96ea703a-dd38-4fbb-935d-5f8d532f0387');\n",
              "          const dataTable =\n",
              "            await google.colab.kernel.invokeFunction('convertToInteractive',\n",
              "                                                     [key], {});\n",
              "          if (!dataTable) return;\n",
              "\n",
              "          const docLinkHtml = 'Like what you see? Visit the ' +\n",
              "            '<a target=\"_blank\" href=https://colab.research.google.com/notebooks/data_table.ipynb>data table notebook</a>'\n",
              "            + ' to learn more about interactive tables.';\n",
              "          element.innerHTML = '';\n",
              "          dataTable['output_type'] = 'display_data';\n",
              "          await google.colab.output.renderOutput(dataTable, element);\n",
              "          const docLink = document.createElement('div');\n",
              "          docLink.innerHTML = docLinkHtml;\n",
              "          element.appendChild(docLink);\n",
              "        }\n",
              "      </script>\n",
              "    </div>\n",
              "  </div>\n",
              "  "
            ]
          },
          "metadata": {},
          "execution_count": 102
        }
      ]
    },
    {
      "cell_type": "code",
      "source": [
        "df['edited_regio1'].value_counts().plot(kind='barh', title='Advertisements of differents regions in Germany', color=['red', 'pink', 'deeppink'])"
      ],
      "metadata": {
        "id": "NqZYR5sK4Quz",
        "colab": {
          "base_uri": "https://localhost:8080/",
          "height": 298
        },
        "outputId": "6e719218-17af-4bae-b995-38fefdab6b16"
      },
      "execution_count": 103,
      "outputs": [
        {
          "output_type": "execute_result",
          "data": {
            "text/plain": [
              "<matplotlib.axes._subplots.AxesSubplot at 0x7f7a3e158e90>"
            ]
          },
          "metadata": {},
          "execution_count": 103
        },
        {
          "output_type": "display_data",
          "data": {
            "text/plain": [
              "<Figure size 432x288 with 1 Axes>"
            ],
            "image/png": "[encoded data removed]"
          },
          "metadata": {
            "needs_background": "light"
          }
        }
      ]
    },
    {
      "cell_type": "code",
      "source": [
        "p2 = df['edited_regio2'].value_counts().drop('other')\n",
        "p2.plot(kind='barh', title='Advertisements of differents regions in Germany', color=['red', 'pink', 'deeppink'])"
      ],
      "metadata": {
        "id": "swTt0VcoAooa",
        "colab": {
          "base_uri": "https://localhost:8080/",
          "height": 298
        },
        "outputId": "54d564e4-ffd1-4254-a98f-f7cd2beba213"
      },
      "execution_count": 104,
      "outputs": [
        {
          "output_type": "execute_result",
          "data": {
            "text/plain": [
              "<matplotlib.axes._subplots.AxesSubplot at 0x7f7a3e046a50>"
            ]
          },
          "metadata": {},
          "execution_count": 104
        },
        {
          "output_type": "display_data",
          "data": {
            "text/plain": [
              "<Figure size 432x288 with 1 Axes>"
            ],
            "image/png": "[encoded data removed]"
          },
          "metadata": {
            "needs_background": "light"
          }
        }
      ]
    },
    {
      "cell_type": "code",
      "source": [
        "p3 = df['edited_regio3'].value_counts().drop('other')\n",
        "p3.plot(kind='barh', title='Advertisements of differents regions in Germany', color=['red', 'pink', 'deeppink'])"
      ],
      "metadata": {
        "id": "58cpZ0x9ApsF",
        "colab": {
          "base_uri": "https://localhost:8080/",
          "height": 298
        },
        "outputId": "a11ff5c7-4b40-41cd-eabf-eb5fa8b8a4df"
      },
      "execution_count": 105,
      "outputs": [
        {
          "output_type": "execute_result",
          "data": {
            "text/plain": [
              "<matplotlib.axes._subplots.AxesSubplot at 0x7f7a3dfd4ed0>"
            ]
          },
          "metadata": {},
          "execution_count": 105
        },
        {
          "output_type": "display_data",
          "data": {
            "text/plain": [
              "<Figure size 432x288 with 1 Axes>"
            ],
            "image/png": "[encoded data removed]"
          },
          "metadata": {
            "needs_background": "light"
          }
        }
      ]
    },
    {
      "cell_type": "code",
      "source": [
        "df['edited_condition'].value_counts().plot(kind='bar', title='Condition', color=['palegreen', 'darkgreen', 'yellowgreen'])"
      ],
      "metadata": {
        "id": "RFdsA5-Q6W1W",
        "colab": {
          "base_uri": "https://localhost:8080/",
          "height": 366
        },
        "outputId": "e53075e1-c2b5-42d0-ac12-7c1b12bf2da1"
      },
      "execution_count": 106,
      "outputs": [
        {
          "output_type": "execute_result",
          "data": {
            "text/plain": [
              "<matplotlib.axes._subplots.AxesSubplot at 0x7f7a3df16a90>"
            ]
          },
          "metadata": {},
          "execution_count": 106
        },
        {
          "output_type": "display_data",
          "data": {
            "text/plain": [
              "<Figure size 432x288 with 1 Axes>"
            ],
            "image/png": "[encoded data removed]"
          },
          "metadata": {
            "needs_background": "light"
          }
        }
      ]
    },
    {
      "cell_type": "code",
      "source": [
        "import plotly.express as px\n"
      ],
      "metadata": {
        "id": "HDzA-McNB_iT"
      },
      "execution_count": 107,
      "outputs": []
    },
    {
      "cell_type": "code",
      "source": [
        "mean_rent = df.groupby(['edited_regio1'])['totalRent'].mean().sort_index()\n",
        "\n",
        "fig = px.histogram(x = df['edited_regio1'].value_counts().sort_index().index,\n",
        "                   y = mean_rent,\n",
        "                   color= df['edited_regio1'].value_counts().sort_index().index\n",
        "             )\n",
        "fig.update_xaxes(title=\"City\")\n",
        "fig.update_yaxes(title = \"Average rental\")\n",
        "fig.show()"
      ],
      "metadata": {
        "id": "Xi2nB3hQBmsT",
        "colab": {
          "base_uri": "https://localhost:8080/",
          "height": 542
        },
        "outputId": "7d5192dc-386a-4916-8d47-5778e5cce063"
      },
      "execution_count": 108,
      "outputs": [
        {
          "output_type": "display_data",
          "data": {
            "text/html": [
              "<html>\n",
              "<head><meta charset=\"utf-8\" /></head>\n",
              "<body>\n",
              "    <div>            <script src=\"https://cdnjs.cloudflare.com/ajax/libs/mathjax/2.7.5/MathJax.js?config=TeX-AMS-MML_SVG\"></script><script type=\"text/javascript\">if (window.MathJax) {MathJax.Hub.Config({SVG: {font: \"STIX-Web\"}});}</script>                <script type=\"text/javascript\">window.PlotlyConfig = {MathJaxConfig: 'local'};</script>\n",
              "        <script src=\"https://cdn.plot.ly/plotly-2.8.3.min.js\"></script>                <div id=\"5072c099-4712-4c6f-aab2-eabac7bf23e1\" class=\"plotly-graph-div\" style=\"height:525px; width:100%;\"></div>            <script type=\"text/javascript\">                                    window.PLOTLYENV=window.PLOTLYENV || {};                                    if (document.getElementById(\"5072c099-4712-4c6f-aab2-eabac7bf23e1\")) {                    Plotly.newPlot(                        \"5072c099-4712-4c6f-aab2-eabac7bf23e1\",                        [{\"alignmentgroup\":\"True\",\"bingroup\":\"x\",\"histfunc\":\"sum\",\"hovertemplate\":\"color=Baden_W\\u00fcrttemberg<br>x=%{x}<br>sum of y=%{y}<extra></extra>\",\"legendgroup\":\"Baden_W\\u00fcrttemberg\",\"marker\":{\"color\":\"#636efa\",\"pattern\":{\"shape\":\"\"}},\"name\":\"Baden_W\\u00fcrttemberg\",\"offsetgroup\":\"Baden_W\\u00fcrttemberg\",\"orientation\":\"v\",\"showlegend\":true,\"x\":[\"Baden_W\\u00fcrttemberg\"],\"xaxis\":\"x\",\"y\":[1057.2466721651015],\"yaxis\":\"y\",\"type\":\"histogram\"},{\"alignmentgroup\":\"True\",\"bingroup\":\"x\",\"histfunc\":\"sum\",\"hovertemplate\":\"color=Bayern<br>x=%{x}<br>sum of y=%{y}<extra></extra>\",\"legendgroup\":\"Bayern\",\"marker\":{\"color\":\"#EF553B\",\"pattern\":{\"shape\":\"\"}},\"name\":\"Bayern\",\"offsetgroup\":\"Bayern\",\"orientation\":\"v\",\"showlegend\":true,\"x\":[\"Bayern\"],\"xaxis\":\"x\",\"y\":[1141.9310550881382],\"yaxis\":\"y\",\"type\":\"histogram\"},{\"alignmentgroup\":\"True\",\"bingroup\":\"x\",\"histfunc\":\"sum\",\"hovertemplate\":\"color=Berlin<br>x=%{x}<br>sum of y=%{y}<extra></extra>\",\"legendgroup\":\"Berlin\",\"marker\":{\"color\":\"#00cc96\",\"pattern\":{\"shape\":\"\"}},\"name\":\"Berlin\",\"offsetgroup\":\"Berlin\",\"orientation\":\"v\",\"showlegend\":true,\"x\":[\"Berlin\"],\"xaxis\":\"x\",\"y\":[1317.34561585126],\"yaxis\":\"y\",\"type\":\"histogram\"},{\"alignmentgroup\":\"True\",\"bingroup\":\"x\",\"histfunc\":\"sum\",\"hovertemplate\":\"color=Hessen<br>x=%{x}<br>sum of y=%{y}<extra></extra>\",\"legendgroup\":\"Hessen\",\"marker\":{\"color\":\"#ab63fa\",\"pattern\":{\"shape\":\"\"}},\"name\":\"Hessen\",\"offsetgroup\":\"Hessen\",\"orientation\":\"v\",\"showlegend\":true,\"x\":[\"Hessen\"],\"xaxis\":\"x\",\"y\":[1098.5056376797945],\"yaxis\":\"y\",\"type\":\"histogram\"},{\"alignmentgroup\":\"True\",\"bingroup\":\"x\",\"histfunc\":\"sum\",\"hovertemplate\":\"color=Niedersachsen<br>x=%{x}<br>sum of y=%{y}<extra></extra>\",\"legendgroup\":\"Niedersachsen\",\"marker\":{\"color\":\"#FFA15A\",\"pattern\":{\"shape\":\"\"}},\"name\":\"Niedersachsen\",\"offsetgroup\":\"Niedersachsen\",\"orientation\":\"v\",\"showlegend\":true,\"x\":[\"Niedersachsen\"],\"xaxis\":\"x\",\"y\":[785.0737891288264],\"yaxis\":\"y\",\"type\":\"histogram\"},{\"alignmentgroup\":\"True\",\"bingroup\":\"x\",\"histfunc\":\"sum\",\"hovertemplate\":\"color=Nordrhein_Westfalen<br>x=%{x}<br>sum of y=%{y}<extra></extra>\",\"legendgroup\":\"Nordrhein_Westfalen\",\"marker\":{\"color\":\"#19d3f3\",\"pattern\":{\"shape\":\"\"}},\"name\":\"Nordrhein_Westfalen\",\"offsetgroup\":\"Nordrhein_Westfalen\",\"orientation\":\"v\",\"showlegend\":true,\"x\":[\"Nordrhein_Westfalen\"],\"xaxis\":\"x\",\"y\":[788.0750649125898],\"yaxis\":\"y\",\"type\":\"histogram\"},{\"alignmentgroup\":\"True\",\"bingroup\":\"x\",\"histfunc\":\"sum\",\"hovertemplate\":\"color=Rheinland_Pfalz<br>x=%{x}<br>sum of y=%{y}<extra></extra>\",\"legendgroup\":\"Rheinland_Pfalz\",\"marker\":{\"color\":\"#FF6692\",\"pattern\":{\"shape\":\"\"}},\"name\":\"Rheinland_Pfalz\",\"offsetgroup\":\"Rheinland_Pfalz\",\"orientation\":\"v\",\"showlegend\":true,\"x\":[\"Rheinland_Pfalz\"],\"xaxis\":\"x\",\"y\":[843.0696807310339],\"yaxis\":\"y\",\"type\":\"histogram\"},{\"alignmentgroup\":\"True\",\"bingroup\":\"x\",\"histfunc\":\"sum\",\"hovertemplate\":\"color=Sachsen<br>x=%{x}<br>sum of y=%{y}<extra></extra>\",\"legendgroup\":\"Sachsen\",\"marker\":{\"color\":\"#B6E880\",\"pattern\":{\"shape\":\"\"}},\"name\":\"Sachsen\",\"offsetgroup\":\"Sachsen\",\"orientation\":\"v\",\"showlegend\":true,\"x\":[\"Sachsen\"],\"xaxis\":\"x\",\"y\":[607.5763915688644],\"yaxis\":\"y\",\"type\":\"histogram\"},{\"alignmentgroup\":\"True\",\"bingroup\":\"x\",\"histfunc\":\"sum\",\"hovertemplate\":\"color=Sachsen_Anhalt<br>x=%{x}<br>sum of y=%{y}<extra></extra>\",\"legendgroup\":\"Sachsen_Anhalt\",\"marker\":{\"color\":\"#FF97FF\",\"pattern\":{\"shape\":\"\"}},\"name\":\"Sachsen_Anhalt\",\"offsetgroup\":\"Sachsen_Anhalt\",\"orientation\":\"v\",\"showlegend\":true,\"x\":[\"Sachsen_Anhalt\"],\"xaxis\":\"x\",\"y\":[556.2251970531723],\"yaxis\":\"y\",\"type\":\"histogram\"},{\"alignmentgroup\":\"True\",\"bingroup\":\"x\",\"histfunc\":\"sum\",\"hovertemplate\":\"color=Th\\u00fcringen<br>x=%{x}<br>sum of y=%{y}<extra></extra>\",\"legendgroup\":\"Th\\u00fcringen\",\"marker\":{\"color\":\"#FECB52\",\"pattern\":{\"shape\":\"\"}},\"name\":\"Th\\u00fcringen\",\"offsetgroup\":\"Th\\u00fcringen\",\"orientation\":\"v\",\"showlegend\":true,\"x\":[\"Th\\u00fcringen\"],\"xaxis\":\"x\",\"y\":[564.970928275157],\"yaxis\":\"y\",\"type\":\"histogram\"},{\"alignmentgroup\":\"True\",\"bingroup\":\"x\",\"histfunc\":\"sum\",\"hovertemplate\":\"color=other<br>x=%{x}<br>sum of y=%{y}<extra></extra>\",\"legendgroup\":\"other\",\"marker\":{\"color\":\"#636efa\",\"pattern\":{\"shape\":\"\"}},\"name\":\"other\",\"offsetgroup\":\"other\",\"orientation\":\"v\",\"showlegend\":true,\"x\":[\"other\"],\"xaxis\":\"x\",\"y\":[796.862455411777],\"yaxis\":\"y\",\"type\":\"histogram\"}],                        {\"template\":{\"data\":{\"bar\":[{\"error_x\":{\"color\":\"#2a3f5f\"},\"error_y\":{\"color\":\"#2a3f5f\"},\"marker\":{\"line\":{\"color\":\"#E5ECF6\",\"width\":0.5},\"pattern\":{\"fillmode\":\"overlay\",\"size\":10,\"solidity\":0.2}},\"type\":\"bar\"}],\"barpolar\":[{\"marker\":{\"line\":{\"color\":\"#E5ECF6\",\"width\":0.5},\"pattern\":{\"fillmode\":\"overlay\",\"size\":10,\"solidity\":0.2}},\"type\":\"barpolar\"}],\"carpet\":[{\"aaxis\":{\"endlinecolor\":\"#2a3f5f\",\"gridcolor\":\"white\",\"linecolor\":\"white\",\"minorgridcolor\":\"white\",\"startlinecolor\":\"#2a3f5f\"},\"baxis\":{\"endlinecolor\":\"#2a3f5f\",\"gridcolor\":\"white\",\"linecolor\":\"white\",\"minorgridcolor\":\"white\",\"startlinecolor\":\"#2a3f5f\"},\"type\":\"carpet\"}],\"choropleth\":[{\"colorbar\":{\"outlinewidth\":0,\"ticks\":\"\"},\"type\":\"choropleth\"}],\"contour\":[{\"colorbar\":{\"outlinewidth\":0,\"ticks\":\"\"},\"colorscale\":[[0.0,\"#0d0887\"],[0.1111111111111111,\"#46039f\"],[0.2222222222222222,\"#7201a8\"],[0.3333333333333333,\"#9c179e\"],[0.4444444444444444,\"#bd3786\"],[0.5555555555555556,\"#d8576b\"],[0.6666666666666666,\"#ed7953\"],[0.7777777777777778,\"#fb9f3a\"],[0.8888888888888888,\"#fdca26\"],[1.0,\"#f0f921\"]],\"type\":\"contour\"}],\"contourcarpet\":[{\"colorbar\":{\"outlinewidth\":0,\"ticks\":\"\"},\"type\":\"contourcarpet\"}],\"heatmap\":[{\"colorbar\":{\"outlinewidth\":0,\"ticks\":\"\"},\"colorscale\":[[0.0,\"#0d0887\"],[0.1111111111111111,\"#46039f\"],[0.2222222222222222,\"#7201a8\"],[0.3333333333333333,\"#9c179e\"],[0.4444444444444444,\"#bd3786\"],[0.5555555555555556,\"#d8576b\"],[0.6666666666666666,\"#ed7953\"],[0.7777777777777778,\"#fb9f3a\"],[0.8888888888888888,\"#fdca26\"],[1.0,\"#f0f921\"]],\"type\":\"heatmap\"}],\"heatmapgl\":[{\"colorbar\":{\"outlinewidth\":0,\"ticks\":\"\"},\"colorscale\":[[0.0,\"#0d0887\"],[0.1111111111111111,\"#46039f\"],[0.2222222222222222,\"#7201a8\"],[0.3333333333333333,\"#9c179e\"],[0.4444444444444444,\"#bd3786\"],[0.5555555555555556,\"#d8576b\"],[0.6666666666666666,\"#ed7953\"],[0.7777777777777778,\"#fb9f3a\"],[0.8888888888888888,\"#fdca26\"],[1.0,\"#f0f921\"]],\"type\":\"heatmapgl\"}],\"histogram\":[{\"marker\":{\"pattern\":{\"fillmode\":\"overlay\",\"size\":10,\"solidity\":0.2}},\"type\":\"histogram\"}],\"histogram2d\":[{\"colorbar\":{\"outlinewidth\":0,\"ticks\":\"\"},\"colorscale\":[[0.0,\"#0d0887\"],[0.1111111111111111,\"#46039f\"],[0.2222222222222222,\"#7201a8\"],[0.3333333333333333,\"#9c179e\"],[0.4444444444444444,\"#bd3786\"],[0.5555555555555556,\"#d8576b\"],[0.6666666666666666,\"#ed7953\"],[0.7777777777777778,\"#fb9f3a\"],[0.8888888888888888,\"#fdca26\"],[1.0,\"#f0f921\"]],\"type\":\"histogram2d\"}],\"histogram2dcontour\":[{\"colorbar\":{\"outlinewidth\":0,\"ticks\":\"\"},\"colorscale\":[[0.0,\"#0d0887\"],[0.1111111111111111,\"#46039f\"],[0.2222222222222222,\"#7201a8\"],[0.3333333333333333,\"#9c179e\"],[0.4444444444444444,\"#bd3786\"],[0.5555555555555556,\"#d8576b\"],[0.6666666666666666,\"#ed7953\"],[0.7777777777777778,\"#fb9f3a\"],[0.8888888888888888,\"#fdca26\"],[1.0,\"#f0f921\"]],\"type\":\"histogram2dcontour\"}],\"mesh3d\":[{\"colorbar\":{\"outlinewidth\":0,\"ticks\":\"\"},\"type\":\"mesh3d\"}],\"parcoords\":[{\"line\":{\"colorbar\":{\"outlinewidth\":0,\"ticks\":\"\"}},\"type\":\"parcoords\"}],\"pie\":[{\"automargin\":true,\"type\":\"pie\"}],\"scatter\":[{\"marker\":{\"colorbar\":{\"outlinewidth\":0,\"ticks\":\"\"}},\"type\":\"scatter\"}],\"scatter3d\":[{\"line\":{\"colorbar\":{\"outlinewidth\":0,\"ticks\":\"\"}},\"marker\":{\"colorbar\":{\"outlinewidth\":0,\"ticks\":\"\"}},\"type\":\"scatter3d\"}],\"scattercarpet\":[{\"marker\":{\"colorbar\":{\"outlinewidth\":0,\"ticks\":\"\"}},\"type\":\"scattercarpet\"}],\"scattergeo\":[{\"marker\":{\"colorbar\":{\"outlinewidth\":0,\"ticks\":\"\"}},\"type\":\"scattergeo\"}],\"scattergl\":[{\"marker\":{\"colorbar\":{\"outlinewidth\":0,\"ticks\":\"\"}},\"type\":\"scattergl\"}],\"scattermapbox\":[{\"marker\":{\"colorbar\":{\"outlinewidth\":0,\"ticks\":\"\"}},\"type\":\"scattermapbox\"}],\"scatterpolar\":[{\"marker\":{\"colorbar\":{\"outlinewidth\":0,\"ticks\":\"\"}},\"type\":\"scatterpolar\"}],\"scatterpolargl\":[{\"marker\":{\"colorbar\":{\"outlinewidth\":0,\"ticks\":\"\"}},\"type\":\"scatterpolargl\"}],\"scatterternary\":[{\"marker\":{\"colorbar\":{\"outlinewidth\":0,\"ticks\":\"\"}},\"type\":\"scatterternary\"}],\"surface\":[{\"colorbar\":{\"outlinewidth\":0,\"ticks\":\"\"},\"colorscale\":[[0.0,\"#0d0887\"],[0.1111111111111111,\"#46039f\"],[0.2222222222222222,\"#7201a8\"],[0.3333333333333333,\"#9c179e\"],[0.4444444444444444,\"#bd3786\"],[0.5555555555555556,\"#d8576b\"],[0.6666666666666666,\"#ed7953\"],[0.7777777777777778,\"#fb9f3a\"],[0.8888888888888888,\"#fdca26\"],[1.0,\"#f0f921\"]],\"type\":\"surface\"}],\"table\":[{\"cells\":{\"fill\":{\"color\":\"#EBF0F8\"},\"line\":{\"color\":\"white\"}},\"header\":{\"fill\":{\"color\":\"#C8D4E3\"},\"line\":{\"color\":\"white\"}},\"type\":\"table\"}]},\"layout\":{\"annotationdefaults\":{\"arrowcolor\":\"#2a3f5f\",\"arrowhead\":0,\"arrowwidth\":1},\"autotypenumbers\":\"strict\",\"coloraxis\":{\"colorbar\":{\"outlinewidth\":0,\"ticks\":\"\"}},\"colorscale\":{\"diverging\":[[0,\"#8e0152\"],[0.1,\"#c51b7d\"],[0.2,\"#de77ae\"],[0.3,\"#f1b6da\"],[0.4,\"#fde0ef\"],[0.5,\"#f7f7f7\"],[0.6,\"#e6f5d0\"],[0.7,\"#b8e186\"],[0.8,\"#7fbc41\"],[0.9,\"#4d9221\"],[1,\"#276419\"]],\"sequential\":[[0.0,\"#0d0887\"],[0.1111111111111111,\"#46039f\"],[0.2222222222222222,\"#7201a8\"],[0.3333333333333333,\"#9c179e\"],[0.4444444444444444,\"#bd3786\"],[0.5555555555555556,\"#d8576b\"],[0.6666666666666666,\"#ed7953\"],[0.7777777777777778,\"#fb9f3a\"],[0.8888888888888888,\"#fdca26\"],[1.0,\"#f0f921\"]],\"sequentialminus\":[[0.0,\"#0d0887\"],[0.1111111111111111,\"#46039f\"],[0.2222222222222222,\"#7201a8\"],[0.3333333333333333,\"#9c179e\"],[0.4444444444444444,\"#bd3786\"],[0.5555555555555556,\"#d8576b\"],[0.6666666666666666,\"#ed7953\"],[0.7777777777777778,\"#fb9f3a\"],[0.8888888888888888,\"#fdca26\"],[1.0,\"#f0f921\"]]},\"colorway\":[\"#636efa\",\"#EF553B\",\"#00cc96\",\"#ab63fa\",\"#FFA15A\",\"#19d3f3\",\"#FF6692\",\"#B6E880\",\"#FF97FF\",\"#FECB52\"],\"font\":{\"color\":\"#2a3f5f\"},\"geo\":{\"bgcolor\":\"white\",\"lakecolor\":\"white\",\"landcolor\":\"#E5ECF6\",\"showlakes\":true,\"showland\":true,\"subunitcolor\":\"white\"},\"hoverlabel\":{\"align\":\"left\"},\"hovermode\":\"closest\",\"mapbox\":{\"style\":\"light\"},\"paper_bgcolor\":\"white\",\"plot_bgcolor\":\"#E5ECF6\",\"polar\":{\"angularaxis\":{\"gridcolor\":\"white\",\"linecolor\":\"white\",\"ticks\":\"\"},\"bgcolor\":\"#E5ECF6\",\"radialaxis\":{\"gridcolor\":\"white\",\"linecolor\":\"white\",\"ticks\":\"\"}},\"scene\":{\"xaxis\":{\"backgroundcolor\":\"#E5ECF6\",\"gridcolor\":\"white\",\"gridwidth\":2,\"linecolor\":\"white\",\"showbackground\":true,\"ticks\":\"\",\"zerolinecolor\":\"white\"},\"yaxis\":{\"backgroundcolor\":\"#E5ECF6\",\"gridcolor\":\"white\",\"gridwidth\":2,\"linecolor\":\"white\",\"showbackground\":true,\"ticks\":\"\",\"zerolinecolor\":\"white\"},\"zaxis\":{\"backgroundcolor\":\"#E5ECF6\",\"gridcolor\":\"white\",\"gridwidth\":2,\"linecolor\":\"white\",\"showbackground\":true,\"ticks\":\"\",\"zerolinecolor\":\"white\"}},\"shapedefaults\":{\"line\":{\"color\":\"#2a3f5f\"}},\"ternary\":{\"aaxis\":{\"gridcolor\":\"white\",\"linecolor\":\"white\",\"ticks\":\"\"},\"baxis\":{\"gridcolor\":\"white\",\"linecolor\":\"white\",\"ticks\":\"\"},\"bgcolor\":\"#E5ECF6\",\"caxis\":{\"gridcolor\":\"white\",\"linecolor\":\"white\",\"ticks\":\"\"}},\"title\":{\"x\":0.05},\"xaxis\":{\"automargin\":true,\"gridcolor\":\"white\",\"linecolor\":\"white\",\"ticks\":\"\",\"title\":{\"standoff\":15},\"zerolinecolor\":\"white\",\"zerolinewidth\":2},\"yaxis\":{\"automargin\":true,\"gridcolor\":\"white\",\"linecolor\":\"white\",\"ticks\":\"\",\"title\":{\"standoff\":15},\"zerolinecolor\":\"white\",\"zerolinewidth\":2}}},\"xaxis\":{\"anchor\":\"y\",\"domain\":[0.0,1.0],\"title\":{\"text\":\"City\"}},\"yaxis\":{\"anchor\":\"x\",\"domain\":[0.0,1.0],\"title\":{\"text\":\"Average rental\"}},\"legend\":{\"title\":{\"text\":\"color\"},\"tracegroupgap\":0},\"margin\":{\"t\":60},\"barmode\":\"relative\"},                        {\"responsive\": true}                    ).then(function(){\n",
              "                            \n",
              "var gd = document.getElementById('5072c099-4712-4c6f-aab2-eabac7bf23e1');\n",
              "var x = new MutationObserver(function (mutations, observer) {{\n",
              "        var display = window.getComputedStyle(gd).display;\n",
              "        if (!display || display === 'none') {{\n",
              "            console.log([gd, 'removed!']);\n",
              "            Plotly.purge(gd);\n",
              "            observer.disconnect();\n",
              "        }}\n",
              "}});\n",
              "\n",
              "// Listen for the removal of the full notebook cells\n",
              "var notebookContainer = gd.closest('#notebook-container');\n",
              "if (notebookContainer) {{\n",
              "    x.observe(notebookContainer, {childList: true});\n",
              "}}\n",
              "\n",
              "// Listen for the clearing of the current output cell\n",
              "var outputEl = gd.closest('.output');\n",
              "if (outputEl) {{\n",
              "    x.observe(outputEl, {childList: true});\n",
              "}}\n",
              "\n",
              "                        })                };                            </script>        </div>\n",
              "</body>\n",
              "</html>"
            ]
          },
          "metadata": {}
        }
      ]
    },
    {
      "cell_type": "code",
      "source": [
        "mean_rent = df.groupby(['edited_regio2'])['totalRent'].mean().sort_index()\n",
        "\n",
        "fig = px.histogram(x = df['edited_regio2'].value_counts().sort_index().index,\n",
        "                   y = mean_rent,\n",
        "                   color= df['edited_regio2'].value_counts().sort_index().index\n",
        "             )\n",
        "fig.update_xaxes(title=\"City\")\n",
        "fig.update_yaxes(title = \"Average rental\")\n",
        "fig.show()"
      ],
      "metadata": {
        "id": "smaVMPsgCZ5l",
        "colab": {
          "base_uri": "https://localhost:8080/",
          "height": 542
        },
        "outputId": "1ba5a18d-149d-4466-e0d6-da3f952960d4"
      },
      "execution_count": 109,
      "outputs": [
        {
          "output_type": "display_data",
          "data": {
            "text/html": [
              "<html>\n",
              "<head><meta charset=\"utf-8\" /></head>\n",
              "<body>\n",
              "    <div>            <script src=\"https://cdnjs.cloudflare.com/ajax/libs/mathjax/2.7.5/MathJax.js?config=TeX-AMS-MML_SVG\"></script><script type=\"text/javascript\">if (window.MathJax) {MathJax.Hub.Config({SVG: {font: \"STIX-Web\"}});}</script>                <script type=\"text/javascript\">window.PlotlyConfig = {MathJaxConfig: 'local'};</script>\n",
              "        <script src=\"https://cdn.plot.ly/plotly-2.8.3.min.js\"></script>                <div id=\"a9c6b8d5-210d-4ea1-aed9-58b90540630e\" class=\"plotly-graph-div\" style=\"height:525px; width:100%;\"></div>            <script type=\"text/javascript\">                                    window.PLOTLYENV=window.PLOTLYENV || {};                                    if (document.getElementById(\"a9c6b8d5-210d-4ea1-aed9-58b90540630e\")) {                    Plotly.newPlot(                        \"a9c6b8d5-210d-4ea1-aed9-58b90540630e\",                        [{\"alignmentgroup\":\"True\",\"bingroup\":\"x\",\"histfunc\":\"sum\",\"hovertemplate\":\"color=Berlin<br>x=%{x}<br>sum of y=%{y}<extra></extra>\",\"legendgroup\":\"Berlin\",\"marker\":{\"color\":\"#636efa\",\"pattern\":{\"shape\":\"\"}},\"name\":\"Berlin\",\"offsetgroup\":\"Berlin\",\"orientation\":\"v\",\"showlegend\":true,\"x\":[\"Berlin\"],\"xaxis\":\"x\",\"y\":[1317.34561585126],\"yaxis\":\"y\",\"type\":\"histogram\"},{\"alignmentgroup\":\"True\",\"bingroup\":\"x\",\"histfunc\":\"sum\",\"hovertemplate\":\"color=Chemnitz<br>x=%{x}<br>sum of y=%{y}<extra></extra>\",\"legendgroup\":\"Chemnitz\",\"marker\":{\"color\":\"#EF553B\",\"pattern\":{\"shape\":\"\"}},\"name\":\"Chemnitz\",\"offsetgroup\":\"Chemnitz\",\"orientation\":\"v\",\"showlegend\":true,\"x\":[\"Chemnitz\"],\"xaxis\":\"x\",\"y\":[491.598078924346],\"yaxis\":\"y\",\"type\":\"histogram\"},{\"alignmentgroup\":\"True\",\"bingroup\":\"x\",\"histfunc\":\"sum\",\"hovertemplate\":\"color=Dresden<br>x=%{x}<br>sum of y=%{y}<extra></extra>\",\"legendgroup\":\"Dresden\",\"marker\":{\"color\":\"#00cc96\",\"pattern\":{\"shape\":\"\"}},\"name\":\"Dresden\",\"offsetgroup\":\"Dresden\",\"orientation\":\"v\",\"showlegend\":true,\"x\":[\"Dresden\"],\"xaxis\":\"x\",\"y\":[769.2273617737889],\"yaxis\":\"y\",\"type\":\"histogram\"},{\"alignmentgroup\":\"True\",\"bingroup\":\"x\",\"histfunc\":\"sum\",\"hovertemplate\":\"color=Essen<br>x=%{x}<br>sum of y=%{y}<extra></extra>\",\"legendgroup\":\"Essen\",\"marker\":{\"color\":\"#ab63fa\",\"pattern\":{\"shape\":\"\"}},\"name\":\"Essen\",\"offsetgroup\":\"Essen\",\"orientation\":\"v\",\"showlegend\":true,\"x\":[\"Essen\"],\"xaxis\":\"x\",\"y\":[734.3197152951934],\"yaxis\":\"y\",\"type\":\"histogram\"},{\"alignmentgroup\":\"True\",\"bingroup\":\"x\",\"histfunc\":\"sum\",\"hovertemplate\":\"color=Frankfurt_am_Main<br>x=%{x}<br>sum of y=%{y}<extra></extra>\",\"legendgroup\":\"Frankfurt_am_Main\",\"marker\":{\"color\":\"#FFA15A\",\"pattern\":{\"shape\":\"\"}},\"name\":\"Frankfurt_am_Main\",\"offsetgroup\":\"Frankfurt_am_Main\",\"orientation\":\"v\",\"showlegend\":true,\"x\":[\"Frankfurt_am_Main\"],\"xaxis\":\"x\",\"y\":[1493.5888361474497],\"yaxis\":\"y\",\"type\":\"histogram\"},{\"alignmentgroup\":\"True\",\"bingroup\":\"x\",\"histfunc\":\"sum\",\"hovertemplate\":\"color=Halle_Saale<br>x=%{x}<br>sum of y=%{y}<extra></extra>\",\"legendgroup\":\"Halle_Saale\",\"marker\":{\"color\":\"#19d3f3\",\"pattern\":{\"shape\":\"\"}},\"name\":\"Halle_Saale\",\"offsetgroup\":\"Halle_Saale\",\"orientation\":\"v\",\"showlegend\":true,\"x\":[\"Halle_Saale\"],\"xaxis\":\"x\",\"y\":[593.9713443756689],\"yaxis\":\"y\",\"type\":\"histogram\"},{\"alignmentgroup\":\"True\",\"bingroup\":\"x\",\"histfunc\":\"sum\",\"hovertemplate\":\"color=Hamburg<br>x=%{x}<br>sum of y=%{y}<extra></extra>\",\"legendgroup\":\"Hamburg\",\"marker\":{\"color\":\"#FF6692\",\"pattern\":{\"shape\":\"\"}},\"name\":\"Hamburg\",\"offsetgroup\":\"Hamburg\",\"orientation\":\"v\",\"showlegend\":true,\"x\":[\"Hamburg\"],\"xaxis\":\"x\",\"y\":[1338.5498820569733],\"yaxis\":\"y\",\"type\":\"histogram\"},{\"alignmentgroup\":\"True\",\"bingroup\":\"x\",\"histfunc\":\"sum\",\"hovertemplate\":\"color=Leipzig<br>x=%{x}<br>sum of y=%{y}<extra></extra>\",\"legendgroup\":\"Leipzig\",\"marker\":{\"color\":\"#B6E880\",\"pattern\":{\"shape\":\"\"}},\"name\":\"Leipzig\",\"offsetgroup\":\"Leipzig\",\"orientation\":\"v\",\"showlegend\":true,\"x\":[\"Leipzig\"],\"xaxis\":\"x\",\"y\":[781.5591599137258],\"yaxis\":\"y\",\"type\":\"histogram\"},{\"alignmentgroup\":\"True\",\"bingroup\":\"x\",\"histfunc\":\"sum\",\"hovertemplate\":\"color=Magdeburg<br>x=%{x}<br>sum of y=%{y}<extra></extra>\",\"legendgroup\":\"Magdeburg\",\"marker\":{\"color\":\"#FF97FF\",\"pattern\":{\"shape\":\"\"}},\"name\":\"Magdeburg\",\"offsetgroup\":\"Magdeburg\",\"orientation\":\"v\",\"showlegend\":true,\"x\":[\"Magdeburg\"],\"xaxis\":\"x\",\"y\":[602.2217892256364],\"yaxis\":\"y\",\"type\":\"histogram\"},{\"alignmentgroup\":\"True\",\"bingroup\":\"x\",\"histfunc\":\"sum\",\"hovertemplate\":\"color=M\\u00fcnchen<br>x=%{x}<br>sum of y=%{y}<extra></extra>\",\"legendgroup\":\"M\\u00fcnchen\",\"marker\":{\"color\":\"#FECB52\",\"pattern\":{\"shape\":\"\"}},\"name\":\"M\\u00fcnchen\",\"offsetgroup\":\"M\\u00fcnchen\",\"orientation\":\"v\",\"showlegend\":true,\"x\":[\"M\\u00fcnchen\"],\"xaxis\":\"x\",\"y\":[1832.7241215028278],\"yaxis\":\"y\",\"type\":\"histogram\"},{\"alignmentgroup\":\"True\",\"bingroup\":\"x\",\"histfunc\":\"sum\",\"hovertemplate\":\"color=other<br>x=%{x}<br>sum of y=%{y}<extra></extra>\",\"legendgroup\":\"other\",\"marker\":{\"color\":\"#636efa\",\"pattern\":{\"shape\":\"\"}},\"name\":\"other\",\"offsetgroup\":\"other\",\"orientation\":\"v\",\"showlegend\":true,\"x\":[\"other\"],\"xaxis\":\"x\",\"y\":[777.2884103787507],\"yaxis\":\"y\",\"type\":\"histogram\"}],                        {\"template\":{\"data\":{\"bar\":[{\"error_x\":{\"color\":\"#2a3f5f\"},\"error_y\":{\"color\":\"#2a3f5f\"},\"marker\":{\"line\":{\"color\":\"#E5ECF6\",\"width\":0.5},\"pattern\":{\"fillmode\":\"overlay\",\"size\":10,\"solidity\":0.2}},\"type\":\"bar\"}],\"barpolar\":[{\"marker\":{\"line\":{\"color\":\"#E5ECF6\",\"width\":0.5},\"pattern\":{\"fillmode\":\"overlay\",\"size\":10,\"solidity\":0.2}},\"type\":\"barpolar\"}],\"carpet\":[{\"aaxis\":{\"endlinecolor\":\"#2a3f5f\",\"gridcolor\":\"white\",\"linecolor\":\"white\",\"minorgridcolor\":\"white\",\"startlinecolor\":\"#2a3f5f\"},\"baxis\":{\"endlinecolor\":\"#2a3f5f\",\"gridcolor\":\"white\",\"linecolor\":\"white\",\"minorgridcolor\":\"white\",\"startlinecolor\":\"#2a3f5f\"},\"type\":\"carpet\"}],\"choropleth\":[{\"colorbar\":{\"outlinewidth\":0,\"ticks\":\"\"},\"type\":\"choropleth\"}],\"contour\":[{\"colorbar\":{\"outlinewidth\":0,\"ticks\":\"\"},\"colorscale\":[[0.0,\"#0d0887\"],[0.1111111111111111,\"#46039f\"],[0.2222222222222222,\"#7201a8\"],[0.3333333333333333,\"#9c179e\"],[0.4444444444444444,\"#bd3786\"],[0.5555555555555556,\"#d8576b\"],[0.6666666666666666,\"#ed7953\"],[0.7777777777777778,\"#fb9f3a\"],[0.8888888888888888,\"#fdca26\"],[1.0,\"#f0f921\"]],\"type\":\"contour\"}],\"contourcarpet\":[{\"colorbar\":{\"outlinewidth\":0,\"ticks\":\"\"},\"type\":\"contourcarpet\"}],\"heatmap\":[{\"colorbar\":{\"outlinewidth\":0,\"ticks\":\"\"},\"colorscale\":[[0.0,\"#0d0887\"],[0.1111111111111111,\"#46039f\"],[0.2222222222222222,\"#7201a8\"],[0.3333333333333333,\"#9c179e\"],[0.4444444444444444,\"#bd3786\"],[0.5555555555555556,\"#d8576b\"],[0.6666666666666666,\"#ed7953\"],[0.7777777777777778,\"#fb9f3a\"],[0.8888888888888888,\"#fdca26\"],[1.0,\"#f0f921\"]],\"type\":\"heatmap\"}],\"heatmapgl\":[{\"colorbar\":{\"outlinewidth\":0,\"ticks\":\"\"},\"colorscale\":[[0.0,\"#0d0887\"],[0.1111111111111111,\"#46039f\"],[0.2222222222222222,\"#7201a8\"],[0.3333333333333333,\"#9c179e\"],[0.4444444444444444,\"#bd3786\"],[0.5555555555555556,\"#d8576b\"],[0.6666666666666666,\"#ed7953\"],[0.7777777777777778,\"#fb9f3a\"],[0.8888888888888888,\"#fdca26\"],[1.0,\"#f0f921\"]],\"type\":\"heatmapgl\"}],\"histogram\":[{\"marker\":{\"pattern\":{\"fillmode\":\"overlay\",\"size\":10,\"solidity\":0.2}},\"type\":\"histogram\"}],\"histogram2d\":[{\"colorbar\":{\"outlinewidth\":0,\"ticks\":\"\"},\"colorscale\":[[0.0,\"#0d0887\"],[0.1111111111111111,\"#46039f\"],[0.2222222222222222,\"#7201a8\"],[0.3333333333333333,\"#9c179e\"],[0.4444444444444444,\"#bd3786\"],[0.5555555555555556,\"#d8576b\"],[0.6666666666666666,\"#ed7953\"],[0.7777777777777778,\"#fb9f3a\"],[0.8888888888888888,\"#fdca26\"],[1.0,\"#f0f921\"]],\"type\":\"histogram2d\"}],\"histogram2dcontour\":[{\"colorbar\":{\"outlinewidth\":0,\"ticks\":\"\"},\"colorscale\":[[0.0,\"#0d0887\"],[0.1111111111111111,\"#46039f\"],[0.2222222222222222,\"#7201a8\"],[0.3333333333333333,\"#9c179e\"],[0.4444444444444444,\"#bd3786\"],[0.5555555555555556,\"#d8576b\"],[0.6666666666666666,\"#ed7953\"],[0.7777777777777778,\"#fb9f3a\"],[0.8888888888888888,\"#fdca26\"],[1.0,\"#f0f921\"]],\"type\":\"histogram2dcontour\"}],\"mesh3d\":[{\"colorbar\":{\"outlinewidth\":0,\"ticks\":\"\"},\"type\":\"mesh3d\"}],\"parcoords\":[{\"line\":{\"colorbar\":{\"outlinewidth\":0,\"ticks\":\"\"}},\"type\":\"parcoords\"}],\"pie\":[{\"automargin\":true,\"type\":\"pie\"}],\"scatter\":[{\"marker\":{\"colorbar\":{\"outlinewidth\":0,\"ticks\":\"\"}},\"type\":\"scatter\"}],\"scatter3d\":[{\"line\":{\"colorbar\":{\"outlinewidth\":0,\"ticks\":\"\"}},\"marker\":{\"colorbar\":{\"outlinewidth\":0,\"ticks\":\"\"}},\"type\":\"scatter3d\"}],\"scattercarpet\":[{\"marker\":{\"colorbar\":{\"outlinewidth\":0,\"ticks\":\"\"}},\"type\":\"scattercarpet\"}],\"scattergeo\":[{\"marker\":{\"colorbar\":{\"outlinewidth\":0,\"ticks\":\"\"}},\"type\":\"scattergeo\"}],\"scattergl\":[{\"marker\":{\"colorbar\":{\"outlinewidth\":0,\"ticks\":\"\"}},\"type\":\"scattergl\"}],\"scattermapbox\":[{\"marker\":{\"colorbar\":{\"outlinewidth\":0,\"ticks\":\"\"}},\"type\":\"scattermapbox\"}],\"scatterpolar\":[{\"marker\":{\"colorbar\":{\"outlinewidth\":0,\"ticks\":\"\"}},\"type\":\"scatterpolar\"}],\"scatterpolargl\":[{\"marker\":{\"colorbar\":{\"outlinewidth\":0,\"ticks\":\"\"}},\"type\":\"scatterpolargl\"}],\"scatterternary\":[{\"marker\":{\"colorbar\":{\"outlinewidth\":0,\"ticks\":\"\"}},\"type\":\"scatterternary\"}],\"surface\":[{\"colorbar\":{\"outlinewidth\":0,\"ticks\":\"\"},\"colorscale\":[[0.0,\"#0d0887\"],[0.1111111111111111,\"#46039f\"],[0.2222222222222222,\"#7201a8\"],[0.3333333333333333,\"#9c179e\"],[0.4444444444444444,\"#bd3786\"],[0.5555555555555556,\"#d8576b\"],[0.6666666666666666,\"#ed7953\"],[0.7777777777777778,\"#fb9f3a\"],[0.8888888888888888,\"#fdca26\"],[1.0,\"#f0f921\"]],\"type\":\"surface\"}],\"table\":[{\"cells\":{\"fill\":{\"color\":\"#EBF0F8\"},\"line\":{\"color\":\"white\"}},\"header\":{\"fill\":{\"color\":\"#C8D4E3\"},\"line\":{\"color\":\"white\"}},\"type\":\"table\"}]},\"layout\":{\"annotationdefaults\":{\"arrowcolor\":\"#2a3f5f\",\"arrowhead\":0,\"arrowwidth\":1},\"autotypenumbers\":\"strict\",\"coloraxis\":{\"colorbar\":{\"outlinewidth\":0,\"ticks\":\"\"}},\"colorscale\":{\"diverging\":[[0,\"#8e0152\"],[0.1,\"#c51b7d\"],[0.2,\"#de77ae\"],[0.3,\"#f1b6da\"],[0.4,\"#fde0ef\"],[0.5,\"#f7f7f7\"],[0.6,\"#e6f5d0\"],[0.7,\"#b8e186\"],[0.8,\"#7fbc41\"],[0.9,\"#4d9221\"],[1,\"#276419\"]],\"sequential\":[[0.0,\"#0d0887\"],[0.1111111111111111,\"#46039f\"],[0.2222222222222222,\"#7201a8\"],[0.3333333333333333,\"#9c179e\"],[0.4444444444444444,\"#bd3786\"],[0.5555555555555556,\"#d8576b\"],[0.6666666666666666,\"#ed7953\"],[0.7777777777777778,\"#fb9f3a\"],[0.8888888888888888,\"#fdca26\"],[1.0,\"#f0f921\"]],\"sequentialminus\":[[0.0,\"#0d0887\"],[0.1111111111111111,\"#46039f\"],[0.2222222222222222,\"#7201a8\"],[0.3333333333333333,\"#9c179e\"],[0.4444444444444444,\"#bd3786\"],[0.5555555555555556,\"#d8576b\"],[0.6666666666666666,\"#ed7953\"],[0.7777777777777778,\"#fb9f3a\"],[0.8888888888888888,\"#fdca26\"],[1.0,\"#f0f921\"]]},\"colorway\":[\"#636efa\",\"#EF553B\",\"#00cc96\",\"#ab63fa\",\"#FFA15A\",\"#19d3f3\",\"#FF6692\",\"#B6E880\",\"#FF97FF\",\"#FECB52\"],\"font\":{\"color\":\"#2a3f5f\"},\"geo\":{\"bgcolor\":\"white\",\"lakecolor\":\"white\",\"landcolor\":\"#E5ECF6\",\"showlakes\":true,\"showland\":true,\"subunitcolor\":\"white\"},\"hoverlabel\":{\"align\":\"left\"},\"hovermode\":\"closest\",\"mapbox\":{\"style\":\"light\"},\"paper_bgcolor\":\"white\",\"plot_bgcolor\":\"#E5ECF6\",\"polar\":{\"angularaxis\":{\"gridcolor\":\"white\",\"linecolor\":\"white\",\"ticks\":\"\"},\"bgcolor\":\"#E5ECF6\",\"radialaxis\":{\"gridcolor\":\"white\",\"linecolor\":\"white\",\"ticks\":\"\"}},\"scene\":{\"xaxis\":{\"backgroundcolor\":\"#E5ECF6\",\"gridcolor\":\"white\",\"gridwidth\":2,\"linecolor\":\"white\",\"showbackground\":true,\"ticks\":\"\",\"zerolinecolor\":\"white\"},\"yaxis\":{\"backgroundcolor\":\"#E5ECF6\",\"gridcolor\":\"white\",\"gridwidth\":2,\"linecolor\":\"white\",\"showbackground\":true,\"ticks\":\"\",\"zerolinecolor\":\"white\"},\"zaxis\":{\"backgroundcolor\":\"#E5ECF6\",\"gridcolor\":\"white\",\"gridwidth\":2,\"linecolor\":\"white\",\"showbackground\":true,\"ticks\":\"\",\"zerolinecolor\":\"white\"}},\"shapedefaults\":{\"line\":{\"color\":\"#2a3f5f\"}},\"ternary\":{\"aaxis\":{\"gridcolor\":\"white\",\"linecolor\":\"white\",\"ticks\":\"\"},\"baxis\":{\"gridcolor\":\"white\",\"linecolor\":\"white\",\"ticks\":\"\"},\"bgcolor\":\"#E5ECF6\",\"caxis\":{\"gridcolor\":\"white\",\"linecolor\":\"white\",\"ticks\":\"\"}},\"title\":{\"x\":0.05},\"xaxis\":{\"automargin\":true,\"gridcolor\":\"white\",\"linecolor\":\"white\",\"ticks\":\"\",\"title\":{\"standoff\":15},\"zerolinecolor\":\"white\",\"zerolinewidth\":2},\"yaxis\":{\"automargin\":true,\"gridcolor\":\"white\",\"linecolor\":\"white\",\"ticks\":\"\",\"title\":{\"standoff\":15},\"zerolinecolor\":\"white\",\"zerolinewidth\":2}}},\"xaxis\":{\"anchor\":\"y\",\"domain\":[0.0,1.0],\"title\":{\"text\":\"City\"}},\"yaxis\":{\"anchor\":\"x\",\"domain\":[0.0,1.0],\"title\":{\"text\":\"Average rental\"}},\"legend\":{\"title\":{\"text\":\"color\"},\"tracegroupgap\":0},\"margin\":{\"t\":60},\"barmode\":\"relative\"},                        {\"responsive\": true}                    ).then(function(){\n",
              "                            \n",
              "var gd = document.getElementById('a9c6b8d5-210d-4ea1-aed9-58b90540630e');\n",
              "var x = new MutationObserver(function (mutations, observer) {{\n",
              "        var display = window.getComputedStyle(gd).display;\n",
              "        if (!display || display === 'none') {{\n",
              "            console.log([gd, 'removed!']);\n",
              "            Plotly.purge(gd);\n",
              "            observer.disconnect();\n",
              "        }}\n",
              "}});\n",
              "\n",
              "// Listen for the removal of the full notebook cells\n",
              "var notebookContainer = gd.closest('#notebook-container');\n",
              "if (notebookContainer) {{\n",
              "    x.observe(notebookContainer, {childList: true});\n",
              "}}\n",
              "\n",
              "// Listen for the clearing of the current output cell\n",
              "var outputEl = gd.closest('.output');\n",
              "if (outputEl) {{\n",
              "    x.observe(outputEl, {childList: true});\n",
              "}}\n",
              "\n",
              "                        })                };                            </script>        </div>\n",
              "</body>\n",
              "</html>"
            ]
          },
          "metadata": {}
        }
      ]
    },
    {
      "cell_type": "code",
      "source": [
        "mean_rent = df.groupby(['edited_regio3'])['totalRent'].mean().sort_index()\n",
        "\n",
        "fig = px.histogram(x = df['edited_regio3'].value_counts().sort_index().index,\n",
        "                   y = mean_rent,\n",
        "                   color= df['edited_regio3'].value_counts().sort_index().index\n",
        "             )\n",
        "fig.update_xaxes(title=\"City\")\n",
        "fig.update_yaxes(title = \"Average rental\")\n",
        "fig.show()"
      ],
      "metadata": {
        "id": "v23z1ZR6CehY",
        "colab": {
          "base_uri": "https://localhost:8080/",
          "height": 542
        },
        "outputId": "7dfb78ba-059d-42fb-f547-3d256b1987a5"
      },
      "execution_count": 110,
      "outputs": [
        {
          "output_type": "display_data",
          "data": {
            "text/html": [
              "<html>\n",
              "<head><meta charset=\"utf-8\" /></head>\n",
              "<body>\n",
              "    <div>            <script src=\"https://cdnjs.cloudflare.com/ajax/libs/mathjax/2.7.5/MathJax.js?config=TeX-AMS-MML_SVG\"></script><script type=\"text/javascript\">if (window.MathJax) {MathJax.Hub.Config({SVG: {font: \"STIX-Web\"}});}</script>                <script type=\"text/javascript\">window.PlotlyConfig = {MathJaxConfig: 'local'};</script>\n",
              "        <script src=\"https://cdn.plot.ly/plotly-2.8.3.min.js\"></script>                <div id=\"5aaaffd1-71b0-414c-96b0-99b0b0855758\" class=\"plotly-graph-div\" style=\"height:525px; width:100%;\"></div>            <script type=\"text/javascript\">                                    window.PLOTLYENV=window.PLOTLYENV || {};                                    if (document.getElementById(\"5aaaffd1-71b0-414c-96b0-99b0b0855758\")) {                    Plotly.newPlot(                        \"5aaaffd1-71b0-414c-96b0-99b0b0855758\",                        [{\"alignmentgroup\":\"True\",\"bingroup\":\"x\",\"histfunc\":\"sum\",\"hovertemplate\":\"color=Altstadt<br>x=%{x}<br>sum of y=%{y}<extra></extra>\",\"legendgroup\":\"Altstadt\",\"marker\":{\"color\":\"#636efa\",\"pattern\":{\"shape\":\"\"}},\"name\":\"Altstadt\",\"offsetgroup\":\"Altstadt\",\"orientation\":\"v\",\"showlegend\":true,\"x\":[\"Altstadt\"],\"xaxis\":\"x\",\"y\":[982.741051592058],\"yaxis\":\"y\",\"type\":\"histogram\"},{\"alignmentgroup\":\"True\",\"bingroup\":\"x\",\"histfunc\":\"sum\",\"hovertemplate\":\"color=Bernsdorf<br>x=%{x}<br>sum of y=%{y}<extra></extra>\",\"legendgroup\":\"Bernsdorf\",\"marker\":{\"color\":\"#EF553B\",\"pattern\":{\"shape\":\"\"}},\"name\":\"Bernsdorf\",\"offsetgroup\":\"Bernsdorf\",\"orientation\":\"v\",\"showlegend\":true,\"x\":[\"Bernsdorf\"],\"xaxis\":\"x\",\"y\":[476.6143946782365],\"yaxis\":\"y\",\"type\":\"histogram\"},{\"alignmentgroup\":\"True\",\"bingroup\":\"x\",\"histfunc\":\"sum\",\"hovertemplate\":\"color=Freiberg<br>x=%{x}<br>sum of y=%{y}<extra></extra>\",\"legendgroup\":\"Freiberg\",\"marker\":{\"color\":\"#00cc96\",\"pattern\":{\"shape\":\"\"}},\"name\":\"Freiberg\",\"offsetgroup\":\"Freiberg\",\"orientation\":\"v\",\"showlegend\":true,\"x\":[\"Freiberg\"],\"xaxis\":\"x\",\"y\":[659.8356855692621],\"yaxis\":\"y\",\"type\":\"histogram\"},{\"alignmentgroup\":\"True\",\"bingroup\":\"x\",\"histfunc\":\"sum\",\"hovertemplate\":\"color=Gablenz<br>x=%{x}<br>sum of y=%{y}<extra></extra>\",\"legendgroup\":\"Gablenz\",\"marker\":{\"color\":\"#ab63fa\",\"pattern\":{\"shape\":\"\"}},\"name\":\"Gablenz\",\"offsetgroup\":\"Gablenz\",\"orientation\":\"v\",\"showlegend\":true,\"x\":[\"Gablenz\"],\"xaxis\":\"x\",\"y\":[459.7376564739777],\"yaxis\":\"y\",\"type\":\"histogram\"},{\"alignmentgroup\":\"True\",\"bingroup\":\"x\",\"histfunc\":\"sum\",\"hovertemplate\":\"color=Halberstadt<br>x=%{x}<br>sum of y=%{y}<extra></extra>\",\"legendgroup\":\"Halberstadt\",\"marker\":{\"color\":\"#FFA15A\",\"pattern\":{\"shape\":\"\"}},\"name\":\"Halberstadt\",\"offsetgroup\":\"Halberstadt\",\"orientation\":\"v\",\"showlegend\":true,\"x\":[\"Halberstadt\"],\"xaxis\":\"x\",\"y\":[517.5439027366854],\"yaxis\":\"y\",\"type\":\"histogram\"},{\"alignmentgroup\":\"True\",\"bingroup\":\"x\",\"histfunc\":\"sum\",\"hovertemplate\":\"color=Hilbersdorf<br>x=%{x}<br>sum of y=%{y}<extra></extra>\",\"legendgroup\":\"Hilbersdorf\",\"marker\":{\"color\":\"#19d3f3\",\"pattern\":{\"shape\":\"\"}},\"name\":\"Hilbersdorf\",\"offsetgroup\":\"Hilbersdorf\",\"orientation\":\"v\",\"showlegend\":true,\"x\":[\"Hilbersdorf\"],\"xaxis\":\"x\",\"y\":[426.87826224082835],\"yaxis\":\"y\",\"type\":\"histogram\"},{\"alignmentgroup\":\"True\",\"bingroup\":\"x\",\"histfunc\":\"sum\",\"hovertemplate\":\"color=Innenstadt<br>x=%{x}<br>sum of y=%{y}<extra></extra>\",\"legendgroup\":\"Innenstadt\",\"marker\":{\"color\":\"#FF6692\",\"pattern\":{\"shape\":\"\"}},\"name\":\"Innenstadt\",\"offsetgroup\":\"Innenstadt\",\"orientation\":\"v\",\"showlegend\":true,\"x\":[\"Innenstadt\"],\"xaxis\":\"x\",\"y\":[827.6129399826389],\"yaxis\":\"y\",\"type\":\"histogram\"},{\"alignmentgroup\":\"True\",\"bingroup\":\"x\",\"histfunc\":\"sum\",\"hovertemplate\":\"color=Ka\\u00dfberg<br>x=%{x}<br>sum of y=%{y}<extra></extra>\",\"legendgroup\":\"Ka\\u00dfberg\",\"marker\":{\"color\":\"#B6E880\",\"pattern\":{\"shape\":\"\"}},\"name\":\"Ka\\u00dfberg\",\"offsetgroup\":\"Ka\\u00dfberg\",\"orientation\":\"v\",\"showlegend\":true,\"x\":[\"Ka\\u00dfberg\"],\"xaxis\":\"x\",\"y\":[511.0076721642646],\"yaxis\":\"y\",\"type\":\"histogram\"},{\"alignmentgroup\":\"True\",\"bingroup\":\"x\",\"histfunc\":\"sum\",\"hovertemplate\":\"color=Lutherviertel<br>x=%{x}<br>sum of y=%{y}<extra></extra>\",\"legendgroup\":\"Lutherviertel\",\"marker\":{\"color\":\"#FF97FF\",\"pattern\":{\"shape\":\"\"}},\"name\":\"Lutherviertel\",\"offsetgroup\":\"Lutherviertel\",\"orientation\":\"v\",\"showlegend\":true,\"x\":[\"Lutherviertel\"],\"xaxis\":\"x\",\"y\":[472.10408194561165],\"yaxis\":\"y\",\"type\":\"histogram\"},{\"alignmentgroup\":\"True\",\"bingroup\":\"x\",\"histfunc\":\"sum\",\"hovertemplate\":\"color=Merseburg<br>x=%{x}<br>sum of y=%{y}<extra></extra>\",\"legendgroup\":\"Merseburg\",\"marker\":{\"color\":\"#FECB52\",\"pattern\":{\"shape\":\"\"}},\"name\":\"Merseburg\",\"offsetgroup\":\"Merseburg\",\"orientation\":\"v\",\"showlegend\":true,\"x\":[\"Merseburg\"],\"xaxis\":\"x\",\"y\":[467.62387910954516],\"yaxis\":\"y\",\"type\":\"histogram\"},{\"alignmentgroup\":\"True\",\"bingroup\":\"x\",\"histfunc\":\"sum\",\"hovertemplate\":\"color=Mitte<br>x=%{x}<br>sum of y=%{y}<extra></extra>\",\"legendgroup\":\"Mitte\",\"marker\":{\"color\":\"#636efa\",\"pattern\":{\"shape\":\"\"}},\"name\":\"Mitte\",\"offsetgroup\":\"Mitte\",\"orientation\":\"v\",\"showlegend\":true,\"x\":[\"Mitte\"],\"xaxis\":\"x\",\"y\":[993.0225428598125],\"yaxis\":\"y\",\"type\":\"histogram\"},{\"alignmentgroup\":\"True\",\"bingroup\":\"x\",\"histfunc\":\"sum\",\"hovertemplate\":\"color=Mitte_Mitte<br>x=%{x}<br>sum of y=%{y}<extra></extra>\",\"legendgroup\":\"Mitte_Mitte\",\"marker\":{\"color\":\"#EF553B\",\"pattern\":{\"shape\":\"\"}},\"name\":\"Mitte_Mitte\",\"offsetgroup\":\"Mitte_Mitte\",\"orientation\":\"v\",\"showlegend\":true,\"x\":[\"Mitte_Mitte\"],\"xaxis\":\"x\",\"y\":[2000.247751692535],\"yaxis\":\"y\",\"type\":\"histogram\"},{\"alignmentgroup\":\"True\",\"bingroup\":\"x\",\"histfunc\":\"sum\",\"hovertemplate\":\"color=Schlo\\u00dfchemnitz<br>x=%{x}<br>sum of y=%{y}<extra></extra>\",\"legendgroup\":\"Schlo\\u00dfchemnitz\",\"marker\":{\"color\":\"#00cc96\",\"pattern\":{\"shape\":\"\"}},\"name\":\"Schlo\\u00dfchemnitz\",\"offsetgroup\":\"Schlo\\u00dfchemnitz\",\"orientation\":\"v\",\"showlegend\":true,\"x\":[\"Schlo\\u00dfchemnitz\"],\"xaxis\":\"x\",\"y\":[468.74762347454566],\"yaxis\":\"y\",\"type\":\"histogram\"},{\"alignmentgroup\":\"True\",\"bingroup\":\"x\",\"histfunc\":\"sum\",\"hovertemplate\":\"color=Sonnenberg<br>x=%{x}<br>sum of y=%{y}<extra></extra>\",\"legendgroup\":\"Sonnenberg\",\"marker\":{\"color\":\"#ab63fa\",\"pattern\":{\"shape\":\"\"}},\"name\":\"Sonnenberg\",\"offsetgroup\":\"Sonnenberg\",\"orientation\":\"v\",\"showlegend\":true,\"x\":[\"Sonnenberg\"],\"xaxis\":\"x\",\"y\":[500.6609243613567],\"yaxis\":\"y\",\"type\":\"histogram\"},{\"alignmentgroup\":\"True\",\"bingroup\":\"x\",\"histfunc\":\"sum\",\"hovertemplate\":\"color=Stadtfeld_Ost<br>x=%{x}<br>sum of y=%{y}<extra></extra>\",\"legendgroup\":\"Stadtfeld_Ost\",\"marker\":{\"color\":\"#FFA15A\",\"pattern\":{\"shape\":\"\"}},\"name\":\"Stadtfeld_Ost\",\"offsetgroup\":\"Stadtfeld_Ost\",\"orientation\":\"v\",\"showlegend\":true,\"x\":[\"Stadtfeld_Ost\"],\"xaxis\":\"x\",\"y\":[663.7899744920164],\"yaxis\":\"y\",\"type\":\"histogram\"},{\"alignmentgroup\":\"True\",\"bingroup\":\"x\",\"histfunc\":\"sum\",\"hovertemplate\":\"color=Stadtmitte<br>x=%{x}<br>sum of y=%{y}<extra></extra>\",\"legendgroup\":\"Stadtmitte\",\"marker\":{\"color\":\"#19d3f3\",\"pattern\":{\"shape\":\"\"}},\"name\":\"Stadtmitte\",\"offsetgroup\":\"Stadtmitte\",\"orientation\":\"v\",\"showlegend\":true,\"x\":[\"Stadtmitte\"],\"xaxis\":\"x\",\"y\":[750.1033834731749],\"yaxis\":\"y\",\"type\":\"histogram\"},{\"alignmentgroup\":\"True\",\"bingroup\":\"x\",\"histfunc\":\"sum\",\"hovertemplate\":\"color=S\\u00fcdstadt<br>x=%{x}<br>sum of y=%{y}<extra></extra>\",\"legendgroup\":\"S\\u00fcdstadt\",\"marker\":{\"color\":\"#FF6692\",\"pattern\":{\"shape\":\"\"}},\"name\":\"S\\u00fcdstadt\",\"offsetgroup\":\"S\\u00fcdstadt\",\"orientation\":\"v\",\"showlegend\":true,\"x\":[\"S\\u00fcdstadt\"],\"xaxis\":\"x\",\"y\":[742.0266588702359],\"yaxis\":\"y\",\"type\":\"histogram\"},{\"alignmentgroup\":\"True\",\"bingroup\":\"x\",\"histfunc\":\"sum\",\"hovertemplate\":\"color=Zentrum<br>x=%{x}<br>sum of y=%{y}<extra></extra>\",\"legendgroup\":\"Zentrum\",\"marker\":{\"color\":\"#B6E880\",\"pattern\":{\"shape\":\"\"}},\"name\":\"Zentrum\",\"offsetgroup\":\"Zentrum\",\"orientation\":\"v\",\"showlegend\":true,\"x\":[\"Zentrum\"],\"xaxis\":\"x\",\"y\":[685.2498087914994],\"yaxis\":\"y\",\"type\":\"histogram\"},{\"alignmentgroup\":\"True\",\"bingroup\":\"x\",\"histfunc\":\"sum\",\"hovertemplate\":\"color=other<br>x=%{x}<br>sum of y=%{y}<extra></extra>\",\"legendgroup\":\"other\",\"marker\":{\"color\":\"#FF97FF\",\"pattern\":{\"shape\":\"\"}},\"name\":\"other\",\"offsetgroup\":\"other\",\"orientation\":\"v\",\"showlegend\":true,\"x\":[\"other\"],\"xaxis\":\"x\",\"y\":[824.3584484150095],\"yaxis\":\"y\",\"type\":\"histogram\"}],                        {\"template\":{\"data\":{\"bar\":[{\"error_x\":{\"color\":\"#2a3f5f\"},\"error_y\":{\"color\":\"#2a3f5f\"},\"marker\":{\"line\":{\"color\":\"#E5ECF6\",\"width\":0.5},\"pattern\":{\"fillmode\":\"overlay\",\"size\":10,\"solidity\":0.2}},\"type\":\"bar\"}],\"barpolar\":[{\"marker\":{\"line\":{\"color\":\"#E5ECF6\",\"width\":0.5},\"pattern\":{\"fillmode\":\"overlay\",\"size\":10,\"solidity\":0.2}},\"type\":\"barpolar\"}],\"carpet\":[{\"aaxis\":{\"endlinecolor\":\"#2a3f5f\",\"gridcolor\":\"white\",\"linecolor\":\"white\",\"minorgridcolor\":\"white\",\"startlinecolor\":\"#2a3f5f\"},\"baxis\":{\"endlinecolor\":\"#2a3f5f\",\"gridcolor\":\"white\",\"linecolor\":\"white\",\"minorgridcolor\":\"white\",\"startlinecolor\":\"#2a3f5f\"},\"type\":\"carpet\"}],\"choropleth\":[{\"colorbar\":{\"outlinewidth\":0,\"ticks\":\"\"},\"type\":\"choropleth\"}],\"contour\":[{\"colorbar\":{\"outlinewidth\":0,\"ticks\":\"\"},\"colorscale\":[[0.0,\"#0d0887\"],[0.1111111111111111,\"#46039f\"],[0.2222222222222222,\"#7201a8\"],[0.3333333333333333,\"#9c179e\"],[0.4444444444444444,\"#bd3786\"],[0.5555555555555556,\"#d8576b\"],[0.6666666666666666,\"#ed7953\"],[0.7777777777777778,\"#fb9f3a\"],[0.8888888888888888,\"#fdca26\"],[1.0,\"#f0f921\"]],\"type\":\"contour\"}],\"contourcarpet\":[{\"colorbar\":{\"outlinewidth\":0,\"ticks\":\"\"},\"type\":\"contourcarpet\"}],\"heatmap\":[{\"colorbar\":{\"outlinewidth\":0,\"ticks\":\"\"},\"colorscale\":[[0.0,\"#0d0887\"],[0.1111111111111111,\"#46039f\"],[0.2222222222222222,\"#7201a8\"],[0.3333333333333333,\"#9c179e\"],[0.4444444444444444,\"#bd3786\"],[0.5555555555555556,\"#d8576b\"],[0.6666666666666666,\"#ed7953\"],[0.7777777777777778,\"#fb9f3a\"],[0.8888888888888888,\"#fdca26\"],[1.0,\"#f0f921\"]],\"type\":\"heatmap\"}],\"heatmapgl\":[{\"colorbar\":{\"outlinewidth\":0,\"ticks\":\"\"},\"colorscale\":[[0.0,\"#0d0887\"],[0.1111111111111111,\"#46039f\"],[0.2222222222222222,\"#7201a8\"],[0.3333333333333333,\"#9c179e\"],[0.4444444444444444,\"#bd3786\"],[0.5555555555555556,\"#d8576b\"],[0.6666666666666666,\"#ed7953\"],[0.7777777777777778,\"#fb9f3a\"],[0.8888888888888888,\"#fdca26\"],[1.0,\"#f0f921\"]],\"type\":\"heatmapgl\"}],\"histogram\":[{\"marker\":{\"pattern\":{\"fillmode\":\"overlay\",\"size\":10,\"solidity\":0.2}},\"type\":\"histogram\"}],\"histogram2d\":[{\"colorbar\":{\"outlinewidth\":0,\"ticks\":\"\"},\"colorscale\":[[0.0,\"#0d0887\"],[0.1111111111111111,\"#46039f\"],[0.2222222222222222,\"#7201a8\"],[0.3333333333333333,\"#9c179e\"],[0.4444444444444444,\"#bd3786\"],[0.5555555555555556,\"#d8576b\"],[0.6666666666666666,\"#ed7953\"],[0.7777777777777778,\"#fb9f3a\"],[0.8888888888888888,\"#fdca26\"],[1.0,\"#f0f921\"]],\"type\":\"histogram2d\"}],\"histogram2dcontour\":[{\"colorbar\":{\"outlinewidth\":0,\"ticks\":\"\"},\"colorscale\":[[0.0,\"#0d0887\"],[0.1111111111111111,\"#46039f\"],[0.2222222222222222,\"#7201a8\"],[0.3333333333333333,\"#9c179e\"],[0.4444444444444444,\"#bd3786\"],[0.5555555555555556,\"#d8576b\"],[0.6666666666666666,\"#ed7953\"],[0.7777777777777778,\"#fb9f3a\"],[0.8888888888888888,\"#fdca26\"],[1.0,\"#f0f921\"]],\"type\":\"histogram2dcontour\"}],\"mesh3d\":[{\"colorbar\":{\"outlinewidth\":0,\"ticks\":\"\"},\"type\":\"mesh3d\"}],\"parcoords\":[{\"line\":{\"colorbar\":{\"outlinewidth\":0,\"ticks\":\"\"}},\"type\":\"parcoords\"}],\"pie\":[{\"automargin\":true,\"type\":\"pie\"}],\"scatter\":[{\"marker\":{\"colorbar\":{\"outlinewidth\":0,\"ticks\":\"\"}},\"type\":\"scatter\"}],\"scatter3d\":[{\"line\":{\"colorbar\":{\"outlinewidth\":0,\"ticks\":\"\"}},\"marker\":{\"colorbar\":{\"outlinewidth\":0,\"ticks\":\"\"}},\"type\":\"scatter3d\"}],\"scattercarpet\":[{\"marker\":{\"colorbar\":{\"outlinewidth\":0,\"ticks\":\"\"}},\"type\":\"scattercarpet\"}],\"scattergeo\":[{\"marker\":{\"colorbar\":{\"outlinewidth\":0,\"ticks\":\"\"}},\"type\":\"scattergeo\"}],\"scattergl\":[{\"marker\":{\"colorbar\":{\"outlinewidth\":0,\"ticks\":\"\"}},\"type\":\"scattergl\"}],\"scattermapbox\":[{\"marker\":{\"colorbar\":{\"outlinewidth\":0,\"ticks\":\"\"}},\"type\":\"scattermapbox\"}],\"scatterpolar\":[{\"marker\":{\"colorbar\":{\"outlinewidth\":0,\"ticks\":\"\"}},\"type\":\"scatterpolar\"}],\"scatterpolargl\":[{\"marker\":{\"colorbar\":{\"outlinewidth\":0,\"ticks\":\"\"}},\"type\":\"scatterpolargl\"}],\"scatterternary\":[{\"marker\":{\"colorbar\":{\"outlinewidth\":0,\"ticks\":\"\"}},\"type\":\"scatterternary\"}],\"surface\":[{\"colorbar\":{\"outlinewidth\":0,\"ticks\":\"\"},\"colorscale\":[[0.0,\"#0d0887\"],[0.1111111111111111,\"#46039f\"],[0.2222222222222222,\"#7201a8\"],[0.3333333333333333,\"#9c179e\"],[0.4444444444444444,\"#bd3786\"],[0.5555555555555556,\"#d8576b\"],[0.6666666666666666,\"#ed7953\"],[0.7777777777777778,\"#fb9f3a\"],[0.8888888888888888,\"#fdca26\"],[1.0,\"#f0f921\"]],\"type\":\"surface\"}],\"table\":[{\"cells\":{\"fill\":{\"color\":\"#EBF0F8\"},\"line\":{\"color\":\"white\"}},\"header\":{\"fill\":{\"color\":\"#C8D4E3\"},\"line\":{\"color\":\"white\"}},\"type\":\"table\"}]},\"layout\":{\"annotationdefaults\":{\"arrowcolor\":\"#2a3f5f\",\"arrowhead\":0,\"arrowwidth\":1},\"autotypenumbers\":\"strict\",\"coloraxis\":{\"colorbar\":{\"outlinewidth\":0,\"ticks\":\"\"}},\"colorscale\":{\"diverging\":[[0,\"#8e0152\"],[0.1,\"#c51b7d\"],[0.2,\"#de77ae\"],[0.3,\"#f1b6da\"],[0.4,\"#fde0ef\"],[0.5,\"#f7f7f7\"],[0.6,\"#e6f5d0\"],[0.7,\"#b8e186\"],[0.8,\"#7fbc41\"],[0.9,\"#4d9221\"],[1,\"#276419\"]],\"sequential\":[[0.0,\"#0d0887\"],[0.1111111111111111,\"#46039f\"],[0.2222222222222222,\"#7201a8\"],[0.3333333333333333,\"#9c179e\"],[0.4444444444444444,\"#bd3786\"],[0.5555555555555556,\"#d8576b\"],[0.6666666666666666,\"#ed7953\"],[0.7777777777777778,\"#fb9f3a\"],[0.8888888888888888,\"#fdca26\"],[1.0,\"#f0f921\"]],\"sequentialminus\":[[0.0,\"#0d0887\"],[0.1111111111111111,\"#46039f\"],[0.2222222222222222,\"#7201a8\"],[0.3333333333333333,\"#9c179e\"],[0.4444444444444444,\"#bd3786\"],[0.5555555555555556,\"#d8576b\"],[0.6666666666666666,\"#ed7953\"],[0.7777777777777778,\"#fb9f3a\"],[0.8888888888888888,\"#fdca26\"],[1.0,\"#f0f921\"]]},\"colorway\":[\"#636efa\",\"#EF553B\",\"#00cc96\",\"#ab63fa\",\"#FFA15A\",\"#19d3f3\",\"#FF6692\",\"#B6E880\",\"#FF97FF\",\"#FECB52\"],\"font\":{\"color\":\"#2a3f5f\"},\"geo\":{\"bgcolor\":\"white\",\"lakecolor\":\"white\",\"landcolor\":\"#E5ECF6\",\"showlakes\":true,\"showland\":true,\"subunitcolor\":\"white\"},\"hoverlabel\":{\"align\":\"left\"},\"hovermode\":\"closest\",\"mapbox\":{\"style\":\"light\"},\"paper_bgcolor\":\"white\",\"plot_bgcolor\":\"#E5ECF6\",\"polar\":{\"angularaxis\":{\"gridcolor\":\"white\",\"linecolor\":\"white\",\"ticks\":\"\"},\"bgcolor\":\"#E5ECF6\",\"radialaxis\":{\"gridcolor\":\"white\",\"linecolor\":\"white\",\"ticks\":\"\"}},\"scene\":{\"xaxis\":{\"backgroundcolor\":\"#E5ECF6\",\"gridcolor\":\"white\",\"gridwidth\":2,\"linecolor\":\"white\",\"showbackground\":true,\"ticks\":\"\",\"zerolinecolor\":\"white\"},\"yaxis\":{\"backgroundcolor\":\"#E5ECF6\",\"gridcolor\":\"white\",\"gridwidth\":2,\"linecolor\":\"white\",\"showbackground\":true,\"ticks\":\"\",\"zerolinecolor\":\"white\"},\"zaxis\":{\"backgroundcolor\":\"#E5ECF6\",\"gridcolor\":\"white\",\"gridwidth\":2,\"linecolor\":\"white\",\"showbackground\":true,\"ticks\":\"\",\"zerolinecolor\":\"white\"}},\"shapedefaults\":{\"line\":{\"color\":\"#2a3f5f\"}},\"ternary\":{\"aaxis\":{\"gridcolor\":\"white\",\"linecolor\":\"white\",\"ticks\":\"\"},\"baxis\":{\"gridcolor\":\"white\",\"linecolor\":\"white\",\"ticks\":\"\"},\"bgcolor\":\"#E5ECF6\",\"caxis\":{\"gridcolor\":\"white\",\"linecolor\":\"white\",\"ticks\":\"\"}},\"title\":{\"x\":0.05},\"xaxis\":{\"automargin\":true,\"gridcolor\":\"white\",\"linecolor\":\"white\",\"ticks\":\"\",\"title\":{\"standoff\":15},\"zerolinecolor\":\"white\",\"zerolinewidth\":2},\"yaxis\":{\"automargin\":true,\"gridcolor\":\"white\",\"linecolor\":\"white\",\"ticks\":\"\",\"title\":{\"standoff\":15},\"zerolinecolor\":\"white\",\"zerolinewidth\":2}}},\"xaxis\":{\"anchor\":\"y\",\"domain\":[0.0,1.0],\"title\":{\"text\":\"City\"}},\"yaxis\":{\"anchor\":\"x\",\"domain\":[0.0,1.0],\"title\":{\"text\":\"Average rental\"}},\"legend\":{\"title\":{\"text\":\"color\"},\"tracegroupgap\":0},\"margin\":{\"t\":60},\"barmode\":\"relative\"},                        {\"responsive\": true}                    ).then(function(){\n",
              "                            \n",
              "var gd = document.getElementById('5aaaffd1-71b0-414c-96b0-99b0b0855758');\n",
              "var x = new MutationObserver(function (mutations, observer) {{\n",
              "        var display = window.getComputedStyle(gd).display;\n",
              "        if (!display || display === 'none') {{\n",
              "            console.log([gd, 'removed!']);\n",
              "            Plotly.purge(gd);\n",
              "            observer.disconnect();\n",
              "        }}\n",
              "}});\n",
              "\n",
              "// Listen for the removal of the full notebook cells\n",
              "var notebookContainer = gd.closest('#notebook-container');\n",
              "if (notebookContainer) {{\n",
              "    x.observe(notebookContainer, {childList: true});\n",
              "}}\n",
              "\n",
              "// Listen for the clearing of the current output cell\n",
              "var outputEl = gd.closest('.output');\n",
              "if (outputEl) {{\n",
              "    x.observe(outputEl, {childList: true});\n",
              "}}\n",
              "\n",
              "                        })                };                            </script>        </div>\n",
              "</body>\n",
              "</html>"
            ]
          },
          "metadata": {}
        }
      ]
    },
    {
      "cell_type": "code",
      "source": [
        "import seaborn as sb\n",
        "import matplotlib.pyplot as plt"
      ],
      "metadata": {
        "id": "RE95DbX18jCI"
      },
      "execution_count": 111,
      "outputs": []
    },
    {
      "cell_type": "code",
      "source": [
        "f, ax = plt.subplots(figsize=(20, 20))\n",
        "\n",
        "sb.heatmap(df.corr(), square=True, fmt='.2f' ,annot = True, )"
      ],
      "metadata": {
        "id": "naVyCAF08QcH",
        "colab": {
          "base_uri": "https://localhost:8080/",
          "height": 1000
        },
        "outputId": "eaddf93b-2d2c-45d3-f11f-6d561373cfa0"
      },
      "execution_count": 112,
      "outputs": [
        {
          "output_type": "execute_result",
          "data": {
            "text/plain": [
              "<matplotlib.axes._subplots.AxesSubplot at 0x7f7a3dde1e50>"
            ]
          },
          "metadata": {},
          "execution_count": 112
        },
        {
          "output_type": "display_data",
          "data": {
            "text/plain": [
              "<Figure size 1440x1440 with 2 Axes>"
            ],
            "image/png": "[encoded data removed]"
          },
          "metadata": {
            "needs_background": "light"
          }
        }
      ]
    },
    {
      "cell_type": "markdown",
      "source": [
        "## 3: Train a model(and preprocessing)"
      ],
      "metadata": {
        "id": "9Z1BQ2KkC4Gb"
      }
    },
    {
      "cell_type": "code",
      "source": [
        "import time\n",
        "from sklearn.model_selection import train_test_split\n"
      ],
      "metadata": {
        "id": "7zYTUyyQXR12"
      },
      "execution_count": 113,
      "outputs": []
    },
    {
      "cell_type": "code",
      "source": [
        "columns = []\n",
        "for col in df.columns:\n",
        "    if df[col].dtype == 'object' or df[col].dtype == 'bool':\n",
        "        columns.append(col)\n",
        "        \n",
        "dummies_feature = pd.get_dummies(df[columns])\n",
        "df = pd.concat([df, dummies_feature], axis=1)\n",
        "\n",
        "df = df.drop(columns=columns)\n",
        "\n",
        "target = df['totalRent']\n",
        "df = df.drop('totalRent', axis=1)\n",
        "\n",
        "X_train, X_test, y_train, y_test = train_test_split(df, target, test_size=0.3, random_state=43)\n",
        "\n",
        "for col in X_train.columns:\n",
        "    if (X_train[col].dtype == 'int64' or X_train[col].dtype == 'float64') and not X_train[col].isin([0, 1]).all():\n",
        "          X_train[col] = ((X_train[col] - X_train[col].mean())/(X_train[col].std()))\n",
        "\n",
        "for col in X_test.columns:\n",
        "    if (X_test[col].dtype == 'int64' or X_test[col].dtype == 'float64') and not X_test[col].isin([0, 1]).all():\n",
        "          X_test[col] = ((X_test[col] - X_test[col].mean())/(X_test[col].std()))\n"
      ],
      "metadata": {
        "id": "V9hsT0TdD0eC"
      },
      "execution_count": 114,
      "outputs": []
    },
    {
      "cell_type": "code",
      "source": [
        "from sklearn.linear_model import LinearRegression\n",
        "from sklearn import metrics"
      ],
      "metadata": {
        "id": "RBQ2oM2bFAMk"
      },
      "execution_count": 115,
      "outputs": []
    },
    {
      "cell_type": "code",
      "source": [
        "lr = LinearRegression()"
      ],
      "metadata": {
        "id": "tptmNzfF-NtM"
      },
      "execution_count": 116,
      "outputs": []
    },
    {
      "cell_type": "code",
      "source": [
        "X_train"
      ],
      "metadata": {
        "id": "dOYUOgwLazyg",
        "colab": {
          "base_uri": "https://localhost:8080/",
          "height": 488
        },
        "outputId": "97ab1771-ddee-4d69-a316-500f2bb7f613"
      },
      "execution_count": 117,
      "outputs": [
        {
          "output_type": "execute_result",
          "data": {
            "text/plain": [
              "        serviceCharge  yearConstructed  baseRent  livingSpace   noRooms  \\\n",
              "57444       -0.975806        -0.000715 -1.012298    -1.406996 -1.668631   \n",
              "31472       -0.197368        -0.000715 -0.344320    -0.804202 -0.643738   \n",
              "210028       0.970289         1.409140  0.363537     0.963721  0.381156   \n",
              "91586       -0.367651         0.467859 -0.394169    -0.348076  0.381156   \n",
              "86266        0.605396         1.497385  1.101304     0.344174  0.381156   \n",
              "...               ...              ...       ...          ...       ...   \n",
              "132124       0.058057         1.438555  0.184081     0.137447 -0.643738   \n",
              "43007       -0.246020         0.820839 -0.693263    -0.585147 -0.643738   \n",
              "261718      -0.002758         0.379614  0.251875     0.394749  0.381156   \n",
              "159200      -0.197368         0.732594 -0.295228    -0.887967 -0.643738   \n",
              "14896        0.118873        -0.238102 -0.703233    -0.774805 -0.131291   \n",
              "\n",
              "        thermalChar     floor  numberOfFloors  interiorQual_luxury  \\\n",
              "57444      1.172934  0.000293       -0.001726                    0   \n",
              "31472      0.001242  0.677616       -0.001726                    0   \n",
              "210028    -2.339990  0.000293       -1.024518                    0   \n",
              "91586      0.001242  1.399038        1.743298                    0   \n",
              "86266      0.001242  0.000293       -0.332564                    0   \n",
              "...             ...       ...             ...                  ...   \n",
              "132124    -0.730230 -0.043806       -0.332564                    0   \n",
              "43007     -0.383960  0.000293        2.435251                    0   \n",
              "261718    -0.280872 -0.043806       -0.332564                    0   \n",
              "159200     1.569426 -0.043806       -0.001726                    0   \n",
              "14896     -1.232454  2.120460        1.051344                    0   \n",
              "\n",
              "        interiorQual_normal  ...  edited_condition_fully_renovated  \\\n",
              "57444                     1  ...                                 0   \n",
              "31472                     1  ...                                 0   \n",
              "210028                    0  ...                                 0   \n",
              "91586                     1  ...                                 1   \n",
              "86266                     0  ...                                 0   \n",
              "...                     ...  ...                               ...   \n",
              "132124                    0  ...                                 0   \n",
              "43007                     0  ...                                 0   \n",
              "261718                    0  ...                                 0   \n",
              "159200                    1  ...                                 0   \n",
              "14896                     1  ...                                 0   \n",
              "\n",
              "        edited_condition_mint_condition  edited_condition_other  \\\n",
              "57444                                 0                       0   \n",
              "31472                                 0                       0   \n",
              "210028                                0                       0   \n",
              "91586                                 0                       0   \n",
              "86266                                 0                       0   \n",
              "...                                 ...                     ...   \n",
              "132124                                1                       0   \n",
              "43007                                 0                       0   \n",
              "261718                                0                       0   \n",
              "159200                                0                       0   \n",
              "14896                                 0                       0   \n",
              "\n",
              "        edited_condition_refurbished  edited_condition_well_kept  \\\n",
              "57444                              0                           1   \n",
              "31472                              1                           0   \n",
              "210028                             0                           0   \n",
              "91586                              0                           0   \n",
              "86266                              0                           0   \n",
              "...                              ...                         ...   \n",
              "132124                             0                           0   \n",
              "43007                              0                           1   \n",
              "261718                             0                           1   \n",
              "159200                             0                           1   \n",
              "14896                              0                           1   \n",
              "\n",
              "        edited_typeOfFlat_apartment  edited_typeOfFlat_ground_floor  \\\n",
              "57444                             1                               0   \n",
              "31472                             1                               0   \n",
              "210028                            0                               1   \n",
              "91586                             1                               0   \n",
              "86266                             1                               0   \n",
              "...                             ...                             ...   \n",
              "132124                            1                               0   \n",
              "43007                             0                               1   \n",
              "261718                            1                               0   \n",
              "159200                            1                               0   \n",
              "14896                             1                               0   \n",
              "\n",
              "        edited_typeOfFlat_maisonette  edited_typeOfFlat_other  \\\n",
              "57444                              0                        0   \n",
              "31472                              0                        0   \n",
              "210028                             0                        0   \n",
              "91586                              0                        0   \n",
              "86266                              0                        0   \n",
              "...                              ...                      ...   \n",
              "132124                             0                        0   \n",
              "43007                              0                        0   \n",
              "261718                             0                        0   \n",
              "159200                             0                        0   \n",
              "14896                              0                        0   \n",
              "\n",
              "        edited_typeOfFlat_roof_storey  \n",
              "57444                               0  \n",
              "31472                               0  \n",
              "210028                              0  \n",
              "91586                               0  \n",
              "86266                               0  \n",
              "...                               ...  \n",
              "132124                              0  \n",
              "43007                               0  \n",
              "261718                              0  \n",
              "159200                              0  \n",
              "14896                               0  \n",
              "\n",
              "[178353 rows x 73 columns]"
            ],
            "text/html": [
              "\n",
              "  <div id=\"df-ffd639e4-c9e9-4337-889b-81e39c89d4b9\">\n",
              "    <div class=\"colab-df-container\">\n",
              "      <div>\n",
              "<style scoped>\n",
              "    .dataframe tbody tr th:only-of-type {\n",
              "        vertical-align: middle;\n",
              "    }\n",
              "\n",
              "    .dataframe tbody tr th {\n",
              "        vertical-align: top;\n",
              "    }\n",
              "\n",
              "    .dataframe thead th {\n",
              "        text-align: right;\n",
              "    }\n",
              "</style>\n",
              "<table border=\"1\" class=\"dataframe\">\n",
              "  <thead>\n",
              "    <tr style=\"text-align: right;\">\n",
              "      <th></th>\n",
              "      <th>serviceCharge</th>\n",
              "      <th>yearConstructed</th>\n",
              "      <th>baseRent</th>\n",
              "      <th>livingSpace</th>\n",
              "      <th>noRooms</th>\n",
              "      <th>thermalChar</th>\n",
              "      <th>floor</th>\n",
              "      <th>numberOfFloors</th>\n",
              "      <th>interiorQual_luxury</th>\n",
              "      <th>interiorQual_normal</th>\n",
              "      <th>...</th>\n",
              "      <th>edited_condition_fully_renovated</th>\n",
              "      <th>edited_condition_mint_condition</th>\n",
              "      <th>edited_condition_other</th>\n",
              "      <th>edited_condition_refurbished</th>\n",
              "      <th>edited_condition_well_kept</th>\n",
              "      <th>edited_typeOfFlat_apartment</th>\n",
              "      <th>edited_typeOfFlat_ground_floor</th>\n",
              "      <th>edited_typeOfFlat_maisonette</th>\n",
              "      <th>edited_typeOfFlat_other</th>\n",
              "      <th>edited_typeOfFlat_roof_storey</th>\n",
              "    </tr>\n",
              "  </thead>\n",
              "  <tbody>\n",
              "    <tr>\n",
              "      <th>57444</th>\n",
              "      <td>-0.975806</td>\n",
              "      <td>-0.000715</td>\n",
              "      <td>-1.012298</td>\n",
              "      <td>-1.406996</td>\n",
              "      <td>-1.668631</td>\n",
              "      <td>1.172934</td>\n",
              "      <td>0.000293</td>\n",
              "      <td>-0.001726</td>\n",
              "      <td>0</td>\n",
              "      <td>1</td>\n",
              "      <td>...</td>\n",
              "      <td>0</td>\n",
              "      <td>0</td>\n",
              "      <td>0</td>\n",
              "      <td>0</td>\n",
              "      <td>1</td>\n",
              "      <td>1</td>\n",
              "      <td>0</td>\n",
              "      <td>0</td>\n",
              "      <td>0</td>\n",
              "      <td>0</td>\n",
              "    </tr>\n",
              "    <tr>\n",
              "      <th>31472</th>\n",
              "      <td>-0.197368</td>\n",
              "      <td>-0.000715</td>\n",
              "      <td>-0.344320</td>\n",
              "      <td>-0.804202</td>\n",
              "      <td>-0.643738</td>\n",
              "      <td>0.001242</td>\n",
              "      <td>0.677616</td>\n",
              "      <td>-0.001726</td>\n",
              "      <td>0</td>\n",
              "      <td>1</td>\n",
              "      <td>...</td>\n",
              "      <td>0</td>\n",
              "      <td>0</td>\n",
              "      <td>0</td>\n",
              "      <td>1</td>\n",
              "      <td>0</td>\n",
              "      <td>1</td>\n",
              "      <td>0</td>\n",
              "      <td>0</td>\n",
              "      <td>0</td>\n",
              "      <td>0</td>\n",
              "    </tr>\n",
              "    <tr>\n",
              "      <th>210028</th>\n",
              "      <td>0.970289</td>\n",
              "      <td>1.409140</td>\n",
              "      <td>0.363537</td>\n",
              "      <td>0.963721</td>\n",
              "      <td>0.381156</td>\n",
              "      <td>-2.339990</td>\n",
              "      <td>0.000293</td>\n",
              "      <td>-1.024518</td>\n",
              "      <td>0</td>\n",
              "      <td>0</td>\n",
              "      <td>...</td>\n",
              "      <td>0</td>\n",
              "      <td>0</td>\n",
              "      <td>0</td>\n",
              "      <td>0</td>\n",
              "      <td>0</td>\n",
              "      <td>0</td>\n",
              "      <td>1</td>\n",
              "      <td>0</td>\n",
              "      <td>0</td>\n",
              "      <td>0</td>\n",
              "    </tr>\n",
              "    <tr>\n",
              "      <th>91586</th>\n",
              "      <td>-0.367651</td>\n",
              "      <td>0.467859</td>\n",
              "      <td>-0.394169</td>\n",
              "      <td>-0.348076</td>\n",
              "      <td>0.381156</td>\n",
              "      <td>0.001242</td>\n",
              "      <td>1.399038</td>\n",
              "      <td>1.743298</td>\n",
              "      <td>0</td>\n",
              "      <td>1</td>\n",
              "      <td>...</td>\n",
              "      <td>1</td>\n",
              "      <td>0</td>\n",
              "      <td>0</td>\n",
              "      <td>0</td>\n",
              "      <td>0</td>\n",
              "      <td>1</td>\n",
              "      <td>0</td>\n",
              "      <td>0</td>\n",
              "      <td>0</td>\n",
              "      <td>0</td>\n",
              "    </tr>\n",
              "    <tr>\n",
              "      <th>86266</th>\n",
              "      <td>0.605396</td>\n",
              "      <td>1.497385</td>\n",
              "      <td>1.101304</td>\n",
              "      <td>0.344174</td>\n",
              "      <td>0.381156</td>\n",
              "      <td>0.001242</td>\n",
              "      <td>0.000293</td>\n",
              "      <td>-0.332564</td>\n",
              "      <td>0</td>\n",
              "      <td>0</td>\n",
              "      <td>...</td>\n",
              "      <td>0</td>\n",
              "      <td>0</td>\n",
              "      <td>0</td>\n",
              "      <td>0</td>\n",
              "      <td>0</td>\n",
              "      <td>1</td>\n",
              "      <td>0</td>\n",
              "      <td>0</td>\n",
              "      <td>0</td>\n",
              "      <td>0</td>\n",
              "    </tr>\n",
              "    <tr>\n",
              "      <th>...</th>\n",
              "      <td>...</td>\n",
              "      <td>...</td>\n",
              "      <td>...</td>\n",
              "      <td>...</td>\n",
              "      <td>...</td>\n",
              "      <td>...</td>\n",
              "      <td>...</td>\n",
              "      <td>...</td>\n",
              "      <td>...</td>\n",
              "      <td>...</td>\n",
              "      <td>...</td>\n",
              "      <td>...</td>\n",
              "      <td>...</td>\n",
              "      <td>...</td>\n",
              "      <td>...</td>\n",
              "      <td>...</td>\n",
              "      <td>...</td>\n",
              "      <td>...</td>\n",
              "      <td>...</td>\n",
              "      <td>...</td>\n",
              "      <td>...</td>\n",
              "    </tr>\n",
              "    <tr>\n",
              "      <th>132124</th>\n",
              "      <td>0.058057</td>\n",
              "      <td>1.438555</td>\n",
              "      <td>0.184081</td>\n",
              "      <td>0.137447</td>\n",
              "      <td>-0.643738</td>\n",
              "      <td>-0.730230</td>\n",
              "      <td>-0.043806</td>\n",
              "      <td>-0.332564</td>\n",
              "      <td>0</td>\n",
              "      <td>0</td>\n",
              "      <td>...</td>\n",
              "      <td>0</td>\n",
              "      <td>1</td>\n",
              "      <td>0</td>\n",
              "      <td>0</td>\n",
              "      <td>0</td>\n",
              "      <td>1</td>\n",
              "      <td>0</td>\n",
              "      <td>0</td>\n",
              "      <td>0</td>\n",
              "      <td>0</td>\n",
              "    </tr>\n",
              "    <tr>\n",
              "      <th>43007</th>\n",
              "      <td>-0.246020</td>\n",
              "      <td>0.820839</td>\n",
              "      <td>-0.693263</td>\n",
              "      <td>-0.585147</td>\n",
              "      <td>-0.643738</td>\n",
              "      <td>-0.383960</td>\n",
              "      <td>0.000293</td>\n",
              "      <td>2.435251</td>\n",
              "      <td>0</td>\n",
              "      <td>0</td>\n",
              "      <td>...</td>\n",
              "      <td>0</td>\n",
              "      <td>0</td>\n",
              "      <td>0</td>\n",
              "      <td>0</td>\n",
              "      <td>1</td>\n",
              "      <td>0</td>\n",
              "      <td>1</td>\n",
              "      <td>0</td>\n",
              "      <td>0</td>\n",
              "      <td>0</td>\n",
              "    </tr>\n",
              "    <tr>\n",
              "      <th>261718</th>\n",
              "      <td>-0.002758</td>\n",
              "      <td>0.379614</td>\n",
              "      <td>0.251875</td>\n",
              "      <td>0.394749</td>\n",
              "      <td>0.381156</td>\n",
              "      <td>-0.280872</td>\n",
              "      <td>-0.043806</td>\n",
              "      <td>-0.332564</td>\n",
              "      <td>0</td>\n",
              "      <td>0</td>\n",
              "      <td>...</td>\n",
              "      <td>0</td>\n",
              "      <td>0</td>\n",
              "      <td>0</td>\n",
              "      <td>0</td>\n",
              "      <td>1</td>\n",
              "      <td>1</td>\n",
              "      <td>0</td>\n",
              "      <td>0</td>\n",
              "      <td>0</td>\n",
              "      <td>0</td>\n",
              "    </tr>\n",
              "    <tr>\n",
              "      <th>159200</th>\n",
              "      <td>-0.197368</td>\n",
              "      <td>0.732594</td>\n",
              "      <td>-0.295228</td>\n",
              "      <td>-0.887967</td>\n",
              "      <td>-0.643738</td>\n",
              "      <td>1.569426</td>\n",
              "      <td>-0.043806</td>\n",
              "      <td>-0.001726</td>\n",
              "      <td>0</td>\n",
              "      <td>1</td>\n",
              "      <td>...</td>\n",
              "      <td>0</td>\n",
              "      <td>0</td>\n",
              "      <td>0</td>\n",
              "      <td>0</td>\n",
              "      <td>1</td>\n",
              "      <td>1</td>\n",
              "      <td>0</td>\n",
              "      <td>0</td>\n",
              "      <td>0</td>\n",
              "      <td>0</td>\n",
              "    </tr>\n",
              "    <tr>\n",
              "      <th>14896</th>\n",
              "      <td>0.118873</td>\n",
              "      <td>-0.238102</td>\n",
              "      <td>-0.703233</td>\n",
              "      <td>-0.774805</td>\n",
              "      <td>-0.131291</td>\n",
              "      <td>-1.232454</td>\n",
              "      <td>2.120460</td>\n",
              "      <td>1.051344</td>\n",
              "      <td>0</td>\n",
              "      <td>1</td>\n",
              "      <td>...</td>\n",
              "      <td>0</td>\n",
              "      <td>0</td>\n",
              "      <td>0</td>\n",
              "      <td>0</td>\n",
              "      <td>1</td>\n",
              "      <td>1</td>\n",
              "      <td>0</td>\n",
              "      <td>0</td>\n",
              "      <td>0</td>\n",
              "      <td>0</td>\n",
              "    </tr>\n",
              "  </tbody>\n",
              "</table>\n",
              "<p>178353 rows × 73 columns</p>\n",
              "</div>\n",
              "      <button class=\"colab-df-convert\" onclick=\"convertToInteractive('df-ffd639e4-c9e9-4337-889b-81e39c89d4b9')\"\n",
              "              title=\"Convert this dataframe to an interactive table.\"\n",
              "              style=\"display:none;\">\n",
              "        \n",
              "  <svg xmlns=\"http://www.w3.org/2000/svg\" height=\"24px\"viewBox=\"0 0 24 24\"\n",
              "       width=\"24px\">\n",
              "    <path d=\"M0 0h24v24H0V0z\" fill=\"none\"/>\n",
              "    <path d=\"M18.56 5.44l.94 2.06.94-2.06 2.06-.94-2.06-.94-.94-2.06-.94 2.06-2.06.94zm-11 1L8.5 8.5l.94-2.06 2.06-.94-2.06-.94L8.5 2.5l-.94 2.06-2.06.94zm10 10l.94 2.06.94-2.06 2.06-.94-2.06-.94-.94-2.06-.94 2.06-2.06.94z\"/><path d=\"M17.41 7.96l-1.37-1.37c-.4-.4-.92-.59-1.43-.59-.52 0-1.04.2-1.43.59L10.3 9.45l-7.72 7.72c-.78.78-.78 2.05 0 2.83L4 21.41c.39.39.9.59 1.41.59.51 0 1.02-.2 1.41-.59l7.78-7.78 2.81-2.81c.8-.78.8-2.07 0-2.86zM5.41 20L4 18.59l7.72-7.72 1.47 1.35L5.41 20z\"/>\n",
              "  </svg>\n",
              "      </button>\n",
              "      \n",
              "  <style>\n",
              "    .colab-df-container {\n",
              "      display:flex;\n",
              "      flex-wrap:wrap;\n",
              "      gap: 12px;\n",
              "    }\n",
              "\n",
              "    .colab-df-convert {\n",
              "      background-color: #E8F0FE;\n",
              "      border: none;\n",
              "      border-radius: 50%;\n",
              "      cursor: pointer;\n",
              "      display: none;\n",
              "      fill: #1967D2;\n",
              "      height: 32px;\n",
              "      padding: 0 0 0 0;\n",
              "      width: 32px;\n",
              "    }\n",
              "\n",
              "    .colab-df-convert:hover {\n",
              "      background-color: #E2EBFA;\n",
              "      box-shadow: 0px 1px 2px rgba(60, 64, 67, 0.3), 0px 1px 3px 1px rgba(60, 64, 67, 0.15);\n",
              "      fill: #174EA6;\n",
              "    }\n",
              "\n",
              "    [theme=dark] .colab-df-convert {\n",
              "      background-color: #3B4455;\n",
              "      fill: #D2E3FC;\n",
              "    }\n",
              "\n",
              "    [theme=dark] .colab-df-convert:hover {\n",
              "      background-color: #434B5C;\n",
              "      box-shadow: 0px 1px 3px 1px rgba(0, 0, 0, 0.15);\n",
              "      filter: drop-shadow(0px 1px 2px rgba(0, 0, 0, 0.3));\n",
              "      fill: #FFFFFF;\n",
              "    }\n",
              "  </style>\n",
              "\n",
              "      <script>\n",
              "        const buttonEl =\n",
              "          document.querySelector('#df-ffd639e4-c9e9-4337-889b-81e39c89d4b9 button.colab-df-convert');\n",
              "        buttonEl.style.display =\n",
              "          google.colab.kernel.accessAllowed ? 'block' : 'none';\n",
              "\n",
              "        async function convertToInteractive(key) {\n",
              "          const element = document.querySelector('#df-ffd639e4-c9e9-4337-889b-81e39c89d4b9');\n",
              "          const dataTable =\n",
              "            await google.colab.kernel.invokeFunction('convertToInteractive',\n",
              "                                                     [key], {});\n",
              "          if (!dataTable) return;\n",
              "\n",
              "          const docLinkHtml = 'Like what you see? Visit the ' +\n",
              "            '<a target=\"_blank\" href=https://colab.research.google.com/notebooks/data_table.ipynb>data table notebook</a>'\n",
              "            + ' to learn more about interactive tables.';\n",
              "          element.innerHTML = '';\n",
              "          dataTable['output_type'] = 'display_data';\n",
              "          await google.colab.output.renderOutput(dataTable, element);\n",
              "          const docLink = document.createElement('div');\n",
              "          docLink.innerHTML = docLinkHtml;\n",
              "          element.appendChild(docLink);\n",
              "        }\n",
              "      </script>\n",
              "    </div>\n",
              "  </div>\n",
              "  "
            ]
          },
          "metadata": {},
          "execution_count": 117
        }
      ]
    },
    {
      "cell_type": "code",
      "source": [
        "lr.fit(X_train, y_train)\n",
        "y_pred = lr.predict(X_test)"
      ],
      "metadata": {
        "id": "z5JdYSklRQSN"
      },
      "execution_count": 118,
      "outputs": []
    },
    {
      "cell_type": "code",
      "source": [
        "metrics.mean_absolute_error(y_test, y_pred)"
      ],
      "metadata": {
        "id": "Ipkm65fYRd5b",
        "colab": {
          "base_uri": "https://localhost:8080/"
        },
        "outputId": "088f8c04-d0de-4bdb-cd5c-87e4e9299433"
      },
      "execution_count": 119,
      "outputs": [
        {
          "output_type": "execute_result",
          "data": {
            "text/plain": [
              "110.42475136906707"
            ]
          },
          "metadata": {},
          "execution_count": 119
        }
      ]
    },
    {
      "cell_type": "markdown",
      "source": [
        "mean absolute error is 112 without normalization"
      ],
      "metadata": {
        "id": "I4V6i01KThFD"
      }
    },
    {
      "cell_type": "markdown",
      "source": [
        "## 4: Multiprossesing"
      ],
      "metadata": {
        "id": "qa6lDwF7TqwK"
      }
    },
    {
      "cell_type": "code",
      "source": [
        "from multiprocessing import Pool, cpu_count"
      ],
      "metadata": {
        "id": "95j0blcVYi9E"
      },
      "execution_count": 129,
      "outputs": []
    },
    {
      "cell_type": "code",
      "source": [
        "df = temp.copy(deep=True)"
      ],
      "metadata": {
        "id": "5sjDEbxBipZA"
      },
      "execution_count": 130,
      "outputs": []
    },
    {
      "cell_type": "code",
      "source": [
        "m_time = time.time()\n",
        "with Pool(cpu_count()) as p:\n",
        "    p.imap(df.fillna(df._get_numeric_data().mean(),inplace = True), [])\n",
        "m_time = time.time() - m_time"
      ],
      "metadata": {
        "id": "7_ofyUmUZvP1"
      },
      "execution_count": 131,
      "outputs": []
    },
    {
      "cell_type": "code",
      "source": [
        "!python -m pip install \"dask[complete]\""
      ],
      "metadata": {
        "id": "aKCxWhzJemU9",
        "colab": {
          "base_uri": "https://localhost:8080/"
        },
        "outputId": "56515cbf-a2d7-4525-9a3a-2e921aa7fc2a"
      },
      "execution_count": 132,
      "outputs": [
        {
          "output_type": "stream",
          "name": "stdout",
          "text": [
            "Requirement already satisfied: dask[complete] in /usr/local/lib/python3.7/dist-packages (2.12.0)\n",
            "Requirement already satisfied: fsspec>=0.6.0 in /usr/local/lib/python3.7/dist-packages (from dask[complete]) (2022.3.0)\n",
            "Requirement already satisfied: toolz>=0.7.3 in /usr/local/lib/python3.7/dist-packages (from dask[complete]) (0.11.2)\n",
            "Requirement already satisfied: cloudpickle>=0.2.1 in /usr/local/lib/python3.7/dist-packages (from dask[complete]) (2.0.0)\n",
            "Requirement already satisfied: PyYaml in /usr/local/lib/python3.7/dist-packages (from dask[complete]) (3.13)\n",
            "Requirement already satisfied: numpy>=1.13.0 in /usr/local/lib/python3.7/dist-packages (from dask[complete]) (1.21.5)\n",
            "Requirement already satisfied: bokeh>=1.0.0 in /usr/local/lib/python3.7/dist-packages (from dask[complete]) (2.3.3)\n",
            "Requirement already satisfied: partd>=0.3.10 in /usr/local/lib/python3.7/dist-packages (from dask[complete]) (1.2.0)\n",
            "Requirement already satisfied: pandas>=0.23.0 in /usr/local/lib/python3.7/dist-packages (from dask[complete]) (1.3.5)\n",
            "Requirement already satisfied: distributed>=2.0 in /usr/local/lib/python3.7/dist-packages (from dask[complete]) (2.30.1)\n",
            "Requirement already satisfied: typing-extensions>=3.7.4 in /usr/local/lib/python3.7/dist-packages (from bokeh>=1.0.0->dask[complete]) (3.10.0.2)\n",
            "Requirement already satisfied: pillow>=7.1.0 in /usr/local/lib/python3.7/dist-packages (from bokeh>=1.0.0->dask[complete]) (7.1.2)\n",
            "Requirement already satisfied: packaging>=16.8 in /usr/local/lib/python3.7/dist-packages (from bokeh>=1.0.0->dask[complete]) (21.3)\n",
            "Requirement already satisfied: Jinja2>=2.9 in /usr/local/lib/python3.7/dist-packages (from bokeh>=1.0.0->dask[complete]) (2.11.3)\n",
            "Requirement already satisfied: tornado>=5.1 in /usr/local/lib/python3.7/dist-packages (from bokeh>=1.0.0->dask[complete]) (5.1.1)\n",
            "Requirement already satisfied: python-dateutil>=2.1 in /usr/local/lib/python3.7/dist-packages (from bokeh>=1.0.0->dask[complete]) (2.8.2)\n",
            "Requirement already satisfied: zict>=0.1.3 in /usr/local/lib/python3.7/dist-packages (from distributed>=2.0->dask[complete]) (2.1.0)\n",
            "Requirement already satisfied: click>=6.6 in /usr/local/lib/python3.7/dist-packages (from distributed>=2.0->dask[complete]) (7.1.2)\n",
            "Requirement already satisfied: tblib>=1.6.0 in /usr/local/lib/python3.7/dist-packages (from distributed>=2.0->dask[complete]) (1.7.0)\n",
            "Requirement already satisfied: msgpack>=0.6.0 in /usr/local/lib/python3.7/dist-packages (from distributed>=2.0->dask[complete]) (1.0.3)\n",
            "Requirement already satisfied: setuptools in /usr/local/lib/python3.7/dist-packages (from distributed>=2.0->dask[complete]) (57.4.0)\n",
            "Requirement already satisfied: sortedcontainers!=2.0.0,!=2.0.1 in /usr/local/lib/python3.7/dist-packages (from distributed>=2.0->dask[complete]) (2.4.0)\n",
            "Requirement already satisfied: psutil>=5.0 in /usr/local/lib/python3.7/dist-packages (from distributed>=2.0->dask[complete]) (5.4.8)\n",
            "Requirement already satisfied: MarkupSafe>=0.23 in /usr/local/lib/python3.7/dist-packages (from Jinja2>=2.9->bokeh>=1.0.0->dask[complete]) (2.0.1)\n",
            "Requirement already satisfied: pyparsing!=3.0.5,>=2.0.2 in /usr/local/lib/python3.7/dist-packages (from packaging>=16.8->bokeh>=1.0.0->dask[complete]) (3.0.7)\n",
            "Requirement already satisfied: pytz>=2017.3 in /usr/local/lib/python3.7/dist-packages (from pandas>=0.23.0->dask[complete]) (2018.9)\n",
            "Requirement already satisfied: locket in /usr/local/lib/python3.7/dist-packages (from partd>=0.3.10->dask[complete]) (0.2.1)\n",
            "Requirement already satisfied: six>=1.5 in /usr/local/lib/python3.7/dist-packages (from python-dateutil>=2.1->bokeh>=1.0.0->dask[complete]) (1.15.0)\n",
            "Requirement already satisfied: heapdict in /usr/local/lib/python3.7/dist-packages (from zict>=0.1.3->distributed>=2.0->dask[complete]) (1.0.1)\n"
          ]
        }
      ]
    },
    {
      "cell_type": "markdown",
      "source": [
        "## 5: Dask"
      ],
      "metadata": {
        "id": "D_V-tpKvlWGJ"
      }
    },
    {
      "cell_type": "code",
      "source": [
        "import dask\n",
        "import dask.dataframe as dd"
      ],
      "metadata": {
        "id": "CkFyvALCexhM"
      },
      "execution_count": 124,
      "outputs": []
    },
    {
      "cell_type": "code",
      "source": [
        "df = temp.copy(deep=True)"
      ],
      "metadata": {
        "id": "iEzj7sjMjiJ5"
      },
      "execution_count": 125,
      "outputs": []
    },
    {
      "cell_type": "code",
      "source": [
        "ddf = dd.from_pandas(df, npartitions=4)"
      ],
      "metadata": {
        "id": "eflSK1NeezkX"
      },
      "execution_count": 126,
      "outputs": []
    },
    {
      "cell_type": "code",
      "source": [
        "d_time = time.time()\n",
        "ddf = ddf.fillna(df._get_numeric_data().mean())\n",
        "d_time = time.time() - d_time"
      ],
      "metadata": {
        "id": "zbzhNzrFjncE"
      },
      "execution_count": 127,
      "outputs": []
    },
    {
      "cell_type": "code",
      "source": [
        "print(\"single processing: \", s_time)\n",
        "print(\"multiprocessing: \", m_time)\n",
        "print(\"processing with Dask: \", d_time)"
      ],
      "metadata": {
        "id": "bVDbwMzfld-F",
        "colab": {
          "base_uri": "https://localhost:8080/"
        },
        "outputId": "75032e2b-63a3-42a6-919a-faa96d3b2edf"
      },
      "execution_count": 128,
      "outputs": [
        {
          "output_type": "stream",
          "name": "stdout",
          "text": [
            "single processing:  0.02665996551513672\n",
            "multiprocessing:  0.16583251953125\n",
            "processing with Dask:  0.020489215850830078\n"
          ]
        }
      ]
    }
  ]
}