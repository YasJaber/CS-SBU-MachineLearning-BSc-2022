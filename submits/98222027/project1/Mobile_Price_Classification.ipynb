{
  "nbformat": 4,
  "nbformat_minor": 0,
  "metadata": {
    "colab": {
      "name": "Mobile Price Classification.ipynb",
      "provenance": [],
      "collapsed_sections": [
        "G4HmYCu5CVff",
        "J7ZUYVsMCnCJ",
        "iedTVqB6pn-S"
      ],
      "mount_file_id": "1vLO_KX60VqMG7_BOHkLEgb-QbvMkBNfu",
      "authorship_tag": "ABX9TyMalDDpdJ+OoOAIT8qLJH5g",
      "include_colab_link": true
    },
    "kernelspec": {
      "name": "python3",
      "display_name": "Python 3"
    },
    "language_info": {
      "name": "python"
    }
  },
  "cells": [
    {
      "cell_type": "markdown",
      "metadata": {
        "id": "view-in-github",
        "colab_type": "text"
      },
      "source": [
        "<a href=\"https://colab.research.google.com/github/scheshmi/CS-SBU-MachineLearning-BSc-2022/blob/98222027/submits/98222027/project1/Mobile_Price_Classification.ipynb\" target=\"_parent\"><img src=\"https://colab.research.google.com/assets/colab-badge.svg\" alt=\"Open In Colab\"/></a>"
      ]
    },
    {
      "cell_type": "markdown",
      "source": [
        "#Downloading Dataset from Kaggle"
      ],
      "metadata": {
        "id": "G4HmYCu5CVff"
      }
    },
    {
      "cell_type": "code",
      "execution_count": null,
      "metadata": {
        "colab": {
          "base_uri": "https://localhost:8080/"
        },
        "id": "ZH5oqHTi-qI8",
        "outputId": "74048328-1d5d-4537-b049-8c71f6bd98e1"
      },
      "outputs": [
        {
          "output_type": "stream",
          "name": "stdout",
          "text": [
            "Requirement already satisfied: kaggle in /usr/local/lib/python3.7/dist-packages (1.5.12)\n",
            "Requirement already satisfied: tqdm in /usr/local/lib/python3.7/dist-packages (from kaggle) (4.63.0)\n",
            "Requirement already satisfied: certifi in /usr/local/lib/python3.7/dist-packages (from kaggle) (2021.10.8)\n",
            "Requirement already satisfied: six>=1.10 in /usr/local/lib/python3.7/dist-packages (from kaggle) (1.15.0)\n",
            "Requirement already satisfied: requests in /usr/local/lib/python3.7/dist-packages (from kaggle) (2.23.0)\n",
            "Requirement already satisfied: python-slugify in /usr/local/lib/python3.7/dist-packages (from kaggle) (6.1.1)\n",
            "Requirement already satisfied: urllib3 in /usr/local/lib/python3.7/dist-packages (from kaggle) (1.24.3)\n",
            "Requirement already satisfied: python-dateutil in /usr/local/lib/python3.7/dist-packages (from kaggle) (2.8.2)\n",
            "Requirement already satisfied: text-unidecode>=1.3 in /usr/local/lib/python3.7/dist-packages (from python-slugify->kaggle) (1.3)\n",
            "Requirement already satisfied: chardet<4,>=3.0.2 in /usr/local/lib/python3.7/dist-packages (from requests->kaggle) (3.0.4)\n",
            "Requirement already satisfied: idna<3,>=2.5 in /usr/local/lib/python3.7/dist-packages (from requests->kaggle) (2.10)\n"
          ]
        }
      ],
      "source": [
        "!pip install kaggle"
      ]
    },
    {
      "cell_type": "code",
      "source": [
        "!mkdir -p ~/.kaggle\n",
        "!cp /content/drive/MyDrive/kaggle.json ~/.kaggle/\n",
        "!chmod 600 ~/.kaggle/kaggle.json"
      ],
      "metadata": {
        "id": "Twy4BQrkAh5W"
      },
      "execution_count": 1,
      "outputs": []
    },
    {
      "cell_type": "code",
      "source": [
        "!kaggle datasets download -d iabhishekofficial/mobile-price-classification"
      ],
      "metadata": {
        "colab": {
          "base_uri": "https://localhost:8080/"
        },
        "id": "TwhSYAHrF0C7",
        "outputId": "6227b258-8f1c-4472-f3d3-88096515630c"
      },
      "execution_count": 2,
      "outputs": [
        {
          "output_type": "stream",
          "name": "stdout",
          "text": [
            "Downloading mobile-price-classification.zip to /content\n",
            "\r  0% 0.00/70.6k [00:00<?, ?B/s]\n",
            "\r100% 70.6k/70.6k [00:00<00:00, 52.4MB/s]\n"
          ]
        }
      ]
    },
    {
      "cell_type": "code",
      "source": [
        "import zipfile\n",
        "zip_ref = zipfile.ZipFile('mobile-price-classification.zip', 'r')\n",
        "zip_ref.extractall('files')\n",
        "zip_ref.close()"
      ],
      "metadata": {
        "id": "nag2Bb0sGRWM"
      },
      "execution_count": 3,
      "outputs": []
    },
    {
      "cell_type": "markdown",
      "source": [
        "#Loading dataset\n"
      ],
      "metadata": {
        "id": "J7ZUYVsMCnCJ"
      }
    },
    {
      "cell_type": "code",
      "source": [
        "import pandas as pd\n",
        "import numpy as np\n",
        "import seaborn as sns\n",
        "import matplotlib.pyplot as plt\n",
        "%matplotlib inline"
      ],
      "metadata": {
        "id": "W2oSJ_onG6Aq"
      },
      "execution_count": 92,
      "outputs": []
    },
    {
      "cell_type": "code",
      "source": [
        "mobile_dataset = pd.read_csv('./files/train.csv')"
      ],
      "metadata": {
        "id": "ofjWTmW3HxYK"
      },
      "execution_count": 93,
      "outputs": []
    },
    {
      "cell_type": "code",
      "source": [
        "mobile_dataset.head()"
      ],
      "metadata": {
        "colab": {
          "base_uri": "https://localhost:8080/",
          "height": 300
        },
        "id": "WHoNK5I0IAO9",
        "outputId": "c35456cf-ee1b-450f-df2b-36c2581edf89"
      },
      "execution_count": 94,
      "outputs": [
        {
          "output_type": "execute_result",
          "data": {
            "text/plain": [
              "   battery_power  blue  clock_speed  dual_sim  fc  four_g  int_memory  m_dep  \\\n",
              "0            842     0          2.2         0   1       0           7    0.6   \n",
              "1           1021     1          0.5         1   0       1          53    0.7   \n",
              "2            563     1          0.5         1   2       1          41    0.9   \n",
              "3            615     1          2.5         0   0       0          10    0.8   \n",
              "4           1821     1          1.2         0  13       1          44    0.6   \n",
              "\n",
              "   mobile_wt  n_cores  ...  px_height  px_width   ram  sc_h  sc_w  talk_time  \\\n",
              "0        188        2  ...         20       756  2549     9     7         19   \n",
              "1        136        3  ...        905      1988  2631    17     3          7   \n",
              "2        145        5  ...       1263      1716  2603    11     2          9   \n",
              "3        131        6  ...       1216      1786  2769    16     8         11   \n",
              "4        141        2  ...       1208      1212  1411     8     2         15   \n",
              "\n",
              "   three_g  touch_screen  wifi  price_range  \n",
              "0        0             0     1            1  \n",
              "1        1             1     0            2  \n",
              "2        1             1     0            2  \n",
              "3        1             0     0            2  \n",
              "4        1             1     0            1  \n",
              "\n",
              "[5 rows x 21 columns]"
            ],
            "text/html": [
              "\n",
              "  <div id=\"df-995e7941-cdec-48e2-9735-f79652a3a810\">\n",
              "    <div class=\"colab-df-container\">\n",
              "      <div>\n",
              "<style scoped>\n",
              "    .dataframe tbody tr th:only-of-type {\n",
              "        vertical-align: middle;\n",
              "    }\n",
              "\n",
              "    .dataframe tbody tr th {\n",
              "        vertical-align: top;\n",
              "    }\n",
              "\n",
              "    .dataframe thead th {\n",
              "        text-align: right;\n",
              "    }\n",
              "</style>\n",
              "<table border=\"1\" class=\"dataframe\">\n",
              "  <thead>\n",
              "    <tr style=\"text-align: right;\">\n",
              "      <th></th>\n",
              "      <th>battery_power</th>\n",
              "      <th>blue</th>\n",
              "      <th>clock_speed</th>\n",
              "      <th>dual_sim</th>\n",
              "      <th>fc</th>\n",
              "      <th>four_g</th>\n",
              "      <th>int_memory</th>\n",
              "      <th>m_dep</th>\n",
              "      <th>mobile_wt</th>\n",
              "      <th>n_cores</th>\n",
              "      <th>...</th>\n",
              "      <th>px_height</th>\n",
              "      <th>px_width</th>\n",
              "      <th>ram</th>\n",
              "      <th>sc_h</th>\n",
              "      <th>sc_w</th>\n",
              "      <th>talk_time</th>\n",
              "      <th>three_g</th>\n",
              "      <th>touch_screen</th>\n",
              "      <th>wifi</th>\n",
              "      <th>price_range</th>\n",
              "    </tr>\n",
              "  </thead>\n",
              "  <tbody>\n",
              "    <tr>\n",
              "      <th>0</th>\n",
              "      <td>842</td>\n",
              "      <td>0</td>\n",
              "      <td>2.2</td>\n",
              "      <td>0</td>\n",
              "      <td>1</td>\n",
              "      <td>0</td>\n",
              "      <td>7</td>\n",
              "      <td>0.6</td>\n",
              "      <td>188</td>\n",
              "      <td>2</td>\n",
              "      <td>...</td>\n",
              "      <td>20</td>\n",
              "      <td>756</td>\n",
              "      <td>2549</td>\n",
              "      <td>9</td>\n",
              "      <td>7</td>\n",
              "      <td>19</td>\n",
              "      <td>0</td>\n",
              "      <td>0</td>\n",
              "      <td>1</td>\n",
              "      <td>1</td>\n",
              "    </tr>\n",
              "    <tr>\n",
              "      <th>1</th>\n",
              "      <td>1021</td>\n",
              "      <td>1</td>\n",
              "      <td>0.5</td>\n",
              "      <td>1</td>\n",
              "      <td>0</td>\n",
              "      <td>1</td>\n",
              "      <td>53</td>\n",
              "      <td>0.7</td>\n",
              "      <td>136</td>\n",
              "      <td>3</td>\n",
              "      <td>...</td>\n",
              "      <td>905</td>\n",
              "      <td>1988</td>\n",
              "      <td>2631</td>\n",
              "      <td>17</td>\n",
              "      <td>3</td>\n",
              "      <td>7</td>\n",
              "      <td>1</td>\n",
              "      <td>1</td>\n",
              "      <td>0</td>\n",
              "      <td>2</td>\n",
              "    </tr>\n",
              "    <tr>\n",
              "      <th>2</th>\n",
              "      <td>563</td>\n",
              "      <td>1</td>\n",
              "      <td>0.5</td>\n",
              "      <td>1</td>\n",
              "      <td>2</td>\n",
              "      <td>1</td>\n",
              "      <td>41</td>\n",
              "      <td>0.9</td>\n",
              "      <td>145</td>\n",
              "      <td>5</td>\n",
              "      <td>...</td>\n",
              "      <td>1263</td>\n",
              "      <td>1716</td>\n",
              "      <td>2603</td>\n",
              "      <td>11</td>\n",
              "      <td>2</td>\n",
              "      <td>9</td>\n",
              "      <td>1</td>\n",
              "      <td>1</td>\n",
              "      <td>0</td>\n",
              "      <td>2</td>\n",
              "    </tr>\n",
              "    <tr>\n",
              "      <th>3</th>\n",
              "      <td>615</td>\n",
              "      <td>1</td>\n",
              "      <td>2.5</td>\n",
              "      <td>0</td>\n",
              "      <td>0</td>\n",
              "      <td>0</td>\n",
              "      <td>10</td>\n",
              "      <td>0.8</td>\n",
              "      <td>131</td>\n",
              "      <td>6</td>\n",
              "      <td>...</td>\n",
              "      <td>1216</td>\n",
              "      <td>1786</td>\n",
              "      <td>2769</td>\n",
              "      <td>16</td>\n",
              "      <td>8</td>\n",
              "      <td>11</td>\n",
              "      <td>1</td>\n",
              "      <td>0</td>\n",
              "      <td>0</td>\n",
              "      <td>2</td>\n",
              "    </tr>\n",
              "    <tr>\n",
              "      <th>4</th>\n",
              "      <td>1821</td>\n",
              "      <td>1</td>\n",
              "      <td>1.2</td>\n",
              "      <td>0</td>\n",
              "      <td>13</td>\n",
              "      <td>1</td>\n",
              "      <td>44</td>\n",
              "      <td>0.6</td>\n",
              "      <td>141</td>\n",
              "      <td>2</td>\n",
              "      <td>...</td>\n",
              "      <td>1208</td>\n",
              "      <td>1212</td>\n",
              "      <td>1411</td>\n",
              "      <td>8</td>\n",
              "      <td>2</td>\n",
              "      <td>15</td>\n",
              "      <td>1</td>\n",
              "      <td>1</td>\n",
              "      <td>0</td>\n",
              "      <td>1</td>\n",
              "    </tr>\n",
              "  </tbody>\n",
              "</table>\n",
              "<p>5 rows × 21 columns</p>\n",
              "</div>\n",
              "      <button class=\"colab-df-convert\" onclick=\"convertToInteractive('df-995e7941-cdec-48e2-9735-f79652a3a810')\"\n",
              "              title=\"Convert this dataframe to an interactive table.\"\n",
              "              style=\"display:none;\">\n",
              "        \n",
              "  <svg xmlns=\"http://www.w3.org/2000/svg\" height=\"24px\"viewBox=\"0 0 24 24\"\n",
              "       width=\"24px\">\n",
              "    <path d=\"M0 0h24v24H0V0z\" fill=\"none\"/>\n",
              "    <path d=\"M18.56 5.44l.94 2.06.94-2.06 2.06-.94-2.06-.94-.94-2.06-.94 2.06-2.06.94zm-11 1L8.5 8.5l.94-2.06 2.06-.94-2.06-.94L8.5 2.5l-.94 2.06-2.06.94zm10 10l.94 2.06.94-2.06 2.06-.94-2.06-.94-.94-2.06-.94 2.06-2.06.94z\"/><path d=\"M17.41 7.96l-1.37-1.37c-.4-.4-.92-.59-1.43-.59-.52 0-1.04.2-1.43.59L10.3 9.45l-7.72 7.72c-.78.78-.78 2.05 0 2.83L4 21.41c.39.39.9.59 1.41.59.51 0 1.02-.2 1.41-.59l7.78-7.78 2.81-2.81c.8-.78.8-2.07 0-2.86zM5.41 20L4 18.59l7.72-7.72 1.47 1.35L5.41 20z\"/>\n",
              "  </svg>\n",
              "      </button>\n",
              "      \n",
              "  <style>\n",
              "    .colab-df-container {\n",
              "      display:flex;\n",
              "      flex-wrap:wrap;\n",
              "      gap: 12px;\n",
              "    }\n",
              "\n",
              "    .colab-df-convert {\n",
              "      background-color: #E8F0FE;\n",
              "      border: none;\n",
              "      border-radius: 50%;\n",
              "      cursor: pointer;\n",
              "      display: none;\n",
              "      fill: #1967D2;\n",
              "      height: 32px;\n",
              "      padding: 0 0 0 0;\n",
              "      width: 32px;\n",
              "    }\n",
              "\n",
              "    .colab-df-convert:hover {\n",
              "      background-color: #E2EBFA;\n",
              "      box-shadow: 0px 1px 2px rgba(60, 64, 67, 0.3), 0px 1px 3px 1px rgba(60, 64, 67, 0.15);\n",
              "      fill: #174EA6;\n",
              "    }\n",
              "\n",
              "    [theme=dark] .colab-df-convert {\n",
              "      background-color: #3B4455;\n",
              "      fill: #D2E3FC;\n",
              "    }\n",
              "\n",
              "    [theme=dark] .colab-df-convert:hover {\n",
              "      background-color: #434B5C;\n",
              "      box-shadow: 0px 1px 3px 1px rgba(0, 0, 0, 0.15);\n",
              "      filter: drop-shadow(0px 1px 2px rgba(0, 0, 0, 0.3));\n",
              "      fill: #FFFFFF;\n",
              "    }\n",
              "  </style>\n",
              "\n",
              "      <script>\n",
              "        const buttonEl =\n",
              "          document.querySelector('#df-995e7941-cdec-48e2-9735-f79652a3a810 button.colab-df-convert');\n",
              "        buttonEl.style.display =\n",
              "          google.colab.kernel.accessAllowed ? 'block' : 'none';\n",
              "\n",
              "        async function convertToInteractive(key) {\n",
              "          const element = document.querySelector('#df-995e7941-cdec-48e2-9735-f79652a3a810');\n",
              "          const dataTable =\n",
              "            await google.colab.kernel.invokeFunction('convertToInteractive',\n",
              "                                                     [key], {});\n",
              "          if (!dataTable) return;\n",
              "\n",
              "          const docLinkHtml = 'Like what you see? Visit the ' +\n",
              "            '<a target=\"_blank\" href=https://colab.research.google.com/notebooks/data_table.ipynb>data table notebook</a>'\n",
              "            + ' to learn more about interactive tables.';\n",
              "          element.innerHTML = '';\n",
              "          dataTable['output_type'] = 'display_data';\n",
              "          await google.colab.output.renderOutput(dataTable, element);\n",
              "          const docLink = document.createElement('div');\n",
              "          docLink.innerHTML = docLinkHtml;\n",
              "          element.appendChild(docLink);\n",
              "        }\n",
              "      </script>\n",
              "    </div>\n",
              "  </div>\n",
              "  "
            ]
          },
          "metadata": {},
          "execution_count": 94
        }
      ]
    },
    {
      "cell_type": "code",
      "source": [
        "mobile_dataset.info()"
      ],
      "metadata": {
        "colab": {
          "base_uri": "https://localhost:8080/"
        },
        "id": "QRwrZPzSIDOv",
        "outputId": "46847137-af4a-497b-cae8-8fbc14217863"
      },
      "execution_count": 95,
      "outputs": [
        {
          "output_type": "stream",
          "name": "stdout",
          "text": [
            "<class 'pandas.core.frame.DataFrame'>\n",
            "RangeIndex: 2000 entries, 0 to 1999\n",
            "Data columns (total 21 columns):\n",
            " #   Column         Non-Null Count  Dtype  \n",
            "---  ------         --------------  -----  \n",
            " 0   battery_power  2000 non-null   int64  \n",
            " 1   blue           2000 non-null   int64  \n",
            " 2   clock_speed    2000 non-null   float64\n",
            " 3   dual_sim       2000 non-null   int64  \n",
            " 4   fc             2000 non-null   int64  \n",
            " 5   four_g         2000 non-null   int64  \n",
            " 6   int_memory     2000 non-null   int64  \n",
            " 7   m_dep          2000 non-null   float64\n",
            " 8   mobile_wt      2000 non-null   int64  \n",
            " 9   n_cores        2000 non-null   int64  \n",
            " 10  pc             2000 non-null   int64  \n",
            " 11  px_height      2000 non-null   int64  \n",
            " 12  px_width       2000 non-null   int64  \n",
            " 13  ram            2000 non-null   int64  \n",
            " 14  sc_h           2000 non-null   int64  \n",
            " 15  sc_w           2000 non-null   int64  \n",
            " 16  talk_time      2000 non-null   int64  \n",
            " 17  three_g        2000 non-null   int64  \n",
            " 18  touch_screen   2000 non-null   int64  \n",
            " 19  wifi           2000 non-null   int64  \n",
            " 20  price_range    2000 non-null   int64  \n",
            "dtypes: float64(2), int64(19)\n",
            "memory usage: 328.2 KB\n"
          ]
        }
      ]
    },
    {
      "cell_type": "code",
      "source": [
        "mobile_dataset[['battery_power', 'clock_speed', 'fc',\n",
        "       'int_memory', 'm_dep', 'mobile_wt', 'n_cores', 'pc', 'px_height',\n",
        "       'px_width', 'ram', 'sc_h', 'sc_w', 'talk_time',\n",
        "       'price_range']].describe()\n"
      ],
      "metadata": {
        "colab": {
          "base_uri": "https://localhost:8080/",
          "height": 364
        },
        "id": "RqFEP9aJCktc",
        "outputId": "f1747353-d86c-4503-c970-b723f0c2aa91"
      },
      "execution_count": 96,
      "outputs": [
        {
          "output_type": "execute_result",
          "data": {
            "text/plain": [
              "       battery_power  clock_speed           fc   int_memory        m_dep  \\\n",
              "count    2000.000000  2000.000000  2000.000000  2000.000000  2000.000000   \n",
              "mean     1238.518500     1.522250     4.309500    32.046500     0.501750   \n",
              "std       439.418206     0.816004     4.341444    18.145715     0.288416   \n",
              "min       501.000000     0.500000     0.000000     2.000000     0.100000   \n",
              "25%       851.750000     0.700000     1.000000    16.000000     0.200000   \n",
              "50%      1226.000000     1.500000     3.000000    32.000000     0.500000   \n",
              "75%      1615.250000     2.200000     7.000000    48.000000     0.800000   \n",
              "max      1998.000000     3.000000    19.000000    64.000000     1.000000   \n",
              "\n",
              "         mobile_wt      n_cores           pc    px_height     px_width  \\\n",
              "count  2000.000000  2000.000000  2000.000000  2000.000000  2000.000000   \n",
              "mean    140.249000     4.520500     9.916500   645.108000  1251.515500   \n",
              "std      35.399655     2.287837     6.064315   443.780811   432.199447   \n",
              "min      80.000000     1.000000     0.000000     0.000000   500.000000   \n",
              "25%     109.000000     3.000000     5.000000   282.750000   874.750000   \n",
              "50%     141.000000     4.000000    10.000000   564.000000  1247.000000   \n",
              "75%     170.000000     7.000000    15.000000   947.250000  1633.000000   \n",
              "max     200.000000     8.000000    20.000000  1960.000000  1998.000000   \n",
              "\n",
              "               ram         sc_h         sc_w    talk_time  price_range  \n",
              "count  2000.000000  2000.000000  2000.000000  2000.000000  2000.000000  \n",
              "mean   2124.213000    12.306500     5.767000    11.011000     1.500000  \n",
              "std    1084.732044     4.213245     4.356398     5.463955     1.118314  \n",
              "min     256.000000     5.000000     0.000000     2.000000     0.000000  \n",
              "25%    1207.500000     9.000000     2.000000     6.000000     0.750000  \n",
              "50%    2146.500000    12.000000     5.000000    11.000000     1.500000  \n",
              "75%    3064.500000    16.000000     9.000000    16.000000     2.250000  \n",
              "max    3998.000000    19.000000    18.000000    20.000000     3.000000  "
            ],
            "text/html": [
              "\n",
              "  <div id=\"df-ac542c2c-69f2-461f-88dc-79fb6d6fe05b\">\n",
              "    <div class=\"colab-df-container\">\n",
              "      <div>\n",
              "<style scoped>\n",
              "    .dataframe tbody tr th:only-of-type {\n",
              "        vertical-align: middle;\n",
              "    }\n",
              "\n",
              "    .dataframe tbody tr th {\n",
              "        vertical-align: top;\n",
              "    }\n",
              "\n",
              "    .dataframe thead th {\n",
              "        text-align: right;\n",
              "    }\n",
              "</style>\n",
              "<table border=\"1\" class=\"dataframe\">\n",
              "  <thead>\n",
              "    <tr style=\"text-align: right;\">\n",
              "      <th></th>\n",
              "      <th>battery_power</th>\n",
              "      <th>clock_speed</th>\n",
              "      <th>fc</th>\n",
              "      <th>int_memory</th>\n",
              "      <th>m_dep</th>\n",
              "      <th>mobile_wt</th>\n",
              "      <th>n_cores</th>\n",
              "      <th>pc</th>\n",
              "      <th>px_height</th>\n",
              "      <th>px_width</th>\n",
              "      <th>ram</th>\n",
              "      <th>sc_h</th>\n",
              "      <th>sc_w</th>\n",
              "      <th>talk_time</th>\n",
              "      <th>price_range</th>\n",
              "    </tr>\n",
              "  </thead>\n",
              "  <tbody>\n",
              "    <tr>\n",
              "      <th>count</th>\n",
              "      <td>2000.000000</td>\n",
              "      <td>2000.000000</td>\n",
              "      <td>2000.000000</td>\n",
              "      <td>2000.000000</td>\n",
              "      <td>2000.000000</td>\n",
              "      <td>2000.000000</td>\n",
              "      <td>2000.000000</td>\n",
              "      <td>2000.000000</td>\n",
              "      <td>2000.000000</td>\n",
              "      <td>2000.000000</td>\n",
              "      <td>2000.000000</td>\n",
              "      <td>2000.000000</td>\n",
              "      <td>2000.000000</td>\n",
              "      <td>2000.000000</td>\n",
              "      <td>2000.000000</td>\n",
              "    </tr>\n",
              "    <tr>\n",
              "      <th>mean</th>\n",
              "      <td>1238.518500</td>\n",
              "      <td>1.522250</td>\n",
              "      <td>4.309500</td>\n",
              "      <td>32.046500</td>\n",
              "      <td>0.501750</td>\n",
              "      <td>140.249000</td>\n",
              "      <td>4.520500</td>\n",
              "      <td>9.916500</td>\n",
              "      <td>645.108000</td>\n",
              "      <td>1251.515500</td>\n",
              "      <td>2124.213000</td>\n",
              "      <td>12.306500</td>\n",
              "      <td>5.767000</td>\n",
              "      <td>11.011000</td>\n",
              "      <td>1.500000</td>\n",
              "    </tr>\n",
              "    <tr>\n",
              "      <th>std</th>\n",
              "      <td>439.418206</td>\n",
              "      <td>0.816004</td>\n",
              "      <td>4.341444</td>\n",
              "      <td>18.145715</td>\n",
              "      <td>0.288416</td>\n",
              "      <td>35.399655</td>\n",
              "      <td>2.287837</td>\n",
              "      <td>6.064315</td>\n",
              "      <td>443.780811</td>\n",
              "      <td>432.199447</td>\n",
              "      <td>1084.732044</td>\n",
              "      <td>4.213245</td>\n",
              "      <td>4.356398</td>\n",
              "      <td>5.463955</td>\n",
              "      <td>1.118314</td>\n",
              "    </tr>\n",
              "    <tr>\n",
              "      <th>min</th>\n",
              "      <td>501.000000</td>\n",
              "      <td>0.500000</td>\n",
              "      <td>0.000000</td>\n",
              "      <td>2.000000</td>\n",
              "      <td>0.100000</td>\n",
              "      <td>80.000000</td>\n",
              "      <td>1.000000</td>\n",
              "      <td>0.000000</td>\n",
              "      <td>0.000000</td>\n",
              "      <td>500.000000</td>\n",
              "      <td>256.000000</td>\n",
              "      <td>5.000000</td>\n",
              "      <td>0.000000</td>\n",
              "      <td>2.000000</td>\n",
              "      <td>0.000000</td>\n",
              "    </tr>\n",
              "    <tr>\n",
              "      <th>25%</th>\n",
              "      <td>851.750000</td>\n",
              "      <td>0.700000</td>\n",
              "      <td>1.000000</td>\n",
              "      <td>16.000000</td>\n",
              "      <td>0.200000</td>\n",
              "      <td>109.000000</td>\n",
              "      <td>3.000000</td>\n",
              "      <td>5.000000</td>\n",
              "      <td>282.750000</td>\n",
              "      <td>874.750000</td>\n",
              "      <td>1207.500000</td>\n",
              "      <td>9.000000</td>\n",
              "      <td>2.000000</td>\n",
              "      <td>6.000000</td>\n",
              "      <td>0.750000</td>\n",
              "    </tr>\n",
              "    <tr>\n",
              "      <th>50%</th>\n",
              "      <td>1226.000000</td>\n",
              "      <td>1.500000</td>\n",
              "      <td>3.000000</td>\n",
              "      <td>32.000000</td>\n",
              "      <td>0.500000</td>\n",
              "      <td>141.000000</td>\n",
              "      <td>4.000000</td>\n",
              "      <td>10.000000</td>\n",
              "      <td>564.000000</td>\n",
              "      <td>1247.000000</td>\n",
              "      <td>2146.500000</td>\n",
              "      <td>12.000000</td>\n",
              "      <td>5.000000</td>\n",
              "      <td>11.000000</td>\n",
              "      <td>1.500000</td>\n",
              "    </tr>\n",
              "    <tr>\n",
              "      <th>75%</th>\n",
              "      <td>1615.250000</td>\n",
              "      <td>2.200000</td>\n",
              "      <td>7.000000</td>\n",
              "      <td>48.000000</td>\n",
              "      <td>0.800000</td>\n",
              "      <td>170.000000</td>\n",
              "      <td>7.000000</td>\n",
              "      <td>15.000000</td>\n",
              "      <td>947.250000</td>\n",
              "      <td>1633.000000</td>\n",
              "      <td>3064.500000</td>\n",
              "      <td>16.000000</td>\n",
              "      <td>9.000000</td>\n",
              "      <td>16.000000</td>\n",
              "      <td>2.250000</td>\n",
              "    </tr>\n",
              "    <tr>\n",
              "      <th>max</th>\n",
              "      <td>1998.000000</td>\n",
              "      <td>3.000000</td>\n",
              "      <td>19.000000</td>\n",
              "      <td>64.000000</td>\n",
              "      <td>1.000000</td>\n",
              "      <td>200.000000</td>\n",
              "      <td>8.000000</td>\n",
              "      <td>20.000000</td>\n",
              "      <td>1960.000000</td>\n",
              "      <td>1998.000000</td>\n",
              "      <td>3998.000000</td>\n",
              "      <td>19.000000</td>\n",
              "      <td>18.000000</td>\n",
              "      <td>20.000000</td>\n",
              "      <td>3.000000</td>\n",
              "    </tr>\n",
              "  </tbody>\n",
              "</table>\n",
              "</div>\n",
              "      <button class=\"colab-df-convert\" onclick=\"convertToInteractive('df-ac542c2c-69f2-461f-88dc-79fb6d6fe05b')\"\n",
              "              title=\"Convert this dataframe to an interactive table.\"\n",
              "              style=\"display:none;\">\n",
              "        \n",
              "  <svg xmlns=\"http://www.w3.org/2000/svg\" height=\"24px\"viewBox=\"0 0 24 24\"\n",
              "       width=\"24px\">\n",
              "    <path d=\"M0 0h24v24H0V0z\" fill=\"none\"/>\n",
              "    <path d=\"M18.56 5.44l.94 2.06.94-2.06 2.06-.94-2.06-.94-.94-2.06-.94 2.06-2.06.94zm-11 1L8.5 8.5l.94-2.06 2.06-.94-2.06-.94L8.5 2.5l-.94 2.06-2.06.94zm10 10l.94 2.06.94-2.06 2.06-.94-2.06-.94-.94-2.06-.94 2.06-2.06.94z\"/><path d=\"M17.41 7.96l-1.37-1.37c-.4-.4-.92-.59-1.43-.59-.52 0-1.04.2-1.43.59L10.3 9.45l-7.72 7.72c-.78.78-.78 2.05 0 2.83L4 21.41c.39.39.9.59 1.41.59.51 0 1.02-.2 1.41-.59l7.78-7.78 2.81-2.81c.8-.78.8-2.07 0-2.86zM5.41 20L4 18.59l7.72-7.72 1.47 1.35L5.41 20z\"/>\n",
              "  </svg>\n",
              "      </button>\n",
              "      \n",
              "  <style>\n",
              "    .colab-df-container {\n",
              "      display:flex;\n",
              "      flex-wrap:wrap;\n",
              "      gap: 12px;\n",
              "    }\n",
              "\n",
              "    .colab-df-convert {\n",
              "      background-color: #E8F0FE;\n",
              "      border: none;\n",
              "      border-radius: 50%;\n",
              "      cursor: pointer;\n",
              "      display: none;\n",
              "      fill: #1967D2;\n",
              "      height: 32px;\n",
              "      padding: 0 0 0 0;\n",
              "      width: 32px;\n",
              "    }\n",
              "\n",
              "    .colab-df-convert:hover {\n",
              "      background-color: #E2EBFA;\n",
              "      box-shadow: 0px 1px 2px rgba(60, 64, 67, 0.3), 0px 1px 3px 1px rgba(60, 64, 67, 0.15);\n",
              "      fill: #174EA6;\n",
              "    }\n",
              "\n",
              "    [theme=dark] .colab-df-convert {\n",
              "      background-color: #3B4455;\n",
              "      fill: #D2E3FC;\n",
              "    }\n",
              "\n",
              "    [theme=dark] .colab-df-convert:hover {\n",
              "      background-color: #434B5C;\n",
              "      box-shadow: 0px 1px 3px 1px rgba(0, 0, 0, 0.15);\n",
              "      filter: drop-shadow(0px 1px 2px rgba(0, 0, 0, 0.3));\n",
              "      fill: #FFFFFF;\n",
              "    }\n",
              "  </style>\n",
              "\n",
              "      <script>\n",
              "        const buttonEl =\n",
              "          document.querySelector('#df-ac542c2c-69f2-461f-88dc-79fb6d6fe05b button.colab-df-convert');\n",
              "        buttonEl.style.display =\n",
              "          google.colab.kernel.accessAllowed ? 'block' : 'none';\n",
              "\n",
              "        async function convertToInteractive(key) {\n",
              "          const element = document.querySelector('#df-ac542c2c-69f2-461f-88dc-79fb6d6fe05b');\n",
              "          const dataTable =\n",
              "            await google.colab.kernel.invokeFunction('convertToInteractive',\n",
              "                                                     [key], {});\n",
              "          if (!dataTable) return;\n",
              "\n",
              "          const docLinkHtml = 'Like what you see? Visit the ' +\n",
              "            '<a target=\"_blank\" href=https://colab.research.google.com/notebooks/data_table.ipynb>data table notebook</a>'\n",
              "            + ' to learn more about interactive tables.';\n",
              "          element.innerHTML = '';\n",
              "          dataTable['output_type'] = 'display_data';\n",
              "          await google.colab.output.renderOutput(dataTable, element);\n",
              "          const docLink = document.createElement('div');\n",
              "          docLink.innerHTML = docLinkHtml;\n",
              "          element.appendChild(docLink);\n",
              "        }\n",
              "      </script>\n",
              "    </div>\n",
              "  </div>\n",
              "  "
            ]
          },
          "metadata": {},
          "execution_count": 96
        }
      ]
    },
    {
      "cell_type": "code",
      "source": [
        "mobile_dataset['price_range'].unique()"
      ],
      "metadata": {
        "colab": {
          "base_uri": "https://localhost:8080/"
        },
        "id": "dRgBlHKQIOLd",
        "outputId": "a94a7c09-322e-4c07-eac1-162c01750c41"
      },
      "execution_count": 97,
      "outputs": [
        {
          "output_type": "execute_result",
          "data": {
            "text/plain": [
              "array([1, 2, 3, 0])"
            ]
          },
          "metadata": {},
          "execution_count": 97
        }
      ]
    },
    {
      "cell_type": "markdown",
      "source": [
        "#Preprocessing"
      ],
      "metadata": {
        "id": "iedTVqB6pn-S"
      }
    },
    {
      "cell_type": "markdown",
      "source": [
        "Null Values"
      ],
      "metadata": {
        "id": "XmSnJAfLDcyL"
      }
    },
    {
      "cell_type": "code",
      "source": [
        "mobile_dataset.isna().sum()"
      ],
      "metadata": {
        "colab": {
          "base_uri": "https://localhost:8080/"
        },
        "id": "-rV0AMy-JBIn",
        "outputId": "bbea2999-9952-4d62-c754-eded67b40256"
      },
      "execution_count": 98,
      "outputs": [
        {
          "output_type": "execute_result",
          "data": {
            "text/plain": [
              "battery_power    0\n",
              "blue             0\n",
              "clock_speed      0\n",
              "dual_sim         0\n",
              "fc               0\n",
              "four_g           0\n",
              "int_memory       0\n",
              "m_dep            0\n",
              "mobile_wt        0\n",
              "n_cores          0\n",
              "pc               0\n",
              "px_height        0\n",
              "px_width         0\n",
              "ram              0\n",
              "sc_h             0\n",
              "sc_w             0\n",
              "talk_time        0\n",
              "three_g          0\n",
              "touch_screen     0\n",
              "wifi             0\n",
              "price_range      0\n",
              "dtype: int64"
            ]
          },
          "metadata": {},
          "execution_count": 98
        }
      ]
    },
    {
      "cell_type": "markdown",
      "source": [
        "As you can see there is no null value!!"
      ],
      "metadata": {
        "id": "HRw5CJlhFCFL"
      }
    },
    {
      "cell_type": "markdown",
      "source": [
        "Dealing with outliers"
      ],
      "metadata": {
        "id": "Pdruu8YnD_P0"
      }
    },
    {
      "cell_type": "code",
      "source": [
        "def detect_outlier(df,col_name):\n",
        "  \"\"\"\n",
        "  Find indexes of outliers by computing z-score\n",
        "\n",
        "  Parameters\n",
        "  ----------\n",
        "  df : pd.DataFrame\n",
        "       dataframe of dataset \n",
        "  col_name : str\n",
        "             name of column you want to find outliers in\n",
        "  Returns\n",
        "  -------\n",
        "  indexes : pd.Index\n",
        "            indexes of outliers\n",
        "  \"\"\"\n",
        "\n",
        "  upper = df[col_name].mean() + 3 * df[col_name].std()\n",
        "  lower = df[col_name].mean() - 3 * df[col_name].std()\n",
        "\n",
        "  indexes = df[(df[col_name] > upper) | (df[col_name] < lower)].index\n",
        "  return indexes"
      ],
      "metadata": {
        "id": "FPgoO60HM-nz"
      },
      "execution_count": 99,
      "outputs": []
    },
    {
      "cell_type": "code",
      "source": [
        "mobile_dataset.shape"
      ],
      "metadata": {
        "colab": {
          "base_uri": "https://localhost:8080/"
        },
        "id": "KZYJmthZE2y3",
        "outputId": "688337e0-b5a6-4f93-8c83-c3cf5d3ba286"
      },
      "execution_count": 100,
      "outputs": [
        {
          "output_type": "execute_result",
          "data": {
            "text/plain": [
              "(2000, 21)"
            ]
          },
          "metadata": {},
          "execution_count": 100
        }
      ]
    },
    {
      "cell_type": "code",
      "source": [
        "%%time\n",
        "for col in mobile_dataset.columns:\n",
        "  if mobile_dataset[col].dtype == 'int64' or mobile_dataset[col].dtype == 'float64':\n",
        "    outlier_indexes = detect_outlier(mobile_dataset,col)\n",
        "    mobile_dataset.drop(outlier_indexes,inplace=True)"
      ],
      "metadata": {
        "id": "FjGrOktMD5lx",
        "colab": {
          "base_uri": "https://localhost:8080/"
        },
        "outputId": "37940e66-eaac-4164-eba4-2eefa78a693e"
      },
      "execution_count": 101,
      "outputs": [
        {
          "output_type": "stream",
          "name": "stdout",
          "text": [
            "CPU times: user 40.1 ms, sys: 1.7 ms, total: 41.8 ms\n",
            "Wall time: 42.8 ms\n"
          ]
        }
      ]
    },
    {
      "cell_type": "code",
      "source": [
        "mobile_dataset.shape"
      ],
      "metadata": {
        "colab": {
          "base_uri": "https://localhost:8080/"
        },
        "id": "L2AL0ISQE8iC",
        "outputId": "cf189486-1e23-4ab7-ab47-e4faa7bca9e7"
      },
      "execution_count": 14,
      "outputs": [
        {
          "output_type": "execute_result",
          "data": {
            "text/plain": [
              "(1988, 21)"
            ]
          },
          "metadata": {},
          "execution_count": 14
        }
      ]
    },
    {
      "cell_type": "markdown",
      "source": [
        "#EDA"
      ],
      "metadata": {
        "id": "4vAT7yIKqDuM"
      }
    },
    {
      "cell_type": "markdown",
      "source": [
        "Having an imbalanced dataset?"
      ],
      "metadata": {
        "id": "eFnMuQ94DGZJ"
      }
    },
    {
      "cell_type": "code",
      "source": [
        "mobile_dataset['price_range'].value_counts()"
      ],
      "metadata": {
        "colab": {
          "base_uri": "https://localhost:8080/"
        },
        "id": "nVaOuEo6I3Gn",
        "outputId": "de29e390-ee56-467c-ed5f-7cf1aade182e"
      },
      "execution_count": 15,
      "outputs": [
        {
          "output_type": "execute_result",
          "data": {
            "text/plain": [
              "3    498\n",
              "1    497\n",
              "2    497\n",
              "0    496\n",
              "Name: price_range, dtype: int64"
            ]
          },
          "metadata": {},
          "execution_count": 15
        }
      ]
    },
    {
      "cell_type": "code",
      "source": [
        "mobile_dataset['price_range'].value_counts().plot(kind='bar')\n",
        "plt.show()"
      ],
      "metadata": {
        "colab": {
          "base_uri": "https://localhost:8080/",
          "height": 262
        },
        "id": "vBmBPz-OEfXv",
        "outputId": "4ed86474-d3d4-4c1d-f487-a24781892df0"
      },
      "execution_count": 16,
      "outputs": [
        {
          "output_type": "display_data",
          "data": {
            "text/plain": [
              "<Figure size 432x288 with 1 Axes>"
            ],
            "image/png": "[encoded data removed]"
          },
          "metadata": {
            "needs_background": "light"
          }
        }
      ]
    },
    {
      "cell_type": "markdown",
      "source": [
        "So we have balanced dataset"
      ],
      "metadata": {
        "id": "ABULp7cgE4T5"
      }
    },
    {
      "cell_type": "markdown",
      "source": [
        "Histograms of numerical features"
      ],
      "metadata": {
        "id": "B9lshI1fI5Nk"
      }
    },
    {
      "cell_type": "code",
      "source": [
        "_ = mobile_dataset.drop(['blue','four_g','three_g','wifi','dual_sim','touch_screen','price_range'],axis=1).hist(figsize=(15,15),bins=30)\n"
      ],
      "metadata": {
        "id": "EXDb3hesJbLe",
        "colab": {
          "base_uri": "https://localhost:8080/",
          "height": 879
        },
        "outputId": "bfc6b21b-1eea-40f3-bcd6-886bf91069c6"
      },
      "execution_count": 17,
      "outputs": [
        {
          "output_type": "display_data",
          "data": {
            "text/plain": [
              "<Figure size 1080x1080 with 16 Axes>"
            ],
            "image/png": "[encoded data removed]"
          },
          "metadata": {
            "needs_background": "light"
          }
        }
      ]
    },
    {
      "cell_type": "markdown",
      "source": [
        "Countplots of categorical columns"
      ],
      "metadata": {
        "id": "YRGmvQYoyx5O"
      }
    },
    {
      "cell_type": "code",
      "source": [
        "fig ,axs = plt.subplots(2,3)\n",
        "fig.set_figheight(15)\n",
        "fig.set_figwidth(20)\n",
        "sns.countplot(x=mobile_dataset['wifi'],ax=axs[0,0])\n",
        "sns.countplot(x=mobile_dataset['dual_sim'],ax=axs[0,1])\n",
        "sns.countplot(x=mobile_dataset['four_g'],ax=axs[0,2])\n",
        "sns.countplot(x=mobile_dataset['touch_screen'],ax=axs[1,0])\n",
        "sns.countplot(x=mobile_dataset['blue'],ax=axs[1,1])\n",
        "sns.countplot(x=mobile_dataset['three_g'],ax=axs[1,2])\n",
        "\n",
        "plt.show()"
      ],
      "metadata": {
        "colab": {
          "base_uri": "https://localhost:8080/",
          "height": 878
        },
        "id": "4LYGhiURPVlo",
        "outputId": "763ced94-c54b-4911-b65f-c058d8c6c108"
      },
      "execution_count": 18,
      "outputs": [
        {
          "output_type": "display_data",
          "data": {
            "text/plain": [
              "<Figure size 1440x1080 with 6 Axes>"
            ],
            "image/png": "[encoded data removed]"
          },
          "metadata": {
            "needs_background": "light"
          }
        }
      ]
    },
    {
      "cell_type": "code",
      "source": [
        "fig ,axs = plt.subplots(2,3)\n",
        "fig.set_figheight(15)\n",
        "fig.set_figwidth(20)\n",
        "x=mobile_dataset.price_range\n",
        "sns.countplot(x=x,hue=mobile_dataset['wifi'],ax=axs[0,0])\n",
        "sns.countplot(x=x,hue=mobile_dataset['dual_sim'],ax=axs[0,1])\n",
        "sns.countplot(x=x,hue=mobile_dataset['four_g'],ax=axs[0,2])\n",
        "sns.countplot(x=x,hue=mobile_dataset['touch_screen'],ax=axs[1,0])\n",
        "sns.countplot(x=x,hue=mobile_dataset['blue'],ax=axs[1,1])\n",
        "sns.countplot(x=x,hue=mobile_dataset['three_g'],ax=axs[1,2])\n",
        "plt.show()"
      ],
      "metadata": {
        "colab": {
          "base_uri": "https://localhost:8080/",
          "height": 878
        },
        "id": "SCEswyFA8-EO",
        "outputId": "8d9e52bf-4476-4736-d1ea-7919858c3299"
      },
      "execution_count": 19,
      "outputs": [
        {
          "output_type": "display_data",
          "data": {
            "text/plain": [
              "<Figure size 1440x1080 with 6 Axes>"
            ],
            "image/png": "[encoded data removed]"
          },
          "metadata": {
            "needs_background": "light"
          }
        }
      ]
    },
    {
      "cell_type": "markdown",
      "source": [
        "Relationship between battery power and ram"
      ],
      "metadata": {
        "id": "dM1xI4ouy33W"
      }
    },
    {
      "cell_type": "code",
      "source": [
        "plt.figure(figsize = (15,15))\n",
        "sns.scatterplot(x=mobile_dataset.ram,y=mobile_dataset.battery_power,hue=mobile_dataset['price_range'])\n",
        "plt.show()"
      ],
      "metadata": {
        "colab": {
          "base_uri": "https://localhost:8080/",
          "height": 877
        },
        "id": "jaAn1UgoqsJl",
        "outputId": "1f60d3a3-9f3b-4328-eec1-6b5e4c22399a"
      },
      "execution_count": 20,
      "outputs": [
        {
          "output_type": "display_data",
          "data": {
            "text/plain": [
              "<Figure size 1080x1080 with 1 Axes>"
            ],
            "image/png": "[encoded data removed]"
          },
          "metadata": {
            "needs_background": "light"
          }
        }
      ]
    },
    {
      "cell_type": "markdown",
      "source": [
        "Histogram of ram column"
      ],
      "metadata": {
        "id": "MBomEhjpzVnO"
      }
    },
    {
      "cell_type": "code",
      "source": [
        "sns.histplot(x=mobile_dataset.ram,bins=30)"
      ],
      "metadata": {
        "colab": {
          "base_uri": "https://localhost:8080/",
          "height": 296
        },
        "id": "gnxL3cM4sBwV",
        "outputId": "e5f9f447-64de-4134-e5a4-1073f32738f9"
      },
      "execution_count": 21,
      "outputs": [
        {
          "output_type": "execute_result",
          "data": {
            "text/plain": [
              "<matplotlib.axes._subplots.AxesSubplot at 0x7f0f89f85b50>"
            ]
          },
          "metadata": {},
          "execution_count": 21
        },
        {
          "output_type": "display_data",
          "data": {
            "text/plain": [
              "<Figure size 432x288 with 1 Axes>"
            ],
            "image/png": "[encoded data removed]"
          },
          "metadata": {
            "needs_background": "light"
          }
        }
      ]
    },
    {
      "cell_type": "markdown",
      "source": [
        "Relationship between ram and price range"
      ],
      "metadata": {
        "id": "E4mEM7kUzg_2"
      }
    },
    {
      "cell_type": "code",
      "source": [
        "sns.scatterplot(x=mobile_dataset.price_range,y=mobile_dataset.ram)"
      ],
      "metadata": {
        "colab": {
          "base_uri": "https://localhost:8080/",
          "height": 297
        },
        "id": "pv5lpaH0ui12",
        "outputId": "a22fcb6e-cd34-4208-f9d0-d17bd0229c81"
      },
      "execution_count": 22,
      "outputs": [
        {
          "output_type": "execute_result",
          "data": {
            "text/plain": [
              "<matplotlib.axes._subplots.AxesSubplot at 0x7f0f886da190>"
            ]
          },
          "metadata": {},
          "execution_count": 22
        },
        {
          "output_type": "display_data",
          "data": {
            "text/plain": [
              "<Figure size 432x288 with 1 Axes>"
            ],
            "image/png": "[encoded data removed]"
          },
          "metadata": {
            "needs_background": "light"
          }
        }
      ]
    },
    {
      "cell_type": "markdown",
      "source": [
        "Relationship between battery power and price range"
      ],
      "metadata": {
        "id": "yePCFYmrz0J4"
      }
    },
    {
      "cell_type": "code",
      "source": [
        "sns.pointplot(data=mobile_dataset,y=\"battery_power\", x=\"price_range\")"
      ],
      "metadata": {
        "colab": {
          "base_uri": "https://localhost:8080/",
          "height": 297
        },
        "id": "6sNon-GVwRWe",
        "outputId": "1b1b9604-ca25-4d0f-d272-975a790ae0d3"
      },
      "execution_count": 23,
      "outputs": [
        {
          "output_type": "execute_result",
          "data": {
            "text/plain": [
              "<matplotlib.axes._subplots.AxesSubplot at 0x7f0f89f7d6d0>"
            ]
          },
          "metadata": {},
          "execution_count": 23
        },
        {
          "output_type": "display_data",
          "data": {
            "text/plain": [
              "<Figure size 432x288 with 1 Axes>"
            ],
            "image/png": "[encoded data removed]"
          },
          "metadata": {
            "needs_background": "light"
          }
        }
      ]
    },
    {
      "cell_type": "markdown",
      "source": [
        "Relationship between px_height ,px_width and price range"
      ],
      "metadata": {
        "id": "Cbf9S1cW1gHq"
      }
    },
    {
      "cell_type": "code",
      "source": [
        "fig , axs = plt.subplots(1,2)\n",
        "fig.set_figheight(5)\n",
        "fig.set_figwidth(10)\n",
        "sns.barplot(data=mobile_dataset,x='price_range',y='px_height',ax=axs[0])\n",
        "sns.barplot(data=mobile_dataset,x='price_range',y='px_width',ax=axs[1])\n",
        "plt.savefig('px_price.jpg')\n",
        "plt.show()"
      ],
      "metadata": {
        "colab": {
          "base_uri": "https://localhost:8080/",
          "height": 335
        },
        "id": "5WnhD-uf1Wwl",
        "outputId": "85ae6a55-0814-4c6e-fa1c-a8885e3e65ac"
      },
      "execution_count": 24,
      "outputs": [
        {
          "output_type": "display_data",
          "data": {
            "text/plain": [
              "<Figure size 720x360 with 2 Axes>"
            ],
            "image/png": "[encoded data removed]"
          },
          "metadata": {
            "needs_background": "light"
          }
        }
      ]
    },
    {
      "cell_type": "markdown",
      "source": [
        "Correlation matrix"
      ],
      "metadata": {
        "id": "cBPuo6Ov1tth"
      }
    },
    {
      "cell_type": "code",
      "source": [
        "corr = mobile_dataset.drop(['blue','four_g','three_g','wifi','dual_sim','touch_screen'],axis=1).corr()\n",
        "fig = plt.figure(figsize= (15,15))\n",
        "sns.heatmap(corr, annot=True,vmin=-1,vmax=1)\n",
        "plt.savefig('corr.jpg')"
      ],
      "metadata": {
        "colab": {
          "base_uri": "https://localhost:8080/",
          "height": 929
        },
        "id": "jeqGhp05IWWU",
        "outputId": "e93bb16d-edc7-4709-aa9d-46ff674152d9"
      },
      "execution_count": 25,
      "outputs": [
        {
          "output_type": "display_data",
          "data": {
            "text/plain": [
              "<Figure size 1080x1080 with 2 Axes>"
            ],
            "image/png": "[encoded data removed]"
          },
          "metadata": {
            "needs_background": "light"
          }
        }
      ]
    },
    {
      "cell_type": "code",
      "source": [
        "abs_corr = abs(corr)\n",
        "abs_corr['price_range'].sort_values(ascending=False,)"
      ],
      "metadata": {
        "colab": {
          "base_uri": "https://localhost:8080/"
        },
        "id": "O2xhNW0oNNzU",
        "outputId": "a5e96b1a-9a3e-484a-cdc4-290ca415e0a2"
      },
      "execution_count": 26,
      "outputs": [
        {
          "output_type": "execute_result",
          "data": {
            "text/plain": [
              "price_range      1.000000\n",
              "ram              0.916742\n",
              "battery_power    0.201768\n",
              "px_width         0.167571\n",
              "px_height        0.150439\n",
              "int_memory       0.044144\n",
              "sc_w             0.037836\n",
              "pc               0.036343\n",
              "mobile_wt        0.031180\n",
              "fc               0.027334\n",
              "sc_h             0.024294\n",
              "talk_time        0.020810\n",
              "n_cores          0.007159\n",
              "clock_speed      0.006042\n",
              "m_dep            0.001570\n",
              "Name: price_range, dtype: float64"
            ]
          },
          "metadata": {},
          "execution_count": 26
        }
      ]
    },
    {
      "cell_type": "markdown",
      "source": [
        "#Hypothesis tests"
      ],
      "metadata": {
        "id": "T934A4qzP-Dr"
      }
    },
    {
      "cell_type": "markdown",
      "source": [
        "Q1 : Relation between two categorical features wifi and touch screen\n",
        "\n",
        "\n",
        "\n",
        "*   H0 : the two features are independent\n",
        "*   H1 : the two features are dependent\n"
      ],
      "metadata": {
        "id": "86denJjbTUuu"
      }
    },
    {
      "cell_type": "code",
      "source": [
        "contingency_table=pd.crosstab(mobile_dataset[\"wifi\"],mobile_dataset[\"touch_screen\"])\n",
        "contingency_table"
      ],
      "metadata": {
        "colab": {
          "base_uri": "https://localhost:8080/",
          "height": 143
        },
        "id": "s1FVftDzRmLP",
        "outputId": "b04865bd-5724-4177-c840-46c99da8df34"
      },
      "execution_count": 27,
      "outputs": [
        {
          "output_type": "execute_result",
          "data": {
            "text/plain": [
              "touch_screen    0    1\n",
              "wifi                  \n",
              "0             495  489\n",
              "1             494  510"
            ],
            "text/html": [
              "\n",
              "  <div id=\"df-cee58f2d-0e2c-4ab0-b641-c4a4b7e0833c\">\n",
              "    <div class=\"colab-df-container\">\n",
              "      <div>\n",
              "<style scoped>\n",
              "    .dataframe tbody tr th:only-of-type {\n",
              "        vertical-align: middle;\n",
              "    }\n",
              "\n",
              "    .dataframe tbody tr th {\n",
              "        vertical-align: top;\n",
              "    }\n",
              "\n",
              "    .dataframe thead th {\n",
              "        text-align: right;\n",
              "    }\n",
              "</style>\n",
              "<table border=\"1\" class=\"dataframe\">\n",
              "  <thead>\n",
              "    <tr style=\"text-align: right;\">\n",
              "      <th>touch_screen</th>\n",
              "      <th>0</th>\n",
              "      <th>1</th>\n",
              "    </tr>\n",
              "    <tr>\n",
              "      <th>wifi</th>\n",
              "      <th></th>\n",
              "      <th></th>\n",
              "    </tr>\n",
              "  </thead>\n",
              "  <tbody>\n",
              "    <tr>\n",
              "      <th>0</th>\n",
              "      <td>495</td>\n",
              "      <td>489</td>\n",
              "    </tr>\n",
              "    <tr>\n",
              "      <th>1</th>\n",
              "      <td>494</td>\n",
              "      <td>510</td>\n",
              "    </tr>\n",
              "  </tbody>\n",
              "</table>\n",
              "</div>\n",
              "      <button class=\"colab-df-convert\" onclick=\"convertToInteractive('df-cee58f2d-0e2c-4ab0-b641-c4a4b7e0833c')\"\n",
              "              title=\"Convert this dataframe to an interactive table.\"\n",
              "              style=\"display:none;\">\n",
              "        \n",
              "  <svg xmlns=\"http://www.w3.org/2000/svg\" height=\"24px\"viewBox=\"0 0 24 24\"\n",
              "       width=\"24px\">\n",
              "    <path d=\"M0 0h24v24H0V0z\" fill=\"none\"/>\n",
              "    <path d=\"M18.56 5.44l.94 2.06.94-2.06 2.06-.94-2.06-.94-.94-2.06-.94 2.06-2.06.94zm-11 1L8.5 8.5l.94-2.06 2.06-.94-2.06-.94L8.5 2.5l-.94 2.06-2.06.94zm10 10l.94 2.06.94-2.06 2.06-.94-2.06-.94-.94-2.06-.94 2.06-2.06.94z\"/><path d=\"M17.41 7.96l-1.37-1.37c-.4-.4-.92-.59-1.43-.59-.52 0-1.04.2-1.43.59L10.3 9.45l-7.72 7.72c-.78.78-.78 2.05 0 2.83L4 21.41c.39.39.9.59 1.41.59.51 0 1.02-.2 1.41-.59l7.78-7.78 2.81-2.81c.8-.78.8-2.07 0-2.86zM5.41 20L4 18.59l7.72-7.72 1.47 1.35L5.41 20z\"/>\n",
              "  </svg>\n",
              "      </button>\n",
              "      \n",
              "  <style>\n",
              "    .colab-df-container {\n",
              "      display:flex;\n",
              "      flex-wrap:wrap;\n",
              "      gap: 12px;\n",
              "    }\n",
              "\n",
              "    .colab-df-convert {\n",
              "      background-color: #E8F0FE;\n",
              "      border: none;\n",
              "      border-radius: 50%;\n",
              "      cursor: pointer;\n",
              "      display: none;\n",
              "      fill: #1967D2;\n",
              "      height: 32px;\n",
              "      padding: 0 0 0 0;\n",
              "      width: 32px;\n",
              "    }\n",
              "\n",
              "    .colab-df-convert:hover {\n",
              "      background-color: #E2EBFA;\n",
              "      box-shadow: 0px 1px 2px rgba(60, 64, 67, 0.3), 0px 1px 3px 1px rgba(60, 64, 67, 0.15);\n",
              "      fill: #174EA6;\n",
              "    }\n",
              "\n",
              "    [theme=dark] .colab-df-convert {\n",
              "      background-color: #3B4455;\n",
              "      fill: #D2E3FC;\n",
              "    }\n",
              "\n",
              "    [theme=dark] .colab-df-convert:hover {\n",
              "      background-color: #434B5C;\n",
              "      box-shadow: 0px 1px 3px 1px rgba(0, 0, 0, 0.15);\n",
              "      filter: drop-shadow(0px 1px 2px rgba(0, 0, 0, 0.3));\n",
              "      fill: #FFFFFF;\n",
              "    }\n",
              "  </style>\n",
              "\n",
              "      <script>\n",
              "        const buttonEl =\n",
              "          document.querySelector('#df-cee58f2d-0e2c-4ab0-b641-c4a4b7e0833c button.colab-df-convert');\n",
              "        buttonEl.style.display =\n",
              "          google.colab.kernel.accessAllowed ? 'block' : 'none';\n",
              "\n",
              "        async function convertToInteractive(key) {\n",
              "          const element = document.querySelector('#df-cee58f2d-0e2c-4ab0-b641-c4a4b7e0833c');\n",
              "          const dataTable =\n",
              "            await google.colab.kernel.invokeFunction('convertToInteractive',\n",
              "                                                     [key], {});\n",
              "          if (!dataTable) return;\n",
              "\n",
              "          const docLinkHtml = 'Like what you see? Visit the ' +\n",
              "            '<a target=\"_blank\" href=https://colab.research.google.com/notebooks/data_table.ipynb>data table notebook</a>'\n",
              "            + ' to learn more about interactive tables.';\n",
              "          element.innerHTML = '';\n",
              "          dataTable['output_type'] = 'display_data';\n",
              "          await google.colab.output.renderOutput(dataTable, element);\n",
              "          const docLink = document.createElement('div');\n",
              "          docLink.innerHTML = docLinkHtml;\n",
              "          element.appendChild(docLink);\n",
              "        }\n",
              "      </script>\n",
              "    </div>\n",
              "  </div>\n",
              "  "
            ]
          },
          "metadata": {},
          "execution_count": 27
        }
      ]
    },
    {
      "cell_type": "code",
      "source": [
        "from scipy.stats import chi2_contingency\n",
        "stat, p_value, dof, expected = chi2_contingency(contingency_table)\n",
        "if p_value <= 0.05:\n",
        "    print(\"reject H0 , two features are dependent\")\n",
        "else:\n",
        "    print(\"retain H0 , two features are independent \")\n",
        "\n",
        "print(f'stat : {stat} , p_value : {p_value} ' )"
      ],
      "metadata": {
        "colab": {
          "base_uri": "https://localhost:8080/"
        },
        "id": "6abnBaiYVcbm",
        "outputId": "98d3bab8-b54e-41e5-d5cf-314c6aaaddcb"
      },
      "execution_count": 28,
      "outputs": [
        {
          "output_type": "stream",
          "name": "stdout",
          "text": [
            "retain H0 , two features are independent \n",
            "stat : 0.19921331949641355 , p_value : 0.6553565825170761 \n"
          ]
        }
      ]
    },
    {
      "cell_type": "markdown",
      "source": [
        "Q2 : Ram feature has Gaussian distribution or not\n",
        "\n",
        "\n",
        "*   H0 : ram has a Gaussian distribution.\n",
        "*   H1 : ram does not have a Gaussian distribution.\n",
        "\n"
      ],
      "metadata": {
        "id": "RbqqtXSgWqM0"
      }
    },
    {
      "cell_type": "code",
      "source": [
        "from scipy.stats import normaltest\n",
        "stat, p_value = normaltest(mobile_dataset['ram'])\n",
        "if p_value <= 0.05:\n",
        "    print(\"reject H0 , ram does not have a Gaussian distribution\")\n",
        "else:\n",
        "    print(\"retain H0 , ram has a Gaussian distribution\")\n",
        "print(f'stat : {stat} , p_value : {p_value} ' )"
      ],
      "metadata": {
        "colab": {
          "base_uri": "https://localhost:8080/"
        },
        "id": "3yV7-tDbXv1t",
        "outputId": "0a3aa796-68cf-436e-c94d-0dcbd3f404e4"
      },
      "execution_count": 29,
      "outputs": [
        {
          "output_type": "stream",
          "name": "stdout",
          "text": [
            "reject H0 , ram does not have a Gaussian distribution\n",
            "stat : 1449.7033119300545 , p_value : 0.0 \n"
          ]
        }
      ]
    },
    {
      "cell_type": "markdown",
      "source": [
        "Q3 : Phones have average 4 cpu cores\n",
        "\n",
        "\n",
        "*   H0 : mean of n_cores is  4\n",
        "*   H1 : mean of n_cores is not  4\n",
        "\n"
      ],
      "metadata": {
        "id": "SE-YXfCYYoM-"
      }
    },
    {
      "cell_type": "code",
      "source": [
        "from scipy.stats import ttest_1samp\n",
        "\n",
        "stat,p_value = ttest_1samp(mobile_dataset.n_cores,popmean = 4)\n",
        "if p_value <= 0.05:\n",
        "    print(\"reject H0\")\n",
        "else:\n",
        "    print(\"retain H0 \")\n",
        "\n",
        "print(f'stat : {stat} , p_value : {p_value} ')"
      ],
      "metadata": {
        "colab": {
          "base_uri": "https://localhost:8080/"
        },
        "id": "-UC0a3HeYnor",
        "outputId": "e8082ff2-61f6-456e-9b8c-2b43e8968f88"
      },
      "execution_count": 30,
      "outputs": [
        {
          "output_type": "stream",
          "name": "stdout",
          "text": [
            "reject H0\n",
            "stat : 10.205350276936688 , p_value : 7.196966917924235e-24 \n"
          ]
        }
      ]
    },
    {
      "cell_type": "markdown",
      "source": [
        "Q4 : Relation between two categorical features 3G and 4G\n",
        "\n",
        "\n",
        "*   H0 : the two features are independent\n",
        "*   H1 : the two feature are dependent"
      ],
      "metadata": {
        "id": "UU_jzOhZe9PD"
      }
    },
    {
      "cell_type": "code",
      "source": [
        "contingency_3g_4g=pd.crosstab(mobile_dataset[\"four_g\"],mobile_dataset[\"three_g\"])\n",
        "contingency_3g_4g"
      ],
      "metadata": {
        "colab": {
          "base_uri": "https://localhost:8080/",
          "height": 143
        },
        "id": "7iw_rRxSfieZ",
        "outputId": "7aae3569-d157-4c55-b5dd-774055f828dc"
      },
      "execution_count": 31,
      "outputs": [
        {
          "output_type": "execute_result",
          "data": {
            "text/plain": [
              "three_g    0     1\n",
              "four_g            \n",
              "0        476   477\n",
              "1          0  1035"
            ],
            "text/html": [
              "\n",
              "  <div id=\"df-5ad41b5c-ca86-4120-9099-b169e74f9d9a\">\n",
              "    <div class=\"colab-df-container\">\n",
              "      <div>\n",
              "<style scoped>\n",
              "    .dataframe tbody tr th:only-of-type {\n",
              "        vertical-align: middle;\n",
              "    }\n",
              "\n",
              "    .dataframe tbody tr th {\n",
              "        vertical-align: top;\n",
              "    }\n",
              "\n",
              "    .dataframe thead th {\n",
              "        text-align: right;\n",
              "    }\n",
              "</style>\n",
              "<table border=\"1\" class=\"dataframe\">\n",
              "  <thead>\n",
              "    <tr style=\"text-align: right;\">\n",
              "      <th>three_g</th>\n",
              "      <th>0</th>\n",
              "      <th>1</th>\n",
              "    </tr>\n",
              "    <tr>\n",
              "      <th>four_g</th>\n",
              "      <th></th>\n",
              "      <th></th>\n",
              "    </tr>\n",
              "  </thead>\n",
              "  <tbody>\n",
              "    <tr>\n",
              "      <th>0</th>\n",
              "      <td>476</td>\n",
              "      <td>477</td>\n",
              "    </tr>\n",
              "    <tr>\n",
              "      <th>1</th>\n",
              "      <td>0</td>\n",
              "      <td>1035</td>\n",
              "    </tr>\n",
              "  </tbody>\n",
              "</table>\n",
              "</div>\n",
              "      <button class=\"colab-df-convert\" onclick=\"convertToInteractive('df-5ad41b5c-ca86-4120-9099-b169e74f9d9a')\"\n",
              "              title=\"Convert this dataframe to an interactive table.\"\n",
              "              style=\"display:none;\">\n",
              "        \n",
              "  <svg xmlns=\"http://www.w3.org/2000/svg\" height=\"24px\"viewBox=\"0 0 24 24\"\n",
              "       width=\"24px\">\n",
              "    <path d=\"M0 0h24v24H0V0z\" fill=\"none\"/>\n",
              "    <path d=\"M18.56 5.44l.94 2.06.94-2.06 2.06-.94-2.06-.94-.94-2.06-.94 2.06-2.06.94zm-11 1L8.5 8.5l.94-2.06 2.06-.94-2.06-.94L8.5 2.5l-.94 2.06-2.06.94zm10 10l.94 2.06.94-2.06 2.06-.94-2.06-.94-.94-2.06-.94 2.06-2.06.94z\"/><path d=\"M17.41 7.96l-1.37-1.37c-.4-.4-.92-.59-1.43-.59-.52 0-1.04.2-1.43.59L10.3 9.45l-7.72 7.72c-.78.78-.78 2.05 0 2.83L4 21.41c.39.39.9.59 1.41.59.51 0 1.02-.2 1.41-.59l7.78-7.78 2.81-2.81c.8-.78.8-2.07 0-2.86zM5.41 20L4 18.59l7.72-7.72 1.47 1.35L5.41 20z\"/>\n",
              "  </svg>\n",
              "      </button>\n",
              "      \n",
              "  <style>\n",
              "    .colab-df-container {\n",
              "      display:flex;\n",
              "      flex-wrap:wrap;\n",
              "      gap: 12px;\n",
              "    }\n",
              "\n",
              "    .colab-df-convert {\n",
              "      background-color: #E8F0FE;\n",
              "      border: none;\n",
              "      border-radius: 50%;\n",
              "      cursor: pointer;\n",
              "      display: none;\n",
              "      fill: #1967D2;\n",
              "      height: 32px;\n",
              "      padding: 0 0 0 0;\n",
              "      width: 32px;\n",
              "    }\n",
              "\n",
              "    .colab-df-convert:hover {\n",
              "      background-color: #E2EBFA;\n",
              "      box-shadow: 0px 1px 2px rgba(60, 64, 67, 0.3), 0px 1px 3px 1px rgba(60, 64, 67, 0.15);\n",
              "      fill: #174EA6;\n",
              "    }\n",
              "\n",
              "    [theme=dark] .colab-df-convert {\n",
              "      background-color: #3B4455;\n",
              "      fill: #D2E3FC;\n",
              "    }\n",
              "\n",
              "    [theme=dark] .colab-df-convert:hover {\n",
              "      background-color: #434B5C;\n",
              "      box-shadow: 0px 1px 3px 1px rgba(0, 0, 0, 0.15);\n",
              "      filter: drop-shadow(0px 1px 2px rgba(0, 0, 0, 0.3));\n",
              "      fill: #FFFFFF;\n",
              "    }\n",
              "  </style>\n",
              "\n",
              "      <script>\n",
              "        const buttonEl =\n",
              "          document.querySelector('#df-5ad41b5c-ca86-4120-9099-b169e74f9d9a button.colab-df-convert');\n",
              "        buttonEl.style.display =\n",
              "          google.colab.kernel.accessAllowed ? 'block' : 'none';\n",
              "\n",
              "        async function convertToInteractive(key) {\n",
              "          const element = document.querySelector('#df-5ad41b5c-ca86-4120-9099-b169e74f9d9a');\n",
              "          const dataTable =\n",
              "            await google.colab.kernel.invokeFunction('convertToInteractive',\n",
              "                                                     [key], {});\n",
              "          if (!dataTable) return;\n",
              "\n",
              "          const docLinkHtml = 'Like what you see? Visit the ' +\n",
              "            '<a target=\"_blank\" href=https://colab.research.google.com/notebooks/data_table.ipynb>data table notebook</a>'\n",
              "            + ' to learn more about interactive tables.';\n",
              "          element.innerHTML = '';\n",
              "          dataTable['output_type'] = 'display_data';\n",
              "          await google.colab.output.renderOutput(dataTable, element);\n",
              "          const docLink = document.createElement('div');\n",
              "          docLink.innerHTML = docLinkHtml;\n",
              "          element.appendChild(docLink);\n",
              "        }\n",
              "      </script>\n",
              "    </div>\n",
              "  </div>\n",
              "  "
            ]
          },
          "metadata": {},
          "execution_count": 31
        }
      ]
    },
    {
      "cell_type": "code",
      "source": [
        "stat, p_value, dof, expected = chi2_contingency(contingency_3g_4g)\n",
        "if p_value <= 0.05:\n",
        "    print(\"reject H0 , two features are dependent\")\n",
        "else:\n",
        "    print(\"retain H0 , two features are independent \")\n",
        "\n",
        "print(f'stat : {stat} , p_value : {p_value} ' )"
      ],
      "metadata": {
        "colab": {
          "base_uri": "https://localhost:8080/"
        },
        "id": "cFT5HKnEfp9d",
        "outputId": "fbb5a848-b653-4296-9fd6-665cc6664525"
      },
      "execution_count": 32,
      "outputs": [
        {
          "output_type": "stream",
          "name": "stdout",
          "text": [
            "reject H0 , two features are dependent\n",
            "stat : 676.9626985235323 , p_value : 3.057991673651438e-149 \n"
          ]
        }
      ]
    },
    {
      "cell_type": "markdown",
      "source": [
        "Q5 : Are talk time and battery power related?\n",
        "\n",
        "\n",
        "*   H0 : the two features are independent.\n",
        "*   H1 : the two features are dependent.\n",
        "\n"
      ],
      "metadata": {
        "id": "QdRPmncIhXfJ"
      }
    },
    {
      "cell_type": "code",
      "source": [
        "from scipy.stats import pearsonr\n",
        "stat, p_value = pearsonr(mobile_dataset.talk_time, mobile_dataset.battery_power)\n",
        "\n",
        "if p_value <= 0.05:\n",
        "    print(\"reject H0 , two features are dependent\")\n",
        "else:\n",
        "    print(\"retain H0 , two features are independent \")\n",
        "\n",
        "print(f'stat : {stat} , p_value : {p_value} ' )"
      ],
      "metadata": {
        "colab": {
          "base_uri": "https://localhost:8080/"
        },
        "id": "LYxJ6RCriLRF",
        "outputId": "c3f5dad3-9cf4-447f-e308-ac9536b95d16"
      },
      "execution_count": 33,
      "outputs": [
        {
          "output_type": "stream",
          "name": "stdout",
          "text": [
            "reject H0 , two features are dependent\n",
            "stat : 0.050307392525290186 , p_value : 0.024892628139786186 \n"
          ]
        }
      ]
    },
    {
      "cell_type": "markdown",
      "source": [
        "# Model Training"
      ],
      "metadata": {
        "id": "gMqcc9GxQ8--"
      }
    },
    {
      "cell_type": "code",
      "source": [
        "from sklearn.linear_model import LogisticRegression\n",
        "from sklearn.model_selection import train_test_split\n",
        "from sklearn.preprocessing import StandardScaler,MinMaxScaler\n",
        "from sklearn.pipeline import Pipeline\n",
        "from sklearn.model_selection import GridSearchCV"
      ],
      "metadata": {
        "id": "zlzBPWCXVzvl"
      },
      "execution_count": 34,
      "outputs": []
    },
    {
      "cell_type": "markdown",
      "source": [
        "Splitting train and test dataset"
      ],
      "metadata": {
        "id": "Yb9gygl42Eb4"
      }
    },
    {
      "cell_type": "code",
      "source": [
        "data = mobile_dataset.drop(columns='price_range')\n",
        "target = mobile_dataset['price_range']\n",
        "data_train , data_test , target_train , target_test = train_test_split(data,target,test_size = 0.2, random_state=42)"
      ],
      "metadata": {
        "id": "ikolVGnSW1Xk"
      },
      "execution_count": 35,
      "outputs": []
    },
    {
      "cell_type": "markdown",
      "source": [
        "Hyperparameter tuning :\n",
        "trying different scalers , penalties and Cs"
      ],
      "metadata": {
        "id": "814iE9pL2OUR"
      }
    },
    {
      "cell_type": "code",
      "source": [
        "%%time\n",
        "\n",
        "model = Pipeline([('scaler', StandardScaler()),('logistic_reg',LogisticRegression(solver='saga',max_iter=10000))])\n",
        "param_grid = {\n",
        "    'scaler' :[MinMaxScaler(), StandardScaler(), None],\n",
        "    'logistic_reg__C': [0.01,0.1,1,10,100],\n",
        "    'logistic_reg__penalty' :['l1','l2']\n",
        "}\n",
        "grid = GridSearchCV(model,param_grid=param_grid,n_jobs=-1,cv=5)\n",
        "grid.fit(data_train,target_train)"
      ],
      "metadata": {
        "colab": {
          "base_uri": "https://localhost:8080/"
        },
        "id": "KqSFm--wRrdu",
        "outputId": "bab35288-1c79-4062-b2bf-318bfc74d0d4"
      },
      "execution_count": 119,
      "outputs": [
        {
          "output_type": "stream",
          "name": "stdout",
          "text": [
            "CPU times: user 12min 54s, sys: 629 ms, total: 12min 54s\n",
            "Wall time: 7min\n"
          ]
        }
      ]
    },
    {
      "cell_type": "code",
      "source": [
        "cv_result = pd.DataFrame(grid.cv_results_)\n",
        "useful_cols = ['mean_fit_time','mean_score_time','param_logistic_reg__C', 'param_logistic_reg__penalty', 'param_scaler',\n",
        "       'mean_test_score', 'std_test_score','rank_test_score']\n",
        "cv_result = cv_result[useful_cols]\n",
        "cv_result.sort_values(by='rank_test_score')"
      ],
      "metadata": {
        "colab": {
          "base_uri": "https://localhost:8080/",
          "height": 990
        },
        "id": "6ghlBNyLbpNV",
        "outputId": "dde537b8-42e4-4127-9f81-5d35d0b0fac1"
      },
      "execution_count": 37,
      "outputs": [
        {
          "output_type": "execute_result",
          "data": {
            "text/plain": [
              "    mean_fit_time  mean_score_time param_logistic_reg__C  \\\n",
              "13       1.130730         0.003629                     1   \n",
              "18       2.367287         0.003223                    10   \n",
              "22       0.515907         0.003378                    10   \n",
              "25       2.373213         0.003259                   100   \n",
              "27       1.533885         0.004290                   100   \n",
              "28       1.733635         0.003253                   100   \n",
              "19       2.348430         0.003269                    10   \n",
              "24       2.369207         0.003327                   100   \n",
              "12       1.140644         0.003313                     1   \n",
              "16       0.253195         0.005202                     1   \n",
              "21       0.366040         0.003264                    10   \n",
              "7        0.103270         0.003490                   0.1   \n",
              "10       0.039700         0.003413                   0.1   \n",
              "15       0.232575         0.005175                     1   \n",
              "6        0.101655         0.003340                   0.1   \n",
              "4        0.037598         0.003183                  0.01   \n",
              "9        0.037571         0.003217                   0.1   \n",
              "1        0.041792         0.003398                  0.01   \n",
              "26       2.420308         0.002951                   100   \n",
              "23       1.758626         0.002943                    10   \n",
              "14       2.941302         0.005462                     1   \n",
              "29       1.685547         0.002728                   100   \n",
              "17       1.934714         0.002950                     1   \n",
              "11       1.779769         0.002972                   0.1   \n",
              "5        1.752945         0.002971                  0.01   \n",
              "20       2.441495         0.002891                    10   \n",
              "8        2.383284         0.002963                   0.1   \n",
              "3        0.039744         0.003195                  0.01   \n",
              "2        2.282779         0.003140                  0.01   \n",
              "0        0.048881         0.003470                  0.01   \n",
              "\n",
              "   param_logistic_reg__penalty      param_scaler  mean_test_score  \\\n",
              "13                          l1  StandardScaler()         0.968553   \n",
              "18                          l1    MinMaxScaler()         0.966667   \n",
              "22                          l2  StandardScaler()         0.965409   \n",
              "25                          l1  StandardScaler()         0.965409   \n",
              "27                          l2    MinMaxScaler()         0.964780   \n",
              "28                          l2  StandardScaler()         0.964780   \n",
              "19                          l1  StandardScaler()         0.964151   \n",
              "24                          l1    MinMaxScaler()         0.963522   \n",
              "12                          l1    MinMaxScaler()         0.961635   \n",
              "16                          l2  StandardScaler()         0.955975   \n",
              "21                          l2    MinMaxScaler()         0.955346   \n",
              "7                           l1  StandardScaler()         0.947799   \n",
              "10                          l2  StandardScaler()         0.915094   \n",
              "15                          l2    MinMaxScaler()         0.908176   \n",
              "6                           l1    MinMaxScaler()         0.842138   \n",
              "4                           l2  StandardScaler()         0.793711   \n",
              "9                           l2    MinMaxScaler()         0.776101   \n",
              "1                           l1  StandardScaler()         0.700629   \n",
              "26                          l1              None         0.658491   \n",
              "23                          l2              None         0.658491   \n",
              "14                          l1              None         0.658491   \n",
              "29                          l2              None         0.658491   \n",
              "17                          l2              None         0.658491   \n",
              "11                          l2              None         0.658491   \n",
              "5                           l2              None         0.658491   \n",
              "20                          l1              None         0.658491   \n",
              "8                           l1              None         0.657233   \n",
              "3                           l2    MinMaxScaler()         0.649686   \n",
              "2                           l1              None         0.644025   \n",
              "0                           l1    MinMaxScaler()         0.517610   \n",
              "\n",
              "    std_test_score  rank_test_score  \n",
              "13        0.010334                1  \n",
              "18        0.009455                2  \n",
              "22        0.009538                3  \n",
              "25        0.004872                3  \n",
              "27        0.010599                5  \n",
              "28        0.004172                5  \n",
              "19        0.005109                7  \n",
              "24        0.006475                8  \n",
              "12        0.010411                9  \n",
              "16        0.011933               10  \n",
              "21        0.009200               11  \n",
              "7         0.009027               12  \n",
              "10        0.015660               13  \n",
              "15        0.015457               14  \n",
              "6         0.009200               15  \n",
              "4         0.008805               16  \n",
              "9         0.011665               17  \n",
              "1         0.010411               18  \n",
              "26        0.018931               19  \n",
              "23        0.018931               19  \n",
              "14        0.018931               19  \n",
              "29        0.018931               19  \n",
              "17        0.018931               19  \n",
              "11        0.018931               19  \n",
              "5         0.018931               19  \n",
              "20        0.018931               19  \n",
              "8         0.017452               27  \n",
              "3         0.016352               28  \n",
              "2         0.025267               29  \n",
              "0         0.008577               30  "
            ],
            "text/html": [
              "\n",
              "  <div id=\"df-5e6f9ae0-48d1-4a9d-89f9-db1cf84ce352\">\n",
              "    <div class=\"colab-df-container\">\n",
              "      <div>\n",
              "<style scoped>\n",
              "    .dataframe tbody tr th:only-of-type {\n",
              "        vertical-align: middle;\n",
              "    }\n",
              "\n",
              "    .dataframe tbody tr th {\n",
              "        vertical-align: top;\n",
              "    }\n",
              "\n",
              "    .dataframe thead th {\n",
              "        text-align: right;\n",
              "    }\n",
              "</style>\n",
              "<table border=\"1\" class=\"dataframe\">\n",
              "  <thead>\n",
              "    <tr style=\"text-align: right;\">\n",
              "      <th></th>\n",
              "      <th>mean_fit_time</th>\n",
              "      <th>mean_score_time</th>\n",
              "      <th>param_logistic_reg__C</th>\n",
              "      <th>param_logistic_reg__penalty</th>\n",
              "      <th>param_scaler</th>\n",
              "      <th>mean_test_score</th>\n",
              "      <th>std_test_score</th>\n",
              "      <th>rank_test_score</th>\n",
              "    </tr>\n",
              "  </thead>\n",
              "  <tbody>\n",
              "    <tr>\n",
              "      <th>13</th>\n",
              "      <td>1.130730</td>\n",
              "      <td>0.003629</td>\n",
              "      <td>1</td>\n",
              "      <td>l1</td>\n",
              "      <td>StandardScaler()</td>\n",
              "      <td>0.968553</td>\n",
              "      <td>0.010334</td>\n",
              "      <td>1</td>\n",
              "    </tr>\n",
              "    <tr>\n",
              "      <th>18</th>\n",
              "      <td>2.367287</td>\n",
              "      <td>0.003223</td>\n",
              "      <td>10</td>\n",
              "      <td>l1</td>\n",
              "      <td>MinMaxScaler()</td>\n",
              "      <td>0.966667</td>\n",
              "      <td>0.009455</td>\n",
              "      <td>2</td>\n",
              "    </tr>\n",
              "    <tr>\n",
              "      <th>22</th>\n",
              "      <td>0.515907</td>\n",
              "      <td>0.003378</td>\n",
              "      <td>10</td>\n",
              "      <td>l2</td>\n",
              "      <td>StandardScaler()</td>\n",
              "      <td>0.965409</td>\n",
              "      <td>0.009538</td>\n",
              "      <td>3</td>\n",
              "    </tr>\n",
              "    <tr>\n",
              "      <th>25</th>\n",
              "      <td>2.373213</td>\n",
              "      <td>0.003259</td>\n",
              "      <td>100</td>\n",
              "      <td>l1</td>\n",
              "      <td>StandardScaler()</td>\n",
              "      <td>0.965409</td>\n",
              "      <td>0.004872</td>\n",
              "      <td>3</td>\n",
              "    </tr>\n",
              "    <tr>\n",
              "      <th>27</th>\n",
              "      <td>1.533885</td>\n",
              "      <td>0.004290</td>\n",
              "      <td>100</td>\n",
              "      <td>l2</td>\n",
              "      <td>MinMaxScaler()</td>\n",
              "      <td>0.964780</td>\n",
              "      <td>0.010599</td>\n",
              "      <td>5</td>\n",
              "    </tr>\n",
              "    <tr>\n",
              "      <th>28</th>\n",
              "      <td>1.733635</td>\n",
              "      <td>0.003253</td>\n",
              "      <td>100</td>\n",
              "      <td>l2</td>\n",
              "      <td>StandardScaler()</td>\n",
              "      <td>0.964780</td>\n",
              "      <td>0.004172</td>\n",
              "      <td>5</td>\n",
              "    </tr>\n",
              "    <tr>\n",
              "      <th>19</th>\n",
              "      <td>2.348430</td>\n",
              "      <td>0.003269</td>\n",
              "      <td>10</td>\n",
              "      <td>l1</td>\n",
              "      <td>StandardScaler()</td>\n",
              "      <td>0.964151</td>\n",
              "      <td>0.005109</td>\n",
              "      <td>7</td>\n",
              "    </tr>\n",
              "    <tr>\n",
              "      <th>24</th>\n",
              "      <td>2.369207</td>\n",
              "      <td>0.003327</td>\n",
              "      <td>100</td>\n",
              "      <td>l1</td>\n",
              "      <td>MinMaxScaler()</td>\n",
              "      <td>0.963522</td>\n",
              "      <td>0.006475</td>\n",
              "      <td>8</td>\n",
              "    </tr>\n",
              "    <tr>\n",
              "      <th>12</th>\n",
              "      <td>1.140644</td>\n",
              "      <td>0.003313</td>\n",
              "      <td>1</td>\n",
              "      <td>l1</td>\n",
              "      <td>MinMaxScaler()</td>\n",
              "      <td>0.961635</td>\n",
              "      <td>0.010411</td>\n",
              "      <td>9</td>\n",
              "    </tr>\n",
              "    <tr>\n",
              "      <th>16</th>\n",
              "      <td>0.253195</td>\n",
              "      <td>0.005202</td>\n",
              "      <td>1</td>\n",
              "      <td>l2</td>\n",
              "      <td>StandardScaler()</td>\n",
              "      <td>0.955975</td>\n",
              "      <td>0.011933</td>\n",
              "      <td>10</td>\n",
              "    </tr>\n",
              "    <tr>\n",
              "      <th>21</th>\n",
              "      <td>0.366040</td>\n",
              "      <td>0.003264</td>\n",
              "      <td>10</td>\n",
              "      <td>l2</td>\n",
              "      <td>MinMaxScaler()</td>\n",
              "      <td>0.955346</td>\n",
              "      <td>0.009200</td>\n",
              "      <td>11</td>\n",
              "    </tr>\n",
              "    <tr>\n",
              "      <th>7</th>\n",
              "      <td>0.103270</td>\n",
              "      <td>0.003490</td>\n",
              "      <td>0.1</td>\n",
              "      <td>l1</td>\n",
              "      <td>StandardScaler()</td>\n",
              "      <td>0.947799</td>\n",
              "      <td>0.009027</td>\n",
              "      <td>12</td>\n",
              "    </tr>\n",
              "    <tr>\n",
              "      <th>10</th>\n",
              "      <td>0.039700</td>\n",
              "      <td>0.003413</td>\n",
              "      <td>0.1</td>\n",
              "      <td>l2</td>\n",
              "      <td>StandardScaler()</td>\n",
              "      <td>0.915094</td>\n",
              "      <td>0.015660</td>\n",
              "      <td>13</td>\n",
              "    </tr>\n",
              "    <tr>\n",
              "      <th>15</th>\n",
              "      <td>0.232575</td>\n",
              "      <td>0.005175</td>\n",
              "      <td>1</td>\n",
              "      <td>l2</td>\n",
              "      <td>MinMaxScaler()</td>\n",
              "      <td>0.908176</td>\n",
              "      <td>0.015457</td>\n",
              "      <td>14</td>\n",
              "    </tr>\n",
              "    <tr>\n",
              "      <th>6</th>\n",
              "      <td>0.101655</td>\n",
              "      <td>0.003340</td>\n",
              "      <td>0.1</td>\n",
              "      <td>l1</td>\n",
              "      <td>MinMaxScaler()</td>\n",
              "      <td>0.842138</td>\n",
              "      <td>0.009200</td>\n",
              "      <td>15</td>\n",
              "    </tr>\n",
              "    <tr>\n",
              "      <th>4</th>\n",
              "      <td>0.037598</td>\n",
              "      <td>0.003183</td>\n",
              "      <td>0.01</td>\n",
              "      <td>l2</td>\n",
              "      <td>StandardScaler()</td>\n",
              "      <td>0.793711</td>\n",
              "      <td>0.008805</td>\n",
              "      <td>16</td>\n",
              "    </tr>\n",
              "    <tr>\n",
              "      <th>9</th>\n",
              "      <td>0.037571</td>\n",
              "      <td>0.003217</td>\n",
              "      <td>0.1</td>\n",
              "      <td>l2</td>\n",
              "      <td>MinMaxScaler()</td>\n",
              "      <td>0.776101</td>\n",
              "      <td>0.011665</td>\n",
              "      <td>17</td>\n",
              "    </tr>\n",
              "    <tr>\n",
              "      <th>1</th>\n",
              "      <td>0.041792</td>\n",
              "      <td>0.003398</td>\n",
              "      <td>0.01</td>\n",
              "      <td>l1</td>\n",
              "      <td>StandardScaler()</td>\n",
              "      <td>0.700629</td>\n",
              "      <td>0.010411</td>\n",
              "      <td>18</td>\n",
              "    </tr>\n",
              "    <tr>\n",
              "      <th>26</th>\n",
              "      <td>2.420308</td>\n",
              "      <td>0.002951</td>\n",
              "      <td>100</td>\n",
              "      <td>l1</td>\n",
              "      <td>None</td>\n",
              "      <td>0.658491</td>\n",
              "      <td>0.018931</td>\n",
              "      <td>19</td>\n",
              "    </tr>\n",
              "    <tr>\n",
              "      <th>23</th>\n",
              "      <td>1.758626</td>\n",
              "      <td>0.002943</td>\n",
              "      <td>10</td>\n",
              "      <td>l2</td>\n",
              "      <td>None</td>\n",
              "      <td>0.658491</td>\n",
              "      <td>0.018931</td>\n",
              "      <td>19</td>\n",
              "    </tr>\n",
              "    <tr>\n",
              "      <th>14</th>\n",
              "      <td>2.941302</td>\n",
              "      <td>0.005462</td>\n",
              "      <td>1</td>\n",
              "      <td>l1</td>\n",
              "      <td>None</td>\n",
              "      <td>0.658491</td>\n",
              "      <td>0.018931</td>\n",
              "      <td>19</td>\n",
              "    </tr>\n",
              "    <tr>\n",
              "      <th>29</th>\n",
              "      <td>1.685547</td>\n",
              "      <td>0.002728</td>\n",
              "      <td>100</td>\n",
              "      <td>l2</td>\n",
              "      <td>None</td>\n",
              "      <td>0.658491</td>\n",
              "      <td>0.018931</td>\n",
              "      <td>19</td>\n",
              "    </tr>\n",
              "    <tr>\n",
              "      <th>17</th>\n",
              "      <td>1.934714</td>\n",
              "      <td>0.002950</td>\n",
              "      <td>1</td>\n",
              "      <td>l2</td>\n",
              "      <td>None</td>\n",
              "      <td>0.658491</td>\n",
              "      <td>0.018931</td>\n",
              "      <td>19</td>\n",
              "    </tr>\n",
              "    <tr>\n",
              "      <th>11</th>\n",
              "      <td>1.779769</td>\n",
              "      <td>0.002972</td>\n",
              "      <td>0.1</td>\n",
              "      <td>l2</td>\n",
              "      <td>None</td>\n",
              "      <td>0.658491</td>\n",
              "      <td>0.018931</td>\n",
              "      <td>19</td>\n",
              "    </tr>\n",
              "    <tr>\n",
              "      <th>5</th>\n",
              "      <td>1.752945</td>\n",
              "      <td>0.002971</td>\n",
              "      <td>0.01</td>\n",
              "      <td>l2</td>\n",
              "      <td>None</td>\n",
              "      <td>0.658491</td>\n",
              "      <td>0.018931</td>\n",
              "      <td>19</td>\n",
              "    </tr>\n",
              "    <tr>\n",
              "      <th>20</th>\n",
              "      <td>2.441495</td>\n",
              "      <td>0.002891</td>\n",
              "      <td>10</td>\n",
              "      <td>l1</td>\n",
              "      <td>None</td>\n",
              "      <td>0.658491</td>\n",
              "      <td>0.018931</td>\n",
              "      <td>19</td>\n",
              "    </tr>\n",
              "    <tr>\n",
              "      <th>8</th>\n",
              "      <td>2.383284</td>\n",
              "      <td>0.002963</td>\n",
              "      <td>0.1</td>\n",
              "      <td>l1</td>\n",
              "      <td>None</td>\n",
              "      <td>0.657233</td>\n",
              "      <td>0.017452</td>\n",
              "      <td>27</td>\n",
              "    </tr>\n",
              "    <tr>\n",
              "      <th>3</th>\n",
              "      <td>0.039744</td>\n",
              "      <td>0.003195</td>\n",
              "      <td>0.01</td>\n",
              "      <td>l2</td>\n",
              "      <td>MinMaxScaler()</td>\n",
              "      <td>0.649686</td>\n",
              "      <td>0.016352</td>\n",
              "      <td>28</td>\n",
              "    </tr>\n",
              "    <tr>\n",
              "      <th>2</th>\n",
              "      <td>2.282779</td>\n",
              "      <td>0.003140</td>\n",
              "      <td>0.01</td>\n",
              "      <td>l1</td>\n",
              "      <td>None</td>\n",
              "      <td>0.644025</td>\n",
              "      <td>0.025267</td>\n",
              "      <td>29</td>\n",
              "    </tr>\n",
              "    <tr>\n",
              "      <th>0</th>\n",
              "      <td>0.048881</td>\n",
              "      <td>0.003470</td>\n",
              "      <td>0.01</td>\n",
              "      <td>l1</td>\n",
              "      <td>MinMaxScaler()</td>\n",
              "      <td>0.517610</td>\n",
              "      <td>0.008577</td>\n",
              "      <td>30</td>\n",
              "    </tr>\n",
              "  </tbody>\n",
              "</table>\n",
              "</div>\n",
              "      <button class=\"colab-df-convert\" onclick=\"convertToInteractive('df-5e6f9ae0-48d1-4a9d-89f9-db1cf84ce352')\"\n",
              "              title=\"Convert this dataframe to an interactive table.\"\n",
              "              style=\"display:none;\">\n",
              "        \n",
              "  <svg xmlns=\"http://www.w3.org/2000/svg\" height=\"24px\"viewBox=\"0 0 24 24\"\n",
              "       width=\"24px\">\n",
              "    <path d=\"M0 0h24v24H0V0z\" fill=\"none\"/>\n",
              "    <path d=\"M18.56 5.44l.94 2.06.94-2.06 2.06-.94-2.06-.94-.94-2.06-.94 2.06-2.06.94zm-11 1L8.5 8.5l.94-2.06 2.06-.94-2.06-.94L8.5 2.5l-.94 2.06-2.06.94zm10 10l.94 2.06.94-2.06 2.06-.94-2.06-.94-.94-2.06-.94 2.06-2.06.94z\"/><path d=\"M17.41 7.96l-1.37-1.37c-.4-.4-.92-.59-1.43-.59-.52 0-1.04.2-1.43.59L10.3 9.45l-7.72 7.72c-.78.78-.78 2.05 0 2.83L4 21.41c.39.39.9.59 1.41.59.51 0 1.02-.2 1.41-.59l7.78-7.78 2.81-2.81c.8-.78.8-2.07 0-2.86zM5.41 20L4 18.59l7.72-7.72 1.47 1.35L5.41 20z\"/>\n",
              "  </svg>\n",
              "      </button>\n",
              "      \n",
              "  <style>\n",
              "    .colab-df-container {\n",
              "      display:flex;\n",
              "      flex-wrap:wrap;\n",
              "      gap: 12px;\n",
              "    }\n",
              "\n",
              "    .colab-df-convert {\n",
              "      background-color: #E8F0FE;\n",
              "      border: none;\n",
              "      border-radius: 50%;\n",
              "      cursor: pointer;\n",
              "      display: none;\n",
              "      fill: #1967D2;\n",
              "      height: 32px;\n",
              "      padding: 0 0 0 0;\n",
              "      width: 32px;\n",
              "    }\n",
              "\n",
              "    .colab-df-convert:hover {\n",
              "      background-color: #E2EBFA;\n",
              "      box-shadow: 0px 1px 2px rgba(60, 64, 67, 0.3), 0px 1px 3px 1px rgba(60, 64, 67, 0.15);\n",
              "      fill: #174EA6;\n",
              "    }\n",
              "\n",
              "    [theme=dark] .colab-df-convert {\n",
              "      background-color: #3B4455;\n",
              "      fill: #D2E3FC;\n",
              "    }\n",
              "\n",
              "    [theme=dark] .colab-df-convert:hover {\n",
              "      background-color: #434B5C;\n",
              "      box-shadow: 0px 1px 3px 1px rgba(0, 0, 0, 0.15);\n",
              "      filter: drop-shadow(0px 1px 2px rgba(0, 0, 0, 0.3));\n",
              "      fill: #FFFFFF;\n",
              "    }\n",
              "  </style>\n",
              "\n",
              "      <script>\n",
              "        const buttonEl =\n",
              "          document.querySelector('#df-5e6f9ae0-48d1-4a9d-89f9-db1cf84ce352 button.colab-df-convert');\n",
              "        buttonEl.style.display =\n",
              "          google.colab.kernel.accessAllowed ? 'block' : 'none';\n",
              "\n",
              "        async function convertToInteractive(key) {\n",
              "          const element = document.querySelector('#df-5e6f9ae0-48d1-4a9d-89f9-db1cf84ce352');\n",
              "          const dataTable =\n",
              "            await google.colab.kernel.invokeFunction('convertToInteractive',\n",
              "                                                     [key], {});\n",
              "          if (!dataTable) return;\n",
              "\n",
              "          const docLinkHtml = 'Like what you see? Visit the ' +\n",
              "            '<a target=\"_blank\" href=https://colab.research.google.com/notebooks/data_table.ipynb>data table notebook</a>'\n",
              "            + ' to learn more about interactive tables.';\n",
              "          element.innerHTML = '';\n",
              "          dataTable['output_type'] = 'display_data';\n",
              "          await google.colab.output.renderOutput(dataTable, element);\n",
              "          const docLink = document.createElement('div');\n",
              "          docLink.innerHTML = docLinkHtml;\n",
              "          element.appendChild(docLink);\n",
              "        }\n",
              "      </script>\n",
              "    </div>\n",
              "  </div>\n",
              "  "
            ]
          },
          "metadata": {},
          "execution_count": 37
        }
      ]
    },
    {
      "cell_type": "code",
      "source": [
        "grid.best_estimator_"
      ],
      "metadata": {
        "colab": {
          "base_uri": "https://localhost:8080/"
        },
        "id": "EaEZj2VFckBP",
        "outputId": "39dfb34e-2acc-4159-a362-1093d8fb6692"
      },
      "execution_count": 38,
      "outputs": [
        {
          "output_type": "execute_result",
          "data": {
            "text/plain": [
              "Pipeline(steps=[('scaler', StandardScaler()),\n",
              "                ('logistic_reg',\n",
              "                 LogisticRegression(C=1, max_iter=1000, penalty='l1',\n",
              "                                    solver='saga'))])"
            ]
          },
          "metadata": {},
          "execution_count": 38
        }
      ]
    },
    {
      "cell_type": "code",
      "source": [
        "preprocessor = StandardScaler()\n",
        "scaled_data_train = preprocessor.fit_transform(data_train)\n",
        "logistic_reg = LogisticRegression(C=1,penalty='l1',solver='saga',max_iter=1000)\n",
        "logistic_reg.fit(scaled_data_train,target_train)\n",
        "scaled_data_test = preprocessor.transform(data_test)\n",
        "accuracy =logistic_reg.score(scaled_data_test,target_test)\n",
        "print(f'Accuracy of logistic regression : {accuracy :.3f} ')"
      ],
      "metadata": {
        "colab": {
          "base_uri": "https://localhost:8080/"
        },
        "id": "5zvaNpXTXi0Z",
        "outputId": "43fbbc36-da3b-41dc-96f0-9a7723bf7fbf"
      },
      "execution_count": 40,
      "outputs": [
        {
          "output_type": "stream",
          "name": "stdout",
          "text": [
            "Accuracy of logistic regression : 0.975 \n"
          ]
        }
      ]
    },
    {
      "cell_type": "markdown",
      "source": [
        "Confusion matrix"
      ],
      "metadata": {
        "id": "vHhqHT3s3n-V"
      }
    },
    {
      "cell_type": "code",
      "source": [
        "from sklearn.metrics import confusion_matrix"
      ],
      "metadata": {
        "id": "RAy5rf1_cQut"
      },
      "execution_count": 41,
      "outputs": []
    },
    {
      "cell_type": "code",
      "source": [
        "predicted = logistic_reg.predict(scaled_data_test)\n",
        "con_matrix = confusion_matrix(target_test,predicted)"
      ],
      "metadata": {
        "id": "3Fy2IiJIf7LR"
      },
      "execution_count": 42,
      "outputs": []
    },
    {
      "cell_type": "code",
      "source": [
        "plt.figure(figsize = (10,7))\n",
        "ax = sns.heatmap(con_matrix,annot= True,)\n",
        "ax.set_xlabel('Predicted label')\n",
        "ax.set_ylabel('True label')\n",
        "ax.set_title('Confusion Matrix ')\n"
      ],
      "metadata": {
        "colab": {
          "base_uri": "https://localhost:8080/",
          "height": 458
        },
        "id": "i7m4P-Ogf99t",
        "outputId": "39fb0711-a735-410f-db92-8baf5eca07ce"
      },
      "execution_count": 45,
      "outputs": [
        {
          "output_type": "display_data",
          "data": {
            "text/plain": [
              "<Figure size 720x504 with 2 Axes>"
            ],
            "image/png": "[encoded data removed]"
          },
          "metadata": {
            "needs_background": "light"
          }
        }
      ]
    },
    {
      "cell_type": "markdown",
      "source": [
        "Normalized confusion matrix"
      ],
      "metadata": {
        "id": "r-pggnSA30Ns"
      }
    },
    {
      "cell_type": "code",
      "source": [
        "con_matrix_normalized = con_matrix.astype('float') / con_matrix.sum(axis=1)[:, np.newaxis]"
      ],
      "metadata": {
        "id": "BKZ9pYkyrHn2"
      },
      "execution_count": 46,
      "outputs": []
    },
    {
      "cell_type": "code",
      "source": [
        "plt.figure(figsize = (10,7))\n",
        "ax = sns.heatmap(con_matrix_normalized,annot= True,)\n",
        "ax.set_xlabel('Predicted label')\n",
        "ax.set_ylabel('True label')\n",
        "ax.set_title('Normalized Confusion Matrix ')"
      ],
      "metadata": {
        "colab": {
          "base_uri": "https://localhost:8080/",
          "height": 458
        },
        "id": "9b0DRcKUrwXc",
        "outputId": "1e250527-2a5e-44b5-bc93-ec9d09f42e7c"
      },
      "execution_count": 48,
      "outputs": [
        {
          "output_type": "display_data",
          "data": {
            "text/plain": [
              "<Figure size 720x504 with 2 Axes>"
            ],
            "image/png": "[encoded data removed]"
          },
          "metadata": {
            "needs_background": "light"
          }
        }
      ]
    },
    {
      "cell_type": "markdown",
      "source": [
        "##PCA"
      ],
      "metadata": {
        "id": "-MAi1F6i4DCr"
      }
    },
    {
      "cell_type": "code",
      "source": [
        "from sklearn.pipeline import make_pipeline\n",
        "from sklearn.decomposition import PCA\n",
        "param_grid = {\n",
        "    'pca__n_components' : [0.99, 0.95, 0.9,0.8 ,0.75]\n",
        "}\n",
        "model_pca = make_pipeline(PCA(),LogisticRegression(max_iter=1000))\n",
        "\n",
        "grid_pca = GridSearchCV(model_pca,param_grid=param_grid,cv=5,n_jobs=-1)\n",
        "grid_pca.fit(data_train,target_train)"
      ],
      "metadata": {
        "id": "KN5C_zlAhTqC",
        "colab": {
          "base_uri": "https://localhost:8080/"
        },
        "outputId": "986e78ca-aa97-43e7-cb86-606fafb997db"
      },
      "execution_count": 53,
      "outputs": [
        {
          "output_type": "execute_result",
          "data": {
            "text/plain": [
              "GridSearchCV(cv=5,\n",
              "             estimator=Pipeline(steps=[('pca', PCA()),\n",
              "                                       ('logisticregression',\n",
              "                                        LogisticRegression(max_iter=1000))]),\n",
              "             n_jobs=-1,\n",
              "             param_grid={'pca__n_components': [0.99, 0.95, 0.9, 0.8, 0.75]})"
            ]
          },
          "metadata": {},
          "execution_count": 53
        }
      ]
    },
    {
      "cell_type": "code",
      "source": [
        "pca_cv_result = pd.DataFrame(grid_pca.cv_results_)\n",
        "pca_cv_result = pca_cv_result[ ['mean_fit_time','mean_score_time','param_pca__n_components',\n",
        "       'params','mean_test_score', 'std_test_score','rank_test_score']]"
      ],
      "metadata": {
        "id": "neNZzLEnmM6G"
      },
      "execution_count": 54,
      "outputs": []
    },
    {
      "cell_type": "code",
      "source": [
        "pca_cv_result.sort_values('rank_test_score')"
      ],
      "metadata": {
        "colab": {
          "base_uri": "https://localhost:8080/",
          "height": 206
        },
        "id": "qSNyZL3xnW1-",
        "outputId": "2f8205ee-8332-4ff3-d7b3-c7059e6b3dd1"
      },
      "execution_count": 55,
      "outputs": [
        {
          "output_type": "execute_result",
          "data": {
            "text/plain": [
              "   mean_fit_time  mean_score_time param_pca__n_components  \\\n",
              "2       0.166788         0.003703                     0.9   \n",
              "0       0.265617         0.004391                    0.99   \n",
              "1       0.247802         0.004691                    0.95   \n",
              "3       0.072011         0.003672                     0.8   \n",
              "4       0.069566         0.003253                    0.75   \n",
              "\n",
              "                        params  mean_test_score  std_test_score  \\\n",
              "2   {'pca__n_components': 0.9}         0.956604        0.014259   \n",
              "0  {'pca__n_components': 0.99}         0.954717        0.011699   \n",
              "1  {'pca__n_components': 0.95}         0.954717        0.011699   \n",
              "3   {'pca__n_components': 0.8}         0.800000        0.011356   \n",
              "4  {'pca__n_components': 0.75}         0.800000        0.011356   \n",
              "\n",
              "   rank_test_score  \n",
              "2                1  \n",
              "0                2  \n",
              "1                2  \n",
              "3                4  \n",
              "4                4  "
            ],
            "text/html": [
              "\n",
              "  <div id=\"df-e82fb8ac-a553-4657-a665-c6b919350a70\">\n",
              "    <div class=\"colab-df-container\">\n",
              "      <div>\n",
              "<style scoped>\n",
              "    .dataframe tbody tr th:only-of-type {\n",
              "        vertical-align: middle;\n",
              "    }\n",
              "\n",
              "    .dataframe tbody tr th {\n",
              "        vertical-align: top;\n",
              "    }\n",
              "\n",
              "    .dataframe thead th {\n",
              "        text-align: right;\n",
              "    }\n",
              "</style>\n",
              "<table border=\"1\" class=\"dataframe\">\n",
              "  <thead>\n",
              "    <tr style=\"text-align: right;\">\n",
              "      <th></th>\n",
              "      <th>mean_fit_time</th>\n",
              "      <th>mean_score_time</th>\n",
              "      <th>param_pca__n_components</th>\n",
              "      <th>params</th>\n",
              "      <th>mean_test_score</th>\n",
              "      <th>std_test_score</th>\n",
              "      <th>rank_test_score</th>\n",
              "    </tr>\n",
              "  </thead>\n",
              "  <tbody>\n",
              "    <tr>\n",
              "      <th>2</th>\n",
              "      <td>0.166788</td>\n",
              "      <td>0.003703</td>\n",
              "      <td>0.9</td>\n",
              "      <td>{'pca__n_components': 0.9}</td>\n",
              "      <td>0.956604</td>\n",
              "      <td>0.014259</td>\n",
              "      <td>1</td>\n",
              "    </tr>\n",
              "    <tr>\n",
              "      <th>0</th>\n",
              "      <td>0.265617</td>\n",
              "      <td>0.004391</td>\n",
              "      <td>0.99</td>\n",
              "      <td>{'pca__n_components': 0.99}</td>\n",
              "      <td>0.954717</td>\n",
              "      <td>0.011699</td>\n",
              "      <td>2</td>\n",
              "    </tr>\n",
              "    <tr>\n",
              "      <th>1</th>\n",
              "      <td>0.247802</td>\n",
              "      <td>0.004691</td>\n",
              "      <td>0.95</td>\n",
              "      <td>{'pca__n_components': 0.95}</td>\n",
              "      <td>0.954717</td>\n",
              "      <td>0.011699</td>\n",
              "      <td>2</td>\n",
              "    </tr>\n",
              "    <tr>\n",
              "      <th>3</th>\n",
              "      <td>0.072011</td>\n",
              "      <td>0.003672</td>\n",
              "      <td>0.8</td>\n",
              "      <td>{'pca__n_components': 0.8}</td>\n",
              "      <td>0.800000</td>\n",
              "      <td>0.011356</td>\n",
              "      <td>4</td>\n",
              "    </tr>\n",
              "    <tr>\n",
              "      <th>4</th>\n",
              "      <td>0.069566</td>\n",
              "      <td>0.003253</td>\n",
              "      <td>0.75</td>\n",
              "      <td>{'pca__n_components': 0.75}</td>\n",
              "      <td>0.800000</td>\n",
              "      <td>0.011356</td>\n",
              "      <td>4</td>\n",
              "    </tr>\n",
              "  </tbody>\n",
              "</table>\n",
              "</div>\n",
              "      <button class=\"colab-df-convert\" onclick=\"convertToInteractive('df-e82fb8ac-a553-4657-a665-c6b919350a70')\"\n",
              "              title=\"Convert this dataframe to an interactive table.\"\n",
              "              style=\"display:none;\">\n",
              "        \n",
              "  <svg xmlns=\"http://www.w3.org/2000/svg\" height=\"24px\"viewBox=\"0 0 24 24\"\n",
              "       width=\"24px\">\n",
              "    <path d=\"M0 0h24v24H0V0z\" fill=\"none\"/>\n",
              "    <path d=\"M18.56 5.44l.94 2.06.94-2.06 2.06-.94-2.06-.94-.94-2.06-.94 2.06-2.06.94zm-11 1L8.5 8.5l.94-2.06 2.06-.94-2.06-.94L8.5 2.5l-.94 2.06-2.06.94zm10 10l.94 2.06.94-2.06 2.06-.94-2.06-.94-.94-2.06-.94 2.06-2.06.94z\"/><path d=\"M17.41 7.96l-1.37-1.37c-.4-.4-.92-.59-1.43-.59-.52 0-1.04.2-1.43.59L10.3 9.45l-7.72 7.72c-.78.78-.78 2.05 0 2.83L4 21.41c.39.39.9.59 1.41.59.51 0 1.02-.2 1.41-.59l7.78-7.78 2.81-2.81c.8-.78.8-2.07 0-2.86zM5.41 20L4 18.59l7.72-7.72 1.47 1.35L5.41 20z\"/>\n",
              "  </svg>\n",
              "      </button>\n",
              "      \n",
              "  <style>\n",
              "    .colab-df-container {\n",
              "      display:flex;\n",
              "      flex-wrap:wrap;\n",
              "      gap: 12px;\n",
              "    }\n",
              "\n",
              "    .colab-df-convert {\n",
              "      background-color: #E8F0FE;\n",
              "      border: none;\n",
              "      border-radius: 50%;\n",
              "      cursor: pointer;\n",
              "      display: none;\n",
              "      fill: #1967D2;\n",
              "      height: 32px;\n",
              "      padding: 0 0 0 0;\n",
              "      width: 32px;\n",
              "    }\n",
              "\n",
              "    .colab-df-convert:hover {\n",
              "      background-color: #E2EBFA;\n",
              "      box-shadow: 0px 1px 2px rgba(60, 64, 67, 0.3), 0px 1px 3px 1px rgba(60, 64, 67, 0.15);\n",
              "      fill: #174EA6;\n",
              "    }\n",
              "\n",
              "    [theme=dark] .colab-df-convert {\n",
              "      background-color: #3B4455;\n",
              "      fill: #D2E3FC;\n",
              "    }\n",
              "\n",
              "    [theme=dark] .colab-df-convert:hover {\n",
              "      background-color: #434B5C;\n",
              "      box-shadow: 0px 1px 3px 1px rgba(0, 0, 0, 0.15);\n",
              "      filter: drop-shadow(0px 1px 2px rgba(0, 0, 0, 0.3));\n",
              "      fill: #FFFFFF;\n",
              "    }\n",
              "  </style>\n",
              "\n",
              "      <script>\n",
              "        const buttonEl =\n",
              "          document.querySelector('#df-e82fb8ac-a553-4657-a665-c6b919350a70 button.colab-df-convert');\n",
              "        buttonEl.style.display =\n",
              "          google.colab.kernel.accessAllowed ? 'block' : 'none';\n",
              "\n",
              "        async function convertToInteractive(key) {\n",
              "          const element = document.querySelector('#df-e82fb8ac-a553-4657-a665-c6b919350a70');\n",
              "          const dataTable =\n",
              "            await google.colab.kernel.invokeFunction('convertToInteractive',\n",
              "                                                     [key], {});\n",
              "          if (!dataTable) return;\n",
              "\n",
              "          const docLinkHtml = 'Like what you see? Visit the ' +\n",
              "            '<a target=\"_blank\" href=https://colab.research.google.com/notebooks/data_table.ipynb>data table notebook</a>'\n",
              "            + ' to learn more about interactive tables.';\n",
              "          element.innerHTML = '';\n",
              "          dataTable['output_type'] = 'display_data';\n",
              "          await google.colab.output.renderOutput(dataTable, element);\n",
              "          const docLink = document.createElement('div');\n",
              "          docLink.innerHTML = docLinkHtml;\n",
              "          element.appendChild(docLink);\n",
              "        }\n",
              "      </script>\n",
              "    </div>\n",
              "  </div>\n",
              "  "
            ]
          },
          "metadata": {},
          "execution_count": 55
        }
      ]
    },
    {
      "cell_type": "code",
      "source": [
        "pca_score = grid_pca.score(data_test,target_test)\n",
        "\n",
        "print(f'Accuracy of pca model : {pca_score:.3f}')"
      ],
      "metadata": {
        "colab": {
          "base_uri": "https://localhost:8080/"
        },
        "id": "FfyspBpwpS9s",
        "outputId": "ca74ff0e-467a-48af-9e01-b1cef90033f4"
      },
      "execution_count": 52,
      "outputs": [
        {
          "output_type": "stream",
          "name": "stdout",
          "text": [
            "Accuracy of pca model : 0.962\n"
          ]
        }
      ]
    },
    {
      "cell_type": "markdown",
      "source": [
        "# Creating new dataset by labelling"
      ],
      "metadata": {
        "id": "Ee0AQvZ6tOF_"
      }
    },
    {
      "cell_type": "code",
      "source": [
        "others_classes = [1,2,3]\n",
        "\n",
        "def return_label(col):\n",
        "  \"\"\"\n",
        "  Return new label for instance\n",
        "\n",
        "  Parameters\n",
        "  ----------\n",
        "  col : pd.Series\n",
        "       target column of dataset\n",
        "  \n",
        "  Returns\n",
        "  -------\n",
        "  int\n",
        "      return 4 if label of instance is one of 1,2,3 otherwise 0\n",
        "  \"\"\"\n",
        "  if col in others_classes:\n",
        "    return 4\n",
        "  else:\n",
        "    return 0"
      ],
      "metadata": {
        "id": "oFivgaCHpebX"
      },
      "execution_count": 62,
      "outputs": []
    },
    {
      "cell_type": "code",
      "source": [
        "new_dataset = pd.read_csv('./files/train.csv')\n",
        "new_dataset['new_price_range'] = new_dataset.price_range.apply(return_label)\n",
        "new_dataset.drop('price_range',axis=1,inplace=True)"
      ],
      "metadata": {
        "id": "AWGdmyhgp-7j"
      },
      "execution_count": 63,
      "outputs": []
    },
    {
      "cell_type": "code",
      "source": [
        "new_dataset.new_price_range.value_counts().plot(kind='bar')"
      ],
      "metadata": {
        "colab": {
          "base_uri": "https://localhost:8080/",
          "height": 279
        },
        "id": "Gs7BycRnqNrc",
        "outputId": "daac22cc-e20b-474c-e038-59ac1a7cde71"
      },
      "execution_count": 64,
      "outputs": [
        {
          "output_type": "execute_result",
          "data": {
            "text/plain": [
              "<matplotlib.axes._subplots.AxesSubplot at 0x7f0f829fc910>"
            ]
          },
          "metadata": {},
          "execution_count": 64
        },
        {
          "output_type": "display_data",
          "data": {
            "text/plain": [
              "<Figure size 432x288 with 1 Axes>"
            ],
            "image/png": "[encoded data removed]"
          },
          "metadata": {
            "needs_background": "light"
          }
        }
      ]
    },
    {
      "cell_type": "code",
      "source": [
        "new_dataset.new_price_range.value_counts()/len(new_dataset)"
      ],
      "metadata": {
        "colab": {
          "base_uri": "https://localhost:8080/"
        },
        "id": "Y7-Q7kEh0qUz",
        "outputId": "776edc5c-c8fb-4713-be96-061a39e70065"
      },
      "execution_count": 65,
      "outputs": [
        {
          "output_type": "execute_result",
          "data": {
            "text/plain": [
              "4    0.75\n",
              "0    0.25\n",
              "Name: new_price_range, dtype: float64"
            ]
          },
          "metadata": {},
          "execution_count": 65
        }
      ]
    },
    {
      "cell_type": "code",
      "source": [
        "new_dataset.head()"
      ],
      "metadata": {
        "colab": {
          "base_uri": "https://localhost:8080/",
          "height": 300
        },
        "id": "l4pEdt0NqY8A",
        "outputId": "64343f00-f6d5-44d3-c141-0cd0d10f9a64"
      },
      "execution_count": 66,
      "outputs": [
        {
          "output_type": "execute_result",
          "data": {
            "text/plain": [
              "   battery_power  blue  clock_speed  dual_sim  fc  four_g  int_memory  m_dep  \\\n",
              "0            842     0          2.2         0   1       0           7    0.6   \n",
              "1           1021     1          0.5         1   0       1          53    0.7   \n",
              "2            563     1          0.5         1   2       1          41    0.9   \n",
              "3            615     1          2.5         0   0       0          10    0.8   \n",
              "4           1821     1          1.2         0  13       1          44    0.6   \n",
              "\n",
              "   mobile_wt  n_cores  ...  px_height  px_width   ram  sc_h  sc_w  talk_time  \\\n",
              "0        188        2  ...         20       756  2549     9     7         19   \n",
              "1        136        3  ...        905      1988  2631    17     3          7   \n",
              "2        145        5  ...       1263      1716  2603    11     2          9   \n",
              "3        131        6  ...       1216      1786  2769    16     8         11   \n",
              "4        141        2  ...       1208      1212  1411     8     2         15   \n",
              "\n",
              "   three_g  touch_screen  wifi  new_price_range  \n",
              "0        0             0     1                4  \n",
              "1        1             1     0                4  \n",
              "2        1             1     0                4  \n",
              "3        1             0     0                4  \n",
              "4        1             1     0                4  \n",
              "\n",
              "[5 rows x 21 columns]"
            ],
            "text/html": [
              "\n",
              "  <div id=\"df-cd99c165-ba0f-4547-b91e-c7f0ad21282c\">\n",
              "    <div class=\"colab-df-container\">\n",
              "      <div>\n",
              "<style scoped>\n",
              "    .dataframe tbody tr th:only-of-type {\n",
              "        vertical-align: middle;\n",
              "    }\n",
              "\n",
              "    .dataframe tbody tr th {\n",
              "        vertical-align: top;\n",
              "    }\n",
              "\n",
              "    .dataframe thead th {\n",
              "        text-align: right;\n",
              "    }\n",
              "</style>\n",
              "<table border=\"1\" class=\"dataframe\">\n",
              "  <thead>\n",
              "    <tr style=\"text-align: right;\">\n",
              "      <th></th>\n",
              "      <th>battery_power</th>\n",
              "      <th>blue</th>\n",
              "      <th>clock_speed</th>\n",
              "      <th>dual_sim</th>\n",
              "      <th>fc</th>\n",
              "      <th>four_g</th>\n",
              "      <th>int_memory</th>\n",
              "      <th>m_dep</th>\n",
              "      <th>mobile_wt</th>\n",
              "      <th>n_cores</th>\n",
              "      <th>...</th>\n",
              "      <th>px_height</th>\n",
              "      <th>px_width</th>\n",
              "      <th>ram</th>\n",
              "      <th>sc_h</th>\n",
              "      <th>sc_w</th>\n",
              "      <th>talk_time</th>\n",
              "      <th>three_g</th>\n",
              "      <th>touch_screen</th>\n",
              "      <th>wifi</th>\n",
              "      <th>new_price_range</th>\n",
              "    </tr>\n",
              "  </thead>\n",
              "  <tbody>\n",
              "    <tr>\n",
              "      <th>0</th>\n",
              "      <td>842</td>\n",
              "      <td>0</td>\n",
              "      <td>2.2</td>\n",
              "      <td>0</td>\n",
              "      <td>1</td>\n",
              "      <td>0</td>\n",
              "      <td>7</td>\n",
              "      <td>0.6</td>\n",
              "      <td>188</td>\n",
              "      <td>2</td>\n",
              "      <td>...</td>\n",
              "      <td>20</td>\n",
              "      <td>756</td>\n",
              "      <td>2549</td>\n",
              "      <td>9</td>\n",
              "      <td>7</td>\n",
              "      <td>19</td>\n",
              "      <td>0</td>\n",
              "      <td>0</td>\n",
              "      <td>1</td>\n",
              "      <td>4</td>\n",
              "    </tr>\n",
              "    <tr>\n",
              "      <th>1</th>\n",
              "      <td>1021</td>\n",
              "      <td>1</td>\n",
              "      <td>0.5</td>\n",
              "      <td>1</td>\n",
              "      <td>0</td>\n",
              "      <td>1</td>\n",
              "      <td>53</td>\n",
              "      <td>0.7</td>\n",
              "      <td>136</td>\n",
              "      <td>3</td>\n",
              "      <td>...</td>\n",
              "      <td>905</td>\n",
              "      <td>1988</td>\n",
              "      <td>2631</td>\n",
              "      <td>17</td>\n",
              "      <td>3</td>\n",
              "      <td>7</td>\n",
              "      <td>1</td>\n",
              "      <td>1</td>\n",
              "      <td>0</td>\n",
              "      <td>4</td>\n",
              "    </tr>\n",
              "    <tr>\n",
              "      <th>2</th>\n",
              "      <td>563</td>\n",
              "      <td>1</td>\n",
              "      <td>0.5</td>\n",
              "      <td>1</td>\n",
              "      <td>2</td>\n",
              "      <td>1</td>\n",
              "      <td>41</td>\n",
              "      <td>0.9</td>\n",
              "      <td>145</td>\n",
              "      <td>5</td>\n",
              "      <td>...</td>\n",
              "      <td>1263</td>\n",
              "      <td>1716</td>\n",
              "      <td>2603</td>\n",
              "      <td>11</td>\n",
              "      <td>2</td>\n",
              "      <td>9</td>\n",
              "      <td>1</td>\n",
              "      <td>1</td>\n",
              "      <td>0</td>\n",
              "      <td>4</td>\n",
              "    </tr>\n",
              "    <tr>\n",
              "      <th>3</th>\n",
              "      <td>615</td>\n",
              "      <td>1</td>\n",
              "      <td>2.5</td>\n",
              "      <td>0</td>\n",
              "      <td>0</td>\n",
              "      <td>0</td>\n",
              "      <td>10</td>\n",
              "      <td>0.8</td>\n",
              "      <td>131</td>\n",
              "      <td>6</td>\n",
              "      <td>...</td>\n",
              "      <td>1216</td>\n",
              "      <td>1786</td>\n",
              "      <td>2769</td>\n",
              "      <td>16</td>\n",
              "      <td>8</td>\n",
              "      <td>11</td>\n",
              "      <td>1</td>\n",
              "      <td>0</td>\n",
              "      <td>0</td>\n",
              "      <td>4</td>\n",
              "    </tr>\n",
              "    <tr>\n",
              "      <th>4</th>\n",
              "      <td>1821</td>\n",
              "      <td>1</td>\n",
              "      <td>1.2</td>\n",
              "      <td>0</td>\n",
              "      <td>13</td>\n",
              "      <td>1</td>\n",
              "      <td>44</td>\n",
              "      <td>0.6</td>\n",
              "      <td>141</td>\n",
              "      <td>2</td>\n",
              "      <td>...</td>\n",
              "      <td>1208</td>\n",
              "      <td>1212</td>\n",
              "      <td>1411</td>\n",
              "      <td>8</td>\n",
              "      <td>2</td>\n",
              "      <td>15</td>\n",
              "      <td>1</td>\n",
              "      <td>1</td>\n",
              "      <td>0</td>\n",
              "      <td>4</td>\n",
              "    </tr>\n",
              "  </tbody>\n",
              "</table>\n",
              "<p>5 rows × 21 columns</p>\n",
              "</div>\n",
              "      <button class=\"colab-df-convert\" onclick=\"convertToInteractive('df-cd99c165-ba0f-4547-b91e-c7f0ad21282c')\"\n",
              "              title=\"Convert this dataframe to an interactive table.\"\n",
              "              style=\"display:none;\">\n",
              "        \n",
              "  <svg xmlns=\"http://www.w3.org/2000/svg\" height=\"24px\"viewBox=\"0 0 24 24\"\n",
              "       width=\"24px\">\n",
              "    <path d=\"M0 0h24v24H0V0z\" fill=\"none\"/>\n",
              "    <path d=\"M18.56 5.44l.94 2.06.94-2.06 2.06-.94-2.06-.94-.94-2.06-.94 2.06-2.06.94zm-11 1L8.5 8.5l.94-2.06 2.06-.94-2.06-.94L8.5 2.5l-.94 2.06-2.06.94zm10 10l.94 2.06.94-2.06 2.06-.94-2.06-.94-.94-2.06-.94 2.06-2.06.94z\"/><path d=\"M17.41 7.96l-1.37-1.37c-.4-.4-.92-.59-1.43-.59-.52 0-1.04.2-1.43.59L10.3 9.45l-7.72 7.72c-.78.78-.78 2.05 0 2.83L4 21.41c.39.39.9.59 1.41.59.51 0 1.02-.2 1.41-.59l7.78-7.78 2.81-2.81c.8-.78.8-2.07 0-2.86zM5.41 20L4 18.59l7.72-7.72 1.47 1.35L5.41 20z\"/>\n",
              "  </svg>\n",
              "      </button>\n",
              "      \n",
              "  <style>\n",
              "    .colab-df-container {\n",
              "      display:flex;\n",
              "      flex-wrap:wrap;\n",
              "      gap: 12px;\n",
              "    }\n",
              "\n",
              "    .colab-df-convert {\n",
              "      background-color: #E8F0FE;\n",
              "      border: none;\n",
              "      border-radius: 50%;\n",
              "      cursor: pointer;\n",
              "      display: none;\n",
              "      fill: #1967D2;\n",
              "      height: 32px;\n",
              "      padding: 0 0 0 0;\n",
              "      width: 32px;\n",
              "    }\n",
              "\n",
              "    .colab-df-convert:hover {\n",
              "      background-color: #E2EBFA;\n",
              "      box-shadow: 0px 1px 2px rgba(60, 64, 67, 0.3), 0px 1px 3px 1px rgba(60, 64, 67, 0.15);\n",
              "      fill: #174EA6;\n",
              "    }\n",
              "\n",
              "    [theme=dark] .colab-df-convert {\n",
              "      background-color: #3B4455;\n",
              "      fill: #D2E3FC;\n",
              "    }\n",
              "\n",
              "    [theme=dark] .colab-df-convert:hover {\n",
              "      background-color: #434B5C;\n",
              "      box-shadow: 0px 1px 3px 1px rgba(0, 0, 0, 0.15);\n",
              "      filter: drop-shadow(0px 1px 2px rgba(0, 0, 0, 0.3));\n",
              "      fill: #FFFFFF;\n",
              "    }\n",
              "  </style>\n",
              "\n",
              "      <script>\n",
              "        const buttonEl =\n",
              "          document.querySelector('#df-cd99c165-ba0f-4547-b91e-c7f0ad21282c button.colab-df-convert');\n",
              "        buttonEl.style.display =\n",
              "          google.colab.kernel.accessAllowed ? 'block' : 'none';\n",
              "\n",
              "        async function convertToInteractive(key) {\n",
              "          const element = document.querySelector('#df-cd99c165-ba0f-4547-b91e-c7f0ad21282c');\n",
              "          const dataTable =\n",
              "            await google.colab.kernel.invokeFunction('convertToInteractive',\n",
              "                                                     [key], {});\n",
              "          if (!dataTable) return;\n",
              "\n",
              "          const docLinkHtml = 'Like what you see? Visit the ' +\n",
              "            '<a target=\"_blank\" href=https://colab.research.google.com/notebooks/data_table.ipynb>data table notebook</a>'\n",
              "            + ' to learn more about interactive tables.';\n",
              "          element.innerHTML = '';\n",
              "          dataTable['output_type'] = 'display_data';\n",
              "          await google.colab.output.renderOutput(dataTable, element);\n",
              "          const docLink = document.createElement('div');\n",
              "          docLink.innerHTML = docLinkHtml;\n",
              "          element.appendChild(docLink);\n",
              "        }\n",
              "      </script>\n",
              "    </div>\n",
              "  </div>\n",
              "  "
            ]
          },
          "metadata": {},
          "execution_count": 66
        }
      ]
    },
    {
      "cell_type": "code",
      "source": [
        "new_target = new_dataset['new_price_range']\n",
        "new_data = new_dataset.drop('new_price_range',axis=1)\n",
        "\n",
        "new_data_train , new_data_test , new_target_train,new_target_test = train_test_split(new_data,new_target,test_size=0.2,random_state=42)\n",
        "\n",
        "preprocessor = StandardScaler()\n",
        "scaled_new_data_train = preprocessor.fit_transform(new_data_train)\n",
        "logistic_reg = LogisticRegression()\n",
        "logistic_reg.fit(scaled_new_data_train,new_target_train)\n",
        "scaled_new_data_test = preprocessor.transform(new_data_test)\n",
        "lr_score = logistic_reg.score(scaled_new_data_test,new_target_test)\n",
        "print(f'Accuracy of logistic regression : {lr_score:.3f}')"
      ],
      "metadata": {
        "colab": {
          "base_uri": "https://localhost:8080/"
        },
        "id": "w3bvovWFq_SA",
        "outputId": "d4c52473-c6a7-4271-c086-6ee5152ad3e5"
      },
      "execution_count": 67,
      "outputs": [
        {
          "output_type": "stream",
          "name": "stdout",
          "text": [
            "Accuracy of logistic regression : 0.990\n"
          ]
        }
      ]
    },
    {
      "cell_type": "markdown",
      "source": [
        "Confusion matrix"
      ],
      "metadata": {
        "id": "Si-nhq85Z7ri"
      }
    },
    {
      "cell_type": "code",
      "source": [
        "new_predicted = logistic_reg.predict(scaled_new_data_test)\n",
        "new_con_matrix = confusion_matrix(new_target_test,new_predicted,labels=logistic_reg.classes_)"
      ],
      "metadata": {
        "id": "llQjeYTTy6BT"
      },
      "execution_count": 68,
      "outputs": []
    },
    {
      "cell_type": "code",
      "source": [
        "plt.figure(figsize = (10,7))\n",
        "ax = sns.heatmap(new_con_matrix,annot= True,)\n",
        "ax.set_xlabel('Predicted label')\n",
        "ax.set_ylabel('True label')\n",
        "ax.set_title('Confusion Matrix ')"
      ],
      "metadata": {
        "colab": {
          "base_uri": "https://localhost:8080/",
          "height": 475
        },
        "id": "0Q9o_BrjzHC3",
        "outputId": "2bd518eb-850b-41f6-c716-10e507460620"
      },
      "execution_count": 77,
      "outputs": [
        {
          "output_type": "execute_result",
          "data": {
            "text/plain": [
              "Text(0.5, 1.0, 'Confusion Matrix ')"
            ]
          },
          "metadata": {},
          "execution_count": 77
        },
        {
          "output_type": "display_data",
          "data": {
            "text/plain": [
              "<Figure size 720x504 with 2 Axes>"
            ],
            "image/png": "[encoded data removed]"
          },
          "metadata": {
            "needs_background": "light"
          }
        }
      ]
    },
    {
      "cell_type": "code",
      "source": [
        "new_con_matrix"
      ],
      "metadata": {
        "colab": {
          "base_uri": "https://localhost:8080/"
        },
        "id": "Vd4GPngqzS3E",
        "outputId": "e42e2f62-0803-4387-d38e-4f3dcad6662f"
      },
      "execution_count": 70,
      "outputs": [
        {
          "output_type": "execute_result",
          "data": {
            "text/plain": [
              "array([[101,   4],\n",
              "       [  0, 295]])"
            ]
          },
          "metadata": {},
          "execution_count": 70
        }
      ]
    },
    {
      "cell_type": "markdown",
      "source": [
        "Normalized confusion matrix"
      ],
      "metadata": {
        "id": "ju_89yGQaFU0"
      }
    },
    {
      "cell_type": "code",
      "source": [
        "new_con_matrix_normalized = new_con_matrix.astype('float') / new_con_matrix.sum(axis=1)[:, np.newaxis]"
      ],
      "metadata": {
        "id": "sSnJenbV1J6a"
      },
      "execution_count": 74,
      "outputs": []
    },
    {
      "cell_type": "code",
      "source": [
        "plt.figure(figsize = (10,7))\n",
        "ax = sns.heatmap(new_con_matrix_normalized,annot= True,)\n",
        "ax.set_xlabel('Predicted label')\n",
        "ax.set_ylabel('True label')\n",
        "ax.set_title('Normalized Confusion Matrix ')"
      ],
      "metadata": {
        "colab": {
          "base_uri": "https://localhost:8080/",
          "height": 475
        },
        "id": "dm6g_6Ds4Bkd",
        "outputId": "b466024c-d6c7-4ef0-a52f-1827a3675f46"
      },
      "execution_count": 78,
      "outputs": [
        {
          "output_type": "execute_result",
          "data": {
            "text/plain": [
              "Text(0.5, 1.0, 'Normalized Confusion Matrix ')"
            ]
          },
          "metadata": {},
          "execution_count": 78
        },
        {
          "output_type": "display_data",
          "data": {
            "text/plain": [
              "<Figure size 720x504 with 2 Axes>"
            ],
            "image/png": "[encoded data removed]"
          },
          "metadata": {
            "needs_background": "light"
          }
        }
      ]
    },
    {
      "cell_type": "markdown",
      "source": [
        "Classification report"
      ],
      "metadata": {
        "id": "07DYRReaaTPL"
      }
    },
    {
      "cell_type": "code",
      "source": [
        "from sklearn.metrics import f1_score, classification_report"
      ],
      "metadata": {
        "id": "OYnRLTEL4GJM"
      },
      "execution_count": 72,
      "outputs": []
    },
    {
      "cell_type": "code",
      "source": [
        "report = classification_report(new_predicted,new_target_test)\n",
        "print(report)"
      ],
      "metadata": {
        "colab": {
          "base_uri": "https://localhost:8080/"
        },
        "id": "0Pfdcaxm-EID",
        "outputId": "cc4ac0e5-5099-4c25-e1cc-4baf900cef6e"
      },
      "execution_count": 73,
      "outputs": [
        {
          "output_type": "stream",
          "name": "stdout",
          "text": [
            "              precision    recall  f1-score   support\n",
            "\n",
            "           0       0.96      1.00      0.98       101\n",
            "           4       1.00      0.99      0.99       299\n",
            "\n",
            "    accuracy                           0.99       400\n",
            "   macro avg       0.98      0.99      0.99       400\n",
            "weighted avg       0.99      0.99      0.99       400\n",
            "\n"
          ]
        }
      ]
    },
    {
      "cell_type": "markdown",
      "source": [
        "Upsampling minority class\n"
      ],
      "metadata": {
        "id": "Lr2lhA7VlvEb"
      }
    },
    {
      "cell_type": "code",
      "source": [
        "from sklearn.utils import resample\n",
        "majority = new_dataset[new_dataset['new_price_range' ]== 4]\n",
        "minority = new_dataset[new_dataset['new_price_range' ]== 0]\n",
        "\n",
        "minority_upsampled = resample(minority,replace=True,random_state=42,n_samples= 1500)\n",
        "\n",
        "upsampled_dataset = pd.concat([majority,minority_upsampled])\n",
        "\n",
        "upsampled_dataset.new_price_range.value_counts()"
      ],
      "metadata": {
        "colab": {
          "base_uri": "https://localhost:8080/"
        },
        "id": "iEGupk3NcHap",
        "outputId": "881fabc0-bf24-43a8-e33f-7710d4c9533f"
      },
      "execution_count": 80,
      "outputs": [
        {
          "output_type": "execute_result",
          "data": {
            "text/plain": [
              "4    1500\n",
              "0    1500\n",
              "Name: new_price_range, dtype: int64"
            ]
          },
          "metadata": {},
          "execution_count": 80
        }
      ]
    },
    {
      "cell_type": "code",
      "source": [
        "upsampled_target = upsampled_dataset['new_price_range']\n",
        "upsampled_data = upsampled_dataset.drop('new_price_range',axis=1)\n",
        "\n",
        "upsampled_train , upsampled_test ,upsampled_target_train,upsampled_target_test = train_test_split(upsampled_data,upsampled_target,test_size=0.2,random_state=42)\n",
        "preprocessor = StandardScaler()\n",
        "scaled_upsampled_train = preprocessor.fit_transform(upsampled_train)\n",
        "logistic_reg = LogisticRegression()\n",
        "logistic_reg.fit(scaled_upsampled_train,upsampled_target_train)\n",
        "scaled_upsampled_test = preprocessor.transform(upsampled_test)\n",
        "acc_upsampled = logistic_reg.score(scaled_upsampled_test,upsampled_target_test)\n",
        "print(f'Accuracy of upsampled model : {acc_upsampled:.3f} ')"
      ],
      "metadata": {
        "colab": {
          "base_uri": "https://localhost:8080/"
        },
        "id": "PMOZjT3Wk00T",
        "outputId": "05f05b9e-6443-4bac-bdc5-eaff83c35e2d"
      },
      "execution_count": 81,
      "outputs": [
        {
          "output_type": "stream",
          "name": "stdout",
          "text": [
            "Accuracy of upsampled model : 0.983 \n"
          ]
        }
      ]
    },
    {
      "cell_type": "markdown",
      "source": [
        "Classification report"
      ],
      "metadata": {
        "id": "546EISnMb5r8"
      }
    },
    {
      "cell_type": "code",
      "source": [
        "upsampled_predicted = logistic_reg.predict(scaled_upsampled_test)\n",
        "upsampled_con_matrix = confusion_matrix(upsampled_target_test,upsampled_predicted,labels=logistic_reg.classes_)"
      ],
      "metadata": {
        "id": "s2n1u5IIl6lZ"
      },
      "execution_count": 82,
      "outputs": []
    },
    {
      "cell_type": "code",
      "source": [
        "report = classification_report(upsampled_target_test,upsampled_predicted,labels=logistic_reg.classes_)"
      ],
      "metadata": {
        "id": "iR9IitrSmOKS"
      },
      "execution_count": 83,
      "outputs": []
    },
    {
      "cell_type": "code",
      "source": [
        "print(report)"
      ],
      "metadata": {
        "colab": {
          "base_uri": "https://localhost:8080/"
        },
        "id": "dWHbozsymV5t",
        "outputId": "109e2d46-518f-4c96-f636-80b4255bbd57"
      },
      "execution_count": 84,
      "outputs": [
        {
          "output_type": "stream",
          "name": "stdout",
          "text": [
            "              precision    recall  f1-score   support\n",
            "\n",
            "           0       0.97      1.00      0.98       287\n",
            "           4       1.00      0.97      0.98       313\n",
            "\n",
            "    accuracy                           0.98       600\n",
            "   macro avg       0.98      0.98      0.98       600\n",
            "weighted avg       0.98      0.98      0.98       600\n",
            "\n"
          ]
        }
      ]
    },
    {
      "cell_type": "markdown",
      "source": [
        "# EXTRA EXERCISES\n"
      ],
      "metadata": {
        "id": "WzESA5I9DGJ-"
      }
    },
    {
      "cell_type": "code",
      "source": [
        "!python -m pip install \"dask[complete]\""
      ],
      "metadata": {
        "colab": {
          "base_uri": "https://localhost:8080/"
        },
        "id": "rdxUIwln-x7J",
        "outputId": "ebb259ee-696c-4caa-9392-cc84b2f92fa7"
      },
      "execution_count": 86,
      "outputs": [
        {
          "output_type": "stream",
          "name": "stdout",
          "text": [
            "Requirement already satisfied: dask[complete] in /usr/local/lib/python3.7/dist-packages (2.12.0)\n",
            "Requirement already satisfied: pandas>=0.23.0 in /usr/local/lib/python3.7/dist-packages (from dask[complete]) (1.3.5)\n",
            "Requirement already satisfied: bokeh>=1.0.0 in /usr/local/lib/python3.7/dist-packages (from dask[complete]) (2.3.3)\n",
            "Collecting fsspec>=0.6.0\n",
            "  Downloading fsspec-2022.3.0-py3-none-any.whl (136 kB)\n",
            "\u001b[K     |████████████████████████████████| 136 kB 5.1 MB/s \n",
            "\u001b[?25hCollecting partd>=0.3.10\n",
            "  Downloading partd-1.2.0-py3-none-any.whl (19 kB)\n",
            "Requirement already satisfied: PyYaml in /usr/local/lib/python3.7/dist-packages (from dask[complete]) (3.13)\n",
            "Requirement already satisfied: numpy>=1.13.0 in /usr/local/lib/python3.7/dist-packages (from dask[complete]) (1.21.5)\n",
            "Requirement already satisfied: cloudpickle>=0.2.1 in /usr/local/lib/python3.7/dist-packages (from dask[complete]) (1.3.0)\n",
            "Collecting distributed>=2.0\n",
            "  Downloading distributed-2022.2.0-py3-none-any.whl (837 kB)\n",
            "\u001b[K     |████████████████████████████████| 837 kB 47.9 MB/s \n",
            "\u001b[?25hRequirement already satisfied: toolz>=0.7.3 in /usr/local/lib/python3.7/dist-packages (from dask[complete]) (0.11.2)\n",
            "Requirement already satisfied: python-dateutil>=2.1 in /usr/local/lib/python3.7/dist-packages (from bokeh>=1.0.0->dask[complete]) (2.8.2)\n",
            "Requirement already satisfied: typing-extensions>=3.7.4 in /usr/local/lib/python3.7/dist-packages (from bokeh>=1.0.0->dask[complete]) (3.10.0.2)\n",
            "Requirement already satisfied: packaging>=16.8 in /usr/local/lib/python3.7/dist-packages (from bokeh>=1.0.0->dask[complete]) (21.3)\n",
            "Requirement already satisfied: Jinja2>=2.9 in /usr/local/lib/python3.7/dist-packages (from bokeh>=1.0.0->dask[complete]) (2.11.3)\n",
            "Requirement already satisfied: pillow>=7.1.0 in /usr/local/lib/python3.7/dist-packages (from bokeh>=1.0.0->dask[complete]) (7.1.2)\n",
            "Requirement already satisfied: tornado>=5.1 in /usr/local/lib/python3.7/dist-packages (from bokeh>=1.0.0->dask[complete]) (5.1.1)\n",
            "Requirement already satisfied: tblib>=1.6.0 in /usr/local/lib/python3.7/dist-packages (from distributed>=2.0->dask[complete]) (1.7.0)\n",
            "Requirement already satisfied: setuptools in /usr/local/lib/python3.7/dist-packages (from distributed>=2.0->dask[complete]) (57.4.0)\n",
            "Requirement already satisfied: click>=6.6 in /usr/local/lib/python3.7/dist-packages (from distributed>=2.0->dask[complete]) (7.1.2)\n",
            "Requirement already satisfied: psutil>=5.0 in /usr/local/lib/python3.7/dist-packages (from distributed>=2.0->dask[complete]) (5.4.8)\n",
            "Collecting cloudpickle>=0.2.1\n",
            "  Downloading cloudpickle-2.0.0-py3-none-any.whl (25 kB)\n",
            "Requirement already satisfied: sortedcontainers!=2.0.0,!=2.0.1 in /usr/local/lib/python3.7/dist-packages (from distributed>=2.0->dask[complete]) (2.4.0)\n",
            "Requirement already satisfied: msgpack>=0.6.0 in /usr/local/lib/python3.7/dist-packages (from distributed>=2.0->dask[complete]) (1.0.3)\n",
            "Requirement already satisfied: zict>=0.1.3 in /usr/local/lib/python3.7/dist-packages (from distributed>=2.0->dask[complete]) (2.1.0)\n",
            "Collecting distributed>=2.0\n",
            "  Downloading distributed-2022.1.1-py3-none-any.whl (830 kB)\n",
            "\u001b[K     |████████████████████████████████| 830 kB 40.4 MB/s \n",
            "\u001b[?25h  Downloading distributed-2022.1.0-py3-none-any.whl (822 kB)\n",
            "\u001b[K     |████████████████████████████████| 822 kB 53.7 MB/s \n",
            "\u001b[?25h  Downloading distributed-2021.12.0-py3-none-any.whl (802 kB)\n",
            "\u001b[K     |████████████████████████████████| 802 kB 51.2 MB/s \n",
            "\u001b[?25h  Downloading distributed-2021.11.2-py3-none-any.whl (802 kB)\n",
            "\u001b[K     |████████████████████████████████| 802 kB 43.1 MB/s \n",
            "\u001b[?25h  Downloading distributed-2021.11.1-py3-none-any.whl (793 kB)\n",
            "\u001b[K     |████████████████████████████████| 793 kB 51.4 MB/s \n",
            "\u001b[?25h  Downloading distributed-2021.11.0-py3-none-any.whl (793 kB)\n",
            "\u001b[K     |████████████████████████████████| 793 kB 64.7 MB/s \n",
            "\u001b[?25h  Downloading distributed-2021.10.0-py3-none-any.whl (791 kB)\n",
            "\u001b[K     |████████████████████████████████| 791 kB 56.0 MB/s \n",
            "\u001b[?25h  Downloading distributed-2021.9.1-py3-none-any.whl (786 kB)\n",
            "\u001b[K     |████████████████████████████████| 786 kB 40.1 MB/s \n",
            "\u001b[?25h  Downloading distributed-2021.9.0-py3-none-any.whl (779 kB)\n",
            "\u001b[K     |████████████████████████████████| 779 kB 49.3 MB/s \n",
            "\u001b[?25h  Downloading distributed-2021.8.1-py3-none-any.whl (778 kB)\n",
            "\u001b[K     |████████████████████████████████| 778 kB 39.8 MB/s \n",
            "\u001b[?25h  Downloading distributed-2021.8.0-py3-none-any.whl (776 kB)\n",
            "\u001b[K     |████████████████████████████████| 776 kB 76.1 MB/s \n",
            "\u001b[?25h  Downloading distributed-2021.7.2-py3-none-any.whl (769 kB)\n",
            "\u001b[K     |████████████████████████████████| 769 kB 46.2 MB/s \n",
            "\u001b[?25h  Downloading distributed-2021.7.1-py3-none-any.whl (766 kB)\n",
            "\u001b[K     |████████████████████████████████| 766 kB 57.8 MB/s \n",
            "\u001b[?25h  Downloading distributed-2021.7.0-py3-none-any.whl (1.0 MB)\n",
            "\u001b[K     |████████████████████████████████| 1.0 MB 34.0 MB/s \n",
            "\u001b[?25h  Downloading distributed-2021.6.2-py3-none-any.whl (722 kB)\n",
            "\u001b[K     |████████████████████████████████| 722 kB 54.4 MB/s \n",
            "\u001b[?25h  Downloading distributed-2021.6.1-py3-none-any.whl (722 kB)\n",
            "\u001b[K     |████████████████████████████████| 722 kB 56.4 MB/s \n",
            "\u001b[?25h  Downloading distributed-2021.6.0-py3-none-any.whl (715 kB)\n",
            "\u001b[K     |████████████████████████████████| 715 kB 51.6 MB/s \n",
            "\u001b[?25h  Downloading distributed-2021.5.1-py3-none-any.whl (705 kB)\n",
            "\u001b[K     |████████████████████████████████| 705 kB 58.0 MB/s \n",
            "\u001b[?25h  Downloading distributed-2021.5.0-py3-none-any.whl (699 kB)\n",
            "\u001b[K     |████████████████████████████████| 699 kB 57.8 MB/s \n",
            "\u001b[?25h  Downloading distributed-2021.4.1-py3-none-any.whl (696 kB)\n",
            "\u001b[K     |████████████████████████████████| 696 kB 62.2 MB/s \n",
            "\u001b[?25h  Downloading distributed-2021.4.0-py3-none-any.whl (684 kB)\n",
            "\u001b[K     |████████████████████████████████| 684 kB 56.2 MB/s \n",
            "\u001b[?25h  Downloading distributed-2021.3.1-py3-none-any.whl (679 kB)\n",
            "\u001b[K     |████████████████████████████████| 679 kB 43.8 MB/s \n",
            "\u001b[?25h  Downloading distributed-2021.3.0-py3-none-any.whl (675 kB)\n",
            "\u001b[K     |████████████████████████████████| 675 kB 58.6 MB/s \n",
            "\u001b[?25h  Downloading distributed-2021.2.0-py3-none-any.whl (675 kB)\n",
            "\u001b[K     |████████████████████████████████| 675 kB 69.5 MB/s \n",
            "\u001b[?25h  Downloading distributed-2021.1.1-py3-none-any.whl (672 kB)\n",
            "\u001b[K     |████████████████████████████████| 672 kB 71.5 MB/s \n",
            "\u001b[?25h  Downloading distributed-2021.1.0-py3-none-any.whl (671 kB)\n",
            "\u001b[K     |████████████████████████████████| 671 kB 43.5 MB/s \n",
            "\u001b[?25h  Downloading distributed-2020.12.0-py3-none-any.whl (669 kB)\n",
            "\u001b[K     |████████████████████████████████| 669 kB 51.6 MB/s \n",
            "\u001b[?25h  Downloading distributed-2.30.1-py3-none-any.whl (656 kB)\n",
            "\u001b[K     |████████████████████████████████| 656 kB 72.2 MB/s \n",
            "\u001b[?25hRequirement already satisfied: MarkupSafe>=0.23 in /usr/local/lib/python3.7/dist-packages (from Jinja2>=2.9->bokeh>=1.0.0->dask[complete]) (2.0.1)\n",
            "Requirement already satisfied: pyparsing!=3.0.5,>=2.0.2 in /usr/local/lib/python3.7/dist-packages (from packaging>=16.8->bokeh>=1.0.0->dask[complete]) (3.0.7)\n",
            "Requirement already satisfied: pytz>=2017.3 in /usr/local/lib/python3.7/dist-packages (from pandas>=0.23.0->dask[complete]) (2018.9)\n",
            "Collecting locket\n",
            "  Downloading locket-0.2.1-py2.py3-none-any.whl (4.1 kB)\n",
            "Requirement already satisfied: six>=1.5 in /usr/local/lib/python3.7/dist-packages (from python-dateutil>=2.1->bokeh>=1.0.0->dask[complete]) (1.15.0)\n",
            "Requirement already satisfied: heapdict in /usr/local/lib/python3.7/dist-packages (from zict>=0.1.3->distributed>=2.0->dask[complete]) (1.0.1)\n",
            "Installing collected packages: locket, cloudpickle, partd, fsspec, distributed\n",
            "  Attempting uninstall: cloudpickle\n",
            "    Found existing installation: cloudpickle 1.3.0\n",
            "    Uninstalling cloudpickle-1.3.0:\n",
            "      Successfully uninstalled cloudpickle-1.3.0\n",
            "  Attempting uninstall: distributed\n",
            "    Found existing installation: distributed 1.25.3\n",
            "    Uninstalling distributed-1.25.3:\n",
            "      Successfully uninstalled distributed-1.25.3\n",
            "\u001b[31mERROR: pip's dependency resolver does not currently take into account all the packages that are installed. This behaviour is the source of the following dependency conflicts.\n",
            "gym 0.17.3 requires cloudpickle<1.7.0,>=1.2.0, but you have cloudpickle 2.0.0 which is incompatible.\u001b[0m\n",
            "Successfully installed cloudpickle-2.0.0 distributed-2.30.1 fsspec-2022.3.0 locket-0.2.1 partd-1.2.0\n"
          ]
        }
      ]
    },
    {
      "cell_type": "code",
      "source": [
        "!pip install dask_ml --upgrade"
      ],
      "metadata": {
        "colab": {
          "base_uri": "https://localhost:8080/",
          "height": 816
        },
        "id": "zGLOwl_7o9mm",
        "outputId": "de294fcb-ace8-4114-cf20-2d70203ecba8"
      },
      "execution_count": 116,
      "outputs": [
        {
          "output_type": "stream",
          "name": "stdout",
          "text": [
            "Requirement already satisfied: dask_ml in /usr/local/lib/python3.7/dist-packages (1.1.1)\n",
            "Collecting dask_ml\n",
            "  Using cached dask_ml-2022.1.22-py3-none-any.whl (148 kB)\n",
            "Requirement already satisfied: packaging in /usr/local/lib/python3.7/dist-packages (from dask_ml) (21.3)\n",
            "Requirement already satisfied: distributed>=2.4.0 in /usr/local/lib/python3.7/dist-packages (from dask_ml) (2.30.1)\n",
            "Requirement already satisfied: numba>=0.51.0 in /usr/local/lib/python3.7/dist-packages (from dask_ml) (0.51.2)\n",
            "Requirement already satisfied: numpy>=1.20.0 in /usr/local/lib/python3.7/dist-packages (from dask_ml) (1.21.5)\n",
            "Requirement already satisfied: dask-glm>=0.2.0 in /usr/local/lib/python3.7/dist-packages (from dask_ml) (0.2.0)\n",
            "Requirement already satisfied: pandas>=0.24.2 in /usr/local/lib/python3.7/dist-packages (from dask_ml) (1.3.5)\n",
            "Requirement already satisfied: dask[array,dataframe]>=2.4.0 in /usr/local/lib/python3.7/dist-packages (from dask_ml) (2.12.0)\n",
            "Requirement already satisfied: scikit-learn>=1.0.0 in /usr/local/lib/python3.7/dist-packages (from dask_ml) (1.0.2)\n",
            "Requirement already satisfied: multipledispatch>=0.4.9 in /usr/local/lib/python3.7/dist-packages (from dask_ml) (0.6.0)\n",
            "Requirement already satisfied: scipy in /usr/local/lib/python3.7/dist-packages (from dask_ml) (1.4.1)\n",
            "Requirement already satisfied: cloudpickle>=0.2.2 in /usr/local/lib/python3.7/dist-packages (from dask-glm>=0.2.0->dask_ml) (2.0.0)\n",
            "Requirement already satisfied: partd>=0.3.10 in /usr/local/lib/python3.7/dist-packages (from dask[array,dataframe]>=2.4.0->dask_ml) (1.2.0)\n",
            "Requirement already satisfied: toolz>=0.7.3 in /usr/local/lib/python3.7/dist-packages (from dask[array,dataframe]>=2.4.0->dask_ml) (0.11.2)\n",
            "Requirement already satisfied: fsspec>=0.6.0 in /usr/local/lib/python3.7/dist-packages (from dask[array,dataframe]>=2.4.0->dask_ml) (2022.3.0)\n",
            "Requirement already satisfied: psutil>=5.0 in /usr/local/lib/python3.7/dist-packages (from distributed>=2.4.0->dask_ml) (5.4.8)\n",
            "Requirement already satisfied: msgpack>=0.6.0 in /usr/local/lib/python3.7/dist-packages (from distributed>=2.4.0->dask_ml) (1.0.3)\n",
            "Requirement already satisfied: click>=6.6 in /usr/local/lib/python3.7/dist-packages (from distributed>=2.4.0->dask_ml) (7.1.2)\n",
            "Requirement already satisfied: tornado>=5 in /usr/local/lib/python3.7/dist-packages (from distributed>=2.4.0->dask_ml) (5.1.1)\n",
            "Requirement already satisfied: zict>=0.1.3 in /usr/local/lib/python3.7/dist-packages (from distributed>=2.4.0->dask_ml) (2.1.0)\n",
            "Requirement already satisfied: setuptools in /usr/local/lib/python3.7/dist-packages (from distributed>=2.4.0->dask_ml) (57.4.0)\n",
            "Requirement already satisfied: tblib>=1.6.0 in /usr/local/lib/python3.7/dist-packages (from distributed>=2.4.0->dask_ml) (1.7.0)\n",
            "Requirement already satisfied: pyyaml in /usr/local/lib/python3.7/dist-packages (from distributed>=2.4.0->dask_ml) (3.13)\n",
            "Requirement already satisfied: sortedcontainers!=2.0.0,!=2.0.1 in /usr/local/lib/python3.7/dist-packages (from distributed>=2.4.0->dask_ml) (2.4.0)\n",
            "Requirement already satisfied: six in /usr/local/lib/python3.7/dist-packages (from multipledispatch>=0.4.9->dask_ml) (1.15.0)\n",
            "Requirement already satisfied: llvmlite<0.35,>=0.34.0.dev0 in /usr/local/lib/python3.7/dist-packages (from numba>=0.51.0->dask_ml) (0.34.0)\n",
            "Requirement already satisfied: python-dateutil>=2.7.3 in /usr/local/lib/python3.7/dist-packages (from pandas>=0.24.2->dask_ml) (2.8.2)\n",
            "Requirement already satisfied: pytz>=2017.3 in /usr/local/lib/python3.7/dist-packages (from pandas>=0.24.2->dask_ml) (2018.9)\n",
            "Requirement already satisfied: locket in /usr/local/lib/python3.7/dist-packages (from partd>=0.3.10->dask[array,dataframe]>=2.4.0->dask_ml) (0.2.1)\n",
            "Requirement already satisfied: threadpoolctl>=2.0.0 in /usr/local/lib/python3.7/dist-packages (from scikit-learn>=1.0.0->dask_ml) (3.1.0)\n",
            "Requirement already satisfied: joblib>=0.11 in /usr/local/lib/python3.7/dist-packages (from scikit-learn>=1.0.0->dask_ml) (1.1.0)\n",
            "Requirement already satisfied: heapdict in /usr/local/lib/python3.7/dist-packages (from zict>=0.1.3->distributed>=2.4.0->dask_ml) (1.0.1)\n",
            "Requirement already satisfied: pyparsing!=3.0.5,>=2.0.2 in /usr/local/lib/python3.7/dist-packages (from packaging->dask_ml) (3.0.7)\n",
            "Installing collected packages: dask-ml\n",
            "  Attempting uninstall: dask-ml\n",
            "    Found existing installation: dask-ml 1.1.1\n",
            "    Uninstalling dask-ml-1.1.1:\n",
            "      Successfully uninstalled dask-ml-1.1.1\n",
            "Successfully installed dask-ml-2022.1.22\n"
          ]
        },
        {
          "output_type": "display_data",
          "data": {
            "application/vnd.colab-display-data+json": {
              "pip_warning": {
                "packages": [
                  "dask_ml"
                ]
              }
            }
          },
          "metadata": {}
        }
      ]
    },
    {
      "cell_type": "markdown",
      "source": [
        "##Preprocessing by dask"
      ],
      "metadata": {
        "id": "nhCtuu3Yca41"
      }
    },
    {
      "cell_type": "code",
      "source": [
        "import dask\n",
        "import dask.dataframe as dd\n",
        "import dask_ml"
      ],
      "metadata": {
        "id": "t5t7ikp4DLPg"
      },
      "execution_count": 114,
      "outputs": []
    },
    {
      "cell_type": "code",
      "source": [
        "mobile_dd = dd.from_pandas(pd.read_csv('./files/train.csv'),npartitions=2)"
      ],
      "metadata": {
        "id": "piOCpsZTDf3I"
      },
      "execution_count": 88,
      "outputs": []
    },
    {
      "cell_type": "code",
      "source": [
        "mobile_dd"
      ],
      "metadata": {
        "colab": {
          "base_uri": "https://localhost:8080/",
          "height": 230
        },
        "id": "YJSg2fEDD3gb",
        "outputId": "fcffb589-2c25-4173-b6de-1a96823c6cf9"
      },
      "execution_count": 89,
      "outputs": [
        {
          "output_type": "execute_result",
          "data": {
            "text/plain": [
              "Dask DataFrame Structure:\n",
              "              battery_power   blue clock_speed dual_sim     fc four_g int_memory    m_dep mobile_wt n_cores     pc px_height px_width    ram   sc_h   sc_w talk_time three_g touch_screen   wifi price_range\n",
              "npartitions=2                                                                                                                                                                                               \n",
              "0                     int64  int64     float64    int64  int64  int64      int64  float64     int64   int64  int64     int64    int64  int64  int64  int64     int64   int64        int64  int64       int64\n",
              "1000                    ...    ...         ...      ...    ...    ...        ...      ...       ...     ...    ...       ...      ...    ...    ...    ...       ...     ...          ...    ...         ...\n",
              "1999                    ...    ...         ...      ...    ...    ...        ...      ...       ...     ...    ...       ...      ...    ...    ...    ...       ...     ...          ...    ...         ...\n",
              "Dask Name: from_pandas, 2 tasks"
            ],
            "text/html": [
              "<div><strong>Dask DataFrame Structure:</strong></div>\n",
              "<div>\n",
              "<style scoped>\n",
              "    .dataframe tbody tr th:only-of-type {\n",
              "        vertical-align: middle;\n",
              "    }\n",
              "\n",
              "    .dataframe tbody tr th {\n",
              "        vertical-align: top;\n",
              "    }\n",
              "\n",
              "    .dataframe thead th {\n",
              "        text-align: right;\n",
              "    }\n",
              "</style>\n",
              "<table border=\"1\" class=\"dataframe\">\n",
              "  <thead>\n",
              "    <tr style=\"text-align: right;\">\n",
              "      <th></th>\n",
              "      <th>battery_power</th>\n",
              "      <th>blue</th>\n",
              "      <th>clock_speed</th>\n",
              "      <th>dual_sim</th>\n",
              "      <th>fc</th>\n",
              "      <th>four_g</th>\n",
              "      <th>int_memory</th>\n",
              "      <th>m_dep</th>\n",
              "      <th>mobile_wt</th>\n",
              "      <th>n_cores</th>\n",
              "      <th>pc</th>\n",
              "      <th>px_height</th>\n",
              "      <th>px_width</th>\n",
              "      <th>ram</th>\n",
              "      <th>sc_h</th>\n",
              "      <th>sc_w</th>\n",
              "      <th>talk_time</th>\n",
              "      <th>three_g</th>\n",
              "      <th>touch_screen</th>\n",
              "      <th>wifi</th>\n",
              "      <th>price_range</th>\n",
              "    </tr>\n",
              "    <tr>\n",
              "      <th>npartitions=2</th>\n",
              "      <th></th>\n",
              "      <th></th>\n",
              "      <th></th>\n",
              "      <th></th>\n",
              "      <th></th>\n",
              "      <th></th>\n",
              "      <th></th>\n",
              "      <th></th>\n",
              "      <th></th>\n",
              "      <th></th>\n",
              "      <th></th>\n",
              "      <th></th>\n",
              "      <th></th>\n",
              "      <th></th>\n",
              "      <th></th>\n",
              "      <th></th>\n",
              "      <th></th>\n",
              "      <th></th>\n",
              "      <th></th>\n",
              "      <th></th>\n",
              "      <th></th>\n",
              "    </tr>\n",
              "  </thead>\n",
              "  <tbody>\n",
              "    <tr>\n",
              "      <th>0</th>\n",
              "      <td>int64</td>\n",
              "      <td>int64</td>\n",
              "      <td>float64</td>\n",
              "      <td>int64</td>\n",
              "      <td>int64</td>\n",
              "      <td>int64</td>\n",
              "      <td>int64</td>\n",
              "      <td>float64</td>\n",
              "      <td>int64</td>\n",
              "      <td>int64</td>\n",
              "      <td>int64</td>\n",
              "      <td>int64</td>\n",
              "      <td>int64</td>\n",
              "      <td>int64</td>\n",
              "      <td>int64</td>\n",
              "      <td>int64</td>\n",
              "      <td>int64</td>\n",
              "      <td>int64</td>\n",
              "      <td>int64</td>\n",
              "      <td>int64</td>\n",
              "      <td>int64</td>\n",
              "    </tr>\n",
              "    <tr>\n",
              "      <th>1000</th>\n",
              "      <td>...</td>\n",
              "      <td>...</td>\n",
              "      <td>...</td>\n",
              "      <td>...</td>\n",
              "      <td>...</td>\n",
              "      <td>...</td>\n",
              "      <td>...</td>\n",
              "      <td>...</td>\n",
              "      <td>...</td>\n",
              "      <td>...</td>\n",
              "      <td>...</td>\n",
              "      <td>...</td>\n",
              "      <td>...</td>\n",
              "      <td>...</td>\n",
              "      <td>...</td>\n",
              "      <td>...</td>\n",
              "      <td>...</td>\n",
              "      <td>...</td>\n",
              "      <td>...</td>\n",
              "      <td>...</td>\n",
              "      <td>...</td>\n",
              "    </tr>\n",
              "    <tr>\n",
              "      <th>1999</th>\n",
              "      <td>...</td>\n",
              "      <td>...</td>\n",
              "      <td>...</td>\n",
              "      <td>...</td>\n",
              "      <td>...</td>\n",
              "      <td>...</td>\n",
              "      <td>...</td>\n",
              "      <td>...</td>\n",
              "      <td>...</td>\n",
              "      <td>...</td>\n",
              "      <td>...</td>\n",
              "      <td>...</td>\n",
              "      <td>...</td>\n",
              "      <td>...</td>\n",
              "      <td>...</td>\n",
              "      <td>...</td>\n",
              "      <td>...</td>\n",
              "      <td>...</td>\n",
              "      <td>...</td>\n",
              "      <td>...</td>\n",
              "      <td>...</td>\n",
              "    </tr>\n",
              "  </tbody>\n",
              "</table>\n",
              "</div>\n",
              "<div>Dask Name: from_pandas, 2 tasks</div>"
            ]
          },
          "metadata": {},
          "execution_count": 89
        }
      ]
    },
    {
      "cell_type": "code",
      "source": [
        "%%time\n",
        "for col in mobile_dd.columns:\n",
        "  if mobile_dd[col].dtype == 'int64' or mobile_dd[col].dtype == 'float64':\n",
        "    upper = mobile_dd[col].mean() + 3 * mobile_dd[col].std()\n",
        "    lower = mobile_dd[col].mean() - 3 * mobile_dd[col].std()\n",
        "    \n",
        "    mobile_dd= mobile_dd[~((mobile_dd[col] > upper) | (mobile_dd[col] < lower))]"
      ],
      "metadata": {
        "id": "48HkEKtUEvkJ",
        "colab": {
          "base_uri": "https://localhost:8080/"
        },
        "outputId": "e53d9eac-5b74-43fa-92d0-6aa6d0567075"
      },
      "execution_count": 90,
      "outputs": [
        {
          "output_type": "stream",
          "name": "stdout",
          "text": [
            "CPU times: user 432 ms, sys: 3.09 ms, total: 436 ms\n",
            "Wall time: 839 ms\n"
          ]
        }
      ]
    },
    {
      "cell_type": "code",
      "source": [
        "mobile_dd.compute().shape"
      ],
      "metadata": {
        "colab": {
          "base_uri": "https://localhost:8080/"
        },
        "id": "tF63Hw1PE2oj",
        "outputId": "8e04dac7-6d59-41af-93e9-6ac1c259901c"
      },
      "execution_count": 91,
      "outputs": [
        {
          "output_type": "execute_result",
          "data": {
            "text/plain": [
              "(1988, 21)"
            ]
          },
          "metadata": {},
          "execution_count": 91
        }
      ]
    },
    {
      "cell_type": "code",
      "source": [
        "from dask_ml.model_selection import train_test_split\n",
        "data = mobile_dd.drop(columns='price_range')\n",
        "target = mobile_dd['price_range']\n",
        "dd_train , dd_test , dd_target_train , dd_target_test = train_test_split(data,target,test_size = 0.2, random_state=42)"
      ],
      "metadata": {
        "id": "PzyqKkHYG3hZ"
      },
      "execution_count": 105,
      "outputs": []
    },
    {
      "cell_type": "markdown",
      "source": [
        "Model training by dask_ml"
      ],
      "metadata": {
        "id": "bcuQx3Hw9DkO"
      }
    },
    {
      "cell_type": "code",
      "source": [
        "%%time\n",
        "from dask_ml.model_selection import GridSearchCV\n",
        "from dask_ml.preprocessing import StandardScaler,MinMaxScaler\n",
        "dask_model = Pipeline([('scaler', StandardScaler()),('logistic_reg',LogisticRegression(solver='saga',max_iter=10000))])\n",
        "param_grid = {\n",
        "    'scaler' :[MinMaxScaler(), StandardScaler(), None],\n",
        "    'logistic_reg__C': [0.01,0.1,1,10,100],\n",
        "    'logistic_reg__penalty' :['l1','l2']\n",
        "}\n",
        "grid_dask = GridSearchCV(dask_model,param_grid=param_grid,n_jobs=-1,cv=5)\n",
        "grid_dask.fit(dd_train,dd_target_train)\n"
      ],
      "metadata": {
        "colab": {
          "base_uri": "https://localhost:8080/"
        },
        "id": "t-0tgfmUovcB",
        "outputId": "e2ad6dc7-92ce-4e17-b2af-5815228c687e"
      },
      "execution_count": 120,
      "outputs": [
        {
          "output_type": "stream",
          "name": "stdout",
          "text": [
            "CPU times: user 12min 43s, sys: 890 ms, total: 12min 43s\n",
            "Wall time: 6min 30s\n"
          ]
        }
      ]
    },
    {
      "cell_type": "code",
      "source": [
        "cv_dask = pd.DataFrame(grid_dask.cv_results_)\n",
        "cv_dask = cv_dask[['mean_fit_time','mean_score_time','param_logistic_reg__C', 'param_logistic_reg__penalty', 'param_scaler',\n",
        "       'mean_test_score', 'std_test_score','rank_test_score']]\n",
        "cv_dask.sort_values(by='rank_test_score')"
      ],
      "metadata": {
        "colab": {
          "base_uri": "https://localhost:8080/",
          "height": 990
        },
        "id": "-r-7mSxzpqtj",
        "outputId": "7c27052a-4fba-4bd4-a826-0e0fa6a7afe7"
      },
      "execution_count": 118,
      "outputs": [
        {
          "output_type": "execute_result",
          "data": {
            "text/plain": [
              "    mean_fit_time  mean_score_time param_logistic_reg__C  \\\n",
              "18       2.332173         0.006673                    10   \n",
              "24       2.331650         0.006581                   100   \n",
              "27       1.514864         0.008267                   100   \n",
              "12       1.104362         0.006649                     1   \n",
              "21       0.363180         0.006577                    10   \n",
              "15       0.099943         0.006574                     1   \n",
              "6        0.098616         0.006579                   0.1   \n",
              "9        0.041654         0.006626                   0.1   \n",
              "1        0.052953         0.007024                  0.01   \n",
              "14       4.273868         0.003311                     1   \n",
              "26       2.395569         0.002979                   100   \n",
              "23       1.734281         0.003652                    10   \n",
              "20       4.067393         0.003144                    10   \n",
              "17       2.999182         0.003424                     1   \n",
              "29       1.738468         0.002969                   100   \n",
              "11       3.448870         0.004501                   0.1   \n",
              "5        3.251209         0.004505                  0.01   \n",
              "8        4.758742         0.003515                   0.1   \n",
              "2        3.128039         0.003546                  0.01   \n",
              "3        0.043266         0.007611                  0.01   \n",
              "0        0.051477         0.007342                  0.01   \n",
              "22       0.528252         0.003636                    10   \n",
              "28       1.727820         0.003894                   100   \n",
              "16       0.122210         0.003515                     1   \n",
              "13       1.166849         0.003615                     1   \n",
              "10       0.053821         0.004312                   0.1   \n",
              "7        0.123786         0.003594                   0.1   \n",
              "4        0.053320         0.003747                  0.01   \n",
              "25       2.323559         0.003677                   100   \n",
              "19       2.346439         0.003488                    10   \n",
              "\n",
              "   param_logistic_reg__penalty      param_scaler  mean_test_score  \\\n",
              "18                          l1    MinMaxScaler()         0.971501   \n",
              "24                          l1    MinMaxScaler()         0.970868   \n",
              "27                          l2    MinMaxScaler()         0.968334   \n",
              "12                          l1    MinMaxScaler()         0.966434   \n",
              "21                          l2    MinMaxScaler()         0.956935   \n",
              "15                          l2    MinMaxScaler()         0.917036   \n",
              "6                           l1    MinMaxScaler()         0.837872   \n",
              "9                           l2    MinMaxScaler()         0.770108   \n",
              "1                           l1  StandardScaler()         0.698543   \n",
              "14                          l1              None         0.659278   \n",
              "26                          l1              None         0.659278   \n",
              "23                          l2              None         0.659278   \n",
              "20                          l1              None         0.659278   \n",
              "17                          l2              None         0.659278   \n",
              "29                          l2              None         0.659278   \n",
              "11                          l2              None         0.659278   \n",
              "5                           l2              None         0.659278   \n",
              "8                           l1              None         0.658011   \n",
              "2                           l1              None         0.647878   \n",
              "3                           l2    MinMaxScaler()         0.628246   \n",
              "0                           l1    MinMaxScaler()         0.508550   \n",
              "22                          l2  StandardScaler()         0.260925   \n",
              "28                          l2  StandardScaler()         0.259025   \n",
              "16                          l2  StandardScaler()         0.256491   \n",
              "13                          l1  StandardScaler()         0.255858   \n",
              "10                          l2  StandardScaler()         0.255858   \n",
              "7                           l1  StandardScaler()         0.255858   \n",
              "4                           l2  StandardScaler()         0.255858   \n",
              "25                          l1  StandardScaler()         0.252058   \n",
              "19                          l1  StandardScaler()         0.243192   \n",
              "\n",
              "    std_test_score  rank_test_score  \n",
              "18        0.003468                1  \n",
              "24        0.003674                2  \n",
              "27        0.002036                3  \n",
              "12        0.006546                4  \n",
              "21        0.008162                5  \n",
              "15        0.004683                6  \n",
              "6         0.023931                7  \n",
              "9         0.015302                8  \n",
              "1         0.013374                9  \n",
              "14        0.033359               10  \n",
              "26        0.033359               10  \n",
              "23        0.033359               10  \n",
              "20        0.033359               10  \n",
              "17        0.033359               10  \n",
              "29        0.033359               10  \n",
              "11        0.033359               10  \n",
              "5         0.033359               10  \n",
              "8         0.032253               18  \n",
              "2         0.029825               19  \n",
              "3         0.008785               20  \n",
              "0         0.007748               21  \n",
              "22        0.019720               22  \n",
              "28        0.015077               23  \n",
              "16        0.019951               24  \n",
              "13        0.000943               25  \n",
              "10        0.000943               25  \n",
              "7         0.000943               25  \n",
              "4         0.000943               25  \n",
              "25        0.016116               29  \n",
              "19        0.016877               30  "
            ],
            "text/html": [
              "\n",
              "  <div id=\"df-f6aba573-b555-428b-a33a-163868446fd1\">\n",
              "    <div class=\"colab-df-container\">\n",
              "      <div>\n",
              "<style scoped>\n",
              "    .dataframe tbody tr th:only-of-type {\n",
              "        vertical-align: middle;\n",
              "    }\n",
              "\n",
              "    .dataframe tbody tr th {\n",
              "        vertical-align: top;\n",
              "    }\n",
              "\n",
              "    .dataframe thead th {\n",
              "        text-align: right;\n",
              "    }\n",
              "</style>\n",
              "<table border=\"1\" class=\"dataframe\">\n",
              "  <thead>\n",
              "    <tr style=\"text-align: right;\">\n",
              "      <th></th>\n",
              "      <th>mean_fit_time</th>\n",
              "      <th>mean_score_time</th>\n",
              "      <th>param_logistic_reg__C</th>\n",
              "      <th>param_logistic_reg__penalty</th>\n",
              "      <th>param_scaler</th>\n",
              "      <th>mean_test_score</th>\n",
              "      <th>std_test_score</th>\n",
              "      <th>rank_test_score</th>\n",
              "    </tr>\n",
              "  </thead>\n",
              "  <tbody>\n",
              "    <tr>\n",
              "      <th>18</th>\n",
              "      <td>2.332173</td>\n",
              "      <td>0.006673</td>\n",
              "      <td>10</td>\n",
              "      <td>l1</td>\n",
              "      <td>MinMaxScaler()</td>\n",
              "      <td>0.971501</td>\n",
              "      <td>0.003468</td>\n",
              "      <td>1</td>\n",
              "    </tr>\n",
              "    <tr>\n",
              "      <th>24</th>\n",
              "      <td>2.331650</td>\n",
              "      <td>0.006581</td>\n",
              "      <td>100</td>\n",
              "      <td>l1</td>\n",
              "      <td>MinMaxScaler()</td>\n",
              "      <td>0.970868</td>\n",
              "      <td>0.003674</td>\n",
              "      <td>2</td>\n",
              "    </tr>\n",
              "    <tr>\n",
              "      <th>27</th>\n",
              "      <td>1.514864</td>\n",
              "      <td>0.008267</td>\n",
              "      <td>100</td>\n",
              "      <td>l2</td>\n",
              "      <td>MinMaxScaler()</td>\n",
              "      <td>0.968334</td>\n",
              "      <td>0.002036</td>\n",
              "      <td>3</td>\n",
              "    </tr>\n",
              "    <tr>\n",
              "      <th>12</th>\n",
              "      <td>1.104362</td>\n",
              "      <td>0.006649</td>\n",
              "      <td>1</td>\n",
              "      <td>l1</td>\n",
              "      <td>MinMaxScaler()</td>\n",
              "      <td>0.966434</td>\n",
              "      <td>0.006546</td>\n",
              "      <td>4</td>\n",
              "    </tr>\n",
              "    <tr>\n",
              "      <th>21</th>\n",
              "      <td>0.363180</td>\n",
              "      <td>0.006577</td>\n",
              "      <td>10</td>\n",
              "      <td>l2</td>\n",
              "      <td>MinMaxScaler()</td>\n",
              "      <td>0.956935</td>\n",
              "      <td>0.008162</td>\n",
              "      <td>5</td>\n",
              "    </tr>\n",
              "    <tr>\n",
              "      <th>15</th>\n",
              "      <td>0.099943</td>\n",
              "      <td>0.006574</td>\n",
              "      <td>1</td>\n",
              "      <td>l2</td>\n",
              "      <td>MinMaxScaler()</td>\n",
              "      <td>0.917036</td>\n",
              "      <td>0.004683</td>\n",
              "      <td>6</td>\n",
              "    </tr>\n",
              "    <tr>\n",
              "      <th>6</th>\n",
              "      <td>0.098616</td>\n",
              "      <td>0.006579</td>\n",
              "      <td>0.1</td>\n",
              "      <td>l1</td>\n",
              "      <td>MinMaxScaler()</td>\n",
              "      <td>0.837872</td>\n",
              "      <td>0.023931</td>\n",
              "      <td>7</td>\n",
              "    </tr>\n",
              "    <tr>\n",
              "      <th>9</th>\n",
              "      <td>0.041654</td>\n",
              "      <td>0.006626</td>\n",
              "      <td>0.1</td>\n",
              "      <td>l2</td>\n",
              "      <td>MinMaxScaler()</td>\n",
              "      <td>0.770108</td>\n",
              "      <td>0.015302</td>\n",
              "      <td>8</td>\n",
              "    </tr>\n",
              "    <tr>\n",
              "      <th>1</th>\n",
              "      <td>0.052953</td>\n",
              "      <td>0.007024</td>\n",
              "      <td>0.01</td>\n",
              "      <td>l1</td>\n",
              "      <td>StandardScaler()</td>\n",
              "      <td>0.698543</td>\n",
              "      <td>0.013374</td>\n",
              "      <td>9</td>\n",
              "    </tr>\n",
              "    <tr>\n",
              "      <th>14</th>\n",
              "      <td>4.273868</td>\n",
              "      <td>0.003311</td>\n",
              "      <td>1</td>\n",
              "      <td>l1</td>\n",
              "      <td>None</td>\n",
              "      <td>0.659278</td>\n",
              "      <td>0.033359</td>\n",
              "      <td>10</td>\n",
              "    </tr>\n",
              "    <tr>\n",
              "      <th>26</th>\n",
              "      <td>2.395569</td>\n",
              "      <td>0.002979</td>\n",
              "      <td>100</td>\n",
              "      <td>l1</td>\n",
              "      <td>None</td>\n",
              "      <td>0.659278</td>\n",
              "      <td>0.033359</td>\n",
              "      <td>10</td>\n",
              "    </tr>\n",
              "    <tr>\n",
              "      <th>23</th>\n",
              "      <td>1.734281</td>\n",
              "      <td>0.003652</td>\n",
              "      <td>10</td>\n",
              "      <td>l2</td>\n",
              "      <td>None</td>\n",
              "      <td>0.659278</td>\n",
              "      <td>0.033359</td>\n",
              "      <td>10</td>\n",
              "    </tr>\n",
              "    <tr>\n",
              "      <th>20</th>\n",
              "      <td>4.067393</td>\n",
              "      <td>0.003144</td>\n",
              "      <td>10</td>\n",
              "      <td>l1</td>\n",
              "      <td>None</td>\n",
              "      <td>0.659278</td>\n",
              "      <td>0.033359</td>\n",
              "      <td>10</td>\n",
              "    </tr>\n",
              "    <tr>\n",
              "      <th>17</th>\n",
              "      <td>2.999182</td>\n",
              "      <td>0.003424</td>\n",
              "      <td>1</td>\n",
              "      <td>l2</td>\n",
              "      <td>None</td>\n",
              "      <td>0.659278</td>\n",
              "      <td>0.033359</td>\n",
              "      <td>10</td>\n",
              "    </tr>\n",
              "    <tr>\n",
              "      <th>29</th>\n",
              "      <td>1.738468</td>\n",
              "      <td>0.002969</td>\n",
              "      <td>100</td>\n",
              "      <td>l2</td>\n",
              "      <td>None</td>\n",
              "      <td>0.659278</td>\n",
              "      <td>0.033359</td>\n",
              "      <td>10</td>\n",
              "    </tr>\n",
              "    <tr>\n",
              "      <th>11</th>\n",
              "      <td>3.448870</td>\n",
              "      <td>0.004501</td>\n",
              "      <td>0.1</td>\n",
              "      <td>l2</td>\n",
              "      <td>None</td>\n",
              "      <td>0.659278</td>\n",
              "      <td>0.033359</td>\n",
              "      <td>10</td>\n",
              "    </tr>\n",
              "    <tr>\n",
              "      <th>5</th>\n",
              "      <td>3.251209</td>\n",
              "      <td>0.004505</td>\n",
              "      <td>0.01</td>\n",
              "      <td>l2</td>\n",
              "      <td>None</td>\n",
              "      <td>0.659278</td>\n",
              "      <td>0.033359</td>\n",
              "      <td>10</td>\n",
              "    </tr>\n",
              "    <tr>\n",
              "      <th>8</th>\n",
              "      <td>4.758742</td>\n",
              "      <td>0.003515</td>\n",
              "      <td>0.1</td>\n",
              "      <td>l1</td>\n",
              "      <td>None</td>\n",
              "      <td>0.658011</td>\n",
              "      <td>0.032253</td>\n",
              "      <td>18</td>\n",
              "    </tr>\n",
              "    <tr>\n",
              "      <th>2</th>\n",
              "      <td>3.128039</td>\n",
              "      <td>0.003546</td>\n",
              "      <td>0.01</td>\n",
              "      <td>l1</td>\n",
              "      <td>None</td>\n",
              "      <td>0.647878</td>\n",
              "      <td>0.029825</td>\n",
              "      <td>19</td>\n",
              "    </tr>\n",
              "    <tr>\n",
              "      <th>3</th>\n",
              "      <td>0.043266</td>\n",
              "      <td>0.007611</td>\n",
              "      <td>0.01</td>\n",
              "      <td>l2</td>\n",
              "      <td>MinMaxScaler()</td>\n",
              "      <td>0.628246</td>\n",
              "      <td>0.008785</td>\n",
              "      <td>20</td>\n",
              "    </tr>\n",
              "    <tr>\n",
              "      <th>0</th>\n",
              "      <td>0.051477</td>\n",
              "      <td>0.007342</td>\n",
              "      <td>0.01</td>\n",
              "      <td>l1</td>\n",
              "      <td>MinMaxScaler()</td>\n",
              "      <td>0.508550</td>\n",
              "      <td>0.007748</td>\n",
              "      <td>21</td>\n",
              "    </tr>\n",
              "    <tr>\n",
              "      <th>22</th>\n",
              "      <td>0.528252</td>\n",
              "      <td>0.003636</td>\n",
              "      <td>10</td>\n",
              "      <td>l2</td>\n",
              "      <td>StandardScaler()</td>\n",
              "      <td>0.260925</td>\n",
              "      <td>0.019720</td>\n",
              "      <td>22</td>\n",
              "    </tr>\n",
              "    <tr>\n",
              "      <th>28</th>\n",
              "      <td>1.727820</td>\n",
              "      <td>0.003894</td>\n",
              "      <td>100</td>\n",
              "      <td>l2</td>\n",
              "      <td>StandardScaler()</td>\n",
              "      <td>0.259025</td>\n",
              "      <td>0.015077</td>\n",
              "      <td>23</td>\n",
              "    </tr>\n",
              "    <tr>\n",
              "      <th>16</th>\n",
              "      <td>0.122210</td>\n",
              "      <td>0.003515</td>\n",
              "      <td>1</td>\n",
              "      <td>l2</td>\n",
              "      <td>StandardScaler()</td>\n",
              "      <td>0.256491</td>\n",
              "      <td>0.019951</td>\n",
              "      <td>24</td>\n",
              "    </tr>\n",
              "    <tr>\n",
              "      <th>13</th>\n",
              "      <td>1.166849</td>\n",
              "      <td>0.003615</td>\n",
              "      <td>1</td>\n",
              "      <td>l1</td>\n",
              "      <td>StandardScaler()</td>\n",
              "      <td>0.255858</td>\n",
              "      <td>0.000943</td>\n",
              "      <td>25</td>\n",
              "    </tr>\n",
              "    <tr>\n",
              "      <th>10</th>\n",
              "      <td>0.053821</td>\n",
              "      <td>0.004312</td>\n",
              "      <td>0.1</td>\n",
              "      <td>l2</td>\n",
              "      <td>StandardScaler()</td>\n",
              "      <td>0.255858</td>\n",
              "      <td>0.000943</td>\n",
              "      <td>25</td>\n",
              "    </tr>\n",
              "    <tr>\n",
              "      <th>7</th>\n",
              "      <td>0.123786</td>\n",
              "      <td>0.003594</td>\n",
              "      <td>0.1</td>\n",
              "      <td>l1</td>\n",
              "      <td>StandardScaler()</td>\n",
              "      <td>0.255858</td>\n",
              "      <td>0.000943</td>\n",
              "      <td>25</td>\n",
              "    </tr>\n",
              "    <tr>\n",
              "      <th>4</th>\n",
              "      <td>0.053320</td>\n",
              "      <td>0.003747</td>\n",
              "      <td>0.01</td>\n",
              "      <td>l2</td>\n",
              "      <td>StandardScaler()</td>\n",
              "      <td>0.255858</td>\n",
              "      <td>0.000943</td>\n",
              "      <td>25</td>\n",
              "    </tr>\n",
              "    <tr>\n",
              "      <th>25</th>\n",
              "      <td>2.323559</td>\n",
              "      <td>0.003677</td>\n",
              "      <td>100</td>\n",
              "      <td>l1</td>\n",
              "      <td>StandardScaler()</td>\n",
              "      <td>0.252058</td>\n",
              "      <td>0.016116</td>\n",
              "      <td>29</td>\n",
              "    </tr>\n",
              "    <tr>\n",
              "      <th>19</th>\n",
              "      <td>2.346439</td>\n",
              "      <td>0.003488</td>\n",
              "      <td>10</td>\n",
              "      <td>l1</td>\n",
              "      <td>StandardScaler()</td>\n",
              "      <td>0.243192</td>\n",
              "      <td>0.016877</td>\n",
              "      <td>30</td>\n",
              "    </tr>\n",
              "  </tbody>\n",
              "</table>\n",
              "</div>\n",
              "      <button class=\"colab-df-convert\" onclick=\"convertToInteractive('df-f6aba573-b555-428b-a33a-163868446fd1')\"\n",
              "              title=\"Convert this dataframe to an interactive table.\"\n",
              "              style=\"display:none;\">\n",
              "        \n",
              "  <svg xmlns=\"http://www.w3.org/2000/svg\" height=\"24px\"viewBox=\"0 0 24 24\"\n",
              "       width=\"24px\">\n",
              "    <path d=\"M0 0h24v24H0V0z\" fill=\"none\"/>\n",
              "    <path d=\"M18.56 5.44l.94 2.06.94-2.06 2.06-.94-2.06-.94-.94-2.06-.94 2.06-2.06.94zm-11 1L8.5 8.5l.94-2.06 2.06-.94-2.06-.94L8.5 2.5l-.94 2.06-2.06.94zm10 10l.94 2.06.94-2.06 2.06-.94-2.06-.94-.94-2.06-.94 2.06-2.06.94z\"/><path d=\"M17.41 7.96l-1.37-1.37c-.4-.4-.92-.59-1.43-.59-.52 0-1.04.2-1.43.59L10.3 9.45l-7.72 7.72c-.78.78-.78 2.05 0 2.83L4 21.41c.39.39.9.59 1.41.59.51 0 1.02-.2 1.41-.59l7.78-7.78 2.81-2.81c.8-.78.8-2.07 0-2.86zM5.41 20L4 18.59l7.72-7.72 1.47 1.35L5.41 20z\"/>\n",
              "  </svg>\n",
              "      </button>\n",
              "      \n",
              "  <style>\n",
              "    .colab-df-container {\n",
              "      display:flex;\n",
              "      flex-wrap:wrap;\n",
              "      gap: 12px;\n",
              "    }\n",
              "\n",
              "    .colab-df-convert {\n",
              "      background-color: #E8F0FE;\n",
              "      border: none;\n",
              "      border-radius: 50%;\n",
              "      cursor: pointer;\n",
              "      display: none;\n",
              "      fill: #1967D2;\n",
              "      height: 32px;\n",
              "      padding: 0 0 0 0;\n",
              "      width: 32px;\n",
              "    }\n",
              "\n",
              "    .colab-df-convert:hover {\n",
              "      background-color: #E2EBFA;\n",
              "      box-shadow: 0px 1px 2px rgba(60, 64, 67, 0.3), 0px 1px 3px 1px rgba(60, 64, 67, 0.15);\n",
              "      fill: #174EA6;\n",
              "    }\n",
              "\n",
              "    [theme=dark] .colab-df-convert {\n",
              "      background-color: #3B4455;\n",
              "      fill: #D2E3FC;\n",
              "    }\n",
              "\n",
              "    [theme=dark] .colab-df-convert:hover {\n",
              "      background-color: #434B5C;\n",
              "      box-shadow: 0px 1px 3px 1px rgba(0, 0, 0, 0.15);\n",
              "      filter: drop-shadow(0px 1px 2px rgba(0, 0, 0, 0.3));\n",
              "      fill: #FFFFFF;\n",
              "    }\n",
              "  </style>\n",
              "\n",
              "      <script>\n",
              "        const buttonEl =\n",
              "          document.querySelector('#df-f6aba573-b555-428b-a33a-163868446fd1 button.colab-df-convert');\n",
              "        buttonEl.style.display =\n",
              "          google.colab.kernel.accessAllowed ? 'block' : 'none';\n",
              "\n",
              "        async function convertToInteractive(key) {\n",
              "          const element = document.querySelector('#df-f6aba573-b555-428b-a33a-163868446fd1');\n",
              "          const dataTable =\n",
              "            await google.colab.kernel.invokeFunction('convertToInteractive',\n",
              "                                                     [key], {});\n",
              "          if (!dataTable) return;\n",
              "\n",
              "          const docLinkHtml = 'Like what you see? Visit the ' +\n",
              "            '<a target=\"_blank\" href=https://colab.research.google.com/notebooks/data_table.ipynb>data table notebook</a>'\n",
              "            + ' to learn more about interactive tables.';\n",
              "          element.innerHTML = '';\n",
              "          dataTable['output_type'] = 'display_data';\n",
              "          await google.colab.output.renderOutput(dataTable, element);\n",
              "          const docLink = document.createElement('div');\n",
              "          docLink.innerHTML = docLinkHtml;\n",
              "          element.appendChild(docLink);\n",
              "        }\n",
              "      </script>\n",
              "    </div>\n",
              "  </div>\n",
              "  "
            ]
          },
          "metadata": {},
          "execution_count": 118
        }
      ]
    },
    {
      "cell_type": "code",
      "source": [
        ""
      ],
      "metadata": {
        "id": "3RP-_OZEIxJB"
      },
      "execution_count": null,
      "outputs": []
    }
  ]
}