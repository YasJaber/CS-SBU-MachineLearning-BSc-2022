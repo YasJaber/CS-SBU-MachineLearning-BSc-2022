{
  "nbformat": 4,
  "nbformat_minor": 0,
  "metadata": {
    "colab": {
      "name": "Apartment rental offers in Germany.ipynb",
      "provenance": [],
      "collapsed_sections": [],
      "mount_file_id": "1hWOkcGHN5QSTHl-P66top6Wupr6KwhUp",
      "authorship_tag": "ABX9TyMMEH9gsQsPm31ShcY6wgGF",
      "include_colab_link": true
    },
    "kernelspec": {
      "name": "python3",
      "display_name": "Python 3"
    },
    "language_info": {
      "name": "python"
    }
  },
  "cells": [
    {
      "cell_type": "markdown",
      "metadata": {
        "id": "view-in-github",
        "colab_type": "text"
      },
      "source": [
        "<a href=\"https://colab.research.google.com/github/scheshmi/CS-SBU-MachineLearning-BSc-2022/blob/98222027/submits/98222027/project1/Apartment_rental_offers_in_Germany.ipynb\" target=\"_parent\"><img src=\"https://colab.research.google.com/assets/colab-badge.svg\" alt=\"Open In Colab\"/></a>"
      ]
    },
    {
      "cell_type": "markdown",
      "source": [
        "#Downloading Dataset from Kaggle\n"
      ],
      "metadata": {
        "id": "uICwS3PSBFUO"
      }
    },
    {
      "cell_type": "code",
      "execution_count": 1,
      "metadata": {
        "id": "Slj_RTu85-Xq"
      },
      "outputs": [],
      "source": [
        "!mkdir -p ~/.kaggle\n",
        "!cp /content/drive/MyDrive/kaggle.json ~/.kaggle/\n",
        "!chmod 600 ~/.kaggle/kaggle.json"
      ]
    },
    {
      "cell_type": "code",
      "source": [
        "!kaggle datasets download -d corrieaar/apartment-rental-offers-in-germany"
      ],
      "metadata": {
        "colab": {
          "base_uri": "https://localhost:8080/"
        },
        "id": "IpExDpti69BU",
        "outputId": "26d87507-a5a9-4c24-bc52-95dac418ff30"
      },
      "execution_count": 2,
      "outputs": [
        {
          "output_type": "stream",
          "name": "stdout",
          "text": [
            "Downloading apartment-rental-offers-in-germany.zip to /content\n",
            "100% 93.0M/93.0M [00:00<00:00, 162MB/s]\n",
            "100% 93.0M/93.0M [00:00<00:00, 142MB/s]\n"
          ]
        }
      ]
    },
    {
      "cell_type": "code",
      "source": [
        "!unzip apartment-rental-offers-in-germany.zip"
      ],
      "metadata": {
        "colab": {
          "base_uri": "https://localhost:8080/"
        },
        "id": "htE_Fa8O7DVY",
        "outputId": "07289811-8b3e-4f39-b90f-4ef63d6468ff"
      },
      "execution_count": 3,
      "outputs": [
        {
          "output_type": "stream",
          "name": "stdout",
          "text": [
            "Archive:  apartment-rental-offers-in-germany.zip\n",
            "  inflating: immo_data.csv           \n"
          ]
        }
      ]
    },
    {
      "cell_type": "markdown",
      "source": [
        "#Loading dataset"
      ],
      "metadata": {
        "id": "tD6tTjxNBRsK"
      }
    },
    {
      "cell_type": "code",
      "source": [
        "import pandas as pd\n",
        "import numpy as np\n",
        "import matplotlib.pyplot as plt\n",
        "import seaborn as sns\n",
        "%matplotlib inline"
      ],
      "metadata": {
        "id": "0LCLQu377Pwi"
      },
      "execution_count": 4,
      "outputs": []
    },
    {
      "cell_type": "code",
      "source": [
        "dataset = pd.read_csv('immo_data.csv')"
      ],
      "metadata": {
        "id": "LHm0FAfZ8NEp"
      },
      "execution_count": 5,
      "outputs": []
    },
    {
      "cell_type": "code",
      "source": [
        "dataset.head()"
      ],
      "metadata": {
        "colab": {
          "base_uri": "https://localhost:8080/",
          "height": 577
        },
        "id": "uf5EPHDapRNA",
        "outputId": "dd3babb2-0a63-417d-8af1-bad116b926dd"
      },
      "execution_count": 6,
      "outputs": [
        {
          "output_type": "execute_result",
          "data": {
            "text/plain": [
              "                regio1  serviceCharge                     heatingType  \\\n",
              "0  Nordrhein_Westfalen         245.00                 central_heating   \n",
              "1      Rheinland_Pfalz         134.00  self_contained_central_heating   \n",
              "2              Sachsen         255.00                   floor_heating   \n",
              "3              Sachsen          58.15                district_heating   \n",
              "4               Bremen         138.00  self_contained_central_heating   \n",
              "\n",
              "  telekomTvOffer  telekomHybridUploadSpeed  newlyConst  balcony  picturecount  \\\n",
              "0  ONE_YEAR_FREE                       NaN       False    False             6   \n",
              "1  ONE_YEAR_FREE                       NaN       False     True             8   \n",
              "2  ONE_YEAR_FREE                      10.0        True     True             8   \n",
              "3  ONE_YEAR_FREE                       NaN       False     True             9   \n",
              "4            NaN                       NaN       False     True            19   \n",
              "\n",
              "   pricetrend  telekomUploadSpeed  ...               regio2  \\\n",
              "0        4.62                10.0  ...             Dortmund   \n",
              "1        3.47                10.0  ...    Rhein_Pfalz_Kreis   \n",
              "2        2.72                 2.4  ...              Dresden   \n",
              "3        1.53                40.0  ...  Mittelsachsen_Kreis   \n",
              "4        2.46                 NaN  ...               Bremen   \n",
              "\n",
              "                       regio3  \\\n",
              "0                     Schüren   \n",
              "1              Böhl_Iggelheim   \n",
              "2  Äußere_Neustadt_Antonstadt   \n",
              "3                    Freiberg   \n",
              "4           Neu_Schwachhausen   \n",
              "\n",
              "                                         description  \\\n",
              "0  Die ebenerdig zu erreichende Erdgeschosswohnun...   \n",
              "1  Alles neu macht der Mai – so kann es auch für ...   \n",
              "2  Der Neubau entsteht im Herzen der Dresdner Neu...   \n",
              "3  Abseits von Lärm und Abgasen in Ihre neue Wohn...   \n",
              "4  Es handelt sich hier um ein saniertes Mehrfami...   \n",
              "\n",
              "                                          facilities heatingCosts  \\\n",
              "0  Die Wohnung ist mit Laminat ausgelegt. Das Bad...          NaN   \n",
              "1                                                NaN          NaN   \n",
              "2  * 9 m² Balkon\\n* Bad mit bodengleicher Dusche,...          NaN   \n",
              "3                                                NaN        87.23   \n",
              "4  Diese Wohnung wurde neu saniert und ist wie fo...          NaN   \n",
              "\n",
              "   energyEfficiencyClass lastRefurbish  electricityBasePrice  \\\n",
              "0                    NaN           NaN                   NaN   \n",
              "1                    NaN        2019.0                   NaN   \n",
              "2                    NaN           NaN                   NaN   \n",
              "3                    NaN           NaN                   NaN   \n",
              "4                    NaN           NaN                   NaN   \n",
              "\n",
              "   electricityKwhPrice   date  \n",
              "0                  NaN  May19  \n",
              "1                  NaN  May19  \n",
              "2                  NaN  Oct19  \n",
              "3                  NaN  May19  \n",
              "4                  NaN  Feb20  \n",
              "\n",
              "[5 rows x 49 columns]"
            ],
            "text/html": [
              "\n",
              "  <div id=\"df-27b60e65-76d8-4538-9278-497d72b2bf0d\">\n",
              "    <div class=\"colab-df-container\">\n",
              "      <div>\n",
              "<style scoped>\n",
              "    .dataframe tbody tr th:only-of-type {\n",
              "        vertical-align: middle;\n",
              "    }\n",
              "\n",
              "    .dataframe tbody tr th {\n",
              "        vertical-align: top;\n",
              "    }\n",
              "\n",
              "    .dataframe thead th {\n",
              "        text-align: right;\n",
              "    }\n",
              "</style>\n",
              "<table border=\"1\" class=\"dataframe\">\n",
              "  <thead>\n",
              "    <tr style=\"text-align: right;\">\n",
              "      <th></th>\n",
              "      <th>regio1</th>\n",
              "      <th>serviceCharge</th>\n",
              "      <th>heatingType</th>\n",
              "      <th>telekomTvOffer</th>\n",
              "      <th>telekomHybridUploadSpeed</th>\n",
              "      <th>newlyConst</th>\n",
              "      <th>balcony</th>\n",
              "      <th>picturecount</th>\n",
              "      <th>pricetrend</th>\n",
              "      <th>telekomUploadSpeed</th>\n",
              "      <th>...</th>\n",
              "      <th>regio2</th>\n",
              "      <th>regio3</th>\n",
              "      <th>description</th>\n",
              "      <th>facilities</th>\n",
              "      <th>heatingCosts</th>\n",
              "      <th>energyEfficiencyClass</th>\n",
              "      <th>lastRefurbish</th>\n",
              "      <th>electricityBasePrice</th>\n",
              "      <th>electricityKwhPrice</th>\n",
              "      <th>date</th>\n",
              "    </tr>\n",
              "  </thead>\n",
              "  <tbody>\n",
              "    <tr>\n",
              "      <th>0</th>\n",
              "      <td>Nordrhein_Westfalen</td>\n",
              "      <td>245.00</td>\n",
              "      <td>central_heating</td>\n",
              "      <td>ONE_YEAR_FREE</td>\n",
              "      <td>NaN</td>\n",
              "      <td>False</td>\n",
              "      <td>False</td>\n",
              "      <td>6</td>\n",
              "      <td>4.62</td>\n",
              "      <td>10.0</td>\n",
              "      <td>...</td>\n",
              "      <td>Dortmund</td>\n",
              "      <td>Schüren</td>\n",
              "      <td>Die ebenerdig zu erreichende Erdgeschosswohnun...</td>\n",
              "      <td>Die Wohnung ist mit Laminat ausgelegt. Das Bad...</td>\n",
              "      <td>NaN</td>\n",
              "      <td>NaN</td>\n",
              "      <td>NaN</td>\n",
              "      <td>NaN</td>\n",
              "      <td>NaN</td>\n",
              "      <td>May19</td>\n",
              "    </tr>\n",
              "    <tr>\n",
              "      <th>1</th>\n",
              "      <td>Rheinland_Pfalz</td>\n",
              "      <td>134.00</td>\n",
              "      <td>self_contained_central_heating</td>\n",
              "      <td>ONE_YEAR_FREE</td>\n",
              "      <td>NaN</td>\n",
              "      <td>False</td>\n",
              "      <td>True</td>\n",
              "      <td>8</td>\n",
              "      <td>3.47</td>\n",
              "      <td>10.0</td>\n",
              "      <td>...</td>\n",
              "      <td>Rhein_Pfalz_Kreis</td>\n",
              "      <td>Böhl_Iggelheim</td>\n",
              "      <td>Alles neu macht der Mai – so kann es auch für ...</td>\n",
              "      <td>NaN</td>\n",
              "      <td>NaN</td>\n",
              "      <td>NaN</td>\n",
              "      <td>2019.0</td>\n",
              "      <td>NaN</td>\n",
              "      <td>NaN</td>\n",
              "      <td>May19</td>\n",
              "    </tr>\n",
              "    <tr>\n",
              "      <th>2</th>\n",
              "      <td>Sachsen</td>\n",
              "      <td>255.00</td>\n",
              "      <td>floor_heating</td>\n",
              "      <td>ONE_YEAR_FREE</td>\n",
              "      <td>10.0</td>\n",
              "      <td>True</td>\n",
              "      <td>True</td>\n",
              "      <td>8</td>\n",
              "      <td>2.72</td>\n",
              "      <td>2.4</td>\n",
              "      <td>...</td>\n",
              "      <td>Dresden</td>\n",
              "      <td>Äußere_Neustadt_Antonstadt</td>\n",
              "      <td>Der Neubau entsteht im Herzen der Dresdner Neu...</td>\n",
              "      <td>* 9 m² Balkon\\n* Bad mit bodengleicher Dusche,...</td>\n",
              "      <td>NaN</td>\n",
              "      <td>NaN</td>\n",
              "      <td>NaN</td>\n",
              "      <td>NaN</td>\n",
              "      <td>NaN</td>\n",
              "      <td>Oct19</td>\n",
              "    </tr>\n",
              "    <tr>\n",
              "      <th>3</th>\n",
              "      <td>Sachsen</td>\n",
              "      <td>58.15</td>\n",
              "      <td>district_heating</td>\n",
              "      <td>ONE_YEAR_FREE</td>\n",
              "      <td>NaN</td>\n",
              "      <td>False</td>\n",
              "      <td>True</td>\n",
              "      <td>9</td>\n",
              "      <td>1.53</td>\n",
              "      <td>40.0</td>\n",
              "      <td>...</td>\n",
              "      <td>Mittelsachsen_Kreis</td>\n",
              "      <td>Freiberg</td>\n",
              "      <td>Abseits von Lärm und Abgasen in Ihre neue Wohn...</td>\n",
              "      <td>NaN</td>\n",
              "      <td>87.23</td>\n",
              "      <td>NaN</td>\n",
              "      <td>NaN</td>\n",
              "      <td>NaN</td>\n",
              "      <td>NaN</td>\n",
              "      <td>May19</td>\n",
              "    </tr>\n",
              "    <tr>\n",
              "      <th>4</th>\n",
              "      <td>Bremen</td>\n",
              "      <td>138.00</td>\n",
              "      <td>self_contained_central_heating</td>\n",
              "      <td>NaN</td>\n",
              "      <td>NaN</td>\n",
              "      <td>False</td>\n",
              "      <td>True</td>\n",
              "      <td>19</td>\n",
              "      <td>2.46</td>\n",
              "      <td>NaN</td>\n",
              "      <td>...</td>\n",
              "      <td>Bremen</td>\n",
              "      <td>Neu_Schwachhausen</td>\n",
              "      <td>Es handelt sich hier um ein saniertes Mehrfami...</td>\n",
              "      <td>Diese Wohnung wurde neu saniert und ist wie fo...</td>\n",
              "      <td>NaN</td>\n",
              "      <td>NaN</td>\n",
              "      <td>NaN</td>\n",
              "      <td>NaN</td>\n",
              "      <td>NaN</td>\n",
              "      <td>Feb20</td>\n",
              "    </tr>\n",
              "  </tbody>\n",
              "</table>\n",
              "<p>5 rows × 49 columns</p>\n",
              "</div>\n",
              "      <button class=\"colab-df-convert\" onclick=\"convertToInteractive('df-27b60e65-76d8-4538-9278-497d72b2bf0d')\"\n",
              "              title=\"Convert this dataframe to an interactive table.\"\n",
              "              style=\"display:none;\">\n",
              "        \n",
              "  <svg xmlns=\"http://www.w3.org/2000/svg\" height=\"24px\"viewBox=\"0 0 24 24\"\n",
              "       width=\"24px\">\n",
              "    <path d=\"M0 0h24v24H0V0z\" fill=\"none\"/>\n",
              "    <path d=\"M18.56 5.44l.94 2.06.94-2.06 2.06-.94-2.06-.94-.94-2.06-.94 2.06-2.06.94zm-11 1L8.5 8.5l.94-2.06 2.06-.94-2.06-.94L8.5 2.5l-.94 2.06-2.06.94zm10 10l.94 2.06.94-2.06 2.06-.94-2.06-.94-.94-2.06-.94 2.06-2.06.94z\"/><path d=\"M17.41 7.96l-1.37-1.37c-.4-.4-.92-.59-1.43-.59-.52 0-1.04.2-1.43.59L10.3 9.45l-7.72 7.72c-.78.78-.78 2.05 0 2.83L4 21.41c.39.39.9.59 1.41.59.51 0 1.02-.2 1.41-.59l7.78-7.78 2.81-2.81c.8-.78.8-2.07 0-2.86zM5.41 20L4 18.59l7.72-7.72 1.47 1.35L5.41 20z\"/>\n",
              "  </svg>\n",
              "      </button>\n",
              "      \n",
              "  <style>\n",
              "    .colab-df-container {\n",
              "      display:flex;\n",
              "      flex-wrap:wrap;\n",
              "      gap: 12px;\n",
              "    }\n",
              "\n",
              "    .colab-df-convert {\n",
              "      background-color: #E8F0FE;\n",
              "      border: none;\n",
              "      border-radius: 50%;\n",
              "      cursor: pointer;\n",
              "      display: none;\n",
              "      fill: #1967D2;\n",
              "      height: 32px;\n",
              "      padding: 0 0 0 0;\n",
              "      width: 32px;\n",
              "    }\n",
              "\n",
              "    .colab-df-convert:hover {\n",
              "      background-color: #E2EBFA;\n",
              "      box-shadow: 0px 1px 2px rgba(60, 64, 67, 0.3), 0px 1px 3px 1px rgba(60, 64, 67, 0.15);\n",
              "      fill: #174EA6;\n",
              "    }\n",
              "\n",
              "    [theme=dark] .colab-df-convert {\n",
              "      background-color: #3B4455;\n",
              "      fill: #D2E3FC;\n",
              "    }\n",
              "\n",
              "    [theme=dark] .colab-df-convert:hover {\n",
              "      background-color: #434B5C;\n",
              "      box-shadow: 0px 1px 3px 1px rgba(0, 0, 0, 0.15);\n",
              "      filter: drop-shadow(0px 1px 2px rgba(0, 0, 0, 0.3));\n",
              "      fill: #FFFFFF;\n",
              "    }\n",
              "  </style>\n",
              "\n",
              "      <script>\n",
              "        const buttonEl =\n",
              "          document.querySelector('#df-27b60e65-76d8-4538-9278-497d72b2bf0d button.colab-df-convert');\n",
              "        buttonEl.style.display =\n",
              "          google.colab.kernel.accessAllowed ? 'block' : 'none';\n",
              "\n",
              "        async function convertToInteractive(key) {\n",
              "          const element = document.querySelector('#df-27b60e65-76d8-4538-9278-497d72b2bf0d');\n",
              "          const dataTable =\n",
              "            await google.colab.kernel.invokeFunction('convertToInteractive',\n",
              "                                                     [key], {});\n",
              "          if (!dataTable) return;\n",
              "\n",
              "          const docLinkHtml = 'Like what you see? Visit the ' +\n",
              "            '<a target=\"_blank\" href=https://colab.research.google.com/notebooks/data_table.ipynb>data table notebook</a>'\n",
              "            + ' to learn more about interactive tables.';\n",
              "          element.innerHTML = '';\n",
              "          dataTable['output_type'] = 'display_data';\n",
              "          await google.colab.output.renderOutput(dataTable, element);\n",
              "          const docLink = document.createElement('div');\n",
              "          docLink.innerHTML = docLinkHtml;\n",
              "          element.appendChild(docLink);\n",
              "        }\n",
              "      </script>\n",
              "    </div>\n",
              "  </div>\n",
              "  "
            ]
          },
          "metadata": {},
          "execution_count": 6
        }
      ]
    },
    {
      "cell_type": "code",
      "source": [
        "dataset.info()"
      ],
      "metadata": {
        "colab": {
          "base_uri": "https://localhost:8080/"
        },
        "id": "0Fs5U6kW88Fq",
        "outputId": "db6fc6af-4def-4b24-f85a-4d80bd7bc865"
      },
      "execution_count": 7,
      "outputs": [
        {
          "output_type": "stream",
          "name": "stdout",
          "text": [
            "<class 'pandas.core.frame.DataFrame'>\n",
            "RangeIndex: 268850 entries, 0 to 268849\n",
            "Data columns (total 49 columns):\n",
            " #   Column                    Non-Null Count   Dtype  \n",
            "---  ------                    --------------   -----  \n",
            " 0   regio1                    268850 non-null  object \n",
            " 1   serviceCharge             261941 non-null  float64\n",
            " 2   heatingType               223994 non-null  object \n",
            " 3   telekomTvOffer            236231 non-null  object \n",
            " 4   telekomHybridUploadSpeed  45020 non-null   float64\n",
            " 5   newlyConst                268850 non-null  bool   \n",
            " 6   balcony                   268850 non-null  bool   \n",
            " 7   picturecount              268850 non-null  int64  \n",
            " 8   pricetrend                267018 non-null  float64\n",
            " 9   telekomUploadSpeed        235492 non-null  float64\n",
            " 10  totalRent                 228333 non-null  float64\n",
            " 11  yearConstructed           211805 non-null  float64\n",
            " 12  scoutId                   268850 non-null  int64  \n",
            " 13  noParkSpaces              93052 non-null   float64\n",
            " 14  firingTypes               211886 non-null  object \n",
            " 15  hasKitchen                268850 non-null  bool   \n",
            " 16  geo_bln                   268850 non-null  object \n",
            " 17  cellar                    268850 non-null  bool   \n",
            " 18  yearConstructedRange      211805 non-null  float64\n",
            " 19  baseRent                  268850 non-null  float64\n",
            " 20  houseNumber               197832 non-null  object \n",
            " 21  livingSpace               268850 non-null  float64\n",
            " 22  geo_krs                   268850 non-null  object \n",
            " 23  condition                 200361 non-null  object \n",
            " 24  interiorQual              156185 non-null  object \n",
            " 25  petsAllowed               154277 non-null  object \n",
            " 26  street                    268850 non-null  object \n",
            " 27  streetPlain               197837 non-null  object \n",
            " 28  lift                      268850 non-null  bool   \n",
            " 29  baseRentRange             268850 non-null  int64  \n",
            " 30  typeOfFlat                232236 non-null  object \n",
            " 31  geo_plz                   268850 non-null  int64  \n",
            " 32  noRooms                   268850 non-null  float64\n",
            " 33  thermalChar               162344 non-null  float64\n",
            " 34  floor                     217541 non-null  float64\n",
            " 35  numberOfFloors            171118 non-null  float64\n",
            " 36  noRoomsRange              268850 non-null  int64  \n",
            " 37  garden                    268850 non-null  bool   \n",
            " 38  livingSpaceRange          268850 non-null  int64  \n",
            " 39  regio2                    268850 non-null  object \n",
            " 40  regio3                    268850 non-null  object \n",
            " 41  description               249103 non-null  object \n",
            " 42  facilities                215926 non-null  object \n",
            " 43  heatingCosts              85518 non-null   float64\n",
            " 44  energyEfficiencyClass     77787 non-null   object \n",
            " 45  lastRefurbish             80711 non-null   float64\n",
            " 46  electricityBasePrice      46846 non-null   float64\n",
            " 47  electricityKwhPrice       46846 non-null   float64\n",
            " 48  date                      268850 non-null  object \n",
            "dtypes: bool(6), float64(18), int64(6), object(19)\n",
            "memory usage: 89.7+ MB\n"
          ]
        }
      ]
    },
    {
      "cell_type": "markdown",
      "source": [
        "#Preprocessing"
      ],
      "metadata": {
        "id": "w18NYYK0BdoU"
      }
    },
    {
      "cell_type": "code",
      "source": [
        "dataset.isnull().sum()/len(dataset)"
      ],
      "metadata": {
        "colab": {
          "base_uri": "https://localhost:8080/"
        },
        "id": "9UkDKWh29dL_",
        "outputId": "589876f9-1d8a-4068-8d86-835fd30ebb50"
      },
      "execution_count": 8,
      "outputs": [
        {
          "output_type": "execute_result",
          "data": {
            "text/plain": [
              "regio1                      0.000000\n",
              "serviceCharge               0.025698\n",
              "heatingType                 0.166844\n",
              "telekomTvOffer              0.121328\n",
              "telekomHybridUploadSpeed    0.832546\n",
              "newlyConst                  0.000000\n",
              "balcony                     0.000000\n",
              "picturecount                0.000000\n",
              "pricetrend                  0.006814\n",
              "telekomUploadSpeed          0.124077\n",
              "totalRent                   0.150705\n",
              "yearConstructed             0.212182\n",
              "scoutId                     0.000000\n",
              "noParkSpaces                0.653889\n",
              "firingTypes                 0.211880\n",
              "hasKitchen                  0.000000\n",
              "geo_bln                     0.000000\n",
              "cellar                      0.000000\n",
              "yearConstructedRange        0.212182\n",
              "baseRent                    0.000000\n",
              "houseNumber                 0.264155\n",
              "livingSpace                 0.000000\n",
              "geo_krs                     0.000000\n",
              "condition                   0.254748\n",
              "interiorQual                0.419063\n",
              "petsAllowed                 0.426160\n",
              "street                      0.000000\n",
              "streetPlain                 0.264136\n",
              "lift                        0.000000\n",
              "baseRentRange               0.000000\n",
              "typeOfFlat                  0.136187\n",
              "geo_plz                     0.000000\n",
              "noRooms                     0.000000\n",
              "thermalChar                 0.396154\n",
              "floor                       0.190846\n",
              "numberOfFloors              0.363519\n",
              "noRoomsRange                0.000000\n",
              "garden                      0.000000\n",
              "livingSpaceRange            0.000000\n",
              "regio2                      0.000000\n",
              "regio3                      0.000000\n",
              "description                 0.073450\n",
              "facilities                  0.196853\n",
              "heatingCosts                0.681912\n",
              "energyEfficiencyClass       0.710668\n",
              "lastRefurbish               0.699792\n",
              "electricityBasePrice        0.825754\n",
              "electricityKwhPrice         0.825754\n",
              "date                        0.000000\n",
              "dtype: float64"
            ]
          },
          "metadata": {},
          "execution_count": 8
        }
      ]
    },
    {
      "cell_type": "markdown",
      "source": [
        "Delete columns which over 50% of them is null"
      ],
      "metadata": {
        "id": "Z3_ccBaiBqIe"
      }
    },
    {
      "cell_type": "code",
      "source": [
        "bad_cols = dataset.columns[dataset.isnull().sum()/len(dataset) > 0.5]"
      ],
      "metadata": {
        "id": "9Livij6t-4xA"
      },
      "execution_count": 9,
      "outputs": []
    },
    {
      "cell_type": "code",
      "source": [
        "bad_cols"
      ],
      "metadata": {
        "colab": {
          "base_uri": "https://localhost:8080/"
        },
        "id": "05ueVR8k1jhR",
        "outputId": "93154854-a314-4a64-fd17-c763787023fa"
      },
      "execution_count": 10,
      "outputs": [
        {
          "output_type": "execute_result",
          "data": {
            "text/plain": [
              "Index(['telekomHybridUploadSpeed', 'noParkSpaces', 'heatingCosts',\n",
              "       'energyEfficiencyClass', 'lastRefurbish', 'electricityBasePrice',\n",
              "       'electricityKwhPrice'],\n",
              "      dtype='object')"
            ]
          },
          "metadata": {},
          "execution_count": 10
        }
      ]
    },
    {
      "cell_type": "code",
      "source": [
        "dataset.drop(columns=bad_cols,inplace=True)"
      ],
      "metadata": {
        "id": "QDMESZzrBjZ4"
      },
      "execution_count": 11,
      "outputs": []
    },
    {
      "cell_type": "code",
      "source": [
        "dataset.info()"
      ],
      "metadata": {
        "colab": {
          "base_uri": "https://localhost:8080/"
        },
        "id": "sZHyv7fCByWC",
        "outputId": "e8905252-a2b2-4157-fd28-0e4ef16076ed"
      },
      "execution_count": 12,
      "outputs": [
        {
          "output_type": "stream",
          "name": "stdout",
          "text": [
            "<class 'pandas.core.frame.DataFrame'>\n",
            "RangeIndex: 268850 entries, 0 to 268849\n",
            "Data columns (total 42 columns):\n",
            " #   Column                Non-Null Count   Dtype  \n",
            "---  ------                --------------   -----  \n",
            " 0   regio1                268850 non-null  object \n",
            " 1   serviceCharge         261941 non-null  float64\n",
            " 2   heatingType           223994 non-null  object \n",
            " 3   telekomTvOffer        236231 non-null  object \n",
            " 4   newlyConst            268850 non-null  bool   \n",
            " 5   balcony               268850 non-null  bool   \n",
            " 6   picturecount          268850 non-null  int64  \n",
            " 7   pricetrend            267018 non-null  float64\n",
            " 8   telekomUploadSpeed    235492 non-null  float64\n",
            " 9   totalRent             228333 non-null  float64\n",
            " 10  yearConstructed       211805 non-null  float64\n",
            " 11  scoutId               268850 non-null  int64  \n",
            " 12  firingTypes           211886 non-null  object \n",
            " 13  hasKitchen            268850 non-null  bool   \n",
            " 14  geo_bln               268850 non-null  object \n",
            " 15  cellar                268850 non-null  bool   \n",
            " 16  yearConstructedRange  211805 non-null  float64\n",
            " 17  baseRent              268850 non-null  float64\n",
            " 18  houseNumber           197832 non-null  object \n",
            " 19  livingSpace           268850 non-null  float64\n",
            " 20  geo_krs               268850 non-null  object \n",
            " 21  condition             200361 non-null  object \n",
            " 22  interiorQual          156185 non-null  object \n",
            " 23  petsAllowed           154277 non-null  object \n",
            " 24  street                268850 non-null  object \n",
            " 25  streetPlain           197837 non-null  object \n",
            " 26  lift                  268850 non-null  bool   \n",
            " 27  baseRentRange         268850 non-null  int64  \n",
            " 28  typeOfFlat            232236 non-null  object \n",
            " 29  geo_plz               268850 non-null  int64  \n",
            " 30  noRooms               268850 non-null  float64\n",
            " 31  thermalChar           162344 non-null  float64\n",
            " 32  floor                 217541 non-null  float64\n",
            " 33  numberOfFloors        171118 non-null  float64\n",
            " 34  noRoomsRange          268850 non-null  int64  \n",
            " 35  garden                268850 non-null  bool   \n",
            " 36  livingSpaceRange      268850 non-null  int64  \n",
            " 37  regio2                268850 non-null  object \n",
            " 38  regio3                268850 non-null  object \n",
            " 39  description           249103 non-null  object \n",
            " 40  facilities            215926 non-null  object \n",
            " 41  date                  268850 non-null  object \n",
            "dtypes: bool(6), float64(12), int64(6), object(18)\n",
            "memory usage: 75.4+ MB\n"
          ]
        }
      ]
    },
    {
      "cell_type": "markdown",
      "source": [
        "delete unuseful and uninformative columns"
      ],
      "metadata": {
        "id": "abDdlsbEB4k5"
      }
    },
    {
      "cell_type": "code",
      "source": [
        "unuseful_cols = ['date','description','scoutId','picturecount',\"facilities\",'houseNumber',\n",
        "                  'livingSpaceRange','yearConstructedRange','baseRentRange','noRoomsRange']\n",
        "dataset.drop(columns=unuseful_cols,inplace=True)"
      ],
      "metadata": {
        "id": "4Z3nXd1IB0sZ"
      },
      "execution_count": 13,
      "outputs": []
    },
    {
      "cell_type": "code",
      "source": [
        "dataset.info()"
      ],
      "metadata": {
        "colab": {
          "base_uri": "https://localhost:8080/"
        },
        "id": "lK8iIfLbCQeO",
        "outputId": "d138db19-c5e4-407b-b487-0002d49022ec"
      },
      "execution_count": 14,
      "outputs": [
        {
          "output_type": "stream",
          "name": "stdout",
          "text": [
            "<class 'pandas.core.frame.DataFrame'>\n",
            "RangeIndex: 268850 entries, 0 to 268849\n",
            "Data columns (total 32 columns):\n",
            " #   Column              Non-Null Count   Dtype  \n",
            "---  ------              --------------   -----  \n",
            " 0   regio1              268850 non-null  object \n",
            " 1   serviceCharge       261941 non-null  float64\n",
            " 2   heatingType         223994 non-null  object \n",
            " 3   telekomTvOffer      236231 non-null  object \n",
            " 4   newlyConst          268850 non-null  bool   \n",
            " 5   balcony             268850 non-null  bool   \n",
            " 6   pricetrend          267018 non-null  float64\n",
            " 7   telekomUploadSpeed  235492 non-null  float64\n",
            " 8   totalRent           228333 non-null  float64\n",
            " 9   yearConstructed     211805 non-null  float64\n",
            " 10  firingTypes         211886 non-null  object \n",
            " 11  hasKitchen          268850 non-null  bool   \n",
            " 12  geo_bln             268850 non-null  object \n",
            " 13  cellar              268850 non-null  bool   \n",
            " 14  baseRent            268850 non-null  float64\n",
            " 15  livingSpace         268850 non-null  float64\n",
            " 16  geo_krs             268850 non-null  object \n",
            " 17  condition           200361 non-null  object \n",
            " 18  interiorQual        156185 non-null  object \n",
            " 19  petsAllowed         154277 non-null  object \n",
            " 20  street              268850 non-null  object \n",
            " 21  streetPlain         197837 non-null  object \n",
            " 22  lift                268850 non-null  bool   \n",
            " 23  typeOfFlat          232236 non-null  object \n",
            " 24  geo_plz             268850 non-null  int64  \n",
            " 25  noRooms             268850 non-null  float64\n",
            " 26  thermalChar         162344 non-null  float64\n",
            " 27  floor               217541 non-null  float64\n",
            " 28  numberOfFloors      171118 non-null  float64\n",
            " 29  garden              268850 non-null  bool   \n",
            " 30  regio2              268850 non-null  object \n",
            " 31  regio3              268850 non-null  object \n",
            "dtypes: bool(6), float64(11), int64(1), object(14)\n",
            "memory usage: 54.9+ MB\n"
          ]
        }
      ]
    },
    {
      "cell_type": "code",
      "source": [
        "dataset.street"
      ],
      "metadata": {
        "colab": {
          "base_uri": "https://localhost:8080/"
        },
        "id": "Rv88cX5yCi_4",
        "outputId": "6f55ee4d-f87e-4bf4-ebd1-79d13a20860d"
      },
      "execution_count": 15,
      "outputs": [
        {
          "output_type": "execute_result",
          "data": {
            "text/plain": [
              "0          Sch&uuml;ruferstra&szlig;e\n",
              "1                      no_information\n",
              "2                           Turnerweg\n",
              "3         Gl&uuml;ck-Auf-Stra&szlig;e\n",
              "4         Hermann-Henrich-Meier-Allee\n",
              "                     ...             \n",
              "268845                 no_information\n",
              "268846                 no_information\n",
              "268847                 Emsbachstrasse\n",
              "268848                Idastra&szlig;e\n",
              "268849      Robert-Di&szlig;mann-Str.\n",
              "Name: street, Length: 268850, dtype: object"
            ]
          },
          "metadata": {},
          "execution_count": 15
        }
      ]
    },
    {
      "cell_type": "code",
      "source": [
        "dataset.streetPlain.nunique()"
      ],
      "metadata": {
        "colab": {
          "base_uri": "https://localhost:8080/"
        },
        "id": "tD6rK55sFffT",
        "outputId": "29feb158-a4bd-4861-9390-fa2275b56621"
      },
      "execution_count": 16,
      "outputs": [
        {
          "output_type": "execute_result",
          "data": {
            "text/plain": [
              "54490"
            ]
          },
          "metadata": {},
          "execution_count": 16
        }
      ]
    },
    {
      "cell_type": "markdown",
      "source": [
        "street and streetPlain are uninformative, too"
      ],
      "metadata": {
        "id": "JGu9AjabCMj2"
      }
    },
    {
      "cell_type": "code",
      "source": [
        "dataset.drop(['street','streetPlain'],axis=1,inplace=True)"
      ],
      "metadata": {
        "id": "IogUGkmNFmCf"
      },
      "execution_count": 17,
      "outputs": []
    },
    {
      "cell_type": "markdown",
      "source": [
        "Duplicated records"
      ],
      "metadata": {
        "id": "HXcQamshCcjY"
      }
    },
    {
      "cell_type": "code",
      "source": [
        "dataset.duplicated().sum()"
      ],
      "metadata": {
        "colab": {
          "base_uri": "https://localhost:8080/"
        },
        "id": "3cY2KmX8GIJC",
        "outputId": "bbd31963-4dd7-4701-91ca-bdeb99221b47"
      },
      "execution_count": 18,
      "outputs": [
        {
          "output_type": "execute_result",
          "data": {
            "text/plain": [
              "2247"
            ]
          },
          "metadata": {},
          "execution_count": 18
        }
      ]
    },
    {
      "cell_type": "code",
      "source": [
        "dataset.drop_duplicates(keep='last',inplace=True)"
      ],
      "metadata": {
        "id": "SU_sgauzIy4z"
      },
      "execution_count": 19,
      "outputs": []
    },
    {
      "cell_type": "code",
      "source": [
        "dataset.duplicated().sum()"
      ],
      "metadata": {
        "colab": {
          "base_uri": "https://localhost:8080/"
        },
        "id": "4eKHP6W3I91E",
        "outputId": "de85653c-db20-4507-8845-3e7a1f201fec"
      },
      "execution_count": 20,
      "outputs": [
        {
          "output_type": "execute_result",
          "data": {
            "text/plain": [
              "0"
            ]
          },
          "metadata": {},
          "execution_count": 20
        }
      ]
    },
    {
      "cell_type": "markdown",
      "source": [
        "fill totalRent null values with its median"
      ],
      "metadata": {
        "id": "QVt6WAG8Codc"
      }
    },
    {
      "cell_type": "code",
      "source": [
        "dataset.totalRent.isnull().sum()"
      ],
      "metadata": {
        "colab": {
          "base_uri": "https://localhost:8080/"
        },
        "id": "CMwadbSJJAdb",
        "outputId": "45f6d4bf-aabb-4acb-d9f1-acba23642cf6"
      },
      "execution_count": 21,
      "outputs": [
        {
          "output_type": "execute_result",
          "data": {
            "text/plain": [
              "40171"
            ]
          },
          "metadata": {},
          "execution_count": 21
        }
      ]
    },
    {
      "cell_type": "code",
      "source": [
        "print(dataset.totalRent.median())"
      ],
      "metadata": {
        "colab": {
          "base_uri": "https://localhost:8080/"
        },
        "id": "YzXUXwo57tWB",
        "outputId": "7db12f96-d617-4dc5-8b68-3bd6e3e56c63"
      },
      "execution_count": 22,
      "outputs": [
        {
          "output_type": "stream",
          "name": "stdout",
          "text": [
            "650.0\n"
          ]
        }
      ]
    },
    {
      "cell_type": "code",
      "source": [
        "dataset.totalRent.fillna(dataset.totalRent.median(),inplace=True)"
      ],
      "metadata": {
        "id": "RohD14HkJsR4"
      },
      "execution_count": 23,
      "outputs": []
    },
    {
      "cell_type": "markdown",
      "source": [
        "deleting rows where baseRent is greater than or equal to totalRent, totalRent equals to 0 or greater than 10000"
      ],
      "metadata": {
        "id": "GLeJV8hcC7cB"
      }
    },
    {
      "cell_type": "code",
      "source": [
        "dataset[dataset.baseRent >= dataset.totalRent].loc[:,['baseRent','totalRent']]"
      ],
      "metadata": {
        "colab": {
          "base_uri": "https://localhost:8080/",
          "height": 424
        },
        "id": "xCCmS0EJl9AN",
        "outputId": "ba2faf53-aedc-4275-deb0-a853ef688171"
      },
      "execution_count": 24,
      "outputs": [
        {
          "output_type": "execute_result",
          "data": {
            "text/plain": [
              "        baseRent  totalRent\n",
              "1          800.0      650.0\n",
              "21        1190.0     1190.0\n",
              "28        2400.0     2400.0\n",
              "32        2780.0     2780.0\n",
              "46        2190.0     2190.0\n",
              "...          ...        ...\n",
              "268700     980.0      980.0\n",
              "268747     652.0      650.0\n",
              "268752    1290.0     1290.0\n",
              "268807     825.0      825.0\n",
              "268849     935.0      650.0\n",
              "\n",
              "[21019 rows x 2 columns]"
            ],
            "text/html": [
              "\n",
              "  <div id=\"df-a673bfee-32a4-4028-9710-8ce39ad2bf90\">\n",
              "    <div class=\"colab-df-container\">\n",
              "      <div>\n",
              "<style scoped>\n",
              "    .dataframe tbody tr th:only-of-type {\n",
              "        vertical-align: middle;\n",
              "    }\n",
              "\n",
              "    .dataframe tbody tr th {\n",
              "        vertical-align: top;\n",
              "    }\n",
              "\n",
              "    .dataframe thead th {\n",
              "        text-align: right;\n",
              "    }\n",
              "</style>\n",
              "<table border=\"1\" class=\"dataframe\">\n",
              "  <thead>\n",
              "    <tr style=\"text-align: right;\">\n",
              "      <th></th>\n",
              "      <th>baseRent</th>\n",
              "      <th>totalRent</th>\n",
              "    </tr>\n",
              "  </thead>\n",
              "  <tbody>\n",
              "    <tr>\n",
              "      <th>1</th>\n",
              "      <td>800.0</td>\n",
              "      <td>650.0</td>\n",
              "    </tr>\n",
              "    <tr>\n",
              "      <th>21</th>\n",
              "      <td>1190.0</td>\n",
              "      <td>1190.0</td>\n",
              "    </tr>\n",
              "    <tr>\n",
              "      <th>28</th>\n",
              "      <td>2400.0</td>\n",
              "      <td>2400.0</td>\n",
              "    </tr>\n",
              "    <tr>\n",
              "      <th>32</th>\n",
              "      <td>2780.0</td>\n",
              "      <td>2780.0</td>\n",
              "    </tr>\n",
              "    <tr>\n",
              "      <th>46</th>\n",
              "      <td>2190.0</td>\n",
              "      <td>2190.0</td>\n",
              "    </tr>\n",
              "    <tr>\n",
              "      <th>...</th>\n",
              "      <td>...</td>\n",
              "      <td>...</td>\n",
              "    </tr>\n",
              "    <tr>\n",
              "      <th>268700</th>\n",
              "      <td>980.0</td>\n",
              "      <td>980.0</td>\n",
              "    </tr>\n",
              "    <tr>\n",
              "      <th>268747</th>\n",
              "      <td>652.0</td>\n",
              "      <td>650.0</td>\n",
              "    </tr>\n",
              "    <tr>\n",
              "      <th>268752</th>\n",
              "      <td>1290.0</td>\n",
              "      <td>1290.0</td>\n",
              "    </tr>\n",
              "    <tr>\n",
              "      <th>268807</th>\n",
              "      <td>825.0</td>\n",
              "      <td>825.0</td>\n",
              "    </tr>\n",
              "    <tr>\n",
              "      <th>268849</th>\n",
              "      <td>935.0</td>\n",
              "      <td>650.0</td>\n",
              "    </tr>\n",
              "  </tbody>\n",
              "</table>\n",
              "<p>21019 rows × 2 columns</p>\n",
              "</div>\n",
              "      <button class=\"colab-df-convert\" onclick=\"convertToInteractive('df-a673bfee-32a4-4028-9710-8ce39ad2bf90')\"\n",
              "              title=\"Convert this dataframe to an interactive table.\"\n",
              "              style=\"display:none;\">\n",
              "        \n",
              "  <svg xmlns=\"http://www.w3.org/2000/svg\" height=\"24px\"viewBox=\"0 0 24 24\"\n",
              "       width=\"24px\">\n",
              "    <path d=\"M0 0h24v24H0V0z\" fill=\"none\"/>\n",
              "    <path d=\"M18.56 5.44l.94 2.06.94-2.06 2.06-.94-2.06-.94-.94-2.06-.94 2.06-2.06.94zm-11 1L8.5 8.5l.94-2.06 2.06-.94-2.06-.94L8.5 2.5l-.94 2.06-2.06.94zm10 10l.94 2.06.94-2.06 2.06-.94-2.06-.94-.94-2.06-.94 2.06-2.06.94z\"/><path d=\"M17.41 7.96l-1.37-1.37c-.4-.4-.92-.59-1.43-.59-.52 0-1.04.2-1.43.59L10.3 9.45l-7.72 7.72c-.78.78-.78 2.05 0 2.83L4 21.41c.39.39.9.59 1.41.59.51 0 1.02-.2 1.41-.59l7.78-7.78 2.81-2.81c.8-.78.8-2.07 0-2.86zM5.41 20L4 18.59l7.72-7.72 1.47 1.35L5.41 20z\"/>\n",
              "  </svg>\n",
              "      </button>\n",
              "      \n",
              "  <style>\n",
              "    .colab-df-container {\n",
              "      display:flex;\n",
              "      flex-wrap:wrap;\n",
              "      gap: 12px;\n",
              "    }\n",
              "\n",
              "    .colab-df-convert {\n",
              "      background-color: #E8F0FE;\n",
              "      border: none;\n",
              "      border-radius: 50%;\n",
              "      cursor: pointer;\n",
              "      display: none;\n",
              "      fill: #1967D2;\n",
              "      height: 32px;\n",
              "      padding: 0 0 0 0;\n",
              "      width: 32px;\n",
              "    }\n",
              "\n",
              "    .colab-df-convert:hover {\n",
              "      background-color: #E2EBFA;\n",
              "      box-shadow: 0px 1px 2px rgba(60, 64, 67, 0.3), 0px 1px 3px 1px rgba(60, 64, 67, 0.15);\n",
              "      fill: #174EA6;\n",
              "    }\n",
              "\n",
              "    [theme=dark] .colab-df-convert {\n",
              "      background-color: #3B4455;\n",
              "      fill: #D2E3FC;\n",
              "    }\n",
              "\n",
              "    [theme=dark] .colab-df-convert:hover {\n",
              "      background-color: #434B5C;\n",
              "      box-shadow: 0px 1px 3px 1px rgba(0, 0, 0, 0.15);\n",
              "      filter: drop-shadow(0px 1px 2px rgba(0, 0, 0, 0.3));\n",
              "      fill: #FFFFFF;\n",
              "    }\n",
              "  </style>\n",
              "\n",
              "      <script>\n",
              "        const buttonEl =\n",
              "          document.querySelector('#df-a673bfee-32a4-4028-9710-8ce39ad2bf90 button.colab-df-convert');\n",
              "        buttonEl.style.display =\n",
              "          google.colab.kernel.accessAllowed ? 'block' : 'none';\n",
              "\n",
              "        async function convertToInteractive(key) {\n",
              "          const element = document.querySelector('#df-a673bfee-32a4-4028-9710-8ce39ad2bf90');\n",
              "          const dataTable =\n",
              "            await google.colab.kernel.invokeFunction('convertToInteractive',\n",
              "                                                     [key], {});\n",
              "          if (!dataTable) return;\n",
              "\n",
              "          const docLinkHtml = 'Like what you see? Visit the ' +\n",
              "            '<a target=\"_blank\" href=https://colab.research.google.com/notebooks/data_table.ipynb>data table notebook</a>'\n",
              "            + ' to learn more about interactive tables.';\n",
              "          element.innerHTML = '';\n",
              "          dataTable['output_type'] = 'display_data';\n",
              "          await google.colab.output.renderOutput(dataTable, element);\n",
              "          const docLink = document.createElement('div');\n",
              "          docLink.innerHTML = docLinkHtml;\n",
              "          element.appendChild(docLink);\n",
              "        }\n",
              "      </script>\n",
              "    </div>\n",
              "  </div>\n",
              "  "
            ]
          },
          "metadata": {},
          "execution_count": 24
        }
      ]
    },
    {
      "cell_type": "code",
      "source": [
        "dataset.drop(dataset[dataset.baseRent >= dataset.totalRent].index,inplace=True)"
      ],
      "metadata": {
        "id": "_20FAs_zl9pc"
      },
      "execution_count": 25,
      "outputs": []
    },
    {
      "cell_type": "code",
      "source": [
        "dataset.drop(dataset[dataset.totalRent == 0 ].index,inplace=True)"
      ],
      "metadata": {
        "id": "V8__S7M3mRVt"
      },
      "execution_count": 26,
      "outputs": []
    },
    {
      "cell_type": "code",
      "source": [
        "dataset.drop(dataset[dataset['totalRent']>10000].index,inplace=True)"
      ],
      "metadata": {
        "id": "J6VyhovO0POi"
      },
      "execution_count": 27,
      "outputs": []
    },
    {
      "cell_type": "markdown",
      "source": [
        "Also, livingSpace equals to 0 does not make sense!!"
      ],
      "metadata": {
        "id": "dspibIbhDb6p"
      }
    },
    {
      "cell_type": "code",
      "source": [
        "dataset.drop(dataset[dataset['livingSpace'] == 0].index,inplace=True)"
      ],
      "metadata": {
        "id": "UvmzZ-xyVcQA"
      },
      "execution_count": 28,
      "outputs": []
    },
    {
      "cell_type": "markdown",
      "source": [
        "filling null values of numerical columns with their mean"
      ],
      "metadata": {
        "id": "nUxzgU2gDr8M"
      }
    },
    {
      "cell_type": "code",
      "source": [
        "dataset._get_numeric_data().isnull().sum()"
      ],
      "metadata": {
        "colab": {
          "base_uri": "https://localhost:8080/"
        },
        "id": "7n-j2Z04Kwpw",
        "outputId": "4185b698-04d8-4dc0-d91d-0f3bebdbb8e0"
      },
      "execution_count": 29,
      "outputs": [
        {
          "output_type": "execute_result",
          "data": {
            "text/plain": [
              "serviceCharge          3929\n",
              "newlyConst                0\n",
              "balcony                   0\n",
              "pricetrend             1676\n",
              "telekomUploadSpeed    29017\n",
              "totalRent                 0\n",
              "yearConstructed       52004\n",
              "hasKitchen                0\n",
              "cellar                    0\n",
              "baseRent                  0\n",
              "livingSpace               0\n",
              "lift                      0\n",
              "geo_plz                   0\n",
              "noRooms                   0\n",
              "thermalChar           96182\n",
              "floor                 44484\n",
              "numberOfFloors        86549\n",
              "garden                    0\n",
              "dtype: int64"
            ]
          },
          "metadata": {},
          "execution_count": 29
        }
      ]
    },
    {
      "cell_type": "code",
      "source": [
        "numerical_cols = dataset.select_dtypes(exclude=['bool','object'])"
      ],
      "metadata": {
        "id": "B0MSXpUVLNcz"
      },
      "execution_count": 88,
      "outputs": []
    },
    {
      "cell_type": "code",
      "source": [
        "dataset.fillna(numerical_cols.mean(),inplace=True)"
      ],
      "metadata": {
        "id": "lKdhida0MEao"
      },
      "execution_count": 31,
      "outputs": []
    },
    {
      "cell_type": "markdown",
      "source": [
        "filling null values of categorical columns with their mode"
      ],
      "metadata": {
        "id": "DMvoqrh1D75X"
      }
    },
    {
      "cell_type": "code",
      "source": [
        "dataset.isnull().sum()"
      ],
      "metadata": {
        "colab": {
          "base_uri": "https://localhost:8080/"
        },
        "id": "59KXdr00MlGV",
        "outputId": "de329931-6622-442f-b03d-705e988e9f48"
      },
      "execution_count": 32,
      "outputs": [
        {
          "output_type": "execute_result",
          "data": {
            "text/plain": [
              "regio1                     0\n",
              "serviceCharge              0\n",
              "heatingType            38736\n",
              "telekomTvOffer         28348\n",
              "newlyConst                 0\n",
              "balcony                    0\n",
              "pricetrend                 0\n",
              "telekomUploadSpeed         0\n",
              "totalRent                  0\n",
              "yearConstructed            0\n",
              "firingTypes            51001\n",
              "hasKitchen                 0\n",
              "geo_bln                    0\n",
              "cellar                     0\n",
              "baseRent                   0\n",
              "livingSpace                0\n",
              "geo_krs                    0\n",
              "condition              61513\n",
              "interiorQual          100996\n",
              "petsAllowed           103536\n",
              "lift                       0\n",
              "typeOfFlat             31956\n",
              "geo_plz                    0\n",
              "noRooms                    0\n",
              "thermalChar                0\n",
              "floor                      0\n",
              "numberOfFloors             0\n",
              "garden                     0\n",
              "regio2                     0\n",
              "regio3                     0\n",
              "dtype: int64"
            ]
          },
          "metadata": {},
          "execution_count": 32
        }
      ]
    },
    {
      "cell_type": "code",
      "source": [
        "categorical_cols = dataset.select_dtypes(include=['bool','object'])"
      ],
      "metadata": {
        "id": "YZJmYXjmMw59"
      },
      "execution_count": 33,
      "outputs": []
    },
    {
      "cell_type": "code",
      "source": [
        "categorical_cols.isnull().sum()"
      ],
      "metadata": {
        "colab": {
          "base_uri": "https://localhost:8080/"
        },
        "id": "fpgGFpd59L-w",
        "outputId": "3361bc80-f6a1-489a-97fa-a2be5fb942b5"
      },
      "execution_count": 34,
      "outputs": [
        {
          "output_type": "execute_result",
          "data": {
            "text/plain": [
              "regio1                 0\n",
              "heatingType        38736\n",
              "telekomTvOffer     28348\n",
              "newlyConst             0\n",
              "balcony                0\n",
              "firingTypes        51001\n",
              "hasKitchen             0\n",
              "geo_bln                0\n",
              "cellar                 0\n",
              "geo_krs                0\n",
              "condition          61513\n",
              "interiorQual      100996\n",
              "petsAllowed       103536\n",
              "lift                   0\n",
              "typeOfFlat         31956\n",
              "garden                 0\n",
              "regio2                 0\n",
              "regio3                 0\n",
              "dtype: int64"
            ]
          },
          "metadata": {},
          "execution_count": 34
        }
      ]
    },
    {
      "cell_type": "code",
      "source": [
        "dataset.fillna(categorical_cols.mode().iloc[0],inplace= True)"
      ],
      "metadata": {
        "id": "OLDuBbIsNnoq"
      },
      "execution_count": 35,
      "outputs": []
    },
    {
      "cell_type": "code",
      "source": [
        "dataset.info()"
      ],
      "metadata": {
        "colab": {
          "base_uri": "https://localhost:8080/"
        },
        "id": "-7CLquVMNoud",
        "outputId": "235238a8-b94e-42c6-dfea-1ae7ecd5b127"
      },
      "execution_count": 36,
      "outputs": [
        {
          "output_type": "stream",
          "name": "stdout",
          "text": [
            "<class 'pandas.core.frame.DataFrame'>\n",
            "Int64Index: 245495 entries, 0 to 268848\n",
            "Data columns (total 30 columns):\n",
            " #   Column              Non-Null Count   Dtype  \n",
            "---  ------              --------------   -----  \n",
            " 0   regio1              245495 non-null  object \n",
            " 1   serviceCharge       245495 non-null  float64\n",
            " 2   heatingType         245495 non-null  object \n",
            " 3   telekomTvOffer      245495 non-null  object \n",
            " 4   newlyConst          245495 non-null  bool   \n",
            " 5   balcony             245495 non-null  bool   \n",
            " 6   pricetrend          245495 non-null  float64\n",
            " 7   telekomUploadSpeed  245495 non-null  float64\n",
            " 8   totalRent           245495 non-null  float64\n",
            " 9   yearConstructed     245495 non-null  float64\n",
            " 10  firingTypes         245495 non-null  object \n",
            " 11  hasKitchen          245495 non-null  bool   \n",
            " 12  geo_bln             245495 non-null  object \n",
            " 13  cellar              245495 non-null  bool   \n",
            " 14  baseRent            245495 non-null  float64\n",
            " 15  livingSpace         245495 non-null  float64\n",
            " 16  geo_krs             245495 non-null  object \n",
            " 17  condition           245495 non-null  object \n",
            " 18  interiorQual        245495 non-null  object \n",
            " 19  petsAllowed         245495 non-null  object \n",
            " 20  lift                245495 non-null  bool   \n",
            " 21  typeOfFlat          245495 non-null  object \n",
            " 22  geo_plz             245495 non-null  int64  \n",
            " 23  noRooms             245495 non-null  float64\n",
            " 24  thermalChar         245495 non-null  float64\n",
            " 25  floor               245495 non-null  float64\n",
            " 26  numberOfFloors      245495 non-null  float64\n",
            " 27  garden              245495 non-null  bool   \n",
            " 28  regio2              245495 non-null  object \n",
            " 29  regio3              245495 non-null  object \n",
            "dtypes: bool(6), float64(11), int64(1), object(12)\n",
            "memory usage: 48.2+ MB\n"
          ]
        }
      ]
    },
    {
      "cell_type": "markdown",
      "source": [
        "Finding outliers"
      ],
      "metadata": {
        "id": "3qtQWg3VEC7h"
      }
    },
    {
      "cell_type": "code",
      "source": [
        "def detect_outlier(df,col_name):\n",
        "  \"\"\"\n",
        "  Find indexes of outliers by computing z-score\n",
        "\n",
        "  Parameters\n",
        "  ----------\n",
        "  df : pd.DataFrame\n",
        "       dataframe of dataset \n",
        "  col_name : str\n",
        "             name of column you want to find outliers in\n",
        "  Returns\n",
        "  -------\n",
        "  indexes : pd.Index\n",
        "            indexes of outliers\n",
        "  \"\"\"\n",
        "\n",
        "  upper = df[col_name].mean() + 3 * df[col_name].std()\n",
        "  lower = df[col_name].mean() - 3 * df[col_name].std()\n",
        "\n",
        "  indexes = df[(df[col_name] > upper) | (df[col_name] < lower)].index\n",
        "  return indexes"
      ],
      "metadata": {
        "id": "hKxuza22Ps6w"
      },
      "execution_count": 37,
      "outputs": []
    },
    {
      "cell_type": "code",
      "source": [
        "dataset.shape"
      ],
      "metadata": {
        "colab": {
          "base_uri": "https://localhost:8080/"
        },
        "id": "WW8JwbL2RY3i",
        "outputId": "7f4e3c7b-f5d6-4dbb-8899-98e6b8bdfce3"
      },
      "execution_count": 38,
      "outputs": [
        {
          "output_type": "execute_result",
          "data": {
            "text/plain": [
              "(245495, 30)"
            ]
          },
          "metadata": {},
          "execution_count": 38
        }
      ]
    },
    {
      "cell_type": "code",
      "source": [
        "for col in dataset.columns:\n",
        "  if dataset[col].dtype == 'int64' or dataset[col].dtype == 'float64':\n",
        "    outlier_indexes = detect_outlier(dataset,col)\n",
        "    dataset.drop(outlier_indexes,inplace=True)"
      ],
      "metadata": {
        "id": "IEAQPilnRAOD"
      },
      "execution_count": 39,
      "outputs": []
    },
    {
      "cell_type": "code",
      "source": [
        "dataset.shape"
      ],
      "metadata": {
        "colab": {
          "base_uri": "https://localhost:8080/"
        },
        "id": "5p_QUY43RLpX",
        "outputId": "f284a155-25f7-48a6-babc-28d61a8777fe"
      },
      "execution_count": 40,
      "outputs": [
        {
          "output_type": "execute_result",
          "data": {
            "text/plain": [
              "(230510, 30)"
            ]
          },
          "metadata": {},
          "execution_count": 40
        }
      ]
    },
    {
      "cell_type": "code",
      "source": [
        "for col in dataset.columns:\n",
        "  if dataset[col].dtype == 'object' or dataset[col].dtype == 'bool':\n",
        "    print(f'{col} has {dataset[col].nunique()} states')"
      ],
      "metadata": {
        "colab": {
          "base_uri": "https://localhost:8080/"
        },
        "id": "cU0cvNi1RT4z",
        "outputId": "00e9df68-d434-49c4-a554-b7e914331af4"
      },
      "execution_count": 41,
      "outputs": [
        {
          "output_type": "stream",
          "name": "stdout",
          "text": [
            "regio1 has 16 states\n",
            "heatingType has 13 states\n",
            "telekomTvOffer has 3 states\n",
            "newlyConst has 2 states\n",
            "balcony has 2 states\n",
            "firingTypes has 115 states\n",
            "hasKitchen has 2 states\n",
            "geo_bln has 16 states\n",
            "cellar has 2 states\n",
            "geo_krs has 419 states\n",
            "condition has 10 states\n",
            "interiorQual has 4 states\n",
            "petsAllowed has 3 states\n",
            "lift has 2 states\n",
            "typeOfFlat has 10 states\n",
            "garden has 2 states\n",
            "regio2 has 419 states\n",
            "regio3 has 8444 states\n"
          ]
        }
      ]
    },
    {
      "cell_type": "code",
      "source": [
        "categorical_cols.nunique()"
      ],
      "metadata": {
        "colab": {
          "base_uri": "https://localhost:8080/"
        },
        "id": "dWDx4r-O_2b8",
        "outputId": "739f642e-007d-4eaa-dcc1-5758576abea1"
      },
      "execution_count": 42,
      "outputs": [
        {
          "output_type": "execute_result",
          "data": {
            "text/plain": [
              "regio1              16\n",
              "heatingType         13\n",
              "telekomTvOffer       3\n",
              "newlyConst           2\n",
              "balcony              2\n",
              "firingTypes        118\n",
              "hasKitchen           2\n",
              "geo_bln             16\n",
              "cellar               2\n",
              "geo_krs            419\n",
              "condition           10\n",
              "interiorQual         4\n",
              "petsAllowed          3\n",
              "lift                 2\n",
              "typeOfFlat          10\n",
              "garden               2\n",
              "regio2             419\n",
              "regio3            8526\n",
              "dtype: int64"
            ]
          },
          "metadata": {},
          "execution_count": 42
        }
      ]
    },
    {
      "cell_type": "markdown",
      "source": [
        "delete categorical columns which has too many states"
      ],
      "metadata": {
        "id": "7_I29oC1Eenm"
      }
    },
    {
      "cell_type": "code",
      "source": [
        "dataset.drop(columns=['firingTypes','geo_krs','regio2','regio3','geo_bln'],inplace=True)"
      ],
      "metadata": {
        "id": "olW4EN7KTJlL"
      },
      "execution_count": 43,
      "outputs": []
    },
    {
      "cell_type": "markdown",
      "source": [
        "reduce number of states in some columns"
      ],
      "metadata": {
        "id": "qGNqbOStEpAm"
      }
    },
    {
      "cell_type": "code",
      "source": [
        "for col in dataset.columns:\n",
        "  if dataset[col].dtype == 'object' or dataset[col].dtype == 'bool':\n",
        "    if dataset[col].nunique() > 5:\n",
        "      print(f'{col} has {dataset[col].nunique()} states')"
      ],
      "metadata": {
        "colab": {
          "base_uri": "https://localhost:8080/"
        },
        "id": "HrKVJUpXVRsI",
        "outputId": "b8748693-a711-4f80-bf50-40fb3a05b385"
      },
      "execution_count": 44,
      "outputs": [
        {
          "output_type": "stream",
          "name": "stdout",
          "text": [
            "regio1 has 16 states\n",
            "heatingType has 13 states\n",
            "condition has 10 states\n",
            "typeOfFlat has 10 states\n"
          ]
        }
      ]
    },
    {
      "cell_type": "code",
      "source": [
        "dataset.regio1.value_counts()*100/len(dataset)"
      ],
      "metadata": {
        "colab": {
          "base_uri": "https://localhost:8080/"
        },
        "id": "GO8eTiTkV3Us",
        "outputId": "3814656d-1c8b-477e-f0ff-0c7d93f7decf"
      },
      "execution_count": 45,
      "outputs": [
        {
          "output_type": "execute_result",
          "data": {
            "text/plain": [
              "Nordrhein_Westfalen       24.182465\n",
              "Sachsen                   23.703093\n",
              "Sachsen_Anhalt             8.402672\n",
              "Bayern                     6.686044\n",
              "Niedersachsen              6.230532\n",
              "Hessen                     5.678279\n",
              "Baden_Württemberg          5.021474\n",
              "Thüringen                  3.490087\n",
              "Rheinland_Pfalz            3.018958\n",
              "Brandenburg                2.824606\n",
              "Mecklenburg_Vorpommern     2.753460\n",
              "Berlin                     2.611600\n",
              "Schleswig_Holstein         2.592946\n",
              "Hamburg                    1.151360\n",
              "Bremen                     1.142250\n",
              "Saarland                   0.510173\n",
              "Name: regio1, dtype: float64"
            ]
          },
          "metadata": {},
          "execution_count": 45
        }
      ]
    },
    {
      "cell_type": "code",
      "source": [
        "def new_label_regio1(col):\n",
        "  \"\"\"\n",
        "  Return new label of regio1 column for instance\n",
        "\n",
        "  Parameters\n",
        "  ----------\n",
        "  col : pd.Series\n",
        "        regio1 column of dataset\n",
        "  \n",
        "  Returns\n",
        "  -------\n",
        "  int\n",
        "      return other if regio1  of instance is one of selected names otherwise col\n",
        "  \"\"\"\n",
        "  if col in ['Berlin','Brandenburg','Mecklenburg_Vorpommern',\n",
        "             'Schleswig_Holstein','Hamburg','Bremen','Saarland']:\n",
        "    return 'other'\n",
        "  else:\n",
        "    return col\n",
        "\n",
        "dataset['new_regio1'] = dataset.regio1.apply(new_label_regio1)\n",
        "dataset.drop('regio1',axis=1,inplace=True)"
      ],
      "metadata": {
        "id": "OT_fuoGGWE_S"
      },
      "execution_count": 46,
      "outputs": []
    },
    {
      "cell_type": "code",
      "source": [
        "dataset.new_regio1.value_counts()"
      ],
      "metadata": {
        "colab": {
          "base_uri": "https://localhost:8080/"
        },
        "id": "_dL3pV67XGcH",
        "outputId": "ccdf0bdf-872e-487b-a393-06439acda153"
      },
      "execution_count": 47,
      "outputs": [
        {
          "output_type": "execute_result",
          "data": {
            "text/plain": [
              "Nordrhein_Westfalen    55743\n",
              "Sachsen                54638\n",
              "other                  31318\n",
              "Sachsen_Anhalt         19369\n",
              "Bayern                 15412\n",
              "Niedersachsen          14362\n",
              "Hessen                 13089\n",
              "Baden_Württemberg      11575\n",
              "Thüringen               8045\n",
              "Rheinland_Pfalz         6959\n",
              "Name: new_regio1, dtype: int64"
            ]
          },
          "metadata": {},
          "execution_count": 47
        }
      ]
    },
    {
      "cell_type": "code",
      "source": [
        "dataset.heatingType.value_counts()*100/len(dataset)"
      ],
      "metadata": {
        "colab": {
          "base_uri": "https://localhost:8080/"
        },
        "id": "dY0whz3fXZFY",
        "outputId": "6084b1c0-05e4-4a2c-b5eb-9db65fef9ec0"
      },
      "execution_count": 48,
      "outputs": [
        {
          "output_type": "execute_result",
          "data": {
            "text/plain": [
              "central_heating                   65.199774\n",
              "district_heating                   9.520628\n",
              "gas_heating                        7.637847\n",
              "self_contained_central_heating     6.954145\n",
              "floor_heating                      5.733808\n",
              "oil_heating                        1.950458\n",
              "heat_pump                          0.889766\n",
              "combined_heat_and_power_plant      0.710598\n",
              "night_storage_heater               0.533599\n",
              "wood_pellet_heating                0.351829\n",
              "electric_heating                   0.337946\n",
              "stove_heating                      0.121036\n",
              "solar_heating                      0.058566\n",
              "Name: heatingType, dtype: float64"
            ]
          },
          "metadata": {},
          "execution_count": 48
        }
      ]
    },
    {
      "cell_type": "code",
      "source": [
        "def new_label_heatingType(col):\n",
        "  \"\"\"\n",
        "  Return new label of heatingType column for instance\n",
        "\n",
        "  Parameters\n",
        "  ----------\n",
        "  col : pd.Series\n",
        "        heatingType column of dataset\n",
        "  \n",
        "  Returns\n",
        "  -------\n",
        "  int\n",
        "      return other if heatingType of instance is not one of selected names otherwise col\n",
        "  \"\"\"\n",
        "  if col not in ['central_heating','district_heating','gas_heating','self_contained_central_heating','floor_heating','oil_heating']:\n",
        "    return 'other'\n",
        "  else:\n",
        "    return col\n",
        "\n",
        "\n",
        "dataset['new_heatingType'] = dataset.heatingType.apply(new_label_heatingType)\n",
        "dataset.drop(columns='heatingType',inplace=True)"
      ],
      "metadata": {
        "id": "OCn1VkOzX7xM"
      },
      "execution_count": 49,
      "outputs": []
    },
    {
      "cell_type": "code",
      "source": [
        "dataset.new_heatingType.value_counts()"
      ],
      "metadata": {
        "colab": {
          "base_uri": "https://localhost:8080/"
        },
        "id": "Q1q9mGLcYlqQ",
        "outputId": "5a445ffe-f9fe-48d2-9521-564fa150f149"
      },
      "execution_count": 50,
      "outputs": [
        {
          "output_type": "execute_result",
          "data": {
            "text/plain": [
              "central_heating                   150292\n",
              "district_heating                   21946\n",
              "gas_heating                        17606\n",
              "self_contained_central_heating     16030\n",
              "floor_heating                      13217\n",
              "other                               6923\n",
              "oil_heating                         4496\n",
              "Name: new_heatingType, dtype: int64"
            ]
          },
          "metadata": {},
          "execution_count": 50
        }
      ]
    },
    {
      "cell_type": "code",
      "source": [
        "dataset.condition.value_counts()*100/len(dataset)"
      ],
      "metadata": {
        "colab": {
          "base_uri": "https://localhost:8080/"
        },
        "id": "Dyzuj9Y4Ysum",
        "outputId": "3e016d84-7335-443a-8999-274313a35faa"
      },
      "execution_count": 51,
      "outputs": [
        {
          "output_type": "execute_result",
          "data": {
            "text/plain": [
              "well_kept                             51.392998\n",
              "refurbished                           10.796061\n",
              "fully_renovated                       10.082426\n",
              "mint_condition                         7.345885\n",
              "first_time_use                         6.715544\n",
              "modernized                             6.663485\n",
              "first_time_use_after_refurbishment     5.572860\n",
              "negotiable                             0.881957\n",
              "need_of_renovation                     0.547048\n",
              "ripe_for_demolition                    0.001735\n",
              "Name: condition, dtype: float64"
            ]
          },
          "metadata": {},
          "execution_count": 51
        }
      ]
    },
    {
      "cell_type": "code",
      "source": [
        "def new_label_condition(col):\n",
        "  \"\"\"\n",
        "  Return new label of condition column for instance\n",
        "\n",
        "  Parameters\n",
        "  ----------\n",
        "  col : pd.Series\n",
        "        condition column of dataset\n",
        "  \n",
        "  Returns\n",
        "  -------\n",
        "  int\n",
        "      return other if condition of instance is one of selected names otherwise col\n",
        "  \"\"\"\n",
        "  if col in ['negotiable','need_of_renovation','ripe_for_demolition']:\n",
        "    return 'other'\n",
        "  else:\n",
        "    return col\n",
        "\n",
        "dataset['new_condition'] = dataset.condition.apply(new_label_condition)\n",
        "dataset.drop(columns='condition',inplace=True)"
      ],
      "metadata": {
        "id": "ibi6fb33Zbe9"
      },
      "execution_count": 52,
      "outputs": []
    },
    {
      "cell_type": "code",
      "source": [
        "dataset.new_condition.value_counts()"
      ],
      "metadata": {
        "colab": {
          "base_uri": "https://localhost:8080/"
        },
        "id": "1t53tgehak33",
        "outputId": "169dfb0d-1f53-4f4a-877b-1d71ad47306e"
      },
      "execution_count": 53,
      "outputs": [
        {
          "output_type": "execute_result",
          "data": {
            "text/plain": [
              "well_kept                             118466\n",
              "refurbished                            24886\n",
              "fully_renovated                        23241\n",
              "mint_condition                         16933\n",
              "first_time_use                         15480\n",
              "modernized                             15360\n",
              "first_time_use_after_refurbishment     12846\n",
              "other                                   3298\n",
              "Name: new_condition, dtype: int64"
            ]
          },
          "metadata": {},
          "execution_count": 53
        }
      ]
    },
    {
      "cell_type": "code",
      "source": [
        "dataset.typeOfFlat.value_counts()*100/len(dataset)"
      ],
      "metadata": {
        "colab": {
          "base_uri": "https://localhost:8080/"
        },
        "id": "-2JWpl_ibLz4",
        "outputId": "4cce5094-1f04-41fa-af66-6e92c742a930"
      },
      "execution_count": 54,
      "outputs": [
        {
          "output_type": "execute_result",
          "data": {
            "text/plain": [
              "apartment              62.982951\n",
              "roof_storey            13.408963\n",
              "ground_floor           11.893627\n",
              "other                   3.616763\n",
              "maisonette              2.921348\n",
              "raised_ground_floor     2.183419\n",
              "terraced_flat           1.140948\n",
              "penthouse               0.796061\n",
              "half_basement           0.781745\n",
              "loft                    0.274175\n",
              "Name: typeOfFlat, dtype: float64"
            ]
          },
          "metadata": {},
          "execution_count": 54
        }
      ]
    },
    {
      "cell_type": "code",
      "source": [
        "def new_label_typeOfFlat(col):\n",
        "  \"\"\"\n",
        "  Return new label of typeOfFlat column for instance\n",
        "\n",
        "  Parameters\n",
        "  ----------\n",
        "  col : pd.Series\n",
        "        typeOfFlat column of dataset\n",
        "  \n",
        "  Returns\n",
        "  -------\n",
        "  int\n",
        "      return other if typeOfFlat of instance is one of selected names otherwise col\n",
        "  \"\"\"\n",
        "  if col  in ['penthouse','half_basement','loft']:\n",
        "    return 'other'\n",
        "  else:\n",
        "    return col\n",
        "dataset['new_typeOfFlat'] = dataset.typeOfFlat.apply(new_label_typeOfFlat)\n",
        "dataset.drop(columns='typeOfFlat',inplace=True)"
      ],
      "metadata": {
        "id": "Cu0XSt2QbUZG"
      },
      "execution_count": 55,
      "outputs": []
    },
    {
      "cell_type": "code",
      "source": [
        "dataset.new_typeOfFlat.value_counts()"
      ],
      "metadata": {
        "colab": {
          "base_uri": "https://localhost:8080/"
        },
        "id": "_XZN_YfCbsfd",
        "outputId": "b7073257-d789-41fc-92e9-1521ade82fcd"
      },
      "execution_count": 56,
      "outputs": [
        {
          "output_type": "execute_result",
          "data": {
            "text/plain": [
              "apartment              145182\n",
              "roof_storey             30909\n",
              "ground_floor            27416\n",
              "other                   12606\n",
              "maisonette               6734\n",
              "raised_ground_floor      5033\n",
              "terraced_flat            2630\n",
              "Name: new_typeOfFlat, dtype: int64"
            ]
          },
          "metadata": {},
          "execution_count": 56
        }
      ]
    },
    {
      "cell_type": "code",
      "source": [
        "for col in dataset.columns:\n",
        "  if dataset[col].dtype == 'object' or dataset[col].dtype == 'bool':\n",
        "    print(f'{col} has {dataset[col].nunique()} classes')"
      ],
      "metadata": {
        "colab": {
          "base_uri": "https://localhost:8080/"
        },
        "id": "e8atcZHjcFEt",
        "outputId": "21779b12-bf71-4c56-ecdd-fdf90487b0c7"
      },
      "execution_count": 57,
      "outputs": [
        {
          "output_type": "stream",
          "name": "stdout",
          "text": [
            "telekomTvOffer has 3 classes\n",
            "newlyConst has 2 classes\n",
            "balcony has 2 classes\n",
            "hasKitchen has 2 classes\n",
            "cellar has 2 classes\n",
            "interiorQual has 4 classes\n",
            "petsAllowed has 3 classes\n",
            "lift has 2 classes\n",
            "garden has 2 classes\n",
            "new_regio1 has 10 classes\n",
            "new_heatingType has 7 classes\n",
            "new_condition has 8 classes\n",
            "new_typeOfFlat has 7 classes\n"
          ]
        }
      ]
    },
    {
      "cell_type": "code",
      "source": [
        "dataset.info()"
      ],
      "metadata": {
        "colab": {
          "base_uri": "https://localhost:8080/"
        },
        "id": "jz_m-yMPcPLy",
        "outputId": "2e362928-2100-42a9-82b5-c395eae0c45b"
      },
      "execution_count": 58,
      "outputs": [
        {
          "output_type": "stream",
          "name": "stdout",
          "text": [
            "<class 'pandas.core.frame.DataFrame'>\n",
            "Int64Index: 230510 entries, 0 to 268848\n",
            "Data columns (total 25 columns):\n",
            " #   Column              Non-Null Count   Dtype  \n",
            "---  ------              --------------   -----  \n",
            " 0   serviceCharge       230510 non-null  float64\n",
            " 1   telekomTvOffer      230510 non-null  object \n",
            " 2   newlyConst          230510 non-null  bool   \n",
            " 3   balcony             230510 non-null  bool   \n",
            " 4   pricetrend          230510 non-null  float64\n",
            " 5   telekomUploadSpeed  230510 non-null  float64\n",
            " 6   totalRent           230510 non-null  float64\n",
            " 7   yearConstructed     230510 non-null  float64\n",
            " 8   hasKitchen          230510 non-null  bool   \n",
            " 9   cellar              230510 non-null  bool   \n",
            " 10  baseRent            230510 non-null  float64\n",
            " 11  livingSpace         230510 non-null  float64\n",
            " 12  interiorQual        230510 non-null  object \n",
            " 13  petsAllowed         230510 non-null  object \n",
            " 14  lift                230510 non-null  bool   \n",
            " 15  geo_plz             230510 non-null  int64  \n",
            " 16  noRooms             230510 non-null  float64\n",
            " 17  thermalChar         230510 non-null  float64\n",
            " 18  floor               230510 non-null  float64\n",
            " 19  numberOfFloors      230510 non-null  float64\n",
            " 20  garden              230510 non-null  bool   \n",
            " 21  new_regio1          230510 non-null  object \n",
            " 22  new_heatingType     230510 non-null  object \n",
            " 23  new_condition       230510 non-null  object \n",
            " 24  new_typeOfFlat      230510 non-null  object \n",
            "dtypes: bool(6), float64(11), int64(1), object(7)\n",
            "memory usage: 36.5+ MB\n"
          ]
        }
      ]
    },
    {
      "cell_type": "markdown",
      "source": [
        "#EDA"
      ],
      "metadata": {
        "id": "c3b4uPPvHIvh"
      }
    },
    {
      "cell_type": "code",
      "source": [
        "dataset.describe()"
      ],
      "metadata": {
        "colab": {
          "base_uri": "https://localhost:8080/",
          "height": 364
        },
        "id": "NfsclqYqcf0-",
        "outputId": "f9956889-b8e3-490e-de52-ba4d33fa2560"
      },
      "execution_count": 59,
      "outputs": [
        {
          "output_type": "execute_result",
          "data": {
            "text/plain": [
              "       serviceCharge     pricetrend  telekomUploadSpeed      totalRent  \\\n",
              "count  230510.000000  230510.000000       230510.000000  230510.000000   \n",
              "mean      141.456676       3.181025           28.775797     720.478734   \n",
              "std        66.584204       1.818176           15.319725     339.244509   \n",
              "min         0.000000      -2.540000            1.000000       5.900000   \n",
              "25%        94.000000       1.890000           10.000000     478.000000   \n",
              "50%       130.000000       3.250000           40.000000     650.000000   \n",
              "75%       177.625000       4.360000           40.000000     870.000000   \n",
              "max      1000.000000       9.150000           40.000000    2262.000000   \n",
              "\n",
              "       yearConstructed       baseRent    livingSpace       geo_plz  \\\n",
              "count    230510.000000  230510.000000  230510.000000  230510.00000   \n",
              "mean       1966.355402     544.397086      69.216290   35638.64310   \n",
              "std          32.957049     300.449551      25.887654   27367.63815   \n",
              "min        1841.000000       0.000000       1.000000     852.00000   \n",
              "25%        1958.000000     324.700000      53.000000    9113.00000   \n",
              "50%        1965.228357     450.000000      65.000000   36275.00000   \n",
              "75%        1989.000000     690.000000      82.000000   53113.00000   \n",
              "max        2029.000000    1577.340000     400.000000   99998.00000   \n",
              "\n",
              "             noRooms    thermalChar          floor  numberOfFloors  \n",
              "count  230510.000000  230510.000000  230510.000000   230510.000000  \n",
              "mean        2.554026     113.736766       2.065441        3.501604  \n",
              "std         0.915568      35.306456       1.358424        1.372021  \n",
              "min         1.000000       0.100000      -1.000000        0.000000  \n",
              "25%         2.000000      98.200000       1.000000        3.000000  \n",
              "50%         2.500000     115.608540       2.000000        3.582468  \n",
              "75%         3.000000     117.000000       3.000000        4.000000  \n",
              "max        10.000000     257.700000      11.000000       19.000000  "
            ],
            "text/html": [
              "\n",
              "  <div id=\"df-dc9780df-35d6-4c9e-885d-76ecddd59876\">\n",
              "    <div class=\"colab-df-container\">\n",
              "      <div>\n",
              "<style scoped>\n",
              "    .dataframe tbody tr th:only-of-type {\n",
              "        vertical-align: middle;\n",
              "    }\n",
              "\n",
              "    .dataframe tbody tr th {\n",
              "        vertical-align: top;\n",
              "    }\n",
              "\n",
              "    .dataframe thead th {\n",
              "        text-align: right;\n",
              "    }\n",
              "</style>\n",
              "<table border=\"1\" class=\"dataframe\">\n",
              "  <thead>\n",
              "    <tr style=\"text-align: right;\">\n",
              "      <th></th>\n",
              "      <th>serviceCharge</th>\n",
              "      <th>pricetrend</th>\n",
              "      <th>telekomUploadSpeed</th>\n",
              "      <th>totalRent</th>\n",
              "      <th>yearConstructed</th>\n",
              "      <th>baseRent</th>\n",
              "      <th>livingSpace</th>\n",
              "      <th>geo_plz</th>\n",
              "      <th>noRooms</th>\n",
              "      <th>thermalChar</th>\n",
              "      <th>floor</th>\n",
              "      <th>numberOfFloors</th>\n",
              "    </tr>\n",
              "  </thead>\n",
              "  <tbody>\n",
              "    <tr>\n",
              "      <th>count</th>\n",
              "      <td>230510.000000</td>\n",
              "      <td>230510.000000</td>\n",
              "      <td>230510.000000</td>\n",
              "      <td>230510.000000</td>\n",
              "      <td>230510.000000</td>\n",
              "      <td>230510.000000</td>\n",
              "      <td>230510.000000</td>\n",
              "      <td>230510.00000</td>\n",
              "      <td>230510.000000</td>\n",
              "      <td>230510.000000</td>\n",
              "      <td>230510.000000</td>\n",
              "      <td>230510.000000</td>\n",
              "    </tr>\n",
              "    <tr>\n",
              "      <th>mean</th>\n",
              "      <td>141.456676</td>\n",
              "      <td>3.181025</td>\n",
              "      <td>28.775797</td>\n",
              "      <td>720.478734</td>\n",
              "      <td>1966.355402</td>\n",
              "      <td>544.397086</td>\n",
              "      <td>69.216290</td>\n",
              "      <td>35638.64310</td>\n",
              "      <td>2.554026</td>\n",
              "      <td>113.736766</td>\n",
              "      <td>2.065441</td>\n",
              "      <td>3.501604</td>\n",
              "    </tr>\n",
              "    <tr>\n",
              "      <th>std</th>\n",
              "      <td>66.584204</td>\n",
              "      <td>1.818176</td>\n",
              "      <td>15.319725</td>\n",
              "      <td>339.244509</td>\n",
              "      <td>32.957049</td>\n",
              "      <td>300.449551</td>\n",
              "      <td>25.887654</td>\n",
              "      <td>27367.63815</td>\n",
              "      <td>0.915568</td>\n",
              "      <td>35.306456</td>\n",
              "      <td>1.358424</td>\n",
              "      <td>1.372021</td>\n",
              "    </tr>\n",
              "    <tr>\n",
              "      <th>min</th>\n",
              "      <td>0.000000</td>\n",
              "      <td>-2.540000</td>\n",
              "      <td>1.000000</td>\n",
              "      <td>5.900000</td>\n",
              "      <td>1841.000000</td>\n",
              "      <td>0.000000</td>\n",
              "      <td>1.000000</td>\n",
              "      <td>852.00000</td>\n",
              "      <td>1.000000</td>\n",
              "      <td>0.100000</td>\n",
              "      <td>-1.000000</td>\n",
              "      <td>0.000000</td>\n",
              "    </tr>\n",
              "    <tr>\n",
              "      <th>25%</th>\n",
              "      <td>94.000000</td>\n",
              "      <td>1.890000</td>\n",
              "      <td>10.000000</td>\n",
              "      <td>478.000000</td>\n",
              "      <td>1958.000000</td>\n",
              "      <td>324.700000</td>\n",
              "      <td>53.000000</td>\n",
              "      <td>9113.00000</td>\n",
              "      <td>2.000000</td>\n",
              "      <td>98.200000</td>\n",
              "      <td>1.000000</td>\n",
              "      <td>3.000000</td>\n",
              "    </tr>\n",
              "    <tr>\n",
              "      <th>50%</th>\n",
              "      <td>130.000000</td>\n",
              "      <td>3.250000</td>\n",
              "      <td>40.000000</td>\n",
              "      <td>650.000000</td>\n",
              "      <td>1965.228357</td>\n",
              "      <td>450.000000</td>\n",
              "      <td>65.000000</td>\n",
              "      <td>36275.00000</td>\n",
              "      <td>2.500000</td>\n",
              "      <td>115.608540</td>\n",
              "      <td>2.000000</td>\n",
              "      <td>3.582468</td>\n",
              "    </tr>\n",
              "    <tr>\n",
              "      <th>75%</th>\n",
              "      <td>177.625000</td>\n",
              "      <td>4.360000</td>\n",
              "      <td>40.000000</td>\n",
              "      <td>870.000000</td>\n",
              "      <td>1989.000000</td>\n",
              "      <td>690.000000</td>\n",
              "      <td>82.000000</td>\n",
              "      <td>53113.00000</td>\n",
              "      <td>3.000000</td>\n",
              "      <td>117.000000</td>\n",
              "      <td>3.000000</td>\n",
              "      <td>4.000000</td>\n",
              "    </tr>\n",
              "    <tr>\n",
              "      <th>max</th>\n",
              "      <td>1000.000000</td>\n",
              "      <td>9.150000</td>\n",
              "      <td>40.000000</td>\n",
              "      <td>2262.000000</td>\n",
              "      <td>2029.000000</td>\n",
              "      <td>1577.340000</td>\n",
              "      <td>400.000000</td>\n",
              "      <td>99998.00000</td>\n",
              "      <td>10.000000</td>\n",
              "      <td>257.700000</td>\n",
              "      <td>11.000000</td>\n",
              "      <td>19.000000</td>\n",
              "    </tr>\n",
              "  </tbody>\n",
              "</table>\n",
              "</div>\n",
              "      <button class=\"colab-df-convert\" onclick=\"convertToInteractive('df-dc9780df-35d6-4c9e-885d-76ecddd59876')\"\n",
              "              title=\"Convert this dataframe to an interactive table.\"\n",
              "              style=\"display:none;\">\n",
              "        \n",
              "  <svg xmlns=\"http://www.w3.org/2000/svg\" height=\"24px\"viewBox=\"0 0 24 24\"\n",
              "       width=\"24px\">\n",
              "    <path d=\"M0 0h24v24H0V0z\" fill=\"none\"/>\n",
              "    <path d=\"M18.56 5.44l.94 2.06.94-2.06 2.06-.94-2.06-.94-.94-2.06-.94 2.06-2.06.94zm-11 1L8.5 8.5l.94-2.06 2.06-.94-2.06-.94L8.5 2.5l-.94 2.06-2.06.94zm10 10l.94 2.06.94-2.06 2.06-.94-2.06-.94-.94-2.06-.94 2.06-2.06.94z\"/><path d=\"M17.41 7.96l-1.37-1.37c-.4-.4-.92-.59-1.43-.59-.52 0-1.04.2-1.43.59L10.3 9.45l-7.72 7.72c-.78.78-.78 2.05 0 2.83L4 21.41c.39.39.9.59 1.41.59.51 0 1.02-.2 1.41-.59l7.78-7.78 2.81-2.81c.8-.78.8-2.07 0-2.86zM5.41 20L4 18.59l7.72-7.72 1.47 1.35L5.41 20z\"/>\n",
              "  </svg>\n",
              "      </button>\n",
              "      \n",
              "  <style>\n",
              "    .colab-df-container {\n",
              "      display:flex;\n",
              "      flex-wrap:wrap;\n",
              "      gap: 12px;\n",
              "    }\n",
              "\n",
              "    .colab-df-convert {\n",
              "      background-color: #E8F0FE;\n",
              "      border: none;\n",
              "      border-radius: 50%;\n",
              "      cursor: pointer;\n",
              "      display: none;\n",
              "      fill: #1967D2;\n",
              "      height: 32px;\n",
              "      padding: 0 0 0 0;\n",
              "      width: 32px;\n",
              "    }\n",
              "\n",
              "    .colab-df-convert:hover {\n",
              "      background-color: #E2EBFA;\n",
              "      box-shadow: 0px 1px 2px rgba(60, 64, 67, 0.3), 0px 1px 3px 1px rgba(60, 64, 67, 0.15);\n",
              "      fill: #174EA6;\n",
              "    }\n",
              "\n",
              "    [theme=dark] .colab-df-convert {\n",
              "      background-color: #3B4455;\n",
              "      fill: #D2E3FC;\n",
              "    }\n",
              "\n",
              "    [theme=dark] .colab-df-convert:hover {\n",
              "      background-color: #434B5C;\n",
              "      box-shadow: 0px 1px 3px 1px rgba(0, 0, 0, 0.15);\n",
              "      filter: drop-shadow(0px 1px 2px rgba(0, 0, 0, 0.3));\n",
              "      fill: #FFFFFF;\n",
              "    }\n",
              "  </style>\n",
              "\n",
              "      <script>\n",
              "        const buttonEl =\n",
              "          document.querySelector('#df-dc9780df-35d6-4c9e-885d-76ecddd59876 button.colab-df-convert');\n",
              "        buttonEl.style.display =\n",
              "          google.colab.kernel.accessAllowed ? 'block' : 'none';\n",
              "\n",
              "        async function convertToInteractive(key) {\n",
              "          const element = document.querySelector('#df-dc9780df-35d6-4c9e-885d-76ecddd59876');\n",
              "          const dataTable =\n",
              "            await google.colab.kernel.invokeFunction('convertToInteractive',\n",
              "                                                     [key], {});\n",
              "          if (!dataTable) return;\n",
              "\n",
              "          const docLinkHtml = 'Like what you see? Visit the ' +\n",
              "            '<a target=\"_blank\" href=https://colab.research.google.com/notebooks/data_table.ipynb>data table notebook</a>'\n",
              "            + ' to learn more about interactive tables.';\n",
              "          element.innerHTML = '';\n",
              "          dataTable['output_type'] = 'display_data';\n",
              "          await google.colab.output.renderOutput(dataTable, element);\n",
              "          const docLink = document.createElement('div');\n",
              "          docLink.innerHTML = docLinkHtml;\n",
              "          element.appendChild(docLink);\n",
              "        }\n",
              "      </script>\n",
              "    </div>\n",
              "  </div>\n",
              "  "
            ]
          },
          "metadata": {},
          "execution_count": 59
        }
      ]
    },
    {
      "cell_type": "markdown",
      "source": [
        "Distributions of numerical columns"
      ],
      "metadata": {
        "id": "cZ026hl0PUqG"
      }
    },
    {
      "cell_type": "code",
      "source": [
        "dataset.hist(figsize=(15,15),bins=30)\n",
        "plt.show()"
      ],
      "metadata": {
        "colab": {
          "base_uri": "https://localhost:8080/",
          "height": 879
        },
        "id": "406W8iAVck4P",
        "outputId": "cd7ca830-4acb-4958-8083-699483ffdbb8"
      },
      "execution_count": 60,
      "outputs": [
        {
          "output_type": "display_data",
          "data": {
            "text/plain": [
              "<Figure size 1080x1080 with 12 Axes>"
            ],
            "image/png": "[encoded data removed]"
          },
          "metadata": {
            "needs_background": "light"
          }
        }
      ]
    },
    {
      "cell_type": "markdown",
      "source": [
        "Distribution of baseRent and totalRent"
      ],
      "metadata": {
        "id": "HZo2SaIOG61T"
      }
    },
    {
      "cell_type": "code",
      "source": [
        "sns.histplot(data=dataset,x='baseRent',bins=30 )"
      ],
      "metadata": {
        "colab": {
          "base_uri": "https://localhost:8080/",
          "height": 296
        },
        "id": "ffG54xhFtz4R",
        "outputId": "f3386e85-11fc-409d-e638-9975f362675c"
      },
      "execution_count": 61,
      "outputs": [
        {
          "output_type": "execute_result",
          "data": {
            "text/plain": [
              "<matplotlib.axes._subplots.AxesSubplot at 0x7fd1bd6ea6d0>"
            ]
          },
          "metadata": {},
          "execution_count": 61
        },
        {
          "output_type": "display_data",
          "data": {
            "text/plain": [
              "<Figure size 432x288 with 1 Axes>"
            ],
            "image/png": "[encoded data removed]"
          },
          "metadata": {
            "needs_background": "light"
          }
        }
      ]
    },
    {
      "cell_type": "code",
      "source": [
        "sns.histplot(x=dataset['totalRent'],bins=30)"
      ],
      "metadata": {
        "colab": {
          "base_uri": "https://localhost:8080/",
          "height": 296
        },
        "id": "tTrSf7f5x9vE",
        "outputId": "079528e9-b4d3-4e0f-f13f-beb296c2a9e5"
      },
      "execution_count": 62,
      "outputs": [
        {
          "output_type": "execute_result",
          "data": {
            "text/plain": [
              "<matplotlib.axes._subplots.AxesSubplot at 0x7fd1bbe8db50>"
            ]
          },
          "metadata": {},
          "execution_count": 62
        },
        {
          "output_type": "display_data",
          "data": {
            "text/plain": [
              "<Figure size 432x288 with 1 Axes>"
            ],
            "image/png": "[encoded data removed]"
          },
          "metadata": {
            "needs_background": "light"
          }
        }
      ]
    },
    {
      "cell_type": "markdown",
      "source": [
        "Distributions of categorical features"
      ],
      "metadata": {
        "id": "oNa1zaH1b2Gu"
      }
    },
    {
      "cell_type": "code",
      "source": [
        "fig ,axs = plt.subplots(2,3)\n",
        "fig.set_figheight(15)\n",
        "fig.set_figwidth(20)\n",
        "i=0\n",
        "for col in dataset.columns:\n",
        "  if dataset[col].dtype == 'bool':\n",
        "    sns.countplot(y=dataset[col],orient='h',ax=axs[i%2,i%3])\n",
        "    i+=1\n",
        "fig.show()"
      ],
      "metadata": {
        "colab": {
          "base_uri": "https://localhost:8080/",
          "height": 877
        },
        "id": "IsZ42fbqkPK_",
        "outputId": "1e1d1366-eec1-49b8-aefa-50827a4352e2"
      },
      "execution_count": 63,
      "outputs": [
        {
          "output_type": "display_data",
          "data": {
            "text/plain": [
              "<Figure size 1440x1080 with 6 Axes>"
            ],
            "image/png": "[encoded data removed]"
          },
          "metadata": {
            "needs_background": "light"
          }
        }
      ]
    },
    {
      "cell_type": "code",
      "source": [
        "fig ,axs = plt.subplots(2,2)\n",
        "fig.set_figheight(15)\n",
        "fig.set_figwidth(20)\n",
        "\n",
        "sns.countplot(y=dataset.interiorQual,orient='v',ax=axs[0,0])\n",
        "sns.countplot(y=dataset.petsAllowed,orient='v',ax=axs[0,1])\n",
        "sns.countplot(y=dataset.new_typeOfFlat,orient='v',ax=axs[1,0])\n",
        "sns.countplot(y=dataset.new_regio1,orient='v',ax=axs[1,1])\n",
        "fig.show()"
      ],
      "metadata": {
        "colab": {
          "base_uri": "https://localhost:8080/",
          "height": 872
        },
        "id": "hLYXRXaGcQn_",
        "outputId": "e1c0aedf-9afa-45cf-e3f7-371747349af0"
      },
      "execution_count": 64,
      "outputs": [
        {
          "output_type": "display_data",
          "data": {
            "text/plain": [
              "<Figure size 1440x1080 with 4 Axes>"
            ],
            "image/png": "[encoded data removed]"
          },
          "metadata": {
            "needs_background": "light"
          }
        }
      ]
    },
    {
      "cell_type": "code",
      "source": [
        "fig ,axs = plt.subplots(3)\n",
        "fig.set_figheight(15)\n",
        "fig.set_figwidth(20)\n",
        "\n",
        "sns.countplot(y=dataset.telekomTvOffer,orient='v',ax=axs[0])\n",
        "sns.countplot(y=dataset.new_heatingType,orient='v',ax=axs[1])\n",
        "sns.countplot(y=dataset.new_condition,orient='v',ax=axs[2])\n",
        "\n",
        "fig.show()"
      ],
      "metadata": {
        "colab": {
          "base_uri": "https://localhost:8080/",
          "height": 824
        },
        "id": "Z_eoQeRjdVy_",
        "outputId": "d372351f-d759-46df-ac66-49ad0e8cc461"
      },
      "execution_count": 65,
      "outputs": [
        {
          "output_type": "display_data",
          "data": {
            "text/plain": [
              "<Figure size 1440x1080 with 3 Axes>"
            ],
            "image/png": "[encoded data removed]"
          },
          "metadata": {
            "needs_background": "light"
          }
        }
      ]
    },
    {
      "cell_type": "code",
      "source": [
        "mean_baserent_in_states = dataset.groupby('new_regio1')['baseRent'].mean()"
      ],
      "metadata": {
        "id": "9Saq0d8ZH-GF"
      },
      "execution_count": 66,
      "outputs": []
    },
    {
      "cell_type": "code",
      "source": [
        "dataset.new_regio1.unique()"
      ],
      "metadata": {
        "colab": {
          "base_uri": "https://localhost:8080/"
        },
        "id": "DCudgzZtzVRP",
        "outputId": "a230ba08-1ae9-4bc1-897d-667df38b2044"
      },
      "execution_count": 67,
      "outputs": [
        {
          "output_type": "execute_result",
          "data": {
            "text/plain": [
              "array(['Nordrhein_Westfalen', 'Sachsen', 'other', 'Baden_Württemberg',\n",
              "       'Rheinland_Pfalz', 'Thüringen', 'Hessen', 'Niedersachsen',\n",
              "       'Sachsen_Anhalt', 'Bayern'], dtype=object)"
            ]
          },
          "metadata": {},
          "execution_count": 67
        }
      ]
    },
    {
      "cell_type": "code",
      "source": [
        "mean_baserent_in_states.sort_values(inplace=True)\n",
        "plt.figure(figsize=(10,10))\n",
        "sns.barplot(y=mean_baserent_in_states.index,x=mean_baserent_in_states,orient='h')"
      ],
      "metadata": {
        "colab": {
          "base_uri": "https://localhost:8080/",
          "height": 623
        },
        "id": "HMyyt8ePINat",
        "outputId": "9b91b8d9-a823-4280-f9f8-89a49d5d7c1a"
      },
      "execution_count": 68,
      "outputs": [
        {
          "output_type": "execute_result",
          "data": {
            "text/plain": [
              "<matplotlib.axes._subplots.AxesSubplot at 0x7fd1be16fc50>"
            ]
          },
          "metadata": {},
          "execution_count": 68
        },
        {
          "output_type": "display_data",
          "data": {
            "text/plain": [
              "<Figure size 720x720 with 1 Axes>"
            ],
            "image/png": "[encoded data removed]"
          },
          "metadata": {
            "needs_background": "light"
          }
        }
      ]
    },
    {
      "cell_type": "markdown",
      "source": [
        "Correlation matrix"
      ],
      "metadata": {
        "id": "qiCYC5XI12sK"
      }
    },
    {
      "cell_type": "code",
      "source": [
        "corr_matrix = dataset.corr()"
      ],
      "metadata": {
        "id": "WrfOp2tdrzvk"
      },
      "execution_count": 69,
      "outputs": []
    },
    {
      "cell_type": "code",
      "source": [
        "fig = plt.figure(figsize= (15,15))\n",
        "sns.heatmap(corr_matrix,annot=True,vmax=1,vmin=-1)"
      ],
      "metadata": {
        "colab": {
          "base_uri": "https://localhost:8080/",
          "height": 963
        },
        "id": "GybhJcIDtDfP",
        "outputId": "e445bb56-c833-4129-a5ed-2aafe9f480bc"
      },
      "execution_count": 70,
      "outputs": [
        {
          "output_type": "display_data",
          "data": {
            "text/plain": [
              "<Figure size 1080x1080 with 2 Axes>"
            ],
            "image/png": "[encoded data removed]"
          },
          "metadata": {
            "needs_background": "light"
          }
        }
      ]
    },
    {
      "cell_type": "code",
      "source": [
        "abs_corr = abs(corr_matrix)\n",
        "abs_corr['totalRent'].sort_values(ascending=False,)"
      ],
      "metadata": {
        "colab": {
          "base_uri": "https://localhost:8080/"
        },
        "id": "oXOeZgTXtGY0",
        "outputId": "4ff4cdae-6c23-4edc-fed1-2871862b8079"
      },
      "execution_count": 71,
      "outputs": [
        {
          "output_type": "execute_result",
          "data": {
            "text/plain": [
              "totalRent             1.000000\n",
              "baseRent              0.974718\n",
              "livingSpace           0.708105\n",
              "serviceCharge         0.688976\n",
              "noRooms               0.467966\n",
              "pricetrend            0.425838\n",
              "newlyConst            0.317826\n",
              "geo_plz               0.301666\n",
              "lift                  0.294415\n",
              "balcony               0.287009\n",
              "yearConstructed       0.252692\n",
              "hasKitchen            0.242620\n",
              "thermalChar           0.130034\n",
              "numberOfFloors        0.043367\n",
              "floor                 0.043150\n",
              "cellar                0.041610\n",
              "garden                0.039251\n",
              "telekomUploadSpeed    0.021166\n",
              "Name: totalRent, dtype: float64"
            ]
          },
          "metadata": {},
          "execution_count": 71
        }
      ]
    },
    {
      "cell_type": "markdown",
      "source": [
        "Delete baseRent due to data leakage "
      ],
      "metadata": {
        "id": "yb9MANXdNdRJ"
      }
    },
    {
      "cell_type": "code",
      "source": [
        "baseRent = dataset.baseRent\n",
        "dataset.drop('baseRent',axis=1,inplace=True)"
      ],
      "metadata": {
        "id": "SBjTNmz0Fojw"
      },
      "execution_count": 72,
      "outputs": []
    },
    {
      "cell_type": "markdown",
      "source": [
        "#Model Training "
      ],
      "metadata": {
        "id": "O3SlfmKD0qyJ"
      }
    },
    {
      "cell_type": "code",
      "source": [
        "from sklearn.model_selection import train_test_split\n",
        "from sklearn.linear_model import LinearRegression, Ridge\n",
        "from sklearn.preprocessing import OneHotEncoder,StandardScaler\n",
        "from sklearn.compose import ColumnTransformer,make_column_selector\n",
        "from sklearn.pipeline import Pipeline,make_pipeline\n",
        "from sklearn.model_selection import GridSearchCV\n",
        "from sklearn.metrics import mean_squared_error,mean_absolute_error"
      ],
      "metadata": {
        "id": "zZasBB1d0stC"
      },
      "execution_count": 198,
      "outputs": []
    },
    {
      "cell_type": "markdown",
      "source": [
        "Split train and test dataset"
      ],
      "metadata": {
        "id": "NTwqC996J9B0"
      }
    },
    {
      "cell_type": "code",
      "source": [
        "data = dataset.drop(['totalRent'],axis=1)\n",
        "target = dataset.totalRent\n",
        "\n",
        "data_train , data_test,target_train , target_test = train_test_split(data,target,test_size=0.2,random_state=42)"
      ],
      "metadata": {
        "id": "XlimHg_m4HxD"
      },
      "execution_count": 199,
      "outputs": []
    },
    {
      "cell_type": "markdown",
      "source": [
        "Making a pipeline for preprocessing of dataset and then main model"
      ],
      "metadata": {
        "id": "Iz65hsgoKFQ-"
      }
    },
    {
      "cell_type": "code",
      "source": [
        "cat_selector = make_column_selector(dtype_include=['bool','object'])\n",
        "num_selector = make_column_selector(dtype_exclude=['bool','object'])\n",
        "cat_cols = cat_selector(data_train)\n",
        "numeric_cols = num_selector(data_train)\n",
        "preprocessor  = ColumnTransformer([('cat_preprocessor',OneHotEncoder(),cat_cols),\n",
        "                                   ('num_preprocessor',StandardScaler(),numeric_cols)])"
      ],
      "metadata": {
        "id": "3Al4_5Al1T6C"
      },
      "execution_count": 200,
      "outputs": []
    },
    {
      "cell_type": "code",
      "source": [
        "%%time\n",
        "lr_model = make_pipeline(preprocessor,LinearRegression(n_jobs=-1))\n",
        "lr_model.fit(data_train,target_train)"
      ],
      "metadata": {
        "colab": {
          "base_uri": "https://localhost:8080/"
        },
        "id": "ZO9KjYbY9SPL",
        "outputId": "068ed4e5-b633-419a-a980-a52c4d1d37ad"
      },
      "execution_count": 201,
      "outputs": [
        {
          "output_type": "stream",
          "name": "stdout",
          "text": [
            "CPU times: user 2.36 s, sys: 191 ms, total: 2.55 s\n",
            "Wall time: 1.8 s\n"
          ]
        }
      ]
    },
    {
      "cell_type": "code",
      "source": [
        "r2_score = lr_model.score(data_test,target_test)\n",
        "print(f'R2 score of linear regression model on test dataset is {r2_score:.3f} .')"
      ],
      "metadata": {
        "colab": {
          "base_uri": "https://localhost:8080/"
        },
        "id": "SZ6JUNp19d7q",
        "outputId": "9c517138-e361-4d25-e2e5-0fc509c3c37a"
      },
      "execution_count": 202,
      "outputs": [
        {
          "output_type": "stream",
          "name": "stdout",
          "text": [
            "R2 score of linear regression model on test dataset is 0.776 .\n"
          ]
        }
      ]
    },
    {
      "cell_type": "code",
      "source": [
        "y_predicted = lr_model.predict(data_test)\n",
        "print(f'Mean absolute error of linear regression model on test dataset is {mean_absolute_error(y_predicted,target_test):.3f} ')"
      ],
      "metadata": {
        "colab": {
          "base_uri": "https://localhost:8080/"
        },
        "id": "b_6mz4WH9t0L",
        "outputId": "497d3612-523b-4f72-d45d-29cfe883bdf2"
      },
      "execution_count": 203,
      "outputs": [
        {
          "output_type": "stream",
          "name": "stdout",
          "text": [
            "Mean absolute error of linear regression model on test dataset is 117.298 \n"
          ]
        }
      ]
    },
    {
      "cell_type": "markdown",
      "source": [
        "Tuning linear regression with l2 penalty (Ridge)"
      ],
      "metadata": {
        "id": "tbBGulMFL3O2"
      }
    },
    {
      "cell_type": "code",
      "source": [
        "%%time\n",
        "\n",
        "ridge_model = Pipeline([('preprocessor',preprocessor), ('regressor',Ridge())])\n",
        "param_grid = {\n",
        "    'regressor__alpha' : [0.001,0.01,0.1,0,1,10,100,1000]\n",
        "}\n",
        "grid_search = GridSearchCV(ridge_model,param_grid= param_grid,cv=5,n_jobs=-1,scoring = 'neg_mean_absolute_error')\n",
        "grid_search.fit(data_train,target_train)\n"
      ],
      "metadata": {
        "colab": {
          "base_uri": "https://localhost:8080/"
        },
        "id": "cLHPlPv-4i3l",
        "outputId": "0c3d2d73-6421-43fd-e094-48e92c3f4919"
      },
      "execution_count": 204,
      "outputs": [
        {
          "output_type": "stream",
          "name": "stdout",
          "text": [
            "CPU times: user 5.51 s, sys: 550 ms, total: 6.06 s\n",
            "Wall time: 35.2 s\n"
          ]
        }
      ]
    },
    {
      "cell_type": "code",
      "source": [
        "cv_res = pd.DataFrame(grid_search.cv_results_)\n",
        "cv_res = cv_res[['mean_fit_time','mean_score_time','param_regressor__alpha', 'params','mean_test_score', 'std_test_score',\n",
        "       'rank_test_score']]\n",
        "cv_res.loc[:,'mean_test_score'] = -cv_res['mean_test_score']\n",
        "cv_res.sort_values('rank_test_score')"
      ],
      "metadata": {
        "colab": {
          "base_uri": "https://localhost:8080/",
          "height": 300
        },
        "id": "pWCghy5O7L4i",
        "outputId": "082722c1-6c53-4bf5-da62-1579389b943f"
      },
      "execution_count": 205,
      "outputs": [
        {
          "output_type": "execute_result",
          "data": {
            "text/plain": [
              "   mean_fit_time  mean_score_time param_regressor__alpha  \\\n",
              "0       1.105777         0.210289                  0.001   \n",
              "1       1.042271         0.189188                   0.01   \n",
              "2       1.017343         0.193777                    0.1   \n",
              "4       1.018809         0.204784                      1   \n",
              "5       0.993176         0.187589                     10   \n",
              "6       1.011519         0.198687                    100   \n",
              "3       2.867503         0.208313                      0   \n",
              "7       0.935624         0.174381                   1000   \n",
              "\n",
              "                        params  mean_test_score  std_test_score  \\\n",
              "0  {'regressor__alpha': 0.001}       117.045032        0.293849   \n",
              "1   {'regressor__alpha': 0.01}       117.045032        0.293849   \n",
              "2    {'regressor__alpha': 0.1}       117.045036        0.293849   \n",
              "4      {'regressor__alpha': 1}       117.045072        0.293845   \n",
              "5     {'regressor__alpha': 10}       117.045481        0.293810   \n",
              "6    {'regressor__alpha': 100}       117.053929        0.293779   \n",
              "3      {'regressor__alpha': 0}       117.233490        0.398493   \n",
              "7   {'regressor__alpha': 1000}       117.330708        0.302168   \n",
              "\n",
              "   rank_test_score  \n",
              "0                1  \n",
              "1                2  \n",
              "2                3  \n",
              "4                4  \n",
              "5                5  \n",
              "6                6  \n",
              "3                7  \n",
              "7                8  "
            ],
            "text/html": [
              "\n",
              "  <div id=\"df-0b484635-ab93-4827-bffc-4478b533e48a\">\n",
              "    <div class=\"colab-df-container\">\n",
              "      <div>\n",
              "<style scoped>\n",
              "    .dataframe tbody tr th:only-of-type {\n",
              "        vertical-align: middle;\n",
              "    }\n",
              "\n",
              "    .dataframe tbody tr th {\n",
              "        vertical-align: top;\n",
              "    }\n",
              "\n",
              "    .dataframe thead th {\n",
              "        text-align: right;\n",
              "    }\n",
              "</style>\n",
              "<table border=\"1\" class=\"dataframe\">\n",
              "  <thead>\n",
              "    <tr style=\"text-align: right;\">\n",
              "      <th></th>\n",
              "      <th>mean_fit_time</th>\n",
              "      <th>mean_score_time</th>\n",
              "      <th>param_regressor__alpha</th>\n",
              "      <th>params</th>\n",
              "      <th>mean_test_score</th>\n",
              "      <th>std_test_score</th>\n",
              "      <th>rank_test_score</th>\n",
              "    </tr>\n",
              "  </thead>\n",
              "  <tbody>\n",
              "    <tr>\n",
              "      <th>0</th>\n",
              "      <td>1.105777</td>\n",
              "      <td>0.210289</td>\n",
              "      <td>0.001</td>\n",
              "      <td>{'regressor__alpha': 0.001}</td>\n",
              "      <td>117.045032</td>\n",
              "      <td>0.293849</td>\n",
              "      <td>1</td>\n",
              "    </tr>\n",
              "    <tr>\n",
              "      <th>1</th>\n",
              "      <td>1.042271</td>\n",
              "      <td>0.189188</td>\n",
              "      <td>0.01</td>\n",
              "      <td>{'regressor__alpha': 0.01}</td>\n",
              "      <td>117.045032</td>\n",
              "      <td>0.293849</td>\n",
              "      <td>2</td>\n",
              "    </tr>\n",
              "    <tr>\n",
              "      <th>2</th>\n",
              "      <td>1.017343</td>\n",
              "      <td>0.193777</td>\n",
              "      <td>0.1</td>\n",
              "      <td>{'regressor__alpha': 0.1}</td>\n",
              "      <td>117.045036</td>\n",
              "      <td>0.293849</td>\n",
              "      <td>3</td>\n",
              "    </tr>\n",
              "    <tr>\n",
              "      <th>4</th>\n",
              "      <td>1.018809</td>\n",
              "      <td>0.204784</td>\n",
              "      <td>1</td>\n",
              "      <td>{'regressor__alpha': 1}</td>\n",
              "      <td>117.045072</td>\n",
              "      <td>0.293845</td>\n",
              "      <td>4</td>\n",
              "    </tr>\n",
              "    <tr>\n",
              "      <th>5</th>\n",
              "      <td>0.993176</td>\n",
              "      <td>0.187589</td>\n",
              "      <td>10</td>\n",
              "      <td>{'regressor__alpha': 10}</td>\n",
              "      <td>117.045481</td>\n",
              "      <td>0.293810</td>\n",
              "      <td>5</td>\n",
              "    </tr>\n",
              "    <tr>\n",
              "      <th>6</th>\n",
              "      <td>1.011519</td>\n",
              "      <td>0.198687</td>\n",
              "      <td>100</td>\n",
              "      <td>{'regressor__alpha': 100}</td>\n",
              "      <td>117.053929</td>\n",
              "      <td>0.293779</td>\n",
              "      <td>6</td>\n",
              "    </tr>\n",
              "    <tr>\n",
              "      <th>3</th>\n",
              "      <td>2.867503</td>\n",
              "      <td>0.208313</td>\n",
              "      <td>0</td>\n",
              "      <td>{'regressor__alpha': 0}</td>\n",
              "      <td>117.233490</td>\n",
              "      <td>0.398493</td>\n",
              "      <td>7</td>\n",
              "    </tr>\n",
              "    <tr>\n",
              "      <th>7</th>\n",
              "      <td>0.935624</td>\n",
              "      <td>0.174381</td>\n",
              "      <td>1000</td>\n",
              "      <td>{'regressor__alpha': 1000}</td>\n",
              "      <td>117.330708</td>\n",
              "      <td>0.302168</td>\n",
              "      <td>8</td>\n",
              "    </tr>\n",
              "  </tbody>\n",
              "</table>\n",
              "</div>\n",
              "      <button class=\"colab-df-convert\" onclick=\"convertToInteractive('df-0b484635-ab93-4827-bffc-4478b533e48a')\"\n",
              "              title=\"Convert this dataframe to an interactive table.\"\n",
              "              style=\"display:none;\">\n",
              "        \n",
              "  <svg xmlns=\"http://www.w3.org/2000/svg\" height=\"24px\"viewBox=\"0 0 24 24\"\n",
              "       width=\"24px\">\n",
              "    <path d=\"M0 0h24v24H0V0z\" fill=\"none\"/>\n",
              "    <path d=\"M18.56 5.44l.94 2.06.94-2.06 2.06-.94-2.06-.94-.94-2.06-.94 2.06-2.06.94zm-11 1L8.5 8.5l.94-2.06 2.06-.94-2.06-.94L8.5 2.5l-.94 2.06-2.06.94zm10 10l.94 2.06.94-2.06 2.06-.94-2.06-.94-.94-2.06-.94 2.06-2.06.94z\"/><path d=\"M17.41 7.96l-1.37-1.37c-.4-.4-.92-.59-1.43-.59-.52 0-1.04.2-1.43.59L10.3 9.45l-7.72 7.72c-.78.78-.78 2.05 0 2.83L4 21.41c.39.39.9.59 1.41.59.51 0 1.02-.2 1.41-.59l7.78-7.78 2.81-2.81c.8-.78.8-2.07 0-2.86zM5.41 20L4 18.59l7.72-7.72 1.47 1.35L5.41 20z\"/>\n",
              "  </svg>\n",
              "      </button>\n",
              "      \n",
              "  <style>\n",
              "    .colab-df-container {\n",
              "      display:flex;\n",
              "      flex-wrap:wrap;\n",
              "      gap: 12px;\n",
              "    }\n",
              "\n",
              "    .colab-df-convert {\n",
              "      background-color: #E8F0FE;\n",
              "      border: none;\n",
              "      border-radius: 50%;\n",
              "      cursor: pointer;\n",
              "      display: none;\n",
              "      fill: #1967D2;\n",
              "      height: 32px;\n",
              "      padding: 0 0 0 0;\n",
              "      width: 32px;\n",
              "    }\n",
              "\n",
              "    .colab-df-convert:hover {\n",
              "      background-color: #E2EBFA;\n",
              "      box-shadow: 0px 1px 2px rgba(60, 64, 67, 0.3), 0px 1px 3px 1px rgba(60, 64, 67, 0.15);\n",
              "      fill: #174EA6;\n",
              "    }\n",
              "\n",
              "    [theme=dark] .colab-df-convert {\n",
              "      background-color: #3B4455;\n",
              "      fill: #D2E3FC;\n",
              "    }\n",
              "\n",
              "    [theme=dark] .colab-df-convert:hover {\n",
              "      background-color: #434B5C;\n",
              "      box-shadow: 0px 1px 3px 1px rgba(0, 0, 0, 0.15);\n",
              "      filter: drop-shadow(0px 1px 2px rgba(0, 0, 0, 0.3));\n",
              "      fill: #FFFFFF;\n",
              "    }\n",
              "  </style>\n",
              "\n",
              "      <script>\n",
              "        const buttonEl =\n",
              "          document.querySelector('#df-0b484635-ab93-4827-bffc-4478b533e48a button.colab-df-convert');\n",
              "        buttonEl.style.display =\n",
              "          google.colab.kernel.accessAllowed ? 'block' : 'none';\n",
              "\n",
              "        async function convertToInteractive(key) {\n",
              "          const element = document.querySelector('#df-0b484635-ab93-4827-bffc-4478b533e48a');\n",
              "          const dataTable =\n",
              "            await google.colab.kernel.invokeFunction('convertToInteractive',\n",
              "                                                     [key], {});\n",
              "          if (!dataTable) return;\n",
              "\n",
              "          const docLinkHtml = 'Like what you see? Visit the ' +\n",
              "            '<a target=\"_blank\" href=https://colab.research.google.com/notebooks/data_table.ipynb>data table notebook</a>'\n",
              "            + ' to learn more about interactive tables.';\n",
              "          element.innerHTML = '';\n",
              "          dataTable['output_type'] = 'display_data';\n",
              "          await google.colab.output.renderOutput(dataTable, element);\n",
              "          const docLink = document.createElement('div');\n",
              "          docLink.innerHTML = docLinkHtml;\n",
              "          element.appendChild(docLink);\n",
              "        }\n",
              "      </script>\n",
              "    </div>\n",
              "  </div>\n",
              "  "
            ]
          },
          "metadata": {},
          "execution_count": 205
        }
      ]
    },
    {
      "cell_type": "code",
      "source": [
        "grid_search.best_params_"
      ],
      "metadata": {
        "colab": {
          "base_uri": "https://localhost:8080/"
        },
        "id": "qkZxbLOlBAf_",
        "outputId": "8140c63b-211d-4622-8e82-97b3d207f018"
      },
      "execution_count": 206,
      "outputs": [
        {
          "output_type": "execute_result",
          "data": {
            "text/plain": [
              "{'regressor__alpha': 0.001}"
            ]
          },
          "metadata": {},
          "execution_count": 206
        }
      ]
    },
    {
      "cell_type": "code",
      "source": [
        "mae = grid_search.score(data_test,target_test)\n",
        "mae = -mae\n",
        "print(f'MAE of ridge model : {mae:.3f}')"
      ],
      "metadata": {
        "colab": {
          "base_uri": "https://localhost:8080/"
        },
        "id": "wlKmnacEAkab",
        "outputId": "5e5e72f2-2a76-4f4b-be6e-2da56d0d8bb7"
      },
      "execution_count": 207,
      "outputs": [
        {
          "output_type": "stream",
          "name": "stdout",
          "text": [
            "MAE of ridge model : 117.237\n"
          ]
        }
      ]
    },
    {
      "cell_type": "markdown",
      "source": [
        "Also we test our model with baseRent feature"
      ],
      "metadata": {
        "id": "ot2Ax26KPXBx"
      }
    },
    {
      "cell_type": "code",
      "source": [
        "dataset_br= pd.concat([dataset,baseRent],axis=1)"
      ],
      "metadata": {
        "id": "Ynyf_ezfN_1u"
      },
      "execution_count": 208,
      "outputs": []
    },
    {
      "cell_type": "code",
      "source": [
        "data= dataset_br.drop(['totalRent'],axis=1)\n",
        "target = dataset_br.totalRent\n",
        "\n",
        "data_train , data_test,target_train , target_test = train_test_split(data,target,test_size=0.2,random_state=42)\n",
        "\n",
        "cat_cols = cat_selector(data_train)\n",
        "numeric_cols = num_selector(data_train)\n",
        "preprocessor  = ColumnTransformer([('cat_preprocessor',OneHotEncoder(),cat_cols),\n",
        "                                   ('num_preprocessor',StandardScaler(),numeric_cols)])\n",
        "\n",
        "ridge = make_pipeline(preprocessor,Ridge())\n",
        "ridge.fit(data_train,target_train)\n",
        "y_predicted = ridge.predict(data_test)\n",
        "\n",
        "print(f'MAE (with baseRent feature) : {mean_absolute_error(y_predicted,target_test):.3f}')"
      ],
      "metadata": {
        "colab": {
          "base_uri": "https://localhost:8080/"
        },
        "id": "-Vmgdm-vPsjK",
        "outputId": "cbc44c65-e5c4-4405-ab05-8dbd1b3b64e4"
      },
      "execution_count": 209,
      "outputs": [
        {
          "output_type": "stream",
          "name": "stdout",
          "text": [
            "MAE (with baseRent feature) : 42.124\n"
          ]
        }
      ]
    },
    {
      "cell_type": "markdown",
      "source": [
        "we got lower mae but it does not make sense in reality!!"
      ],
      "metadata": {
        "id": "t5OC5py8Qpwi"
      }
    },
    {
      "cell_type": "markdown",
      "source": [
        "#Multiprocessing"
      ],
      "metadata": {
        "id": "CxY8338oMpIj"
      }
    },
    {
      "cell_type": "code",
      "source": [
        "import multiprocessing\n",
        "from multiprocessing import Pool,cpu_count"
      ],
      "metadata": {
        "id": "fW459YskMtQq"
      },
      "execution_count": 80,
      "outputs": []
    },
    {
      "cell_type": "markdown",
      "source": [
        "Creating pool and mapping preprocess function to dataset"
      ],
      "metadata": {
        "id": "XueGM7dzOgAW"
      }
    },
    {
      "cell_type": "code",
      "source": [
        "def multiprocess_preprocessing(df, function, n_cores=4):\n",
        "    \"\"\"\n",
        "    Splits dataframe into n_cores parts, then applies function on each of them and at last concatenates them into one dataframe \n",
        "\n",
        "    Parameters\n",
        "    ----------\n",
        "    df : pd.DataFrame\n",
        "         dataframe of dataset\n",
        "    function : python function\n",
        "               the function which want to apply on dataset  \n",
        "    n_cores : int\n",
        "              number of cpu cores or any integer you want\n",
        "    Returns\n",
        "    -------\n",
        "    df :  pd.DataFrame\n",
        "          preprocessed dataframe\n",
        "    \"\"\"\n",
        "    df_split = np.array_split(df, n_cores)\n",
        "    pool = Pool(n_cores)\n",
        "    df = pd.concat(pool.map(function, df_split))\n",
        "    pool.close()\n",
        "    pool.join()\n",
        "    return df"
      ],
      "metadata": {
        "id": "5ARYycvlMy7N"
      },
      "execution_count": 82,
      "outputs": []
    },
    {
      "cell_type": "markdown",
      "source": [
        "Gathering all preprocess steps into one function to compare multiprocess mode and single core mode"
      ],
      "metadata": {
        "id": "xceD7HtVOpAI"
      }
    },
    {
      "cell_type": "code",
      "source": [
        "def preprocess(df):\n",
        "  \n",
        "  df.drop(columns=df.columns[df.isnull().sum()/len(df) > 0.5],inplace=True)\n",
        "  df.drop(columns=['date','description','scoutId','picturecount','facilities','houseNumber','livingSpaceRange','yearConstructedRange','baseRentRange','noRoomsRange'],axis=1,inplace=True)\n",
        "  df.drop(['street','streetPlain'],axis=1,inplace=True)\n",
        "  # df.drop_duplicates(keep='last',inplace=True)\n",
        "  df.totalRent.fillna(df.totalRent.median(),inplace=True)\n",
        "  df.drop(df[df.baseRent >= df.totalRent].index,inplace=True)\n",
        "  df.drop(df[df.totalRent == 0 ].index,inplace=True)\n",
        "  df.drop(df[df['totalRent']>10000].index,inplace=True)\n",
        "  df.drop(df[df['livingSpace'] == 0].index,inplace=True)\n",
        "  df.fillna(numerical_cols.mean(),inplace=True)\n",
        "  df.fillna(categorical_cols.mode().iloc[0],inplace= True)\n",
        "\n",
        "  # for col in df.columns:\n",
        "  #   if df[col].dtype == 'int64' or df[col].dtype == 'float64':\n",
        "  #     outlier_indexes = detect_outlier(df,col)\n",
        "  #     df.drop(outlier_indexes,inplace=True)\n",
        "  \n",
        "  df.drop(columns=['firingTypes','geo_krs','regio2','regio3','geo_bln'],inplace=True)\n",
        "\n",
        "  df['new_regio1'] = df.regio1.apply(new_label_regio1)\n",
        "  df.drop('regio1',axis=1,inplace=True)\n",
        "  \n",
        "  df['new_heatingType'] = df.heatingType.apply(new_label_heatingType)\n",
        "  df.drop(columns='heatingType',inplace=True)\n",
        "\n",
        "  df['new_typeOfFlat'] = df.typeOfFlat.apply(new_label_typeOfFlat)\n",
        "  df.drop(columns='typeOfFlat',inplace=True)\n",
        "\n",
        "  df['new_condition'] = df.condition.apply(new_label_condition)\n",
        "  df.drop(columns='condition',inplace=True)\n",
        "  return df"
      ],
      "metadata": {
        "id": "4T2nyj65NYTz"
      },
      "execution_count": 89,
      "outputs": []
    },
    {
      "cell_type": "code",
      "source": [
        "df = pd.read_csv('./immo_data.csv')"
      ],
      "metadata": {
        "id": "3289EukMOYxN"
      },
      "execution_count": 90,
      "outputs": []
    },
    {
      "cell_type": "markdown",
      "source": [
        "Single core :"
      ],
      "metadata": {
        "id": "62TPct6GO6VP"
      }
    },
    {
      "cell_type": "code",
      "source": [
        "%%time\n",
        "new_df = df.copy()\n",
        "new_df = preprocess(new_df)"
      ],
      "metadata": {
        "colab": {
          "base_uri": "https://localhost:8080/"
        },
        "id": "Y9uqiakROe1z",
        "outputId": "a0aac99c-4e48-4235-95c0-144ca41049a2"
      },
      "execution_count": 98,
      "outputs": [
        {
          "output_type": "stream",
          "name": "stdout",
          "text": [
            "CPU times: user 1.8 s, sys: 285 ms, total: 2.08 s\n",
            "Wall time: 2.08 s\n"
          ]
        }
      ]
    },
    {
      "cell_type": "markdown",
      "source": [
        "Multiprocess : "
      ],
      "metadata": {
        "id": "Poc5-sjpO-AU"
      }
    },
    {
      "cell_type": "code",
      "source": [
        "%%time\n",
        "multiprocess_df = df.copy()\n",
        "multiprocess_df = multiprocess_preprocessing(multiprocess_df,preprocess,4)"
      ],
      "metadata": {
        "colab": {
          "base_uri": "https://localhost:8080/"
        },
        "id": "gObA-7SiOp4L",
        "outputId": "c18316f1-84db-4739-d5af-c25f2a11f459"
      },
      "execution_count": 109,
      "outputs": [
        {
          "output_type": "stream",
          "name": "stdout",
          "text": [
            "CPU times: user 1.67 s, sys: 1.02 s, total: 2.69 s\n",
            "Wall time: 6.19 s\n"
          ]
        }
      ]
    },
    {
      "cell_type": "markdown",
      "source": [
        "##Multiprocessing using dask"
      ],
      "metadata": {
        "id": "SilE8HjczTrI"
      }
    },
    {
      "cell_type": "code",
      "source": [
        "!python -m pip install \"dask[complete]\""
      ],
      "metadata": {
        "colab": {
          "base_uri": "https://localhost:8080/"
        },
        "id": "VkWxQ1nQsnkQ",
        "outputId": "d5d366bd-f1aa-4d68-9823-bb4499e21ae8"
      },
      "execution_count": 111,
      "outputs": [
        {
          "output_type": "stream",
          "name": "stdout",
          "text": [
            "Requirement already satisfied: dask[complete] in /usr/local/lib/python3.7/dist-packages (2.12.0)\n",
            "Requirement already satisfied: PyYaml in /usr/local/lib/python3.7/dist-packages (from dask[complete]) (3.13)\n",
            "Requirement already satisfied: toolz>=0.7.3 in /usr/local/lib/python3.7/dist-packages (from dask[complete]) (0.11.2)\n",
            "Collecting fsspec>=0.6.0\n",
            "  Downloading fsspec-2022.3.0-py3-none-any.whl (136 kB)\n",
            "\u001b[K     |████████████████████████████████| 136 kB 5.4 MB/s \n",
            "\u001b[?25hRequirement already satisfied: cloudpickle>=0.2.1 in /usr/local/lib/python3.7/dist-packages (from dask[complete]) (1.3.0)\n",
            "Requirement already satisfied: numpy>=1.13.0 in /usr/local/lib/python3.7/dist-packages (from dask[complete]) (1.21.5)\n",
            "Collecting partd>=0.3.10\n",
            "  Downloading partd-1.2.0-py3-none-any.whl (19 kB)\n",
            "Requirement already satisfied: pandas>=0.23.0 in /usr/local/lib/python3.7/dist-packages (from dask[complete]) (1.3.5)\n",
            "Collecting distributed>=2.0\n",
            "  Downloading distributed-2022.2.0-py3-none-any.whl (837 kB)\n",
            "\u001b[K     |████████████████████████████████| 837 kB 51.4 MB/s \n",
            "\u001b[?25hRequirement already satisfied: bokeh>=1.0.0 in /usr/local/lib/python3.7/dist-packages (from dask[complete]) (2.3.3)\n",
            "Requirement already satisfied: Jinja2>=2.9 in /usr/local/lib/python3.7/dist-packages (from bokeh>=1.0.0->dask[complete]) (2.11.3)\n",
            "Requirement already satisfied: tornado>=5.1 in /usr/local/lib/python3.7/dist-packages (from bokeh>=1.0.0->dask[complete]) (5.1.1)\n",
            "Requirement already satisfied: typing-extensions>=3.7.4 in /usr/local/lib/python3.7/dist-packages (from bokeh>=1.0.0->dask[complete]) (3.10.0.2)\n",
            "Requirement already satisfied: pillow>=7.1.0 in /usr/local/lib/python3.7/dist-packages (from bokeh>=1.0.0->dask[complete]) (7.1.2)\n",
            "Requirement already satisfied: packaging>=16.8 in /usr/local/lib/python3.7/dist-packages (from bokeh>=1.0.0->dask[complete]) (21.3)\n",
            "Requirement already satisfied: python-dateutil>=2.1 in /usr/local/lib/python3.7/dist-packages (from bokeh>=1.0.0->dask[complete]) (2.8.2)\n",
            "Requirement already satisfied: sortedcontainers!=2.0.0,!=2.0.1 in /usr/local/lib/python3.7/dist-packages (from distributed>=2.0->dask[complete]) (2.4.0)\n",
            "Requirement already satisfied: msgpack>=0.6.0 in /usr/local/lib/python3.7/dist-packages (from distributed>=2.0->dask[complete]) (1.0.3)\n",
            "  Downloading distributed-2022.1.1-py3-none-any.whl (830 kB)\n",
            "\u001b[K     |████████████████████████████████| 830 kB 35.5 MB/s \n",
            "\u001b[?25hCollecting cloudpickle>=0.2.1\n",
            "  Downloading cloudpickle-2.0.0-py3-none-any.whl (25 kB)\n",
            "Requirement already satisfied: setuptools in /usr/local/lib/python3.7/dist-packages (from distributed>=2.0->dask[complete]) (57.4.0)\n",
            "Requirement already satisfied: zict>=0.1.3 in /usr/local/lib/python3.7/dist-packages (from distributed>=2.0->dask[complete]) (2.1.0)\n",
            "Collecting distributed>=2.0\n",
            "  Downloading distributed-2022.1.0-py3-none-any.whl (822 kB)\n",
            "\u001b[K     |████████████████████████████████| 822 kB 43.2 MB/s \n",
            "\u001b[?25hRequirement already satisfied: tblib>=1.6.0 in /usr/local/lib/python3.7/dist-packages (from distributed>=2.0->dask[complete]) (1.7.0)\n",
            "Requirement already satisfied: click>=6.6 in /usr/local/lib/python3.7/dist-packages (from distributed>=2.0->dask[complete]) (7.1.2)\n",
            "  Downloading distributed-2021.12.0-py3-none-any.whl (802 kB)\n",
            "\u001b[K     |████████████████████████████████| 802 kB 43.1 MB/s \n",
            "\u001b[?25h  Downloading distributed-2021.11.2-py3-none-any.whl (802 kB)\n",
            "\u001b[K     |████████████████████████████████| 802 kB 39.7 MB/s \n",
            "\u001b[?25h  Downloading distributed-2021.11.1-py3-none-any.whl (793 kB)\n",
            "\u001b[K     |████████████████████████████████| 793 kB 36.1 MB/s \n",
            "\u001b[?25h  Downloading distributed-2021.11.0-py3-none-any.whl (793 kB)\n",
            "\u001b[K     |████████████████████████████████| 793 kB 46.1 MB/s \n",
            "\u001b[?25h  Downloading distributed-2021.10.0-py3-none-any.whl (791 kB)\n",
            "\u001b[K     |████████████████████████████████| 791 kB 55.2 MB/s \n",
            "\u001b[?25h  Downloading distributed-2021.9.1-py3-none-any.whl (786 kB)\n",
            "\u001b[K     |████████████████████████████████| 786 kB 42.6 MB/s \n",
            "\u001b[?25h  Downloading distributed-2021.9.0-py3-none-any.whl (779 kB)\n",
            "\u001b[K     |████████████████████████████████| 779 kB 43.8 MB/s \n",
            "\u001b[?25h  Downloading distributed-2021.8.1-py3-none-any.whl (778 kB)\n",
            "\u001b[K     |████████████████████████████████| 778 kB 38.8 MB/s \n",
            "\u001b[?25h  Downloading distributed-2021.8.0-py3-none-any.whl (776 kB)\n",
            "\u001b[K     |████████████████████████████████| 776 kB 44.1 MB/s \n",
            "\u001b[?25h  Downloading distributed-2021.7.2-py3-none-any.whl (769 kB)\n",
            "\u001b[K     |████████████████████████████████| 769 kB 44.6 MB/s \n",
            "\u001b[?25h  Downloading distributed-2021.7.1-py3-none-any.whl (766 kB)\n",
            "\u001b[K     |████████████████████████████████| 766 kB 43.5 MB/s \n",
            "\u001b[?25hRequirement already satisfied: psutil>=5.0 in /usr/local/lib/python3.7/dist-packages (from distributed>=2.0->dask[complete]) (5.4.8)\n",
            "  Downloading distributed-2021.7.0-py3-none-any.whl (1.0 MB)\n",
            "\u001b[K     |████████████████████████████████| 1.0 MB 42.5 MB/s \n",
            "\u001b[?25h  Downloading distributed-2021.6.2-py3-none-any.whl (722 kB)\n",
            "\u001b[K     |████████████████████████████████| 722 kB 42.7 MB/s \n",
            "\u001b[?25h  Downloading distributed-2021.6.1-py3-none-any.whl (722 kB)\n",
            "\u001b[K     |████████████████████████████████| 722 kB 22.8 MB/s \n",
            "\u001b[?25h  Downloading distributed-2021.6.0-py3-none-any.whl (715 kB)\n",
            "\u001b[K     |████████████████████████████████| 715 kB 48.4 MB/s \n",
            "\u001b[?25h  Downloading distributed-2021.5.1-py3-none-any.whl (705 kB)\n",
            "\u001b[K     |████████████████████████████████| 705 kB 54.2 MB/s \n",
            "\u001b[?25h  Downloading distributed-2021.5.0-py3-none-any.whl (699 kB)\n",
            "\u001b[K     |████████████████████████████████| 699 kB 53.9 MB/s \n",
            "\u001b[?25h  Downloading distributed-2021.4.1-py3-none-any.whl (696 kB)\n",
            "\u001b[K     |████████████████████████████████| 696 kB 56.5 MB/s \n",
            "\u001b[?25h  Downloading distributed-2021.4.0-py3-none-any.whl (684 kB)\n",
            "\u001b[K     |████████████████████████████████| 684 kB 41.5 MB/s \n",
            "\u001b[?25h  Downloading distributed-2021.3.1-py3-none-any.whl (679 kB)\n",
            "\u001b[K     |████████████████████████████████| 679 kB 47.3 MB/s \n",
            "\u001b[?25h  Downloading distributed-2021.3.0-py3-none-any.whl (675 kB)\n",
            "\u001b[K     |████████████████████████████████| 675 kB 44.4 MB/s \n",
            "\u001b[?25h  Downloading distributed-2021.2.0-py3-none-any.whl (675 kB)\n",
            "\u001b[K     |████████████████████████████████| 675 kB 39.9 MB/s \n",
            "\u001b[?25h  Downloading distributed-2021.1.1-py3-none-any.whl (672 kB)\n",
            "\u001b[K     |████████████████████████████████| 672 kB 58.9 MB/s \n",
            "\u001b[?25h  Downloading distributed-2021.1.0-py3-none-any.whl (671 kB)\n",
            "\u001b[K     |████████████████████████████████| 671 kB 48.9 MB/s \n",
            "\u001b[?25h  Downloading distributed-2020.12.0-py3-none-any.whl (669 kB)\n",
            "\u001b[K     |████████████████████████████████| 669 kB 46.9 MB/s \n",
            "\u001b[?25h  Downloading distributed-2.30.1-py3-none-any.whl (656 kB)\n",
            "\u001b[K     |████████████████████████████████| 656 kB 58.8 MB/s \n",
            "\u001b[?25hRequirement already satisfied: MarkupSafe>=0.23 in /usr/local/lib/python3.7/dist-packages (from Jinja2>=2.9->bokeh>=1.0.0->dask[complete]) (2.0.1)\n",
            "Requirement already satisfied: pyparsing!=3.0.5,>=2.0.2 in /usr/local/lib/python3.7/dist-packages (from packaging>=16.8->bokeh>=1.0.0->dask[complete]) (3.0.7)\n",
            "Requirement already satisfied: pytz>=2017.3 in /usr/local/lib/python3.7/dist-packages (from pandas>=0.23.0->dask[complete]) (2018.9)\n",
            "Collecting locket\n",
            "  Downloading locket-0.2.1-py2.py3-none-any.whl (4.1 kB)\n",
            "Requirement already satisfied: six>=1.5 in /usr/local/lib/python3.7/dist-packages (from python-dateutil>=2.1->bokeh>=1.0.0->dask[complete]) (1.15.0)\n",
            "Requirement already satisfied: heapdict in /usr/local/lib/python3.7/dist-packages (from zict>=0.1.3->distributed>=2.0->dask[complete]) (1.0.1)\n",
            "Installing collected packages: locket, cloudpickle, partd, fsspec, distributed\n",
            "  Attempting uninstall: cloudpickle\n",
            "    Found existing installation: cloudpickle 1.3.0\n",
            "    Uninstalling cloudpickle-1.3.0:\n",
            "      Successfully uninstalled cloudpickle-1.3.0\n",
            "  Attempting uninstall: distributed\n",
            "    Found existing installation: distributed 1.25.3\n",
            "    Uninstalling distributed-1.25.3:\n",
            "      Successfully uninstalled distributed-1.25.3\n",
            "\u001b[31mERROR: pip's dependency resolver does not currently take into account all the packages that are installed. This behaviour is the source of the following dependency conflicts.\n",
            "gym 0.17.3 requires cloudpickle<1.7.0,>=1.2.0, but you have cloudpickle 2.0.0 which is incompatible.\u001b[0m\n",
            "Successfully installed cloudpickle-2.0.0 distributed-2.30.1 fsspec-2022.3.0 locket-0.2.1 partd-1.2.0\n"
          ]
        }
      ]
    },
    {
      "cell_type": "code",
      "source": [
        "import dask\n",
        "import dask.dataframe as dd"
      ],
      "metadata": {
        "id": "FiBNfwU2z8Y_"
      },
      "execution_count": 112,
      "outputs": []
    },
    {
      "cell_type": "code",
      "source": [
        "dask_dataset = dd.from_pandas(df,npartitions=2)"
      ],
      "metadata": {
        "id": "mICMyx8D0EcQ"
      },
      "execution_count": 113,
      "outputs": []
    },
    {
      "cell_type": "code",
      "source": [
        "dask_dataset.info()"
      ],
      "metadata": {
        "colab": {
          "base_uri": "https://localhost:8080/"
        },
        "id": "owbqpHJq0Q6B",
        "outputId": "f1a635d9-0e86-426e-e252-c249340805d6"
      },
      "execution_count": 114,
      "outputs": [
        {
          "output_type": "stream",
          "name": "stdout",
          "text": [
            "<class 'dask.dataframe.core.DataFrame'>\n",
            "Columns: 49 entries, regio1 to date\n",
            "dtypes: object(19), bool(6), float64(18), int64(6)"
          ]
        }
      ]
    },
    {
      "cell_type": "code",
      "source": [
        "dask_dataset = dask_dataset.drop(dask_dataset.columns[dask_dataset.isnull().sum()/len(dask_dataset)>0.5],axis=1)"
      ],
      "metadata": {
        "id": "waL_I-0T0XTJ"
      },
      "execution_count": 115,
      "outputs": []
    },
    {
      "cell_type": "code",
      "source": [
        "unuseful_cols =  ['street','streetPlain','date','description','scoutId','picturecount',\"facilities\",'houseNumber',\n",
        "                  'livingSpaceRange','yearConstructedRange','baseRentRange','noRoomsRange']\n",
        "dask_dataset = dask_dataset.drop(unuseful_cols,axis=1)"
      ],
      "metadata": {
        "id": "lA8KnVFH2C0P"
      },
      "execution_count": 116,
      "outputs": []
    },
    {
      "cell_type": "code",
      "source": [
        "dask_dataset = dask_dataset.drop_duplicates(keep = 'last')"
      ],
      "metadata": {
        "id": "2qSGVHNN37rL"
      },
      "execution_count": 117,
      "outputs": []
    },
    {
      "cell_type": "code",
      "source": [
        "dask_dataset.totalRent.isnull().sum().compute()"
      ],
      "metadata": {
        "colab": {
          "base_uri": "https://localhost:8080/"
        },
        "id": "SMTEQhQt4hGV",
        "outputId": "1e0274f5-bc1d-47c0-c440-b3a942f7ae6f"
      },
      "execution_count": 118,
      "outputs": [
        {
          "output_type": "execute_result",
          "data": {
            "text/plain": [
              "40171"
            ]
          },
          "metadata": {},
          "execution_count": 118
        }
      ]
    },
    {
      "cell_type": "code",
      "source": [
        "median = dataset.totalRent.median()\n",
        "dask_dataset.totalRent = dask_dataset.totalRent.fillna(median)"
      ],
      "metadata": {
        "id": "K6LYPG8W5Wd6"
      },
      "execution_count": 119,
      "outputs": []
    },
    {
      "cell_type": "code",
      "source": [
        "dask_dataset = dask_dataset[~(dask_dataset.baseRent >= dask_dataset.totalRent)]"
      ],
      "metadata": {
        "id": "EWixhmzIA0SN"
      },
      "execution_count": 120,
      "outputs": []
    },
    {
      "cell_type": "code",
      "source": [
        "dask_dataset = dask_dataset[~( dask_dataset.totalRent == 0)]"
      ],
      "metadata": {
        "id": "O9aT7qGnCMgJ"
      },
      "execution_count": 121,
      "outputs": []
    },
    {
      "cell_type": "code",
      "source": [
        "dask_dataset = dask_dataset[~( dask_dataset.totalRent > 10000)]"
      ],
      "metadata": {
        "id": "TLKK_lZvCzOd"
      },
      "execution_count": 122,
      "outputs": []
    },
    {
      "cell_type": "code",
      "source": [
        "dask_dataset = dask_dataset[~( dask_dataset.livingSpace == 0)]"
      ],
      "metadata": {
        "id": "dQkTrEpdP8iF"
      },
      "execution_count": 123,
      "outputs": []
    },
    {
      "cell_type": "code",
      "source": [
        "dask_dataset= dask_dataset.fillna(numeric_cols.mean())"
      ],
      "metadata": {
        "id": "YKOA7sE7DNTL"
      },
      "execution_count": 135,
      "outputs": []
    },
    {
      "cell_type": "code",
      "source": [
        "dask_dataset = dask_dataset.fillna(categorical_cols.mode().iloc[0])"
      ],
      "metadata": {
        "id": "NW65ZARWDl-F"
      },
      "execution_count": 136,
      "outputs": []
    },
    {
      "cell_type": "code",
      "source": [
        "dask_dataset.isnull().sum().compute()"
      ],
      "metadata": {
        "colab": {
          "base_uri": "https://localhost:8080/"
        },
        "id": "0PqOkMuJIrHN",
        "outputId": "7c471ea0-7194-4a04-dc23-aafed89b2555"
      },
      "execution_count": 137,
      "outputs": [
        {
          "output_type": "execute_result",
          "data": {
            "text/plain": [
              "regio1                0\n",
              "serviceCharge         0\n",
              "heatingType           0\n",
              "telekomTvOffer        0\n",
              "newlyConst            0\n",
              "balcony               0\n",
              "pricetrend            0\n",
              "telekomUploadSpeed    0\n",
              "totalRent             0\n",
              "yearConstructed       0\n",
              "firingTypes           0\n",
              "hasKitchen            0\n",
              "geo_bln               0\n",
              "cellar                0\n",
              "baseRent              0\n",
              "livingSpace           0\n",
              "geo_krs               0\n",
              "condition             0\n",
              "interiorQual          0\n",
              "petsAllowed           0\n",
              "lift                  0\n",
              "typeOfFlat            0\n",
              "geo_plz               0\n",
              "noRooms               0\n",
              "thermalChar           0\n",
              "floor                 0\n",
              "numberOfFloors        0\n",
              "garden                0\n",
              "regio2                0\n",
              "regio3                0\n",
              "dtype: int64"
            ]
          },
          "metadata": {},
          "execution_count": 137
        }
      ]
    },
    {
      "cell_type": "code",
      "source": [
        "%%time\n",
        "for col in dask_dataset.columns:\n",
        "  if dask_dataset[col].dtype == 'int64' or dask_dataset[col].dtype == 'float64':\n",
        "    upper = dask_dataset[col].mean() + 3 * dask_dataset[col].std()\n",
        "    lower = dask_dataset[col].mean() - 3 * dask_dataset[col].std()\n",
        "    \n",
        "    dask_dataset= dask_dataset[~((dask_dataset[col] > upper) | (dask_dataset[col] < lower))]"
      ],
      "metadata": {
        "colab": {
          "base_uri": "https://localhost:8080/"
        },
        "id": "ZEMtlEm_NDA0",
        "outputId": "40e70fe2-0a09-4ba2-c491-9968d9a99769"
      },
      "execution_count": 138,
      "outputs": [
        {
          "output_type": "stream",
          "name": "stdout",
          "text": [
            "CPU times: user 272 ms, sys: 1.66 ms, total: 273 ms\n",
            "Wall time: 552 ms\n"
          ]
        }
      ]
    },
    {
      "cell_type": "code",
      "source": [
        "dask_dataset = dask_dataset.drop(['firingTypes','geo_krs','regio2','regio3','geo_bln'],axis=1)"
      ],
      "metadata": {
        "id": "Z17ZmYyMQZ3w"
      },
      "execution_count": 139,
      "outputs": []
    },
    {
      "cell_type": "code",
      "source": [
        "\n",
        "dask_dataset['new_regio1'] = dask_dataset.regio1.apply(new_label_regio1,meta=('regio1', 'object'))\n",
        "dask_dataset = dask_dataset.drop('regio1',axis=1)\n",
        "dask_dataset['new_heatingType'] = dask_dataset.heatingType.apply(new_label_heatingType,meta=('heatingType', 'object'))\n",
        "dask_dataset = dask_dataset.drop('heatingType',axis=1)\n",
        "dask_dataset['new_condition'] = dask_dataset.condition.apply(new_label_condition,meta=('condition', 'object'))\n",
        "dask_dataset = dask_dataset.drop('condition',axis=1)\n",
        "dask_dataset['new_typeOfFlat'] = dask_dataset.typeOfFlat.apply(new_label_typeOfFlat,meta=('typeOfFlat', 'object'))\n",
        "dask_dataset = dask_dataset.drop('typeOfFlat',axis=1)"
      ],
      "metadata": {
        "id": "7zs7WW7VQ2Nd"
      },
      "execution_count": 140,
      "outputs": []
    },
    {
      "cell_type": "markdown",
      "source": [
        "Gathering all preprocess steps of dask preprocessing"
      ],
      "metadata": {
        "id": "EzuprHRXQTmi"
      }
    },
    {
      "cell_type": "code",
      "source": [
        "def dask_preprocess(dask_dataset):\n",
        "  dask_dataset = dask_dataset.drop(dask_dataset.columns[dask_dataset.isnull().sum()/len(dask_dataset)>0.5],axis=1)\n",
        "  unusefull_cols =  ['street','streetPlain','date','description','scoutId','picturecount',\"facilities\",'houseNumber',\n",
        "                  'livingSpaceRange','yearConstructedRange','baseRentRange','noRoomsRange']\n",
        "  dask_dataset = dask_dataset.drop(unusefull_cols,axis=1)\n",
        "  # dask_dataset = dask_dataset.drop_duplicates(keep = 'last')\n",
        "  median = dataset.totalRent.median()\n",
        "  dask_dataset.totalRent = dask_dataset.totalRent.fillna(median)\n",
        "\n",
        "  dask_dataset = dask_dataset[~(dask_dataset.baseRent >= dask_dataset.totalRent)]\n",
        "\n",
        "  dask_dataset = dask_dataset[~( dask_dataset.totalRent == 0)]\n",
        "  dask_dataset = dask_dataset[~( dask_dataset.totalRent > 10000)]\n",
        "  dask_dataset = dask_dataset[~( dask_dataset.livingSpace == 0)]\n",
        "  dask_dataset= dask_dataset.fillna(numeric_cols.mean())\n",
        "  dask_dataset = dask_dataset.fillna(categorical_cols.mode().iloc[0])\n",
        "  dask_dataset = dask_dataset.drop(['firingTypes','geo_krs','regio2','regio3','geo_bln'],axis=1)\n",
        "\n",
        "  dask_dataset['new_regio1'] = dask_dataset.regio1.apply(new_label_regio1,meta=('regio1', 'object'))\n",
        "  dask_dataset = dask_dataset.drop('regio1',axis=1)\n",
        "  dask_dataset['new_heatingType'] = dask_dataset.heatingType.apply(new_label_heatingType,meta=('heatingType', 'object'))\n",
        "  dask_dataset = dask_dataset.drop('heatingType',axis=1)\n",
        "  dask_dataset['new_condition'] = dask_dataset.condition.apply(new_label_condition,meta=('condition', 'object'))\n",
        "  dask_dataset = dask_dataset.drop('condition',axis=1)\n",
        "  dask_dataset['new_typeOfFlat'] = dask_dataset.typeOfFlat.apply(new_label_typeOfFlat,meta=('typeOfFlat', 'object'))\n",
        "  dask_dataset = dask_dataset.drop('typeOfFlat',axis=1)\n",
        "  return dask_dataset"
      ],
      "metadata": {
        "id": "5PbbNdCBZiUq"
      },
      "execution_count": 128,
      "outputs": []
    },
    {
      "cell_type": "code",
      "source": [
        "dask_df = dd.from_pandas(df,npartitions=2)"
      ],
      "metadata": {
        "id": "YinLrte7QqKB"
      },
      "execution_count": 126,
      "outputs": []
    },
    {
      "cell_type": "code",
      "source": [
        "%%time\n",
        "preprocess_by_dask = dask_preprocess(dask_df)"
      ],
      "metadata": {
        "colab": {
          "base_uri": "https://localhost:8080/"
        },
        "id": "RAInlP7zbnPm",
        "outputId": "b8ed31ce-c7f0-4d44-e23a-708e6850a846"
      },
      "execution_count": 134,
      "outputs": [
        {
          "output_type": "stream",
          "name": "stdout",
          "text": [
            "CPU times: user 1.08 s, sys: 13.6 ms, total: 1.09 s\n",
            "Wall time: 1.04 s\n"
          ]
        }
      ]
    },
    {
      "cell_type": "markdown",
      "source": [
        "#EXTRA "
      ],
      "metadata": {
        "id": "CpTW0Ta9UKw4"
      }
    },
    {
      "cell_type": "markdown",
      "source": [
        "##Training model by dask_ml"
      ],
      "metadata": {
        "id": "QvMXe9BjRH2y"
      }
    },
    {
      "cell_type": "code",
      "source": [
        "!pip install dask_ml --upgrade"
      ],
      "metadata": {
        "colab": {
          "base_uri": "https://localhost:8080/",
          "height": 816
        },
        "id": "2Edg-834UNCk",
        "outputId": "0a8f5601-daf7-4c1e-dbe7-2a06b9805a2e"
      },
      "execution_count": 149,
      "outputs": [
        {
          "output_type": "stream",
          "name": "stdout",
          "text": [
            "Requirement already satisfied: dask_ml in /usr/local/lib/python3.7/dist-packages (1.1.1)\n",
            "Collecting dask_ml\n",
            "  Using cached dask_ml-2022.1.22-py3-none-any.whl (148 kB)\n",
            "Requirement already satisfied: packaging in /usr/local/lib/python3.7/dist-packages (from dask_ml) (21.3)\n",
            "Requirement already satisfied: dask[array,dataframe]>=2.4.0 in /usr/local/lib/python3.7/dist-packages (from dask_ml) (2.12.0)\n",
            "Requirement already satisfied: scikit-learn>=1.0.0 in /usr/local/lib/python3.7/dist-packages (from dask_ml) (1.0.2)\n",
            "Requirement already satisfied: dask-glm>=0.2.0 in /usr/local/lib/python3.7/dist-packages (from dask_ml) (0.2.0)\n",
            "Requirement already satisfied: numba>=0.51.0 in /usr/local/lib/python3.7/dist-packages (from dask_ml) (0.51.2)\n",
            "Requirement already satisfied: pandas>=0.24.2 in /usr/local/lib/python3.7/dist-packages (from dask_ml) (1.3.5)\n",
            "Requirement already satisfied: distributed>=2.4.0 in /usr/local/lib/python3.7/dist-packages (from dask_ml) (2.30.1)\n",
            "Requirement already satisfied: numpy>=1.20.0 in /usr/local/lib/python3.7/dist-packages (from dask_ml) (1.21.5)\n",
            "Requirement already satisfied: multipledispatch>=0.4.9 in /usr/local/lib/python3.7/dist-packages (from dask_ml) (0.6.0)\n",
            "Requirement already satisfied: scipy in /usr/local/lib/python3.7/dist-packages (from dask_ml) (1.4.1)\n",
            "Requirement already satisfied: cloudpickle>=0.2.2 in /usr/local/lib/python3.7/dist-packages (from dask-glm>=0.2.0->dask_ml) (2.0.0)\n",
            "Requirement already satisfied: toolz>=0.7.3 in /usr/local/lib/python3.7/dist-packages (from dask[array,dataframe]>=2.4.0->dask_ml) (0.11.2)\n",
            "Requirement already satisfied: partd>=0.3.10 in /usr/local/lib/python3.7/dist-packages (from dask[array,dataframe]>=2.4.0->dask_ml) (1.2.0)\n",
            "Requirement already satisfied: fsspec>=0.6.0 in /usr/local/lib/python3.7/dist-packages (from dask[array,dataframe]>=2.4.0->dask_ml) (2022.3.0)\n",
            "Requirement already satisfied: tblib>=1.6.0 in /usr/local/lib/python3.7/dist-packages (from distributed>=2.4.0->dask_ml) (1.7.0)\n",
            "Requirement already satisfied: psutil>=5.0 in /usr/local/lib/python3.7/dist-packages (from distributed>=2.4.0->dask_ml) (5.4.8)\n",
            "Requirement already satisfied: sortedcontainers!=2.0.0,!=2.0.1 in /usr/local/lib/python3.7/dist-packages (from distributed>=2.4.0->dask_ml) (2.4.0)\n",
            "Requirement already satisfied: pyyaml in /usr/local/lib/python3.7/dist-packages (from distributed>=2.4.0->dask_ml) (3.13)\n",
            "Requirement already satisfied: tornado>=5 in /usr/local/lib/python3.7/dist-packages (from distributed>=2.4.0->dask_ml) (5.1.1)\n",
            "Requirement already satisfied: setuptools in /usr/local/lib/python3.7/dist-packages (from distributed>=2.4.0->dask_ml) (57.4.0)\n",
            "Requirement already satisfied: click>=6.6 in /usr/local/lib/python3.7/dist-packages (from distributed>=2.4.0->dask_ml) (7.1.2)\n",
            "Requirement already satisfied: msgpack>=0.6.0 in /usr/local/lib/python3.7/dist-packages (from distributed>=2.4.0->dask_ml) (1.0.3)\n",
            "Requirement already satisfied: zict>=0.1.3 in /usr/local/lib/python3.7/dist-packages (from distributed>=2.4.0->dask_ml) (2.1.0)\n",
            "Requirement already satisfied: six in /usr/local/lib/python3.7/dist-packages (from multipledispatch>=0.4.9->dask_ml) (1.15.0)\n",
            "Requirement already satisfied: llvmlite<0.35,>=0.34.0.dev0 in /usr/local/lib/python3.7/dist-packages (from numba>=0.51.0->dask_ml) (0.34.0)\n",
            "Requirement already satisfied: pytz>=2017.3 in /usr/local/lib/python3.7/dist-packages (from pandas>=0.24.2->dask_ml) (2018.9)\n",
            "Requirement already satisfied: python-dateutil>=2.7.3 in /usr/local/lib/python3.7/dist-packages (from pandas>=0.24.2->dask_ml) (2.8.2)\n",
            "Requirement already satisfied: locket in /usr/local/lib/python3.7/dist-packages (from partd>=0.3.10->dask[array,dataframe]>=2.4.0->dask_ml) (0.2.1)\n",
            "Requirement already satisfied: joblib>=0.11 in /usr/local/lib/python3.7/dist-packages (from scikit-learn>=1.0.0->dask_ml) (1.1.0)\n",
            "Requirement already satisfied: threadpoolctl>=2.0.0 in /usr/local/lib/python3.7/dist-packages (from scikit-learn>=1.0.0->dask_ml) (3.1.0)\n",
            "Requirement already satisfied: heapdict in /usr/local/lib/python3.7/dist-packages (from zict>=0.1.3->distributed>=2.4.0->dask_ml) (1.0.1)\n",
            "Requirement already satisfied: pyparsing!=3.0.5,>=2.0.2 in /usr/local/lib/python3.7/dist-packages (from packaging->dask_ml) (3.0.7)\n",
            "Installing collected packages: dask-ml\n",
            "  Attempting uninstall: dask-ml\n",
            "    Found existing installation: dask-ml 1.1.1\n",
            "    Uninstalling dask-ml-1.1.1:\n",
            "      Successfully uninstalled dask-ml-1.1.1\n",
            "Successfully installed dask-ml-2022.1.22\n"
          ]
        },
        {
          "output_type": "display_data",
          "data": {
            "application/vnd.colab-display-data+json": {
              "pip_warning": {
                "packages": [
                  "dask_ml"
                ]
              }
            }
          },
          "metadata": {}
        }
      ]
    },
    {
      "cell_type": "code",
      "source": [
        "import dask_ml\n",
        "from dask_ml.model_selection import train_test_split , GridSearchCV\n",
        "from dask_ml.preprocessing import StandardScaler, OneHotEncoder\n",
        "from dask_ml.compose import ColumnTransformer\n",
        "from sklearn.pipeline import Pipeline,make_pipeline\n",
        "from sklearn.linear_model import LinearRegression\n",
        "from sklearn.metrics import mean_absolute_error"
      ],
      "metadata": {
        "id": "y18FcnewVL3-"
      },
      "execution_count": 192,
      "outputs": []
    },
    {
      "cell_type": "code",
      "source": [
        "dask_data = dask_dataset.drop(['totalRent','baseRent'],axis=1)\n",
        "dast_target = dask_dataset.totalRent\n",
        "\n",
        "for col in dask_data.columns:\n",
        "  if dask_data[col].dtype == 'object' or dask_data[col].dtype == 'bool' :\n",
        "    dask_data[col] = dask_data[col].astype('category')\n",
        "\n",
        "dask_data = dask_data.categorize()\n",
        "dd_train , dd_test, dd_target_train , dd_target_test = train_test_split(dask_data,dast_target,test_size=0.2,random_state=42)"
      ],
      "metadata": {
        "colab": {
          "base_uri": "https://localhost:8080/"
        },
        "id": "-lffPG3McOFT",
        "outputId": "e764b40d-77e1-4f4f-886b-0c5d2578017d"
      },
      "execution_count": 165,
      "outputs": [
        {
          "output_type": "stream",
          "name": "stderr",
          "text": [
            "/usr/local/lib/python3.7/dist-packages/pandas/core/arrays/categorical.py:2631: FutureWarning: The `inplace` parameter in pandas.Categorical.set_categories is deprecated and will be removed in a future version. Removing unused categories will always return a new Categorical object.\n",
            "  res = method(*args, **kwargs)\n"
          ]
        }
      ]
    },
    {
      "cell_type": "code",
      "source": [
        "\n",
        "cat_cols = dd_train.select_dtypes(include=['object','bool','category']).columns\n",
        "numeric_cols = dd_train.select_dtypes(exclude=['bool','object','category']).columns\n",
        "preprocessor  = ColumnTransformer([('cat_preprocessor',OneHotEncoder(sparse=False),cat_cols),\n",
        "                                   ('num_preprocessor',StandardScaler(),numeric_cols)])"
      ],
      "metadata": {
        "id": "3QOruXY7c68N"
      },
      "execution_count": 166,
      "outputs": []
    },
    {
      "cell_type": "code",
      "source": [
        "%%time\n",
        "lr_dask = make_pipeline(preprocessor,LinearRegression(n_jobs=-1))\n",
        "lr_dask.fit(dd_train,dd_target_train)"
      ],
      "metadata": {
        "colab": {
          "base_uri": "https://localhost:8080/"
        },
        "id": "0SxQF_3HeNEM",
        "outputId": "00b2abd2-b36d-4a1f-ef01-d622413a62b2"
      },
      "execution_count": 169,
      "outputs": [
        {
          "output_type": "stream",
          "name": "stdout",
          "text": [
            "CPU times: user 11.5 s, sys: 597 ms, total: 12.1 s\n",
            "Wall time: 10.5 s\n"
          ]
        }
      ]
    },
    {
      "cell_type": "code",
      "source": [
        "r2_dask = lr_dask.score(dd_test,dd_target_test)\n",
        "print('R2 score :', r2_dask)"
      ],
      "metadata": {
        "colab": {
          "base_uri": "https://localhost:8080/"
        },
        "id": "cbp1sbt-HPR9",
        "outputId": "1aad97b4-afe3-4328-c64d-d68f8ef5374c"
      },
      "execution_count": 180,
      "outputs": [
        {
          "output_type": "stream",
          "name": "stdout",
          "text": [
            "R2 score : 0.7779968116303069\n"
          ]
        }
      ]
    },
    {
      "cell_type": "code",
      "source": [
        "predicted = lr_dask.predict(dd_test)\n",
        "mae = mean_absolute_error(predicted,dd_target_test)\n",
        "\n",
        "print('MAE : ',mae)"
      ],
      "metadata": {
        "colab": {
          "base_uri": "https://localhost:8080/"
        },
        "id": "rE6rDvRl5HI2",
        "outputId": "e85e0557-ce95-4388-d0e4-9827d6ff5dfc"
      },
      "execution_count": 181,
      "outputs": [
        {
          "output_type": "stream",
          "name": "stdout",
          "text": [
            "MAE :  116.77508339831904\n"
          ]
        }
      ]
    },
    {
      "cell_type": "code",
      "source": [
        "%%time\n",
        "\n",
        "ridge_dask = Pipeline([('preprocessor',preprocessor), ('regressor',Ridge())])\n",
        "param_grid = {\n",
        "    'regressor__alpha' : [0.001,0.01,0.1,0,1,10,100,1000]\n",
        "}\n",
        "grid_search = GridSearchCV(ridge_dask,param_grid= param_grid,cv=5,n_jobs=-1,scoring = 'neg_mean_absolute_error')\n",
        "grid_search.fit(dd_train,dd_target_train)\n"
      ],
      "metadata": {
        "colab": {
          "base_uri": "https://localhost:8080/"
        },
        "id": "B8sM9_ocEgTm",
        "outputId": "7c1c3c09-52e5-4e7f-b21d-6113e0ebb854"
      },
      "execution_count": 194,
      "outputs": [
        {
          "output_type": "stream",
          "name": "stdout",
          "text": [
            "CPU times: user 40.5 s, sys: 6.76 s, total: 47.3 s\n",
            "Wall time: 30.7 s\n"
          ]
        }
      ]
    },
    {
      "cell_type": "markdown",
      "source": [
        "##Feature engineering\n"
      ],
      "metadata": {
        "id": "BLC5lcyf_b3z"
      }
    },
    {
      "cell_type": "code",
      "source": [
        "dataset = pd.read_csv('immo_data.csv')"
      ],
      "metadata": {
        "id": "ycsRPnTK_0AA"
      },
      "execution_count": 210,
      "outputs": []
    },
    {
      "cell_type": "markdown",
      "source": [
        "Apply previous preprocessing and trying to create new feature to imporve model performance"
      ],
      "metadata": {
        "id": "YY-epztIZDoe"
      }
    },
    {
      "cell_type": "code",
      "source": [
        "unuseful_cols = ['street','streetPlain','date','description','scoutId','picturecount',\"facilities\",'houseNumber',\n",
        "                  'livingSpaceRange','yearConstructedRange','baseRentRange','noRoomsRange']"
      ],
      "metadata": {
        "id": "vRw_LVvXASgR"
      },
      "execution_count": 211,
      "outputs": []
    },
    {
      "cell_type": "code",
      "source": [
        "dataset.drop(unuseful_cols,axis=1,inplace=True)"
      ],
      "metadata": {
        "id": "nv-7TjwEAWU_"
      },
      "execution_count": 212,
      "outputs": []
    },
    {
      "cell_type": "code",
      "source": [
        "dataset.drop(dataset.columns[dataset.isnull().sum()/len(dataset)>0.5],axis=1,inplace=True)"
      ],
      "metadata": {
        "id": "MEvR6dF3AgwO"
      },
      "execution_count": 213,
      "outputs": []
    },
    {
      "cell_type": "code",
      "source": [
        "dataset.info()"
      ],
      "metadata": {
        "colab": {
          "base_uri": "https://localhost:8080/"
        },
        "id": "cBXmIqgOBCf4",
        "outputId": "783222ed-ba9b-4efa-e49d-25a292be0df4"
      },
      "execution_count": 214,
      "outputs": [
        {
          "output_type": "stream",
          "name": "stdout",
          "text": [
            "<class 'pandas.core.frame.DataFrame'>\n",
            "RangeIndex: 268850 entries, 0 to 268849\n",
            "Data columns (total 30 columns):\n",
            " #   Column              Non-Null Count   Dtype  \n",
            "---  ------              --------------   -----  \n",
            " 0   regio1              268850 non-null  object \n",
            " 1   serviceCharge       261941 non-null  float64\n",
            " 2   heatingType         223994 non-null  object \n",
            " 3   telekomTvOffer      236231 non-null  object \n",
            " 4   newlyConst          268850 non-null  bool   \n",
            " 5   balcony             268850 non-null  bool   \n",
            " 6   pricetrend          267018 non-null  float64\n",
            " 7   telekomUploadSpeed  235492 non-null  float64\n",
            " 8   totalRent           228333 non-null  float64\n",
            " 9   yearConstructed     211805 non-null  float64\n",
            " 10  firingTypes         211886 non-null  object \n",
            " 11  hasKitchen          268850 non-null  bool   \n",
            " 12  geo_bln             268850 non-null  object \n",
            " 13  cellar              268850 non-null  bool   \n",
            " 14  baseRent            268850 non-null  float64\n",
            " 15  livingSpace         268850 non-null  float64\n",
            " 16  geo_krs             268850 non-null  object \n",
            " 17  condition           200361 non-null  object \n",
            " 18  interiorQual        156185 non-null  object \n",
            " 19  petsAllowed         154277 non-null  object \n",
            " 20  lift                268850 non-null  bool   \n",
            " 21  typeOfFlat          232236 non-null  object \n",
            " 22  geo_plz             268850 non-null  int64  \n",
            " 23  noRooms             268850 non-null  float64\n",
            " 24  thermalChar         162344 non-null  float64\n",
            " 25  floor               217541 non-null  float64\n",
            " 26  numberOfFloors      171118 non-null  float64\n",
            " 27  garden              268850 non-null  bool   \n",
            " 28  regio2              268850 non-null  object \n",
            " 29  regio3              268850 non-null  object \n",
            "dtypes: bool(6), float64(11), int64(1), object(12)\n",
            "memory usage: 50.8+ MB\n"
          ]
        }
      ]
    },
    {
      "cell_type": "code",
      "source": [
        "dataset.drop(['firingTypes','geo_krs','regio2','regio3','geo_bln'],axis=1,inplace=True)"
      ],
      "metadata": {
        "id": "PTDAPG3PBOYm"
      },
      "execution_count": 215,
      "outputs": []
    },
    {
      "cell_type": "code",
      "source": [
        "dataset.info()"
      ],
      "metadata": {
        "colab": {
          "base_uri": "https://localhost:8080/"
        },
        "id": "NtQjkN7XB7VP",
        "outputId": "6caee672-5021-4834-ab5e-13011295e72d"
      },
      "execution_count": 216,
      "outputs": [
        {
          "output_type": "stream",
          "name": "stdout",
          "text": [
            "<class 'pandas.core.frame.DataFrame'>\n",
            "RangeIndex: 268850 entries, 0 to 268849\n",
            "Data columns (total 25 columns):\n",
            " #   Column              Non-Null Count   Dtype  \n",
            "---  ------              --------------   -----  \n",
            " 0   regio1              268850 non-null  object \n",
            " 1   serviceCharge       261941 non-null  float64\n",
            " 2   heatingType         223994 non-null  object \n",
            " 3   telekomTvOffer      236231 non-null  object \n",
            " 4   newlyConst          268850 non-null  bool   \n",
            " 5   balcony             268850 non-null  bool   \n",
            " 6   pricetrend          267018 non-null  float64\n",
            " 7   telekomUploadSpeed  235492 non-null  float64\n",
            " 8   totalRent           228333 non-null  float64\n",
            " 9   yearConstructed     211805 non-null  float64\n",
            " 10  hasKitchen          268850 non-null  bool   \n",
            " 11  cellar              268850 non-null  bool   \n",
            " 12  baseRent            268850 non-null  float64\n",
            " 13  livingSpace         268850 non-null  float64\n",
            " 14  condition           200361 non-null  object \n",
            " 15  interiorQual        156185 non-null  object \n",
            " 16  petsAllowed         154277 non-null  object \n",
            " 17  lift                268850 non-null  bool   \n",
            " 18  typeOfFlat          232236 non-null  object \n",
            " 19  geo_plz             268850 non-null  int64  \n",
            " 20  noRooms             268850 non-null  float64\n",
            " 21  thermalChar         162344 non-null  float64\n",
            " 22  floor               217541 non-null  float64\n",
            " 23  numberOfFloors      171118 non-null  float64\n",
            " 24  garden              268850 non-null  bool   \n",
            "dtypes: bool(6), float64(11), int64(1), object(7)\n",
            "memory usage: 40.5+ MB\n"
          ]
        }
      ]
    },
    {
      "cell_type": "code",
      "source": [
        "dataset.drop(dataset[dataset.livingSpace == 0].index,inplace=True)"
      ],
      "metadata": {
        "id": "0gzPg6WQV_Jy"
      },
      "execution_count": 217,
      "outputs": []
    },
    {
      "cell_type": "markdown",
      "source": [
        "create new rent / meter feature"
      ],
      "metadata": {
        "id": "1gjSi_HhZbj4"
      }
    },
    {
      "cell_type": "code",
      "source": [
        "dataset['rent_per_meter'] = dataset.baseRent / dataset.livingSpace"
      ],
      "metadata": {
        "id": "lKOZtXcSB_d8"
      },
      "execution_count": 218,
      "outputs": []
    },
    {
      "cell_type": "code",
      "source": [
        "dataset.drop_duplicates(keep='last',inplace=True)"
      ],
      "metadata": {
        "id": "k-KGDq0yDoCD"
      },
      "execution_count": 219,
      "outputs": []
    },
    {
      "cell_type": "code",
      "source": [
        "dataset.totalRent.fillna(dataset.totalRent.median(),inplace=True)"
      ],
      "metadata": {
        "id": "VciUaA-ND5yT"
      },
      "execution_count": 220,
      "outputs": []
    },
    {
      "cell_type": "code",
      "source": [
        "dataset.drop(dataset[dataset.baseRent >= dataset.totalRent].index,axis=0,inplace=True)"
      ],
      "metadata": {
        "id": "QIgCbgerEIGl"
      },
      "execution_count": 221,
      "outputs": []
    },
    {
      "cell_type": "code",
      "source": [
        "dataset.drop(dataset.loc[dataset['totalRent']>10000].index,axis=0,inplace=True)"
      ],
      "metadata": {
        "id": "p7-exZzNEYQ3"
      },
      "execution_count": 222,
      "outputs": []
    },
    {
      "cell_type": "code",
      "source": [
        "dataset.drop(dataset[dataset.totalRent == 0 ].index,inplace=True)"
      ],
      "metadata": {
        "id": "gxvv0GnBMcR5"
      },
      "execution_count": 223,
      "outputs": []
    },
    {
      "cell_type": "code",
      "source": [
        "for col in dataset.columns:\n",
        "  if dataset[col].dtype == 'int64' or dataset[col].dtype == 'float64':\n",
        "    outlier_indexes = detect_outlier(dataset,col)\n",
        "    print(col,' ',len(outlier_indexes))\n",
        "    dataset.drop(outlier_indexes,inplace=True)"
      ],
      "metadata": {
        "colab": {
          "base_uri": "https://localhost:8080/"
        },
        "id": "c1r37QIjF3hd",
        "outputId": "aaa83d66-2ad7-4653-dedc-294632accc47"
      },
      "execution_count": 224,
      "outputs": [
        {
          "output_type": "stream",
          "name": "stdout",
          "text": [
            "serviceCharge   63\n",
            "pricetrend   2104\n",
            "telekomUploadSpeed   140\n",
            "totalRent   4220\n",
            "yearConstructed   968\n",
            "baseRent   4284\n",
            "livingSpace   11\n",
            "geo_plz   0\n",
            "noRooms   27\n",
            "thermalChar   1052\n",
            "floor   367\n",
            "numberOfFloors   51\n",
            "rent_per_meter   2014\n"
          ]
        }
      ]
    },
    {
      "cell_type": "code",
      "source": [
        "mean_of_numeric_cols = dataset.select_dtypes(exclude = ['bool','object'] ).mean()\n",
        "dataset.fillna(mean_of_numeric_cols,inplace=True)"
      ],
      "metadata": {
        "id": "6mRtBL_GNL3Y"
      },
      "execution_count": 225,
      "outputs": []
    },
    {
      "cell_type": "code",
      "source": [
        "mode_of_categorical_cols = dataset.select_dtypes(include = ['bool','object'] ).mode()\n",
        "dataset.fillna(mode_of_categorical_cols.iloc[0],inplace=True)"
      ],
      "metadata": {
        "id": "Ef-R_C7zN1zX"
      },
      "execution_count": 226,
      "outputs": []
    },
    {
      "cell_type": "code",
      "source": [
        "dataset.totalRent.hist(bins=50)"
      ],
      "metadata": {
        "colab": {
          "base_uri": "https://localhost:8080/",
          "height": 282
        },
        "id": "p3f5ESrrKMYP",
        "outputId": "97ad763f-47c6-4ac4-ffb5-26a1ccb4742e"
      },
      "execution_count": 227,
      "outputs": [
        {
          "output_type": "execute_result",
          "data": {
            "text/plain": [
              "<matplotlib.axes._subplots.AxesSubplot at 0x7fd199d09a50>"
            ]
          },
          "metadata": {},
          "execution_count": 227
        },
        {
          "output_type": "display_data",
          "data": {
            "text/plain": [
              "<Figure size 432x288 with 1 Axes>"
            ],
            "image/png": "[encoded data removed]"
          },
          "metadata": {
            "needs_background": "light"
          }
        }
      ]
    },
    {
      "cell_type": "code",
      "source": [
        "dataset.rent_per_meter.hist(bins=50)"
      ],
      "metadata": {
        "colab": {
          "base_uri": "https://localhost:8080/",
          "height": 282
        },
        "id": "8Owv8OiWZm-P",
        "outputId": "2bcdf96c-f74f-426e-d893-db7cd53f1128"
      },
      "execution_count": 242,
      "outputs": [
        {
          "output_type": "execute_result",
          "data": {
            "text/plain": [
              "<matplotlib.axes._subplots.AxesSubplot at 0x7fd19ab28290>"
            ]
          },
          "metadata": {},
          "execution_count": 242
        },
        {
          "output_type": "display_data",
          "data": {
            "text/plain": [
              "<Figure size 432x288 with 1 Axes>"
            ],
            "image/png": "[encoded data removed]"
          },
          "metadata": {
            "needs_background": "light"
          }
        }
      ]
    },
    {
      "cell_type": "code",
      "source": [
        "states = dataset.groupby('regio1')['baseRent'].mean()"
      ],
      "metadata": {
        "id": "QxZlvxpfDR3C"
      },
      "execution_count": 229,
      "outputs": []
    },
    {
      "cell_type": "code",
      "source": [
        "states.sort_values(inplace=True)\n",
        "plt.figure(figsize=(15,15))\n",
        "sns.barplot(y=states.index,x=states,orient='h')"
      ],
      "metadata": {
        "colab": {
          "base_uri": "https://localhost:8080/",
          "height": 894
        },
        "id": "podDoAKIO6ES",
        "outputId": "6475518e-6518-414a-c5f7-0a4598bd4b62"
      },
      "execution_count": 230,
      "outputs": [
        {
          "output_type": "execute_result",
          "data": {
            "text/plain": [
              "<matplotlib.axes._subplots.AxesSubplot at 0x7fd1b0bb8a10>"
            ]
          },
          "metadata": {},
          "execution_count": 230
        },
        {
          "output_type": "display_data",
          "data": {
            "text/plain": [
              "<Figure size 1080x1080 with 1 Axes>"
            ],
            "image/png": "[encoded data removed]"
          },
          "metadata": {
            "needs_background": "light"
          }
        }
      ]
    },
    {
      "cell_type": "code",
      "source": [
        "corr = dataset.corr()"
      ],
      "metadata": {
        "id": "yHuG64CCCi6X"
      },
      "execution_count": 231,
      "outputs": []
    },
    {
      "cell_type": "code",
      "source": [
        "plt.figure(figsize=(15,15))\n",
        "sns.heatmap(corr,annot=True,vmin=-1,vmax=1)"
      ],
      "metadata": {
        "colab": {
          "base_uri": "https://localhost:8080/",
          "height": 980
        },
        "id": "cm3EpveACqSw",
        "outputId": "558cc62a-6679-4cb0-cbd9-014ecf4784a0"
      },
      "execution_count": 232,
      "outputs": [
        {
          "output_type": "execute_result",
          "data": {
            "text/plain": [
              "<matplotlib.axes._subplots.AxesSubplot at 0x7fd1b4eb3610>"
            ]
          },
          "metadata": {},
          "execution_count": 232
        },
        {
          "output_type": "display_data",
          "data": {
            "text/plain": [
              "<Figure size 1080x1080 with 2 Axes>"
            ],
            "image/png": "[encoded data removed]"
          },
          "metadata": {
            "needs_background": "light"
          }
        }
      ]
    },
    {
      "cell_type": "code",
      "source": [
        "corr['totalRent'].sort_values()"
      ],
      "metadata": {
        "colab": {
          "base_uri": "https://localhost:8080/"
        },
        "id": "D5iIBWrZC8uG",
        "outputId": "c4ffa071-50ba-4e11-eb74-361ad2796ee1"
      },
      "execution_count": 233,
      "outputs": [
        {
          "output_type": "execute_result",
          "data": {
            "text/plain": [
              "thermalChar          -0.130009\n",
              "floor                -0.045240\n",
              "numberOfFloors       -0.042011\n",
              "telekomUploadSpeed    0.020659\n",
              "garden                0.039476\n",
              "cellar                0.043489\n",
              "hasKitchen            0.238743\n",
              "yearConstructed       0.249806\n",
              "balcony               0.289966\n",
              "lift                  0.291515\n",
              "geo_plz               0.298839\n",
              "newlyConst            0.318860\n",
              "pricetrend            0.422170\n",
              "noRooms               0.482830\n",
              "rent_per_meter        0.588281\n",
              "serviceCharge         0.694413\n",
              "livingSpace           0.727831\n",
              "baseRent              0.974667\n",
              "totalRent             1.000000\n",
              "Name: totalRent, dtype: float64"
            ]
          },
          "metadata": {},
          "execution_count": 233
        }
      ]
    },
    {
      "cell_type": "code",
      "source": [
        "from sklearn.neighbors import KNeighborsRegressor\n",
        "from sklearn.linear_model import Ridge\n",
        "from sklearn.model_selection import train_test_split , GridSearchCV\n",
        "from sklearn.metrics import mean_absolute_error, mean_squared_error\n",
        "from sklearn.preprocessing import OrdinalEncoder , OneHotEncoder , StandardScaler\n",
        "from sklearn.compose import make_column_selector,ColumnTransformer\n",
        "from sklearn.pipeline import make_pipeline"
      ],
      "metadata": {
        "id": "ClF11wNpRILH"
      },
      "execution_count": 234,
      "outputs": []
    },
    {
      "cell_type": "markdown",
      "source": [
        "Also delete baseRent for data leakage"
      ],
      "metadata": {
        "id": "qaiyq43RadsT"
      }
    },
    {
      "cell_type": "code",
      "source": [
        "data = dataset.drop(['totalRent','baseRent'],axis=1)\n",
        "target = dataset.totalRent\n",
        "data_train , data_test ,target_train,target_test = train_test_split(data,target,test_size=0.2,random_state=42)"
      ],
      "metadata": {
        "id": "SZyuSqDCThIs"
      },
      "execution_count": 243,
      "outputs": []
    },
    {
      "cell_type": "code",
      "source": [
        "cat_selector = make_column_selector(dtype_include=['bool','object'])\n",
        "num_selector = make_column_selector(dtype_exclude=['bool','object'])\n",
        "cat_cols = cat_selector(data_train)\n",
        "numeric_cols = num_selector(data_train)\n",
        "preprocessor  = ColumnTransformer([('cat_preprocessor',OneHotEncoder(handle_unknown='ignore',sparse=False),cat_cols),\n",
        "                                   ('num_preprocessor',StandardScaler(),numeric_cols)])"
      ],
      "metadata": {
        "id": "6gLsumqTSffe"
      },
      "execution_count": 247,
      "outputs": []
    },
    {
      "cell_type": "markdown",
      "source": [
        "Ridge model"
      ],
      "metadata": {
        "id": "yiJhX6tfmv6d"
      }
    },
    {
      "cell_type": "code",
      "source": [
        "ridge = make_pipeline(preprocessor,Ridge())"
      ],
      "metadata": {
        "id": "6Ouzs8uYTK2t"
      },
      "execution_count": 248,
      "outputs": []
    },
    {
      "cell_type": "code",
      "source": [
        "ridge.fit(data_train,target_train)"
      ],
      "metadata": {
        "colab": {
          "base_uri": "https://localhost:8080/"
        },
        "id": "GQ8syoegTa9k",
        "outputId": "1ed886bc-3ef0-4b35-c079-950db6d9bcbd"
      },
      "execution_count": 249,
      "outputs": [
        {
          "output_type": "execute_result",
          "data": {
            "text/plain": [
              "Pipeline(steps=[('columntransformer',\n",
              "                 ColumnTransformer(transformers=[('cat_preprocessor',\n",
              "                                                  OneHotEncoder(handle_unknown='ignore',\n",
              "                                                                sparse=False),\n",
              "                                                  ['regio1', 'heatingType',\n",
              "                                                   'telekomTvOffer',\n",
              "                                                   'newlyConst', 'balcony',\n",
              "                                                   'hasKitchen', 'cellar',\n",
              "                                                   'condition', 'interiorQual',\n",
              "                                                   'petsAllowed', 'lift',\n",
              "                                                   'typeOfFlat', 'garden']),\n",
              "                                                 ('num_preprocessor',\n",
              "                                                  StandardScaler(),\n",
              "                                                  ['serviceCharge',\n",
              "                                                   'pricetrend',\n",
              "                                                   'telekomUploadSpeed',\n",
              "                                                   'yearConstructed',\n",
              "                                                   'livingSpace', 'geo_plz',\n",
              "                                                   'noRooms', 'thermalChar',\n",
              "                                                   'floor', 'numberOfFloors',\n",
              "                                                   'rent_per_meter'])])),\n",
              "                ('ridge', Ridge())])"
            ]
          },
          "metadata": {},
          "execution_count": 249
        }
      ]
    },
    {
      "cell_type": "code",
      "source": [
        "ridge_score = ridge.score(data_test,target_test)\n",
        "print(f'ridge score : {ridge_score:.3f}')"
      ],
      "metadata": {
        "colab": {
          "base_uri": "https://localhost:8080/"
        },
        "id": "7AsSuvcMVHC_",
        "outputId": "f5fb6c56-1030-4488-846b-9d4b6d47f170"
      },
      "execution_count": 250,
      "outputs": [
        {
          "output_type": "stream",
          "name": "stdout",
          "text": [
            "ridge score : 0.905\n"
          ]
        }
      ]
    },
    {
      "cell_type": "code",
      "source": [
        "ridge_predicted =  ridge.predict(data_test)\n",
        "print(f'MAE of ridge model : {mean_absolute_error(target_test,ridge_predicted):.3f}')"
      ],
      "metadata": {
        "colab": {
          "base_uri": "https://localhost:8080/"
        },
        "id": "TuyF0TGWXAkF",
        "outputId": "62b80839-90f3-4436-8759-34b04941cbcd"
      },
      "execution_count": 251,
      "outputs": [
        {
          "output_type": "stream",
          "name": "stdout",
          "text": [
            "MAE of ridge model : 68.692\n"
          ]
        }
      ]
    },
    {
      "cell_type": "markdown",
      "source": [
        "KNN"
      ],
      "metadata": {
        "id": "lba8vBBinPZW"
      }
    },
    {
      "cell_type": "code",
      "source": [
        "knn = make_pipeline(preprocessor,KNeighborsRegressor(n_neighbors=7))"
      ],
      "metadata": {
        "id": "62OciiR2Zma-"
      },
      "execution_count": 255,
      "outputs": []
    },
    {
      "cell_type": "code",
      "source": [
        "knn.fit(data_train,target_train)"
      ],
      "metadata": {
        "colab": {
          "base_uri": "https://localhost:8080/"
        },
        "id": "2RYKEzCZbHBK",
        "outputId": "92067e4d-24d1-4b2d-fe69-80a894b25c67"
      },
      "execution_count": 256,
      "outputs": [
        {
          "output_type": "execute_result",
          "data": {
            "text/plain": [
              "Pipeline(steps=[('columntransformer',\n",
              "                 ColumnTransformer(transformers=[('cat_preprocessor',\n",
              "                                                  OneHotEncoder(handle_unknown='ignore',\n",
              "                                                                sparse=False),\n",
              "                                                  ['regio1', 'heatingType',\n",
              "                                                   'telekomTvOffer',\n",
              "                                                   'newlyConst', 'balcony',\n",
              "                                                   'hasKitchen', 'cellar',\n",
              "                                                   'condition', 'interiorQual',\n",
              "                                                   'petsAllowed', 'lift',\n",
              "                                                   'typeOfFlat', 'garden']),\n",
              "                                                 ('num_preprocessor',\n",
              "                                                  StandardScaler(),\n",
              "                                                  ['serviceCharge',\n",
              "                                                   'pricetrend',\n",
              "                                                   'telekomUploadSpeed',\n",
              "                                                   'yearConstructed',\n",
              "                                                   'livingSpace', 'geo_plz',\n",
              "                                                   'noRooms', 'thermalChar',\n",
              "                                                   'floor', 'numberOfFloors',\n",
              "                                                   'rent_per_meter'])])),\n",
              "                ('kneighborsregressor', KNeighborsRegressor(n_neighbors=7))])"
            ]
          },
          "metadata": {},
          "execution_count": 256
        }
      ]
    },
    {
      "cell_type": "code",
      "source": [
        "knn_predicted =  knn.predict(data_test)\n",
        "print(f'MAE of KNN : {mean_absolute_error(target_test,knn_predicted)} ')"
      ],
      "metadata": {
        "colab": {
          "base_uri": "https://localhost:8080/"
        },
        "id": "32B33B9sbWcw",
        "outputId": "273793ca-4865-4e32-842d-694f71092e49"
      },
      "execution_count": 257,
      "outputs": [
        {
          "output_type": "stream",
          "name": "stdout",
          "text": [
            "MAE of KNN : 84.65399709550394 \n"
          ]
        }
      ]
    },
    {
      "cell_type": "code",
      "source": [
        ""
      ],
      "metadata": {
        "id": "7dh6yDoU3n10"
      },
      "execution_count": null,
      "outputs": []
    }
  ]
}