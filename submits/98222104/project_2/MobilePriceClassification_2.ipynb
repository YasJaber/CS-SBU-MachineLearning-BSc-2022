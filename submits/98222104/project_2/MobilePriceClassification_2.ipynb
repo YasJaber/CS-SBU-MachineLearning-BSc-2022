{
  "nbformat": 4,
  "nbformat_minor": 0,
  "metadata": {
    "colab": {
      "name": "MobilePriceClassification_2.ipynb",
      "provenance": [],
      "collapsed_sections": [
        "sz8C6ulujUVX",
        "xNxQj4T1o-Rr",
        "3nrE5vyY7_vu",
        "TS_s7wyQjoYp",
        "wyTeXQ_9jtaW",
        "ENroqhy3j3Ni"
      ],
      "toc_visible": true
    },
    "kernelspec": {
      "name": "python3",
      "display_name": "Python 3"
    },
    "language_info": {
      "name": "python"
    }
  },
  "cells": [
    {
      "cell_type": "code",
      "execution_count": 1,
      "metadata": {
        "colab": {
          "base_uri": "https://localhost:8080/"
        },
        "id": "itVWcKpMdDzj",
        "outputId": "c737fa3a-1631-4fa2-ec56-fc60b25d5b80"
      },
      "outputs": [
        {
          "output_type": "stream",
          "name": "stdout",
          "text": [
            "Requirement already satisfied: kaggle in /usr/local/lib/python3.7/dist-packages (1.5.12)\n",
            "Requirement already satisfied: six>=1.10 in /usr/local/lib/python3.7/dist-packages (from kaggle) (1.15.0)\n",
            "Requirement already satisfied: urllib3 in /usr/local/lib/python3.7/dist-packages (from kaggle) (1.24.3)\n",
            "Requirement already satisfied: certifi in /usr/local/lib/python3.7/dist-packages (from kaggle) (2021.10.8)\n",
            "Requirement already satisfied: python-dateutil in /usr/local/lib/python3.7/dist-packages (from kaggle) (2.8.2)\n",
            "Requirement already satisfied: python-slugify in /usr/local/lib/python3.7/dist-packages (from kaggle) (6.1.2)\n",
            "Requirement already satisfied: tqdm in /usr/local/lib/python3.7/dist-packages (from kaggle) (4.64.0)\n",
            "Requirement already satisfied: requests in /usr/local/lib/python3.7/dist-packages (from kaggle) (2.23.0)\n",
            "Requirement already satisfied: text-unidecode>=1.3 in /usr/local/lib/python3.7/dist-packages (from python-slugify->kaggle) (1.3)\n",
            "Requirement already satisfied: idna<3,>=2.5 in /usr/local/lib/python3.7/dist-packages (from requests->kaggle) (2.10)\n",
            "Requirement already satisfied: chardet<4,>=3.0.2 in /usr/local/lib/python3.7/dist-packages (from requests->kaggle) (3.0.4)\n"
          ]
        }
      ],
      "source": [
        "!pip install kaggle"
      ]
    },
    {
      "cell_type": "code",
      "source": [
        "!mkdir -p ~/.kaggle\n",
        "!cp drive/MyDrive/kaggle.json ~/.kaggle/\n",
        "!chmod 600 ~/.kaggle/kaggle.json"
      ],
      "metadata": {
        "id": "eEigfwI_e0FY"
      },
      "execution_count": 2,
      "outputs": []
    },
    {
      "cell_type": "code",
      "source": [
        "!kaggle datasets download -d iabhishekofficial/mobile-price-classification"
      ],
      "metadata": {
        "colab": {
          "base_uri": "https://localhost:8080/"
        },
        "id": "Y5XctumsfKkA",
        "outputId": "196d7355-d57d-4b7b-de78-7faf1f3811e8"
      },
      "execution_count": 3,
      "outputs": [
        {
          "output_type": "stream",
          "name": "stdout",
          "text": [
            "Downloading mobile-price-classification.zip to /content\n",
            "\r  0% 0.00/70.6k [00:00<?, ?B/s]\n",
            "\r100% 70.6k/70.6k [00:00<00:00, 48.9MB/s]\n"
          ]
        }
      ]
    },
    {
      "cell_type": "code",
      "source": [
        "!ls"
      ],
      "metadata": {
        "colab": {
          "base_uri": "https://localhost:8080/"
        },
        "id": "LU70UW_UfPPs",
        "outputId": "2e8848b3-4b65-44dd-9bbc-9d2d617bed55"
      },
      "execution_count": 4,
      "outputs": [
        {
          "output_type": "stream",
          "name": "stdout",
          "text": [
            "drive  mobile-price-classification.zip\tsample_data\n"
          ]
        }
      ]
    },
    {
      "cell_type": "code",
      "source": [
        "import pandas as pd\n",
        "import numpy as np\n",
        "import seaborn as sns\n",
        "import matplotlib.pyplot as plt\n",
        "import zipfile\n",
        "%matplotlib inline"
      ],
      "metadata": {
        "id": "ZY6ryQ-BfYjh"
      },
      "execution_count": 5,
      "outputs": []
    },
    {
      "cell_type": "code",
      "source": [
        "zip_ref = zipfile.ZipFile('mobile-price-classification.zip', 'r')\n",
        "zip_ref.extractall('files')\n",
        "zip_ref.close()\n",
        "df=pd.read_csv('/content/files/train.csv')\n",
        "test=pd.read_csv('/content/files/test.csv')"
      ],
      "metadata": {
        "id": "mgnZnKOlfind"
      },
      "execution_count": 6,
      "outputs": []
    },
    {
      "cell_type": "code",
      "source": [
        "df.head()"
      ],
      "metadata": {
        "colab": {
          "base_uri": "https://localhost:8080/",
          "height": 299
        },
        "id": "NBsn2Bw_f5N5",
        "outputId": "a712438f-a223-4e9b-cf01-d54bbd10bdd3"
      },
      "execution_count": 7,
      "outputs": [
        {
          "output_type": "execute_result",
          "data": {
            "text/plain": [
              "   battery_power  blue  clock_speed  dual_sim  fc  four_g  int_memory  m_dep  \\\n",
              "0            842     0          2.2         0   1       0           7    0.6   \n",
              "1           1021     1          0.5         1   0       1          53    0.7   \n",
              "2            563     1          0.5         1   2       1          41    0.9   \n",
              "3            615     1          2.5         0   0       0          10    0.8   \n",
              "4           1821     1          1.2         0  13       1          44    0.6   \n",
              "\n",
              "   mobile_wt  n_cores  ...  px_height  px_width   ram  sc_h  sc_w  talk_time  \\\n",
              "0        188        2  ...         20       756  2549     9     7         19   \n",
              "1        136        3  ...        905      1988  2631    17     3          7   \n",
              "2        145        5  ...       1263      1716  2603    11     2          9   \n",
              "3        131        6  ...       1216      1786  2769    16     8         11   \n",
              "4        141        2  ...       1208      1212  1411     8     2         15   \n",
              "\n",
              "   three_g  touch_screen  wifi  price_range  \n",
              "0        0             0     1            1  \n",
              "1        1             1     0            2  \n",
              "2        1             1     0            2  \n",
              "3        1             0     0            2  \n",
              "4        1             1     0            1  \n",
              "\n",
              "[5 rows x 21 columns]"
            ],
            "text/html": [
              "\n",
              "  <div id=\"df-5d6d4978-4ff7-4ece-8052-de1067e660af\">\n",
              "    <div class=\"colab-df-container\">\n",
              "      <div>\n",
              "<style scoped>\n",
              "    .dataframe tbody tr th:only-of-type {\n",
              "        vertical-align: middle;\n",
              "    }\n",
              "\n",
              "    .dataframe tbody tr th {\n",
              "        vertical-align: top;\n",
              "    }\n",
              "\n",
              "    .dataframe thead th {\n",
              "        text-align: right;\n",
              "    }\n",
              "</style>\n",
              "<table border=\"1\" class=\"dataframe\">\n",
              "  <thead>\n",
              "    <tr style=\"text-align: right;\">\n",
              "      <th></th>\n",
              "      <th>battery_power</th>\n",
              "      <th>blue</th>\n",
              "      <th>clock_speed</th>\n",
              "      <th>dual_sim</th>\n",
              "      <th>fc</th>\n",
              "      <th>four_g</th>\n",
              "      <th>int_memory</th>\n",
              "      <th>m_dep</th>\n",
              "      <th>mobile_wt</th>\n",
              "      <th>n_cores</th>\n",
              "      <th>...</th>\n",
              "      <th>px_height</th>\n",
              "      <th>px_width</th>\n",
              "      <th>ram</th>\n",
              "      <th>sc_h</th>\n",
              "      <th>sc_w</th>\n",
              "      <th>talk_time</th>\n",
              "      <th>three_g</th>\n",
              "      <th>touch_screen</th>\n",
              "      <th>wifi</th>\n",
              "      <th>price_range</th>\n",
              "    </tr>\n",
              "  </thead>\n",
              "  <tbody>\n",
              "    <tr>\n",
              "      <th>0</th>\n",
              "      <td>842</td>\n",
              "      <td>0</td>\n",
              "      <td>2.2</td>\n",
              "      <td>0</td>\n",
              "      <td>1</td>\n",
              "      <td>0</td>\n",
              "      <td>7</td>\n",
              "      <td>0.6</td>\n",
              "      <td>188</td>\n",
              "      <td>2</td>\n",
              "      <td>...</td>\n",
              "      <td>20</td>\n",
              "      <td>756</td>\n",
              "      <td>2549</td>\n",
              "      <td>9</td>\n",
              "      <td>7</td>\n",
              "      <td>19</td>\n",
              "      <td>0</td>\n",
              "      <td>0</td>\n",
              "      <td>1</td>\n",
              "      <td>1</td>\n",
              "    </tr>\n",
              "    <tr>\n",
              "      <th>1</th>\n",
              "      <td>1021</td>\n",
              "      <td>1</td>\n",
              "      <td>0.5</td>\n",
              "      <td>1</td>\n",
              "      <td>0</td>\n",
              "      <td>1</td>\n",
              "      <td>53</td>\n",
              "      <td>0.7</td>\n",
              "      <td>136</td>\n",
              "      <td>3</td>\n",
              "      <td>...</td>\n",
              "      <td>905</td>\n",
              "      <td>1988</td>\n",
              "      <td>2631</td>\n",
              "      <td>17</td>\n",
              "      <td>3</td>\n",
              "      <td>7</td>\n",
              "      <td>1</td>\n",
              "      <td>1</td>\n",
              "      <td>0</td>\n",
              "      <td>2</td>\n",
              "    </tr>\n",
              "    <tr>\n",
              "      <th>2</th>\n",
              "      <td>563</td>\n",
              "      <td>1</td>\n",
              "      <td>0.5</td>\n",
              "      <td>1</td>\n",
              "      <td>2</td>\n",
              "      <td>1</td>\n",
              "      <td>41</td>\n",
              "      <td>0.9</td>\n",
              "      <td>145</td>\n",
              "      <td>5</td>\n",
              "      <td>...</td>\n",
              "      <td>1263</td>\n",
              "      <td>1716</td>\n",
              "      <td>2603</td>\n",
              "      <td>11</td>\n",
              "      <td>2</td>\n",
              "      <td>9</td>\n",
              "      <td>1</td>\n",
              "      <td>1</td>\n",
              "      <td>0</td>\n",
              "      <td>2</td>\n",
              "    </tr>\n",
              "    <tr>\n",
              "      <th>3</th>\n",
              "      <td>615</td>\n",
              "      <td>1</td>\n",
              "      <td>2.5</td>\n",
              "      <td>0</td>\n",
              "      <td>0</td>\n",
              "      <td>0</td>\n",
              "      <td>10</td>\n",
              "      <td>0.8</td>\n",
              "      <td>131</td>\n",
              "      <td>6</td>\n",
              "      <td>...</td>\n",
              "      <td>1216</td>\n",
              "      <td>1786</td>\n",
              "      <td>2769</td>\n",
              "      <td>16</td>\n",
              "      <td>8</td>\n",
              "      <td>11</td>\n",
              "      <td>1</td>\n",
              "      <td>0</td>\n",
              "      <td>0</td>\n",
              "      <td>2</td>\n",
              "    </tr>\n",
              "    <tr>\n",
              "      <th>4</th>\n",
              "      <td>1821</td>\n",
              "      <td>1</td>\n",
              "      <td>1.2</td>\n",
              "      <td>0</td>\n",
              "      <td>13</td>\n",
              "      <td>1</td>\n",
              "      <td>44</td>\n",
              "      <td>0.6</td>\n",
              "      <td>141</td>\n",
              "      <td>2</td>\n",
              "      <td>...</td>\n",
              "      <td>1208</td>\n",
              "      <td>1212</td>\n",
              "      <td>1411</td>\n",
              "      <td>8</td>\n",
              "      <td>2</td>\n",
              "      <td>15</td>\n",
              "      <td>1</td>\n",
              "      <td>1</td>\n",
              "      <td>0</td>\n",
              "      <td>1</td>\n",
              "    </tr>\n",
              "  </tbody>\n",
              "</table>\n",
              "<p>5 rows × 21 columns</p>\n",
              "</div>\n",
              "      <button class=\"colab-df-convert\" onclick=\"convertToInteractive('df-5d6d4978-4ff7-4ece-8052-de1067e660af')\"\n",
              "              title=\"Convert this dataframe to an interactive table.\"\n",
              "              style=\"display:none;\">\n",
              "        \n",
              "  <svg xmlns=\"http://www.w3.org/2000/svg\" height=\"24px\"viewBox=\"0 0 24 24\"\n",
              "       width=\"24px\">\n",
              "    <path d=\"M0 0h24v24H0V0z\" fill=\"none\"/>\n",
              "    <path d=\"M18.56 5.44l.94 2.06.94-2.06 2.06-.94-2.06-.94-.94-2.06-.94 2.06-2.06.94zm-11 1L8.5 8.5l.94-2.06 2.06-.94-2.06-.94L8.5 2.5l-.94 2.06-2.06.94zm10 10l.94 2.06.94-2.06 2.06-.94-2.06-.94-.94-2.06-.94 2.06-2.06.94z\"/><path d=\"M17.41 7.96l-1.37-1.37c-.4-.4-.92-.59-1.43-.59-.52 0-1.04.2-1.43.59L10.3 9.45l-7.72 7.72c-.78.78-.78 2.05 0 2.83L4 21.41c.39.39.9.59 1.41.59.51 0 1.02-.2 1.41-.59l7.78-7.78 2.81-2.81c.8-.78.8-2.07 0-2.86zM5.41 20L4 18.59l7.72-7.72 1.47 1.35L5.41 20z\"/>\n",
              "  </svg>\n",
              "      </button>\n",
              "      \n",
              "  <style>\n",
              "    .colab-df-container {\n",
              "      display:flex;\n",
              "      flex-wrap:wrap;\n",
              "      gap: 12px;\n",
              "    }\n",
              "\n",
              "    .colab-df-convert {\n",
              "      background-color: #E8F0FE;\n",
              "      border: none;\n",
              "      border-radius: 50%;\n",
              "      cursor: pointer;\n",
              "      display: none;\n",
              "      fill: #1967D2;\n",
              "      height: 32px;\n",
              "      padding: 0 0 0 0;\n",
              "      width: 32px;\n",
              "    }\n",
              "\n",
              "    .colab-df-convert:hover {\n",
              "      background-color: #E2EBFA;\n",
              "      box-shadow: 0px 1px 2px rgba(60, 64, 67, 0.3), 0px 1px 3px 1px rgba(60, 64, 67, 0.15);\n",
              "      fill: #174EA6;\n",
              "    }\n",
              "\n",
              "    [theme=dark] .colab-df-convert {\n",
              "      background-color: #3B4455;\n",
              "      fill: #D2E3FC;\n",
              "    }\n",
              "\n",
              "    [theme=dark] .colab-df-convert:hover {\n",
              "      background-color: #434B5C;\n",
              "      box-shadow: 0px 1px 3px 1px rgba(0, 0, 0, 0.15);\n",
              "      filter: drop-shadow(0px 1px 2px rgba(0, 0, 0, 0.3));\n",
              "      fill: #FFFFFF;\n",
              "    }\n",
              "  </style>\n",
              "\n",
              "      <script>\n",
              "        const buttonEl =\n",
              "          document.querySelector('#df-5d6d4978-4ff7-4ece-8052-de1067e660af button.colab-df-convert');\n",
              "        buttonEl.style.display =\n",
              "          google.colab.kernel.accessAllowed ? 'block' : 'none';\n",
              "\n",
              "        async function convertToInteractive(key) {\n",
              "          const element = document.querySelector('#df-5d6d4978-4ff7-4ece-8052-de1067e660af');\n",
              "          const dataTable =\n",
              "            await google.colab.kernel.invokeFunction('convertToInteractive',\n",
              "                                                     [key], {});\n",
              "          if (!dataTable) return;\n",
              "\n",
              "          const docLinkHtml = 'Like what you see? Visit the ' +\n",
              "            '<a target=\"_blank\" href=https://colab.research.google.com/notebooks/data_table.ipynb>data table notebook</a>'\n",
              "            + ' to learn more about interactive tables.';\n",
              "          element.innerHTML = '';\n",
              "          dataTable['output_type'] = 'display_data';\n",
              "          await google.colab.output.renderOutput(dataTable, element);\n",
              "          const docLink = document.createElement('div');\n",
              "          docLink.innerHTML = docLinkHtml;\n",
              "          element.appendChild(docLink);\n",
              "        }\n",
              "      </script>\n",
              "    </div>\n",
              "  </div>\n",
              "  "
            ]
          },
          "metadata": {},
          "execution_count": 7
        }
      ]
    },
    {
      "cell_type": "code",
      "source": [
        "df.shape"
      ],
      "metadata": {
        "colab": {
          "base_uri": "https://localhost:8080/"
        },
        "id": "ZDfdRSVyf8_J",
        "outputId": "bef3dbbe-4e2f-45c8-f665-1b89fce76b0f"
      },
      "execution_count": 8,
      "outputs": [
        {
          "output_type": "execute_result",
          "data": {
            "text/plain": [
              "(2000, 21)"
            ]
          },
          "metadata": {},
          "execution_count": 8
        }
      ]
    },
    {
      "cell_type": "code",
      "source": [
        "df.info()"
      ],
      "metadata": {
        "colab": {
          "base_uri": "https://localhost:8080/"
        },
        "id": "MM2OmMOegCzC",
        "outputId": "217f8cb1-3a71-4f72-99d6-9d8849ad8dc7"
      },
      "execution_count": 9,
      "outputs": [
        {
          "output_type": "stream",
          "name": "stdout",
          "text": [
            "<class 'pandas.core.frame.DataFrame'>\n",
            "RangeIndex: 2000 entries, 0 to 1999\n",
            "Data columns (total 21 columns):\n",
            " #   Column         Non-Null Count  Dtype  \n",
            "---  ------         --------------  -----  \n",
            " 0   battery_power  2000 non-null   int64  \n",
            " 1   blue           2000 non-null   int64  \n",
            " 2   clock_speed    2000 non-null   float64\n",
            " 3   dual_sim       2000 non-null   int64  \n",
            " 4   fc             2000 non-null   int64  \n",
            " 5   four_g         2000 non-null   int64  \n",
            " 6   int_memory     2000 non-null   int64  \n",
            " 7   m_dep          2000 non-null   float64\n",
            " 8   mobile_wt      2000 non-null   int64  \n",
            " 9   n_cores        2000 non-null   int64  \n",
            " 10  pc             2000 non-null   int64  \n",
            " 11  px_height      2000 non-null   int64  \n",
            " 12  px_width       2000 non-null   int64  \n",
            " 13  ram            2000 non-null   int64  \n",
            " 14  sc_h           2000 non-null   int64  \n",
            " 15  sc_w           2000 non-null   int64  \n",
            " 16  talk_time      2000 non-null   int64  \n",
            " 17  three_g        2000 non-null   int64  \n",
            " 18  touch_screen   2000 non-null   int64  \n",
            " 19  wifi           2000 non-null   int64  \n",
            " 20  price_range    2000 non-null   int64  \n",
            "dtypes: float64(2), int64(19)\n",
            "memory usage: 328.2 KB\n"
          ]
        }
      ]
    },
    {
      "cell_type": "code",
      "source": [
        "df.isnull().sum()"
      ],
      "metadata": {
        "colab": {
          "base_uri": "https://localhost:8080/"
        },
        "id": "KfIckLnlgEi5",
        "outputId": "ec1cddd0-eb15-4aa7-ccbf-e6c3393e470c"
      },
      "execution_count": 10,
      "outputs": [
        {
          "output_type": "execute_result",
          "data": {
            "text/plain": [
              "battery_power    0\n",
              "blue             0\n",
              "clock_speed      0\n",
              "dual_sim         0\n",
              "fc               0\n",
              "four_g           0\n",
              "int_memory       0\n",
              "m_dep            0\n",
              "mobile_wt        0\n",
              "n_cores          0\n",
              "pc               0\n",
              "px_height        0\n",
              "px_width         0\n",
              "ram              0\n",
              "sc_h             0\n",
              "sc_w             0\n",
              "talk_time        0\n",
              "three_g          0\n",
              "touch_screen     0\n",
              "wifi             0\n",
              "price_range      0\n",
              "dtype: int64"
            ]
          },
          "metadata": {},
          "execution_count": 10
        }
      ]
    },
    {
      "cell_type": "markdown",
      "source": [
        "# Task 1"
      ],
      "metadata": {
        "id": "JzoZFuLViMMB"
      }
    },
    {
      "cell_type": "markdown",
      "source": [
        "## Change labels of Price Range"
      ],
      "metadata": {
        "id": "AdXoN9AE6OdN"
      }
    },
    {
      "cell_type": "code",
      "source": [
        "df2 = df.copy()\n",
        "df2['price_range'].head(10)"
      ],
      "metadata": {
        "colab": {
          "base_uri": "https://localhost:8080/"
        },
        "id": "WcDGK2Q1mG9e",
        "outputId": "b5b0d605-8ac5-4190-d9a8-998889a450dc"
      },
      "execution_count": 11,
      "outputs": [
        {
          "output_type": "execute_result",
          "data": {
            "text/plain": [
              "0    1\n",
              "1    2\n",
              "2    2\n",
              "3    2\n",
              "4    1\n",
              "5    1\n",
              "6    3\n",
              "7    0\n",
              "8    0\n",
              "9    0\n",
              "Name: price_range, dtype: int64"
            ]
          },
          "metadata": {},
          "execution_count": 11
        }
      ]
    },
    {
      "cell_type": "code",
      "source": [
        "df2['price_range'] = df2['price_range'].replace([0,1],0)\n",
        "df2['price_range'] = df2['price_range'].replace([2,3],1)\n",
        "df2['price_range'].head(10)"
      ],
      "metadata": {
        "colab": {
          "base_uri": "https://localhost:8080/"
        },
        "id": "RCef-gNSgWvK",
        "outputId": "a7a78db4-fb60-4247-af16-a3877565eeec"
      },
      "execution_count": 12,
      "outputs": [
        {
          "output_type": "execute_result",
          "data": {
            "text/plain": [
              "0    0\n",
              "1    1\n",
              "2    1\n",
              "3    1\n",
              "4    0\n",
              "5    0\n",
              "6    1\n",
              "7    0\n",
              "8    0\n",
              "9    0\n",
              "Name: price_range, dtype: int64"
            ]
          },
          "metadata": {},
          "execution_count": 12
        }
      ]
    },
    {
      "cell_type": "markdown",
      "source": [
        "## Scaling"
      ],
      "metadata": {
        "id": "sqoulYhn6hbX"
      }
    },
    {
      "cell_type": "code",
      "source": [
        "X = df2.drop(['price_range'], axis=1)\n",
        "y = df2['price_range']"
      ],
      "metadata": {
        "id": "tHA47CK8l5kW"
      },
      "execution_count": 13,
      "outputs": []
    },
    {
      "cell_type": "code",
      "source": [
        "from sklearn.preprocessing import StandardScaler\n",
        "\n",
        "sc = StandardScaler()\n",
        "X[X.columns] = sc.fit_transform(X[X.columns])\n",
        "X"
      ],
      "metadata": {
        "colab": {
          "base_uri": "https://localhost:8080/",
          "height": 488
        },
        "id": "dvm3UAiGxXN_",
        "outputId": "59e8de25-e127-4edf-c946-5f6e9be24b0a"
      },
      "execution_count": 14,
      "outputs": [
        {
          "output_type": "execute_result",
          "data": {
            "text/plain": [
              "      battery_power      blue  clock_speed  dual_sim        fc    four_g  \\\n",
              "0         -0.902597 -0.990050     0.830779 -1.019184 -0.762495 -1.043966   \n",
              "1         -0.495139  1.010051    -1.253064  0.981177 -0.992890  0.957886   \n",
              "2         -1.537686  1.010051    -1.253064  0.981177 -0.532099  0.957886   \n",
              "3         -1.419319  1.010051     1.198517 -1.019184 -0.992890 -1.043966   \n",
              "4          1.325906  1.010051    -0.395011 -1.019184  2.002254  0.957886   \n",
              "...             ...       ...          ...       ...       ...       ...   \n",
              "1995      -1.011860  1.010051    -1.253064  0.981177 -0.992890  0.957886   \n",
              "1996       1.653694  1.010051     1.321096  0.981177 -0.992890 -1.043966   \n",
              "1997       1.530773 -0.990050    -0.762748  0.981177 -0.762495  0.957886   \n",
              "1998       0.622527 -0.990050    -0.762748 -1.019184 -0.071307  0.957886   \n",
              "1999      -1.658331  1.010051     0.585621  0.981177  0.159088  0.957886   \n",
              "\n",
              "      int_memory     m_dep  mobile_wt   n_cores        pc  px_height  \\\n",
              "0      -1.380644  0.340740   1.349249 -1.101971 -1.305750  -1.408949   \n",
              "1       1.155024  0.687548  -0.120059 -0.664768 -0.645989   0.585778   \n",
              "2       0.493546  1.381165   0.134244  0.209639 -0.645989   1.392684   \n",
              "3      -1.215274  1.034357  -0.261339  0.646842 -0.151168   1.286750   \n",
              "4       0.658915  0.340740   0.021220 -1.101971  0.673534   1.268718   \n",
              "...          ...       ...        ...       ...       ...        ...   \n",
              "1995   -1.656260  1.034357  -0.967737  0.646842  0.673534   1.300273   \n",
              "1996    0.383299 -1.046495   1.320993 -0.227564 -1.140810   0.608317   \n",
              "1997    0.217930  0.687548  -0.911225  1.521249 -1.140810   0.502383   \n",
              "1998    0.769162 -1.393304   0.134244  0.209639 -0.810929  -0.696707   \n",
              "1999    0.714039  1.381165   0.784130  0.646842  1.003414  -0.365380   \n",
              "\n",
              "      px_width       ram      sc_h      sc_w  talk_time   three_g  \\\n",
              "0    -1.146784  0.391703 -0.784983  0.283103   1.462493 -1.786861   \n",
              "1     1.704465  0.467317  1.114266 -0.635317  -0.734267  0.559641   \n",
              "2     1.074968  0.441498 -0.310171 -0.864922  -0.368140  0.559641   \n",
              "3     1.236971  0.594569  0.876859  0.512708  -0.002014  0.559641   \n",
              "4    -0.091452 -0.657666 -1.022389 -0.864922   0.730240  0.559641   \n",
              "...        ...       ...       ...       ...        ...       ...   \n",
              "1995  1.477661 -1.342799  0.164641 -0.405712   1.462493  0.559641   \n",
              "1996  1.651235 -0.085031 -0.310171  0.971917   0.913303  0.559641   \n",
              "1997  0.880565  0.860139 -0.784983 -1.094526  -1.100394  0.559641   \n",
              "1998 -1.345816 -1.157454  1.351672  0.971917   1.462493  0.559641   \n",
              "1999 -1.151413  1.655004  1.589078 -0.405712  -1.649584  0.559641   \n",
              "\n",
              "      touch_screen      wifi  \n",
              "0        -1.006018  0.986097  \n",
              "1         0.994018 -1.014099  \n",
              "2         0.994018 -1.014099  \n",
              "3        -1.006018 -1.014099  \n",
              "4         0.994018 -1.014099  \n",
              "...            ...       ...  \n",
              "1995      0.994018 -1.014099  \n",
              "1996      0.994018  0.986097  \n",
              "1997      0.994018 -1.014099  \n",
              "1998      0.994018  0.986097  \n",
              "1999      0.994018  0.986097  \n",
              "\n",
              "[2000 rows x 20 columns]"
            ],
            "text/html": [
              "\n",
              "  <div id=\"df-5c58c2e2-af23-4e27-acc8-c25ff148c63a\">\n",
              "    <div class=\"colab-df-container\">\n",
              "      <div>\n",
              "<style scoped>\n",
              "    .dataframe tbody tr th:only-of-type {\n",
              "        vertical-align: middle;\n",
              "    }\n",
              "\n",
              "    .dataframe tbody tr th {\n",
              "        vertical-align: top;\n",
              "    }\n",
              "\n",
              "    .dataframe thead th {\n",
              "        text-align: right;\n",
              "    }\n",
              "</style>\n",
              "<table border=\"1\" class=\"dataframe\">\n",
              "  <thead>\n",
              "    <tr style=\"text-align: right;\">\n",
              "      <th></th>\n",
              "      <th>battery_power</th>\n",
              "      <th>blue</th>\n",
              "      <th>clock_speed</th>\n",
              "      <th>dual_sim</th>\n",
              "      <th>fc</th>\n",
              "      <th>four_g</th>\n",
              "      <th>int_memory</th>\n",
              "      <th>m_dep</th>\n",
              "      <th>mobile_wt</th>\n",
              "      <th>n_cores</th>\n",
              "      <th>pc</th>\n",
              "      <th>px_height</th>\n",
              "      <th>px_width</th>\n",
              "      <th>ram</th>\n",
              "      <th>sc_h</th>\n",
              "      <th>sc_w</th>\n",
              "      <th>talk_time</th>\n",
              "      <th>three_g</th>\n",
              "      <th>touch_screen</th>\n",
              "      <th>wifi</th>\n",
              "    </tr>\n",
              "  </thead>\n",
              "  <tbody>\n",
              "    <tr>\n",
              "      <th>0</th>\n",
              "      <td>-0.902597</td>\n",
              "      <td>-0.990050</td>\n",
              "      <td>0.830779</td>\n",
              "      <td>-1.019184</td>\n",
              "      <td>-0.762495</td>\n",
              "      <td>-1.043966</td>\n",
              "      <td>-1.380644</td>\n",
              "      <td>0.340740</td>\n",
              "      <td>1.349249</td>\n",
              "      <td>-1.101971</td>\n",
              "      <td>-1.305750</td>\n",
              "      <td>-1.408949</td>\n",
              "      <td>-1.146784</td>\n",
              "      <td>0.391703</td>\n",
              "      <td>-0.784983</td>\n",
              "      <td>0.283103</td>\n",
              "      <td>1.462493</td>\n",
              "      <td>-1.786861</td>\n",
              "      <td>-1.006018</td>\n",
              "      <td>0.986097</td>\n",
              "    </tr>\n",
              "    <tr>\n",
              "      <th>1</th>\n",
              "      <td>-0.495139</td>\n",
              "      <td>1.010051</td>\n",
              "      <td>-1.253064</td>\n",
              "      <td>0.981177</td>\n",
              "      <td>-0.992890</td>\n",
              "      <td>0.957886</td>\n",
              "      <td>1.155024</td>\n",
              "      <td>0.687548</td>\n",
              "      <td>-0.120059</td>\n",
              "      <td>-0.664768</td>\n",
              "      <td>-0.645989</td>\n",
              "      <td>0.585778</td>\n",
              "      <td>1.704465</td>\n",
              "      <td>0.467317</td>\n",
              "      <td>1.114266</td>\n",
              "      <td>-0.635317</td>\n",
              "      <td>-0.734267</td>\n",
              "      <td>0.559641</td>\n",
              "      <td>0.994018</td>\n",
              "      <td>-1.014099</td>\n",
              "    </tr>\n",
              "    <tr>\n",
              "      <th>2</th>\n",
              "      <td>-1.537686</td>\n",
              "      <td>1.010051</td>\n",
              "      <td>-1.253064</td>\n",
              "      <td>0.981177</td>\n",
              "      <td>-0.532099</td>\n",
              "      <td>0.957886</td>\n",
              "      <td>0.493546</td>\n",
              "      <td>1.381165</td>\n",
              "      <td>0.134244</td>\n",
              "      <td>0.209639</td>\n",
              "      <td>-0.645989</td>\n",
              "      <td>1.392684</td>\n",
              "      <td>1.074968</td>\n",
              "      <td>0.441498</td>\n",
              "      <td>-0.310171</td>\n",
              "      <td>-0.864922</td>\n",
              "      <td>-0.368140</td>\n",
              "      <td>0.559641</td>\n",
              "      <td>0.994018</td>\n",
              "      <td>-1.014099</td>\n",
              "    </tr>\n",
              "    <tr>\n",
              "      <th>3</th>\n",
              "      <td>-1.419319</td>\n",
              "      <td>1.010051</td>\n",
              "      <td>1.198517</td>\n",
              "      <td>-1.019184</td>\n",
              "      <td>-0.992890</td>\n",
              "      <td>-1.043966</td>\n",
              "      <td>-1.215274</td>\n",
              "      <td>1.034357</td>\n",
              "      <td>-0.261339</td>\n",
              "      <td>0.646842</td>\n",
              "      <td>-0.151168</td>\n",
              "      <td>1.286750</td>\n",
              "      <td>1.236971</td>\n",
              "      <td>0.594569</td>\n",
              "      <td>0.876859</td>\n",
              "      <td>0.512708</td>\n",
              "      <td>-0.002014</td>\n",
              "      <td>0.559641</td>\n",
              "      <td>-1.006018</td>\n",
              "      <td>-1.014099</td>\n",
              "    </tr>\n",
              "    <tr>\n",
              "      <th>4</th>\n",
              "      <td>1.325906</td>\n",
              "      <td>1.010051</td>\n",
              "      <td>-0.395011</td>\n",
              "      <td>-1.019184</td>\n",
              "      <td>2.002254</td>\n",
              "      <td>0.957886</td>\n",
              "      <td>0.658915</td>\n",
              "      <td>0.340740</td>\n",
              "      <td>0.021220</td>\n",
              "      <td>-1.101971</td>\n",
              "      <td>0.673534</td>\n",
              "      <td>1.268718</td>\n",
              "      <td>-0.091452</td>\n",
              "      <td>-0.657666</td>\n",
              "      <td>-1.022389</td>\n",
              "      <td>-0.864922</td>\n",
              "      <td>0.730240</td>\n",
              "      <td>0.559641</td>\n",
              "      <td>0.994018</td>\n",
              "      <td>-1.014099</td>\n",
              "    </tr>\n",
              "    <tr>\n",
              "      <th>...</th>\n",
              "      <td>...</td>\n",
              "      <td>...</td>\n",
              "      <td>...</td>\n",
              "      <td>...</td>\n",
              "      <td>...</td>\n",
              "      <td>...</td>\n",
              "      <td>...</td>\n",
              "      <td>...</td>\n",
              "      <td>...</td>\n",
              "      <td>...</td>\n",
              "      <td>...</td>\n",
              "      <td>...</td>\n",
              "      <td>...</td>\n",
              "      <td>...</td>\n",
              "      <td>...</td>\n",
              "      <td>...</td>\n",
              "      <td>...</td>\n",
              "      <td>...</td>\n",
              "      <td>...</td>\n",
              "      <td>...</td>\n",
              "    </tr>\n",
              "    <tr>\n",
              "      <th>1995</th>\n",
              "      <td>-1.011860</td>\n",
              "      <td>1.010051</td>\n",
              "      <td>-1.253064</td>\n",
              "      <td>0.981177</td>\n",
              "      <td>-0.992890</td>\n",
              "      <td>0.957886</td>\n",
              "      <td>-1.656260</td>\n",
              "      <td>1.034357</td>\n",
              "      <td>-0.967737</td>\n",
              "      <td>0.646842</td>\n",
              "      <td>0.673534</td>\n",
              "      <td>1.300273</td>\n",
              "      <td>1.477661</td>\n",
              "      <td>-1.342799</td>\n",
              "      <td>0.164641</td>\n",
              "      <td>-0.405712</td>\n",
              "      <td>1.462493</td>\n",
              "      <td>0.559641</td>\n",
              "      <td>0.994018</td>\n",
              "      <td>-1.014099</td>\n",
              "    </tr>\n",
              "    <tr>\n",
              "      <th>1996</th>\n",
              "      <td>1.653694</td>\n",
              "      <td>1.010051</td>\n",
              "      <td>1.321096</td>\n",
              "      <td>0.981177</td>\n",
              "      <td>-0.992890</td>\n",
              "      <td>-1.043966</td>\n",
              "      <td>0.383299</td>\n",
              "      <td>-1.046495</td>\n",
              "      <td>1.320993</td>\n",
              "      <td>-0.227564</td>\n",
              "      <td>-1.140810</td>\n",
              "      <td>0.608317</td>\n",
              "      <td>1.651235</td>\n",
              "      <td>-0.085031</td>\n",
              "      <td>-0.310171</td>\n",
              "      <td>0.971917</td>\n",
              "      <td>0.913303</td>\n",
              "      <td>0.559641</td>\n",
              "      <td>0.994018</td>\n",
              "      <td>0.986097</td>\n",
              "    </tr>\n",
              "    <tr>\n",
              "      <th>1997</th>\n",
              "      <td>1.530773</td>\n",
              "      <td>-0.990050</td>\n",
              "      <td>-0.762748</td>\n",
              "      <td>0.981177</td>\n",
              "      <td>-0.762495</td>\n",
              "      <td>0.957886</td>\n",
              "      <td>0.217930</td>\n",
              "      <td>0.687548</td>\n",
              "      <td>-0.911225</td>\n",
              "      <td>1.521249</td>\n",
              "      <td>-1.140810</td>\n",
              "      <td>0.502383</td>\n",
              "      <td>0.880565</td>\n",
              "      <td>0.860139</td>\n",
              "      <td>-0.784983</td>\n",
              "      <td>-1.094526</td>\n",
              "      <td>-1.100394</td>\n",
              "      <td>0.559641</td>\n",
              "      <td>0.994018</td>\n",
              "      <td>-1.014099</td>\n",
              "    </tr>\n",
              "    <tr>\n",
              "      <th>1998</th>\n",
              "      <td>0.622527</td>\n",
              "      <td>-0.990050</td>\n",
              "      <td>-0.762748</td>\n",
              "      <td>-1.019184</td>\n",
              "      <td>-0.071307</td>\n",
              "      <td>0.957886</td>\n",
              "      <td>0.769162</td>\n",
              "      <td>-1.393304</td>\n",
              "      <td>0.134244</td>\n",
              "      <td>0.209639</td>\n",
              "      <td>-0.810929</td>\n",
              "      <td>-0.696707</td>\n",
              "      <td>-1.345816</td>\n",
              "      <td>-1.157454</td>\n",
              "      <td>1.351672</td>\n",
              "      <td>0.971917</td>\n",
              "      <td>1.462493</td>\n",
              "      <td>0.559641</td>\n",
              "      <td>0.994018</td>\n",
              "      <td>0.986097</td>\n",
              "    </tr>\n",
              "    <tr>\n",
              "      <th>1999</th>\n",
              "      <td>-1.658331</td>\n",
              "      <td>1.010051</td>\n",
              "      <td>0.585621</td>\n",
              "      <td>0.981177</td>\n",
              "      <td>0.159088</td>\n",
              "      <td>0.957886</td>\n",
              "      <td>0.714039</td>\n",
              "      <td>1.381165</td>\n",
              "      <td>0.784130</td>\n",
              "      <td>0.646842</td>\n",
              "      <td>1.003414</td>\n",
              "      <td>-0.365380</td>\n",
              "      <td>-1.151413</td>\n",
              "      <td>1.655004</td>\n",
              "      <td>1.589078</td>\n",
              "      <td>-0.405712</td>\n",
              "      <td>-1.649584</td>\n",
              "      <td>0.559641</td>\n",
              "      <td>0.994018</td>\n",
              "      <td>0.986097</td>\n",
              "    </tr>\n",
              "  </tbody>\n",
              "</table>\n",
              "<p>2000 rows × 20 columns</p>\n",
              "</div>\n",
              "      <button class=\"colab-df-convert\" onclick=\"convertToInteractive('df-5c58c2e2-af23-4e27-acc8-c25ff148c63a')\"\n",
              "              title=\"Convert this dataframe to an interactive table.\"\n",
              "              style=\"display:none;\">\n",
              "        \n",
              "  <svg xmlns=\"http://www.w3.org/2000/svg\" height=\"24px\"viewBox=\"0 0 24 24\"\n",
              "       width=\"24px\">\n",
              "    <path d=\"M0 0h24v24H0V0z\" fill=\"none\"/>\n",
              "    <path d=\"M18.56 5.44l.94 2.06.94-2.06 2.06-.94-2.06-.94-.94-2.06-.94 2.06-2.06.94zm-11 1L8.5 8.5l.94-2.06 2.06-.94-2.06-.94L8.5 2.5l-.94 2.06-2.06.94zm10 10l.94 2.06.94-2.06 2.06-.94-2.06-.94-.94-2.06-.94 2.06-2.06.94z\"/><path d=\"M17.41 7.96l-1.37-1.37c-.4-.4-.92-.59-1.43-.59-.52 0-1.04.2-1.43.59L10.3 9.45l-7.72 7.72c-.78.78-.78 2.05 0 2.83L4 21.41c.39.39.9.59 1.41.59.51 0 1.02-.2 1.41-.59l7.78-7.78 2.81-2.81c.8-.78.8-2.07 0-2.86zM5.41 20L4 18.59l7.72-7.72 1.47 1.35L5.41 20z\"/>\n",
              "  </svg>\n",
              "      </button>\n",
              "      \n",
              "  <style>\n",
              "    .colab-df-container {\n",
              "      display:flex;\n",
              "      flex-wrap:wrap;\n",
              "      gap: 12px;\n",
              "    }\n",
              "\n",
              "    .colab-df-convert {\n",
              "      background-color: #E8F0FE;\n",
              "      border: none;\n",
              "      border-radius: 50%;\n",
              "      cursor: pointer;\n",
              "      display: none;\n",
              "      fill: #1967D2;\n",
              "      height: 32px;\n",
              "      padding: 0 0 0 0;\n",
              "      width: 32px;\n",
              "    }\n",
              "\n",
              "    .colab-df-convert:hover {\n",
              "      background-color: #E2EBFA;\n",
              "      box-shadow: 0px 1px 2px rgba(60, 64, 67, 0.3), 0px 1px 3px 1px rgba(60, 64, 67, 0.15);\n",
              "      fill: #174EA6;\n",
              "    }\n",
              "\n",
              "    [theme=dark] .colab-df-convert {\n",
              "      background-color: #3B4455;\n",
              "      fill: #D2E3FC;\n",
              "    }\n",
              "\n",
              "    [theme=dark] .colab-df-convert:hover {\n",
              "      background-color: #434B5C;\n",
              "      box-shadow: 0px 1px 3px 1px rgba(0, 0, 0, 0.15);\n",
              "      filter: drop-shadow(0px 1px 2px rgba(0, 0, 0, 0.3));\n",
              "      fill: #FFFFFF;\n",
              "    }\n",
              "  </style>\n",
              "\n",
              "      <script>\n",
              "        const buttonEl =\n",
              "          document.querySelector('#df-5c58c2e2-af23-4e27-acc8-c25ff148c63a button.colab-df-convert');\n",
              "        buttonEl.style.display =\n",
              "          google.colab.kernel.accessAllowed ? 'block' : 'none';\n",
              "\n",
              "        async function convertToInteractive(key) {\n",
              "          const element = document.querySelector('#df-5c58c2e2-af23-4e27-acc8-c25ff148c63a');\n",
              "          const dataTable =\n",
              "            await google.colab.kernel.invokeFunction('convertToInteractive',\n",
              "                                                     [key], {});\n",
              "          if (!dataTable) return;\n",
              "\n",
              "          const docLinkHtml = 'Like what you see? Visit the ' +\n",
              "            '<a target=\"_blank\" href=https://colab.research.google.com/notebooks/data_table.ipynb>data table notebook</a>'\n",
              "            + ' to learn more about interactive tables.';\n",
              "          element.innerHTML = '';\n",
              "          dataTable['output_type'] = 'display_data';\n",
              "          await google.colab.output.renderOutput(dataTable, element);\n",
              "          const docLink = document.createElement('div');\n",
              "          docLink.innerHTML = docLinkHtml;\n",
              "          element.appendChild(docLink);\n",
              "        }\n",
              "      </script>\n",
              "    </div>\n",
              "  </div>\n",
              "  "
            ]
          },
          "metadata": {},
          "execution_count": 14
        }
      ]
    },
    {
      "cell_type": "markdown",
      "source": [
        "## Logestic Regression Model"
      ],
      "metadata": {
        "id": "jq78i31m7D1e"
      }
    },
    {
      "cell_type": "code",
      "source": [
        "from sklearn.model_selection import train_test_split\n",
        "X_train, X_test, y_train, y_test = train_test_split(X, y, test_size = 0.2, random_state = 0, stratify = y)"
      ],
      "metadata": {
        "id": "oPzCPocOm5X2"
      },
      "execution_count": 15,
      "outputs": []
    },
    {
      "cell_type": "code",
      "source": [
        "from sklearn.linear_model import LogisticRegression\n",
        "from sklearn.metrics import auc, roc_curve\n",
        "LR = LogisticRegression(max_iter = 2000)\n",
        "LR = LR.fit(X_train, y_train)\n",
        "y_predict = LR.predict(X_test)\n",
        "fpr, tpr, thresholds = roc_curve(y_test, y_predict, pos_label = 1)\n",
        "auc_LR = auc(fpr, tpr)\n",
        "auc_LR"
      ],
      "metadata": {
        "colab": {
          "base_uri": "https://localhost:8080/"
        },
        "id": "nz3HxIAjnG0k",
        "outputId": "474c2326-ed01-43a9-ebb3-d755c6b2fb60"
      },
      "execution_count": 16,
      "outputs": [
        {
          "output_type": "execute_result",
          "data": {
            "text/plain": [
              "0.9824999999999999"
            ]
          },
          "metadata": {},
          "execution_count": 16
        }
      ]
    },
    {
      "cell_type": "markdown",
      "source": [
        "## Forward selection"
      ],
      "metadata": {
        "id": "xKuDWegrieqH"
      }
    },
    {
      "cell_type": "code",
      "source": [
        "selected_features = []\n",
        "all_features = X.columns.tolist()\n",
        "best_auc = 0\n",
        "\n",
        "for f in all_features:\n",
        "  remain_cols = list(set(all_features)-set(selected_features))\n",
        "  best_col = ''\n",
        "  for col in remain_cols:\n",
        "    selected_features.append(col)\n",
        "\n",
        "    X_train_temp = pd.DataFrame(data = X_train, columns = selected_features)\n",
        "    X_test_temp = pd.DataFrame(data = X_test, columns = selected_features)\n",
        "\n",
        "    LR = LR.fit(X_train_temp, y_train)\n",
        "    y_predict = LR.predict(X_test_temp)\n",
        "    fpr, tpr, thresholds = roc_curve(y_test, y_predict, pos_label = 1)\n",
        "    \n",
        "    auc_temp = auc(fpr, tpr)\n",
        "    \n",
        "    if auc_temp > best_auc:\n",
        "        best_auc = auc_temp\n",
        "        best_col = col\n",
        "\n",
        "    selected_features.pop()\n",
        "  \n",
        "  if best_col: selected_features.append(best_col)\n",
        "\n",
        "selected_features"
      ],
      "metadata": {
        "colab": {
          "base_uri": "https://localhost:8080/"
        },
        "id": "Ay_USmi5v4Ow",
        "outputId": "af714a71-e9a6-4ef9-c42a-8d3e3fabce7a"
      },
      "execution_count": 17,
      "outputs": [
        {
          "output_type": "execute_result",
          "data": {
            "text/plain": [
              "['ram',\n",
              " 'battery_power',\n",
              " 'px_height',\n",
              " 'px_width',\n",
              " 'touch_screen',\n",
              " 'mobile_wt',\n",
              " 'three_g']"
            ]
          },
          "metadata": {},
          "execution_count": 17
        }
      ]
    },
    {
      "cell_type": "code",
      "source": [
        "best_auc"
      ],
      "metadata": {
        "colab": {
          "base_uri": "https://localhost:8080/"
        },
        "id": "1lrk8eahyjE2",
        "outputId": "91582d95-4916-493a-d2d5-8847e744609b"
      },
      "execution_count": 18,
      "outputs": [
        {
          "output_type": "execute_result",
          "data": {
            "text/plain": [
              "0.99"
            ]
          },
          "metadata": {},
          "execution_count": 18
        }
      ]
    },
    {
      "cell_type": "markdown",
      "source": [
        "# Task 2"
      ],
      "metadata": {
        "id": "kElHzc8QjQ_I"
      }
    },
    {
      "cell_type": "markdown",
      "source": [
        "## Precision, Recall and F1-score on selected features (forward selection)"
      ],
      "metadata": {
        "id": "Jsjmq4bh7U_-"
      }
    },
    {
      "cell_type": "code",
      "source": [
        "from sklearn.metrics import precision_recall_fscore_support\n",
        "X_train_selected_features = X_train[selected_features]\n",
        "X_test_selected_features = X_test[selected_features]\n",
        "\n",
        "LR = LR.fit(X_train_selected_features, y_train)\n",
        "y_predict = LR.predict(X_test_selected_features)\n",
        "PRFS = precision_recall_fscore_support(y_test, y_predict, average='weighted')\n",
        "print('precision = ' , PRFS[0])\n",
        "print('recall = ' , PRFS[1])\n",
        "print('f1_score = ' , PRFS[2])"
      ],
      "metadata": {
        "colab": {
          "base_uri": "https://localhost:8080/"
        },
        "id": "p8Xzw7hJWOK9",
        "outputId": "6a46fbdd-6e8d-49bc-a263-ff24746a21fa"
      },
      "execution_count": 19,
      "outputs": [
        {
          "output_type": "stream",
          "name": "stdout",
          "text": [
            "precision =  0.9901960784313725\n",
            "recall =  0.99\n",
            "f1_score =  0.98999899989999\n"
          ]
        }
      ]
    },
    {
      "cell_type": "markdown",
      "source": [
        "# Task 3"
      ],
      "metadata": {
        "id": "sz8C6ulujUVX"
      }
    },
    {
      "cell_type": "markdown",
      "source": [
        "## PCA"
      ],
      "metadata": {
        "id": "aLm6vF23741-"
      }
    },
    {
      "cell_type": "code",
      "source": [
        "from sklearn.decomposition import PCA\n",
        "pca = PCA(n_components = 7)\n",
        "pca.fit(X_train)\n",
        "X_train_reduced = pca.transform(X_train)\n",
        "X_test_reduced = pca.transform(X_test)\n",
        "print(X_train_reduced.shape) "
      ],
      "metadata": {
        "colab": {
          "base_uri": "https://localhost:8080/"
        },
        "id": "eUzMNhdgW6ih",
        "outputId": "53a5d1a8-db06-48ce-b5b7-ff13d3c4666d"
      },
      "execution_count": 20,
      "outputs": [
        {
          "output_type": "stream",
          "name": "stdout",
          "text": [
            "(1600, 7)\n"
          ]
        }
      ]
    },
    {
      "cell_type": "markdown",
      "source": [
        "# Task 4"
      ],
      "metadata": {
        "id": "xNxQj4T1o-Rr"
      }
    },
    {
      "cell_type": "markdown",
      "source": [
        "## Precision, Recall and F1-score (PCA)"
      ],
      "metadata": {
        "id": "3nrE5vyY7_vu"
      }
    },
    {
      "cell_type": "code",
      "source": [
        "LR = LR.fit(X_train_reduced, y_train)\n",
        "y_predict = LR.predict(X_test_reduced)\n",
        "PRFS = precision_recall_fscore_support(y_test, y_predict, average='weighted')\n",
        "print('precision = ' , PRFS[0])\n",
        "print('recall = ' , PRFS[1])\n",
        "print('f1_score = ' , PRFS[2])"
      ],
      "metadata": {
        "colab": {
          "base_uri": "https://localhost:8080/"
        },
        "id": "Y3g8cEC_ZS54",
        "outputId": "082f9b8a-2ddd-4081-9d3c-490d38e8beb2"
      },
      "execution_count": 21,
      "outputs": [
        {
          "output_type": "stream",
          "name": "stdout",
          "text": [
            "precision =  0.6675376959815957\n",
            "recall =  0.6675\n",
            "f1_score =  0.6674812958228901\n"
          ]
        }
      ]
    },
    {
      "cell_type": "markdown",
      "source": [
        "# Task 6"
      ],
      "metadata": {
        "id": "UEYk2etNjc9I"
      }
    },
    {
      "cell_type": "markdown",
      "source": [
        "## Feature Engineering"
      ],
      "metadata": {
        "id": "GocfB-hL8-3W"
      }
    },
    {
      "cell_type": "markdown",
      "source": [
        "### a) Binning"
      ],
      "metadata": {
        "id": "aey4zsnRjhJR"
      }
    },
    {
      "cell_type": "code",
      "source": [
        "df_final = df.copy()\n",
        "print(df['battery_power'].min())\n",
        "print(df['battery_power'].max())"
      ],
      "metadata": {
        "id": "jYjWesl_aogp",
        "colab": {
          "base_uri": "https://localhost:8080/"
        },
        "outputId": "da236e53-cc04-49d3-f607-1da9a8d186bd"
      },
      "execution_count": 22,
      "outputs": [
        {
          "output_type": "stream",
          "name": "stdout",
          "text": [
            "501\n",
            "1998\n"
          ]
        }
      ]
    },
    {
      "cell_type": "code",
      "source": [
        "df3 = df.copy()\n",
        "cut_labels = ['bad', 'normal', 'good']\n",
        "cut_bins = [500, 900, 1600, 2000]\n",
        "df3['cut_battery_power'] = pd.cut(df3['battery_power'], bins = cut_bins, labels = cut_labels)\n",
        "df3['cut_battery_power']"
      ],
      "metadata": {
        "colab": {
          "base_uri": "https://localhost:8080/"
        },
        "id": "yeXjm9DMu-Mw",
        "outputId": "3aef7160-f615-4687-fb6d-eb6d7336f485"
      },
      "execution_count": 23,
      "outputs": [
        {
          "output_type": "execute_result",
          "data": {
            "text/plain": [
              "0          bad\n",
              "1       normal\n",
              "2          bad\n",
              "3          bad\n",
              "4         good\n",
              "         ...  \n",
              "1995       bad\n",
              "1996      good\n",
              "1997      good\n",
              "1998    normal\n",
              "1999       bad\n",
              "Name: cut_battery_power, Length: 2000, dtype: category\n",
              "Categories (3, object): ['bad' < 'normal' < 'good']"
            ]
          },
          "metadata": {},
          "execution_count": 23
        }
      ]
    },
    {
      "cell_type": "code",
      "source": [
        "df3['cut_battery_power'].value_counts()"
      ],
      "metadata": {
        "colab": {
          "base_uri": "https://localhost:8080/"
        },
        "id": "oPzEb-nvwaJX",
        "outputId": "b02f6183-4e03-49d5-b631-6f241d7ed688"
      },
      "execution_count": 24,
      "outputs": [
        {
          "output_type": "execute_result",
          "data": {
            "text/plain": [
              "normal    916\n",
              "bad       565\n",
              "good      519\n",
              "Name: cut_battery_power, dtype: int64"
            ]
          },
          "metadata": {},
          "execution_count": 24
        }
      ]
    },
    {
      "cell_type": "markdown",
      "source": [
        "### b) One hot encoding"
      ],
      "metadata": {
        "id": "TS_s7wyQjoYp"
      }
    },
    {
      "cell_type": "code",
      "source": [
        "df4 = pd.get_dummies(df3)\n",
        "df_final = pd.get_dummies(df3)\n",
        "df4.head()"
      ],
      "metadata": {
        "colab": {
          "base_uri": "https://localhost:8080/",
          "height": 299
        },
        "id": "UYOU8wUsxDH5",
        "outputId": "201d63d3-3adf-4dfa-cefa-8d1075727875"
      },
      "execution_count": 25,
      "outputs": [
        {
          "output_type": "execute_result",
          "data": {
            "text/plain": [
              "   battery_power  blue  clock_speed  dual_sim  fc  four_g  int_memory  m_dep  \\\n",
              "0            842     0          2.2         0   1       0           7    0.6   \n",
              "1           1021     1          0.5         1   0       1          53    0.7   \n",
              "2            563     1          0.5         1   2       1          41    0.9   \n",
              "3            615     1          2.5         0   0       0          10    0.8   \n",
              "4           1821     1          1.2         0  13       1          44    0.6   \n",
              "\n",
              "   mobile_wt  n_cores  ...  sc_h  sc_w  talk_time  three_g  touch_screen  \\\n",
              "0        188        2  ...     9     7         19        0             0   \n",
              "1        136        3  ...    17     3          7        1             1   \n",
              "2        145        5  ...    11     2          9        1             1   \n",
              "3        131        6  ...    16     8         11        1             0   \n",
              "4        141        2  ...     8     2         15        1             1   \n",
              "\n",
              "   wifi  price_range  cut_battery_power_bad  cut_battery_power_normal  \\\n",
              "0     1            1                      1                         0   \n",
              "1     0            2                      0                         1   \n",
              "2     0            2                      1                         0   \n",
              "3     0            2                      1                         0   \n",
              "4     0            1                      0                         0   \n",
              "\n",
              "   cut_battery_power_good  \n",
              "0                       0  \n",
              "1                       0  \n",
              "2                       0  \n",
              "3                       0  \n",
              "4                       1  \n",
              "\n",
              "[5 rows x 24 columns]"
            ],
            "text/html": [
              "\n",
              "  <div id=\"df-5519002c-839f-4d7a-836e-2199414b64df\">\n",
              "    <div class=\"colab-df-container\">\n",
              "      <div>\n",
              "<style scoped>\n",
              "    .dataframe tbody tr th:only-of-type {\n",
              "        vertical-align: middle;\n",
              "    }\n",
              "\n",
              "    .dataframe tbody tr th {\n",
              "        vertical-align: top;\n",
              "    }\n",
              "\n",
              "    .dataframe thead th {\n",
              "        text-align: right;\n",
              "    }\n",
              "</style>\n",
              "<table border=\"1\" class=\"dataframe\">\n",
              "  <thead>\n",
              "    <tr style=\"text-align: right;\">\n",
              "      <th></th>\n",
              "      <th>battery_power</th>\n",
              "      <th>blue</th>\n",
              "      <th>clock_speed</th>\n",
              "      <th>dual_sim</th>\n",
              "      <th>fc</th>\n",
              "      <th>four_g</th>\n",
              "      <th>int_memory</th>\n",
              "      <th>m_dep</th>\n",
              "      <th>mobile_wt</th>\n",
              "      <th>n_cores</th>\n",
              "      <th>...</th>\n",
              "      <th>sc_h</th>\n",
              "      <th>sc_w</th>\n",
              "      <th>talk_time</th>\n",
              "      <th>three_g</th>\n",
              "      <th>touch_screen</th>\n",
              "      <th>wifi</th>\n",
              "      <th>price_range</th>\n",
              "      <th>cut_battery_power_bad</th>\n",
              "      <th>cut_battery_power_normal</th>\n",
              "      <th>cut_battery_power_good</th>\n",
              "    </tr>\n",
              "  </thead>\n",
              "  <tbody>\n",
              "    <tr>\n",
              "      <th>0</th>\n",
              "      <td>842</td>\n",
              "      <td>0</td>\n",
              "      <td>2.2</td>\n",
              "      <td>0</td>\n",
              "      <td>1</td>\n",
              "      <td>0</td>\n",
              "      <td>7</td>\n",
              "      <td>0.6</td>\n",
              "      <td>188</td>\n",
              "      <td>2</td>\n",
              "      <td>...</td>\n",
              "      <td>9</td>\n",
              "      <td>7</td>\n",
              "      <td>19</td>\n",
              "      <td>0</td>\n",
              "      <td>0</td>\n",
              "      <td>1</td>\n",
              "      <td>1</td>\n",
              "      <td>1</td>\n",
              "      <td>0</td>\n",
              "      <td>0</td>\n",
              "    </tr>\n",
              "    <tr>\n",
              "      <th>1</th>\n",
              "      <td>1021</td>\n",
              "      <td>1</td>\n",
              "      <td>0.5</td>\n",
              "      <td>1</td>\n",
              "      <td>0</td>\n",
              "      <td>1</td>\n",
              "      <td>53</td>\n",
              "      <td>0.7</td>\n",
              "      <td>136</td>\n",
              "      <td>3</td>\n",
              "      <td>...</td>\n",
              "      <td>17</td>\n",
              "      <td>3</td>\n",
              "      <td>7</td>\n",
              "      <td>1</td>\n",
              "      <td>1</td>\n",
              "      <td>0</td>\n",
              "      <td>2</td>\n",
              "      <td>0</td>\n",
              "      <td>1</td>\n",
              "      <td>0</td>\n",
              "    </tr>\n",
              "    <tr>\n",
              "      <th>2</th>\n",
              "      <td>563</td>\n",
              "      <td>1</td>\n",
              "      <td>0.5</td>\n",
              "      <td>1</td>\n",
              "      <td>2</td>\n",
              "      <td>1</td>\n",
              "      <td>41</td>\n",
              "      <td>0.9</td>\n",
              "      <td>145</td>\n",
              "      <td>5</td>\n",
              "      <td>...</td>\n",
              "      <td>11</td>\n",
              "      <td>2</td>\n",
              "      <td>9</td>\n",
              "      <td>1</td>\n",
              "      <td>1</td>\n",
              "      <td>0</td>\n",
              "      <td>2</td>\n",
              "      <td>1</td>\n",
              "      <td>0</td>\n",
              "      <td>0</td>\n",
              "    </tr>\n",
              "    <tr>\n",
              "      <th>3</th>\n",
              "      <td>615</td>\n",
              "      <td>1</td>\n",
              "      <td>2.5</td>\n",
              "      <td>0</td>\n",
              "      <td>0</td>\n",
              "      <td>0</td>\n",
              "      <td>10</td>\n",
              "      <td>0.8</td>\n",
              "      <td>131</td>\n",
              "      <td>6</td>\n",
              "      <td>...</td>\n",
              "      <td>16</td>\n",
              "      <td>8</td>\n",
              "      <td>11</td>\n",
              "      <td>1</td>\n",
              "      <td>0</td>\n",
              "      <td>0</td>\n",
              "      <td>2</td>\n",
              "      <td>1</td>\n",
              "      <td>0</td>\n",
              "      <td>0</td>\n",
              "    </tr>\n",
              "    <tr>\n",
              "      <th>4</th>\n",
              "      <td>1821</td>\n",
              "      <td>1</td>\n",
              "      <td>1.2</td>\n",
              "      <td>0</td>\n",
              "      <td>13</td>\n",
              "      <td>1</td>\n",
              "      <td>44</td>\n",
              "      <td>0.6</td>\n",
              "      <td>141</td>\n",
              "      <td>2</td>\n",
              "      <td>...</td>\n",
              "      <td>8</td>\n",
              "      <td>2</td>\n",
              "      <td>15</td>\n",
              "      <td>1</td>\n",
              "      <td>1</td>\n",
              "      <td>0</td>\n",
              "      <td>1</td>\n",
              "      <td>0</td>\n",
              "      <td>0</td>\n",
              "      <td>1</td>\n",
              "    </tr>\n",
              "  </tbody>\n",
              "</table>\n",
              "<p>5 rows × 24 columns</p>\n",
              "</div>\n",
              "      <button class=\"colab-df-convert\" onclick=\"convertToInteractive('df-5519002c-839f-4d7a-836e-2199414b64df')\"\n",
              "              title=\"Convert this dataframe to an interactive table.\"\n",
              "              style=\"display:none;\">\n",
              "        \n",
              "  <svg xmlns=\"http://www.w3.org/2000/svg\" height=\"24px\"viewBox=\"0 0 24 24\"\n",
              "       width=\"24px\">\n",
              "    <path d=\"M0 0h24v24H0V0z\" fill=\"none\"/>\n",
              "    <path d=\"M18.56 5.44l.94 2.06.94-2.06 2.06-.94-2.06-.94-.94-2.06-.94 2.06-2.06.94zm-11 1L8.5 8.5l.94-2.06 2.06-.94-2.06-.94L8.5 2.5l-.94 2.06-2.06.94zm10 10l.94 2.06.94-2.06 2.06-.94-2.06-.94-.94-2.06-.94 2.06-2.06.94z\"/><path d=\"M17.41 7.96l-1.37-1.37c-.4-.4-.92-.59-1.43-.59-.52 0-1.04.2-1.43.59L10.3 9.45l-7.72 7.72c-.78.78-.78 2.05 0 2.83L4 21.41c.39.39.9.59 1.41.59.51 0 1.02-.2 1.41-.59l7.78-7.78 2.81-2.81c.8-.78.8-2.07 0-2.86zM5.41 20L4 18.59l7.72-7.72 1.47 1.35L5.41 20z\"/>\n",
              "  </svg>\n",
              "      </button>\n",
              "      \n",
              "  <style>\n",
              "    .colab-df-container {\n",
              "      display:flex;\n",
              "      flex-wrap:wrap;\n",
              "      gap: 12px;\n",
              "    }\n",
              "\n",
              "    .colab-df-convert {\n",
              "      background-color: #E8F0FE;\n",
              "      border: none;\n",
              "      border-radius: 50%;\n",
              "      cursor: pointer;\n",
              "      display: none;\n",
              "      fill: #1967D2;\n",
              "      height: 32px;\n",
              "      padding: 0 0 0 0;\n",
              "      width: 32px;\n",
              "    }\n",
              "\n",
              "    .colab-df-convert:hover {\n",
              "      background-color: #E2EBFA;\n",
              "      box-shadow: 0px 1px 2px rgba(60, 64, 67, 0.3), 0px 1px 3px 1px rgba(60, 64, 67, 0.15);\n",
              "      fill: #174EA6;\n",
              "    }\n",
              "\n",
              "    [theme=dark] .colab-df-convert {\n",
              "      background-color: #3B4455;\n",
              "      fill: #D2E3FC;\n",
              "    }\n",
              "\n",
              "    [theme=dark] .colab-df-convert:hover {\n",
              "      background-color: #434B5C;\n",
              "      box-shadow: 0px 1px 3px 1px rgba(0, 0, 0, 0.15);\n",
              "      filter: drop-shadow(0px 1px 2px rgba(0, 0, 0, 0.3));\n",
              "      fill: #FFFFFF;\n",
              "    }\n",
              "  </style>\n",
              "\n",
              "      <script>\n",
              "        const buttonEl =\n",
              "          document.querySelector('#df-5519002c-839f-4d7a-836e-2199414b64df button.colab-df-convert');\n",
              "        buttonEl.style.display =\n",
              "          google.colab.kernel.accessAllowed ? 'block' : 'none';\n",
              "\n",
              "        async function convertToInteractive(key) {\n",
              "          const element = document.querySelector('#df-5519002c-839f-4d7a-836e-2199414b64df');\n",
              "          const dataTable =\n",
              "            await google.colab.kernel.invokeFunction('convertToInteractive',\n",
              "                                                     [key], {});\n",
              "          if (!dataTable) return;\n",
              "\n",
              "          const docLinkHtml = 'Like what you see? Visit the ' +\n",
              "            '<a target=\"_blank\" href=https://colab.research.google.com/notebooks/data_table.ipynb>data table notebook</a>'\n",
              "            + ' to learn more about interactive tables.';\n",
              "          element.innerHTML = '';\n",
              "          dataTable['output_type'] = 'display_data';\n",
              "          await google.colab.output.renderOutput(dataTable, element);\n",
              "          const docLink = document.createElement('div');\n",
              "          docLink.innerHTML = docLinkHtml;\n",
              "          element.appendChild(docLink);\n",
              "        }\n",
              "      </script>\n",
              "    </div>\n",
              "  </div>\n",
              "  "
            ]
          },
          "metadata": {},
          "execution_count": 25
        }
      ]
    },
    {
      "cell_type": "markdown",
      "source": [
        "### c) Log transformation"
      ],
      "metadata": {
        "id": "wyTeXQ_9jtaW"
      }
    },
    {
      "cell_type": "markdown",
      "source": [
        "Find skewed features"
      ],
      "metadata": {
        "id": "rtuRjtyZ8SuZ"
      }
    },
    {
      "cell_type": "code",
      "source": [
        "df5 = df.copy()\n",
        "from scipy.stats import skew\n",
        "skewed_features = []\n",
        "for col in X.columns:\n",
        "  s = skew(df5[col])\n",
        "  print('skewness of',col, ' = ' , s)"
      ],
      "metadata": {
        "colab": {
          "base_uri": "https://localhost:8080/"
        },
        "id": "N6jg5iUXyeo2",
        "outputId": "59c5c9e3-8525-4210-969b-cabff36f5cb7"
      },
      "execution_count": 26,
      "outputs": [
        {
          "output_type": "stream",
          "name": "stdout",
          "text": [
            "skewness of battery_power  =  0.03187454295305568\n",
            "skewness of blue  =  0.02000100007500624\n",
            "skewness of clock_speed  =  0.17795052935349268\n",
            "skewness of dual_sim  =  -0.03800686085763292\n",
            "skewness of fc  =  1.0190463925723268\n",
            "skewness of four_g  =  -0.08607961742649396\n",
            "skewness of int_memory  =  0.05784590180779676\n",
            "skewness of m_dep  =  0.08901518436117652\n",
            "skewness of mobile_wt  =  0.0065532377855500356\n",
            "skewness of n_cores  =  0.0036247871155484306\n",
            "skewness of pc  =  0.017293168153506185\n",
            "skewness of px_height  =  0.6657714484857727\n",
            "skewness of px_width  =  0.014776380851328284\n",
            "skewness of ram  =  0.006623063336208135\n",
            "skewness of sc_h  =  -0.0988100623460247\n",
            "skewness of sc_w  =  0.6333116340766181\n",
            "skewness of talk_time  =  0.00950462691314207\n",
            "skewness of three_g  =  -1.2272203362251917\n",
            "skewness of touch_screen  =  -0.01200021600583211\n",
            "skewness of wifi  =  -0.02800274440343397\n"
          ]
        }
      ]
    },
    {
      "cell_type": "code",
      "source": [
        "df5['fc_transformed'] = np.log(df5['fc']+1) \n",
        "df5['sc_w_transformed'] = np.log(df5['sc_w']+1)\n",
        "\n",
        "df_final['fc_transformed'] = np.log(df_final['fc']+1) \n",
        "df_final['sc_w_transformed'] = np.log(df_final['sc_w']+1)\n",
        "\n",
        "fig = plt.figure(figsize = (15,10))\n",
        "sub = fig.add_subplot(2, 4, 1)\n",
        "sub.set_title('fc before log transform')\n",
        "sns.distplot(df5['fc'])\n",
        "sub = fig.add_subplot(2, 4, 2)\n",
        "sub.set_title('sc_w before log transform')\n",
        "sns.distplot(df5['sc_w'])\n",
        "\n",
        "fig2 = plt.figure(figsize = (15,10))\n",
        "sub = fig2.add_subplot(2, 4, 1)\n",
        "sub.set_title('fc after log transform')\n",
        "sns.distplot(df5['fc_transformed'])\n",
        "sub = fig2.add_subplot(2, 4, 2)\n",
        "sub.set_title('sc_w after log transform')\n",
        "sns.distplot(df5['sc_w_transformed'])"
      ],
      "metadata": {
        "colab": {
          "base_uri": "https://localhost:8080/",
          "height": 814
        },
        "id": "C--9WgSO-zFF",
        "outputId": "c847e2d6-8e27-477b-caa4-2f7f30b454d9"
      },
      "execution_count": 27,
      "outputs": [
        {
          "output_type": "stream",
          "name": "stderr",
          "text": [
            "/usr/local/lib/python3.7/dist-packages/seaborn/distributions.py:2619: FutureWarning: `distplot` is a deprecated function and will be removed in a future version. Please adapt your code to use either `displot` (a figure-level function with similar flexibility) or `histplot` (an axes-level function for histograms).\n",
            "  warnings.warn(msg, FutureWarning)\n",
            "/usr/local/lib/python3.7/dist-packages/seaborn/distributions.py:2619: FutureWarning: `distplot` is a deprecated function and will be removed in a future version. Please adapt your code to use either `displot` (a figure-level function with similar flexibility) or `histplot` (an axes-level function for histograms).\n",
            "  warnings.warn(msg, FutureWarning)\n",
            "/usr/local/lib/python3.7/dist-packages/seaborn/distributions.py:2619: FutureWarning: `distplot` is a deprecated function and will be removed in a future version. Please adapt your code to use either `displot` (a figure-level function with similar flexibility) or `histplot` (an axes-level function for histograms).\n",
            "  warnings.warn(msg, FutureWarning)\n",
            "/usr/local/lib/python3.7/dist-packages/seaborn/distributions.py:2619: FutureWarning: `distplot` is a deprecated function and will be removed in a future version. Please adapt your code to use either `displot` (a figure-level function with similar flexibility) or `histplot` (an axes-level function for histograms).\n",
            "  warnings.warn(msg, FutureWarning)\n"
          ]
        },
        {
          "output_type": "execute_result",
          "data": {
            "text/plain": [
              "<matplotlib.axes._subplots.AxesSubplot at 0x7fc42c560050>"
            ]
          },
          "metadata": {},
          "execution_count": 27
        },
        {
          "output_type": "display_data",
          "data": {
            "text/plain": [
              "<Figure size 1080x720 with 2 Axes>"
            ],
            "image/png": "[encoded data removed]"
          },
          "metadata": {
            "needs_background": "light"
          }
        },
        {
          "output_type": "display_data",
          "data": {
            "text/plain": [
              "<Figure size 1080x720 with 2 Axes>"
            ],
            "image/png": "[encoded data removed]"
          },
          "metadata": {
            "needs_background": "light"
          }
        }
      ]
    },
    {
      "cell_type": "markdown",
      "source": [
        "### d) Create a new feature"
      ],
      "metadata": {
        "id": "ENroqhy3j3Ni"
      }
    },
    {
      "cell_type": "code",
      "source": [
        "df6 = df.copy()\n",
        "df6['sc_area'] = df6['sc_w'] * df6['sc_h']\n",
        "df_final['sc_area'] = df_final['sc_w'] * df_final['sc_h']\n",
        "df6.head()"
      ],
      "metadata": {
        "colab": {
          "base_uri": "https://localhost:8080/",
          "height": 299
        },
        "id": "O66qZP8zEd1t",
        "outputId": "c2bd184b-b007-4321-a9b6-9b417b455d50"
      },
      "execution_count": 28,
      "outputs": [
        {
          "output_type": "execute_result",
          "data": {
            "text/plain": [
              "   battery_power  blue  clock_speed  dual_sim  fc  four_g  int_memory  m_dep  \\\n",
              "0            842     0          2.2         0   1       0           7    0.6   \n",
              "1           1021     1          0.5         1   0       1          53    0.7   \n",
              "2            563     1          0.5         1   2       1          41    0.9   \n",
              "3            615     1          2.5         0   0       0          10    0.8   \n",
              "4           1821     1          1.2         0  13       1          44    0.6   \n",
              "\n",
              "   mobile_wt  n_cores  ...  px_width   ram  sc_h  sc_w  talk_time  three_g  \\\n",
              "0        188        2  ...       756  2549     9     7         19        0   \n",
              "1        136        3  ...      1988  2631    17     3          7        1   \n",
              "2        145        5  ...      1716  2603    11     2          9        1   \n",
              "3        131        6  ...      1786  2769    16     8         11        1   \n",
              "4        141        2  ...      1212  1411     8     2         15        1   \n",
              "\n",
              "   touch_screen  wifi  price_range  sc_area  \n",
              "0             0     1            1       63  \n",
              "1             1     0            2       51  \n",
              "2             1     0            2       22  \n",
              "3             0     0            2      128  \n",
              "4             1     0            1       16  \n",
              "\n",
              "[5 rows x 22 columns]"
            ],
            "text/html": [
              "\n",
              "  <div id=\"df-4dc4b2c2-ebb3-46e2-bb60-b8df172567d4\">\n",
              "    <div class=\"colab-df-container\">\n",
              "      <div>\n",
              "<style scoped>\n",
              "    .dataframe tbody tr th:only-of-type {\n",
              "        vertical-align: middle;\n",
              "    }\n",
              "\n",
              "    .dataframe tbody tr th {\n",
              "        vertical-align: top;\n",
              "    }\n",
              "\n",
              "    .dataframe thead th {\n",
              "        text-align: right;\n",
              "    }\n",
              "</style>\n",
              "<table border=\"1\" class=\"dataframe\">\n",
              "  <thead>\n",
              "    <tr style=\"text-align: right;\">\n",
              "      <th></th>\n",
              "      <th>battery_power</th>\n",
              "      <th>blue</th>\n",
              "      <th>clock_speed</th>\n",
              "      <th>dual_sim</th>\n",
              "      <th>fc</th>\n",
              "      <th>four_g</th>\n",
              "      <th>int_memory</th>\n",
              "      <th>m_dep</th>\n",
              "      <th>mobile_wt</th>\n",
              "      <th>n_cores</th>\n",
              "      <th>...</th>\n",
              "      <th>px_width</th>\n",
              "      <th>ram</th>\n",
              "      <th>sc_h</th>\n",
              "      <th>sc_w</th>\n",
              "      <th>talk_time</th>\n",
              "      <th>three_g</th>\n",
              "      <th>touch_screen</th>\n",
              "      <th>wifi</th>\n",
              "      <th>price_range</th>\n",
              "      <th>sc_area</th>\n",
              "    </tr>\n",
              "  </thead>\n",
              "  <tbody>\n",
              "    <tr>\n",
              "      <th>0</th>\n",
              "      <td>842</td>\n",
              "      <td>0</td>\n",
              "      <td>2.2</td>\n",
              "      <td>0</td>\n",
              "      <td>1</td>\n",
              "      <td>0</td>\n",
              "      <td>7</td>\n",
              "      <td>0.6</td>\n",
              "      <td>188</td>\n",
              "      <td>2</td>\n",
              "      <td>...</td>\n",
              "      <td>756</td>\n",
              "      <td>2549</td>\n",
              "      <td>9</td>\n",
              "      <td>7</td>\n",
              "      <td>19</td>\n",
              "      <td>0</td>\n",
              "      <td>0</td>\n",
              "      <td>1</td>\n",
              "      <td>1</td>\n",
              "      <td>63</td>\n",
              "    </tr>\n",
              "    <tr>\n",
              "      <th>1</th>\n",
              "      <td>1021</td>\n",
              "      <td>1</td>\n",
              "      <td>0.5</td>\n",
              "      <td>1</td>\n",
              "      <td>0</td>\n",
              "      <td>1</td>\n",
              "      <td>53</td>\n",
              "      <td>0.7</td>\n",
              "      <td>136</td>\n",
              "      <td>3</td>\n",
              "      <td>...</td>\n",
              "      <td>1988</td>\n",
              "      <td>2631</td>\n",
              "      <td>17</td>\n",
              "      <td>3</td>\n",
              "      <td>7</td>\n",
              "      <td>1</td>\n",
              "      <td>1</td>\n",
              "      <td>0</td>\n",
              "      <td>2</td>\n",
              "      <td>51</td>\n",
              "    </tr>\n",
              "    <tr>\n",
              "      <th>2</th>\n",
              "      <td>563</td>\n",
              "      <td>1</td>\n",
              "      <td>0.5</td>\n",
              "      <td>1</td>\n",
              "      <td>2</td>\n",
              "      <td>1</td>\n",
              "      <td>41</td>\n",
              "      <td>0.9</td>\n",
              "      <td>145</td>\n",
              "      <td>5</td>\n",
              "      <td>...</td>\n",
              "      <td>1716</td>\n",
              "      <td>2603</td>\n",
              "      <td>11</td>\n",
              "      <td>2</td>\n",
              "      <td>9</td>\n",
              "      <td>1</td>\n",
              "      <td>1</td>\n",
              "      <td>0</td>\n",
              "      <td>2</td>\n",
              "      <td>22</td>\n",
              "    </tr>\n",
              "    <tr>\n",
              "      <th>3</th>\n",
              "      <td>615</td>\n",
              "      <td>1</td>\n",
              "      <td>2.5</td>\n",
              "      <td>0</td>\n",
              "      <td>0</td>\n",
              "      <td>0</td>\n",
              "      <td>10</td>\n",
              "      <td>0.8</td>\n",
              "      <td>131</td>\n",
              "      <td>6</td>\n",
              "      <td>...</td>\n",
              "      <td>1786</td>\n",
              "      <td>2769</td>\n",
              "      <td>16</td>\n",
              "      <td>8</td>\n",
              "      <td>11</td>\n",
              "      <td>1</td>\n",
              "      <td>0</td>\n",
              "      <td>0</td>\n",
              "      <td>2</td>\n",
              "      <td>128</td>\n",
              "    </tr>\n",
              "    <tr>\n",
              "      <th>4</th>\n",
              "      <td>1821</td>\n",
              "      <td>1</td>\n",
              "      <td>1.2</td>\n",
              "      <td>0</td>\n",
              "      <td>13</td>\n",
              "      <td>1</td>\n",
              "      <td>44</td>\n",
              "      <td>0.6</td>\n",
              "      <td>141</td>\n",
              "      <td>2</td>\n",
              "      <td>...</td>\n",
              "      <td>1212</td>\n",
              "      <td>1411</td>\n",
              "      <td>8</td>\n",
              "      <td>2</td>\n",
              "      <td>15</td>\n",
              "      <td>1</td>\n",
              "      <td>1</td>\n",
              "      <td>0</td>\n",
              "      <td>1</td>\n",
              "      <td>16</td>\n",
              "    </tr>\n",
              "  </tbody>\n",
              "</table>\n",
              "<p>5 rows × 22 columns</p>\n",
              "</div>\n",
              "      <button class=\"colab-df-convert\" onclick=\"convertToInteractive('df-4dc4b2c2-ebb3-46e2-bb60-b8df172567d4')\"\n",
              "              title=\"Convert this dataframe to an interactive table.\"\n",
              "              style=\"display:none;\">\n",
              "        \n",
              "  <svg xmlns=\"http://www.w3.org/2000/svg\" height=\"24px\"viewBox=\"0 0 24 24\"\n",
              "       width=\"24px\">\n",
              "    <path d=\"M0 0h24v24H0V0z\" fill=\"none\"/>\n",
              "    <path d=\"M18.56 5.44l.94 2.06.94-2.06 2.06-.94-2.06-.94-.94-2.06-.94 2.06-2.06.94zm-11 1L8.5 8.5l.94-2.06 2.06-.94-2.06-.94L8.5 2.5l-.94 2.06-2.06.94zm10 10l.94 2.06.94-2.06 2.06-.94-2.06-.94-.94-2.06-.94 2.06-2.06.94z\"/><path d=\"M17.41 7.96l-1.37-1.37c-.4-.4-.92-.59-1.43-.59-.52 0-1.04.2-1.43.59L10.3 9.45l-7.72 7.72c-.78.78-.78 2.05 0 2.83L4 21.41c.39.39.9.59 1.41.59.51 0 1.02-.2 1.41-.59l7.78-7.78 2.81-2.81c.8-.78.8-2.07 0-2.86zM5.41 20L4 18.59l7.72-7.72 1.47 1.35L5.41 20z\"/>\n",
              "  </svg>\n",
              "      </button>\n",
              "      \n",
              "  <style>\n",
              "    .colab-df-container {\n",
              "      display:flex;\n",
              "      flex-wrap:wrap;\n",
              "      gap: 12px;\n",
              "    }\n",
              "\n",
              "    .colab-df-convert {\n",
              "      background-color: #E8F0FE;\n",
              "      border: none;\n",
              "      border-radius: 50%;\n",
              "      cursor: pointer;\n",
              "      display: none;\n",
              "      fill: #1967D2;\n",
              "      height: 32px;\n",
              "      padding: 0 0 0 0;\n",
              "      width: 32px;\n",
              "    }\n",
              "\n",
              "    .colab-df-convert:hover {\n",
              "      background-color: #E2EBFA;\n",
              "      box-shadow: 0px 1px 2px rgba(60, 64, 67, 0.3), 0px 1px 3px 1px rgba(60, 64, 67, 0.15);\n",
              "      fill: #174EA6;\n",
              "    }\n",
              "\n",
              "    [theme=dark] .colab-df-convert {\n",
              "      background-color: #3B4455;\n",
              "      fill: #D2E3FC;\n",
              "    }\n",
              "\n",
              "    [theme=dark] .colab-df-convert:hover {\n",
              "      background-color: #434B5C;\n",
              "      box-shadow: 0px 1px 3px 1px rgba(0, 0, 0, 0.15);\n",
              "      filter: drop-shadow(0px 1px 2px rgba(0, 0, 0, 0.3));\n",
              "      fill: #FFFFFF;\n",
              "    }\n",
              "  </style>\n",
              "\n",
              "      <script>\n",
              "        const buttonEl =\n",
              "          document.querySelector('#df-4dc4b2c2-ebb3-46e2-bb60-b8df172567d4 button.colab-df-convert');\n",
              "        buttonEl.style.display =\n",
              "          google.colab.kernel.accessAllowed ? 'block' : 'none';\n",
              "\n",
              "        async function convertToInteractive(key) {\n",
              "          const element = document.querySelector('#df-4dc4b2c2-ebb3-46e2-bb60-b8df172567d4');\n",
              "          const dataTable =\n",
              "            await google.colab.kernel.invokeFunction('convertToInteractive',\n",
              "                                                     [key], {});\n",
              "          if (!dataTable) return;\n",
              "\n",
              "          const docLinkHtml = 'Like what you see? Visit the ' +\n",
              "            '<a target=\"_blank\" href=https://colab.research.google.com/notebooks/data_table.ipynb>data table notebook</a>'\n",
              "            + ' to learn more about interactive tables.';\n",
              "          element.innerHTML = '';\n",
              "          dataTable['output_type'] = 'display_data';\n",
              "          await google.colab.output.renderOutput(dataTable, element);\n",
              "          const docLink = document.createElement('div');\n",
              "          docLink.innerHTML = docLinkHtml;\n",
              "          element.appendChild(docLink);\n",
              "        }\n",
              "      </script>\n",
              "    </div>\n",
              "  </div>\n",
              "  "
            ]
          },
          "metadata": {},
          "execution_count": 28
        }
      ]
    },
    {
      "cell_type": "markdown",
      "source": [
        "# Task 7"
      ],
      "metadata": {
        "id": "ZEKgBJNXkDiZ"
      }
    },
    {
      "cell_type": "markdown",
      "source": [
        "## SVM Model on original data"
      ],
      "metadata": {
        "id": "2tydFgh58dmn"
      }
    },
    {
      "cell_type": "code",
      "source": [
        "from sklearn import svm\n",
        "X = df.drop(['price_range'], axis=1)\n",
        "y = df['price_range']\n",
        "\n",
        "X_train, X_test, y_train, y_test = train_test_split(X, y, test_size = 0.2, random_state = 0, stratify = y)\n",
        "\n",
        "clf = svm.SVC()\n",
        "clf.fit(X_train, y_train)\n",
        "print('Accuracy = ', clf.score(X_test, y_test))"
      ],
      "metadata": {
        "colab": {
          "base_uri": "https://localhost:8080/"
        },
        "id": "wVRNWnUUIlJ6",
        "outputId": "136e7b75-861e-4ca1-e03e-efc86e89c17e"
      },
      "execution_count": 29,
      "outputs": [
        {
          "output_type": "stream",
          "name": "stdout",
          "text": [
            "Accuracy =  0.96\n"
          ]
        }
      ]
    },
    {
      "cell_type": "markdown",
      "source": [
        "## a,b) SVM Model after binning and one hot encoding"
      ],
      "metadata": {
        "id": "a5ZFlJ3n8lmm"
      }
    },
    {
      "cell_type": "code",
      "source": [
        "X = df4.drop(['price_range', 'battery_power'], axis=1)\n",
        "y = df4['price_range']\n",
        "\n",
        "X_train, X_test, y_train, y_test = train_test_split(X, y, test_size = 0.2, random_state = 0, stratify = y)\n",
        "\n",
        "clf = svm.SVC()\n",
        "clf.fit(X_train, y_train)\n",
        "print('Accuracy = ', clf.score(X_test, y_test))"
      ],
      "metadata": {
        "colab": {
          "base_uri": "https://localhost:8080/"
        },
        "id": "wnBHLi6crH3t",
        "outputId": "54747fb7-4fca-418d-f54e-917e604e172f"
      },
      "execution_count": 30,
      "outputs": [
        {
          "output_type": "stream",
          "name": "stdout",
          "text": [
            "Accuracy =  0.8275\n"
          ]
        }
      ]
    },
    {
      "cell_type": "markdown",
      "source": [
        "## c) SVM Model after log tranformation"
      ],
      "metadata": {
        "id": "AcENM1zs8pVR"
      }
    },
    {
      "cell_type": "code",
      "source": [
        "X = df5.drop(['price_range', 'fc' , 'sc_w'], axis=1)\n",
        "y = df5['price_range']\n",
        "\n",
        "X_train, X_test, y_train, y_test = train_test_split(X, y, test_size = 0.2, random_state = 0, stratify = y)\n",
        "\n",
        "clf = svm.SVC()\n",
        "clf.fit(X_train, y_train)\n",
        "print('Accuracy = ', clf.score(X_test, y_test))"
      ],
      "metadata": {
        "colab": {
          "base_uri": "https://localhost:8080/"
        },
        "id": "2ePl6IUsrzCe",
        "outputId": "25540782-a366-4e96-a8c8-da44f8d9e642"
      },
      "execution_count": 31,
      "outputs": [
        {
          "output_type": "stream",
          "name": "stdout",
          "text": [
            "Accuracy =  0.96\n"
          ]
        }
      ]
    },
    {
      "cell_type": "markdown",
      "source": [
        "## d) SVM Model after create a new feature"
      ],
      "metadata": {
        "id": "m5i_M6gW8sTH"
      }
    },
    {
      "cell_type": "code",
      "source": [
        "X = df6.drop(['price_range'], axis=1)\n",
        "y = df6['price_range']\n",
        "\n",
        "X_train, X_test, y_train, y_test = train_test_split(X, y, test_size = 0.2, random_state = 0, stratify = y)\n",
        "\n",
        "clf = svm.SVC()\n",
        "clf.fit(X_train, y_train)\n",
        "print('Accuracy = ', clf.score(X_test, y_test))"
      ],
      "metadata": {
        "colab": {
          "base_uri": "https://localhost:8080/"
        },
        "id": "27NnRMBttAbN",
        "outputId": "4f0c6edd-96bc-4f32-a8ab-462d43fc613b"
      },
      "execution_count": 32,
      "outputs": [
        {
          "output_type": "stream",
          "name": "stdout",
          "text": [
            "Accuracy =  0.96\n"
          ]
        }
      ]
    },
    {
      "cell_type": "markdown",
      "source": [
        "## a, b, c, d) SVM Model after all above feature engineerings "
      ],
      "metadata": {
        "id": "haSxqeU-81tH"
      }
    },
    {
      "cell_type": "code",
      "source": [
        "X = df_final.drop(['price_range', 'battery_power', 'fc' , 'sc_w'], axis=1)\n",
        "y = df_final['price_range']\n",
        "\n",
        "X_train, X_test, y_train, y_test = train_test_split(X, y, test_size = 0.2, random_state = 0, stratify = y)\n",
        "\n",
        "clf = svm.SVC()\n",
        "clf.fit(X_train, y_train)\n",
        "print('Accuracy = ', clf.score(X_test, y_test))"
      ],
      "metadata": {
        "colab": {
          "base_uri": "https://localhost:8080/"
        },
        "id": "FgTAds5otHp-",
        "outputId": "263d8c16-4139-47b2-f794-c6c27838a94e"
      },
      "execution_count": 33,
      "outputs": [
        {
          "output_type": "stream",
          "name": "stdout",
          "text": [
            "Accuracy =  0.8225\n"
          ]
        }
      ]
    },
    {
      "cell_type": "markdown",
      "source": [
        "# Extra Task 1"
      ],
      "metadata": {
        "id": "F0duGJ5U_Z7v"
      }
    },
    {
      "cell_type": "markdown",
      "source": [
        "## Backward Selection"
      ],
      "metadata": {
        "id": "qHW63iFM-fPT"
      }
    },
    {
      "cell_type": "code",
      "source": [
        "X = df2.drop(['price_range'], axis=1)\n",
        "y = df2['price_range']\n",
        "\n",
        "sc = StandardScaler()\n",
        "X[X.columns] = sc.fit_transform(X[X.columns])\n",
        "\n",
        "X_train, X_test, y_train, y_test = train_test_split(X, y, test_size = 0.2, random_state = 0, stratify = y)\n",
        "LR = LogisticRegression(max_iter = 2000)"
      ],
      "metadata": {
        "id": "Oj4oBbAtEfSJ"
      },
      "execution_count": 34,
      "outputs": []
    },
    {
      "cell_type": "code",
      "source": [
        "selected_features = X.columns.tolist()\n",
        "all_features = X.columns.tolist()\n",
        "best_auc = 0\n",
        "\n",
        "remain_cols = X.columns.tolist()\n",
        "for f in all_features:\n",
        "  \n",
        "  worst_col = ''\n",
        "  for col in selected_features:\n",
        "    selected_features.remove(col)\n",
        "\n",
        "    X_train_temp = pd.DataFrame(data = X_train, columns = selected_features)\n",
        "    X_test_temp = pd.DataFrame(data = X_test, columns = selected_features)\n",
        "\n",
        "    LR = LR.fit(X_train_temp, y_train)\n",
        "    y_predict = LR.predict(X_test_temp)\n",
        "    fpr, tpr, thresholds = roc_curve(y_test, y_predict, pos_label = 1)\n",
        "    \n",
        "    auc_temp = auc(fpr, tpr)\n",
        "    \n",
        "    if auc_temp > best_auc:\n",
        "        best_auc = auc_temp\n",
        "        worst_col = col\n",
        "\n",
        "    selected_features.append(col)\n",
        "  \n",
        "  if worst_col: \n",
        "    selected_features.remove(worst_col)\n",
        "\n",
        "selected_features"
      ],
      "metadata": {
        "colab": {
          "base_uri": "https://localhost:8080/"
        },
        "id": "6KdoPiGm_hiA",
        "outputId": "5c7d143a-4942-4a80-f155-b7def14e62b3"
      },
      "execution_count": 35,
      "outputs": [
        {
          "output_type": "execute_result",
          "data": {
            "text/plain": [
              "['int_memory',\n",
              " 'ram',\n",
              " 'sc_h',\n",
              " 'mobile_wt',\n",
              " 'dual_sim',\n",
              " 'wifi',\n",
              " 'px_height',\n",
              " 'battery_power',\n",
              " 'px_width',\n",
              " 'pc',\n",
              " 'sc_w',\n",
              " 'n_cores',\n",
              " 'blue',\n",
              " 'm_dep',\n",
              " 'four_g',\n",
              " 'touch_screen',\n",
              " 'three_g']"
            ]
          },
          "metadata": {},
          "execution_count": 35
        }
      ]
    },
    {
      "cell_type": "code",
      "source": [
        "best_auc"
      ],
      "metadata": {
        "colab": {
          "base_uri": "https://localhost:8080/"
        },
        "id": "MzQc9kOiEO-H",
        "outputId": "9219c7cb-481b-438b-bf4c-1ea9de020e3d"
      },
      "execution_count": 36,
      "outputs": [
        {
          "output_type": "execute_result",
          "data": {
            "text/plain": [
              "0.99"
            ]
          },
          "metadata": {},
          "execution_count": 36
        }
      ]
    },
    {
      "cell_type": "markdown",
      "source": [
        "## Precision, Recall and F1-score on selected features (backward selection)"
      ],
      "metadata": {
        "id": "XuglTNYD-qa6"
      }
    },
    {
      "cell_type": "code",
      "source": [
        "X_train_selected_features = X_train[selected_features]\n",
        "X_test_selected_features = X_test[selected_features]\n",
        "\n",
        "LR = LR.fit(X_train_selected_features, y_train)\n",
        "y_predict = LR.predict(X_test_selected_features)\n",
        "PRFS = precision_recall_fscore_support(y_test, y_predict, average='weighted')\n",
        "print('precision = ' , PRFS[0])\n",
        "print('recall = ' , PRFS[1])\n",
        "print('f1_score = ' , PRFS[2])"
      ],
      "metadata": {
        "colab": {
          "base_uri": "https://localhost:8080/"
        },
        "id": "xhztjT034Y9d",
        "outputId": "55f147a4-19cf-4c36-e1b3-06d96895596f"
      },
      "execution_count": 37,
      "outputs": [
        {
          "output_type": "stream",
          "name": "stdout",
          "text": [
            "precision =  0.9901960784313725\n",
            "recall =  0.99\n",
            "f1_score =  0.98999899989999\n"
          ]
        }
      ]
    }
  ]
}